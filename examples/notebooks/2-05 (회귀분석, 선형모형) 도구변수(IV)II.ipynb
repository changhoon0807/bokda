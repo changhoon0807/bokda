{
 "cells": [
  {
   "cell_type": "markdown",
   "metadata": {},
   "source": [
    "# 도구변수(IV)\n",
    "- 작성자: 고려대학교 경제학과 한치록 교수, 데이터사이언스팀 이창훈 과장\n",
    "\n",
    "간편한 사용을 위하여 `bok_da` 라이브러리에 도구변수 추정 모듈을 제공한다. \n",
    "\n",
    "* `ivregress`: 2SLS와 LIML\n",
    "\n",
    "이 문서에서는 Stata와 결과를 비교하고자 한다. Python에서 Stata의 실행에 관한 자세한 내용은 `7-01`과 `7-02` 매뉴얼을 참고하라. 이 문서들에서는 `bok_da` 라이브러리에 구현된 간편 모듈을 사용한다.\n",
    "\n",
    "[3_06]: 06%20BOK%20Library%20I%20(LS).ipynb\n",
    "[3_07]: 07%20BOK%20Library%20II%20(IV).ipynb\n",
    "[3_08]: 08%20BOK%20Library%20III%20(Time%20Series).ipynb"
   ]
  },
  {
   "cell_type": "markdown",
   "metadata": {},
   "source": [
    "#### **(주의) 본 매뉴얼에서 Stata 기능은 라이선스 이슈로 아직까지는 BIDAS 환경에서 사용할 수 없다. 매뉴얼에서 stata 관련 코드는 주석처리하였다. 로컬환경(내부망, 인터넷망)에서 활용하는 경우 주석해제 하여 사용할 수 있다.**"
   ]
  },
  {
   "cell_type": "markdown",
   "metadata": {},
   "source": [
    "## ivregress\n",
    "\n",
    "도구변수 추정을 위한 모듈은 `ivregress`이다. `method` 인자는 \"2sls\", \"liml\" 중 하나로서 각자 fit된 model (`IVResults`)을 리턴한다. 이 결과들은 `linearmodels`을 monkey patch한 것임에 유의하라. 결과를 보여 줄 때에는 `summary()` 메쏘드가 아니라 `summary` 프로퍼티를 사용한다.\n",
    "\n",
    "### 2SLS\n",
    "\n",
    "#### 추정\n",
    "\n",
    "먼저 2SLS (two-stage least squares)를 살펴보자. 디폴트 표준오차는 'unadjusted'이다."
   ]
  },
  {
   "cell_type": "code",
   "execution_count": 1,
   "metadata": {},
   "outputs": [],
   "source": [
    "import bok_da as bd\n",
    "import pandas as pd\n",
    "from bok_da.linear.lm import ivregress"
   ]
  },
  {
   "cell_type": "code",
   "execution_count": 2,
   "metadata": {},
   "outputs": [
    {
     "name": "stdout",
     "output_type": "stream",
     "text": [
      "                          IV-2SLS Estimation Summary                          \n",
      "==============================================================================\n",
      "Dep. Variable:                lcrmrte   R-squared:                      0.8044\n",
      "Estimator:                    IV-2SLS   Adj. R-squared:                 0.7960\n",
      "No. Observations:                 630   F-statistic:                    2166.1\n",
      "Date:                Thu, May 22 2025   P-value (F-stat)                0.0000\n",
      "Time:                        15:29:34   Distribution:                 chi2(26)\n",
      "Cov. Estimator:            unadjusted                                         \n",
      "                                                                              \n",
      "                                Parameter Estimates                                \n",
      "===================================================================================\n",
      "                 Parameter  Std. Err.     T-stat    P-value    Lower CI    Upper CI\n",
      "-----------------------------------------------------------------------------------\n",
      "Intercept          -2.5969     1.1776    -2.2053     0.0274     -4.9050     -0.2889\n",
      "lprbconv           -0.3981     0.0421    -9.4486     0.0000     -0.4807     -0.3155\n",
      "lprbpris           -0.1160     0.0487    -2.3808     0.0173     -0.2114     -0.0205\n",
      "lavgsen            -0.0881     0.0404    -2.1793     0.0293     -0.1673     -0.0089\n",
      "ldensity            0.3457     0.0330     10.473     0.0000      0.2810      0.4104\n",
      "lwcon               0.1237     0.0595     2.0806     0.0375      0.0072      0.2402\n",
      "lwtuc               0.0295     0.0321     0.9196     0.3578     -0.0334      0.0924\n",
      "lwtrd               0.0216     0.0629     0.3439     0.7309     -0.1017      0.1450\n",
      "lwfir              -0.0210     0.0465    -0.4519     0.6513     -0.1121      0.0701\n",
      "lwser              -0.0241     0.0314    -0.7685     0.4422     -0.0856      0.0374\n",
      "lwmfg              -0.1033     0.0569    -1.8171     0.0692     -0.2148      0.0081\n",
      "lwfed               0.0876     0.1295     0.6765     0.4987     -0.1662      0.3414\n",
      "lwsta              -0.1462     0.0977    -1.4958     0.1347     -0.3377      0.0454\n",
      "lwloc               0.0667     0.1411     0.4727     0.6365     -0.2099      0.3433\n",
      "lpctymle           -0.0878     0.0841    -1.0447     0.2962     -0.2526      0.0769\n",
      "lpctmin             0.1838     0.0206     8.9118     0.0000      0.1434      0.2242\n",
      "west               -0.2182     0.0463    -4.7170     0.0000     -0.3089     -0.1275\n",
      "central            -0.1890     0.0279    -6.7618     0.0000     -0.2437     -0.1342\n",
      "urban              -0.1528     0.0632    -2.4186     0.0156     -0.2765     -0.0290\n",
      "C(year)[T.82.0]    -0.0118     0.0412    -0.2869     0.7742     -0.0925      0.0689\n",
      "C(year)[T.83.0]    -0.0975     0.0455    -2.1440     0.0320     -0.1866     -0.0084\n",
      "C(year)[T.84.0]    -0.1418     0.0474    -2.9944     0.0028     -0.2346     -0.0490\n",
      "C(year)[T.85.0]    -0.1333     0.0563    -2.3685     0.0179     -0.2437     -0.0230\n",
      "C(year)[T.86.0]    -0.1019     0.0642    -1.5881     0.1123     -0.2278      0.0239\n",
      "C(year)[T.87.0]    -0.0671     0.0715    -0.9392     0.3476     -0.2072      0.0729\n",
      "lprbarr            -0.3785     0.0809    -4.6804     0.0000     -0.5370     -0.2200\n",
      "lpolpc              0.3718     0.0799     4.6532     0.0000      0.2152      0.5284\n",
      "===================================================================================\n",
      "\n",
      "Endogenous: lprbarr, lpolpc\n",
      "Instruments: ltaxpc, lmix\n",
      "Unadjusted Covariance (Homoskedastic)\n",
      "Debiased: False\n"
     ]
    }
   ],
   "source": [
    "df = pd.read_stata('../data/crime4.dta')\n",
    "fm = (\n",
    "    'lcrmrte~[lprbarr+lpolpc~ltaxpc+lmix]+'\n",
    "    'lprbconv+lprbpris+lavgsen+ldensity+'\n",
    "    'lwcon+lwtuc+lwtrd+lwfir+lwser+lwmfg+lwfed+lwsta+lwloc+'\n",
    "    'lpctymle+lpctmin+'\n",
    "    'west+central+urban+C(year)'\n",
    ")\n",
    "tsls = ivregress(fm, df)\n",
    "print(tsls.summary)"
   ]
  },
  {
   "cell_type": "markdown",
   "metadata": {},
   "source": [
    "이분산에 견고한 표준오차는 다음과 같이 구한다."
   ]
  },
  {
   "cell_type": "code",
   "execution_count": 3,
   "metadata": {},
   "outputs": [
    {
     "name": "stdout",
     "output_type": "stream",
     "text": [
      "                          IV-2SLS Estimation Summary                          \n",
      "==============================================================================\n",
      "Dep. Variable:                lcrmrte   R-squared:                      0.8044\n",
      "Estimator:                    IV-2SLS   Adj. R-squared:                 0.7960\n",
      "No. Observations:                 630   F-statistic:                    3454.6\n",
      "Date:                Thu, May 22 2025   P-value (F-stat)                0.0000\n",
      "Time:                        15:29:39   Distribution:                 chi2(26)\n",
      "Cov. Estimator:                robust                                         \n",
      "                                                                              \n",
      "                                Parameter Estimates                                \n",
      "===================================================================================\n",
      "                 Parameter  Std. Err.     T-stat    P-value    Lower CI    Upper CI\n",
      "-----------------------------------------------------------------------------------\n",
      "Intercept          -2.5969     1.1443    -2.2695     0.0232     -4.8397     -0.3542\n",
      "lprbconv           -0.3981     0.0616    -6.4633     0.0000     -0.5189     -0.2774\n",
      "lprbpris           -0.1160     0.0626    -1.8516     0.0641     -0.2387      0.0068\n",
      "lavgsen            -0.0881     0.0504    -1.7497     0.0802     -0.1868      0.0106\n",
      "ldensity            0.3457     0.0386     8.9473     0.0000      0.2699      0.4214\n",
      "lwcon               0.1237     0.0702     1.7617     0.0781     -0.0139      0.2613\n",
      "lwtuc               0.0295     0.0361     0.8174     0.4137     -0.0412      0.1002\n",
      "lwtrd               0.0216     0.0731     0.2959     0.7673     -0.1217      0.1650\n",
      "lwfir              -0.0210     0.0292    -0.7183     0.4726     -0.0783      0.0363\n",
      "lwser              -0.0241     0.0260    -0.9273     0.3538     -0.0751      0.0269\n",
      "lwmfg              -0.1033     0.0673    -1.5340     0.1250     -0.2353      0.0287\n",
      "lwfed               0.0876     0.1402     0.6248     0.5321     -0.1872      0.3624\n",
      "lwsta              -0.1462     0.0892    -1.6381     0.1014     -0.3210      0.0287\n",
      "lwloc               0.0667     0.1596     0.4180     0.6760     -0.2460      0.3794\n",
      "lpctymle           -0.0878     0.0905    -0.9700     0.3321     -0.2653      0.0896\n",
      "lpctmin             0.1838     0.0295     6.2207     0.0000      0.1259      0.2417\n",
      "west               -0.2182     0.0613    -3.5603     0.0004     -0.3383     -0.0981\n",
      "central            -0.1890     0.0314    -6.0215     0.0000     -0.2505     -0.1275\n",
      "urban              -0.1528     0.0562    -2.7172     0.0066     -0.2629     -0.0426\n",
      "C(year)[T.82.0]    -0.0118     0.0369    -0.3199     0.7490     -0.0841      0.0605\n",
      "C(year)[T.83.0]    -0.0975     0.0487    -2.0007     0.0454     -0.1930     -0.0020\n",
      "C(year)[T.84.0]    -0.1418     0.0448    -3.1663     0.0015     -0.2295     -0.0540\n",
      "C(year)[T.85.0]    -0.1333     0.0582    -2.2906     0.0220     -0.2474     -0.0192\n",
      "C(year)[T.86.0]    -0.1019     0.0601    -1.6962     0.0899     -0.2197      0.0159\n",
      "C(year)[T.87.0]    -0.0671     0.0651    -1.0310     0.3026     -0.1947      0.0605\n",
      "lprbarr            -0.3785     0.1093    -3.4617     0.0005     -0.5928     -0.1642\n",
      "lpolpc              0.3718     0.0933     3.9837     0.0001      0.1889      0.5548\n",
      "===================================================================================\n",
      "\n",
      "Endogenous: lprbarr, lpolpc\n",
      "Instruments: ltaxpc, lmix\n",
      "Robust Covariance (Heteroskedastic)\n",
      "Debiased: False\n"
     ]
    }
   ],
   "source": [
    "tsls = ivregress(fm, df, vce='r')\n",
    "print(tsls.summary)"
   ]
  },
  {
   "cell_type": "markdown",
   "metadata": {},
   "source": [
    "클러스터 표준오차는 다음과 같이 구한다."
   ]
  },
  {
   "cell_type": "code",
   "execution_count": 4,
   "metadata": {},
   "outputs": [
    {
     "name": "stdout",
     "output_type": "stream",
     "text": [
      "                          IV-2SLS Estimation Summary                          \n",
      "==============================================================================\n",
      "Dep. Variable:                lcrmrte   R-squared:                      0.8044\n",
      "Estimator:                    IV-2SLS   Adj. R-squared:                 0.7960\n",
      "No. Observations:                 630   F-statistic:                    1051.9\n",
      "Date:                Thu, May 22 2025   P-value (F-stat)                0.0000\n",
      "Time:                        15:29:41   Distribution:                 chi2(26)\n",
      "Cov. Estimator:             clustered                                         \n",
      "                                                                              \n",
      "                                Parameter Estimates                                \n",
      "===================================================================================\n",
      "                 Parameter  Std. Err.     T-stat    P-value    Lower CI    Upper CI\n",
      "-----------------------------------------------------------------------------------\n",
      "Intercept          -2.5969     2.1219    -1.2239     0.2210     -6.7558      1.5619\n",
      "lprbconv           -0.3981     0.1234    -3.2255     0.0013     -0.6401     -0.1562\n",
      "lprbpris           -0.1160     0.0653    -1.7760     0.0757     -0.2440      0.0120\n",
      "lavgsen            -0.0881     0.0593    -1.4851     0.1375     -0.2044      0.0282\n",
      "ldensity            0.3457     0.0719     4.8095     0.0000      0.2048      0.4865\n",
      "lwcon               0.1237     0.1011     1.2239     0.2210     -0.0744      0.3218\n",
      "lwtuc               0.0295     0.0351     0.8412     0.4002     -0.0392      0.0982\n",
      "lwtrd               0.0216     0.0894     0.2420     0.8088     -0.1536      0.1969\n",
      "lwfir              -0.0210     0.0466    -0.4511     0.6519     -0.1123      0.0703\n",
      "lwser              -0.0241     0.0276    -0.8742     0.3820     -0.0782      0.0300\n",
      "lwmfg              -0.1033     0.1271    -0.8129     0.4163     -0.3524      0.1458\n",
      "lwfed               0.0876     0.2861     0.3062     0.7595     -0.4732      0.6484\n",
      "lwsta              -0.1462     0.1715    -0.8523     0.3941     -0.4823      0.1900\n",
      "lwloc               0.0667     0.2909     0.2293     0.8187     -0.5035      0.6369\n",
      "lpctymle           -0.0878     0.1904    -0.4611     0.6447     -0.4611      0.2854\n",
      "lpctmin             0.1838     0.0675     2.7228     0.0065      0.0515      0.3161\n",
      "west               -0.2182     0.1420    -1.5369     0.1243     -0.4965      0.0601\n",
      "central            -0.1890     0.0688    -2.7465     0.0060     -0.3238     -0.0541\n",
      "urban              -0.1528     0.1069    -1.4294     0.1529     -0.3622      0.0567\n",
      "C(year)[T.82.0]    -0.0118     0.0327    -0.3612     0.7179     -0.0759      0.0523\n",
      "C(year)[T.83.0]    -0.0975     0.0451    -2.1608     0.0307     -0.1859     -0.0091\n",
      "C(year)[T.84.0]    -0.1418     0.0509    -2.7870     0.0053     -0.2415     -0.0421\n",
      "C(year)[T.85.0]    -0.1333     0.0792    -1.6838     0.0922     -0.2885      0.0219\n",
      "C(year)[T.86.0]    -0.1019     0.0899    -1.1334     0.2570     -0.2782      0.0743\n",
      "C(year)[T.87.0]    -0.0671     0.1095    -0.6127     0.5400     -0.2818      0.1476\n",
      "lprbarr            -0.3785     0.2143    -1.7664     0.0773     -0.7985      0.0415\n",
      "lpolpc              0.3718     0.1799     2.0670     0.0387      0.0193      0.7244\n",
      "===================================================================================\n",
      "\n",
      "Endogenous: lprbarr, lpolpc\n",
      "Instruments: ltaxpc, lmix\n",
      "Clustered Covariance (One-Way)\n",
      "Debiased: False\n",
      "Num Clusters: 90\n"
     ]
    }
   ],
   "source": [
    "tsls = ivregress(fm, df, vce='cl', cluster='county')\n",
    "print(tsls.summary)"
   ]
  },
  {
   "cell_type": "markdown",
   "metadata": {},
   "source": [
    "위에서 `cluster='county'` 대신에 `cluster=df.county` 또는 `cluster=df['county']`라고 해도 좋다.\n",
    "\n",
    "Stata 결과와 비교해 보면 똑같은 것을 알 수 있다."
   ]
  },
  {
   "cell_type": "code",
   "execution_count": 5,
   "metadata": {},
   "outputs": [],
   "source": [
    "from bok_da.stata import Stata"
   ]
  },
  {
   "cell_type": "code",
   "execution_count": 4,
   "metadata": {},
   "outputs": [
    {
     "name": "stdout",
     "output_type": "stream",
     "text": [
      ". ivregress 2sls lcrmrte (lprbarr lpolpc = ltaxpc lmix) lprbconv lprbpris lavgs\n",
      "> en ldensity lwcon-lwloc lpctymle lpctmin west central urban i.year, vce(cl co\n",
      "> unty)\n",
      "\n",
      "Instrumental variables 2SLS regression            Number of obs   =        630\n",
      "                                                  Wald chi2(26)   =    1051.91\n",
      "                                                  Prob > chi2     =     0.0000\n",
      "                                                  R-squared       =     0.8044\n",
      "                                                  Root MSE        =     .25314\n",
      "\n",
      "                                (Std. err. adjusted for 90 clusters in county)\n",
      "------------------------------------------------------------------------------\n",
      "             |               Robust\n",
      "     lcrmrte | Coefficient  std. err.      z    P>|z|     [95% conf. interval]\n",
      "-------------+----------------------------------------------------------------\n",
      "     lprbarr |  -.3785279   .2142882    -1.77   0.077    -.7985252    .0414693\n",
      "      lpolpc |   .3718304   .1798868     2.07   0.039     .0192588     .724402\n",
      "    lprbconv |   -.398135   .1234326    -3.23   0.001    -.6400585   -.1562116\n",
      "    lprbpris |   -.115969   .0652979    -1.78   0.076    -.2439506    .0120125\n",
      "     lavgsen |  -.0881008   .0593214    -1.49   0.138    -.2043686    .0281671\n",
      "    ldensity |   .3456668   .0718722     4.81   0.000     .2047999    .4865336\n",
      "       lwcon |   .1237066   .1010738     1.22   0.221    -.0743943    .3218076\n",
      "       lwtuc |   .0295005   .0350686     0.84   0.400    -.0392326    .0982336\n",
      "       lwtrd |   .0216426   .0894361     0.24   0.809     -.153649    .1969341\n",
      "       lwfir |  -.0210087     .04657    -0.45   0.652    -.1122842    .0702669\n",
      "       lwser |  -.0241199   .0275919    -0.87   0.382     -.078199    .0299592\n",
      "       lwmfg |  -.1033139   .1270896    -0.81   0.416     -.352405    .1457772\n",
      "       lwfed |   .0876075   .2861337     0.31   0.759    -.4732042    .6484191\n",
      "       lwsta |  -.1461593   .1714897    -0.85   0.394    -.4822728    .1899543\n",
      "       lwloc |   .0666962   .2909012     0.23   0.819    -.5034596    .6368521\n",
      "    lpctymle |  -.0878213   .1904442    -0.46   0.645    -.4610852    .2854425\n",
      "     lpctmin |    .183811   .0675075     2.72   0.006     .0514988    .3161232\n",
      "        west |  -.2182099   .1419789    -1.54   0.124    -.4964834    .0600636\n",
      "     central |  -.1889587   .0688008    -2.75   0.006    -.3238059   -.0541115\n",
      "       urban |  -.1527579   .1068669    -1.43   0.153    -.3622132    .0566973\n",
      "             |\n",
      "        year |\n",
      "         82  |  -.0118071   .0326857    -0.36   0.718    -.0758699    .0522558\n",
      "         83  |  -.0974742   .0451107    -2.16   0.031    -.1858896   -.0090589\n",
      "         84  |  -.1417837   .0508733    -2.79   0.005    -.2414935    -.042074\n",
      "         85  |  -.1333289   .0791844    -1.68   0.092    -.2885275    .0218697\n",
      "         86  |  -.1019431   .0899407    -1.13   0.257    -.2782236    .0743373\n",
      "         87  |  -.0671194   .1095388    -0.61   0.540    -.2818115    .1475726\n",
      "             |\n",
      "       _cons |  -2.596944   2.121886    -1.22   0.221    -6.755764    1.561875\n",
      "------------------------------------------------------------------------------\n",
      "Endogenous: lprbarr lpolpc\n",
      "Exogenous:  lprbconv lprbpris lavgsen ldensity lwcon lwtuc lwtrd lwfir lwser\n",
      "            lwmfg lwfed lwsta lwloc lpctymle lpctmin west central urban\n",
      "            82.year 83.year 84.year 85.year 86.year 87.year ltaxpc lmix\n"
     ]
    }
   ],
   "source": [
    "# df = pd.read_stata('crime4.dta')\n",
    "# stata = Stata('/Applications/Stata', 'mp')\n",
    "# stata.get_ready()\n",
    "# stata.use(df, force = True)\n",
    "# stata.run(\n",
    "#     'ivregress 2sls lcrmrte (lprbarr lpolpc = ltaxpc lmix) '\n",
    "#     'lprbconv lprbpris lavgsen ldensity lwcon-lwloc '\n",
    "#     'lpctymle lpctmin west central urban i.year, '\n",
    "#     'vce(cl county)'\n",
    "# )"
   ]
  },
  {
   "cell_type": "markdown",
   "metadata": {},
   "source": [
    "#### First-stage relevance tests"
   ]
  },
  {
   "cell_type": "code",
   "execution_count": 7,
   "metadata": {},
   "outputs": [
    {
     "name": "stdout",
     "output_type": "stream",
     "text": [
      "          First Stage Estimation Results          \n",
      "==================================================\n",
      "                               lprbarr      lpolpc\n",
      "--------------------------------------------------\n",
      "R-squared                       0.4455      0.3239\n",
      "Partial R-squared               0.2107      0.1227\n",
      "Shea's R-squared                0.1346      0.0784\n",
      "Partial F-statistic             84.105      44.063\n",
      "P-value (Partial F-stat)      1.11e-16    1.11e-16\n",
      "Partial F-stat Distn          F(2,603)    F(2,603)\n",
      "========================== =========== ===========\n",
      "Intercept                      -1.9352     -11.538\n",
      "                             (-1.6402)   (-6.9933)\n",
      "lprbconv                       -0.1736      0.3275\n",
      "                             (-7.3666)    (9.9395)\n",
      "lprbpris                       -0.0592      0.0137\n",
      "                             (-0.9853)    (0.1625)\n",
      "lavgsen                        -0.0066     -0.0264\n",
      "                             (-0.1332)   (-0.3829)\n",
      "ldensity                       -0.2151     -0.0047\n",
      "                             (-6.2603)   (-0.0987)\n",
      "lwcon                          -0.1331     -0.3770\n",
      "                             (-2.0119)   (-4.0743)\n",
      "lwtuc                           0.0029      0.0574\n",
      "                              (0.0752)    (1.0653)\n",
      "lwtrd                           0.0860      0.1456\n",
      "                              (1.1225)    (1.3587)\n",
      "lwfir                           0.1047     -0.0337\n",
      "                              (1.9157)   (-0.4407)\n",
      "lwser                           0.0346      0.0232\n",
      "                              (0.8978)    (0.4297)\n",
      "lwmfg                           0.1650      0.1793\n",
      "                              (2.4782)    (1.9255)\n",
      "lwfed                          -0.0518      0.8677\n",
      "                             (-0.3740)    (4.4763)\n",
      "lwsta                          -0.0968      0.2437\n",
      "                             (-0.8407)    (1.5128)\n",
      "lwloc                          -0.0248     -0.1829\n",
      "                             (-0.1445)   (-0.7619)\n",
      "lpctymle                       -0.3678      0.5205\n",
      "                             (-4.8600)    (4.9190)\n",
      "lpctmin                        -0.0374     -0.0858\n",
      "                             (-1.5633)   (-2.5634)\n",
      "west                           -0.0315      0.1472\n",
      "                             (-0.5374)    (1.7968)\n",
      "central                         0.0067      0.0502\n",
      "                              (0.1947)    (1.0481)\n",
      "urban                          -0.0423      0.1192\n",
      "                             (-0.5970)    (1.2034)\n",
      "C(year)[T.82.0]                 0.0605     -0.0683\n",
      "                              (1.2196)   (-0.9849)\n",
      "C(year)[T.83.0]                 0.0451     -0.0992\n",
      "                              (0.8285)   (-1.3024)\n",
      "C(year)[T.84.0]                 0.0714     -0.1226\n",
      "                              (1.2360)   (-1.5182)\n",
      "C(year)[T.85.0]                 0.0428     -0.2384\n",
      "                              (0.6163)   (-2.4526)\n",
      "C(year)[T.86.0]                -0.0067     -0.2967\n",
      "                             (-0.0834)   (-2.6489)\n",
      "C(year)[T.87.0]                -0.0409     -0.2910\n",
      "                             (-0.4519)   (-2.2971)\n",
      "ltaxpc                         -0.0415      0.5511\n",
      "                             (-0.7343)    (6.9765)\n",
      "lmix                            0.2710      0.1971\n",
      "                              (12.879)    (6.6988)\n",
      "--------------------------------------------------\n",
      "\n",
      "T-stats reported in parentheses\n",
      "T-stats use same covariance type as original model\n"
     ]
    }
   ],
   "source": [
    "df = pd.read_stata('../data/crime4.dta')\n",
    "fm = (\n",
    "    'lcrmrte~[lprbarr+lpolpc~ltaxpc+lmix]+'\n",
    "    'lprbconv+lprbpris+lavgsen+ldensity+'\n",
    "    'lwcon+lwtuc+lwtrd+lwfir+lwser+lwmfg+lwfed+lwsta+lwloc+'\n",
    "    'lpctymle+lpctmin+'\n",
    "    'west+central+urban+C(year)'\n",
    ")\n",
    "tsls = ivregress(fm, df)\n",
    "print(tsls.first_stage)"
   ]
  },
  {
   "cell_type": "markdown",
   "metadata": {},
   "source": [
    "#### Regressor Endogeneity Test"
   ]
  },
  {
   "cell_type": "code",
   "execution_count": 8,
   "metadata": {},
   "outputs": [
    {
     "data": {
      "text/plain": [
       "Wooldridge's regression test of exogeneity\n",
       "H0: Endogenous variables are exogenous\n",
       "Statistic: 9.6667\n",
       "P-value: 0.0080\n",
       "Distributed: chi2(2)\n",
       "WaldTestStatistic, id: 0x2824c8e5dc0"
      ]
     },
     "execution_count": 8,
     "metadata": {},
     "output_type": "execute_result"
    }
   ],
   "source": [
    "tsls.wooldridge_regression"
   ]
  },
  {
   "cell_type": "code",
   "execution_count": 9,
   "metadata": {},
   "outputs": [
    {
     "data": {
      "text/plain": [
       "Wu-Hausman test of exogeneity\n",
       "H0: All endogenous variables are exogenous\n",
       "Statistic: 4.6109\n",
       "P-value: 0.0103\n",
       "Distributed: F(2,601)\n",
       "WaldTestStatistic, id: 0x2824ab1ff50"
      ]
     },
     "execution_count": 9,
     "metadata": {},
     "output_type": "execute_result"
    }
   ],
   "source": [
    "tsls.wu_hausman()"
   ]
  },
  {
   "cell_type": "markdown",
   "metadata": {},
   "source": [
    "#### Overidentification Test\n",
    "\n",
    "내생적 설명변수의 개수와 추가 도구변수의 개수가 같으므로 도구변수 외생성 검정(과다식별검정)은 가능하지 않다."
   ]
  },
  {
   "cell_type": "code",
   "execution_count": 10,
   "metadata": {},
   "outputs": [
    {
     "data": {
      "text/plain": [
       "Invalid test statistic\n",
       "Test requires more instruments than endogenous variables.\n",
       "Wooldridge's score test of overidentification\n",
       "InvalidTestStatistic, id: 0x2824c8e46e0"
      ]
     },
     "execution_count": 10,
     "metadata": {},
     "output_type": "execute_result"
    }
   ],
   "source": [
    "tsls.wooldridge_overid"
   ]
  },
  {
   "cell_type": "markdown",
   "metadata": {},
   "source": [
    "### Limited Information Maximum Likelihood\n",
    "\n",
    "`LIML(Limited Information Maximum Likelihood)`은 단일 방정식만 보고 최대우도 원리로 내생변수를 보정하는 IV 추정법으로, 특히 도구변수가 약할 때(weak instruments) 2SLS보다 효율성과 편향 보정 측면에서 유리하다. 도구변수가 내생변수를 충분히 설명하지 못해 1단계 회귀에서 설명력이 약한 상황에서 LIML이 편향을 일부 조정해 줄 수 있다. LIML은 `method=\"liml\"` 인자를 주어 구할 수 있다. 위 예에서 LIML 추정을 하고 클러스터 표준오차를 사용할 경우 다음과 같이 한다."
   ]
  },
  {
   "cell_type": "code",
   "execution_count": 11,
   "metadata": {},
   "outputs": [
    {
     "name": "stdout",
     "output_type": "stream",
     "text": [
      "                          IV-LIML Estimation Summary                          \n",
      "==============================================================================\n",
      "Dep. Variable:                lcrmrte   R-squared:                      0.8044\n",
      "Estimator:                    IV-LIML   Adj. R-squared:                 0.7960\n",
      "No. Observations:                 630   F-statistic:                    1051.9\n",
      "Date:                Thu, May 22 2025   P-value (F-stat)                0.0000\n",
      "Time:                        15:30:10   Distribution:                 chi2(26)\n",
      "Cov. Estimator:             clustered                                         \n",
      "                                                                              \n",
      "                                Parameter Estimates                                \n",
      "===================================================================================\n",
      "                 Parameter  Std. Err.     T-stat    P-value    Lower CI    Upper CI\n",
      "-----------------------------------------------------------------------------------\n",
      "Intercept          -2.5969     2.1219    -1.2239     0.2210     -6.7558      1.5619\n",
      "lprbconv           -0.3981     0.1234    -3.2255     0.0013     -0.6401     -0.1562\n",
      "lprbpris           -0.1160     0.0653    -1.7760     0.0757     -0.2440      0.0120\n",
      "lavgsen            -0.0881     0.0593    -1.4851     0.1375     -0.2044      0.0282\n",
      "ldensity            0.3457     0.0719     4.8095     0.0000      0.2048      0.4865\n",
      "lwcon               0.1237     0.1011     1.2239     0.2210     -0.0744      0.3218\n",
      "lwtuc               0.0295     0.0351     0.8412     0.4002     -0.0392      0.0982\n",
      "lwtrd               0.0216     0.0894     0.2420     0.8088     -0.1536      0.1969\n",
      "lwfir              -0.0210     0.0466    -0.4511     0.6519     -0.1123      0.0703\n",
      "lwser              -0.0241     0.0276    -0.8742     0.3820     -0.0782      0.0300\n",
      "lwmfg              -0.1033     0.1271    -0.8129     0.4163     -0.3524      0.1458\n",
      "lwfed               0.0876     0.2861     0.3062     0.7595     -0.4732      0.6484\n",
      "lwsta              -0.1462     0.1715    -0.8523     0.3941     -0.4823      0.1900\n",
      "lwloc               0.0667     0.2909     0.2293     0.8187     -0.5035      0.6369\n",
      "lpctymle           -0.0878     0.1904    -0.4611     0.6447     -0.4611      0.2854\n",
      "lpctmin             0.1838     0.0675     2.7228     0.0065      0.0515      0.3161\n",
      "west               -0.2182     0.1420    -1.5369     0.1243     -0.4965      0.0601\n",
      "central            -0.1890     0.0688    -2.7465     0.0060     -0.3238     -0.0541\n",
      "urban              -0.1528     0.1069    -1.4294     0.1529     -0.3622      0.0567\n",
      "C(year)[T.82.0]    -0.0118     0.0327    -0.3612     0.7179     -0.0759      0.0523\n",
      "C(year)[T.83.0]    -0.0975     0.0451    -2.1608     0.0307     -0.1859     -0.0091\n",
      "C(year)[T.84.0]    -0.1418     0.0509    -2.7870     0.0053     -0.2415     -0.0421\n",
      "C(year)[T.85.0]    -0.1333     0.0792    -1.6838     0.0922     -0.2885      0.0219\n",
      "C(year)[T.86.0]    -0.1019     0.0899    -1.1334     0.2570     -0.2782      0.0743\n",
      "C(year)[T.87.0]    -0.0671     0.1095    -0.6127     0.5400     -0.2818      0.1476\n",
      "lprbarr            -0.3785     0.2143    -1.7664     0.0773     -0.7985      0.0415\n",
      "lpolpc              0.3718     0.1799     2.0670     0.0387      0.0193      0.7244\n",
      "===================================================================================\n",
      "\n",
      "Endogenous: lprbarr, lpolpc\n",
      "Instruments: ltaxpc, lmix\n",
      "Clustered Covariance (One-Way)\n",
      "Debiased: False\n",
      "Kappa: 1.000\n",
      "Num Clusters: 90\n"
     ]
    }
   ],
   "source": [
    "liml = ivregress(fm, df, method='liml', vce='cl', cluster='county')\n",
    "print(liml.summary)"
   ]
  },
  {
   "cell_type": "markdown",
   "metadata": {},
   "source": [
    "Stata 결과와 비교하면 동일함을 알 수 있다."
   ]
  },
  {
   "cell_type": "code",
   "execution_count": 10,
   "metadata": {},
   "outputs": [
    {
     "name": "stdout",
     "output_type": "stream",
     "text": [
      "\n",
      ". use crime4, clear\n",
      "\n",
      ". ivregress liml lcrmrte (lprbarr lpolpc = ltaxpc lmix) lprbconv lprbpris lavgs\n",
      "> en ldensity lwcon-lwloc lpctymle lpctmin west central urban i.year, vce(cl co\n",
      "> unty)\n",
      "\n",
      "Instrumental variables LIML regression            Number of obs   =        630\n",
      "                                                  Wald chi2(26)   =    1051.91\n",
      "                                                  Prob > chi2     =     0.0000\n",
      "                                                  R-squared       =     0.8044\n",
      "                                                  Root MSE        =     .25314\n",
      "\n",
      "                                (Std. err. adjusted for 90 clusters in county)\n",
      "------------------------------------------------------------------------------\n",
      "             |               Robust\n",
      "     lcrmrte | Coefficient  std. err.      z    P>|z|     [95% conf. interval]\n",
      "-------------+----------------------------------------------------------------\n",
      "     lprbarr |  -.3785279   .2142882    -1.77   0.077    -.7985252    .0414693\n",
      "      lpolpc |   .3718304   .1798868     2.07   0.039     .0192588     .724402\n",
      "    lprbconv |   -.398135   .1234326    -3.23   0.001    -.6400585   -.1562116\n",
      "    lprbpris |   -.115969   .0652979    -1.78   0.076    -.2439506    .0120125\n",
      "     lavgsen |  -.0881008   .0593214    -1.49   0.138    -.2043686    .0281671\n",
      "    ldensity |   .3456668   .0718722     4.81   0.000     .2047999    .4865336\n",
      "       lwcon |   .1237066   .1010738     1.22   0.221    -.0743943    .3218076\n",
      "       lwtuc |   .0295005   .0350686     0.84   0.400    -.0392326    .0982336\n",
      "       lwtrd |   .0216426   .0894361     0.24   0.809     -.153649    .1969341\n",
      "       lwfir |  -.0210087     .04657    -0.45   0.652    -.1122842    .0702669\n",
      "       lwser |  -.0241199   .0275919    -0.87   0.382     -.078199    .0299592\n",
      "       lwmfg |  -.1033139   .1270896    -0.81   0.416     -.352405    .1457772\n",
      "       lwfed |   .0876075   .2861337     0.31   0.759    -.4732042    .6484191\n",
      "       lwsta |  -.1461593   .1714897    -0.85   0.394    -.4822728    .1899543\n",
      "       lwloc |   .0666962   .2909012     0.23   0.819    -.5034596    .6368521\n",
      "    lpctymle |  -.0878213   .1904442    -0.46   0.645    -.4610852    .2854425\n",
      "     lpctmin |    .183811   .0675075     2.72   0.006     .0514988    .3161232\n",
      "        west |  -.2182099   .1419789    -1.54   0.124    -.4964834    .0600636\n",
      "     central |  -.1889587   .0688008    -2.75   0.006    -.3238059   -.0541115\n",
      "       urban |  -.1527579   .1068669    -1.43   0.153    -.3622132    .0566973\n",
      "             |\n",
      "        year |\n",
      "         82  |  -.0118071   .0326857    -0.36   0.718    -.0758699    .0522558\n",
      "         83  |  -.0974742   .0451107    -2.16   0.031    -.1858896   -.0090589\n",
      "         84  |  -.1417837   .0508733    -2.79   0.005    -.2414935    -.042074\n",
      "         85  |  -.1333289   .0791844    -1.68   0.092    -.2885275    .0218697\n",
      "         86  |  -.1019431   .0899407    -1.13   0.257    -.2782236    .0743373\n",
      "         87  |  -.0671194   .1095388    -0.61   0.540    -.2818115    .1475726\n",
      "             |\n",
      "       _cons |  -2.596944   2.121886    -1.22   0.221    -6.755764    1.561875\n",
      "------------------------------------------------------------------------------\n",
      "Endogenous: lprbarr lpolpc\n",
      "Exogenous:  lprbconv lprbpris lavgsen ldensity lwcon lwtuc lwtrd lwfir lwser\n",
      "            lwmfg lwfed lwsta lwloc lpctymle lpctmin west central urban\n",
      "            82.year 83.year 84.year 85.year 86.year 87.year ltaxpc lmix\n",
      "\n",
      ". \n"
     ]
    }
   ],
   "source": [
    "# stata = Stata('/Applications/Stata', 'mp')\n",
    "# stata.get_ready()\n",
    "# stata.run(\n",
    "#     \"use crime4, clear\\n\"\n",
    "#     'ivregress liml lcrmrte (lprbarr lpolpc = ltaxpc lmix) '\n",
    "#     'lprbconv lprbpris lavgsen ldensity lwcon-lwloc '\n",
    "#     'lpctymle lpctmin west central urban i.year, '\n",
    "#     'vce(cl county)'\n",
    "# )"
   ]
  }
 ],
 "metadata": {
  "kernelspec": {
   "display_name": "bok_da_test_py312",
   "language": "python",
   "name": "python3"
  },
  "language_info": {
   "codemirror_mode": {
    "name": "ipython",
    "version": 3
   },
   "file_extension": ".py",
   "mimetype": "text/x-python",
   "name": "python",
   "nbconvert_exporter": "python",
   "pygments_lexer": "ipython3",
   "version": "3.12.9"
  }
 },
 "nbformat": 4,
 "nbformat_minor": 4
}
