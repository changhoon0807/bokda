{
 "cells": [
  {
   "cell_type": "markdown",
   "id": "8ba8d2db",
   "metadata": {},
   "source": [
    "# Data 입출력\n",
    "- 작성자: 고려대학교 경제학과 한치록 교수\n",
    "\n",
    "Python을 이용한 통계분석에서 데이터 입출력을 일관되게 처리하는 것은 중요하다. 안정적인 작업을 위하여 널리 사용되는 모듈을 활용하는 것이 권고되며, [`pandas`](https://pandas.pydata.org) 패키지가 가장 널리 사용된다. 해당 모듈의 설명은 [여기](https://pandas.pydata.org/docs/user_guide/index.html)에 있다. 다음 명령을 이용하여 `pandas` 모듈을 설치할 수 있다. (BIDAS 파이썬 환경에는 pandas가 기본 설치되어 있다.)\n",
    "\n",
    "```sh\n",
    "pip install pandas\n",
    "```\n",
    "\n",
    "`pandas` 모듈이 처리할 수 있는 데이터 형식은 [Pandas 매뉴얼 IO tools 섹션]에 열거되어 있으며, 버전 2.1.3에서 읽어들일 수 있는 파일 형식은 다음과 같다: CSV, Fixed-Width Test File, JSON, HTML, XML, Local clipboard, MS Excel, Open Document, HDF5 Format, Feather Format, Parquet Format, ORC Format, Stata, SAS, SPSS, Python Pickle Format, SQL, Google Big Query. 동 버전에서 출력할 수 있는 파일 형식은 다음과 같다: CSV, JSON, HTML, LaTeX, XML, Local clipboard, MS Excel, HDF5 Format, Feather Format, Parquet Format, ORC Format, Stata, Python Pickle Format, SQL, Google Big Query. 상세한 내용은 [Pandas 매뉴얼 IO tools 섹션]을 참조하라.\n",
    "\n",
    "계량경제학 연구자들의 경우 정형화된 데이터를 보통 Excel, Stata, CSV 등으로 저장하며 이들 포맷은 모두 지원된다. CSV와 Stata는 별도의 엔진을 설치할 필요 없이 지원된다. 엑셀 파일의 경우 `openpyxl` 엔진(`.xlsx` 파일), `xlrd` 엔진(`.xls` 파일), `pyxlsb` 엔진(`.xlsb` 파일) 등이 필요하며 모듈을 별도로 설치하여야 한다.\n",
    "\n",
    "[Pandas 매뉴얼 IO tools 섹션]: https://pandas.pydata.org/docs/user_guide/io.html"
   ]
  },
  {
   "cell_type": "markdown",
   "id": "7f087d55",
   "metadata": {},
   "source": [
    "## CSV 파일 읽기\n",
    "CSV 파일은 별도의 모듈 없이 `pandas`만으로 입출력 가능하다. 다음 예제로 포함된 `wage1.csv` 파일은 [Wooldridge](http://econ.msu.edu/faculty/wooldridge/) 교과서에 포함된 데이터셋으로서 다음과 같이 설명되어 있다.\n",
    "\n",
    "> These are data from the 1976 Current Population Survey,\n",
    "> collected by Henry Farber when he and I were colleagues at\n",
    "> MIT in 1988."
   ]
  },
  {
   "cell_type": "code",
   "execution_count": 1,
   "id": "c4312536",
   "metadata": {},
   "outputs": [
    {
     "data": {
      "text/plain": [
       "(526, 24)"
      ]
     },
     "execution_count": 1,
     "metadata": {},
     "output_type": "execute_result"
    }
   ],
   "source": [
    "import pandas as pd\n",
    "df = pd.read_csv(\"data/wage1.csv\")\n",
    "df.shape"
   ]
  },
  {
   "cell_type": "markdown",
   "id": "9a214fbc",
   "metadata": {},
   "source": [
    "## Stata 데이터 읽기\n",
    "Stata `.dta` 파일은 버전을 막론하고 `pandas.read_stata`를 이용하여 읽을 수 있다."
   ]
  },
  {
   "cell_type": "code",
   "execution_count": 2,
   "id": "1fdf38a1",
   "metadata": {},
   "outputs": [
    {
     "data": {
      "text/plain": [
       "(526, 24)"
      ]
     },
     "execution_count": 2,
     "metadata": {},
     "output_type": "execute_result"
    }
   ],
   "source": [
    "import pandas as pd\n",
    "df = pd.read_stata(\"data/wage1.dta\")\n",
    "df.shape"
   ]
  },
  {
   "cell_type": "markdown",
   "id": "6273e323",
   "metadata": {},
   "source": [
    "## 엑셀 파일 읽기\n",
    "`.xlsx` 파일을 읽으려면 별도의 모듈(엔진)이 필요하다. 모듈 설치 없이 `pandas`의 `read_excel`을 사용하면 오류가 발생할 것이다. 우선 다음과 같이 모듈을 설치한다.\n",
    "\n",
    "```sh\n",
    "pip install openpyxl\n",
    "```\n",
    "\n",
    "설치가 끝나면 `.xlsx` 파일을 읽을 수 있다."
   ]
  },
  {
   "cell_type": "code",
   "execution_count": 3,
   "id": "7c3917bc",
   "metadata": {},
   "outputs": [
    {
     "data": {
      "text/plain": [
       "(526, 24)"
      ]
     },
     "execution_count": 3,
     "metadata": {},
     "output_type": "execute_result"
    }
   ],
   "source": [
    "import pandas as pd\n",
    "df = pd.read_excel(\"data/wage1.xlsx\")\n",
    "df.shape"
   ]
  },
  {
   "cell_type": "markdown",
   "id": "5c91fcac-1a02-4fce-bd79-9734e3a3ecb3",
   "metadata": {},
   "source": [
    "## R 데이터 파일 읽기\n",
    "R 데이터를 읽는 것도 가능하다고 하지만 실험해 본 결과 만족스럽지 않았다. R 데이터는 R에서 `.csv`, `.xlsx` 등으로 export한 후 읽는 것이 훨씬 간편하다.\n",
    "\n",
    "```r\n",
    "# R\n",
    "library(wooldridge)\n",
    "data(wage1)\n",
    "write.csv(wage1, \"wage1.csv\")\n",
    "# openxlsx::write.xlsx(wage1, \"wage1.xlsx\")\n",
    "# writexl::write_xlsx(wage1, \"wage1.xlsx\")\n",
    "# writexl::write_xls(wage1, \"wage1.xls\")\n",
    "```\n",
    "\n",
    "```python\n",
    "# python\n",
    "import pandas as pd\n",
    "df = pd.read_csv('wage1.csv')\n",
    "```"
   ]
  },
  {
   "cell_type": "markdown",
   "id": "322d4ea2",
   "metadata": {},
   "source": [
    "## 데이터 출력\n",
    "데이터를 파일로 내보내려면 DataFrame의 `to_csv`, `to_excel`, `to_stata` 등 메쏘드를 사용한다."
   ]
  },
  {
   "cell_type": "code",
   "execution_count": 8,
   "id": "59b9dc2a-228b-41de-a5cd-3da2dd6cbabe",
   "metadata": {},
   "outputs": [],
   "source": [
    "import pandas as pd\n",
    "df = pd.read_csv('data/wage1.csv')\n",
    "\n",
    "# create output files\n",
    "df.to_csv('output/test.csv')\n",
    "df.to_excel('output/test.xlsx')\n",
    "df.to_stata('output/test.dta')\n",
    "\n",
    "# delete output files\n",
    "import os\n",
    "os.remove('output/test.csv')\n",
    "os.remove('output/test.xlsx')\n",
    "os.remove('output/test.dta')"
   ]
  },
  {
   "cell_type": "markdown",
   "id": "8e93a72a-5817-4690-8557-828ceb566cb1",
   "metadata": {},
   "source": [
    "## DataFrame과 관련된 몇 가지 tip\n",
    "\n",
    "### 벡터들을 결합하여 DataFrame 생성\n",
    "실험 등을 목적으로 [NumPy](https://numpy.org/) array로부터 DataFrame을 만들고자 할 수도 있다. 예를 들어 `x1`과 `x2`를 랜덤하게 생성한 후 이 둘을 가로로 붙이려면(R의 `cbind`) 다음과 같이 한다. ([여기 참조](https://stackoverflow.com/questions/20763012/creating-a-pandas-dataframe-from-a-numpy-array-how-do-i-specify-the-index-colum))"
   ]
  },
  {
   "cell_type": "code",
   "execution_count": 9,
   "id": "2d225862-edd0-4df6-818d-61255d556c09",
   "metadata": {},
   "outputs": [
    {
     "data": {
      "text/html": [
       "<div>\n",
       "<style scoped>\n",
       "    .dataframe tbody tr th:only-of-type {\n",
       "        vertical-align: middle;\n",
       "    }\n",
       "\n",
       "    .dataframe tbody tr th {\n",
       "        vertical-align: top;\n",
       "    }\n",
       "\n",
       "    .dataframe thead th {\n",
       "        text-align: right;\n",
       "    }\n",
       "</style>\n",
       "<table border=\"1\" class=\"dataframe\">\n",
       "  <thead>\n",
       "    <tr style=\"text-align: right;\">\n",
       "      <th></th>\n",
       "      <th>x1</th>\n",
       "      <th>x2</th>\n",
       "    </tr>\n",
       "  </thead>\n",
       "  <tbody>\n",
       "    <tr>\n",
       "      <th>0</th>\n",
       "      <td>1.624345</td>\n",
       "      <td>-0.447129</td>\n",
       "    </tr>\n",
       "    <tr>\n",
       "      <th>1</th>\n",
       "      <td>-0.611756</td>\n",
       "      <td>1.224508</td>\n",
       "    </tr>\n",
       "    <tr>\n",
       "      <th>2</th>\n",
       "      <td>-0.528172</td>\n",
       "      <td>0.403492</td>\n",
       "    </tr>\n",
       "  </tbody>\n",
       "</table>\n",
       "</div>"
      ],
      "text/plain": [
       "         x1        x2\n",
       "0  1.624345 -0.447129\n",
       "1 -0.611756  1.224508\n",
       "2 -0.528172  0.403492"
      ]
     },
     "execution_count": 9,
     "metadata": {},
     "output_type": "execute_result"
    }
   ],
   "source": [
    "import numpy as np\n",
    "import pandas as pd\n",
    "\n",
    "n = 100\n",
    "np.random.seed(1)\n",
    "\n",
    "x1 = np.random.normal(size=n)\n",
    "x2 = np.random.normal(size=n)\n",
    "\n",
    "df1 = pd.DataFrame({'x1': x1, 'x2': x2})\n",
    "df1.head(3)"
   ]
  },
  {
   "cell_type": "markdown",
   "id": "1703968c-869e-40ba-a76c-d1c863cda410",
   "metadata": {},
   "source": [
    "### DataFrame들의 칼럼 결합\n",
    "앞에서는 두 'array'들을 가로로 붙였다. 두 'DataFrame'들을 가로로 붙여 보자(R의 `cbind`). 실험을 위해 우선 `df2`를 만든다. 그 다음 `df1`과 `df2`를 가로로 붙일 것이다."
   ]
  },
  {
   "cell_type": "code",
   "execution_count": 10,
   "id": "5bbfe0dc-2a3e-4c1e-9113-d743ce69cd88",
   "metadata": {},
   "outputs": [
    {
     "data": {
      "text/html": [
       "<div>\n",
       "<style scoped>\n",
       "    .dataframe tbody tr th:only-of-type {\n",
       "        vertical-align: middle;\n",
       "    }\n",
       "\n",
       "    .dataframe tbody tr th {\n",
       "        vertical-align: top;\n",
       "    }\n",
       "\n",
       "    .dataframe thead th {\n",
       "        text-align: right;\n",
       "    }\n",
       "</style>\n",
       "<table border=\"1\" class=\"dataframe\">\n",
       "  <thead>\n",
       "    <tr style=\"text-align: right;\">\n",
       "      <th></th>\n",
       "      <th>x3</th>\n",
       "      <th>x4</th>\n",
       "    </tr>\n",
       "  </thead>\n",
       "  <tbody>\n",
       "    <tr>\n",
       "      <th>0</th>\n",
       "      <td>1.624345</td>\n",
       "      <td>-0.447129</td>\n",
       "    </tr>\n",
       "    <tr>\n",
       "      <th>1</th>\n",
       "      <td>-0.611756</td>\n",
       "      <td>1.224508</td>\n",
       "    </tr>\n",
       "    <tr>\n",
       "      <th>2</th>\n",
       "      <td>-0.528172</td>\n",
       "      <td>0.403492</td>\n",
       "    </tr>\n",
       "  </tbody>\n",
       "</table>\n",
       "</div>"
      ],
      "text/plain": [
       "         x3        x4\n",
       "0  1.624345 -0.447129\n",
       "1 -0.611756  1.224508\n",
       "2 -0.528172  0.403492"
      ]
     },
     "execution_count": 10,
     "metadata": {},
     "output_type": "execute_result"
    }
   ],
   "source": [
    "df2 = pd.DataFrame({'x3': x1, 'x4': x2})\n",
    "df2.head(3)"
   ]
  },
  {
   "cell_type": "code",
   "execution_count": 11,
   "id": "d558e2f2-8f97-4ed2-bf8c-cd34eff2379a",
   "metadata": {},
   "outputs": [
    {
     "data": {
      "text/html": [
       "<div>\n",
       "<style scoped>\n",
       "    .dataframe tbody tr th:only-of-type {\n",
       "        vertical-align: middle;\n",
       "    }\n",
       "\n",
       "    .dataframe tbody tr th {\n",
       "        vertical-align: top;\n",
       "    }\n",
       "\n",
       "    .dataframe thead th {\n",
       "        text-align: right;\n",
       "    }\n",
       "</style>\n",
       "<table border=\"1\" class=\"dataframe\">\n",
       "  <thead>\n",
       "    <tr style=\"text-align: right;\">\n",
       "      <th></th>\n",
       "      <th>x1</th>\n",
       "      <th>x2</th>\n",
       "      <th>x3</th>\n",
       "      <th>x4</th>\n",
       "    </tr>\n",
       "  </thead>\n",
       "  <tbody>\n",
       "    <tr>\n",
       "      <th>0</th>\n",
       "      <td>1.624345</td>\n",
       "      <td>-0.447129</td>\n",
       "      <td>1.624345</td>\n",
       "      <td>-0.447129</td>\n",
       "    </tr>\n",
       "    <tr>\n",
       "      <th>1</th>\n",
       "      <td>-0.611756</td>\n",
       "      <td>1.224508</td>\n",
       "      <td>-0.611756</td>\n",
       "      <td>1.224508</td>\n",
       "    </tr>\n",
       "    <tr>\n",
       "      <th>2</th>\n",
       "      <td>-0.528172</td>\n",
       "      <td>0.403492</td>\n",
       "      <td>-0.528172</td>\n",
       "      <td>0.403492</td>\n",
       "    </tr>\n",
       "  </tbody>\n",
       "</table>\n",
       "</div>"
      ],
      "text/plain": [
       "         x1        x2        x3        x4\n",
       "0  1.624345 -0.447129  1.624345 -0.447129\n",
       "1 -0.611756  1.224508 -0.611756  1.224508\n",
       "2 -0.528172  0.403492 -0.528172  0.403492"
      ]
     },
     "execution_count": 11,
     "metadata": {},
     "output_type": "execute_result"
    }
   ],
   "source": [
    "# https://stackoverflow.com/questions/33088010/pandas-column-bind-cbind-two-data-frames\n",
    "df = pd.concat([df1, df2], axis = 1)\n",
    "df.head(3)"
   ]
  },
  {
   "cell_type": "markdown",
   "id": "b9158598-9269-4d5d-ac9c-c80775f79b65",
   "metadata": {},
   "source": [
    "### 칼럼 이름 바꾸기\n",
    "DataFrame의 칼럼 명을 바꾸려면 `rename`을 사용한다. 다음은 \"x3\"을 \"x1\"로, \"x4\"를 \"x2\"로 바꾼다."
   ]
  },
  {
   "cell_type": "code",
   "execution_count": 12,
   "id": "57665da7-8e58-4bbc-b946-7c4d9cb74906",
   "metadata": {},
   "outputs": [
    {
     "data": {
      "text/html": [
       "<div>\n",
       "<style scoped>\n",
       "    .dataframe tbody tr th:only-of-type {\n",
       "        vertical-align: middle;\n",
       "    }\n",
       "\n",
       "    .dataframe tbody tr th {\n",
       "        vertical-align: top;\n",
       "    }\n",
       "\n",
       "    .dataframe thead th {\n",
       "        text-align: right;\n",
       "    }\n",
       "</style>\n",
       "<table border=\"1\" class=\"dataframe\">\n",
       "  <thead>\n",
       "    <tr style=\"text-align: right;\">\n",
       "      <th></th>\n",
       "      <th>x1</th>\n",
       "      <th>x2</th>\n",
       "    </tr>\n",
       "  </thead>\n",
       "  <tbody>\n",
       "    <tr>\n",
       "      <th>0</th>\n",
       "      <td>1.624345</td>\n",
       "      <td>-0.447129</td>\n",
       "    </tr>\n",
       "    <tr>\n",
       "      <th>1</th>\n",
       "      <td>-0.611756</td>\n",
       "      <td>1.224508</td>\n",
       "    </tr>\n",
       "    <tr>\n",
       "      <th>2</th>\n",
       "      <td>-0.528172</td>\n",
       "      <td>0.403492</td>\n",
       "    </tr>\n",
       "  </tbody>\n",
       "</table>\n",
       "</div>"
      ],
      "text/plain": [
       "         x1        x2\n",
       "0  1.624345 -0.447129\n",
       "1 -0.611756  1.224508\n",
       "2 -0.528172  0.403492"
      ]
     },
     "execution_count": 12,
     "metadata": {},
     "output_type": "execute_result"
    }
   ],
   "source": [
    "df3 = df2.rename(columns = {'x3': 'x1', 'x4': 'x2'})\n",
    "df3.head(3)"
   ]
  },
  {
   "cell_type": "markdown",
   "id": "a7a675b3-7fd5-4136-a793-e23c52c6d7fc",
   "metadata": {},
   "source": [
    "### DataFrame들을 위아래로 붙이기\n",
    "행 방향으로 붙이려면(R의 `rbind`) 다음과 같이 한다."
   ]
  },
  {
   "cell_type": "code",
   "execution_count": 13,
   "id": "3899ae89-5e13-46b6-a0f8-dfcccb19fb2f",
   "metadata": {},
   "outputs": [
    {
     "data": {
      "text/html": [
       "<div>\n",
       "<style scoped>\n",
       "    .dataframe tbody tr th:only-of-type {\n",
       "        vertical-align: middle;\n",
       "    }\n",
       "\n",
       "    .dataframe tbody tr th {\n",
       "        vertical-align: top;\n",
       "    }\n",
       "\n",
       "    .dataframe thead th {\n",
       "        text-align: right;\n",
       "    }\n",
       "</style>\n",
       "<table border=\"1\" class=\"dataframe\">\n",
       "  <thead>\n",
       "    <tr style=\"text-align: right;\">\n",
       "      <th></th>\n",
       "      <th>x1</th>\n",
       "      <th>x2</th>\n",
       "    </tr>\n",
       "  </thead>\n",
       "  <tbody>\n",
       "    <tr>\n",
       "      <th>197</th>\n",
       "      <td>0.043597</td>\n",
       "      <td>0.420282</td>\n",
       "    </tr>\n",
       "    <tr>\n",
       "      <th>198</th>\n",
       "      <td>-0.620001</td>\n",
       "      <td>0.810952</td>\n",
       "    </tr>\n",
       "    <tr>\n",
       "      <th>199</th>\n",
       "      <td>0.698032</td>\n",
       "      <td>1.044442</td>\n",
       "    </tr>\n",
       "  </tbody>\n",
       "</table>\n",
       "</div>"
      ],
      "text/plain": [
       "           x1        x2\n",
       "197  0.043597  0.420282\n",
       "198 -0.620001  0.810952\n",
       "199  0.698032  1.044442"
      ]
     },
     "execution_count": 13,
     "metadata": {},
     "output_type": "execute_result"
    }
   ],
   "source": [
    "df4 = pd.concat([df1, df3], axis = 0, ignore_index = True)\n",
    "df4.tail(3)"
   ]
  },
  {
   "cell_type": "markdown",
   "id": "eeb1680e-1f84-4ca3-8280-4bfd7f76e1a6",
   "metadata": {},
   "source": [
    "파이썬은 통계 패키지가 아니라 프로그램 언어이다."
   ]
  }
 ],
 "metadata": {
  "kernelspec": {
   "display_name": "Python 3",
   "language": "python",
   "name": "python3"
  },
  "language_info": {
   "codemirror_mode": {
    "name": "ipython",
    "version": 3
   },
   "file_extension": ".py",
   "mimetype": "text/x-python",
   "name": "python",
   "nbconvert_exporter": "python",
   "pygments_lexer": "ipython3",
   "version": "3.9.16"
  }
 },
 "nbformat": 4,
 "nbformat_minor": 5
}
