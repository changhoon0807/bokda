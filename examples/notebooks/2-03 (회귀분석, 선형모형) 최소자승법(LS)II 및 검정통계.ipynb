{
 "cells": [
  {
   "cell_type": "markdown",
   "metadata": {},
   "source": [
    "## Least Squares (LS)\n",
    "- 작성자: 고려대학교 경제학과 한치록 교수, 데이터사이언스팀 이창훈 과장\n",
    "\n",
    "간편한 사용을 위하여 `bok_da` 라이브러리에 최소자승법(LS) 관련 모듈을 제공한다.\n",
    "\n",
    "* `regress`: OLS와 WLS\n",
    "* `prais`: Prais-Winsten 추정(Cochrane-Orcutt 포함)\n",
    "* `het_test`, `ac_test`, `reset_test`: 이분산 검정, 자기상관 검정, RESET 검정\n",
    "\n",
    "이 문서에서는 Stata와 결과를 비교하고자 한다. Python에서 Stata의 실행에 관한 자세한 내용은 `7-01`과 `7-02` 매뉴얼을 참고하라. 이 문서들에서는 `bok_da` 라이브러리에 구현된 간편 모듈을 사용한다.\n",
    "\n",
    "## regress\n",
    "\n",
    "`regress` 함수는 간편하게 인자를 받아들여 OLS 또는 WLS를 수행한다. `statsmodels`의 관련 함수들을 호출할 뿐이므로 `statsmodels` 함수들과 마찬가지로 `RegressionResults` 클래스를 리턴하고, 따라서 그 후 `summary` 메쏘드를 사용하여 결과를 display할 수 있다.\n",
    "\n",
    "### OLS\n",
    "\n",
    "먼저 OLS 회귀 결과는 다음과 같다. 이하에서는 일부러 공선성이 발생하도록 `I(smoke-aged)`와 `I(smoke+aged)`를 회귀모형에 추가하여 `bok_da` 라이브러리의 `regress` 함수가 공선성을 적절하게 점검하고 처리하는지 확인하였다. I()는 Identity 함수로 두 변수의 합 또는 차이를 새로운 변수로 만들라는 의미이다. 두 변수는 원변수의 선형조합이기때문에 다중공선성 문제가 발생하게 된다.\n",
    "\n",
    "[3_07]: 07%20BOK%20Library%20II%20(IV).ipynb\n",
    "[3_08]: 08%20BOK%20Library%20III%20(Time%20Series).ipynb"
   ]
  },
  {
   "cell_type": "markdown",
   "metadata": {},
   "source": [
    "#### **(주의) 본 매뉴얼에서 Stata 기능은 라이선스 이슈로 아직까지는 BIDAS 환경에서 사용할 수 없다. 매뉴얼에서 stata 관련 코드는 주석처리하였다. 로컬환경(내부망, 인터넷망)에서 활용하는 경우 주석해제 하여 사용할 수 있다.**"
   ]
  },
  {
   "cell_type": "code",
   "execution_count": 3,
   "metadata": {},
   "outputs": [
    {
     "name": "stdout",
     "output_type": "stream",
     "text": [
      "note: \u001b[1mI(smoke - aged)\u001b[0;0m omitted because of collinearity.\n",
      "note: \u001b[1mI(smoke + aged)\u001b[0;0m omitted because of collinearity.\n",
      "                            OLS Regression Results                            \n",
      "==============================================================================\n",
      "Dep. Variable:              deathrate   R-squared:                      0.9205\n",
      "Model:                            OLS   Adj. R-squared:                 0.9189\n",
      "No. Observations:                 258   F-statistic:                     585.2\n",
      "Covariance Type:              cluster   Prob (F-statistic):             0.0000\n",
      "===================================================================================\n",
      "                      coef    std err          z      P>|z|      [0.025      0.975]\n",
      "-----------------------------------------------------------------------------------\n",
      "Intercept          0.27932    0.89277       0.31      0.754    -1.47048     2.02913\n",
      "C(year)[T.2009]   -0.36224    0.07250      -5.00      0.000    -0.50433    -0.22015\n",
      "C(year)[T.2010]   -0.30478    0.07896      -3.86      0.000    -0.45955    -0.15001\n",
      "smoke              0.04025    0.02118       1.90      0.057    -0.00126     0.08175\n",
      "drink              0.00506    0.01469       0.34      0.731    -0.02374     0.03386\n",
      "aged               0.39885    0.01354      29.46      0.000     0.37231     0.42539\n",
      "===================================================================================\n",
      "\n",
      "Notes:\n",
      "1. Standard Errors are robust to cluster correlation (cluster)\n",
      "2. I(smoke - aged), I(smoke + aged) omitted because of collinearity.\n"
     ]
    }
   ],
   "source": [
    "import bok_da as bd\n",
    "import pandas as pd\n",
    "from bok_da.linear.lm import regress\n",
    "\n",
    "df = pd.read_csv('../data/Death.csv')\n",
    "fm = 'deathrate~smoke+drink+aged+I(smoke-aged)+I(smoke+aged)+C(year)'\n",
    "ols = regress(fm, data=df, vce='cl', cluster='region')\n",
    "print(ols.summary(slim=True))"
   ]
  },
  {
   "cell_type": "markdown",
   "metadata": {},
   "source": [
    "공선성 문제가 해결됨을 볼 수 있다.\n",
    "\n",
    "- 위 결과를 `bok_da` 라이브러리를 통하여 호출하는 `pystata`를 사용하여 Stata로 복원하면 다음과 같다. 우선 다음과 같이 모듈들을 설치한다.\n",
    "\n",
    "```python\n",
    "pip install pystata stata_setup\n",
    "```\n",
    "\n",
    "패키지 설치 후 다음과 같이 한다.(매뉴얼에서 Stata 관련 코드는 라이선스 문제로 로컬 PC환경(내부망, 인터넷망)에서만 실행 가능하다. BIDAS 환경에서는 아직 Stata기능을 지원하지 않는다.)"
   ]
  },
  {
   "cell_type": "code",
   "execution_count": 2,
   "metadata": {},
   "outputs": [
    {
     "name": "stdout",
     "output_type": "stream",
     "text": [
      ". reg deathrate smoke drink aged sma spa i.year, vce(cl region)\n",
      "note: sma omitted because of collinearity.\n",
      "note: spa omitted because of collinearity.\n",
      "\n",
      "Linear regression                               Number of obs     =        258\n",
      "                                                F(5, 85)          =     585.21\n",
      "                                                Prob > F          =     0.0000\n",
      "                                                R-squared         =     0.9205\n",
      "                                                Root MSE          =     .61453\n",
      "\n",
      "                                (Std. err. adjusted for 86 clusters in region)\n",
      "------------------------------------------------------------------------------\n",
      "             |               Robust\n",
      "   deathrate | Coefficient  std. err.      t    P>|t|     [95% conf. interval]\n",
      "-------------+----------------------------------------------------------------\n",
      "       smoke |   .0402485    .021176     1.90   0.061    -.0018551    .0823521\n",
      "       drink |   .0050601   .0146931     0.34   0.731    -.0241536    .0342739\n",
      "        aged |   .3988506    .013539    29.46   0.000     .3719314    .4257697\n",
      "         sma |          0  (omitted)\n",
      "         spa |          0  (omitted)\n",
      "             |\n",
      "        year |\n",
      "       2009  |  -.3622421   .0724969    -5.00   0.000    -.5063854   -.2180987\n",
      "       2010  |   -.304777    .078965    -3.86   0.000    -.4617804   -.1477735\n",
      "             |\n",
      "       _cons |   .2793242   .8927737     0.31   0.755    -1.495749    2.054398\n",
      "------------------------------------------------------------------------------\n"
     ]
    }
   ],
   "source": [
    "# import bok_da\n",
    "# from bok_da.stata import Stata\n",
    "\n",
    "# stata = Stata('/Applications/Stata', 'mp')\n",
    "# stata.get_ready()\n",
    "# df = bok.read.csv('Death.csv')\n",
    "# df['sma'] = df.smoke - df.aged\n",
    "# df['spa'] = df.smoke + df.aged\n",
    "# stata.use(df, force=True)\n",
    "# stata.run('reg deathrate smoke drink aged sma spa i.year, vce(cl region)')"
   ]
  },
  {
   "cell_type": "markdown",
   "metadata": {},
   "source": [
    "위에서 `bok.regress` 모듈로부터 리턴되는 것은 `statsmodels`의 OLS model을 `fit`한 결과이다(클러스터 표준오차). 공선성이 체크되었음을 확인할 수 있다."
   ]
  },
  {
   "cell_type": "markdown",
   "metadata": {},
   "source": [
    "### t test"
   ]
  },
  {
   "cell_type": "code",
   "execution_count": 6,
   "metadata": {},
   "outputs": [
    {
     "data": {
      "text/plain": [
       "<class 'statsmodels.stats.contrast.ContrastResults'>\n",
       "                             Test for Constraints                             \n",
       "==============================================================================\n",
       "                 coef    std err          z      P>|z|      [0.025      0.975]\n",
       "------------------------------------------------------------------------------\n",
       "c0            0.03519    0.03143       1.12      0.263    -0.02642     0.09680\n",
       "=============================================================================="
      ]
     },
     "execution_count": 6,
     "metadata": {},
     "output_type": "execute_result"
    }
   ],
   "source": [
    "# python\n",
    "ols.t_test('smoke=drink')"
   ]
  },
  {
   "cell_type": "markdown",
   "metadata": {},
   "source": [
    "### Wald test"
   ]
  },
  {
   "cell_type": "code",
   "execution_count": 7,
   "metadata": {},
   "outputs": [
    {
     "name": "stdout",
     "output_type": "stream",
     "text": [
      "<Wald test (chi2): statistic=[[6.0494385]], p-value=0.04857145581121495, df_denom=2>\n"
     ]
    }
   ],
   "source": [
    "import warnings\n",
    "warnings.filterwarnings('ignore', category=FutureWarning)\n",
    "print(ols.wald_test('smoke=0,drink=0'))"
   ]
  },
  {
   "cell_type": "markdown",
   "metadata": {},
   "source": [
    "### WLS\n",
    "\n",
    "다음은 WLS 추정 결과이다. `weights=...` 인자를 주면 된다."
   ]
  },
  {
   "cell_type": "code",
   "execution_count": 9,
   "metadata": {},
   "outputs": [
    {
     "name": "stdout",
     "output_type": "stream",
     "text": [
      "note: \u001b[1mI(smoke - aged)\u001b[0;0m omitted because of collinearity.\n",
      "note: \u001b[1mI(smoke + aged)\u001b[0;0m omitted because of collinearity.\n",
      "                            WLS Regression Results                            \n",
      "==============================================================================\n",
      "Dep. Variable:              deathrate   R-squared:                      0.9407\n",
      "Model:                            WLS   Adj. R-squared:                 0.9395\n",
      "No. Observations:                 258   F-statistic:                     806.7\n",
      "Covariance Type:              cluster   Prob (F-statistic):             0.0000\n",
      "===================================================================================\n",
      "                      coef    std err          z      P>|z|      [0.025      0.975]\n",
      "-----------------------------------------------------------------------------------\n",
      "Intercept         -0.37040    1.33423      -0.28      0.781    -2.98545     2.24465\n",
      "C(year)[T.2009]   -0.29085    0.07084      -4.11      0.000    -0.42970    -0.15200\n",
      "C(year)[T.2010]   -0.28009    0.08379      -3.34      0.001    -0.44431    -0.11587\n",
      "smoke              0.03566    0.02315       1.54      0.123    -0.00971     0.08103\n",
      "drink              0.01573    0.02272       0.69      0.489    -0.02879     0.06026\n",
      "aged               0.40870    0.01879      21.75      0.000     0.37187     0.44554\n",
      "===================================================================================\n",
      "\n",
      "Notes:\n",
      "1. Standard Errors are robust to cluster correlation (cluster)\n",
      "2. I(smoke - aged), I(smoke + aged) omitted because of collinearity.\n"
     ]
    }
   ],
   "source": [
    "df = pd.read_csv('../data/Death.csv')\n",
    "fm = 'deathrate~smoke+drink+aged+I(smoke-aged)+I(smoke+aged)+C(year)'\n",
    "wls = regress(fm, data=df, weights='regpop', vce='cl', cluster='region')\n",
    "print(wls.summary(slim=True))"
   ]
  },
  {
   "cell_type": "markdown",
   "metadata": {},
   "source": [
    "Stata 결과와 비교해 보자."
   ]
  },
  {
   "cell_type": "code",
   "execution_count": 6,
   "metadata": {},
   "outputs": [
    {
     "name": "stdout",
     "output_type": "stream",
     "text": [
      ". reg deathrate smoke drink aged sma spa i.year [aw=regpop], vce(cl region)\n",
      "(sum of wgt is 14,356,343)\n",
      "note: sma omitted because of collinearity.\n",
      "note: spa omitted because of collinearity.\n",
      "\n",
      "Linear regression                               Number of obs     =        258\n",
      "                                                F(5, 85)          =     806.71\n",
      "                                                Prob > F          =     0.0000\n",
      "                                                R-squared         =     0.9407\n",
      "                                                Root MSE          =     .59603\n",
      "\n",
      "                                (Std. err. adjusted for 86 clusters in region)\n",
      "------------------------------------------------------------------------------\n",
      "             |               Robust\n",
      "   deathrate | Coefficient  std. err.      t    P>|t|     [95% conf. interval]\n",
      "-------------+----------------------------------------------------------------\n",
      "       smoke |   .0356597   .0231473     1.54   0.127    -.0103633    .0816827\n",
      "       drink |   .0157341   .0227158     0.69   0.490    -.0294311    .0608992\n",
      "        aged |   .4087043   .0187924    21.75   0.000       .37134    .4460686\n",
      "         sma |          0  (omitted)\n",
      "         spa |          0  (omitted)\n",
      "             |\n",
      "        year |\n",
      "       2009  |  -.2908516   .0708418    -4.11   0.000    -.4317041   -.1499991\n",
      "       2010  |  -.2800889   .0837887    -3.34   0.001    -.4466833   -.1134945\n",
      "             |\n",
      "       _cons |  -.3703977   1.334233    -0.28   0.782    -3.023211    2.282416\n",
      "------------------------------------------------------------------------------\n"
     ]
    }
   ],
   "source": [
    "# import bok_da\n",
    "# from bok_da.stata import Stata\n",
    "\n",
    "# stata = Stata('/Applications/Stata', 'mp')\n",
    "# stata.get_ready()\n",
    "# df = bok.read.csv('Death.csv')\n",
    "# df['sma'] = df.smoke - df.aged\n",
    "# df['spa'] = df.smoke + df.aged\n",
    "# stata.use(df, force=True)\n",
    "# stata.run('reg deathrate smoke drink aged sma spa i.year [aw=regpop], vce(cl region)')"
   ]
  },
  {
   "cell_type": "markdown",
   "metadata": {},
   "source": [
    "## Prais-Winsten"
   ]
  },
  {
   "cell_type": "code",
   "execution_count": 11,
   "metadata": {},
   "outputs": [
    {
     "name": "stdout",
     "output_type": "stream",
     "text": [
      "Iteration 0:  rho = 0.0000\n",
      "Iteration 1:  rho = 0.6312\n",
      "Iteration 2:  rho = 0.6500\n",
      "Iteration 3:  rho = 0.6528\n",
      "Iteration 4:  rho = 0.6532\n",
      "Iteration 5:  rho = 0.6533\n",
      "Iteration 6:  rho = 0.6533\n",
      "Iteration 7:  rho = 0.6533\n",
      "Iteration 8:  rho = 0.6533\n",
      "       Prais-Winsten AR(1) regression with iterative estimates Results        \n",
      "==============================================================================\n",
      "Dep. Variable:                 csales   R-squared:                      0.9987\n",
      "Model:                          Prais   Adj. R-squared:                 0.9986\n",
      "No. Observations:                  20   F-statistic:                     6074.\n",
      "Covariance Type:                  HC1   Prob (F-statistic):             0.0000\n",
      "==============================================================================\n",
      "                 coef    std err          z      P>|z|      [0.025      0.975]\n",
      "------------------------------------------------------------------------------\n",
      "Intercept    -1.26782    0.34283      -3.70      0.000    -1.93975    -0.59589\n",
      "isales        0.17499    0.00225      77.93      0.000     0.17059     0.17939\n",
      "===============================================\n",
      "rho                                    0.653295\n",
      "Durbin-Watson statistic (original)     0.734728\n",
      "Durbin-Watson statistic (transformed)  1.711080\n",
      "-----------------------------------------------\n",
      "\n",
      "Notes:\n",
      "1. Standard Errors are heteroscedasticity robust (HC1)\n"
     ]
    }
   ],
   "source": [
    "from bok_da.linear.lm import prais\n",
    "\n",
    "qsales = pd.read_stata('../data/qsales.dta')\n",
    "pw = prais('csales~isales', qsales, vce='HC1')\n",
    "print(pw.summary(slim=True))"
   ]
  },
  {
   "cell_type": "markdown",
   "metadata": {},
   "source": [
    "Stata와 비교해 보자."
   ]
  },
  {
   "cell_type": "code",
   "execution_count": 8,
   "metadata": {},
   "outputs": [
    {
     "name": "stdout",
     "output_type": "stream",
     "text": [
      "\n",
      ". use qsales, clear\n",
      "\n",
      ". prais csales isales, vce(r)\n",
      "\n",
      "Iteration 0:  rho = 0.0000\n",
      "Iteration 1:  rho = 0.6312\n",
      "Iteration 2:  rho = 0.6500\n",
      "Iteration 3:  rho = 0.6528\n",
      "Iteration 4:  rho = 0.6532\n",
      "Iteration 5:  rho = 0.6533\n",
      "Iteration 6:  rho = 0.6533\n",
      "Iteration 7:  rho = 0.6533\n",
      "Iteration 8:  rho = 0.6533\n",
      "\n",
      "Prais–Winsten AR(1) regression with iterated estimates\n",
      "\n",
      "Linear regression                               Number of obs     =         20\n",
      "                                                F(1, 18)          =    6073.66\n",
      "                                                Prob > F          =     0.0000\n",
      "                                                R-squared         =     0.9987\n",
      "                                                Root MSE          =     .06627\n",
      "\n",
      "------------------------------------------------------------------------------\n",
      "             |             Semirobust\n",
      "      csales | Coefficient  std. err.      t    P>|t|     [95% conf. interval]\n",
      "-------------+----------------------------------------------------------------\n",
      "      isales |   .1749874   .0022453    77.93   0.000     .1702702    .1797047\n",
      "       _cons |  -1.267818   .3428278    -3.70   0.002    -1.988072   -.5475633\n",
      "-------------+----------------------------------------------------------------\n",
      "         rho |   .6532947\n",
      "------------------------------------------------------------------------------\n",
      "Durbin–Watson statistic (original)    = 0.734728\n",
      "Durbin–Watson statistic (transformed) = 1.711080\n",
      "\n",
      ". \n"
     ]
    }
   ],
   "source": [
    "# import bok_da as bd\n",
    "# from bok_da.stata import Stata\n",
    "\n",
    "# stata = Stata('/Applications/Stata', 'mp')\n",
    "# stata.get_ready()\n",
    "# stata.run('''use qsales, clear\n",
    "# prais csales isales, vce(r)''')"
   ]
  },
  {
   "cell_type": "markdown",
   "metadata": {},
   "source": [
    "## Tests"
   ]
  },
  {
   "cell_type": "markdown",
   "metadata": {},
   "source": [
    "### 이분산 검정\n",
    "\n",
    "#### Breusch-Pagan 검정"
   ]
  },
  {
   "cell_type": "code",
   "execution_count": 13,
   "metadata": {},
   "outputs": [
    {
     "name": "stdout",
     "output_type": "stream",
     "text": [
      "Breusch-Pagan test for heteroskedasticity\n",
      "Variables: All independent variables\n",
      "\n",
      "H0: Constant variance\n",
      "\n",
      "    chi2(3) =   6.28    F(3, 82) =   2.15\n",
      "Prob > chi2 = 0.0989    Prob > F = 0.1000\n"
     ]
    }
   ],
   "source": [
    "from bok_da.linear.test import het_test\n",
    "\n",
    "df = pd.read_csv('../data/Death.csv')\n",
    "fm = 'deathrate~smoke+drink+aged'\n",
    "ols = regress(fm, data=df[df.year==2010])\n",
    "bp = het_test(ols, verbose=True)"
   ]
  },
  {
   "cell_type": "markdown",
   "metadata": {},
   "source": [
    "위와 동일한 결과는 Stata로 다음과 같이 만들 수 있다."
   ]
  },
  {
   "cell_type": "code",
   "execution_count": 10,
   "metadata": {},
   "outputs": [
    {
     "name": "stdout",
     "output_type": "stream",
     "text": [
      "\n",
      ". reg deathrate smoke drink aged if year==2010\n",
      "\n",
      "      Source |       SS           df       MS      Number of obs   =        86\n",
      "-------------+----------------------------------   F(3, 82)        =    320.90\n",
      "       Model |  385.368639         3  128.456213   Prob > F        =    0.0000\n",
      "    Residual |  32.8242936        82  .400296264   R-squared       =    0.9215\n",
      "-------------+----------------------------------   Adj R-squared   =    0.9186\n",
      "       Total |  418.192933        85  4.91991686   Root MSE        =    .63269\n",
      "\n",
      "------------------------------------------------------------------------------\n",
      "   deathrate | Coefficient  Std. err.      t    P>|t|     [95% conf. interval]\n",
      "-------------+----------------------------------------------------------------\n",
      "       smoke |    .061505   .0370383     1.66   0.101     -.012176     .135186\n",
      "       drink |   .0158218   .0197301     0.80   0.425    -.0234276    .0550712\n",
      "        aged |   .4079032   .0162442    25.11   0.000     .3755883    .4402181\n",
      "       _cons |   -1.24834   1.116468    -1.12   0.267    -3.469351    .9726711\n",
      "------------------------------------------------------------------------------\n",
      "\n",
      ". estat hett, rhs iid\n",
      "\n",
      "Breusch–Pagan/Cook–Weisberg test for heteroskedasticity \n",
      "Assumption: i.i.d. error terms\n",
      "Variables: All independent variables\n",
      "\n",
      "H0: Constant variance\n",
      "\n",
      "    chi2(3) =   6.28\n",
      "Prob > chi2 = 0.0989\n",
      "\n",
      ". estat hett, rhs fs\n",
      "\n",
      "Breusch–Pagan/Cook–Weisberg test for heteroskedasticity \n",
      "Assumption: i.i.d. error terms\n",
      "Variables: All independent variables\n",
      "\n",
      "H0: Constant variance\n",
      "\n",
      "F(3, 82) =   2.15\n",
      "Prob > F = 0.1000\n",
      "\n",
      ". \n"
     ]
    }
   ],
   "source": [
    "# import bok_da as bd\n",
    "# from bok_da.stata import Stata\n",
    "\n",
    "# stata = Stata('/Applications/Stata', 'mp')\n",
    "# stata.get_ready()\n",
    "# df = bd.read.csv('Death.csv')\n",
    "# stata.use(df, force=True)\n",
    "# stata.run(\n",
    "#     \"reg deathrate smoke drink aged if year==2010\\n\"\n",
    "#     \"estat hett, rhs iid\\n\"\n",
    "#     \"estat hett, rhs fs\"\n",
    "# )"
   ]
  },
  {
   "cell_type": "markdown",
   "metadata": {},
   "source": [
    "#### White 검정"
   ]
  },
  {
   "cell_type": "code",
   "execution_count": 14,
   "metadata": {},
   "outputs": [
    {
     "name": "stdout",
     "output_type": "stream",
     "text": [
      "White test for heteroskedasticity\n",
      "Variables: All independent variables and quadratic\n",
      "\n",
      "H0: Constant variance\n",
      "\n",
      "    chi2(9) =  15.75    F(9, 82) =   1.89\n",
      "Prob > chi2 = 0.0723    Prob > F = 0.0656\n"
     ]
    }
   ],
   "source": [
    "df = pd.read_csv('../data/Death.csv')\n",
    "fm = 'deathrate~smoke+drink+aged'\n",
    "ols = regress(fm, data=df[df.year==2010])\n",
    "w = het_test(ols, method='w', verbose=True)"
   ]
  },
  {
   "cell_type": "code",
   "execution_count": 12,
   "metadata": {},
   "outputs": [
    {
     "name": "stdout",
     "output_type": "stream",
     "text": [
      "\n",
      ". reg deathrate smoke drink aged if year==2010\n",
      "\n",
      "      Source |       SS           df       MS      Number of obs   =        86\n",
      "-------------+----------------------------------   F(3, 82)        =    320.90\n",
      "       Model |  385.368639         3  128.456213   Prob > F        =    0.0000\n",
      "    Residual |  32.8242936        82  .400296264   R-squared       =    0.9215\n",
      "-------------+----------------------------------   Adj R-squared   =    0.9186\n",
      "       Total |  418.192933        85  4.91991686   Root MSE        =    .63269\n",
      "\n",
      "------------------------------------------------------------------------------\n",
      "   deathrate | Coefficient  Std. err.      t    P>|t|     [95% conf. interval]\n",
      "-------------+----------------------------------------------------------------\n",
      "       smoke |    .061505   .0370383     1.66   0.101     -.012176     .135186\n",
      "       drink |   .0158218   .0197301     0.80   0.425    -.0234276    .0550712\n",
      "        aged |   .4079032   .0162442    25.11   0.000     .3755883    .4402181\n",
      "       _cons |   -1.24834   1.116468    -1.12   0.267    -3.469351    .9726711\n",
      "------------------------------------------------------------------------------\n",
      "\n",
      ". estat imtest, white\n",
      "\n",
      "White's test\n",
      "H0: Homoskedasticity\n",
      "Ha: Unrestricted heteroskedasticity\n",
      "\n",
      "    chi2(9) =  15.75\n",
      "Prob > chi2 = 0.0723\n",
      "\n",
      "Cameron & Trivedi's decomposition of IM-test\n",
      "\n",
      "--------------------------------------------------\n",
      "              Source |       chi2     df         p\n",
      "---------------------+----------------------------\n",
      "  Heteroskedasticity |      15.75      9    0.0723\n",
      "            Skewness |       5.11      3    0.1637\n",
      "            Kurtosis |       0.02      1    0.8878\n",
      "---------------------+----------------------------\n",
      "               Total |      20.88     13    0.0753\n",
      "--------------------------------------------------\n",
      "\n",
      ". \n"
     ]
    }
   ],
   "source": [
    "# import bok_da as bd\n",
    "# from bok_da.stata import Stata\n",
    "\n",
    "# stata = Stata('/Applications/Stata', 'mp')\n",
    "# stata.get_ready()\n",
    "# df = bd.read.csv('Death.csv')\n",
    "# stata.use(df, force=True)\n",
    "# stata.run(\n",
    "#     \"reg deathrate smoke drink aged if year==2010\\n\"\n",
    "#     \"estat imtest, white\"\n",
    "# )"
   ]
  },
  {
   "cell_type": "code",
   "execution_count": 15,
   "metadata": {},
   "outputs": [
    {
     "name": "stdout",
     "output_type": "stream",
     "text": [
      "White test for heteroskedasticity\n",
      "Variables: Fitted values and square\n",
      "\n",
      "H0: Constant variance\n",
      "\n",
      "    chi2(2) =   0.77    F(2, 82) =   0.37\n",
      "Prob > chi2 = 0.6808    Prob > F = 0.6888\n"
     ]
    }
   ],
   "source": [
    "df = pd.read_csv('../data/Death.csv')\n",
    "fm = 'deathrate~smoke+drink+aged'\n",
    "ols = regress(fm, data=df[df.year==2010])\n",
    "ws = het_test(ols, method='ws', verbose=True)"
   ]
  },
  {
   "cell_type": "markdown",
   "metadata": {},
   "source": [
    "### 자기상관 검정\n",
    "\n",
    "#### Breusch-Godfrey 검정"
   ]
  },
  {
   "cell_type": "code",
   "execution_count": 17,
   "metadata": {},
   "outputs": [
    {
     "name": "stdout",
     "output_type": "stream",
     "text": [
      "Breusch-Godfrey test for autocorrelation\n",
      "\n",
      "H0: No serial correlation\n",
      "\n",
      "    chi2(1) =  14.26    F(1, 20) =  35.04\n",
      "Prob > chi2 = 0.0002    Prob > F = 0.0000\n"
     ]
    }
   ],
   "source": [
    "from bok_da.linear.test import ac_test\n",
    "\n",
    "df = pd.read_stata('../data/klein.dta')\n",
    "fm = 'consump~wagegovt'\n",
    "ols = regress(fm, data=df)\n",
    "bg = ac_test(ols, nlags=1, verbose=True)"
   ]
  },
  {
   "cell_type": "markdown",
   "metadata": {},
   "source": [
    "Stata와 같은 결과이다."
   ]
  },
  {
   "cell_type": "code",
   "execution_count": 15,
   "metadata": {},
   "outputs": [
    {
     "name": "stdout",
     "output_type": "stream",
     "text": [
      ". tsset yr\n",
      "\n",
      "Time variable: yr, 1920 to 1941\n",
      "        Delta: 1 unit\n",
      ". qui reg consump wagegovt\n",
      ". estat bgodfrey\n",
      "\n",
      "Breusch–Godfrey LM test for autocorrelation\n",
      "---------------------------------------------------------------------------\n",
      "    lags(p)  |          chi2               df                 Prob > chi2\n",
      "-------------+-------------------------------------------------------------\n",
      "       1     |         14.264               1                   0.0002\n",
      "---------------------------------------------------------------------------\n",
      "                        H0: no serial correlation\n"
     ]
    }
   ],
   "source": [
    "# from bok_da.stata import Stata\n",
    "\n",
    "# # Stata\n",
    "# stata = Stata('/Applications/Stata', 'mp')\n",
    "# stata.get_ready()\n",
    "# stata.use(df, force=True)\n",
    "# stata.run('tsset yr')\n",
    "# stata.run('reg consump wagegovt', quietly = True)\n",
    "# stata.run('estat bgodfrey')"
   ]
  },
  {
   "cell_type": "markdown",
   "metadata": {},
   "source": [
    "### RESET test"
   ]
  },
  {
   "cell_type": "code",
   "execution_count": 19,
   "metadata": {},
   "outputs": [
    {
     "name": "stdout",
     "output_type": "stream",
     "text": [
      "Ramsey RESET test\n",
      "\n",
      "H0: Model is correctly linearly specified\n",
      "\n",
      "F(3, 79) =   1.51\n",
      "Prob > F = 0.2189\n"
     ]
    }
   ],
   "source": [
    "from bok_da.linear.test import reset_test\n",
    "\n",
    "df = pd.read_csv('../data/Death.csv')\n",
    "fm = 'deathrate~smoke+drink+aged'\n",
    "ols = regress(fm, data=df[df.year==2010])\n",
    "reset = reset_test(ols, power=4, verbose=True)"
   ]
  },
  {
   "cell_type": "markdown",
   "metadata": {},
   "source": [
    "Stata 결과도 똑같다."
   ]
  },
  {
   "cell_type": "code",
   "execution_count": 17,
   "metadata": {},
   "outputs": [
    {
     "name": "stdout",
     "output_type": "stream",
     "text": [
      ". qui reg deathrate smoke drink aged if year==2010\n",
      ". estat ovtest\n",
      "\n",
      "Ramsey RESET test for omitted variables\n",
      "Omitted: Powers of fitted values of deathrate\n",
      "\n",
      "H0: Model has no omitted variables\n",
      "\n",
      "F(3, 79) =   1.51\n",
      "Prob > F = 0.2189\n"
     ]
    }
   ],
   "source": [
    "# # Stata\n",
    "# stata = Stata('/Applications/Stata', 'mp')\n",
    "# stata.get_ready()\n",
    "# stata.use(df, force=True)\n",
    "# stata.run('reg deathrate smoke drink aged if year==2010', quietly = True)\n",
    "# stata.run('estat ovtest')"
   ]
  }
 ],
 "metadata": {
  "kernelspec": {
   "display_name": "bok_da_test_py312",
   "language": "python",
   "name": "python3"
  },
  "language_info": {
   "codemirror_mode": {
    "name": "ipython",
    "version": 3
   },
   "file_extension": ".py",
   "mimetype": "text/x-python",
   "name": "python",
   "nbconvert_exporter": "python",
   "pygments_lexer": "ipython3",
   "version": "3.12.9"
  }
 },
 "nbformat": 4,
 "nbformat_minor": 4
}
