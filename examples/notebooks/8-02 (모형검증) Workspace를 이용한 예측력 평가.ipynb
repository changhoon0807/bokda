{
 "cells": [
  {
   "cell_type": "markdown",
   "metadata": {},
   "source": [
    "# Workspace를 이용한 모형 예측력 평가\n",
    "- 작성자: 고려대학교 경제학과 한치록 교수, 데이터사이언스팀 이창훈 과장"
   ]
  },
  {
   "cell_type": "markdown",
   "metadata": {},
   "source": [
    "예측력 평가를 위한 예제 데이터셋 불러오기"
   ]
  },
  {
   "cell_type": "code",
   "execution_count": 1,
   "metadata": {},
   "outputs": [],
   "source": [
    "import pandas as pd\n",
    "\n",
    "df = pd.read_excel('../data/dmtest.xlsx')\n",
    "df = df.iloc[:, 1:]\n",
    "df.columns.values[0] = 'y'"
   ]
  },
  {
   "cell_type": "markdown",
   "metadata": {},
   "source": [
    "- `bok_da`를 `bd`로 임포트한 후에 `Workspace`클래스의 `col_evaluation_metrics` 메서드를 이용해서 $RMSE$, $MAE$ 등의 다양한 예측력 평가 기준을 계산할 수 있다. \n",
    "- `Workspace`에 대한 자세한 내용은 예제 `10-01 (Workspace) 소개.ipynb` 참고."
   ]
  },
  {
   "cell_type": "code",
   "execution_count": 2,
   "metadata": {},
   "outputs": [],
   "source": [
    "import bok_da as bd"
   ]
  },
  {
   "cell_type": "code",
   "execution_count": 3,
   "metadata": {},
   "outputs": [
    {
     "name": "stdout",
     "output_type": "stream",
     "text": [
      " Predictor |      MSE      RMSE       MAE      MAPE%      MPE%      Rsq \n",
      "-----------+-------------------------------------------------------------\n",
      "  Model 1  |\u001b[1m   .034126   .184733   .152467   3.33425   1.26523   .975938\u001b[0;0m\n",
      "  Model 2  |\u001b[1m   .166514   .408061   .341713   7.28083  -6.98591   .882591\u001b[0;0m\n",
      "  Model 3  |\u001b[1m   .016011   .126535    .09863   2.21914  -1.16216   .988711\u001b[0;0m\n",
      "\n",
      " Predictor |      MSE      RMSE       MAE      MAPE%      MPE%      Rsq \n",
      "-----------+-------------------------------------------------------------\n",
      "     0     |\u001b[1m   .034126   .184733   .152467   3.33425   1.26523   .975938\u001b[0;0m\n",
      "     1     |\u001b[1m   .166514   .408061   .341713   7.28083  -6.98591   .882591\u001b[0;0m\n",
      "     2     |\u001b[1m   .016011   .126535    .09863   2.21914  -1.16216   .988711\u001b[0;0m\n"
     ]
    }
   ],
   "source": [
    "ws = bd.Workspace()\n",
    "out = ws.col_evaluation_metrics(df.y, df.f1, df.f2, df.f3)"
   ]
  },
  {
   "cell_type": "markdown",
   "metadata": {},
   "source": [
    "## Diebold-Mariano test"
   ]
  },
  {
   "cell_type": "markdown",
   "metadata": {},
   "source": [
    "`diebold_mariano` 메서드를 이용해 DM test를 수행한다."
   ]
  },
  {
   "cell_type": "code",
   "execution_count": 4,
   "metadata": {},
   "outputs": [
    {
     "name": "stdout",
     "output_type": "stream",
     "text": [
      "Diebold-Mariano tests with \n",
      "  alternative = \u001b[1mtwo_sided\u001b[0;0m, horizon = \u001b[1m1        \u001b[0;0m, power = \u001b[1m2        \u001b[0;0m\n",
      "-----------------------------------------------\n",
      " DM test |        f1          f2          f3   \n",
      "---------+-------------------------------------\n",
      "      f1 | \u001b[1m             -2.39329**   1.17095   \u001b[0;0m\n",
      "      f2 | \u001b[1m  2.39329**               2.49445** \u001b[0;0m\n",
      "      f3 | \u001b[1m -1.17095    -2.49445**             \u001b[0;0m\n",
      "-----------------------------------------------\n",
      "note. ***p<0.01, **p<0.05, *p<0.10\n",
      "\n",
      "Diebold-Mariano tests with \n",
      "  alternative = \u001b[1mtwo_sided\u001b[0;0m  horizon = \u001b[1m1        \u001b[0;0m  power = \u001b[1m2        \u001b[0;0m\n",
      "-----------------------------------------------\n",
      " DM test |        f1          f2          f3   \n",
      "---------+-------------------------------------\n",
      "      f1 | \u001b[1m             -2.39329**   1.17095   \u001b[0;0m\n",
      "      f2 | \u001b[1m  2.39329**               2.49445** \u001b[0;0m\n",
      "      f3 | \u001b[1m -1.17095    -2.49445**             \u001b[0;0m\n",
      "-----------------------------------------------\n",
      "note. ***p<0.01, **p<0.05, *p<0.10\n"
     ]
    }
   ],
   "source": [
    "dm = ws.diebold_mariano(df.y, df.f1, df.f2, df.f3, verbose=True)"
   ]
  },
  {
   "cell_type": "markdown",
   "metadata": {},
   "source": [
    "## Clark-West test"
   ]
  },
  {
   "cell_type": "markdown",
   "metadata": {},
   "source": [
    "`clark_west` 메서드를 이용해 CW test를 수행한다."
   ]
  },
  {
   "cell_type": "code",
   "execution_count": 5,
   "metadata": {},
   "outputs": [
    {
     "name": "stdout",
     "output_type": "stream",
     "text": [
      "Clark-West tests\n",
      "-----------------------------------------------\n",
      " CW test |        f1          f2          f3   \n",
      "---------+-------------------------------------\n",
      "      f1 | \u001b[1m              1.95896**   2.06201** \u001b[0;0m\n",
      "      f2 | \u001b[1m  2.65164***              2.70339***\u001b[0;0m\n",
      "      f3 | \u001b[1m  2.47051*** -.879912               \u001b[0;0m\n",
      "-----------------------------------------------\n",
      "note. ***p<0.01, **p<0.05, *p<0.10\n",
      "\n",
      "Clark-West tests\n",
      "-----------------------------------------------\n",
      " CW test |        f1          f2          f3   \n",
      "---------+-------------------------------------\n",
      "      f1 | \u001b[1m              1.95896**   2.06201** \u001b[0;0m\n",
      "      f2 | \u001b[1m  2.65164***              2.70339***\u001b[0;0m\n",
      "      f3 | \u001b[1m  2.47051*** -.879912               \u001b[0;0m\n",
      "-----------------------------------------------\n",
      "note. ***p<0.01, **p<0.05, *p<0.10\n"
     ]
    }
   ],
   "source": [
    "cw = ws.clark_west(df.y, df.f1, df.f2, df.f3)"
   ]
  }
 ],
 "metadata": {
  "kernelspec": {
   "display_name": "bok_da_test_py312",
   "language": "python",
   "name": "python3"
  },
  "language_info": {
   "codemirror_mode": {
    "name": "ipython",
    "version": 3
   },
   "file_extension": ".py",
   "mimetype": "text/x-python",
   "name": "python",
   "nbconvert_exporter": "python",
   "pygments_lexer": "ipython3",
   "version": "3.12.9"
  }
 },
 "nbformat": 4,
 "nbformat_minor": 4
}
