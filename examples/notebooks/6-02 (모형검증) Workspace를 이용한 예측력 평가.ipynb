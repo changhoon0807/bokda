{
 "cells": [
  {
   "cell_type": "markdown",
   "metadata": {},
   "source": [
    "# Some Time Series Topics\n",
    "- 작성자: 고려대학교 경제학과 한치록 교수"
   ]
  },
  {
   "cell_type": "code",
   "execution_count": 1,
   "metadata": {},
   "outputs": [],
   "source": [
    "import bok_da as bd\n",
    "\n",
    "df = bd.read.xlsx('data/dmtest.xlsx')\n",
    "df = df.iloc[:, 1:]\n",
    "df.columns.values[0] = 'y'"
   ]
  },
  {
   "cell_type": "markdown",
   "metadata": {},
   "source": [
    "## Predictor performance"
   ]
  },
  {
   "cell_type": "code",
   "execution_count": 2,
   "metadata": {},
   "outputs": [
    {
     "name": "stdout",
     "output_type": "stream",
     "text": [
      "\n",
      " Predictor |      MSE      RMSE       MAE      MAPE%      MPE%      Rsq \n",
      "-----------+-------------------------------------------------------------\n",
      "     0     |\u001b[1m   .034126   .184733   .152467   3.33425   1.26523   .975938\u001b[0;0m\n",
      "     1     |\u001b[1m   .166514   .408061   .341713   7.28083  -6.98591   .882591\u001b[0;0m\n",
      "     2     |\u001b[1m   .016011   .126535    .09863   2.21914  -1.16216   .988711\u001b[0;0m\n"
     ]
    }
   ],
   "source": [
    "ws = bd.Workspace()\n",
    "out = ws.col_evaluation_metrics(df.y, df.f1, df.f2, df.f3)"
   ]
  },
  {
   "cell_type": "markdown",
   "metadata": {},
   "source": [
    "## Diebold-Mariano test"
   ]
  },
  {
   "cell_type": "code",
   "execution_count": 3,
   "metadata": {},
   "outputs": [
    {
     "name": "stdout",
     "output_type": "stream",
     "text": [
      "\n",
      "Diebold-Mariano tests with \n",
      "  alternative = \u001b[1mtwo_sided\u001b[0;0m  horizon = \u001b[1m1        \u001b[0;0m  power = \u001b[1m2        \u001b[0;0m\n",
      "-----------------------------------------------\n",
      " DM test |        f1          f2          f3   \n",
      "---------+-------------------------------------\n",
      "      f1 | \u001b[1m             -2.39329**   1.17095   \u001b[0;0m\n",
      "      f2 | \u001b[1m  2.39329**               2.49445** \u001b[0;0m\n",
      "      f3 | \u001b[1m -1.17095    -2.49445**             \u001b[0;0m\n",
      "-----------------------------------------------\n",
      "note. ***p<0.01, **p<0.05, *p<0.10\n"
     ]
    },
    {
     "name": "stderr",
     "output_type": "stream",
     "text": [
      "/home/work/modelhub/bok_library/bok_da/validation/pred_perf/forecast_evaluation.py:53: FutureWarning: The default dtype for empty Series will be 'object' instead of 'float64' in a future version. Specify a dtype explicitly to silence this warning.\n",
      "  ans = pd.Series(index=range(lag_max))\n",
      "/home/work/modelhub/bok_library/bok_da/validation/pred_perf/forecast_evaluation.py:53: FutureWarning: The default dtype for empty Series will be 'object' instead of 'float64' in a future version. Specify a dtype explicitly to silence this warning.\n",
      "  ans = pd.Series(index=range(lag_max))\n",
      "/home/work/modelhub/bok_library/bok_da/validation/pred_perf/forecast_evaluation.py:53: FutureWarning: The default dtype for empty Series will be 'object' instead of 'float64' in a future version. Specify a dtype explicitly to silence this warning.\n",
      "  ans = pd.Series(index=range(lag_max))\n"
     ]
    }
   ],
   "source": [
    "dm = ws.diebold_mariano(df.y, df.f1, df.f2, df.f3, verbose=True)"
   ]
  },
  {
   "cell_type": "markdown",
   "metadata": {},
   "source": [
    "## Clark-West test"
   ]
  },
  {
   "cell_type": "code",
   "execution_count": 4,
   "metadata": {},
   "outputs": [
    {
     "name": "stdout",
     "output_type": "stream",
     "text": [
      "\n",
      "Clark-West tests\n",
      "-----------------------------------------------\n",
      " CW test |        f1          f2          f3   \n",
      "---------+-------------------------------------\n",
      "      f1 | \u001b[1m              1.95896**   2.06201** \u001b[0;0m\n",
      "      f2 | \u001b[1m  2.65164***              2.70339***\u001b[0;0m\n",
      "      f3 | \u001b[1m  2.47051*** -.879912               \u001b[0;0m\n",
      "-----------------------------------------------\n",
      "note. ***p<0.01, **p<0.05, *p<0.10\n"
     ]
    }
   ],
   "source": [
    "cw = ws.clark_west(df.y, df.f1, df.f2, df.f3)"
   ]
  },
  {
   "cell_type": "code",
   "execution_count": null,
   "metadata": {},
   "outputs": [],
   "source": []
  }
 ],
 "metadata": {
  "kernelspec": {
   "display_name": "Python 3",
   "language": "python",
   "name": "python3"
  },
  "language_info": {
   "codemirror_mode": {
    "name": "ipython",
    "version": 3
   },
   "file_extension": ".py",
   "mimetype": "text/x-python",
   "name": "python",
   "nbconvert_exporter": "python",
   "pygments_lexer": "ipython3",
   "version": "3.9.16"
  }
 },
 "nbformat": 4,
 "nbformat_minor": 4
}
