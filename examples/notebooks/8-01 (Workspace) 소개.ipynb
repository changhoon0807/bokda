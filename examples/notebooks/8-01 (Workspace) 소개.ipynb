{
 "cells": [
  {
   "cell_type": "markdown",
   "metadata": {},
   "source": [
    "(주의) 본 매뉴얼에서 Stata 기능은 라이선스 이슈로 아직까지는 BIDAS 환경에서 사용할 수 없다. 로컬 pc 환경(내부망, 인터넷망)에서는 사용 가능하다."
   ]
  },
  {
   "cell_type": "markdown",
   "metadata": {},
   "source": [
    "# BOK Workspace\n",
    "- 작성자: 고려대학교 경제학과 한치록 교수\n",
    "\n",
    "BOK Workspace는 Stata 수준의 편리함을 python에서 구현하고자 개발된 모듈(workspace.py) 이다. 사용의 편의성과 결과의 가독성을 제고하여 사용자들의 장벽을 낮추고자 한 일종의 frontend이다. 기본적인 사용방식은 다음과 같다."
   ]
  },
  {
   "cell_type": "code",
   "execution_count": 2,
   "metadata": {},
   "outputs": [
    {
     "name": "stdout",
     "output_type": "stream",
     "text": [
      "\n",
      "Linear regression                               Number of obs     =   \u001b[1m   258.0\u001b[0;0m\n",
      "                                                F(\u001b[1m3\u001b[0;0m, \u001b[1m254\u001b[0;0m)         =   \u001b[1m  945.48\u001b[0;0m\n",
      "                                                Prob > F          =   \u001b[1m  0.0000\u001b[0;0m\n",
      "                                                R-squared         =   \u001b[1m  0.9153\u001b[0;0m\n",
      "                                                Root MSE          =   \u001b[1m  .63186\u001b[0;0m\n",
      "\n",
      "                                (Std. err. adjusted for \u001b[1m86\u001b[0;0m clusters in \u001b[1mregion\u001b[0;0m)\n",
      "------------------------------------------------------------------------------\n",
      "             |               Robust\n",
      "   deathrate | Coefficient  std. err.      t    P>|t|     [95% conf. interval]\n",
      "-------------+----------------------------------------------------------------\n",
      "       drink |  \u001b[1m .0061861\u001b[0;0m  \u001b[1m .0142559\u001b[0;0m\u001b[1m     0.43\u001b[0;0m\u001b[1m   0.664\u001b[0;0m    \u001b[1m-.0316453\u001b[0;0m   \u001b[1m .0440174\u001b[0;0m\n",
      "       smoke |  \u001b[1m .0277839\u001b[0;0m  \u001b[1m .0203644\u001b[0;0m\u001b[1m     1.36\u001b[0;0m\u001b[1m   0.172\u001b[0;0m    \u001b[1m-.0262579\u001b[0;0m   \u001b[1m .0818256\u001b[0;0m\n",
      "        aged |  \u001b[1m .3939672\u001b[0;0m  \u001b[1m .0134032\u001b[0;0m\u001b[1m    29.39\u001b[0;0m\u001b[1m   0.000\u001b[0;0m    \u001b[1m .3583987\u001b[0;0m   \u001b[1m .4295358\u001b[0;0m\n",
      "   Intercept |  \u001b[1m .4172921\u001b[0;0m  \u001b[1m .8914133\u001b[0;0m\u001b[1m     0.47\u001b[0;0m\u001b[1m   0.640\u001b[0;0m    \u001b[1m-1.948281\u001b[0;0m   \u001b[1m 2.782865\u001b[0;0m\n",
      "------------------------------------------------------------------------------\n"
     ]
    }
   ],
   "source": [
    "import bok_da as bd\n",
    "\n",
    "ws = bd.Workspace(data = 'data/Death.csv')\n",
    "reg = ws.regress('deathrate~drink+smoke+aged', vce='cl', cluster='region')"
   ]
  },
  {
   "cell_type": "markdown",
   "metadata": {},
   "source": [
    "Stata 수준의 결과가 제시되며 리턴된 `reg` object는 statsmodels의 fit 실행 결과를 그대로 담고 있으므로 메쏘드들을 사용할 수 있다."
   ]
  },
  {
   "cell_type": "code",
   "execution_count": 3,
   "metadata": {},
   "outputs": [
    {
     "name": "stdout",
     "output_type": "stream",
     "text": [
      "                            OLS Regression Results                            \n",
      "==============================================================================\n",
      "Dep. Variable:              deathrate   R-squared:                      0.9153\n",
      "Model:                            OLS   Adj. R-squared:                 0.9143\n",
      "No. Observations:                 258   F-statistic:                     945.5\n",
      "Covariance Type:              cluster   Prob (F-statistic):             0.0000\n",
      "==============================================================================\n",
      "                 coef    std err          z      P>|z|      [0.025      0.975]\n",
      "------------------------------------------------------------------------------\n",
      "Intercept     0.41729    0.89141       0.47      0.640    -1.32985     2.16443\n",
      "drink         0.00619    0.01426       0.43      0.664    -0.02176     0.03413\n",
      "smoke         0.02778    0.02036       1.36      0.172    -0.01213     0.06770\n",
      "aged          0.39397    0.01340      29.39      0.000     0.36770     0.42024\n",
      "==============================================================================\n",
      "\n",
      "Notes:\n",
      "1. Standard Errors are robust to cluster correlation (cluster)\n"
     ]
    }
   ],
   "source": [
    "print(reg.summary(slim=True))"
   ]
  },
  {
   "cell_type": "markdown",
   "metadata": {},
   "source": [
    "간편 PyStata 모듈 실행 방법도 구현하였다."
   ]
  },
  {
   "cell_type": "code",
   "execution_count": 3,
   "metadata": {},
   "outputs": [
    {
     "name": "stdout",
     "output_type": "stream",
     "text": [
      ". reg deathrate drink smoke aged, vce(cl region)\n",
      "\n",
      "Linear regression                               Number of obs     =        258\n",
      "                                                F(3, 85)          =     945.48\n",
      "                                                Prob > F          =     0.0000\n",
      "                                                R-squared         =     0.9153\n",
      "                                                Root MSE          =     .63186\n",
      "\n",
      "                                (Std. err. adjusted for 86 clusters in region)\n",
      "------------------------------------------------------------------------------\n",
      "             |               Robust\n",
      "   deathrate | Coefficient  std. err.      t    P>|t|     [95% conf. interval]\n",
      "-------------+----------------------------------------------------------------\n",
      "       drink |   .0061861   .0142559     0.43   0.665    -.0221585    .0345306\n",
      "       smoke |   .0277839   .0203644     1.36   0.176     -.012706    .0682738\n",
      "        aged |   .3939672   .0134032    29.39   0.000     .3673181    .4206164\n",
      "       _cons |   .4172921   .8914133     0.47   0.641    -1.355076    2.189661\n",
      "------------------------------------------------------------------------------\n"
     ]
    }
   ],
   "source": [
    "# ws.set_stata('/Applications/Stata', 'mp', splash=False)\n",
    "# ws.stata.use(ws.data, force = True)\n",
    "# ws.stata.run('reg deathrate drink smoke aged, vce(cl region)')"
   ]
  },
  {
   "cell_type": "markdown",
   "metadata": {},
   "source": [
    "결과는 다음 방식으로 리턴할 수 있다."
   ]
  },
  {
   "cell_type": "code",
   "execution_count": 4,
   "metadata": {},
   "outputs": [
    {
     "data": {
      "text/html": [
       "<div>\n",
       "<style scoped>\n",
       "    .dataframe tbody tr th:only-of-type {\n",
       "        vertical-align: middle;\n",
       "    }\n",
       "\n",
       "    .dataframe tbody tr th {\n",
       "        vertical-align: top;\n",
       "    }\n",
       "\n",
       "    .dataframe thead th {\n",
       "        text-align: right;\n",
       "    }\n",
       "</style>\n",
       "<table border=\"1\" class=\"dataframe\">\n",
       "  <thead>\n",
       "    <tr style=\"text-align: right;\">\n",
       "      <th></th>\n",
       "      <th>drink</th>\n",
       "      <th>smoke</th>\n",
       "      <th>aged</th>\n",
       "      <th>_cons</th>\n",
       "    </tr>\n",
       "  </thead>\n",
       "  <tbody>\n",
       "    <tr>\n",
       "      <th>0</th>\n",
       "      <td>0.006186</td>\n",
       "      <td>0.027784</td>\n",
       "      <td>0.393967</td>\n",
       "      <td>0.417292</td>\n",
       "    </tr>\n",
       "  </tbody>\n",
       "</table>\n",
       "</div>"
      ],
      "text/plain": [
       "      drink     smoke      aged     _cons\n",
       "0  0.006186  0.027784  0.393967  0.417292"
      ]
     },
     "execution_count": 4,
     "metadata": {},
     "output_type": "execute_result"
    }
   ],
   "source": [
    "# b = ws.stata.get_b()\n",
    "# b"
   ]
  },
  {
   "cell_type": "markdown",
   "metadata": {},
   "source": [
    "현재 버전에서 다음이 구현되어 있다.\n",
    "\n",
    "* regress (OLS, WLS)\n",
    "* ivregress (2SLS, LIML)\n",
    "* eval_forecasts\n",
    "* dm_test (Diebold-Mariano test)\n",
    "* cw_test (Clark-West test)"
   ]
  }
 ],
 "metadata": {
  "kernelspec": {
   "display_name": "Python 3",
   "language": "python",
   "name": "python3"
  },
  "language_info": {
   "codemirror_mode": {
    "name": "ipython",
    "version": 3
   },
   "file_extension": ".py",
   "mimetype": "text/x-python",
   "name": "python",
   "nbconvert_exporter": "python",
   "pygments_lexer": "ipython3",
   "version": "3.9.16"
  }
 },
 "nbformat": 4,
 "nbformat_minor": 4
}
