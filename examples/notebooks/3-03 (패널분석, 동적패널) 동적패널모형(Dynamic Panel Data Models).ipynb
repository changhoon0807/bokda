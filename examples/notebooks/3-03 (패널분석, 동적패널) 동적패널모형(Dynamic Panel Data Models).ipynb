{
 "cells": [
  {
   "cell_type": "markdown",
   "metadata": {},
   "source": [
    "# 동적 패널 모형\n",
    "- 작성자: 고려대학교 경제학과 한치록 교수\n",
    "\n",
    "동적 패널 모형의 추정은 Stata를 제외하고는 만족스러운 정도로 구현되어 있지 않다. Stata 인터페이스를 사용하기 바란다. 자세한 내용은 Stata에 관한 설명 참조. 예를 들어 System GMM은 다음과 같이 구현할 수 있다."
   ]
  },
  {
   "cell_type": "markdown",
   "metadata": {},
   "source": [
    "#### **(주의) 본 매뉴얼에서 Stata 기능은 라이선스 이슈로 아직까지는 BIDAS 환경에서 사용할 수 없다. 매뉴얼에서 stata 관련 코드는 주석처리하였다. 로컬환경(내부망, 인터넷망)에서 활용하는 경우 주석해제 하여 사용할 수 있다.**"
   ]
  },
  {
   "cell_type": "code",
   "execution_count": 1,
   "metadata": {},
   "outputs": [],
   "source": [
    "import bok_da\n",
    "from bok_da.stata import Stata"
   ]
  },
  {
   "cell_type": "code",
   "execution_count": 1,
   "metadata": {},
   "outputs": [
    {
     "name": "stdout",
     "output_type": "stream",
     "text": [
      ". use abdata, clear\n",
      ". xtdpdsys n l(0/1).w l(0/2).(k ys) yr1980-yr1984, lags(2) twostep vce(robust)\n",
      "\n",
      "System dynamic panel-data estimation            Number of obs     =        751\n",
      "Group variable: id                              Number of groups  =        140\n",
      "Time variable: year\n",
      "                                                Obs per group:\n",
      "                                                              min =          5\n",
      "                                                              avg =   5.364286\n",
      "                                                              max =          7\n",
      "\n",
      "Number of instruments =     48                  Wald chi2(15)     =    1449.65\n",
      "                                                Prob > chi2       =     0.0000\n",
      "Two-step results\n",
      "------------------------------------------------------------------------------\n",
      "             |              WC-robust\n",
      "           n | Coefficient  std. err.      z    P>|z|     [95% conf. interval]\n",
      "-------------+----------------------------------------------------------------\n",
      "           n |\n",
      "         L1. |   .9767449   .1418081     6.89   0.000     .6988061    1.254684\n",
      "         L2. |  -.0836652   .0419231    -2.00   0.046     -.165833   -.0014975\n",
      "             |\n",
      "           w |\n",
      "         --. |  -.5631217    .151118    -3.73   0.000    -.8593075   -.2669358\n",
      "         L1. |   .5673231   .2123546     2.67   0.008     .1511158    .9835304\n",
      "             |\n",
      "           k |\n",
      "         --. |   .2849277   .0668521     4.26   0.000     .1539001    .4159554\n",
      "         L1. |  -.0876075   .0871276    -1.01   0.315    -.2583744    .0831595\n",
      "         L2. |  -.0961451   .0433443    -2.22   0.027    -.1810984   -.0111919\n",
      "             |\n",
      "          ys |\n",
      "         --. |   .6138593   .1781104     3.45   0.001     .2647694    .9629491\n",
      "         L1. |   -.765499   .2470081    -3.10   0.002    -1.249626   -.2813719\n",
      "         L2. |   .1140538   .1725595     0.66   0.509    -.2241566    .4522641\n",
      "             |\n",
      "      yr1980 |    .009473   .0168233     0.56   0.573    -.0235001    .0424461\n",
      "      yr1981 |  -.0248051   .0296342    -0.84   0.403    -.0828871    .0332768\n",
      "      yr1982 |  -.0303709   .0327228    -0.93   0.353    -.0945064    .0337646\n",
      "      yr1983 |  -.0097145   .0363711    -0.27   0.789    -.0810005    .0615715\n",
      "      yr1984 |  -.0214451   .0348021    -0.62   0.538     -.089656    .0467658\n",
      "       _cons |   .3246957   .6640236     0.49   0.625    -.9767666    1.626158\n",
      "------------------------------------------------------------------------------\n",
      "Instruments for differenced equation\n",
      "        GMM-type: L(2/.).n\n",
      "        Standard: D.w LD.w D.k LD.k L2D.k D.ys LD.ys L2D.ys D.yr1980\n",
      "                  D.yr1981 D.yr1982 D.yr1983 D.yr1984\n",
      "Instruments for level equation\n",
      "        GMM-type: LD.n\n",
      "        Standard: _cons\n"
     ]
    }
   ],
   "source": [
    "# stata = Stata('/Applications/Stata', 'mp')\n",
    "# stata.get_ready() # we need this\n",
    "# stata.run('use abdata, clear')\n",
    "# stata.run('xtdpdsys n l(0/1).w l(0/2).(k ys) yr1980-yr1984, lags(2) twostep vce(robust)')"
   ]
  },
  {
   "cell_type": "markdown",
   "metadata": {},
   "source": [
    "실행 결과는 다음과 같이 불러올 수 있다."
   ]
  },
  {
   "cell_type": "code",
   "execution_count": 2,
   "metadata": {},
   "outputs": [],
   "source": [
    "# eret = stata.ereturn\n",
    "# myret = stata.returns  # myret.e, myret.r, myret.s"
   ]
  },
  {
   "cell_type": "code",
   "execution_count": 3,
   "metadata": {},
   "outputs": [
    {
     "data": {
      "text/plain": [
       "(15.0, 140.0)"
      ]
     },
     "execution_count": 3,
     "metadata": {},
     "output_type": "execute_result"
    }
   ],
   "source": [
    "# myret.e['df_m'], myret.e['N_g']"
   ]
  },
  {
   "cell_type": "code",
   "execution_count": 4,
   "metadata": {},
   "outputs": [
    {
     "data": {
      "text/plain": [
       "dict_keys(['rank', 'sig2', 'rss', 'N', 'N_g', 'g_min', 'g_max', 'g_avg', 't_min', 't_max', 'chi2', 'df_m', 'zrank', 'artests', 'arm1', 'arm2', 'cmdline', 'cmd', 'engine', 'estat_cmd', 'marginsok', 'predict', 'depvar', 'transform', 'hascons', 'tvar', 'ivar', 'lgmmiv_lag', 'lgmmiv_vars', 'dgmmiv_llag', 'dgmmiv_flag', 'dgmmiv_vars', 'liv_olvars', 'div_odvars', 'datasignaturevars', 'datasignature', 'system', 'vce', 'vcetype', 'twostep', 'properties', 'b', 'V', 'labels'])"
      ]
     },
     "execution_count": 4,
     "metadata": {},
     "output_type": "execute_result"
    }
   ],
   "source": [
    "# myret.e.keys()"
   ]
  }
 ],
 "metadata": {
  "kernelspec": {
   "display_name": "Python 3",
   "language": "python",
   "name": "python3"
  },
  "language_info": {
   "codemirror_mode": {
    "name": "ipython",
    "version": 3
   },
   "file_extension": ".py",
   "mimetype": "text/x-python",
   "name": "python",
   "nbconvert_exporter": "python",
   "pygments_lexer": "ipython3",
   "version": "3.9.16"
  }
 },
 "nbformat": 4,
 "nbformat_minor": 4
}
