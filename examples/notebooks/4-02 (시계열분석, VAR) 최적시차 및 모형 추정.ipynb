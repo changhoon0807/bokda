{
 "cells": [
  {
   "cell_type": "code",
   "execution_count": 1,
   "id": "0e897e4d-e5c6-4eb5-a079-5ddb2af7d65c",
   "metadata": {},
   "outputs": [],
   "source": [
    "# 라이브러리 호출\n",
    "import pandas as pd"
   ]
  },
  {
   "cell_type": "markdown",
   "id": "1665c560-2335-4993-a1eb-85d05512b0e4",
   "metadata": {
    "tags": []
   },
   "source": [
    "#### 본 사용자 매뉴얼에서는 VAR 모형과 추정에 대한 기본적인 내용을 다룬다.\n",
    "- 최적시차 설정\n",
    "- 축약형 VAR 모형 추정"
   ]
  },
  {
   "cell_type": "markdown",
   "id": "27aa4bf2-73d2-43d1-ab9b-643540344214",
   "metadata": {},
   "source": [
    "## 1. 데이터 불러오기\n",
    "- 작성자: 고려대학교 경제학과 강규호 교수, 데이터사이언스팀 이창훈 과장\n",
    "\n",
    "데이터는 한국의 전기대비 실질 GDP 성장률, CD91일 금리, 인플레이션율 소비자 가격 지수 (Consumer Price Index, CPI), CD91일 금리로 1999년 4분기부터 2023년 4분끼지의 분기별 자료이다. 해당 데이터는 ECOS (https://ecos.bok.or.kr/#/)에서 다운로드 받았으며 컴퓨터에 \"python_data.xlsx\"라는 이름의 엑셀파일의 \"KORmacro\"라는 시트에 저장되어 있다. 이때, 인플레이션율의 경우 소비자 가격 지수 (Consumer Price Index, CPI)의 전년동기대비 차분 (YoY)을 통해 미리 변환한 것이다."
   ]
  },
  {
   "cell_type": "markdown",
   "id": "1cb6f985-eae2-44ce-9829-b99cc13c01fe",
   "metadata": {},
   "source": [
    "`data` 폴더에서 `python_data.xlsx`를 불러온 후 파이썬 표준 자료형인 `pandas.DataFrame`으로 전처리를 수행한다. `DataFrame`은 테이블 형태의 데이터의 행(날짜)과 열(변수명) 정보를 가지고 있어, 행렬이나 벡터형태로 분석하는 것보다 유용하다. `df`라는 이름으로 할당하는 것이 일반적이다. 데이터프레임에 익숙하지 않은 경우 아래 셀의 코드를 줄별로 여러 셀로 나누어 실행해보는 것을 추천한다. 원천기관에서 raw 데이터를 불러오고 전처리하는 과정이 복잡해 보일 수 있지만, 한번 해두면 크게 코드를 수정할 필요없이 새로운 데이터에 대해서도 분석 가능한 형태로 전처리 할 수 있기 때문에 장기적으로 효율적인 방법이다."
   ]
  },
  {
   "cell_type": "code",
   "execution_count": 3,
   "id": "e00d80dd-9fdc-497e-ac5e-b8abde2224dd",
   "metadata": {},
   "outputs": [
    {
     "name": "stderr",
     "output_type": "stream",
     "text": [
      "C:\\Users\\BOK\\AppData\\Local\\Temp\\ipykernel_118520\\1441099652.py:5: UserWarning: Could not infer format, so each element will be parsed individually, falling back to `dateutil`. To ensure parsing is consistent and as-expected, please specify a format.\n",
      "  df.index = pd.to_datetime(df.index) + pd.offsets.QuarterEnd(0) # 인덱스(행)를 날짜로 인식하도록 변환한다.\n"
     ]
    },
    {
     "data": {
      "text/html": [
       "<div>\n",
       "<style scoped>\n",
       "    .dataframe tbody tr th:only-of-type {\n",
       "        vertical-align: middle;\n",
       "    }\n",
       "\n",
       "    .dataframe tbody tr th {\n",
       "        vertical-align: top;\n",
       "    }\n",
       "\n",
       "    .dataframe thead th {\n",
       "        text-align: right;\n",
       "    }\n",
       "</style>\n",
       "<table border=\"1\" class=\"dataframe\">\n",
       "  <thead>\n",
       "    <tr style=\"text-align: right;\">\n",
       "      <th></th>\n",
       "      <th>inf</th>\n",
       "      <th>rgdp</th>\n",
       "      <th>cd91</th>\n",
       "    </tr>\n",
       "  </thead>\n",
       "  <tbody>\n",
       "    <tr>\n",
       "      <th>2000-12-31</th>\n",
       "      <td>2.508257</td>\n",
       "      <td>-0.3</td>\n",
       "      <td>6.97</td>\n",
       "    </tr>\n",
       "    <tr>\n",
       "      <th>2001-03-31</th>\n",
       "      <td>3.627876</td>\n",
       "      <td>1.2</td>\n",
       "      <td>5.95</td>\n",
       "    </tr>\n",
       "    <tr>\n",
       "      <th>2001-06-30</th>\n",
       "      <td>4.919778</td>\n",
       "      <td>1.3</td>\n",
       "      <td>5.78</td>\n",
       "    </tr>\n",
       "    <tr>\n",
       "      <th>2001-09-30</th>\n",
       "      <td>4.158456</td>\n",
       "      <td>1.4</td>\n",
       "      <td>4.97</td>\n",
       "    </tr>\n",
       "    <tr>\n",
       "      <th>2001-12-31</th>\n",
       "      <td>3.244327</td>\n",
       "      <td>1.8</td>\n",
       "      <td>4.58</td>\n",
       "    </tr>\n",
       "    <tr>\n",
       "      <th>...</th>\n",
       "      <td>...</td>\n",
       "      <td>...</td>\n",
       "      <td>...</td>\n",
       "    </tr>\n",
       "    <tr>\n",
       "      <th>2022-12-31</th>\n",
       "      <td>5.083054</td>\n",
       "      <td>-0.3</td>\n",
       "      <td>3.91</td>\n",
       "    </tr>\n",
       "    <tr>\n",
       "      <th>2023-03-31</th>\n",
       "      <td>4.496285</td>\n",
       "      <td>0.3</td>\n",
       "      <td>3.64</td>\n",
       "    </tr>\n",
       "    <tr>\n",
       "      <th>2023-06-30</th>\n",
       "      <td>3.212650</td>\n",
       "      <td>0.6</td>\n",
       "      <td>3.63</td>\n",
       "    </tr>\n",
       "    <tr>\n",
       "      <th>2023-09-30</th>\n",
       "      <td>3.079117</td>\n",
       "      <td>0.6</td>\n",
       "      <td>3.74</td>\n",
       "    </tr>\n",
       "    <tr>\n",
       "      <th>2023-12-31</th>\n",
       "      <td>3.351061</td>\n",
       "      <td>0.6</td>\n",
       "      <td>3.83</td>\n",
       "    </tr>\n",
       "  </tbody>\n",
       "</table>\n",
       "<p>93 rows × 3 columns</p>\n",
       "</div>"
      ],
      "text/plain": [
       "                 inf  rgdp  cd91\n",
       "2000-12-31  2.508257  -0.3  6.97\n",
       "2001-03-31  3.627876   1.2  5.95\n",
       "2001-06-30  4.919778   1.3  5.78\n",
       "2001-09-30  4.158456   1.4  4.97\n",
       "2001-12-31  3.244327   1.8  4.58\n",
       "...              ...   ...   ...\n",
       "2022-12-31  5.083054  -0.3  3.91\n",
       "2023-03-31  4.496285   0.3  3.64\n",
       "2023-06-30  3.212650   0.6  3.63\n",
       "2023-09-30  3.079117   0.6  3.74\n",
       "2023-12-31  3.351061   0.6  3.83\n",
       "\n",
       "[93 rows x 3 columns]"
      ]
     },
     "execution_count": 3,
     "metadata": {},
     "output_type": "execute_result"
    }
   ],
   "source": [
    "df = pd.read_excel('../data/python_data.xlsx', sheet_name='KORmacro') # 데이터 엑셀파일 불러오기\n",
    "df = df.set_index('date') # date 명의 열을 인덱스로 지정한다.\n",
    "df.index.name = None # 인덱스 이름 date를 제거한다.\n",
    "df.index = df.index.str.replace('/', '-') # 2000/03 형식을 pandas가 날짜로 인식하도록 2000-3형식으로 변환한다.\n",
    "df.index = pd.to_datetime(df.index) + pd.offsets.QuarterEnd(0) # 인덱스(행)를 날짜로 인식하도록 변환한다.\n",
    "df.index.freq = pd.offsets.QuarterEnd() # 인덱스의 frequency를 분기말(2000-03-31)로 설정한다.\n",
    "column_order = ['inf', 'rgdp', 'cd91'] # df의 열 순서를 리스트로 미리 할당\n",
    "df = df[column_order] # df의 열 순서를 column_order에 맞게 변경\n",
    "df"
   ]
  },
  {
   "cell_type": "markdown",
   "id": "86e1348f-8783-4e96-a277-af210cf5c462",
   "metadata": {},
   "source": [
    "## 2. VAR 모형의 최적 시차 결정\n",
    "\n",
    "`bok_da` 라이브러리 시계열분석 패키지(`ts`)의 VAR모형 서브패키지(`var`)에 있는 `order_var`함수를 사용하면 VAR 모형의 최적 시차를 추정 할 수 있다."
   ]
  },
  {
   "cell_type": "markdown",
   "id": "c8fc0237-166c-4990-b1c7-2a9436301283",
   "metadata": {},
   "source": [
    "#### (예시)\n",
    "위에서 불러온 df는 분기별 데이터로 구성되어 있기 때문에 VAR 모형의 예상 최대 시차를 lag_max=4이라고 가정한다. 참고로 함수 인자에 verbose=Fasle로 설정하는 경우, 분석 결과를 출력하지 않는다."
   ]
  },
  {
   "cell_type": "markdown",
   "id": "e4678c43-99a0-4941-871a-e249ed0bffc2",
   "metadata": {},
   "source": [
    "함수를 사용할 때, `bd.ts.var.order_var`과 같이 사용하는 방법외에 `var` 모듈에서 `order_var` 함수를 미리 불러온 뒤에 사용할 수도 있다. 같은 함수를 여러번 사용하는 경우 이렇게 사용하는 방식이 편하다. "
   ]
  },
  {
   "cell_type": "code",
   "execution_count": 4,
   "id": "43aa60b2-d441-47cc-bf92-26d6e44a79c8",
   "metadata": {},
   "outputs": [
    {
     "name": "stdout",
     "output_type": "stream",
     "text": [
      "   \n",
      " VAR Order Selected by Sequential testing =  2\n",
      " VAR Order Selected by AIC =                 2\n",
      " VAR Order Selected by BIC =                 2\n",
      " VAR Order Selected by HQ =                  2\n"
     ]
    }
   ],
   "source": [
    "from bok_da.ts.var import order_var\n",
    "lag = order_var(df, lag_max=4, verbose=True)"
   ]
  },
  {
   "cell_type": "markdown",
   "id": "07533cf6-d3dd-4f32-80c5-6b6e97d64b86",
   "metadata": {},
   "source": [
    "아래 코드와 같이 lag 인스턴스의 description 프로퍼티를 이용해 결과물에 대한 설명을 볼 수있다."
   ]
  },
  {
   "cell_type": "code",
   "execution_count": 5,
   "id": "43d49dd2-6b2a-4434-bec7-0a00ab16da4d",
   "metadata": {},
   "outputs": [
    {
     "name": "stdout",
     "output_type": "stream",
     "text": [
      "seq = 순차적 검정으로 추정된 VAR(p) 모형의 최적 시차\n",
      "aic = Akaike 정보기준 (AIC)로 추정된 VAR(p) 모형의 최적 시차\n",
      "bic = Bayesian 정보기준 (BIC)로 추정된 VAR(p) 모형의 최적 시차\n",
      "hq = Hannan-Quinn 정보기준 HQIC)로 추정된 VAR(p) 모형의 최적 시차\n",
      "aic_value = AIC 값\n",
      "bic_value = AIC 값\n",
      "hq_value = AIC 값\n",
      "\n"
     ]
    }
   ],
   "source": [
    "print(lag.description)"
   ]
  },
  {
   "cell_type": "markdown",
   "id": "e576c3ba-e11a-4cf7-93ea-fefbd3a7fff5",
   "metadata": {},
   "source": [
    "lag 인스턴스를 이용해 추정결과를 보는 방법은 lag.bic, lag.bic_value를 실행하면된다"
   ]
  },
  {
   "cell_type": "code",
   "execution_count": 6,
   "id": "191fcfbd-d073-4e53-a4c8-74d0b295fbbb",
   "metadata": {},
   "outputs": [
    {
     "name": "stdout",
     "output_type": "stream",
     "text": [
      "2\n"
     ]
    }
   ],
   "source": [
    "print(lag.bic)"
   ]
  },
  {
   "cell_type": "code",
   "execution_count": 7,
   "id": "510d4022-58b9-48d3-91c6-568c1488cf79",
   "metadata": {},
   "outputs": [
    {
     "name": "stdout",
     "output_type": "stream",
     "text": [
      "[[-3.29722326]]\n"
     ]
    }
   ],
   "source": [
    "print(lag.bic_value)"
   ]
  },
  {
   "cell_type": "markdown",
   "id": "5f3215f9-eb7c-4a62-87b8-c9c54cf9aae5",
   "metadata": {},
   "source": [
    "추정 결과, 모든 검정 결과가 VAR 모형의 최적시차를 $\\hat{p}=2$로 추정하고 있다는 것을 확인할 수 있다. 이런 경우는 특수한 경우로 보통 네 가지 결과는 각기 다른 값을 추정하는 것이 일반적이다. 예를 들어, lag_max=8의 경우 다음과 같은 추정 결과를 얻을 수 있다."
   ]
  },
  {
   "cell_type": "code",
   "execution_count": 8,
   "id": "3858fc0a-8208-4aea-9f01-334497312b9b",
   "metadata": {},
   "outputs": [
    {
     "name": "stdout",
     "output_type": "stream",
     "text": [
      "   \n",
      " VAR Order Selected by Sequential testing =  8\n",
      " VAR Order Selected by AIC =                 8\n",
      " VAR Order Selected by BIC =                 1\n",
      " VAR Order Selected by HQ =                  2\n"
     ]
    }
   ],
   "source": [
    "lag = order_var(df, lag_max=8, verbose=True)"
   ]
  },
  {
   "cell_type": "markdown",
   "id": "1047d305-7954-4048-8c59-350539a716ba",
   "metadata": {},
   "source": [
    "위와 같이 각 검정이 다른 결과를 가르킬 경우 각 방법의 장단점을 연구자가 고려하여 택일할 필요가 있다. 우선, 순차적 검정은 실제로 참인 귀무가설을 잘못 기각하는 과대 식별 (over-specification)의 확률이 존재한다. 즉, 귀무가설을 기각하지 못하고 시차를 낮추어 다시 검정해야하는 경우임에도 귀무가설을 잘못하여 기각하고 순차적 검정을 멈추는 문제가 발생할 수 있다.\n",
    "\n",
    "다음으로, 정보 기준 관련해서 일치성 (consistency)이 성립하는 BIC나 HQ와 달리 AIC는 inconsistent하여 VAR 모형의 시차를 과대 식별할 수 있다는 한계가 존재한다. 어떤 시차를 사용하든 유사한 결과가 도출되는 경우가 가장 이상적이지만, 만약 네 가지 결과값이 다르다면 BIC 또는 HQ에서 추정된 최적 시차를 사용하는 할 것을 권한다."
   ]
  },
  {
   "cell_type": "markdown",
   "id": "6fad7e3e-1abb-4b6a-9575-9d2d8e900add",
   "metadata": {},
   "source": [
    "## 3. 축약형 VAR 모형 추정\n",
    "\n",
    "#### (참고) 축약형 VAR 모형\n",
    "VAR 모형은 아래와 같이 내생변수들 사이의 관계를 나타내는 구조 VAR 모형 (structural-form VAR model)\n",
    "$\\begin{align}\n",
    "    & B_{0}y_{t} = B_{1}y_{t-1} + \\cdots + B_{p}y_{t-p}+e_{t} \\notag \\\\\n",
    "    & \\iff B(L)y_{t} = e_{t}\\text{ where }e_{t}\\sim WN(0,\\Omega) \\notag\n",
    "\\end{align}$\n",
    "과 내생변수를 외생변수들로 나타내는 축약형 VAR 모형 (reduced-form VAR model)\n",
    "$\\begin{align}\n",
    "    & y_{t} = A_{1}y_{t-1} + \\cdots + A_{p}y_{t-p} + u_{t} \\notag \\\\\n",
    "    & \\iff A(L)y_{t} = u_{t}\\text{ where }u_{t}\\sim WN(0,\\Sigma) \\notag\n",
    "\\end{align}$\n",
    "로 나타낼 수 있다. 이때, 구조 충격 $e_{t}$의 분산 $\\Omega$는 대각행렬이며, 축약형 VAR 모형은 구조형 VAR 모형 전체에 $B_{0}^{-1}$을 곱한 형태이기 때문에 축약형 충격 $u_{t}$의 분산인 $\\Sigma$는 반드시 대각행렬이 되지 않는다.\n",
    "\n",
    "두 형태 중에서 VAR 모형을 사용한 시계열 분석의 목적이 되는 형태는 구조형 VAR 모형이다. 하지만 구조형 VAR 모형은 시스템을 구성하는 각 식 별로 특정 내생변수를 구성하는 다른 내생변수들이 오차항과 연관된 내생성 문제가 존재한다는 한계가 있다. 따라서 일반적으로 VAR 모형을 사용하는 연구자는 축약형 VAR 모형을 추정하고, 경제학적인 이론에 기반하여 구조형 모형을 식별하는 방법을 선택한다. 이때, 축약형 VAR 모형의 각 방정식은 내생변수가 없고 모두 동일한 설명변수(각 시점의 자기회귀항)를 사용하기 때문에, Seemingly Unrelated Regressions-GLS로 효율을 높이려 해도 OLS와 결과가 같다(Hamilton (1994)). 따라서 GLS 방법이 아닌 OLS 방법을 사용하여 추정하여도 충분하다.\n",
    "\n",
    "축약형 VAR 모형의 내생변수 $y_{t}$가 $k$개의 변수로 구성된 다음과 같은 벡터라고 하자.\n",
    "$\\begin{equation}\n",
    "    y_{t} = \\begin{pmatrix}\n",
    "    y_{1t} \\\\\n",
    "    \\vdots \\\\\n",
    "    y_{kt}\n",
    "    \\end{pmatrix} \\notag\n",
    "\\end{equation}$\n",
    "이 경우 축약형 VAR 모형은 다음과 같은 선형회귀 모형으로 표현할 수 있다.\n",
    "$\\begin{align}\n",
    "    & \\underbrace{y_{t}}_{k\\times 1} = \\underbrace{v}_{k\\times 1} + \\underbrace{A_{1}}_{k\\times k}\\underbrace{y_{t-1}}_{k\\times 1} + \\cdots + \\underbrace{A_{p}}_{k\\times k}\\underbrace{y_{t-p}}_{k\\times 1} + \\underbrace{u_{t}}_{k\\times 1} \\notag \\\\\n",
    "    & \\Rightarrow y_{t}^{\\prime} = v^{\\prime} + y_{t-1}^{\\prime}A_{1}^{\\prime} + \\cdots + y_{t-p}^{\\prime}A_{p}^{\\prime} + u_{t}^{\\prime} \\notag \\\\\n",
    "    & \\Rightarrow y_{t}^{\\prime} = (1, y_{t-1}^{\\prime},\\cdots,y_{t-p}^{\\prime})\\begin{pmatrix}\n",
    "        v^{\\prime} \\\\\n",
    "        A_{1}^{\\prime} \\\\\n",
    "        \\vdots \\\\\n",
    "        A_{p}^{\\prime}\n",
    "    \\end{pmatrix} + u_{t}^{\\prime} \\notag \\\\\n",
    "    & \\Rightarrow y_{t}^{\\prime} = Z_{t}^{\\prime}B + u_{t}^{\\prime} \\notag\n",
    "\\end{align}$\n",
    "위 식을 각 $t=p+1,\\cdots,T$까지의 시기에 대해 쌓아올린다면 다음과 같이 표현할 수 있다.\n",
    "$\\begin{align}\n",
    "    & \\Rightarrow \\begin{pmatrix}\n",
    "        y_{p+1}^{\\prime} \\\\\n",
    "        \\vdots \\\\\n",
    "        y_{T}^{\\prime}\n",
    "    \\end{pmatrix} = \\begin{pmatrix}\n",
    "        1 & y_{p}^{\\prime} & \\cdots & y_{1}^{\\prime} \\\\\n",
    "        \\vdots & \\vdots & \\ddots & \\vdots \\\\\n",
    "        1 & y_{T-1}^{\\prime} & \\cdots & y_{T-p}^{\\prime}\n",
    "    \\end{pmatrix}B  + \\begin{pmatrix}\n",
    "        u_{p+1}^{\\prime} \\\\\n",
    "        \\vdots \\\\\n",
    "        u_{T}^{\\prime}\n",
    "    \\end{pmatrix} \\notag \\\\\n",
    "    & \\Rightarrow Y = Z\\cdot B + U\\text{ where }Z = \\begin{pmatrix}\n",
    "        Z_{p+1}^{\\prime} \\\\\n",
    "        \\vdots \\\\\n",
    "        Z_{T}^{\\prime}\n",
    "    \\end{pmatrix} \\notag\n",
    "\\end{align}$\n",
    "따라서, OLS 추정량인 $\\hat{B}$는 다음과 같이 각 식에 대한 OLS 추정량을 모아놓은 벡터가 된다.\n",
    "$\\begin{align}\n",
    "    \\hat{B} & = (Z^{\\prime}Z)^{-1}Z^{\\prime}Y \\notag \\\\\n",
    "    & = [(Z_{1}^{\\prime}Z_{1})^{-1}Z_{1}^{\\prime}Y_{1},\\cdots,(Z_{k}^{\\prime}Z_{k})^{-1}Z_{k}^{\\prime}Y_{k}] \\notag \\\\\n",
    "    & = [\\hat{\\beta}_{1},\\cdots,\\hat{\\beta}_{k}] \\notag\n",
    "\\end{align}$\n",
    "나아가 선형회귀 식의 잔차는\n",
    "$\\begin{equation}\n",
    "    \\hat{U} = Y - Z\\cdot\\hat{B} \\notag\n",
    "\\end{equation}$\n",
    "으로 도출할 수 있기 때문에, 분산-공분산 행렬에 대한 추정량은 다음과 같다.\n",
    "$\\begin{equation}\n",
    "    \\hat{\\Sigma} = \\frac{1}{T-p}\\hat{U}^{\\prime}\\hat{U} = \\frac{1}{T-p}\\sum_{t=p+1}^{T}{\\hat{u}_{t}\\hat{u}_{t}^{\\prime}} \\notag\n",
    "\\end{equation}$"
   ]
  },
  {
   "cell_type": "markdown",
   "id": "c541268e-baf7-4fbc-a1aa-b558c439ad8a",
   "metadata": {},
   "source": [
    "#### (예시)\n",
    "\n",
    "`bok_da` 라이브러리 시계열분석 패키지(`ts`)의 VAR모형 서브패키지(`var`)에 있는 `var`함수를 사용하면 축양형 VAR 모형을 추정 할 수 있다.\n",
    "\n",
    " `var` 함수 코드에는 VAR(p) 모형의 절편항을 고려하지 않기 위해 입력되는 `y` 변수에 대해 자동으로 demeaning 과정이 들어가 있다. 따라서, 예측 시 demeaning 과정에서 제거된 mean을 예측값에 더해주도록 코드가 작성되어 있다.\n",
    "\n",
    "또한, VAR 모형의 시차를 입력하지 않을 경우 이전에 설명한 `order_var` 함수에서 표본크기에 기반한 `pmax`를 사용하여 최적 시차를 추정하여 사용한다. 구체적으로 Ng and Perron (2001)에서 제안하는 rule of thumb인 다음과 같은 수식에 따라 계산되도록 자동화하였다.\n",
    "$\\begin{equation}\n",
    "    lag\\_max = round\\Bigg(12\\cdot(\\frac{T}{100})^{\\frac{1}{4}}\\Bigg) \\notag\n",
    "\\end{equation}$\n",
    "\n",
    "이때, `lag_max`를 입력하여 계산된 다양한 최적시차 추정량 중에서 일치추정량인 BIC를 default로 사용한다. 만약 자동화된 절차에 따라 추정된 BIC가 아닌 다른 최적 시차(lag)를 사용하고 싶다면, (1) 연구자가 임의로 결정한 최적시차를 lag이라는 입력값으로 넣거나, (2) 위 3절에서 설명한 것과 같이 연구자가 임의로 결정한 최대 시차를 `order_var`에 입력하여 추정된 네 가지 최적 시차 추정량 중에서 하나를 lag이라는 입력값으로 넣으면 된다."
   ]
  },
  {
   "cell_type": "code",
   "execution_count": 9,
   "id": "aba055cf-3b88-476e-98c4-60bed8c0b3ac",
   "metadata": {},
   "outputs": [],
   "source": [
    "from bok_da.ts.var import var\n",
    "\n",
    "res = var(df) # lag 인자를 입력하지 않는 경우 자동으로 시차 설정"
   ]
  },
  {
   "cell_type": "markdown",
   "id": "55b55d4b-0c53-477e-b74f-0e7c216d00d5",
   "metadata": {},
   "source": [
    "추정 결과 res 인스턴스는 다음의 결과를 포함한다.\n",
    "</br>\n",
    "    `phi_hat`: 축약형 VAR(p) 모형의 계수 행렬 추정량\n",
    "    </br>\n",
    "    `omega_hat`: 축약형 VAR(p) 모형의 분산-공분산 행렬 추정량\n",
    "    </br>\n",
    "    `f_mat`: 축약형 VAR(p) 모형의 동반행렬 (Companion Matrix) 형태의 계수 행렬 추정량\n",
    "    </br>\n",
    "    `u_hat`: 축약형 VAR(p) 모형의 잔차\n",
    "    </br>\n",
    "    `y0`: 추정에 사용된 반응변수 행렬\n",
    "    </br>\n",
    "    `y_lag`: 추정에 사용된 설명변수 행렬\n",
    "    </br>\n",
    "    `y_pred`: 예측치\n",
    "    </br>\n",
    "    `lag`: 모형에 사용되 시차\n",
    "    "
   ]
  },
  {
   "cell_type": "code",
   "execution_count": 10,
   "id": "e9639d75-a5c1-41e8-8b0a-c7497723d591",
   "metadata": {},
   "outputs": [
    {
     "data": {
      "text/plain": [
       "array([[ 0.87590527, -0.14849765,  0.09139085],\n",
       "       [ 0.06716272,  0.20447624,  0.21538759],\n",
       "       [ 0.03837978,  0.11803926,  0.86995709]])"
      ]
     },
     "execution_count": 10,
     "metadata": {},
     "output_type": "execute_result"
    }
   ],
   "source": [
    "res.phi_hat"
   ]
  },
  {
   "cell_type": "code",
   "execution_count": 11,
   "id": "8547bb3b-ad46-43a9-a170-7475e293019e",
   "metadata": {},
   "outputs": [
    {
     "data": {
      "text/plain": [
       "array([[0.347869  , 0.07532279, 0.04602065],\n",
       "       [0.07532279, 0.80138552, 0.02408009],\n",
       "       [0.04602065, 0.02408009, 0.10386358]])"
      ]
     },
     "execution_count": 11,
     "metadata": {},
     "output_type": "execute_result"
    }
   ],
   "source": [
    "res.omega_hat"
   ]
  },
  {
   "cell_type": "markdown",
   "id": "4d9a77ee-5966-4975-a146-49fab0f73165",
   "metadata": {},
   "source": [
    "다음과 같이 lag=2로 시차를 직접 입력할 수도 있다."
   ]
  },
  {
   "cell_type": "code",
   "execution_count": 12,
   "id": "d4fdd2b5-4ef9-4f1d-a0bf-388aff1d8e17",
   "metadata": {},
   "outputs": [],
   "source": [
    "res = var(df, lag=2)"
   ]
  },
  {
   "cell_type": "code",
   "execution_count": 13,
   "id": "46302c15-552f-49d5-99f5-bb3698f644c2",
   "metadata": {},
   "outputs": [
    {
     "data": {
      "text/plain": [
       "array([[ 1.08270465, -0.56234252,  0.05586755],\n",
       "       [ 0.02825777,  0.30198823,  0.19871594],\n",
       "       [ 0.05155508, -0.37952045,  1.12559623],\n",
       "       [-0.21208464,  0.53987643,  0.02006422],\n",
       "       [ 0.13964086,  0.04582516,  0.00519975],\n",
       "       [-0.04770968,  0.40919605, -0.2407622 ]])"
      ]
     },
     "execution_count": 13,
     "metadata": {},
     "output_type": "execute_result"
    }
   ],
   "source": [
    "res.phi_hat"
   ]
  },
  {
   "cell_type": "code",
   "execution_count": 14,
   "id": "4fd72439-a7d8-4709-9774-fc855d595ee5",
   "metadata": {},
   "outputs": [
    {
     "data": {
      "text/plain": [
       "array([[0.31014499, 0.13152801, 0.0431908 ],\n",
       "       [0.13152801, 0.70564407, 0.04113348],\n",
       "       [0.0431908 , 0.04113348, 0.09788613]])"
      ]
     },
     "execution_count": 14,
     "metadata": {},
     "output_type": "execute_result"
    }
   ],
   "source": [
    "res.omega_hat"
   ]
  },
  {
   "cell_type": "markdown",
   "id": "7e7921b4-8b01-4926-aa05-8a2332bec1de",
   "metadata": {},
   "source": [
    "참고로 함수를 사용하는 방법 외에 VectorAutoRegression 클래스를 이용해서 추정할 수도 있다."
   ]
  },
  {
   "cell_type": "markdown",
   "id": "479d15a1-5e81-4e70-a207-1c15ccf6a896",
   "metadata": {},
   "source": [
    "`bok_da` 라이브러리 시계열분석 패키지(`ts`)의 VAR모형 서브패키지(`var`)에서 `VectorAutoRegression` 클래스를 `VAR`로 불러온다."
   ]
  },
  {
   "cell_type": "code",
   "execution_count": 15,
   "id": "dd04f324-a6e7-4d74-aecb-c51c187b0a3a",
   "metadata": {},
   "outputs": [],
   "source": [
    "from bok_da.ts.var import VectorAutoRegression as VAR"
   ]
  },
  {
   "cell_type": "code",
   "execution_count": 16,
   "id": "ed45bbbc-eab8-48b6-b7f9-abaec05fa5ea",
   "metadata": {},
   "outputs": [],
   "source": [
    "model = VAR(lag=2)\n",
    "res = model.fit(df)"
   ]
  },
  {
   "cell_type": "markdown",
   "id": "67637e74-00ca-4ab1-a052-e88471c97fce",
   "metadata": {},
   "source": [
    "다음과 같이 함수를 사용하는 방법과 동일한 결과를 나타낸다."
   ]
  },
  {
   "cell_type": "code",
   "execution_count": 17,
   "id": "7067050d-77c6-4a3c-a5e2-26f751c9666d",
   "metadata": {},
   "outputs": [
    {
     "name": "stdout",
     "output_type": "stream",
     "text": [
      "          0         1         2\n",
      "0  1.082705 -0.562343  0.055868\n",
      "          0         1         2\n",
      "0  0.028258  0.301988  0.198716\n"
     ]
    }
   ],
   "source": [
    "for i in range(res.lag):\n",
    "    print(pd.DataFrame(res.phi_hat[i]).T)"
   ]
  },
  {
   "cell_type": "markdown",
   "id": "45daed7e-a1a9-417d-b136-bcadd1e08d6f",
   "metadata": {},
   "source": [
    "함수를 통해 도출된 \"phi_hat\"이라는 변수는 위에서 설명된 $\\hat{B}$를 의미한다. 이때, 절편항이 제외된 축약형 VAR 모형에서 $\\hat{B}$는 아래와 같다.\n",
    "$\\begin{equation}\n",
    "    \\hat{B} = \\begin{pmatrix}\n",
    "        \\hat{A}_{1}^{\\prime} \\\\\n",
    "        \\vdots \\\\\n",
    "        \\hat{A}_{p}^{\\prime}\n",
    "    \\end{pmatrix} \\notag\n",
    "\\end{equation}$\n",
    "따라서 축약형 VAR 모형에서 $A_{1}$부터 $A_{p}$까지의 계수 행렬을 보기 위해서는 \"phi_hat\"을 전치행렬 (transpose)로 바꿔주면 된다."
   ]
  }
 ],
 "metadata": {
  "kernelspec": {
   "display_name": "bok_da_test_py312",
   "language": "python",
   "name": "python3"
  },
  "language_info": {
   "codemirror_mode": {
    "name": "ipython",
    "version": 3
   },
   "file_extension": ".py",
   "mimetype": "text/x-python",
   "name": "python",
   "nbconvert_exporter": "python",
   "pygments_lexer": "ipython3",
   "version": "3.12.9"
  }
 },
 "nbformat": 4,
 "nbformat_minor": 5
}
