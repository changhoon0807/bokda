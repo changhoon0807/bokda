{
 "cells": [
  {
   "cell_type": "markdown",
   "id": "111413aa-1b5d-46cb-9184-f61ad4034018",
   "metadata": {
    "tags": []
   },
   "source": [
    "#### 본 매뉴얼에서는 api 호출을 통한 BIDAS 내 데이터 입수 방법에 대해 설명한다. "
   ]
  },
  {
   "cell_type": "markdown",
   "id": "d69d19be-a5f7-4e05-99dd-dc0e29027dbd",
   "metadata": {},
   "source": [
    "- 작성자: 디지털신기술팀 이창훈 과장"
   ]
  },
  {
   "cell_type": "code",
   "execution_count": 2,
   "id": "11e4844a-71a3-4498-99d6-f34c2a859395",
   "metadata": {
    "tags": []
   },
   "outputs": [],
   "source": [
    "# 라이브러리 호출\n",
    "import bok_da as bd\n",
    "import pandas as pd"
   ]
  },
  {
   "cell_type": "markdown",
   "id": "b05f0449-f5a5-4422-939f-901a58d66944",
   "metadata": {},
   "source": [
    "BIDAS에서 제공하는 데이터는 고유의 data id를 갖는다. 다음 코드에서와 같이 입수하고자 하는 data_id의 리스트를 설정하고, `get_bidas_data` 함수에 인자로 입력함으로써 손쉽게 필요한 데이터를 입수할 수 있다. `get_bidas_data` 함수의 인자는 data_id, id(데이터프레임에서 사용할 변수명), start_d(샘플 시작시점), end_d(샘플 마지막시점)으로 구성된다. 원천기관에서 raw 데이터를 불러오고 전처리하는 과정이 복잡해 보일 수 있지만, 한번 해두면 크게 코드를 수정할 필요없이 새로운 데이터에 대해서도 분석 가능한 형태로 전처리 할 수 있기 때문에 효율적이다."
   ]
  },
  {
   "cell_type": "code",
   "execution_count": 3,
   "id": "8c8559ef-b4c2-4149-9c6e-d58ae9be386b",
   "metadata": {},
   "outputs": [
    {
     "data": {
      "text/html": [
       "<div>\n",
       "<style scoped>\n",
       "    .dataframe tbody tr th:only-of-type {\n",
       "        vertical-align: middle;\n",
       "    }\n",
       "\n",
       "    .dataframe tbody tr th {\n",
       "        vertical-align: top;\n",
       "    }\n",
       "\n",
       "    .dataframe thead th {\n",
       "        text-align: right;\n",
       "    }\n",
       "</style>\n",
       "<table border=\"1\" class=\"dataframe\">\n",
       "  <thead>\n",
       "    <tr style=\"text-align: right;\">\n",
       "      <th></th>\n",
       "      <th>rgdp</th>\n",
       "      <th>cd91</th>\n",
       "      <th>cpi</th>\n",
       "    </tr>\n",
       "    <tr>\n",
       "      <th>period</th>\n",
       "      <th></th>\n",
       "      <th></th>\n",
       "      <th></th>\n",
       "    </tr>\n",
       "  </thead>\n",
       "  <tbody>\n",
       "    <tr>\n",
       "      <th>2022-03-31</th>\n",
       "      <td>0.660558</td>\n",
       "      <td>1.465254</td>\n",
       "      <td>3.911844</td>\n",
       "    </tr>\n",
       "    <tr>\n",
       "      <th>2022-06-30</th>\n",
       "      <td>0.750469</td>\n",
       "      <td>1.796885</td>\n",
       "      <td>5.377679</td>\n",
       "    </tr>\n",
       "    <tr>\n",
       "      <th>2022-09-30</th>\n",
       "      <td>0.233727</td>\n",
       "      <td>2.733175</td>\n",
       "      <td>5.840742</td>\n",
       "    </tr>\n",
       "    <tr>\n",
       "      <th>2022-12-31</th>\n",
       "      <td>-0.302968</td>\n",
       "      <td>3.910645</td>\n",
       "      <td>5.214290</td>\n",
       "    </tr>\n",
       "    <tr>\n",
       "      <th>2023-03-31</th>\n",
       "      <td>0.329875</td>\n",
       "      <td>3.641290</td>\n",
       "      <td>4.599045</td>\n",
       "    </tr>\n",
       "    <tr>\n",
       "      <th>2023-06-30</th>\n",
       "      <td>0.608653</td>\n",
       "      <td>3.633115</td>\n",
       "      <td>3.261611</td>\n",
       "    </tr>\n",
       "    <tr>\n",
       "      <th>2023-09-30</th>\n",
       "      <td>0.616073</td>\n",
       "      <td>3.735968</td>\n",
       "      <td>3.139371</td>\n",
       "    </tr>\n",
       "    <tr>\n",
       "      <th>2023-12-31</th>\n",
       "      <td>0.624853</td>\n",
       "      <td>3.829836</td>\n",
       "      <td>3.416898</td>\n",
       "    </tr>\n",
       "    <tr>\n",
       "      <th>2024-03-31</th>\n",
       "      <td>1.279769</td>\n",
       "      <td>3.693770</td>\n",
       "      <td>3.015835</td>\n",
       "    </tr>\n",
       "    <tr>\n",
       "      <th>2024-06-30</th>\n",
       "      <td>0.000000</td>\n",
       "      <td>3.574762</td>\n",
       "      <td>2.733742</td>\n",
       "    </tr>\n",
       "  </tbody>\n",
       "</table>\n",
       "</div>"
      ],
      "text/plain": [
       "                rgdp      cd91       cpi\n",
       "period                                  \n",
       "2022-03-31  0.660558  1.465254  3.911844\n",
       "2022-06-30  0.750469  1.796885  5.377679\n",
       "2022-09-30  0.233727  2.733175  5.840742\n",
       "2022-12-31 -0.302968  3.910645  5.214290\n",
       "2023-03-31  0.329875  3.641290  4.599045\n",
       "2023-06-30  0.608653  3.633115  3.261611\n",
       "2023-09-30  0.616073  3.735968  3.139371\n",
       "2023-12-31  0.624853  3.829836  3.416898\n",
       "2024-03-31  1.279769  3.693770  3.015835\n",
       "2024-06-30  0.000000  3.574762  2.733742"
      ]
     },
     "execution_count": 3,
     "metadata": {},
     "output_type": "execute_result"
    }
   ],
   "source": [
    "data_id_list = ['NECOS-200U008-Q-10601', 'NECOS-704U001-D-1010301', 'NECOS-901U009-M-0'] # data id list\n",
    "id_list = ['rgdp', 'cd91', 'cpi'] # 데이터프레임 열이름으로 들어갈 id list\n",
    "\n",
    "df = bd.get_bidas_data(data_id_list, id_list, start_d='2000-01-01', end_d='2024-05-01').astype(float).resample('Q').mean()\n",
    "\n",
    "df['rgdp'] = df['rgdp'].pct_change() * 100 # 전월대비 변환\n",
    "df['cpi'] = df['cpi'].pct_change(4) * 100 # 전년동기대비 변환\n",
    "df = df[df.index >= '2022-03-31']\n",
    "df"
   ]
  },
  {
   "cell_type": "markdown",
   "id": "72e5c59b-6b10-45c8-9874-1d92e1024190",
   "metadata": {},
   "source": [
    "`bok_da` 라이브러리-시각화 패키지(`viz`)에서 시각화 도구 `Plotter`를 불러온다."
   ]
  },
  {
   "cell_type": "code",
   "execution_count": 4,
   "id": "da57ea30-ce25-4c3e-8d69-55fb170188c9",
   "metadata": {},
   "outputs": [],
   "source": [
    "from bok_da.viz import Plotter"
   ]
  },
  {
   "cell_type": "markdown",
   "id": "4561e446-4b46-4633-9d5b-0fd558b1d20d",
   "metadata": {},
   "source": [
    "`Plotter`를 이용해 앞에서 불러온 데이터를 line으로 그린다."
   ]
  },
  {
   "cell_type": "code",
   "execution_count": 6,
   "id": "d5a2d22c-6cbf-49f3-a7ba-3aa27b4b194c",
   "metadata": {},
   "outputs": [
    {
     "data": {
      "image/png": "[encoded data removed]",
      "text/plain": [
       "<Figure size 700x350 with 2 Axes>"
      ]
     },
     "metadata": {},
     "output_type": "display_data"
    }
   ],
   "source": [
    "# Plotter\n",
    "pp = Plotter(xmargin=0.02)\n",
    "pp.line(df.index, [df.cd91, df.cpi], label=['cd(91)', 'CPI'], linewidth=2)\n",
    "pp.abline(h=0, linewidth=.5, color='gray')\n",
    "pp.bar(df.index, [df.rgdp], label=['실질GDP'], width=50)\n",
    "pp.set_xaxis('year')\n",
    "pp.annotate('(%)')\n",
    "pp.to_front(0)\n",
    "pp.legend()"
   ]
  },
  {
   "cell_type": "code",
   "execution_count": null,
   "id": "e0521583-0817-4181-b4b0-d6b59eb8b13e",
   "metadata": {},
   "outputs": [],
   "source": []
  },
  {
   "cell_type": "code",
   "execution_count": null,
   "id": "5c3353ca-729c-441b-9422-b70403b5b5a9",
   "metadata": {},
   "outputs": [],
   "source": []
  }
 ],
 "metadata": {
  "kernelspec": {
   "display_name": "Python 3",
   "language": "python",
   "name": "python3"
  },
  "language_info": {
   "codemirror_mode": {
    "name": "ipython",
    "version": 3
   },
   "file_extension": ".py",
   "mimetype": "text/x-python",
   "name": "python",
   "nbconvert_exporter": "python",
   "pygments_lexer": "ipython3",
   "version": "3.9.16"
  }
 },
 "nbformat": 4,
 "nbformat_minor": 5
}
