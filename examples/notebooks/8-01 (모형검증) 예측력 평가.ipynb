{
 "cells": [
  {
   "cell_type": "markdown",
   "metadata": {},
   "source": [
    "# 시계열 모형 예측력 평가\n",
    "- 작성자: 고려대학교 경제학과 한치록 교수, 데이터사이언스팀 이창훈 과장\n",
    "\n",
    "시계열 모형의 예측력 평가를 위해 `bok_da` 라이브러리에 여러 기능을 제공한다.\n",
    "\n",
    "* `col_evaluation_metrics` (RMSE, MAE 등 예측력 정보기준 계산), `dm_test` (Diebold-Mariano test), `cw_test` (Clark-West test) 구현하였다.\n",
    "\n",
    "* 전망모형 개발 시 검증을 할때 다양한 예측력 평가 기준과 모형의 예측력 평가를 위한 `dm_test`, `cw_test`가 유용하게 활용될 수 있다.\n",
    "\n",
    "참고로, Workspace를 이용해서도 예측력 평가 분석을 수행할 수 있다.(자세한 내용은 Wokrspace 매뉴얼 참고)\n",
    "\n",
    "[3_06]: 06%20BOK%20Library%20I%20(LS).ipynb\n",
    "[3_07]: 07%20BOK%20Library%20II%20(IV).ipynb\n",
    "[3_08]: 08%20BOK%20Library%20III%20(Time%20Series).ipynb"
   ]
  },
  {
   "cell_type": "markdown",
   "metadata": {},
   "source": [
    "# 예측성능\n",
    "\n",
    "## 예측성능 관련 요약통계량"
   ]
  },
  {
   "cell_type": "code",
   "execution_count": 1,
   "metadata": {},
   "outputs": [],
   "source": [
    "# 라이브러리 호출\n",
    "import pandas as pd"
   ]
  },
  {
   "cell_type": "markdown",
   "metadata": {},
   "source": [
    "예측성능 테스트를 위해서 임의로 10개의 실제값 `y`와 4개의 모형에 대한 `f1`, `f2`, `f3`, `f4` 예측치를 생성하였다."
   ]
  },
  {
   "cell_type": "code",
   "execution_count": 2,
   "metadata": {},
   "outputs": [
    {
     "data": {
      "text/html": [
       "<div>\n",
       "<style scoped>\n",
       "    .dataframe tbody tr th:only-of-type {\n",
       "        vertical-align: middle;\n",
       "    }\n",
       "\n",
       "    .dataframe tbody tr th {\n",
       "        vertical-align: top;\n",
       "    }\n",
       "\n",
       "    .dataframe thead th {\n",
       "        text-align: right;\n",
       "    }\n",
       "</style>\n",
       "<table border=\"1\" class=\"dataframe\">\n",
       "  <thead>\n",
       "    <tr style=\"text-align: right;\">\n",
       "      <th></th>\n",
       "      <th>y</th>\n",
       "      <th>f1</th>\n",
       "      <th>f2</th>\n",
       "      <th>f3</th>\n",
       "      <th>f4</th>\n",
       "    </tr>\n",
       "    <tr>\n",
       "      <th>id</th>\n",
       "      <th></th>\n",
       "      <th></th>\n",
       "      <th></th>\n",
       "      <th></th>\n",
       "      <th></th>\n",
       "    </tr>\n",
       "  </thead>\n",
       "  <tbody>\n",
       "    <tr>\n",
       "      <th>0</th>\n",
       "      <td>6.624345</td>\n",
       "      <td>6.916767</td>\n",
       "      <td>5.862317</td>\n",
       "      <td>6.559862</td>\n",
       "      <td>6.547534</td>\n",
       "    </tr>\n",
       "    <tr>\n",
       "      <th>1</th>\n",
       "      <td>4.388244</td>\n",
       "      <td>4.614997</td>\n",
       "      <td>3.818265</td>\n",
       "      <td>4.353758</td>\n",
       "      <td>4.212672</td>\n",
       "    </tr>\n",
       "    <tr>\n",
       "      <th>2</th>\n",
       "      <td>4.471828</td>\n",
       "      <td>4.480271</td>\n",
       "      <td>4.238391</td>\n",
       "      <td>4.251704</td>\n",
       "      <td>4.700773</td>\n",
       "    </tr>\n",
       "    <tr>\n",
       "      <th>3</th>\n",
       "      <td>3.927031</td>\n",
       "      <td>4.107350</td>\n",
       "      <td>3.677530</td>\n",
       "      <td>4.107203</td>\n",
       "      <td>3.790286</td>\n",
       "    </tr>\n",
       "    <tr>\n",
       "      <th>4</th>\n",
       "      <td>5.865408</td>\n",
       "      <td>5.840830</td>\n",
       "      <td>5.328254</td>\n",
       "      <td>5.811830</td>\n",
       "      <td>5.971479</td>\n",
       "    </tr>\n",
       "    <tr>\n",
       "      <th>5</th>\n",
       "      <td>2.698461</td>\n",
       "      <td>2.560129</td>\n",
       "      <td>2.269111</td>\n",
       "      <td>2.561027</td>\n",
       "      <td>2.529420</td>\n",
       "    </tr>\n",
       "    <tr>\n",
       "      <th>6</th>\n",
       "      <td>6.744812</td>\n",
       "      <td>6.610563</td>\n",
       "      <td>6.392279</td>\n",
       "      <td>6.521350</td>\n",
       "      <td>6.791695</td>\n",
       "    </tr>\n",
       "    <tr>\n",
       "      <th>7</th>\n",
       "      <td>4.238793</td>\n",
       "      <td>4.570754</td>\n",
       "      <td>4.037202</td>\n",
       "      <td>4.200426</td>\n",
       "      <td>4.061267</td>\n",
       "    </tr>\n",
       "    <tr>\n",
       "      <th>8</th>\n",
       "      <td>5.319039</td>\n",
       "      <td>5.169607</td>\n",
       "      <td>5.307530</td>\n",
       "      <td>5.329201</td>\n",
       "      <td>5.191640</td>\n",
       "    </tr>\n",
       "    <tr>\n",
       "      <th>9</th>\n",
       "      <td>4.750630</td>\n",
       "      <td>4.788813</td>\n",
       "      <td>4.820681</td>\n",
       "      <td>4.774661</td>\n",
       "      <td>4.874070</td>\n",
       "    </tr>\n",
       "  </tbody>\n",
       "</table>\n",
       "</div>"
      ],
      "text/plain": [
       "           y        f1        f2        f3        f4\n",
       "id                                                  \n",
       "0   6.624345  6.916767  5.862317  6.559862  6.547534\n",
       "1   4.388244  4.614997  3.818265  4.353758  4.212672\n",
       "2   4.471828  4.480271  4.238391  4.251704  4.700773\n",
       "3   3.927031  4.107350  3.677530  4.107203  3.790286\n",
       "4   5.865408  5.840830  5.328254  5.811830  5.971479\n",
       "5   2.698461  2.560129  2.269111  2.561027  2.529420\n",
       "6   6.744812  6.610563  6.392279  6.521350  6.791695\n",
       "7   4.238793  4.570754  4.037202  4.200426  4.061267\n",
       "8   5.319039  5.169607  5.307530  5.329201  5.191640\n",
       "9   4.750630  4.788813  4.820681  4.774661  4.874070"
      ]
     },
     "execution_count": 2,
     "metadata": {},
     "output_type": "execute_result"
    }
   ],
   "source": [
    "df = pd.read_excel('../data/dmtest.xlsx')\n",
    "df = df.set_index('id')\n",
    "df"
   ]
  },
  {
   "cell_type": "markdown",
   "metadata": {},
   "source": [
    "이와 같이 실제값 `y`와 비교모형의 예측치가 주어져 있을 때, `bok_da` 라이브러리 - 모형검증 패키지(`validation`) - 예측성능 평가 서브패키지(`pred_perf`)의 `col_evaluation_metrixs` 함수를 이용해서 예측모형에 대한 `MSE`, `RMSE`, `MAE`, `MAPE`, `MPE`, `Rsq` 예측력 평가 기준을 계산할 수 있다."
   ]
  },
  {
   "cell_type": "code",
   "execution_count": 3,
   "metadata": {},
   "outputs": [],
   "source": [
    "from bok_da.valid.pred_perf import col_evaluation_metrics"
   ]
  },
  {
   "cell_type": "markdown",
   "metadata": {},
   "source": [
    "`print_res=True`로 설정할 경우, 다음 셀과 같이 예측력 정보 기준 계산 결과를 출력한다."
   ]
  },
  {
   "cell_type": "code",
   "execution_count": 4,
   "metadata": {},
   "outputs": [
    {
     "name": "stdout",
     "output_type": "stream",
     "text": [
      " Predictor |      MSE      RMSE       MAE      MAPE%      MPE%      Rsq \n",
      "-----------+-------------------------------------------------------------\n",
      "  Model 1  |\u001b[1m   .034126   .184733   .152467   3.33425   1.26523   .975938\u001b[0;0m\n",
      "  Model 2  |\u001b[1m   .166514   .408061   .341713   7.28083  -6.98591   .882591\u001b[0;0m\n",
      "  Model 3  |\u001b[1m   .016011   .126535    .09863   2.21914  -1.16216   .988711\u001b[0;0m\n",
      "  Model 4  |\u001b[1m   .021285   .145893   .136843   3.17119  -1.12686   .984992\u001b[0;0m\n"
     ]
    }
   ],
   "source": [
    "res = col_evaluation_metrics(df.y, df.f1, df.f2, df.f3, df.f4, print_res=True)"
   ]
  },
  {
   "cell_type": "markdown",
   "metadata": {},
   "source": [
    "출력된 결과를 보면 `RMSE`와 `MAE` 기준 `Model 3`, `Model 4`, `Model 1`, `Model 2` 순서로 예측력이 좋은 것으로 나타난다. 이 결과를 다음의 `Diebold-Mariano` 테스트와 `Clark-West` 테스트를 통해 모형 간 예측력 차이가 통계적으로 유의미한 것인지 검증할 수 있다."
   ]
  },
  {
   "cell_type": "markdown",
   "metadata": {},
   "source": [
    "## Diebold-Mariano Test"
   ]
  },
  {
   "cell_type": "markdown",
   "metadata": {},
   "source": [
    "Diebold-Mariano (DM) 테스트는 두 모형의 예측성능을 비교하기 위한 통계적 검증 기법이다. 모형의 예측력을 평가할 때, 단순히 `MAE`, `RMSE` 등의 예측력 평가 기준만으로 비교하는 것이 충분하지 않을 수 있다. DM 테스트는 두 모형의 예측오차를 비교하여 그 차이가 통계적으로 유의미한지 평가한다."
   ]
  },
  {
   "cell_type": "markdown",
   "metadata": {},
   "source": [
    "DM 테스트의 검정 방식은 두 모형의 성능 차이가 양쪽 방향(첫 번째 모형이 더 나은지, 두 번째 모형이 더 나은지)를 모두 고려하는 `two-sided`와 특정 방향(첫 번째 모형이 더 뛰어남)에 대해서만 검정을 수행하는 `one-sided(less, greater)`가 있다."
   ]
  },
  {
   "cell_type": "markdown",
   "metadata": {},
   "source": [
    "- **two-sided 검정**\n",
    "  - `귀무가설(H0)`: 두 모형의 예측성능이 동일하다. 즉, 두 모형의 예측오차 차이가 통계적으로 유의미하지 않다.\n",
    "  - `대립가설(H1)`: 두 모형의 예측성능이 다르다. 즉, 두 모형의 예측오차 차이가 통계적으로 유의미하다.\n",
    "- **one-sided(greater) 검정**\n",
    "  - `귀무가설(H0)`: 기준 모형의 예측오차가 비교모형보다 작거나 같다.\n",
    "  - `대립가설(H1)`: 기준 모형의 예측오차가 비교모형보다 더 크다.(기준모형의 예측력이 더 나쁘다.)\n",
    "- **one-sided(less) 검정**\n",
    "  - `귀무가설(H0)`: 기준 모형의 예측오차가 비교모형보다 크거나 같다.\n",
    "  - `대립가설(H1)`: 기준 모형의 예측오차가 비교모형보다 더 작다.(기준모형의 예측력이 더 뛰어나다.)"
   ]
  },
  {
   "cell_type": "markdown",
   "metadata": {},
   "source": [
    "`bok_da` 라이브러리 - 모형검증 패키지(`validation`) - 예측성능 평가 서브패키지(`pred_perf`)에 DM 테스트를 위한 `diebold_mariano` 함수를 제공한다."
   ]
  },
  {
   "cell_type": "code",
   "execution_count": 5,
   "metadata": {},
   "outputs": [],
   "source": [
    "from bok_da.valid.pred_perf import diebold_mariano"
   ]
  },
  {
   "cell_type": "markdown",
   "metadata": {},
   "source": [
    "Model 1, Model 2, Model 3, Model 4의 예측치 f1, f2, f3, f4를 이용해 DM 테스트를 해본다. 참고로, `diebold_mariano` 함수도 `print_res=True` 인자를 통해 결과를 출력할 것인지 설정할 수 있다. `alternative` 인자에 `two-sided`, `greater`, `less`를 입력해 검정방식을 설정할 수 있다. 기본값은 `two-sided`로 alternative 인자를 입력하지 않는 경우, two-sided로 테스트한다."
   ]
  },
  {
   "cell_type": "code",
   "execution_count": 6,
   "metadata": {},
   "outputs": [
    {
     "name": "stdout",
     "output_type": "stream",
     "text": [
      "Diebold-Mariano tests with \n",
      "  alternative = \u001b[1mtwo_sided\u001b[0;0m, horizon = \u001b[1m1        \u001b[0;0m, power = \u001b[1m2        \u001b[0;0m\n",
      "-----------------------------------------------------------\n",
      " DM test |        f1          f2          f3          f4   \n",
      "---------+-------------------------------------------------\n",
      "      f1 | \u001b[1m             -2.39329**   1.17095     .997537   \u001b[0;0m\n",
      "      f2 | \u001b[1m  2.39329**               2.49445**   2.41924** \u001b[0;0m\n",
      "      f3 | \u001b[1m -1.17095    -2.49445**              -.735368   \u001b[0;0m\n",
      "      f4 | \u001b[1m -.997537    -2.41924**   .735368               \u001b[0;0m\n",
      "-----------------------------------------------------------\n",
      "note. ***p<0.01, **p<0.05, *p<0.10\n"
     ]
    }
   ],
   "source": [
    "dm = diebold_mariano(df.y, df.f1, df.f2, df.f3, df.f4, h=1, print_res=True)"
   ]
  },
  {
   "cell_type": "markdown",
   "metadata": {},
   "source": [
    "위에 출력된 테이블은 DM 테스트 결과를 나타낸다. 행을 기준으로 각 열은 해당 행 모형 대비 다른 모형과의 예측력을 비교평가한 것이다. DM 통계량이 음수이면, 행 모형의 예측력이 비교모형보다 높다는 것을 의미한다. DM 통계량의 `***`는 1% 유의수준, `**`는 5% 유의수준, `*`는 10% 유의수준에서 통계적으로 유의미하다는 것을 말한다. `two-sided` 결과에서 `f3`는 나머지 모형 대비 뛰어나지만 통계적으로는 `f2` 대비해서만 5% 유의수준에서 유의미한 것으로 나타났다. `horizon`은 예측시계를 말한다. 주어진 예측치가 예측시계가 2인 경우이면 `h=2`로 인자를 설정하면 된다. `power = 2`는 두 모형의 오차 차이에 대한 제곱을 의미한다."
   ]
  },
  {
   "cell_type": "markdown",
   "metadata": {},
   "source": [
    "`alternative='greater'`로 설정하는 경우 결과는 다음과 같다."
   ]
  },
  {
   "cell_type": "code",
   "execution_count": 7,
   "metadata": {},
   "outputs": [
    {
     "name": "stdout",
     "output_type": "stream",
     "text": [
      "Diebold-Mariano tests with \n",
      "  alternative = \u001b[1mgreater\u001b[0;0m, horizon = \u001b[1m1      \u001b[0;0m, power = \u001b[1m2      \u001b[0;0m\n",
      "-----------------------------------------------------------\n",
      " DM test |        f1          f2          f3          f4   \n",
      "---------+-------------------------------------------------\n",
      "      f1 | \u001b[1m             -2.39329     1.17095     .997537   \u001b[0;0m\n",
      "      f2 | \u001b[1m  2.39329**               2.49445**   2.41924** \u001b[0;0m\n",
      "      f3 | \u001b[1m -1.17095    -2.49445                -.735368   \u001b[0;0m\n",
      "      f4 | \u001b[1m -.997537    -2.41924     .735368               \u001b[0;0m\n",
      "-----------------------------------------------------------\n",
      "note. ***p<0.01, **p<0.05, *p<0.10\n"
     ]
    }
   ],
   "source": [
    "dm = diebold_mariano(df.y, df.f1, df.f2, df.f3, df.f4, alternative='greater', print_res=True)"
   ]
  },
  {
   "cell_type": "markdown",
   "metadata": {},
   "source": [
    "`alternative='less'`로 설정하는 경우 결과는 다음과 같다."
   ]
  },
  {
   "cell_type": "code",
   "execution_count": 8,
   "metadata": {},
   "outputs": [
    {
     "name": "stdout",
     "output_type": "stream",
     "text": [
      "Diebold-Mariano tests with \n",
      "  alternative = \u001b[1mless\u001b[0;0m, horizon = \u001b[1m1   \u001b[0;0m, power = \u001b[1m2   \u001b[0;0m\n",
      "-----------------------------------------------------------\n",
      " DM test |        f1          f2          f3          f4   \n",
      "---------+-------------------------------------------------\n",
      "      f1 | \u001b[1m             -2.39329**   1.17095     .997537   \u001b[0;0m\n",
      "      f2 | \u001b[1m  2.39329                 2.49445     2.41924   \u001b[0;0m\n",
      "      f3 | \u001b[1m -1.17095    -2.49445**              -.735368   \u001b[0;0m\n",
      "      f4 | \u001b[1m -.997537    -2.41924**   .735368               \u001b[0;0m\n",
      "-----------------------------------------------------------\n",
      "note. ***p<0.01, **p<0.05, *p<0.10\n"
     ]
    }
   ],
   "source": [
    "dm = diebold_mariano(df.y, df.f1, df.f2, df.f3, df.f4, alternative='less', print_res=True)"
   ]
  },
  {
   "cell_type": "markdown",
   "metadata": {},
   "source": [
    "`alternative='less'`, `h=2`로 설정하는 경우 결과는 다음과 같다."
   ]
  },
  {
   "cell_type": "code",
   "execution_count": 9,
   "metadata": {},
   "outputs": [
    {
     "name": "stdout",
     "output_type": "stream",
     "text": [
      "Diebold-Mariano tests with \n",
      "  alternative = \u001b[1mless\u001b[0;0m, horizon = \u001b[1m2   \u001b[0;0m, power = \u001b[1m2   \u001b[0;0m\n",
      "-----------------------------------------------------------\n",
      " DM test |        f1          f2          f3          f4   \n",
      "---------+-------------------------------------------------\n",
      "      f1 | \u001b[1m             -1.65418*    1.12943     .873969   \u001b[0;0m\n",
      "      f2 | \u001b[1m  1.65418                 1.76483     1.71795   \u001b[0;0m\n",
      "      f3 | \u001b[1m -1.12943    -1.76483*               -1.00079   \u001b[0;0m\n",
      "      f4 | \u001b[1m -.873969    -1.71795*    1.00079               \u001b[0;0m\n",
      "-----------------------------------------------------------\n",
      "note. ***p<0.01, **p<0.05, *p<0.10\n"
     ]
    }
   ],
   "source": [
    "dm = diebold_mariano(df.y, df.f1, df.f2, df.f3, df.f4, alternative='less', h=2, print_res=True)"
   ]
  },
  {
   "cell_type": "markdown",
   "metadata": {},
   "source": [
    "## Clark-West Test"
   ]
  },
  {
   "cell_type": "code",
   "execution_count": 10,
   "metadata": {},
   "outputs": [],
   "source": [
    "from bok_da.valid.pred_perf import clark_west"
   ]
  },
  {
   "cell_type": "code",
   "execution_count": 11,
   "metadata": {},
   "outputs": [
    {
     "name": "stdout",
     "output_type": "stream",
     "text": [
      "Clark-West tests\n",
      "-----------------------------------------------------------\n",
      " CW test |        f1          f2          f3          f4   \n",
      "---------+-------------------------------------------------\n",
      "      f1 | \u001b[1m              1.95896**   2.06201**   2.47846***\u001b[0;0m\n",
      "      f2 | \u001b[1m  2.65164***              2.70339***  2.86028***\u001b[0;0m\n",
      "      f3 | \u001b[1m  2.47051*** -.879912                 1.86685** \u001b[0;0m\n",
      "      f4 | \u001b[1m   3.4219***  .176834     2.96301***            \u001b[0;0m\n",
      "-----------------------------------------------------------\n",
      "note. ***p<0.01, **p<0.05, *p<0.10\n"
     ]
    }
   ],
   "source": [
    "cw = clark_west(df.y, df.f1, df.f2, df.f3, df.f4, print_res=True)"
   ]
  }
 ],
 "metadata": {
  "kernelspec": {
   "display_name": "bok_da_test_py312",
   "language": "python",
   "name": "python3"
  },
  "language_info": {
   "codemirror_mode": {
    "name": "ipython",
    "version": 3
   },
   "file_extension": ".py",
   "mimetype": "text/x-python",
   "name": "python",
   "nbconvert_exporter": "python",
   "pygments_lexer": "ipython3",
   "version": "3.12.9"
  }
 },
 "nbformat": 4,
 "nbformat_minor": 4
}
