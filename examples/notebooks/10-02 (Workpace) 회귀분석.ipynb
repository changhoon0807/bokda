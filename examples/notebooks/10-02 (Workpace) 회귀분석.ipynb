{
 "cells": [
  {
   "cell_type": "markdown",
   "metadata": {},
   "source": [
    "(주의) 본 매뉴얼에서 Stata 기능은 라이선스 이슈로 아직까지는 BIDAS 환경에서 사용할 수 없다. 매뉴얼에서 stata 관련 코드는 주석처리하였다. 로컬환경(내부망, 인터넷망)에서 활용하는 경우 주석해제 하여 사용할 수 있다."
   ]
  },
  {
   "cell_type": "markdown",
   "metadata": {},
   "source": [
    "# BOK Workspace\n",
    "- 작성자: 고려대학교 경제학과 한치록 교수\n",
    "\n",
    "## Least Squares"
   ]
  },
  {
   "cell_type": "code",
   "execution_count": 1,
   "metadata": {},
   "outputs": [
    {
     "name": "stdout",
     "output_type": "stream",
     "text": [
      "\"This is python speaking.\"\n",
      "\n",
      "Linear regression                               Number of obs     =   \u001b[1m   258.0\u001b[0;0m\n",
      "                                                F(\u001b[1m3\u001b[0;0m, \u001b[1m254\u001b[0;0m)         =   \u001b[1m  945.48\u001b[0;0m\n",
      "                                                Prob > F          =   \u001b[1m  0.0000\u001b[0;0m\n",
      "                                                R-squared         =   \u001b[1m  0.9153\u001b[0;0m\n",
      "                                                Root MSE          =   \u001b[1m  .63186\u001b[0;0m\n",
      "\n",
      "                                (Std. err. adjusted for \u001b[1m86\u001b[0;0m clusters in \u001b[1mregion\u001b[0;0m)\n",
      "------------------------------------------------------------------------------\n",
      "             |               Robust\n",
      "   deathrate | Coefficient  std. err.      t    P>|t|     [95% conf. interval]\n",
      "-------------+----------------------------------------------------------------\n",
      "       drink |  \u001b[1m .0061861\u001b[0;0m  \u001b[1m .0142559\u001b[0;0m\u001b[1m     0.43\u001b[0;0m\u001b[1m   0.664\u001b[0;0m    \u001b[1m-.0316453\u001b[0;0m   \u001b[1m .0440174\u001b[0;0m\n",
      "       smoke |  \u001b[1m .0277839\u001b[0;0m  \u001b[1m .0203644\u001b[0;0m\u001b[1m     1.36\u001b[0;0m\u001b[1m   0.172\u001b[0;0m    \u001b[1m-.0262579\u001b[0;0m   \u001b[1m .0818256\u001b[0;0m\n",
      "        aged |  \u001b[1m .3939672\u001b[0;0m  \u001b[1m .0134032\u001b[0;0m\u001b[1m    29.39\u001b[0;0m\u001b[1m   0.000\u001b[0;0m    \u001b[1m .3583987\u001b[0;0m   \u001b[1m .4295358\u001b[0;0m\n",
      "   Intercept |  \u001b[1m .4172921\u001b[0;0m  \u001b[1m .8914133\u001b[0;0m\u001b[1m     0.47\u001b[0;0m\u001b[1m   0.640\u001b[0;0m    \u001b[1m-1.948281\u001b[0;0m   \u001b[1m 2.782865\u001b[0;0m\n",
      "------------------------------------------------------------------------------\n"
     ]
    }
   ],
   "source": [
    "import bok_da as bd\n",
    "\n",
    "ws = bd.Workspace(data = '../data/Death.csv')\n",
    "#ws.set_stata('/Applications/Stata', 'mp', splash=False, verbose=True)\n",
    "\n",
    "print('\"This is python speaking.\"')\n",
    "reg = ws.regress('deathrate~drink+smoke+aged', vce='cl', cluster='region')\n",
    "\n",
    "#print(\"\")\n",
    "#print('\"This is Stata speaking.\"')\n",
    "#ws.stata.use(ws.data, force=True)\n",
    "#ws.stata.run('reg deathrate drink smoke aged, vce(cl region)')\n",
    "#b = ws.stata.get_b()"
   ]
  },
  {
   "cell_type": "markdown",
   "metadata": {},
   "source": [
    "## Instrumental Variable Estimation"
   ]
  },
  {
   "cell_type": "code",
   "execution_count": 3,
   "metadata": {},
   "outputs": [
    {
     "name": "stdout",
     "output_type": "stream",
     "text": [
      "\"This is python speaking.\"\n",
      "\n",
      "Instrumental variable 2SLS regression             Number of obs   =   \u001b[1m   3,010\u001b[0;0m\n",
      "                                                  Wald chi2(\u001b[1m3\u001b[0;0m)    =   \u001b[1m  363.01\u001b[0;0m\n",
      "                                                  Prob > chi2     =   \u001b[1m  0.0000\u001b[0;0m\n",
      "                                                  R-squared       =   \u001b[1m  0.1705\u001b[0;0m\n",
      "                                                  Root MSE        =   \u001b[1m  .40414\u001b[0;0m\n",
      "\n",
      "------------------------------------------------------------------------------\n",
      "             |               Robust\n",
      "     lwage76 | Coefficient  std. err.      z    P>|z|     [95% conf. interval]\n",
      "-------------+----------------------------------------------------------------\n",
      "        ed76 |  \u001b[1m .1344987\u001b[0;0m  \u001b[1m .0109263\u001b[0;0m\u001b[1m    12.31\u001b[0;0m\u001b[1m   0.000\u001b[0;0m    \u001b[1m .1130835\u001b[0;0m   \u001b[1m .1559139\u001b[0;0m\n",
      "       exp76 |  \u001b[1m .0604116\u001b[0;0m  \u001b[1m .0048103\u001b[0;0m\u001b[1m    12.56\u001b[0;0m\u001b[1m   0.000\u001b[0;0m    \u001b[1m .0509837\u001b[0;0m   \u001b[1m .0698396\u001b[0;0m\n",
      "      smsa76 |  \u001b[1m .1558979\u001b[0;0m  \u001b[1m .0172503\u001b[0;0m\u001b[1m     9.04\u001b[0;0m\u001b[1m   0.000\u001b[0;0m    \u001b[1m .1220879\u001b[0;0m   \u001b[1m .1897079\u001b[0;0m\n",
      "   Intercept |  \u001b[1m 3.831751\u001b[0;0m  \u001b[1m .1808904\u001b[0;0m\u001b[1m    21.18\u001b[0;0m\u001b[1m   0.000\u001b[0;0m    \u001b[1m 3.477213\u001b[0;0m   \u001b[1m  4.18629\u001b[0;0m\n",
      "------------------------------------------------------------------------------\n",
      "Endogenous: \u001b[1med76\u001b[0;0m\n",
      "Exogenous:  \u001b[1mexp76 smsa76 momed daded\u001b[0;0m\n"
     ]
    }
   ],
   "source": [
    "import bok_da as bd\n",
    "ws = bd.Workspace(using = '../data/schooling.dta', verbose=True)\n",
    "#ws.set_stata('/Applications/Stata', 'mp', splash=False)\n",
    "\n",
    "print('\"This is python speaking.\"')\n",
    "tsls = ws.ivregress('lwage76~[ed76~momed+daded]+exp76+smsa76', vce='r')\n",
    "\n",
    "#print(\"\")\n",
    "#print('\"This is Stata speaking.\"', \"\\n\")\n",
    "#ws.stata.use('schooling.dta', force=True)\n",
    "#ws.stata.run('ivregress 2sls lwage76 (ed76 = momed daded) exp76 smsa76, vce(r)')"
   ]
  }
 ],
 "metadata": {
  "kernelspec": {
   "display_name": "bok_da_test_py312",
   "language": "python",
   "name": "python3"
  },
  "language_info": {
   "codemirror_mode": {
    "name": "ipython",
    "version": 3
   },
   "file_extension": ".py",
   "mimetype": "text/x-python",
   "name": "python",
   "nbconvert_exporter": "python",
   "pygments_lexer": "ipython3",
   "version": "3.12.9"
  }
 },
 "nbformat": 4,
 "nbformat_minor": 4
}
