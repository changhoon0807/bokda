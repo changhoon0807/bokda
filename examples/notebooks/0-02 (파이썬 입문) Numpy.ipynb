{
 "cells": [
  {
   "cell_type": "markdown",
   "id": "bb4a57a2",
   "metadata": {},
   "source": [
    "# NumPy\n",
    "- 작성자: 고려대학교 경제학과 한치록 교수\n",
    "\n",
    "[NumPy](https://numpy.org)에 대해 설명한다. 다음 내용은 [NumPy: the absolute basics for beginners](https://numpy.org/doc/stable/user/absolute_beginners.html)를 참고한 것이다.\n",
    "\n",
    "## array\n",
    "파이썬에 내장된 리스트(벡터, 배열 등)로는 `list`, `tuple`, `range`, `dict`, `set` 등이 있다. 이 중 `list`가 가장 평범한 것인데, `[1, \"a\", 10.5]`처럼 서로 다른 데이터 형태를 포함할 수 있다. (다른 데이터 구조에 대해서는 [여기](https://www.digitalocean.com/community/tutorials/python-data-types) 참조.) 이렇게 일반적이다 보니 처리 속도가 느리다."
   ]
  },
  {
   "cell_type": "code",
   "execution_count": 1,
   "id": "2c20e7a3",
   "metadata": {},
   "outputs": [
    {
     "data": {
      "text/plain": [
       "[1, 'a', 10.5]"
      ]
     },
     "execution_count": 1,
     "metadata": {},
     "output_type": "execute_result"
    }
   ],
   "source": [
    "[1,\"a\",10.5]"
   ]
  },
  {
   "cell_type": "markdown",
   "id": "9bfc627f",
   "metadata": {},
   "source": [
    "NumPy는 동일 형태의 값만을 가질 수 있는 `array`라는 것을 제공한다. 일반적인 차원을 처리할 수 있다. 예를 들어 1-D array, 2-D array, ndarray 등이 포함된다. 1-D array의 예는 다음과 같다."
   ]
  },
  {
   "cell_type": "code",
   "execution_count": 2,
   "id": "82bef833",
   "metadata": {},
   "outputs": [
    {
     "data": {
      "text/plain": [
       "array([1, 2, 3, 4, 5, 6])"
      ]
     },
     "execution_count": 2,
     "metadata": {},
     "output_type": "execute_result"
    }
   ],
   "source": [
    "import numpy as np\n",
    "np.array([1, 2, 3, 4, 5, 6])"
   ]
  },
  {
   "cell_type": "markdown",
   "id": "ae0f3ae2",
   "metadata": {},
   "source": [
    "2-D array의 예는 다음과 같다."
   ]
  },
  {
   "cell_type": "code",
   "execution_count": 3,
   "id": "2e1ff0bf",
   "metadata": {},
   "outputs": [
    {
     "data": {
      "text/plain": [
       "array([[ 1,  2,  3,  4],\n",
       "       [ 5,  6,  7,  8],\n",
       "       [ 9, 10, 11, 12]])"
      ]
     },
     "execution_count": 3,
     "metadata": {},
     "output_type": "execute_result"
    }
   ],
   "source": [
    "a = np.array([[1, 2, 3, 4], [5, 6, 7, 8], [9, 10, 11, 12]])\n",
    "a"
   ]
  },
  {
   "cell_type": "markdown",
   "id": "0e45b046",
   "metadata": {},
   "source": [
    "그러면 `a[0]`은 `[ 1,  2,  3,  4]`이다. 행렬이라면 첫 번째 행이다."
   ]
  },
  {
   "cell_type": "markdown",
   "id": "7d681c6c",
   "metadata": {},
   "source": [
    "`np.zeros(5)`라고 하면 5개의 `0.`으로 이루어진 array를 생성한다. `np.ones(3)`은 `np.array([1., 1., 1.])`과 같다. `np.array([1, \"a\", 10.5])`라고 하면 가장 '일반적인' 데이터 형태(스트링)으로 모두 변형한다. 반면 파이썬 내장 리스트 `[1,\"a\",10.5]`는 3개의 상이한 형태의 원소들의 `list`이다."
   ]
  },
  {
   "cell_type": "code",
   "execution_count": 4,
   "id": "df40787d",
   "metadata": {},
   "outputs": [
    {
     "data": {
      "text/plain": [
       "array(['1', 'a', '10.5'], dtype='<U32')"
      ]
     },
     "execution_count": 4,
     "metadata": {},
     "output_type": "execute_result"
    }
   ],
   "source": [
    "np.array([1, \"a\", 10.5])"
   ]
  },
  {
   "cell_type": "markdown",
   "id": "1f2e4b92",
   "metadata": {},
   "source": [
    "## array 연산\n",
    "똑같은 기호(예를 들어 `+`)를 사용하더라도 `array`로 연산을 하는 것은 파이썬 내장 `list`로 연산을 하는 것과 완전히 다른 결과를 줄 수 있다. 파이썬에 내장된 `list`들을 `+`로 연결하면 원소들을 연결한다. 반면, NumPy의 `array`로 `+` 연산을 하면 원소별 합산을 한다."
   ]
  },
  {
   "cell_type": "code",
   "execution_count": 5,
   "id": "df87a98c",
   "metadata": {},
   "outputs": [
    {
     "data": {
      "text/plain": [
       "[0, 1, 2, 3, 4, 10, 11, 12, 13, 14]"
      ]
     },
     "execution_count": 5,
     "metadata": {},
     "output_type": "execute_result"
    }
   ],
   "source": [
    "a1 = list(range(0,5)) # [0,1,2,3,4]\n",
    "a2 = list(range(10,15)) # [10,11,12,13,14]\n",
    "a1+a2"
   ]
  },
  {
   "cell_type": "code",
   "execution_count": 6,
   "id": "bcc09e60",
   "metadata": {},
   "outputs": [
    {
     "data": {
      "text/plain": [
       "array([10, 12, 14, 16, 18])"
      ]
     },
     "execution_count": 6,
     "metadata": {},
     "output_type": "execute_result"
    }
   ],
   "source": [
    "b1 = np.arange(5)      # array([0, 1, 2, 3, 4])\n",
    "b2 = np.arange(10,15)  # array([10, 11, 12, 13, 14])\n",
    "b1+b2"
   ]
  },
  {
   "cell_type": "markdown",
   "id": "1fcb65b2",
   "metadata": {},
   "source": [
    "파이썬 내장 list의 경우 원소별 합산을 하려면 다음 (상대적으로) 복잡한 코드를 사용한다."
   ]
  },
  {
   "cell_type": "code",
   "execution_count": 7,
   "id": "c13e8aa9",
   "metadata": {},
   "outputs": [
    {
     "data": {
      "text/plain": [
       "[10, 12, 14, 16, 18]"
      ]
     },
     "execution_count": 7,
     "metadata": {},
     "output_type": "execute_result"
    }
   ],
   "source": [
    "[x+y for x,y in zip(a1,a2)]"
   ]
  },
  {
   "cell_type": "markdown",
   "id": "95d4e5cd",
   "metadata": {},
   "source": [
    "NumPy의 `ndarray`에 대하여 내장 list의 `+`처럼 array들을 연결하려면 `np.concatenate`를 사용한다."
   ]
  },
  {
   "cell_type": "code",
   "execution_count": 8,
   "id": "15d3d114",
   "metadata": {},
   "outputs": [
    {
     "data": {
      "text/plain": [
       "array([ 0,  1,  2,  3,  4, 10, 11, 12, 13, 14])"
      ]
     },
     "execution_count": 8,
     "metadata": {},
     "output_type": "execute_result"
    }
   ],
   "source": [
    "np.concatenate((b1,b2))"
   ]
  },
  {
   "cell_type": "code",
   "execution_count": 9,
   "id": "6f680969",
   "metadata": {},
   "outputs": [
    {
     "data": {
      "text/plain": [
       "array([ 0,  1,  2,  3,  4, 10, 11, 12, 13, 14,  0,  1,  2,  3,  4])"
      ]
     },
     "execution_count": 9,
     "metadata": {},
     "output_type": "execute_result"
    }
   ],
   "source": [
    "np.concatenate((b1,b2,b1))"
   ]
  },
  {
   "cell_type": "markdown",
   "id": "a1979e95",
   "metadata": {},
   "source": [
    "## Pandas array와 NumPy array\n",
    "Pandas와 NumPy array의 차이에 대해서는 [이 문서](https://www.geeksforgeeks.org/difference-between-pandas-vs-numpy/)에 잘 설명되어 있다."
   ]
  }
 ],
 "metadata": {
  "kernelspec": {
   "display_name": "Python 3",
   "language": "python",
   "name": "python3"
  },
  "language_info": {
   "codemirror_mode": {
    "name": "ipython",
    "version": 3
   },
   "file_extension": ".py",
   "mimetype": "text/x-python",
   "name": "python",
   "nbconvert_exporter": "python",
   "pygments_lexer": "ipython3",
   "version": "3.9.16"
  }
 },
 "nbformat": 4,
 "nbformat_minor": 5
}
