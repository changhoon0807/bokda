{
 "cells": [
  {
   "cell_type": "markdown",
   "metadata": {},
   "source": [
    "## Logistic Regression Frequentist"
   ]
  },
  {
   "cell_type": "markdown",
   "metadata": {},
   "source": [
    "빈도주의 접근법 하의 Logistic regression에 대한 자세한 설명은 `manual/Logistic Regression Frequentist.md` 참고."
   ]
  },
  {
   "cell_type": "markdown",
   "metadata": {},
   "source": [
    "### 데이터 불러오기: 모형 시뮬레이션을 위해 임의생성된 데이터셋"
   ]
  },
  {
   "cell_type": "code",
   "execution_count": 1,
   "metadata": {},
   "outputs": [],
   "source": [
    "import pandas as pd"
   ]
  },
  {
   "cell_type": "code",
   "execution_count": 2,
   "metadata": {},
   "outputs": [
    {
     "data": {
      "text/html": [
       "<div>\n",
       "<style scoped>\n",
       "    .dataframe tbody tr th:only-of-type {\n",
       "        vertical-align: middle;\n",
       "    }\n",
       "\n",
       "    .dataframe tbody tr th {\n",
       "        vertical-align: top;\n",
       "    }\n",
       "\n",
       "    .dataframe thead th {\n",
       "        text-align: right;\n",
       "    }\n",
       "</style>\n",
       "<table border=\"1\" class=\"dataframe\">\n",
       "  <thead>\n",
       "    <tr style=\"text-align: right;\">\n",
       "      <th></th>\n",
       "      <th>x1</th>\n",
       "      <th>x2</th>\n",
       "      <th>x3</th>\n",
       "      <th>x4</th>\n",
       "      <th>target</th>\n",
       "    </tr>\n",
       "  </thead>\n",
       "  <tbody>\n",
       "    <tr>\n",
       "      <th>0</th>\n",
       "      <td>-0.785351</td>\n",
       "      <td>-0.882394</td>\n",
       "      <td>-0.591329</td>\n",
       "      <td>-2.455268</td>\n",
       "      <td>0</td>\n",
       "    </tr>\n",
       "    <tr>\n",
       "      <th>1</th>\n",
       "      <td>-0.753246</td>\n",
       "      <td>0.890832</td>\n",
       "      <td>0.934414</td>\n",
       "      <td>-0.674267</td>\n",
       "      <td>1</td>\n",
       "    </tr>\n",
       "    <tr>\n",
       "      <th>2</th>\n",
       "      <td>-0.802601</td>\n",
       "      <td>1.546045</td>\n",
       "      <td>-1.140014</td>\n",
       "      <td>0.741586</td>\n",
       "      <td>1</td>\n",
       "    </tr>\n",
       "    <tr>\n",
       "      <th>3</th>\n",
       "      <td>0.809788</td>\n",
       "      <td>1.692708</td>\n",
       "      <td>-0.038934</td>\n",
       "      <td>-0.516082</td>\n",
       "      <td>1</td>\n",
       "    </tr>\n",
       "    <tr>\n",
       "      <th>4</th>\n",
       "      <td>0.923345</td>\n",
       "      <td>-0.689635</td>\n",
       "      <td>-0.866196</td>\n",
       "      <td>1.828143</td>\n",
       "      <td>1</td>\n",
       "    </tr>\n",
       "    <tr>\n",
       "      <th>...</th>\n",
       "      <td>...</td>\n",
       "      <td>...</td>\n",
       "      <td>...</td>\n",
       "      <td>...</td>\n",
       "      <td>...</td>\n",
       "    </tr>\n",
       "    <tr>\n",
       "      <th>995</th>\n",
       "      <td>-0.789069</td>\n",
       "      <td>-0.041005</td>\n",
       "      <td>-0.730053</td>\n",
       "      <td>-0.349244</td>\n",
       "      <td>1</td>\n",
       "    </tr>\n",
       "    <tr>\n",
       "      <th>996</th>\n",
       "      <td>0.504786</td>\n",
       "      <td>-0.573993</td>\n",
       "      <td>0.826255</td>\n",
       "      <td>-0.293239</td>\n",
       "      <td>1</td>\n",
       "    </tr>\n",
       "    <tr>\n",
       "      <th>997</th>\n",
       "      <td>-1.357959</td>\n",
       "      <td>-0.921218</td>\n",
       "      <td>1.858536</td>\n",
       "      <td>0.485944</td>\n",
       "      <td>1</td>\n",
       "    </tr>\n",
       "    <tr>\n",
       "      <th>998</th>\n",
       "      <td>-0.513078</td>\n",
       "      <td>-0.967890</td>\n",
       "      <td>-0.342858</td>\n",
       "      <td>-0.341923</td>\n",
       "      <td>1</td>\n",
       "    </tr>\n",
       "    <tr>\n",
       "      <th>999</th>\n",
       "      <td>1.068614</td>\n",
       "      <td>0.385392</td>\n",
       "      <td>0.772832</td>\n",
       "      <td>-0.061418</td>\n",
       "      <td>1</td>\n",
       "    </tr>\n",
       "  </tbody>\n",
       "</table>\n",
       "<p>1000 rows × 5 columns</p>\n",
       "</div>"
      ],
      "text/plain": [
       "           x1        x2        x3        x4  target\n",
       "0   -0.785351 -0.882394 -0.591329 -2.455268       0\n",
       "1   -0.753246  0.890832  0.934414 -0.674267       1\n",
       "2   -0.802601  1.546045 -1.140014  0.741586       1\n",
       "3    0.809788  1.692708 -0.038934 -0.516082       1\n",
       "4    0.923345 -0.689635 -0.866196  1.828143       1\n",
       "..        ...       ...       ...       ...     ...\n",
       "995 -0.789069 -0.041005 -0.730053 -0.349244       1\n",
       "996  0.504786 -0.573993  0.826255 -0.293239       1\n",
       "997 -1.357959 -0.921218  1.858536  0.485944       1\n",
       "998 -0.513078 -0.967890 -0.342858 -0.341923       1\n",
       "999  1.068614  0.385392  0.772832 -0.061418       1\n",
       "\n",
       "[1000 rows x 5 columns]"
      ]
     },
     "execution_count": 2,
     "metadata": {},
     "output_type": "execute_result"
    }
   ],
   "source": [
    "df = pd.read_csv(\"../data/generated_1000x4.csv\")\n",
    "df"
   ]
  },
  {
   "cell_type": "markdown",
   "metadata": {},
   "source": [
    "`df`를 `target` 변수와 설명변수 그룹으로 나눈다."
   ]
  },
  {
   "cell_type": "code",
   "execution_count": 5,
   "metadata": {},
   "outputs": [],
   "source": [
    "X = df.drop(\"target\", axis=1)\n",
    "y = df[\"target\"]"
   ]
  },
  {
   "cell_type": "markdown",
   "metadata": {},
   "source": [
    "`bok_da` 횡단면분석 패키지 `cs`의 로지스틱모형 모듈(`logistic`)에서 `LogisticRegressionFreq` 클래스를 불러온 후, `model` 객체를 생성하고, `fit()` 메서드를 이용해 추정한다."
   ]
  },
  {
   "cell_type": "code",
   "execution_count": 6,
   "metadata": {},
   "outputs": [
    {
     "name": "stdout",
     "output_type": "stream",
     "text": [
      "> Initializing Model...\n",
      "  - Method: newton\n",
      "  - Tolerance: 1e-06\n",
      "  - Log Likelihood Tolerance: 1e-07\n",
      "  - Max Iterations: 300\n",
      "  - Verbose: True\n",
      "> Start Fitting Model...\n",
      "  - Input Data: 1000 samples, 5 features\n",
      "  - Adding constant term to the model\n",
      "  - Optimization Method: newton\n",
      "> Converged by tolerance at iteration 5 / 300 (elapsed: 0.0170s)\n",
      "> Model Fitted.\n",
      "  - Final Log-Likelihood: -568.3620\n"
     ]
    },
    {
     "data": {
      "text/plain": [
       "<bok_da.cs.logistic.logistic_reg_freq.LogisticRegressionFreq at 0x20310179400>"
      ]
     },
     "execution_count": 6,
     "metadata": {},
     "output_type": "execute_result"
    }
   ],
   "source": [
    "from bok_da.cs.logistic import LogisticRegressionFreq\n",
    "\n",
    "model = LogisticRegressionFreq(verbose=True)\n",
    "model.fit(X, y, add_const=True)"
   ]
  },
  {
   "cell_type": "markdown",
   "metadata": {},
   "source": [
    "추정결과를 `print_summary()` 메서드를 이용해 출력한다."
   ]
  },
  {
   "cell_type": "code",
   "execution_count": 7,
   "metadata": {},
   "outputs": [
    {
     "name": "stdout",
     "output_type": "stream",
     "text": [
      "------------------------------------------------\n",
      "Model Summary:\n",
      "\n",
      "Num of Observations: 1000\n",
      "Degrees of Freedom (Residual): 995\n",
      "Log-Likelihood: -568.3620\n",
      "Pseudo R-squared: 0.1797\n",
      "AIC: 1146.7239\n",
      "\n",
      "------------------------------------------------\n",
      "Variable    Beta Std Err       z p-value        \n",
      "------------------------------------------------\n",
      "const    -0.0692  0.0721 -0.9601  0.3370        \n",
      "x1        0.4072  0.0741  5.4941  0.0000 ***    \n",
      "x2       -0.4901  0.0748 -6.5547  0.0000 ***    \n",
      "x3       -0.0379  0.0724 -0.5228  0.6011        \n",
      "x4        1.0358  0.0884 11.7184  0.0000 ***    \n",
      "------------------------------------------------\n",
      "signif. codes:  0 '***' 0.001 '**' 0.01 '*' 0.05\n",
      "------------------------------------------------\n"
     ]
    }
   ],
   "source": [
    "model.print_summary(digits=4)"
   ]
  }
 ],
 "metadata": {
  "kernelspec": {
   "display_name": "bok_da_test_py312",
   "language": "python",
   "name": "python3"
  },
  "language_info": {
   "codemirror_mode": {
    "name": "ipython",
    "version": 3
   },
   "file_extension": ".py",
   "mimetype": "text/x-python",
   "name": "python",
   "nbconvert_exporter": "python",
   "pygments_lexer": "ipython3",
   "version": "3.12.9"
  }
 },
 "nbformat": 4,
 "nbformat_minor": 2
}
