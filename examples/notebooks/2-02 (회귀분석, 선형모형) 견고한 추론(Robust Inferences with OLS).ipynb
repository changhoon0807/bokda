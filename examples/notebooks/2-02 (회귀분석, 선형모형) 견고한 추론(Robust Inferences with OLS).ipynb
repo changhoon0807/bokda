{
 "cells": [
  {
   "cell_type": "markdown",
   "metadata": {},
   "source": [
    "# 견고한 추론\n",
    "- 작성자: 고려대학교 경제학과 한치록 교수, 데이터사이언스팀 이창훈 과장\n",
    "\n",
    "[Statsmodels][sm] 패키지를 이용하여 [이분산에 견고한 표준오차](https://en.wikipedia.org/wiki/Heteroskedasticity-consistent_standard_errors), [클러스터 구조에 견고한 표준오차](https://en.wikipedia.org/wiki/Clustered_standard_errors), [Newey-West 표준오차](https://en.wikipedia.org/wiki/Newey–West_estimator)를 구하는 방법을 살펴본다.\n",
    "\n",
    "[sm]: https://www.statsmodels.org/"
   ]
  },
  {
   "cell_type": "markdown",
   "metadata": {},
   "source": [
    "## 표준오차 계산 방법을 지정하는 단계\n",
    "계량경제학에서 추정값 계산 단계와 표준오차 계산 단계는 서로 구분되는 별개의 과정이다. OLS 추정량에 대하여 통상적인(ordinary) 표준오차를 구할 수도 있고 견고한 표준오차를 구할 수도 있다. 그래서 [R]에서는 OLS 추정이 완료된 다음, 주어진 OLS 추정 결과에 대하여 다양한 방식으로 표준오차를 구할 수 있다.\n",
    "\n",
    "```r\n",
    "# R\n",
    "library(lmtest)\n",
    "library(sandwich)\n",
    "ols <- lm(y~x1+x2, data=DF)  # OLS\n",
    "coeftest(ols)                # ordinary standard errors\n",
    "coeftest(ols, vcov = vcovHC) # HC3 standard errors\n",
    "coeftest(ols, vcov = vcovCL, cluster = ~id) # clustered standard errors\n",
    "```\n",
    "\n",
    "[Stata]는 추정과 표준오차 계산을 하나의 명령에 통합하되, 표준오차 계산 방법을 바꾸고자 하면 명령어의 옵션을 조정한다.\n",
    "\n",
    "```s\n",
    "/* Stata */\n",
    "reg y x1 x2             /* OLS with ordinary standard errors */\n",
    "reg y x1 x2, vce(r)     /* OLS with HC standard errors */\n",
    "reg y x1 x2, vce(cl id) /* OLS with clustered standard errors */\n",
    "```\n",
    "\n",
    "[Statsmodels][sm]에서는 `fit()` 단계에서 표준오차 계산 방식을 지정할 수 있다.\n",
    "\n",
    "```python\n",
    "# Python Statsmodels\n",
    "import statsmodels.formula.api as smf\n",
    "model = smf.ols('y~x1+x2', data=df)  # \"OLS model\" (to be fitted later)\n",
    "reg = model.fit()\n",
    "reg.summary()                    # Show stats with ordinary standard errors\n",
    "reg = model.fit(cov_type='HC3')  # To show HC3 standard errors by summary()\n",
    "reg.summary()                    # Show stats with HC standard errors\n",
    "```\n",
    "\n",
    "[Statsmodels][sm]에서 표준오차 방식 지정에 관한 자세한 사항은 [해당 Statsmodels 도움말](https://www.statsmodels.org/dev/generated/statsmodels.regression.linear_model.RegressionResults.get_robustcov_results.html#statsmodels.regression.linear_model.RegressionResults.get_robustcov_results)을 참조하라.\n",
    "\n",
    "[R]: https://r-project.org/\n",
    "[Stata]: https://stata.com/\n",
    "[sm]: https://www.statsmodels.org/"
   ]
  },
  {
   "cell_type": "markdown",
   "metadata": {},
   "source": [
    "## 이분산에 견고한 표준오차\n",
    "\n",
    "횡단면 자료를 분석할 때에는 관측치 수가 적지만 않으면 [이분산에 견고한 표준오차](https://en.wikipedia.org/wiki/Heteroskedasticity-consistent_standard_errors)를 사용하는 것이 좋다. 이분산에 견고한 표준오차는 [statsmodels][sm]에 구현되어 있다. `fit` 메쏘드 호출 시 적절한 `cov_type` 인자를 이용한다. 아래 예를 보라.\n",
    "\n",
    "[R]: https://r-project.org/\n",
    "[Stata]: https://stata.com/\n",
    "[sm]: https://www.statsmodels.org/"
   ]
  },
  {
   "cell_type": "code",
   "execution_count": 1,
   "metadata": {},
   "outputs": [
    {
     "name": "stdout",
     "output_type": "stream",
     "text": [
      "                            OLS Regression Results                            \n",
      "==============================================================================\n",
      "Dep. Variable:                  lwage   R-squared:                      0.3160\n",
      "Model:                            OLS   Adj. R-squared:                 0.3121\n",
      "No. Observations:                 526   F-statistic:                     67.76\n",
      "Covariance Type:                  HC1   Prob (F-statistic):             0.0000\n",
      "==============================================================================\n",
      "                 coef    std err          z      P>|z|      [0.025      0.975]\n",
      "------------------------------------------------------------------------------\n",
      "Intercept     0.28436    0.11171       2.55      0.011     0.06542     0.50330\n",
      "educ          0.09203    0.00792      11.62      0.000     0.07650     0.10755\n",
      "exper         0.00412    0.00175       2.36      0.018     0.00070     0.00754\n",
      "tenure        0.02207    0.00378       5.83      0.000     0.01465     0.02948\n",
      "==============================================================================\n",
      "\n",
      "Notes:\n",
      "1. Standard Errors are heteroscedasticity robust (HC1)\n"
     ]
    }
   ],
   "source": [
    "import statsmodels.formula.api as smf\n",
    "import bok_da as bd\n",
    "import pandas as pd\n",
    "\n",
    "df = pd.read_csv('../data/wage1.csv')\n",
    "ols_model = smf.ols('lwage ~ educ + exper + tenure', data=df)\n",
    "# ols_with_ordinary_se = ols_model.fit()\n",
    "ols_hc1 = ols_model.fit(cov_type='HC1')\n",
    "print(ols_hc1.summary(slim=True))"
   ]
  },
  {
   "cell_type": "markdown",
   "metadata": {},
   "source": [
    "하단 Notes \\[1\\]을 보면 표준오차가 HC1임이 표시되어 있다."
   ]
  },
  {
   "cell_type": "markdown",
   "metadata": {},
   "source": [
    "[Statsmodels][sm]에서 구하는 이분산에 견고한 표준오차 유형으로 HC0, HC1, HC2, HC3이 있다. [R]에서는 `vcovHC()`에서 어느 유형을 사용할지 지정할 수 있으며, 옵션을 주지 않으면 default로 HC3이 계산된다. [Stata]에서 `vce(r)` 옵션을 주면 HC1이 계산된다.\n",
    "```\n",
    ". use wage1, clear\n",
    "\n",
    ". reg lwage educ exper tenure, vce(r)\n",
    "\n",
    "Linear regression                               Number of obs     =        526\n",
    "                                                F(3, 522)         =      67.76\n",
    "                                                Prob > F          =     0.0000\n",
    "                                                R-squared         =     0.3160\n",
    "                                                Root MSE          =     .44086\n",
    "\n",
    "------------------------------------------------------------------------------\n",
    "             |               Robust\n",
    "       lwage | Coefficient  std. err.      t    P>|t|     [95% conf. interval]\n",
    "-------------+----------------------------------------------------------------\n",
    "        educ |    .092029   .0079212    11.62   0.000     .0764676    .1075903\n",
    "       exper |   .0041211   .0017459     2.36   0.019     .0006913    .0075509\n",
    "      tenure |   .0220672    .003782     5.83   0.000     .0146374    .0294971\n",
    "       _cons |   .2843595   .1117069     2.55   0.011     .0649092    .5038098\n",
    "------------------------------------------------------------------------------\n",
    "```\n",
    "\n",
    "[R]: https://r-project.org/\n",
    "[Stata]: https://stata.com/\n",
    "[sm]: https://www.statsmodels.org/"
   ]
  },
  {
   "cell_type": "code",
   "execution_count": 2,
   "metadata": {},
   "outputs": [
    {
     "data": {
      "text/plain": [
       "Intercept    0.111707\n",
       "educ         0.007921\n",
       "exper        0.001746\n",
       "tenure       0.003782\n",
       "dtype: float64"
      ]
     },
     "execution_count": 2,
     "metadata": {},
     "output_type": "execute_result"
    }
   ],
   "source": [
    "ols_hc1.HC1_se"
   ]
  },
  {
   "cell_type": "markdown",
   "metadata": {},
   "source": [
    "Stata에서 `vce(r)`이 리포트하는 표준오차가 Statsmodels의 `HC1_se`와 동일함을 확인할 수 있다."
   ]
  },
  {
   "cell_type": "markdown",
   "metadata": {},
   "source": [
    "## 클러스터 표준오차\n",
    "\n",
    "- 패널데이터 분석 등에서 [클러스터 표준오차](https://en.wikipedia.org/wiki/Clustered_standard_errors)를 사용하기 위해서는 `cov_type`를 `\"cluster\"`로 지정하고 `cov_kwds`에 `\"groups\"`를 지정한다(아래 예 참조).  \n",
    "\n",
    "- 아래 예에서 `C(year)`는 `year`변수를 더미변수로 처리해 각 연도별 고정효과를 회귀식에 포함하라는 의미이다. \n",
    "\n",
    "- `cov_kwds={'groups':df[\"region\"]}`는 `cov_type=\"cluster\"` 방식으로 표준오차를 계산할 때 어떤 기준으로 군집(cluster)을 나눌지 지정하는 옵션이다. 아래 예에서 `region`값이 동일한 관측치들끼리 하나의 군집이 되고 군집 내 상관관계를 허용한 표준오차를 계산하게 된다. 결과적으로 지역별 군집화를 통해 같은 지역 내 관측치들끼리의 상관성을 감안한 보다 견고헌(robust) 신뢰구간과 p-값이 산출된다."
   ]
  },
  {
   "cell_type": "code",
   "execution_count": 3,
   "metadata": {},
   "outputs": [
    {
     "name": "stdout",
     "output_type": "stream",
     "text": [
      "                            OLS Regression Results                            \n",
      "==============================================================================\n",
      "Dep. Variable:              deathrate   R-squared:                      0.9209\n",
      "Model:                            OLS   Adj. R-squared:                 0.9190\n",
      "No. Observations:                 258   F-statistic:                     493.2\n",
      "Covariance Type:              cluster   Prob (F-statistic):             0.0000\n",
      "===================================================================================\n",
      "                      coef    std err          z      P>|z|      [0.025      0.975]\n",
      "-----------------------------------------------------------------------------------\n",
      "Intercept         -0.22413    1.01916      -0.22      0.826    -2.22165     1.77340\n",
      "C(year)[T.2009]   -0.37876    0.07655      -4.95      0.000    -0.52879    -0.22873\n",
      "C(year)[T.2010]   -0.35100    0.09895      -3.55      0.000    -0.54493    -0.15706\n",
      "drink              0.00639    0.01410       0.45      0.650    -0.02125     0.03404\n",
      "smoke              0.03328    0.01939       1.72      0.086    -0.00473     0.07128\n",
      "aged               0.40270    0.01352      29.77      0.000     0.37619     0.42920\n",
      "vehipc             1.40795    1.72458       0.82      0.414    -1.97216     4.78805\n",
      "===================================================================================\n",
      "\n",
      "Notes:\n",
      "1. Standard Errors are robust to cluster correlation (cluster)\n"
     ]
    }
   ],
   "source": [
    "import pandas as pd\n",
    "import statsmodels.formula.api as smf\n",
    "\n",
    "df = pd.read_csv('../data/Death.csv') # 3 year panel data\n",
    "model = smf.ols('deathrate~drink+smoke+aged+vehipc+C(year)', data=df) # C: categorical\n",
    "ols_cc = model.fit(cov_type=\"cluster\", cov_kwds={'groups':df[\"region\"]})\n",
    "print(ols_cc.summary(slim=True))"
   ]
  },
  {
   "cell_type": "markdown",
   "metadata": {},
   "source": [
    "**R 결과와 비교**하면 소수점 아래 셋째 자리까지 똑같음을 알 수 있다.\n",
    "\n",
    "```r\n",
    "DF <- read.csv('../data/Death.csv')\n",
    "ols <- lm(deathrate~drink+smoke+aged+vehipc+factor(year), data=DF)\n",
    "coeftest(ols, vcov=vcovCL, cluster=~region)\n",
    "\n",
    "# t test of coefficients:\n",
    "# \n",
    "#                    Estimate Std. Error t value    Pr(>|t|)    \n",
    "# (Intercept)      -0.2241278  1.0191647 -0.2199   0.8261175    \n",
    "# drink             0.0063935  0.0141033  0.4533   0.6506992    \n",
    "# smoke             0.0332761  0.0193888  1.7163   0.0873495 .  \n",
    "# aged              0.4026956  0.0135248 29.7745   < 2.2e-16 ***\n",
    "# vehipc            1.4079470  1.7245757  0.8164   0.4150444    \n",
    "# factor(year)2009 -0.3787601  0.0765451 -4.9482 0.000001374 ***\n",
    "# factor(year)2010 -0.3509959  0.0989481 -3.5473   0.0004644 ***\n",
    "# ---\n",
    "# Signif. codes:  0 ‘***’ 0.001 ‘**’ 0.01 ‘*’ 0.05 ‘.’ 0.1 ‘ ’ 1\n",
    "```"
   ]
  },
  {
   "cell_type": "markdown",
   "metadata": {},
   "source": [
    "더 상세한 수치를 비교해 보면 정확히 일치함을 알 수 있다."
   ]
  },
  {
   "cell_type": "code",
   "execution_count": 4,
   "metadata": {},
   "outputs": [
    {
     "data": {
      "text/plain": [
       "Intercept          1.019165\n",
       "C(year)[T.2009]    0.076545\n",
       "C(year)[T.2010]    0.098948\n",
       "drink              0.014103\n",
       "smoke              0.019389\n",
       "aged               0.013525\n",
       "vehipc             1.724576\n",
       "dtype: float64"
      ]
     },
     "execution_count": 4,
     "metadata": {},
     "output_type": "execute_result"
    }
   ],
   "source": [
    "ols_cc.bse"
   ]
  },
  {
   "cell_type": "markdown",
   "metadata": {},
   "source": [
    "**Stata 결과와 비교**해도 똑같다.\n",
    "\n",
    "```\n",
    ". import delimited using ../data/Death.csv, delim(\",\") clear\n",
    "(encoding automatically selected: ISO-8859-1)\n",
    "(9 vars, 258 obs)\n",
    "\n",
    ". reg deathrate drink smoke aged vehipc i.year, vce(cl region)\n",
    "\n",
    "Linear regression                               Number of obs     =        258\n",
    "                                                F(6, 85)          =     493.15\n",
    "                                                Prob > F          =     0.0000\n",
    "                                                R-squared         =     0.9209\n",
    "                                                Root MSE          =     .61396\n",
    "\n",
    "                                (Std. err. adjusted for 86 clusters in region)\n",
    "------------------------------------------------------------------------------\n",
    "             |               Robust\n",
    "   deathrate | Coefficient  std. err.      t    P>|t|     [95% conf. interval]\n",
    "-------------+----------------------------------------------------------------\n",
    "       drink |   .0063935   .0141033     0.45   0.651    -.0216475    .0344346\n",
    "       smoke |   .0332761   .0193888     1.72   0.090     -.005274    .0718263\n",
    "        aged |   .4026956   .0135248    29.77   0.000     .3758046    .4295866\n",
    "      vehipc |   1.407947   1.724575     0.82   0.417    -2.020971    4.836865\n",
    "             |\n",
    "        year |\n",
    "       2009  |  -.3787601   .0765451    -4.95   0.000    -.5309523    -.226568\n",
    "       2010  |  -.3509959   .0989481    -3.55   0.001    -.5477312   -.1542606\n",
    "             |\n",
    "       _cons |  -.2241278   1.019165    -0.22   0.826      -2.2505    1.802244\n",
    "------------------------------------------------------------------------------\n",
    "```"
   ]
  },
  {
   "cell_type": "markdown",
   "metadata": {},
   "source": [
    "이상은 자료집합에 결측치가 없는 경우에 해당한다. 만약 결측치가 있으면 다음 오류가 발생할 수 있다.\n",
    "\n",
    "```\n",
    "ValueError: The weights and list don't have the same length.\n",
    "```\n",
    "\n",
    "이 문제를 해결하기 위해서는 [`pandas.DataFrame.dropna()`](https://pandas.pydata.org/docs/reference/api/pandas.DataFrame.dropna.html)를 이용하여 미리 결측치들을 제거하고 시작해야 한다. smf.ols는 종속변수·설명변수만 보고 결측치가 있는 행을 자동으로 제거한다. 하지만 클러스터 표준오차의 그룹 변수(df[\"region\"])는 결측치가 있는 행을 자동으로 잘라내지 않고 원본 길이를 그대로 유지하기 때문에, 양쪽 길이가 안 맞아 오류가 난다. 이 경우 아래와 같이 dropna()의 subset인자를 사용해서 결측치가 있는 행을 제거한 후 추정하면 된다.\n",
    "\n",
    "```python\n",
    "# 회귀식에 쓰이는 변수들과 클러스터 변수 이름을 모두 모아서\n",
    "needed = [\"deathrate\", \"drink\", \"smoke\", \"aged\", \"vehipc\", \"year\", \"region\"]\n",
    "\n",
    "# 이 중 하나라도 NaN인 행은 dropna()로 완전히 삭제\n",
    "df_clean = df.dropna(subset=needed)\n",
    "\n",
    "# 이제 그룹 길이도 딱 맞으니 오류 없이 돌릴 수 있음\n",
    "model  = smf.ols('deathrate ~ drink + smoke + aged + vehipc + C(year)', data=df_clean)\n",
    "ols_cc = model.fit(cov_type=\"cluster\", cov_kwds={'groups': df_clean[\"region\"]})\n",
    "```"
   ]
  },
  {
   "cell_type": "markdown",
   "metadata": {},
   "source": [
    "## Newey-West 표준오차\n",
    "Newey-West 표준오차 사용을 위해서는 `cov_type` 옵션으로 \"HAC\"를 사용한다. 자세한 설명은 [여기](https://www.statsmodels.org/dev/generated/statsmodels.regression.linear_model.RegressionResults.get_robustcov_results.html#statsmodels.regression.linear_model.RegressionResults.get_robustcov_results) 참조. 다음 예는 [R sandwich 패키지의 NeweyWest 도움말](https://sandwich.r-forge.r-project.org/reference/NeweyWest.html)을 참조하였다."
   ]
  },
  {
   "cell_type": "code",
   "execution_count": 6,
   "metadata": {},
   "outputs": [
    {
     "name": "stdout",
     "output_type": "stream",
     "text": [
      "                            OLS Regression Results                            \n",
      "==============================================================================\n",
      "Dep. Variable:                    usr   R-squared:                      0.5006\n",
      "Model:                            OLS   Adj. R-squared:                 0.4828\n",
      "Method:                 Least Squares   F-statistic:                     10.90\n",
      "Date:                Thu, 22 May 2025   Prob (F-statistic):             0.0026\n",
      "Time:                        14:36:40   Log-Likelihood:                -71.743\n",
      "No. Observations:                  30   AIC:                             147.5\n",
      "Df Residuals:                      28   BIC:                             150.3\n",
      "Df Model:                           1                                         \n",
      "Covariance Type:                  HAC                                         \n",
      "==============================================================================\n",
      "                 coef    std err          z      P>|z|      [0.025      0.975]\n",
      "------------------------------------------------------------------------------\n",
      "Intercept    23.13483    6.32703       3.66      0.000    10.73407    35.53558\n",
      "idle         -0.22815    0.06909      -3.30      0.001    -0.36357    -0.09273\n",
      "==============================================================================\n",
      "Omnibus:                        7.928   Durbin-Watson:                   1.296\n",
      "Prob(Omnibus):                  0.019   Jarque-Bera (JB):               11.990\n",
      "Skew:                          -0.281   Prob(JB):                      0.00249\n",
      "Kurtosis:                       6.046   Cond. No.                         628.\n",
      "==============================================================================\n",
      "\n",
      "Notes:\n",
      "1. Standard Errors are heteroscedasticity and autocorrelation robust (HAC) using 3 lags and with small sample correction\n"
     ]
    }
   ],
   "source": [
    "import pandas as pd\n",
    "import statsmodels.formula.api as smf\n",
    "\n",
    "df = pd.read_stata('../data/idle2.dta')\n",
    "model = smf.ols('usr ~ idle', data=df)\n",
    "ols_hac = model.fit(cov_type = \"HAC\", cov_kwds={'maxlags':3, 'use_correction':True})\n",
    "print(ols_hac.summary())"
   ]
  },
  {
   "cell_type": "markdown",
   "metadata": {},
   "source": [
    "이 결과는 **R로써 다음과 같이 복원** 가능하다.\n",
    "\n",
    "```r\n",
    "# R codes\n",
    "library(lmtest)\n",
    "library(sandwich)\n",
    "DF <- readstata13::read.dta13('idle2.dta')\n",
    "ols <- lm(usr~idle, data=DF)\n",
    "coeftest(ols, vcov=vcovHAC, lag=3, prewhite = FALSE, adjust = TRUE)\n",
    "\n",
    "# t test of coefficients:\n",
    "# \n",
    "#             Estimate Std. Error t value  Pr(>|t|)    \n",
    "# (Intercept) 23.134828   6.327031  3.6565 0.001047 **\n",
    "# idle        -0.228150   0.069093 -3.3021 0.002626 **\n",
    "# ---\n",
    "# Signif. codes:  0 ‘***’ 0.001 ‘**’ 0.01 ‘*’ 0.05 ‘.’ 0.1 ‘ ’ 1\n",
    "```"
   ]
  },
  {
   "cell_type": "markdown",
   "metadata": {},
   "source": [
    "**Stata에서도 복원** 가능하다.\n",
    "\n",
    "```\n",
    ". webuse idle2, clear\n",
    "\n",
    ". tsset time\n",
    "\n",
    "Time variable: time, 1 to 30\n",
    "        Delta: 1 unit\n",
    "\n",
    ". newey usr idle, lag(3)\n",
    "\n",
    "Regression with Newey–West standard errors      Number of obs     =         30\n",
    "Maximum lag = 3                                 F(  1,        28) =      10.90\n",
    "                                                Prob > F          =     0.0026\n",
    "\n",
    "------------------------------------------------------------------------------\n",
    "             |             Newey–West\n",
    "         usr | Coefficient  std. err.      t    P>|t|     [95% conf. interval]\n",
    "-------------+----------------------------------------------------------------\n",
    "        idle |  -.2281501   .0690927    -3.30   0.003    -.3696801     -.08662\n",
    "       _cons |   23.13483   6.327031     3.66   0.001     10.17449    36.09516\n",
    "------------------------------------------------------------------------------\n",
    "```"
   ]
  }
 ],
 "metadata": {
  "kernelspec": {
   "display_name": "bok_da_test_py312",
   "language": "python",
   "name": "python3"
  },
  "language_info": {
   "codemirror_mode": {
    "name": "ipython",
    "version": 3
   },
   "file_extension": ".py",
   "mimetype": "text/x-python",
   "name": "python",
   "nbconvert_exporter": "python",
   "pygments_lexer": "ipython3",
   "version": "3.12.9"
  }
 },
 "nbformat": 4,
 "nbformat_minor": 4
}
