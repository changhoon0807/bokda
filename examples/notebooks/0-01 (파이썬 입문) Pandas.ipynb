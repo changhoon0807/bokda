{
 "cells": [
  {
   "cell_type": "markdown",
   "id": "6aff1d18-8c7c-41eb-a2c7-1111c7b3121a",
   "metadata": {},
   "source": [
    "# Pandas 데이터 구조\n",
    "- 작성자: 고려대학교 경제학과 한치록 교수\n",
    "\n",
    "Pandas 데이터 구조는 [Pandas User Guide](https://pandas.pydata.org/docs/user_guide/index.html)의 [Intro to data structures](https://pandas.pydata.org/docs/user_guide/dsintro.html)에 잘 설명되어 있다. 이하는 이 문서를 참조한 것이다. Pandas 데이터 구조 중 1차원은 `Series`, 2차원은 `DataFrame`이라 한다. 계량경제 분석에서 1차원 데이터를 사용하는 경우는 거의 없으며 대부분의 작업에서 `DataFrame`을 활용할 것이다. 그런데 `DataFrame`은 `Series`를 특정한 방식으로 모아놓은 것이기 때문에 `Series`에 대해 알아두는 것도 도움이 된다.\n",
    "\n",
    "## Series\n",
    "먼저 `Series`에 대하여 살펴보자. `Series`는 데이터 벡터(1차원 array로서 `ExtensionArray`)에 인덱스를 붙인 것으로 생각하면 된다. 시각적으로, 열 벡터 또는 $n\\times 1$ 행렬이라고 생각하면 좋다. '인덱스'(index)란 행의 이름에 해당한다. 다음 예를 보면 분명하다.\n"
   ]
  },
  {
   "cell_type": "code",
   "execution_count": 1,
   "id": "462278b8-c9b3-4852-a686-90ad278ae376",
   "metadata": {},
   "outputs": [
    {
     "data": {
      "text/plain": [
       "a    10\n",
       "b    20\n",
       "c    30\n",
       "dtype: int64"
      ]
     },
     "execution_count": 1,
     "metadata": {},
     "output_type": "execute_result"
    }
   ],
   "source": [
    "import pandas as pd\n",
    "pd.Series([10,20,30], index=[\"a\",\"b\",\"c\"])"
   ]
  },
  {
   "cell_type": "markdown",
   "id": "89509a4c-f101-4030-8645-c26835202c05",
   "metadata": {},
   "source": [
    "위 예에서 10, 20, 30은 데이터이고 행 이름은 a, b, c이다. `pd.Series([10,20,30])`과 같이 별도로 인덱스를 지정하지 않으면 0, 1, 2,... 이런 식으로 인덱스가 자동으로 붙는다."
   ]
  },
  {
   "cell_type": "code",
   "execution_count": 2,
   "id": "0ea0d990-af1b-4fb7-b93d-71a7b55a6cea",
   "metadata": {},
   "outputs": [
    {
     "data": {
      "text/plain": [
       "0    10\n",
       "1    20\n",
       "2    30\n",
       "dtype: int64"
      ]
     },
     "execution_count": 2,
     "metadata": {},
     "output_type": "execute_result"
    }
   ],
   "source": [
    "pd.Series([10,20,30])"
   ]
  },
  {
   "cell_type": "markdown",
   "id": "3e87843c-85fb-4d76-8249-c17c06da901d",
   "metadata": {
    "jp-MarkdownHeadingCollapsed": true
   },
   "source": [
    "행 이름이 0, 1, 2임을 알 수 있다. 참고로, (별로 쓸 일은 없겠지만) 다음과 같이 dictionary로부터 Series를 만들 수도 있다. 먼저 dictionary를 만든다."
   ]
  },
  {
   "cell_type": "code",
   "execution_count": 3,
   "id": "cb25beb5-ae40-4dc4-975a-f44b439e7478",
   "metadata": {},
   "outputs": [
    {
     "data": {
      "text/plain": [
       "{'a': 10, 'b': 20, 'c': 30}"
      ]
     },
     "execution_count": 3,
     "metadata": {},
     "output_type": "execute_result"
    }
   ],
   "source": [
    "dict = {\"a\": 10, \"b\": 20, \"c\": 30}\n",
    "dict"
   ]
  },
  {
   "cell_type": "markdown",
   "id": "c8590fff-135b-44cd-84bd-02b3413a57db",
   "metadata": {},
   "source": [
    "그 다음에 이것으로부터 Series를 만들 수 있다."
   ]
  },
  {
   "cell_type": "code",
   "execution_count": 4,
   "id": "77d70bfe-6c58-437a-8ce7-ad788350d5ef",
   "metadata": {},
   "outputs": [
    {
     "data": {
      "text/plain": [
       "a    10\n",
       "b    20\n",
       "c    30\n",
       "dtype: int64"
      ]
     },
     "execution_count": 4,
     "metadata": {},
     "output_type": "execute_result"
    }
   ],
   "source": [
    "pd.Series(dict)"
   ]
  },
  {
   "cell_type": "markdown",
   "id": "db4d9db1-b7a6-432f-b860-4aad3e573319",
   "metadata": {},
   "source": [
    "데이터 부분에 scalar 값 하나만 쓰고 Series를 만들 수도 있다. `pd.Series(5.0, index=[\"a\", \"b\", \"c\"])`라고 하면 5.0 값을 3번 반복해서 사용하는 것으로서, `pd.Series([5.0, 5.0, 5.0], index=[\"a\", \"b\", \"c\"])`와 같다."
   ]
  },
  {
   "cell_type": "code",
   "execution_count": 5,
   "id": "c3ad65eb",
   "metadata": {},
   "outputs": [
    {
     "data": {
      "text/plain": [
       "a    5.0\n",
       "b    5.0\n",
       "c    5.0\n",
       "dtype: float64"
      ]
     },
     "execution_count": 5,
     "metadata": {},
     "output_type": "execute_result"
    }
   ],
   "source": [
    "pd.Series(5.0, index=[\"a\", \"b\", \"c\"])"
   ]
  },
  {
   "cell_type": "markdown",
   "id": "72411b6b",
   "metadata": {},
   "source": [
    "대부분의 계량경제 분석에서 데이터는 파일로부터 읽어들일 것이기 때문에 이상의 내용은 별로 사용할 일이 없을 것이다.\n",
    "\n",
    "Series를 만든 다음 `[]` 기호를 사용해서 일부를 추출하는 등을 할 수 있다. 다음 예는 시리즈를 만들고 s의 평균인 5.5보다 큰 값들만 추출한다."
   ]
  },
  {
   "cell_type": "code",
   "execution_count": 6,
   "id": "eb7f14ad-5644-4133-8e67-b31ca5d09c60",
   "metadata": {},
   "outputs": [
    {
     "data": {
      "text/plain": [
       "5     6\n",
       "6     7\n",
       "7     8\n",
       "8     9\n",
       "9    10\n",
       "dtype: int64"
      ]
     },
     "execution_count": 6,
     "metadata": {},
     "output_type": "execute_result"
    }
   ],
   "source": [
    "s = pd.Series(range(1,11))\n",
    "s[s > s.mean()] # s.mean() = 5.5"
   ]
  },
  {
   "cell_type": "code",
   "execution_count": 7,
   "id": "7d722d00",
   "metadata": {},
   "outputs": [
    {
     "data": {
      "text/plain": [
       "0    1\n",
       "1    2\n",
       "2    3\n",
       "dtype: int64"
      ]
     },
     "execution_count": 7,
     "metadata": {},
     "output_type": "execute_result"
    }
   ],
   "source": [
    "s[:3]"
   ]
  },
  {
   "cell_type": "markdown",
   "id": "4c0b005f",
   "metadata": {},
   "source": [
    "보다 상세한 내용은 [Pandas User Guide](https://pandas.pydata.org/docs/user_guide/index.html)를 참고하기 바란다."
   ]
  },
  {
   "cell_type": "markdown",
   "id": "4ea84201-d6f4-4b1b-a9c1-5e1072e91bd1",
   "metadata": {},
   "source": [
    "## Data Frame\n",
    "`DataFrame`은 각 변수별로 변수값의 벡터를 저장한다. 엑셀의 열(column)별로 값들의 벡터가 저장된다고 생각하면 좋다. 이 문서는 pandas의 [Getting started tutorials](https://pandas.pydata.org/docs/getting_started/intro_tutorials/)를 참조하여 만들었다. 먼저 다음과 같은 '데이터프레임'을 만들어 보자."
   ]
  },
  {
   "cell_type": "code",
   "execution_count": 1,
   "id": "2359a2bd-1215-4e78-8bf1-3eff0b18d316",
   "metadata": {},
   "outputs": [
    {
     "data": {
      "text/html": [
       "<div>\n",
       "<style scoped>\n",
       "    .dataframe tbody tr th:only-of-type {\n",
       "        vertical-align: middle;\n",
       "    }\n",
       "\n",
       "    .dataframe tbody tr th {\n",
       "        vertical-align: top;\n",
       "    }\n",
       "\n",
       "    .dataframe thead th {\n",
       "        text-align: right;\n",
       "    }\n",
       "</style>\n",
       "<table border=\"1\" class=\"dataframe\">\n",
       "  <thead>\n",
       "    <tr style=\"text-align: right;\">\n",
       "      <th></th>\n",
       "      <th>Name</th>\n",
       "      <th>Age</th>\n",
       "      <th>Sex</th>\n",
       "    </tr>\n",
       "  </thead>\n",
       "  <tbody>\n",
       "    <tr>\n",
       "      <th>0</th>\n",
       "      <td>Braund, Mr. Owen Harris</td>\n",
       "      <td>22</td>\n",
       "      <td>male</td>\n",
       "    </tr>\n",
       "    <tr>\n",
       "      <th>1</th>\n",
       "      <td>Allen, Mr. William Henry</td>\n",
       "      <td>35</td>\n",
       "      <td>male</td>\n",
       "    </tr>\n",
       "    <tr>\n",
       "      <th>2</th>\n",
       "      <td>Bonnell, Miss. Elizabeth</td>\n",
       "      <td>58</td>\n",
       "      <td>female</td>\n",
       "    </tr>\n",
       "  </tbody>\n",
       "</table>\n",
       "</div>"
      ],
      "text/plain": [
       "                       Name  Age     Sex\n",
       "0   Braund, Mr. Owen Harris   22    male\n",
       "1  Allen, Mr. William Henry   35    male\n",
       "2  Bonnell, Miss. Elizabeth   58  female"
      ]
     },
     "execution_count": 1,
     "metadata": {},
     "output_type": "execute_result"
    }
   ],
   "source": [
    "import pandas as pd\n",
    "df = pd.DataFrame(\n",
    "    {\n",
    "        \"Name\": [\n",
    "            \"Braund, Mr. Owen Harris\",\n",
    "            \"Allen, Mr. William Henry\",\n",
    "            \"Bonnell, Miss. Elizabeth\",\n",
    "        ],\n",
    "        \"Age\": [22, 35, 58],\n",
    "        \"Sex\": [\"male\", \"male\", \"female\"],\n",
    "    }\n",
    ")\n",
    "df"
   ]
  },
  {
   "cell_type": "markdown",
   "id": "7ab50a9e-d8fb-4c79-9c71-68ba264d9b2d",
   "metadata": {},
   "source": [
    "각 변수에 해당하는 Series는 `df[\"Name\"]`과 같이 하여 추출할 수 있다."
   ]
  },
  {
   "cell_type": "code",
   "execution_count": 9,
   "id": "51e3c43a-4c58-4569-ac8e-307ce9ea330a",
   "metadata": {},
   "outputs": [
    {
     "data": {
      "text/plain": [
       "0     Braund, Mr. Owen Harris\n",
       "1    Allen, Mr. William Henry\n",
       "2    Bonnell, Miss. Elizabeth\n",
       "Name: Name, dtype: object"
      ]
     },
     "execution_count": 9,
     "metadata": {},
     "output_type": "execute_result"
    }
   ],
   "source": [
    "df[\"Name\"]"
   ]
  },
  {
   "cell_type": "code",
   "execution_count": 10,
   "id": "36bb1925-1398-4cd4-a82e-fd700abf90bb",
   "metadata": {},
   "outputs": [
    {
     "data": {
      "text/plain": [
       "0      male\n",
       "1      male\n",
       "2    female\n",
       "Name: Sex, dtype: object"
      ]
     },
     "execution_count": 10,
     "metadata": {},
     "output_type": "execute_result"
    }
   ],
   "source": [
    "df[\"Sex\"]"
   ]
  },
  {
   "cell_type": "markdown",
   "id": "f978f414",
   "metadata": {},
   "source": [
    "Python의 기본 데이터 구조인 리스트로 바꾸려면 `tolist()` 메쏘드를 사용한다."
   ]
  },
  {
   "cell_type": "code",
   "execution_count": 11,
   "id": "3758a059-74a6-4baa-958a-49b39bde4175",
   "metadata": {},
   "outputs": [
    {
     "data": {
      "text/plain": [
       "['male', 'male', 'female']"
      ]
     },
     "execution_count": 11,
     "metadata": {},
     "output_type": "execute_result"
    }
   ],
   "source": [
    "df['Sex'].tolist()"
   ]
  },
  {
   "cell_type": "markdown",
   "id": "7d9de822-9458-4b59-99b0-1487435d83c7",
   "metadata": {},
   "source": [
    "NumPy의 `ndarray`로 바꾸려면 `to_numpy()` 메쏘드를 사용한다."
   ]
  },
  {
   "cell_type": "code",
   "execution_count": 12,
   "id": "5d21db23-f3c3-4752-8aa1-e735b644ac90",
   "metadata": {},
   "outputs": [
    {
     "data": {
      "text/plain": [
       "array(['male', 'male', 'female'], dtype=object)"
      ]
     },
     "execution_count": 12,
     "metadata": {},
     "output_type": "execute_result"
    }
   ],
   "source": [
    "df['Sex'].to_numpy()"
   ]
  },
  {
   "cell_type": "markdown",
   "id": "705d0c07-b9b7-4505-88a1-7c3da4f8fbd4",
   "metadata": {},
   "source": [
    "`df[...]`라고 하면 행들이 선택되는데, 이 행을 선택하는 데에는 [특별한 문법](https://pandas.pydata.org/docs/user_guide/indexing.html)이 필요하다. 예를 들어 0\\~5 인덱스(즉, 1\\~6행)는 `df[0:5]`라고 해도 되고 `df[:5]`라고 해도 된다. 아래 예에서는 `df` 자체에 3개 행밖에 없으므로 `:5`라고 해도 3개밖에 선택되지 않는다."
   ]
  },
  {
   "cell_type": "code",
   "execution_count": 13,
   "id": "f6b1af86-495e-4445-9a1f-e90d736b9df7",
   "metadata": {},
   "outputs": [
    {
     "data": {
      "text/html": [
       "<div>\n",
       "<style scoped>\n",
       "    .dataframe tbody tr th:only-of-type {\n",
       "        vertical-align: middle;\n",
       "    }\n",
       "\n",
       "    .dataframe tbody tr th {\n",
       "        vertical-align: top;\n",
       "    }\n",
       "\n",
       "    .dataframe thead th {\n",
       "        text-align: right;\n",
       "    }\n",
       "</style>\n",
       "<table border=\"1\" class=\"dataframe\">\n",
       "  <thead>\n",
       "    <tr style=\"text-align: right;\">\n",
       "      <th></th>\n",
       "      <th>Name</th>\n",
       "      <th>Age</th>\n",
       "      <th>Sex</th>\n",
       "    </tr>\n",
       "  </thead>\n",
       "  <tbody>\n",
       "    <tr>\n",
       "      <th>0</th>\n",
       "      <td>Braund, Mr. Owen Harris</td>\n",
       "      <td>22</td>\n",
       "      <td>male</td>\n",
       "    </tr>\n",
       "    <tr>\n",
       "      <th>1</th>\n",
       "      <td>Allen, Mr. William Henry</td>\n",
       "      <td>35</td>\n",
       "      <td>male</td>\n",
       "    </tr>\n",
       "    <tr>\n",
       "      <th>2</th>\n",
       "      <td>Bonnell, Miss. Elizabeth</td>\n",
       "      <td>58</td>\n",
       "      <td>female</td>\n",
       "    </tr>\n",
       "  </tbody>\n",
       "</table>\n",
       "</div>"
      ],
      "text/plain": [
       "                       Name  Age     Sex\n",
       "0   Braund, Mr. Owen Harris   22    male\n",
       "1  Allen, Mr. William Henry   35    male\n",
       "2  Bonnell, Miss. Elizabeth   58  female"
      ]
     },
     "execution_count": 13,
     "metadata": {},
     "output_type": "execute_result"
    }
   ],
   "source": [
    "df[:5]"
   ]
  },
  {
   "cell_type": "markdown",
   "id": "beeca97b-25cd-41b6-9f7a-a8989d296f69",
   "metadata": {},
   "source": [
    "0\\~1 행 인덱스(1\\~2행)에서 `Age`와 `Sex` 칼럼을 선택하려면 다음 방법을 사용한다."
   ]
  },
  {
   "cell_type": "code",
   "execution_count": 14,
   "id": "9002296a-1bfd-40b3-89f9-a56e514239b3",
   "metadata": {},
   "outputs": [
    {
     "data": {
      "text/html": [
       "<div>\n",
       "<style scoped>\n",
       "    .dataframe tbody tr th:only-of-type {\n",
       "        vertical-align: middle;\n",
       "    }\n",
       "\n",
       "    .dataframe tbody tr th {\n",
       "        vertical-align: top;\n",
       "    }\n",
       "\n",
       "    .dataframe thead th {\n",
       "        text-align: right;\n",
       "    }\n",
       "</style>\n",
       "<table border=\"1\" class=\"dataframe\">\n",
       "  <thead>\n",
       "    <tr style=\"text-align: right;\">\n",
       "      <th></th>\n",
       "      <th>Age</th>\n",
       "      <th>Sex</th>\n",
       "    </tr>\n",
       "  </thead>\n",
       "  <tbody>\n",
       "    <tr>\n",
       "      <th>0</th>\n",
       "      <td>22</td>\n",
       "      <td>male</td>\n",
       "    </tr>\n",
       "    <tr>\n",
       "      <th>1</th>\n",
       "      <td>35</td>\n",
       "      <td>male</td>\n",
       "    </tr>\n",
       "    <tr>\n",
       "      <th>2</th>\n",
       "      <td>58</td>\n",
       "      <td>female</td>\n",
       "    </tr>\n",
       "  </tbody>\n",
       "</table>\n",
       "</div>"
      ],
      "text/plain": [
       "   Age     Sex\n",
       "0   22    male\n",
       "1   35    male\n",
       "2   58  female"
      ]
     },
     "execution_count": 14,
     "metadata": {},
     "output_type": "execute_result"
    }
   ],
   "source": [
    "df.loc[:2, ['Age', 'Sex']]"
   ]
  },
  {
   "cell_type": "markdown",
   "id": "f2d268ef-45e7-4bef-ba93-f3bdcc05cc75",
   "metadata": {},
   "source": [
    "2행 이하(즉 행 인덱스 1 이하)의 열 인덱스 0과 2(즉, 1열과 3열)을 선택하는 방법은 다음과 같다."
   ]
  },
  {
   "cell_type": "code",
   "execution_count": 15,
   "id": "2150baea-5d9e-4d25-8680-c26771bb4b43",
   "metadata": {},
   "outputs": [
    {
     "data": {
      "text/html": [
       "<div>\n",
       "<style scoped>\n",
       "    .dataframe tbody tr th:only-of-type {\n",
       "        vertical-align: middle;\n",
       "    }\n",
       "\n",
       "    .dataframe tbody tr th {\n",
       "        vertical-align: top;\n",
       "    }\n",
       "\n",
       "    .dataframe thead th {\n",
       "        text-align: right;\n",
       "    }\n",
       "</style>\n",
       "<table border=\"1\" class=\"dataframe\">\n",
       "  <thead>\n",
       "    <tr style=\"text-align: right;\">\n",
       "      <th></th>\n",
       "      <th>Name</th>\n",
       "      <th>Sex</th>\n",
       "    </tr>\n",
       "  </thead>\n",
       "  <tbody>\n",
       "    <tr>\n",
       "      <th>1</th>\n",
       "      <td>Allen, Mr. William Henry</td>\n",
       "      <td>male</td>\n",
       "    </tr>\n",
       "    <tr>\n",
       "      <th>2</th>\n",
       "      <td>Bonnell, Miss. Elizabeth</td>\n",
       "      <td>female</td>\n",
       "    </tr>\n",
       "  </tbody>\n",
       "</table>\n",
       "</div>"
      ],
      "text/plain": [
       "                       Name     Sex\n",
       "1  Allen, Mr. William Henry    male\n",
       "2  Bonnell, Miss. Elizabeth  female"
      ]
     },
     "execution_count": 15,
     "metadata": {},
     "output_type": "execute_result"
    }
   ],
   "source": [
    "df.iloc[1:, [0,2]]"
   ]
  },
  {
   "cell_type": "markdown",
   "id": "9446ba9a-e07f-488b-9d33-efedcf656604",
   "metadata": {},
   "source": [
    "`df[1]`이라고 하면 제2행(행 인덱스 1)이지만, `df[:,1]`이라고 하면 2열이 선택되지 않고 오류가 발생한다. 그 대신 `df.iloc[:,1]`이라고 하면 2열 선택된다. 그런데 `df['Age']`라고 하면 제2열(열 인덱스 1)이 선택된다. `df[:,'Age']`라고 하면 안 된다. `df.loc[:,'Age']`라고 하면 된다. `df[df.columns[1]]`이라고 하면 `df.columns[1]`이 칼럼명의 두 번째 원소이므로 `'Age'`와 같고, 따라서 `df[df.columns[1]]`은 `df['Age']`와 같아서 `Age` 칼럼을 얻는다. 여러 가지를 시험해 보았더니 결과는 다음과 같았다.\n",
    "\n",
    "```python\n",
    "df[df.Sex=='male']  # OK. df.Sex=='male'인 행들로 이루어진 DataFrame\n",
    "df[[True,True,False]] # OK. 위와 동일\n",
    "df[[0,1]] # 오류\n",
    "df[:1] # OK. 행 인덱스 0 (즉, 1행)의 DataFrame\n",
    "df[1:] # OK. 행 인덱스 1~ (즉 2~끝행)의 DataFrame\n",
    "df[1:2] # OK. 행 인덱스 1(즉, 2행)의 DataFrame\n",
    "df[1:1] # OK. Empty DataFrame \n",
    "df[1]  # 오류\n",
    "df[:2,0] # 오류\n",
    "df[:2,:2] # 오류\n",
    "df[[0,1], :2]  # 오류\n",
    "df[[0,1], 'Age'] # 오류\n",
    "df['Age']  # OK. \"Age\" 칼럼(Series)\n",
    "df[df.columns[0]] # OK. 첫 번째 칼럼(Series)\n",
    "df[:,'Age'] # 오류\n",
    "df.loc[:,'Age'] # OK \"Age\" 칼럼의 Series\n",
    "df.loc[:2,'Name'] # OK. 1~2행, \"Name\"열의 Series\n",
    "df.loc[:2,['Name']] # OK. 1~2행, \"Name\"열의 DataFrame\n",
    "df.loc[df.Sex=='male'] # OK\n",
    "df.loc[[True,True,False]] # OK\n",
    "df.loc[(df.Sex=='male').tolist()] # OK\n",
    "df.iloc[1] # OK. 행 인덱스 1(즉, 2행)의 원소들로 이루어진 Series\n",
    "df.iloc[:2,0] # OK. 1~2행, 1열의 Series\n",
    "df.iloc[:2,:2] # OK\n",
    "df.iloc[:2,[0,1]] # OK. DataFrame\n",
    "df.iloc[[0,1],[0,1]] # OK\n",
    "df.iloc[df.Sex=='male'] # 오류\n",
    "df.iloc[[True,True,False]] # OK. 행 인덱스 0과 1로 이루어진 DataFrame\n",
    "df.iloc[(df.Sex=='male').tolist()] # OK. 위와 동일\n",
    "```\n",
    "\n",
    "왜 이런 식으로 디자인해야 했는지 이해하기는 어렵지만 어쩔 수 없다. 가장 간편한 방법은 칼럼을 이름으로 참조하고 `.loc`를 사용하는 것이다. 칼럼명은 직접 사용하거나 다음과 같이 칼럼명을 추출한다.\n",
    "\n",
    "```python\n",
    "cols = df.columns\n",
    "cols[[0,2]]\n",
    "```"
   ]
  },
  {
   "cell_type": "markdown",
   "id": "0bbe3855",
   "metadata": {},
   "source": [
    "### 변수 생성 등\n",
    "`Age`의 제곱은 다음과 같이 만들 수 있다. 아래에서 우변은 `df[\"Age\"]**2`라고 해도 좋다. 하지만 좌변을 `df.AgeSq`라고 해서는 안 된다."
   ]
  },
  {
   "cell_type": "code",
   "execution_count": 16,
   "id": "74703947",
   "metadata": {},
   "outputs": [
    {
     "data": {
      "text/html": [
       "<div>\n",
       "<style scoped>\n",
       "    .dataframe tbody tr th:only-of-type {\n",
       "        vertical-align: middle;\n",
       "    }\n",
       "\n",
       "    .dataframe tbody tr th {\n",
       "        vertical-align: top;\n",
       "    }\n",
       "\n",
       "    .dataframe thead th {\n",
       "        text-align: right;\n",
       "    }\n",
       "</style>\n",
       "<table border=\"1\" class=\"dataframe\">\n",
       "  <thead>\n",
       "    <tr style=\"text-align: right;\">\n",
       "      <th></th>\n",
       "      <th>Name</th>\n",
       "      <th>Age</th>\n",
       "      <th>Sex</th>\n",
       "      <th>AgeSq</th>\n",
       "    </tr>\n",
       "  </thead>\n",
       "  <tbody>\n",
       "    <tr>\n",
       "      <th>0</th>\n",
       "      <td>Braund, Mr. Owen Harris</td>\n",
       "      <td>22</td>\n",
       "      <td>male</td>\n",
       "      <td>484</td>\n",
       "    </tr>\n",
       "    <tr>\n",
       "      <th>1</th>\n",
       "      <td>Allen, Mr. William Henry</td>\n",
       "      <td>35</td>\n",
       "      <td>male</td>\n",
       "      <td>1225</td>\n",
       "    </tr>\n",
       "    <tr>\n",
       "      <th>2</th>\n",
       "      <td>Bonnell, Miss. Elizabeth</td>\n",
       "      <td>58</td>\n",
       "      <td>female</td>\n",
       "      <td>3364</td>\n",
       "    </tr>\n",
       "  </tbody>\n",
       "</table>\n",
       "</div>"
      ],
      "text/plain": [
       "                       Name  Age     Sex  AgeSq\n",
       "0   Braund, Mr. Owen Harris   22    male    484\n",
       "1  Allen, Mr. William Henry   35    male   1225\n",
       "2  Bonnell, Miss. Elizabeth   58  female   3364"
      ]
     },
     "execution_count": 16,
     "metadata": {},
     "output_type": "execute_result"
    }
   ],
   "source": [
    "df[\"AgeSq\"] = df.Age**2\n",
    "df"
   ]
  },
  {
   "cell_type": "markdown",
   "id": "1f5123af",
   "metadata": {},
   "source": [
    "40세 미만인지를 나타내는 더미변수, 여성 더미변수는 다음과 같이 만들 수 있다."
   ]
  },
  {
   "cell_type": "code",
   "execution_count": 17,
   "id": "5b975ea8",
   "metadata": {},
   "outputs": [
    {
     "data": {
      "text/html": [
       "<div>\n",
       "<style scoped>\n",
       "    .dataframe tbody tr th:only-of-type {\n",
       "        vertical-align: middle;\n",
       "    }\n",
       "\n",
       "    .dataframe tbody tr th {\n",
       "        vertical-align: top;\n",
       "    }\n",
       "\n",
       "    .dataframe thead th {\n",
       "        text-align: right;\n",
       "    }\n",
       "</style>\n",
       "<table border=\"1\" class=\"dataframe\">\n",
       "  <thead>\n",
       "    <tr style=\"text-align: right;\">\n",
       "      <th></th>\n",
       "      <th>Name</th>\n",
       "      <th>Age</th>\n",
       "      <th>Sex</th>\n",
       "      <th>AgeSq</th>\n",
       "      <th>Below40</th>\n",
       "      <th>female</th>\n",
       "    </tr>\n",
       "  </thead>\n",
       "  <tbody>\n",
       "    <tr>\n",
       "      <th>0</th>\n",
       "      <td>Braund, Mr. Owen Harris</td>\n",
       "      <td>22</td>\n",
       "      <td>male</td>\n",
       "      <td>484</td>\n",
       "      <td>1</td>\n",
       "      <td>0</td>\n",
       "    </tr>\n",
       "    <tr>\n",
       "      <th>1</th>\n",
       "      <td>Allen, Mr. William Henry</td>\n",
       "      <td>35</td>\n",
       "      <td>male</td>\n",
       "      <td>1225</td>\n",
       "      <td>1</td>\n",
       "      <td>0</td>\n",
       "    </tr>\n",
       "    <tr>\n",
       "      <th>2</th>\n",
       "      <td>Bonnell, Miss. Elizabeth</td>\n",
       "      <td>58</td>\n",
       "      <td>female</td>\n",
       "      <td>3364</td>\n",
       "      <td>0</td>\n",
       "      <td>1</td>\n",
       "    </tr>\n",
       "  </tbody>\n",
       "</table>\n",
       "</div>"
      ],
      "text/plain": [
       "                       Name  Age     Sex  AgeSq  Below40  female\n",
       "0   Braund, Mr. Owen Harris   22    male    484        1       0\n",
       "1  Allen, Mr. William Henry   35    male   1225        1       0\n",
       "2  Bonnell, Miss. Elizabeth   58  female   3364        0       1"
      ]
     },
     "execution_count": 17,
     "metadata": {},
     "output_type": "execute_result"
    }
   ],
   "source": [
    "df[\"Below40\"] = 1*(df.Age < 40)\n",
    "df[\"female\"] = 1*(df.Sex==\"female\")\n",
    "df"
   ]
  },
  {
   "cell_type": "markdown",
   "id": "3e044a57",
   "metadata": {},
   "source": [
    "로그를 취하기 위해서는 `numpy` 모듈을 사용해야 한다."
   ]
  },
  {
   "cell_type": "code",
   "execution_count": 18,
   "id": "6d22d3e7",
   "metadata": {},
   "outputs": [
    {
     "data": {
      "text/html": [
       "<div>\n",
       "<style scoped>\n",
       "    .dataframe tbody tr th:only-of-type {\n",
       "        vertical-align: middle;\n",
       "    }\n",
       "\n",
       "    .dataframe tbody tr th {\n",
       "        vertical-align: top;\n",
       "    }\n",
       "\n",
       "    .dataframe thead th {\n",
       "        text-align: right;\n",
       "    }\n",
       "</style>\n",
       "<table border=\"1\" class=\"dataframe\">\n",
       "  <thead>\n",
       "    <tr style=\"text-align: right;\">\n",
       "      <th></th>\n",
       "      <th>Name</th>\n",
       "      <th>Age</th>\n",
       "      <th>Sex</th>\n",
       "      <th>AgeSq</th>\n",
       "      <th>Below40</th>\n",
       "      <th>female</th>\n",
       "      <th>logAge</th>\n",
       "    </tr>\n",
       "  </thead>\n",
       "  <tbody>\n",
       "    <tr>\n",
       "      <th>0</th>\n",
       "      <td>Braund, Mr. Owen Harris</td>\n",
       "      <td>22</td>\n",
       "      <td>male</td>\n",
       "      <td>484</td>\n",
       "      <td>1</td>\n",
       "      <td>0</td>\n",
       "      <td>3.091042</td>\n",
       "    </tr>\n",
       "    <tr>\n",
       "      <th>1</th>\n",
       "      <td>Allen, Mr. William Henry</td>\n",
       "      <td>35</td>\n",
       "      <td>male</td>\n",
       "      <td>1225</td>\n",
       "      <td>1</td>\n",
       "      <td>0</td>\n",
       "      <td>3.555348</td>\n",
       "    </tr>\n",
       "    <tr>\n",
       "      <th>2</th>\n",
       "      <td>Bonnell, Miss. Elizabeth</td>\n",
       "      <td>58</td>\n",
       "      <td>female</td>\n",
       "      <td>3364</td>\n",
       "      <td>0</td>\n",
       "      <td>1</td>\n",
       "      <td>4.060443</td>\n",
       "    </tr>\n",
       "  </tbody>\n",
       "</table>\n",
       "</div>"
      ],
      "text/plain": [
       "                       Name  Age     Sex  AgeSq  Below40  female    logAge\n",
       "0   Braund, Mr. Owen Harris   22    male    484        1       0  3.091042\n",
       "1  Allen, Mr. William Henry   35    male   1225        1       0  3.555348\n",
       "2  Bonnell, Miss. Elizabeth   58  female   3364        0       1  4.060443"
      ]
     },
     "execution_count": 18,
     "metadata": {},
     "output_type": "execute_result"
    }
   ],
   "source": [
    "import numpy as np\n",
    "df[\"logAge\"] = np.log(df.Age)\n",
    "df"
   ]
  },
  {
   "cell_type": "markdown",
   "id": "8c7f32f0",
   "metadata": {},
   "source": [
    "### 변수 제거\n",
    "변수를 제거하려면 `del`이나 `pop`을 사용한다."
   ]
  },
  {
   "cell_type": "code",
   "execution_count": 19,
   "id": "51a45874",
   "metadata": {},
   "outputs": [
    {
     "data": {
      "text/html": [
       "<div>\n",
       "<style scoped>\n",
       "    .dataframe tbody tr th:only-of-type {\n",
       "        vertical-align: middle;\n",
       "    }\n",
       "\n",
       "    .dataframe tbody tr th {\n",
       "        vertical-align: top;\n",
       "    }\n",
       "\n",
       "    .dataframe thead th {\n",
       "        text-align: right;\n",
       "    }\n",
       "</style>\n",
       "<table border=\"1\" class=\"dataframe\">\n",
       "  <thead>\n",
       "    <tr style=\"text-align: right;\">\n",
       "      <th></th>\n",
       "      <th>Name</th>\n",
       "      <th>Age</th>\n",
       "      <th>Sex</th>\n",
       "      <th>Below40</th>\n",
       "      <th>female</th>\n",
       "    </tr>\n",
       "  </thead>\n",
       "  <tbody>\n",
       "    <tr>\n",
       "      <th>0</th>\n",
       "      <td>Braund, Mr. Owen Harris</td>\n",
       "      <td>22</td>\n",
       "      <td>male</td>\n",
       "      <td>1</td>\n",
       "      <td>0</td>\n",
       "    </tr>\n",
       "    <tr>\n",
       "      <th>1</th>\n",
       "      <td>Allen, Mr. William Henry</td>\n",
       "      <td>35</td>\n",
       "      <td>male</td>\n",
       "      <td>1</td>\n",
       "      <td>0</td>\n",
       "    </tr>\n",
       "    <tr>\n",
       "      <th>2</th>\n",
       "      <td>Bonnell, Miss. Elizabeth</td>\n",
       "      <td>58</td>\n",
       "      <td>female</td>\n",
       "      <td>0</td>\n",
       "      <td>1</td>\n",
       "    </tr>\n",
       "  </tbody>\n",
       "</table>\n",
       "</div>"
      ],
      "text/plain": [
       "                       Name  Age     Sex  Below40  female\n",
       "0   Braund, Mr. Owen Harris   22    male        1       0\n",
       "1  Allen, Mr. William Henry   35    male        1       0\n",
       "2  Bonnell, Miss. Elizabeth   58  female        0       1"
      ]
     },
     "execution_count": 19,
     "metadata": {},
     "output_type": "execute_result"
    }
   ],
   "source": [
    "df2 = df\n",
    "del df2[\"logAge\"]\n",
    "agesq = df2.pop(\"AgeSq\")\n",
    "df2"
   ]
  },
  {
   "cell_type": "code",
   "execution_count": 20,
   "id": "78c924bb",
   "metadata": {},
   "outputs": [
    {
     "data": {
      "text/plain": [
       "0     484\n",
       "1    1225\n",
       "2    3364\n",
       "Name: AgeSq, dtype: int64"
      ]
     },
     "execution_count": 20,
     "metadata": {},
     "output_type": "execute_result"
    }
   ],
   "source": [
    "agesq"
   ]
  },
  {
   "cell_type": "code",
   "execution_count": 21,
   "id": "824ebdb1",
   "metadata": {},
   "outputs": [
    {
     "data": {
      "text/plain": [
       "pandas.core.series.Series"
      ]
     },
     "execution_count": 21,
     "metadata": {},
     "output_type": "execute_result"
    }
   ],
   "source": [
    "type(agesq)"
   ]
  },
  {
   "cell_type": "markdown",
   "id": "56244581",
   "metadata": {},
   "source": [
    "### 데이터프레임 복사\n",
    "앞에서 `df2 = df`라고 한 다음에 `df2`에 대하여 작업을 진행하고 변수를 제거하였다. 이렇게 `df2` 내의 변수들을 지우면 원래의 `df`는 어떻게 되는가?"
   ]
  },
  {
   "cell_type": "code",
   "execution_count": 22,
   "id": "2c8be698",
   "metadata": {},
   "outputs": [
    {
     "data": {
      "text/html": [
       "<div>\n",
       "<style scoped>\n",
       "    .dataframe tbody tr th:only-of-type {\n",
       "        vertical-align: middle;\n",
       "    }\n",
       "\n",
       "    .dataframe tbody tr th {\n",
       "        vertical-align: top;\n",
       "    }\n",
       "\n",
       "    .dataframe thead th {\n",
       "        text-align: right;\n",
       "    }\n",
       "</style>\n",
       "<table border=\"1\" class=\"dataframe\">\n",
       "  <thead>\n",
       "    <tr style=\"text-align: right;\">\n",
       "      <th></th>\n",
       "      <th>Name</th>\n",
       "      <th>Age</th>\n",
       "      <th>Sex</th>\n",
       "      <th>Below40</th>\n",
       "      <th>female</th>\n",
       "    </tr>\n",
       "  </thead>\n",
       "  <tbody>\n",
       "    <tr>\n",
       "      <th>0</th>\n",
       "      <td>Braund, Mr. Owen Harris</td>\n",
       "      <td>22</td>\n",
       "      <td>male</td>\n",
       "      <td>1</td>\n",
       "      <td>0</td>\n",
       "    </tr>\n",
       "    <tr>\n",
       "      <th>1</th>\n",
       "      <td>Allen, Mr. William Henry</td>\n",
       "      <td>35</td>\n",
       "      <td>male</td>\n",
       "      <td>1</td>\n",
       "      <td>0</td>\n",
       "    </tr>\n",
       "    <tr>\n",
       "      <th>2</th>\n",
       "      <td>Bonnell, Miss. Elizabeth</td>\n",
       "      <td>58</td>\n",
       "      <td>female</td>\n",
       "      <td>0</td>\n",
       "      <td>1</td>\n",
       "    </tr>\n",
       "  </tbody>\n",
       "</table>\n",
       "</div>"
      ],
      "text/plain": [
       "                       Name  Age     Sex  Below40  female\n",
       "0   Braund, Mr. Owen Harris   22    male        1       0\n",
       "1  Allen, Mr. William Henry   35    male        1       0\n",
       "2  Bonnell, Miss. Elizabeth   58  female        0       1"
      ]
     },
     "execution_count": 22,
     "metadata": {},
     "output_type": "execute_result"
    }
   ],
   "source": [
    "df"
   ]
  },
  {
   "cell_type": "markdown",
   "id": "a7666ddb",
   "metadata": {},
   "source": [
    "원래의 `df`에서도 `logAge`와 `AgeSq`가 지워진 것을 확인할 수 있다. 이는 `df`가 데이터 자체가 아니라 어떤 저장된 데이터(A라 하자)을 **가리키는 것**(포인터, 뷰)이고 `df2`는 `df`과 같으므로 `df2` 또한 A를 가리킨다. 그러니까 `df2`에 있는 변수를 삭제하면 A에서 변수가 삭제되고, `df`도 A를 가리키므로 `df`에서도 변수가 삭제되는 것이다.\n",
    "\n",
    "`df2`에서 변수를 생성해도 `df`에 변수가 생성된다."
   ]
  },
  {
   "cell_type": "code",
   "execution_count": 23,
   "id": "e5bc3283",
   "metadata": {},
   "outputs": [
    {
     "data": {
      "text/html": [
       "<div>\n",
       "<style scoped>\n",
       "    .dataframe tbody tr th:only-of-type {\n",
       "        vertical-align: middle;\n",
       "    }\n",
       "\n",
       "    .dataframe tbody tr th {\n",
       "        vertical-align: top;\n",
       "    }\n",
       "\n",
       "    .dataframe thead th {\n",
       "        text-align: right;\n",
       "    }\n",
       "</style>\n",
       "<table border=\"1\" class=\"dataframe\">\n",
       "  <thead>\n",
       "    <tr style=\"text-align: right;\">\n",
       "      <th></th>\n",
       "      <th>Name</th>\n",
       "      <th>Age</th>\n",
       "      <th>Sex</th>\n",
       "      <th>Below40</th>\n",
       "      <th>female</th>\n",
       "      <th>AgeSq</th>\n",
       "    </tr>\n",
       "  </thead>\n",
       "  <tbody>\n",
       "    <tr>\n",
       "      <th>0</th>\n",
       "      <td>Braund, Mr. Owen Harris</td>\n",
       "      <td>22</td>\n",
       "      <td>male</td>\n",
       "      <td>1</td>\n",
       "      <td>0</td>\n",
       "      <td>484</td>\n",
       "    </tr>\n",
       "    <tr>\n",
       "      <th>1</th>\n",
       "      <td>Allen, Mr. William Henry</td>\n",
       "      <td>35</td>\n",
       "      <td>male</td>\n",
       "      <td>1</td>\n",
       "      <td>0</td>\n",
       "      <td>1225</td>\n",
       "    </tr>\n",
       "    <tr>\n",
       "      <th>2</th>\n",
       "      <td>Bonnell, Miss. Elizabeth</td>\n",
       "      <td>58</td>\n",
       "      <td>female</td>\n",
       "      <td>0</td>\n",
       "      <td>1</td>\n",
       "      <td>3364</td>\n",
       "    </tr>\n",
       "  </tbody>\n",
       "</table>\n",
       "</div>"
      ],
      "text/plain": [
       "                       Name  Age     Sex  Below40  female  AgeSq\n",
       "0   Braund, Mr. Owen Harris   22    male        1       0    484\n",
       "1  Allen, Mr. William Henry   35    male        1       0   1225\n",
       "2  Bonnell, Miss. Elizabeth   58  female        0       1   3364"
      ]
     },
     "execution_count": 23,
     "metadata": {},
     "output_type": "execute_result"
    }
   ],
   "source": [
    "df2[\"AgeSq\"] = df2.Age**2\n",
    "df2"
   ]
  },
  {
   "cell_type": "code",
   "execution_count": 24,
   "id": "93061ac7",
   "metadata": {},
   "outputs": [
    {
     "data": {
      "text/html": [
       "<div>\n",
       "<style scoped>\n",
       "    .dataframe tbody tr th:only-of-type {\n",
       "        vertical-align: middle;\n",
       "    }\n",
       "\n",
       "    .dataframe tbody tr th {\n",
       "        vertical-align: top;\n",
       "    }\n",
       "\n",
       "    .dataframe thead th {\n",
       "        text-align: right;\n",
       "    }\n",
       "</style>\n",
       "<table border=\"1\" class=\"dataframe\">\n",
       "  <thead>\n",
       "    <tr style=\"text-align: right;\">\n",
       "      <th></th>\n",
       "      <th>Name</th>\n",
       "      <th>Age</th>\n",
       "      <th>Sex</th>\n",
       "      <th>Below40</th>\n",
       "      <th>female</th>\n",
       "      <th>AgeSq</th>\n",
       "    </tr>\n",
       "  </thead>\n",
       "  <tbody>\n",
       "    <tr>\n",
       "      <th>0</th>\n",
       "      <td>Braund, Mr. Owen Harris</td>\n",
       "      <td>22</td>\n",
       "      <td>male</td>\n",
       "      <td>1</td>\n",
       "      <td>0</td>\n",
       "      <td>484</td>\n",
       "    </tr>\n",
       "    <tr>\n",
       "      <th>1</th>\n",
       "      <td>Allen, Mr. William Henry</td>\n",
       "      <td>35</td>\n",
       "      <td>male</td>\n",
       "      <td>1</td>\n",
       "      <td>0</td>\n",
       "      <td>1225</td>\n",
       "    </tr>\n",
       "    <tr>\n",
       "      <th>2</th>\n",
       "      <td>Bonnell, Miss. Elizabeth</td>\n",
       "      <td>58</td>\n",
       "      <td>female</td>\n",
       "      <td>0</td>\n",
       "      <td>1</td>\n",
       "      <td>3364</td>\n",
       "    </tr>\n",
       "  </tbody>\n",
       "</table>\n",
       "</div>"
      ],
      "text/plain": [
       "                       Name  Age     Sex  Below40  female  AgeSq\n",
       "0   Braund, Mr. Owen Harris   22    male        1       0    484\n",
       "1  Allen, Mr. William Henry   35    male        1       0   1225\n",
       "2  Bonnell, Miss. Elizabeth   58  female        0       1   3364"
      ]
     },
     "execution_count": 24,
     "metadata": {},
     "output_type": "execute_result"
    }
   ],
   "source": [
    "df"
   ]
  },
  {
   "cell_type": "markdown",
   "id": "2f13deb3",
   "metadata": {},
   "source": [
    "이런 의도하지 않은 일이 발생하지 않게 하려면 pandas에서 `DataFrame`이란 데이터 자체가 아니라 데이터(A)가 저장된 주소라고 꼭 기억해 두어야 할 것이다. 데이터를 복사해서 별도의 데이터프레임을 만들면 이런 일이 일어나지 않는다. 데이터를 복사해서 별도의 데이터프레임을 만드는 것을 Pandas는 \"deep copy\"라 칭한다. Deep copy를 하려면 `df2 = df`처럼 하는 것이 아니라 `copy`라는 별도의 명령을 사용해야 한다."
   ]
  },
  {
   "cell_type": "code",
   "execution_count": 25,
   "id": "cd9e53f0",
   "metadata": {},
   "outputs": [
    {
     "data": {
      "text/html": [
       "<div>\n",
       "<style scoped>\n",
       "    .dataframe tbody tr th:only-of-type {\n",
       "        vertical-align: middle;\n",
       "    }\n",
       "\n",
       "    .dataframe tbody tr th {\n",
       "        vertical-align: top;\n",
       "    }\n",
       "\n",
       "    .dataframe thead th {\n",
       "        text-align: right;\n",
       "    }\n",
       "</style>\n",
       "<table border=\"1\" class=\"dataframe\">\n",
       "  <thead>\n",
       "    <tr style=\"text-align: right;\">\n",
       "      <th></th>\n",
       "      <th>Name</th>\n",
       "      <th>Age</th>\n",
       "      <th>Sex</th>\n",
       "      <th>Below40</th>\n",
       "      <th>female</th>\n",
       "    </tr>\n",
       "  </thead>\n",
       "  <tbody>\n",
       "    <tr>\n",
       "      <th>0</th>\n",
       "      <td>Braund, Mr. Owen Harris</td>\n",
       "      <td>22</td>\n",
       "      <td>male</td>\n",
       "      <td>1</td>\n",
       "      <td>0</td>\n",
       "    </tr>\n",
       "    <tr>\n",
       "      <th>1</th>\n",
       "      <td>Allen, Mr. William Henry</td>\n",
       "      <td>35</td>\n",
       "      <td>male</td>\n",
       "      <td>1</td>\n",
       "      <td>0</td>\n",
       "    </tr>\n",
       "    <tr>\n",
       "      <th>2</th>\n",
       "      <td>Bonnell, Miss. Elizabeth</td>\n",
       "      <td>58</td>\n",
       "      <td>female</td>\n",
       "      <td>0</td>\n",
       "      <td>1</td>\n",
       "    </tr>\n",
       "  </tbody>\n",
       "</table>\n",
       "</div>"
      ],
      "text/plain": [
       "                       Name  Age     Sex  Below40  female\n",
       "0   Braund, Mr. Owen Harris   22    male        1       0\n",
       "1  Allen, Mr. William Henry   35    male        1       0\n",
       "2  Bonnell, Miss. Elizabeth   58  female        0       1"
      ]
     },
     "execution_count": 25,
     "metadata": {},
     "output_type": "execute_result"
    }
   ],
   "source": [
    "df2 = df.copy()\n",
    "del df2[\"AgeSq\"] # df is intact.\n",
    "df2"
   ]
  },
  {
   "cell_type": "code",
   "execution_count": 26,
   "id": "a2a1ec7c",
   "metadata": {},
   "outputs": [
    {
     "data": {
      "text/html": [
       "<div>\n",
       "<style scoped>\n",
       "    .dataframe tbody tr th:only-of-type {\n",
       "        vertical-align: middle;\n",
       "    }\n",
       "\n",
       "    .dataframe tbody tr th {\n",
       "        vertical-align: top;\n",
       "    }\n",
       "\n",
       "    .dataframe thead th {\n",
       "        text-align: right;\n",
       "    }\n",
       "</style>\n",
       "<table border=\"1\" class=\"dataframe\">\n",
       "  <thead>\n",
       "    <tr style=\"text-align: right;\">\n",
       "      <th></th>\n",
       "      <th>Name</th>\n",
       "      <th>Age</th>\n",
       "      <th>Sex</th>\n",
       "      <th>Below40</th>\n",
       "      <th>female</th>\n",
       "      <th>AgeSq</th>\n",
       "    </tr>\n",
       "  </thead>\n",
       "  <tbody>\n",
       "    <tr>\n",
       "      <th>0</th>\n",
       "      <td>Braund, Mr. Owen Harris</td>\n",
       "      <td>22</td>\n",
       "      <td>male</td>\n",
       "      <td>1</td>\n",
       "      <td>0</td>\n",
       "      <td>484</td>\n",
       "    </tr>\n",
       "    <tr>\n",
       "      <th>1</th>\n",
       "      <td>Allen, Mr. William Henry</td>\n",
       "      <td>35</td>\n",
       "      <td>male</td>\n",
       "      <td>1</td>\n",
       "      <td>0</td>\n",
       "      <td>1225</td>\n",
       "    </tr>\n",
       "    <tr>\n",
       "      <th>2</th>\n",
       "      <td>Bonnell, Miss. Elizabeth</td>\n",
       "      <td>58</td>\n",
       "      <td>female</td>\n",
       "      <td>0</td>\n",
       "      <td>1</td>\n",
       "      <td>3364</td>\n",
       "    </tr>\n",
       "  </tbody>\n",
       "</table>\n",
       "</div>"
      ],
      "text/plain": [
       "                       Name  Age     Sex  Below40  female  AgeSq\n",
       "0   Braund, Mr. Owen Harris   22    male        1       0    484\n",
       "1  Allen, Mr. William Henry   35    male        1       0   1225\n",
       "2  Bonnell, Miss. Elizabeth   58  female        0       1   3364"
      ]
     },
     "execution_count": 26,
     "metadata": {},
     "output_type": "execute_result"
    }
   ],
   "source": [
    "df"
   ]
  },
  {
   "cell_type": "markdown",
   "id": "712b8d53-8f38-4896-ba8c-c9981e22056d",
   "metadata": {},
   "source": [
    "### 행 붙이기와 열 붙이기\n",
    "\n",
    "DataFrame들을 행 또는 열로 붙이려면 [`pandas.concat`](https://pandas.pydata.org/docs/reference/api/pandas.concat.html)를 사용한다. 예를 들어 다음과 같다.\n",
    "\n",
    "```python\n",
    "import pandas as pd\n",
    "new_df = pd.concat([df1,df2], axis=0) # 행으로 붙이기\n",
    "new_df = pd.concat([df3,df4], axis=1) # 열로 붙이기\n",
    "```\n",
    "\n",
    "열 붙이기를 할 때에는 '인덱스'가 같아야 함에 유의하라. 행 붙이기를 할 때에는 변수명이 같으면 붙이고 상이한 변수가 있으면 빈 자리를 `np.nan`으로 치환하여 붙이다."
   ]
  },
  {
   "cell_type": "code",
   "execution_count": 27,
   "id": "d65b19ad-9263-433a-9af4-291c78abb9ff",
   "metadata": {},
   "outputs": [
    {
     "data": {
      "text/html": [
       "<div>\n",
       "<style scoped>\n",
       "    .dataframe tbody tr th:only-of-type {\n",
       "        vertical-align: middle;\n",
       "    }\n",
       "\n",
       "    .dataframe tbody tr th {\n",
       "        vertical-align: top;\n",
       "    }\n",
       "\n",
       "    .dataframe thead th {\n",
       "        text-align: right;\n",
       "    }\n",
       "</style>\n",
       "<table border=\"1\" class=\"dataframe\">\n",
       "  <thead>\n",
       "    <tr style=\"text-align: right;\">\n",
       "      <th></th>\n",
       "      <th>x</th>\n",
       "      <th>y</th>\n",
       "    </tr>\n",
       "  </thead>\n",
       "  <tbody>\n",
       "    <tr>\n",
       "      <th>0</th>\n",
       "      <td>0.630509</td>\n",
       "      <td>1.024472</td>\n",
       "    </tr>\n",
       "    <tr>\n",
       "      <th>1</th>\n",
       "      <td>-1.426814</td>\n",
       "      <td>-0.869674</td>\n",
       "    </tr>\n",
       "    <tr>\n",
       "      <th>2</th>\n",
       "      <td>1.602573</td>\n",
       "      <td>-2.003204</td>\n",
       "    </tr>\n",
       "  </tbody>\n",
       "</table>\n",
       "</div>"
      ],
      "text/plain": [
       "          x         y\n",
       "0  0.630509  1.024472\n",
       "1 -1.426814 -0.869674\n",
       "2  1.602573 -2.003204"
      ]
     },
     "execution_count": 27,
     "metadata": {},
     "output_type": "execute_result"
    }
   ],
   "source": [
    "import pandas as pd\n",
    "import numpy as np\n",
    "\n",
    "df1 = pd.DataFrame({'x': np.random.normal(size=3), 'y': np.random.normal(size=3)})\n",
    "df2 = pd.DataFrame({'x': np.random.normal(size=2), 'y': np.random.normal(size=2)})\n",
    "df3 = pd.DataFrame({'z': np.random.normal(size=5)})\n",
    "df4 = pd.DataFrame({'x': np.random.normal(size=2), 'w': np.random.normal(size=2)})\n",
    "df1"
   ]
  },
  {
   "cell_type": "code",
   "execution_count": 28,
   "id": "b48ffab9-8606-41ec-867c-9adf55622afc",
   "metadata": {},
   "outputs": [
    {
     "data": {
      "text/html": [
       "<div>\n",
       "<style scoped>\n",
       "    .dataframe tbody tr th:only-of-type {\n",
       "        vertical-align: middle;\n",
       "    }\n",
       "\n",
       "    .dataframe tbody tr th {\n",
       "        vertical-align: top;\n",
       "    }\n",
       "\n",
       "    .dataframe thead th {\n",
       "        text-align: right;\n",
       "    }\n",
       "</style>\n",
       "<table border=\"1\" class=\"dataframe\">\n",
       "  <thead>\n",
       "    <tr style=\"text-align: right;\">\n",
       "      <th></th>\n",
       "      <th>x</th>\n",
       "      <th>y</th>\n",
       "    </tr>\n",
       "  </thead>\n",
       "  <tbody>\n",
       "    <tr>\n",
       "      <th>0</th>\n",
       "      <td>0.402702</td>\n",
       "      <td>-0.695055</td>\n",
       "    </tr>\n",
       "    <tr>\n",
       "      <th>1</th>\n",
       "      <td>0.187060</td>\n",
       "      <td>-0.358584</td>\n",
       "    </tr>\n",
       "  </tbody>\n",
       "</table>\n",
       "</div>"
      ],
      "text/plain": [
       "          x         y\n",
       "0  0.402702 -0.695055\n",
       "1  0.187060 -0.358584"
      ]
     },
     "execution_count": 28,
     "metadata": {},
     "output_type": "execute_result"
    }
   ],
   "source": [
    "df2"
   ]
  },
  {
   "cell_type": "code",
   "execution_count": 29,
   "id": "507d3870-77b7-4293-812e-138e89010b55",
   "metadata": {},
   "outputs": [
    {
     "data": {
      "text/html": [
       "<div>\n",
       "<style scoped>\n",
       "    .dataframe tbody tr th:only-of-type {\n",
       "        vertical-align: middle;\n",
       "    }\n",
       "\n",
       "    .dataframe tbody tr th {\n",
       "        vertical-align: top;\n",
       "    }\n",
       "\n",
       "    .dataframe thead th {\n",
       "        text-align: right;\n",
       "    }\n",
       "</style>\n",
       "<table border=\"1\" class=\"dataframe\">\n",
       "  <thead>\n",
       "    <tr style=\"text-align: right;\">\n",
       "      <th></th>\n",
       "      <th>x</th>\n",
       "      <th>y</th>\n",
       "    </tr>\n",
       "  </thead>\n",
       "  <tbody>\n",
       "    <tr>\n",
       "      <th>0</th>\n",
       "      <td>0.630509</td>\n",
       "      <td>1.024472</td>\n",
       "    </tr>\n",
       "    <tr>\n",
       "      <th>1</th>\n",
       "      <td>-1.426814</td>\n",
       "      <td>-0.869674</td>\n",
       "    </tr>\n",
       "    <tr>\n",
       "      <th>2</th>\n",
       "      <td>1.602573</td>\n",
       "      <td>-2.003204</td>\n",
       "    </tr>\n",
       "    <tr>\n",
       "      <th>3</th>\n",
       "      <td>0.402702</td>\n",
       "      <td>-0.695055</td>\n",
       "    </tr>\n",
       "    <tr>\n",
       "      <th>4</th>\n",
       "      <td>0.187060</td>\n",
       "      <td>-0.358584</td>\n",
       "    </tr>\n",
       "  </tbody>\n",
       "</table>\n",
       "</div>"
      ],
      "text/plain": [
       "          x         y\n",
       "0  0.630509  1.024472\n",
       "1 -1.426814 -0.869674\n",
       "2  1.602573 -2.003204\n",
       "3  0.402702 -0.695055\n",
       "4  0.187060 -0.358584"
      ]
     },
     "execution_count": 29,
     "metadata": {},
     "output_type": "execute_result"
    }
   ],
   "source": [
    "new_df = pd.concat([df1,df2], axis=0, ignore_index = True)\n",
    "new_df"
   ]
  },
  {
   "cell_type": "code",
   "execution_count": 30,
   "id": "5f2f8743-ae24-4d77-807b-f8c075d637f7",
   "metadata": {},
   "outputs": [
    {
     "data": {
      "text/html": [
       "<div>\n",
       "<style scoped>\n",
       "    .dataframe tbody tr th:only-of-type {\n",
       "        vertical-align: middle;\n",
       "    }\n",
       "\n",
       "    .dataframe tbody tr th {\n",
       "        vertical-align: top;\n",
       "    }\n",
       "\n",
       "    .dataframe thead th {\n",
       "        text-align: right;\n",
       "    }\n",
       "</style>\n",
       "<table border=\"1\" class=\"dataframe\">\n",
       "  <thead>\n",
       "    <tr style=\"text-align: right;\">\n",
       "      <th></th>\n",
       "      <th>z</th>\n",
       "    </tr>\n",
       "  </thead>\n",
       "  <tbody>\n",
       "    <tr>\n",
       "      <th>0</th>\n",
       "      <td>1.405496</td>\n",
       "    </tr>\n",
       "    <tr>\n",
       "      <th>1</th>\n",
       "      <td>-1.140769</td>\n",
       "    </tr>\n",
       "    <tr>\n",
       "      <th>2</th>\n",
       "      <td>0.065532</td>\n",
       "    </tr>\n",
       "    <tr>\n",
       "      <th>3</th>\n",
       "      <td>-0.791768</td>\n",
       "    </tr>\n",
       "    <tr>\n",
       "      <th>4</th>\n",
       "      <td>0.405108</td>\n",
       "    </tr>\n",
       "  </tbody>\n",
       "</table>\n",
       "</div>"
      ],
      "text/plain": [
       "          z\n",
       "0  1.405496\n",
       "1 -1.140769\n",
       "2  0.065532\n",
       "3 -0.791768\n",
       "4  0.405108"
      ]
     },
     "execution_count": 30,
     "metadata": {},
     "output_type": "execute_result"
    }
   ],
   "source": [
    "df3 # index = 0, 1, ..., 4"
   ]
  },
  {
   "cell_type": "code",
   "execution_count": 31,
   "id": "92d83780-1398-4d19-8305-6245b5dcb531",
   "metadata": {},
   "outputs": [
    {
     "data": {
      "text/html": [
       "<div>\n",
       "<style scoped>\n",
       "    .dataframe tbody tr th:only-of-type {\n",
       "        vertical-align: middle;\n",
       "    }\n",
       "\n",
       "    .dataframe tbody tr th {\n",
       "        vertical-align: top;\n",
       "    }\n",
       "\n",
       "    .dataframe thead th {\n",
       "        text-align: right;\n",
       "    }\n",
       "</style>\n",
       "<table border=\"1\" class=\"dataframe\">\n",
       "  <thead>\n",
       "    <tr style=\"text-align: right;\">\n",
       "      <th></th>\n",
       "      <th>x</th>\n",
       "      <th>y</th>\n",
       "      <th>z</th>\n",
       "    </tr>\n",
       "  </thead>\n",
       "  <tbody>\n",
       "    <tr>\n",
       "      <th>0</th>\n",
       "      <td>0.630509</td>\n",
       "      <td>1.024472</td>\n",
       "      <td>1.405496</td>\n",
       "    </tr>\n",
       "    <tr>\n",
       "      <th>1</th>\n",
       "      <td>-1.426814</td>\n",
       "      <td>-0.869674</td>\n",
       "      <td>-1.140769</td>\n",
       "    </tr>\n",
       "    <tr>\n",
       "      <th>2</th>\n",
       "      <td>1.602573</td>\n",
       "      <td>-2.003204</td>\n",
       "      <td>0.065532</td>\n",
       "    </tr>\n",
       "    <tr>\n",
       "      <th>3</th>\n",
       "      <td>0.402702</td>\n",
       "      <td>-0.695055</td>\n",
       "      <td>-0.791768</td>\n",
       "    </tr>\n",
       "    <tr>\n",
       "      <th>4</th>\n",
       "      <td>0.187060</td>\n",
       "      <td>-0.358584</td>\n",
       "      <td>0.405108</td>\n",
       "    </tr>\n",
       "  </tbody>\n",
       "</table>\n",
       "</div>"
      ],
      "text/plain": [
       "          x         y         z\n",
       "0  0.630509  1.024472  1.405496\n",
       "1 -1.426814 -0.869674 -1.140769\n",
       "2  1.602573 -2.003204  0.065532\n",
       "3  0.402702 -0.695055 -0.791768\n",
       "4  0.187060 -0.358584  0.405108"
      ]
     },
     "execution_count": 31,
     "metadata": {},
     "output_type": "execute_result"
    }
   ],
   "source": [
    "# 열 붙이기\n",
    "pd.concat([new_df, df3], axis=1)"
   ]
  },
  {
   "cell_type": "markdown",
   "id": "efdb9256-3606-424b-9950-1abbe30c2325",
   "metadata": {},
   "source": [
    "두 행렬을 가로로 붙일 때 만약 두 행렬의 행 인덱스가 서로 다르면 오류가 발생한다. 예를 들어\n",
    "\n",
    "```python\n",
    "tmp = pd.concat([df1,df2], axis=0)\n",
    "```\n",
    "\n",
    "이라고 하면 `tmp`의 행 인덱스가 0, 1, 2, 0, 1이 된다. 그런데 `df3`이 행 인덱스는 0, 1, 2, 3, 4로 서로 다르므로\n",
    "\n",
    "```python\n",
    "pd.concat([tmp,df3], axis=1)\n",
    "```\n",
    "\n",
    "이라고 하면 오류가 발생한다. 앞에서 `new_df` 만들 때 그 이유 때문에 `ignore_index = True` 옵션을 주었다. 다른 방법은 다음과 같이 하는 것이다.\n",
    "\n",
    "```python\n",
    "pd.concat([tmp.set_index(df3.index), df3], axis=1)\n",
    "```\n",
    "\n",
    "이렇게 하면 `tmp`의 행 인덱스를 `df3`의 행 인덱스와 똑같이 만든 다음에 열 붙이기를 하므로 작동한다."
   ]
  },
  {
   "cell_type": "code",
   "execution_count": 32,
   "id": "174c1d50-55b2-40a6-a363-8df672018116",
   "metadata": {},
   "outputs": [
    {
     "data": {
      "text/html": [
       "<div>\n",
       "<style scoped>\n",
       "    .dataframe tbody tr th:only-of-type {\n",
       "        vertical-align: middle;\n",
       "    }\n",
       "\n",
       "    .dataframe tbody tr th {\n",
       "        vertical-align: top;\n",
       "    }\n",
       "\n",
       "    .dataframe thead th {\n",
       "        text-align: right;\n",
       "    }\n",
       "</style>\n",
       "<table border=\"1\" class=\"dataframe\">\n",
       "  <thead>\n",
       "    <tr style=\"text-align: right;\">\n",
       "      <th></th>\n",
       "      <th>x</th>\n",
       "      <th>y</th>\n",
       "      <th>z</th>\n",
       "    </tr>\n",
       "  </thead>\n",
       "  <tbody>\n",
       "    <tr>\n",
       "      <th>0</th>\n",
       "      <td>0.630509</td>\n",
       "      <td>1.024472</td>\n",
       "      <td>1.405496</td>\n",
       "    </tr>\n",
       "    <tr>\n",
       "      <th>1</th>\n",
       "      <td>-1.426814</td>\n",
       "      <td>-0.869674</td>\n",
       "      <td>-1.140769</td>\n",
       "    </tr>\n",
       "    <tr>\n",
       "      <th>2</th>\n",
       "      <td>1.602573</td>\n",
       "      <td>-2.003204</td>\n",
       "      <td>0.065532</td>\n",
       "    </tr>\n",
       "    <tr>\n",
       "      <th>3</th>\n",
       "      <td>0.402702</td>\n",
       "      <td>-0.695055</td>\n",
       "      <td>-0.791768</td>\n",
       "    </tr>\n",
       "    <tr>\n",
       "      <th>4</th>\n",
       "      <td>0.187060</td>\n",
       "      <td>-0.358584</td>\n",
       "      <td>0.405108</td>\n",
       "    </tr>\n",
       "  </tbody>\n",
       "</table>\n",
       "</div>"
      ],
      "text/plain": [
       "          x         y         z\n",
       "0  0.630509  1.024472  1.405496\n",
       "1 -1.426814 -0.869674 -1.140769\n",
       "2  1.602573 -2.003204  0.065532\n",
       "3  0.402702 -0.695055 -0.791768\n",
       "4  0.187060 -0.358584  0.405108"
      ]
     },
     "execution_count": 32,
     "metadata": {},
     "output_type": "execute_result"
    }
   ],
   "source": [
    "tmp = pd.concat([df1,df2], axis=0)\n",
    "# pd.concat([tmp,df3], axis=1) # Error!\n",
    "pd.concat([tmp.set_index(df3.index),df3], axis=1) # OK"
   ]
  },
  {
   "cell_type": "code",
   "execution_count": 33,
   "id": "cdd61bb0-a5f5-4403-b11f-a8b751614eb5",
   "metadata": {},
   "outputs": [
    {
     "data": {
      "text/html": [
       "<div>\n",
       "<style scoped>\n",
       "    .dataframe tbody tr th:only-of-type {\n",
       "        vertical-align: middle;\n",
       "    }\n",
       "\n",
       "    .dataframe tbody tr th {\n",
       "        vertical-align: top;\n",
       "    }\n",
       "\n",
       "    .dataframe thead th {\n",
       "        text-align: right;\n",
       "    }\n",
       "</style>\n",
       "<table border=\"1\" class=\"dataframe\">\n",
       "  <thead>\n",
       "    <tr style=\"text-align: right;\">\n",
       "      <th></th>\n",
       "      <th>x</th>\n",
       "      <th>y</th>\n",
       "      <th>w</th>\n",
       "    </tr>\n",
       "  </thead>\n",
       "  <tbody>\n",
       "    <tr>\n",
       "      <th>0</th>\n",
       "      <td>0.630509</td>\n",
       "      <td>1.024472</td>\n",
       "      <td>NaN</td>\n",
       "    </tr>\n",
       "    <tr>\n",
       "      <th>1</th>\n",
       "      <td>-1.426814</td>\n",
       "      <td>-0.869674</td>\n",
       "      <td>NaN</td>\n",
       "    </tr>\n",
       "    <tr>\n",
       "      <th>2</th>\n",
       "      <td>1.602573</td>\n",
       "      <td>-2.003204</td>\n",
       "      <td>NaN</td>\n",
       "    </tr>\n",
       "    <tr>\n",
       "      <th>0</th>\n",
       "      <td>-0.073863</td>\n",
       "      <td>NaN</td>\n",
       "      <td>0.250986</td>\n",
       "    </tr>\n",
       "    <tr>\n",
       "      <th>1</th>\n",
       "      <td>1.008082</td>\n",
       "      <td>NaN</td>\n",
       "      <td>1.191872</td>\n",
       "    </tr>\n",
       "  </tbody>\n",
       "</table>\n",
       "</div>"
      ],
      "text/plain": [
       "          x         y         w\n",
       "0  0.630509  1.024472       NaN\n",
       "1 -1.426814 -0.869674       NaN\n",
       "2  1.602573 -2.003204       NaN\n",
       "0 -0.073863       NaN  0.250986\n",
       "1  1.008082       NaN  1.191872"
      ]
     },
     "execution_count": 33,
     "metadata": {},
     "output_type": "execute_result"
    }
   ],
   "source": [
    "# 변수명이 상이한 행렬들을 행으로 붙이면 변수명들의 합집합\n",
    "pd.concat([df1,df4], axis=0)"
   ]
  },
  {
   "cell_type": "markdown",
   "id": "922996e5",
   "metadata": {},
   "source": [
    "## Series와 DataFrame\n",
    "DataFrame의 한 열(변수)은 Series이다. 예를 들어 `df[\"Age\"]`, `df.Sex` (`df['Sex']`와 같음)등은 Series이다. `df[[\"Age\", \"Name\"]]`은 DataFrame이다. 1~2행을 나타내는 `df[0:2]`와 `df[[True, True, False]]`는 모두 DataFrame이다."
   ]
  },
  {
   "cell_type": "code",
   "execution_count": 34,
   "id": "c34ba11b",
   "metadata": {},
   "outputs": [
    {
     "data": {
      "text/plain": [
       "pandas.core.series.Series"
      ]
     },
     "execution_count": 34,
     "metadata": {},
     "output_type": "execute_result"
    }
   ],
   "source": [
    "type(df[\"Age\"])"
   ]
  },
  {
   "cell_type": "code",
   "execution_count": 35,
   "id": "7fa9c611",
   "metadata": {},
   "outputs": [
    {
     "data": {
      "text/plain": [
       "pandas.core.series.Series"
      ]
     },
     "execution_count": 35,
     "metadata": {},
     "output_type": "execute_result"
    }
   ],
   "source": [
    "type(df.Sex)"
   ]
  },
  {
   "cell_type": "code",
   "execution_count": 36,
   "id": "88782b20",
   "metadata": {},
   "outputs": [
    {
     "data": {
      "text/html": [
       "<div>\n",
       "<style scoped>\n",
       "    .dataframe tbody tr th:only-of-type {\n",
       "        vertical-align: middle;\n",
       "    }\n",
       "\n",
       "    .dataframe tbody tr th {\n",
       "        vertical-align: top;\n",
       "    }\n",
       "\n",
       "    .dataframe thead th {\n",
       "        text-align: right;\n",
       "    }\n",
       "</style>\n",
       "<table border=\"1\" class=\"dataframe\">\n",
       "  <thead>\n",
       "    <tr style=\"text-align: right;\">\n",
       "      <th></th>\n",
       "      <th>Age</th>\n",
       "      <th>Name</th>\n",
       "    </tr>\n",
       "  </thead>\n",
       "  <tbody>\n",
       "    <tr>\n",
       "      <th>0</th>\n",
       "      <td>22</td>\n",
       "      <td>Braund, Mr. Owen Harris</td>\n",
       "    </tr>\n",
       "    <tr>\n",
       "      <th>1</th>\n",
       "      <td>35</td>\n",
       "      <td>Allen, Mr. William Henry</td>\n",
       "    </tr>\n",
       "    <tr>\n",
       "      <th>2</th>\n",
       "      <td>58</td>\n",
       "      <td>Bonnell, Miss. Elizabeth</td>\n",
       "    </tr>\n",
       "  </tbody>\n",
       "</table>\n",
       "</div>"
      ],
      "text/plain": [
       "   Age                      Name\n",
       "0   22   Braund, Mr. Owen Harris\n",
       "1   35  Allen, Mr. William Henry\n",
       "2   58  Bonnell, Miss. Elizabeth"
      ]
     },
     "execution_count": 36,
     "metadata": {},
     "output_type": "execute_result"
    }
   ],
   "source": [
    "df[[\"Age\", \"Name\"]] # DataFrame"
   ]
  },
  {
   "cell_type": "code",
   "execution_count": 37,
   "id": "78f3dd55",
   "metadata": {},
   "outputs": [
    {
     "data": {
      "text/html": [
       "<div>\n",
       "<style scoped>\n",
       "    .dataframe tbody tr th:only-of-type {\n",
       "        vertical-align: middle;\n",
       "    }\n",
       "\n",
       "    .dataframe tbody tr th {\n",
       "        vertical-align: top;\n",
       "    }\n",
       "\n",
       "    .dataframe thead th {\n",
       "        text-align: right;\n",
       "    }\n",
       "</style>\n",
       "<table border=\"1\" class=\"dataframe\">\n",
       "  <thead>\n",
       "    <tr style=\"text-align: right;\">\n",
       "      <th></th>\n",
       "      <th>Name</th>\n",
       "      <th>Age</th>\n",
       "      <th>Sex</th>\n",
       "      <th>Below40</th>\n",
       "      <th>female</th>\n",
       "      <th>AgeSq</th>\n",
       "    </tr>\n",
       "  </thead>\n",
       "  <tbody>\n",
       "    <tr>\n",
       "      <th>0</th>\n",
       "      <td>Braund, Mr. Owen Harris</td>\n",
       "      <td>22</td>\n",
       "      <td>male</td>\n",
       "      <td>1</td>\n",
       "      <td>0</td>\n",
       "      <td>484</td>\n",
       "    </tr>\n",
       "    <tr>\n",
       "      <th>1</th>\n",
       "      <td>Allen, Mr. William Henry</td>\n",
       "      <td>35</td>\n",
       "      <td>male</td>\n",
       "      <td>1</td>\n",
       "      <td>0</td>\n",
       "      <td>1225</td>\n",
       "    </tr>\n",
       "  </tbody>\n",
       "</table>\n",
       "</div>"
      ],
      "text/plain": [
       "                       Name  Age   Sex  Below40  female  AgeSq\n",
       "0   Braund, Mr. Owen Harris   22  male        1       0    484\n",
       "1  Allen, Mr. William Henry   35  male        1       0   1225"
      ]
     },
     "execution_count": 37,
     "metadata": {},
     "output_type": "execute_result"
    }
   ],
   "source": [
    "# slice rows\n",
    "df[0:2]"
   ]
  },
  {
   "cell_type": "code",
   "execution_count": 38,
   "id": "7525d335",
   "metadata": {},
   "outputs": [
    {
     "data": {
      "text/html": [
       "<div>\n",
       "<style scoped>\n",
       "    .dataframe tbody tr th:only-of-type {\n",
       "        vertical-align: middle;\n",
       "    }\n",
       "\n",
       "    .dataframe tbody tr th {\n",
       "        vertical-align: top;\n",
       "    }\n",
       "\n",
       "    .dataframe thead th {\n",
       "        text-align: right;\n",
       "    }\n",
       "</style>\n",
       "<table border=\"1\" class=\"dataframe\">\n",
       "  <thead>\n",
       "    <tr style=\"text-align: right;\">\n",
       "      <th></th>\n",
       "      <th>Name</th>\n",
       "      <th>Age</th>\n",
       "      <th>Sex</th>\n",
       "      <th>Below40</th>\n",
       "      <th>female</th>\n",
       "      <th>AgeSq</th>\n",
       "    </tr>\n",
       "  </thead>\n",
       "  <tbody>\n",
       "    <tr>\n",
       "      <th>0</th>\n",
       "      <td>Braund, Mr. Owen Harris</td>\n",
       "      <td>22</td>\n",
       "      <td>male</td>\n",
       "      <td>1</td>\n",
       "      <td>0</td>\n",
       "      <td>484</td>\n",
       "    </tr>\n",
       "    <tr>\n",
       "      <th>1</th>\n",
       "      <td>Allen, Mr. William Henry</td>\n",
       "      <td>35</td>\n",
       "      <td>male</td>\n",
       "      <td>1</td>\n",
       "      <td>0</td>\n",
       "      <td>1225</td>\n",
       "    </tr>\n",
       "  </tbody>\n",
       "</table>\n",
       "</div>"
      ],
      "text/plain": [
       "                       Name  Age   Sex  Below40  female  AgeSq\n",
       "0   Braund, Mr. Owen Harris   22  male        1       0    484\n",
       "1  Allen, Mr. William Henry   35  male        1       0   1225"
      ]
     },
     "execution_count": 38,
     "metadata": {},
     "output_type": "execute_result"
    }
   ],
   "source": [
    "# Select rows by boolean vector\n",
    "df[[True, True, False]]"
   ]
  },
  {
   "cell_type": "code",
   "execution_count": 39,
   "id": "c2d13230",
   "metadata": {},
   "outputs": [
    {
     "data": {
      "text/html": [
       "<div>\n",
       "<style scoped>\n",
       "    .dataframe tbody tr th:only-of-type {\n",
       "        vertical-align: middle;\n",
       "    }\n",
       "\n",
       "    .dataframe tbody tr th {\n",
       "        vertical-align: top;\n",
       "    }\n",
       "\n",
       "    .dataframe thead th {\n",
       "        text-align: right;\n",
       "    }\n",
       "</style>\n",
       "<table border=\"1\" class=\"dataframe\">\n",
       "  <thead>\n",
       "    <tr style=\"text-align: right;\">\n",
       "      <th></th>\n",
       "      <th>Name</th>\n",
       "      <th>Age</th>\n",
       "      <th>Sex</th>\n",
       "      <th>Below40</th>\n",
       "      <th>female</th>\n",
       "      <th>AgeSq</th>\n",
       "    </tr>\n",
       "  </thead>\n",
       "  <tbody>\n",
       "    <tr>\n",
       "      <th>0</th>\n",
       "      <td>Braund, Mr. Owen Harris</td>\n",
       "      <td>22</td>\n",
       "      <td>male</td>\n",
       "      <td>1</td>\n",
       "      <td>0</td>\n",
       "      <td>484</td>\n",
       "    </tr>\n",
       "    <tr>\n",
       "      <th>1</th>\n",
       "      <td>Allen, Mr. William Henry</td>\n",
       "      <td>35</td>\n",
       "      <td>male</td>\n",
       "      <td>1</td>\n",
       "      <td>0</td>\n",
       "      <td>1225</td>\n",
       "    </tr>\n",
       "  </tbody>\n",
       "</table>\n",
       "</div>"
      ],
      "text/plain": [
       "                       Name  Age   Sex  Below40  female  AgeSq\n",
       "0   Braund, Mr. Owen Harris   22  male        1       0    484\n",
       "1  Allen, Mr. William Henry   35  male        1       0   1225"
      ]
     },
     "execution_count": 39,
     "metadata": {},
     "output_type": "execute_result"
    }
   ],
   "source": [
    "# Select row by integer location\n",
    "df.iloc[[0,1]]"
   ]
  },
  {
   "cell_type": "markdown",
   "id": "e1053086",
   "metadata": {},
   "source": [
    "한 행을 추출해도 Series가 된다. 이는 상당한 혼동을 야기할 수 있으므로 주의하여야 할 것이다."
   ]
  },
  {
   "cell_type": "code",
   "execution_count": 40,
   "id": "fc85e89b",
   "metadata": {},
   "outputs": [
    {
     "data": {
      "text/plain": [
       "Name       Braund, Mr. Owen Harris\n",
       "Age                             22\n",
       "Sex                           male\n",
       "Below40                          1\n",
       "female                           0\n",
       "AgeSq                          484\n",
       "Name: 0, dtype: object"
      ]
     },
     "execution_count": 40,
     "metadata": {},
     "output_type": "execute_result"
    }
   ],
   "source": [
    "df.iloc[0] # first row"
   ]
  },
  {
   "cell_type": "code",
   "execution_count": 41,
   "id": "dc48aa99",
   "metadata": {},
   "outputs": [
    {
     "data": {
      "text/plain": [
       "pandas.core.series.Series"
      ]
     },
     "execution_count": 41,
     "metadata": {},
     "output_type": "execute_result"
    }
   ],
   "source": [
    "type(df.iloc[0])"
   ]
  },
  {
   "cell_type": "markdown",
   "id": "c12cb572-3954-4212-8c59-b4361036fce4",
   "metadata": {},
   "source": [
    "원소를 추출할 때에는 다음 방법들을 사용할 수 있다."
   ]
  },
  {
   "cell_type": "code",
   "execution_count": 42,
   "id": "a7d315c9-d543-49c4-9cd8-28195a4cb9fc",
   "metadata": {},
   "outputs": [
    {
     "data": {
      "text/plain": [
       "'Braund, Mr. Owen Harris'"
      ]
     },
     "execution_count": 42,
     "metadata": {},
     "output_type": "execute_result"
    }
   ],
   "source": [
    "df.at[0,'Name']"
   ]
  },
  {
   "cell_type": "code",
   "execution_count": 43,
   "id": "61eb1e1b-ba1f-4bcd-b8ac-f81ada97a3e7",
   "metadata": {},
   "outputs": [
    {
     "data": {
      "text/plain": [
       "'Braund, Mr. Owen Harris'"
      ]
     },
     "execution_count": 43,
     "metadata": {},
     "output_type": "execute_result"
    }
   ],
   "source": [
    "df['Name'][0]"
   ]
  },
  {
   "cell_type": "code",
   "execution_count": 44,
   "id": "4f8f9941-7feb-4799-b4e8-aaf8f6930463",
   "metadata": {},
   "outputs": [
    {
     "data": {
      "text/plain": [
       "'Allen, Mr. William Henry'"
      ]
     },
     "execution_count": 44,
     "metadata": {},
     "output_type": "execute_result"
    }
   ],
   "source": [
    "df.loc[1,'Name']"
   ]
  },
  {
   "cell_type": "code",
   "execution_count": 45,
   "id": "bb958c4b-14ce-42a1-8b4f-45bd6af2b0af",
   "metadata": {},
   "outputs": [
    {
     "data": {
      "text/html": [
       "<div>\n",
       "<style scoped>\n",
       "    .dataframe tbody tr th:only-of-type {\n",
       "        vertical-align: middle;\n",
       "    }\n",
       "\n",
       "    .dataframe tbody tr th {\n",
       "        vertical-align: top;\n",
       "    }\n",
       "\n",
       "    .dataframe thead th {\n",
       "        text-align: right;\n",
       "    }\n",
       "</style>\n",
       "<table border=\"1\" class=\"dataframe\">\n",
       "  <thead>\n",
       "    <tr style=\"text-align: right;\">\n",
       "      <th></th>\n",
       "      <th>Name</th>\n",
       "      <th>Sex</th>\n",
       "    </tr>\n",
       "  </thead>\n",
       "  <tbody>\n",
       "    <tr>\n",
       "      <th>0</th>\n",
       "      <td>Braund, Mr. Owen Harris</td>\n",
       "      <td>male</td>\n",
       "    </tr>\n",
       "    <tr>\n",
       "      <th>1</th>\n",
       "      <td>Allen, Mr. William Henry</td>\n",
       "      <td>male</td>\n",
       "    </tr>\n",
       "  </tbody>\n",
       "</table>\n",
       "</div>"
      ],
      "text/plain": [
       "                       Name   Sex\n",
       "0   Braund, Mr. Owen Harris  male\n",
       "1  Allen, Mr. William Henry  male"
      ]
     },
     "execution_count": 45,
     "metadata": {},
     "output_type": "execute_result"
    }
   ],
   "source": [
    "df.loc[0:1, ['Name','Sex']]"
   ]
  },
  {
   "cell_type": "markdown",
   "id": "ee9f6e12-c834-48db-be21-e17a8c56cf5a",
   "metadata": {},
   "source": [
    "## 검색\n",
    "\n",
    "Pandas DataFrame 검색은 `query()` 메쏘드를 사용한다([pandas.DataFrame.query](pandas.DataFrame.query)). [이 링크](https://likegeeks.com/pandas-query-regex/)가 도움이 된다. regular expression도 사용할 수 있다."
   ]
  },
  {
   "cell_type": "code",
   "execution_count": 46,
   "id": "4b08bdbe-00d5-4c13-8e1f-7e9bf23bfd0d",
   "metadata": {},
   "outputs": [
    {
     "data": {
      "text/html": [
       "<div>\n",
       "<style scoped>\n",
       "    .dataframe tbody tr th:only-of-type {\n",
       "        vertical-align: middle;\n",
       "    }\n",
       "\n",
       "    .dataframe tbody tr th {\n",
       "        vertical-align: top;\n",
       "    }\n",
       "\n",
       "    .dataframe thead th {\n",
       "        text-align: right;\n",
       "    }\n",
       "</style>\n",
       "<table border=\"1\" class=\"dataframe\">\n",
       "  <thead>\n",
       "    <tr style=\"text-align: right;\">\n",
       "      <th></th>\n",
       "      <th>Name</th>\n",
       "      <th>Age</th>\n",
       "      <th>Sex</th>\n",
       "      <th>Below40</th>\n",
       "      <th>female</th>\n",
       "      <th>AgeSq</th>\n",
       "    </tr>\n",
       "  </thead>\n",
       "  <tbody>\n",
       "    <tr>\n",
       "      <th>1</th>\n",
       "      <td>Allen, Mr. William Henry</td>\n",
       "      <td>35</td>\n",
       "      <td>male</td>\n",
       "      <td>1</td>\n",
       "      <td>0</td>\n",
       "      <td>1225</td>\n",
       "    </tr>\n",
       "  </tbody>\n",
       "</table>\n",
       "</div>"
      ],
      "text/plain": [
       "                       Name  Age   Sex  Below40  female  AgeSq\n",
       "1  Allen, Mr. William Henry   35  male        1       0   1225"
      ]
     },
     "execution_count": 46,
     "metadata": {},
     "output_type": "execute_result"
    }
   ],
   "source": [
    "df.query(\"Name.str.contains('H.*[sy]')&Age>30\")"
   ]
  },
  {
   "cell_type": "markdown",
   "id": "b7caaa0c",
   "metadata": {},
   "source": [
    "## Pandas와 NumPy 데이터\n",
    "Pandas와 [NumPy](https://numpy.org/)가 데이터를 저장하는 방식이 다르다. 그러다 보니 `pandas` 데이터에 대하여 `numpy` 함수를 사용할 때에 알지 못하는 오류가 발생하곤 한다. Pandas의 `Series` `s`를 NumPy의 `ndarray`로 변환하려면 `s.to_numpy()`라고 하면 된다. Series의 데이터에 해당하는 `PandasArray`는 `s.array`로 접근 가능하다."
   ]
  },
  {
   "cell_type": "code",
   "execution_count": 47,
   "id": "da3ff417",
   "metadata": {},
   "outputs": [
    {
     "data": {
      "text/plain": [
       "0    0\n",
       "1    1\n",
       "2    2\n",
       "3    3\n",
       "4    4\n",
       "5    5\n",
       "6    6\n",
       "7    7\n",
       "dtype: int64"
      ]
     },
     "execution_count": 47,
     "metadata": {},
     "output_type": "execute_result"
    }
   ],
   "source": [
    "s = pd.Series(range(0,8))\n",
    "s"
   ]
  },
  {
   "cell_type": "code",
   "execution_count": 48,
   "id": "28563a47",
   "metadata": {},
   "outputs": [
    {
     "data": {
      "text/plain": [
       "<PandasArray>\n",
       "[0, 1, 2, 3, 4, 5, 6, 7]\n",
       "Length: 8, dtype: int64"
      ]
     },
     "execution_count": 48,
     "metadata": {},
     "output_type": "execute_result"
    }
   ],
   "source": [
    "s.array"
   ]
  },
  {
   "cell_type": "code",
   "execution_count": 49,
   "id": "05fbc691",
   "metadata": {},
   "outputs": [
    {
     "data": {
      "text/plain": [
       "array([0, 1, 2, 3, 4, 5, 6, 7])"
      ]
     },
     "execution_count": 49,
     "metadata": {},
     "output_type": "execute_result"
    }
   ],
   "source": [
    "s.to_numpy()"
   ]
  },
  {
   "cell_type": "markdown",
   "id": "1be13052",
   "metadata": {},
   "source": [
    "R과 달리 통일된 인터페이스를 기대할 수 없으며, 늘 주의가 필요하다. Pandas는 파이썬에서 기본으로 제공하는 데이터와 구조가 다르고 NumPy와도 데이터를 저장하고 데이터를 지칭하는 방식이 다르다는 점을 늘 염두에 두고 있어야 한다.\n",
    "\n",
    "앞에서 잠깐 array에 대해 말했는데, Pandas가 말하는 array는 `PandasArray`이다. NumPy에서도 `array`를 별도로 정의한다. 파이썬에서 `array`라는 모듈을 import해서 쓸 수 있는 `array`도 있다. 매우 혼란스러울 수 있으므로 주의하여야 할 것이다."
   ]
  },
  {
   "cell_type": "markdown",
   "id": "38ae0ce4",
   "metadata": {},
   "source": [
    "래그는 [pandas.Series.shift](https://pandas.pydata.org/docs/reference/api/pandas.Series.shift.html)를 사용한다. DataFrame에 적용할 수도 있다([pandas.DataFrame.shift](https://pandas.pydata.org/docs/reference/api/pandas.DataFrame.shift.html))."
   ]
  },
  {
   "cell_type": "code",
   "execution_count": 50,
   "id": "02dfd385",
   "metadata": {},
   "outputs": [
    {
     "data": {
      "text/html": [
       "<div>\n",
       "<style scoped>\n",
       "    .dataframe tbody tr th:only-of-type {\n",
       "        vertical-align: middle;\n",
       "    }\n",
       "\n",
       "    .dataframe tbody tr th {\n",
       "        vertical-align: top;\n",
       "    }\n",
       "\n",
       "    .dataframe thead th {\n",
       "        text-align: right;\n",
       "    }\n",
       "</style>\n",
       "<table border=\"1\" class=\"dataframe\">\n",
       "  <thead>\n",
       "    <tr style=\"text-align: right;\">\n",
       "      <th></th>\n",
       "      <th>Name</th>\n",
       "      <th>Age</th>\n",
       "      <th>Sex</th>\n",
       "      <th>Below40</th>\n",
       "      <th>female</th>\n",
       "      <th>AgeSq</th>\n",
       "      <th>L1.Age</th>\n",
       "      <th>L2.Age</th>\n",
       "      <th>F1.Age</th>\n",
       "    </tr>\n",
       "  </thead>\n",
       "  <tbody>\n",
       "    <tr>\n",
       "      <th>0</th>\n",
       "      <td>Braund, Mr. Owen Harris</td>\n",
       "      <td>22</td>\n",
       "      <td>male</td>\n",
       "      <td>1</td>\n",
       "      <td>0</td>\n",
       "      <td>484</td>\n",
       "      <td>NaN</td>\n",
       "      <td>NaN</td>\n",
       "      <td>35.0</td>\n",
       "    </tr>\n",
       "    <tr>\n",
       "      <th>1</th>\n",
       "      <td>Allen, Mr. William Henry</td>\n",
       "      <td>35</td>\n",
       "      <td>male</td>\n",
       "      <td>1</td>\n",
       "      <td>0</td>\n",
       "      <td>1225</td>\n",
       "      <td>22.0</td>\n",
       "      <td>NaN</td>\n",
       "      <td>58.0</td>\n",
       "    </tr>\n",
       "    <tr>\n",
       "      <th>2</th>\n",
       "      <td>Bonnell, Miss. Elizabeth</td>\n",
       "      <td>58</td>\n",
       "      <td>female</td>\n",
       "      <td>0</td>\n",
       "      <td>1</td>\n",
       "      <td>3364</td>\n",
       "      <td>35.0</td>\n",
       "      <td>22.0</td>\n",
       "      <td>NaN</td>\n",
       "    </tr>\n",
       "  </tbody>\n",
       "</table>\n",
       "</div>"
      ],
      "text/plain": [
       "                       Name  Age     Sex  Below40  female  AgeSq  L1.Age  \\\n",
       "0   Braund, Mr. Owen Harris   22    male        1       0    484     NaN   \n",
       "1  Allen, Mr. William Henry   35    male        1       0   1225    22.0   \n",
       "2  Bonnell, Miss. Elizabeth   58  female        0       1   3364    35.0   \n",
       "\n",
       "   L2.Age  F1.Age  \n",
       "0     NaN    35.0  \n",
       "1     NaN    58.0  \n",
       "2    22.0     NaN  "
      ]
     },
     "execution_count": 50,
     "metadata": {},
     "output_type": "execute_result"
    }
   ],
   "source": [
    "df['L1.Age'] =  df.Age.shift()\n",
    "df['L2.Age'] =  df.Age.shift(2)\n",
    "df['F1.Age'] =  df.Age.shift(-1)\n",
    "df"
   ]
  },
  {
   "cell_type": "code",
   "execution_count": null,
   "id": "bb6f5ab0-e829-45c4-a70a-b42ffcbc0f17",
   "metadata": {},
   "outputs": [],
   "source": []
  }
 ],
 "metadata": {
  "kernelspec": {
   "display_name": "Python 3",
   "language": "python",
   "name": "python3"
  },
  "language_info": {
   "codemirror_mode": {
    "name": "ipython",
    "version": 3
   },
   "file_extension": ".py",
   "mimetype": "text/x-python",
   "name": "python",
   "nbconvert_exporter": "python",
   "pygments_lexer": "ipython3",
   "version": "3.9.16"
  }
 },
 "nbformat": 4,
 "nbformat_minor": 5
}
