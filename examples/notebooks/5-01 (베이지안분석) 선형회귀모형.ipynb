{
 "cells": [
  {
   "cell_type": "markdown",
   "metadata": {},
   "source": [
    "##### 본 매뉴얼은 베이지안 선형회귀모형 추정에 대해 다룬다."
   ]
  },
  {
   "cell_type": "markdown",
   "metadata": {},
   "source": [
    "# 베이지안 회귀분석\n",
    "- 작성자: 고려대학교 경제학과 강규호 교수, 데이터사이언스팀 이창훈 과장"
   ]
  },
  {
   "cell_type": "markdown",
   "metadata": {},
   "source": [
    "## 베이지안 선형회귀모형\n",
    "### 모형\n",
    "- $\\sigma^{2} \\sim IG(\\frac{\\alpha_{0}}{2}, \\frac{\\delta_{0}}{2})$\n",
    "- $\\beta \\sim Normal(\\beta_{0}, B_{0})$\n",
    "- $Y|\\beta, \\sigma^{2} \\sim Normal(X\\beta, \\sigma^{2}I_{T})$\n",
    "\n",
    "### 사전분포에 대한 기본 하이퍼-파라미터\n",
    "* 샘플링 크기\n",
    "    * $n$: 깁스-샘플링 크기\n",
    "    * $n_{0}$: 번인(burn-in) 크기\n",
    "    * $n_{1}=n-n_{0}$: 사후분포 추론에 사용할 샘플링 크기\n",
    "* $\\beta$ 관련 하이퍼-파라미터 디폴트값\n",
    "    * $\\beta_{0}=0$\n",
    "    * $B_{0}=25$\n",
    "* $\\sigma^{2}$ 관련 하이퍼-파라미터 디폴트값\n",
    "    * $\\alpha_{0}=5$\n",
    "    * $\\delta_{0}=5$"
   ]
  },
  {
   "cell_type": "markdown",
   "metadata": {},
   "source": [
    "`bok_da` 라이브러리의 `bayes` 패키지, `linear_model` 모듈의 `gen_hyper_para` 함수를 이용해 선형모형에 대한 하이퍼 파라미터를 설정할 수 있다. 아무런 input을 넣지 않는 경우 디폴트 값으로 설정된다."
   ]
  },
  {
   "cell_type": "code",
   "execution_count": 1,
   "metadata": {},
   "outputs": [],
   "source": [
    "from bok_da.bayes.linear_model import gen_hyper_para"
   ]
  },
  {
   "cell_type": "code",
   "execution_count": 2,
   "metadata": {},
   "outputs": [
    {
     "name": "stdout",
     "output_type": "stream",
     "text": [
      "{'n': 11000, 'n0': 1000, 'n1': 10000, 'beta0_': 0, 'B0_': 25, 'alpha0': 5, 'delta0': 5, 'sig2': 1.0}\n"
     ]
    }
   ],
   "source": [
    "hyper = gen_hyper_para()\n",
    "print(hyper)"
   ]
  },
  {
   "cell_type": "markdown",
   "metadata": {},
   "source": [
    "사전분포의 하이퍼-파라미터를 변경하고 싶은 경우, 아래 예시에 따라 조정할 수 있다."
   ]
  },
  {
   "cell_type": "code",
   "execution_count": 3,
   "metadata": {},
   "outputs": [
    {
     "name": "stdout",
     "output_type": "stream",
     "text": [
      "{'n': 22000, 'n0': 2000, 'n1': 20000, 'beta0_': 0, 'B0_': 25, 'alpha0': 10, 'delta0': 10, 'sig2': 1.0}\n"
     ]
    }
   ],
   "source": [
    "# 예1) sig2 의 하이퍼 파라미터 변경 시\n",
    "hyper['alpha0'] = 10\n",
    "hyper['delta0'] = 10\n",
    "hyper['sig2'] = hyper['alpha0']/hyper['delta0'] # 사전 평균도 다시 계산해야 한다.\n",
    "\n",
    "# 예2) 깁스-샘플링 크기 변경 시\n",
    "hyper['n1'] = 20000\n",
    "hyper['n0'] = int(hyper['n1'] * 0.1) # int 는 오류 방지를 위해 붙일 것을 권장한다.\n",
    "hyper['n'] = hyper['n0'] + hyper['n1']\n",
    "\n",
    "print(hyper)"
   ]
  },
  {
   "cell_type": "markdown",
   "metadata": {},
   "source": [
    "### 선형회귀모형의 베이지안 추정 예제\n",
    "\n",
    "* 데이터: 한국 GDP, CPI, M2, 국고채 10년, 미국 10년물 금리"
   ]
  },
  {
   "cell_type": "markdown",
   "metadata": {},
   "source": [
    "### 1) 자료 불러오기"
   ]
  },
  {
   "cell_type": "code",
   "execution_count": 4,
   "metadata": {},
   "outputs": [],
   "source": [
    "import pandas as pd"
   ]
  },
  {
   "cell_type": "code",
   "execution_count": 5,
   "metadata": {},
   "outputs": [
    {
     "data": {
      "text/html": [
       "<div>\n",
       "<style scoped>\n",
       "    .dataframe tbody tr th:only-of-type {\n",
       "        vertical-align: middle;\n",
       "    }\n",
       "\n",
       "    .dataframe tbody tr th {\n",
       "        vertical-align: top;\n",
       "    }\n",
       "\n",
       "    .dataframe thead th {\n",
       "        text-align: right;\n",
       "    }\n",
       "</style>\n",
       "<table border=\"1\" class=\"dataframe\">\n",
       "  <thead>\n",
       "    <tr style=\"text-align: right;\">\n",
       "      <th></th>\n",
       "      <th>gdp</th>\n",
       "      <th>gdp_l1</th>\n",
       "      <th>cpi</th>\n",
       "      <th>m2</th>\n",
       "      <th>kr10y</th>\n",
       "      <th>us10y</th>\n",
       "    </tr>\n",
       "  </thead>\n",
       "  <tbody>\n",
       "    <tr>\n",
       "      <th>2000-12-31</th>\n",
       "      <td>-0.324985</td>\n",
       "      <td>2.717335</td>\n",
       "      <td>0.659799</td>\n",
       "      <td>1.417791</td>\n",
       "      <td>7.760</td>\n",
       "      <td>5.12</td>\n",
       "    </tr>\n",
       "    <tr>\n",
       "      <th>2001-03-31</th>\n",
       "      <td>1.218106</td>\n",
       "      <td>-0.324985</td>\n",
       "      <td>1.766167</td>\n",
       "      <td>1.752773</td>\n",
       "      <td>6.690</td>\n",
       "      <td>4.93</td>\n",
       "    </tr>\n",
       "    <tr>\n",
       "      <th>2001-06-30</th>\n",
       "      <td>1.290518</td>\n",
       "      <td>1.218106</td>\n",
       "      <td>1.157815</td>\n",
       "      <td>2.339417</td>\n",
       "      <td>7.490</td>\n",
       "      <td>5.42</td>\n",
       "    </tr>\n",
       "    <tr>\n",
       "      <th>2001-09-30</th>\n",
       "      <td>1.341160</td>\n",
       "      <td>1.290518</td>\n",
       "      <td>0.574675</td>\n",
       "      <td>4.178410</td>\n",
       "      <td>6.440</td>\n",
       "      <td>4.60</td>\n",
       "    </tr>\n",
       "    <tr>\n",
       "      <th>2001-12-31</th>\n",
       "      <td>1.747232</td>\n",
       "      <td>1.341160</td>\n",
       "      <td>-0.254330</td>\n",
       "      <td>-0.487594</td>\n",
       "      <td>6.810</td>\n",
       "      <td>5.07</td>\n",
       "    </tr>\n",
       "    <tr>\n",
       "      <th>...</th>\n",
       "      <td>...</td>\n",
       "      <td>...</td>\n",
       "      <td>...</td>\n",
       "      <td>...</td>\n",
       "      <td>...</td>\n",
       "      <td>...</td>\n",
       "    </tr>\n",
       "    <tr>\n",
       "      <th>2022-09-30</th>\n",
       "      <td>0.233454</td>\n",
       "      <td>0.747667</td>\n",
       "      <td>1.128388</td>\n",
       "      <td>0.938318</td>\n",
       "      <td>3.497</td>\n",
       "      <td>3.83</td>\n",
       "    </tr>\n",
       "    <tr>\n",
       "      <th>2022-12-31</th>\n",
       "      <td>-0.303428</td>\n",
       "      <td>0.233454</td>\n",
       "      <td>0.394695</td>\n",
       "      <td>0.276973</td>\n",
       "      <td>3.890</td>\n",
       "      <td>3.88</td>\n",
       "    </tr>\n",
       "    <tr>\n",
       "      <th>2023-03-31</th>\n",
       "      <td>0.329332</td>\n",
       "      <td>-0.303428</td>\n",
       "      <td>1.047989</td>\n",
       "      <td>0.496197</td>\n",
       "      <td>3.437</td>\n",
       "      <td>3.48</td>\n",
       "    </tr>\n",
       "    <tr>\n",
       "      <th>2023-06-30</th>\n",
       "      <td>0.606808</td>\n",
       "      <td>0.329332</td>\n",
       "      <td>0.641578</td>\n",
       "      <td>0.824358</td>\n",
       "      <td>3.447</td>\n",
       "      <td>3.81</td>\n",
       "    </tr>\n",
       "    <tr>\n",
       "      <th>2023-09-30</th>\n",
       "      <td>0.614183</td>\n",
       "      <td>0.606808</td>\n",
       "      <td>0.994855</td>\n",
       "      <td>0.817886</td>\n",
       "      <td>3.827</td>\n",
       "      <td>4.59</td>\n",
       "    </tr>\n",
       "  </tbody>\n",
       "</table>\n",
       "<p>92 rows × 6 columns</p>\n",
       "</div>"
      ],
      "text/plain": [
       "                 gdp    gdp_l1       cpi        m2  kr10y  us10y\n",
       "2000-12-31 -0.324985  2.717335  0.659799  1.417791  7.760   5.12\n",
       "2001-03-31  1.218106 -0.324985  1.766167  1.752773  6.690   4.93\n",
       "2001-06-30  1.290518  1.218106  1.157815  2.339417  7.490   5.42\n",
       "2001-09-30  1.341160  1.290518  0.574675  4.178410  6.440   4.60\n",
       "2001-12-31  1.747232  1.341160 -0.254330 -0.487594  6.810   5.07\n",
       "...              ...       ...       ...       ...    ...    ...\n",
       "2022-09-30  0.233454  0.747667  1.128388  0.938318  3.497   3.83\n",
       "2022-12-31 -0.303428  0.233454  0.394695  0.276973  3.890   3.88\n",
       "2023-03-31  0.329332 -0.303428  1.047989  0.496197  3.437   3.48\n",
       "2023-06-30  0.606808  0.329332  0.641578  0.824358  3.447   3.81\n",
       "2023-09-30  0.614183  0.606808  0.994855  0.817886  3.827   4.59\n",
       "\n",
       "[92 rows x 6 columns]"
      ]
     },
     "execution_count": 5,
     "metadata": {},
     "output_type": "execute_result"
    }
   ],
   "source": [
    "# 데이터프레임 형태로 데이터 불러오기\n",
    "df = pd.read_excel(\"../data/bayes_test_data.xlsx\") # test_data 폴더에서 엑셀파일 불러오기\n",
    "df.columns = ['gdp', 'gdp_l1', 'cpi', 'm2', 'kr10y', 'us10y'] # 데이터 변수 이름 설정하기\n",
    "df.index = pd.date_range(start='2000-Q4', end='2023-Q4', freq='Q') # 데이터 인덱스(날짜) 설정하기\n",
    "df"
   ]
  },
  {
   "cell_type": "markdown",
   "metadata": {},
   "source": [
    "### 2) 모형 추정"
   ]
  },
  {
   "cell_type": "code",
   "execution_count": 6,
   "metadata": {},
   "outputs": [],
   "source": [
    "# 베이지안 선형회귀 하이퍼 파라미터 생성\n",
    "hyper = gen_hyper_para()"
   ]
  },
  {
   "cell_type": "markdown",
   "metadata": {},
   "source": [
    "`bok_da` 라이브러리 `bayes` 패키지의 `linear_model` 서브패키지에서 베이지안 선형회귀모형 추정을 위한 깁스샘플링 함수 `bayes_linear`를 불러온다"
   ]
  },
  {
   "cell_type": "code",
   "execution_count": 7,
   "metadata": {},
   "outputs": [],
   "source": [
    "from bok_da.bayes.linear_model import bayes_linear"
   ]
  },
  {
   "cell_type": "code",
   "execution_count": 8,
   "metadata": {},
   "outputs": [],
   "source": [
    "# 종속변수와 설명변수 설정\n",
    "Y = df['gdp'] # 종속변수 설정\n",
    "X = df.drop(columns='gdp') # gdp를 제외한 나머지 변수를 설명변수로 설정\n",
    "\n",
    "# gibbs_line 함수를 이용한 추정\n",
    "res = bayes_linear(Y=Y, X=X, hyper=hyper, print_info=False)"
   ]
  },
  {
   "cell_type": "code",
   "execution_count": 9,
   "metadata": {},
   "outputs": [
    {
     "data": {
      "text/html": [
       "<div>\n",
       "<style scoped>\n",
       "    .dataframe tbody tr th:only-of-type {\n",
       "        vertical-align: middle;\n",
       "    }\n",
       "\n",
       "    .dataframe tbody tr th {\n",
       "        vertical-align: top;\n",
       "    }\n",
       "\n",
       "    .dataframe thead th {\n",
       "        text-align: right;\n",
       "    }\n",
       "</style>\n",
       "<table border=\"1\" class=\"dataframe\">\n",
       "  <thead>\n",
       "    <tr style=\"text-align: right;\">\n",
       "      <th></th>\n",
       "      <th>gdp_l1</th>\n",
       "      <th>cpi</th>\n",
       "      <th>m2</th>\n",
       "      <th>kr10y</th>\n",
       "      <th>us10y</th>\n",
       "    </tr>\n",
       "  </thead>\n",
       "  <tbody>\n",
       "    <tr>\n",
       "      <th>0</th>\n",
       "      <td>0.119053</td>\n",
       "      <td>0.628187</td>\n",
       "      <td>0.012301</td>\n",
       "      <td>0.033996</td>\n",
       "      <td>0.052528</td>\n",
       "    </tr>\n",
       "    <tr>\n",
       "      <th>1</th>\n",
       "      <td>0.032816</td>\n",
       "      <td>0.411609</td>\n",
       "      <td>0.137268</td>\n",
       "      <td>-0.141976</td>\n",
       "      <td>0.251670</td>\n",
       "    </tr>\n",
       "    <tr>\n",
       "      <th>2</th>\n",
       "      <td>0.159193</td>\n",
       "      <td>0.370437</td>\n",
       "      <td>0.092008</td>\n",
       "      <td>-0.136505</td>\n",
       "      <td>0.305635</td>\n",
       "    </tr>\n",
       "    <tr>\n",
       "      <th>3</th>\n",
       "      <td>0.148986</td>\n",
       "      <td>0.032587</td>\n",
       "      <td>0.074569</td>\n",
       "      <td>-0.159448</td>\n",
       "      <td>0.404809</td>\n",
       "    </tr>\n",
       "    <tr>\n",
       "      <th>4</th>\n",
       "      <td>0.053859</td>\n",
       "      <td>-0.059151</td>\n",
       "      <td>0.181778</td>\n",
       "      <td>-0.217320</td>\n",
       "      <td>0.422246</td>\n",
       "    </tr>\n",
       "    <tr>\n",
       "      <th>...</th>\n",
       "      <td>...</td>\n",
       "      <td>...</td>\n",
       "      <td>...</td>\n",
       "      <td>...</td>\n",
       "      <td>...</td>\n",
       "    </tr>\n",
       "    <tr>\n",
       "      <th>9994</th>\n",
       "      <td>0.097011</td>\n",
       "      <td>0.429700</td>\n",
       "      <td>0.040364</td>\n",
       "      <td>-0.023274</td>\n",
       "      <td>0.169755</td>\n",
       "    </tr>\n",
       "    <tr>\n",
       "      <th>9995</th>\n",
       "      <td>-0.083003</td>\n",
       "      <td>0.598927</td>\n",
       "      <td>0.056235</td>\n",
       "      <td>-0.215249</td>\n",
       "      <td>0.381303</td>\n",
       "    </tr>\n",
       "    <tr>\n",
       "      <th>9996</th>\n",
       "      <td>0.217405</td>\n",
       "      <td>0.284199</td>\n",
       "      <td>0.008574</td>\n",
       "      <td>0.029131</td>\n",
       "      <td>0.127910</td>\n",
       "    </tr>\n",
       "    <tr>\n",
       "      <th>9997</th>\n",
       "      <td>0.193500</td>\n",
       "      <td>0.254272</td>\n",
       "      <td>0.062887</td>\n",
       "      <td>-0.115696</td>\n",
       "      <td>0.312693</td>\n",
       "    </tr>\n",
       "    <tr>\n",
       "      <th>9998</th>\n",
       "      <td>0.031378</td>\n",
       "      <td>0.463323</td>\n",
       "      <td>0.041108</td>\n",
       "      <td>-0.028306</td>\n",
       "      <td>0.178549</td>\n",
       "    </tr>\n",
       "  </tbody>\n",
       "</table>\n",
       "<p>9999 rows × 5 columns</p>\n",
       "</div>"
      ],
      "text/plain": [
       "        gdp_l1       cpi        m2     kr10y     us10y\n",
       "0     0.119053  0.628187  0.012301  0.033996  0.052528\n",
       "1     0.032816  0.411609  0.137268 -0.141976  0.251670\n",
       "2     0.159193  0.370437  0.092008 -0.136505  0.305635\n",
       "3     0.148986  0.032587  0.074569 -0.159448  0.404809\n",
       "4     0.053859 -0.059151  0.181778 -0.217320  0.422246\n",
       "...        ...       ...       ...       ...       ...\n",
       "9994  0.097011  0.429700  0.040364 -0.023274  0.169755\n",
       "9995 -0.083003  0.598927  0.056235 -0.215249  0.381303\n",
       "9996  0.217405  0.284199  0.008574  0.029131  0.127910\n",
       "9997  0.193500  0.254272  0.062887 -0.115696  0.312693\n",
       "9998  0.031378  0.463323  0.041108 -0.028306  0.178549\n",
       "\n",
       "[9999 rows x 5 columns]"
      ]
     },
     "execution_count": 9,
     "metadata": {},
     "output_type": "execute_result"
    }
   ],
   "source": [
    "res.beta"
   ]
  },
  {
   "cell_type": "markdown",
   "metadata": {},
   "source": [
    "`bok_da` 라이브러리 `bayes` 패키지의 `linear_model` 서브패키지에서 `get_table` 함수를 불러와 결과를 출력한다."
   ]
  },
  {
   "cell_type": "code",
   "execution_count": 10,
   "metadata": {
    "tags": []
   },
   "outputs": [],
   "source": [
    "from bok_da.bayes.linear_model import get_table"
   ]
  },
  {
   "cell_type": "code",
   "execution_count": 11,
   "metadata": {},
   "outputs": [
    {
     "data": {
      "text/html": [
       "<div>\n",
       "<style scoped>\n",
       "    .dataframe tbody tr th:only-of-type {\n",
       "        vertical-align: middle;\n",
       "    }\n",
       "\n",
       "    .dataframe tbody tr th {\n",
       "        vertical-align: top;\n",
       "    }\n",
       "\n",
       "    .dataframe thead th {\n",
       "        text-align: right;\n",
       "    }\n",
       "</style>\n",
       "<table border=\"1\" class=\"dataframe\">\n",
       "  <thead>\n",
       "    <tr style=\"text-align: right;\">\n",
       "      <th></th>\n",
       "      <th>Mean</th>\n",
       "      <th>Median</th>\n",
       "      <th>S.E.</th>\n",
       "      <th>0.025%</th>\n",
       "      <th>0.975%</th>\n",
       "    </tr>\n",
       "  </thead>\n",
       "  <tbody>\n",
       "    <tr>\n",
       "      <th>gdp_l1</th>\n",
       "      <td>0.107089</td>\n",
       "      <td>0.107094</td>\n",
       "      <td>0.108283</td>\n",
       "      <td>-0.100701</td>\n",
       "      <td>0.319983</td>\n",
       "    </tr>\n",
       "    <tr>\n",
       "      <th>cpi</th>\n",
       "      <td>0.293697</td>\n",
       "      <td>0.297118</td>\n",
       "      <td>0.181708</td>\n",
       "      <td>-0.071603</td>\n",
       "      <td>0.640418</td>\n",
       "    </tr>\n",
       "    <tr>\n",
       "      <th>m2</th>\n",
       "      <td>0.043230</td>\n",
       "      <td>0.042233</td>\n",
       "      <td>0.080788</td>\n",
       "      <td>-0.112593</td>\n",
       "      <td>0.202883</td>\n",
       "    </tr>\n",
       "    <tr>\n",
       "      <th>kr10y</th>\n",
       "      <td>-0.090755</td>\n",
       "      <td>-0.090981</td>\n",
       "      <td>0.110451</td>\n",
       "      <td>-0.308433</td>\n",
       "      <td>0.125585</td>\n",
       "    </tr>\n",
       "    <tr>\n",
       "      <th>us10y</th>\n",
       "      <td>0.272738</td>\n",
       "      <td>0.273381</td>\n",
       "      <td>0.136263</td>\n",
       "      <td>0.007654</td>\n",
       "      <td>0.540811</td>\n",
       "    </tr>\n",
       "  </tbody>\n",
       "</table>\n",
       "</div>"
      ],
      "text/plain": [
       "            Mean    Median      S.E.    0.025%    0.975%\n",
       "gdp_l1  0.107089  0.107094  0.108283 -0.100701  0.319983\n",
       "cpi     0.293697  0.297118  0.181708 -0.071603  0.640418\n",
       "m2      0.043230  0.042233  0.080788 -0.112593  0.202883\n",
       "kr10y  -0.090755 -0.090981  0.110451 -0.308433  0.125585\n",
       "us10y   0.272738  0.273381  0.136263  0.007654  0.540811"
      ]
     },
     "execution_count": 11,
     "metadata": {},
     "output_type": "execute_result"
    }
   ],
   "source": [
    "# 동일 추정에서 CI만 다르게 보고 싶은 경우 아래처럼 표만 따로 출력하는 것도 가능하다\n",
    "# 또한 결과는 dataframe 형태로 저장되며 excel 형태로 밖으로 내보낼 수 있다.\n",
    "\n",
    "tab_beta = get_table(res.beta, [0.025, 0.975], print_info=False)\n",
    "tab_beta"
   ]
  },
  {
   "cell_type": "code",
   "execution_count": 12,
   "metadata": {},
   "outputs": [
    {
     "data": {
      "text/html": [
       "<div>\n",
       "<style scoped>\n",
       "    .dataframe tbody tr th:only-of-type {\n",
       "        vertical-align: middle;\n",
       "    }\n",
       "\n",
       "    .dataframe tbody tr th {\n",
       "        vertical-align: top;\n",
       "    }\n",
       "\n",
       "    .dataframe thead th {\n",
       "        text-align: right;\n",
       "    }\n",
       "</style>\n",
       "<table border=\"1\" class=\"dataframe\">\n",
       "  <thead>\n",
       "    <tr style=\"text-align: right;\">\n",
       "      <th></th>\n",
       "      <th>Mean</th>\n",
       "      <th>Median</th>\n",
       "      <th>S.E.</th>\n",
       "      <th>0.025%</th>\n",
       "      <th>0.975%</th>\n",
       "    </tr>\n",
       "  </thead>\n",
       "  <tbody>\n",
       "    <tr>\n",
       "      <th>R2</th>\n",
       "      <td>0.378225</td>\n",
       "      <td>0.37773</td>\n",
       "      <td>0.035267</td>\n",
       "      <td>0.310825</td>\n",
       "      <td>0.447902</td>\n",
       "    </tr>\n",
       "  </tbody>\n",
       "</table>\n",
       "</div>"
      ],
      "text/plain": [
       "        Mean   Median      S.E.    0.025%    0.975%\n",
       "R2  0.378225  0.37773  0.035267  0.310825  0.447902"
      ]
     },
     "execution_count": 12,
     "metadata": {},
     "output_type": "execute_result"
    }
   ],
   "source": [
    "tab_r2 = get_table(res.r2, [0.025, 0.975], print_info=False)\n",
    "tab_r2"
   ]
  },
  {
   "cell_type": "markdown",
   "metadata": {},
   "source": [
    "res 인스턴스의 get_table 메서드를 이용해서도 출력할 수 있다."
   ]
  },
  {
   "cell_type": "code",
   "execution_count": 13,
   "metadata": {},
   "outputs": [
    {
     "data": {
      "text/html": [
       "<div>\n",
       "<style scoped>\n",
       "    .dataframe tbody tr th:only-of-type {\n",
       "        vertical-align: middle;\n",
       "    }\n",
       "\n",
       "    .dataframe tbody tr th {\n",
       "        vertical-align: top;\n",
       "    }\n",
       "\n",
       "    .dataframe thead th {\n",
       "        text-align: right;\n",
       "    }\n",
       "</style>\n",
       "<table border=\"1\" class=\"dataframe\">\n",
       "  <thead>\n",
       "    <tr style=\"text-align: right;\">\n",
       "      <th></th>\n",
       "      <th>Mean</th>\n",
       "      <th>Median</th>\n",
       "      <th>S.E.</th>\n",
       "      <th>0.05%</th>\n",
       "      <th>0.95%</th>\n",
       "    </tr>\n",
       "  </thead>\n",
       "  <tbody>\n",
       "    <tr>\n",
       "      <th>gdp_l1</th>\n",
       "      <td>0.107089</td>\n",
       "      <td>0.107094</td>\n",
       "      <td>0.108283</td>\n",
       "      <td>-0.069098</td>\n",
       "      <td>0.287606</td>\n",
       "    </tr>\n",
       "    <tr>\n",
       "      <th>cpi</th>\n",
       "      <td>0.293697</td>\n",
       "      <td>0.297118</td>\n",
       "      <td>0.181708</td>\n",
       "      <td>-0.009247</td>\n",
       "      <td>0.587486</td>\n",
       "    </tr>\n",
       "    <tr>\n",
       "      <th>m2</th>\n",
       "      <td>0.043230</td>\n",
       "      <td>0.042233</td>\n",
       "      <td>0.080788</td>\n",
       "      <td>-0.085993</td>\n",
       "      <td>0.179323</td>\n",
       "    </tr>\n",
       "    <tr>\n",
       "      <th>kr10y</th>\n",
       "      <td>-0.090755</td>\n",
       "      <td>-0.090981</td>\n",
       "      <td>0.110451</td>\n",
       "      <td>-0.273878</td>\n",
       "      <td>0.091471</td>\n",
       "    </tr>\n",
       "    <tr>\n",
       "      <th>us10y</th>\n",
       "      <td>0.272738</td>\n",
       "      <td>0.273381</td>\n",
       "      <td>0.136263</td>\n",
       "      <td>0.049661</td>\n",
       "      <td>0.498582</td>\n",
       "    </tr>\n",
       "  </tbody>\n",
       "</table>\n",
       "</div>"
      ],
      "text/plain": [
       "            Mean    Median      S.E.     0.05%     0.95%\n",
       "gdp_l1  0.107089  0.107094  0.108283 -0.069098  0.287606\n",
       "cpi     0.293697  0.297118  0.181708 -0.009247  0.587486\n",
       "m2      0.043230  0.042233  0.080788 -0.085993  0.179323\n",
       "kr10y  -0.090755 -0.090981  0.110451 -0.273878  0.091471\n",
       "us10y   0.272738  0.273381  0.136263  0.049661  0.498582"
      ]
     },
     "execution_count": 13,
     "metadata": {},
     "output_type": "execute_result"
    }
   ],
   "source": [
    "res.get_table('beta') # 문자열(str)로 출력하고자 하는 파라미터의 인자를 입력한다."
   ]
  },
  {
   "cell_type": "code",
   "execution_count": 14,
   "metadata": {},
   "outputs": [
    {
     "data": {
      "text/html": [
       "<div>\n",
       "<style scoped>\n",
       "    .dataframe tbody tr th:only-of-type {\n",
       "        vertical-align: middle;\n",
       "    }\n",
       "\n",
       "    .dataframe tbody tr th {\n",
       "        vertical-align: top;\n",
       "    }\n",
       "\n",
       "    .dataframe thead th {\n",
       "        text-align: right;\n",
       "    }\n",
       "</style>\n",
       "<table border=\"1\" class=\"dataframe\">\n",
       "  <thead>\n",
       "    <tr style=\"text-align: right;\">\n",
       "      <th></th>\n",
       "      <th>Mean</th>\n",
       "      <th>Median</th>\n",
       "      <th>S.E.</th>\n",
       "      <th>0.05%</th>\n",
       "      <th>0.95%</th>\n",
       "    </tr>\n",
       "  </thead>\n",
       "  <tbody>\n",
       "    <tr>\n",
       "      <th>R2</th>\n",
       "      <td>0.378225</td>\n",
       "      <td>0.37773</td>\n",
       "      <td>0.035267</td>\n",
       "      <td>0.321252</td>\n",
       "      <td>0.436772</td>\n",
       "    </tr>\n",
       "  </tbody>\n",
       "</table>\n",
       "</div>"
      ],
      "text/plain": [
       "        Mean   Median      S.E.     0.05%     0.95%\n",
       "R2  0.378225  0.37773  0.035267  0.321252  0.436772"
      ]
     },
     "execution_count": 14,
     "metadata": {},
     "output_type": "execute_result"
    }
   ],
   "source": [
    "res.get_table('r2')"
   ]
  },
  {
   "cell_type": "markdown",
   "metadata": {},
   "source": [
    "### 3) 예측분포 함께 출력"
   ]
  },
  {
   "cell_type": "markdown",
   "metadata": {
    "tags": []
   },
   "source": [
    "Out-of-sample forecasting(표본 외 예측)을 원할 경우 X의 실현값(XT1)을 함께 입력하면 yf(예측 분포)가 함께 출력된다."
   ]
  },
  {
   "cell_type": "code",
   "execution_count": 15,
   "metadata": {},
   "outputs": [
    {
     "name": "stdout",
     "output_type": "stream",
     "text": [
      "Coefficients: \n",
      "            Mean    Median      S.E.     0.05%     0.95%\n",
      "gdp_l1  0.107201  0.107146  0.107875 -0.067359  0.284027\n",
      "cpi     0.306878  0.307208  0.182672  0.004219  0.606501\n",
      "m2      0.036123  0.035774  0.082223 -0.098992  0.172036\n",
      "kr10y  -0.107884 -0.108271  0.113447 -0.294225  0.077333\n",
      "us10y   0.298712  0.297748  0.143467  0.064479  0.536983\n",
      "==================================================================\n",
      "R2: \n",
      "        Mean    Median      S.E.     0.05%   0.95%\n",
      "R2  0.380219  0.379395  0.035972  0.321607  0.4391\n",
      "==================================================================\n",
      "Forecast: \n",
      "        Mean    Median      S.E.     0.05%     0.95%\n",
      "yf  1.362914  1.354666  0.936744 -0.170039  2.916245\n",
      "==================================================================\n"
     ]
    }
   ],
   "source": [
    "res = bayes_linear(Y=Y.iloc[:-1], X=X.iloc[:-1,:], XT1=X.iloc[-1,:], hyper=hyper, print_info=True)"
   ]
  },
  {
   "cell_type": "code",
   "execution_count": 16,
   "metadata": {},
   "outputs": [
    {
     "data": {
      "text/html": [
       "<div>\n",
       "<style scoped>\n",
       "    .dataframe tbody tr th:only-of-type {\n",
       "        vertical-align: middle;\n",
       "    }\n",
       "\n",
       "    .dataframe tbody tr th {\n",
       "        vertical-align: top;\n",
       "    }\n",
       "\n",
       "    .dataframe thead th {\n",
       "        text-align: right;\n",
       "    }\n",
       "</style>\n",
       "<table border=\"1\" class=\"dataframe\">\n",
       "  <thead>\n",
       "    <tr style=\"text-align: right;\">\n",
       "      <th></th>\n",
       "      <th>Mean</th>\n",
       "      <th>Median</th>\n",
       "      <th>S.E.</th>\n",
       "      <th>0.05%</th>\n",
       "      <th>0.95%</th>\n",
       "    </tr>\n",
       "  </thead>\n",
       "  <tbody>\n",
       "    <tr>\n",
       "      <th>yf</th>\n",
       "      <td>1.362914</td>\n",
       "      <td>1.354666</td>\n",
       "      <td>0.936744</td>\n",
       "      <td>-0.170039</td>\n",
       "      <td>2.916245</td>\n",
       "    </tr>\n",
       "  </tbody>\n",
       "</table>\n",
       "</div>"
      ],
      "text/plain": [
       "        Mean    Median      S.E.     0.05%     0.95%\n",
       "yf  1.362914  1.354666  0.936744 -0.170039  2.916245"
      ]
     },
     "execution_count": 16,
     "metadata": {},
     "output_type": "execute_result"
    }
   ],
   "source": [
    "get_table(res.yf, [0.05, 0.95], print_info=False)"
   ]
  },
  {
   "cell_type": "markdown",
   "metadata": {},
   "source": [
    "### 4) PPL(Posterior Predictive Likelihood) 함께 출력"
   ]
  },
  {
   "cell_type": "markdown",
   "metadata": {},
   "source": [
    "Out-of-sample Forecasting(표본 외 예측)을 통해 튜닝을 원할 경우 아래와 같이 X, Y의 실현값(XT1, YT1)을 모두 입력하면 log PPL이 함께 계산된다."
   ]
  },
  {
   "cell_type": "code",
   "execution_count": 17,
   "metadata": {},
   "outputs": [
    {
     "name": "stdout",
     "output_type": "stream",
     "text": [
      "Coefficients: \n",
      "            Mean    Median      S.E.     0.05%     0.95%\n",
      "gdp_l1  0.106304  0.105722  0.107277 -0.068711  0.280653\n",
      "cpi     0.306691  0.307843  0.184372  0.002449  0.606176\n",
      "m2      0.037353  0.036345  0.082733 -0.097473  0.176071\n",
      "kr10y  -0.108345 -0.107976  0.115582 -0.298131  0.080702\n",
      "us10y   0.299172  0.298609  0.145408  0.060419  0.538283\n",
      "==================================================================\n",
      "R2: \n",
      "        Mean    Median      S.E.     0.05%     0.95%\n",
      "R2  0.380654  0.380187  0.036022  0.322004  0.440274\n",
      "==================================================================\n",
      "Forecast: \n",
      "        Mean    Median      S.E.     0.05%     0.95%\n",
      "yf  1.360052  1.361593  0.940206 -0.194094  2.911338\n",
      "==================================================================\n",
      "log PPL:  -1.170971149996178\n"
     ]
    }
   ],
   "source": [
    "res = bayes_linear(Y=Y.iloc[:-1], X=X.iloc[:-1,:], YT1=Y.iloc[[-1]], XT1=X.iloc[-1,:], hyper=hyper, print_info=True)"
   ]
  },
  {
   "cell_type": "markdown",
   "metadata": {},
   "source": [
    "- 결과 인스턴스에 포함되어있는 결과값 확인하기"
   ]
  },
  {
   "cell_type": "code",
   "execution_count": 18,
   "metadata": {},
   "outputs": [
    {
     "data": {
      "text/plain": [
       "['beta', 'sig2', 'r2', 'yf', 'lnppl']"
      ]
     },
     "execution_count": 18,
     "metadata": {},
     "output_type": "execute_result"
    }
   ],
   "source": [
    "list(res.__dict__.keys())"
   ]
  },
  {
   "cell_type": "markdown",
   "metadata": {},
   "source": [
    "또는 res. + Tab으로 확인할 수 있다."
   ]
  },
  {
   "cell_type": "markdown",
   "metadata": {},
   "source": [
    "- 파라미터 추정결과 사후분포 그리기"
   ]
  },
  {
   "cell_type": "code",
   "execution_count": 19,
   "metadata": {},
   "outputs": [],
   "source": [
    "from bok_da.bayes.linear_model import plot_hist"
   ]
  },
  {
   "cell_type": "code",
   "execution_count": 20,
   "metadata": {},
   "outputs": [
    {
     "data": {
      "image/png": "[encoded data removed]",
      "text/plain": [
       "<Figure size 1500x300 with 5 Axes>"
      ]
     },
     "metadata": {},
     "output_type": "display_data"
    }
   ],
   "source": [
    "# beta 계수 히스토그램\n",
    "plot_hist(res.beta, name='beta')"
   ]
  },
  {
   "cell_type": "code",
   "execution_count": 21,
   "metadata": {},
   "outputs": [
    {
     "data": {
      "image/png": "[encoded data removed]",
      "text/plain": [
       "<Figure size 300x300 with 1 Axes>"
      ]
     },
     "metadata": {},
     "output_type": "display_data"
    }
   ],
   "source": [
    "# R2 히스토그램\n",
    "plot_hist(res.r2, name='R2')"
   ]
  },
  {
   "cell_type": "code",
   "execution_count": 22,
   "metadata": {},
   "outputs": [
    {
     "data": {
      "image/png": "[encoded data removed]",
      "text/plain": [
       "<Figure size 300x300 with 1 Axes>"
      ]
     },
     "metadata": {},
     "output_type": "display_data"
    }
   ],
   "source": [
    "# 예측결과 히스토그램\n",
    "plot_hist(res.yf, name='forecasts')"
   ]
  },
  {
   "cell_type": "markdown",
   "metadata": {},
   "source": [
    "또는 res 인스턴스의 plot_hist 메서드를 이용해 바로 분포를 그릴 수 있다."
   ]
  },
  {
   "cell_type": "code",
   "execution_count": 23,
   "metadata": {},
   "outputs": [
    {
     "data": {
      "image/png": "[encoded data removed]",
      "text/plain": [
       "<Figure size 300x300 with 1 Axes>"
      ]
     },
     "metadata": {},
     "output_type": "display_data"
    }
   ],
   "source": [
    "# 메서드 사용해서 히스토그램 그리기\n",
    "res.plot_hist('yf')"
   ]
  },
  {
   "cell_type": "code",
   "execution_count": 24,
   "metadata": {},
   "outputs": [
    {
     "data": {
      "image/png": "[encoded data removed]",
      "text/plain": [
       "<Figure size 1500x300 with 5 Axes>"
      ]
     },
     "metadata": {},
     "output_type": "display_data"
    }
   ],
   "source": [
    "res.plot_hist('beta')"
   ]
  },
  {
   "cell_type": "markdown",
   "metadata": {
    "tags": []
   },
   "source": [
    "## BayesLinearRegression 클래스로 모형 설정하고 추정하기"
   ]
  },
  {
   "cell_type": "markdown",
   "metadata": {},
   "source": [
    "`bayes_linear` 함수를 사용하는 방법외에 `BayesLinearRegression` 클래스를 이용한 추정 기능도 제공한다."
   ]
  },
  {
   "cell_type": "markdown",
   "metadata": {},
   "source": [
    "모형 클래스 불러오기\n",
    "- `bok_da` 라이브러리 `bayes` 패키안의 `linear_model` 서브패키지에서 `BayesLinearRegression` 클래스를 불러온다."
   ]
  },
  {
   "cell_type": "code",
   "execution_count": 25,
   "metadata": {},
   "outputs": [],
   "source": [
    "from bok_da.bayes.linear_model import BayesLinearRegression"
   ]
  },
  {
   "cell_type": "markdown",
   "metadata": {},
   "source": [
    "모형 설정\n",
    "- BLR 클래스를 이용해 model 객체를 생성한다. 여기서 model의 특성은 hyper에 의해 결정된다."
   ]
  },
  {
   "cell_type": "code",
   "execution_count": 26,
   "metadata": {},
   "outputs": [],
   "source": [
    "hyper = gen_hyper_para()\n",
    "model = BayesLinearRegression(hyper)"
   ]
  },
  {
   "cell_type": "markdown",
   "metadata": {},
   "source": [
    "모형 추정\n",
    "- model 인스턴스의 fit 메서드를 이용해 추정할 수 있다."
   ]
  },
  {
   "cell_type": "code",
   "execution_count": 27,
   "metadata": {},
   "outputs": [],
   "source": [
    "res = model.fit(df)"
   ]
  },
  {
   "cell_type": "markdown",
   "metadata": {},
   "source": [
    "결과 보기\n",
    "- res 인스턴스에 대해서 위의 예와 동일하게 get_table, plot_hist 등의 메서드를 적용할 수 있다."
   ]
  },
  {
   "cell_type": "code",
   "execution_count": 28,
   "metadata": {},
   "outputs": [
    {
     "data": {
      "text/html": [
       "<div>\n",
       "<style scoped>\n",
       "    .dataframe tbody tr th:only-of-type {\n",
       "        vertical-align: middle;\n",
       "    }\n",
       "\n",
       "    .dataframe tbody tr th {\n",
       "        vertical-align: top;\n",
       "    }\n",
       "\n",
       "    .dataframe thead th {\n",
       "        text-align: right;\n",
       "    }\n",
       "</style>\n",
       "<table border=\"1\" class=\"dataframe\">\n",
       "  <thead>\n",
       "    <tr style=\"text-align: right;\">\n",
       "      <th></th>\n",
       "      <th>Mean</th>\n",
       "      <th>Median</th>\n",
       "      <th>S.E.</th>\n",
       "      <th>0.05%</th>\n",
       "      <th>0.95%</th>\n",
       "    </tr>\n",
       "  </thead>\n",
       "  <tbody>\n",
       "    <tr>\n",
       "      <th>gdp_l1</th>\n",
       "      <td>0.108609</td>\n",
       "      <td>0.107766</td>\n",
       "      <td>0.106073</td>\n",
       "      <td>-0.064206</td>\n",
       "      <td>0.281272</td>\n",
       "    </tr>\n",
       "    <tr>\n",
       "      <th>cpi</th>\n",
       "      <td>0.291345</td>\n",
       "      <td>0.292864</td>\n",
       "      <td>0.182938</td>\n",
       "      <td>-0.007826</td>\n",
       "      <td>0.590260</td>\n",
       "    </tr>\n",
       "    <tr>\n",
       "      <th>m2</th>\n",
       "      <td>0.043803</td>\n",
       "      <td>0.043290</td>\n",
       "      <td>0.081919</td>\n",
       "      <td>-0.090740</td>\n",
       "      <td>0.178483</td>\n",
       "    </tr>\n",
       "    <tr>\n",
       "      <th>kr10y</th>\n",
       "      <td>-0.088295</td>\n",
       "      <td>-0.088463</td>\n",
       "      <td>0.111899</td>\n",
       "      <td>-0.276011</td>\n",
       "      <td>0.095272</td>\n",
       "    </tr>\n",
       "    <tr>\n",
       "      <th>us10y</th>\n",
       "      <td>0.269098</td>\n",
       "      <td>0.269677</td>\n",
       "      <td>0.137462</td>\n",
       "      <td>0.042095</td>\n",
       "      <td>0.497947</td>\n",
       "    </tr>\n",
       "  </tbody>\n",
       "</table>\n",
       "</div>"
      ],
      "text/plain": [
       "            Mean    Median      S.E.     0.05%     0.95%\n",
       "gdp_l1  0.108609  0.107766  0.106073 -0.064206  0.281272\n",
       "cpi     0.291345  0.292864  0.182938 -0.007826  0.590260\n",
       "m2      0.043803  0.043290  0.081919 -0.090740  0.178483\n",
       "kr10y  -0.088295 -0.088463  0.111899 -0.276011  0.095272\n",
       "us10y   0.269098  0.269677  0.137462  0.042095  0.497947"
      ]
     },
     "execution_count": 28,
     "metadata": {},
     "output_type": "execute_result"
    }
   ],
   "source": [
    "res.get_table('beta', quantile=[0.05, 0.95])"
   ]
  },
  {
   "cell_type": "code",
   "execution_count": 29,
   "metadata": {},
   "outputs": [
    {
     "data": {
      "image/png": "[encoded data removed]",
      "text/plain": [
       "<Figure size 1500x300 with 5 Axes>"
      ]
     },
     "metadata": {},
     "output_type": "display_data"
    }
   ],
   "source": [
    "res.plot_hist('beta')"
   ]
  },
  {
   "cell_type": "markdown",
   "metadata": {},
   "source": [
    "마지막 시점 예측: 예측분포와 log PPD(Posterior Predictive Density) 출력\n",
    "- 예측대상 시점인 oos를 인자로 입력하고, model 인스턴스의 predict 메서드를 이용해서 예측할 수 있다."
   ]
  },
  {
   "cell_type": "code",
   "execution_count": 30,
   "metadata": {},
   "outputs": [
    {
     "name": "stdout",
     "output_type": "stream",
     "text": [
      "Coefficients: \n",
      "            Mean    Median      S.E.     0.05%     0.95%\n",
      "gdp_l1  0.108366  0.108625  0.107929 -0.066369  0.284928\n",
      "cpi     0.292650  0.292068  0.186147 -0.012225  0.599282\n",
      "m2      0.043530  0.044011  0.080936 -0.091351  0.175531\n",
      "kr10y  -0.088011 -0.089497  0.111596 -0.269773  0.094454\n",
      "us10y   0.269180  0.271633  0.138601  0.042471  0.492151\n",
      "==================================================================\n",
      "R2: \n",
      "       Mean    Median     S.E.     0.05%     0.95%\n",
      "R2  0.37843  0.377867  0.03582  0.320685  0.438212\n",
      "==================================================================\n",
      "Forecast: \n",
      "       Mean   Median      S.E.     0.05%     0.95%\n",
      "yf  1.29145  1.29968  0.926862 -0.241734  2.804644\n",
      "==================================================================\n",
      "log PPL:  -1.1124778486185947\n"
     ]
    }
   ],
   "source": [
    "oos = df.iloc[[-1]] # out-of-sample, data의 마지막행 전체열\n",
    "res = model.predict(df, oos, print_info=True)"
   ]
  },
  {
   "cell_type": "code",
   "execution_count": null,
   "metadata": {},
   "outputs": [],
   "source": []
  }
 ],
 "metadata": {
  "kernelspec": {
   "display_name": "bok_da_test_py312",
   "language": "python",
   "name": "python3"
  },
  "language_info": {
   "codemirror_mode": {
    "name": "ipython",
    "version": 3
   },
   "file_extension": ".py",
   "mimetype": "text/x-python",
   "name": "python",
   "nbconvert_exporter": "python",
   "pygments_lexer": "ipython3",
   "version": "3.12.9"
  }
 },
 "nbformat": 4,
 "nbformat_minor": 4
}
