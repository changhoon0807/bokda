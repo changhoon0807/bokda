{
 "cells": [
  {
   "cell_type": "code",
   "execution_count": 1,
   "metadata": {
    "tags": []
   },
   "outputs": [],
   "source": [
    "# import libraries\n",
    "import bok_da as bd\n",
    "import numpy as np\n",
    "import matplotlib.pyplot as plt\n",
    "import pandas as pd\n",
    "import seaborn as sns"
   ]
  },
  {
   "cell_type": "markdown",
   "metadata": {},
   "source": [
    "##### 본 매뉴얼은 베이지안 선형회귀모형 추정에 대해 다룬다."
   ]
  },
  {
   "cell_type": "markdown",
   "metadata": {},
   "source": [
    "# 베이지안 회귀분석\n",
    "- 작성자: 고려대학교 경제학과 강규호 교수, 디지털신기술팀 이창훈 과장"
   ]
  },
  {
   "cell_type": "markdown",
   "metadata": {},
   "source": [
    "## 베이지안 선형회귀모형\n",
    "### 모형\n",
    "- $\\sigma^{2} \\sim IG(\\frac{\\alpha_{0}}{2}, \\frac{\\delta_{0}}{2})$\n",
    "- $\\beta \\sim Normal(\\beta_{0}, B_{0})$\n",
    "- $Y|\\beta, \\sigma^{2} \\sim Normal(X\\beta, \\sigma^{2}I_{T})$\n",
    "\n",
    "### 사전분포에 대한 기본 하이퍼-파라미터\n",
    "* 샘플링 크기\n",
    "    * $n$: 깁스-샘플링 크기\n",
    "    * $n_{0}$: 번인(burn-in) 크기\n",
    "    * $n_{1}=n-n_{0}$: 사후분포 추론에 사용할 샘플링 크기\n",
    "* $\\beta$ 관련 하이퍼-파라미터 디폴트값\n",
    "    * $\\beta_{0}=0$\n",
    "    * $B_{0}=25$\n",
    "* $\\sigma^{2}$ 관련 하이퍼-파라미터 디폴트값\n",
    "    * $\\alpha_{0}=5$\n",
    "    * $\\delta_{0}=5$"
   ]
  },
  {
   "cell_type": "markdown",
   "metadata": {},
   "source": [
    "`bok_da` 라이브러리의 `bayes` 패키지, `linear_model` 모듈의 `gen_hyper_para` 함수를 이용해 선형모형에 대한 하이퍼 파라미터를 설정할 수 있다. 아무런 input을 넣지 않는 경우 디폴트 값으로 설정된다."
   ]
  },
  {
   "cell_type": "code",
   "execution_count": 3,
   "metadata": {},
   "outputs": [],
   "source": [
    "from bok_da.bayes.linear_model import gen_hyper_para"
   ]
  },
  {
   "cell_type": "code",
   "execution_count": 4,
   "metadata": {},
   "outputs": [
    {
     "name": "stdout",
     "output_type": "stream",
     "text": [
      "{'n': 11000, 'n0': 1000, 'n1': 10000, 'beta0_': 0, 'B0_': 25, 'alpha0': 5, 'delta0': 5, 'sig2': 1.0}\n"
     ]
    }
   ],
   "source": [
    "hyper = gen_hyper_para()\n",
    "print(hyper)"
   ]
  },
  {
   "cell_type": "markdown",
   "metadata": {},
   "source": [
    "사전분포의 하이퍼-파라미터를 변경하고 싶은 경우, 아래 예시에 따라 조정할 수 있다."
   ]
  },
  {
   "cell_type": "code",
   "execution_count": 5,
   "metadata": {},
   "outputs": [
    {
     "name": "stdout",
     "output_type": "stream",
     "text": [
      "{'n': 22000, 'n0': 2000, 'n1': 20000, 'beta0_': 0, 'B0_': 25, 'alpha0': 10, 'delta0': 10, 'sig2': 1.0}\n"
     ]
    }
   ],
   "source": [
    "# 예1) sig2 의 하이퍼 파라미터 변경 시\n",
    "hyper['alpha0'] = 10\n",
    "hyper['delta0'] = 10\n",
    "hyper['sig2'] = hyper['alpha0']/hyper['delta0'] # 사전 평균도 다시 계산해야 한다.\n",
    "\n",
    "# 예2) 깁스-샘플링 크기 변경 시\n",
    "hyper['n1'] = 20000\n",
    "hyper['n0'] = int(hyper['n1'] * 0.1) # int 는 오류 방지를 위해 붙일 것을 권장한다.\n",
    "hyper['n'] = hyper['n0'] + hyper['n1']\n",
    "\n",
    "print(hyper)"
   ]
  },
  {
   "cell_type": "markdown",
   "metadata": {},
   "source": [
    "### 선형회귀모형의 베이지안 추정 예제\n",
    "\n",
    "* 데이터: 한국 GDP, CPI, M2, 국고채 10년, 미국 10년물 금리"
   ]
  },
  {
   "cell_type": "markdown",
   "metadata": {},
   "source": [
    "### 1) 자료 불러오기"
   ]
  },
  {
   "cell_type": "code",
   "execution_count": 6,
   "metadata": {},
   "outputs": [
    {
     "data": {
      "text/html": [
       "<div>\n",
       "<style scoped>\n",
       "    .dataframe tbody tr th:only-of-type {\n",
       "        vertical-align: middle;\n",
       "    }\n",
       "\n",
       "    .dataframe tbody tr th {\n",
       "        vertical-align: top;\n",
       "    }\n",
       "\n",
       "    .dataframe thead th {\n",
       "        text-align: right;\n",
       "    }\n",
       "</style>\n",
       "<table border=\"1\" class=\"dataframe\">\n",
       "  <thead>\n",
       "    <tr style=\"text-align: right;\">\n",
       "      <th></th>\n",
       "      <th>gdp</th>\n",
       "      <th>gdp_l1</th>\n",
       "      <th>cpi</th>\n",
       "      <th>m2</th>\n",
       "      <th>kr10y</th>\n",
       "      <th>us10y</th>\n",
       "    </tr>\n",
       "  </thead>\n",
       "  <tbody>\n",
       "    <tr>\n",
       "      <th>2000-12-31</th>\n",
       "      <td>-0.324985</td>\n",
       "      <td>2.717335</td>\n",
       "      <td>0.659799</td>\n",
       "      <td>1.417791</td>\n",
       "      <td>7.760</td>\n",
       "      <td>5.12</td>\n",
       "    </tr>\n",
       "    <tr>\n",
       "      <th>2001-03-31</th>\n",
       "      <td>1.218106</td>\n",
       "      <td>-0.324985</td>\n",
       "      <td>1.766167</td>\n",
       "      <td>1.752773</td>\n",
       "      <td>6.690</td>\n",
       "      <td>4.93</td>\n",
       "    </tr>\n",
       "    <tr>\n",
       "      <th>2001-06-30</th>\n",
       "      <td>1.290518</td>\n",
       "      <td>1.218106</td>\n",
       "      <td>1.157815</td>\n",
       "      <td>2.339417</td>\n",
       "      <td>7.490</td>\n",
       "      <td>5.42</td>\n",
       "    </tr>\n",
       "    <tr>\n",
       "      <th>2001-09-30</th>\n",
       "      <td>1.341160</td>\n",
       "      <td>1.290518</td>\n",
       "      <td>0.574675</td>\n",
       "      <td>4.178410</td>\n",
       "      <td>6.440</td>\n",
       "      <td>4.60</td>\n",
       "    </tr>\n",
       "    <tr>\n",
       "      <th>2001-12-31</th>\n",
       "      <td>1.747232</td>\n",
       "      <td>1.341160</td>\n",
       "      <td>-0.254330</td>\n",
       "      <td>-0.487594</td>\n",
       "      <td>6.810</td>\n",
       "      <td>5.07</td>\n",
       "    </tr>\n",
       "    <tr>\n",
       "      <th>...</th>\n",
       "      <td>...</td>\n",
       "      <td>...</td>\n",
       "      <td>...</td>\n",
       "      <td>...</td>\n",
       "      <td>...</td>\n",
       "      <td>...</td>\n",
       "    </tr>\n",
       "    <tr>\n",
       "      <th>2022-09-30</th>\n",
       "      <td>0.233454</td>\n",
       "      <td>0.747667</td>\n",
       "      <td>1.128388</td>\n",
       "      <td>0.938318</td>\n",
       "      <td>3.497</td>\n",
       "      <td>3.83</td>\n",
       "    </tr>\n",
       "    <tr>\n",
       "      <th>2022-12-31</th>\n",
       "      <td>-0.303428</td>\n",
       "      <td>0.233454</td>\n",
       "      <td>0.394695</td>\n",
       "      <td>0.276973</td>\n",
       "      <td>3.890</td>\n",
       "      <td>3.88</td>\n",
       "    </tr>\n",
       "    <tr>\n",
       "      <th>2023-03-31</th>\n",
       "      <td>0.329332</td>\n",
       "      <td>-0.303428</td>\n",
       "      <td>1.047989</td>\n",
       "      <td>0.496197</td>\n",
       "      <td>3.437</td>\n",
       "      <td>3.48</td>\n",
       "    </tr>\n",
       "    <tr>\n",
       "      <th>2023-06-30</th>\n",
       "      <td>0.606808</td>\n",
       "      <td>0.329332</td>\n",
       "      <td>0.641578</td>\n",
       "      <td>0.824358</td>\n",
       "      <td>3.447</td>\n",
       "      <td>3.81</td>\n",
       "    </tr>\n",
       "    <tr>\n",
       "      <th>2023-09-30</th>\n",
       "      <td>0.614183</td>\n",
       "      <td>0.606808</td>\n",
       "      <td>0.994855</td>\n",
       "      <td>0.817886</td>\n",
       "      <td>3.827</td>\n",
       "      <td>4.59</td>\n",
       "    </tr>\n",
       "  </tbody>\n",
       "</table>\n",
       "<p>92 rows × 6 columns</p>\n",
       "</div>"
      ],
      "text/plain": [
       "                 gdp    gdp_l1       cpi        m2  kr10y  us10y\n",
       "2000-12-31 -0.324985  2.717335  0.659799  1.417791  7.760   5.12\n",
       "2001-03-31  1.218106 -0.324985  1.766167  1.752773  6.690   4.93\n",
       "2001-06-30  1.290518  1.218106  1.157815  2.339417  7.490   5.42\n",
       "2001-09-30  1.341160  1.290518  0.574675  4.178410  6.440   4.60\n",
       "2001-12-31  1.747232  1.341160 -0.254330 -0.487594  6.810   5.07\n",
       "...              ...       ...       ...       ...    ...    ...\n",
       "2022-09-30  0.233454  0.747667  1.128388  0.938318  3.497   3.83\n",
       "2022-12-31 -0.303428  0.233454  0.394695  0.276973  3.890   3.88\n",
       "2023-03-31  0.329332 -0.303428  1.047989  0.496197  3.437   3.48\n",
       "2023-06-30  0.606808  0.329332  0.641578  0.824358  3.447   3.81\n",
       "2023-09-30  0.614183  0.606808  0.994855  0.817886  3.827   4.59\n",
       "\n",
       "[92 rows x 6 columns]"
      ]
     },
     "execution_count": 6,
     "metadata": {},
     "output_type": "execute_result"
    }
   ],
   "source": [
    "# 데이터프레임 형태로 데이터 불러오기\n",
    "df = pd.read_excel(\"../data/bayes_test_data.xlsx\") # test_data 폴더에서 엑셀파일 불러오기\n",
    "df.columns = ['gdp', 'gdp_l1', 'cpi', 'm2', 'kr10y', 'us10y'] # 데이터 변수 이름 설정하기\n",
    "df.index = pd.date_range(start='2000-Q4', end='2023-Q4', freq='Q') # 데이터 인덱스(날짜) 설정하기\n",
    "df"
   ]
  },
  {
   "cell_type": "markdown",
   "metadata": {},
   "source": [
    "### 2) 모형 추정"
   ]
  },
  {
   "cell_type": "code",
   "execution_count": 7,
   "metadata": {},
   "outputs": [],
   "source": [
    "# 베이지안 선형회귀 하이퍼 파라미터 생성\n",
    "hyper = gen_hyper_para()"
   ]
  },
  {
   "cell_type": "markdown",
   "metadata": {},
   "source": [
    "`bok_da` 라이브러리 `bayes` 패키지의 `linear_model` 서브패키지에서 베이지안 선형회귀모형 추정을 위한 깁스샘플링 함수 `bayes_linear`를 불러온다"
   ]
  },
  {
   "cell_type": "code",
   "execution_count": 8,
   "metadata": {},
   "outputs": [],
   "source": [
    "from bok_da.bayes.linear_model import bayes_linear"
   ]
  },
  {
   "cell_type": "code",
   "execution_count": 9,
   "metadata": {},
   "outputs": [],
   "source": [
    "# 종속변수와 설명변수 설정\n",
    "Y = df['gdp'] # 종속변수 설정\n",
    "X = df.drop(columns='gdp') # gdp를 제외한 나머지 변수를 설명변수로 설정\n",
    "\n",
    "# gibbs_line 함수를 이용한 추정\n",
    "res = bayes_linear(Y=Y, X=X, hyper=hyper, print_info=False)"
   ]
  },
  {
   "cell_type": "code",
   "execution_count": 10,
   "metadata": {},
   "outputs": [
    {
     "data": {
      "text/html": [
       "<div>\n",
       "<style scoped>\n",
       "    .dataframe tbody tr th:only-of-type {\n",
       "        vertical-align: middle;\n",
       "    }\n",
       "\n",
       "    .dataframe tbody tr th {\n",
       "        vertical-align: top;\n",
       "    }\n",
       "\n",
       "    .dataframe thead th {\n",
       "        text-align: right;\n",
       "    }\n",
       "</style>\n",
       "<table border=\"1\" class=\"dataframe\">\n",
       "  <thead>\n",
       "    <tr style=\"text-align: right;\">\n",
       "      <th></th>\n",
       "      <th>gdp_l1</th>\n",
       "      <th>cpi</th>\n",
       "      <th>m2</th>\n",
       "      <th>kr10y</th>\n",
       "      <th>us10y</th>\n",
       "    </tr>\n",
       "  </thead>\n",
       "  <tbody>\n",
       "    <tr>\n",
       "      <th>0</th>\n",
       "      <td>0.126329</td>\n",
       "      <td>0.062372</td>\n",
       "      <td>0.029862</td>\n",
       "      <td>-0.070905</td>\n",
       "      <td>0.371760</td>\n",
       "    </tr>\n",
       "    <tr>\n",
       "      <th>1</th>\n",
       "      <td>0.221544</td>\n",
       "      <td>0.464884</td>\n",
       "      <td>0.098809</td>\n",
       "      <td>-0.119121</td>\n",
       "      <td>0.209526</td>\n",
       "    </tr>\n",
       "    <tr>\n",
       "      <th>2</th>\n",
       "      <td>0.034955</td>\n",
       "      <td>0.105632</td>\n",
       "      <td>0.095636</td>\n",
       "      <td>-0.087880</td>\n",
       "      <td>0.315674</td>\n",
       "    </tr>\n",
       "    <tr>\n",
       "      <th>3</th>\n",
       "      <td>0.062764</td>\n",
       "      <td>0.077853</td>\n",
       "      <td>-0.144158</td>\n",
       "      <td>-0.090474</td>\n",
       "      <td>0.435626</td>\n",
       "    </tr>\n",
       "    <tr>\n",
       "      <th>4</th>\n",
       "      <td>0.062670</td>\n",
       "      <td>0.094778</td>\n",
       "      <td>0.056419</td>\n",
       "      <td>0.129138</td>\n",
       "      <td>0.028837</td>\n",
       "    </tr>\n",
       "    <tr>\n",
       "      <th>...</th>\n",
       "      <td>...</td>\n",
       "      <td>...</td>\n",
       "      <td>...</td>\n",
       "      <td>...</td>\n",
       "      <td>...</td>\n",
       "    </tr>\n",
       "    <tr>\n",
       "      <th>9994</th>\n",
       "      <td>-0.041623</td>\n",
       "      <td>0.262293</td>\n",
       "      <td>0.125461</td>\n",
       "      <td>-0.016722</td>\n",
       "      <td>0.123430</td>\n",
       "    </tr>\n",
       "    <tr>\n",
       "      <th>9995</th>\n",
       "      <td>0.044160</td>\n",
       "      <td>0.319875</td>\n",
       "      <td>0.062124</td>\n",
       "      <td>-0.112203</td>\n",
       "      <td>0.287658</td>\n",
       "    </tr>\n",
       "    <tr>\n",
       "      <th>9996</th>\n",
       "      <td>0.158020</td>\n",
       "      <td>0.526842</td>\n",
       "      <td>0.136055</td>\n",
       "      <td>-0.151297</td>\n",
       "      <td>0.232079</td>\n",
       "    </tr>\n",
       "    <tr>\n",
       "      <th>9997</th>\n",
       "      <td>0.206517</td>\n",
       "      <td>0.108834</td>\n",
       "      <td>-0.004892</td>\n",
       "      <td>-0.259930</td>\n",
       "      <td>0.542678</td>\n",
       "    </tr>\n",
       "    <tr>\n",
       "      <th>9998</th>\n",
       "      <td>0.237523</td>\n",
       "      <td>0.184609</td>\n",
       "      <td>0.117568</td>\n",
       "      <td>-0.029144</td>\n",
       "      <td>0.131282</td>\n",
       "    </tr>\n",
       "  </tbody>\n",
       "</table>\n",
       "<p>9999 rows × 5 columns</p>\n",
       "</div>"
      ],
      "text/plain": [
       "        gdp_l1       cpi        m2     kr10y     us10y\n",
       "0     0.126329  0.062372  0.029862 -0.070905  0.371760\n",
       "1     0.221544  0.464884  0.098809 -0.119121  0.209526\n",
       "2     0.034955  0.105632  0.095636 -0.087880  0.315674\n",
       "3     0.062764  0.077853 -0.144158 -0.090474  0.435626\n",
       "4     0.062670  0.094778  0.056419  0.129138  0.028837\n",
       "...        ...       ...       ...       ...       ...\n",
       "9994 -0.041623  0.262293  0.125461 -0.016722  0.123430\n",
       "9995  0.044160  0.319875  0.062124 -0.112203  0.287658\n",
       "9996  0.158020  0.526842  0.136055 -0.151297  0.232079\n",
       "9997  0.206517  0.108834 -0.004892 -0.259930  0.542678\n",
       "9998  0.237523  0.184609  0.117568 -0.029144  0.131282\n",
       "\n",
       "[9999 rows x 5 columns]"
      ]
     },
     "execution_count": 10,
     "metadata": {},
     "output_type": "execute_result"
    }
   ],
   "source": [
    "res.beta"
   ]
  },
  {
   "cell_type": "markdown",
   "metadata": {},
   "source": [
    "`bok_da` 라이브러리 `bayes` 패키지의 `linear_model` 서브패키지에서 `get_table` 함수를 불러와 결과를 출력한다."
   ]
  },
  {
   "cell_type": "code",
   "execution_count": 11,
   "metadata": {
    "tags": []
   },
   "outputs": [],
   "source": [
    "from bok_da.bayes.linear_model import get_table"
   ]
  },
  {
   "cell_type": "code",
   "execution_count": 12,
   "metadata": {},
   "outputs": [
    {
     "data": {
      "text/html": [
       "<div>\n",
       "<style scoped>\n",
       "    .dataframe tbody tr th:only-of-type {\n",
       "        vertical-align: middle;\n",
       "    }\n",
       "\n",
       "    .dataframe tbody tr th {\n",
       "        vertical-align: top;\n",
       "    }\n",
       "\n",
       "    .dataframe thead th {\n",
       "        text-align: right;\n",
       "    }\n",
       "</style>\n",
       "<table border=\"1\" class=\"dataframe\">\n",
       "  <thead>\n",
       "    <tr style=\"text-align: right;\">\n",
       "      <th></th>\n",
       "      <th>Mean</th>\n",
       "      <th>Median</th>\n",
       "      <th>S.E.</th>\n",
       "      <th>0.025%</th>\n",
       "      <th>0.975%</th>\n",
       "    </tr>\n",
       "  </thead>\n",
       "  <tbody>\n",
       "    <tr>\n",
       "      <th>gdp_l1</th>\n",
       "      <td>0.106741</td>\n",
       "      <td>0.107378</td>\n",
       "      <td>0.106377</td>\n",
       "      <td>-0.101268</td>\n",
       "      <td>0.316535</td>\n",
       "    </tr>\n",
       "    <tr>\n",
       "      <th>cpi</th>\n",
       "      <td>0.293092</td>\n",
       "      <td>0.290792</td>\n",
       "      <td>0.184518</td>\n",
       "      <td>-0.065302</td>\n",
       "      <td>0.659315</td>\n",
       "    </tr>\n",
       "    <tr>\n",
       "      <th>m2</th>\n",
       "      <td>0.044107</td>\n",
       "      <td>0.043470</td>\n",
       "      <td>0.080981</td>\n",
       "      <td>-0.114763</td>\n",
       "      <td>0.198946</td>\n",
       "    </tr>\n",
       "    <tr>\n",
       "      <th>kr10y</th>\n",
       "      <td>-0.089134</td>\n",
       "      <td>-0.089552</td>\n",
       "      <td>0.109994</td>\n",
       "      <td>-0.302638</td>\n",
       "      <td>0.126400</td>\n",
       "    </tr>\n",
       "    <tr>\n",
       "      <th>us10y</th>\n",
       "      <td>0.270268</td>\n",
       "      <td>0.270252</td>\n",
       "      <td>0.135789</td>\n",
       "      <td>0.002760</td>\n",
       "      <td>0.536065</td>\n",
       "    </tr>\n",
       "  </tbody>\n",
       "</table>\n",
       "</div>"
      ],
      "text/plain": [
       "            Mean    Median      S.E.    0.025%    0.975%\n",
       "gdp_l1  0.106741  0.107378  0.106377 -0.101268  0.316535\n",
       "cpi     0.293092  0.290792  0.184518 -0.065302  0.659315\n",
       "m2      0.044107  0.043470  0.080981 -0.114763  0.198946\n",
       "kr10y  -0.089134 -0.089552  0.109994 -0.302638  0.126400\n",
       "us10y   0.270268  0.270252  0.135789  0.002760  0.536065"
      ]
     },
     "execution_count": 12,
     "metadata": {},
     "output_type": "execute_result"
    }
   ],
   "source": [
    "# 동일 추정에서 CI만 다르게 보고 싶은 경우 아래처럼 표만 따로 출력하는 것도 가능하다\n",
    "# 또한 결과는 dataframe 형태로 저장되며 excel 형태로 밖으로 내보낼 수 있다.\n",
    "\n",
    "tab_beta = get_table(res.beta, [0.025, 0.975], print_info=False)\n",
    "tab_beta"
   ]
  },
  {
   "cell_type": "code",
   "execution_count": 13,
   "metadata": {},
   "outputs": [
    {
     "data": {
      "text/html": [
       "<div>\n",
       "<style scoped>\n",
       "    .dataframe tbody tr th:only-of-type {\n",
       "        vertical-align: middle;\n",
       "    }\n",
       "\n",
       "    .dataframe tbody tr th {\n",
       "        vertical-align: top;\n",
       "    }\n",
       "\n",
       "    .dataframe thead th {\n",
       "        text-align: right;\n",
       "    }\n",
       "</style>\n",
       "<table border=\"1\" class=\"dataframe\">\n",
       "  <thead>\n",
       "    <tr style=\"text-align: right;\">\n",
       "      <th></th>\n",
       "      <th>Mean</th>\n",
       "      <th>Median</th>\n",
       "      <th>S.E.</th>\n",
       "      <th>0.025%</th>\n",
       "      <th>0.975%</th>\n",
       "    </tr>\n",
       "  </thead>\n",
       "  <tbody>\n",
       "    <tr>\n",
       "      <th>R2</th>\n",
       "      <td>0.37777</td>\n",
       "      <td>0.376728</td>\n",
       "      <td>0.035913</td>\n",
       "      <td>0.30956</td>\n",
       "      <td>0.4501</td>\n",
       "    </tr>\n",
       "  </tbody>\n",
       "</table>\n",
       "</div>"
      ],
      "text/plain": [
       "       Mean    Median      S.E.   0.025%  0.975%\n",
       "R2  0.37777  0.376728  0.035913  0.30956  0.4501"
      ]
     },
     "execution_count": 13,
     "metadata": {},
     "output_type": "execute_result"
    }
   ],
   "source": [
    "tab_r2 = get_table(res.r2, [0.025, 0.975], print_info=False)\n",
    "tab_r2"
   ]
  },
  {
   "cell_type": "markdown",
   "metadata": {},
   "source": [
    "res 인스턴스의 get_table 메서드를 이용해서도 출력할 수 있다."
   ]
  },
  {
   "cell_type": "code",
   "execution_count": 14,
   "metadata": {},
   "outputs": [
    {
     "data": {
      "text/html": [
       "<div>\n",
       "<style scoped>\n",
       "    .dataframe tbody tr th:only-of-type {\n",
       "        vertical-align: middle;\n",
       "    }\n",
       "\n",
       "    .dataframe tbody tr th {\n",
       "        vertical-align: top;\n",
       "    }\n",
       "\n",
       "    .dataframe thead th {\n",
       "        text-align: right;\n",
       "    }\n",
       "</style>\n",
       "<table border=\"1\" class=\"dataframe\">\n",
       "  <thead>\n",
       "    <tr style=\"text-align: right;\">\n",
       "      <th></th>\n",
       "      <th>Mean</th>\n",
       "      <th>Median</th>\n",
       "      <th>S.E.</th>\n",
       "      <th>0.05%</th>\n",
       "      <th>0.95%</th>\n",
       "    </tr>\n",
       "  </thead>\n",
       "  <tbody>\n",
       "    <tr>\n",
       "      <th>gdp_l1</th>\n",
       "      <td>0.106741</td>\n",
       "      <td>0.107378</td>\n",
       "      <td>0.106377</td>\n",
       "      <td>-0.067383</td>\n",
       "      <td>0.280732</td>\n",
       "    </tr>\n",
       "    <tr>\n",
       "      <th>cpi</th>\n",
       "      <td>0.293092</td>\n",
       "      <td>0.290792</td>\n",
       "      <td>0.184518</td>\n",
       "      <td>-0.006558</td>\n",
       "      <td>0.596799</td>\n",
       "    </tr>\n",
       "    <tr>\n",
       "      <th>m2</th>\n",
       "      <td>0.044107</td>\n",
       "      <td>0.043470</td>\n",
       "      <td>0.080981</td>\n",
       "      <td>-0.087963</td>\n",
       "      <td>0.174591</td>\n",
       "    </tr>\n",
       "    <tr>\n",
       "      <th>kr10y</th>\n",
       "      <td>-0.089134</td>\n",
       "      <td>-0.089552</td>\n",
       "      <td>0.109994</td>\n",
       "      <td>-0.270611</td>\n",
       "      <td>0.091668</td>\n",
       "    </tr>\n",
       "    <tr>\n",
       "      <th>us10y</th>\n",
       "      <td>0.270268</td>\n",
       "      <td>0.270252</td>\n",
       "      <td>0.135789</td>\n",
       "      <td>0.045927</td>\n",
       "      <td>0.494607</td>\n",
       "    </tr>\n",
       "  </tbody>\n",
       "</table>\n",
       "</div>"
      ],
      "text/plain": [
       "            Mean    Median      S.E.     0.05%     0.95%\n",
       "gdp_l1  0.106741  0.107378  0.106377 -0.067383  0.280732\n",
       "cpi     0.293092  0.290792  0.184518 -0.006558  0.596799\n",
       "m2      0.044107  0.043470  0.080981 -0.087963  0.174591\n",
       "kr10y  -0.089134 -0.089552  0.109994 -0.270611  0.091668\n",
       "us10y   0.270268  0.270252  0.135789  0.045927  0.494607"
      ]
     },
     "execution_count": 14,
     "metadata": {},
     "output_type": "execute_result"
    }
   ],
   "source": [
    "res.get_table('beta') # 문자열(str)로 출력하고자 하는 파라미터의 인자를 입력한다."
   ]
  },
  {
   "cell_type": "code",
   "execution_count": 15,
   "metadata": {},
   "outputs": [
    {
     "data": {
      "text/html": [
       "<div>\n",
       "<style scoped>\n",
       "    .dataframe tbody tr th:only-of-type {\n",
       "        vertical-align: middle;\n",
       "    }\n",
       "\n",
       "    .dataframe tbody tr th {\n",
       "        vertical-align: top;\n",
       "    }\n",
       "\n",
       "    .dataframe thead th {\n",
       "        text-align: right;\n",
       "    }\n",
       "</style>\n",
       "<table border=\"1\" class=\"dataframe\">\n",
       "  <thead>\n",
       "    <tr style=\"text-align: right;\">\n",
       "      <th></th>\n",
       "      <th>Mean</th>\n",
       "      <th>Median</th>\n",
       "      <th>S.E.</th>\n",
       "      <th>0.05%</th>\n",
       "      <th>0.95%</th>\n",
       "    </tr>\n",
       "  </thead>\n",
       "  <tbody>\n",
       "    <tr>\n",
       "      <th>R2</th>\n",
       "      <td>0.37777</td>\n",
       "      <td>0.376728</td>\n",
       "      <td>0.035913</td>\n",
       "      <td>0.320195</td>\n",
       "      <td>0.438662</td>\n",
       "    </tr>\n",
       "  </tbody>\n",
       "</table>\n",
       "</div>"
      ],
      "text/plain": [
       "       Mean    Median      S.E.     0.05%     0.95%\n",
       "R2  0.37777  0.376728  0.035913  0.320195  0.438662"
      ]
     },
     "execution_count": 15,
     "metadata": {},
     "output_type": "execute_result"
    }
   ],
   "source": [
    "res.get_table('r2')"
   ]
  },
  {
   "cell_type": "markdown",
   "metadata": {},
   "source": [
    "### 3) 예측분포 함께 출력"
   ]
  },
  {
   "cell_type": "markdown",
   "metadata": {
    "tags": []
   },
   "source": [
    "Out-of-sample forecasting(표본 외 예측)을 원할 경우 X의 실현값(XT1)을 함께 입력하면 yf(예측 분포)가 함께 출력된다."
   ]
  },
  {
   "cell_type": "code",
   "execution_count": 16,
   "metadata": {},
   "outputs": [
    {
     "name": "stdout",
     "output_type": "stream",
     "text": [
      "Coefficients: \n",
      "            Mean    Median      S.E.     0.05%     0.95%\n",
      "gdp_l1  0.105088  0.105813  0.107000 -0.071544  0.277888\n",
      "cpi     0.304780  0.303142  0.183105  0.003141  0.601722\n",
      "m2      0.037602  0.037656  0.081415 -0.095073  0.170583\n",
      "kr10y  -0.108766 -0.109309  0.113263 -0.296336  0.078793\n",
      "us10y   0.299545  0.300334  0.142228  0.069318  0.532240\n",
      "==================================================================\n",
      "R2: \n",
      "        Mean    Median      S.E.     0.05%     0.95%\n",
      "R2  0.379611  0.378886  0.035852  0.321374  0.440066\n",
      "==================================================================\n",
      "Forecast: \n",
      "        Mean    Median      S.E.     0.05%     0.95%\n",
      "yf  1.357281  1.363721  0.937014 -0.185669  2.864074\n",
      "==================================================================\n"
     ]
    }
   ],
   "source": [
    "res = bayes_linear(Y=Y.iloc[:-1], X=X.iloc[:-1,:], XT1=X.iloc[-1,:], hyper=hyper, print_info=True)"
   ]
  },
  {
   "cell_type": "code",
   "execution_count": 17,
   "metadata": {},
   "outputs": [
    {
     "data": {
      "text/html": [
       "<div>\n",
       "<style scoped>\n",
       "    .dataframe tbody tr th:only-of-type {\n",
       "        vertical-align: middle;\n",
       "    }\n",
       "\n",
       "    .dataframe tbody tr th {\n",
       "        vertical-align: top;\n",
       "    }\n",
       "\n",
       "    .dataframe thead th {\n",
       "        text-align: right;\n",
       "    }\n",
       "</style>\n",
       "<table border=\"1\" class=\"dataframe\">\n",
       "  <thead>\n",
       "    <tr style=\"text-align: right;\">\n",
       "      <th></th>\n",
       "      <th>Mean</th>\n",
       "      <th>Median</th>\n",
       "      <th>S.E.</th>\n",
       "      <th>0.05%</th>\n",
       "      <th>0.95%</th>\n",
       "    </tr>\n",
       "  </thead>\n",
       "  <tbody>\n",
       "    <tr>\n",
       "      <th>yf</th>\n",
       "      <td>1.357281</td>\n",
       "      <td>1.363721</td>\n",
       "      <td>0.937014</td>\n",
       "      <td>-0.185669</td>\n",
       "      <td>2.864074</td>\n",
       "    </tr>\n",
       "  </tbody>\n",
       "</table>\n",
       "</div>"
      ],
      "text/plain": [
       "        Mean    Median      S.E.     0.05%     0.95%\n",
       "yf  1.357281  1.363721  0.937014 -0.185669  2.864074"
      ]
     },
     "execution_count": 17,
     "metadata": {},
     "output_type": "execute_result"
    }
   ],
   "source": [
    "get_table(res.yf, [0.05, 0.95], print_info=False)"
   ]
  },
  {
   "cell_type": "markdown",
   "metadata": {},
   "source": [
    "### 4) PPL(Posterior Predictive Likelihood) 함께 출력"
   ]
  },
  {
   "cell_type": "markdown",
   "metadata": {},
   "source": [
    "Out-of-sample Forecasting(표본 외 예측)을 통해 튜닝을 원할 경우 아래와 같이 X, Y의 실현값(XT1, YT1)을 모두 입력하면 log PPL이 함께 계산된다."
   ]
  },
  {
   "cell_type": "code",
   "execution_count": 18,
   "metadata": {},
   "outputs": [
    {
     "name": "stdout",
     "output_type": "stream",
     "text": [
      "Coefficients: \n",
      "            Mean    Median      S.E.     0.05%     0.95%\n",
      "gdp_l1  0.105431  0.106439  0.107136 -0.072442  0.281414\n",
      "cpi     0.301941  0.301145  0.184944 -0.000994  0.602727\n",
      "m2      0.038359  0.037191  0.082170 -0.095783  0.175534\n",
      "kr10y  -0.107672 -0.106913  0.114034 -0.296342  0.077067\n",
      "us10y   0.298648  0.298687  0.143720  0.062273  0.535150\n",
      "==================================================================\n",
      "R2: \n",
      "        Mean   Median      S.E.     0.05%     0.95%\n",
      "R2  0.379132  0.37813  0.035632  0.321946  0.438486\n",
      "==================================================================\n",
      "Forecast: \n",
      "        Mean    Median      S.E.     0.05%     0.95%\n",
      "yf  1.354767  1.357923  0.933385 -0.193437  2.891675\n",
      "==================================================================\n",
      "log PPL:  -1.166991416656618\n"
     ]
    }
   ],
   "source": [
    "res = bayes_linear(Y=Y.iloc[:-1], X=X.iloc[:-1,:], YT1=Y.iloc[[-1]], XT1=X.iloc[-1,:], hyper=hyper, print_info=True)"
   ]
  },
  {
   "cell_type": "markdown",
   "metadata": {},
   "source": [
    "- 결과 인스턴스에 포함되어있는 결과값 확인하기"
   ]
  },
  {
   "cell_type": "code",
   "execution_count": 19,
   "metadata": {},
   "outputs": [
    {
     "data": {
      "text/plain": [
       "['beta', 'sig2', 'r2', 'yf', 'lnppl']"
      ]
     },
     "execution_count": 19,
     "metadata": {},
     "output_type": "execute_result"
    }
   ],
   "source": [
    "list(res.__dict__.keys())"
   ]
  },
  {
   "cell_type": "markdown",
   "metadata": {},
   "source": [
    "또는 res. + Tab으로 확인할 수 있다."
   ]
  },
  {
   "cell_type": "markdown",
   "metadata": {},
   "source": [
    "- 파라미터 추정결과 사후분포 그리기"
   ]
  },
  {
   "cell_type": "code",
   "execution_count": 20,
   "metadata": {},
   "outputs": [],
   "source": [
    "from bok_da.bayes.linear_model import plot_hist"
   ]
  },
  {
   "cell_type": "code",
   "execution_count": 21,
   "metadata": {},
   "outputs": [
    {
     "data": {
      "image/png": "[encoded data removed]",
      "text/plain": [
       "<Figure size 1500x300 with 5 Axes>"
      ]
     },
     "metadata": {},
     "output_type": "display_data"
    }
   ],
   "source": [
    "# beta 계수 히스토그램\n",
    "plot_hist(res.beta, name='beta')"
   ]
  },
  {
   "cell_type": "code",
   "execution_count": 22,
   "metadata": {},
   "outputs": [
    {
     "data": {
      "image/png": "[encoded data removed]",
      "text/plain": [
       "<Figure size 300x300 with 1 Axes>"
      ]
     },
     "metadata": {},
     "output_type": "display_data"
    }
   ],
   "source": [
    "# R2 히스토그램\n",
    "plot_hist(res.r2, name='R2')"
   ]
  },
  {
   "cell_type": "code",
   "execution_count": 23,
   "metadata": {},
   "outputs": [
    {
     "data": {
      "image/png": "[encoded data removed]",
      "text/plain": [
       "<Figure size 300x300 with 1 Axes>"
      ]
     },
     "metadata": {},
     "output_type": "display_data"
    }
   ],
   "source": [
    "# 예측결과 히스토그램\n",
    "plot_hist(res.yf, name='forecasts')"
   ]
  },
  {
   "cell_type": "markdown",
   "metadata": {},
   "source": [
    "또는 res 인스턴스의 plot_hist 메서드를 이용해 바로 분포를 그릴 수 있다."
   ]
  },
  {
   "cell_type": "code",
   "execution_count": 24,
   "metadata": {},
   "outputs": [
    {
     "data": {
      "image/png": "[encoded data removed]",
      "text/plain": [
       "<Figure size 300x300 with 1 Axes>"
      ]
     },
     "metadata": {},
     "output_type": "display_data"
    }
   ],
   "source": [
    "# 메서드 사용해서 히스토그램 그리기\n",
    "res.plot_hist('yf')"
   ]
  },
  {
   "cell_type": "code",
   "execution_count": 62,
   "metadata": {},
   "outputs": [
    {
     "data": {
      "image/png": "[encoded data removed]",
      "text/plain": [
       "<Figure size 1500x300 with 5 Axes>"
      ]
     },
     "metadata": {},
     "output_type": "display_data"
    }
   ],
   "source": [
    "res.plot_hist('beta')"
   ]
  },
  {
   "cell_type": "markdown",
   "metadata": {
    "tags": []
   },
   "source": [
    "## BayesLinearRegression 클래스로 모형 설정하고 추정하기"
   ]
  },
  {
   "cell_type": "markdown",
   "metadata": {},
   "source": [
    "`gibbs_lin` 함수를 사용하는 방법외에 `BayesLinearRegression` 클래스를 이용한 추정 기능도 제공한다."
   ]
  },
  {
   "cell_type": "markdown",
   "metadata": {},
   "source": [
    "모형 클래스 불러오기\n",
    "- `bok_da` 라이브러리 `bayes` 패키안의 `linear_model` 서브패키지에서 `BayesLinearRegression` 클래스를 불러온다."
   ]
  },
  {
   "cell_type": "code",
   "execution_count": 25,
   "metadata": {},
   "outputs": [],
   "source": [
    "from bok_da.bayes.linear_model import BayesLinearRegression"
   ]
  },
  {
   "cell_type": "markdown",
   "metadata": {},
   "source": [
    "모형 설정\n",
    "- BLR 클래스를 이용해 model 객체를 생성한다. 여기서 model의 특성은 hyper에 의해 결정된다."
   ]
  },
  {
   "cell_type": "code",
   "execution_count": 26,
   "metadata": {},
   "outputs": [],
   "source": [
    "hyper = gen_hyper_para()\n",
    "model = BayesLinearRegression(hyper)"
   ]
  },
  {
   "cell_type": "markdown",
   "metadata": {},
   "source": [
    "모형 추정\n",
    "- model 인스턴스의 fit 메서드를 이용해 추정할 수 있다."
   ]
  },
  {
   "cell_type": "code",
   "execution_count": 27,
   "metadata": {},
   "outputs": [],
   "source": [
    "res = model.fit(df)"
   ]
  },
  {
   "cell_type": "markdown",
   "metadata": {},
   "source": [
    "결과 보기\n",
    "- res 인스턴스에 대해서 위의 예와 동일하게 get_table, plot_hist 등의 메서드를 적용할 수 있다."
   ]
  },
  {
   "cell_type": "code",
   "execution_count": 28,
   "metadata": {},
   "outputs": [
    {
     "data": {
      "text/html": [
       "<div>\n",
       "<style scoped>\n",
       "    .dataframe tbody tr th:only-of-type {\n",
       "        vertical-align: middle;\n",
       "    }\n",
       "\n",
       "    .dataframe tbody tr th {\n",
       "        vertical-align: top;\n",
       "    }\n",
       "\n",
       "    .dataframe thead th {\n",
       "        text-align: right;\n",
       "    }\n",
       "</style>\n",
       "<table border=\"1\" class=\"dataframe\">\n",
       "  <thead>\n",
       "    <tr style=\"text-align: right;\">\n",
       "      <th></th>\n",
       "      <th>Mean</th>\n",
       "      <th>Median</th>\n",
       "      <th>S.E.</th>\n",
       "      <th>0.05%</th>\n",
       "      <th>0.95%</th>\n",
       "    </tr>\n",
       "  </thead>\n",
       "  <tbody>\n",
       "    <tr>\n",
       "      <th>gdp_l1</th>\n",
       "      <td>0.108846</td>\n",
       "      <td>0.108265</td>\n",
       "      <td>0.105200</td>\n",
       "      <td>-0.062204</td>\n",
       "      <td>0.282560</td>\n",
       "    </tr>\n",
       "    <tr>\n",
       "      <th>cpi</th>\n",
       "      <td>0.293077</td>\n",
       "      <td>0.292963</td>\n",
       "      <td>0.182078</td>\n",
       "      <td>-0.007750</td>\n",
       "      <td>0.591959</td>\n",
       "    </tr>\n",
       "    <tr>\n",
       "      <th>m2</th>\n",
       "      <td>0.043519</td>\n",
       "      <td>0.043848</td>\n",
       "      <td>0.080669</td>\n",
       "      <td>-0.088092</td>\n",
       "      <td>0.177939</td>\n",
       "    </tr>\n",
       "    <tr>\n",
       "      <th>kr10y</th>\n",
       "      <td>-0.089109</td>\n",
       "      <td>-0.090704</td>\n",
       "      <td>0.110831</td>\n",
       "      <td>-0.269853</td>\n",
       "      <td>0.093665</td>\n",
       "    </tr>\n",
       "    <tr>\n",
       "      <th>us10y</th>\n",
       "      <td>0.270057</td>\n",
       "      <td>0.271297</td>\n",
       "      <td>0.137224</td>\n",
       "      <td>0.042384</td>\n",
       "      <td>0.494956</td>\n",
       "    </tr>\n",
       "  </tbody>\n",
       "</table>\n",
       "</div>"
      ],
      "text/plain": [
       "            Mean    Median      S.E.     0.05%     0.95%\n",
       "gdp_l1  0.108846  0.108265  0.105200 -0.062204  0.282560\n",
       "cpi     0.293077  0.292963  0.182078 -0.007750  0.591959\n",
       "m2      0.043519  0.043848  0.080669 -0.088092  0.177939\n",
       "kr10y  -0.089109 -0.090704  0.110831 -0.269853  0.093665\n",
       "us10y   0.270057  0.271297  0.137224  0.042384  0.494956"
      ]
     },
     "execution_count": 28,
     "metadata": {},
     "output_type": "execute_result"
    }
   ],
   "source": [
    "res.get_table('beta', quantile=[0.05, 0.95])"
   ]
  },
  {
   "cell_type": "code",
   "execution_count": 29,
   "metadata": {},
   "outputs": [
    {
     "data": {
      "image/png": "[encoded data removed]",
      "text/plain": [
       "<Figure size 1500x300 with 5 Axes>"
      ]
     },
     "metadata": {},
     "output_type": "display_data"
    }
   ],
   "source": [
    "res.plot_hist('beta')"
   ]
  },
  {
   "cell_type": "markdown",
   "metadata": {},
   "source": [
    "마지막 시점 예측: 예측분포와 log PPD(Posterior Predictive Density) 출력\n",
    "- 예측대상 시점인 oos를 인자로 입력하고, model 인스턴스의 predict 메서드를 이용해서 예측할 수 있다."
   ]
  },
  {
   "cell_type": "code",
   "execution_count": 30,
   "metadata": {},
   "outputs": [
    {
     "name": "stdout",
     "output_type": "stream",
     "text": [
      "Coefficients: \n",
      "            Mean    Median      S.E.     0.05%     0.95%\n",
      "gdp_l1  0.108586  0.106076  0.106283 -0.065293  0.283125\n",
      "cpi     0.293050  0.293151  0.183045 -0.006062  0.592737\n",
      "m2      0.043825  0.043953  0.081177 -0.088292  0.177937\n",
      "kr10y  -0.089563 -0.090088  0.111506 -0.272644  0.094854\n",
      "us10y   0.270857  0.271245  0.139037  0.042885  0.497952\n",
      "==================================================================\n",
      "R2: \n",
      "        Mean    Median      S.E.    0.05%     0.95%\n",
      "R2  0.377903  0.376975  0.035209  0.32099  0.435989\n",
      "==================================================================\n",
      "Forecast: \n",
      "        Mean    Median      S.E.   0.05%     0.95%\n",
      "yf  1.294275  1.299467  0.937832 -0.2525  2.832848\n",
      "==================================================================\n",
      "log PPL:  -1.114438221076\n"
     ]
    }
   ],
   "source": [
    "oos = df.iloc[[-1]] # out-of-sample, data의 마지막행 전체열\n",
    "res = model.predict(df, oos, print_info=True)"
   ]
  },
  {
   "cell_type": "code",
   "execution_count": null,
   "metadata": {},
   "outputs": [],
   "source": []
  }
 ],
 "metadata": {
  "kernelspec": {
   "display_name": "bok_da_test_py39",
   "language": "python",
   "name": "python3"
  },
  "language_info": {
   "codemirror_mode": {
    "name": "ipython",
    "version": 3
   },
   "file_extension": ".py",
   "mimetype": "text/x-python",
   "name": "python",
   "nbconvert_exporter": "python",
   "pygments_lexer": "ipython3",
   "version": "3.9.16"
  }
 },
 "nbformat": 4,
 "nbformat_minor": 4
}
