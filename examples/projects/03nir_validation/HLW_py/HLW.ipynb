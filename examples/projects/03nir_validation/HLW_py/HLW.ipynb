{
 "cells": [
  {
   "cell_type": "markdown",
   "metadata": {
    "vscode": {
     "languageId": "plaintext"
    }
   },
   "source": [
    "## HLW"
   ]
  },
  {
   "cell_type": "code",
   "execution_count": 1,
   "metadata": {
    "execution": {
     "iopub.execute_input": "2024-12-09T08:34:16.548379Z",
     "iopub.status.busy": "2024-12-09T08:34:16.548136Z",
     "iopub.status.idle": "2024-12-09T08:34:16.551671Z",
     "shell.execute_reply": "2024-12-09T08:34:16.551159Z",
     "shell.execute_reply.started": "2024-12-09T08:34:16.548362Z"
    },
    "tags": []
   },
   "outputs": [],
   "source": [
    "from bok_da.ts.nir import HLW"
   ]
  },
  {
   "cell_type": "code",
   "execution_count": 2,
   "metadata": {
    "execution": {
     "iopub.execute_input": "2024-12-09T08:34:16.961503Z",
     "iopub.status.busy": "2024-12-09T08:34:16.961267Z",
     "iopub.status.idle": "2024-12-09T08:34:16.964986Z",
     "shell.execute_reply": "2024-12-09T08:34:16.964385Z",
     "shell.execute_reply.started": "2024-12-09T08:34:16.961484Z"
    },
    "tags": []
   },
   "outputs": [],
   "source": [
    "import pandas as pd\n",
    "import numpy as np\n",
    "import datetime"
   ]
  },
  {
   "cell_type": "code",
   "execution_count": 3,
   "metadata": {},
   "outputs": [
    {
     "ename": "NameError",
     "evalue": "name 'smoothing' is not defined",
     "output_type": "error",
     "traceback": [
      "\u001b[31m---------------------------------------------------------------------------\u001b[39m",
      "\u001b[31mNameError\u001b[39m                                 Traceback (most recent call last)",
      "\u001b[36mCell\u001b[39m\u001b[36m \u001b[39m\u001b[32mIn[3]\u001b[39m\u001b[32m, line 9\u001b[39m\n\u001b[32m      6\u001b[39m data = data[data_list]\n\u001b[32m      7\u001b[39m data[\u001b[33m'\u001b[39m\u001b[33minf1\u001b[39m\u001b[33m'\u001b[39m] = data[\u001b[33m'\u001b[39m\u001b[33minf1\u001b[39m\u001b[33m'\u001b[39m].pct_change(\u001b[32m4\u001b[39m) * \u001b[32m100\u001b[39m\n\u001b[32m----> \u001b[39m\u001b[32m9\u001b[39m \u001b[38;5;28;01mif\u001b[39;00m \u001b[43msmoothing\u001b[49m:\n\u001b[32m     10\u001b[39m     data[\u001b[33m'\u001b[39m\u001b[33minf1\u001b[39m\u001b[33m'\u001b[39m] = data[\u001b[33m'\u001b[39m\u001b[33minf1\u001b[39m\u001b[33m'\u001b[39m].rolling(\u001b[32m4\u001b[39m).mean() \u001b[38;5;66;03m# 4분기 이동평균\u001b[39;00m\n\u001b[32m     12\u001b[39m data[\u001b[33m'\u001b[39m\u001b[33mrgdp\u001b[39m\u001b[33m'\u001b[39m] = np.log(data[\u001b[33m'\u001b[39m\u001b[33mrgdp\u001b[39m\u001b[33m'\u001b[39m]) * \u001b[32m400\u001b[39m\n",
      "\u001b[31mNameError\u001b[39m: name 'smoothing' is not defined"
     ]
    }
   ],
   "source": [
    "KORData = pd.read_excel(\"data/nir_data_all.xlsx\", sheet_name=\"raw_data\")\n",
    "end_date = datetime.datetime.strptime('2024-07-01', '%Y-%m-%d')\n",
    "KORData_before = KORData[KORData['Date'] <= end_date]\n",
    "data = KORData_before.set_index(\"Date\")\n",
    "data_list = ['rgdp', 'inf1', 'interest', 'infe']\n",
    "data = data[data_list]\n",
    "data['inf1'] = data['inf1'].pct_change(4) * 100\n",
    "\n",
    "if smoothing:\n",
    "    data['inf1'] = data['inf1'].rolling(4).mean() # 4분기 이동평균\n",
    "    \n",
    "data['rgdp'] = np.log(data['rgdp']) * 400\n",
    "data['interest'] = data['interest'] - data['inf1']\n",
    "data = data.drop('infe', axis=1)\n",
    "data = data.dropna()\n",
    "#data = data.loc['1991-01-01':]\n",
    "KORmacro = data['2000-01-01':].copy()\n",
    "#KORmacro = data.copy()\n",
    "def shift_quarter_end(date):\n",
    "    if date.month == 1:\n",
    "        return date.replace(month=3, day=31)\n",
    "    elif date.month == 4:\n",
    "        return date.replace(month=6, day=30)\n",
    "    elif date.month == 7:\n",
    "        return date.replace(month=9, day=30)\n",
    "    else:\n",
    "        return date.replace(month=12, day=31)\n",
    "\n",
    "KORmacro.index = KORmacro.index.map(shift_quarter_end)\n",
    "KORmacro"
   ]
  },
  {
   "cell_type": "code",
   "execution_count": null,
   "metadata": {
    "execution": {
     "iopub.execute_input": "2024-12-09T08:34:18.940047Z",
     "iopub.status.busy": "2024-12-09T08:34:18.939730Z",
     "iopub.status.idle": "2024-12-09T08:34:18.944831Z",
     "shell.execute_reply": "2024-12-09T08:34:18.944070Z",
     "shell.execute_reply.started": "2024-12-09T08:34:18.940023Z"
    },
    "tags": []
   },
   "outputs": [
    {
     "name": "stdout",
     "output_type": "stream",
     "text": [
      "> Initializing Model...\n",
      "  - Run Type: python\n",
      "  - Total MCMC iterations: 2500\n",
      "  - Burn-in period: 500\n",
      "  - Latent variables percentiles: [5, 95]\n",
      "  - Parameters percentiles: [0.05, 0.95]\n",
      "  - Interest rate z-component specification: rw\n"
     ]
    }
   ],
   "source": [
    "mcmc =  {\n",
    "            'sig2_g': 0,\n",
    "            'sig2_yt': 0,\n",
    "            'sig2_yc': 0,\n",
    "            'sig2_z': 0,\n",
    "            'sig2_p': 0,\n",
    "            'slope_yc': 0,\n",
    "            'slope_z': 0,\n",
    "            'slope_p': 0\n",
    "        }\n",
    "\n",
    "prior = {\n",
    "            'yc_mean': np.array([0.7, 0.2, -0.3]), # 0.7, 0, 0// 0.7, 0.2, -0.4, -0.2. -0.15, -0.25\n",
    "            'yc_variance': np.diag(np.array([0.1, 0.1, 0.03]) ** 2), # 0.1, 0.1, 0.03\n",
    "            'sig2_yc_shape': 5,\n",
    "            'sig2_yc_scale': 4 * 2**2,\n",
    "            'sig2_g_shape': 5,\n",
    "            'sig2_g_scale': 4 * 0.1**2,\n",
    "            'sig2_yt_shape': 5,\n",
    "            'sig2_yt_scale': 4 * 2**2,\n",
    "            'sig2_z_shape': 5,\n",
    "            'sig2_z_scale': 4 * 0.5**2,\n",
    "            'p_mean': np.array([0.7, 0.1]), # 0.5, 0\n",
    "            'p_variance': np.diag(np.array([0.1, 0.1]) ** 2), # 1, 1\n",
    "            'sig2_p_shape': 5,\n",
    "            'sig2_p_scale': 4 * 0.1**2\n",
    "}\n",
    "        \n",
    "model = HLW(n_draws=5000, burnin=1000, MCMCAlgorithm=mcmc, PriorPara=prior, verbose=True, ZSpec='rw')"
   ]
  },
  {
   "cell_type": "code",
   "execution_count": 10,
   "metadata": {
    "execution": {
     "iopub.execute_input": "2024-12-09T08:34:19.450921Z",
     "iopub.status.busy": "2024-12-09T08:34:19.450457Z",
     "iopub.status.idle": "2024-12-09T08:34:20.031244Z",
     "shell.execute_reply": "2024-12-09T08:34:20.030255Z",
     "shell.execute_reply.started": "2024-12-09T08:34:19.450893Z"
    },
    "tags": []
   },
   "outputs": [
    {
     "ename": "NameError",
     "evalue": "name 'end_period' is not defined",
     "output_type": "error",
     "traceback": [
      "\u001b[1;31m---------------------------------------------------------------------------\u001b[0m",
      "\u001b[1;31mNameError\u001b[0m                                 Traceback (most recent call last)",
      "Cell \u001b[1;32mIn[10], line 2\u001b[0m\n\u001b[0;32m      1\u001b[0m \u001b[38;5;66;03m#end_date = '2015-12-31'\u001b[39;00m\n\u001b[1;32m----> 2\u001b[0m \u001b[38;5;28mprint\u001b[39m(\u001b[43mend_period\u001b[49m)\n\u001b[0;32m      3\u001b[0m model\u001b[38;5;241m.\u001b[39mfit(KORmacro\u001b[38;5;241m.\u001b[39mloc[:end_period], dates\u001b[38;5;241m=\u001b[39mKORmacro\u001b[38;5;241m.\u001b[39mloc[:end_period]\u001b[38;5;241m.\u001b[39mindex)\n",
      "\u001b[1;31mNameError\u001b[0m: name 'end_period' is not defined"
     ]
    }
   ],
   "source": [
    "#end_date = '2015-12-31'\n",
    "print(end_period)\n",
    "model.fit(KORmacro.loc[:end_period], dates=KORmacro.loc[:end_period].index)\n"
   ]
  },
  {
   "cell_type": "code",
   "execution_count": 39,
   "metadata": {},
   "outputs": [],
   "source": [
    "rstar_HLW = pd.DataFrame(model.SummaryLV['Avg']['rNatural'])\n",
    "rstar_HLW.index = KORmacro.loc[KORmacro.index[4]:end_period].index\n",
    "if smoothing:\n",
    "    rstar_HLW.columns = ['rstar_HLW_inf_smoothed']\n",
    "else:\n",
    "    rstar_HLW.columns = ['rstar_HLW']\n",
    "rstar = rstar_HLW.reset_index().rename(columns={'index': 'Date'}).to_json(orient='records', date_format='iso')\n",
    "rstar_HLW.reset_index().rename(columns={'index': 'Date'}) \\\n",
    "    .assign(Date=lambda df: df['Date'].dt.strftime('%Y-%m-%d')) \\\n",
    "    .to_json('rstar_HLW.json', orient='records')"
   ]
  }
 ],
 "metadata": {
  "kernelspec": {
   "display_name": "nir_validation",
   "language": "python",
   "name": "python3"
  },
  "language_info": {
   "codemirror_mode": {
    "name": "ipython",
    "version": 3
   },
   "file_extension": ".py",
   "mimetype": "text/x-python",
   "name": "python",
   "nbconvert_exporter": "python",
   "pygments_lexer": "ipython3",
   "version": "3.12.9"
  }
 },
 "nbformat": 4,
 "nbformat_minor": 4
}
