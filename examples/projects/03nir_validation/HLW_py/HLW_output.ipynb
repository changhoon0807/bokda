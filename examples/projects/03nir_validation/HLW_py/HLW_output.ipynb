{
 "cells": [
  {
   "cell_type": "code",
   "execution_count": 1,
   "id": "d6f2db34",
   "metadata": {
    "execution": {
     "iopub.execute_input": "2025-05-21T08:21:13.565286Z",
     "iopub.status.busy": "2025-05-21T08:21:13.565286Z",
     "iopub.status.idle": "2025-05-21T08:21:13.571266Z",
     "shell.execute_reply": "2025-05-21T08:21:13.571266Z"
    },
    "papermill": {
     "duration": 0.013988,
     "end_time": "2025-05-21T08:21:13.573271",
     "exception": false,
     "start_time": "2025-05-21T08:21:13.559283",
     "status": "completed"
    },
    "tags": [
     "injected-parameters"
    ]
   },
   "outputs": [],
   "source": [
    "# Parameters\n",
    "end_period = \"2016-09-30\"\n",
    "smoothing = True\n"
   ]
  },
  {
   "cell_type": "markdown",
   "id": "01e41988",
   "metadata": {
    "papermill": {
     "duration": 0.004999,
     "end_time": "2025-05-21T08:21:13.585270",
     "exception": false,
     "start_time": "2025-05-21T08:21:13.580271",
     "status": "completed"
    },
    "tags": [],
    "vscode": {
     "languageId": "plaintext"
    }
   },
   "source": [
    "## HLW"
   ]
  },
  {
   "cell_type": "code",
   "execution_count": 2,
   "id": "bf62f6fc",
   "metadata": {
    "execution": {
     "iopub.execute_input": "2025-05-21T08:21:13.594271Z",
     "iopub.status.busy": "2025-05-21T08:21:13.594271Z",
     "iopub.status.idle": "2025-05-21T08:21:16.980565Z",
     "shell.execute_reply": "2025-05-21T08:21:16.979586Z"
    },
    "papermill": {
     "duration": 3.393296,
     "end_time": "2025-05-21T08:21:16.982567",
     "exception": false,
     "start_time": "2025-05-21T08:21:13.589271",
     "status": "completed"
    },
    "tags": []
   },
   "outputs": [],
   "source": [
    "from bok_da.ts.nir import HLW"
   ]
  },
  {
   "cell_type": "code",
   "execution_count": 3,
   "id": "3041ce73",
   "metadata": {
    "execution": {
     "iopub.execute_input": "2025-05-21T08:21:16.995567Z",
     "iopub.status.busy": "2025-05-21T08:21:16.994566Z",
     "iopub.status.idle": "2025-05-21T08:21:17.000981Z",
     "shell.execute_reply": "2025-05-21T08:21:16.999996Z"
    },
    "papermill": {
     "duration": 0.015421,
     "end_time": "2025-05-21T08:21:17.002986",
     "exception": false,
     "start_time": "2025-05-21T08:21:16.987565",
     "status": "completed"
    },
    "tags": []
   },
   "outputs": [],
   "source": [
    "import pandas as pd\n",
    "import numpy as np\n",
    "import datetime"
   ]
  },
  {
   "cell_type": "code",
   "execution_count": 4,
   "id": "9f4adacc",
   "metadata": {
    "execution": {
     "iopub.execute_input": "2025-05-21T08:21:17.015981Z",
     "iopub.status.busy": "2025-05-21T08:21:17.014983Z",
     "iopub.status.idle": "2025-05-21T08:21:17.410020Z",
     "shell.execute_reply": "2025-05-21T08:21:17.410020Z"
    },
    "papermill": {
     "duration": 0.403058,
     "end_time": "2025-05-21T08:21:17.411038",
     "exception": false,
     "start_time": "2025-05-21T08:21:17.007980",
     "status": "completed"
    },
    "tags": []
   },
   "outputs": [
    {
     "data": {
      "text/html": [
       "<div>\n",
       "<style scoped>\n",
       "    .dataframe tbody tr th:only-of-type {\n",
       "        vertical-align: middle;\n",
       "    }\n",
       "\n",
       "    .dataframe tbody tr th {\n",
       "        vertical-align: top;\n",
       "    }\n",
       "\n",
       "    .dataframe thead th {\n",
       "        text-align: right;\n",
       "    }\n",
       "</style>\n",
       "<table border=\"1\" class=\"dataframe\">\n",
       "  <thead>\n",
       "    <tr style=\"text-align: right;\">\n",
       "      <th></th>\n",
       "      <th>rgdp</th>\n",
       "      <th>inf1</th>\n",
       "      <th>interest</th>\n",
       "    </tr>\n",
       "    <tr>\n",
       "      <th>Date</th>\n",
       "      <th></th>\n",
       "      <th></th>\n",
       "      <th></th>\n",
       "    </tr>\n",
       "  </thead>\n",
       "  <tbody>\n",
       "    <tr>\n",
       "      <th>2000-03-31</th>\n",
       "      <td>4961.268953</td>\n",
       "      <td>0.422939</td>\n",
       "      <td>4.527061</td>\n",
       "    </tr>\n",
       "    <tr>\n",
       "      <th>2000-06-30</th>\n",
       "      <td>4967.384872</td>\n",
       "      <td>0.888428</td>\n",
       "      <td>4.211572</td>\n",
       "    </tr>\n",
       "    <tr>\n",
       "      <th>2000-09-30</th>\n",
       "      <td>4978.220343</td>\n",
       "      <td>1.394206</td>\n",
       "      <td>3.725794</td>\n",
       "    </tr>\n",
       "    <tr>\n",
       "      <th>2000-12-31</th>\n",
       "      <td>4976.889295</td>\n",
       "      <td>1.869223</td>\n",
       "      <td>3.460777</td>\n",
       "    </tr>\n",
       "    <tr>\n",
       "      <th>2001-03-31</th>\n",
       "      <td>4980.892991</td>\n",
       "      <td>2.376812</td>\n",
       "      <td>2.763188</td>\n",
       "    </tr>\n",
       "    <tr>\n",
       "      <th>...</th>\n",
       "      <td>...</td>\n",
       "      <td>...</td>\n",
       "      <td>...</td>\n",
       "    </tr>\n",
       "    <tr>\n",
       "      <th>2023-09-30</th>\n",
       "      <td>5296.439326</td>\n",
       "      <td>4.367675</td>\n",
       "      <td>-0.819675</td>\n",
       "    </tr>\n",
       "    <tr>\n",
       "      <th>2023-12-31</th>\n",
       "      <td>5298.255260</td>\n",
       "      <td>4.007923</td>\n",
       "      <td>-0.431923</td>\n",
       "    </tr>\n",
       "    <tr>\n",
       "      <th>2024-03-31</th>\n",
       "      <td>5303.422191</td>\n",
       "      <td>3.466374</td>\n",
       "      <td>0.039626</td>\n",
       "    </tr>\n",
       "    <tr>\n",
       "      <th>2024-06-30</th>\n",
       "      <td>5302.510569</td>\n",
       "      <td>2.923232</td>\n",
       "      <td>0.608768</td>\n",
       "    </tr>\n",
       "    <tr>\n",
       "      <th>2024-09-30</th>\n",
       "      <td>5302.908729</td>\n",
       "      <td>2.475825</td>\n",
       "      <td>1.050175</td>\n",
       "    </tr>\n",
       "  </tbody>\n",
       "</table>\n",
       "<p>99 rows × 3 columns</p>\n",
       "</div>"
      ],
      "text/plain": [
       "                   rgdp      inf1  interest\n",
       "Date                                       \n",
       "2000-03-31  4961.268953  0.422939  4.527061\n",
       "2000-06-30  4967.384872  0.888428  4.211572\n",
       "2000-09-30  4978.220343  1.394206  3.725794\n",
       "2000-12-31  4976.889295  1.869223  3.460777\n",
       "2001-03-31  4980.892991  2.376812  2.763188\n",
       "...                 ...       ...       ...\n",
       "2023-09-30  5296.439326  4.367675 -0.819675\n",
       "2023-12-31  5298.255260  4.007923 -0.431923\n",
       "2024-03-31  5303.422191  3.466374  0.039626\n",
       "2024-06-30  5302.510569  2.923232  0.608768\n",
       "2024-09-30  5302.908729  2.475825  1.050175\n",
       "\n",
       "[99 rows x 3 columns]"
      ]
     },
     "execution_count": 4,
     "metadata": {},
     "output_type": "execute_result"
    }
   ],
   "source": [
    "KORData = pd.read_excel(\"data/nir_data_all.xlsx\", sheet_name=\"raw_data\")\n",
    "end_date = datetime.datetime.strptime('2024-07-01', '%Y-%m-%d')\n",
    "KORData_before = KORData[KORData['Date'] <= end_date]\n",
    "data = KORData_before.set_index(\"Date\")\n",
    "data_list = ['rgdp', 'inf1', 'interest', 'infe']\n",
    "data = data[data_list]\n",
    "data['inf1'] = data['inf1'].pct_change(4) * 100\n",
    "\n",
    "if smoothing:\n",
    "    data['inf1'] = data['inf1'].rolling(4).mean() # 4분기 이동평균\n",
    "    \n",
    "data['rgdp'] = np.log(data['rgdp']) * 400\n",
    "data['interest'] = data['interest'] - data['inf1']\n",
    "data = data.drop('infe', axis=1)\n",
    "data = data.dropna()\n",
    "#data = data.loc['1991-01-01':]\n",
    "KORmacro = data['2000-01-01':].copy()\n",
    "#KORmacro = data.copy()\n",
    "def shift_quarter_end(date):\n",
    "    if date.month == 1:\n",
    "        return date.replace(month=3, day=31)\n",
    "    elif date.month == 4:\n",
    "        return date.replace(month=6, day=30)\n",
    "    elif date.month == 7:\n",
    "        return date.replace(month=9, day=30)\n",
    "    else:\n",
    "        return date.replace(month=12, day=31)\n",
    "\n",
    "KORmacro.index = KORmacro.index.map(shift_quarter_end)\n",
    "KORmacro"
   ]
  },
  {
   "cell_type": "code",
   "execution_count": 5,
   "id": "35c24f2b",
   "metadata": {
    "execution": {
     "iopub.execute_input": "2025-05-21T08:21:17.424028Z",
     "iopub.status.busy": "2025-05-21T08:21:17.423028Z",
     "iopub.status.idle": "2025-05-21T08:21:17.430085Z",
     "shell.execute_reply": "2025-05-21T08:21:17.430085Z"
    },
    "papermill": {
     "duration": 0.014028,
     "end_time": "2025-05-21T08:21:17.431065",
     "exception": false,
     "start_time": "2025-05-21T08:21:17.417037",
     "status": "completed"
    },
    "tags": []
   },
   "outputs": [
    {
     "name": "stdout",
     "output_type": "stream",
     "text": [
      "> Initializing Model...\n",
      "  - Total MCMC iterations: 5000\n",
      "  - Burn-in period: 1000\n",
      "  - Latent variables percentiles: [5, 95]\n",
      "  - Parameters percentiles: [0.05, 0.95]\n",
      "  - Interest rate z-component specification: rw\n"
     ]
    }
   ],
   "source": [
    "mcmc =  {\n",
    "            'sig2_g': 0,\n",
    "            'sig2_yt': 0,\n",
    "            'sig2_yc': 0,\n",
    "            'sig2_z': 0,\n",
    "            'sig2_p': 0,\n",
    "            'slope_yc': 0,\n",
    "            'slope_z': 0,\n",
    "            'slope_p': 0\n",
    "        }\n",
    "\n",
    "prior = {\n",
    "            'yc_mean': np.array([0.7, 0.2, -0.3]), # 0.7, 0, 0// 0.7, 0.2, -0.4, -0.2. -0.15, -0.25\n",
    "            'yc_variance': np.diag(np.array([0.1, 0.1, 0.03]) ** 2), # 0.1, 0.1, 0.03\n",
    "            'sig2_yc_shape': 5,\n",
    "            'sig2_yc_scale': 4 * 2**2,\n",
    "            'sig2_g_shape': 5,\n",
    "            'sig2_g_scale': 4 * 0.1**2,\n",
    "            'sig2_yt_shape': 5,\n",
    "            'sig2_yt_scale': 4 * 2**2,\n",
    "            'sig2_z_shape': 5,\n",
    "            'sig2_z_scale': 4 * 0.5**2,\n",
    "            'p_mean': np.array([0.7, 0.1]), # 0.5, 0\n",
    "            'p_variance': np.diag(np.array([0.1, 0.1]) ** 2), # 1, 1\n",
    "            'sig2_p_shape': 5,\n",
    "            'sig2_p_scale': 4 * 0.1**2\n",
    "}\n",
    "        \n",
    "model = HLW(n_draws=5000, burnin=1000, MCMCAlgorithm=mcmc, PriorPara=prior, verbose=True, ZSpec='rw')"
   ]
  },
  {
   "cell_type": "code",
   "execution_count": 6,
   "id": "8f614e4f",
   "metadata": {
    "execution": {
     "iopub.execute_input": "2025-05-21T08:21:17.442066Z",
     "iopub.status.busy": "2025-05-21T08:21:17.441058Z"
    },
    "papermill": {
     "duration": null,
     "end_time": null,
     "exception": false,
     "start_time": "2025-05-21T08:21:17.436065",
     "status": "running"
    },
    "tags": []
   },
   "outputs": [
    {
     "name": "stdout",
     "output_type": "stream",
     "text": [
      "2016-09-30\n",
      "> Starting model fitting...\n",
      "  - Data shape: (67, 3)\n",
      "  - Dates provided with length: 67\n"
     ]
    },
    {
     "name": "stderr",
     "output_type": "stream",
     "text": [
      "\r",
      "Sampling:   0%|          | 0/5000 [00:00<?, ?it/s]"
     ]
    },
    {
     "name": "stderr",
     "output_type": "stream",
     "text": [
      "\r",
      "Step 1/3 :   0%|          | 0/5000 [00:00<?, ?it/s]"
     ]
    },
    {
     "name": "stderr",
     "output_type": "stream",
     "text": [
      "\r",
      "Step 1/3 :   0%|          | 0/5000 [00:00<?, ?it/s]"
     ]
    },
    {
     "name": "stderr",
     "output_type": "stream",
     "text": [
      "\r",
      "Step 1/3 :   0%|          | 2/5000 [00:00<04:32, 18.35it/s]"
     ]
    },
    {
     "name": "stderr",
     "output_type": "stream",
     "text": [
      "\r",
      "Step 1/3 :   0%|          | 2/5000 [00:00<04:32, 18.35it/s]"
     ]
    },
    {
     "name": "stderr",
     "output_type": "stream",
     "text": [
      "\r",
      "Step 1/3 :   0%|          | 2/5000 [00:00<04:32, 18.35it/s]"
     ]
    },
    {
     "name": "stderr",
     "output_type": "stream",
     "text": [
      "\r",
      "Step 1/3 :   0%|          | 4/5000 [00:00<04:22, 19.07it/s]"
     ]
    },
    {
     "name": "stderr",
     "output_type": "stream",
     "text": [
      "\r",
      "Step 1/3 :   0%|          | 4/5000 [00:00<04:22, 19.07it/s]"
     ]
    },
    {
     "name": "stderr",
     "output_type": "stream",
     "text": [
      "\r",
      "Step 1/3 :   0%|          | 4/5000 [00:00<04:22, 19.07it/s]"
     ]
    },
    {
     "name": "stderr",
     "output_type": "stream",
     "text": [
      "\r",
      "Step 1/3 :   0%|          | 4/5000 [00:00<04:22, 19.07it/s]"
     ]
    },
    {
     "name": "stderr",
     "output_type": "stream",
     "text": [
      "\r",
      "Step 1/3 :   0%|          | 7/5000 [00:00<03:49, 21.80it/s]"
     ]
    },
    {
     "name": "stderr",
     "output_type": "stream",
     "text": [
      "\r",
      "Step 1/3 :   0%|          | 7/5000 [00:00<03:49, 21.80it/s]"
     ]
    },
    {
     "name": "stderr",
     "output_type": "stream",
     "text": [
      "\r",
      "Step 1/3 :   0%|          | 7/5000 [00:00<03:49, 21.80it/s]"
     ]
    },
    {
     "name": "stderr",
     "output_type": "stream",
     "text": [
      "\r",
      "Step 1/3 :   0%|          | 7/5000 [00:00<03:49, 21.80it/s]"
     ]
    },
    {
     "name": "stderr",
     "output_type": "stream",
     "text": [
      "\r",
      "Step 1/3 :   0%|          | 10/5000 [00:00<03:33, 23.35it/s]"
     ]
    },
    {
     "name": "stderr",
     "output_type": "stream",
     "text": [
      "\r",
      "Step 1/3 :   0%|          | 10/5000 [00:00<03:33, 23.35it/s]"
     ]
    },
    {
     "name": "stderr",
     "output_type": "stream",
     "text": [
      "\r",
      "Step 1/3 :   0%|          | 10/5000 [00:00<03:33, 23.35it/s]"
     ]
    },
    {
     "name": "stderr",
     "output_type": "stream",
     "text": [
      "\r",
      "Step 1/3 :   0%|          | 10/5000 [00:00<03:33, 23.35it/s]"
     ]
    },
    {
     "name": "stderr",
     "output_type": "stream",
     "text": [
      "\r",
      "Step 1/3 :   0%|          | 13/5000 [00:00<03:31, 23.60it/s]"
     ]
    },
    {
     "name": "stderr",
     "output_type": "stream",
     "text": [
      "\r",
      "Step 1/3 :   0%|          | 13/5000 [00:00<03:31, 23.60it/s]"
     ]
    },
    {
     "name": "stderr",
     "output_type": "stream",
     "text": [
      "\r",
      "Step 1/3 :   0%|          | 13/5000 [00:00<03:31, 23.60it/s]"
     ]
    },
    {
     "name": "stderr",
     "output_type": "stream",
     "text": [
      "\r",
      "Step 1/3 :   0%|          | 13/5000 [00:00<03:31, 23.60it/s]"
     ]
    },
    {
     "name": "stderr",
     "output_type": "stream",
     "text": [
      "\r",
      "Step 1/3 :   0%|          | 16/5000 [00:00<03:24, 24.36it/s]"
     ]
    },
    {
     "name": "stderr",
     "output_type": "stream",
     "text": [
      "\r",
      "Step 1/3 :   0%|          | 16/5000 [00:00<03:24, 24.36it/s]"
     ]
    },
    {
     "name": "stderr",
     "output_type": "stream",
     "text": [
      "\r",
      "Step 1/3 :   0%|          | 16/5000 [00:00<03:24, 24.36it/s]"
     ]
    },
    {
     "name": "stderr",
     "output_type": "stream",
     "text": [
      "\r",
      "Step 1/3 :   0%|          | 16/5000 [00:00<03:24, 24.36it/s]"
     ]
    },
    {
     "name": "stderr",
     "output_type": "stream",
     "text": [
      "\r",
      "Step 1/3 :   0%|          | 19/5000 [00:00<03:19, 24.91it/s]"
     ]
    },
    {
     "name": "stderr",
     "output_type": "stream",
     "text": [
      "\r",
      "Step 1/3 :   0%|          | 19/5000 [00:00<03:19, 24.91it/s]"
     ]
    },
    {
     "name": "stderr",
     "output_type": "stream",
     "text": [
      "\r",
      "Step 1/3 :   0%|          | 19/5000 [00:00<03:19, 24.91it/s]"
     ]
    },
    {
     "name": "stderr",
     "output_type": "stream",
     "text": [
      "\r",
      "Step 1/3 :   0%|          | 19/5000 [00:00<03:19, 24.91it/s]"
     ]
    },
    {
     "name": "stderr",
     "output_type": "stream",
     "text": [
      "\r",
      "Step 1/3 :   0%|          | 19/5000 [00:00<03:19, 24.91it/s]"
     ]
    },
    {
     "name": "stderr",
     "output_type": "stream",
     "text": [
      "\r",
      "Step 1/3 :   0%|          | 23/5000 [00:00<03:00, 27.50it/s]"
     ]
    },
    {
     "name": "stderr",
     "output_type": "stream",
     "text": [
      "\r",
      "Step 1/3 :   0%|          | 23/5000 [00:00<03:00, 27.50it/s]"
     ]
    },
    {
     "name": "stderr",
     "output_type": "stream",
     "text": [
      "\r",
      "Step 1/3 :   0%|          | 23/5000 [00:00<03:00, 27.50it/s]"
     ]
    },
    {
     "name": "stderr",
     "output_type": "stream",
     "text": [
      "\r",
      "Step 1/3 :   0%|          | 23/5000 [00:00<03:00, 27.50it/s]"
     ]
    },
    {
     "name": "stderr",
     "output_type": "stream",
     "text": [
      "\r",
      "Step 1/3 :   0%|          | 23/5000 [00:01<03:00, 27.50it/s]"
     ]
    },
    {
     "name": "stderr",
     "output_type": "stream",
     "text": [
      "\r",
      "Step 1/3 :   1%|          | 27/5000 [00:01<02:50, 29.11it/s]"
     ]
    },
    {
     "name": "stderr",
     "output_type": "stream",
     "text": [
      "\r",
      "Step 1/3 :   1%|          | 27/5000 [00:01<02:50, 29.11it/s]"
     ]
    },
    {
     "name": "stderr",
     "output_type": "stream",
     "text": [
      "\r",
      "Step 1/3 :   1%|          | 27/5000 [00:01<02:50, 29.11it/s]"
     ]
    },
    {
     "name": "stderr",
     "output_type": "stream",
     "text": [
      "\r",
      "Step 1/3 :   1%|          | 27/5000 [00:01<02:50, 29.11it/s]"
     ]
    },
    {
     "name": "stderr",
     "output_type": "stream",
     "text": [
      "\r",
      "Step 1/3 :   1%|          | 30/5000 [00:01<02:51, 29.04it/s]"
     ]
    },
    {
     "name": "stderr",
     "output_type": "stream",
     "text": [
      "\r",
      "Step 1/3 :   1%|          | 30/5000 [00:01<02:51, 29.04it/s]"
     ]
    },
    {
     "name": "stderr",
     "output_type": "stream",
     "text": [
      "\r",
      "Step 1/3 :   1%|          | 30/5000 [00:01<02:51, 29.04it/s]"
     ]
    },
    {
     "name": "stderr",
     "output_type": "stream",
     "text": [
      "\r",
      "Step 1/3 :   1%|          | 30/5000 [00:01<02:51, 29.04it/s]"
     ]
    },
    {
     "name": "stderr",
     "output_type": "stream",
     "text": [
      "\r",
      "Step 1/3 :   1%|          | 33/5000 [00:01<02:50, 29.06it/s]"
     ]
    },
    {
     "name": "stderr",
     "output_type": "stream",
     "text": [
      "\r",
      "Step 1/3 :   1%|          | 33/5000 [00:01<02:50, 29.06it/s]"
     ]
    },
    {
     "name": "stderr",
     "output_type": "stream",
     "text": [
      "\r",
      "Step 1/3 :   1%|          | 33/5000 [00:01<02:50, 29.06it/s]"
     ]
    },
    {
     "name": "stderr",
     "output_type": "stream",
     "text": [
      "\r",
      "Step 1/3 :   1%|          | 33/5000 [00:01<02:50, 29.06it/s]"
     ]
    },
    {
     "name": "stderr",
     "output_type": "stream",
     "text": [
      "\r",
      "Step 1/3 :   1%|          | 36/5000 [00:01<02:54, 28.44it/s]"
     ]
    },
    {
     "name": "stderr",
     "output_type": "stream",
     "text": [
      "\r",
      "Step 1/3 :   1%|          | 36/5000 [00:01<02:54, 28.44it/s]"
     ]
    },
    {
     "name": "stderr",
     "output_type": "stream",
     "text": [
      "\r",
      "Step 1/3 :   1%|          | 36/5000 [00:01<02:54, 28.44it/s]"
     ]
    },
    {
     "name": "stderr",
     "output_type": "stream",
     "text": [
      "\r",
      "Step 1/3 :   1%|          | 36/5000 [00:01<02:54, 28.44it/s]"
     ]
    },
    {
     "name": "stderr",
     "output_type": "stream",
     "text": [
      "\r",
      "Step 1/3 :   1%|          | 36/5000 [00:01<02:54, 28.44it/s]"
     ]
    },
    {
     "name": "stderr",
     "output_type": "stream",
     "text": [
      "\r",
      "Step 1/3 :   1%|          | 40/5000 [00:01<02:44, 30.09it/s]"
     ]
    },
    {
     "name": "stderr",
     "output_type": "stream",
     "text": [
      "\r",
      "Step 1/3 :   1%|          | 40/5000 [00:01<02:44, 30.09it/s]"
     ]
    },
    {
     "name": "stderr",
     "output_type": "stream",
     "text": [
      "\r",
      "Step 1/3 :   1%|          | 40/5000 [00:01<02:44, 30.09it/s]"
     ]
    },
    {
     "name": "stderr",
     "output_type": "stream",
     "text": [
      "\r",
      "Step 1/3 :   1%|          | 40/5000 [00:01<02:44, 30.09it/s]"
     ]
    },
    {
     "name": "stderr",
     "output_type": "stream",
     "text": [
      "\r",
      "Step 1/3 :   1%|          | 40/5000 [00:01<02:44, 30.09it/s]"
     ]
    },
    {
     "name": "stderr",
     "output_type": "stream",
     "text": [
      "\r",
      "Step 1/3 :   1%|          | 44/5000 [00:01<02:40, 30.86it/s]"
     ]
    },
    {
     "name": "stderr",
     "output_type": "stream",
     "text": [
      "\r",
      "Step 1/3 :   1%|          | 44/5000 [00:01<02:40, 30.86it/s]"
     ]
    },
    {
     "name": "stderr",
     "output_type": "stream",
     "text": [
      "\r",
      "Step 1/3 :   1%|          | 44/5000 [00:01<02:40, 30.86it/s]"
     ]
    },
    {
     "name": "stderr",
     "output_type": "stream",
     "text": [
      "\r",
      "Step 1/3 :   1%|          | 44/5000 [00:01<02:40, 30.86it/s]"
     ]
    },
    {
     "name": "stderr",
     "output_type": "stream",
     "text": [
      "\r",
      "Step 1/3 :   1%|          | 44/5000 [00:01<02:40, 30.86it/s]"
     ]
    },
    {
     "name": "stderr",
     "output_type": "stream",
     "text": [
      "\r",
      "Step 1/3 :   1%|          | 48/5000 [00:01<02:32, 32.45it/s]"
     ]
    },
    {
     "name": "stderr",
     "output_type": "stream",
     "text": [
      "\r",
      "Step 1/3 :   1%|          | 48/5000 [00:01<02:32, 32.45it/s]"
     ]
    },
    {
     "name": "stderr",
     "output_type": "stream",
     "text": [
      "\r",
      "Step 1/3 :   1%|          | 48/5000 [00:01<02:32, 32.45it/s]"
     ]
    },
    {
     "name": "stderr",
     "output_type": "stream",
     "text": [
      "\r",
      "Step 1/3 :   1%|          | 48/5000 [00:01<02:32, 32.45it/s]"
     ]
    },
    {
     "name": "stderr",
     "output_type": "stream",
     "text": [
      "\r",
      "Step 1/3 :   1%|          | 48/5000 [00:01<02:32, 32.45it/s]"
     ]
    },
    {
     "name": "stderr",
     "output_type": "stream",
     "text": [
      "\r",
      "Step 1/3 :   1%|          | 52/5000 [00:01<02:26, 33.86it/s]"
     ]
    },
    {
     "name": "stderr",
     "output_type": "stream",
     "text": [
      "\r",
      "Step 1/3 :   1%|          | 52/5000 [00:01<02:26, 33.86it/s]"
     ]
    },
    {
     "name": "stderr",
     "output_type": "stream",
     "text": [
      "\r",
      "Step 1/3 :   1%|          | 52/5000 [00:01<02:26, 33.86it/s]"
     ]
    },
    {
     "name": "stderr",
     "output_type": "stream",
     "text": [
      "\r",
      "Step 1/3 :   1%|          | 52/5000 [00:01<02:26, 33.86it/s]"
     ]
    },
    {
     "name": "stderr",
     "output_type": "stream",
     "text": [
      "\r",
      "Step 1/3 :   1%|          | 52/5000 [00:01<02:26, 33.86it/s]"
     ]
    },
    {
     "name": "stderr",
     "output_type": "stream",
     "text": [
      "\r",
      "Step 1/3 :   1%|          | 56/5000 [00:01<02:22, 34.80it/s]"
     ]
    },
    {
     "name": "stderr",
     "output_type": "stream",
     "text": [
      "\r",
      "Step 1/3 :   1%|          | 56/5000 [00:01<02:22, 34.80it/s]"
     ]
    },
    {
     "name": "stderr",
     "output_type": "stream",
     "text": [
      "\r",
      "Step 1/3 :   1%|          | 56/5000 [00:01<02:22, 34.80it/s]"
     ]
    },
    {
     "name": "stderr",
     "output_type": "stream",
     "text": [
      "\r",
      "Step 1/3 :   1%|          | 56/5000 [00:01<02:22, 34.80it/s]"
     ]
    },
    {
     "name": "stderr",
     "output_type": "stream",
     "text": [
      "\r",
      "Step 1/3 :   1%|          | 56/5000 [00:02<02:22, 34.80it/s]"
     ]
    },
    {
     "name": "stderr",
     "output_type": "stream",
     "text": [
      "\r",
      "Step 1/3 :   1%|          | 60/5000 [00:02<02:19, 35.36it/s]"
     ]
    },
    {
     "name": "stderr",
     "output_type": "stream",
     "text": [
      "\r",
      "Step 1/3 :   1%|          | 60/5000 [00:02<02:19, 35.36it/s]"
     ]
    },
    {
     "name": "stderr",
     "output_type": "stream",
     "text": [
      "\r",
      "Step 1/3 :   1%|          | 60/5000 [00:02<02:19, 35.36it/s]"
     ]
    },
    {
     "name": "stderr",
     "output_type": "stream",
     "text": [
      "\r",
      "Step 1/3 :   1%|          | 60/5000 [00:02<02:19, 35.36it/s]"
     ]
    },
    {
     "name": "stderr",
     "output_type": "stream",
     "text": [
      "\r",
      "Step 1/3 :   1%|          | 60/5000 [00:02<02:19, 35.36it/s]"
     ]
    },
    {
     "name": "stderr",
     "output_type": "stream",
     "text": [
      "\r",
      "Step 1/3 :   1%|▏         | 64/5000 [00:02<02:19, 35.47it/s]"
     ]
    },
    {
     "name": "stderr",
     "output_type": "stream",
     "text": [
      "\r",
      "Step 1/3 :   1%|▏         | 64/5000 [00:02<02:19, 35.47it/s]"
     ]
    },
    {
     "name": "stderr",
     "output_type": "stream",
     "text": [
      "\r",
      "Step 1/3 :   1%|▏         | 64/5000 [00:02<02:19, 35.47it/s]"
     ]
    },
    {
     "name": "stderr",
     "output_type": "stream",
     "text": [
      "\r",
      "Step 1/3 :   1%|▏         | 64/5000 [00:02<02:19, 35.47it/s]"
     ]
    },
    {
     "name": "stderr",
     "output_type": "stream",
     "text": [
      "\r",
      "Step 1/3 :   1%|▏         | 64/5000 [00:02<02:19, 35.47it/s]"
     ]
    },
    {
     "name": "stderr",
     "output_type": "stream",
     "text": [
      "\r",
      "Step 1/3 :   1%|▏         | 68/5000 [00:02<02:17, 35.84it/s]"
     ]
    },
    {
     "name": "stderr",
     "output_type": "stream",
     "text": [
      "\r",
      "Step 1/3 :   1%|▏         | 68/5000 [00:02<02:17, 35.84it/s]"
     ]
    },
    {
     "name": "stderr",
     "output_type": "stream",
     "text": [
      "\r",
      "Step 1/3 :   1%|▏         | 68/5000 [00:02<02:17, 35.84it/s]"
     ]
    },
    {
     "name": "stderr",
     "output_type": "stream",
     "text": [
      "\r",
      "Step 1/3 :   1%|▏         | 68/5000 [00:02<02:17, 35.84it/s]"
     ]
    },
    {
     "name": "stderr",
     "output_type": "stream",
     "text": [
      "\r",
      "Step 1/3 :   1%|▏         | 68/5000 [00:02<02:17, 35.84it/s]"
     ]
    },
    {
     "name": "stderr",
     "output_type": "stream",
     "text": [
      "\r",
      "Step 1/3 :   1%|▏         | 72/5000 [00:02<02:18, 35.69it/s]"
     ]
    },
    {
     "name": "stderr",
     "output_type": "stream",
     "text": [
      "\r",
      "Step 1/3 :   1%|▏         | 72/5000 [00:02<02:18, 35.69it/s]"
     ]
    },
    {
     "name": "stderr",
     "output_type": "stream",
     "text": [
      "\r",
      "Step 1/3 :   1%|▏         | 72/5000 [00:02<02:18, 35.69it/s]"
     ]
    },
    {
     "name": "stderr",
     "output_type": "stream",
     "text": [
      "\r",
      "Step 1/3 :   1%|▏         | 72/5000 [00:02<02:18, 35.69it/s]"
     ]
    },
    {
     "name": "stderr",
     "output_type": "stream",
     "text": [
      "\r",
      "Step 1/3 :   1%|▏         | 72/5000 [00:02<02:18, 35.69it/s]"
     ]
    },
    {
     "name": "stderr",
     "output_type": "stream",
     "text": [
      "\r",
      "Step 1/3 :   2%|▏         | 76/5000 [00:02<02:17, 35.89it/s]"
     ]
    },
    {
     "name": "stderr",
     "output_type": "stream",
     "text": [
      "\r",
      "Step 1/3 :   2%|▏         | 76/5000 [00:02<02:17, 35.89it/s]"
     ]
    },
    {
     "name": "stderr",
     "output_type": "stream",
     "text": [
      "\r",
      "Step 1/3 :   2%|▏         | 76/5000 [00:02<02:17, 35.89it/s]"
     ]
    },
    {
     "name": "stderr",
     "output_type": "stream",
     "text": [
      "\r",
      "Step 1/3 :   2%|▏         | 76/5000 [00:02<02:17, 35.89it/s]"
     ]
    },
    {
     "name": "stderr",
     "output_type": "stream",
     "text": [
      "\r",
      "Step 1/3 :   2%|▏         | 76/5000 [00:02<02:17, 35.89it/s]"
     ]
    },
    {
     "name": "stderr",
     "output_type": "stream",
     "text": [
      "\r",
      "Step 1/3 :   2%|▏         | 80/5000 [00:02<02:18, 35.55it/s]"
     ]
    },
    {
     "name": "stderr",
     "output_type": "stream",
     "text": [
      "\r",
      "Step 1/3 :   2%|▏         | 80/5000 [00:02<02:18, 35.55it/s]"
     ]
    },
    {
     "name": "stderr",
     "output_type": "stream",
     "text": [
      "\r",
      "Step 1/3 :   2%|▏         | 80/5000 [00:02<02:18, 35.55it/s]"
     ]
    },
    {
     "name": "stderr",
     "output_type": "stream",
     "text": [
      "\r",
      "Step 1/3 :   2%|▏         | 80/5000 [00:02<02:18, 35.55it/s]"
     ]
    },
    {
     "name": "stderr",
     "output_type": "stream",
     "text": [
      "\r",
      "Step 1/3 :   2%|▏         | 80/5000 [00:02<02:18, 35.55it/s]"
     ]
    },
    {
     "name": "stderr",
     "output_type": "stream",
     "text": [
      "\r",
      "Step 1/3 :   2%|▏         | 84/5000 [00:02<02:18, 35.41it/s]"
     ]
    },
    {
     "name": "stderr",
     "output_type": "stream",
     "text": [
      "\r",
      "Step 1/3 :   2%|▏         | 84/5000 [00:02<02:18, 35.41it/s]"
     ]
    },
    {
     "name": "stderr",
     "output_type": "stream",
     "text": [
      "\r",
      "Step 1/3 :   2%|▏         | 84/5000 [00:02<02:18, 35.41it/s]"
     ]
    },
    {
     "name": "stderr",
     "output_type": "stream",
     "text": [
      "\r",
      "Step 1/3 :   2%|▏         | 84/5000 [00:02<02:18, 35.41it/s]"
     ]
    },
    {
     "name": "stderr",
     "output_type": "stream",
     "text": [
      "\r",
      "Step 1/3 :   2%|▏         | 84/5000 [00:02<02:18, 35.41it/s]"
     ]
    },
    {
     "name": "stderr",
     "output_type": "stream",
     "text": [
      "\r",
      "Step 1/3 :   2%|▏         | 88/5000 [00:02<02:18, 35.41it/s]"
     ]
    },
    {
     "name": "stderr",
     "output_type": "stream",
     "text": [
      "\r",
      "Step 1/3 :   2%|▏         | 88/5000 [00:02<02:18, 35.41it/s]"
     ]
    },
    {
     "name": "stderr",
     "output_type": "stream",
     "text": [
      "\r",
      "Step 1/3 :   2%|▏         | 88/5000 [00:02<02:18, 35.41it/s]"
     ]
    },
    {
     "name": "stderr",
     "output_type": "stream",
     "text": [
      "\r",
      "Step 1/3 :   2%|▏         | 88/5000 [00:02<02:18, 35.41it/s]"
     ]
    },
    {
     "name": "stderr",
     "output_type": "stream",
     "text": [
      "\r",
      "Step 1/3 :   2%|▏         | 88/5000 [00:02<02:18, 35.41it/s]"
     ]
    },
    {
     "name": "stderr",
     "output_type": "stream",
     "text": [
      "\r",
      "Step 1/3 :   2%|▏         | 92/5000 [00:02<02:21, 34.67it/s]"
     ]
    },
    {
     "name": "stderr",
     "output_type": "stream",
     "text": [
      "\r",
      "Step 1/3 :   2%|▏         | 92/5000 [00:02<02:21, 34.67it/s]"
     ]
    },
    {
     "name": "stderr",
     "output_type": "stream",
     "text": [
      "\r",
      "Step 1/3 :   2%|▏         | 92/5000 [00:02<02:21, 34.67it/s]"
     ]
    },
    {
     "name": "stderr",
     "output_type": "stream",
     "text": [
      "\r",
      "Step 1/3 :   2%|▏         | 92/5000 [00:03<02:21, 34.67it/s]"
     ]
    },
    {
     "name": "stderr",
     "output_type": "stream",
     "text": [
      "\r",
      "Step 1/3 :   2%|▏         | 92/5000 [00:03<02:21, 34.67it/s]"
     ]
    },
    {
     "name": "stderr",
     "output_type": "stream",
     "text": [
      "\r",
      "Step 1/3 :   2%|▏         | 96/5000 [00:03<02:21, 34.70it/s]"
     ]
    },
    {
     "name": "stderr",
     "output_type": "stream",
     "text": [
      "\r",
      "Step 1/3 :   2%|▏         | 96/5000 [00:03<02:21, 34.70it/s]"
     ]
    },
    {
     "name": "stderr",
     "output_type": "stream",
     "text": [
      "\r",
      "Step 1/3 :   2%|▏         | 96/5000 [00:03<02:21, 34.70it/s]"
     ]
    },
    {
     "name": "stderr",
     "output_type": "stream",
     "text": [
      "\r",
      "Step 1/3 :   2%|▏         | 96/5000 [00:03<02:21, 34.70it/s]"
     ]
    },
    {
     "name": "stderr",
     "output_type": "stream",
     "text": [
      "\r",
      "Step 1/3 :   2%|▏         | 96/5000 [00:03<02:21, 34.70it/s]"
     ]
    },
    {
     "name": "stderr",
     "output_type": "stream",
     "text": [
      "\r",
      "Step 1/3 :   2%|▏         | 100/5000 [00:03<02:20, 34.91it/s]"
     ]
    },
    {
     "name": "stderr",
     "output_type": "stream",
     "text": [
      "\r",
      "Step 1/3 :   2%|▏         | 100/5000 [00:03<02:20, 34.91it/s]"
     ]
    },
    {
     "name": "stderr",
     "output_type": "stream",
     "text": [
      "\r",
      "Step 1/3 :   2%|▏         | 100/5000 [00:03<02:20, 34.91it/s]"
     ]
    },
    {
     "name": "stderr",
     "output_type": "stream",
     "text": [
      "\r",
      "Step 1/3 :   2%|▏         | 100/5000 [00:03<02:20, 34.91it/s]"
     ]
    },
    {
     "name": "stderr",
     "output_type": "stream",
     "text": [
      "\r",
      "Step 1/3 :   2%|▏         | 100/5000 [00:03<02:20, 34.91it/s]"
     ]
    },
    {
     "name": "stderr",
     "output_type": "stream",
     "text": [
      "\r",
      "Step 1/3 :   2%|▏         | 104/5000 [00:03<02:17, 35.62it/s]"
     ]
    },
    {
     "name": "stderr",
     "output_type": "stream",
     "text": [
      "\r",
      "Step 1/3 :   2%|▏         | 104/5000 [00:03<02:17, 35.62it/s]"
     ]
    },
    {
     "name": "stderr",
     "output_type": "stream",
     "text": [
      "\r",
      "Step 1/3 :   2%|▏         | 104/5000 [00:03<02:17, 35.62it/s]"
     ]
    },
    {
     "name": "stderr",
     "output_type": "stream",
     "text": [
      "\r",
      "Step 1/3 :   2%|▏         | 104/5000 [00:03<02:17, 35.62it/s]"
     ]
    },
    {
     "name": "stderr",
     "output_type": "stream",
     "text": [
      "\r",
      "Step 1/3 :   2%|▏         | 104/5000 [00:03<02:17, 35.62it/s]"
     ]
    },
    {
     "name": "stderr",
     "output_type": "stream",
     "text": [
      "\r",
      "Step 1/3 :   2%|▏         | 108/5000 [00:03<02:16, 35.74it/s]"
     ]
    },
    {
     "name": "stderr",
     "output_type": "stream",
     "text": [
      "\r",
      "Step 1/3 :   2%|▏         | 108/5000 [00:03<02:16, 35.74it/s]"
     ]
    },
    {
     "name": "stderr",
     "output_type": "stream",
     "text": [
      "\r",
      "Step 1/3 :   2%|▏         | 108/5000 [00:03<02:16, 35.74it/s]"
     ]
    },
    {
     "name": "stderr",
     "output_type": "stream",
     "text": [
      "\r",
      "Step 1/3 :   2%|▏         | 108/5000 [00:03<02:16, 35.74it/s]"
     ]
    },
    {
     "name": "stderr",
     "output_type": "stream",
     "text": [
      "\r",
      "Step 1/3 :   2%|▏         | 108/5000 [00:03<02:16, 35.74it/s]"
     ]
    },
    {
     "name": "stderr",
     "output_type": "stream",
     "text": [
      "\r",
      "Step 1/3 :   2%|▏         | 112/5000 [00:03<02:22, 34.26it/s]"
     ]
    },
    {
     "name": "stderr",
     "output_type": "stream",
     "text": [
      "\r",
      "Step 1/3 :   2%|▏         | 112/5000 [00:03<02:22, 34.26it/s]"
     ]
    },
    {
     "name": "stderr",
     "output_type": "stream",
     "text": [
      "\r",
      "Step 1/3 :   2%|▏         | 112/5000 [00:03<02:22, 34.26it/s]"
     ]
    },
    {
     "name": "stderr",
     "output_type": "stream",
     "text": [
      "\r",
      "Step 1/3 :   2%|▏         | 112/5000 [00:03<02:22, 34.26it/s]"
     ]
    },
    {
     "name": "stderr",
     "output_type": "stream",
     "text": [
      "\r",
      "Step 1/3 :   2%|▏         | 112/5000 [00:03<02:22, 34.26it/s]"
     ]
    },
    {
     "name": "stderr",
     "output_type": "stream",
     "text": [
      "\r",
      "Step 1/3 :   2%|▏         | 116/5000 [00:03<02:21, 34.59it/s]"
     ]
    },
    {
     "name": "stderr",
     "output_type": "stream",
     "text": [
      "\r",
      "Step 1/3 :   2%|▏         | 116/5000 [00:03<02:21, 34.59it/s]"
     ]
    },
    {
     "name": "stderr",
     "output_type": "stream",
     "text": [
      "\r",
      "Step 1/3 :   2%|▏         | 116/5000 [00:03<02:21, 34.59it/s]"
     ]
    },
    {
     "name": "stderr",
     "output_type": "stream",
     "text": [
      "\r",
      "Step 1/3 :   2%|▏         | 116/5000 [00:03<02:21, 34.59it/s]"
     ]
    },
    {
     "name": "stderr",
     "output_type": "stream",
     "text": [
      "\r",
      "Step 1/3 :   2%|▏         | 116/5000 [00:03<02:21, 34.59it/s]"
     ]
    },
    {
     "name": "stderr",
     "output_type": "stream",
     "text": [
      "\r",
      "Step 1/3 :   2%|▏         | 120/5000 [00:03<02:18, 35.29it/s]"
     ]
    },
    {
     "name": "stderr",
     "output_type": "stream",
     "text": [
      "\r",
      "Step 1/3 :   2%|▏         | 120/5000 [00:03<02:18, 35.29it/s]"
     ]
    },
    {
     "name": "stderr",
     "output_type": "stream",
     "text": [
      "\r",
      "Step 1/3 :   2%|▏         | 120/5000 [00:03<02:18, 35.29it/s]"
     ]
    },
    {
     "name": "stderr",
     "output_type": "stream",
     "text": [
      "\r",
      "Step 1/3 :   2%|▏         | 120/5000 [00:03<02:18, 35.29it/s]"
     ]
    },
    {
     "name": "stderr",
     "output_type": "stream",
     "text": [
      "\r",
      "Step 1/3 :   2%|▏         | 120/5000 [00:03<02:18, 35.29it/s]"
     ]
    },
    {
     "name": "stderr",
     "output_type": "stream",
     "text": [
      "\r",
      "Step 1/3 :   2%|▏         | 124/5000 [00:03<02:16, 35.70it/s]"
     ]
    },
    {
     "name": "stderr",
     "output_type": "stream",
     "text": [
      "\r",
      "Step 1/3 :   2%|▏         | 124/5000 [00:03<02:16, 35.70it/s]"
     ]
    },
    {
     "name": "stderr",
     "output_type": "stream",
     "text": [
      "\r",
      "Step 1/3 :   2%|▏         | 124/5000 [00:03<02:16, 35.70it/s]"
     ]
    },
    {
     "name": "stderr",
     "output_type": "stream",
     "text": [
      "\r",
      "Step 1/3 :   2%|▏         | 124/5000 [00:03<02:16, 35.70it/s]"
     ]
    },
    {
     "name": "stderr",
     "output_type": "stream",
     "text": [
      "\r",
      "Step 1/3 :   2%|▏         | 124/5000 [00:03<02:16, 35.70it/s]"
     ]
    },
    {
     "name": "stderr",
     "output_type": "stream",
     "text": [
      "\r",
      "Step 1/3 :   3%|▎         | 128/5000 [00:03<02:13, 36.48it/s]"
     ]
    },
    {
     "name": "stderr",
     "output_type": "stream",
     "text": [
      "\r",
      "Step 1/3 :   3%|▎         | 128/5000 [00:03<02:13, 36.48it/s]"
     ]
    },
    {
     "name": "stderr",
     "output_type": "stream",
     "text": [
      "\r",
      "Step 1/3 :   3%|▎         | 128/5000 [00:03<02:13, 36.48it/s]"
     ]
    },
    {
     "name": "stderr",
     "output_type": "stream",
     "text": [
      "\r",
      "Step 1/3 :   3%|▎         | 128/5000 [00:04<02:13, 36.48it/s]"
     ]
    },
    {
     "name": "stderr",
     "output_type": "stream",
     "text": [
      "\r",
      "Step 1/3 :   3%|▎         | 128/5000 [00:04<02:13, 36.48it/s]"
     ]
    },
    {
     "name": "stderr",
     "output_type": "stream",
     "text": [
      "\r",
      "Step 1/3 :   3%|▎         | 132/5000 [00:04<02:13, 36.35it/s]"
     ]
    },
    {
     "name": "stderr",
     "output_type": "stream",
     "text": [
      "\r",
      "Step 1/3 :   3%|▎         | 132/5000 [00:04<02:13, 36.35it/s]"
     ]
    },
    {
     "name": "stderr",
     "output_type": "stream",
     "text": [
      "\r",
      "Step 1/3 :   3%|▎         | 132/5000 [00:04<02:13, 36.35it/s]"
     ]
    },
    {
     "name": "stderr",
     "output_type": "stream",
     "text": [
      "\r",
      "Step 1/3 :   3%|▎         | 132/5000 [00:04<02:13, 36.35it/s]"
     ]
    },
    {
     "name": "stderr",
     "output_type": "stream",
     "text": [
      "\r",
      "Step 1/3 :   3%|▎         | 132/5000 [00:04<02:13, 36.35it/s]"
     ]
    },
    {
     "name": "stderr",
     "output_type": "stream",
     "text": [
      "\r",
      "Step 1/3 :   3%|▎         | 136/5000 [00:04<02:14, 36.06it/s]"
     ]
    },
    {
     "name": "stderr",
     "output_type": "stream",
     "text": [
      "\r",
      "Step 1/3 :   3%|▎         | 136/5000 [00:04<02:14, 36.06it/s]"
     ]
    },
    {
     "name": "stderr",
     "output_type": "stream",
     "text": [
      "\r",
      "Step 1/3 :   3%|▎         | 136/5000 [00:04<02:14, 36.06it/s]"
     ]
    },
    {
     "name": "stderr",
     "output_type": "stream",
     "text": [
      "\r",
      "Step 1/3 :   3%|▎         | 136/5000 [00:04<02:14, 36.06it/s]"
     ]
    },
    {
     "name": "stderr",
     "output_type": "stream",
     "text": [
      "\r",
      "Step 1/3 :   3%|▎         | 136/5000 [00:04<02:14, 36.06it/s]"
     ]
    },
    {
     "name": "stderr",
     "output_type": "stream",
     "text": [
      "\r",
      "Step 1/3 :   3%|▎         | 140/5000 [00:04<02:14, 36.15it/s]"
     ]
    },
    {
     "name": "stderr",
     "output_type": "stream",
     "text": [
      "\r",
      "Step 1/3 :   3%|▎         | 140/5000 [00:04<02:14, 36.15it/s]"
     ]
    },
    {
     "name": "stderr",
     "output_type": "stream",
     "text": [
      "\r",
      "Step 1/3 :   3%|▎         | 140/5000 [00:04<02:14, 36.15it/s]"
     ]
    },
    {
     "name": "stderr",
     "output_type": "stream",
     "text": [
      "\r",
      "Step 1/3 :   3%|▎         | 140/5000 [00:04<02:14, 36.15it/s]"
     ]
    },
    {
     "name": "stderr",
     "output_type": "stream",
     "text": [
      "\r",
      "Step 1/3 :   3%|▎         | 140/5000 [00:04<02:14, 36.15it/s]"
     ]
    },
    {
     "name": "stderr",
     "output_type": "stream",
     "text": [
      "\r",
      "Step 1/3 :   3%|▎         | 144/5000 [00:04<02:15, 35.92it/s]"
     ]
    },
    {
     "name": "stderr",
     "output_type": "stream",
     "text": [
      "\r",
      "Step 1/3 :   3%|▎         | 144/5000 [00:04<02:15, 35.92it/s]"
     ]
    },
    {
     "name": "stderr",
     "output_type": "stream",
     "text": [
      "\r",
      "Step 1/3 :   3%|▎         | 144/5000 [00:04<02:15, 35.92it/s]"
     ]
    },
    {
     "name": "stderr",
     "output_type": "stream",
     "text": [
      "\r",
      "Step 1/3 :   3%|▎         | 144/5000 [00:04<02:15, 35.92it/s]"
     ]
    },
    {
     "name": "stderr",
     "output_type": "stream",
     "text": [
      "\r",
      "Step 1/3 :   3%|▎         | 144/5000 [00:04<02:15, 35.92it/s]"
     ]
    },
    {
     "name": "stderr",
     "output_type": "stream",
     "text": [
      "\r",
      "Step 1/3 :   3%|▎         | 148/5000 [00:04<02:15, 35.76it/s]"
     ]
    },
    {
     "name": "stderr",
     "output_type": "stream",
     "text": [
      "\r",
      "Step 1/3 :   3%|▎         | 148/5000 [00:04<02:15, 35.76it/s]"
     ]
    },
    {
     "name": "stderr",
     "output_type": "stream",
     "text": [
      "\r",
      "Step 1/3 :   3%|▎         | 148/5000 [00:04<02:15, 35.76it/s]"
     ]
    },
    {
     "name": "stderr",
     "output_type": "stream",
     "text": [
      "\r",
      "Step 1/3 :   3%|▎         | 148/5000 [00:04<02:15, 35.76it/s]"
     ]
    },
    {
     "name": "stderr",
     "output_type": "stream",
     "text": [
      "\r",
      "Step 1/3 :   3%|▎         | 148/5000 [00:04<02:15, 35.76it/s]"
     ]
    },
    {
     "name": "stderr",
     "output_type": "stream",
     "text": [
      "\r",
      "Step 1/3 :   3%|▎         | 152/5000 [00:04<02:22, 34.10it/s]"
     ]
    },
    {
     "name": "stderr",
     "output_type": "stream",
     "text": [
      "\r",
      "Step 1/3 :   3%|▎         | 152/5000 [00:04<02:22, 34.10it/s]"
     ]
    },
    {
     "name": "stderr",
     "output_type": "stream",
     "text": [
      "\r",
      "Step 1/3 :   3%|▎         | 152/5000 [00:04<02:22, 34.10it/s]"
     ]
    },
    {
     "name": "stderr",
     "output_type": "stream",
     "text": [
      "\r",
      "Step 1/3 :   3%|▎         | 152/5000 [00:04<02:22, 34.10it/s]"
     ]
    },
    {
     "name": "stderr",
     "output_type": "stream",
     "text": [
      "\r",
      "Step 1/3 :   3%|▎         | 152/5000 [00:04<02:22, 34.10it/s]"
     ]
    },
    {
     "name": "stderr",
     "output_type": "stream",
     "text": [
      "\r",
      "Step 1/3 :   3%|▎         | 156/5000 [00:04<02:23, 33.69it/s]"
     ]
    },
    {
     "name": "stderr",
     "output_type": "stream",
     "text": [
      "\r",
      "Step 1/3 :   3%|▎         | 156/5000 [00:04<02:23, 33.69it/s]"
     ]
    },
    {
     "name": "stderr",
     "output_type": "stream",
     "text": [
      "\r",
      "Step 1/3 :   3%|▎         | 156/5000 [00:04<02:23, 33.69it/s]"
     ]
    },
    {
     "name": "stderr",
     "output_type": "stream",
     "text": [
      "\r",
      "Step 1/3 :   3%|▎         | 156/5000 [00:04<02:23, 33.69it/s]"
     ]
    },
    {
     "name": "stderr",
     "output_type": "stream",
     "text": [
      "\r",
      "Step 1/3 :   3%|▎         | 156/5000 [00:04<02:23, 33.69it/s]"
     ]
    },
    {
     "name": "stderr",
     "output_type": "stream",
     "text": [
      "\r",
      "Step 1/3 :   3%|▎         | 160/5000 [00:04<02:18, 34.90it/s]"
     ]
    },
    {
     "name": "stderr",
     "output_type": "stream",
     "text": [
      "\r",
      "Step 1/3 :   3%|▎         | 160/5000 [00:04<02:18, 34.90it/s]"
     ]
    },
    {
     "name": "stderr",
     "output_type": "stream",
     "text": [
      "\r",
      "Step 1/3 :   3%|▎         | 160/5000 [00:04<02:18, 34.90it/s]"
     ]
    },
    {
     "name": "stderr",
     "output_type": "stream",
     "text": [
      "\r",
      "Step 1/3 :   3%|▎         | 160/5000 [00:04<02:18, 34.90it/s]"
     ]
    },
    {
     "name": "stderr",
     "output_type": "stream",
     "text": [
      "\r",
      "Step 1/3 :   3%|▎         | 160/5000 [00:04<02:18, 34.90it/s]"
     ]
    },
    {
     "name": "stderr",
     "output_type": "stream",
     "text": [
      "\r",
      "Step 1/3 :   3%|▎         | 164/5000 [00:04<02:16, 35.50it/s]"
     ]
    },
    {
     "name": "stderr",
     "output_type": "stream",
     "text": [
      "\r",
      "Step 1/3 :   3%|▎         | 164/5000 [00:04<02:16, 35.50it/s]"
     ]
    },
    {
     "name": "stderr",
     "output_type": "stream",
     "text": [
      "\r",
      "Step 1/3 :   3%|▎         | 164/5000 [00:05<02:16, 35.50it/s]"
     ]
    },
    {
     "name": "stderr",
     "output_type": "stream",
     "text": [
      "\r",
      "Step 1/3 :   3%|▎         | 164/5000 [00:05<02:16, 35.50it/s]"
     ]
    },
    {
     "name": "stderr",
     "output_type": "stream",
     "text": [
      "\r",
      "Step 1/3 :   3%|▎         | 164/5000 [00:05<02:16, 35.50it/s]"
     ]
    },
    {
     "name": "stderr",
     "output_type": "stream",
     "text": [
      "\r",
      "Step 1/3 :   3%|▎         | 168/5000 [00:05<02:13, 36.14it/s]"
     ]
    },
    {
     "name": "stderr",
     "output_type": "stream",
     "text": [
      "\r",
      "Step 1/3 :   3%|▎         | 168/5000 [00:05<02:13, 36.14it/s]"
     ]
    },
    {
     "name": "stderr",
     "output_type": "stream",
     "text": [
      "\r",
      "Step 1/3 :   3%|▎         | 168/5000 [00:05<02:13, 36.14it/s]"
     ]
    },
    {
     "name": "stderr",
     "output_type": "stream",
     "text": [
      "\r",
      "Step 1/3 :   3%|▎         | 168/5000 [00:05<02:13, 36.14it/s]"
     ]
    },
    {
     "name": "stderr",
     "output_type": "stream",
     "text": [
      "\r",
      "Step 1/3 :   3%|▎         | 168/5000 [00:05<02:13, 36.14it/s]"
     ]
    },
    {
     "name": "stderr",
     "output_type": "stream",
     "text": [
      "\r",
      "Step 1/3 :   3%|▎         | 172/5000 [00:05<02:16, 35.25it/s]"
     ]
    },
    {
     "name": "stderr",
     "output_type": "stream",
     "text": [
      "\r",
      "Step 1/3 :   3%|▎         | 172/5000 [00:05<02:16, 35.25it/s]"
     ]
    },
    {
     "name": "stderr",
     "output_type": "stream",
     "text": [
      "\r",
      "Step 1/3 :   3%|▎         | 172/5000 [00:05<02:16, 35.25it/s]"
     ]
    },
    {
     "name": "stderr",
     "output_type": "stream",
     "text": [
      "\r",
      "Step 1/3 :   3%|▎         | 172/5000 [00:05<02:16, 35.25it/s]"
     ]
    },
    {
     "name": "stderr",
     "output_type": "stream",
     "text": [
      "\r",
      "Step 1/3 :   3%|▎         | 172/5000 [00:05<02:16, 35.25it/s]"
     ]
    },
    {
     "name": "stderr",
     "output_type": "stream",
     "text": [
      "\r",
      "Step 1/3 :   4%|▎         | 176/5000 [00:05<02:20, 34.39it/s]"
     ]
    },
    {
     "name": "stderr",
     "output_type": "stream",
     "text": [
      "\r",
      "Step 1/3 :   4%|▎         | 176/5000 [00:05<02:20, 34.39it/s]"
     ]
    },
    {
     "name": "stderr",
     "output_type": "stream",
     "text": [
      "\r",
      "Step 1/3 :   4%|▎         | 176/5000 [00:05<02:20, 34.39it/s]"
     ]
    },
    {
     "name": "stderr",
     "output_type": "stream",
     "text": [
      "\r",
      "Step 1/3 :   4%|▎         | 176/5000 [00:05<02:20, 34.39it/s]"
     ]
    },
    {
     "name": "stderr",
     "output_type": "stream",
     "text": [
      "\r",
      "Step 1/3 :   4%|▎         | 176/5000 [00:05<02:20, 34.39it/s]"
     ]
    },
    {
     "name": "stderr",
     "output_type": "stream",
     "text": [
      "\r",
      "Step 1/3 :   4%|▎         | 180/5000 [00:05<02:21, 33.98it/s]"
     ]
    },
    {
     "name": "stderr",
     "output_type": "stream",
     "text": [
      "\r",
      "Step 1/3 :   4%|▎         | 180/5000 [00:05<02:21, 33.98it/s]"
     ]
    },
    {
     "name": "stderr",
     "output_type": "stream",
     "text": [
      "\r",
      "Step 1/3 :   4%|▎         | 180/5000 [00:05<02:21, 33.98it/s]"
     ]
    },
    {
     "name": "stderr",
     "output_type": "stream",
     "text": [
      "\r",
      "Step 1/3 :   4%|▎         | 180/5000 [00:05<02:21, 33.98it/s]"
     ]
    },
    {
     "name": "stderr",
     "output_type": "stream",
     "text": [
      "\r",
      "Step 1/3 :   4%|▎         | 180/5000 [00:05<02:21, 33.98it/s]"
     ]
    },
    {
     "name": "stderr",
     "output_type": "stream",
     "text": [
      "\r",
      "Step 1/3 :   4%|▎         | 184/5000 [00:05<02:24, 33.44it/s]"
     ]
    },
    {
     "name": "stderr",
     "output_type": "stream",
     "text": [
      "\r",
      "Step 1/3 :   4%|▎         | 184/5000 [00:05<02:24, 33.44it/s]"
     ]
    },
    {
     "name": "stderr",
     "output_type": "stream",
     "text": [
      "\r",
      "Step 1/3 :   4%|▎         | 184/5000 [00:05<02:24, 33.44it/s]"
     ]
    },
    {
     "name": "stderr",
     "output_type": "stream",
     "text": [
      "\r",
      "Step 1/3 :   4%|▎         | 184/5000 [00:05<02:24, 33.44it/s]"
     ]
    },
    {
     "name": "stderr",
     "output_type": "stream",
     "text": [
      "\r",
      "Step 1/3 :   4%|▎         | 184/5000 [00:05<02:24, 33.44it/s]"
     ]
    },
    {
     "name": "stderr",
     "output_type": "stream",
     "text": [
      "\r",
      "Step 1/3 :   4%|▍         | 188/5000 [00:05<02:17, 34.90it/s]"
     ]
    },
    {
     "name": "stderr",
     "output_type": "stream",
     "text": [
      "\r",
      "Step 1/3 :   4%|▍         | 188/5000 [00:05<02:17, 34.90it/s]"
     ]
    },
    {
     "name": "stderr",
     "output_type": "stream",
     "text": [
      "\r",
      "Step 1/3 :   4%|▍         | 188/5000 [00:05<02:17, 34.90it/s]"
     ]
    },
    {
     "name": "stderr",
     "output_type": "stream",
     "text": [
      "\r",
      "Step 1/3 :   4%|▍         | 188/5000 [00:05<02:17, 34.90it/s]"
     ]
    },
    {
     "name": "stderr",
     "output_type": "stream",
     "text": [
      "\r",
      "Step 1/3 :   4%|▍         | 188/5000 [00:05<02:17, 34.90it/s]"
     ]
    },
    {
     "name": "stderr",
     "output_type": "stream",
     "text": [
      "\r",
      "Step 1/3 :   4%|▍         | 192/5000 [00:05<02:15, 35.42it/s]"
     ]
    },
    {
     "name": "stderr",
     "output_type": "stream",
     "text": [
      "\r",
      "Step 1/3 :   4%|▍         | 192/5000 [00:05<02:15, 35.42it/s]"
     ]
    },
    {
     "name": "stderr",
     "output_type": "stream",
     "text": [
      "\r",
      "Step 1/3 :   4%|▍         | 192/5000 [00:05<02:15, 35.42it/s]"
     ]
    },
    {
     "name": "stderr",
     "output_type": "stream",
     "text": [
      "\r",
      "Step 1/3 :   4%|▍         | 192/5000 [00:05<02:15, 35.42it/s]"
     ]
    },
    {
     "name": "stderr",
     "output_type": "stream",
     "text": [
      "\r",
      "Step 1/3 :   4%|▍         | 192/5000 [00:05<02:15, 35.42it/s]"
     ]
    },
    {
     "name": "stderr",
     "output_type": "stream",
     "text": [
      "\r",
      "Step 1/3 :   4%|▍         | 196/5000 [00:05<02:15, 35.41it/s]"
     ]
    },
    {
     "name": "stderr",
     "output_type": "stream",
     "text": [
      "\r",
      "Step 1/3 :   4%|▍         | 196/5000 [00:05<02:15, 35.41it/s]"
     ]
    },
    {
     "name": "stderr",
     "output_type": "stream",
     "text": [
      "\r",
      "Step 1/3 :   4%|▍         | 196/5000 [00:05<02:15, 35.41it/s]"
     ]
    },
    {
     "name": "stderr",
     "output_type": "stream",
     "text": [
      "\r",
      "Step 1/3 :   4%|▍         | 196/5000 [00:05<02:15, 35.41it/s]"
     ]
    },
    {
     "name": "stderr",
     "output_type": "stream",
     "text": [
      "\r",
      "Step 1/3 :   4%|▍         | 196/5000 [00:05<02:15, 35.41it/s]"
     ]
    },
    {
     "name": "stderr",
     "output_type": "stream",
     "text": [
      "\r",
      "Step 1/3 :   4%|▍         | 200/5000 [00:06<02:11, 36.37it/s]"
     ]
    },
    {
     "name": "stderr",
     "output_type": "stream",
     "text": [
      "\r",
      "Step 1/3 :   4%|▍         | 200/5000 [00:06<02:11, 36.37it/s]"
     ]
    },
    {
     "name": "stderr",
     "output_type": "stream",
     "text": [
      "\r",
      "Step 1/3 :   4%|▍         | 200/5000 [00:06<02:11, 36.37it/s]"
     ]
    },
    {
     "name": "stderr",
     "output_type": "stream",
     "text": [
      "\r",
      "Step 1/3 :   4%|▍         | 200/5000 [00:06<02:11, 36.37it/s]"
     ]
    },
    {
     "name": "stderr",
     "output_type": "stream",
     "text": [
      "\r",
      "Step 1/3 :   4%|▍         | 200/5000 [00:06<02:11, 36.37it/s]"
     ]
    },
    {
     "name": "stderr",
     "output_type": "stream",
     "text": [
      "\r",
      "Step 1/3 :   4%|▍         | 204/5000 [00:06<02:08, 37.18it/s]"
     ]
    },
    {
     "name": "stderr",
     "output_type": "stream",
     "text": [
      "\r",
      "Step 1/3 :   4%|▍         | 204/5000 [00:06<02:08, 37.18it/s]"
     ]
    },
    {
     "name": "stderr",
     "output_type": "stream",
     "text": [
      "\r",
      "Step 1/3 :   4%|▍         | 204/5000 [00:06<02:08, 37.18it/s]"
     ]
    },
    {
     "name": "stderr",
     "output_type": "stream",
     "text": [
      "\r",
      "Step 1/3 :   4%|▍         | 204/5000 [00:06<02:08, 37.18it/s]"
     ]
    },
    {
     "name": "stderr",
     "output_type": "stream",
     "text": [
      "\r",
      "Step 1/3 :   4%|▍         | 204/5000 [00:06<02:08, 37.18it/s]"
     ]
    },
    {
     "name": "stderr",
     "output_type": "stream",
     "text": [
      "\r",
      "Step 1/3 :   4%|▍         | 208/5000 [00:06<02:08, 37.35it/s]"
     ]
    },
    {
     "name": "stderr",
     "output_type": "stream",
     "text": [
      "\r",
      "Step 1/3 :   4%|▍         | 208/5000 [00:06<02:08, 37.35it/s]"
     ]
    },
    {
     "name": "stderr",
     "output_type": "stream",
     "text": [
      "\r",
      "Step 1/3 :   4%|▍         | 208/5000 [00:06<02:08, 37.35it/s]"
     ]
    },
    {
     "name": "stderr",
     "output_type": "stream",
     "text": [
      "\r",
      "Step 1/3 :   4%|▍         | 208/5000 [00:06<02:08, 37.35it/s]"
     ]
    },
    {
     "name": "stderr",
     "output_type": "stream",
     "text": [
      "\r",
      "Step 1/3 :   4%|▍         | 208/5000 [00:06<02:08, 37.35it/s]"
     ]
    },
    {
     "name": "stderr",
     "output_type": "stream",
     "text": [
      "\r",
      "Step 1/3 :   4%|▍         | 212/5000 [00:06<02:13, 35.84it/s]"
     ]
    },
    {
     "name": "stderr",
     "output_type": "stream",
     "text": [
      "\r",
      "Step 1/3 :   4%|▍         | 212/5000 [00:06<02:13, 35.84it/s]"
     ]
    },
    {
     "name": "stderr",
     "output_type": "stream",
     "text": [
      "\r",
      "Step 1/3 :   4%|▍         | 212/5000 [00:06<02:13, 35.84it/s]"
     ]
    },
    {
     "name": "stderr",
     "output_type": "stream",
     "text": [
      "\r",
      "Step 1/3 :   4%|▍         | 212/5000 [00:06<02:13, 35.84it/s]"
     ]
    },
    {
     "name": "stderr",
     "output_type": "stream",
     "text": [
      "\r",
      "Step 1/3 :   4%|▍         | 212/5000 [00:06<02:13, 35.84it/s]"
     ]
    },
    {
     "name": "stderr",
     "output_type": "stream",
     "text": [
      "\r",
      "Step 1/3 :   4%|▍         | 216/5000 [00:06<02:26, 32.64it/s]"
     ]
    },
    {
     "name": "stderr",
     "output_type": "stream",
     "text": [
      "\r",
      "Step 1/3 :   4%|▍         | 216/5000 [00:06<02:26, 32.64it/s]"
     ]
    },
    {
     "name": "stderr",
     "output_type": "stream",
     "text": [
      "\r",
      "Step 1/3 :   4%|▍         | 216/5000 [00:06<02:26, 32.64it/s]"
     ]
    },
    {
     "name": "stderr",
     "output_type": "stream",
     "text": [
      "\r",
      "Step 1/3 :   4%|▍         | 216/5000 [00:06<02:26, 32.64it/s]"
     ]
    },
    {
     "name": "stderr",
     "output_type": "stream",
     "text": [
      "\r",
      "Step 1/3 :   4%|▍         | 216/5000 [00:06<02:26, 32.64it/s]"
     ]
    },
    {
     "name": "stderr",
     "output_type": "stream",
     "text": [
      "\r",
      "Step 1/3 :   4%|▍         | 220/5000 [00:06<02:21, 33.77it/s]"
     ]
    },
    {
     "name": "stderr",
     "output_type": "stream",
     "text": [
      "\r",
      "Step 1/3 :   4%|▍         | 220/5000 [00:06<02:21, 33.77it/s]"
     ]
    },
    {
     "name": "stderr",
     "output_type": "stream",
     "text": [
      "\r",
      "Step 1/3 :   4%|▍         | 220/5000 [00:06<02:21, 33.77it/s]"
     ]
    },
    {
     "name": "stderr",
     "output_type": "stream",
     "text": [
      "\r",
      "Step 1/3 :   4%|▍         | 220/5000 [00:06<02:21, 33.77it/s]"
     ]
    },
    {
     "name": "stderr",
     "output_type": "stream",
     "text": [
      "\r",
      "Step 1/3 :   4%|▍         | 220/5000 [00:06<02:21, 33.77it/s]"
     ]
    },
    {
     "name": "stderr",
     "output_type": "stream",
     "text": [
      "\r",
      "Step 1/3 :   4%|▍         | 224/5000 [00:06<02:16, 34.87it/s]"
     ]
    },
    {
     "name": "stderr",
     "output_type": "stream",
     "text": [
      "\r",
      "Step 1/3 :   4%|▍         | 224/5000 [00:06<02:16, 34.87it/s]"
     ]
    },
    {
     "name": "stderr",
     "output_type": "stream",
     "text": [
      "\r",
      "Step 1/3 :   4%|▍         | 224/5000 [00:06<02:16, 34.87it/s]"
     ]
    },
    {
     "name": "stderr",
     "output_type": "stream",
     "text": [
      "\r",
      "Step 1/3 :   4%|▍         | 224/5000 [00:06<02:16, 34.87it/s]"
     ]
    },
    {
     "name": "stderr",
     "output_type": "stream",
     "text": [
      "\r",
      "Step 1/3 :   4%|▍         | 224/5000 [00:06<02:16, 34.87it/s]"
     ]
    },
    {
     "name": "stderr",
     "output_type": "stream",
     "text": [
      "\r",
      "Step 1/3 :   5%|▍         | 228/5000 [00:06<02:15, 35.21it/s]"
     ]
    },
    {
     "name": "stderr",
     "output_type": "stream",
     "text": [
      "\r",
      "Step 1/3 :   5%|▍         | 228/5000 [00:06<02:15, 35.21it/s]"
     ]
    },
    {
     "name": "stderr",
     "output_type": "stream",
     "text": [
      "\r",
      "Step 1/3 :   5%|▍         | 228/5000 [00:06<02:15, 35.21it/s]"
     ]
    },
    {
     "name": "stderr",
     "output_type": "stream",
     "text": [
      "\r",
      "Step 1/3 :   5%|▍         | 228/5000 [00:06<02:15, 35.21it/s]"
     ]
    },
    {
     "name": "stderr",
     "output_type": "stream",
     "text": [
      "\r",
      "Step 1/3 :   5%|▍         | 228/5000 [00:06<02:15, 35.21it/s]"
     ]
    },
    {
     "name": "stderr",
     "output_type": "stream",
     "text": [
      "\r",
      "Step 1/3 :   5%|▍         | 232/5000 [00:06<02:16, 34.89it/s]"
     ]
    },
    {
     "name": "stderr",
     "output_type": "stream",
     "text": [
      "\r",
      "Step 1/3 :   5%|▍         | 232/5000 [00:06<02:16, 34.89it/s]"
     ]
    },
    {
     "name": "stderr",
     "output_type": "stream",
     "text": [
      "\r",
      "Step 1/3 :   5%|▍         | 232/5000 [00:06<02:16, 34.89it/s]"
     ]
    },
    {
     "name": "stderr",
     "output_type": "stream",
     "text": [
      "\r",
      "Step 1/3 :   5%|▍         | 232/5000 [00:06<02:16, 34.89it/s]"
     ]
    },
    {
     "name": "stderr",
     "output_type": "stream",
     "text": [
      "\r",
      "Step 1/3 :   5%|▍         | 232/5000 [00:07<02:16, 34.89it/s]"
     ]
    },
    {
     "name": "stderr",
     "output_type": "stream",
     "text": [
      "\r",
      "Step 1/3 :   5%|▍         | 236/5000 [00:07<02:17, 34.77it/s]"
     ]
    },
    {
     "name": "stderr",
     "output_type": "stream",
     "text": [
      "\r",
      "Step 1/3 :   5%|▍         | 236/5000 [00:07<02:17, 34.77it/s]"
     ]
    },
    {
     "name": "stderr",
     "output_type": "stream",
     "text": [
      "\r",
      "Step 1/3 :   5%|▍         | 236/5000 [00:07<02:17, 34.77it/s]"
     ]
    },
    {
     "name": "stderr",
     "output_type": "stream",
     "text": [
      "\r",
      "Step 1/3 :   5%|▍         | 236/5000 [00:07<02:17, 34.77it/s]"
     ]
    },
    {
     "name": "stderr",
     "output_type": "stream",
     "text": [
      "\r",
      "Step 1/3 :   5%|▍         | 236/5000 [00:07<02:17, 34.77it/s]"
     ]
    },
    {
     "name": "stderr",
     "output_type": "stream",
     "text": [
      "\r",
      "Step 1/3 :   5%|▍         | 240/5000 [00:07<02:14, 35.33it/s]"
     ]
    },
    {
     "name": "stderr",
     "output_type": "stream",
     "text": [
      "\r",
      "Step 1/3 :   5%|▍         | 240/5000 [00:07<02:14, 35.33it/s]"
     ]
    },
    {
     "name": "stderr",
     "output_type": "stream",
     "text": [
      "\r",
      "Step 1/3 :   5%|▍         | 240/5000 [00:07<02:14, 35.33it/s]"
     ]
    },
    {
     "name": "stderr",
     "output_type": "stream",
     "text": [
      "\r",
      "Step 1/3 :   5%|▍         | 240/5000 [00:07<02:14, 35.33it/s]"
     ]
    },
    {
     "name": "stderr",
     "output_type": "stream",
     "text": [
      "\r",
      "Step 1/3 :   5%|▍         | 240/5000 [00:07<02:14, 35.33it/s]"
     ]
    },
    {
     "name": "stderr",
     "output_type": "stream",
     "text": [
      "\r",
      "Step 1/3 :   5%|▍         | 244/5000 [00:07<02:18, 34.35it/s]"
     ]
    },
    {
     "name": "stderr",
     "output_type": "stream",
     "text": [
      "\r",
      "Step 1/3 :   5%|▍         | 244/5000 [00:07<02:18, 34.35it/s]"
     ]
    },
    {
     "name": "stderr",
     "output_type": "stream",
     "text": [
      "\r",
      "Step 1/3 :   5%|▍         | 244/5000 [00:07<02:18, 34.35it/s]"
     ]
    },
    {
     "name": "stderr",
     "output_type": "stream",
     "text": [
      "\r",
      "Step 1/3 :   5%|▍         | 244/5000 [00:07<02:18, 34.35it/s]"
     ]
    },
    {
     "name": "stderr",
     "output_type": "stream",
     "text": [
      "\r",
      "Step 1/3 :   5%|▍         | 244/5000 [00:07<02:18, 34.35it/s]"
     ]
    },
    {
     "name": "stderr",
     "output_type": "stream",
     "text": [
      "\r",
      "Step 1/3 :   5%|▍         | 248/5000 [00:07<02:19, 33.95it/s]"
     ]
    },
    {
     "name": "stderr",
     "output_type": "stream",
     "text": [
      "\r",
      "Step 1/3 :   5%|▍         | 248/5000 [00:07<02:19, 33.95it/s]"
     ]
    },
    {
     "name": "stderr",
     "output_type": "stream",
     "text": [
      "\r",
      "Step 1/3 :   5%|▍         | 248/5000 [00:07<02:19, 33.95it/s]"
     ]
    },
    {
     "name": "stderr",
     "output_type": "stream",
     "text": [
      "\r",
      "Step 1/3 :   5%|▍         | 248/5000 [00:07<02:19, 33.95it/s]"
     ]
    },
    {
     "name": "stderr",
     "output_type": "stream",
     "text": [
      "\r",
      "Step 1/3 :   5%|▍         | 248/5000 [00:07<02:19, 33.95it/s]"
     ]
    },
    {
     "name": "stderr",
     "output_type": "stream",
     "text": [
      "\r",
      "Step 1/3 :   5%|▌         | 252/5000 [00:07<02:15, 35.00it/s]"
     ]
    },
    {
     "name": "stderr",
     "output_type": "stream",
     "text": [
      "\r",
      "Step 1/3 :   5%|▌         | 252/5000 [00:07<02:15, 35.00it/s]"
     ]
    },
    {
     "name": "stderr",
     "output_type": "stream",
     "text": [
      "\r",
      "Step 1/3 :   5%|▌         | 252/5000 [00:07<02:15, 35.00it/s]"
     ]
    },
    {
     "name": "stderr",
     "output_type": "stream",
     "text": [
      "\r",
      "Step 1/3 :   5%|▌         | 252/5000 [00:07<02:15, 35.00it/s]"
     ]
    },
    {
     "name": "stderr",
     "output_type": "stream",
     "text": [
      "\r",
      "Step 1/3 :   5%|▌         | 252/5000 [00:07<02:15, 35.00it/s]"
     ]
    },
    {
     "name": "stderr",
     "output_type": "stream",
     "text": [
      "\r",
      "Step 1/3 :   5%|▌         | 256/5000 [00:07<02:11, 36.07it/s]"
     ]
    },
    {
     "name": "stderr",
     "output_type": "stream",
     "text": [
      "\r",
      "Step 1/3 :   5%|▌         | 256/5000 [00:07<02:11, 36.07it/s]"
     ]
    },
    {
     "name": "stderr",
     "output_type": "stream",
     "text": [
      "\r",
      "Step 1/3 :   5%|▌         | 256/5000 [00:07<02:11, 36.07it/s]"
     ]
    },
    {
     "name": "stderr",
     "output_type": "stream",
     "text": [
      "\r",
      "Step 1/3 :   5%|▌         | 256/5000 [00:07<02:11, 36.07it/s]"
     ]
    },
    {
     "name": "stderr",
     "output_type": "stream",
     "text": [
      "\r",
      "Step 1/3 :   5%|▌         | 256/5000 [00:07<02:11, 36.07it/s]"
     ]
    },
    {
     "name": "stderr",
     "output_type": "stream",
     "text": [
      "\r",
      "Step 1/3 :   5%|▌         | 260/5000 [00:07<02:12, 35.87it/s]"
     ]
    },
    {
     "name": "stderr",
     "output_type": "stream",
     "text": [
      "\r",
      "Step 1/3 :   5%|▌         | 260/5000 [00:07<02:12, 35.87it/s]"
     ]
    },
    {
     "name": "stderr",
     "output_type": "stream",
     "text": [
      "\r",
      "Step 1/3 :   5%|▌         | 260/5000 [00:07<02:12, 35.87it/s]"
     ]
    },
    {
     "name": "stderr",
     "output_type": "stream",
     "text": [
      "\r",
      "Step 1/3 :   5%|▌         | 260/5000 [00:07<02:12, 35.87it/s]"
     ]
    },
    {
     "name": "stderr",
     "output_type": "stream",
     "text": [
      "\r",
      "Step 1/3 :   5%|▌         | 260/5000 [00:07<02:12, 35.87it/s]"
     ]
    },
    {
     "name": "stderr",
     "output_type": "stream",
     "text": [
      "\r",
      "Step 1/3 :   5%|▌         | 264/5000 [00:07<02:16, 34.79it/s]"
     ]
    },
    {
     "name": "stderr",
     "output_type": "stream",
     "text": [
      "\r",
      "Step 1/3 :   5%|▌         | 264/5000 [00:07<02:16, 34.79it/s]"
     ]
    },
    {
     "name": "stderr",
     "output_type": "stream",
     "text": [
      "\r",
      "Step 1/3 :   5%|▌         | 264/5000 [00:07<02:16, 34.79it/s]"
     ]
    },
    {
     "name": "stderr",
     "output_type": "stream",
     "text": [
      "\r",
      "Step 1/3 :   5%|▌         | 264/5000 [00:07<02:16, 34.79it/s]"
     ]
    },
    {
     "name": "stderr",
     "output_type": "stream",
     "text": [
      "\r",
      "Step 1/3 :   5%|▌         | 264/5000 [00:07<02:16, 34.79it/s]"
     ]
    },
    {
     "name": "stderr",
     "output_type": "stream",
     "text": [
      "\r",
      "Step 1/3 :   5%|▌         | 268/5000 [00:07<02:15, 34.88it/s]"
     ]
    },
    {
     "name": "stderr",
     "output_type": "stream",
     "text": [
      "\r",
      "Step 1/3 :   5%|▌         | 268/5000 [00:07<02:15, 34.88it/s]"
     ]
    },
    {
     "name": "stderr",
     "output_type": "stream",
     "text": [
      "\r",
      "Step 1/3 :   5%|▌         | 268/5000 [00:07<02:15, 34.88it/s]"
     ]
    },
    {
     "name": "stderr",
     "output_type": "stream",
     "text": [
      "\r",
      "Step 1/3 :   5%|▌         | 268/5000 [00:08<02:15, 34.88it/s]"
     ]
    },
    {
     "name": "stderr",
     "output_type": "stream",
     "text": [
      "\r",
      "Step 1/3 :   5%|▌         | 268/5000 [00:08<02:15, 34.88it/s]"
     ]
    },
    {
     "name": "stderr",
     "output_type": "stream",
     "text": [
      "\r",
      "Step 1/3 :   5%|▌         | 272/5000 [00:08<02:14, 35.22it/s]"
     ]
    },
    {
     "name": "stderr",
     "output_type": "stream",
     "text": [
      "\r",
      "Step 1/3 :   5%|▌         | 272/5000 [00:08<02:14, 35.22it/s]"
     ]
    },
    {
     "name": "stderr",
     "output_type": "stream",
     "text": [
      "\r",
      "Step 1/3 :   5%|▌         | 272/5000 [00:08<02:14, 35.22it/s]"
     ]
    },
    {
     "name": "stderr",
     "output_type": "stream",
     "text": [
      "\r",
      "Step 1/3 :   5%|▌         | 272/5000 [00:08<02:14, 35.22it/s]"
     ]
    },
    {
     "name": "stderr",
     "output_type": "stream",
     "text": [
      "\r",
      "Step 1/3 :   5%|▌         | 272/5000 [00:08<02:14, 35.22it/s]"
     ]
    },
    {
     "name": "stderr",
     "output_type": "stream",
     "text": [
      "\r",
      "Step 1/3 :   6%|▌         | 276/5000 [00:08<02:16, 34.72it/s]"
     ]
    },
    {
     "name": "stderr",
     "output_type": "stream",
     "text": [
      "\r",
      "Step 1/3 :   6%|▌         | 276/5000 [00:08<02:16, 34.72it/s]"
     ]
    },
    {
     "name": "stderr",
     "output_type": "stream",
     "text": [
      "\r",
      "Step 1/3 :   6%|▌         | 276/5000 [00:08<02:16, 34.72it/s]"
     ]
    },
    {
     "name": "stderr",
     "output_type": "stream",
     "text": [
      "\r",
      "Step 1/3 :   6%|▌         | 276/5000 [00:08<02:16, 34.72it/s]"
     ]
    },
    {
     "name": "stderr",
     "output_type": "stream",
     "text": [
      "\r",
      "Step 1/3 :   6%|▌         | 276/5000 [00:08<02:16, 34.72it/s]"
     ]
    },
    {
     "name": "stderr",
     "output_type": "stream",
     "text": [
      "\r",
      "Step 1/3 :   6%|▌         | 280/5000 [00:08<02:17, 34.20it/s]"
     ]
    },
    {
     "name": "stderr",
     "output_type": "stream",
     "text": [
      "\r",
      "Step 1/3 :   6%|▌         | 280/5000 [00:08<02:17, 34.20it/s]"
     ]
    },
    {
     "name": "stderr",
     "output_type": "stream",
     "text": [
      "\r",
      "Step 1/3 :   6%|▌         | 280/5000 [00:08<02:17, 34.20it/s]"
     ]
    },
    {
     "name": "stderr",
     "output_type": "stream",
     "text": [
      "\r",
      "Step 1/3 :   6%|▌         | 280/5000 [00:08<02:17, 34.20it/s]"
     ]
    },
    {
     "name": "stderr",
     "output_type": "stream",
     "text": [
      "\r",
      "Step 1/3 :   6%|▌         | 280/5000 [00:08<02:17, 34.20it/s]"
     ]
    },
    {
     "name": "stderr",
     "output_type": "stream",
     "text": [
      "\r",
      "Step 1/3 :   6%|▌         | 284/5000 [00:08<02:13, 35.29it/s]"
     ]
    },
    {
     "name": "stderr",
     "output_type": "stream",
     "text": [
      "\r",
      "Step 1/3 :   6%|▌         | 284/5000 [00:08<02:13, 35.29it/s]"
     ]
    },
    {
     "name": "stderr",
     "output_type": "stream",
     "text": [
      "\r",
      "Step 1/3 :   6%|▌         | 284/5000 [00:08<02:13, 35.29it/s]"
     ]
    },
    {
     "name": "stderr",
     "output_type": "stream",
     "text": [
      "\r",
      "Step 1/3 :   6%|▌         | 284/5000 [00:08<02:13, 35.29it/s]"
     ]
    },
    {
     "name": "stderr",
     "output_type": "stream",
     "text": [
      "\r",
      "Step 1/3 :   6%|▌         | 284/5000 [00:08<02:13, 35.29it/s]"
     ]
    },
    {
     "name": "stderr",
     "output_type": "stream",
     "text": [
      "\r",
      "Step 1/3 :   6%|▌         | 288/5000 [00:08<02:18, 34.14it/s]"
     ]
    },
    {
     "name": "stderr",
     "output_type": "stream",
     "text": [
      "\r",
      "Step 1/3 :   6%|▌         | 288/5000 [00:08<02:18, 34.14it/s]"
     ]
    },
    {
     "name": "stderr",
     "output_type": "stream",
     "text": [
      "\r",
      "Step 1/3 :   6%|▌         | 288/5000 [00:08<02:18, 34.14it/s]"
     ]
    },
    {
     "name": "stderr",
     "output_type": "stream",
     "text": [
      "\r",
      "Step 1/3 :   6%|▌         | 288/5000 [00:08<02:18, 34.14it/s]"
     ]
    },
    {
     "name": "stderr",
     "output_type": "stream",
     "text": [
      "\r",
      "Step 1/3 :   6%|▌         | 288/5000 [00:08<02:18, 34.14it/s]"
     ]
    },
    {
     "name": "stderr",
     "output_type": "stream",
     "text": [
      "\r",
      "Step 1/3 :   6%|▌         | 292/5000 [00:08<02:13, 35.33it/s]"
     ]
    },
    {
     "name": "stderr",
     "output_type": "stream",
     "text": [
      "\r",
      "Step 1/3 :   6%|▌         | 292/5000 [00:08<02:13, 35.33it/s]"
     ]
    },
    {
     "name": "stderr",
     "output_type": "stream",
     "text": [
      "\r",
      "Step 1/3 :   6%|▌         | 292/5000 [00:08<02:13, 35.33it/s]"
     ]
    },
    {
     "name": "stderr",
     "output_type": "stream",
     "text": [
      "\r",
      "Step 1/3 :   6%|▌         | 292/5000 [00:08<02:13, 35.33it/s]"
     ]
    },
    {
     "name": "stderr",
     "output_type": "stream",
     "text": [
      "\r",
      "Step 1/3 :   6%|▌         | 292/5000 [00:08<02:13, 35.33it/s]"
     ]
    },
    {
     "name": "stderr",
     "output_type": "stream",
     "text": [
      "\r",
      "Step 1/3 :   6%|▌         | 296/5000 [00:08<02:09, 36.32it/s]"
     ]
    },
    {
     "name": "stderr",
     "output_type": "stream",
     "text": [
      "\r",
      "Step 1/3 :   6%|▌         | 296/5000 [00:08<02:09, 36.32it/s]"
     ]
    },
    {
     "name": "stderr",
     "output_type": "stream",
     "text": [
      "\r",
      "Step 1/3 :   6%|▌         | 296/5000 [00:08<02:09, 36.32it/s]"
     ]
    },
    {
     "name": "stderr",
     "output_type": "stream",
     "text": [
      "\r",
      "Step 1/3 :   6%|▌         | 296/5000 [00:08<02:09, 36.32it/s]"
     ]
    },
    {
     "name": "stderr",
     "output_type": "stream",
     "text": [
      "\r",
      "Step 1/3 :   6%|▌         | 296/5000 [00:08<02:09, 36.32it/s]"
     ]
    },
    {
     "name": "stderr",
     "output_type": "stream",
     "text": [
      "\r",
      "Step 1/3 :   6%|▌         | 300/5000 [00:08<02:08, 36.63it/s]"
     ]
    },
    {
     "name": "stderr",
     "output_type": "stream",
     "text": [
      "\r",
      "Step 1/3 :   6%|▌         | 300/5000 [00:08<02:08, 36.63it/s]"
     ]
    },
    {
     "name": "stderr",
     "output_type": "stream",
     "text": [
      "\r",
      "Step 1/3 :   6%|▌         | 300/5000 [00:08<02:08, 36.63it/s]"
     ]
    },
    {
     "name": "stderr",
     "output_type": "stream",
     "text": [
      "\r",
      "Step 1/3 :   6%|▌         | 300/5000 [00:08<02:08, 36.63it/s]"
     ]
    },
    {
     "name": "stderr",
     "output_type": "stream",
     "text": [
      "\r",
      "Step 1/3 :   6%|▌         | 300/5000 [00:08<02:08, 36.63it/s]"
     ]
    },
    {
     "name": "stderr",
     "output_type": "stream",
     "text": [
      "\r",
      "Step 1/3 :   6%|▌         | 300/5000 [00:08<02:08, 36.63it/s]"
     ]
    },
    {
     "name": "stderr",
     "output_type": "stream",
     "text": [
      "\r",
      "Step 1/3 :   6%|▌         | 305/5000 [00:08<02:03, 38.04it/s]"
     ]
    },
    {
     "name": "stderr",
     "output_type": "stream",
     "text": [
      "\r",
      "Step 1/3 :   6%|▌         | 305/5000 [00:08<02:03, 38.04it/s]"
     ]
    },
    {
     "name": "stderr",
     "output_type": "stream",
     "text": [
      "\r",
      "Step 1/3 :   6%|▌         | 305/5000 [00:09<02:03, 38.04it/s]"
     ]
    },
    {
     "name": "stderr",
     "output_type": "stream",
     "text": [
      "\r",
      "Step 1/3 :   6%|▌         | 305/5000 [00:09<02:03, 38.04it/s]"
     ]
    },
    {
     "name": "stderr",
     "output_type": "stream",
     "text": [
      "\r",
      "Step 1/3 :   6%|▌         | 305/5000 [00:09<02:03, 38.04it/s]"
     ]
    },
    {
     "name": "stderr",
     "output_type": "stream",
     "text": [
      "\r",
      "Step 1/3 :   6%|▌         | 309/5000 [00:09<02:02, 38.26it/s]"
     ]
    },
    {
     "name": "stderr",
     "output_type": "stream",
     "text": [
      "\r",
      "Step 1/3 :   6%|▌         | 309/5000 [00:09<02:02, 38.26it/s]"
     ]
    },
    {
     "name": "stderr",
     "output_type": "stream",
     "text": [
      "\r",
      "Step 1/3 :   6%|▌         | 309/5000 [00:09<02:02, 38.26it/s]"
     ]
    },
    {
     "name": "stderr",
     "output_type": "stream",
     "text": [
      "\r",
      "Step 1/3 :   6%|▌         | 309/5000 [00:09<02:02, 38.26it/s]"
     ]
    },
    {
     "name": "stderr",
     "output_type": "stream",
     "text": [
      "\r",
      "Step 1/3 :   6%|▌         | 309/5000 [00:09<02:02, 38.26it/s]"
     ]
    },
    {
     "name": "stderr",
     "output_type": "stream",
     "text": [
      "\r",
      "Step 1/3 :   6%|▌         | 309/5000 [00:09<02:02, 38.26it/s]"
     ]
    },
    {
     "name": "stderr",
     "output_type": "stream",
     "text": [
      "\r",
      "Step 1/3 :   6%|▋         | 314/5000 [00:09<02:01, 38.68it/s]"
     ]
    },
    {
     "name": "stderr",
     "output_type": "stream",
     "text": [
      "\r",
      "Step 1/3 :   6%|▋         | 314/5000 [00:09<02:01, 38.68it/s]"
     ]
    },
    {
     "name": "stderr",
     "output_type": "stream",
     "text": [
      "\r",
      "Step 1/3 :   6%|▋         | 314/5000 [00:09<02:01, 38.68it/s]"
     ]
    },
    {
     "name": "stderr",
     "output_type": "stream",
     "text": [
      "\r",
      "Step 1/3 :   6%|▋         | 314/5000 [00:09<02:01, 38.68it/s]"
     ]
    },
    {
     "name": "stderr",
     "output_type": "stream",
     "text": [
      "\r",
      "Step 1/3 :   6%|▋         | 314/5000 [00:09<02:01, 38.68it/s]"
     ]
    },
    {
     "name": "stderr",
     "output_type": "stream",
     "text": [
      "\r",
      "Step 1/3 :   6%|▋         | 318/5000 [00:09<02:08, 36.37it/s]"
     ]
    },
    {
     "name": "stderr",
     "output_type": "stream",
     "text": [
      "\r",
      "Step 1/3 :   6%|▋         | 318/5000 [00:09<02:08, 36.37it/s]"
     ]
    },
    {
     "name": "stderr",
     "output_type": "stream",
     "text": [
      "\r",
      "Step 1/3 :   6%|▋         | 318/5000 [00:09<02:08, 36.37it/s]"
     ]
    },
    {
     "name": "stderr",
     "output_type": "stream",
     "text": [
      "\r",
      "Step 1/3 :   6%|▋         | 318/5000 [00:09<02:08, 36.37it/s]"
     ]
    },
    {
     "name": "stderr",
     "output_type": "stream",
     "text": [
      "\r",
      "Step 1/3 :   6%|▋         | 318/5000 [00:09<02:08, 36.37it/s]"
     ]
    },
    {
     "name": "stderr",
     "output_type": "stream",
     "text": [
      "\r",
      "Step 1/3 :   6%|▋         | 322/5000 [00:09<02:13, 35.01it/s]"
     ]
    },
    {
     "name": "stderr",
     "output_type": "stream",
     "text": [
      "\r",
      "Step 1/3 :   6%|▋         | 322/5000 [00:09<02:13, 35.01it/s]"
     ]
    },
    {
     "name": "stderr",
     "output_type": "stream",
     "text": [
      "\r",
      "Step 1/3 :   6%|▋         | 322/5000 [00:09<02:13, 35.01it/s]"
     ]
    },
    {
     "name": "stderr",
     "output_type": "stream",
     "text": [
      "\r",
      "Step 1/3 :   6%|▋         | 322/5000 [00:09<02:13, 35.01it/s]"
     ]
    },
    {
     "name": "stderr",
     "output_type": "stream",
     "text": [
      "\r",
      "Step 1/3 :   6%|▋         | 322/5000 [00:09<02:13, 35.01it/s]"
     ]
    },
    {
     "name": "stderr",
     "output_type": "stream",
     "text": [
      "\r",
      "Step 1/3 :   7%|▋         | 326/5000 [00:09<02:16, 34.34it/s]"
     ]
    },
    {
     "name": "stderr",
     "output_type": "stream",
     "text": [
      "\r",
      "Step 1/3 :   7%|▋         | 326/5000 [00:09<02:16, 34.34it/s]"
     ]
    },
    {
     "name": "stderr",
     "output_type": "stream",
     "text": [
      "\r",
      "Step 1/3 :   7%|▋         | 326/5000 [00:09<02:16, 34.34it/s]"
     ]
    },
    {
     "name": "stderr",
     "output_type": "stream",
     "text": [
      "\r",
      "Step 1/3 :   7%|▋         | 326/5000 [00:09<02:16, 34.34it/s]"
     ]
    },
    {
     "name": "stderr",
     "output_type": "stream",
     "text": [
      "\r",
      "Step 1/3 :   7%|▋         | 326/5000 [00:09<02:16, 34.34it/s]"
     ]
    },
    {
     "name": "stderr",
     "output_type": "stream",
     "text": [
      "\r",
      "Step 1/3 :   7%|▋         | 330/5000 [00:09<02:14, 34.73it/s]"
     ]
    },
    {
     "name": "stderr",
     "output_type": "stream",
     "text": [
      "\r",
      "Step 1/3 :   7%|▋         | 330/5000 [00:09<02:14, 34.73it/s]"
     ]
    },
    {
     "name": "stderr",
     "output_type": "stream",
     "text": [
      "\r",
      "Step 1/3 :   7%|▋         | 330/5000 [00:09<02:14, 34.73it/s]"
     ]
    },
    {
     "name": "stderr",
     "output_type": "stream",
     "text": [
      "\r",
      "Step 1/3 :   7%|▋         | 330/5000 [00:09<02:14, 34.73it/s]"
     ]
    },
    {
     "name": "stderr",
     "output_type": "stream",
     "text": [
      "\r",
      "Step 1/3 :   7%|▋         | 330/5000 [00:09<02:14, 34.73it/s]"
     ]
    },
    {
     "name": "stderr",
     "output_type": "stream",
     "text": [
      "\r",
      "Step 1/3 :   7%|▋         | 334/5000 [00:09<02:09, 35.94it/s]"
     ]
    },
    {
     "name": "stderr",
     "output_type": "stream",
     "text": [
      "\r",
      "Step 1/3 :   7%|▋         | 334/5000 [00:09<02:09, 35.94it/s]"
     ]
    },
    {
     "name": "stderr",
     "output_type": "stream",
     "text": [
      "\r",
      "Step 1/3 :   7%|▋         | 334/5000 [00:09<02:09, 35.94it/s]"
     ]
    },
    {
     "name": "stderr",
     "output_type": "stream",
     "text": [
      "\r",
      "Step 1/3 :   7%|▋         | 334/5000 [00:09<02:09, 35.94it/s]"
     ]
    },
    {
     "name": "stderr",
     "output_type": "stream",
     "text": [
      "\r",
      "Step 1/3 :   7%|▋         | 334/5000 [00:09<02:09, 35.94it/s]"
     ]
    },
    {
     "name": "stderr",
     "output_type": "stream",
     "text": [
      "\r",
      "Step 1/3 :   7%|▋         | 334/5000 [00:09<02:09, 35.94it/s]"
     ]
    },
    {
     "name": "stderr",
     "output_type": "stream",
     "text": [
      "\r",
      "Step 1/3 :   7%|▋         | 339/5000 [00:09<02:04, 37.34it/s]"
     ]
    },
    {
     "name": "stderr",
     "output_type": "stream",
     "text": [
      "\r",
      "Step 1/3 :   7%|▋         | 339/5000 [00:09<02:04, 37.34it/s]"
     ]
    },
    {
     "name": "stderr",
     "output_type": "stream",
     "text": [
      "\r",
      "Step 1/3 :   7%|▋         | 339/5000 [00:09<02:04, 37.34it/s]"
     ]
    },
    {
     "name": "stderr",
     "output_type": "stream",
     "text": [
      "\r",
      "Step 1/3 :   7%|▋         | 339/5000 [00:09<02:04, 37.34it/s]"
     ]
    },
    {
     "name": "stderr",
     "output_type": "stream",
     "text": [
      "\r",
      "Step 1/3 :   7%|▋         | 339/5000 [00:09<02:04, 37.34it/s]"
     ]
    },
    {
     "name": "stderr",
     "output_type": "stream",
     "text": [
      "\r",
      "Step 1/3 :   7%|▋         | 339/5000 [00:10<02:04, 37.34it/s]"
     ]
    },
    {
     "name": "stderr",
     "output_type": "stream",
     "text": [
      "\r",
      "Step 1/3 :   7%|▋         | 344/5000 [00:10<02:01, 38.46it/s]"
     ]
    },
    {
     "name": "stderr",
     "output_type": "stream",
     "text": [
      "\r",
      "Step 1/3 :   7%|▋         | 344/5000 [00:10<02:01, 38.46it/s]"
     ]
    },
    {
     "name": "stderr",
     "output_type": "stream",
     "text": [
      "\r",
      "Step 1/3 :   7%|▋         | 344/5000 [00:10<02:01, 38.46it/s]"
     ]
    },
    {
     "name": "stderr",
     "output_type": "stream",
     "text": [
      "\r",
      "Step 1/3 :   7%|▋         | 344/5000 [00:10<02:01, 38.46it/s]"
     ]
    },
    {
     "name": "stderr",
     "output_type": "stream",
     "text": [
      "\r",
      "Step 1/3 :   7%|▋         | 344/5000 [00:10<02:01, 38.46it/s]"
     ]
    },
    {
     "name": "stderr",
     "output_type": "stream",
     "text": [
      "\r",
      "Step 1/3 :   7%|▋         | 348/5000 [00:10<02:02, 38.06it/s]"
     ]
    },
    {
     "name": "stderr",
     "output_type": "stream",
     "text": [
      "\r",
      "Step 1/3 :   7%|▋         | 348/5000 [00:10<02:02, 38.06it/s]"
     ]
    },
    {
     "name": "stderr",
     "output_type": "stream",
     "text": [
      "\r",
      "Step 1/3 :   7%|▋         | 348/5000 [00:10<02:02, 38.06it/s]"
     ]
    },
    {
     "name": "stderr",
     "output_type": "stream",
     "text": [
      "\r",
      "Step 1/3 :   7%|▋         | 348/5000 [00:10<02:02, 38.06it/s]"
     ]
    },
    {
     "name": "stderr",
     "output_type": "stream",
     "text": [
      "\r",
      "Step 1/3 :   7%|▋         | 348/5000 [00:10<02:02, 38.06it/s]"
     ]
    },
    {
     "name": "stderr",
     "output_type": "stream",
     "text": [
      "\r",
      "Step 1/3 :   7%|▋         | 348/5000 [00:10<02:02, 38.06it/s]"
     ]
    },
    {
     "name": "stderr",
     "output_type": "stream",
     "text": [
      "\r",
      "Step 1/3 :   7%|▋         | 353/5000 [00:10<01:59, 38.87it/s]"
     ]
    },
    {
     "name": "stderr",
     "output_type": "stream",
     "text": [
      "\r",
      "Step 1/3 :   7%|▋         | 353/5000 [00:10<01:59, 38.87it/s]"
     ]
    },
    {
     "name": "stderr",
     "output_type": "stream",
     "text": [
      "\r",
      "Step 1/3 :   7%|▋         | 353/5000 [00:10<01:59, 38.87it/s]"
     ]
    },
    {
     "name": "stderr",
     "output_type": "stream",
     "text": [
      "\r",
      "Step 1/3 :   7%|▋         | 353/5000 [00:10<01:59, 38.87it/s]"
     ]
    },
    {
     "name": "stderr",
     "output_type": "stream",
     "text": [
      "\r",
      "Step 1/3 :   7%|▋         | 353/5000 [00:10<01:59, 38.87it/s]"
     ]
    },
    {
     "name": "stderr",
     "output_type": "stream",
     "text": [
      "\r",
      "Step 1/3 :   7%|▋         | 357/5000 [00:10<01:59, 38.75it/s]"
     ]
    },
    {
     "name": "stderr",
     "output_type": "stream",
     "text": [
      "\r",
      "Step 1/3 :   7%|▋         | 357/5000 [00:10<01:59, 38.75it/s]"
     ]
    },
    {
     "name": "stderr",
     "output_type": "stream",
     "text": [
      "\r",
      "Step 1/3 :   7%|▋         | 357/5000 [00:10<01:59, 38.75it/s]"
     ]
    },
    {
     "name": "stderr",
     "output_type": "stream",
     "text": [
      "\r",
      "Step 1/3 :   7%|▋         | 357/5000 [00:10<01:59, 38.75it/s]"
     ]
    },
    {
     "name": "stderr",
     "output_type": "stream",
     "text": [
      "\r",
      "Step 1/3 :   7%|▋         | 357/5000 [00:10<01:59, 38.75it/s]"
     ]
    },
    {
     "name": "stderr",
     "output_type": "stream",
     "text": [
      "\r",
      "Step 1/3 :   7%|▋         | 361/5000 [00:10<02:00, 38.37it/s]"
     ]
    },
    {
     "name": "stderr",
     "output_type": "stream",
     "text": [
      "\r",
      "Step 1/3 :   7%|▋         | 361/5000 [00:10<02:00, 38.37it/s]"
     ]
    },
    {
     "name": "stderr",
     "output_type": "stream",
     "text": [
      "\r",
      "Step 1/3 :   7%|▋         | 361/5000 [00:10<02:00, 38.37it/s]"
     ]
    },
    {
     "name": "stderr",
     "output_type": "stream",
     "text": [
      "\r",
      "Step 1/3 :   7%|▋         | 361/5000 [00:10<02:00, 38.37it/s]"
     ]
    },
    {
     "name": "stderr",
     "output_type": "stream",
     "text": [
      "\r",
      "Step 1/3 :   7%|▋         | 361/5000 [00:10<02:00, 38.37it/s]"
     ]
    },
    {
     "name": "stderr",
     "output_type": "stream",
     "text": [
      "\r",
      "Step 1/3 :   7%|▋         | 365/5000 [00:10<02:14, 34.42it/s]"
     ]
    },
    {
     "name": "stderr",
     "output_type": "stream",
     "text": [
      "\r",
      "Step 1/3 :   7%|▋         | 365/5000 [00:10<02:14, 34.42it/s]"
     ]
    },
    {
     "name": "stderr",
     "output_type": "stream",
     "text": [
      "\r",
      "Step 1/3 :   7%|▋         | 365/5000 [00:10<02:14, 34.42it/s]"
     ]
    },
    {
     "name": "stderr",
     "output_type": "stream",
     "text": [
      "\r",
      "Step 1/3 :   7%|▋         | 365/5000 [00:10<02:14, 34.42it/s]"
     ]
    },
    {
     "name": "stderr",
     "output_type": "stream",
     "text": [
      "\r",
      "Step 1/3 :   7%|▋         | 365/5000 [00:10<02:14, 34.42it/s]"
     ]
    },
    {
     "name": "stderr",
     "output_type": "stream",
     "text": [
      "\r",
      "Step 1/3 :   7%|▋         | 369/5000 [00:10<02:12, 34.88it/s]"
     ]
    },
    {
     "name": "stderr",
     "output_type": "stream",
     "text": [
      "\r",
      "Step 1/3 :   7%|▋         | 369/5000 [00:10<02:12, 34.88it/s]"
     ]
    },
    {
     "name": "stderr",
     "output_type": "stream",
     "text": [
      "\r",
      "Step 1/3 :   7%|▋         | 369/5000 [00:10<02:12, 34.88it/s]"
     ]
    },
    {
     "name": "stderr",
     "output_type": "stream",
     "text": [
      "\r",
      "Step 1/3 :   7%|▋         | 369/5000 [00:10<02:12, 34.88it/s]"
     ]
    },
    {
     "name": "stderr",
     "output_type": "stream",
     "text": [
      "\r",
      "Step 1/3 :   7%|▋         | 369/5000 [00:10<02:12, 34.88it/s]"
     ]
    },
    {
     "name": "stderr",
     "output_type": "stream",
     "text": [
      "\r",
      "Step 1/3 :   7%|▋         | 373/5000 [00:10<02:07, 36.23it/s]"
     ]
    },
    {
     "name": "stderr",
     "output_type": "stream",
     "text": [
      "\r",
      "Step 1/3 :   7%|▋         | 373/5000 [00:10<02:07, 36.23it/s]"
     ]
    },
    {
     "name": "stderr",
     "output_type": "stream",
     "text": [
      "\r",
      "Step 1/3 :   7%|▋         | 373/5000 [00:10<02:07, 36.23it/s]"
     ]
    },
    {
     "name": "stderr",
     "output_type": "stream",
     "text": [
      "\r",
      "Step 1/3 :   7%|▋         | 373/5000 [00:10<02:07, 36.23it/s]"
     ]
    },
    {
     "name": "stderr",
     "output_type": "stream",
     "text": [
      "\r",
      "Step 1/3 :   7%|▋         | 373/5000 [00:10<02:07, 36.23it/s]"
     ]
    },
    {
     "name": "stderr",
     "output_type": "stream",
     "text": [
      "\r",
      "Step 1/3 :   8%|▊         | 377/5000 [00:10<02:06, 36.67it/s]"
     ]
    },
    {
     "name": "stderr",
     "output_type": "stream",
     "text": [
      "\r",
      "Step 1/3 :   8%|▊         | 377/5000 [00:10<02:06, 36.67it/s]"
     ]
    },
    {
     "name": "stderr",
     "output_type": "stream",
     "text": [
      "\r",
      "Step 1/3 :   8%|▊         | 377/5000 [00:10<02:06, 36.67it/s]"
     ]
    },
    {
     "name": "stderr",
     "output_type": "stream",
     "text": [
      "\r",
      "Step 1/3 :   8%|▊         | 377/5000 [00:10<02:06, 36.67it/s]"
     ]
    },
    {
     "name": "stderr",
     "output_type": "stream",
     "text": [
      "\r",
      "Step 1/3 :   8%|▊         | 377/5000 [00:11<02:06, 36.67it/s]"
     ]
    },
    {
     "name": "stderr",
     "output_type": "stream",
     "text": [
      "\r",
      "Step 1/3 :   8%|▊         | 377/5000 [00:11<02:06, 36.67it/s]"
     ]
    },
    {
     "name": "stderr",
     "output_type": "stream",
     "text": [
      "\r",
      "Step 1/3 :   8%|▊         | 382/5000 [00:11<02:01, 38.15it/s]"
     ]
    },
    {
     "name": "stderr",
     "output_type": "stream",
     "text": [
      "\r",
      "Step 1/3 :   8%|▊         | 382/5000 [00:11<02:01, 38.15it/s]"
     ]
    },
    {
     "name": "stderr",
     "output_type": "stream",
     "text": [
      "\r",
      "Step 1/3 :   8%|▊         | 382/5000 [00:11<02:01, 38.15it/s]"
     ]
    },
    {
     "name": "stderr",
     "output_type": "stream",
     "text": [
      "\r",
      "Step 1/3 :   8%|▊         | 382/5000 [00:11<02:01, 38.15it/s]"
     ]
    },
    {
     "name": "stderr",
     "output_type": "stream",
     "text": [
      "\r",
      "Step 1/3 :   8%|▊         | 382/5000 [00:11<02:01, 38.15it/s]"
     ]
    },
    {
     "name": "stderr",
     "output_type": "stream",
     "text": [
      "\r",
      "Step 1/3 :   8%|▊         | 386/5000 [00:11<02:02, 37.73it/s]"
     ]
    },
    {
     "name": "stderr",
     "output_type": "stream",
     "text": [
      "\r",
      "Step 1/3 :   8%|▊         | 386/5000 [00:11<02:02, 37.73it/s]"
     ]
    },
    {
     "name": "stderr",
     "output_type": "stream",
     "text": [
      "\r",
      "Step 1/3 :   8%|▊         | 386/5000 [00:11<02:02, 37.73it/s]"
     ]
    },
    {
     "name": "stderr",
     "output_type": "stream",
     "text": [
      "\r",
      "Step 1/3 :   8%|▊         | 386/5000 [00:11<02:02, 37.73it/s]"
     ]
    },
    {
     "name": "stderr",
     "output_type": "stream",
     "text": [
      "\r",
      "Step 1/3 :   8%|▊         | 386/5000 [00:11<02:02, 37.73it/s]"
     ]
    },
    {
     "name": "stderr",
     "output_type": "stream",
     "text": [
      "\r",
      "Step 1/3 :   8%|▊         | 390/5000 [00:11<02:00, 38.25it/s]"
     ]
    },
    {
     "name": "stderr",
     "output_type": "stream",
     "text": [
      "\r",
      "Step 1/3 :   8%|▊         | 390/5000 [00:11<02:00, 38.25it/s]"
     ]
    },
    {
     "name": "stderr",
     "output_type": "stream",
     "text": [
      "\r",
      "Step 1/3 :   8%|▊         | 390/5000 [00:11<02:00, 38.25it/s]"
     ]
    },
    {
     "name": "stderr",
     "output_type": "stream",
     "text": [
      "\r",
      "Step 1/3 :   8%|▊         | 390/5000 [00:11<02:00, 38.25it/s]"
     ]
    },
    {
     "name": "stderr",
     "output_type": "stream",
     "text": [
      "\r",
      "Step 1/3 :   8%|▊         | 390/5000 [00:11<02:00, 38.25it/s]"
     ]
    },
    {
     "name": "stderr",
     "output_type": "stream",
     "text": [
      "\r",
      "Step 1/3 :   8%|▊         | 394/5000 [00:11<02:02, 37.47it/s]"
     ]
    },
    {
     "name": "stderr",
     "output_type": "stream",
     "text": [
      "\r",
      "Step 1/3 :   8%|▊         | 394/5000 [00:11<02:02, 37.47it/s]"
     ]
    },
    {
     "name": "stderr",
     "output_type": "stream",
     "text": [
      "\r",
      "Step 1/3 :   8%|▊         | 394/5000 [00:11<02:02, 37.47it/s]"
     ]
    },
    {
     "name": "stderr",
     "output_type": "stream",
     "text": [
      "\r",
      "Step 1/3 :   8%|▊         | 394/5000 [00:11<02:02, 37.47it/s]"
     ]
    },
    {
     "name": "stderr",
     "output_type": "stream",
     "text": [
      "\r",
      "Step 1/3 :   8%|▊         | 394/5000 [00:11<02:02, 37.47it/s]"
     ]
    },
    {
     "name": "stderr",
     "output_type": "stream",
     "text": [
      "\r",
      "Step 1/3 :   8%|▊         | 398/5000 [00:11<02:05, 36.54it/s]"
     ]
    },
    {
     "name": "stderr",
     "output_type": "stream",
     "text": [
      "\r",
      "Step 1/3 :   8%|▊         | 398/5000 [00:11<02:05, 36.54it/s]"
     ]
    },
    {
     "name": "stderr",
     "output_type": "stream",
     "text": [
      "\r",
      "Step 1/3 :   8%|▊         | 398/5000 [00:11<02:05, 36.54it/s]"
     ]
    },
    {
     "name": "stderr",
     "output_type": "stream",
     "text": [
      "\r",
      "Step 1/3 :   8%|▊         | 398/5000 [00:11<02:05, 36.54it/s]"
     ]
    },
    {
     "name": "stderr",
     "output_type": "stream",
     "text": [
      "\r",
      "Step 1/3 :   8%|▊         | 398/5000 [00:11<02:05, 36.54it/s]"
     ]
    },
    {
     "name": "stderr",
     "output_type": "stream",
     "text": [
      "\r",
      "Step 1/3 :   8%|▊         | 402/5000 [00:11<02:08, 35.72it/s]"
     ]
    },
    {
     "name": "stderr",
     "output_type": "stream",
     "text": [
      "\r",
      "Step 1/3 :   8%|▊         | 402/5000 [00:11<02:08, 35.72it/s]"
     ]
    },
    {
     "name": "stderr",
     "output_type": "stream",
     "text": [
      "\r",
      "Step 1/3 :   8%|▊         | 402/5000 [00:11<02:08, 35.72it/s]"
     ]
    },
    {
     "name": "stderr",
     "output_type": "stream",
     "text": [
      "\r",
      "Step 1/3 :   8%|▊         | 402/5000 [00:11<02:08, 35.72it/s]"
     ]
    },
    {
     "name": "stderr",
     "output_type": "stream",
     "text": [
      "\r",
      "Step 1/3 :   8%|▊         | 402/5000 [00:11<02:08, 35.72it/s]"
     ]
    },
    {
     "name": "stderr",
     "output_type": "stream",
     "text": [
      "\r",
      "Step 1/3 :   8%|▊         | 406/5000 [00:11<02:06, 36.20it/s]"
     ]
    },
    {
     "name": "stderr",
     "output_type": "stream",
     "text": [
      "\r",
      "Step 1/3 :   8%|▊         | 406/5000 [00:11<02:06, 36.20it/s]"
     ]
    },
    {
     "name": "stderr",
     "output_type": "stream",
     "text": [
      "\r",
      "Step 1/3 :   8%|▊         | 406/5000 [00:11<02:06, 36.20it/s]"
     ]
    },
    {
     "name": "stderr",
     "output_type": "stream",
     "text": [
      "\r",
      "Step 1/3 :   8%|▊         | 406/5000 [00:11<02:06, 36.20it/s]"
     ]
    },
    {
     "name": "stderr",
     "output_type": "stream",
     "text": [
      "\r",
      "Step 1/3 :   8%|▊         | 406/5000 [00:11<02:06, 36.20it/s]"
     ]
    },
    {
     "name": "stderr",
     "output_type": "stream",
     "text": [
      "\r",
      "Step 1/3 :   8%|▊         | 410/5000 [00:11<02:04, 36.74it/s]"
     ]
    },
    {
     "name": "stderr",
     "output_type": "stream",
     "text": [
      "\r",
      "Step 1/3 :   8%|▊         | 410/5000 [00:11<02:04, 36.74it/s]"
     ]
    },
    {
     "name": "stderr",
     "output_type": "stream",
     "text": [
      "\r",
      "Step 1/3 :   8%|▊         | 410/5000 [00:11<02:04, 36.74it/s]"
     ]
    },
    {
     "name": "stderr",
     "output_type": "stream",
     "text": [
      "\r",
      "Step 1/3 :   8%|▊         | 410/5000 [00:11<02:04, 36.74it/s]"
     ]
    },
    {
     "name": "stderr",
     "output_type": "stream",
     "text": [
      "\r",
      "Step 1/3 :   8%|▊         | 410/5000 [00:11<02:04, 36.74it/s]"
     ]
    },
    {
     "name": "stderr",
     "output_type": "stream",
     "text": [
      "\r",
      "Step 1/3 :   8%|▊         | 414/5000 [00:11<02:05, 36.68it/s]"
     ]
    },
    {
     "name": "stderr",
     "output_type": "stream",
     "text": [
      "\r",
      "Step 1/3 :   8%|▊         | 414/5000 [00:11<02:05, 36.68it/s]"
     ]
    },
    {
     "name": "stderr",
     "output_type": "stream",
     "text": [
      "\r",
      "Step 1/3 :   8%|▊         | 414/5000 [00:11<02:05, 36.68it/s]"
     ]
    },
    {
     "name": "stderr",
     "output_type": "stream",
     "text": [
      "\r",
      "Step 1/3 :   8%|▊         | 414/5000 [00:11<02:05, 36.68it/s]"
     ]
    },
    {
     "name": "stderr",
     "output_type": "stream",
     "text": [
      "\r",
      "Step 1/3 :   8%|▊         | 414/5000 [00:12<02:05, 36.68it/s]"
     ]
    },
    {
     "name": "stderr",
     "output_type": "stream",
     "text": [
      "\r",
      "Step 1/3 :   8%|▊         | 418/5000 [00:12<02:04, 36.89it/s]"
     ]
    },
    {
     "name": "stderr",
     "output_type": "stream",
     "text": [
      "\r",
      "Step 1/3 :   8%|▊         | 418/5000 [00:12<02:04, 36.89it/s]"
     ]
    },
    {
     "name": "stderr",
     "output_type": "stream",
     "text": [
      "\r",
      "Step 1/3 :   8%|▊         | 418/5000 [00:12<02:04, 36.89it/s]"
     ]
    },
    {
     "name": "stderr",
     "output_type": "stream",
     "text": [
      "\r",
      "Step 1/3 :   8%|▊         | 418/5000 [00:12<02:04, 36.89it/s]"
     ]
    },
    {
     "name": "stderr",
     "output_type": "stream",
     "text": [
      "\r",
      "Step 1/3 :   8%|▊         | 418/5000 [00:12<02:04, 36.89it/s]"
     ]
    },
    {
     "name": "stderr",
     "output_type": "stream",
     "text": [
      "\r",
      "Step 1/3 :   8%|▊         | 418/5000 [00:12<02:04, 36.89it/s]"
     ]
    },
    {
     "name": "stderr",
     "output_type": "stream",
     "text": [
      "\r",
      "Step 1/3 :   8%|▊         | 423/5000 [00:12<02:00, 38.01it/s]"
     ]
    },
    {
     "name": "stderr",
     "output_type": "stream",
     "text": [
      "\r",
      "Step 1/3 :   8%|▊         | 423/5000 [00:12<02:00, 38.01it/s]"
     ]
    },
    {
     "name": "stderr",
     "output_type": "stream",
     "text": [
      "\r",
      "Step 1/3 :   8%|▊         | 423/5000 [00:12<02:00, 38.01it/s]"
     ]
    },
    {
     "name": "stderr",
     "output_type": "stream",
     "text": [
      "\r",
      "Step 1/3 :   8%|▊         | 423/5000 [00:12<02:00, 38.01it/s]"
     ]
    },
    {
     "name": "stderr",
     "output_type": "stream",
     "text": [
      "\r",
      "Step 1/3 :   8%|▊         | 423/5000 [00:12<02:00, 38.01it/s]"
     ]
    },
    {
     "name": "stderr",
     "output_type": "stream",
     "text": [
      "\r",
      "Step 1/3 :   8%|▊         | 423/5000 [00:12<02:00, 38.01it/s]"
     ]
    },
    {
     "name": "stderr",
     "output_type": "stream",
     "text": [
      "\r",
      "Step 1/3 :   9%|▊         | 428/5000 [00:12<01:58, 38.65it/s]"
     ]
    },
    {
     "name": "stderr",
     "output_type": "stream",
     "text": [
      "\r",
      "Step 1/3 :   9%|▊         | 428/5000 [00:12<01:58, 38.65it/s]"
     ]
    },
    {
     "name": "stderr",
     "output_type": "stream",
     "text": [
      "\r",
      "Step 1/3 :   9%|▊         | 428/5000 [00:12<01:58, 38.65it/s]"
     ]
    },
    {
     "name": "stderr",
     "output_type": "stream",
     "text": [
      "\r",
      "Step 1/3 :   9%|▊         | 428/5000 [00:12<01:58, 38.65it/s]"
     ]
    },
    {
     "name": "stderr",
     "output_type": "stream",
     "text": [
      "\r",
      "Step 1/3 :   9%|▊         | 428/5000 [00:12<01:58, 38.65it/s]"
     ]
    },
    {
     "name": "stderr",
     "output_type": "stream",
     "text": [
      "\r",
      "Step 1/3 :   9%|▊         | 432/5000 [00:12<01:59, 38.09it/s]"
     ]
    },
    {
     "name": "stderr",
     "output_type": "stream",
     "text": [
      "\r",
      "Step 1/3 :   9%|▊         | 432/5000 [00:12<01:59, 38.09it/s]"
     ]
    },
    {
     "name": "stderr",
     "output_type": "stream",
     "text": [
      "\r",
      "Step 1/3 :   9%|▊         | 432/5000 [00:12<01:59, 38.09it/s]"
     ]
    },
    {
     "name": "stderr",
     "output_type": "stream",
     "text": [
      "\r",
      "Step 1/3 :   9%|▊         | 432/5000 [00:12<01:59, 38.09it/s]"
     ]
    },
    {
     "name": "stderr",
     "output_type": "stream",
     "text": [
      "\r",
      "Step 1/3 :   9%|▊         | 432/5000 [00:12<01:59, 38.09it/s]"
     ]
    },
    {
     "name": "stderr",
     "output_type": "stream",
     "text": [
      "\r",
      "Step 1/3 :   9%|▊         | 436/5000 [00:12<02:00, 37.79it/s]"
     ]
    },
    {
     "name": "stderr",
     "output_type": "stream",
     "text": [
      "\r",
      "Step 1/3 :   9%|▊         | 436/5000 [00:12<02:00, 37.79it/s]"
     ]
    },
    {
     "name": "stderr",
     "output_type": "stream",
     "text": [
      "\r",
      "Step 1/3 :   9%|▊         | 436/5000 [00:12<02:00, 37.79it/s]"
     ]
    },
    {
     "name": "stderr",
     "output_type": "stream",
     "text": [
      "\r",
      "Step 1/3 :   9%|▊         | 436/5000 [00:12<02:00, 37.79it/s]"
     ]
    },
    {
     "name": "stderr",
     "output_type": "stream",
     "text": [
      "\r",
      "Step 1/3 :   9%|▊         | 436/5000 [00:12<02:00, 37.79it/s]"
     ]
    },
    {
     "name": "stderr",
     "output_type": "stream",
     "text": [
      "\r",
      "Step 1/3 :   9%|▉         | 440/5000 [00:12<01:59, 38.19it/s]"
     ]
    },
    {
     "name": "stderr",
     "output_type": "stream",
     "text": [
      "\r",
      "Step 1/3 :   9%|▉         | 440/5000 [00:12<01:59, 38.19it/s]"
     ]
    },
    {
     "name": "stderr",
     "output_type": "stream",
     "text": [
      "\r",
      "Step 1/3 :   9%|▉         | 440/5000 [00:12<01:59, 38.19it/s]"
     ]
    },
    {
     "name": "stderr",
     "output_type": "stream",
     "text": [
      "\r",
      "Step 1/3 :   9%|▉         | 440/5000 [00:12<01:59, 38.19it/s]"
     ]
    },
    {
     "name": "stderr",
     "output_type": "stream",
     "text": [
      "\r",
      "Step 1/3 :   9%|▉         | 440/5000 [00:12<01:59, 38.19it/s]"
     ]
    },
    {
     "name": "stderr",
     "output_type": "stream",
     "text": [
      "\r",
      "Step 1/3 :   9%|▉         | 444/5000 [00:12<01:58, 38.37it/s]"
     ]
    },
    {
     "name": "stderr",
     "output_type": "stream",
     "text": [
      "\r",
      "Step 1/3 :   9%|▉         | 444/5000 [00:12<01:58, 38.37it/s]"
     ]
    },
    {
     "name": "stderr",
     "output_type": "stream",
     "text": [
      "\r",
      "Step 1/3 :   9%|▉         | 444/5000 [00:12<01:58, 38.37it/s]"
     ]
    },
    {
     "name": "stderr",
     "output_type": "stream",
     "text": [
      "\r",
      "Step 1/3 :   9%|▉         | 444/5000 [00:12<01:58, 38.37it/s]"
     ]
    },
    {
     "name": "stderr",
     "output_type": "stream",
     "text": [
      "\r",
      "Step 1/3 :   9%|▉         | 444/5000 [00:12<01:58, 38.37it/s]"
     ]
    },
    {
     "name": "stderr",
     "output_type": "stream",
     "text": [
      "\r",
      "Step 1/3 :   9%|▉         | 448/5000 [00:12<01:57, 38.62it/s]"
     ]
    },
    {
     "name": "stderr",
     "output_type": "stream",
     "text": [
      "\r",
      "Step 1/3 :   9%|▉         | 448/5000 [00:12<01:57, 38.62it/s]"
     ]
    },
    {
     "name": "stderr",
     "output_type": "stream",
     "text": [
      "\r",
      "Step 1/3 :   9%|▉         | 448/5000 [00:12<01:57, 38.62it/s]"
     ]
    },
    {
     "name": "stderr",
     "output_type": "stream",
     "text": [
      "\r",
      "Step 1/3 :   9%|▉         | 448/5000 [00:12<01:57, 38.62it/s]"
     ]
    },
    {
     "name": "stderr",
     "output_type": "stream",
     "text": [
      "\r",
      "Step 1/3 :   9%|▉         | 448/5000 [00:12<01:57, 38.62it/s]"
     ]
    },
    {
     "name": "stderr",
     "output_type": "stream",
     "text": [
      "\r",
      "Step 1/3 :   9%|▉         | 452/5000 [00:12<01:59, 38.03it/s]"
     ]
    },
    {
     "name": "stderr",
     "output_type": "stream",
     "text": [
      "\r",
      "Step 1/3 :   9%|▉         | 452/5000 [00:12<01:59, 38.03it/s]"
     ]
    },
    {
     "name": "stderr",
     "output_type": "stream",
     "text": [
      "\r",
      "Step 1/3 :   9%|▉         | 452/5000 [00:12<01:59, 38.03it/s]"
     ]
    },
    {
     "name": "stderr",
     "output_type": "stream",
     "text": [
      "\r",
      "Step 1/3 :   9%|▉         | 452/5000 [00:12<01:59, 38.03it/s]"
     ]
    },
    {
     "name": "stderr",
     "output_type": "stream",
     "text": [
      "\r",
      "Step 1/3 :   9%|▉         | 452/5000 [00:13<01:59, 38.03it/s]"
     ]
    },
    {
     "name": "stderr",
     "output_type": "stream",
     "text": [
      "\r",
      "Step 1/3 :   9%|▉         | 452/5000 [00:13<01:59, 38.03it/s]"
     ]
    },
    {
     "name": "stderr",
     "output_type": "stream",
     "text": [
      "\r",
      "Step 1/3 :   9%|▉         | 457/5000 [00:13<01:56, 39.10it/s]"
     ]
    },
    {
     "name": "stderr",
     "output_type": "stream",
     "text": [
      "\r",
      "Step 1/3 :   9%|▉         | 457/5000 [00:13<01:56, 39.10it/s]"
     ]
    },
    {
     "name": "stderr",
     "output_type": "stream",
     "text": [
      "\r",
      "Step 1/3 :   9%|▉         | 457/5000 [00:13<01:56, 39.10it/s]"
     ]
    },
    {
     "name": "stderr",
     "output_type": "stream",
     "text": [
      "\r",
      "Step 1/3 :   9%|▉         | 457/5000 [00:13<01:56, 39.10it/s]"
     ]
    },
    {
     "name": "stderr",
     "output_type": "stream",
     "text": [
      "\r",
      "Step 1/3 :   9%|▉         | 457/5000 [00:13<01:56, 39.10it/s]"
     ]
    },
    {
     "name": "stderr",
     "output_type": "stream",
     "text": [
      "\r",
      "Step 1/3 :   9%|▉         | 461/5000 [00:13<01:55, 39.24it/s]"
     ]
    },
    {
     "name": "stderr",
     "output_type": "stream",
     "text": [
      "\r",
      "Step 1/3 :   9%|▉         | 461/5000 [00:13<01:55, 39.24it/s]"
     ]
    },
    {
     "name": "stderr",
     "output_type": "stream",
     "text": [
      "\r",
      "Step 1/3 :   9%|▉         | 461/5000 [00:13<01:55, 39.24it/s]"
     ]
    },
    {
     "name": "stderr",
     "output_type": "stream",
     "text": [
      "\r",
      "Step 1/3 :   9%|▉         | 461/5000 [00:13<01:55, 39.24it/s]"
     ]
    },
    {
     "name": "stderr",
     "output_type": "stream",
     "text": [
      "\r",
      "Step 1/3 :   9%|▉         | 461/5000 [00:13<01:55, 39.24it/s]"
     ]
    },
    {
     "name": "stderr",
     "output_type": "stream",
     "text": [
      "\r",
      "Step 1/3 :   9%|▉         | 465/5000 [00:13<01:56, 39.07it/s]"
     ]
    },
    {
     "name": "stderr",
     "output_type": "stream",
     "text": [
      "\r",
      "Step 1/3 :   9%|▉         | 465/5000 [00:13<01:56, 39.07it/s]"
     ]
    },
    {
     "name": "stderr",
     "output_type": "stream",
     "text": [
      "\r",
      "Step 1/3 :   9%|▉         | 465/5000 [00:13<01:56, 39.07it/s]"
     ]
    },
    {
     "name": "stderr",
     "output_type": "stream",
     "text": [
      "\r",
      "Step 1/3 :   9%|▉         | 465/5000 [00:13<01:56, 39.07it/s]"
     ]
    },
    {
     "name": "stderr",
     "output_type": "stream",
     "text": [
      "\r",
      "Step 1/3 :   9%|▉         | 465/5000 [00:13<01:56, 39.07it/s]"
     ]
    },
    {
     "name": "stderr",
     "output_type": "stream",
     "text": [
      "\r",
      "Step 1/3 :   9%|▉         | 469/5000 [00:13<01:58, 38.26it/s]"
     ]
    },
    {
     "name": "stderr",
     "output_type": "stream",
     "text": [
      "\r",
      "Step 1/3 :   9%|▉         | 469/5000 [00:13<01:58, 38.26it/s]"
     ]
    },
    {
     "name": "stderr",
     "output_type": "stream",
     "text": [
      "\r",
      "Step 1/3 :   9%|▉         | 469/5000 [00:13<01:58, 38.26it/s]"
     ]
    },
    {
     "name": "stderr",
     "output_type": "stream",
     "text": [
      "\r",
      "Step 1/3 :   9%|▉         | 469/5000 [00:13<01:58, 38.26it/s]"
     ]
    },
    {
     "name": "stderr",
     "output_type": "stream",
     "text": [
      "\r",
      "Step 1/3 :   9%|▉         | 469/5000 [00:13<01:58, 38.26it/s]"
     ]
    },
    {
     "name": "stderr",
     "output_type": "stream",
     "text": [
      "\r",
      "Step 1/3 :   9%|▉         | 473/5000 [00:13<02:01, 37.38it/s]"
     ]
    },
    {
     "name": "stderr",
     "output_type": "stream",
     "text": [
      "\r",
      "Step 1/3 :   9%|▉         | 473/5000 [00:13<02:01, 37.38it/s]"
     ]
    },
    {
     "name": "stderr",
     "output_type": "stream",
     "text": [
      "\r",
      "Step 1/3 :   9%|▉         | 473/5000 [00:13<02:01, 37.38it/s]"
     ]
    },
    {
     "name": "stderr",
     "output_type": "stream",
     "text": [
      "\r",
      "Step 1/3 :   9%|▉         | 473/5000 [00:13<02:01, 37.38it/s]"
     ]
    },
    {
     "name": "stderr",
     "output_type": "stream",
     "text": [
      "\r",
      "Step 1/3 :   9%|▉         | 473/5000 [00:13<02:01, 37.38it/s]"
     ]
    },
    {
     "name": "stderr",
     "output_type": "stream",
     "text": [
      "\r",
      "Step 1/3 :  10%|▉         | 477/5000 [00:13<02:06, 35.70it/s]"
     ]
    },
    {
     "name": "stderr",
     "output_type": "stream",
     "text": [
      "\r",
      "Step 1/3 :  10%|▉         | 477/5000 [00:13<02:06, 35.70it/s]"
     ]
    },
    {
     "name": "stderr",
     "output_type": "stream",
     "text": [
      "\r",
      "Step 1/3 :  10%|▉         | 477/5000 [00:13<02:06, 35.70it/s]"
     ]
    },
    {
     "name": "stderr",
     "output_type": "stream",
     "text": [
      "\r",
      "Step 1/3 :  10%|▉         | 477/5000 [00:13<02:06, 35.70it/s]"
     ]
    },
    {
     "name": "stderr",
     "output_type": "stream",
     "text": [
      "\r",
      "Step 1/3 :  10%|▉         | 477/5000 [00:13<02:06, 35.70it/s]"
     ]
    },
    {
     "name": "stderr",
     "output_type": "stream",
     "text": [
      "\r",
      "Step 1/3 :  10%|▉         | 481/5000 [00:13<02:06, 35.84it/s]"
     ]
    },
    {
     "name": "stderr",
     "output_type": "stream",
     "text": [
      "\r",
      "Step 1/3 :  10%|▉         | 481/5000 [00:13<02:06, 35.84it/s]"
     ]
    },
    {
     "name": "stderr",
     "output_type": "stream",
     "text": [
      "\r",
      "Step 1/3 :  10%|▉         | 481/5000 [00:13<02:06, 35.84it/s]"
     ]
    },
    {
     "name": "stderr",
     "output_type": "stream",
     "text": [
      "\r",
      "Step 1/3 :  10%|▉         | 481/5000 [00:13<02:06, 35.84it/s]"
     ]
    },
    {
     "name": "stderr",
     "output_type": "stream",
     "text": [
      "\r",
      "Step 1/3 :  10%|▉         | 481/5000 [00:13<02:06, 35.84it/s]"
     ]
    },
    {
     "name": "stderr",
     "output_type": "stream",
     "text": [
      "\r",
      "Step 1/3 :  10%|▉         | 485/5000 [00:13<02:04, 36.39it/s]"
     ]
    },
    {
     "name": "stderr",
     "output_type": "stream",
     "text": [
      "\r",
      "Step 1/3 :  10%|▉         | 485/5000 [00:13<02:04, 36.39it/s]"
     ]
    },
    {
     "name": "stderr",
     "output_type": "stream",
     "text": [
      "\r",
      "Step 1/3 :  10%|▉         | 485/5000 [00:13<02:04, 36.39it/s]"
     ]
    },
    {
     "name": "stderr",
     "output_type": "stream",
     "text": [
      "\r",
      "Step 1/3 :  10%|▉         | 485/5000 [00:13<02:04, 36.39it/s]"
     ]
    },
    {
     "name": "stderr",
     "output_type": "stream",
     "text": [
      "\r",
      "Step 1/3 :  10%|▉         | 485/5000 [00:13<02:04, 36.39it/s]"
     ]
    },
    {
     "name": "stderr",
     "output_type": "stream",
     "text": [
      "\r",
      "Step 1/3 :  10%|▉         | 489/5000 [00:13<02:02, 36.88it/s]"
     ]
    },
    {
     "name": "stderr",
     "output_type": "stream",
     "text": [
      "\r",
      "Step 1/3 :  10%|▉         | 489/5000 [00:13<02:02, 36.88it/s]"
     ]
    },
    {
     "name": "stderr",
     "output_type": "stream",
     "text": [
      "\r",
      "Step 1/3 :  10%|▉         | 489/5000 [00:13<02:02, 36.88it/s]"
     ]
    },
    {
     "name": "stderr",
     "output_type": "stream",
     "text": [
      "\r",
      "Step 1/3 :  10%|▉         | 489/5000 [00:13<02:02, 36.88it/s]"
     ]
    },
    {
     "name": "stderr",
     "output_type": "stream",
     "text": [
      "\r",
      "Step 1/3 :  10%|▉         | 489/5000 [00:14<02:02, 36.88it/s]"
     ]
    },
    {
     "name": "stderr",
     "output_type": "stream",
     "text": [
      "\r",
      "Step 1/3 :  10%|▉         | 493/5000 [00:14<02:00, 37.34it/s]"
     ]
    },
    {
     "name": "stderr",
     "output_type": "stream",
     "text": [
      "\r",
      "Step 1/3 :  10%|▉         | 493/5000 [00:14<02:00, 37.34it/s]"
     ]
    },
    {
     "name": "stderr",
     "output_type": "stream",
     "text": [
      "\r",
      "Step 1/3 :  10%|▉         | 493/5000 [00:14<02:00, 37.34it/s]"
     ]
    },
    {
     "name": "stderr",
     "output_type": "stream",
     "text": [
      "\r",
      "Step 1/3 :  10%|▉         | 493/5000 [00:14<02:00, 37.34it/s]"
     ]
    },
    {
     "name": "stderr",
     "output_type": "stream",
     "text": [
      "\r",
      "Step 1/3 :  10%|▉         | 493/5000 [00:14<02:00, 37.34it/s]"
     ]
    },
    {
     "name": "stderr",
     "output_type": "stream",
     "text": [
      "\r",
      "Step 1/3 :  10%|▉         | 497/5000 [00:14<01:58, 37.88it/s]"
     ]
    },
    {
     "name": "stderr",
     "output_type": "stream",
     "text": [
      "\r",
      "Step 1/3 :  10%|▉         | 497/5000 [00:14<01:58, 37.88it/s]"
     ]
    },
    {
     "name": "stderr",
     "output_type": "stream",
     "text": [
      "\r",
      "Step 1/3 :  10%|▉         | 497/5000 [00:14<01:58, 37.88it/s]"
     ]
    },
    {
     "name": "stderr",
     "output_type": "stream",
     "text": [
      "\r",
      "Step 1/3 :  10%|▉         | 497/5000 [00:14<01:58, 37.88it/s]"
     ]
    },
    {
     "name": "stderr",
     "output_type": "stream",
     "text": [
      "\r",
      "Step 2/3 :  10%|▉         | 497/5000 [00:14<01:58, 37.88it/s]"
     ]
    },
    {
     "name": "stderr",
     "output_type": "stream",
     "text": [
      "\r",
      "Step 2/3 :  10%|▉         | 497/5000 [00:14<01:58, 37.88it/s]"
     ]
    },
    {
     "name": "stderr",
     "output_type": "stream",
     "text": [
      "\r",
      "Step 2/3 :  10%|▉         | 497/5000 [00:14<01:58, 37.88it/s]"
     ]
    },
    {
     "name": "stderr",
     "output_type": "stream",
     "text": [
      "\r",
      "Step 2/3 :  10%|▉         | 497/5000 [00:14<01:58, 37.88it/s]"
     ]
    },
    {
     "name": "stderr",
     "output_type": "stream",
     "text": [
      "\r",
      "Step 2/3 :  10%|█         | 504/5000 [00:14<01:37, 46.08it/s]"
     ]
    },
    {
     "name": "stderr",
     "output_type": "stream",
     "text": [
      "\r",
      "Step 2/3 :  10%|█         | 504/5000 [00:14<01:37, 46.08it/s]"
     ]
    },
    {
     "name": "stderr",
     "output_type": "stream",
     "text": [
      "\r",
      "Step 2/3 :  10%|█         | 504/5000 [00:14<01:37, 46.08it/s]"
     ]
    },
    {
     "name": "stderr",
     "output_type": "stream",
     "text": [
      "\r",
      "Step 2/3 :  10%|█         | 504/5000 [00:14<01:37, 46.08it/s]"
     ]
    },
    {
     "name": "stderr",
     "output_type": "stream",
     "text": [
      "\r",
      "Step 2/3 :  10%|█         | 504/5000 [00:14<01:37, 46.08it/s]"
     ]
    },
    {
     "name": "stderr",
     "output_type": "stream",
     "text": [
      "\r",
      "Step 2/3 :  10%|█         | 504/5000 [00:14<01:37, 46.08it/s]"
     ]
    },
    {
     "name": "stderr",
     "output_type": "stream",
     "text": [
      "\r",
      "Step 2/3 :  10%|█         | 504/5000 [00:14<01:37, 46.08it/s]"
     ]
    },
    {
     "name": "stderr",
     "output_type": "stream",
     "text": [
      "\r",
      "Step 2/3 :  10%|█         | 504/5000 [00:14<01:37, 46.08it/s]"
     ]
    },
    {
     "name": "stderr",
     "output_type": "stream",
     "text": [
      "\r",
      "Step 2/3 :  10%|█         | 504/5000 [00:14<01:37, 46.08it/s]"
     ]
    },
    {
     "name": "stderr",
     "output_type": "stream",
     "text": [
      "\r",
      "Step 2/3 :  10%|█         | 504/5000 [00:14<01:37, 46.08it/s]"
     ]
    },
    {
     "name": "stderr",
     "output_type": "stream",
     "text": [
      "\r",
      "Step 2/3 :  10%|█         | 504/5000 [00:14<01:37, 46.08it/s]"
     ]
    },
    {
     "name": "stderr",
     "output_type": "stream",
     "text": [
      "\r",
      "Step 2/3 :  10%|█         | 514/5000 [00:14<01:13, 61.02it/s]"
     ]
    },
    {
     "name": "stderr",
     "output_type": "stream",
     "text": [
      "\r",
      "Step 2/3 :  10%|█         | 514/5000 [00:14<01:13, 61.02it/s]"
     ]
    },
    {
     "name": "stderr",
     "output_type": "stream",
     "text": [
      "\r",
      "Step 2/3 :  10%|█         | 514/5000 [00:14<01:13, 61.02it/s]"
     ]
    },
    {
     "name": "stderr",
     "output_type": "stream",
     "text": [
      "\r",
      "Step 2/3 :  10%|█         | 514/5000 [00:14<01:13, 61.02it/s]"
     ]
    },
    {
     "name": "stderr",
     "output_type": "stream",
     "text": [
      "\r",
      "Step 2/3 :  10%|█         | 514/5000 [00:14<01:13, 61.02it/s]"
     ]
    },
    {
     "name": "stderr",
     "output_type": "stream",
     "text": [
      "\r",
      "Step 2/3 :  10%|█         | 514/5000 [00:14<01:13, 61.02it/s]"
     ]
    },
    {
     "name": "stderr",
     "output_type": "stream",
     "text": [
      "\r",
      "Step 2/3 :  10%|█         | 514/5000 [00:14<01:13, 61.02it/s]"
     ]
    },
    {
     "name": "stderr",
     "output_type": "stream",
     "text": [
      "\r",
      "Step 2/3 :  10%|█         | 514/5000 [00:14<01:13, 61.02it/s]"
     ]
    },
    {
     "name": "stderr",
     "output_type": "stream",
     "text": [
      "\r",
      "Step 2/3 :  10%|█         | 514/5000 [00:14<01:13, 61.02it/s]"
     ]
    },
    {
     "name": "stderr",
     "output_type": "stream",
     "text": [
      "\r",
      "Step 2/3 :  10%|█         | 514/5000 [00:14<01:13, 61.02it/s]"
     ]
    },
    {
     "name": "stderr",
     "output_type": "stream",
     "text": [
      "\r",
      "Step 2/3 :  10%|█         | 523/5000 [00:14<01:05, 68.41it/s]"
     ]
    },
    {
     "name": "stderr",
     "output_type": "stream",
     "text": [
      "\r",
      "Step 2/3 :  10%|█         | 523/5000 [00:14<01:05, 68.41it/s]"
     ]
    },
    {
     "name": "stderr",
     "output_type": "stream",
     "text": [
      "\r",
      "Step 2/3 :  10%|█         | 523/5000 [00:14<01:05, 68.41it/s]"
     ]
    },
    {
     "name": "stderr",
     "output_type": "stream",
     "text": [
      "\r",
      "Step 2/3 :  10%|█         | 523/5000 [00:14<01:05, 68.41it/s]"
     ]
    },
    {
     "name": "stderr",
     "output_type": "stream",
     "text": [
      "\r",
      "Step 2/3 :  10%|█         | 523/5000 [00:14<01:05, 68.41it/s]"
     ]
    },
    {
     "name": "stderr",
     "output_type": "stream",
     "text": [
      "\r",
      "Step 2/3 :  10%|█         | 523/5000 [00:14<01:05, 68.41it/s]"
     ]
    },
    {
     "name": "stderr",
     "output_type": "stream",
     "text": [
      "\r",
      "Step 2/3 :  10%|█         | 523/5000 [00:14<01:05, 68.41it/s]"
     ]
    },
    {
     "name": "stderr",
     "output_type": "stream",
     "text": [
      "\r",
      "Step 2/3 :  10%|█         | 523/5000 [00:14<01:05, 68.41it/s]"
     ]
    },
    {
     "name": "stderr",
     "output_type": "stream",
     "text": [
      "\r",
      "Step 2/3 :  10%|█         | 523/5000 [00:14<01:05, 68.41it/s]"
     ]
    },
    {
     "name": "stderr",
     "output_type": "stream",
     "text": [
      "\r",
      "Step 2/3 :  11%|█         | 531/5000 [00:14<01:03, 70.34it/s]"
     ]
    },
    {
     "name": "stderr",
     "output_type": "stream",
     "text": [
      "\r",
      "Step 2/3 :  11%|█         | 531/5000 [00:14<01:03, 70.34it/s]"
     ]
    },
    {
     "name": "stderr",
     "output_type": "stream",
     "text": [
      "\r",
      "Step 2/3 :  11%|█         | 531/5000 [00:14<01:03, 70.34it/s]"
     ]
    },
    {
     "name": "stderr",
     "output_type": "stream",
     "text": [
      "\r",
      "Step 2/3 :  11%|█         | 531/5000 [00:14<01:03, 70.34it/s]"
     ]
    },
    {
     "name": "stderr",
     "output_type": "stream",
     "text": [
      "\r",
      "Step 2/3 :  11%|█         | 531/5000 [00:14<01:03, 70.34it/s]"
     ]
    },
    {
     "name": "stderr",
     "output_type": "stream",
     "text": [
      "\r",
      "Step 2/3 :  11%|█         | 531/5000 [00:14<01:03, 70.34it/s]"
     ]
    },
    {
     "name": "stderr",
     "output_type": "stream",
     "text": [
      "\r",
      "Step 2/3 :  11%|█         | 531/5000 [00:14<01:03, 70.34it/s]"
     ]
    },
    {
     "name": "stderr",
     "output_type": "stream",
     "text": [
      "\r",
      "Step 2/3 :  11%|█         | 531/5000 [00:14<01:03, 70.34it/s]"
     ]
    },
    {
     "name": "stderr",
     "output_type": "stream",
     "text": [
      "\r",
      "Step 2/3 :  11%|█         | 531/5000 [00:14<01:03, 70.34it/s]"
     ]
    },
    {
     "name": "stderr",
     "output_type": "stream",
     "text": [
      "\r",
      "Step 2/3 :  11%|█         | 531/5000 [00:14<01:03, 70.34it/s]"
     ]
    },
    {
     "name": "stderr",
     "output_type": "stream",
     "text": [
      "\r",
      "Step 2/3 :  11%|█         | 540/5000 [00:14<00:59, 75.23it/s]"
     ]
    },
    {
     "name": "stderr",
     "output_type": "stream",
     "text": [
      "\r",
      "Step 2/3 :  11%|█         | 540/5000 [00:14<00:59, 75.23it/s]"
     ]
    },
    {
     "name": "stderr",
     "output_type": "stream",
     "text": [
      "\r",
      "Step 2/3 :  11%|█         | 540/5000 [00:14<00:59, 75.23it/s]"
     ]
    },
    {
     "name": "stderr",
     "output_type": "stream",
     "text": [
      "\r",
      "Step 2/3 :  11%|█         | 540/5000 [00:14<00:59, 75.23it/s]"
     ]
    },
    {
     "name": "stderr",
     "output_type": "stream",
     "text": [
      "\r",
      "Step 2/3 :  11%|█         | 540/5000 [00:14<00:59, 75.23it/s]"
     ]
    },
    {
     "name": "stderr",
     "output_type": "stream",
     "text": [
      "\r",
      "Step 2/3 :  11%|█         | 540/5000 [00:14<00:59, 75.23it/s]"
     ]
    },
    {
     "name": "stderr",
     "output_type": "stream",
     "text": [
      "\r",
      "Step 2/3 :  11%|█         | 540/5000 [00:14<00:59, 75.23it/s]"
     ]
    },
    {
     "name": "stderr",
     "output_type": "stream",
     "text": [
      "\r",
      "Step 2/3 :  11%|█         | 540/5000 [00:14<00:59, 75.23it/s]"
     ]
    },
    {
     "name": "stderr",
     "output_type": "stream",
     "text": [
      "\r",
      "Step 2/3 :  11%|█         | 540/5000 [00:14<00:59, 75.23it/s]"
     ]
    },
    {
     "name": "stderr",
     "output_type": "stream",
     "text": [
      "\r",
      "Step 2/3 :  11%|█         | 540/5000 [00:14<00:59, 75.23it/s]"
     ]
    },
    {
     "name": "stderr",
     "output_type": "stream",
     "text": [
      "\r",
      "Step 2/3 :  11%|█         | 540/5000 [00:14<00:59, 75.23it/s]"
     ]
    },
    {
     "name": "stderr",
     "output_type": "stream",
     "text": [
      "\r",
      "Step 2/3 :  11%|█         | 550/5000 [00:14<00:55, 80.54it/s]"
     ]
    },
    {
     "name": "stderr",
     "output_type": "stream",
     "text": [
      "\r",
      "Step 2/3 :  11%|█         | 550/5000 [00:14<00:55, 80.54it/s]"
     ]
    },
    {
     "name": "stderr",
     "output_type": "stream",
     "text": [
      "\r",
      "Step 2/3 :  11%|█         | 550/5000 [00:14<00:55, 80.54it/s]"
     ]
    },
    {
     "name": "stderr",
     "output_type": "stream",
     "text": [
      "\r",
      "Step 2/3 :  11%|█         | 550/5000 [00:14<00:55, 80.54it/s]"
     ]
    },
    {
     "name": "stderr",
     "output_type": "stream",
     "text": [
      "\r",
      "Step 2/3 :  11%|█         | 550/5000 [00:14<00:55, 80.54it/s]"
     ]
    },
    {
     "name": "stderr",
     "output_type": "stream",
     "text": [
      "\r",
      "Step 2/3 :  11%|█         | 550/5000 [00:14<00:55, 80.54it/s]"
     ]
    },
    {
     "name": "stderr",
     "output_type": "stream",
     "text": [
      "\r",
      "Step 2/3 :  11%|█         | 550/5000 [00:14<00:55, 80.54it/s]"
     ]
    },
    {
     "name": "stderr",
     "output_type": "stream",
     "text": [
      "\r",
      "Step 2/3 :  11%|█         | 550/5000 [00:14<00:55, 80.54it/s]"
     ]
    },
    {
     "name": "stderr",
     "output_type": "stream",
     "text": [
      "\r",
      "Step 2/3 :  11%|█         | 550/5000 [00:14<00:55, 80.54it/s]"
     ]
    },
    {
     "name": "stderr",
     "output_type": "stream",
     "text": [
      "\r",
      "Step 2/3 :  11%|█         | 550/5000 [00:14<00:55, 80.54it/s]"
     ]
    },
    {
     "name": "stderr",
     "output_type": "stream",
     "text": [
      "\r",
      "Step 2/3 :  11%|█         | 559/5000 [00:14<00:55, 80.47it/s]"
     ]
    },
    {
     "name": "stderr",
     "output_type": "stream",
     "text": [
      "\r",
      "Step 2/3 :  11%|█         | 559/5000 [00:14<00:55, 80.47it/s]"
     ]
    },
    {
     "name": "stderr",
     "output_type": "stream",
     "text": [
      "\r",
      "Step 2/3 :  11%|█         | 559/5000 [00:14<00:55, 80.47it/s]"
     ]
    },
    {
     "name": "stderr",
     "output_type": "stream",
     "text": [
      "\r",
      "Step 2/3 :  11%|█         | 559/5000 [00:14<00:55, 80.47it/s]"
     ]
    },
    {
     "name": "stderr",
     "output_type": "stream",
     "text": [
      "\r",
      "Step 2/3 :  11%|█         | 559/5000 [00:14<00:55, 80.47it/s]"
     ]
    },
    {
     "name": "stderr",
     "output_type": "stream",
     "text": [
      "\r",
      "Step 2/3 :  11%|█         | 559/5000 [00:14<00:55, 80.47it/s]"
     ]
    },
    {
     "name": "stderr",
     "output_type": "stream",
     "text": [
      "\r",
      "Step 2/3 :  11%|█         | 559/5000 [00:14<00:55, 80.47it/s]"
     ]
    },
    {
     "name": "stderr",
     "output_type": "stream",
     "text": [
      "\r",
      "Step 2/3 :  11%|█         | 559/5000 [00:14<00:55, 80.47it/s]"
     ]
    },
    {
     "name": "stderr",
     "output_type": "stream",
     "text": [
      "\r",
      "Step 2/3 :  11%|█         | 559/5000 [00:14<00:55, 80.47it/s]"
     ]
    },
    {
     "name": "stderr",
     "output_type": "stream",
     "text": [
      "\r",
      "Step 2/3 :  11%|█         | 559/5000 [00:14<00:55, 80.47it/s]"
     ]
    },
    {
     "name": "stderr",
     "output_type": "stream",
     "text": [
      "\r",
      "Step 2/3 :  11%|█▏        | 568/5000 [00:14<00:54, 82.00it/s]"
     ]
    },
    {
     "name": "stderr",
     "output_type": "stream",
     "text": [
      "\r",
      "Step 2/3 :  11%|█▏        | 568/5000 [00:14<00:54, 82.00it/s]"
     ]
    },
    {
     "name": "stderr",
     "output_type": "stream",
     "text": [
      "\r",
      "Step 2/3 :  11%|█▏        | 568/5000 [00:14<00:54, 82.00it/s]"
     ]
    },
    {
     "name": "stderr",
     "output_type": "stream",
     "text": [
      "\r",
      "Step 2/3 :  11%|█▏        | 568/5000 [00:15<00:54, 82.00it/s]"
     ]
    },
    {
     "name": "stderr",
     "output_type": "stream",
     "text": [
      "\r",
      "Step 2/3 :  11%|█▏        | 568/5000 [00:15<00:54, 82.00it/s]"
     ]
    },
    {
     "name": "stderr",
     "output_type": "stream",
     "text": [
      "\r",
      "Step 2/3 :  11%|█▏        | 568/5000 [00:15<00:54, 82.00it/s]"
     ]
    },
    {
     "name": "stderr",
     "output_type": "stream",
     "text": [
      "\r",
      "Step 2/3 :  11%|█▏        | 568/5000 [00:15<00:54, 82.00it/s]"
     ]
    },
    {
     "name": "stderr",
     "output_type": "stream",
     "text": [
      "\r",
      "Step 2/3 :  11%|█▏        | 568/5000 [00:15<00:54, 82.00it/s]"
     ]
    },
    {
     "name": "stderr",
     "output_type": "stream",
     "text": [
      "\r",
      "Step 2/3 :  11%|█▏        | 568/5000 [00:15<00:54, 82.00it/s]"
     ]
    },
    {
     "name": "stderr",
     "output_type": "stream",
     "text": [
      "\r",
      "Step 2/3 :  11%|█▏        | 568/5000 [00:15<00:54, 82.00it/s]"
     ]
    },
    {
     "name": "stderr",
     "output_type": "stream",
     "text": [
      "\r",
      "Step 2/3 :  11%|█▏        | 568/5000 [00:15<00:54, 82.00it/s]"
     ]
    },
    {
     "name": "stderr",
     "output_type": "stream",
     "text": [
      "\r",
      "Step 2/3 :  12%|█▏        | 578/5000 [00:15<00:50, 86.90it/s]"
     ]
    },
    {
     "name": "stderr",
     "output_type": "stream",
     "text": [
      "\r",
      "Step 2/3 :  12%|█▏        | 578/5000 [00:15<00:50, 86.90it/s]"
     ]
    },
    {
     "name": "stderr",
     "output_type": "stream",
     "text": [
      "\r",
      "Step 2/3 :  12%|█▏        | 578/5000 [00:15<00:50, 86.90it/s]"
     ]
    },
    {
     "name": "stderr",
     "output_type": "stream",
     "text": [
      "\r",
      "Step 2/3 :  12%|█▏        | 578/5000 [00:15<00:50, 86.90it/s]"
     ]
    },
    {
     "name": "stderr",
     "output_type": "stream",
     "text": [
      "\r",
      "Step 2/3 :  12%|█▏        | 578/5000 [00:15<00:50, 86.90it/s]"
     ]
    },
    {
     "name": "stderr",
     "output_type": "stream",
     "text": [
      "\r",
      "Step 2/3 :  12%|█▏        | 578/5000 [00:15<00:50, 86.90it/s]"
     ]
    },
    {
     "name": "stderr",
     "output_type": "stream",
     "text": [
      "\r",
      "Step 2/3 :  12%|█▏        | 578/5000 [00:15<00:50, 86.90it/s]"
     ]
    },
    {
     "name": "stderr",
     "output_type": "stream",
     "text": [
      "\r",
      "Step 2/3 :  12%|█▏        | 578/5000 [00:15<00:50, 86.90it/s]"
     ]
    },
    {
     "name": "stderr",
     "output_type": "stream",
     "text": [
      "\r",
      "Step 2/3 :  12%|█▏        | 578/5000 [00:15<00:50, 86.90it/s]"
     ]
    },
    {
     "name": "stderr",
     "output_type": "stream",
     "text": [
      "\r",
      "Step 2/3 :  12%|█▏        | 578/5000 [00:15<00:50, 86.90it/s]"
     ]
    },
    {
     "name": "stderr",
     "output_type": "stream",
     "text": [
      "\r",
      "Step 2/3 :  12%|█▏        | 578/5000 [00:15<00:50, 86.90it/s]"
     ]
    },
    {
     "name": "stderr",
     "output_type": "stream",
     "text": [
      "\r",
      "Step 2/3 :  12%|█▏        | 588/5000 [00:15<00:49, 89.40it/s]"
     ]
    },
    {
     "name": "stderr",
     "output_type": "stream",
     "text": [
      "\r",
      "Step 2/3 :  12%|█▏        | 588/5000 [00:15<00:49, 89.40it/s]"
     ]
    },
    {
     "name": "stderr",
     "output_type": "stream",
     "text": [
      "\r",
      "Step 2/3 :  12%|█▏        | 588/5000 [00:15<00:49, 89.40it/s]"
     ]
    },
    {
     "name": "stderr",
     "output_type": "stream",
     "text": [
      "\r",
      "Step 2/3 :  12%|█▏        | 588/5000 [00:15<00:49, 89.40it/s]"
     ]
    },
    {
     "name": "stderr",
     "output_type": "stream",
     "text": [
      "\r",
      "Step 2/3 :  12%|█▏        | 588/5000 [00:15<00:49, 89.40it/s]"
     ]
    },
    {
     "name": "stderr",
     "output_type": "stream",
     "text": [
      "\r",
      "Step 2/3 :  12%|█▏        | 588/5000 [00:15<00:49, 89.40it/s]"
     ]
    },
    {
     "name": "stderr",
     "output_type": "stream",
     "text": [
      "\r",
      "Step 2/3 :  12%|█▏        | 588/5000 [00:15<00:49, 89.40it/s]"
     ]
    },
    {
     "name": "stderr",
     "output_type": "stream",
     "text": [
      "\r",
      "Step 2/3 :  12%|█▏        | 588/5000 [00:15<00:49, 89.40it/s]"
     ]
    },
    {
     "name": "stderr",
     "output_type": "stream",
     "text": [
      "\r",
      "Step 2/3 :  12%|█▏        | 588/5000 [00:15<00:49, 89.40it/s]"
     ]
    },
    {
     "name": "stderr",
     "output_type": "stream",
     "text": [
      "\r",
      "Step 2/3 :  12%|█▏        | 588/5000 [00:15<00:49, 89.40it/s]"
     ]
    },
    {
     "name": "stderr",
     "output_type": "stream",
     "text": [
      "\r",
      "Step 2/3 :  12%|█▏        | 588/5000 [00:15<00:49, 89.40it/s]"
     ]
    },
    {
     "name": "stderr",
     "output_type": "stream",
     "text": [
      "\r",
      "Step 2/3 :  12%|█▏        | 598/5000 [00:15<00:48, 91.67it/s]"
     ]
    },
    {
     "name": "stderr",
     "output_type": "stream",
     "text": [
      "\r",
      "Step 2/3 :  12%|█▏        | 598/5000 [00:15<00:48, 91.67it/s]"
     ]
    },
    {
     "name": "stderr",
     "output_type": "stream",
     "text": [
      "\r",
      "Step 2/3 :  12%|█▏        | 598/5000 [00:15<00:48, 91.67it/s]"
     ]
    },
    {
     "name": "stderr",
     "output_type": "stream",
     "text": [
      "\r",
      "Step 2/3 :  12%|█▏        | 598/5000 [00:15<00:48, 91.67it/s]"
     ]
    },
    {
     "name": "stderr",
     "output_type": "stream",
     "text": [
      "\r",
      "Step 2/3 :  12%|█▏        | 598/5000 [00:15<00:48, 91.67it/s]"
     ]
    },
    {
     "name": "stderr",
     "output_type": "stream",
     "text": [
      "\r",
      "Step 2/3 :  12%|█▏        | 598/5000 [00:15<00:48, 91.67it/s]"
     ]
    },
    {
     "name": "stderr",
     "output_type": "stream",
     "text": [
      "\r",
      "Step 2/3 :  12%|█▏        | 598/5000 [00:15<00:48, 91.67it/s]"
     ]
    },
    {
     "name": "stderr",
     "output_type": "stream",
     "text": [
      "\r",
      "Step 2/3 :  12%|█▏        | 598/5000 [00:15<00:48, 91.67it/s]"
     ]
    },
    {
     "name": "stderr",
     "output_type": "stream",
     "text": [
      "\r",
      "Step 2/3 :  12%|█▏        | 598/5000 [00:15<00:48, 91.67it/s]"
     ]
    },
    {
     "name": "stderr",
     "output_type": "stream",
     "text": [
      "\r",
      "Step 2/3 :  12%|█▏        | 598/5000 [00:15<00:48, 91.67it/s]"
     ]
    },
    {
     "name": "stderr",
     "output_type": "stream",
     "text": [
      "\r",
      "Step 2/3 :  12%|█▏        | 598/5000 [00:15<00:48, 91.67it/s]"
     ]
    },
    {
     "name": "stderr",
     "output_type": "stream",
     "text": [
      "\r",
      "Step 2/3 :  12%|█▏        | 608/5000 [00:15<00:48, 90.92it/s]"
     ]
    },
    {
     "name": "stderr",
     "output_type": "stream",
     "text": [
      "\r",
      "Step 2/3 :  12%|█▏        | 608/5000 [00:15<00:48, 90.92it/s]"
     ]
    },
    {
     "name": "stderr",
     "output_type": "stream",
     "text": [
      "\r",
      "Step 2/3 :  12%|█▏        | 608/5000 [00:15<00:48, 90.92it/s]"
     ]
    },
    {
     "name": "stderr",
     "output_type": "stream",
     "text": [
      "\r",
      "Step 2/3 :  12%|█▏        | 608/5000 [00:15<00:48, 90.92it/s]"
     ]
    },
    {
     "name": "stderr",
     "output_type": "stream",
     "text": [
      "\r",
      "Step 2/3 :  12%|█▏        | 608/5000 [00:15<00:48, 90.92it/s]"
     ]
    },
    {
     "name": "stderr",
     "output_type": "stream",
     "text": [
      "\r",
      "Step 2/3 :  12%|█▏        | 608/5000 [00:15<00:48, 90.92it/s]"
     ]
    },
    {
     "name": "stderr",
     "output_type": "stream",
     "text": [
      "\r",
      "Step 2/3 :  12%|█▏        | 608/5000 [00:15<00:48, 90.92it/s]"
     ]
    },
    {
     "name": "stderr",
     "output_type": "stream",
     "text": [
      "\r",
      "Step 2/3 :  12%|█▏        | 608/5000 [00:15<00:48, 90.92it/s]"
     ]
    },
    {
     "name": "stderr",
     "output_type": "stream",
     "text": [
      "\r",
      "Step 2/3 :  12%|█▏        | 608/5000 [00:15<00:48, 90.92it/s]"
     ]
    },
    {
     "name": "stderr",
     "output_type": "stream",
     "text": [
      "\r",
      "Step 2/3 :  12%|█▏        | 608/5000 [00:15<00:48, 90.92it/s]"
     ]
    },
    {
     "name": "stderr",
     "output_type": "stream",
     "text": [
      "\r",
      "Step 2/3 :  12%|█▏        | 608/5000 [00:15<00:48, 90.92it/s]"
     ]
    },
    {
     "name": "stderr",
     "output_type": "stream",
     "text": [
      "\r",
      "Step 2/3 :  12%|█▏        | 618/5000 [00:15<00:50, 87.51it/s]"
     ]
    },
    {
     "name": "stderr",
     "output_type": "stream",
     "text": [
      "\r",
      "Step 2/3 :  12%|█▏        | 618/5000 [00:15<00:50, 87.51it/s]"
     ]
    },
    {
     "name": "stderr",
     "output_type": "stream",
     "text": [
      "\r",
      "Step 2/3 :  12%|█▏        | 618/5000 [00:15<00:50, 87.51it/s]"
     ]
    },
    {
     "name": "stderr",
     "output_type": "stream",
     "text": [
      "\r",
      "Step 2/3 :  12%|█▏        | 618/5000 [00:15<00:50, 87.51it/s]"
     ]
    },
    {
     "name": "stderr",
     "output_type": "stream",
     "text": [
      "\r",
      "Step 2/3 :  12%|█▏        | 618/5000 [00:15<00:50, 87.51it/s]"
     ]
    },
    {
     "name": "stderr",
     "output_type": "stream",
     "text": [
      "\r",
      "Step 2/3 :  12%|█▏        | 618/5000 [00:15<00:50, 87.51it/s]"
     ]
    },
    {
     "name": "stderr",
     "output_type": "stream",
     "text": [
      "\r",
      "Step 2/3 :  12%|█▏        | 618/5000 [00:15<00:50, 87.51it/s]"
     ]
    },
    {
     "name": "stderr",
     "output_type": "stream",
     "text": [
      "\r",
      "Step 2/3 :  12%|█▏        | 618/5000 [00:15<00:50, 87.51it/s]"
     ]
    },
    {
     "name": "stderr",
     "output_type": "stream",
     "text": [
      "\r",
      "Step 2/3 :  12%|█▏        | 618/5000 [00:15<00:50, 87.51it/s]"
     ]
    },
    {
     "name": "stderr",
     "output_type": "stream",
     "text": [
      "\r",
      "Step 2/3 :  12%|█▏        | 618/5000 [00:15<00:50, 87.51it/s]"
     ]
    },
    {
     "name": "stderr",
     "output_type": "stream",
     "text": [
      "\r",
      "Step 2/3 :  12%|█▏        | 618/5000 [00:15<00:50, 87.51it/s]"
     ]
    },
    {
     "name": "stderr",
     "output_type": "stream",
     "text": [
      "\r",
      "Step 2/3 :  13%|█▎        | 628/5000 [00:15<00:48, 89.23it/s]"
     ]
    },
    {
     "name": "stderr",
     "output_type": "stream",
     "text": [
      "\r",
      "Step 2/3 :  13%|█▎        | 628/5000 [00:15<00:48, 89.23it/s]"
     ]
    },
    {
     "name": "stderr",
     "output_type": "stream",
     "text": [
      "\r",
      "Step 2/3 :  13%|█▎        | 628/5000 [00:15<00:48, 89.23it/s]"
     ]
    },
    {
     "name": "stderr",
     "output_type": "stream",
     "text": [
      "\r",
      "Step 2/3 :  13%|█▎        | 628/5000 [00:15<00:48, 89.23it/s]"
     ]
    },
    {
     "name": "stderr",
     "output_type": "stream",
     "text": [
      "\r",
      "Step 2/3 :  13%|█▎        | 628/5000 [00:15<00:48, 89.23it/s]"
     ]
    },
    {
     "name": "stderr",
     "output_type": "stream",
     "text": [
      "\r",
      "Step 2/3 :  13%|█▎        | 628/5000 [00:15<00:48, 89.23it/s]"
     ]
    },
    {
     "name": "stderr",
     "output_type": "stream",
     "text": [
      "\r",
      "Step 2/3 :  13%|█▎        | 628/5000 [00:15<00:48, 89.23it/s]"
     ]
    },
    {
     "name": "stderr",
     "output_type": "stream",
     "text": [
      "\r",
      "Step 2/3 :  13%|█▎        | 628/5000 [00:15<00:48, 89.23it/s]"
     ]
    },
    {
     "name": "stderr",
     "output_type": "stream",
     "text": [
      "\r",
      "Step 2/3 :  13%|█▎        | 628/5000 [00:15<00:48, 89.23it/s]"
     ]
    },
    {
     "name": "stderr",
     "output_type": "stream",
     "text": [
      "\r",
      "Step 2/3 :  13%|█▎        | 628/5000 [00:15<00:48, 89.23it/s]"
     ]
    },
    {
     "name": "stderr",
     "output_type": "stream",
     "text": [
      "\r",
      "Step 2/3 :  13%|█▎        | 628/5000 [00:15<00:48, 89.23it/s]"
     ]
    },
    {
     "name": "stderr",
     "output_type": "stream",
     "text": [
      "\r",
      "Step 2/3 :  13%|█▎        | 638/5000 [00:15<00:47, 91.99it/s]"
     ]
    },
    {
     "name": "stderr",
     "output_type": "stream",
     "text": [
      "\r",
      "Step 2/3 :  13%|█▎        | 638/5000 [00:15<00:47, 91.99it/s]"
     ]
    },
    {
     "name": "stderr",
     "output_type": "stream",
     "text": [
      "\r",
      "Step 2/3 :  13%|█▎        | 638/5000 [00:15<00:47, 91.99it/s]"
     ]
    },
    {
     "name": "stderr",
     "output_type": "stream",
     "text": [
      "\r",
      "Step 2/3 :  13%|█▎        | 638/5000 [00:15<00:47, 91.99it/s]"
     ]
    },
    {
     "name": "stderr",
     "output_type": "stream",
     "text": [
      "\r",
      "Step 2/3 :  13%|█▎        | 638/5000 [00:15<00:47, 91.99it/s]"
     ]
    },
    {
     "name": "stderr",
     "output_type": "stream",
     "text": [
      "\r",
      "Step 2/3 :  13%|█▎        | 638/5000 [00:15<00:47, 91.99it/s]"
     ]
    },
    {
     "name": "stderr",
     "output_type": "stream",
     "text": [
      "\r",
      "Step 2/3 :  13%|█▎        | 638/5000 [00:15<00:47, 91.99it/s]"
     ]
    },
    {
     "name": "stderr",
     "output_type": "stream",
     "text": [
      "\r",
      "Step 2/3 :  13%|█▎        | 638/5000 [00:15<00:47, 91.99it/s]"
     ]
    },
    {
     "name": "stderr",
     "output_type": "stream",
     "text": [
      "\r",
      "Step 2/3 :  13%|█▎        | 638/5000 [00:15<00:47, 91.99it/s]"
     ]
    },
    {
     "name": "stderr",
     "output_type": "stream",
     "text": [
      "\r",
      "Step 2/3 :  13%|█▎        | 638/5000 [00:15<00:47, 91.99it/s]"
     ]
    },
    {
     "name": "stderr",
     "output_type": "stream",
     "text": [
      "\r",
      "Step 2/3 :  13%|█▎        | 638/5000 [00:15<00:47, 91.99it/s]"
     ]
    },
    {
     "name": "stderr",
     "output_type": "stream",
     "text": [
      "\r",
      "Step 2/3 :  13%|█▎        | 648/5000 [00:15<00:46, 94.00it/s]"
     ]
    },
    {
     "name": "stderr",
     "output_type": "stream",
     "text": [
      "\r",
      "Step 2/3 :  13%|█▎        | 648/5000 [00:15<00:46, 94.00it/s]"
     ]
    },
    {
     "name": "stderr",
     "output_type": "stream",
     "text": [
      "\r",
      "Step 2/3 :  13%|█▎        | 648/5000 [00:15<00:46, 94.00it/s]"
     ]
    },
    {
     "name": "stderr",
     "output_type": "stream",
     "text": [
      "\r",
      "Step 2/3 :  13%|█▎        | 648/5000 [00:15<00:46, 94.00it/s]"
     ]
    },
    {
     "name": "stderr",
     "output_type": "stream",
     "text": [
      "\r",
      "Step 2/3 :  13%|█▎        | 648/5000 [00:15<00:46, 94.00it/s]"
     ]
    },
    {
     "name": "stderr",
     "output_type": "stream",
     "text": [
      "\r",
      "Step 2/3 :  13%|█▎        | 648/5000 [00:15<00:46, 94.00it/s]"
     ]
    },
    {
     "name": "stderr",
     "output_type": "stream",
     "text": [
      "\r",
      "Step 2/3 :  13%|█▎        | 648/5000 [00:15<00:46, 94.00it/s]"
     ]
    },
    {
     "name": "stderr",
     "output_type": "stream",
     "text": [
      "\r",
      "Step 2/3 :  13%|█▎        | 648/5000 [00:15<00:46, 94.00it/s]"
     ]
    },
    {
     "name": "stderr",
     "output_type": "stream",
     "text": [
      "\r",
      "Step 2/3 :  13%|█▎        | 648/5000 [00:15<00:46, 94.00it/s]"
     ]
    },
    {
     "name": "stderr",
     "output_type": "stream",
     "text": [
      "\r",
      "Step 2/3 :  13%|█▎        | 648/5000 [00:15<00:46, 94.00it/s]"
     ]
    },
    {
     "name": "stderr",
     "output_type": "stream",
     "text": [
      "\r",
      "Step 2/3 :  13%|█▎        | 648/5000 [00:15<00:46, 94.00it/s]"
     ]
    },
    {
     "name": "stderr",
     "output_type": "stream",
     "text": [
      "\r",
      "Step 2/3 :  13%|█▎        | 658/5000 [00:15<00:45, 94.64it/s]"
     ]
    },
    {
     "name": "stderr",
     "output_type": "stream",
     "text": [
      "\r",
      "Step 2/3 :  13%|█▎        | 658/5000 [00:15<00:45, 94.64it/s]"
     ]
    },
    {
     "name": "stderr",
     "output_type": "stream",
     "text": [
      "\r",
      "Step 2/3 :  13%|█▎        | 658/5000 [00:15<00:45, 94.64it/s]"
     ]
    },
    {
     "name": "stderr",
     "output_type": "stream",
     "text": [
      "\r",
      "Step 2/3 :  13%|█▎        | 658/5000 [00:15<00:45, 94.64it/s]"
     ]
    },
    {
     "name": "stderr",
     "output_type": "stream",
     "text": [
      "\r",
      "Step 2/3 :  13%|█▎        | 658/5000 [00:15<00:45, 94.64it/s]"
     ]
    },
    {
     "name": "stderr",
     "output_type": "stream",
     "text": [
      "\r",
      "Step 2/3 :  13%|█▎        | 658/5000 [00:15<00:45, 94.64it/s]"
     ]
    },
    {
     "name": "stderr",
     "output_type": "stream",
     "text": [
      "\r",
      "Step 2/3 :  13%|█▎        | 658/5000 [00:15<00:45, 94.64it/s]"
     ]
    },
    {
     "name": "stderr",
     "output_type": "stream",
     "text": [
      "\r",
      "Step 2/3 :  13%|█▎        | 658/5000 [00:16<00:45, 94.64it/s]"
     ]
    },
    {
     "name": "stderr",
     "output_type": "stream",
     "text": [
      "\r",
      "Step 2/3 :  13%|█▎        | 658/5000 [00:16<00:45, 94.64it/s]"
     ]
    },
    {
     "name": "stderr",
     "output_type": "stream",
     "text": [
      "\r",
      "Step 2/3 :  13%|█▎        | 658/5000 [00:16<00:45, 94.64it/s]"
     ]
    },
    {
     "name": "stderr",
     "output_type": "stream",
     "text": [
      "\r",
      "Step 2/3 :  13%|█▎        | 658/5000 [00:16<00:45, 94.64it/s]"
     ]
    },
    {
     "name": "stderr",
     "output_type": "stream",
     "text": [
      "\r",
      "Step 2/3 :  13%|█▎        | 668/5000 [00:16<00:45, 95.69it/s]"
     ]
    },
    {
     "name": "stderr",
     "output_type": "stream",
     "text": [
      "\r",
      "Step 2/3 :  13%|█▎        | 668/5000 [00:16<00:45, 95.69it/s]"
     ]
    },
    {
     "name": "stderr",
     "output_type": "stream",
     "text": [
      "\r",
      "Step 2/3 :  13%|█▎        | 668/5000 [00:16<00:45, 95.69it/s]"
     ]
    },
    {
     "name": "stderr",
     "output_type": "stream",
     "text": [
      "\r",
      "Step 2/3 :  13%|█▎        | 668/5000 [00:16<00:45, 95.69it/s]"
     ]
    },
    {
     "name": "stderr",
     "output_type": "stream",
     "text": [
      "\r",
      "Step 2/3 :  13%|█▎        | 668/5000 [00:16<00:45, 95.69it/s]"
     ]
    },
    {
     "name": "stderr",
     "output_type": "stream",
     "text": [
      "\r",
      "Step 2/3 :  13%|█▎        | 668/5000 [00:16<00:45, 95.69it/s]"
     ]
    },
    {
     "name": "stderr",
     "output_type": "stream",
     "text": [
      "\r",
      "Step 2/3 :  13%|█▎        | 668/5000 [00:16<00:45, 95.69it/s]"
     ]
    },
    {
     "name": "stderr",
     "output_type": "stream",
     "text": [
      "\r",
      "Step 2/3 :  13%|█▎        | 668/5000 [00:16<00:45, 95.69it/s]"
     ]
    },
    {
     "name": "stderr",
     "output_type": "stream",
     "text": [
      "\r",
      "Step 2/3 :  13%|█▎        | 668/5000 [00:16<00:45, 95.69it/s]"
     ]
    },
    {
     "name": "stderr",
     "output_type": "stream",
     "text": [
      "\r",
      "Step 2/3 :  13%|█▎        | 668/5000 [00:16<00:45, 95.69it/s]"
     ]
    },
    {
     "name": "stderr",
     "output_type": "stream",
     "text": [
      "\r",
      "Step 2/3 :  13%|█▎        | 668/5000 [00:16<00:45, 95.69it/s]"
     ]
    },
    {
     "name": "stderr",
     "output_type": "stream",
     "text": [
      "\r",
      "Step 2/3 :  14%|█▎        | 678/5000 [00:16<00:45, 95.28it/s]"
     ]
    },
    {
     "name": "stderr",
     "output_type": "stream",
     "text": [
      "\r",
      "Step 2/3 :  14%|█▎        | 678/5000 [00:16<00:45, 95.28it/s]"
     ]
    },
    {
     "name": "stderr",
     "output_type": "stream",
     "text": [
      "\r",
      "Step 2/3 :  14%|█▎        | 678/5000 [00:16<00:45, 95.28it/s]"
     ]
    },
    {
     "name": "stderr",
     "output_type": "stream",
     "text": [
      "\r",
      "Step 2/3 :  14%|█▎        | 678/5000 [00:16<00:45, 95.28it/s]"
     ]
    },
    {
     "name": "stderr",
     "output_type": "stream",
     "text": [
      "\r",
      "Step 2/3 :  14%|█▎        | 678/5000 [00:16<00:45, 95.28it/s]"
     ]
    },
    {
     "name": "stderr",
     "output_type": "stream",
     "text": [
      "\r",
      "Step 2/3 :  14%|█▎        | 678/5000 [00:16<00:45, 95.28it/s]"
     ]
    },
    {
     "name": "stderr",
     "output_type": "stream",
     "text": [
      "\r",
      "Step 2/3 :  14%|█▎        | 678/5000 [00:16<00:45, 95.28it/s]"
     ]
    },
    {
     "name": "stderr",
     "output_type": "stream",
     "text": [
      "\r",
      "Step 2/3 :  14%|█▎        | 678/5000 [00:16<00:45, 95.28it/s]"
     ]
    },
    {
     "name": "stderr",
     "output_type": "stream",
     "text": [
      "\r",
      "Step 2/3 :  14%|█▎        | 678/5000 [00:16<00:45, 95.28it/s]"
     ]
    },
    {
     "name": "stderr",
     "output_type": "stream",
     "text": [
      "\r",
      "Step 2/3 :  14%|█▎        | 678/5000 [00:16<00:45, 95.28it/s]"
     ]
    },
    {
     "name": "stderr",
     "output_type": "stream",
     "text": [
      "\r",
      "Step 2/3 :  14%|█▎        | 678/5000 [00:16<00:45, 95.28it/s]"
     ]
    },
    {
     "name": "stderr",
     "output_type": "stream",
     "text": [
      "\r",
      "Step 2/3 :  14%|█▍        | 688/5000 [00:16<00:45, 95.53it/s]"
     ]
    },
    {
     "name": "stderr",
     "output_type": "stream",
     "text": [
      "\r",
      "Step 2/3 :  14%|█▍        | 688/5000 [00:16<00:45, 95.53it/s]"
     ]
    },
    {
     "name": "stderr",
     "output_type": "stream",
     "text": [
      "\r",
      "Step 2/3 :  14%|█▍        | 688/5000 [00:16<00:45, 95.53it/s]"
     ]
    },
    {
     "name": "stderr",
     "output_type": "stream",
     "text": [
      "\r",
      "Step 2/3 :  14%|█▍        | 688/5000 [00:16<00:45, 95.53it/s]"
     ]
    },
    {
     "name": "stderr",
     "output_type": "stream",
     "text": [
      "\r",
      "Step 2/3 :  14%|█▍        | 688/5000 [00:16<00:45, 95.53it/s]"
     ]
    },
    {
     "name": "stderr",
     "output_type": "stream",
     "text": [
      "\r",
      "Step 2/3 :  14%|█▍        | 688/5000 [00:16<00:45, 95.53it/s]"
     ]
    },
    {
     "name": "stderr",
     "output_type": "stream",
     "text": [
      "\r",
      "Step 2/3 :  14%|█▍        | 688/5000 [00:16<00:45, 95.53it/s]"
     ]
    },
    {
     "name": "stderr",
     "output_type": "stream",
     "text": [
      "\r",
      "Step 2/3 :  14%|█▍        | 688/5000 [00:16<00:45, 95.53it/s]"
     ]
    },
    {
     "name": "stderr",
     "output_type": "stream",
     "text": [
      "\r",
      "Step 2/3 :  14%|█▍        | 688/5000 [00:16<00:45, 95.53it/s]"
     ]
    },
    {
     "name": "stderr",
     "output_type": "stream",
     "text": [
      "\r",
      "Step 2/3 :  14%|█▍        | 688/5000 [00:16<00:45, 95.53it/s]"
     ]
    },
    {
     "name": "stderr",
     "output_type": "stream",
     "text": [
      "\r",
      "Step 2/3 :  14%|█▍        | 688/5000 [00:16<00:45, 95.53it/s]"
     ]
    },
    {
     "name": "stderr",
     "output_type": "stream",
     "text": [
      "\r",
      "Step 2/3 :  14%|█▍        | 698/5000 [00:16<00:44, 95.71it/s]"
     ]
    },
    {
     "name": "stderr",
     "output_type": "stream",
     "text": [
      "\r",
      "Step 2/3 :  14%|█▍        | 698/5000 [00:16<00:44, 95.71it/s]"
     ]
    },
    {
     "name": "stderr",
     "output_type": "stream",
     "text": [
      "\r",
      "Step 2/3 :  14%|█▍        | 698/5000 [00:16<00:44, 95.71it/s]"
     ]
    },
    {
     "name": "stderr",
     "output_type": "stream",
     "text": [
      "\r",
      "Step 2/3 :  14%|█▍        | 698/5000 [00:16<00:44, 95.71it/s]"
     ]
    },
    {
     "name": "stderr",
     "output_type": "stream",
     "text": [
      "\r",
      "Step 2/3 :  14%|█▍        | 698/5000 [00:16<00:44, 95.71it/s]"
     ]
    },
    {
     "name": "stderr",
     "output_type": "stream",
     "text": [
      "\r",
      "Step 2/3 :  14%|█▍        | 698/5000 [00:16<00:44, 95.71it/s]"
     ]
    },
    {
     "name": "stderr",
     "output_type": "stream",
     "text": [
      "\r",
      "Step 2/3 :  14%|█▍        | 698/5000 [00:16<00:44, 95.71it/s]"
     ]
    },
    {
     "name": "stderr",
     "output_type": "stream",
     "text": [
      "\r",
      "Step 2/3 :  14%|█▍        | 698/5000 [00:16<00:44, 95.71it/s]"
     ]
    },
    {
     "name": "stderr",
     "output_type": "stream",
     "text": [
      "\r",
      "Step 2/3 :  14%|█▍        | 698/5000 [00:16<00:44, 95.71it/s]"
     ]
    },
    {
     "name": "stderr",
     "output_type": "stream",
     "text": [
      "\r",
      "Step 2/3 :  14%|█▍        | 698/5000 [00:16<00:44, 95.71it/s]"
     ]
    },
    {
     "name": "stderr",
     "output_type": "stream",
     "text": [
      "\r",
      "Step 2/3 :  14%|█▍        | 698/5000 [00:16<00:44, 95.71it/s]"
     ]
    },
    {
     "name": "stderr",
     "output_type": "stream",
     "text": [
      "\r",
      "Step 2/3 :  14%|█▍        | 708/5000 [00:16<00:45, 94.47it/s]"
     ]
    },
    {
     "name": "stderr",
     "output_type": "stream",
     "text": [
      "\r",
      "Step 2/3 :  14%|█▍        | 708/5000 [00:16<00:45, 94.47it/s]"
     ]
    },
    {
     "name": "stderr",
     "output_type": "stream",
     "text": [
      "\r",
      "Step 2/3 :  14%|█▍        | 708/5000 [00:16<00:45, 94.47it/s]"
     ]
    },
    {
     "name": "stderr",
     "output_type": "stream",
     "text": [
      "\r",
      "Step 2/3 :  14%|█▍        | 708/5000 [00:16<00:45, 94.47it/s]"
     ]
    },
    {
     "name": "stderr",
     "output_type": "stream",
     "text": [
      "\r",
      "Step 2/3 :  14%|█▍        | 708/5000 [00:16<00:45, 94.47it/s]"
     ]
    },
    {
     "name": "stderr",
     "output_type": "stream",
     "text": [
      "\r",
      "Step 2/3 :  14%|█▍        | 708/5000 [00:16<00:45, 94.47it/s]"
     ]
    },
    {
     "name": "stderr",
     "output_type": "stream",
     "text": [
      "\r",
      "Step 2/3 :  14%|█▍        | 708/5000 [00:16<00:45, 94.47it/s]"
     ]
    },
    {
     "name": "stderr",
     "output_type": "stream",
     "text": [
      "\r",
      "Step 2/3 :  14%|█▍        | 708/5000 [00:16<00:45, 94.47it/s]"
     ]
    },
    {
     "name": "stderr",
     "output_type": "stream",
     "text": [
      "\r",
      "Step 2/3 :  14%|█▍        | 708/5000 [00:16<00:45, 94.47it/s]"
     ]
    },
    {
     "name": "stderr",
     "output_type": "stream",
     "text": [
      "\r",
      "Step 2/3 :  14%|█▍        | 708/5000 [00:16<00:45, 94.47it/s]"
     ]
    },
    {
     "name": "stderr",
     "output_type": "stream",
     "text": [
      "\r",
      "Step 2/3 :  14%|█▍        | 708/5000 [00:16<00:45, 94.47it/s]"
     ]
    },
    {
     "name": "stderr",
     "output_type": "stream",
     "text": [
      "\r",
      "Step 2/3 :  14%|█▍        | 718/5000 [00:16<00:47, 90.83it/s]"
     ]
    },
    {
     "name": "stderr",
     "output_type": "stream",
     "text": [
      "\r",
      "Step 2/3 :  14%|█▍        | 718/5000 [00:16<00:47, 90.83it/s]"
     ]
    },
    {
     "name": "stderr",
     "output_type": "stream",
     "text": [
      "\r",
      "Step 2/3 :  14%|█▍        | 718/5000 [00:16<00:47, 90.83it/s]"
     ]
    },
    {
     "name": "stderr",
     "output_type": "stream",
     "text": [
      "\r",
      "Step 2/3 :  14%|█▍        | 718/5000 [00:16<00:47, 90.83it/s]"
     ]
    },
    {
     "name": "stderr",
     "output_type": "stream",
     "text": [
      "\r",
      "Step 2/3 :  14%|█▍        | 718/5000 [00:16<00:47, 90.83it/s]"
     ]
    },
    {
     "name": "stderr",
     "output_type": "stream",
     "text": [
      "\r",
      "Step 2/3 :  14%|█▍        | 718/5000 [00:16<00:47, 90.83it/s]"
     ]
    },
    {
     "name": "stderr",
     "output_type": "stream",
     "text": [
      "\r",
      "Step 2/3 :  14%|█▍        | 718/5000 [00:16<00:47, 90.83it/s]"
     ]
    },
    {
     "name": "stderr",
     "output_type": "stream",
     "text": [
      "\r",
      "Step 2/3 :  14%|█▍        | 718/5000 [00:16<00:47, 90.83it/s]"
     ]
    },
    {
     "name": "stderr",
     "output_type": "stream",
     "text": [
      "\r",
      "Step 2/3 :  14%|█▍        | 718/5000 [00:16<00:47, 90.83it/s]"
     ]
    },
    {
     "name": "stderr",
     "output_type": "stream",
     "text": [
      "\r",
      "Step 2/3 :  14%|█▍        | 718/5000 [00:16<00:47, 90.83it/s]"
     ]
    },
    {
     "name": "stderr",
     "output_type": "stream",
     "text": [
      "\r",
      "Step 2/3 :  14%|█▍        | 718/5000 [00:16<00:47, 90.83it/s]"
     ]
    },
    {
     "name": "stderr",
     "output_type": "stream",
     "text": [
      "\r",
      "Step 2/3 :  15%|█▍        | 728/5000 [00:16<00:45, 93.13it/s]"
     ]
    },
    {
     "name": "stderr",
     "output_type": "stream",
     "text": [
      "\r",
      "Step 2/3 :  15%|█▍        | 728/5000 [00:16<00:45, 93.13it/s]"
     ]
    },
    {
     "name": "stderr",
     "output_type": "stream",
     "text": [
      "\r",
      "Step 2/3 :  15%|█▍        | 728/5000 [00:16<00:45, 93.13it/s]"
     ]
    },
    {
     "name": "stderr",
     "output_type": "stream",
     "text": [
      "\r",
      "Step 2/3 :  15%|█▍        | 728/5000 [00:16<00:45, 93.13it/s]"
     ]
    },
    {
     "name": "stderr",
     "output_type": "stream",
     "text": [
      "\r",
      "Step 2/3 :  15%|█▍        | 728/5000 [00:16<00:45, 93.13it/s]"
     ]
    },
    {
     "name": "stderr",
     "output_type": "stream",
     "text": [
      "\r",
      "Step 2/3 :  15%|█▍        | 728/5000 [00:16<00:45, 93.13it/s]"
     ]
    },
    {
     "name": "stderr",
     "output_type": "stream",
     "text": [
      "\r",
      "Step 2/3 :  15%|█▍        | 728/5000 [00:16<00:45, 93.13it/s]"
     ]
    },
    {
     "name": "stderr",
     "output_type": "stream",
     "text": [
      "\r",
      "Step 2/3 :  15%|█▍        | 728/5000 [00:16<00:45, 93.13it/s]"
     ]
    },
    {
     "name": "stderr",
     "output_type": "stream",
     "text": [
      "\r",
      "Step 2/3 :  15%|█▍        | 728/5000 [00:16<00:45, 93.13it/s]"
     ]
    },
    {
     "name": "stderr",
     "output_type": "stream",
     "text": [
      "\r",
      "Step 2/3 :  15%|█▍        | 728/5000 [00:16<00:45, 93.13it/s]"
     ]
    },
    {
     "name": "stderr",
     "output_type": "stream",
     "text": [
      "\r",
      "Step 2/3 :  15%|█▍        | 728/5000 [00:16<00:45, 93.13it/s]"
     ]
    },
    {
     "name": "stderr",
     "output_type": "stream",
     "text": [
      "\r",
      "Step 2/3 :  15%|█▍        | 728/5000 [00:16<00:45, 93.13it/s]"
     ]
    },
    {
     "name": "stderr",
     "output_type": "stream",
     "text": [
      "\r",
      "Step 2/3 :  15%|█▍        | 739/5000 [00:16<00:44, 95.74it/s]"
     ]
    },
    {
     "name": "stderr",
     "output_type": "stream",
     "text": [
      "\r",
      "Step 2/3 :  15%|█▍        | 739/5000 [00:16<00:44, 95.74it/s]"
     ]
    },
    {
     "name": "stderr",
     "output_type": "stream",
     "text": [
      "\r",
      "Step 2/3 :  15%|█▍        | 739/5000 [00:16<00:44, 95.74it/s]"
     ]
    },
    {
     "name": "stderr",
     "output_type": "stream",
     "text": [
      "\r",
      "Step 2/3 :  15%|█▍        | 739/5000 [00:16<00:44, 95.74it/s]"
     ]
    },
    {
     "name": "stderr",
     "output_type": "stream",
     "text": [
      "\r",
      "Step 2/3 :  15%|█▍        | 739/5000 [00:16<00:44, 95.74it/s]"
     ]
    },
    {
     "name": "stderr",
     "output_type": "stream",
     "text": [
      "\r",
      "Step 2/3 :  15%|█▍        | 739/5000 [00:16<00:44, 95.74it/s]"
     ]
    },
    {
     "name": "stderr",
     "output_type": "stream",
     "text": [
      "\r",
      "Step 2/3 :  15%|█▍        | 739/5000 [00:16<00:44, 95.74it/s]"
     ]
    },
    {
     "name": "stderr",
     "output_type": "stream",
     "text": [
      "\r",
      "Step 2/3 :  15%|█▍        | 739/5000 [00:16<00:44, 95.74it/s]"
     ]
    },
    {
     "name": "stderr",
     "output_type": "stream",
     "text": [
      "\r",
      "Step 2/3 :  15%|█▍        | 739/5000 [00:16<00:44, 95.74it/s]"
     ]
    },
    {
     "name": "stderr",
     "output_type": "stream",
     "text": [
      "\r",
      "Step 2/3 :  15%|█▍        | 739/5000 [00:16<00:44, 95.74it/s]"
     ]
    },
    {
     "name": "stderr",
     "output_type": "stream",
     "text": [
      "\r",
      "Step 2/3 :  15%|█▍        | 739/5000 [00:16<00:44, 95.74it/s]"
     ]
    },
    {
     "name": "stderr",
     "output_type": "stream",
     "text": [
      "\r",
      "Step 2/3 :  15%|█▍        | 749/5000 [00:16<00:44, 96.21it/s]"
     ]
    },
    {
     "name": "stderr",
     "output_type": "stream",
     "text": [
      "\r",
      "Step 2/3 :  15%|█▍        | 749/5000 [00:16<00:44, 96.21it/s]"
     ]
    },
    {
     "name": "stderr",
     "output_type": "stream",
     "text": [
      "\r",
      "Step 2/3 :  15%|█▍        | 749/5000 [00:16<00:44, 96.21it/s]"
     ]
    },
    {
     "name": "stderr",
     "output_type": "stream",
     "text": [
      "\r",
      "Step 2/3 :  15%|█▍        | 749/5000 [00:16<00:44, 96.21it/s]"
     ]
    },
    {
     "name": "stderr",
     "output_type": "stream",
     "text": [
      "\r",
      "Step 2/3 :  15%|█▍        | 749/5000 [00:16<00:44, 96.21it/s]"
     ]
    },
    {
     "name": "stderr",
     "output_type": "stream",
     "text": [
      "\r",
      "Step 2/3 :  15%|█▍        | 749/5000 [00:16<00:44, 96.21it/s]"
     ]
    },
    {
     "name": "stderr",
     "output_type": "stream",
     "text": [
      "\r",
      "Step 2/3 :  15%|█▍        | 749/5000 [00:16<00:44, 96.21it/s]"
     ]
    },
    {
     "name": "stderr",
     "output_type": "stream",
     "text": [
      "\r",
      "Step 2/3 :  15%|█▍        | 749/5000 [00:16<00:44, 96.21it/s]"
     ]
    },
    {
     "name": "stderr",
     "output_type": "stream",
     "text": [
      "\r",
      "Step 2/3 :  15%|█▍        | 749/5000 [00:16<00:44, 96.21it/s]"
     ]
    },
    {
     "name": "stderr",
     "output_type": "stream",
     "text": [
      "\r",
      "Step 2/3 :  15%|█▍        | 749/5000 [00:16<00:44, 96.21it/s]"
     ]
    },
    {
     "name": "stderr",
     "output_type": "stream",
     "text": [
      "\r",
      "Step 2/3 :  15%|█▍        | 749/5000 [00:16<00:44, 96.21it/s]"
     ]
    },
    {
     "name": "stderr",
     "output_type": "stream",
     "text": [
      "\r",
      "Step 2/3 :  15%|█▍        | 749/5000 [00:16<00:44, 96.21it/s]"
     ]
    },
    {
     "name": "stderr",
     "output_type": "stream",
     "text": [
      "\r",
      "Step 2/3 :  15%|█▌        | 760/5000 [00:17<00:43, 97.50it/s]"
     ]
    },
    {
     "name": "stderr",
     "output_type": "stream",
     "text": [
      "\r",
      "Step 2/3 :  15%|█▌        | 760/5000 [00:17<00:43, 97.50it/s]"
     ]
    },
    {
     "name": "stderr",
     "output_type": "stream",
     "text": [
      "\r",
      "Step 2/3 :  15%|█▌        | 760/5000 [00:17<00:43, 97.50it/s]"
     ]
    },
    {
     "name": "stderr",
     "output_type": "stream",
     "text": [
      "\r",
      "Step 2/3 :  15%|█▌        | 760/5000 [00:17<00:43, 97.50it/s]"
     ]
    },
    {
     "name": "stderr",
     "output_type": "stream",
     "text": [
      "\r",
      "Step 2/3 :  15%|█▌        | 760/5000 [00:17<00:43, 97.50it/s]"
     ]
    },
    {
     "name": "stderr",
     "output_type": "stream",
     "text": [
      "\r",
      "Step 2/3 :  15%|█▌        | 760/5000 [00:17<00:43, 97.50it/s]"
     ]
    },
    {
     "name": "stderr",
     "output_type": "stream",
     "text": [
      "\r",
      "Step 2/3 :  15%|█▌        | 760/5000 [00:17<00:43, 97.50it/s]"
     ]
    },
    {
     "name": "stderr",
     "output_type": "stream",
     "text": [
      "\r",
      "Step 2/3 :  15%|█▌        | 760/5000 [00:17<00:43, 97.50it/s]"
     ]
    },
    {
     "name": "stderr",
     "output_type": "stream",
     "text": [
      "\r",
      "Step 2/3 :  15%|█▌        | 760/5000 [00:17<00:43, 97.50it/s]"
     ]
    },
    {
     "name": "stderr",
     "output_type": "stream",
     "text": [
      "\r",
      "Step 2/3 :  15%|█▌        | 760/5000 [00:17<00:43, 97.50it/s]"
     ]
    },
    {
     "name": "stderr",
     "output_type": "stream",
     "text": [
      "\r",
      "Step 2/3 :  15%|█▌        | 760/5000 [00:17<00:43, 97.50it/s]"
     ]
    },
    {
     "name": "stderr",
     "output_type": "stream",
     "text": [
      "\r",
      "Step 2/3 :  15%|█▌        | 770/5000 [00:17<00:43, 97.08it/s]"
     ]
    },
    {
     "name": "stderr",
     "output_type": "stream",
     "text": [
      "\r",
      "Step 2/3 :  15%|█▌        | 770/5000 [00:17<00:43, 97.08it/s]"
     ]
    },
    {
     "name": "stderr",
     "output_type": "stream",
     "text": [
      "\r",
      "Step 2/3 :  15%|█▌        | 770/5000 [00:17<00:43, 97.08it/s]"
     ]
    },
    {
     "name": "stderr",
     "output_type": "stream",
     "text": [
      "\r",
      "Step 2/3 :  15%|█▌        | 770/5000 [00:17<00:43, 97.08it/s]"
     ]
    },
    {
     "name": "stderr",
     "output_type": "stream",
     "text": [
      "\r",
      "Step 2/3 :  15%|█▌        | 770/5000 [00:17<00:43, 97.08it/s]"
     ]
    },
    {
     "name": "stderr",
     "output_type": "stream",
     "text": [
      "\r",
      "Step 2/3 :  15%|█▌        | 770/5000 [00:17<00:43, 97.08it/s]"
     ]
    },
    {
     "name": "stderr",
     "output_type": "stream",
     "text": [
      "\r",
      "Step 2/3 :  15%|█▌        | 770/5000 [00:17<00:43, 97.08it/s]"
     ]
    },
    {
     "name": "stderr",
     "output_type": "stream",
     "text": [
      "\r",
      "Step 2/3 :  15%|█▌        | 770/5000 [00:17<00:43, 97.08it/s]"
     ]
    },
    {
     "name": "stderr",
     "output_type": "stream",
     "text": [
      "\r",
      "Step 2/3 :  15%|█▌        | 770/5000 [00:17<00:43, 97.08it/s]"
     ]
    },
    {
     "name": "stderr",
     "output_type": "stream",
     "text": [
      "\r",
      "Step 2/3 :  15%|█▌        | 770/5000 [00:17<00:43, 97.08it/s]"
     ]
    },
    {
     "name": "stderr",
     "output_type": "stream",
     "text": [
      "\r",
      "Step 2/3 :  15%|█▌        | 770/5000 [00:17<00:43, 97.08it/s]"
     ]
    },
    {
     "name": "stderr",
     "output_type": "stream",
     "text": [
      "\r",
      "Step 2/3 :  16%|█▌        | 780/5000 [00:17<00:43, 96.26it/s]"
     ]
    },
    {
     "name": "stderr",
     "output_type": "stream",
     "text": [
      "\r",
      "Step 2/3 :  16%|█▌        | 780/5000 [00:17<00:43, 96.26it/s]"
     ]
    },
    {
     "name": "stderr",
     "output_type": "stream",
     "text": [
      "\r",
      "Step 2/3 :  16%|█▌        | 780/5000 [00:17<00:43, 96.26it/s]"
     ]
    },
    {
     "name": "stderr",
     "output_type": "stream",
     "text": [
      "\r",
      "Step 2/3 :  16%|█▌        | 780/5000 [00:17<00:43, 96.26it/s]"
     ]
    },
    {
     "name": "stderr",
     "output_type": "stream",
     "text": [
      "\r",
      "Step 2/3 :  16%|█▌        | 780/5000 [00:17<00:43, 96.26it/s]"
     ]
    },
    {
     "name": "stderr",
     "output_type": "stream",
     "text": [
      "\r",
      "Step 2/3 :  16%|█▌        | 780/5000 [00:17<00:43, 96.26it/s]"
     ]
    },
    {
     "name": "stderr",
     "output_type": "stream",
     "text": [
      "\r",
      "Step 2/3 :  16%|█▌        | 780/5000 [00:17<00:43, 96.26it/s]"
     ]
    },
    {
     "name": "stderr",
     "output_type": "stream",
     "text": [
      "\r",
      "Step 2/3 :  16%|█▌        | 780/5000 [00:17<00:43, 96.26it/s]"
     ]
    },
    {
     "name": "stderr",
     "output_type": "stream",
     "text": [
      "\r",
      "Step 2/3 :  16%|█▌        | 780/5000 [00:17<00:43, 96.26it/s]"
     ]
    },
    {
     "name": "stderr",
     "output_type": "stream",
     "text": [
      "\r",
      "Step 2/3 :  16%|█▌        | 780/5000 [00:17<00:43, 96.26it/s]"
     ]
    },
    {
     "name": "stderr",
     "output_type": "stream",
     "text": [
      "\r",
      "Step 2/3 :  16%|█▌        | 780/5000 [00:17<00:43, 96.26it/s]"
     ]
    },
    {
     "name": "stderr",
     "output_type": "stream",
     "text": [
      "\r",
      "Step 2/3 :  16%|█▌        | 790/5000 [00:17<00:44, 95.41it/s]"
     ]
    },
    {
     "name": "stderr",
     "output_type": "stream",
     "text": [
      "\r",
      "Step 2/3 :  16%|█▌        | 790/5000 [00:17<00:44, 95.41it/s]"
     ]
    },
    {
     "name": "stderr",
     "output_type": "stream",
     "text": [
      "\r",
      "Step 2/3 :  16%|█▌        | 790/5000 [00:17<00:44, 95.41it/s]"
     ]
    },
    {
     "name": "stderr",
     "output_type": "stream",
     "text": [
      "\r",
      "Step 2/3 :  16%|█▌        | 790/5000 [00:17<00:44, 95.41it/s]"
     ]
    },
    {
     "name": "stderr",
     "output_type": "stream",
     "text": [
      "\r",
      "Step 2/3 :  16%|█▌        | 790/5000 [00:17<00:44, 95.41it/s]"
     ]
    },
    {
     "name": "stderr",
     "output_type": "stream",
     "text": [
      "\r",
      "Step 2/3 :  16%|█▌        | 790/5000 [00:17<00:44, 95.41it/s]"
     ]
    },
    {
     "name": "stderr",
     "output_type": "stream",
     "text": [
      "\r",
      "Step 2/3 :  16%|█▌        | 790/5000 [00:17<00:44, 95.41it/s]"
     ]
    },
    {
     "name": "stderr",
     "output_type": "stream",
     "text": [
      "\r",
      "Step 2/3 :  16%|█▌        | 790/5000 [00:17<00:44, 95.41it/s]"
     ]
    },
    {
     "name": "stderr",
     "output_type": "stream",
     "text": [
      "\r",
      "Step 2/3 :  16%|█▌        | 790/5000 [00:17<00:44, 95.41it/s]"
     ]
    },
    {
     "name": "stderr",
     "output_type": "stream",
     "text": [
      "\r",
      "Step 2/3 :  16%|█▌        | 790/5000 [00:17<00:44, 95.41it/s]"
     ]
    },
    {
     "name": "stderr",
     "output_type": "stream",
     "text": [
      "\r",
      "Step 2/3 :  16%|█▌        | 790/5000 [00:17<00:44, 95.41it/s]"
     ]
    },
    {
     "name": "stderr",
     "output_type": "stream",
     "text": [
      "\r",
      "Step 2/3 :  16%|█▌        | 800/5000 [00:17<00:43, 95.58it/s]"
     ]
    },
    {
     "name": "stderr",
     "output_type": "stream",
     "text": [
      "\r",
      "Step 2/3 :  16%|█▌        | 800/5000 [00:17<00:43, 95.58it/s]"
     ]
    },
    {
     "name": "stderr",
     "output_type": "stream",
     "text": [
      "\r",
      "Step 2/3 :  16%|█▌        | 800/5000 [00:17<00:43, 95.58it/s]"
     ]
    },
    {
     "name": "stderr",
     "output_type": "stream",
     "text": [
      "\r",
      "Step 2/3 :  16%|█▌        | 800/5000 [00:17<00:43, 95.58it/s]"
     ]
    },
    {
     "name": "stderr",
     "output_type": "stream",
     "text": [
      "\r",
      "Step 2/3 :  16%|█▌        | 800/5000 [00:17<00:43, 95.58it/s]"
     ]
    },
    {
     "name": "stderr",
     "output_type": "stream",
     "text": [
      "\r",
      "Step 2/3 :  16%|█▌        | 800/5000 [00:17<00:43, 95.58it/s]"
     ]
    },
    {
     "name": "stderr",
     "output_type": "stream",
     "text": [
      "\r",
      "Step 2/3 :  16%|█▌        | 800/5000 [00:17<00:43, 95.58it/s]"
     ]
    },
    {
     "name": "stderr",
     "output_type": "stream",
     "text": [
      "\r",
      "Step 2/3 :  16%|█▌        | 800/5000 [00:17<00:43, 95.58it/s]"
     ]
    },
    {
     "name": "stderr",
     "output_type": "stream",
     "text": [
      "\r",
      "Step 2/3 :  16%|█▌        | 800/5000 [00:17<00:43, 95.58it/s]"
     ]
    },
    {
     "name": "stderr",
     "output_type": "stream",
     "text": [
      "\r",
      "Step 2/3 :  16%|█▌        | 800/5000 [00:17<00:43, 95.58it/s]"
     ]
    },
    {
     "name": "stderr",
     "output_type": "stream",
     "text": [
      "\r",
      "Step 2/3 :  16%|█▌        | 800/5000 [00:17<00:43, 95.58it/s]"
     ]
    },
    {
     "name": "stderr",
     "output_type": "stream",
     "text": [
      "\r",
      "Step 2/3 :  16%|█▌        | 810/5000 [00:17<00:46, 90.58it/s]"
     ]
    },
    {
     "name": "stderr",
     "output_type": "stream",
     "text": [
      "\r",
      "Step 2/3 :  16%|█▌        | 810/5000 [00:17<00:46, 90.58it/s]"
     ]
    },
    {
     "name": "stderr",
     "output_type": "stream",
     "text": [
      "\r",
      "Step 2/3 :  16%|█▌        | 810/5000 [00:17<00:46, 90.58it/s]"
     ]
    },
    {
     "name": "stderr",
     "output_type": "stream",
     "text": [
      "\r",
      "Step 2/3 :  16%|█▌        | 810/5000 [00:17<00:46, 90.58it/s]"
     ]
    },
    {
     "name": "stderr",
     "output_type": "stream",
     "text": [
      "\r",
      "Step 2/3 :  16%|█▌        | 810/5000 [00:17<00:46, 90.58it/s]"
     ]
    },
    {
     "name": "stderr",
     "output_type": "stream",
     "text": [
      "\r",
      "Step 2/3 :  16%|█▌        | 810/5000 [00:17<00:46, 90.58it/s]"
     ]
    },
    {
     "name": "stderr",
     "output_type": "stream",
     "text": [
      "\r",
      "Step 2/3 :  16%|█▌        | 810/5000 [00:17<00:46, 90.58it/s]"
     ]
    },
    {
     "name": "stderr",
     "output_type": "stream",
     "text": [
      "\r",
      "Step 2/3 :  16%|█▌        | 810/5000 [00:17<00:46, 90.58it/s]"
     ]
    },
    {
     "name": "stderr",
     "output_type": "stream",
     "text": [
      "\r",
      "Step 2/3 :  16%|█▌        | 810/5000 [00:17<00:46, 90.58it/s]"
     ]
    },
    {
     "name": "stderr",
     "output_type": "stream",
     "text": [
      "\r",
      "Step 2/3 :  16%|█▌        | 810/5000 [00:17<00:46, 90.58it/s]"
     ]
    },
    {
     "name": "stderr",
     "output_type": "stream",
     "text": [
      "\r",
      "Step 2/3 :  16%|█▌        | 810/5000 [00:17<00:46, 90.58it/s]"
     ]
    },
    {
     "name": "stderr",
     "output_type": "stream",
     "text": [
      "\r",
      "Step 2/3 :  16%|█▋        | 820/5000 [00:17<00:45, 91.67it/s]"
     ]
    },
    {
     "name": "stderr",
     "output_type": "stream",
     "text": [
      "\r",
      "Step 2/3 :  16%|█▋        | 820/5000 [00:17<00:45, 91.67it/s]"
     ]
    },
    {
     "name": "stderr",
     "output_type": "stream",
     "text": [
      "\r",
      "Step 2/3 :  16%|█▋        | 820/5000 [00:17<00:45, 91.67it/s]"
     ]
    },
    {
     "name": "stderr",
     "output_type": "stream",
     "text": [
      "\r",
      "Step 2/3 :  16%|█▋        | 820/5000 [00:17<00:45, 91.67it/s]"
     ]
    },
    {
     "name": "stderr",
     "output_type": "stream",
     "text": [
      "\r",
      "Step 2/3 :  16%|█▋        | 820/5000 [00:17<00:45, 91.67it/s]"
     ]
    },
    {
     "name": "stderr",
     "output_type": "stream",
     "text": [
      "\r",
      "Step 2/3 :  16%|█▋        | 820/5000 [00:17<00:45, 91.67it/s]"
     ]
    },
    {
     "name": "stderr",
     "output_type": "stream",
     "text": [
      "\r",
      "Step 2/3 :  16%|█▋        | 820/5000 [00:17<00:45, 91.67it/s]"
     ]
    },
    {
     "name": "stderr",
     "output_type": "stream",
     "text": [
      "\r",
      "Step 2/3 :  16%|█▋        | 820/5000 [00:17<00:45, 91.67it/s]"
     ]
    },
    {
     "name": "stderr",
     "output_type": "stream",
     "text": [
      "\r",
      "Step 2/3 :  16%|█▋        | 820/5000 [00:17<00:45, 91.67it/s]"
     ]
    },
    {
     "name": "stderr",
     "output_type": "stream",
     "text": [
      "\r",
      "Step 2/3 :  16%|█▋        | 820/5000 [00:17<00:45, 91.67it/s]"
     ]
    },
    {
     "name": "stderr",
     "output_type": "stream",
     "text": [
      "\r",
      "Step 2/3 :  16%|█▋        | 820/5000 [00:17<00:45, 91.67it/s]"
     ]
    },
    {
     "name": "stderr",
     "output_type": "stream",
     "text": [
      "\r",
      "Step 2/3 :  17%|█▋        | 830/5000 [00:17<00:44, 93.22it/s]"
     ]
    },
    {
     "name": "stderr",
     "output_type": "stream",
     "text": [
      "\r",
      "Step 2/3 :  17%|█▋        | 830/5000 [00:17<00:44, 93.22it/s]"
     ]
    },
    {
     "name": "stderr",
     "output_type": "stream",
     "text": [
      "\r",
      "Step 2/3 :  17%|█▋        | 830/5000 [00:17<00:44, 93.22it/s]"
     ]
    },
    {
     "name": "stderr",
     "output_type": "stream",
     "text": [
      "\r",
      "Step 2/3 :  17%|█▋        | 830/5000 [00:17<00:44, 93.22it/s]"
     ]
    },
    {
     "name": "stderr",
     "output_type": "stream",
     "text": [
      "\r",
      "Step 2/3 :  17%|█▋        | 830/5000 [00:17<00:44, 93.22it/s]"
     ]
    },
    {
     "name": "stderr",
     "output_type": "stream",
     "text": [
      "\r",
      "Step 2/3 :  17%|█▋        | 830/5000 [00:17<00:44, 93.22it/s]"
     ]
    },
    {
     "name": "stderr",
     "output_type": "stream",
     "text": [
      "\r",
      "Step 2/3 :  17%|█▋        | 830/5000 [00:17<00:44, 93.22it/s]"
     ]
    },
    {
     "name": "stderr",
     "output_type": "stream",
     "text": [
      "\r",
      "Step 2/3 :  17%|█▋        | 830/5000 [00:17<00:44, 93.22it/s]"
     ]
    },
    {
     "name": "stderr",
     "output_type": "stream",
     "text": [
      "\r",
      "Step 2/3 :  17%|█▋        | 830/5000 [00:17<00:44, 93.22it/s]"
     ]
    },
    {
     "name": "stderr",
     "output_type": "stream",
     "text": [
      "\r",
      "Step 2/3 :  17%|█▋        | 830/5000 [00:17<00:44, 93.22it/s]"
     ]
    },
    {
     "name": "stderr",
     "output_type": "stream",
     "text": [
      "\r",
      "Step 2/3 :  17%|█▋        | 830/5000 [00:17<00:44, 93.22it/s]"
     ]
    },
    {
     "name": "stderr",
     "output_type": "stream",
     "text": [
      "\r",
      "Step 2/3 :  17%|█▋        | 840/5000 [00:17<00:44, 93.82it/s]"
     ]
    },
    {
     "name": "stderr",
     "output_type": "stream",
     "text": [
      "\r",
      "Step 2/3 :  17%|█▋        | 840/5000 [00:17<00:44, 93.82it/s]"
     ]
    },
    {
     "name": "stderr",
     "output_type": "stream",
     "text": [
      "\r",
      "Step 2/3 :  17%|█▋        | 840/5000 [00:17<00:44, 93.82it/s]"
     ]
    },
    {
     "name": "stderr",
     "output_type": "stream",
     "text": [
      "\r",
      "Step 2/3 :  17%|█▋        | 840/5000 [00:17<00:44, 93.82it/s]"
     ]
    },
    {
     "name": "stderr",
     "output_type": "stream",
     "text": [
      "\r",
      "Step 2/3 :  17%|█▋        | 840/5000 [00:17<00:44, 93.82it/s]"
     ]
    },
    {
     "name": "stderr",
     "output_type": "stream",
     "text": [
      "\r",
      "Step 2/3 :  17%|█▋        | 840/5000 [00:17<00:44, 93.82it/s]"
     ]
    },
    {
     "name": "stderr",
     "output_type": "stream",
     "text": [
      "\r",
      "Step 2/3 :  17%|█▋        | 840/5000 [00:17<00:44, 93.82it/s]"
     ]
    },
    {
     "name": "stderr",
     "output_type": "stream",
     "text": [
      "\r",
      "Step 2/3 :  17%|█▋        | 840/5000 [00:17<00:44, 93.82it/s]"
     ]
    },
    {
     "name": "stderr",
     "output_type": "stream",
     "text": [
      "\r",
      "Step 2/3 :  17%|█▋        | 840/5000 [00:17<00:44, 93.82it/s]"
     ]
    },
    {
     "name": "stderr",
     "output_type": "stream",
     "text": [
      "\r",
      "Step 2/3 :  17%|█▋        | 840/5000 [00:17<00:44, 93.82it/s]"
     ]
    },
    {
     "name": "stderr",
     "output_type": "stream",
     "text": [
      "\r",
      "Step 2/3 :  17%|█▋        | 840/5000 [00:17<00:44, 93.82it/s]"
     ]
    },
    {
     "name": "stderr",
     "output_type": "stream",
     "text": [
      "\r",
      "Step 2/3 :  17%|█▋        | 850/5000 [00:17<00:43, 95.05it/s]"
     ]
    },
    {
     "name": "stderr",
     "output_type": "stream",
     "text": [
      "\r",
      "Step 2/3 :  17%|█▋        | 850/5000 [00:17<00:43, 95.05it/s]"
     ]
    },
    {
     "name": "stderr",
     "output_type": "stream",
     "text": [
      "\r",
      "Step 2/3 :  17%|█▋        | 850/5000 [00:17<00:43, 95.05it/s]"
     ]
    },
    {
     "name": "stderr",
     "output_type": "stream",
     "text": [
      "\r",
      "Step 2/3 :  17%|█▋        | 850/5000 [00:17<00:43, 95.05it/s]"
     ]
    },
    {
     "name": "stderr",
     "output_type": "stream",
     "text": [
      "\r",
      "Step 2/3 :  17%|█▋        | 850/5000 [00:18<00:43, 95.05it/s]"
     ]
    },
    {
     "name": "stderr",
     "output_type": "stream",
     "text": [
      "\r",
      "Step 2/3 :  17%|█▋        | 850/5000 [00:18<00:43, 95.05it/s]"
     ]
    },
    {
     "name": "stderr",
     "output_type": "stream",
     "text": [
      "\r",
      "Step 2/3 :  17%|█▋        | 850/5000 [00:18<00:43, 95.05it/s]"
     ]
    },
    {
     "name": "stderr",
     "output_type": "stream",
     "text": [
      "\r",
      "Step 2/3 :  17%|█▋        | 850/5000 [00:18<00:43, 95.05it/s]"
     ]
    },
    {
     "name": "stderr",
     "output_type": "stream",
     "text": [
      "\r",
      "Step 2/3 :  17%|█▋        | 850/5000 [00:18<00:43, 95.05it/s]"
     ]
    },
    {
     "name": "stderr",
     "output_type": "stream",
     "text": [
      "\r",
      "Step 2/3 :  17%|█▋        | 850/5000 [00:18<00:43, 95.05it/s]"
     ]
    },
    {
     "name": "stderr",
     "output_type": "stream",
     "text": [
      "\r",
      "Step 2/3 :  17%|█▋        | 850/5000 [00:18<00:43, 95.05it/s]"
     ]
    },
    {
     "name": "stderr",
     "output_type": "stream",
     "text": [
      "\r",
      "Step 2/3 :  17%|█▋        | 860/5000 [00:18<00:44, 92.73it/s]"
     ]
    },
    {
     "name": "stderr",
     "output_type": "stream",
     "text": [
      "\r",
      "Step 2/3 :  17%|█▋        | 860/5000 [00:18<00:44, 92.73it/s]"
     ]
    },
    {
     "name": "stderr",
     "output_type": "stream",
     "text": [
      "\r",
      "Step 2/3 :  17%|█▋        | 860/5000 [00:18<00:44, 92.73it/s]"
     ]
    },
    {
     "name": "stderr",
     "output_type": "stream",
     "text": [
      "\r",
      "Step 2/3 :  17%|█▋        | 860/5000 [00:18<00:44, 92.73it/s]"
     ]
    },
    {
     "name": "stderr",
     "output_type": "stream",
     "text": [
      "\r",
      "Step 2/3 :  17%|█▋        | 860/5000 [00:18<00:44, 92.73it/s]"
     ]
    },
    {
     "name": "stderr",
     "output_type": "stream",
     "text": [
      "\r",
      "Step 2/3 :  17%|█▋        | 860/5000 [00:18<00:44, 92.73it/s]"
     ]
    },
    {
     "name": "stderr",
     "output_type": "stream",
     "text": [
      "\r",
      "Step 2/3 :  17%|█▋        | 860/5000 [00:18<00:44, 92.73it/s]"
     ]
    },
    {
     "name": "stderr",
     "output_type": "stream",
     "text": [
      "\r",
      "Step 2/3 :  17%|█▋        | 860/5000 [00:18<00:44, 92.73it/s]"
     ]
    },
    {
     "name": "stderr",
     "output_type": "stream",
     "text": [
      "\r",
      "Step 2/3 :  17%|█▋        | 860/5000 [00:18<00:44, 92.73it/s]"
     ]
    },
    {
     "name": "stderr",
     "output_type": "stream",
     "text": [
      "\r",
      "Step 2/3 :  17%|█▋        | 860/5000 [00:18<00:44, 92.73it/s]"
     ]
    },
    {
     "name": "stderr",
     "output_type": "stream",
     "text": [
      "\r",
      "Step 2/3 :  17%|█▋        | 860/5000 [00:18<00:44, 92.73it/s]"
     ]
    },
    {
     "name": "stderr",
     "output_type": "stream",
     "text": [
      "\r",
      "Step 2/3 :  17%|█▋        | 870/5000 [00:18<00:44, 93.73it/s]"
     ]
    },
    {
     "name": "stderr",
     "output_type": "stream",
     "text": [
      "\r",
      "Step 2/3 :  17%|█▋        | 870/5000 [00:18<00:44, 93.73it/s]"
     ]
    },
    {
     "name": "stderr",
     "output_type": "stream",
     "text": [
      "\r",
      "Step 2/3 :  17%|█▋        | 870/5000 [00:18<00:44, 93.73it/s]"
     ]
    },
    {
     "name": "stderr",
     "output_type": "stream",
     "text": [
      "\r",
      "Step 2/3 :  17%|█▋        | 870/5000 [00:18<00:44, 93.73it/s]"
     ]
    },
    {
     "name": "stderr",
     "output_type": "stream",
     "text": [
      "\r",
      "Step 2/3 :  17%|█▋        | 870/5000 [00:18<00:44, 93.73it/s]"
     ]
    },
    {
     "name": "stderr",
     "output_type": "stream",
     "text": [
      "\r",
      "Step 2/3 :  17%|█▋        | 870/5000 [00:18<00:44, 93.73it/s]"
     ]
    },
    {
     "name": "stderr",
     "output_type": "stream",
     "text": [
      "\r",
      "Step 2/3 :  17%|█▋        | 870/5000 [00:18<00:44, 93.73it/s]"
     ]
    },
    {
     "name": "stderr",
     "output_type": "stream",
     "text": [
      "\r",
      "Step 2/3 :  17%|█▋        | 870/5000 [00:18<00:44, 93.73it/s]"
     ]
    },
    {
     "name": "stderr",
     "output_type": "stream",
     "text": [
      "\r",
      "Step 2/3 :  17%|█▋        | 870/5000 [00:18<00:44, 93.73it/s]"
     ]
    },
    {
     "name": "stderr",
     "output_type": "stream",
     "text": [
      "\r",
      "Step 2/3 :  17%|█▋        | 870/5000 [00:18<00:44, 93.73it/s]"
     ]
    },
    {
     "name": "stderr",
     "output_type": "stream",
     "text": [
      "\r",
      "Step 2/3 :  17%|█▋        | 870/5000 [00:18<00:44, 93.73it/s]"
     ]
    },
    {
     "name": "stderr",
     "output_type": "stream",
     "text": [
      "\r",
      "Step 2/3 :  18%|█▊        | 880/5000 [00:18<00:44, 92.09it/s]"
     ]
    },
    {
     "name": "stderr",
     "output_type": "stream",
     "text": [
      "\r",
      "Step 2/3 :  18%|█▊        | 880/5000 [00:18<00:44, 92.09it/s]"
     ]
    },
    {
     "name": "stderr",
     "output_type": "stream",
     "text": [
      "\r",
      "Step 2/3 :  18%|█▊        | 880/5000 [00:18<00:44, 92.09it/s]"
     ]
    },
    {
     "name": "stderr",
     "output_type": "stream",
     "text": [
      "\r",
      "Step 2/3 :  18%|█▊        | 880/5000 [00:18<00:44, 92.09it/s]"
     ]
    },
    {
     "name": "stderr",
     "output_type": "stream",
     "text": [
      "\r",
      "Step 2/3 :  18%|█▊        | 880/5000 [00:18<00:44, 92.09it/s]"
     ]
    },
    {
     "name": "stderr",
     "output_type": "stream",
     "text": [
      "\r",
      "Step 2/3 :  18%|█▊        | 880/5000 [00:18<00:44, 92.09it/s]"
     ]
    },
    {
     "name": "stderr",
     "output_type": "stream",
     "text": [
      "\r",
      "Step 2/3 :  18%|█▊        | 880/5000 [00:18<00:44, 92.09it/s]"
     ]
    },
    {
     "name": "stderr",
     "output_type": "stream",
     "text": [
      "\r",
      "Step 2/3 :  18%|█▊        | 880/5000 [00:18<00:44, 92.09it/s]"
     ]
    },
    {
     "name": "stderr",
     "output_type": "stream",
     "text": [
      "\r",
      "Step 2/3 :  18%|█▊        | 880/5000 [00:18<00:44, 92.09it/s]"
     ]
    },
    {
     "name": "stderr",
     "output_type": "stream",
     "text": [
      "\r",
      "Step 2/3 :  18%|█▊        | 880/5000 [00:18<00:44, 92.09it/s]"
     ]
    },
    {
     "name": "stderr",
     "output_type": "stream",
     "text": [
      "\r",
      "Step 2/3 :  18%|█▊        | 880/5000 [00:18<00:44, 92.09it/s]"
     ]
    },
    {
     "name": "stderr",
     "output_type": "stream",
     "text": [
      "\r",
      "Step 2/3 :  18%|█▊        | 890/5000 [00:18<00:46, 88.57it/s]"
     ]
    },
    {
     "name": "stderr",
     "output_type": "stream",
     "text": [
      "\r",
      "Step 2/3 :  18%|█▊        | 890/5000 [00:18<00:46, 88.57it/s]"
     ]
    },
    {
     "name": "stderr",
     "output_type": "stream",
     "text": [
      "\r",
      "Step 2/3 :  18%|█▊        | 890/5000 [00:18<00:46, 88.57it/s]"
     ]
    },
    {
     "name": "stderr",
     "output_type": "stream",
     "text": [
      "\r",
      "Step 2/3 :  18%|█▊        | 890/5000 [00:18<00:46, 88.57it/s]"
     ]
    },
    {
     "name": "stderr",
     "output_type": "stream",
     "text": [
      "\r",
      "Step 2/3 :  18%|█▊        | 890/5000 [00:18<00:46, 88.57it/s]"
     ]
    },
    {
     "name": "stderr",
     "output_type": "stream",
     "text": [
      "\r",
      "Step 2/3 :  18%|█▊        | 890/5000 [00:18<00:46, 88.57it/s]"
     ]
    },
    {
     "name": "stderr",
     "output_type": "stream",
     "text": [
      "\r",
      "Step 2/3 :  18%|█▊        | 890/5000 [00:18<00:46, 88.57it/s]"
     ]
    },
    {
     "name": "stderr",
     "output_type": "stream",
     "text": [
      "\r",
      "Step 2/3 :  18%|█▊        | 890/5000 [00:18<00:46, 88.57it/s]"
     ]
    },
    {
     "name": "stderr",
     "output_type": "stream",
     "text": [
      "\r",
      "Step 2/3 :  18%|█▊        | 890/5000 [00:18<00:46, 88.57it/s]"
     ]
    },
    {
     "name": "stderr",
     "output_type": "stream",
     "text": [
      "\r",
      "Step 2/3 :  18%|█▊        | 890/5000 [00:18<00:46, 88.57it/s]"
     ]
    },
    {
     "name": "stderr",
     "output_type": "stream",
     "text": [
      "\r",
      "Step 2/3 :  18%|█▊        | 899/5000 [00:18<00:47, 86.82it/s]"
     ]
    },
    {
     "name": "stderr",
     "output_type": "stream",
     "text": [
      "\r",
      "Step 2/3 :  18%|█▊        | 899/5000 [00:18<00:47, 86.82it/s]"
     ]
    },
    {
     "name": "stderr",
     "output_type": "stream",
     "text": [
      "\r",
      "Step 2/3 :  18%|█▊        | 899/5000 [00:18<00:47, 86.82it/s]"
     ]
    },
    {
     "name": "stderr",
     "output_type": "stream",
     "text": [
      "\r",
      "Step 2/3 :  18%|█▊        | 899/5000 [00:18<00:47, 86.82it/s]"
     ]
    },
    {
     "name": "stderr",
     "output_type": "stream",
     "text": [
      "\r",
      "Step 2/3 :  18%|█▊        | 899/5000 [00:18<00:47, 86.82it/s]"
     ]
    },
    {
     "name": "stderr",
     "output_type": "stream",
     "text": [
      "\r",
      "Step 2/3 :  18%|█▊        | 899/5000 [00:18<00:47, 86.82it/s]"
     ]
    },
    {
     "name": "stderr",
     "output_type": "stream",
     "text": [
      "\r",
      "Step 2/3 :  18%|█▊        | 899/5000 [00:18<00:47, 86.82it/s]"
     ]
    },
    {
     "name": "stderr",
     "output_type": "stream",
     "text": [
      "\r",
      "Step 2/3 :  18%|█▊        | 899/5000 [00:18<00:47, 86.82it/s]"
     ]
    },
    {
     "name": "stderr",
     "output_type": "stream",
     "text": [
      "\r",
      "Step 2/3 :  18%|█▊        | 899/5000 [00:18<00:47, 86.82it/s]"
     ]
    },
    {
     "name": "stderr",
     "output_type": "stream",
     "text": [
      "\r",
      "Step 2/3 :  18%|█▊        | 899/5000 [00:18<00:47, 86.82it/s]"
     ]
    },
    {
     "name": "stderr",
     "output_type": "stream",
     "text": [
      "\r",
      "Step 2/3 :  18%|█▊        | 899/5000 [00:18<00:47, 86.82it/s]"
     ]
    },
    {
     "name": "stderr",
     "output_type": "stream",
     "text": [
      "\r",
      "Step 2/3 :  18%|█▊        | 909/5000 [00:18<00:46, 87.79it/s]"
     ]
    },
    {
     "name": "stderr",
     "output_type": "stream",
     "text": [
      "\r",
      "Step 2/3 :  18%|█▊        | 909/5000 [00:18<00:46, 87.79it/s]"
     ]
    },
    {
     "name": "stderr",
     "output_type": "stream",
     "text": [
      "\r",
      "Step 2/3 :  18%|█▊        | 909/5000 [00:18<00:46, 87.79it/s]"
     ]
    },
    {
     "name": "stderr",
     "output_type": "stream",
     "text": [
      "\r",
      "Step 2/3 :  18%|█▊        | 909/5000 [00:18<00:46, 87.79it/s]"
     ]
    },
    {
     "name": "stderr",
     "output_type": "stream",
     "text": [
      "\r",
      "Step 2/3 :  18%|█▊        | 909/5000 [00:18<00:46, 87.79it/s]"
     ]
    },
    {
     "name": "stderr",
     "output_type": "stream",
     "text": [
      "\r",
      "Step 2/3 :  18%|█▊        | 909/5000 [00:18<00:46, 87.79it/s]"
     ]
    },
    {
     "name": "stderr",
     "output_type": "stream",
     "text": [
      "\r",
      "Step 2/3 :  18%|█▊        | 909/5000 [00:18<00:46, 87.79it/s]"
     ]
    },
    {
     "name": "stderr",
     "output_type": "stream",
     "text": [
      "\r",
      "Step 2/3 :  18%|█▊        | 909/5000 [00:18<00:46, 87.79it/s]"
     ]
    },
    {
     "name": "stderr",
     "output_type": "stream",
     "text": [
      "\r",
      "Step 2/3 :  18%|█▊        | 909/5000 [00:18<00:46, 87.79it/s]"
     ]
    },
    {
     "name": "stderr",
     "output_type": "stream",
     "text": [
      "\r",
      "Step 2/3 :  18%|█▊        | 909/5000 [00:18<00:46, 87.79it/s]"
     ]
    },
    {
     "name": "stderr",
     "output_type": "stream",
     "text": [
      "\r",
      "Step 2/3 :  18%|█▊        | 909/5000 [00:18<00:46, 87.79it/s]"
     ]
    },
    {
     "name": "stderr",
     "output_type": "stream",
     "text": [
      "\r",
      "Step 2/3 :  18%|█▊        | 919/5000 [00:18<00:45, 90.15it/s]"
     ]
    },
    {
     "name": "stderr",
     "output_type": "stream",
     "text": [
      "\r",
      "Step 2/3 :  18%|█▊        | 919/5000 [00:18<00:45, 90.15it/s]"
     ]
    },
    {
     "name": "stderr",
     "output_type": "stream",
     "text": [
      "\r",
      "Step 2/3 :  18%|█▊        | 919/5000 [00:18<00:45, 90.15it/s]"
     ]
    },
    {
     "name": "stderr",
     "output_type": "stream",
     "text": [
      "\r",
      "Step 2/3 :  18%|█▊        | 919/5000 [00:18<00:45, 90.15it/s]"
     ]
    },
    {
     "name": "stderr",
     "output_type": "stream",
     "text": [
      "\r",
      "Step 2/3 :  18%|█▊        | 919/5000 [00:18<00:45, 90.15it/s]"
     ]
    },
    {
     "name": "stderr",
     "output_type": "stream",
     "text": [
      "\r",
      "Step 2/3 :  18%|█▊        | 919/5000 [00:18<00:45, 90.15it/s]"
     ]
    },
    {
     "name": "stderr",
     "output_type": "stream",
     "text": [
      "\r",
      "Step 2/3 :  18%|█▊        | 919/5000 [00:18<00:45, 90.15it/s]"
     ]
    },
    {
     "name": "stderr",
     "output_type": "stream",
     "text": [
      "\r",
      "Step 2/3 :  18%|█▊        | 919/5000 [00:18<00:45, 90.15it/s]"
     ]
    },
    {
     "name": "stderr",
     "output_type": "stream",
     "text": [
      "\r",
      "Step 2/3 :  18%|█▊        | 919/5000 [00:18<00:45, 90.15it/s]"
     ]
    },
    {
     "name": "stderr",
     "output_type": "stream",
     "text": [
      "\r",
      "Step 2/3 :  18%|█▊        | 919/5000 [00:18<00:45, 90.15it/s]"
     ]
    },
    {
     "name": "stderr",
     "output_type": "stream",
     "text": [
      "\r",
      "Step 2/3 :  18%|█▊        | 919/5000 [00:18<00:45, 90.15it/s]"
     ]
    },
    {
     "name": "stderr",
     "output_type": "stream",
     "text": [
      "\r",
      "Step 2/3 :  19%|█▊        | 929/5000 [00:18<00:45, 89.40it/s]"
     ]
    },
    {
     "name": "stderr",
     "output_type": "stream",
     "text": [
      "\r",
      "Step 2/3 :  19%|█▊        | 929/5000 [00:18<00:45, 89.40it/s]"
     ]
    },
    {
     "name": "stderr",
     "output_type": "stream",
     "text": [
      "\r",
      "Step 2/3 :  19%|█▊        | 929/5000 [00:18<00:45, 89.40it/s]"
     ]
    },
    {
     "name": "stderr",
     "output_type": "stream",
     "text": [
      "\r",
      "Step 2/3 :  19%|█▊        | 929/5000 [00:18<00:45, 89.40it/s]"
     ]
    },
    {
     "name": "stderr",
     "output_type": "stream",
     "text": [
      "\r",
      "Step 2/3 :  19%|█▊        | 929/5000 [00:18<00:45, 89.40it/s]"
     ]
    },
    {
     "name": "stderr",
     "output_type": "stream",
     "text": [
      "\r",
      "Step 2/3 :  19%|█▊        | 929/5000 [00:18<00:45, 89.40it/s]"
     ]
    },
    {
     "name": "stderr",
     "output_type": "stream",
     "text": [
      "\r",
      "Step 2/3 :  19%|█▊        | 929/5000 [00:18<00:45, 89.40it/s]"
     ]
    },
    {
     "name": "stderr",
     "output_type": "stream",
     "text": [
      "\r",
      "Step 2/3 :  19%|█▊        | 929/5000 [00:18<00:45, 89.40it/s]"
     ]
    },
    {
     "name": "stderr",
     "output_type": "stream",
     "text": [
      "\r",
      "Step 2/3 :  19%|█▊        | 929/5000 [00:18<00:45, 89.40it/s]"
     ]
    },
    {
     "name": "stderr",
     "output_type": "stream",
     "text": [
      "\r",
      "Step 2/3 :  19%|█▊        | 929/5000 [00:18<00:45, 89.40it/s]"
     ]
    },
    {
     "name": "stderr",
     "output_type": "stream",
     "text": [
      "\r",
      "Step 2/3 :  19%|█▉        | 938/5000 [00:18<00:45, 88.58it/s]"
     ]
    },
    {
     "name": "stderr",
     "output_type": "stream",
     "text": [
      "\r",
      "Step 2/3 :  19%|█▉        | 938/5000 [00:18<00:45, 88.58it/s]"
     ]
    },
    {
     "name": "stderr",
     "output_type": "stream",
     "text": [
      "\r",
      "Step 2/3 :  19%|█▉        | 938/5000 [00:18<00:45, 88.58it/s]"
     ]
    },
    {
     "name": "stderr",
     "output_type": "stream",
     "text": [
      "\r",
      "Step 2/3 :  19%|█▉        | 938/5000 [00:18<00:45, 88.58it/s]"
     ]
    },
    {
     "name": "stderr",
     "output_type": "stream",
     "text": [
      "\r",
      "Step 2/3 :  19%|█▉        | 938/5000 [00:18<00:45, 88.58it/s]"
     ]
    },
    {
     "name": "stderr",
     "output_type": "stream",
     "text": [
      "\r",
      "Step 2/3 :  19%|█▉        | 938/5000 [00:19<00:45, 88.58it/s]"
     ]
    },
    {
     "name": "stderr",
     "output_type": "stream",
     "text": [
      "\r",
      "Step 2/3 :  19%|█▉        | 938/5000 [00:19<00:45, 88.58it/s]"
     ]
    },
    {
     "name": "stderr",
     "output_type": "stream",
     "text": [
      "\r",
      "Step 2/3 :  19%|█▉        | 938/5000 [00:19<00:45, 88.58it/s]"
     ]
    },
    {
     "name": "stderr",
     "output_type": "stream",
     "text": [
      "\r",
      "Step 2/3 :  19%|█▉        | 938/5000 [00:19<00:45, 88.58it/s]"
     ]
    },
    {
     "name": "stderr",
     "output_type": "stream",
     "text": [
      "\r",
      "Step 2/3 :  19%|█▉        | 938/5000 [00:19<00:45, 88.58it/s]"
     ]
    },
    {
     "name": "stderr",
     "output_type": "stream",
     "text": [
      "\r",
      "Step 2/3 :  19%|█▉        | 947/5000 [00:19<00:46, 87.74it/s]"
     ]
    },
    {
     "name": "stderr",
     "output_type": "stream",
     "text": [
      "\r",
      "Step 2/3 :  19%|█▉        | 947/5000 [00:19<00:46, 87.74it/s]"
     ]
    },
    {
     "name": "stderr",
     "output_type": "stream",
     "text": [
      "\r",
      "Step 2/3 :  19%|█▉        | 947/5000 [00:19<00:46, 87.74it/s]"
     ]
    },
    {
     "name": "stderr",
     "output_type": "stream",
     "text": [
      "\r",
      "Step 2/3 :  19%|█▉        | 947/5000 [00:19<00:46, 87.74it/s]"
     ]
    },
    {
     "name": "stderr",
     "output_type": "stream",
     "text": [
      "\r",
      "Step 2/3 :  19%|█▉        | 947/5000 [00:19<00:46, 87.74it/s]"
     ]
    },
    {
     "name": "stderr",
     "output_type": "stream",
     "text": [
      "\r",
      "Step 2/3 :  19%|█▉        | 947/5000 [00:19<00:46, 87.74it/s]"
     ]
    },
    {
     "name": "stderr",
     "output_type": "stream",
     "text": [
      "\r",
      "Step 2/3 :  19%|█▉        | 947/5000 [00:19<00:46, 87.74it/s]"
     ]
    },
    {
     "name": "stderr",
     "output_type": "stream",
     "text": [
      "\r",
      "Step 2/3 :  19%|█▉        | 947/5000 [00:19<00:46, 87.74it/s]"
     ]
    },
    {
     "name": "stderr",
     "output_type": "stream",
     "text": [
      "\r",
      "Step 2/3 :  19%|█▉        | 947/5000 [00:19<00:46, 87.74it/s]"
     ]
    },
    {
     "name": "stderr",
     "output_type": "stream",
     "text": [
      "\r",
      "Step 2/3 :  19%|█▉        | 947/5000 [00:19<00:46, 87.74it/s]"
     ]
    },
    {
     "name": "stderr",
     "output_type": "stream",
     "text": [
      "\r",
      "Step 2/3 :  19%|█▉        | 947/5000 [00:19<00:46, 87.74it/s]"
     ]
    },
    {
     "name": "stderr",
     "output_type": "stream",
     "text": [
      "\r",
      "Step 2/3 :  19%|█▉        | 947/5000 [00:19<00:46, 87.74it/s]"
     ]
    },
    {
     "name": "stderr",
     "output_type": "stream",
     "text": [
      "\r",
      "Step 2/3 :  19%|█▉        | 958/5000 [00:19<00:43, 91.98it/s]"
     ]
    },
    {
     "name": "stderr",
     "output_type": "stream",
     "text": [
      "\r",
      "Step 2/3 :  19%|█▉        | 958/5000 [00:19<00:43, 91.98it/s]"
     ]
    },
    {
     "name": "stderr",
     "output_type": "stream",
     "text": [
      "\r",
      "Step 2/3 :  19%|█▉        | 958/5000 [00:19<00:43, 91.98it/s]"
     ]
    },
    {
     "name": "stderr",
     "output_type": "stream",
     "text": [
      "\r",
      "Step 2/3 :  19%|█▉        | 958/5000 [00:19<00:43, 91.98it/s]"
     ]
    },
    {
     "name": "stderr",
     "output_type": "stream",
     "text": [
      "\r",
      "Step 2/3 :  19%|█▉        | 958/5000 [00:19<00:43, 91.98it/s]"
     ]
    },
    {
     "name": "stderr",
     "output_type": "stream",
     "text": [
      "\r",
      "Step 2/3 :  19%|█▉        | 958/5000 [00:19<00:43, 91.98it/s]"
     ]
    },
    {
     "name": "stderr",
     "output_type": "stream",
     "text": [
      "\r",
      "Step 2/3 :  19%|█▉        | 958/5000 [00:19<00:43, 91.98it/s]"
     ]
    },
    {
     "name": "stderr",
     "output_type": "stream",
     "text": [
      "\r",
      "Step 2/3 :  19%|█▉        | 958/5000 [00:19<00:43, 91.98it/s]"
     ]
    },
    {
     "name": "stderr",
     "output_type": "stream",
     "text": [
      "\r",
      "Step 2/3 :  19%|█▉        | 958/5000 [00:19<00:43, 91.98it/s]"
     ]
    },
    {
     "name": "stderr",
     "output_type": "stream",
     "text": [
      "\r",
      "Step 2/3 :  19%|█▉        | 958/5000 [00:19<00:43, 91.98it/s]"
     ]
    },
    {
     "name": "stderr",
     "output_type": "stream",
     "text": [
      "\r",
      "Step 2/3 :  19%|█▉        | 958/5000 [00:19<00:43, 91.98it/s]"
     ]
    },
    {
     "name": "stderr",
     "output_type": "stream",
     "text": [
      "\r",
      "Step 2/3 :  19%|█▉        | 968/5000 [00:19<00:43, 92.68it/s]"
     ]
    },
    {
     "name": "stderr",
     "output_type": "stream",
     "text": [
      "\r",
      "Step 2/3 :  19%|█▉        | 968/5000 [00:19<00:43, 92.68it/s]"
     ]
    },
    {
     "name": "stderr",
     "output_type": "stream",
     "text": [
      "\r",
      "Step 2/3 :  19%|█▉        | 968/5000 [00:19<00:43, 92.68it/s]"
     ]
    },
    {
     "name": "stderr",
     "output_type": "stream",
     "text": [
      "\r",
      "Step 2/3 :  19%|█▉        | 968/5000 [00:19<00:43, 92.68it/s]"
     ]
    },
    {
     "name": "stderr",
     "output_type": "stream",
     "text": [
      "\r",
      "Step 2/3 :  19%|█▉        | 968/5000 [00:19<00:43, 92.68it/s]"
     ]
    },
    {
     "name": "stderr",
     "output_type": "stream",
     "text": [
      "\r",
      "Step 2/3 :  19%|█▉        | 968/5000 [00:19<00:43, 92.68it/s]"
     ]
    },
    {
     "name": "stderr",
     "output_type": "stream",
     "text": [
      "\r",
      "Step 2/3 :  19%|█▉        | 968/5000 [00:19<00:43, 92.68it/s]"
     ]
    },
    {
     "name": "stderr",
     "output_type": "stream",
     "text": [
      "\r",
      "Step 2/3 :  19%|█▉        | 968/5000 [00:19<00:43, 92.68it/s]"
     ]
    },
    {
     "name": "stderr",
     "output_type": "stream",
     "text": [
      "\r",
      "Step 2/3 :  19%|█▉        | 968/5000 [00:19<00:43, 92.68it/s]"
     ]
    },
    {
     "name": "stderr",
     "output_type": "stream",
     "text": [
      "\r",
      "Step 2/3 :  19%|█▉        | 968/5000 [00:19<00:43, 92.68it/s]"
     ]
    },
    {
     "name": "stderr",
     "output_type": "stream",
     "text": [
      "\r",
      "Step 2/3 :  19%|█▉        | 968/5000 [00:19<00:43, 92.68it/s]"
     ]
    },
    {
     "name": "stderr",
     "output_type": "stream",
     "text": [
      "\r",
      "Step 2/3 :  20%|█▉        | 978/5000 [00:19<00:44, 90.88it/s]"
     ]
    },
    {
     "name": "stderr",
     "output_type": "stream",
     "text": [
      "\r",
      "Step 2/3 :  20%|█▉        | 978/5000 [00:19<00:44, 90.88it/s]"
     ]
    },
    {
     "name": "stderr",
     "output_type": "stream",
     "text": [
      "\r",
      "Step 2/3 :  20%|█▉        | 978/5000 [00:19<00:44, 90.88it/s]"
     ]
    },
    {
     "name": "stderr",
     "output_type": "stream",
     "text": [
      "\r",
      "Step 2/3 :  20%|█▉        | 978/5000 [00:19<00:44, 90.88it/s]"
     ]
    },
    {
     "name": "stderr",
     "output_type": "stream",
     "text": [
      "\r",
      "Step 2/3 :  20%|█▉        | 978/5000 [00:19<00:44, 90.88it/s]"
     ]
    },
    {
     "name": "stderr",
     "output_type": "stream",
     "text": [
      "\r",
      "Step 2/3 :  20%|█▉        | 978/5000 [00:19<00:44, 90.88it/s]"
     ]
    },
    {
     "name": "stderr",
     "output_type": "stream",
     "text": [
      "\r",
      "Step 2/3 :  20%|█▉        | 978/5000 [00:19<00:44, 90.88it/s]"
     ]
    },
    {
     "name": "stderr",
     "output_type": "stream",
     "text": [
      "\r",
      "Step 2/3 :  20%|█▉        | 978/5000 [00:19<00:44, 90.88it/s]"
     ]
    },
    {
     "name": "stderr",
     "output_type": "stream",
     "text": [
      "\r",
      "Step 2/3 :  20%|█▉        | 978/5000 [00:19<00:44, 90.88it/s]"
     ]
    },
    {
     "name": "stderr",
     "output_type": "stream",
     "text": [
      "\r",
      "Step 2/3 :  20%|█▉        | 978/5000 [00:19<00:44, 90.88it/s]"
     ]
    },
    {
     "name": "stderr",
     "output_type": "stream",
     "text": [
      "\r",
      "Step 2/3 :  20%|█▉        | 978/5000 [00:19<00:44, 90.88it/s]"
     ]
    },
    {
     "name": "stderr",
     "output_type": "stream",
     "text": [
      "\r",
      "Step 2/3 :  20%|█▉        | 988/5000 [00:19<00:47, 84.21it/s]"
     ]
    },
    {
     "name": "stderr",
     "output_type": "stream",
     "text": [
      "\r",
      "Step 2/3 :  20%|█▉        | 988/5000 [00:19<00:47, 84.21it/s]"
     ]
    },
    {
     "name": "stderr",
     "output_type": "stream",
     "text": [
      "\r",
      "Step 2/3 :  20%|█▉        | 988/5000 [00:19<00:47, 84.21it/s]"
     ]
    },
    {
     "name": "stderr",
     "output_type": "stream",
     "text": [
      "\r",
      "Step 2/3 :  20%|█▉        | 988/5000 [00:19<00:47, 84.21it/s]"
     ]
    },
    {
     "name": "stderr",
     "output_type": "stream",
     "text": [
      "\r",
      "Step 2/3 :  20%|█▉        | 988/5000 [00:19<00:47, 84.21it/s]"
     ]
    },
    {
     "name": "stderr",
     "output_type": "stream",
     "text": [
      "\r",
      "Step 2/3 :  20%|█▉        | 988/5000 [00:19<00:47, 84.21it/s]"
     ]
    },
    {
     "name": "stderr",
     "output_type": "stream",
     "text": [
      "\r",
      "Step 2/3 :  20%|█▉        | 988/5000 [00:19<00:47, 84.21it/s]"
     ]
    },
    {
     "name": "stderr",
     "output_type": "stream",
     "text": [
      "\r",
      "Step 2/3 :  20%|█▉        | 988/5000 [00:19<00:47, 84.21it/s]"
     ]
    },
    {
     "name": "stderr",
     "output_type": "stream",
     "text": [
      "\r",
      "Step 2/3 :  20%|█▉        | 988/5000 [00:19<00:47, 84.21it/s]"
     ]
    },
    {
     "name": "stderr",
     "output_type": "stream",
     "text": [
      "\r",
      "Step 2/3 :  20%|█▉        | 988/5000 [00:19<00:47, 84.21it/s]"
     ]
    },
    {
     "name": "stderr",
     "output_type": "stream",
     "text": [
      "\r",
      "Step 2/3 :  20%|█▉        | 988/5000 [00:19<00:47, 84.21it/s]"
     ]
    },
    {
     "name": "stderr",
     "output_type": "stream",
     "text": [
      "\r",
      "Step 2/3 :  20%|█▉        | 998/5000 [00:19<00:46, 86.57it/s]"
     ]
    },
    {
     "name": "stderr",
     "output_type": "stream",
     "text": [
      "\r",
      "Step 2/3 :  20%|█▉        | 998/5000 [00:19<00:46, 86.57it/s]"
     ]
    },
    {
     "name": "stderr",
     "output_type": "stream",
     "text": [
      "\r",
      "Step 2/3 :  20%|█▉        | 998/5000 [00:19<00:46, 86.57it/s]"
     ]
    },
    {
     "name": "stderr",
     "output_type": "stream",
     "text": [
      "\r",
      "Step 3/3 :  20%|█▉        | 998/5000 [00:19<00:46, 86.57it/s]"
     ]
    },
    {
     "name": "stderr",
     "output_type": "stream",
     "text": [
      "\r",
      "Step 3/3 :  20%|█▉        | 998/5000 [00:19<00:46, 86.57it/s]"
     ]
    },
    {
     "name": "stderr",
     "output_type": "stream",
     "text": [
      "\r",
      "Step 3/3 :  20%|█▉        | 998/5000 [00:19<00:46, 86.57it/s]"
     ]
    },
    {
     "name": "stderr",
     "output_type": "stream",
     "text": [
      "\r",
      "Step 3/3 :  20%|█▉        | 998/5000 [00:19<00:46, 86.57it/s]"
     ]
    },
    {
     "name": "stderr",
     "output_type": "stream",
     "text": [
      "\r",
      "Step 3/3 :  20%|█▉        | 998/5000 [00:19<00:46, 86.57it/s]"
     ]
    },
    {
     "name": "stderr",
     "output_type": "stream",
     "text": [
      "\r",
      "Step 3/3 :  20%|█▉        | 998/5000 [00:19<00:46, 86.57it/s]"
     ]
    },
    {
     "name": "stderr",
     "output_type": "stream",
     "text": [
      "\r",
      "Step 3/3 :  20%|█▉        | 998/5000 [00:19<00:46, 86.57it/s]"
     ]
    },
    {
     "name": "stderr",
     "output_type": "stream",
     "text": [
      "\r",
      "Step 3/3 :  20%|█▉        | 998/5000 [00:19<00:46, 86.57it/s]"
     ]
    },
    {
     "name": "stderr",
     "output_type": "stream",
     "text": [
      "\r",
      "Step 3/3 :  20%|█▉        | 998/5000 [00:19<00:46, 86.57it/s]"
     ]
    },
    {
     "name": "stderr",
     "output_type": "stream",
     "text": [
      "\r",
      "Step 3/3 :  20%|██        | 1009/5000 [00:19<00:43, 90.94it/s]"
     ]
    },
    {
     "name": "stderr",
     "output_type": "stream",
     "text": [
      "\r",
      "Step 3/3 :  20%|██        | 1009/5000 [00:19<00:43, 90.94it/s]"
     ]
    },
    {
     "name": "stderr",
     "output_type": "stream",
     "text": [
      "\r",
      "Step 3/3 :  20%|██        | 1009/5000 [00:19<00:43, 90.94it/s]"
     ]
    },
    {
     "name": "stderr",
     "output_type": "stream",
     "text": [
      "\r",
      "Step 3/3 :  20%|██        | 1009/5000 [00:19<00:43, 90.94it/s]"
     ]
    },
    {
     "name": "stderr",
     "output_type": "stream",
     "text": [
      "\r",
      "Step 3/3 :  20%|██        | 1009/5000 [00:19<00:43, 90.94it/s]"
     ]
    },
    {
     "name": "stderr",
     "output_type": "stream",
     "text": [
      "\r",
      "Step 3/3 :  20%|██        | 1009/5000 [00:19<00:43, 90.94it/s]"
     ]
    },
    {
     "name": "stderr",
     "output_type": "stream",
     "text": [
      "\r",
      "Step 3/3 :  20%|██        | 1009/5000 [00:19<00:43, 90.94it/s]"
     ]
    },
    {
     "name": "stderr",
     "output_type": "stream",
     "text": [
      "\r",
      "Step 3/3 :  20%|██        | 1009/5000 [00:19<00:43, 90.94it/s]"
     ]
    },
    {
     "name": "stderr",
     "output_type": "stream",
     "text": [
      "\r",
      "Step 3/3 :  20%|██        | 1009/5000 [00:19<00:43, 90.94it/s]"
     ]
    },
    {
     "name": "stderr",
     "output_type": "stream",
     "text": [
      "\r",
      "Step 3/3 :  20%|██        | 1009/5000 [00:19<00:43, 90.94it/s]"
     ]
    },
    {
     "name": "stderr",
     "output_type": "stream",
     "text": [
      "\r",
      "Step 3/3 :  20%|██        | 1009/5000 [00:19<00:43, 90.94it/s]"
     ]
    },
    {
     "name": "stderr",
     "output_type": "stream",
     "text": [
      "\r",
      "Step 3/3 :  20%|██        | 1019/5000 [00:19<00:42, 92.67it/s]"
     ]
    },
    {
     "name": "stderr",
     "output_type": "stream",
     "text": [
      "\r",
      "Step 3/3 :  20%|██        | 1019/5000 [00:19<00:42, 92.67it/s]"
     ]
    },
    {
     "name": "stderr",
     "output_type": "stream",
     "text": [
      "\r",
      "Step 3/3 :  20%|██        | 1019/5000 [00:19<00:42, 92.67it/s]"
     ]
    },
    {
     "name": "stderr",
     "output_type": "stream",
     "text": [
      "\r",
      "Step 3/3 :  20%|██        | 1019/5000 [00:19<00:42, 92.67it/s]"
     ]
    },
    {
     "name": "stderr",
     "output_type": "stream",
     "text": [
      "\r",
      "Step 3/3 :  20%|██        | 1019/5000 [00:19<00:42, 92.67it/s]"
     ]
    },
    {
     "name": "stderr",
     "output_type": "stream",
     "text": [
      "\r",
      "Step 3/3 :  20%|██        | 1019/5000 [00:19<00:42, 92.67it/s]"
     ]
    },
    {
     "name": "stderr",
     "output_type": "stream",
     "text": [
      "\r",
      "Step 3/3 :  20%|██        | 1019/5000 [00:19<00:42, 92.67it/s]"
     ]
    },
    {
     "name": "stderr",
     "output_type": "stream",
     "text": [
      "\r",
      "Step 3/3 :  20%|██        | 1019/5000 [00:19<00:42, 92.67it/s]"
     ]
    },
    {
     "name": "stderr",
     "output_type": "stream",
     "text": [
      "\r",
      "Step 3/3 :  20%|██        | 1019/5000 [00:19<00:42, 92.67it/s]"
     ]
    },
    {
     "name": "stderr",
     "output_type": "stream",
     "text": [
      "\r",
      "Step 3/3 :  20%|██        | 1019/5000 [00:19<00:42, 92.67it/s]"
     ]
    },
    {
     "name": "stderr",
     "output_type": "stream",
     "text": [
      "\r",
      "Step 3/3 :  20%|██        | 1019/5000 [00:19<00:42, 92.67it/s]"
     ]
    },
    {
     "name": "stderr",
     "output_type": "stream",
     "text": [
      "\r",
      "Step 3/3 :  21%|██        | 1029/5000 [00:19<00:43, 92.14it/s]"
     ]
    },
    {
     "name": "stderr",
     "output_type": "stream",
     "text": [
      "\r",
      "Step 3/3 :  21%|██        | 1029/5000 [00:19<00:43, 92.14it/s]"
     ]
    },
    {
     "name": "stderr",
     "output_type": "stream",
     "text": [
      "\r",
      "Step 3/3 :  21%|██        | 1029/5000 [00:19<00:43, 92.14it/s]"
     ]
    },
    {
     "name": "stderr",
     "output_type": "stream",
     "text": [
      "\r",
      "Step 3/3 :  21%|██        | 1029/5000 [00:19<00:43, 92.14it/s]"
     ]
    },
    {
     "name": "stderr",
     "output_type": "stream",
     "text": [
      "\r",
      "Step 3/3 :  21%|██        | 1029/5000 [00:20<00:43, 92.14it/s]"
     ]
    },
    {
     "name": "stderr",
     "output_type": "stream",
     "text": [
      "\r",
      "Step 3/3 :  21%|██        | 1029/5000 [00:20<00:43, 92.14it/s]"
     ]
    },
    {
     "name": "stderr",
     "output_type": "stream",
     "text": [
      "\r",
      "Step 3/3 :  21%|██        | 1029/5000 [00:20<00:43, 92.14it/s]"
     ]
    },
    {
     "name": "stderr",
     "output_type": "stream",
     "text": [
      "\r",
      "Step 3/3 :  21%|██        | 1029/5000 [00:20<00:43, 92.14it/s]"
     ]
    },
    {
     "name": "stderr",
     "output_type": "stream",
     "text": [
      "\r",
      "Step 3/3 :  21%|██        | 1029/5000 [00:20<00:43, 92.14it/s]"
     ]
    },
    {
     "name": "stderr",
     "output_type": "stream",
     "text": [
      "\r",
      "Step 3/3 :  21%|██        | 1029/5000 [00:20<00:43, 92.14it/s]"
     ]
    },
    {
     "name": "stderr",
     "output_type": "stream",
     "text": [
      "\r",
      "Step 3/3 :  21%|██        | 1029/5000 [00:20<00:43, 92.14it/s]"
     ]
    },
    {
     "name": "stderr",
     "output_type": "stream",
     "text": [
      "\r",
      "Step 3/3 :  21%|██        | 1039/5000 [00:20<00:43, 90.78it/s]"
     ]
    },
    {
     "name": "stderr",
     "output_type": "stream",
     "text": [
      "\r",
      "Step 3/3 :  21%|██        | 1039/5000 [00:20<00:43, 90.78it/s]"
     ]
    },
    {
     "name": "stderr",
     "output_type": "stream",
     "text": [
      "\r",
      "Step 3/3 :  21%|██        | 1039/5000 [00:20<00:43, 90.78it/s]"
     ]
    },
    {
     "name": "stderr",
     "output_type": "stream",
     "text": [
      "\r",
      "Step 3/3 :  21%|██        | 1039/5000 [00:20<00:43, 90.78it/s]"
     ]
    },
    {
     "name": "stderr",
     "output_type": "stream",
     "text": [
      "\r",
      "Step 3/3 :  21%|██        | 1039/5000 [00:20<00:43, 90.78it/s]"
     ]
    },
    {
     "name": "stderr",
     "output_type": "stream",
     "text": [
      "\r",
      "Step 3/3 :  21%|██        | 1039/5000 [00:20<00:43, 90.78it/s]"
     ]
    },
    {
     "name": "stderr",
     "output_type": "stream",
     "text": [
      "\r",
      "Step 3/3 :  21%|██        | 1039/5000 [00:20<00:43, 90.78it/s]"
     ]
    },
    {
     "name": "stderr",
     "output_type": "stream",
     "text": [
      "\r",
      "Step 3/3 :  21%|██        | 1039/5000 [00:20<00:43, 90.78it/s]"
     ]
    },
    {
     "name": "stderr",
     "output_type": "stream",
     "text": [
      "\r",
      "Step 3/3 :  21%|██        | 1039/5000 [00:20<00:43, 90.78it/s]"
     ]
    },
    {
     "name": "stderr",
     "output_type": "stream",
     "text": [
      "\r",
      "Step 3/3 :  21%|██        | 1039/5000 [00:20<00:43, 90.78it/s]"
     ]
    },
    {
     "name": "stderr",
     "output_type": "stream",
     "text": [
      "\r",
      "Step 3/3 :  21%|██        | 1039/5000 [00:20<00:43, 90.78it/s]"
     ]
    },
    {
     "name": "stderr",
     "output_type": "stream",
     "text": [
      "\r",
      "Step 3/3 :  21%|██        | 1049/5000 [00:20<00:42, 93.08it/s]"
     ]
    },
    {
     "name": "stderr",
     "output_type": "stream",
     "text": [
      "\r",
      "Step 3/3 :  21%|██        | 1049/5000 [00:20<00:42, 93.08it/s]"
     ]
    },
    {
     "name": "stderr",
     "output_type": "stream",
     "text": [
      "\r",
      "Step 3/3 :  21%|██        | 1049/5000 [00:20<00:42, 93.08it/s]"
     ]
    },
    {
     "name": "stderr",
     "output_type": "stream",
     "text": [
      "\r",
      "Step 3/3 :  21%|██        | 1049/5000 [00:20<00:42, 93.08it/s]"
     ]
    },
    {
     "name": "stderr",
     "output_type": "stream",
     "text": [
      "\r",
      "Step 3/3 :  21%|██        | 1049/5000 [00:20<00:42, 93.08it/s]"
     ]
    },
    {
     "name": "stderr",
     "output_type": "stream",
     "text": [
      "\r",
      "Step 3/3 :  21%|██        | 1049/5000 [00:20<00:42, 93.08it/s]"
     ]
    },
    {
     "name": "stderr",
     "output_type": "stream",
     "text": [
      "\r",
      "Step 3/3 :  21%|██        | 1049/5000 [00:20<00:42, 93.08it/s]"
     ]
    },
    {
     "name": "stderr",
     "output_type": "stream",
     "text": [
      "\r",
      "Step 3/3 :  21%|██        | 1049/5000 [00:20<00:42, 93.08it/s]"
     ]
    },
    {
     "name": "stderr",
     "output_type": "stream",
     "text": [
      "\r",
      "Step 3/3 :  21%|██        | 1049/5000 [00:20<00:42, 93.08it/s]"
     ]
    },
    {
     "name": "stderr",
     "output_type": "stream",
     "text": [
      "\r",
      "Step 3/3 :  21%|██        | 1049/5000 [00:20<00:42, 93.08it/s]"
     ]
    },
    {
     "name": "stderr",
     "output_type": "stream",
     "text": [
      "\r",
      "Step 3/3 :  21%|██        | 1049/5000 [00:20<00:42, 93.08it/s]"
     ]
    },
    {
     "name": "stderr",
     "output_type": "stream",
     "text": [
      "\r",
      "Step 3/3 :  21%|██        | 1059/5000 [00:20<00:41, 95.05it/s]"
     ]
    },
    {
     "name": "stderr",
     "output_type": "stream",
     "text": [
      "\r",
      "Step 3/3 :  21%|██        | 1059/5000 [00:20<00:41, 95.05it/s]"
     ]
    },
    {
     "name": "stderr",
     "output_type": "stream",
     "text": [
      "\r",
      "Step 3/3 :  21%|██        | 1059/5000 [00:20<00:41, 95.05it/s]"
     ]
    },
    {
     "name": "stderr",
     "output_type": "stream",
     "text": [
      "\r",
      "Step 3/3 :  21%|██        | 1059/5000 [00:20<00:41, 95.05it/s]"
     ]
    },
    {
     "name": "stderr",
     "output_type": "stream",
     "text": [
      "\r",
      "Step 3/3 :  21%|██        | 1059/5000 [00:20<00:41, 95.05it/s]"
     ]
    },
    {
     "name": "stderr",
     "output_type": "stream",
     "text": [
      "\r",
      "Step 3/3 :  21%|██        | 1059/5000 [00:20<00:41, 95.05it/s]"
     ]
    },
    {
     "name": "stderr",
     "output_type": "stream",
     "text": [
      "\r",
      "Step 3/3 :  21%|██        | 1059/5000 [00:20<00:41, 95.05it/s]"
     ]
    },
    {
     "name": "stderr",
     "output_type": "stream",
     "text": [
      "\r",
      "Step 3/3 :  21%|██        | 1059/5000 [00:20<00:41, 95.05it/s]"
     ]
    },
    {
     "name": "stderr",
     "output_type": "stream",
     "text": [
      "\r",
      "Step 3/3 :  21%|██        | 1059/5000 [00:20<00:41, 95.05it/s]"
     ]
    },
    {
     "name": "stderr",
     "output_type": "stream",
     "text": [
      "\r",
      "Step 3/3 :  21%|██        | 1059/5000 [00:20<00:41, 95.05it/s]"
     ]
    },
    {
     "name": "stderr",
     "output_type": "stream",
     "text": [
      "\r",
      "Step 3/3 :  21%|██        | 1059/5000 [00:20<00:41, 95.05it/s]"
     ]
    },
    {
     "name": "stderr",
     "output_type": "stream",
     "text": [
      "\r",
      "Step 3/3 :  21%|██▏       | 1069/5000 [00:20<00:42, 93.25it/s]"
     ]
    },
    {
     "name": "stderr",
     "output_type": "stream",
     "text": [
      "\r",
      "Step 3/3 :  21%|██▏       | 1069/5000 [00:20<00:42, 93.25it/s]"
     ]
    },
    {
     "name": "stderr",
     "output_type": "stream",
     "text": [
      "\r",
      "Step 3/3 :  21%|██▏       | 1069/5000 [00:20<00:42, 93.25it/s]"
     ]
    },
    {
     "name": "stderr",
     "output_type": "stream",
     "text": [
      "\r",
      "Step 3/3 :  21%|██▏       | 1069/5000 [00:20<00:42, 93.25it/s]"
     ]
    },
    {
     "name": "stderr",
     "output_type": "stream",
     "text": [
      "\r",
      "Step 3/3 :  21%|██▏       | 1069/5000 [00:20<00:42, 93.25it/s]"
     ]
    },
    {
     "name": "stderr",
     "output_type": "stream",
     "text": [
      "\r",
      "Step 3/3 :  21%|██▏       | 1069/5000 [00:20<00:42, 93.25it/s]"
     ]
    },
    {
     "name": "stderr",
     "output_type": "stream",
     "text": [
      "\r",
      "Step 3/3 :  21%|██▏       | 1069/5000 [00:20<00:42, 93.25it/s]"
     ]
    },
    {
     "name": "stderr",
     "output_type": "stream",
     "text": [
      "\r",
      "Step 3/3 :  21%|██▏       | 1069/5000 [00:20<00:42, 93.25it/s]"
     ]
    },
    {
     "name": "stderr",
     "output_type": "stream",
     "text": [
      "\r",
      "Step 3/3 :  21%|██▏       | 1069/5000 [00:20<00:42, 93.25it/s]"
     ]
    },
    {
     "name": "stderr",
     "output_type": "stream",
     "text": [
      "\r",
      "Step 3/3 :  21%|██▏       | 1069/5000 [00:20<00:42, 93.25it/s]"
     ]
    },
    {
     "name": "stderr",
     "output_type": "stream",
     "text": [
      "\r",
      "Step 3/3 :  21%|██▏       | 1069/5000 [00:20<00:42, 93.25it/s]"
     ]
    },
    {
     "name": "stderr",
     "output_type": "stream",
     "text": [
      "\r",
      "Step 3/3 :  22%|██▏       | 1079/5000 [00:20<00:42, 92.79it/s]"
     ]
    },
    {
     "name": "stderr",
     "output_type": "stream",
     "text": [
      "\r",
      "Step 3/3 :  22%|██▏       | 1079/5000 [00:20<00:42, 92.79it/s]"
     ]
    },
    {
     "name": "stderr",
     "output_type": "stream",
     "text": [
      "\r",
      "Step 3/3 :  22%|██▏       | 1079/5000 [00:20<00:42, 92.79it/s]"
     ]
    },
    {
     "name": "stderr",
     "output_type": "stream",
     "text": [
      "\r",
      "Step 3/3 :  22%|██▏       | 1079/5000 [00:20<00:42, 92.79it/s]"
     ]
    },
    {
     "name": "stderr",
     "output_type": "stream",
     "text": [
      "\r",
      "Step 3/3 :  22%|██▏       | 1079/5000 [00:20<00:42, 92.79it/s]"
     ]
    },
    {
     "name": "stderr",
     "output_type": "stream",
     "text": [
      "\r",
      "Step 3/3 :  22%|██▏       | 1079/5000 [00:20<00:42, 92.79it/s]"
     ]
    },
    {
     "name": "stderr",
     "output_type": "stream",
     "text": [
      "\r",
      "Step 3/3 :  22%|██▏       | 1079/5000 [00:20<00:42, 92.79it/s]"
     ]
    },
    {
     "name": "stderr",
     "output_type": "stream",
     "text": [
      "\r",
      "Step 3/3 :  22%|██▏       | 1079/5000 [00:20<00:42, 92.79it/s]"
     ]
    },
    {
     "name": "stderr",
     "output_type": "stream",
     "text": [
      "\r",
      "Step 3/3 :  22%|██▏       | 1079/5000 [00:20<00:42, 92.79it/s]"
     ]
    },
    {
     "name": "stderr",
     "output_type": "stream",
     "text": [
      "\r",
      "Step 3/3 :  22%|██▏       | 1079/5000 [00:20<00:42, 92.79it/s]"
     ]
    },
    {
     "name": "stderr",
     "output_type": "stream",
     "text": [
      "\r",
      "Step 3/3 :  22%|██▏       | 1079/5000 [00:20<00:42, 92.79it/s]"
     ]
    },
    {
     "name": "stderr",
     "output_type": "stream",
     "text": [
      "\r",
      "Step 3/3 :  22%|██▏       | 1089/5000 [00:20<00:42, 91.21it/s]"
     ]
    },
    {
     "name": "stderr",
     "output_type": "stream",
     "text": [
      "\r",
      "Step 3/3 :  22%|██▏       | 1089/5000 [00:20<00:42, 91.21it/s]"
     ]
    },
    {
     "name": "stderr",
     "output_type": "stream",
     "text": [
      "\r",
      "Step 3/3 :  22%|██▏       | 1089/5000 [00:20<00:42, 91.21it/s]"
     ]
    },
    {
     "name": "stderr",
     "output_type": "stream",
     "text": [
      "\r",
      "Step 3/3 :  22%|██▏       | 1089/5000 [00:20<00:42, 91.21it/s]"
     ]
    },
    {
     "name": "stderr",
     "output_type": "stream",
     "text": [
      "\r",
      "Step 3/3 :  22%|██▏       | 1089/5000 [00:20<00:42, 91.21it/s]"
     ]
    },
    {
     "name": "stderr",
     "output_type": "stream",
     "text": [
      "\r",
      "Step 3/3 :  22%|██▏       | 1089/5000 [00:20<00:42, 91.21it/s]"
     ]
    },
    {
     "name": "stderr",
     "output_type": "stream",
     "text": [
      "\r",
      "Step 3/3 :  22%|██▏       | 1089/5000 [00:20<00:42, 91.21it/s]"
     ]
    },
    {
     "name": "stderr",
     "output_type": "stream",
     "text": [
      "\r",
      "Step 3/3 :  22%|██▏       | 1089/5000 [00:20<00:42, 91.21it/s]"
     ]
    },
    {
     "name": "stderr",
     "output_type": "stream",
     "text": [
      "\r",
      "Step 3/3 :  22%|██▏       | 1089/5000 [00:20<00:42, 91.21it/s]"
     ]
    },
    {
     "name": "stderr",
     "output_type": "stream",
     "text": [
      "\r",
      "Step 3/3 :  22%|██▏       | 1089/5000 [00:20<00:42, 91.21it/s]"
     ]
    },
    {
     "name": "stderr",
     "output_type": "stream",
     "text": [
      "\r",
      "Step 3/3 :  22%|██▏       | 1089/5000 [00:20<00:42, 91.21it/s]"
     ]
    },
    {
     "name": "stderr",
     "output_type": "stream",
     "text": [
      "\r",
      "Step 3/3 :  22%|██▏       | 1099/5000 [00:20<00:42, 92.64it/s]"
     ]
    },
    {
     "name": "stderr",
     "output_type": "stream",
     "text": [
      "\r",
      "Step 3/3 :  22%|██▏       | 1099/5000 [00:20<00:42, 92.64it/s]"
     ]
    },
    {
     "name": "stderr",
     "output_type": "stream",
     "text": [
      "\r",
      "Step 3/3 :  22%|██▏       | 1099/5000 [00:20<00:42, 92.64it/s]"
     ]
    },
    {
     "name": "stderr",
     "output_type": "stream",
     "text": [
      "\r",
      "Step 3/3 :  22%|██▏       | 1099/5000 [00:20<00:42, 92.64it/s]"
     ]
    },
    {
     "name": "stderr",
     "output_type": "stream",
     "text": [
      "\r",
      "Step 3/3 :  22%|██▏       | 1099/5000 [00:20<00:42, 92.64it/s]"
     ]
    },
    {
     "name": "stderr",
     "output_type": "stream",
     "text": [
      "\r",
      "Step 3/3 :  22%|██▏       | 1099/5000 [00:20<00:42, 92.64it/s]"
     ]
    },
    {
     "name": "stderr",
     "output_type": "stream",
     "text": [
      "\r",
      "Step 3/3 :  22%|██▏       | 1099/5000 [00:20<00:42, 92.64it/s]"
     ]
    },
    {
     "name": "stderr",
     "output_type": "stream",
     "text": [
      "\r",
      "Step 3/3 :  22%|██▏       | 1099/5000 [00:20<00:42, 92.64it/s]"
     ]
    },
    {
     "name": "stderr",
     "output_type": "stream",
     "text": [
      "\r",
      "Step 3/3 :  22%|██▏       | 1099/5000 [00:20<00:42, 92.64it/s]"
     ]
    },
    {
     "name": "stderr",
     "output_type": "stream",
     "text": [
      "\r",
      "Step 3/3 :  22%|██▏       | 1099/5000 [00:20<00:42, 92.64it/s]"
     ]
    },
    {
     "name": "stderr",
     "output_type": "stream",
     "text": [
      "\r",
      "Step 3/3 :  22%|██▏       | 1099/5000 [00:20<00:42, 92.64it/s]"
     ]
    },
    {
     "name": "stderr",
     "output_type": "stream",
     "text": [
      "\r",
      "Step 3/3 :  22%|██▏       | 1109/5000 [00:20<00:42, 92.11it/s]"
     ]
    },
    {
     "name": "stderr",
     "output_type": "stream",
     "text": [
      "\r",
      "Step 3/3 :  22%|██▏       | 1109/5000 [00:20<00:42, 92.11it/s]"
     ]
    },
    {
     "name": "stderr",
     "output_type": "stream",
     "text": [
      "\r",
      "Step 3/3 :  22%|██▏       | 1109/5000 [00:20<00:42, 92.11it/s]"
     ]
    },
    {
     "name": "stderr",
     "output_type": "stream",
     "text": [
      "\r",
      "Step 3/3 :  22%|██▏       | 1109/5000 [00:20<00:42, 92.11it/s]"
     ]
    },
    {
     "name": "stderr",
     "output_type": "stream",
     "text": [
      "\r",
      "Step 3/3 :  22%|██▏       | 1109/5000 [00:20<00:42, 92.11it/s]"
     ]
    },
    {
     "name": "stderr",
     "output_type": "stream",
     "text": [
      "\r",
      "Step 3/3 :  22%|██▏       | 1109/5000 [00:20<00:42, 92.11it/s]"
     ]
    },
    {
     "name": "stderr",
     "output_type": "stream",
     "text": [
      "\r",
      "Step 3/3 :  22%|██▏       | 1109/5000 [00:20<00:42, 92.11it/s]"
     ]
    },
    {
     "name": "stderr",
     "output_type": "stream",
     "text": [
      "\r",
      "Step 3/3 :  22%|██▏       | 1109/5000 [00:20<00:42, 92.11it/s]"
     ]
    },
    {
     "name": "stderr",
     "output_type": "stream",
     "text": [
      "\r",
      "Step 3/3 :  22%|██▏       | 1109/5000 [00:20<00:42, 92.11it/s]"
     ]
    },
    {
     "name": "stderr",
     "output_type": "stream",
     "text": [
      "\r",
      "Step 3/3 :  22%|██▏       | 1109/5000 [00:20<00:42, 92.11it/s]"
     ]
    },
    {
     "name": "stderr",
     "output_type": "stream",
     "text": [
      "\r",
      "Step 3/3 :  22%|██▏       | 1109/5000 [00:20<00:42, 92.11it/s]"
     ]
    },
    {
     "name": "stderr",
     "output_type": "stream",
     "text": [
      "\r",
      "Step 3/3 :  22%|██▏       | 1119/5000 [00:20<00:41, 92.77it/s]"
     ]
    },
    {
     "name": "stderr",
     "output_type": "stream",
     "text": [
      "\r",
      "Step 3/3 :  22%|██▏       | 1119/5000 [00:20<00:41, 92.77it/s]"
     ]
    },
    {
     "name": "stderr",
     "output_type": "stream",
     "text": [
      "\r",
      "Step 3/3 :  22%|██▏       | 1119/5000 [00:20<00:41, 92.77it/s]"
     ]
    },
    {
     "name": "stderr",
     "output_type": "stream",
     "text": [
      "\r",
      "Step 3/3 :  22%|██▏       | 1119/5000 [00:20<00:41, 92.77it/s]"
     ]
    },
    {
     "name": "stderr",
     "output_type": "stream",
     "text": [
      "\r",
      "Step 3/3 :  22%|██▏       | 1119/5000 [00:20<00:41, 92.77it/s]"
     ]
    },
    {
     "name": "stderr",
     "output_type": "stream",
     "text": [
      "\r",
      "Step 3/3 :  22%|██▏       | 1119/5000 [00:20<00:41, 92.77it/s]"
     ]
    },
    {
     "name": "stderr",
     "output_type": "stream",
     "text": [
      "\r",
      "Step 3/3 :  22%|██▏       | 1119/5000 [00:20<00:41, 92.77it/s]"
     ]
    },
    {
     "name": "stderr",
     "output_type": "stream",
     "text": [
      "\r",
      "Step 3/3 :  22%|██▏       | 1119/5000 [00:20<00:41, 92.77it/s]"
     ]
    },
    {
     "name": "stderr",
     "output_type": "stream",
     "text": [
      "\r",
      "Step 3/3 :  22%|██▏       | 1119/5000 [00:21<00:41, 92.77it/s]"
     ]
    },
    {
     "name": "stderr",
     "output_type": "stream",
     "text": [
      "\r",
      "Step 3/3 :  22%|██▏       | 1119/5000 [00:21<00:41, 92.77it/s]"
     ]
    },
    {
     "name": "stderr",
     "output_type": "stream",
     "text": [
      "\r",
      "Step 3/3 :  22%|██▏       | 1119/5000 [00:21<00:41, 92.77it/s]"
     ]
    },
    {
     "name": "stderr",
     "output_type": "stream",
     "text": [
      "\r",
      "Step 3/3 :  23%|██▎       | 1129/5000 [00:21<00:41, 93.50it/s]"
     ]
    },
    {
     "name": "stderr",
     "output_type": "stream",
     "text": [
      "\r",
      "Step 3/3 :  23%|██▎       | 1129/5000 [00:21<00:41, 93.50it/s]"
     ]
    },
    {
     "name": "stderr",
     "output_type": "stream",
     "text": [
      "\r",
      "Step 3/3 :  23%|██▎       | 1129/5000 [00:21<00:41, 93.50it/s]"
     ]
    },
    {
     "name": "stderr",
     "output_type": "stream",
     "text": [
      "\r",
      "Step 3/3 :  23%|██▎       | 1129/5000 [00:21<00:41, 93.50it/s]"
     ]
    },
    {
     "name": "stderr",
     "output_type": "stream",
     "text": [
      "\r",
      "Step 3/3 :  23%|██▎       | 1129/5000 [00:21<00:41, 93.50it/s]"
     ]
    },
    {
     "name": "stderr",
     "output_type": "stream",
     "text": [
      "\r",
      "Step 3/3 :  23%|██▎       | 1129/5000 [00:21<00:41, 93.50it/s]"
     ]
    },
    {
     "name": "stderr",
     "output_type": "stream",
     "text": [
      "\r",
      "Step 3/3 :  23%|██▎       | 1129/5000 [00:21<00:41, 93.50it/s]"
     ]
    },
    {
     "name": "stderr",
     "output_type": "stream",
     "text": [
      "\r",
      "Step 3/3 :  23%|██▎       | 1129/5000 [00:21<00:41, 93.50it/s]"
     ]
    },
    {
     "name": "stderr",
     "output_type": "stream",
     "text": [
      "\r",
      "Step 3/3 :  23%|██▎       | 1129/5000 [00:21<00:41, 93.50it/s]"
     ]
    },
    {
     "name": "stderr",
     "output_type": "stream",
     "text": [
      "\r",
      "Step 3/3 :  23%|██▎       | 1129/5000 [00:21<00:41, 93.50it/s]"
     ]
    },
    {
     "name": "stderr",
     "output_type": "stream",
     "text": [
      "\r",
      "Step 3/3 :  23%|██▎       | 1129/5000 [00:21<00:41, 93.50it/s]"
     ]
    },
    {
     "name": "stderr",
     "output_type": "stream",
     "text": [
      "\r",
      "Step 3/3 :  23%|██▎       | 1139/5000 [00:21<00:42, 90.44it/s]"
     ]
    },
    {
     "name": "stderr",
     "output_type": "stream",
     "text": [
      "\r",
      "Step 3/3 :  23%|██▎       | 1139/5000 [00:21<00:42, 90.44it/s]"
     ]
    },
    {
     "name": "stderr",
     "output_type": "stream",
     "text": [
      "\r",
      "Step 3/3 :  23%|██▎       | 1139/5000 [00:21<00:42, 90.44it/s]"
     ]
    },
    {
     "name": "stderr",
     "output_type": "stream",
     "text": [
      "\r",
      "Step 3/3 :  23%|██▎       | 1139/5000 [00:21<00:42, 90.44it/s]"
     ]
    },
    {
     "name": "stderr",
     "output_type": "stream",
     "text": [
      "\r",
      "Step 3/3 :  23%|██▎       | 1139/5000 [00:21<00:42, 90.44it/s]"
     ]
    },
    {
     "name": "stderr",
     "output_type": "stream",
     "text": [
      "\r",
      "Step 3/3 :  23%|██▎       | 1139/5000 [00:21<00:42, 90.44it/s]"
     ]
    },
    {
     "name": "stderr",
     "output_type": "stream",
     "text": [
      "\r",
      "Step 3/3 :  23%|██▎       | 1139/5000 [00:21<00:42, 90.44it/s]"
     ]
    },
    {
     "name": "stderr",
     "output_type": "stream",
     "text": [
      "\r",
      "Step 3/3 :  23%|██▎       | 1139/5000 [00:21<00:42, 90.44it/s]"
     ]
    },
    {
     "name": "stderr",
     "output_type": "stream",
     "text": [
      "\r",
      "Step 3/3 :  23%|██▎       | 1139/5000 [00:21<00:42, 90.44it/s]"
     ]
    },
    {
     "name": "stderr",
     "output_type": "stream",
     "text": [
      "\r",
      "Step 3/3 :  23%|██▎       | 1139/5000 [00:21<00:42, 90.44it/s]"
     ]
    },
    {
     "name": "stderr",
     "output_type": "stream",
     "text": [
      "\r",
      "Step 3/3 :  23%|██▎       | 1139/5000 [00:21<00:42, 90.44it/s]"
     ]
    },
    {
     "name": "stderr",
     "output_type": "stream",
     "text": [
      "\r",
      "Step 3/3 :  23%|██▎       | 1139/5000 [00:21<00:42, 90.44it/s]"
     ]
    },
    {
     "name": "stderr",
     "output_type": "stream",
     "text": [
      "\r",
      "Step 3/3 :  23%|██▎       | 1150/5000 [00:21<00:40, 94.06it/s]"
     ]
    },
    {
     "name": "stderr",
     "output_type": "stream",
     "text": [
      "\r",
      "Step 3/3 :  23%|██▎       | 1150/5000 [00:21<00:40, 94.06it/s]"
     ]
    },
    {
     "name": "stderr",
     "output_type": "stream",
     "text": [
      "\r",
      "Step 3/3 :  23%|██▎       | 1150/5000 [00:21<00:40, 94.06it/s]"
     ]
    },
    {
     "name": "stderr",
     "output_type": "stream",
     "text": [
      "\r",
      "Step 3/3 :  23%|██▎       | 1150/5000 [00:21<00:40, 94.06it/s]"
     ]
    },
    {
     "name": "stderr",
     "output_type": "stream",
     "text": [
      "\r",
      "Step 3/3 :  23%|██▎       | 1150/5000 [00:21<00:40, 94.06it/s]"
     ]
    },
    {
     "name": "stderr",
     "output_type": "stream",
     "text": [
      "\r",
      "Step 3/3 :  23%|██▎       | 1150/5000 [00:21<00:40, 94.06it/s]"
     ]
    },
    {
     "name": "stderr",
     "output_type": "stream",
     "text": [
      "\r",
      "Step 3/3 :  23%|██▎       | 1150/5000 [00:21<00:40, 94.06it/s]"
     ]
    },
    {
     "name": "stderr",
     "output_type": "stream",
     "text": [
      "\r",
      "Step 3/3 :  23%|██▎       | 1150/5000 [00:21<00:40, 94.06it/s]"
     ]
    },
    {
     "name": "stderr",
     "output_type": "stream",
     "text": [
      "\r",
      "Step 3/3 :  23%|██▎       | 1150/5000 [00:21<00:40, 94.06it/s]"
     ]
    },
    {
     "name": "stderr",
     "output_type": "stream",
     "text": [
      "\r",
      "Step 3/3 :  23%|██▎       | 1150/5000 [00:21<00:40, 94.06it/s]"
     ]
    },
    {
     "name": "stderr",
     "output_type": "stream",
     "text": [
      "\r",
      "Step 3/3 :  23%|██▎       | 1150/5000 [00:21<00:40, 94.06it/s]"
     ]
    },
    {
     "name": "stderr",
     "output_type": "stream",
     "text": [
      "\r",
      "Step 3/3 :  23%|██▎       | 1160/5000 [00:21<00:40, 94.93it/s]"
     ]
    },
    {
     "name": "stderr",
     "output_type": "stream",
     "text": [
      "\r",
      "Step 3/3 :  23%|██▎       | 1160/5000 [00:21<00:40, 94.93it/s]"
     ]
    },
    {
     "name": "stderr",
     "output_type": "stream",
     "text": [
      "\r",
      "Step 3/3 :  23%|██▎       | 1160/5000 [00:21<00:40, 94.93it/s]"
     ]
    },
    {
     "name": "stderr",
     "output_type": "stream",
     "text": [
      "\r",
      "Step 3/3 :  23%|██▎       | 1160/5000 [00:21<00:40, 94.93it/s]"
     ]
    },
    {
     "name": "stderr",
     "output_type": "stream",
     "text": [
      "\r",
      "Step 3/3 :  23%|██▎       | 1160/5000 [00:21<00:40, 94.93it/s]"
     ]
    },
    {
     "name": "stderr",
     "output_type": "stream",
     "text": [
      "\r",
      "Step 3/3 :  23%|██▎       | 1160/5000 [00:21<00:40, 94.93it/s]"
     ]
    },
    {
     "name": "stderr",
     "output_type": "stream",
     "text": [
      "\r",
      "Step 3/3 :  23%|██▎       | 1160/5000 [00:21<00:40, 94.93it/s]"
     ]
    },
    {
     "name": "stderr",
     "output_type": "stream",
     "text": [
      "\r",
      "Step 3/3 :  23%|██▎       | 1160/5000 [00:21<00:40, 94.93it/s]"
     ]
    },
    {
     "name": "stderr",
     "output_type": "stream",
     "text": [
      "\r",
      "Step 3/3 :  23%|██▎       | 1160/5000 [00:21<00:40, 94.93it/s]"
     ]
    },
    {
     "name": "stderr",
     "output_type": "stream",
     "text": [
      "\r",
      "Step 3/3 :  23%|██▎       | 1160/5000 [00:21<00:40, 94.93it/s]"
     ]
    },
    {
     "name": "stderr",
     "output_type": "stream",
     "text": [
      "\r",
      "Step 3/3 :  23%|██▎       | 1160/5000 [00:21<00:40, 94.93it/s]"
     ]
    },
    {
     "name": "stderr",
     "output_type": "stream",
     "text": [
      "\r",
      "Step 3/3 :  23%|██▎       | 1170/5000 [00:21<00:40, 93.54it/s]"
     ]
    },
    {
     "name": "stderr",
     "output_type": "stream",
     "text": [
      "\r",
      "Step 3/3 :  23%|██▎       | 1170/5000 [00:21<00:40, 93.54it/s]"
     ]
    },
    {
     "name": "stderr",
     "output_type": "stream",
     "text": [
      "\r",
      "Step 3/3 :  23%|██▎       | 1170/5000 [00:21<00:40, 93.54it/s]"
     ]
    },
    {
     "name": "stderr",
     "output_type": "stream",
     "text": [
      "\r",
      "Step 3/3 :  23%|██▎       | 1170/5000 [00:21<00:40, 93.54it/s]"
     ]
    },
    {
     "name": "stderr",
     "output_type": "stream",
     "text": [
      "\r",
      "Step 3/3 :  23%|██▎       | 1170/5000 [00:21<00:40, 93.54it/s]"
     ]
    },
    {
     "name": "stderr",
     "output_type": "stream",
     "text": [
      "\r",
      "Step 3/3 :  23%|██▎       | 1170/5000 [00:21<00:40, 93.54it/s]"
     ]
    },
    {
     "name": "stderr",
     "output_type": "stream",
     "text": [
      "\r",
      "Step 3/3 :  23%|██▎       | 1170/5000 [00:21<00:40, 93.54it/s]"
     ]
    },
    {
     "name": "stderr",
     "output_type": "stream",
     "text": [
      "\r",
      "Step 3/3 :  23%|██▎       | 1170/5000 [00:21<00:40, 93.54it/s]"
     ]
    },
    {
     "name": "stderr",
     "output_type": "stream",
     "text": [
      "\r",
      "Step 3/3 :  23%|██▎       | 1170/5000 [00:21<00:40, 93.54it/s]"
     ]
    },
    {
     "name": "stderr",
     "output_type": "stream",
     "text": [
      "\r",
      "Step 3/3 :  23%|██▎       | 1170/5000 [00:21<00:40, 93.54it/s]"
     ]
    },
    {
     "name": "stderr",
     "output_type": "stream",
     "text": [
      "\r",
      "Step 3/3 :  23%|██▎       | 1170/5000 [00:21<00:40, 93.54it/s]"
     ]
    },
    {
     "name": "stderr",
     "output_type": "stream",
     "text": [
      "\r",
      "Step 3/3 :  24%|██▎       | 1180/5000 [00:21<00:44, 85.88it/s]"
     ]
    },
    {
     "name": "stderr",
     "output_type": "stream",
     "text": [
      "\r",
      "Step 3/3 :  24%|██▎       | 1180/5000 [00:21<00:44, 85.88it/s]"
     ]
    },
    {
     "name": "stderr",
     "output_type": "stream",
     "text": [
      "\r",
      "Step 3/3 :  24%|██▎       | 1180/5000 [00:21<00:44, 85.88it/s]"
     ]
    },
    {
     "name": "stderr",
     "output_type": "stream",
     "text": [
      "\r",
      "Step 3/3 :  24%|██▎       | 1180/5000 [00:21<00:44, 85.88it/s]"
     ]
    },
    {
     "name": "stderr",
     "output_type": "stream",
     "text": [
      "\r",
      "Step 3/3 :  24%|██▎       | 1180/5000 [00:21<00:44, 85.88it/s]"
     ]
    },
    {
     "name": "stderr",
     "output_type": "stream",
     "text": [
      "\r",
      "Step 3/3 :  24%|██▎       | 1180/5000 [00:21<00:44, 85.88it/s]"
     ]
    },
    {
     "name": "stderr",
     "output_type": "stream",
     "text": [
      "\r",
      "Step 3/3 :  24%|██▎       | 1180/5000 [00:21<00:44, 85.88it/s]"
     ]
    },
    {
     "name": "stderr",
     "output_type": "stream",
     "text": [
      "\r",
      "Step 3/3 :  24%|██▎       | 1180/5000 [00:21<00:44, 85.88it/s]"
     ]
    },
    {
     "name": "stderr",
     "output_type": "stream",
     "text": [
      "\r",
      "Step 3/3 :  24%|██▎       | 1180/5000 [00:21<00:44, 85.88it/s]"
     ]
    },
    {
     "name": "stderr",
     "output_type": "stream",
     "text": [
      "\r",
      "Step 3/3 :  24%|██▎       | 1180/5000 [00:21<00:44, 85.88it/s]"
     ]
    },
    {
     "name": "stderr",
     "output_type": "stream",
     "text": [
      "\r",
      "Step 3/3 :  24%|██▍       | 1189/5000 [00:21<00:44, 85.38it/s]"
     ]
    },
    {
     "name": "stderr",
     "output_type": "stream",
     "text": [
      "\r",
      "Step 3/3 :  24%|██▍       | 1189/5000 [00:21<00:44, 85.38it/s]"
     ]
    },
    {
     "name": "stderr",
     "output_type": "stream",
     "text": [
      "\r",
      "Step 3/3 :  24%|██▍       | 1189/5000 [00:21<00:44, 85.38it/s]"
     ]
    },
    {
     "name": "stderr",
     "output_type": "stream",
     "text": [
      "\r",
      "Step 3/3 :  24%|██▍       | 1189/5000 [00:21<00:44, 85.38it/s]"
     ]
    },
    {
     "name": "stderr",
     "output_type": "stream",
     "text": [
      "\r",
      "Step 3/3 :  24%|██▍       | 1189/5000 [00:21<00:44, 85.38it/s]"
     ]
    },
    {
     "name": "stderr",
     "output_type": "stream",
     "text": [
      "\r",
      "Step 3/3 :  24%|██▍       | 1189/5000 [00:21<00:44, 85.38it/s]"
     ]
    },
    {
     "name": "stderr",
     "output_type": "stream",
     "text": [
      "\r",
      "Step 3/3 :  24%|██▍       | 1189/5000 [00:21<00:44, 85.38it/s]"
     ]
    },
    {
     "name": "stderr",
     "output_type": "stream",
     "text": [
      "\r",
      "Step 3/3 :  24%|██▍       | 1189/5000 [00:21<00:44, 85.38it/s]"
     ]
    },
    {
     "name": "stderr",
     "output_type": "stream",
     "text": [
      "\r",
      "Step 3/3 :  24%|██▍       | 1189/5000 [00:21<00:44, 85.38it/s]"
     ]
    },
    {
     "name": "stderr",
     "output_type": "stream",
     "text": [
      "\r",
      "Step 3/3 :  24%|██▍       | 1189/5000 [00:21<00:44, 85.38it/s]"
     ]
    },
    {
     "name": "stderr",
     "output_type": "stream",
     "text": [
      "\r",
      "Step 3/3 :  24%|██▍       | 1198/5000 [00:21<00:44, 85.02it/s]"
     ]
    },
    {
     "name": "stderr",
     "output_type": "stream",
     "text": [
      "\r",
      "Step 3/3 :  24%|██▍       | 1198/5000 [00:21<00:44, 85.02it/s]"
     ]
    },
    {
     "name": "stderr",
     "output_type": "stream",
     "text": [
      "\r",
      "Step 3/3 :  24%|██▍       | 1198/5000 [00:21<00:44, 85.02it/s]"
     ]
    },
    {
     "name": "stderr",
     "output_type": "stream",
     "text": [
      "\r",
      "Step 3/3 :  24%|██▍       | 1198/5000 [00:21<00:44, 85.02it/s]"
     ]
    },
    {
     "name": "stderr",
     "output_type": "stream",
     "text": [
      "\r",
      "Step 3/3 :  24%|██▍       | 1198/5000 [00:21<00:44, 85.02it/s]"
     ]
    },
    {
     "name": "stderr",
     "output_type": "stream",
     "text": [
      "\r",
      "Step 3/3 :  24%|██▍       | 1198/5000 [00:21<00:44, 85.02it/s]"
     ]
    },
    {
     "name": "stderr",
     "output_type": "stream",
     "text": [
      "\r",
      "Step 3/3 :  24%|██▍       | 1198/5000 [00:21<00:44, 85.02it/s]"
     ]
    },
    {
     "name": "stderr",
     "output_type": "stream",
     "text": [
      "\r",
      "Step 3/3 :  24%|██▍       | 1198/5000 [00:21<00:44, 85.02it/s]"
     ]
    },
    {
     "name": "stderr",
     "output_type": "stream",
     "text": [
      "\r",
      "Step 3/3 :  24%|██▍       | 1198/5000 [00:21<00:44, 85.02it/s]"
     ]
    },
    {
     "name": "stderr",
     "output_type": "stream",
     "text": [
      "\r",
      "Step 3/3 :  24%|██▍       | 1198/5000 [00:21<00:44, 85.02it/s]"
     ]
    },
    {
     "name": "stderr",
     "output_type": "stream",
     "text": [
      "\r",
      "Step 3/3 :  24%|██▍       | 1198/5000 [00:21<00:44, 85.02it/s]"
     ]
    },
    {
     "name": "stderr",
     "output_type": "stream",
     "text": [
      "\r",
      "Step 3/3 :  24%|██▍       | 1208/5000 [00:21<00:42, 88.43it/s]"
     ]
    },
    {
     "name": "stderr",
     "output_type": "stream",
     "text": [
      "\r",
      "Step 3/3 :  24%|██▍       | 1208/5000 [00:21<00:42, 88.43it/s]"
     ]
    },
    {
     "name": "stderr",
     "output_type": "stream",
     "text": [
      "\r",
      "Step 3/3 :  24%|██▍       | 1208/5000 [00:21<00:42, 88.43it/s]"
     ]
    },
    {
     "name": "stderr",
     "output_type": "stream",
     "text": [
      "\r",
      "Step 3/3 :  24%|██▍       | 1208/5000 [00:21<00:42, 88.43it/s]"
     ]
    },
    {
     "name": "stderr",
     "output_type": "stream",
     "text": [
      "\r",
      "Step 3/3 :  24%|██▍       | 1208/5000 [00:21<00:42, 88.43it/s]"
     ]
    },
    {
     "name": "stderr",
     "output_type": "stream",
     "text": [
      "\r",
      "Step 3/3 :  24%|██▍       | 1208/5000 [00:21<00:42, 88.43it/s]"
     ]
    },
    {
     "name": "stderr",
     "output_type": "stream",
     "text": [
      "\r",
      "Step 3/3 :  24%|██▍       | 1208/5000 [00:21<00:42, 88.43it/s]"
     ]
    },
    {
     "name": "stderr",
     "output_type": "stream",
     "text": [
      "\r",
      "Step 3/3 :  24%|██▍       | 1208/5000 [00:22<00:42, 88.43it/s]"
     ]
    },
    {
     "name": "stderr",
     "output_type": "stream",
     "text": [
      "\r",
      "Step 3/3 :  24%|██▍       | 1208/5000 [00:22<00:42, 88.43it/s]"
     ]
    },
    {
     "name": "stderr",
     "output_type": "stream",
     "text": [
      "\r",
      "Step 3/3 :  24%|██▍       | 1208/5000 [00:22<00:42, 88.43it/s]"
     ]
    },
    {
     "name": "stderr",
     "output_type": "stream",
     "text": [
      "\r",
      "Step 3/3 :  24%|██▍       | 1208/5000 [00:22<00:42, 88.43it/s]"
     ]
    },
    {
     "name": "stderr",
     "output_type": "stream",
     "text": [
      "\r",
      "Step 3/3 :  24%|██▍       | 1218/5000 [00:22<00:42, 89.91it/s]"
     ]
    },
    {
     "name": "stderr",
     "output_type": "stream",
     "text": [
      "\r",
      "Step 3/3 :  24%|██▍       | 1218/5000 [00:22<00:42, 89.91it/s]"
     ]
    },
    {
     "name": "stderr",
     "output_type": "stream",
     "text": [
      "\r",
      "Step 3/3 :  24%|██▍       | 1218/5000 [00:22<00:42, 89.91it/s]"
     ]
    },
    {
     "name": "stderr",
     "output_type": "stream",
     "text": [
      "\r",
      "Step 3/3 :  24%|██▍       | 1218/5000 [00:22<00:42, 89.91it/s]"
     ]
    },
    {
     "name": "stderr",
     "output_type": "stream",
     "text": [
      "\r",
      "Step 3/3 :  24%|██▍       | 1218/5000 [00:22<00:42, 89.91it/s]"
     ]
    },
    {
     "name": "stderr",
     "output_type": "stream",
     "text": [
      "\r",
      "Step 3/3 :  24%|██▍       | 1218/5000 [00:22<00:42, 89.91it/s]"
     ]
    },
    {
     "name": "stderr",
     "output_type": "stream",
     "text": [
      "\r",
      "Step 3/3 :  24%|██▍       | 1218/5000 [00:22<00:42, 89.91it/s]"
     ]
    },
    {
     "name": "stderr",
     "output_type": "stream",
     "text": [
      "\r",
      "Step 3/3 :  24%|██▍       | 1218/5000 [00:22<00:42, 89.91it/s]"
     ]
    },
    {
     "name": "stderr",
     "output_type": "stream",
     "text": [
      "\r",
      "Step 3/3 :  24%|██▍       | 1218/5000 [00:22<00:42, 89.91it/s]"
     ]
    },
    {
     "name": "stderr",
     "output_type": "stream",
     "text": [
      "\r",
      "Step 3/3 :  24%|██▍       | 1218/5000 [00:22<00:42, 89.91it/s]"
     ]
    },
    {
     "name": "stderr",
     "output_type": "stream",
     "text": [
      "\r",
      "Step 3/3 :  24%|██▍       | 1218/5000 [00:22<00:42, 89.91it/s]"
     ]
    },
    {
     "name": "stderr",
     "output_type": "stream",
     "text": [
      "\r",
      "Step 3/3 :  25%|██▍       | 1228/5000 [00:22<00:41, 90.71it/s]"
     ]
    },
    {
     "name": "stderr",
     "output_type": "stream",
     "text": [
      "\r",
      "Step 3/3 :  25%|██▍       | 1228/5000 [00:22<00:41, 90.71it/s]"
     ]
    },
    {
     "name": "stderr",
     "output_type": "stream",
     "text": [
      "\r",
      "Step 3/3 :  25%|██▍       | 1228/5000 [00:22<00:41, 90.71it/s]"
     ]
    },
    {
     "name": "stderr",
     "output_type": "stream",
     "text": [
      "\r",
      "Step 3/3 :  25%|██▍       | 1228/5000 [00:22<00:41, 90.71it/s]"
     ]
    },
    {
     "name": "stderr",
     "output_type": "stream",
     "text": [
      "\r",
      "Step 3/3 :  25%|██▍       | 1228/5000 [00:22<00:41, 90.71it/s]"
     ]
    },
    {
     "name": "stderr",
     "output_type": "stream",
     "text": [
      "\r",
      "Step 3/3 :  25%|██▍       | 1228/5000 [00:22<00:41, 90.71it/s]"
     ]
    },
    {
     "name": "stderr",
     "output_type": "stream",
     "text": [
      "\r",
      "Step 3/3 :  25%|██▍       | 1228/5000 [00:22<00:41, 90.71it/s]"
     ]
    },
    {
     "name": "stderr",
     "output_type": "stream",
     "text": [
      "\r",
      "Step 3/3 :  25%|██▍       | 1228/5000 [00:22<00:41, 90.71it/s]"
     ]
    },
    {
     "name": "stderr",
     "output_type": "stream",
     "text": [
      "\r",
      "Step 3/3 :  25%|██▍       | 1228/5000 [00:22<00:41, 90.71it/s]"
     ]
    },
    {
     "name": "stderr",
     "output_type": "stream",
     "text": [
      "\r",
      "Step 3/3 :  25%|██▍       | 1228/5000 [00:22<00:41, 90.71it/s]"
     ]
    },
    {
     "name": "stderr",
     "output_type": "stream",
     "text": [
      "\r",
      "Step 3/3 :  25%|██▍       | 1228/5000 [00:22<00:41, 90.71it/s]"
     ]
    },
    {
     "name": "stderr",
     "output_type": "stream",
     "text": [
      "\r",
      "Step 3/3 :  25%|██▍       | 1238/5000 [00:22<00:43, 86.04it/s]"
     ]
    },
    {
     "name": "stderr",
     "output_type": "stream",
     "text": [
      "\r",
      "Step 3/3 :  25%|██▍       | 1238/5000 [00:22<00:43, 86.04it/s]"
     ]
    },
    {
     "name": "stderr",
     "output_type": "stream",
     "text": [
      "\r",
      "Step 3/3 :  25%|██▍       | 1238/5000 [00:22<00:43, 86.04it/s]"
     ]
    },
    {
     "name": "stderr",
     "output_type": "stream",
     "text": [
      "\r",
      "Step 3/3 :  25%|██▍       | 1238/5000 [00:22<00:43, 86.04it/s]"
     ]
    },
    {
     "name": "stderr",
     "output_type": "stream",
     "text": [
      "\r",
      "Step 3/3 :  25%|██▍       | 1238/5000 [00:22<00:43, 86.04it/s]"
     ]
    },
    {
     "name": "stderr",
     "output_type": "stream",
     "text": [
      "\r",
      "Step 3/3 :  25%|██▍       | 1238/5000 [00:22<00:43, 86.04it/s]"
     ]
    },
    {
     "name": "stderr",
     "output_type": "stream",
     "text": [
      "\r",
      "Step 3/3 :  25%|██▍       | 1238/5000 [00:22<00:43, 86.04it/s]"
     ]
    },
    {
     "name": "stderr",
     "output_type": "stream",
     "text": [
      "\r",
      "Step 3/3 :  25%|██▍       | 1238/5000 [00:22<00:43, 86.04it/s]"
     ]
    },
    {
     "name": "stderr",
     "output_type": "stream",
     "text": [
      "\r",
      "Step 3/3 :  25%|██▍       | 1238/5000 [00:22<00:43, 86.04it/s]"
     ]
    },
    {
     "name": "stderr",
     "output_type": "stream",
     "text": [
      "\r",
      "Step 3/3 :  25%|██▍       | 1238/5000 [00:22<00:43, 86.04it/s]"
     ]
    },
    {
     "name": "stderr",
     "output_type": "stream",
     "text": [
      "\r",
      "Step 3/3 :  25%|██▍       | 1247/5000 [00:22<00:46, 80.75it/s]"
     ]
    },
    {
     "name": "stderr",
     "output_type": "stream",
     "text": [
      "\r",
      "Step 3/3 :  25%|██▍       | 1247/5000 [00:22<00:46, 80.75it/s]"
     ]
    },
    {
     "name": "stderr",
     "output_type": "stream",
     "text": [
      "\r",
      "Step 3/3 :  25%|██▍       | 1247/5000 [00:22<00:46, 80.75it/s]"
     ]
    },
    {
     "name": "stderr",
     "output_type": "stream",
     "text": [
      "\r",
      "Step 3/3 :  25%|██▍       | 1247/5000 [00:22<00:46, 80.75it/s]"
     ]
    },
    {
     "name": "stderr",
     "output_type": "stream",
     "text": [
      "\r",
      "Step 3/3 :  25%|██▍       | 1247/5000 [00:22<00:46, 80.75it/s]"
     ]
    },
    {
     "name": "stderr",
     "output_type": "stream",
     "text": [
      "\r",
      "Step 3/3 :  25%|██▍       | 1247/5000 [00:22<00:46, 80.75it/s]"
     ]
    },
    {
     "name": "stderr",
     "output_type": "stream",
     "text": [
      "\r",
      "Step 3/3 :  25%|██▍       | 1247/5000 [00:22<00:46, 80.75it/s]"
     ]
    },
    {
     "name": "stderr",
     "output_type": "stream",
     "text": [
      "\r",
      "Step 3/3 :  25%|██▍       | 1247/5000 [00:22<00:46, 80.75it/s]"
     ]
    },
    {
     "name": "stderr",
     "output_type": "stream",
     "text": [
      "\r",
      "Step 3/3 :  25%|██▍       | 1247/5000 [00:22<00:46, 80.75it/s]"
     ]
    },
    {
     "name": "stderr",
     "output_type": "stream",
     "text": [
      "\r",
      "Step 3/3 :  25%|██▍       | 1247/5000 [00:22<00:46, 80.75it/s]"
     ]
    },
    {
     "name": "stderr",
     "output_type": "stream",
     "text": [
      "\r",
      "Step 3/3 :  25%|██▌       | 1256/5000 [00:22<00:51, 72.97it/s]"
     ]
    },
    {
     "name": "stderr",
     "output_type": "stream",
     "text": [
      "\r",
      "Step 3/3 :  25%|██▌       | 1256/5000 [00:22<00:51, 72.97it/s]"
     ]
    },
    {
     "name": "stderr",
     "output_type": "stream",
     "text": [
      "\r",
      "Step 3/3 :  25%|██▌       | 1256/5000 [00:22<00:51, 72.97it/s]"
     ]
    },
    {
     "name": "stderr",
     "output_type": "stream",
     "text": [
      "\r",
      "Step 3/3 :  25%|██▌       | 1256/5000 [00:22<00:51, 72.97it/s]"
     ]
    },
    {
     "name": "stderr",
     "output_type": "stream",
     "text": [
      "\r",
      "Step 3/3 :  25%|██▌       | 1256/5000 [00:22<00:51, 72.97it/s]"
     ]
    },
    {
     "name": "stderr",
     "output_type": "stream",
     "text": [
      "\r",
      "Step 3/3 :  25%|██▌       | 1256/5000 [00:22<00:51, 72.97it/s]"
     ]
    },
    {
     "name": "stderr",
     "output_type": "stream",
     "text": [
      "\r",
      "Step 3/3 :  25%|██▌       | 1256/5000 [00:22<00:51, 72.97it/s]"
     ]
    },
    {
     "name": "stderr",
     "output_type": "stream",
     "text": [
      "\r",
      "Step 3/3 :  25%|██▌       | 1256/5000 [00:22<00:51, 72.97it/s]"
     ]
    },
    {
     "name": "stderr",
     "output_type": "stream",
     "text": [
      "\r",
      "Step 3/3 :  25%|██▌       | 1256/5000 [00:22<00:51, 72.97it/s]"
     ]
    },
    {
     "name": "stderr",
     "output_type": "stream",
     "text": [
      "\r",
      "Step 3/3 :  25%|██▌       | 1264/5000 [00:22<00:51, 72.03it/s]"
     ]
    },
    {
     "name": "stderr",
     "output_type": "stream",
     "text": [
      "\r",
      "Step 3/3 :  25%|██▌       | 1264/5000 [00:22<00:51, 72.03it/s]"
     ]
    },
    {
     "name": "stderr",
     "output_type": "stream",
     "text": [
      "\r",
      "Step 3/3 :  25%|██▌       | 1264/5000 [00:22<00:51, 72.03it/s]"
     ]
    },
    {
     "name": "stderr",
     "output_type": "stream",
     "text": [
      "\r",
      "Step 3/3 :  25%|██▌       | 1264/5000 [00:22<00:51, 72.03it/s]"
     ]
    },
    {
     "name": "stderr",
     "output_type": "stream",
     "text": [
      "\r",
      "Step 3/3 :  25%|██▌       | 1264/5000 [00:22<00:51, 72.03it/s]"
     ]
    },
    {
     "name": "stderr",
     "output_type": "stream",
     "text": [
      "\r",
      "Step 3/3 :  25%|██▌       | 1264/5000 [00:22<00:51, 72.03it/s]"
     ]
    },
    {
     "name": "stderr",
     "output_type": "stream",
     "text": [
      "\r",
      "Step 3/3 :  25%|██▌       | 1264/5000 [00:22<00:51, 72.03it/s]"
     ]
    },
    {
     "name": "stderr",
     "output_type": "stream",
     "text": [
      "\r",
      "Step 3/3 :  25%|██▌       | 1264/5000 [00:22<00:51, 72.03it/s]"
     ]
    },
    {
     "name": "stderr",
     "output_type": "stream",
     "text": [
      "\r",
      "Step 3/3 :  25%|██▌       | 1264/5000 [00:22<00:51, 72.03it/s]"
     ]
    },
    {
     "name": "stderr",
     "output_type": "stream",
     "text": [
      "\r",
      "Step 3/3 :  25%|██▌       | 1264/5000 [00:22<00:51, 72.03it/s]"
     ]
    },
    {
     "name": "stderr",
     "output_type": "stream",
     "text": [
      "\r",
      "Step 3/3 :  25%|██▌       | 1273/5000 [00:22<00:49, 75.45it/s]"
     ]
    },
    {
     "name": "stderr",
     "output_type": "stream",
     "text": [
      "\r",
      "Step 3/3 :  25%|██▌       | 1273/5000 [00:22<00:49, 75.45it/s]"
     ]
    },
    {
     "name": "stderr",
     "output_type": "stream",
     "text": [
      "\r",
      "Step 3/3 :  25%|██▌       | 1273/5000 [00:22<00:49, 75.45it/s]"
     ]
    },
    {
     "name": "stderr",
     "output_type": "stream",
     "text": [
      "\r",
      "Step 3/3 :  25%|██▌       | 1273/5000 [00:22<00:49, 75.45it/s]"
     ]
    },
    {
     "name": "stderr",
     "output_type": "stream",
     "text": [
      "\r",
      "Step 3/3 :  25%|██▌       | 1273/5000 [00:22<00:49, 75.45it/s]"
     ]
    },
    {
     "name": "stderr",
     "output_type": "stream",
     "text": [
      "\r",
      "Step 3/3 :  25%|██▌       | 1273/5000 [00:22<00:49, 75.45it/s]"
     ]
    },
    {
     "name": "stderr",
     "output_type": "stream",
     "text": [
      "\r",
      "Step 3/3 :  25%|██▌       | 1273/5000 [00:22<00:49, 75.45it/s]"
     ]
    },
    {
     "name": "stderr",
     "output_type": "stream",
     "text": [
      "\r",
      "Step 3/3 :  25%|██▌       | 1273/5000 [00:22<00:49, 75.45it/s]"
     ]
    },
    {
     "name": "stderr",
     "output_type": "stream",
     "text": [
      "\r",
      "Step 3/3 :  25%|██▌       | 1273/5000 [00:22<00:49, 75.45it/s]"
     ]
    },
    {
     "name": "stderr",
     "output_type": "stream",
     "text": [
      "\r",
      "Step 3/3 :  25%|██▌       | 1273/5000 [00:22<00:49, 75.45it/s]"
     ]
    },
    {
     "name": "stderr",
     "output_type": "stream",
     "text": [
      "\r",
      "Step 3/3 :  26%|██▌       | 1282/5000 [00:22<00:47, 79.08it/s]"
     ]
    },
    {
     "name": "stderr",
     "output_type": "stream",
     "text": [
      "\r",
      "Step 3/3 :  26%|██▌       | 1282/5000 [00:22<00:47, 79.08it/s]"
     ]
    },
    {
     "name": "stderr",
     "output_type": "stream",
     "text": [
      "\r",
      "Step 3/3 :  26%|██▌       | 1282/5000 [00:22<00:47, 79.08it/s]"
     ]
    },
    {
     "name": "stderr",
     "output_type": "stream",
     "text": [
      "\r",
      "Step 3/3 :  26%|██▌       | 1282/5000 [00:22<00:47, 79.08it/s]"
     ]
    },
    {
     "name": "stderr",
     "output_type": "stream",
     "text": [
      "\r",
      "Step 3/3 :  26%|██▌       | 1282/5000 [00:22<00:47, 79.08it/s]"
     ]
    },
    {
     "name": "stderr",
     "output_type": "stream",
     "text": [
      "\r",
      "Step 3/3 :  26%|██▌       | 1282/5000 [00:22<00:47, 79.08it/s]"
     ]
    },
    {
     "name": "stderr",
     "output_type": "stream",
     "text": [
      "\r",
      "Step 3/3 :  26%|██▌       | 1282/5000 [00:22<00:47, 79.08it/s]"
     ]
    },
    {
     "name": "stderr",
     "output_type": "stream",
     "text": [
      "\r",
      "Step 3/3 :  26%|██▌       | 1282/5000 [00:22<00:47, 79.08it/s]"
     ]
    },
    {
     "name": "stderr",
     "output_type": "stream",
     "text": [
      "\r",
      "Step 3/3 :  26%|██▌       | 1282/5000 [00:22<00:47, 79.08it/s]"
     ]
    },
    {
     "name": "stderr",
     "output_type": "stream",
     "text": [
      "\r",
      "Step 3/3 :  26%|██▌       | 1282/5000 [00:22<00:47, 79.08it/s]"
     ]
    },
    {
     "name": "stderr",
     "output_type": "stream",
     "text": [
      "\r",
      "Step 3/3 :  26%|██▌       | 1291/5000 [00:22<00:46, 80.52it/s]"
     ]
    },
    {
     "name": "stderr",
     "output_type": "stream",
     "text": [
      "\r",
      "Step 3/3 :  26%|██▌       | 1291/5000 [00:22<00:46, 80.52it/s]"
     ]
    },
    {
     "name": "stderr",
     "output_type": "stream",
     "text": [
      "\r",
      "Step 3/3 :  26%|██▌       | 1291/5000 [00:23<00:46, 80.52it/s]"
     ]
    },
    {
     "name": "stderr",
     "output_type": "stream",
     "text": [
      "\r",
      "Step 3/3 :  26%|██▌       | 1291/5000 [00:23<00:46, 80.52it/s]"
     ]
    },
    {
     "name": "stderr",
     "output_type": "stream",
     "text": [
      "\r",
      "Step 3/3 :  26%|██▌       | 1291/5000 [00:23<00:46, 80.52it/s]"
     ]
    },
    {
     "name": "stderr",
     "output_type": "stream",
     "text": [
      "\r",
      "Step 3/3 :  26%|██▌       | 1291/5000 [00:23<00:46, 80.52it/s]"
     ]
    },
    {
     "name": "stderr",
     "output_type": "stream",
     "text": [
      "\r",
      "Step 3/3 :  26%|██▌       | 1291/5000 [00:23<00:46, 80.52it/s]"
     ]
    },
    {
     "name": "stderr",
     "output_type": "stream",
     "text": [
      "\r",
      "Step 3/3 :  26%|██▌       | 1291/5000 [00:23<00:46, 80.52it/s]"
     ]
    },
    {
     "name": "stderr",
     "output_type": "stream",
     "text": [
      "\r",
      "Step 3/3 :  26%|██▌       | 1291/5000 [00:23<00:46, 80.52it/s]"
     ]
    },
    {
     "name": "stderr",
     "output_type": "stream",
     "text": [
      "\r",
      "Step 3/3 :  26%|██▌       | 1291/5000 [00:23<00:46, 80.52it/s]"
     ]
    },
    {
     "name": "stderr",
     "output_type": "stream",
     "text": [
      "\r",
      "Step 3/3 :  26%|██▌       | 1300/5000 [00:23<00:44, 82.47it/s]"
     ]
    },
    {
     "name": "stderr",
     "output_type": "stream",
     "text": [
      "\r",
      "Step 3/3 :  26%|██▌       | 1300/5000 [00:23<00:44, 82.47it/s]"
     ]
    },
    {
     "name": "stderr",
     "output_type": "stream",
     "text": [
      "\r",
      "Step 3/3 :  26%|██▌       | 1300/5000 [00:23<00:44, 82.47it/s]"
     ]
    },
    {
     "name": "stderr",
     "output_type": "stream",
     "text": [
      "\r",
      "Step 3/3 :  26%|██▌       | 1300/5000 [00:23<00:44, 82.47it/s]"
     ]
    },
    {
     "name": "stderr",
     "output_type": "stream",
     "text": [
      "\r",
      "Step 3/3 :  26%|██▌       | 1300/5000 [00:23<00:44, 82.47it/s]"
     ]
    },
    {
     "name": "stderr",
     "output_type": "stream",
     "text": [
      "\r",
      "Step 3/3 :  26%|██▌       | 1300/5000 [00:23<00:44, 82.47it/s]"
     ]
    },
    {
     "name": "stderr",
     "output_type": "stream",
     "text": [
      "\r",
      "Step 3/3 :  26%|██▌       | 1300/5000 [00:23<00:44, 82.47it/s]"
     ]
    },
    {
     "name": "stderr",
     "output_type": "stream",
     "text": [
      "\r",
      "Step 3/3 :  26%|██▌       | 1300/5000 [00:23<00:44, 82.47it/s]"
     ]
    },
    {
     "name": "stderr",
     "output_type": "stream",
     "text": [
      "\r",
      "Step 3/3 :  26%|██▌       | 1300/5000 [00:23<00:44, 82.47it/s]"
     ]
    },
    {
     "name": "stderr",
     "output_type": "stream",
     "text": [
      "\r",
      "Step 3/3 :  26%|██▌       | 1300/5000 [00:23<00:44, 82.47it/s]"
     ]
    },
    {
     "name": "stderr",
     "output_type": "stream",
     "text": [
      "\r",
      "Step 3/3 :  26%|██▌       | 1309/5000 [00:23<00:44, 83.42it/s]"
     ]
    },
    {
     "name": "stderr",
     "output_type": "stream",
     "text": [
      "\r",
      "Step 3/3 :  26%|██▌       | 1309/5000 [00:23<00:44, 83.42it/s]"
     ]
    },
    {
     "name": "stderr",
     "output_type": "stream",
     "text": [
      "\r",
      "Step 3/3 :  26%|██▌       | 1309/5000 [00:23<00:44, 83.42it/s]"
     ]
    },
    {
     "name": "stderr",
     "output_type": "stream",
     "text": [
      "\r",
      "Step 3/3 :  26%|██▌       | 1309/5000 [00:23<00:44, 83.42it/s]"
     ]
    },
    {
     "name": "stderr",
     "output_type": "stream",
     "text": [
      "\r",
      "Step 3/3 :  26%|██▌       | 1309/5000 [00:23<00:44, 83.42it/s]"
     ]
    },
    {
     "name": "stderr",
     "output_type": "stream",
     "text": [
      "\r",
      "Step 3/3 :  26%|██▌       | 1309/5000 [00:23<00:44, 83.42it/s]"
     ]
    },
    {
     "name": "stderr",
     "output_type": "stream",
     "text": [
      "\r",
      "Step 3/3 :  26%|██▌       | 1309/5000 [00:23<00:44, 83.42it/s]"
     ]
    },
    {
     "name": "stderr",
     "output_type": "stream",
     "text": [
      "\r",
      "Step 3/3 :  26%|██▌       | 1309/5000 [00:23<00:44, 83.42it/s]"
     ]
    },
    {
     "name": "stderr",
     "output_type": "stream",
     "text": [
      "\r",
      "Step 3/3 :  26%|██▌       | 1309/5000 [00:23<00:44, 83.42it/s]"
     ]
    },
    {
     "name": "stderr",
     "output_type": "stream",
     "text": [
      "\r",
      "Step 3/3 :  26%|██▌       | 1309/5000 [00:23<00:44, 83.42it/s]"
     ]
    },
    {
     "name": "stderr",
     "output_type": "stream",
     "text": [
      "\r",
      "Step 3/3 :  26%|██▋       | 1318/5000 [00:23<00:44, 82.25it/s]"
     ]
    },
    {
     "name": "stderr",
     "output_type": "stream",
     "text": [
      "\r",
      "Step 3/3 :  26%|██▋       | 1318/5000 [00:23<00:44, 82.25it/s]"
     ]
    },
    {
     "name": "stderr",
     "output_type": "stream",
     "text": [
      "\r",
      "Step 3/3 :  26%|██▋       | 1318/5000 [00:23<00:44, 82.25it/s]"
     ]
    },
    {
     "name": "stderr",
     "output_type": "stream",
     "text": [
      "\r",
      "Step 3/3 :  26%|██▋       | 1318/5000 [00:23<00:44, 82.25it/s]"
     ]
    },
    {
     "name": "stderr",
     "output_type": "stream",
     "text": [
      "\r",
      "Step 3/3 :  26%|██▋       | 1318/5000 [00:23<00:44, 82.25it/s]"
     ]
    },
    {
     "name": "stderr",
     "output_type": "stream",
     "text": [
      "\r",
      "Step 3/3 :  26%|██▋       | 1318/5000 [00:23<00:44, 82.25it/s]"
     ]
    },
    {
     "name": "stderr",
     "output_type": "stream",
     "text": [
      "\r",
      "Step 3/3 :  26%|██▋       | 1318/5000 [00:23<00:44, 82.25it/s]"
     ]
    },
    {
     "name": "stderr",
     "output_type": "stream",
     "text": [
      "\r",
      "Step 3/3 :  26%|██▋       | 1318/5000 [00:23<00:44, 82.25it/s]"
     ]
    },
    {
     "name": "stderr",
     "output_type": "stream",
     "text": [
      "\r",
      "Step 3/3 :  26%|██▋       | 1318/5000 [00:23<00:44, 82.25it/s]"
     ]
    },
    {
     "name": "stderr",
     "output_type": "stream",
     "text": [
      "\r",
      "Step 3/3 :  26%|██▋       | 1318/5000 [00:23<00:44, 82.25it/s]"
     ]
    },
    {
     "name": "stderr",
     "output_type": "stream",
     "text": [
      "\r",
      "Step 3/3 :  27%|██▋       | 1327/5000 [00:23<00:43, 83.49it/s]"
     ]
    },
    {
     "name": "stderr",
     "output_type": "stream",
     "text": [
      "\r",
      "Step 3/3 :  27%|██▋       | 1327/5000 [00:23<00:43, 83.49it/s]"
     ]
    },
    {
     "name": "stderr",
     "output_type": "stream",
     "text": [
      "\r",
      "Step 3/3 :  27%|██▋       | 1327/5000 [00:23<00:43, 83.49it/s]"
     ]
    },
    {
     "name": "stderr",
     "output_type": "stream",
     "text": [
      "\r",
      "Step 3/3 :  27%|██▋       | 1327/5000 [00:23<00:43, 83.49it/s]"
     ]
    },
    {
     "name": "stderr",
     "output_type": "stream",
     "text": [
      "\r",
      "Step 3/3 :  27%|██▋       | 1327/5000 [00:23<00:43, 83.49it/s]"
     ]
    },
    {
     "name": "stderr",
     "output_type": "stream",
     "text": [
      "\r",
      "Step 3/3 :  27%|██▋       | 1327/5000 [00:23<00:43, 83.49it/s]"
     ]
    },
    {
     "name": "stderr",
     "output_type": "stream",
     "text": [
      "\r",
      "Step 3/3 :  27%|██▋       | 1327/5000 [00:23<00:43, 83.49it/s]"
     ]
    },
    {
     "name": "stderr",
     "output_type": "stream",
     "text": [
      "\r",
      "Step 3/3 :  27%|██▋       | 1327/5000 [00:23<00:43, 83.49it/s]"
     ]
    },
    {
     "name": "stderr",
     "output_type": "stream",
     "text": [
      "\r",
      "Step 3/3 :  27%|██▋       | 1327/5000 [00:23<00:43, 83.49it/s]"
     ]
    },
    {
     "name": "stderr",
     "output_type": "stream",
     "text": [
      "\r",
      "Step 3/3 :  27%|██▋       | 1327/5000 [00:23<00:43, 83.49it/s]"
     ]
    },
    {
     "name": "stderr",
     "output_type": "stream",
     "text": [
      "\r",
      "Step 3/3 :  27%|██▋       | 1336/5000 [00:23<00:47, 76.43it/s]"
     ]
    },
    {
     "name": "stderr",
     "output_type": "stream",
     "text": [
      "\r",
      "Step 3/3 :  27%|██▋       | 1336/5000 [00:23<00:47, 76.43it/s]"
     ]
    },
    {
     "name": "stderr",
     "output_type": "stream",
     "text": [
      "\r",
      "Step 3/3 :  27%|██▋       | 1336/5000 [00:23<00:47, 76.43it/s]"
     ]
    },
    {
     "name": "stderr",
     "output_type": "stream",
     "text": [
      "\r",
      "Step 3/3 :  27%|██▋       | 1336/5000 [00:23<00:47, 76.43it/s]"
     ]
    },
    {
     "name": "stderr",
     "output_type": "stream",
     "text": [
      "\r",
      "Step 3/3 :  27%|██▋       | 1336/5000 [00:23<00:47, 76.43it/s]"
     ]
    },
    {
     "name": "stderr",
     "output_type": "stream",
     "text": [
      "\r",
      "Step 3/3 :  27%|██▋       | 1336/5000 [00:23<00:47, 76.43it/s]"
     ]
    },
    {
     "name": "stderr",
     "output_type": "stream",
     "text": [
      "\r",
      "Step 3/3 :  27%|██▋       | 1336/5000 [00:23<00:47, 76.43it/s]"
     ]
    },
    {
     "name": "stderr",
     "output_type": "stream",
     "text": [
      "\r",
      "Step 3/3 :  27%|██▋       | 1336/5000 [00:23<00:47, 76.43it/s]"
     ]
    },
    {
     "name": "stderr",
     "output_type": "stream",
     "text": [
      "\r",
      "Step 3/3 :  27%|██▋       | 1336/5000 [00:23<00:47, 76.43it/s]"
     ]
    },
    {
     "name": "stderr",
     "output_type": "stream",
     "text": [
      "\r",
      "Step 3/3 :  27%|██▋       | 1344/5000 [00:23<00:49, 74.21it/s]"
     ]
    },
    {
     "name": "stderr",
     "output_type": "stream",
     "text": [
      "\r",
      "Step 3/3 :  27%|██▋       | 1344/5000 [00:23<00:49, 74.21it/s]"
     ]
    },
    {
     "name": "stderr",
     "output_type": "stream",
     "text": [
      "\r",
      "Step 3/3 :  27%|██▋       | 1344/5000 [00:23<00:49, 74.21it/s]"
     ]
    },
    {
     "name": "stderr",
     "output_type": "stream",
     "text": [
      "\r",
      "Step 3/3 :  27%|██▋       | 1344/5000 [00:23<00:49, 74.21it/s]"
     ]
    },
    {
     "name": "stderr",
     "output_type": "stream",
     "text": [
      "\r",
      "Step 3/3 :  27%|██▋       | 1344/5000 [00:23<00:49, 74.21it/s]"
     ]
    },
    {
     "name": "stderr",
     "output_type": "stream",
     "text": [
      "\r",
      "Step 3/3 :  27%|██▋       | 1344/5000 [00:23<00:49, 74.21it/s]"
     ]
    },
    {
     "name": "stderr",
     "output_type": "stream",
     "text": [
      "\r",
      "Step 3/3 :  27%|██▋       | 1344/5000 [00:23<00:49, 74.21it/s]"
     ]
    },
    {
     "name": "stderr",
     "output_type": "stream",
     "text": [
      "\r",
      "Step 3/3 :  27%|██▋       | 1344/5000 [00:23<00:49, 74.21it/s]"
     ]
    },
    {
     "name": "stderr",
     "output_type": "stream",
     "text": [
      "\r",
      "Step 3/3 :  27%|██▋       | 1344/5000 [00:23<00:49, 74.21it/s]"
     ]
    },
    {
     "name": "stderr",
     "output_type": "stream",
     "text": [
      "\r",
      "Step 3/3 :  27%|██▋       | 1352/5000 [00:23<00:48, 74.76it/s]"
     ]
    },
    {
     "name": "stderr",
     "output_type": "stream",
     "text": [
      "\r",
      "Step 3/3 :  27%|██▋       | 1352/5000 [00:23<00:48, 74.76it/s]"
     ]
    },
    {
     "name": "stderr",
     "output_type": "stream",
     "text": [
      "\r",
      "Step 3/3 :  27%|██▋       | 1352/5000 [00:23<00:48, 74.76it/s]"
     ]
    },
    {
     "name": "stderr",
     "output_type": "stream",
     "text": [
      "\r",
      "Step 3/3 :  27%|██▋       | 1352/5000 [00:23<00:48, 74.76it/s]"
     ]
    },
    {
     "name": "stderr",
     "output_type": "stream",
     "text": [
      "\r",
      "Step 3/3 :  27%|██▋       | 1352/5000 [00:23<00:48, 74.76it/s]"
     ]
    },
    {
     "name": "stderr",
     "output_type": "stream",
     "text": [
      "\r",
      "Step 3/3 :  27%|██▋       | 1352/5000 [00:23<00:48, 74.76it/s]"
     ]
    },
    {
     "name": "stderr",
     "output_type": "stream",
     "text": [
      "\r",
      "Step 3/3 :  27%|██▋       | 1352/5000 [00:23<00:48, 74.76it/s]"
     ]
    },
    {
     "name": "stderr",
     "output_type": "stream",
     "text": [
      "\r",
      "Step 3/3 :  27%|██▋       | 1352/5000 [00:23<00:48, 74.76it/s]"
     ]
    },
    {
     "name": "stderr",
     "output_type": "stream",
     "text": [
      "\r",
      "Step 3/3 :  27%|██▋       | 1352/5000 [00:23<00:48, 74.76it/s]"
     ]
    },
    {
     "name": "stderr",
     "output_type": "stream",
     "text": [
      "\r",
      "Step 3/3 :  27%|██▋       | 1360/5000 [00:23<00:49, 73.47it/s]"
     ]
    },
    {
     "name": "stderr",
     "output_type": "stream",
     "text": [
      "\r",
      "Step 3/3 :  27%|██▋       | 1360/5000 [00:23<00:49, 73.47it/s]"
     ]
    },
    {
     "name": "stderr",
     "output_type": "stream",
     "text": [
      "\r",
      "Step 3/3 :  27%|██▋       | 1360/5000 [00:23<00:49, 73.47it/s]"
     ]
    },
    {
     "name": "stderr",
     "output_type": "stream",
     "text": [
      "\r",
      "Step 3/3 :  27%|██▋       | 1360/5000 [00:23<00:49, 73.47it/s]"
     ]
    },
    {
     "name": "stderr",
     "output_type": "stream",
     "text": [
      "\r",
      "Step 3/3 :  27%|██▋       | 1360/5000 [00:23<00:49, 73.47it/s]"
     ]
    },
    {
     "name": "stderr",
     "output_type": "stream",
     "text": [
      "\r",
      "Step 3/3 :  27%|██▋       | 1360/5000 [00:23<00:49, 73.47it/s]"
     ]
    },
    {
     "name": "stderr",
     "output_type": "stream",
     "text": [
      "\r",
      "Step 3/3 :  27%|██▋       | 1360/5000 [00:23<00:49, 73.47it/s]"
     ]
    },
    {
     "name": "stderr",
     "output_type": "stream",
     "text": [
      "\r",
      "Step 3/3 :  27%|██▋       | 1360/5000 [00:23<00:49, 73.47it/s]"
     ]
    },
    {
     "name": "stderr",
     "output_type": "stream",
     "text": [
      "\r",
      "Step 3/3 :  27%|██▋       | 1360/5000 [00:23<00:49, 73.47it/s]"
     ]
    },
    {
     "name": "stderr",
     "output_type": "stream",
     "text": [
      "\r",
      "Step 3/3 :  27%|██▋       | 1368/5000 [00:24<00:49, 73.65it/s]"
     ]
    },
    {
     "name": "stderr",
     "output_type": "stream",
     "text": [
      "\r",
      "Step 3/3 :  27%|██▋       | 1368/5000 [00:24<00:49, 73.65it/s]"
     ]
    },
    {
     "name": "stderr",
     "output_type": "stream",
     "text": [
      "\r",
      "Step 3/3 :  27%|██▋       | 1368/5000 [00:24<00:49, 73.65it/s]"
     ]
    },
    {
     "name": "stderr",
     "output_type": "stream",
     "text": [
      "\r",
      "Step 3/3 :  27%|██▋       | 1368/5000 [00:24<00:49, 73.65it/s]"
     ]
    },
    {
     "name": "stderr",
     "output_type": "stream",
     "text": [
      "\r",
      "Step 3/3 :  27%|██▋       | 1368/5000 [00:24<00:49, 73.65it/s]"
     ]
    },
    {
     "name": "stderr",
     "output_type": "stream",
     "text": [
      "\r",
      "Step 3/3 :  27%|██▋       | 1368/5000 [00:24<00:49, 73.65it/s]"
     ]
    },
    {
     "name": "stderr",
     "output_type": "stream",
     "text": [
      "\r",
      "Step 3/3 :  27%|██▋       | 1368/5000 [00:24<00:49, 73.65it/s]"
     ]
    },
    {
     "name": "stderr",
     "output_type": "stream",
     "text": [
      "\r",
      "Step 3/3 :  27%|██▋       | 1368/5000 [00:24<00:49, 73.65it/s]"
     ]
    },
    {
     "name": "stderr",
     "output_type": "stream",
     "text": [
      "\r",
      "Step 3/3 :  27%|██▋       | 1368/5000 [00:24<00:49, 73.65it/s]"
     ]
    },
    {
     "name": "stderr",
     "output_type": "stream",
     "text": [
      "\r",
      "Step 3/3 :  28%|██▊       | 1376/5000 [00:24<00:49, 73.18it/s]"
     ]
    },
    {
     "name": "stderr",
     "output_type": "stream",
     "text": [
      "\r",
      "Step 3/3 :  28%|██▊       | 1376/5000 [00:24<00:49, 73.18it/s]"
     ]
    },
    {
     "name": "stderr",
     "output_type": "stream",
     "text": [
      "\r",
      "Step 3/3 :  28%|██▊       | 1376/5000 [00:24<00:49, 73.18it/s]"
     ]
    },
    {
     "name": "stderr",
     "output_type": "stream",
     "text": [
      "\r",
      "Step 3/3 :  28%|██▊       | 1376/5000 [00:24<00:49, 73.18it/s]"
     ]
    },
    {
     "name": "stderr",
     "output_type": "stream",
     "text": [
      "\r",
      "Step 3/3 :  28%|██▊       | 1376/5000 [00:24<00:49, 73.18it/s]"
     ]
    },
    {
     "name": "stderr",
     "output_type": "stream",
     "text": [
      "\r",
      "Step 3/3 :  28%|██▊       | 1376/5000 [00:24<00:49, 73.18it/s]"
     ]
    },
    {
     "name": "stderr",
     "output_type": "stream",
     "text": [
      "\r",
      "Step 3/3 :  28%|██▊       | 1376/5000 [00:24<00:49, 73.18it/s]"
     ]
    },
    {
     "name": "stderr",
     "output_type": "stream",
     "text": [
      "\r",
      "Step 3/3 :  28%|██▊       | 1376/5000 [00:24<00:49, 73.18it/s]"
     ]
    },
    {
     "name": "stderr",
     "output_type": "stream",
     "text": [
      "\r",
      "Step 3/3 :  28%|██▊       | 1376/5000 [00:24<00:49, 73.18it/s]"
     ]
    },
    {
     "name": "stderr",
     "output_type": "stream",
     "text": [
      "\r",
      "Step 3/3 :  28%|██▊       | 1384/5000 [00:24<00:50, 70.94it/s]"
     ]
    },
    {
     "name": "stderr",
     "output_type": "stream",
     "text": [
      "\r",
      "Step 3/3 :  28%|██▊       | 1384/5000 [00:24<00:50, 70.94it/s]"
     ]
    },
    {
     "name": "stderr",
     "output_type": "stream",
     "text": [
      "\r",
      "Step 3/3 :  28%|██▊       | 1384/5000 [00:24<00:50, 70.94it/s]"
     ]
    },
    {
     "name": "stderr",
     "output_type": "stream",
     "text": [
      "\r",
      "Step 3/3 :  28%|██▊       | 1384/5000 [00:24<00:50, 70.94it/s]"
     ]
    },
    {
     "name": "stderr",
     "output_type": "stream",
     "text": [
      "\r",
      "Step 3/3 :  28%|██▊       | 1384/5000 [00:24<00:50, 70.94it/s]"
     ]
    },
    {
     "name": "stderr",
     "output_type": "stream",
     "text": [
      "\r",
      "Step 3/3 :  28%|██▊       | 1384/5000 [00:24<00:50, 70.94it/s]"
     ]
    },
    {
     "name": "stderr",
     "output_type": "stream",
     "text": [
      "\r",
      "Step 3/3 :  28%|██▊       | 1384/5000 [00:24<00:50, 70.94it/s]"
     ]
    },
    {
     "name": "stderr",
     "output_type": "stream",
     "text": [
      "\r",
      "Step 3/3 :  28%|██▊       | 1384/5000 [00:24<00:50, 70.94it/s]"
     ]
    },
    {
     "name": "stderr",
     "output_type": "stream",
     "text": [
      "\r",
      "Step 3/3 :  28%|██▊       | 1384/5000 [00:24<00:50, 70.94it/s]"
     ]
    },
    {
     "name": "stderr",
     "output_type": "stream",
     "text": [
      "\r",
      "Step 3/3 :  28%|██▊       | 1392/5000 [00:24<00:49, 72.61it/s]"
     ]
    },
    {
     "name": "stderr",
     "output_type": "stream",
     "text": [
      "\r",
      "Step 3/3 :  28%|██▊       | 1392/5000 [00:24<00:49, 72.61it/s]"
     ]
    },
    {
     "name": "stderr",
     "output_type": "stream",
     "text": [
      "\r",
      "Step 3/3 :  28%|██▊       | 1392/5000 [00:24<00:49, 72.61it/s]"
     ]
    },
    {
     "name": "stderr",
     "output_type": "stream",
     "text": [
      "\r",
      "Step 3/3 :  28%|██▊       | 1392/5000 [00:24<00:49, 72.61it/s]"
     ]
    },
    {
     "name": "stderr",
     "output_type": "stream",
     "text": [
      "\r",
      "Step 3/3 :  28%|██▊       | 1392/5000 [00:24<00:49, 72.61it/s]"
     ]
    },
    {
     "name": "stderr",
     "output_type": "stream",
     "text": [
      "\r",
      "Step 3/3 :  28%|██▊       | 1392/5000 [00:24<00:49, 72.61it/s]"
     ]
    },
    {
     "name": "stderr",
     "output_type": "stream",
     "text": [
      "\r",
      "Step 3/3 :  28%|██▊       | 1392/5000 [00:24<00:49, 72.61it/s]"
     ]
    },
    {
     "name": "stderr",
     "output_type": "stream",
     "text": [
      "\r",
      "Step 3/3 :  28%|██▊       | 1392/5000 [00:24<00:49, 72.61it/s]"
     ]
    },
    {
     "name": "stderr",
     "output_type": "stream",
     "text": [
      "\r",
      "Step 3/3 :  28%|██▊       | 1392/5000 [00:24<00:49, 72.61it/s]"
     ]
    },
    {
     "name": "stderr",
     "output_type": "stream",
     "text": [
      "\r",
      "Step 3/3 :  28%|██▊       | 1400/5000 [00:24<00:48, 74.46it/s]"
     ]
    },
    {
     "name": "stderr",
     "output_type": "stream",
     "text": [
      "\r",
      "Step 3/3 :  28%|██▊       | 1400/5000 [00:24<00:48, 74.46it/s]"
     ]
    },
    {
     "name": "stderr",
     "output_type": "stream",
     "text": [
      "\r",
      "Step 3/3 :  28%|██▊       | 1400/5000 [00:24<00:48, 74.46it/s]"
     ]
    },
    {
     "name": "stderr",
     "output_type": "stream",
     "text": [
      "\r",
      "Step 3/3 :  28%|██▊       | 1400/5000 [00:24<00:48, 74.46it/s]"
     ]
    },
    {
     "name": "stderr",
     "output_type": "stream",
     "text": [
      "\r",
      "Step 3/3 :  28%|██▊       | 1400/5000 [00:24<00:48, 74.46it/s]"
     ]
    },
    {
     "name": "stderr",
     "output_type": "stream",
     "text": [
      "\r",
      "Step 3/3 :  28%|██▊       | 1400/5000 [00:24<00:48, 74.46it/s]"
     ]
    },
    {
     "name": "stderr",
     "output_type": "stream",
     "text": [
      "\r",
      "Step 3/3 :  28%|██▊       | 1400/5000 [00:24<00:48, 74.46it/s]"
     ]
    },
    {
     "name": "stderr",
     "output_type": "stream",
     "text": [
      "\r",
      "Step 3/3 :  28%|██▊       | 1400/5000 [00:24<00:48, 74.46it/s]"
     ]
    },
    {
     "name": "stderr",
     "output_type": "stream",
     "text": [
      "\r",
      "Step 3/3 :  28%|██▊       | 1400/5000 [00:24<00:48, 74.46it/s]"
     ]
    },
    {
     "name": "stderr",
     "output_type": "stream",
     "text": [
      "\r",
      "Step 3/3 :  28%|██▊       | 1408/5000 [00:24<00:48, 73.94it/s]"
     ]
    },
    {
     "name": "stderr",
     "output_type": "stream",
     "text": [
      "\r",
      "Step 3/3 :  28%|██▊       | 1408/5000 [00:24<00:48, 73.94it/s]"
     ]
    },
    {
     "name": "stderr",
     "output_type": "stream",
     "text": [
      "\r",
      "Step 3/3 :  28%|██▊       | 1408/5000 [00:24<00:48, 73.94it/s]"
     ]
    },
    {
     "name": "stderr",
     "output_type": "stream",
     "text": [
      "\r",
      "Step 3/3 :  28%|██▊       | 1408/5000 [00:24<00:48, 73.94it/s]"
     ]
    },
    {
     "name": "stderr",
     "output_type": "stream",
     "text": [
      "\r",
      "Step 3/3 :  28%|██▊       | 1408/5000 [00:24<00:48, 73.94it/s]"
     ]
    },
    {
     "name": "stderr",
     "output_type": "stream",
     "text": [
      "\r",
      "Step 3/3 :  28%|██▊       | 1408/5000 [00:24<00:48, 73.94it/s]"
     ]
    },
    {
     "name": "stderr",
     "output_type": "stream",
     "text": [
      "\r",
      "Step 3/3 :  28%|██▊       | 1408/5000 [00:24<00:48, 73.94it/s]"
     ]
    },
    {
     "name": "stderr",
     "output_type": "stream",
     "text": [
      "\r",
      "Step 3/3 :  28%|██▊       | 1408/5000 [00:24<00:48, 73.94it/s]"
     ]
    },
    {
     "name": "stderr",
     "output_type": "stream",
     "text": [
      "\r",
      "Step 3/3 :  28%|██▊       | 1408/5000 [00:24<00:48, 73.94it/s]"
     ]
    },
    {
     "name": "stderr",
     "output_type": "stream",
     "text": [
      "\r",
      "Step 3/3 :  28%|██▊       | 1416/5000 [00:24<00:48, 73.77it/s]"
     ]
    },
    {
     "name": "stderr",
     "output_type": "stream",
     "text": [
      "\r",
      "Step 3/3 :  28%|██▊       | 1416/5000 [00:24<00:48, 73.77it/s]"
     ]
    },
    {
     "name": "stderr",
     "output_type": "stream",
     "text": [
      "\r",
      "Step 3/3 :  28%|██▊       | 1416/5000 [00:24<00:48, 73.77it/s]"
     ]
    },
    {
     "name": "stderr",
     "output_type": "stream",
     "text": [
      "\r",
      "Step 3/3 :  28%|██▊       | 1416/5000 [00:24<00:48, 73.77it/s]"
     ]
    },
    {
     "name": "stderr",
     "output_type": "stream",
     "text": [
      "\r",
      "Step 3/3 :  28%|██▊       | 1416/5000 [00:24<00:48, 73.77it/s]"
     ]
    },
    {
     "name": "stderr",
     "output_type": "stream",
     "text": [
      "\r",
      "Step 3/3 :  28%|██▊       | 1416/5000 [00:24<00:48, 73.77it/s]"
     ]
    },
    {
     "name": "stderr",
     "output_type": "stream",
     "text": [
      "\r",
      "Step 3/3 :  28%|██▊       | 1416/5000 [00:24<00:48, 73.77it/s]"
     ]
    },
    {
     "name": "stderr",
     "output_type": "stream",
     "text": [
      "\r",
      "Step 3/3 :  28%|██▊       | 1416/5000 [00:24<00:48, 73.77it/s]"
     ]
    },
    {
     "name": "stderr",
     "output_type": "stream",
     "text": [
      "\r",
      "Step 3/3 :  28%|██▊       | 1416/5000 [00:24<00:48, 73.77it/s]"
     ]
    },
    {
     "name": "stderr",
     "output_type": "stream",
     "text": [
      "\r",
      "Step 3/3 :  28%|██▊       | 1416/5000 [00:24<00:48, 73.77it/s]"
     ]
    },
    {
     "name": "stderr",
     "output_type": "stream",
     "text": [
      "\r",
      "Step 3/3 :  28%|██▊       | 1425/5000 [00:24<00:46, 77.05it/s]"
     ]
    },
    {
     "name": "stderr",
     "output_type": "stream",
     "text": [
      "\r",
      "Step 3/3 :  28%|██▊       | 1425/5000 [00:24<00:46, 77.05it/s]"
     ]
    },
    {
     "name": "stderr",
     "output_type": "stream",
     "text": [
      "\r",
      "Step 3/3 :  28%|██▊       | 1425/5000 [00:24<00:46, 77.05it/s]"
     ]
    },
    {
     "name": "stderr",
     "output_type": "stream",
     "text": [
      "\r",
      "Step 3/3 :  28%|██▊       | 1425/5000 [00:24<00:46, 77.05it/s]"
     ]
    },
    {
     "name": "stderr",
     "output_type": "stream",
     "text": [
      "\r",
      "Step 3/3 :  28%|██▊       | 1425/5000 [00:24<00:46, 77.05it/s]"
     ]
    },
    {
     "name": "stderr",
     "output_type": "stream",
     "text": [
      "\r",
      "Step 3/3 :  28%|██▊       | 1425/5000 [00:24<00:46, 77.05it/s]"
     ]
    },
    {
     "name": "stderr",
     "output_type": "stream",
     "text": [
      "\r",
      "Step 3/3 :  28%|██▊       | 1425/5000 [00:24<00:46, 77.05it/s]"
     ]
    },
    {
     "name": "stderr",
     "output_type": "stream",
     "text": [
      "\r",
      "Step 3/3 :  28%|██▊       | 1425/5000 [00:24<00:46, 77.05it/s]"
     ]
    },
    {
     "name": "stderr",
     "output_type": "stream",
     "text": [
      "\r",
      "Step 3/3 :  28%|██▊       | 1425/5000 [00:24<00:46, 77.05it/s]"
     ]
    },
    {
     "name": "stderr",
     "output_type": "stream",
     "text": [
      "\r",
      "Step 3/3 :  29%|██▊       | 1433/5000 [00:24<00:45, 77.89it/s]"
     ]
    },
    {
     "name": "stderr",
     "output_type": "stream",
     "text": [
      "\r",
      "Step 3/3 :  29%|██▊       | 1433/5000 [00:24<00:45, 77.89it/s]"
     ]
    },
    {
     "name": "stderr",
     "output_type": "stream",
     "text": [
      "\r",
      "Step 3/3 :  29%|██▊       | 1433/5000 [00:24<00:45, 77.89it/s]"
     ]
    },
    {
     "name": "stderr",
     "output_type": "stream",
     "text": [
      "\r",
      "Step 3/3 :  29%|██▊       | 1433/5000 [00:24<00:45, 77.89it/s]"
     ]
    },
    {
     "name": "stderr",
     "output_type": "stream",
     "text": [
      "\r",
      "Step 3/3 :  29%|██▊       | 1433/5000 [00:24<00:45, 77.89it/s]"
     ]
    },
    {
     "name": "stderr",
     "output_type": "stream",
     "text": [
      "\r",
      "Step 3/3 :  29%|██▊       | 1433/5000 [00:24<00:45, 77.89it/s]"
     ]
    },
    {
     "name": "stderr",
     "output_type": "stream",
     "text": [
      "\r",
      "Step 3/3 :  29%|██▊       | 1433/5000 [00:24<00:45, 77.89it/s]"
     ]
    },
    {
     "name": "stderr",
     "output_type": "stream",
     "text": [
      "\r",
      "Step 3/3 :  29%|██▊       | 1433/5000 [00:24<00:45, 77.89it/s]"
     ]
    },
    {
     "name": "stderr",
     "output_type": "stream",
     "text": [
      "\r",
      "Step 3/3 :  29%|██▊       | 1433/5000 [00:24<00:45, 77.89it/s]"
     ]
    },
    {
     "name": "stderr",
     "output_type": "stream",
     "text": [
      "\r",
      "Step 3/3 :  29%|██▊       | 1433/5000 [00:24<00:45, 77.89it/s]"
     ]
    },
    {
     "name": "stderr",
     "output_type": "stream",
     "text": [
      "\r",
      "Step 3/3 :  29%|██▉       | 1442/5000 [00:24<00:44, 80.00it/s]"
     ]
    },
    {
     "name": "stderr",
     "output_type": "stream",
     "text": [
      "\r",
      "Step 3/3 :  29%|██▉       | 1442/5000 [00:24<00:44, 80.00it/s]"
     ]
    },
    {
     "name": "stderr",
     "output_type": "stream",
     "text": [
      "\r",
      "Step 3/3 :  29%|██▉       | 1442/5000 [00:24<00:44, 80.00it/s]"
     ]
    },
    {
     "name": "stderr",
     "output_type": "stream",
     "text": [
      "\r",
      "Step 3/3 :  29%|██▉       | 1442/5000 [00:24<00:44, 80.00it/s]"
     ]
    },
    {
     "name": "stderr",
     "output_type": "stream",
     "text": [
      "\r",
      "Step 3/3 :  29%|██▉       | 1442/5000 [00:25<00:44, 80.00it/s]"
     ]
    },
    {
     "name": "stderr",
     "output_type": "stream",
     "text": [
      "\r",
      "Step 3/3 :  29%|██▉       | 1442/5000 [00:25<00:44, 80.00it/s]"
     ]
    },
    {
     "name": "stderr",
     "output_type": "stream",
     "text": [
      "\r",
      "Step 3/3 :  29%|██▉       | 1442/5000 [00:25<00:44, 80.00it/s]"
     ]
    },
    {
     "name": "stderr",
     "output_type": "stream",
     "text": [
      "\r",
      "Step 3/3 :  29%|██▉       | 1442/5000 [00:25<00:44, 80.00it/s]"
     ]
    },
    {
     "name": "stderr",
     "output_type": "stream",
     "text": [
      "\r",
      "Step 3/3 :  29%|██▉       | 1442/5000 [00:25<00:44, 80.00it/s]"
     ]
    },
    {
     "name": "stderr",
     "output_type": "stream",
     "text": [
      "\r",
      "Step 3/3 :  29%|██▉       | 1442/5000 [00:25<00:44, 80.00it/s]"
     ]
    },
    {
     "name": "stderr",
     "output_type": "stream",
     "text": [
      "\r",
      "Step 3/3 :  29%|██▉       | 1451/5000 [00:25<00:44, 79.78it/s]"
     ]
    },
    {
     "name": "stderr",
     "output_type": "stream",
     "text": [
      "\r",
      "Step 3/3 :  29%|██▉       | 1451/5000 [00:25<00:44, 79.78it/s]"
     ]
    },
    {
     "name": "stderr",
     "output_type": "stream",
     "text": [
      "\r",
      "Step 3/3 :  29%|██▉       | 1451/5000 [00:25<00:44, 79.78it/s]"
     ]
    },
    {
     "name": "stderr",
     "output_type": "stream",
     "text": [
      "\r",
      "Step 3/3 :  29%|██▉       | 1451/5000 [00:25<00:44, 79.78it/s]"
     ]
    },
    {
     "name": "stderr",
     "output_type": "stream",
     "text": [
      "\r",
      "Step 3/3 :  29%|██▉       | 1451/5000 [00:25<00:44, 79.78it/s]"
     ]
    },
    {
     "name": "stderr",
     "output_type": "stream",
     "text": [
      "\r",
      "Step 3/3 :  29%|██▉       | 1451/5000 [00:25<00:44, 79.78it/s]"
     ]
    },
    {
     "name": "stderr",
     "output_type": "stream",
     "text": [
      "\r",
      "Step 3/3 :  29%|██▉       | 1451/5000 [00:25<00:44, 79.78it/s]"
     ]
    },
    {
     "name": "stderr",
     "output_type": "stream",
     "text": [
      "\r",
      "Step 3/3 :  29%|██▉       | 1451/5000 [00:25<00:44, 79.78it/s]"
     ]
    },
    {
     "name": "stderr",
     "output_type": "stream",
     "text": [
      "\r",
      "Step 3/3 :  29%|██▉       | 1451/5000 [00:25<00:44, 79.78it/s]"
     ]
    },
    {
     "name": "stderr",
     "output_type": "stream",
     "text": [
      "\r",
      "Step 3/3 :  29%|██▉       | 1451/5000 [00:25<00:44, 79.78it/s]"
     ]
    },
    {
     "name": "stderr",
     "output_type": "stream",
     "text": [
      "\r",
      "Step 3/3 :  29%|██▉       | 1460/5000 [00:25<00:43, 81.98it/s]"
     ]
    },
    {
     "name": "stderr",
     "output_type": "stream",
     "text": [
      "\r",
      "Step 3/3 :  29%|██▉       | 1460/5000 [00:25<00:43, 81.98it/s]"
     ]
    },
    {
     "name": "stderr",
     "output_type": "stream",
     "text": [
      "\r",
      "Step 3/3 :  29%|██▉       | 1460/5000 [00:25<00:43, 81.98it/s]"
     ]
    },
    {
     "name": "stderr",
     "output_type": "stream",
     "text": [
      "\r",
      "Step 3/3 :  29%|██▉       | 1460/5000 [00:25<00:43, 81.98it/s]"
     ]
    },
    {
     "name": "stderr",
     "output_type": "stream",
     "text": [
      "\r",
      "Step 3/3 :  29%|██▉       | 1460/5000 [00:25<00:43, 81.98it/s]"
     ]
    },
    {
     "name": "stderr",
     "output_type": "stream",
     "text": [
      "\r",
      "Step 3/3 :  29%|██▉       | 1460/5000 [00:25<00:43, 81.98it/s]"
     ]
    },
    {
     "name": "stderr",
     "output_type": "stream",
     "text": [
      "\r",
      "Step 3/3 :  29%|██▉       | 1460/5000 [00:25<00:43, 81.98it/s]"
     ]
    },
    {
     "name": "stderr",
     "output_type": "stream",
     "text": [
      "\r",
      "Step 3/3 :  29%|██▉       | 1460/5000 [00:25<00:43, 81.98it/s]"
     ]
    },
    {
     "name": "stderr",
     "output_type": "stream",
     "text": [
      "\r",
      "Step 3/3 :  29%|██▉       | 1460/5000 [00:25<00:43, 81.98it/s]"
     ]
    },
    {
     "name": "stderr",
     "output_type": "stream",
     "text": [
      "\r",
      "Step 3/3 :  29%|██▉       | 1460/5000 [00:25<00:43, 81.98it/s]"
     ]
    },
    {
     "name": "stderr",
     "output_type": "stream",
     "text": [
      "\r",
      "Step 3/3 :  29%|██▉       | 1469/5000 [00:25<00:44, 80.14it/s]"
     ]
    },
    {
     "name": "stderr",
     "output_type": "stream",
     "text": [
      "\r",
      "Step 3/3 :  29%|██▉       | 1469/5000 [00:25<00:44, 80.14it/s]"
     ]
    },
    {
     "name": "stderr",
     "output_type": "stream",
     "text": [
      "\r",
      "Step 3/3 :  29%|██▉       | 1469/5000 [00:25<00:44, 80.14it/s]"
     ]
    },
    {
     "name": "stderr",
     "output_type": "stream",
     "text": [
      "\r",
      "Step 3/3 :  29%|██▉       | 1469/5000 [00:25<00:44, 80.14it/s]"
     ]
    },
    {
     "name": "stderr",
     "output_type": "stream",
     "text": [
      "\r",
      "Step 3/3 :  29%|██▉       | 1469/5000 [00:25<00:44, 80.14it/s]"
     ]
    },
    {
     "name": "stderr",
     "output_type": "stream",
     "text": [
      "\r",
      "Step 3/3 :  29%|██▉       | 1469/5000 [00:25<00:44, 80.14it/s]"
     ]
    },
    {
     "name": "stderr",
     "output_type": "stream",
     "text": [
      "\r",
      "Step 3/3 :  29%|██▉       | 1469/5000 [00:25<00:44, 80.14it/s]"
     ]
    },
    {
     "name": "stderr",
     "output_type": "stream",
     "text": [
      "\r",
      "Step 3/3 :  29%|██▉       | 1469/5000 [00:25<00:44, 80.14it/s]"
     ]
    },
    {
     "name": "stderr",
     "output_type": "stream",
     "text": [
      "\r",
      "Step 3/3 :  29%|██▉       | 1469/5000 [00:25<00:44, 80.14it/s]"
     ]
    },
    {
     "name": "stderr",
     "output_type": "stream",
     "text": [
      "\r",
      "Step 3/3 :  29%|██▉       | 1469/5000 [00:25<00:44, 80.14it/s]"
     ]
    },
    {
     "name": "stderr",
     "output_type": "stream",
     "text": [
      "\r",
      "Step 3/3 :  30%|██▉       | 1478/5000 [00:25<00:44, 79.99it/s]"
     ]
    },
    {
     "name": "stderr",
     "output_type": "stream",
     "text": [
      "\r",
      "Step 3/3 :  30%|██▉       | 1478/5000 [00:25<00:44, 79.99it/s]"
     ]
    },
    {
     "name": "stderr",
     "output_type": "stream",
     "text": [
      "\r",
      "Step 3/3 :  30%|██▉       | 1478/5000 [00:25<00:44, 79.99it/s]"
     ]
    },
    {
     "name": "stderr",
     "output_type": "stream",
     "text": [
      "\r",
      "Step 3/3 :  30%|██▉       | 1478/5000 [00:25<00:44, 79.99it/s]"
     ]
    },
    {
     "name": "stderr",
     "output_type": "stream",
     "text": [
      "\r",
      "Step 3/3 :  30%|██▉       | 1478/5000 [00:25<00:44, 79.99it/s]"
     ]
    },
    {
     "name": "stderr",
     "output_type": "stream",
     "text": [
      "\r",
      "Step 3/3 :  30%|██▉       | 1478/5000 [00:25<00:44, 79.99it/s]"
     ]
    },
    {
     "name": "stderr",
     "output_type": "stream",
     "text": [
      "\r",
      "Step 3/3 :  30%|██▉       | 1478/5000 [00:25<00:44, 79.99it/s]"
     ]
    },
    {
     "name": "stderr",
     "output_type": "stream",
     "text": [
      "\r",
      "Step 3/3 :  30%|██▉       | 1478/5000 [00:25<00:44, 79.99it/s]"
     ]
    },
    {
     "name": "stderr",
     "output_type": "stream",
     "text": [
      "\r",
      "Step 3/3 :  30%|██▉       | 1478/5000 [00:25<00:44, 79.99it/s]"
     ]
    },
    {
     "name": "stderr",
     "output_type": "stream",
     "text": [
      "\r",
      "Step 3/3 :  30%|██▉       | 1478/5000 [00:25<00:44, 79.99it/s]"
     ]
    },
    {
     "name": "stderr",
     "output_type": "stream",
     "text": [
      "\r",
      "Step 3/3 :  30%|██▉       | 1487/5000 [00:25<00:46, 75.80it/s]"
     ]
    },
    {
     "name": "stderr",
     "output_type": "stream",
     "text": [
      "\r",
      "Step 3/3 :  30%|██▉       | 1487/5000 [00:25<00:46, 75.80it/s]"
     ]
    },
    {
     "name": "stderr",
     "output_type": "stream",
     "text": [
      "\r",
      "Step 3/3 :  30%|██▉       | 1487/5000 [00:25<00:46, 75.80it/s]"
     ]
    },
    {
     "name": "stderr",
     "output_type": "stream",
     "text": [
      "\r",
      "Step 3/3 :  30%|██▉       | 1487/5000 [00:25<00:46, 75.80it/s]"
     ]
    },
    {
     "name": "stderr",
     "output_type": "stream",
     "text": [
      "\r",
      "Step 3/3 :  30%|██▉       | 1487/5000 [00:25<00:46, 75.80it/s]"
     ]
    },
    {
     "name": "stderr",
     "output_type": "stream",
     "text": [
      "\r",
      "Step 3/3 :  30%|██▉       | 1487/5000 [00:25<00:46, 75.80it/s]"
     ]
    },
    {
     "name": "stderr",
     "output_type": "stream",
     "text": [
      "\r",
      "Step 3/3 :  30%|██▉       | 1487/5000 [00:25<00:46, 75.80it/s]"
     ]
    },
    {
     "name": "stderr",
     "output_type": "stream",
     "text": [
      "\r",
      "Step 3/3 :  30%|██▉       | 1487/5000 [00:25<00:46, 75.80it/s]"
     ]
    },
    {
     "name": "stderr",
     "output_type": "stream",
     "text": [
      "\r",
      "Step 3/3 :  30%|██▉       | 1487/5000 [00:25<00:46, 75.80it/s]"
     ]
    },
    {
     "name": "stderr",
     "output_type": "stream",
     "text": [
      "\r",
      "Step 3/3 :  30%|██▉       | 1495/5000 [00:25<00:46, 75.71it/s]"
     ]
    },
    {
     "name": "stderr",
     "output_type": "stream",
     "text": [
      "\r",
      "Step 3/3 :  30%|██▉       | 1495/5000 [00:25<00:46, 75.71it/s]"
     ]
    },
    {
     "name": "stderr",
     "output_type": "stream",
     "text": [
      "\r",
      "Step 3/3 :  30%|██▉       | 1495/5000 [00:25<00:46, 75.71it/s]"
     ]
    },
    {
     "name": "stderr",
     "output_type": "stream",
     "text": [
      "\r",
      "Step 3/3 :  30%|██▉       | 1495/5000 [00:25<00:46, 75.71it/s]"
     ]
    },
    {
     "name": "stderr",
     "output_type": "stream",
     "text": [
      "\r",
      "Step 3/3 :  30%|██▉       | 1495/5000 [00:25<00:46, 75.71it/s]"
     ]
    },
    {
     "name": "stderr",
     "output_type": "stream",
     "text": [
      "\r",
      "Step 3/3 :  30%|██▉       | 1495/5000 [00:25<00:46, 75.71it/s]"
     ]
    },
    {
     "name": "stderr",
     "output_type": "stream",
     "text": [
      "\r",
      "Step 3/3 :  30%|██▉       | 1495/5000 [00:25<00:46, 75.71it/s]"
     ]
    },
    {
     "name": "stderr",
     "output_type": "stream",
     "text": [
      "\r",
      "Step 3/3 :  30%|██▉       | 1495/5000 [00:25<00:46, 75.71it/s]"
     ]
    },
    {
     "name": "stderr",
     "output_type": "stream",
     "text": [
      "\r",
      "Step 3/3 :  30%|██▉       | 1495/5000 [00:25<00:46, 75.71it/s]"
     ]
    },
    {
     "name": "stderr",
     "output_type": "stream",
     "text": [
      "\r",
      "Step 3/3 :  30%|███       | 1503/5000 [00:25<00:46, 75.44it/s]"
     ]
    },
    {
     "name": "stderr",
     "output_type": "stream",
     "text": [
      "\r",
      "Step 3/3 :  30%|███       | 1503/5000 [00:25<00:46, 75.44it/s]"
     ]
    },
    {
     "name": "stderr",
     "output_type": "stream",
     "text": [
      "\r",
      "Step 3/3 :  30%|███       | 1503/5000 [00:25<00:46, 75.44it/s]"
     ]
    },
    {
     "name": "stderr",
     "output_type": "stream",
     "text": [
      "\r",
      "Step 3/3 :  30%|███       | 1503/5000 [00:25<00:46, 75.44it/s]"
     ]
    },
    {
     "name": "stderr",
     "output_type": "stream",
     "text": [
      "\r",
      "Step 3/3 :  30%|███       | 1503/5000 [00:25<00:46, 75.44it/s]"
     ]
    },
    {
     "name": "stderr",
     "output_type": "stream",
     "text": [
      "\r",
      "Step 3/3 :  30%|███       | 1503/5000 [00:25<00:46, 75.44it/s]"
     ]
    },
    {
     "name": "stderr",
     "output_type": "stream",
     "text": [
      "\r",
      "Step 3/3 :  30%|███       | 1503/5000 [00:25<00:46, 75.44it/s]"
     ]
    },
    {
     "name": "stderr",
     "output_type": "stream",
     "text": [
      "\r",
      "Step 3/3 :  30%|███       | 1503/5000 [00:25<00:46, 75.44it/s]"
     ]
    },
    {
     "name": "stderr",
     "output_type": "stream",
     "text": [
      "\r",
      "Step 3/3 :  30%|███       | 1503/5000 [00:25<00:46, 75.44it/s]"
     ]
    },
    {
     "name": "stderr",
     "output_type": "stream",
     "text": [
      "\r",
      "Step 3/3 :  30%|███       | 1511/5000 [00:25<00:49, 70.45it/s]"
     ]
    },
    {
     "name": "stderr",
     "output_type": "stream",
     "text": [
      "\r",
      "Step 3/3 :  30%|███       | 1511/5000 [00:25<00:49, 70.45it/s]"
     ]
    },
    {
     "name": "stderr",
     "output_type": "stream",
     "text": [
      "\r",
      "Step 3/3 :  30%|███       | 1511/5000 [00:25<00:49, 70.45it/s]"
     ]
    },
    {
     "name": "stderr",
     "output_type": "stream",
     "text": [
      "\r",
      "Step 3/3 :  30%|███       | 1511/5000 [00:25<00:49, 70.45it/s]"
     ]
    },
    {
     "name": "stderr",
     "output_type": "stream",
     "text": [
      "\r",
      "Step 3/3 :  30%|███       | 1511/5000 [00:25<00:49, 70.45it/s]"
     ]
    },
    {
     "name": "stderr",
     "output_type": "stream",
     "text": [
      "\r",
      "Step 3/3 :  30%|███       | 1511/5000 [00:25<00:49, 70.45it/s]"
     ]
    },
    {
     "name": "stderr",
     "output_type": "stream",
     "text": [
      "\r",
      "Step 3/3 :  30%|███       | 1511/5000 [00:25<00:49, 70.45it/s]"
     ]
    },
    {
     "name": "stderr",
     "output_type": "stream",
     "text": [
      "\r",
      "Step 3/3 :  30%|███       | 1511/5000 [00:25<00:49, 70.45it/s]"
     ]
    },
    {
     "name": "stderr",
     "output_type": "stream",
     "text": [
      "\r",
      "Step 3/3 :  30%|███       | 1511/5000 [00:25<00:49, 70.45it/s]"
     ]
    },
    {
     "name": "stderr",
     "output_type": "stream",
     "text": [
      "\r",
      "Step 3/3 :  30%|███       | 1511/5000 [00:25<00:49, 70.45it/s]"
     ]
    },
    {
     "name": "stderr",
     "output_type": "stream",
     "text": [
      "\r",
      "Step 3/3 :  30%|███       | 1511/5000 [00:25<00:49, 70.45it/s]"
     ]
    },
    {
     "name": "stderr",
     "output_type": "stream",
     "text": [
      "\r",
      "Step 3/3 :  30%|███       | 1521/5000 [00:25<00:44, 78.12it/s]"
     ]
    },
    {
     "name": "stderr",
     "output_type": "stream",
     "text": [
      "\r",
      "Step 3/3 :  30%|███       | 1521/5000 [00:25<00:44, 78.12it/s]"
     ]
    },
    {
     "name": "stderr",
     "output_type": "stream",
     "text": [
      "\r",
      "Step 3/3 :  30%|███       | 1521/5000 [00:26<00:44, 78.12it/s]"
     ]
    },
    {
     "name": "stderr",
     "output_type": "stream",
     "text": [
      "\r",
      "Step 3/3 :  30%|███       | 1521/5000 [00:26<00:44, 78.12it/s]"
     ]
    },
    {
     "name": "stderr",
     "output_type": "stream",
     "text": [
      "\r",
      "Step 3/3 :  30%|███       | 1521/5000 [00:26<00:44, 78.12it/s]"
     ]
    },
    {
     "name": "stderr",
     "output_type": "stream",
     "text": [
      "\r",
      "Step 3/3 :  30%|███       | 1521/5000 [00:26<00:44, 78.12it/s]"
     ]
    },
    {
     "name": "stderr",
     "output_type": "stream",
     "text": [
      "\r",
      "Step 3/3 :  30%|███       | 1521/5000 [00:26<00:44, 78.12it/s]"
     ]
    },
    {
     "name": "stderr",
     "output_type": "stream",
     "text": [
      "\r",
      "Step 3/3 :  30%|███       | 1521/5000 [00:26<00:44, 78.12it/s]"
     ]
    },
    {
     "name": "stderr",
     "output_type": "stream",
     "text": [
      "\r",
      "Step 3/3 :  30%|███       | 1521/5000 [00:26<00:44, 78.12it/s]"
     ]
    },
    {
     "name": "stderr",
     "output_type": "stream",
     "text": [
      "\r",
      "Step 3/3 :  30%|███       | 1521/5000 [00:26<00:44, 78.12it/s]"
     ]
    },
    {
     "name": "stderr",
     "output_type": "stream",
     "text": [
      "\r",
      "Step 3/3 :  30%|███       | 1521/5000 [00:26<00:44, 78.12it/s]"
     ]
    },
    {
     "name": "stderr",
     "output_type": "stream",
     "text": [
      "\r",
      "Step 3/3 :  30%|███       | 1521/5000 [00:26<00:44, 78.12it/s]"
     ]
    },
    {
     "name": "stderr",
     "output_type": "stream",
     "text": [
      "\r",
      "Step 3/3 :  31%|███       | 1532/5000 [00:26<00:41, 84.55it/s]"
     ]
    },
    {
     "name": "stderr",
     "output_type": "stream",
     "text": [
      "\r",
      "Step 3/3 :  31%|███       | 1532/5000 [00:26<00:41, 84.55it/s]"
     ]
    },
    {
     "name": "stderr",
     "output_type": "stream",
     "text": [
      "\r",
      "Step 3/3 :  31%|███       | 1532/5000 [00:26<00:41, 84.55it/s]"
     ]
    },
    {
     "name": "stderr",
     "output_type": "stream",
     "text": [
      "\r",
      "Step 3/3 :  31%|███       | 1532/5000 [00:26<00:41, 84.55it/s]"
     ]
    },
    {
     "name": "stderr",
     "output_type": "stream",
     "text": [
      "\r",
      "Step 3/3 :  31%|███       | 1532/5000 [00:26<00:41, 84.55it/s]"
     ]
    },
    {
     "name": "stderr",
     "output_type": "stream",
     "text": [
      "\r",
      "Step 3/3 :  31%|███       | 1532/5000 [00:26<00:41, 84.55it/s]"
     ]
    },
    {
     "name": "stderr",
     "output_type": "stream",
     "text": [
      "\r",
      "Step 3/3 :  31%|███       | 1532/5000 [00:26<00:41, 84.55it/s]"
     ]
    },
    {
     "name": "stderr",
     "output_type": "stream",
     "text": [
      "\r",
      "Step 3/3 :  31%|███       | 1532/5000 [00:26<00:41, 84.55it/s]"
     ]
    },
    {
     "name": "stderr",
     "output_type": "stream",
     "text": [
      "\r",
      "Step 3/3 :  31%|███       | 1532/5000 [00:26<00:41, 84.55it/s]"
     ]
    },
    {
     "name": "stderr",
     "output_type": "stream",
     "text": [
      "\r",
      "Step 3/3 :  31%|███       | 1532/5000 [00:26<00:41, 84.55it/s]"
     ]
    },
    {
     "name": "stderr",
     "output_type": "stream",
     "text": [
      "\r",
      "Step 3/3 :  31%|███       | 1541/5000 [00:26<00:42, 80.91it/s]"
     ]
    },
    {
     "name": "stderr",
     "output_type": "stream",
     "text": [
      "\r",
      "Step 3/3 :  31%|███       | 1541/5000 [00:26<00:42, 80.91it/s]"
     ]
    },
    {
     "name": "stderr",
     "output_type": "stream",
     "text": [
      "\r",
      "Step 3/3 :  31%|███       | 1541/5000 [00:26<00:42, 80.91it/s]"
     ]
    },
    {
     "name": "stderr",
     "output_type": "stream",
     "text": [
      "\r",
      "Step 3/3 :  31%|███       | 1541/5000 [00:26<00:42, 80.91it/s]"
     ]
    },
    {
     "name": "stderr",
     "output_type": "stream",
     "text": [
      "\r",
      "Step 3/3 :  31%|███       | 1541/5000 [00:26<00:42, 80.91it/s]"
     ]
    },
    {
     "name": "stderr",
     "output_type": "stream",
     "text": [
      "\r",
      "Step 3/3 :  31%|███       | 1541/5000 [00:26<00:42, 80.91it/s]"
     ]
    },
    {
     "name": "stderr",
     "output_type": "stream",
     "text": [
      "\r",
      "Step 3/3 :  31%|███       | 1541/5000 [00:26<00:42, 80.91it/s]"
     ]
    },
    {
     "name": "stderr",
     "output_type": "stream",
     "text": [
      "\r",
      "Step 3/3 :  31%|███       | 1541/5000 [00:26<00:42, 80.91it/s]"
     ]
    },
    {
     "name": "stderr",
     "output_type": "stream",
     "text": [
      "\r",
      "Step 3/3 :  31%|███       | 1541/5000 [00:26<00:42, 80.91it/s]"
     ]
    },
    {
     "name": "stderr",
     "output_type": "stream",
     "text": [
      "\r",
      "Step 3/3 :  31%|███       | 1541/5000 [00:26<00:42, 80.91it/s]"
     ]
    },
    {
     "name": "stderr",
     "output_type": "stream",
     "text": [
      "\r",
      "Step 3/3 :  31%|███       | 1550/5000 [00:26<00:45, 75.04it/s]"
     ]
    },
    {
     "name": "stderr",
     "output_type": "stream",
     "text": [
      "\r",
      "Step 3/3 :  31%|███       | 1550/5000 [00:26<00:45, 75.04it/s]"
     ]
    },
    {
     "name": "stderr",
     "output_type": "stream",
     "text": [
      "\r",
      "Step 3/3 :  31%|███       | 1550/5000 [00:26<00:45, 75.04it/s]"
     ]
    },
    {
     "name": "stderr",
     "output_type": "stream",
     "text": [
      "\r",
      "Step 3/3 :  31%|███       | 1550/5000 [00:26<00:45, 75.04it/s]"
     ]
    },
    {
     "name": "stderr",
     "output_type": "stream",
     "text": [
      "\r",
      "Step 3/3 :  31%|███       | 1550/5000 [00:26<00:45, 75.04it/s]"
     ]
    },
    {
     "name": "stderr",
     "output_type": "stream",
     "text": [
      "\r",
      "Step 3/3 :  31%|███       | 1550/5000 [00:26<00:45, 75.04it/s]"
     ]
    },
    {
     "name": "stderr",
     "output_type": "stream",
     "text": [
      "\r",
      "Step 3/3 :  31%|███       | 1550/5000 [00:26<00:45, 75.04it/s]"
     ]
    },
    {
     "name": "stderr",
     "output_type": "stream",
     "text": [
      "\r",
      "Step 3/3 :  31%|███       | 1550/5000 [00:26<00:45, 75.04it/s]"
     ]
    },
    {
     "name": "stderr",
     "output_type": "stream",
     "text": [
      "\r",
      "Step 3/3 :  31%|███       | 1550/5000 [00:26<00:45, 75.04it/s]"
     ]
    },
    {
     "name": "stderr",
     "output_type": "stream",
     "text": [
      "\r",
      "Step 3/3 :  31%|███       | 1558/5000 [00:26<00:47, 72.04it/s]"
     ]
    },
    {
     "name": "stderr",
     "output_type": "stream",
     "text": [
      "\r",
      "Step 3/3 :  31%|███       | 1558/5000 [00:26<00:47, 72.04it/s]"
     ]
    },
    {
     "name": "stderr",
     "output_type": "stream",
     "text": [
      "\r",
      "Step 3/3 :  31%|███       | 1558/5000 [00:26<00:47, 72.04it/s]"
     ]
    },
    {
     "name": "stderr",
     "output_type": "stream",
     "text": [
      "\r",
      "Step 3/3 :  31%|███       | 1558/5000 [00:26<00:47, 72.04it/s]"
     ]
    },
    {
     "name": "stderr",
     "output_type": "stream",
     "text": [
      "\r",
      "Step 3/3 :  31%|███       | 1558/5000 [00:26<00:47, 72.04it/s]"
     ]
    },
    {
     "name": "stderr",
     "output_type": "stream",
     "text": [
      "\r",
      "Step 3/3 :  31%|███       | 1558/5000 [00:26<00:47, 72.04it/s]"
     ]
    },
    {
     "name": "stderr",
     "output_type": "stream",
     "text": [
      "\r",
      "Step 3/3 :  31%|███       | 1558/5000 [00:26<00:47, 72.04it/s]"
     ]
    },
    {
     "name": "stderr",
     "output_type": "stream",
     "text": [
      "\r",
      "Step 3/3 :  31%|███       | 1558/5000 [00:26<00:47, 72.04it/s]"
     ]
    },
    {
     "name": "stderr",
     "output_type": "stream",
     "text": [
      "\r",
      "Step 3/3 :  31%|███       | 1558/5000 [00:26<00:47, 72.04it/s]"
     ]
    },
    {
     "name": "stderr",
     "output_type": "stream",
     "text": [
      "\r",
      "Step 3/3 :  31%|███▏      | 1566/5000 [00:26<00:51, 66.84it/s]"
     ]
    },
    {
     "name": "stderr",
     "output_type": "stream",
     "text": [
      "\r",
      "Step 3/3 :  31%|███▏      | 1566/5000 [00:26<00:51, 66.84it/s]"
     ]
    },
    {
     "name": "stderr",
     "output_type": "stream",
     "text": [
      "\r",
      "Step 3/3 :  31%|███▏      | 1566/5000 [00:26<00:51, 66.84it/s]"
     ]
    },
    {
     "name": "stderr",
     "output_type": "stream",
     "text": [
      "\r",
      "Step 3/3 :  31%|███▏      | 1566/5000 [00:26<00:51, 66.84it/s]"
     ]
    },
    {
     "name": "stderr",
     "output_type": "stream",
     "text": [
      "\r",
      "Step 3/3 :  31%|███▏      | 1566/5000 [00:26<00:51, 66.84it/s]"
     ]
    },
    {
     "name": "stderr",
     "output_type": "stream",
     "text": [
      "\r",
      "Step 3/3 :  31%|███▏      | 1566/5000 [00:26<00:51, 66.84it/s]"
     ]
    },
    {
     "name": "stderr",
     "output_type": "stream",
     "text": [
      "\r",
      "Step 3/3 :  31%|███▏      | 1566/5000 [00:26<00:51, 66.84it/s]"
     ]
    },
    {
     "name": "stderr",
     "output_type": "stream",
     "text": [
      "\r",
      "Step 3/3 :  31%|███▏      | 1566/5000 [00:26<00:51, 66.84it/s]"
     ]
    },
    {
     "name": "stderr",
     "output_type": "stream",
     "text": [
      "\r",
      "Step 3/3 :  31%|███▏      | 1573/5000 [00:26<00:51, 65.98it/s]"
     ]
    },
    {
     "name": "stderr",
     "output_type": "stream",
     "text": [
      "\r",
      "Step 3/3 :  31%|███▏      | 1573/5000 [00:26<00:51, 65.98it/s]"
     ]
    },
    {
     "name": "stderr",
     "output_type": "stream",
     "text": [
      "\r",
      "Step 3/3 :  31%|███▏      | 1573/5000 [00:26<00:51, 65.98it/s]"
     ]
    },
    {
     "name": "stderr",
     "output_type": "stream",
     "text": [
      "\r",
      "Step 3/3 :  31%|███▏      | 1573/5000 [00:26<00:51, 65.98it/s]"
     ]
    },
    {
     "name": "stderr",
     "output_type": "stream",
     "text": [
      "\r",
      "Step 3/3 :  31%|███▏      | 1573/5000 [00:26<00:51, 65.98it/s]"
     ]
    },
    {
     "name": "stderr",
     "output_type": "stream",
     "text": [
      "\r",
      "Step 3/3 :  31%|███▏      | 1573/5000 [00:26<00:51, 65.98it/s]"
     ]
    },
    {
     "name": "stderr",
     "output_type": "stream",
     "text": [
      "\r",
      "Step 3/3 :  31%|███▏      | 1573/5000 [00:26<00:51, 65.98it/s]"
     ]
    },
    {
     "name": "stderr",
     "output_type": "stream",
     "text": [
      "\r",
      "Step 3/3 :  31%|███▏      | 1573/5000 [00:26<00:51, 65.98it/s]"
     ]
    },
    {
     "name": "stderr",
     "output_type": "stream",
     "text": [
      "\r",
      "Step 3/3 :  32%|███▏      | 1580/5000 [00:26<00:51, 66.17it/s]"
     ]
    },
    {
     "name": "stderr",
     "output_type": "stream",
     "text": [
      "\r",
      "Step 3/3 :  32%|███▏      | 1580/5000 [00:26<00:51, 66.17it/s]"
     ]
    },
    {
     "name": "stderr",
     "output_type": "stream",
     "text": [
      "\r",
      "Step 3/3 :  32%|███▏      | 1580/5000 [00:26<00:51, 66.17it/s]"
     ]
    },
    {
     "name": "stderr",
     "output_type": "stream",
     "text": [
      "\r",
      "Step 3/3 :  32%|███▏      | 1580/5000 [00:26<00:51, 66.17it/s]"
     ]
    },
    {
     "name": "stderr",
     "output_type": "stream",
     "text": [
      "\r",
      "Step 3/3 :  32%|███▏      | 1580/5000 [00:26<00:51, 66.17it/s]"
     ]
    },
    {
     "name": "stderr",
     "output_type": "stream",
     "text": [
      "\r",
      "Step 3/3 :  32%|███▏      | 1580/5000 [00:26<00:51, 66.17it/s]"
     ]
    },
    {
     "name": "stderr",
     "output_type": "stream",
     "text": [
      "\r",
      "Step 3/3 :  32%|███▏      | 1580/5000 [00:26<00:51, 66.17it/s]"
     ]
    },
    {
     "name": "stderr",
     "output_type": "stream",
     "text": [
      "\r",
      "Step 3/3 :  32%|███▏      | 1580/5000 [00:26<00:51, 66.17it/s]"
     ]
    },
    {
     "name": "stderr",
     "output_type": "stream",
     "text": [
      "\r",
      "Step 3/3 :  32%|███▏      | 1587/5000 [00:26<00:51, 66.83it/s]"
     ]
    },
    {
     "name": "stderr",
     "output_type": "stream",
     "text": [
      "\r",
      "Step 3/3 :  32%|███▏      | 1587/5000 [00:26<00:51, 66.83it/s]"
     ]
    },
    {
     "name": "stderr",
     "output_type": "stream",
     "text": [
      "\r",
      "Step 3/3 :  32%|███▏      | 1587/5000 [00:26<00:51, 66.83it/s]"
     ]
    },
    {
     "name": "stderr",
     "output_type": "stream",
     "text": [
      "\r",
      "Step 3/3 :  32%|███▏      | 1587/5000 [00:26<00:51, 66.83it/s]"
     ]
    },
    {
     "name": "stderr",
     "output_type": "stream",
     "text": [
      "\r",
      "Step 3/3 :  32%|███▏      | 1587/5000 [00:27<00:51, 66.83it/s]"
     ]
    },
    {
     "name": "stderr",
     "output_type": "stream",
     "text": [
      "\r",
      "Step 3/3 :  32%|███▏      | 1587/5000 [00:27<00:51, 66.83it/s]"
     ]
    },
    {
     "name": "stderr",
     "output_type": "stream",
     "text": [
      "\r",
      "Step 3/3 :  32%|███▏      | 1587/5000 [00:27<00:51, 66.83it/s]"
     ]
    },
    {
     "name": "stderr",
     "output_type": "stream",
     "text": [
      "\r",
      "Step 3/3 :  32%|███▏      | 1587/5000 [00:27<00:51, 66.83it/s]"
     ]
    },
    {
     "name": "stderr",
     "output_type": "stream",
     "text": [
      "\r",
      "Step 3/3 :  32%|███▏      | 1594/5000 [00:27<00:50, 66.79it/s]"
     ]
    },
    {
     "name": "stderr",
     "output_type": "stream",
     "text": [
      "\r",
      "Step 3/3 :  32%|███▏      | 1594/5000 [00:27<00:50, 66.79it/s]"
     ]
    },
    {
     "name": "stderr",
     "output_type": "stream",
     "text": [
      "\r",
      "Step 3/3 :  32%|███▏      | 1594/5000 [00:27<00:50, 66.79it/s]"
     ]
    },
    {
     "name": "stderr",
     "output_type": "stream",
     "text": [
      "\r",
      "Step 3/3 :  32%|███▏      | 1594/5000 [00:27<00:50, 66.79it/s]"
     ]
    },
    {
     "name": "stderr",
     "output_type": "stream",
     "text": [
      "\r",
      "Step 3/3 :  32%|███▏      | 1594/5000 [00:27<00:50, 66.79it/s]"
     ]
    },
    {
     "name": "stderr",
     "output_type": "stream",
     "text": [
      "\r",
      "Step 3/3 :  32%|███▏      | 1594/5000 [00:27<00:50, 66.79it/s]"
     ]
    },
    {
     "name": "stderr",
     "output_type": "stream",
     "text": [
      "\r",
      "Step 3/3 :  32%|███▏      | 1594/5000 [00:27<00:50, 66.79it/s]"
     ]
    },
    {
     "name": "stderr",
     "output_type": "stream",
     "text": [
      "\r",
      "Step 3/3 :  32%|███▏      | 1594/5000 [00:27<00:50, 66.79it/s]"
     ]
    },
    {
     "name": "stderr",
     "output_type": "stream",
     "text": [
      "\r",
      "Step 3/3 :  32%|███▏      | 1601/5000 [00:27<00:50, 67.49it/s]"
     ]
    },
    {
     "name": "stderr",
     "output_type": "stream",
     "text": [
      "\r",
      "Step 3/3 :  32%|███▏      | 1601/5000 [00:27<00:50, 67.49it/s]"
     ]
    },
    {
     "name": "stderr",
     "output_type": "stream",
     "text": [
      "\r",
      "Step 3/3 :  32%|███▏      | 1601/5000 [00:27<00:50, 67.49it/s]"
     ]
    },
    {
     "name": "stderr",
     "output_type": "stream",
     "text": [
      "\r",
      "Step 3/3 :  32%|███▏      | 1601/5000 [00:27<00:50, 67.49it/s]"
     ]
    },
    {
     "name": "stderr",
     "output_type": "stream",
     "text": [
      "\r",
      "Step 3/3 :  32%|███▏      | 1601/5000 [00:27<00:50, 67.49it/s]"
     ]
    },
    {
     "name": "stderr",
     "output_type": "stream",
     "text": [
      "\r",
      "Step 3/3 :  32%|███▏      | 1601/5000 [00:27<00:50, 67.49it/s]"
     ]
    },
    {
     "name": "stderr",
     "output_type": "stream",
     "text": [
      "\r",
      "Step 3/3 :  32%|███▏      | 1601/5000 [00:27<00:50, 67.49it/s]"
     ]
    },
    {
     "name": "stderr",
     "output_type": "stream",
     "text": [
      "\r",
      "Step 3/3 :  32%|███▏      | 1601/5000 [00:27<00:50, 67.49it/s]"
     ]
    },
    {
     "name": "stderr",
     "output_type": "stream",
     "text": [
      "\r",
      "Step 3/3 :  32%|███▏      | 1608/5000 [00:27<00:50, 67.44it/s]"
     ]
    },
    {
     "name": "stderr",
     "output_type": "stream",
     "text": [
      "\r",
      "Step 3/3 :  32%|███▏      | 1608/5000 [00:27<00:50, 67.44it/s]"
     ]
    },
    {
     "name": "stderr",
     "output_type": "stream",
     "text": [
      "\r",
      "Step 3/3 :  32%|███▏      | 1608/5000 [00:27<00:50, 67.44it/s]"
     ]
    },
    {
     "name": "stderr",
     "output_type": "stream",
     "text": [
      "\r",
      "Step 3/3 :  32%|███▏      | 1608/5000 [00:27<00:50, 67.44it/s]"
     ]
    },
    {
     "name": "stderr",
     "output_type": "stream",
     "text": [
      "\r",
      "Step 3/3 :  32%|███▏      | 1608/5000 [00:27<00:50, 67.44it/s]"
     ]
    },
    {
     "name": "stderr",
     "output_type": "stream",
     "text": [
      "\r",
      "Step 3/3 :  32%|███▏      | 1608/5000 [00:27<00:50, 67.44it/s]"
     ]
    },
    {
     "name": "stderr",
     "output_type": "stream",
     "text": [
      "\r",
      "Step 3/3 :  32%|███▏      | 1608/5000 [00:27<00:50, 67.44it/s]"
     ]
    },
    {
     "name": "stderr",
     "output_type": "stream",
     "text": [
      "\r",
      "Step 3/3 :  32%|███▏      | 1608/5000 [00:27<00:50, 67.44it/s]"
     ]
    },
    {
     "name": "stderr",
     "output_type": "stream",
     "text": [
      "\r",
      "Step 3/3 :  32%|███▏      | 1608/5000 [00:27<00:50, 67.44it/s]"
     ]
    },
    {
     "name": "stderr",
     "output_type": "stream",
     "text": [
      "\r",
      "Step 3/3 :  32%|███▏      | 1616/5000 [00:27<00:48, 70.24it/s]"
     ]
    },
    {
     "name": "stderr",
     "output_type": "stream",
     "text": [
      "\r",
      "Step 3/3 :  32%|███▏      | 1616/5000 [00:27<00:48, 70.24it/s]"
     ]
    },
    {
     "name": "stderr",
     "output_type": "stream",
     "text": [
      "\r",
      "Step 3/3 :  32%|███▏      | 1616/5000 [00:27<00:48, 70.24it/s]"
     ]
    },
    {
     "name": "stderr",
     "output_type": "stream",
     "text": [
      "\r",
      "Step 3/3 :  32%|███▏      | 1616/5000 [00:27<00:48, 70.24it/s]"
     ]
    },
    {
     "name": "stderr",
     "output_type": "stream",
     "text": [
      "\r",
      "Step 3/3 :  32%|███▏      | 1616/5000 [00:27<00:48, 70.24it/s]"
     ]
    },
    {
     "name": "stderr",
     "output_type": "stream",
     "text": [
      "\r",
      "Step 3/3 :  32%|███▏      | 1616/5000 [00:27<00:48, 70.24it/s]"
     ]
    },
    {
     "name": "stderr",
     "output_type": "stream",
     "text": [
      "\r",
      "Step 3/3 :  32%|███▏      | 1616/5000 [00:27<00:48, 70.24it/s]"
     ]
    },
    {
     "name": "stderr",
     "output_type": "stream",
     "text": [
      "\r",
      "Step 3/3 :  32%|███▏      | 1616/5000 [00:27<00:48, 70.24it/s]"
     ]
    },
    {
     "name": "stderr",
     "output_type": "stream",
     "text": [
      "\r",
      "Step 3/3 :  32%|███▏      | 1616/5000 [00:27<00:48, 70.24it/s]"
     ]
    },
    {
     "name": "stderr",
     "output_type": "stream",
     "text": [
      "\r",
      "Step 3/3 :  32%|███▏      | 1616/5000 [00:27<00:48, 70.24it/s]"
     ]
    },
    {
     "name": "stderr",
     "output_type": "stream",
     "text": [
      "\r",
      "Step 3/3 :  32%|███▎      | 1625/5000 [00:27<00:46, 73.19it/s]"
     ]
    },
    {
     "name": "stderr",
     "output_type": "stream",
     "text": [
      "\r",
      "Step 3/3 :  32%|███▎      | 1625/5000 [00:27<00:46, 73.19it/s]"
     ]
    },
    {
     "name": "stderr",
     "output_type": "stream",
     "text": [
      "\r",
      "Step 3/3 :  32%|███▎      | 1625/5000 [00:27<00:46, 73.19it/s]"
     ]
    },
    {
     "name": "stderr",
     "output_type": "stream",
     "text": [
      "\r",
      "Step 3/3 :  32%|███▎      | 1625/5000 [00:27<00:46, 73.19it/s]"
     ]
    },
    {
     "name": "stderr",
     "output_type": "stream",
     "text": [
      "\r",
      "Step 3/3 :  32%|███▎      | 1625/5000 [00:27<00:46, 73.19it/s]"
     ]
    },
    {
     "name": "stderr",
     "output_type": "stream",
     "text": [
      "\r",
      "Step 3/3 :  32%|███▎      | 1625/5000 [00:27<00:46, 73.19it/s]"
     ]
    },
    {
     "name": "stderr",
     "output_type": "stream",
     "text": [
      "\r",
      "Step 3/3 :  32%|███▎      | 1625/5000 [00:27<00:46, 73.19it/s]"
     ]
    },
    {
     "name": "stderr",
     "output_type": "stream",
     "text": [
      "\r",
      "Step 3/3 :  32%|███▎      | 1625/5000 [00:27<00:46, 73.19it/s]"
     ]
    },
    {
     "name": "stderr",
     "output_type": "stream",
     "text": [
      "\r",
      "Step 3/3 :  32%|███▎      | 1625/5000 [00:27<00:46, 73.19it/s]"
     ]
    },
    {
     "name": "stderr",
     "output_type": "stream",
     "text": [
      "\r",
      "Step 3/3 :  33%|███▎      | 1633/5000 [00:27<00:45, 73.87it/s]"
     ]
    },
    {
     "name": "stderr",
     "output_type": "stream",
     "text": [
      "\r",
      "Step 3/3 :  33%|███▎      | 1633/5000 [00:27<00:45, 73.87it/s]"
     ]
    },
    {
     "name": "stderr",
     "output_type": "stream",
     "text": [
      "\r",
      "Step 3/3 :  33%|███▎      | 1633/5000 [00:27<00:45, 73.87it/s]"
     ]
    },
    {
     "name": "stderr",
     "output_type": "stream",
     "text": [
      "\r",
      "Step 3/3 :  33%|███▎      | 1633/5000 [00:27<00:45, 73.87it/s]"
     ]
    },
    {
     "name": "stderr",
     "output_type": "stream",
     "text": [
      "\r",
      "Step 3/3 :  33%|███▎      | 1633/5000 [00:27<00:45, 73.87it/s]"
     ]
    },
    {
     "name": "stderr",
     "output_type": "stream",
     "text": [
      "\r",
      "Step 3/3 :  33%|███▎      | 1633/5000 [00:27<00:45, 73.87it/s]"
     ]
    },
    {
     "name": "stderr",
     "output_type": "stream",
     "text": [
      "\r",
      "Step 3/3 :  33%|███▎      | 1633/5000 [00:27<00:45, 73.87it/s]"
     ]
    },
    {
     "name": "stderr",
     "output_type": "stream",
     "text": [
      "\r",
      "Step 3/3 :  33%|███▎      | 1633/5000 [00:27<00:45, 73.87it/s]"
     ]
    },
    {
     "name": "stderr",
     "output_type": "stream",
     "text": [
      "\r",
      "Step 3/3 :  33%|███▎      | 1633/5000 [00:27<00:45, 73.87it/s]"
     ]
    },
    {
     "name": "stderr",
     "output_type": "stream",
     "text": [
      "\r",
      "Step 3/3 :  33%|███▎      | 1633/5000 [00:27<00:45, 73.87it/s]"
     ]
    },
    {
     "name": "stderr",
     "output_type": "stream",
     "text": [
      "\r",
      "Step 3/3 :  33%|███▎      | 1642/5000 [00:27<00:43, 77.56it/s]"
     ]
    },
    {
     "name": "stderr",
     "output_type": "stream",
     "text": [
      "\r",
      "Step 3/3 :  33%|███▎      | 1642/5000 [00:27<00:43, 77.56it/s]"
     ]
    },
    {
     "name": "stderr",
     "output_type": "stream",
     "text": [
      "\r",
      "Step 3/3 :  33%|███▎      | 1642/5000 [00:27<00:43, 77.56it/s]"
     ]
    },
    {
     "name": "stderr",
     "output_type": "stream",
     "text": [
      "\r",
      "Step 3/3 :  33%|███▎      | 1642/5000 [00:27<00:43, 77.56it/s]"
     ]
    },
    {
     "name": "stderr",
     "output_type": "stream",
     "text": [
      "\r",
      "Step 3/3 :  33%|███▎      | 1642/5000 [00:27<00:43, 77.56it/s]"
     ]
    },
    {
     "name": "stderr",
     "output_type": "stream",
     "text": [
      "\r",
      "Step 3/3 :  33%|███▎      | 1642/5000 [00:27<00:43, 77.56it/s]"
     ]
    },
    {
     "name": "stderr",
     "output_type": "stream",
     "text": [
      "\r",
      "Step 3/3 :  33%|███▎      | 1642/5000 [00:27<00:43, 77.56it/s]"
     ]
    },
    {
     "name": "stderr",
     "output_type": "stream",
     "text": [
      "\r",
      "Step 3/3 :  33%|███▎      | 1642/5000 [00:27<00:43, 77.56it/s]"
     ]
    },
    {
     "name": "stderr",
     "output_type": "stream",
     "text": [
      "\r",
      "Step 3/3 :  33%|███▎      | 1642/5000 [00:27<00:43, 77.56it/s]"
     ]
    },
    {
     "name": "stderr",
     "output_type": "stream",
     "text": [
      "\r",
      "Step 3/3 :  33%|███▎      | 1642/5000 [00:27<00:43, 77.56it/s]"
     ]
    },
    {
     "name": "stderr",
     "output_type": "stream",
     "text": [
      "\r",
      "Step 3/3 :  33%|███▎      | 1651/5000 [00:27<00:42, 79.31it/s]"
     ]
    },
    {
     "name": "stderr",
     "output_type": "stream",
     "text": [
      "\r",
      "Step 3/3 :  33%|███▎      | 1651/5000 [00:27<00:42, 79.31it/s]"
     ]
    },
    {
     "name": "stderr",
     "output_type": "stream",
     "text": [
      "\r",
      "Step 3/3 :  33%|███▎      | 1651/5000 [00:27<00:42, 79.31it/s]"
     ]
    },
    {
     "name": "stderr",
     "output_type": "stream",
     "text": [
      "\r",
      "Step 3/3 :  33%|███▎      | 1651/5000 [00:27<00:42, 79.31it/s]"
     ]
    },
    {
     "name": "stderr",
     "output_type": "stream",
     "text": [
      "\r",
      "Step 3/3 :  33%|███▎      | 1651/5000 [00:27<00:42, 79.31it/s]"
     ]
    },
    {
     "name": "stderr",
     "output_type": "stream",
     "text": [
      "\r",
      "Step 3/3 :  33%|███▎      | 1651/5000 [00:27<00:42, 79.31it/s]"
     ]
    },
    {
     "name": "stderr",
     "output_type": "stream",
     "text": [
      "\r",
      "Step 3/3 :  33%|███▎      | 1651/5000 [00:27<00:42, 79.31it/s]"
     ]
    },
    {
     "name": "stderr",
     "output_type": "stream",
     "text": [
      "\r",
      "Step 3/3 :  33%|███▎      | 1651/5000 [00:27<00:42, 79.31it/s]"
     ]
    },
    {
     "name": "stderr",
     "output_type": "stream",
     "text": [
      "\r",
      "Step 3/3 :  33%|███▎      | 1651/5000 [00:27<00:42, 79.31it/s]"
     ]
    },
    {
     "name": "stderr",
     "output_type": "stream",
     "text": [
      "\r",
      "Step 3/3 :  33%|███▎      | 1651/5000 [00:27<00:42, 79.31it/s]"
     ]
    },
    {
     "name": "stderr",
     "output_type": "stream",
     "text": [
      "\r",
      "Step 3/3 :  33%|███▎      | 1660/5000 [00:27<00:40, 81.66it/s]"
     ]
    },
    {
     "name": "stderr",
     "output_type": "stream",
     "text": [
      "\r",
      "Step 3/3 :  33%|███▎      | 1660/5000 [00:27<00:40, 81.66it/s]"
     ]
    },
    {
     "name": "stderr",
     "output_type": "stream",
     "text": [
      "\r",
      "Step 3/3 :  33%|███▎      | 1660/5000 [00:27<00:40, 81.66it/s]"
     ]
    },
    {
     "name": "stderr",
     "output_type": "stream",
     "text": [
      "\r",
      "Step 3/3 :  33%|███▎      | 1660/5000 [00:27<00:40, 81.66it/s]"
     ]
    },
    {
     "name": "stderr",
     "output_type": "stream",
     "text": [
      "\r",
      "Step 3/3 :  33%|███▎      | 1660/5000 [00:27<00:40, 81.66it/s]"
     ]
    },
    {
     "name": "stderr",
     "output_type": "stream",
     "text": [
      "\r",
      "Step 3/3 :  33%|███▎      | 1660/5000 [00:27<00:40, 81.66it/s]"
     ]
    },
    {
     "name": "stderr",
     "output_type": "stream",
     "text": [
      "\r",
      "Step 3/3 :  33%|███▎      | 1660/5000 [00:27<00:40, 81.66it/s]"
     ]
    },
    {
     "name": "stderr",
     "output_type": "stream",
     "text": [
      "\r",
      "Step 3/3 :  33%|███▎      | 1660/5000 [00:27<00:40, 81.66it/s]"
     ]
    },
    {
     "name": "stderr",
     "output_type": "stream",
     "text": [
      "\r",
      "Step 3/3 :  33%|███▎      | 1660/5000 [00:27<00:40, 81.66it/s]"
     ]
    },
    {
     "name": "stderr",
     "output_type": "stream",
     "text": [
      "\r",
      "Step 3/3 :  33%|███▎      | 1660/5000 [00:27<00:40, 81.66it/s]"
     ]
    },
    {
     "name": "stderr",
     "output_type": "stream",
     "text": [
      "\r",
      "Step 3/3 :  33%|███▎      | 1669/5000 [00:28<00:40, 82.64it/s]"
     ]
    },
    {
     "name": "stderr",
     "output_type": "stream",
     "text": [
      "\r",
      "Step 3/3 :  33%|███▎      | 1669/5000 [00:28<00:40, 82.64it/s]"
     ]
    },
    {
     "name": "stderr",
     "output_type": "stream",
     "text": [
      "\r",
      "Step 3/3 :  33%|███▎      | 1669/5000 [00:28<00:40, 82.64it/s]"
     ]
    },
    {
     "name": "stderr",
     "output_type": "stream",
     "text": [
      "\r",
      "Step 3/3 :  33%|███▎      | 1669/5000 [00:28<00:40, 82.64it/s]"
     ]
    },
    {
     "name": "stderr",
     "output_type": "stream",
     "text": [
      "\r",
      "Step 3/3 :  33%|███▎      | 1669/5000 [00:28<00:40, 82.64it/s]"
     ]
    },
    {
     "name": "stderr",
     "output_type": "stream",
     "text": [
      "\r",
      "Step 3/3 :  33%|███▎      | 1669/5000 [00:28<00:40, 82.64it/s]"
     ]
    },
    {
     "name": "stderr",
     "output_type": "stream",
     "text": [
      "\r",
      "Step 3/3 :  33%|███▎      | 1669/5000 [00:28<00:40, 82.64it/s]"
     ]
    },
    {
     "name": "stderr",
     "output_type": "stream",
     "text": [
      "\r",
      "Step 3/3 :  33%|███▎      | 1669/5000 [00:28<00:40, 82.64it/s]"
     ]
    },
    {
     "name": "stderr",
     "output_type": "stream",
     "text": [
      "\r",
      "Step 3/3 :  33%|███▎      | 1669/5000 [00:28<00:40, 82.64it/s]"
     ]
    },
    {
     "name": "stderr",
     "output_type": "stream",
     "text": [
      "\r",
      "Step 3/3 :  33%|███▎      | 1669/5000 [00:28<00:40, 82.64it/s]"
     ]
    },
    {
     "name": "stderr",
     "output_type": "stream",
     "text": [
      "\r",
      "Step 3/3 :  33%|███▎      | 1669/5000 [00:28<00:40, 82.64it/s]"
     ]
    },
    {
     "name": "stderr",
     "output_type": "stream",
     "text": [
      "\r",
      "Step 3/3 :  34%|███▎      | 1679/5000 [00:28<00:38, 85.19it/s]"
     ]
    },
    {
     "name": "stderr",
     "output_type": "stream",
     "text": [
      "\r",
      "Step 3/3 :  34%|███▎      | 1679/5000 [00:28<00:38, 85.19it/s]"
     ]
    },
    {
     "name": "stderr",
     "output_type": "stream",
     "text": [
      "\r",
      "Step 3/3 :  34%|███▎      | 1679/5000 [00:28<00:38, 85.19it/s]"
     ]
    },
    {
     "name": "stderr",
     "output_type": "stream",
     "text": [
      "\r",
      "Step 3/3 :  34%|███▎      | 1679/5000 [00:28<00:38, 85.19it/s]"
     ]
    },
    {
     "name": "stderr",
     "output_type": "stream",
     "text": [
      "\r",
      "Step 3/3 :  34%|███▎      | 1679/5000 [00:28<00:38, 85.19it/s]"
     ]
    },
    {
     "name": "stderr",
     "output_type": "stream",
     "text": [
      "\r",
      "Step 3/3 :  34%|███▎      | 1679/5000 [00:28<00:38, 85.19it/s]"
     ]
    },
    {
     "name": "stderr",
     "output_type": "stream",
     "text": [
      "\r",
      "Step 3/3 :  34%|███▎      | 1679/5000 [00:28<00:38, 85.19it/s]"
     ]
    },
    {
     "name": "stderr",
     "output_type": "stream",
     "text": [
      "\r",
      "Step 3/3 :  34%|███▎      | 1679/5000 [00:28<00:38, 85.19it/s]"
     ]
    },
    {
     "name": "stderr",
     "output_type": "stream",
     "text": [
      "\r",
      "Step 3/3 :  34%|███▎      | 1679/5000 [00:28<00:38, 85.19it/s]"
     ]
    },
    {
     "name": "stderr",
     "output_type": "stream",
     "text": [
      "\r",
      "Step 3/3 :  34%|███▎      | 1679/5000 [00:28<00:38, 85.19it/s]"
     ]
    },
    {
     "name": "stderr",
     "output_type": "stream",
     "text": [
      "\r",
      "Step 3/3 :  34%|███▍      | 1688/5000 [00:28<00:38, 86.07it/s]"
     ]
    },
    {
     "name": "stderr",
     "output_type": "stream",
     "text": [
      "\r",
      "Step 3/3 :  34%|███▍      | 1688/5000 [00:28<00:38, 86.07it/s]"
     ]
    },
    {
     "name": "stderr",
     "output_type": "stream",
     "text": [
      "\r",
      "Step 3/3 :  34%|███▍      | 1688/5000 [00:28<00:38, 86.07it/s]"
     ]
    },
    {
     "name": "stderr",
     "output_type": "stream",
     "text": [
      "\r",
      "Step 3/3 :  34%|███▍      | 1688/5000 [00:28<00:38, 86.07it/s]"
     ]
    },
    {
     "name": "stderr",
     "output_type": "stream",
     "text": [
      "\r",
      "Step 3/3 :  34%|███▍      | 1688/5000 [00:28<00:38, 86.07it/s]"
     ]
    },
    {
     "name": "stderr",
     "output_type": "stream",
     "text": [
      "\r",
      "Step 3/3 :  34%|███▍      | 1688/5000 [00:28<00:38, 86.07it/s]"
     ]
    },
    {
     "name": "stderr",
     "output_type": "stream",
     "text": [
      "\r",
      "Step 3/3 :  34%|███▍      | 1688/5000 [00:28<00:38, 86.07it/s]"
     ]
    },
    {
     "name": "stderr",
     "output_type": "stream",
     "text": [
      "\r",
      "Step 3/3 :  34%|███▍      | 1688/5000 [00:28<00:38, 86.07it/s]"
     ]
    },
    {
     "name": "stderr",
     "output_type": "stream",
     "text": [
      "\r",
      "Step 3/3 :  34%|███▍      | 1688/5000 [00:28<00:38, 86.07it/s]"
     ]
    },
    {
     "name": "stderr",
     "output_type": "stream",
     "text": [
      "\r",
      "Step 3/3 :  34%|███▍      | 1688/5000 [00:28<00:38, 86.07it/s]"
     ]
    },
    {
     "name": "stderr",
     "output_type": "stream",
     "text": [
      "\r",
      "Step 3/3 :  34%|███▍      | 1697/5000 [00:28<00:39, 83.36it/s]"
     ]
    },
    {
     "name": "stderr",
     "output_type": "stream",
     "text": [
      "\r",
      "Step 3/3 :  34%|███▍      | 1697/5000 [00:28<00:39, 83.36it/s]"
     ]
    },
    {
     "name": "stderr",
     "output_type": "stream",
     "text": [
      "\r",
      "Step 3/3 :  34%|███▍      | 1697/5000 [00:28<00:39, 83.36it/s]"
     ]
    },
    {
     "name": "stderr",
     "output_type": "stream",
     "text": [
      "\r",
      "Step 3/3 :  34%|███▍      | 1697/5000 [00:28<00:39, 83.36it/s]"
     ]
    },
    {
     "name": "stderr",
     "output_type": "stream",
     "text": [
      "\r",
      "Step 3/3 :  34%|███▍      | 1697/5000 [00:28<00:39, 83.36it/s]"
     ]
    },
    {
     "name": "stderr",
     "output_type": "stream",
     "text": [
      "\r",
      "Step 3/3 :  34%|███▍      | 1697/5000 [00:28<00:39, 83.36it/s]"
     ]
    },
    {
     "name": "stderr",
     "output_type": "stream",
     "text": [
      "\r",
      "Step 3/3 :  34%|███▍      | 1697/5000 [00:28<00:39, 83.36it/s]"
     ]
    },
    {
     "name": "stderr",
     "output_type": "stream",
     "text": [
      "\r",
      "Step 3/3 :  34%|███▍      | 1697/5000 [00:28<00:39, 83.36it/s]"
     ]
    },
    {
     "name": "stderr",
     "output_type": "stream",
     "text": [
      "\r",
      "Step 3/3 :  34%|███▍      | 1697/5000 [00:28<00:39, 83.36it/s]"
     ]
    },
    {
     "name": "stderr",
     "output_type": "stream",
     "text": [
      "\r",
      "Step 3/3 :  34%|███▍      | 1697/5000 [00:28<00:39, 83.36it/s]"
     ]
    },
    {
     "name": "stderr",
     "output_type": "stream",
     "text": [
      "\r",
      "Step 3/3 :  34%|███▍      | 1706/5000 [00:28<00:41, 78.98it/s]"
     ]
    },
    {
     "name": "stderr",
     "output_type": "stream",
     "text": [
      "\r",
      "Step 3/3 :  34%|███▍      | 1706/5000 [00:28<00:41, 78.98it/s]"
     ]
    },
    {
     "name": "stderr",
     "output_type": "stream",
     "text": [
      "\r",
      "Step 3/3 :  34%|███▍      | 1706/5000 [00:28<00:41, 78.98it/s]"
     ]
    },
    {
     "name": "stderr",
     "output_type": "stream",
     "text": [
      "\r",
      "Step 3/3 :  34%|███▍      | 1706/5000 [00:28<00:41, 78.98it/s]"
     ]
    },
    {
     "name": "stderr",
     "output_type": "stream",
     "text": [
      "\r",
      "Step 3/3 :  34%|███▍      | 1706/5000 [00:28<00:41, 78.98it/s]"
     ]
    },
    {
     "name": "stderr",
     "output_type": "stream",
     "text": [
      "\r",
      "Step 3/3 :  34%|███▍      | 1706/5000 [00:28<00:41, 78.98it/s]"
     ]
    },
    {
     "name": "stderr",
     "output_type": "stream",
     "text": [
      "\r",
      "Step 3/3 :  34%|███▍      | 1706/5000 [00:28<00:41, 78.98it/s]"
     ]
    },
    {
     "name": "stderr",
     "output_type": "stream",
     "text": [
      "\r",
      "Step 3/3 :  34%|███▍      | 1706/5000 [00:28<00:41, 78.98it/s]"
     ]
    },
    {
     "name": "stderr",
     "output_type": "stream",
     "text": [
      "\r",
      "Step 3/3 :  34%|███▍      | 1706/5000 [00:28<00:41, 78.98it/s]"
     ]
    },
    {
     "name": "stderr",
     "output_type": "stream",
     "text": [
      "\r",
      "Step 3/3 :  34%|███▍      | 1714/5000 [00:28<00:49, 66.41it/s]"
     ]
    },
    {
     "name": "stderr",
     "output_type": "stream",
     "text": [
      "\r",
      "Step 3/3 :  34%|███▍      | 1714/5000 [00:28<00:49, 66.41it/s]"
     ]
    },
    {
     "name": "stderr",
     "output_type": "stream",
     "text": [
      "\r",
      "Step 3/3 :  34%|███▍      | 1714/5000 [00:28<00:49, 66.41it/s]"
     ]
    },
    {
     "name": "stderr",
     "output_type": "stream",
     "text": [
      "\r",
      "Step 3/3 :  34%|███▍      | 1714/5000 [00:28<00:49, 66.41it/s]"
     ]
    },
    {
     "name": "stderr",
     "output_type": "stream",
     "text": [
      "\r",
      "Step 3/3 :  34%|███▍      | 1714/5000 [00:28<00:49, 66.41it/s]"
     ]
    },
    {
     "name": "stderr",
     "output_type": "stream",
     "text": [
      "\r",
      "Step 3/3 :  34%|███▍      | 1714/5000 [00:28<00:49, 66.41it/s]"
     ]
    },
    {
     "name": "stderr",
     "output_type": "stream",
     "text": [
      "\r",
      "Step 3/3 :  34%|███▍      | 1714/5000 [00:28<00:49, 66.41it/s]"
     ]
    },
    {
     "name": "stderr",
     "output_type": "stream",
     "text": [
      "\r",
      "Step 3/3 :  34%|███▍      | 1714/5000 [00:28<00:49, 66.41it/s]"
     ]
    },
    {
     "name": "stderr",
     "output_type": "stream",
     "text": [
      "\r",
      "Step 3/3 :  34%|███▍      | 1721/5000 [00:28<00:56, 58.15it/s]"
     ]
    },
    {
     "name": "stderr",
     "output_type": "stream",
     "text": [
      "\r",
      "Step 3/3 :  34%|███▍      | 1721/5000 [00:28<00:56, 58.15it/s]"
     ]
    },
    {
     "name": "stderr",
     "output_type": "stream",
     "text": [
      "\r",
      "Step 3/3 :  34%|███▍      | 1721/5000 [00:28<00:56, 58.15it/s]"
     ]
    },
    {
     "name": "stderr",
     "output_type": "stream",
     "text": [
      "\r",
      "Step 3/3 :  34%|███▍      | 1721/5000 [00:28<00:56, 58.15it/s]"
     ]
    },
    {
     "name": "stderr",
     "output_type": "stream",
     "text": [
      "\r",
      "Step 3/3 :  34%|███▍      | 1721/5000 [00:28<00:56, 58.15it/s]"
     ]
    },
    {
     "name": "stderr",
     "output_type": "stream",
     "text": [
      "\r",
      "Step 3/3 :  34%|███▍      | 1721/5000 [00:28<00:56, 58.15it/s]"
     ]
    },
    {
     "name": "stderr",
     "output_type": "stream",
     "text": [
      "\r",
      "Step 3/3 :  34%|███▍      | 1721/5000 [00:28<00:56, 58.15it/s]"
     ]
    },
    {
     "name": "stderr",
     "output_type": "stream",
     "text": [
      "\r",
      "Step 3/3 :  34%|███▍      | 1721/5000 [00:28<00:56, 58.15it/s]"
     ]
    },
    {
     "name": "stderr",
     "output_type": "stream",
     "text": [
      "\r",
      "Step 3/3 :  34%|███▍      | 1721/5000 [00:28<00:56, 58.15it/s]"
     ]
    },
    {
     "name": "stderr",
     "output_type": "stream",
     "text": [
      "\r",
      "Step 3/3 :  35%|███▍      | 1729/5000 [00:28<00:52, 61.93it/s]"
     ]
    },
    {
     "name": "stderr",
     "output_type": "stream",
     "text": [
      "\r",
      "Step 3/3 :  35%|███▍      | 1729/5000 [00:28<00:52, 61.93it/s]"
     ]
    },
    {
     "name": "stderr",
     "output_type": "stream",
     "text": [
      "\r",
      "Step 3/3 :  35%|███▍      | 1729/5000 [00:28<00:52, 61.93it/s]"
     ]
    },
    {
     "name": "stderr",
     "output_type": "stream",
     "text": [
      "\r",
      "Step 3/3 :  35%|███▍      | 1729/5000 [00:28<00:52, 61.93it/s]"
     ]
    },
    {
     "name": "stderr",
     "output_type": "stream",
     "text": [
      "\r",
      "Step 3/3 :  35%|███▍      | 1729/5000 [00:28<00:52, 61.93it/s]"
     ]
    },
    {
     "name": "stderr",
     "output_type": "stream",
     "text": [
      "\r",
      "Step 3/3 :  35%|███▍      | 1729/5000 [00:28<00:52, 61.93it/s]"
     ]
    },
    {
     "name": "stderr",
     "output_type": "stream",
     "text": [
      "\r",
      "Step 3/3 :  35%|███▍      | 1729/5000 [00:28<00:52, 61.93it/s]"
     ]
    },
    {
     "name": "stderr",
     "output_type": "stream",
     "text": [
      "\r",
      "Step 3/3 :  35%|███▍      | 1729/5000 [00:28<00:52, 61.93it/s]"
     ]
    },
    {
     "name": "stderr",
     "output_type": "stream",
     "text": [
      "\r",
      "Step 3/3 :  35%|███▍      | 1729/5000 [00:28<00:52, 61.93it/s]"
     ]
    },
    {
     "name": "stderr",
     "output_type": "stream",
     "text": [
      "\r",
      "Step 3/3 :  35%|███▍      | 1729/5000 [00:28<00:52, 61.93it/s]"
     ]
    },
    {
     "name": "stderr",
     "output_type": "stream",
     "text": [
      "\r",
      "Step 3/3 :  35%|███▍      | 1738/5000 [00:29<00:47, 68.83it/s]"
     ]
    },
    {
     "name": "stderr",
     "output_type": "stream",
     "text": [
      "\r",
      "Step 3/3 :  35%|███▍      | 1738/5000 [00:29<00:47, 68.83it/s]"
     ]
    },
    {
     "name": "stderr",
     "output_type": "stream",
     "text": [
      "\r",
      "Step 3/3 :  35%|███▍      | 1738/5000 [00:29<00:47, 68.83it/s]"
     ]
    },
    {
     "name": "stderr",
     "output_type": "stream",
     "text": [
      "\r",
      "Step 3/3 :  35%|███▍      | 1738/5000 [00:29<00:47, 68.83it/s]"
     ]
    },
    {
     "name": "stderr",
     "output_type": "stream",
     "text": [
      "\r",
      "Step 3/3 :  35%|███▍      | 1738/5000 [00:29<00:47, 68.83it/s]"
     ]
    },
    {
     "name": "stderr",
     "output_type": "stream",
     "text": [
      "\r",
      "Step 3/3 :  35%|███▍      | 1738/5000 [00:29<00:47, 68.83it/s]"
     ]
    },
    {
     "name": "stderr",
     "output_type": "stream",
     "text": [
      "\r",
      "Step 3/3 :  35%|███▍      | 1738/5000 [00:29<00:47, 68.83it/s]"
     ]
    },
    {
     "name": "stderr",
     "output_type": "stream",
     "text": [
      "\r",
      "Step 3/3 :  35%|███▍      | 1738/5000 [00:29<00:47, 68.83it/s]"
     ]
    },
    {
     "name": "stderr",
     "output_type": "stream",
     "text": [
      "\r",
      "Step 3/3 :  35%|███▍      | 1738/5000 [00:29<00:47, 68.83it/s]"
     ]
    },
    {
     "name": "stderr",
     "output_type": "stream",
     "text": [
      "\r",
      "Step 3/3 :  35%|███▍      | 1746/5000 [00:29<00:49, 65.60it/s]"
     ]
    },
    {
     "name": "stderr",
     "output_type": "stream",
     "text": [
      "\r",
      "Step 3/3 :  35%|███▍      | 1746/5000 [00:29<00:49, 65.60it/s]"
     ]
    },
    {
     "name": "stderr",
     "output_type": "stream",
     "text": [
      "\r",
      "Step 3/3 :  35%|███▍      | 1746/5000 [00:29<00:49, 65.60it/s]"
     ]
    },
    {
     "name": "stderr",
     "output_type": "stream",
     "text": [
      "\r",
      "Step 3/3 :  35%|███▍      | 1746/5000 [00:29<00:49, 65.60it/s]"
     ]
    },
    {
     "name": "stderr",
     "output_type": "stream",
     "text": [
      "\r",
      "Step 3/3 :  35%|███▍      | 1746/5000 [00:29<00:49, 65.60it/s]"
     ]
    },
    {
     "name": "stderr",
     "output_type": "stream",
     "text": [
      "\r",
      "Step 3/3 :  35%|███▍      | 1746/5000 [00:29<00:49, 65.60it/s]"
     ]
    },
    {
     "name": "stderr",
     "output_type": "stream",
     "text": [
      "\r",
      "Step 3/3 :  35%|███▍      | 1746/5000 [00:29<00:49, 65.60it/s]"
     ]
    },
    {
     "name": "stderr",
     "output_type": "stream",
     "text": [
      "\r",
      "Step 3/3 :  35%|███▍      | 1746/5000 [00:29<00:49, 65.60it/s]"
     ]
    },
    {
     "name": "stderr",
     "output_type": "stream",
     "text": [
      "\r",
      "Step 3/3 :  35%|███▍      | 1746/5000 [00:29<00:49, 65.60it/s]"
     ]
    },
    {
     "name": "stderr",
     "output_type": "stream",
     "text": [
      "\r",
      "Step 3/3 :  35%|███▌      | 1754/5000 [00:29<00:48, 67.04it/s]"
     ]
    },
    {
     "name": "stderr",
     "output_type": "stream",
     "text": [
      "\r",
      "Step 3/3 :  35%|███▌      | 1754/5000 [00:29<00:48, 67.04it/s]"
     ]
    },
    {
     "name": "stderr",
     "output_type": "stream",
     "text": [
      "\r",
      "Step 3/3 :  35%|███▌      | 1754/5000 [00:29<00:48, 67.04it/s]"
     ]
    },
    {
     "name": "stderr",
     "output_type": "stream",
     "text": [
      "\r",
      "Step 3/3 :  35%|███▌      | 1754/5000 [00:29<00:48, 67.04it/s]"
     ]
    },
    {
     "name": "stderr",
     "output_type": "stream",
     "text": [
      "\r",
      "Step 3/3 :  35%|███▌      | 1754/5000 [00:29<00:48, 67.04it/s]"
     ]
    },
    {
     "name": "stderr",
     "output_type": "stream",
     "text": [
      "\r",
      "Step 3/3 :  35%|███▌      | 1754/5000 [00:29<00:48, 67.04it/s]"
     ]
    },
    {
     "name": "stderr",
     "output_type": "stream",
     "text": [
      "\r",
      "Step 3/3 :  35%|███▌      | 1754/5000 [00:29<00:48, 67.04it/s]"
     ]
    },
    {
     "name": "stderr",
     "output_type": "stream",
     "text": [
      "\r",
      "Step 3/3 :  35%|███▌      | 1754/5000 [00:29<00:48, 67.04it/s]"
     ]
    },
    {
     "name": "stderr",
     "output_type": "stream",
     "text": [
      "\r",
      "Step 3/3 :  35%|███▌      | 1761/5000 [00:29<00:47, 67.63it/s]"
     ]
    },
    {
     "name": "stderr",
     "output_type": "stream",
     "text": [
      "\r",
      "Step 3/3 :  35%|███▌      | 1761/5000 [00:29<00:47, 67.63it/s]"
     ]
    },
    {
     "name": "stderr",
     "output_type": "stream",
     "text": [
      "\r",
      "Step 3/3 :  35%|███▌      | 1761/5000 [00:29<00:47, 67.63it/s]"
     ]
    },
    {
     "name": "stderr",
     "output_type": "stream",
     "text": [
      "\r",
      "Step 3/3 :  35%|███▌      | 1761/5000 [00:29<00:47, 67.63it/s]"
     ]
    },
    {
     "name": "stderr",
     "output_type": "stream",
     "text": [
      "\r",
      "Step 3/3 :  35%|███▌      | 1761/5000 [00:29<00:47, 67.63it/s]"
     ]
    },
    {
     "name": "stderr",
     "output_type": "stream",
     "text": [
      "\r",
      "Step 3/3 :  35%|███▌      | 1761/5000 [00:29<00:47, 67.63it/s]"
     ]
    },
    {
     "name": "stderr",
     "output_type": "stream",
     "text": [
      "\r",
      "Step 3/3 :  35%|███▌      | 1761/5000 [00:29<00:47, 67.63it/s]"
     ]
    },
    {
     "name": "stderr",
     "output_type": "stream",
     "text": [
      "\r",
      "Step 3/3 :  35%|███▌      | 1761/5000 [00:29<00:47, 67.63it/s]"
     ]
    },
    {
     "name": "stderr",
     "output_type": "stream",
     "text": [
      "\r",
      "Step 3/3 :  35%|███▌      | 1768/5000 [00:29<00:47, 67.36it/s]"
     ]
    },
    {
     "name": "stderr",
     "output_type": "stream",
     "text": [
      "\r",
      "Step 3/3 :  35%|███▌      | 1768/5000 [00:29<00:47, 67.36it/s]"
     ]
    },
    {
     "name": "stderr",
     "output_type": "stream",
     "text": [
      "\r",
      "Step 3/3 :  35%|███▌      | 1768/5000 [00:29<00:47, 67.36it/s]"
     ]
    },
    {
     "name": "stderr",
     "output_type": "stream",
     "text": [
      "\r",
      "Step 3/3 :  35%|███▌      | 1768/5000 [00:29<00:47, 67.36it/s]"
     ]
    },
    {
     "name": "stderr",
     "output_type": "stream",
     "text": [
      "\r",
      "Step 3/3 :  35%|███▌      | 1768/5000 [00:29<00:47, 67.36it/s]"
     ]
    },
    {
     "name": "stderr",
     "output_type": "stream",
     "text": [
      "\r",
      "Step 3/3 :  35%|███▌      | 1768/5000 [00:29<00:47, 67.36it/s]"
     ]
    },
    {
     "name": "stderr",
     "output_type": "stream",
     "text": [
      "\r",
      "Step 3/3 :  35%|███▌      | 1768/5000 [00:29<00:47, 67.36it/s]"
     ]
    },
    {
     "name": "stderr",
     "output_type": "stream",
     "text": [
      "\r",
      "Step 3/3 :  35%|███▌      | 1768/5000 [00:29<00:47, 67.36it/s]"
     ]
    },
    {
     "name": "stderr",
     "output_type": "stream",
     "text": [
      "\r",
      "Step 3/3 :  36%|███▌      | 1775/5000 [00:29<00:48, 66.98it/s]"
     ]
    },
    {
     "name": "stderr",
     "output_type": "stream",
     "text": [
      "\r",
      "Step 3/3 :  36%|███▌      | 1775/5000 [00:29<00:48, 66.98it/s]"
     ]
    },
    {
     "name": "stderr",
     "output_type": "stream",
     "text": [
      "\r",
      "Step 3/3 :  36%|███▌      | 1775/5000 [00:29<00:48, 66.98it/s]"
     ]
    },
    {
     "name": "stderr",
     "output_type": "stream",
     "text": [
      "\r",
      "Step 3/3 :  36%|███▌      | 1775/5000 [00:29<00:48, 66.98it/s]"
     ]
    },
    {
     "name": "stderr",
     "output_type": "stream",
     "text": [
      "\r",
      "Step 3/3 :  36%|███▌      | 1775/5000 [00:29<00:48, 66.98it/s]"
     ]
    },
    {
     "name": "stderr",
     "output_type": "stream",
     "text": [
      "\r",
      "Step 3/3 :  36%|███▌      | 1775/5000 [00:29<00:48, 66.98it/s]"
     ]
    },
    {
     "name": "stderr",
     "output_type": "stream",
     "text": [
      "\r",
      "Step 3/3 :  36%|███▌      | 1775/5000 [00:29<00:48, 66.98it/s]"
     ]
    },
    {
     "name": "stderr",
     "output_type": "stream",
     "text": [
      "\r",
      "Step 3/3 :  36%|███▌      | 1775/5000 [00:29<00:48, 66.98it/s]"
     ]
    },
    {
     "name": "stderr",
     "output_type": "stream",
     "text": [
      "\r",
      "Step 3/3 :  36%|███▌      | 1775/5000 [00:29<00:48, 66.98it/s]"
     ]
    },
    {
     "name": "stderr",
     "output_type": "stream",
     "text": [
      "\r",
      "Step 3/3 :  36%|███▌      | 1783/5000 [00:29<00:45, 70.06it/s]"
     ]
    },
    {
     "name": "stderr",
     "output_type": "stream",
     "text": [
      "\r",
      "Step 3/3 :  36%|███▌      | 1783/5000 [00:29<00:45, 70.06it/s]"
     ]
    },
    {
     "name": "stderr",
     "output_type": "stream",
     "text": [
      "\r",
      "Step 3/3 :  36%|███▌      | 1783/5000 [00:29<00:45, 70.06it/s]"
     ]
    },
    {
     "name": "stderr",
     "output_type": "stream",
     "text": [
      "\r",
      "Step 3/3 :  36%|███▌      | 1783/5000 [00:29<00:45, 70.06it/s]"
     ]
    },
    {
     "name": "stderr",
     "output_type": "stream",
     "text": [
      "\r",
      "Step 3/3 :  36%|███▌      | 1783/5000 [00:29<00:45, 70.06it/s]"
     ]
    },
    {
     "name": "stderr",
     "output_type": "stream",
     "text": [
      "\r",
      "Step 3/3 :  36%|███▌      | 1783/5000 [00:29<00:45, 70.06it/s]"
     ]
    },
    {
     "name": "stderr",
     "output_type": "stream",
     "text": [
      "\r",
      "Step 3/3 :  36%|███▌      | 1783/5000 [00:29<00:45, 70.06it/s]"
     ]
    },
    {
     "name": "stderr",
     "output_type": "stream",
     "text": [
      "\r",
      "Step 3/3 :  36%|███▌      | 1783/5000 [00:29<00:45, 70.06it/s]"
     ]
    },
    {
     "name": "stderr",
     "output_type": "stream",
     "text": [
      "\r",
      "Step 3/3 :  36%|███▌      | 1783/5000 [00:29<00:45, 70.06it/s]"
     ]
    },
    {
     "name": "stderr",
     "output_type": "stream",
     "text": [
      "\r",
      "Step 3/3 :  36%|███▌      | 1783/5000 [00:29<00:45, 70.06it/s]"
     ]
    },
    {
     "name": "stderr",
     "output_type": "stream",
     "text": [
      "\r",
      "Step 3/3 :  36%|███▌      | 1792/5000 [00:29<00:42, 75.50it/s]"
     ]
    },
    {
     "name": "stderr",
     "output_type": "stream",
     "text": [
      "\r",
      "Step 3/3 :  36%|███▌      | 1792/5000 [00:29<00:42, 75.50it/s]"
     ]
    },
    {
     "name": "stderr",
     "output_type": "stream",
     "text": [
      "\r",
      "Step 3/3 :  36%|███▌      | 1792/5000 [00:29<00:42, 75.50it/s]"
     ]
    },
    {
     "name": "stderr",
     "output_type": "stream",
     "text": [
      "\r",
      "Step 3/3 :  36%|███▌      | 1792/5000 [00:29<00:42, 75.50it/s]"
     ]
    },
    {
     "name": "stderr",
     "output_type": "stream",
     "text": [
      "\r",
      "Step 3/3 :  36%|███▌      | 1792/5000 [00:29<00:42, 75.50it/s]"
     ]
    },
    {
     "name": "stderr",
     "output_type": "stream",
     "text": [
      "\r",
      "Step 3/3 :  36%|███▌      | 1792/5000 [00:29<00:42, 75.50it/s]"
     ]
    },
    {
     "name": "stderr",
     "output_type": "stream",
     "text": [
      "\r",
      "Step 3/3 :  36%|███▌      | 1792/5000 [00:29<00:42, 75.50it/s]"
     ]
    },
    {
     "name": "stderr",
     "output_type": "stream",
     "text": [
      "\r",
      "Step 3/3 :  36%|███▌      | 1792/5000 [00:29<00:42, 75.50it/s]"
     ]
    },
    {
     "name": "stderr",
     "output_type": "stream",
     "text": [
      "\r",
      "Step 3/3 :  36%|███▌      | 1792/5000 [00:29<00:42, 75.50it/s]"
     ]
    },
    {
     "name": "stderr",
     "output_type": "stream",
     "text": [
      "\r",
      "Step 3/3 :  36%|███▌      | 1792/5000 [00:29<00:42, 75.50it/s]"
     ]
    },
    {
     "name": "stderr",
     "output_type": "stream",
     "text": [
      "\r",
      "Step 3/3 :  36%|███▌      | 1792/5000 [00:29<00:42, 75.50it/s]"
     ]
    },
    {
     "name": "stderr",
     "output_type": "stream",
     "text": [
      "\r",
      "Step 3/3 :  36%|███▌      | 1802/5000 [00:29<00:39, 80.92it/s]"
     ]
    },
    {
     "name": "stderr",
     "output_type": "stream",
     "text": [
      "\r",
      "Step 3/3 :  36%|███▌      | 1802/5000 [00:29<00:39, 80.92it/s]"
     ]
    },
    {
     "name": "stderr",
     "output_type": "stream",
     "text": [
      "\r",
      "Step 3/3 :  36%|███▌      | 1802/5000 [00:29<00:39, 80.92it/s]"
     ]
    },
    {
     "name": "stderr",
     "output_type": "stream",
     "text": [
      "\r",
      "Step 3/3 :  36%|███▌      | 1802/5000 [00:29<00:39, 80.92it/s]"
     ]
    },
    {
     "name": "stderr",
     "output_type": "stream",
     "text": [
      "\r",
      "Step 3/3 :  36%|███▌      | 1802/5000 [00:29<00:39, 80.92it/s]"
     ]
    },
    {
     "name": "stderr",
     "output_type": "stream",
     "text": [
      "\r",
      "Step 3/3 :  36%|███▌      | 1802/5000 [00:29<00:39, 80.92it/s]"
     ]
    },
    {
     "name": "stderr",
     "output_type": "stream",
     "text": [
      "\r",
      "Step 3/3 :  36%|███▌      | 1802/5000 [00:29<00:39, 80.92it/s]"
     ]
    },
    {
     "name": "stderr",
     "output_type": "stream",
     "text": [
      "\r",
      "Step 3/3 :  36%|███▌      | 1802/5000 [00:29<00:39, 80.92it/s]"
     ]
    },
    {
     "name": "stderr",
     "output_type": "stream",
     "text": [
      "\r",
      "Step 3/3 :  36%|███▌      | 1802/5000 [00:29<00:39, 80.92it/s]"
     ]
    },
    {
     "name": "stderr",
     "output_type": "stream",
     "text": [
      "\r",
      "Step 3/3 :  36%|███▌      | 1802/5000 [00:29<00:39, 80.92it/s]"
     ]
    },
    {
     "name": "stderr",
     "output_type": "stream",
     "text": [
      "\r",
      "Step 3/3 :  36%|███▌      | 1802/5000 [00:29<00:39, 80.92it/s]"
     ]
    },
    {
     "name": "stderr",
     "output_type": "stream",
     "text": [
      "\r",
      "Step 3/3 :  36%|███▌      | 1812/5000 [00:29<00:37, 84.70it/s]"
     ]
    },
    {
     "name": "stderr",
     "output_type": "stream",
     "text": [
      "\r",
      "Step 3/3 :  36%|███▌      | 1812/5000 [00:29<00:37, 84.70it/s]"
     ]
    },
    {
     "name": "stderr",
     "output_type": "stream",
     "text": [
      "\r",
      "Step 3/3 :  36%|███▌      | 1812/5000 [00:29<00:37, 84.70it/s]"
     ]
    },
    {
     "name": "stderr",
     "output_type": "stream",
     "text": [
      "\r",
      "Step 3/3 :  36%|███▌      | 1812/5000 [00:30<00:37, 84.70it/s]"
     ]
    },
    {
     "name": "stderr",
     "output_type": "stream",
     "text": [
      "\r",
      "Step 3/3 :  36%|███▌      | 1812/5000 [00:30<00:37, 84.70it/s]"
     ]
    },
    {
     "name": "stderr",
     "output_type": "stream",
     "text": [
      "\r",
      "Step 3/3 :  36%|███▌      | 1812/5000 [00:30<00:37, 84.70it/s]"
     ]
    },
    {
     "name": "stderr",
     "output_type": "stream",
     "text": [
      "\r",
      "Step 3/3 :  36%|███▌      | 1812/5000 [00:30<00:37, 84.70it/s]"
     ]
    },
    {
     "name": "stderr",
     "output_type": "stream",
     "text": [
      "\r",
      "Step 3/3 :  36%|███▌      | 1812/5000 [00:30<00:37, 84.70it/s]"
     ]
    },
    {
     "name": "stderr",
     "output_type": "stream",
     "text": [
      "\r",
      "Step 3/3 :  36%|███▌      | 1812/5000 [00:30<00:37, 84.70it/s]"
     ]
    },
    {
     "name": "stderr",
     "output_type": "stream",
     "text": [
      "\r",
      "Step 3/3 :  36%|███▌      | 1812/5000 [00:30<00:37, 84.70it/s]"
     ]
    },
    {
     "name": "stderr",
     "output_type": "stream",
     "text": [
      "\r",
      "Step 3/3 :  36%|███▋      | 1821/5000 [00:30<00:38, 83.18it/s]"
     ]
    },
    {
     "name": "stderr",
     "output_type": "stream",
     "text": [
      "\r",
      "Step 3/3 :  36%|███▋      | 1821/5000 [00:30<00:38, 83.18it/s]"
     ]
    },
    {
     "name": "stderr",
     "output_type": "stream",
     "text": [
      "\r",
      "Step 3/3 :  36%|███▋      | 1821/5000 [00:30<00:38, 83.18it/s]"
     ]
    },
    {
     "name": "stderr",
     "output_type": "stream",
     "text": [
      "\r",
      "Step 3/3 :  36%|███▋      | 1821/5000 [00:30<00:38, 83.18it/s]"
     ]
    },
    {
     "name": "stderr",
     "output_type": "stream",
     "text": [
      "\r",
      "Step 3/3 :  36%|███▋      | 1821/5000 [00:30<00:38, 83.18it/s]"
     ]
    },
    {
     "name": "stderr",
     "output_type": "stream",
     "text": [
      "\r",
      "Step 3/3 :  36%|███▋      | 1821/5000 [00:30<00:38, 83.18it/s]"
     ]
    },
    {
     "name": "stderr",
     "output_type": "stream",
     "text": [
      "\r",
      "Step 3/3 :  36%|███▋      | 1821/5000 [00:30<00:38, 83.18it/s]"
     ]
    },
    {
     "name": "stderr",
     "output_type": "stream",
     "text": [
      "\r",
      "Step 3/3 :  36%|███▋      | 1821/5000 [00:30<00:38, 83.18it/s]"
     ]
    },
    {
     "name": "stderr",
     "output_type": "stream",
     "text": [
      "\r",
      "Step 3/3 :  36%|███▋      | 1821/5000 [00:30<00:38, 83.18it/s]"
     ]
    },
    {
     "name": "stderr",
     "output_type": "stream",
     "text": [
      "\r",
      "Step 3/3 :  36%|███▋      | 1821/5000 [00:30<00:38, 83.18it/s]"
     ]
    },
    {
     "name": "stderr",
     "output_type": "stream",
     "text": [
      "\r",
      "Step 3/3 :  37%|███▋      | 1830/5000 [00:30<00:37, 84.87it/s]"
     ]
    },
    {
     "name": "stderr",
     "output_type": "stream",
     "text": [
      "\r",
      "Step 3/3 :  37%|███▋      | 1830/5000 [00:30<00:37, 84.87it/s]"
     ]
    },
    {
     "name": "stderr",
     "output_type": "stream",
     "text": [
      "\r",
      "Step 3/3 :  37%|███▋      | 1830/5000 [00:30<00:37, 84.87it/s]"
     ]
    },
    {
     "name": "stderr",
     "output_type": "stream",
     "text": [
      "\r",
      "Step 3/3 :  37%|███▋      | 1830/5000 [00:30<00:37, 84.87it/s]"
     ]
    },
    {
     "name": "stderr",
     "output_type": "stream",
     "text": [
      "\r",
      "Step 3/3 :  37%|███▋      | 1830/5000 [00:30<00:37, 84.87it/s]"
     ]
    },
    {
     "name": "stderr",
     "output_type": "stream",
     "text": [
      "\r",
      "Step 3/3 :  37%|███▋      | 1830/5000 [00:30<00:37, 84.87it/s]"
     ]
    },
    {
     "name": "stderr",
     "output_type": "stream",
     "text": [
      "\r",
      "Step 3/3 :  37%|███▋      | 1830/5000 [00:30<00:37, 84.87it/s]"
     ]
    },
    {
     "name": "stderr",
     "output_type": "stream",
     "text": [
      "\r",
      "Step 3/3 :  37%|███▋      | 1830/5000 [00:30<00:37, 84.87it/s]"
     ]
    },
    {
     "name": "stderr",
     "output_type": "stream",
     "text": [
      "\r",
      "Step 3/3 :  37%|███▋      | 1830/5000 [00:30<00:37, 84.87it/s]"
     ]
    },
    {
     "name": "stderr",
     "output_type": "stream",
     "text": [
      "\r",
      "Step 3/3 :  37%|███▋      | 1830/5000 [00:30<00:37, 84.87it/s]"
     ]
    },
    {
     "name": "stderr",
     "output_type": "stream",
     "text": [
      "\r",
      "Step 3/3 :  37%|███▋      | 1839/5000 [00:30<00:38, 81.87it/s]"
     ]
    },
    {
     "name": "stderr",
     "output_type": "stream",
     "text": [
      "\r",
      "Step 3/3 :  37%|███▋      | 1839/5000 [00:30<00:38, 81.87it/s]"
     ]
    },
    {
     "name": "stderr",
     "output_type": "stream",
     "text": [
      "\r",
      "Step 3/3 :  37%|███▋      | 1839/5000 [00:30<00:38, 81.87it/s]"
     ]
    },
    {
     "name": "stderr",
     "output_type": "stream",
     "text": [
      "\r",
      "Step 3/3 :  37%|███▋      | 1839/5000 [00:30<00:38, 81.87it/s]"
     ]
    },
    {
     "name": "stderr",
     "output_type": "stream",
     "text": [
      "\r",
      "Step 3/3 :  37%|███▋      | 1839/5000 [00:30<00:38, 81.87it/s]"
     ]
    },
    {
     "name": "stderr",
     "output_type": "stream",
     "text": [
      "\r",
      "Step 3/3 :  37%|███▋      | 1839/5000 [00:30<00:38, 81.87it/s]"
     ]
    },
    {
     "name": "stderr",
     "output_type": "stream",
     "text": [
      "\r",
      "Step 3/3 :  37%|███▋      | 1839/5000 [00:30<00:38, 81.87it/s]"
     ]
    },
    {
     "name": "stderr",
     "output_type": "stream",
     "text": [
      "\r",
      "Step 3/3 :  37%|███▋      | 1839/5000 [00:30<00:38, 81.87it/s]"
     ]
    },
    {
     "name": "stderr",
     "output_type": "stream",
     "text": [
      "\r",
      "Step 3/3 :  37%|███▋      | 1839/5000 [00:30<00:38, 81.87it/s]"
     ]
    },
    {
     "name": "stderr",
     "output_type": "stream",
     "text": [
      "\r",
      "Step 3/3 :  37%|███▋      | 1839/5000 [00:30<00:38, 81.87it/s]"
     ]
    },
    {
     "name": "stderr",
     "output_type": "stream",
     "text": [
      "\r",
      "Step 3/3 :  37%|███▋      | 1848/5000 [00:30<00:38, 82.76it/s]"
     ]
    },
    {
     "name": "stderr",
     "output_type": "stream",
     "text": [
      "\r",
      "Step 3/3 :  37%|███▋      | 1848/5000 [00:30<00:38, 82.76it/s]"
     ]
    },
    {
     "name": "stderr",
     "output_type": "stream",
     "text": [
      "\r",
      "Step 3/3 :  37%|███▋      | 1848/5000 [00:30<00:38, 82.76it/s]"
     ]
    },
    {
     "name": "stderr",
     "output_type": "stream",
     "text": [
      "\r",
      "Step 3/3 :  37%|███▋      | 1848/5000 [00:30<00:38, 82.76it/s]"
     ]
    },
    {
     "name": "stderr",
     "output_type": "stream",
     "text": [
      "\r",
      "Step 3/3 :  37%|███▋      | 1848/5000 [00:30<00:38, 82.76it/s]"
     ]
    },
    {
     "name": "stderr",
     "output_type": "stream",
     "text": [
      "\r",
      "Step 3/3 :  37%|███▋      | 1848/5000 [00:30<00:38, 82.76it/s]"
     ]
    },
    {
     "name": "stderr",
     "output_type": "stream",
     "text": [
      "\r",
      "Step 3/3 :  37%|███▋      | 1848/5000 [00:30<00:38, 82.76it/s]"
     ]
    },
    {
     "name": "stderr",
     "output_type": "stream",
     "text": [
      "\r",
      "Step 3/3 :  37%|███▋      | 1848/5000 [00:30<00:38, 82.76it/s]"
     ]
    },
    {
     "name": "stderr",
     "output_type": "stream",
     "text": [
      "\r",
      "Step 3/3 :  37%|███▋      | 1848/5000 [00:30<00:38, 82.76it/s]"
     ]
    },
    {
     "name": "stderr",
     "output_type": "stream",
     "text": [
      "\r",
      "Step 3/3 :  37%|███▋      | 1848/5000 [00:30<00:38, 82.76it/s]"
     ]
    },
    {
     "name": "stderr",
     "output_type": "stream",
     "text": [
      "\r",
      "Step 3/3 :  37%|███▋      | 1857/5000 [00:30<00:37, 84.33it/s]"
     ]
    },
    {
     "name": "stderr",
     "output_type": "stream",
     "text": [
      "\r",
      "Step 3/3 :  37%|███▋      | 1857/5000 [00:30<00:37, 84.33it/s]"
     ]
    },
    {
     "name": "stderr",
     "output_type": "stream",
     "text": [
      "\r",
      "Step 3/3 :  37%|███▋      | 1857/5000 [00:30<00:37, 84.33it/s]"
     ]
    },
    {
     "name": "stderr",
     "output_type": "stream",
     "text": [
      "\r",
      "Step 3/3 :  37%|███▋      | 1857/5000 [00:30<00:37, 84.33it/s]"
     ]
    },
    {
     "name": "stderr",
     "output_type": "stream",
     "text": [
      "\r",
      "Step 3/3 :  37%|███▋      | 1857/5000 [00:30<00:37, 84.33it/s]"
     ]
    },
    {
     "name": "stderr",
     "output_type": "stream",
     "text": [
      "\r",
      "Step 3/3 :  37%|███▋      | 1857/5000 [00:30<00:37, 84.33it/s]"
     ]
    },
    {
     "name": "stderr",
     "output_type": "stream",
     "text": [
      "\r",
      "Step 3/3 :  37%|███▋      | 1857/5000 [00:30<00:37, 84.33it/s]"
     ]
    },
    {
     "name": "stderr",
     "output_type": "stream",
     "text": [
      "\r",
      "Step 3/3 :  37%|███▋      | 1857/5000 [00:30<00:37, 84.33it/s]"
     ]
    },
    {
     "name": "stderr",
     "output_type": "stream",
     "text": [
      "\r",
      "Step 3/3 :  37%|███▋      | 1857/5000 [00:30<00:37, 84.33it/s]"
     ]
    },
    {
     "name": "stderr",
     "output_type": "stream",
     "text": [
      "\r",
      "Step 3/3 :  37%|███▋      | 1857/5000 [00:30<00:37, 84.33it/s]"
     ]
    },
    {
     "name": "stderr",
     "output_type": "stream",
     "text": [
      "\r",
      "Step 3/3 :  37%|███▋      | 1866/5000 [00:30<00:39, 80.21it/s]"
     ]
    },
    {
     "name": "stderr",
     "output_type": "stream",
     "text": [
      "\r",
      "Step 3/3 :  37%|███▋      | 1866/5000 [00:30<00:39, 80.21it/s]"
     ]
    },
    {
     "name": "stderr",
     "output_type": "stream",
     "text": [
      "\r",
      "Step 3/3 :  37%|███▋      | 1866/5000 [00:30<00:39, 80.21it/s]"
     ]
    },
    {
     "name": "stderr",
     "output_type": "stream",
     "text": [
      "\r",
      "Step 3/3 :  37%|███▋      | 1866/5000 [00:30<00:39, 80.21it/s]"
     ]
    },
    {
     "name": "stderr",
     "output_type": "stream",
     "text": [
      "\r",
      "Step 3/3 :  37%|███▋      | 1866/5000 [00:30<00:39, 80.21it/s]"
     ]
    },
    {
     "name": "stderr",
     "output_type": "stream",
     "text": [
      "\r",
      "Step 3/3 :  37%|███▋      | 1866/5000 [00:30<00:39, 80.21it/s]"
     ]
    },
    {
     "name": "stderr",
     "output_type": "stream",
     "text": [
      "\r",
      "Step 3/3 :  37%|███▋      | 1866/5000 [00:30<00:39, 80.21it/s]"
     ]
    },
    {
     "name": "stderr",
     "output_type": "stream",
     "text": [
      "\r",
      "Step 3/3 :  37%|███▋      | 1866/5000 [00:30<00:39, 80.21it/s]"
     ]
    },
    {
     "name": "stderr",
     "output_type": "stream",
     "text": [
      "\r",
      "Step 3/3 :  37%|███▋      | 1866/5000 [00:30<00:39, 80.21it/s]"
     ]
    },
    {
     "name": "stderr",
     "output_type": "stream",
     "text": [
      "\r",
      "Step 3/3 :  37%|███▋      | 1866/5000 [00:30<00:39, 80.21it/s]"
     ]
    },
    {
     "name": "stderr",
     "output_type": "stream",
     "text": [
      "\r",
      "Step 3/3 :  38%|███▊      | 1875/5000 [00:30<00:38, 81.12it/s]"
     ]
    },
    {
     "name": "stderr",
     "output_type": "stream",
     "text": [
      "\r",
      "Step 3/3 :  38%|███▊      | 1875/5000 [00:30<00:38, 81.12it/s]"
     ]
    },
    {
     "name": "stderr",
     "output_type": "stream",
     "text": [
      "\r",
      "Step 3/3 :  38%|███▊      | 1875/5000 [00:30<00:38, 81.12it/s]"
     ]
    },
    {
     "name": "stderr",
     "output_type": "stream",
     "text": [
      "\r",
      "Step 3/3 :  38%|███▊      | 1875/5000 [00:30<00:38, 81.12it/s]"
     ]
    },
    {
     "name": "stderr",
     "output_type": "stream",
     "text": [
      "\r",
      "Step 3/3 :  38%|███▊      | 1875/5000 [00:30<00:38, 81.12it/s]"
     ]
    },
    {
     "name": "stderr",
     "output_type": "stream",
     "text": [
      "\r",
      "Step 3/3 :  38%|███▊      | 1875/5000 [00:30<00:38, 81.12it/s]"
     ]
    },
    {
     "name": "stderr",
     "output_type": "stream",
     "text": [
      "\r",
      "Step 3/3 :  38%|███▊      | 1875/5000 [00:30<00:38, 81.12it/s]"
     ]
    },
    {
     "name": "stderr",
     "output_type": "stream",
     "text": [
      "\r",
      "Step 3/3 :  38%|███▊      | 1875/5000 [00:30<00:38, 81.12it/s]"
     ]
    },
    {
     "name": "stderr",
     "output_type": "stream",
     "text": [
      "\r",
      "Step 3/3 :  38%|███▊      | 1875/5000 [00:30<00:38, 81.12it/s]"
     ]
    },
    {
     "name": "stderr",
     "output_type": "stream",
     "text": [
      "\r",
      "Step 3/3 :  38%|███▊      | 1875/5000 [00:30<00:38, 81.12it/s]"
     ]
    },
    {
     "name": "stderr",
     "output_type": "stream",
     "text": [
      "\r",
      "Step 3/3 :  38%|███▊      | 1884/5000 [00:30<00:38, 80.03it/s]"
     ]
    },
    {
     "name": "stderr",
     "output_type": "stream",
     "text": [
      "\r",
      "Step 3/3 :  38%|███▊      | 1884/5000 [00:30<00:38, 80.03it/s]"
     ]
    },
    {
     "name": "stderr",
     "output_type": "stream",
     "text": [
      "\r",
      "Step 3/3 :  38%|███▊      | 1884/5000 [00:30<00:38, 80.03it/s]"
     ]
    },
    {
     "name": "stderr",
     "output_type": "stream",
     "text": [
      "\r",
      "Step 3/3 :  38%|███▊      | 1884/5000 [00:30<00:38, 80.03it/s]"
     ]
    },
    {
     "name": "stderr",
     "output_type": "stream",
     "text": [
      "\r",
      "Step 3/3 :  38%|███▊      | 1884/5000 [00:30<00:38, 80.03it/s]"
     ]
    },
    {
     "name": "stderr",
     "output_type": "stream",
     "text": [
      "\r",
      "Step 3/3 :  38%|███▊      | 1884/5000 [00:30<00:38, 80.03it/s]"
     ]
    },
    {
     "name": "stderr",
     "output_type": "stream",
     "text": [
      "\r",
      "Step 3/3 :  38%|███▊      | 1884/5000 [00:30<00:38, 80.03it/s]"
     ]
    },
    {
     "name": "stderr",
     "output_type": "stream",
     "text": [
      "\r",
      "Step 3/3 :  38%|███▊      | 1884/5000 [00:30<00:38, 80.03it/s]"
     ]
    },
    {
     "name": "stderr",
     "output_type": "stream",
     "text": [
      "\r",
      "Step 3/3 :  38%|███▊      | 1884/5000 [00:30<00:38, 80.03it/s]"
     ]
    },
    {
     "name": "stderr",
     "output_type": "stream",
     "text": [
      "\r",
      "Step 3/3 :  38%|███▊      | 1884/5000 [00:30<00:38, 80.03it/s]"
     ]
    },
    {
     "name": "stderr",
     "output_type": "stream",
     "text": [
      "\r",
      "Step 3/3 :  38%|███▊      | 1884/5000 [00:30<00:38, 80.03it/s]"
     ]
    },
    {
     "name": "stderr",
     "output_type": "stream",
     "text": [
      "\r",
      "Step 3/3 :  38%|███▊      | 1894/5000 [00:30<00:37, 83.67it/s]"
     ]
    },
    {
     "name": "stderr",
     "output_type": "stream",
     "text": [
      "\r",
      "Step 3/3 :  38%|███▊      | 1894/5000 [00:30<00:37, 83.67it/s]"
     ]
    },
    {
     "name": "stderr",
     "output_type": "stream",
     "text": [
      "\r",
      "Step 3/3 :  38%|███▊      | 1894/5000 [00:30<00:37, 83.67it/s]"
     ]
    },
    {
     "name": "stderr",
     "output_type": "stream",
     "text": [
      "\r",
      "Step 3/3 :  38%|███▊      | 1894/5000 [00:31<00:37, 83.67it/s]"
     ]
    },
    {
     "name": "stderr",
     "output_type": "stream",
     "text": [
      "\r",
      "Step 3/3 :  38%|███▊      | 1894/5000 [00:31<00:37, 83.67it/s]"
     ]
    },
    {
     "name": "stderr",
     "output_type": "stream",
     "text": [
      "\r",
      "Step 3/3 :  38%|███▊      | 1894/5000 [00:31<00:37, 83.67it/s]"
     ]
    },
    {
     "name": "stderr",
     "output_type": "stream",
     "text": [
      "\r",
      "Step 3/3 :  38%|███▊      | 1894/5000 [00:31<00:37, 83.67it/s]"
     ]
    },
    {
     "name": "stderr",
     "output_type": "stream",
     "text": [
      "\r",
      "Step 3/3 :  38%|███▊      | 1894/5000 [00:31<00:37, 83.67it/s]"
     ]
    },
    {
     "name": "stderr",
     "output_type": "stream",
     "text": [
      "\r",
      "Step 3/3 :  38%|███▊      | 1894/5000 [00:31<00:37, 83.67it/s]"
     ]
    },
    {
     "name": "stderr",
     "output_type": "stream",
     "text": [
      "\r",
      "Step 3/3 :  38%|███▊      | 1894/5000 [00:31<00:37, 83.67it/s]"
     ]
    },
    {
     "name": "stderr",
     "output_type": "stream",
     "text": [
      "\r",
      "Step 3/3 :  38%|███▊      | 1894/5000 [00:31<00:37, 83.67it/s]"
     ]
    },
    {
     "name": "stderr",
     "output_type": "stream",
     "text": [
      "\r",
      "Step 3/3 :  38%|███▊      | 1904/5000 [00:31<00:35, 86.29it/s]"
     ]
    },
    {
     "name": "stderr",
     "output_type": "stream",
     "text": [
      "\r",
      "Step 3/3 :  38%|███▊      | 1904/5000 [00:31<00:35, 86.29it/s]"
     ]
    },
    {
     "name": "stderr",
     "output_type": "stream",
     "text": [
      "\r",
      "Step 3/3 :  38%|███▊      | 1904/5000 [00:31<00:35, 86.29it/s]"
     ]
    },
    {
     "name": "stderr",
     "output_type": "stream",
     "text": [
      "\r",
      "Step 3/3 :  38%|███▊      | 1904/5000 [00:31<00:35, 86.29it/s]"
     ]
    },
    {
     "name": "stderr",
     "output_type": "stream",
     "text": [
      "\r",
      "Step 3/3 :  38%|███▊      | 1904/5000 [00:31<00:35, 86.29it/s]"
     ]
    },
    {
     "name": "stderr",
     "output_type": "stream",
     "text": [
      "\r",
      "Step 3/3 :  38%|███▊      | 1904/5000 [00:31<00:35, 86.29it/s]"
     ]
    },
    {
     "name": "stderr",
     "output_type": "stream",
     "text": [
      "\r",
      "Step 3/3 :  38%|███▊      | 1904/5000 [00:31<00:35, 86.29it/s]"
     ]
    },
    {
     "name": "stderr",
     "output_type": "stream",
     "text": [
      "\r",
      "Step 3/3 :  38%|███▊      | 1904/5000 [00:31<00:35, 86.29it/s]"
     ]
    },
    {
     "name": "stderr",
     "output_type": "stream",
     "text": [
      "\r",
      "Step 3/3 :  38%|███▊      | 1904/5000 [00:31<00:35, 86.29it/s]"
     ]
    },
    {
     "name": "stderr",
     "output_type": "stream",
     "text": [
      "\r",
      "Step 3/3 :  38%|███▊      | 1904/5000 [00:31<00:35, 86.29it/s]"
     ]
    },
    {
     "name": "stderr",
     "output_type": "stream",
     "text": [
      "\r",
      "Step 3/3 :  38%|███▊      | 1904/5000 [00:31<00:35, 86.29it/s]"
     ]
    },
    {
     "name": "stderr",
     "output_type": "stream",
     "text": [
      "\r",
      "Step 3/3 :  38%|███▊      | 1914/5000 [00:31<00:35, 87.92it/s]"
     ]
    },
    {
     "name": "stderr",
     "output_type": "stream",
     "text": [
      "\r",
      "Step 3/3 :  38%|███▊      | 1914/5000 [00:31<00:35, 87.92it/s]"
     ]
    },
    {
     "name": "stderr",
     "output_type": "stream",
     "text": [
      "\r",
      "Step 3/3 :  38%|███▊      | 1914/5000 [00:31<00:35, 87.92it/s]"
     ]
    },
    {
     "name": "stderr",
     "output_type": "stream",
     "text": [
      "\r",
      "Step 3/3 :  38%|███▊      | 1914/5000 [00:31<00:35, 87.92it/s]"
     ]
    },
    {
     "name": "stderr",
     "output_type": "stream",
     "text": [
      "\r",
      "Step 3/3 :  38%|███▊      | 1914/5000 [00:31<00:35, 87.92it/s]"
     ]
    },
    {
     "name": "stderr",
     "output_type": "stream",
     "text": [
      "\r",
      "Step 3/3 :  38%|███▊      | 1914/5000 [00:31<00:35, 87.92it/s]"
     ]
    },
    {
     "name": "stderr",
     "output_type": "stream",
     "text": [
      "\r",
      "Step 3/3 :  38%|███▊      | 1914/5000 [00:31<00:35, 87.92it/s]"
     ]
    },
    {
     "name": "stderr",
     "output_type": "stream",
     "text": [
      "\r",
      "Step 3/3 :  38%|███▊      | 1914/5000 [00:31<00:35, 87.92it/s]"
     ]
    },
    {
     "name": "stderr",
     "output_type": "stream",
     "text": [
      "\r",
      "Step 3/3 :  38%|███▊      | 1914/5000 [00:31<00:35, 87.92it/s]"
     ]
    },
    {
     "name": "stderr",
     "output_type": "stream",
     "text": [
      "\r",
      "Step 3/3 :  38%|███▊      | 1914/5000 [00:31<00:35, 87.92it/s]"
     ]
    },
    {
     "name": "stderr",
     "output_type": "stream",
     "text": [
      "\r",
      "Step 3/3 :  38%|███▊      | 1914/5000 [00:31<00:35, 87.92it/s]"
     ]
    },
    {
     "name": "stderr",
     "output_type": "stream",
     "text": [
      "\r",
      "Step 3/3 :  38%|███▊      | 1924/5000 [00:31<00:34, 90.04it/s]"
     ]
    },
    {
     "name": "stderr",
     "output_type": "stream",
     "text": [
      "\r",
      "Step 3/3 :  38%|███▊      | 1924/5000 [00:31<00:34, 90.04it/s]"
     ]
    },
    {
     "name": "stderr",
     "output_type": "stream",
     "text": [
      "\r",
      "Step 3/3 :  38%|███▊      | 1924/5000 [00:31<00:34, 90.04it/s]"
     ]
    },
    {
     "name": "stderr",
     "output_type": "stream",
     "text": [
      "\r",
      "Step 3/3 :  38%|███▊      | 1924/5000 [00:31<00:34, 90.04it/s]"
     ]
    },
    {
     "name": "stderr",
     "output_type": "stream",
     "text": [
      "\r",
      "Step 3/3 :  38%|███▊      | 1924/5000 [00:31<00:34, 90.04it/s]"
     ]
    },
    {
     "name": "stderr",
     "output_type": "stream",
     "text": [
      "\r",
      "Step 3/3 :  38%|███▊      | 1924/5000 [00:31<00:34, 90.04it/s]"
     ]
    },
    {
     "name": "stderr",
     "output_type": "stream",
     "text": [
      "\r",
      "Step 3/3 :  38%|███▊      | 1924/5000 [00:31<00:34, 90.04it/s]"
     ]
    },
    {
     "name": "stderr",
     "output_type": "stream",
     "text": [
      "\r",
      "Step 3/3 :  38%|███▊      | 1924/5000 [00:31<00:34, 90.04it/s]"
     ]
    },
    {
     "name": "stderr",
     "output_type": "stream",
     "text": [
      "\r",
      "Step 3/3 :  38%|███▊      | 1924/5000 [00:31<00:34, 90.04it/s]"
     ]
    },
    {
     "name": "stderr",
     "output_type": "stream",
     "text": [
      "\r",
      "Step 3/3 :  38%|███▊      | 1924/5000 [00:31<00:34, 90.04it/s]"
     ]
    },
    {
     "name": "stderr",
     "output_type": "stream",
     "text": [
      "\r",
      "Step 3/3 :  38%|███▊      | 1924/5000 [00:31<00:34, 90.04it/s]"
     ]
    },
    {
     "name": "stderr",
     "output_type": "stream",
     "text": [
      "\r",
      "Step 3/3 :  39%|███▊      | 1934/5000 [00:31<00:33, 92.08it/s]"
     ]
    },
    {
     "name": "stderr",
     "output_type": "stream",
     "text": [
      "\r",
      "Step 3/3 :  39%|███▊      | 1934/5000 [00:31<00:33, 92.08it/s]"
     ]
    },
    {
     "name": "stderr",
     "output_type": "stream",
     "text": [
      "\r",
      "Step 3/3 :  39%|███▊      | 1934/5000 [00:31<00:33, 92.08it/s]"
     ]
    },
    {
     "name": "stderr",
     "output_type": "stream",
     "text": [
      "\r",
      "Step 3/3 :  39%|███▊      | 1934/5000 [00:31<00:33, 92.08it/s]"
     ]
    },
    {
     "name": "stderr",
     "output_type": "stream",
     "text": [
      "\r",
      "Step 3/3 :  39%|███▊      | 1934/5000 [00:31<00:33, 92.08it/s]"
     ]
    },
    {
     "name": "stderr",
     "output_type": "stream",
     "text": [
      "\r",
      "Step 3/3 :  39%|███▊      | 1934/5000 [00:31<00:33, 92.08it/s]"
     ]
    },
    {
     "name": "stderr",
     "output_type": "stream",
     "text": [
      "\r",
      "Step 3/3 :  39%|███▊      | 1934/5000 [00:31<00:33, 92.08it/s]"
     ]
    },
    {
     "name": "stderr",
     "output_type": "stream",
     "text": [
      "\r",
      "Step 3/3 :  39%|███▊      | 1934/5000 [00:31<00:33, 92.08it/s]"
     ]
    },
    {
     "name": "stderr",
     "output_type": "stream",
     "text": [
      "\r",
      "Step 3/3 :  39%|███▊      | 1934/5000 [00:31<00:33, 92.08it/s]"
     ]
    },
    {
     "name": "stderr",
     "output_type": "stream",
     "text": [
      "\r",
      "Step 3/3 :  39%|███▊      | 1934/5000 [00:31<00:33, 92.08it/s]"
     ]
    },
    {
     "name": "stderr",
     "output_type": "stream",
     "text": [
      "\r",
      "Step 3/3 :  39%|███▊      | 1934/5000 [00:31<00:33, 92.08it/s]"
     ]
    },
    {
     "name": "stderr",
     "output_type": "stream",
     "text": [
      "\r",
      "Step 3/3 :  39%|███▉      | 1944/5000 [00:31<00:33, 91.22it/s]"
     ]
    },
    {
     "name": "stderr",
     "output_type": "stream",
     "text": [
      "\r",
      "Step 3/3 :  39%|███▉      | 1944/5000 [00:31<00:33, 91.22it/s]"
     ]
    },
    {
     "name": "stderr",
     "output_type": "stream",
     "text": [
      "\r",
      "Step 3/3 :  39%|███▉      | 1944/5000 [00:31<00:33, 91.22it/s]"
     ]
    },
    {
     "name": "stderr",
     "output_type": "stream",
     "text": [
      "\r",
      "Step 3/3 :  39%|███▉      | 1944/5000 [00:31<00:33, 91.22it/s]"
     ]
    },
    {
     "name": "stderr",
     "output_type": "stream",
     "text": [
      "\r",
      "Step 3/3 :  39%|███▉      | 1944/5000 [00:31<00:33, 91.22it/s]"
     ]
    },
    {
     "name": "stderr",
     "output_type": "stream",
     "text": [
      "\r",
      "Step 3/3 :  39%|███▉      | 1944/5000 [00:31<00:33, 91.22it/s]"
     ]
    },
    {
     "name": "stderr",
     "output_type": "stream",
     "text": [
      "\r",
      "Step 3/3 :  39%|███▉      | 1944/5000 [00:31<00:33, 91.22it/s]"
     ]
    },
    {
     "name": "stderr",
     "output_type": "stream",
     "text": [
      "\r",
      "Step 3/3 :  39%|███▉      | 1944/5000 [00:31<00:33, 91.22it/s]"
     ]
    },
    {
     "name": "stderr",
     "output_type": "stream",
     "text": [
      "\r",
      "Step 3/3 :  39%|███▉      | 1944/5000 [00:31<00:33, 91.22it/s]"
     ]
    },
    {
     "name": "stderr",
     "output_type": "stream",
     "text": [
      "\r",
      "Step 3/3 :  39%|███▉      | 1944/5000 [00:31<00:33, 91.22it/s]"
     ]
    },
    {
     "name": "stderr",
     "output_type": "stream",
     "text": [
      "\r",
      "Step 3/3 :  39%|███▉      | 1944/5000 [00:31<00:33, 91.22it/s]"
     ]
    },
    {
     "name": "stderr",
     "output_type": "stream",
     "text": [
      "\r",
      "Step 3/3 :  39%|███▉      | 1954/5000 [00:31<00:33, 89.64it/s]"
     ]
    },
    {
     "name": "stderr",
     "output_type": "stream",
     "text": [
      "\r",
      "Step 3/3 :  39%|███▉      | 1954/5000 [00:31<00:33, 89.64it/s]"
     ]
    },
    {
     "name": "stderr",
     "output_type": "stream",
     "text": [
      "\r",
      "Step 3/3 :  39%|███▉      | 1954/5000 [00:31<00:33, 89.64it/s]"
     ]
    },
    {
     "name": "stderr",
     "output_type": "stream",
     "text": [
      "\r",
      "Step 3/3 :  39%|███▉      | 1954/5000 [00:31<00:33, 89.64it/s]"
     ]
    },
    {
     "name": "stderr",
     "output_type": "stream",
     "text": [
      "\r",
      "Step 3/3 :  39%|███▉      | 1954/5000 [00:31<00:33, 89.64it/s]"
     ]
    },
    {
     "name": "stderr",
     "output_type": "stream",
     "text": [
      "\r",
      "Step 3/3 :  39%|███▉      | 1954/5000 [00:31<00:33, 89.64it/s]"
     ]
    },
    {
     "name": "stderr",
     "output_type": "stream",
     "text": [
      "\r",
      "Step 3/3 :  39%|███▉      | 1954/5000 [00:31<00:33, 89.64it/s]"
     ]
    },
    {
     "name": "stderr",
     "output_type": "stream",
     "text": [
      "\r",
      "Step 3/3 :  39%|███▉      | 1954/5000 [00:31<00:33, 89.64it/s]"
     ]
    },
    {
     "name": "stderr",
     "output_type": "stream",
     "text": [
      "\r",
      "Step 3/3 :  39%|███▉      | 1954/5000 [00:31<00:33, 89.64it/s]"
     ]
    },
    {
     "name": "stderr",
     "output_type": "stream",
     "text": [
      "\r",
      "Step 3/3 :  39%|███▉      | 1954/5000 [00:31<00:33, 89.64it/s]"
     ]
    },
    {
     "name": "stderr",
     "output_type": "stream",
     "text": [
      "\r",
      "Step 3/3 :  39%|███▉      | 1963/5000 [00:31<00:33, 89.49it/s]"
     ]
    },
    {
     "name": "stderr",
     "output_type": "stream",
     "text": [
      "\r",
      "Step 3/3 :  39%|███▉      | 1963/5000 [00:31<00:33, 89.49it/s]"
     ]
    },
    {
     "name": "stderr",
     "output_type": "stream",
     "text": [
      "\r",
      "Step 3/3 :  39%|███▉      | 1963/5000 [00:31<00:33, 89.49it/s]"
     ]
    },
    {
     "name": "stderr",
     "output_type": "stream",
     "text": [
      "\r",
      "Step 3/3 :  39%|███▉      | 1963/5000 [00:31<00:33, 89.49it/s]"
     ]
    },
    {
     "name": "stderr",
     "output_type": "stream",
     "text": [
      "\r",
      "Step 3/3 :  39%|███▉      | 1963/5000 [00:31<00:33, 89.49it/s]"
     ]
    },
    {
     "name": "stderr",
     "output_type": "stream",
     "text": [
      "\r",
      "Step 3/3 :  39%|███▉      | 1963/5000 [00:31<00:33, 89.49it/s]"
     ]
    },
    {
     "name": "stderr",
     "output_type": "stream",
     "text": [
      "\r",
      "Step 3/3 :  39%|███▉      | 1963/5000 [00:31<00:33, 89.49it/s]"
     ]
    },
    {
     "name": "stderr",
     "output_type": "stream",
     "text": [
      "\r",
      "Step 3/3 :  39%|███▉      | 1963/5000 [00:31<00:33, 89.49it/s]"
     ]
    },
    {
     "name": "stderr",
     "output_type": "stream",
     "text": [
      "\r",
      "Step 3/3 :  39%|███▉      | 1963/5000 [00:31<00:33, 89.49it/s]"
     ]
    },
    {
     "name": "stderr",
     "output_type": "stream",
     "text": [
      "\r",
      "Step 3/3 :  39%|███▉      | 1963/5000 [00:31<00:33, 89.49it/s]"
     ]
    },
    {
     "name": "stderr",
     "output_type": "stream",
     "text": [
      "\r",
      "Step 3/3 :  39%|███▉      | 1972/5000 [00:31<00:34, 86.68it/s]"
     ]
    },
    {
     "name": "stderr",
     "output_type": "stream",
     "text": [
      "\r",
      "Step 3/3 :  39%|███▉      | 1972/5000 [00:31<00:34, 86.68it/s]"
     ]
    },
    {
     "name": "stderr",
     "output_type": "stream",
     "text": [
      "\r",
      "Step 3/3 :  39%|███▉      | 1972/5000 [00:31<00:34, 86.68it/s]"
     ]
    },
    {
     "name": "stderr",
     "output_type": "stream",
     "text": [
      "\r",
      "Step 3/3 :  39%|███▉      | 1972/5000 [00:31<00:34, 86.68it/s]"
     ]
    },
    {
     "name": "stderr",
     "output_type": "stream",
     "text": [
      "\r",
      "Step 3/3 :  39%|███▉      | 1972/5000 [00:31<00:34, 86.68it/s]"
     ]
    },
    {
     "name": "stderr",
     "output_type": "stream",
     "text": [
      "\r",
      "Step 3/3 :  39%|███▉      | 1972/5000 [00:31<00:34, 86.68it/s]"
     ]
    },
    {
     "name": "stderr",
     "output_type": "stream",
     "text": [
      "\r",
      "Step 3/3 :  39%|███▉      | 1972/5000 [00:31<00:34, 86.68it/s]"
     ]
    },
    {
     "name": "stderr",
     "output_type": "stream",
     "text": [
      "\r",
      "Step 3/3 :  39%|███▉      | 1972/5000 [00:31<00:34, 86.68it/s]"
     ]
    },
    {
     "name": "stderr",
     "output_type": "stream",
     "text": [
      "\r",
      "Step 3/3 :  39%|███▉      | 1972/5000 [00:31<00:34, 86.68it/s]"
     ]
    },
    {
     "name": "stderr",
     "output_type": "stream",
     "text": [
      "\r",
      "Step 3/3 :  39%|███▉      | 1972/5000 [00:31<00:34, 86.68it/s]"
     ]
    },
    {
     "name": "stderr",
     "output_type": "stream",
     "text": [
      "\r",
      "Step 3/3 :  40%|███▉      | 1981/5000 [00:31<00:35, 84.28it/s]"
     ]
    },
    {
     "name": "stderr",
     "output_type": "stream",
     "text": [
      "\r",
      "Step 3/3 :  40%|███▉      | 1981/5000 [00:31<00:35, 84.28it/s]"
     ]
    },
    {
     "name": "stderr",
     "output_type": "stream",
     "text": [
      "\r",
      "Step 3/3 :  40%|███▉      | 1981/5000 [00:31<00:35, 84.28it/s]"
     ]
    },
    {
     "name": "stderr",
     "output_type": "stream",
     "text": [
      "\r",
      "Step 3/3 :  40%|███▉      | 1981/5000 [00:31<00:35, 84.28it/s]"
     ]
    },
    {
     "name": "stderr",
     "output_type": "stream",
     "text": [
      "\r",
      "Step 3/3 :  40%|███▉      | 1981/5000 [00:31<00:35, 84.28it/s]"
     ]
    },
    {
     "name": "stderr",
     "output_type": "stream",
     "text": [
      "\r",
      "Step 3/3 :  40%|███▉      | 1981/5000 [00:32<00:35, 84.28it/s]"
     ]
    },
    {
     "name": "stderr",
     "output_type": "stream",
     "text": [
      "\r",
      "Step 3/3 :  40%|███▉      | 1981/5000 [00:32<00:35, 84.28it/s]"
     ]
    },
    {
     "name": "stderr",
     "output_type": "stream",
     "text": [
      "\r",
      "Step 3/3 :  40%|███▉      | 1981/5000 [00:32<00:35, 84.28it/s]"
     ]
    },
    {
     "name": "stderr",
     "output_type": "stream",
     "text": [
      "\r",
      "Step 3/3 :  40%|███▉      | 1981/5000 [00:32<00:35, 84.28it/s]"
     ]
    },
    {
     "name": "stderr",
     "output_type": "stream",
     "text": [
      "\r",
      "Step 3/3 :  40%|███▉      | 1981/5000 [00:32<00:35, 84.28it/s]"
     ]
    },
    {
     "name": "stderr",
     "output_type": "stream",
     "text": [
      "\r",
      "Step 3/3 :  40%|███▉      | 1990/5000 [00:32<00:35, 84.38it/s]"
     ]
    },
    {
     "name": "stderr",
     "output_type": "stream",
     "text": [
      "\r",
      "Step 3/3 :  40%|███▉      | 1990/5000 [00:32<00:35, 84.38it/s]"
     ]
    },
    {
     "name": "stderr",
     "output_type": "stream",
     "text": [
      "\r",
      "Step 3/3 :  40%|███▉      | 1990/5000 [00:32<00:35, 84.38it/s]"
     ]
    },
    {
     "name": "stderr",
     "output_type": "stream",
     "text": [
      "\r",
      "Step 3/3 :  40%|███▉      | 1990/5000 [00:32<00:35, 84.38it/s]"
     ]
    },
    {
     "name": "stderr",
     "output_type": "stream",
     "text": [
      "\r",
      "Step 3/3 :  40%|███▉      | 1990/5000 [00:32<00:35, 84.38it/s]"
     ]
    },
    {
     "name": "stderr",
     "output_type": "stream",
     "text": [
      "\r",
      "Step 3/3 :  40%|███▉      | 1990/5000 [00:32<00:35, 84.38it/s]"
     ]
    },
    {
     "name": "stderr",
     "output_type": "stream",
     "text": [
      "\r",
      "Step 3/3 :  40%|███▉      | 1990/5000 [00:32<00:35, 84.38it/s]"
     ]
    },
    {
     "name": "stderr",
     "output_type": "stream",
     "text": [
      "\r",
      "Step 3/3 :  40%|███▉      | 1990/5000 [00:32<00:35, 84.38it/s]"
     ]
    },
    {
     "name": "stderr",
     "output_type": "stream",
     "text": [
      "\r",
      "Step 3/3 :  40%|███▉      | 1990/5000 [00:32<00:35, 84.38it/s]"
     ]
    },
    {
     "name": "stderr",
     "output_type": "stream",
     "text": [
      "\r",
      "Step 3/3 :  40%|███▉      | 1990/5000 [00:32<00:35, 84.38it/s]"
     ]
    },
    {
     "name": "stderr",
     "output_type": "stream",
     "text": [
      "\r",
      "Step 3/3 :  40%|███▉      | 1999/5000 [00:32<00:35, 83.38it/s]"
     ]
    },
    {
     "name": "stderr",
     "output_type": "stream",
     "text": [
      "\r",
      "Step 3/3 :  40%|███▉      | 1999/5000 [00:32<00:35, 83.38it/s]"
     ]
    },
    {
     "name": "stderr",
     "output_type": "stream",
     "text": [
      "\r",
      "Step 3/3 :  40%|███▉      | 1999/5000 [00:32<00:35, 83.38it/s]"
     ]
    },
    {
     "name": "stderr",
     "output_type": "stream",
     "text": [
      "\r",
      "Step 3/3 :  40%|███▉      | 1999/5000 [00:32<00:35, 83.38it/s]"
     ]
    },
    {
     "name": "stderr",
     "output_type": "stream",
     "text": [
      "\r",
      "Step 3/3 :  40%|███▉      | 1999/5000 [00:32<00:35, 83.38it/s]"
     ]
    },
    {
     "name": "stderr",
     "output_type": "stream",
     "text": [
      "\r",
      "Step 3/3 :  40%|███▉      | 1999/5000 [00:32<00:35, 83.38it/s]"
     ]
    },
    {
     "name": "stderr",
     "output_type": "stream",
     "text": [
      "\r",
      "Step 3/3 :  40%|███▉      | 1999/5000 [00:32<00:35, 83.38it/s]"
     ]
    },
    {
     "name": "stderr",
     "output_type": "stream",
     "text": [
      "\r",
      "Step 3/3 :  40%|███▉      | 1999/5000 [00:32<00:35, 83.38it/s]"
     ]
    },
    {
     "name": "stderr",
     "output_type": "stream",
     "text": [
      "\r",
      "Step 3/3 :  40%|███▉      | 1999/5000 [00:32<00:35, 83.38it/s]"
     ]
    },
    {
     "name": "stderr",
     "output_type": "stream",
     "text": [
      "\r",
      "Step 3/3 :  40%|███▉      | 1999/5000 [00:32<00:35, 83.38it/s]"
     ]
    },
    {
     "name": "stderr",
     "output_type": "stream",
     "text": [
      "\r",
      "Step 3/3 :  40%|████      | 2008/5000 [00:32<00:36, 81.79it/s]"
     ]
    },
    {
     "name": "stderr",
     "output_type": "stream",
     "text": [
      "\r",
      "Step 3/3 :  40%|████      | 2008/5000 [00:32<00:36, 81.79it/s]"
     ]
    },
    {
     "name": "stderr",
     "output_type": "stream",
     "text": [
      "\r",
      "Step 3/3 :  40%|████      | 2008/5000 [00:32<00:36, 81.79it/s]"
     ]
    },
    {
     "name": "stderr",
     "output_type": "stream",
     "text": [
      "\r",
      "Step 3/3 :  40%|████      | 2008/5000 [00:32<00:36, 81.79it/s]"
     ]
    },
    {
     "name": "stderr",
     "output_type": "stream",
     "text": [
      "\r",
      "Step 3/3 :  40%|████      | 2008/5000 [00:32<00:36, 81.79it/s]"
     ]
    },
    {
     "name": "stderr",
     "output_type": "stream",
     "text": [
      "\r",
      "Step 3/3 :  40%|████      | 2008/5000 [00:32<00:36, 81.79it/s]"
     ]
    },
    {
     "name": "stderr",
     "output_type": "stream",
     "text": [
      "\r",
      "Step 3/3 :  40%|████      | 2008/5000 [00:32<00:36, 81.79it/s]"
     ]
    },
    {
     "name": "stderr",
     "output_type": "stream",
     "text": [
      "\r",
      "Step 3/3 :  40%|████      | 2008/5000 [00:32<00:36, 81.79it/s]"
     ]
    },
    {
     "name": "stderr",
     "output_type": "stream",
     "text": [
      "\r",
      "Step 3/3 :  40%|████      | 2008/5000 [00:32<00:36, 81.79it/s]"
     ]
    },
    {
     "name": "stderr",
     "output_type": "stream",
     "text": [
      "\r",
      "Step 3/3 :  40%|████      | 2008/5000 [00:32<00:36, 81.79it/s]"
     ]
    },
    {
     "name": "stderr",
     "output_type": "stream",
     "text": [
      "\r",
      "Step 3/3 :  40%|████      | 2017/5000 [00:32<00:36, 81.14it/s]"
     ]
    },
    {
     "name": "stderr",
     "output_type": "stream",
     "text": [
      "\r",
      "Step 3/3 :  40%|████      | 2017/5000 [00:32<00:36, 81.14it/s]"
     ]
    },
    {
     "name": "stderr",
     "output_type": "stream",
     "text": [
      "\r",
      "Step 3/3 :  40%|████      | 2017/5000 [00:32<00:36, 81.14it/s]"
     ]
    },
    {
     "name": "stderr",
     "output_type": "stream",
     "text": [
      "\r",
      "Step 3/3 :  40%|████      | 2017/5000 [00:32<00:36, 81.14it/s]"
     ]
    },
    {
     "name": "stderr",
     "output_type": "stream",
     "text": [
      "\r",
      "Step 3/3 :  40%|████      | 2017/5000 [00:32<00:36, 81.14it/s]"
     ]
    },
    {
     "name": "stderr",
     "output_type": "stream",
     "text": [
      "\r",
      "Step 3/3 :  40%|████      | 2017/5000 [00:32<00:36, 81.14it/s]"
     ]
    },
    {
     "name": "stderr",
     "output_type": "stream",
     "text": [
      "\r",
      "Step 3/3 :  40%|████      | 2017/5000 [00:32<00:36, 81.14it/s]"
     ]
    },
    {
     "name": "stderr",
     "output_type": "stream",
     "text": [
      "\r",
      "Step 3/3 :  40%|████      | 2017/5000 [00:32<00:36, 81.14it/s]"
     ]
    },
    {
     "name": "stderr",
     "output_type": "stream",
     "text": [
      "\r",
      "Step 3/3 :  40%|████      | 2017/5000 [00:32<00:36, 81.14it/s]"
     ]
    },
    {
     "name": "stderr",
     "output_type": "stream",
     "text": [
      "\r",
      "Step 3/3 :  40%|████      | 2017/5000 [00:32<00:36, 81.14it/s]"
     ]
    },
    {
     "name": "stderr",
     "output_type": "stream",
     "text": [
      "\r",
      "Step 3/3 :  41%|████      | 2026/5000 [00:32<00:37, 79.41it/s]"
     ]
    },
    {
     "name": "stderr",
     "output_type": "stream",
     "text": [
      "\r",
      "Step 3/3 :  41%|████      | 2026/5000 [00:32<00:37, 79.41it/s]"
     ]
    },
    {
     "name": "stderr",
     "output_type": "stream",
     "text": [
      "\r",
      "Step 3/3 :  41%|████      | 2026/5000 [00:32<00:37, 79.41it/s]"
     ]
    },
    {
     "name": "stderr",
     "output_type": "stream",
     "text": [
      "\r",
      "Step 3/3 :  41%|████      | 2026/5000 [00:32<00:37, 79.41it/s]"
     ]
    },
    {
     "name": "stderr",
     "output_type": "stream",
     "text": [
      "\r",
      "Step 3/3 :  41%|████      | 2026/5000 [00:32<00:37, 79.41it/s]"
     ]
    },
    {
     "name": "stderr",
     "output_type": "stream",
     "text": [
      "\r",
      "Step 3/3 :  41%|████      | 2026/5000 [00:32<00:37, 79.41it/s]"
     ]
    },
    {
     "name": "stderr",
     "output_type": "stream",
     "text": [
      "\r",
      "Step 3/3 :  41%|████      | 2026/5000 [00:32<00:37, 79.41it/s]"
     ]
    },
    {
     "name": "stderr",
     "output_type": "stream",
     "text": [
      "\r",
      "Step 3/3 :  41%|████      | 2026/5000 [00:32<00:37, 79.41it/s]"
     ]
    },
    {
     "name": "stderr",
     "output_type": "stream",
     "text": [
      "\r",
      "Step 3/3 :  41%|████      | 2026/5000 [00:32<00:37, 79.41it/s]"
     ]
    },
    {
     "name": "stderr",
     "output_type": "stream",
     "text": [
      "\r",
      "Step 3/3 :  41%|████      | 2034/5000 [00:32<00:39, 75.84it/s]"
     ]
    },
    {
     "name": "stderr",
     "output_type": "stream",
     "text": [
      "\r",
      "Step 3/3 :  41%|████      | 2034/5000 [00:32<00:39, 75.84it/s]"
     ]
    },
    {
     "name": "stderr",
     "output_type": "stream",
     "text": [
      "\r",
      "Step 3/3 :  41%|████      | 2034/5000 [00:32<00:39, 75.84it/s]"
     ]
    },
    {
     "name": "stderr",
     "output_type": "stream",
     "text": [
      "\r",
      "Step 3/3 :  41%|████      | 2034/5000 [00:32<00:39, 75.84it/s]"
     ]
    },
    {
     "name": "stderr",
     "output_type": "stream",
     "text": [
      "\r",
      "Step 3/3 :  41%|████      | 2034/5000 [00:32<00:39, 75.84it/s]"
     ]
    },
    {
     "name": "stderr",
     "output_type": "stream",
     "text": [
      "\r",
      "Step 3/3 :  41%|████      | 2034/5000 [00:32<00:39, 75.84it/s]"
     ]
    },
    {
     "name": "stderr",
     "output_type": "stream",
     "text": [
      "\r",
      "Step 3/3 :  41%|████      | 2034/5000 [00:32<00:39, 75.84it/s]"
     ]
    },
    {
     "name": "stderr",
     "output_type": "stream",
     "text": [
      "\r",
      "Step 3/3 :  41%|████      | 2034/5000 [00:32<00:39, 75.84it/s]"
     ]
    },
    {
     "name": "stderr",
     "output_type": "stream",
     "text": [
      "\r",
      "Step 3/3 :  41%|████      | 2034/5000 [00:32<00:39, 75.84it/s]"
     ]
    },
    {
     "name": "stderr",
     "output_type": "stream",
     "text": [
      "\r",
      "Step 3/3 :  41%|████      | 2042/5000 [00:32<00:38, 76.35it/s]"
     ]
    },
    {
     "name": "stderr",
     "output_type": "stream",
     "text": [
      "\r",
      "Step 3/3 :  41%|████      | 2042/5000 [00:32<00:38, 76.35it/s]"
     ]
    },
    {
     "name": "stderr",
     "output_type": "stream",
     "text": [
      "\r",
      "Step 3/3 :  41%|████      | 2042/5000 [00:32<00:38, 76.35it/s]"
     ]
    },
    {
     "name": "stderr",
     "output_type": "stream",
     "text": [
      "\r",
      "Step 3/3 :  41%|████      | 2042/5000 [00:32<00:38, 76.35it/s]"
     ]
    },
    {
     "name": "stderr",
     "output_type": "stream",
     "text": [
      "\r",
      "Step 3/3 :  41%|████      | 2042/5000 [00:32<00:38, 76.35it/s]"
     ]
    },
    {
     "name": "stderr",
     "output_type": "stream",
     "text": [
      "\r",
      "Step 3/3 :  41%|████      | 2042/5000 [00:32<00:38, 76.35it/s]"
     ]
    },
    {
     "name": "stderr",
     "output_type": "stream",
     "text": [
      "\r",
      "Step 3/3 :  41%|████      | 2042/5000 [00:32<00:38, 76.35it/s]"
     ]
    },
    {
     "name": "stderr",
     "output_type": "stream",
     "text": [
      "\r",
      "Step 3/3 :  41%|████      | 2042/5000 [00:32<00:38, 76.35it/s]"
     ]
    },
    {
     "name": "stderr",
     "output_type": "stream",
     "text": [
      "\r",
      "Step 3/3 :  41%|████      | 2042/5000 [00:32<00:38, 76.35it/s]"
     ]
    },
    {
     "name": "stderr",
     "output_type": "stream",
     "text": [
      "\r",
      "Step 3/3 :  41%|████      | 2042/5000 [00:32<00:38, 76.35it/s]"
     ]
    },
    {
     "name": "stderr",
     "output_type": "stream",
     "text": [
      "\r",
      "Step 3/3 :  41%|████      | 2051/5000 [00:32<00:37, 79.04it/s]"
     ]
    },
    {
     "name": "stderr",
     "output_type": "stream",
     "text": [
      "\r",
      "Step 3/3 :  41%|████      | 2051/5000 [00:32<00:37, 79.04it/s]"
     ]
    },
    {
     "name": "stderr",
     "output_type": "stream",
     "text": [
      "\r",
      "Step 3/3 :  41%|████      | 2051/5000 [00:32<00:37, 79.04it/s]"
     ]
    },
    {
     "name": "stderr",
     "output_type": "stream",
     "text": [
      "\r",
      "Step 3/3 :  41%|████      | 2051/5000 [00:32<00:37, 79.04it/s]"
     ]
    },
    {
     "name": "stderr",
     "output_type": "stream",
     "text": [
      "\r",
      "Step 3/3 :  41%|████      | 2051/5000 [00:32<00:37, 79.04it/s]"
     ]
    },
    {
     "name": "stderr",
     "output_type": "stream",
     "text": [
      "\r",
      "Step 3/3 :  41%|████      | 2051/5000 [00:32<00:37, 79.04it/s]"
     ]
    },
    {
     "name": "stderr",
     "output_type": "stream",
     "text": [
      "\r",
      "Step 3/3 :  41%|████      | 2051/5000 [00:32<00:37, 79.04it/s]"
     ]
    },
    {
     "name": "stderr",
     "output_type": "stream",
     "text": [
      "\r",
      "Step 3/3 :  41%|████      | 2051/5000 [00:32<00:37, 79.04it/s]"
     ]
    },
    {
     "name": "stderr",
     "output_type": "stream",
     "text": [
      "\r",
      "Step 3/3 :  41%|████      | 2051/5000 [00:32<00:37, 79.04it/s]"
     ]
    },
    {
     "name": "stderr",
     "output_type": "stream",
     "text": [
      "\r",
      "Step 3/3 :  41%|████      | 2051/5000 [00:32<00:37, 79.04it/s]"
     ]
    },
    {
     "name": "stderr",
     "output_type": "stream",
     "text": [
      "\r",
      "Step 3/3 :  41%|████      | 2051/5000 [00:32<00:37, 79.04it/s]"
     ]
    },
    {
     "name": "stderr",
     "output_type": "stream",
     "text": [
      "\r",
      "Step 3/3 :  41%|████      | 2061/5000 [00:32<00:35, 83.76it/s]"
     ]
    },
    {
     "name": "stderr",
     "output_type": "stream",
     "text": [
      "\r",
      "Step 3/3 :  41%|████      | 2061/5000 [00:32<00:35, 83.76it/s]"
     ]
    },
    {
     "name": "stderr",
     "output_type": "stream",
     "text": [
      "\r",
      "Step 3/3 :  41%|████      | 2061/5000 [00:32<00:35, 83.76it/s]"
     ]
    },
    {
     "name": "stderr",
     "output_type": "stream",
     "text": [
      "\r",
      "Step 3/3 :  41%|████      | 2061/5000 [00:32<00:35, 83.76it/s]"
     ]
    },
    {
     "name": "stderr",
     "output_type": "stream",
     "text": [
      "\r",
      "Step 3/3 :  41%|████      | 2061/5000 [00:33<00:35, 83.76it/s]"
     ]
    },
    {
     "name": "stderr",
     "output_type": "stream",
     "text": [
      "\r",
      "Step 3/3 :  41%|████      | 2061/5000 [00:33<00:35, 83.76it/s]"
     ]
    },
    {
     "name": "stderr",
     "output_type": "stream",
     "text": [
      "\r",
      "Step 3/3 :  41%|████      | 2061/5000 [00:33<00:35, 83.76it/s]"
     ]
    },
    {
     "name": "stderr",
     "output_type": "stream",
     "text": [
      "\r",
      "Step 3/3 :  41%|████      | 2061/5000 [00:33<00:35, 83.76it/s]"
     ]
    },
    {
     "name": "stderr",
     "output_type": "stream",
     "text": [
      "\r",
      "Step 3/3 :  41%|████      | 2061/5000 [00:33<00:35, 83.76it/s]"
     ]
    },
    {
     "name": "stderr",
     "output_type": "stream",
     "text": [
      "\r",
      "Step 3/3 :  41%|████      | 2061/5000 [00:33<00:35, 83.76it/s]"
     ]
    },
    {
     "name": "stderr",
     "output_type": "stream",
     "text": [
      "\r",
      "Step 3/3 :  41%|████▏     | 2070/5000 [00:33<00:38, 75.28it/s]"
     ]
    },
    {
     "name": "stderr",
     "output_type": "stream",
     "text": [
      "\r",
      "Step 3/3 :  41%|████▏     | 2070/5000 [00:33<00:38, 75.28it/s]"
     ]
    },
    {
     "name": "stderr",
     "output_type": "stream",
     "text": [
      "\r",
      "Step 3/3 :  41%|████▏     | 2070/5000 [00:33<00:38, 75.28it/s]"
     ]
    },
    {
     "name": "stderr",
     "output_type": "stream",
     "text": [
      "\r",
      "Step 3/3 :  41%|████▏     | 2070/5000 [00:33<00:38, 75.28it/s]"
     ]
    },
    {
     "name": "stderr",
     "output_type": "stream",
     "text": [
      "\r",
      "Step 3/3 :  41%|████▏     | 2070/5000 [00:33<00:38, 75.28it/s]"
     ]
    },
    {
     "name": "stderr",
     "output_type": "stream",
     "text": [
      "\r",
      "Step 3/3 :  41%|████▏     | 2070/5000 [00:33<00:38, 75.28it/s]"
     ]
    },
    {
     "name": "stderr",
     "output_type": "stream",
     "text": [
      "\r",
      "Step 3/3 :  41%|████▏     | 2070/5000 [00:33<00:38, 75.28it/s]"
     ]
    },
    {
     "name": "stderr",
     "output_type": "stream",
     "text": [
      "\r",
      "Step 3/3 :  41%|████▏     | 2070/5000 [00:33<00:38, 75.28it/s]"
     ]
    },
    {
     "name": "stderr",
     "output_type": "stream",
     "text": [
      "\r",
      "Step 3/3 :  41%|████▏     | 2070/5000 [00:33<00:38, 75.28it/s]"
     ]
    },
    {
     "name": "stderr",
     "output_type": "stream",
     "text": [
      "\r",
      "Step 3/3 :  41%|████▏     | 2070/5000 [00:33<00:38, 75.28it/s]"
     ]
    },
    {
     "name": "stderr",
     "output_type": "stream",
     "text": [
      "\r",
      "Step 3/3 :  41%|████▏     | 2070/5000 [00:33<00:38, 75.28it/s]"
     ]
    },
    {
     "name": "stderr",
     "output_type": "stream",
     "text": [
      "\r",
      "Step 3/3 :  42%|████▏     | 2080/5000 [00:33<00:36, 79.48it/s]"
     ]
    },
    {
     "name": "stderr",
     "output_type": "stream",
     "text": [
      "\r",
      "Step 3/3 :  42%|████▏     | 2080/5000 [00:33<00:36, 79.48it/s]"
     ]
    },
    {
     "name": "stderr",
     "output_type": "stream",
     "text": [
      "\r",
      "Step 3/3 :  42%|████▏     | 2080/5000 [00:33<00:36, 79.48it/s]"
     ]
    },
    {
     "name": "stderr",
     "output_type": "stream",
     "text": [
      "\r",
      "Step 3/3 :  42%|████▏     | 2080/5000 [00:33<00:36, 79.48it/s]"
     ]
    },
    {
     "name": "stderr",
     "output_type": "stream",
     "text": [
      "\r",
      "Step 3/3 :  42%|████▏     | 2080/5000 [00:33<00:36, 79.48it/s]"
     ]
    },
    {
     "name": "stderr",
     "output_type": "stream",
     "text": [
      "\r",
      "Step 3/3 :  42%|████▏     | 2080/5000 [00:33<00:36, 79.48it/s]"
     ]
    },
    {
     "name": "stderr",
     "output_type": "stream",
     "text": [
      "\r",
      "Step 3/3 :  42%|████▏     | 2080/5000 [00:33<00:36, 79.48it/s]"
     ]
    },
    {
     "name": "stderr",
     "output_type": "stream",
     "text": [
      "\r",
      "Step 3/3 :  42%|████▏     | 2080/5000 [00:33<00:36, 79.48it/s]"
     ]
    },
    {
     "name": "stderr",
     "output_type": "stream",
     "text": [
      "\r",
      "Step 3/3 :  42%|████▏     | 2080/5000 [00:33<00:36, 79.48it/s]"
     ]
    },
    {
     "name": "stderr",
     "output_type": "stream",
     "text": [
      "\r",
      "Step 3/3 :  42%|████▏     | 2080/5000 [00:33<00:36, 79.48it/s]"
     ]
    },
    {
     "name": "stderr",
     "output_type": "stream",
     "text": [
      "\r",
      "Step 3/3 :  42%|████▏     | 2089/5000 [00:33<00:36, 80.57it/s]"
     ]
    },
    {
     "name": "stderr",
     "output_type": "stream",
     "text": [
      "\r",
      "Step 3/3 :  42%|████▏     | 2089/5000 [00:33<00:36, 80.57it/s]"
     ]
    },
    {
     "name": "stderr",
     "output_type": "stream",
     "text": [
      "\r",
      "Step 3/3 :  42%|████▏     | 2089/5000 [00:33<00:36, 80.57it/s]"
     ]
    },
    {
     "name": "stderr",
     "output_type": "stream",
     "text": [
      "\r",
      "Step 3/3 :  42%|████▏     | 2089/5000 [00:33<00:36, 80.57it/s]"
     ]
    },
    {
     "name": "stderr",
     "output_type": "stream",
     "text": [
      "\r",
      "Step 3/3 :  42%|████▏     | 2089/5000 [00:33<00:36, 80.57it/s]"
     ]
    },
    {
     "name": "stderr",
     "output_type": "stream",
     "text": [
      "\r",
      "Step 3/3 :  42%|████▏     | 2089/5000 [00:33<00:36, 80.57it/s]"
     ]
    },
    {
     "name": "stderr",
     "output_type": "stream",
     "text": [
      "\r",
      "Step 3/3 :  42%|████▏     | 2089/5000 [00:33<00:36, 80.57it/s]"
     ]
    },
    {
     "name": "stderr",
     "output_type": "stream",
     "text": [
      "\r",
      "Step 3/3 :  42%|████▏     | 2089/5000 [00:33<00:36, 80.57it/s]"
     ]
    },
    {
     "name": "stderr",
     "output_type": "stream",
     "text": [
      "\r",
      "Step 3/3 :  42%|████▏     | 2089/5000 [00:33<00:36, 80.57it/s]"
     ]
    },
    {
     "name": "stderr",
     "output_type": "stream",
     "text": [
      "\r",
      "Step 3/3 :  42%|████▏     | 2089/5000 [00:33<00:36, 80.57it/s]"
     ]
    },
    {
     "name": "stderr",
     "output_type": "stream",
     "text": [
      "\r",
      "Step 3/3 :  42%|████▏     | 2098/5000 [00:33<00:36, 80.51it/s]"
     ]
    },
    {
     "name": "stderr",
     "output_type": "stream",
     "text": [
      "\r",
      "Step 3/3 :  42%|████▏     | 2098/5000 [00:33<00:36, 80.51it/s]"
     ]
    },
    {
     "name": "stderr",
     "output_type": "stream",
     "text": [
      "\r",
      "Step 3/3 :  42%|████▏     | 2098/5000 [00:33<00:36, 80.51it/s]"
     ]
    },
    {
     "name": "stderr",
     "output_type": "stream",
     "text": [
      "\r",
      "Step 3/3 :  42%|████▏     | 2098/5000 [00:33<00:36, 80.51it/s]"
     ]
    },
    {
     "name": "stderr",
     "output_type": "stream",
     "text": [
      "\r",
      "Step 3/3 :  42%|████▏     | 2098/5000 [00:33<00:36, 80.51it/s]"
     ]
    },
    {
     "name": "stderr",
     "output_type": "stream",
     "text": [
      "\r",
      "Step 3/3 :  42%|████▏     | 2098/5000 [00:33<00:36, 80.51it/s]"
     ]
    },
    {
     "name": "stderr",
     "output_type": "stream",
     "text": [
      "\r",
      "Step 3/3 :  42%|████▏     | 2098/5000 [00:33<00:36, 80.51it/s]"
     ]
    },
    {
     "name": "stderr",
     "output_type": "stream",
     "text": [
      "\r",
      "Step 3/3 :  42%|████▏     | 2098/5000 [00:33<00:36, 80.51it/s]"
     ]
    },
    {
     "name": "stderr",
     "output_type": "stream",
     "text": [
      "\r",
      "Step 3/3 :  42%|████▏     | 2098/5000 [00:33<00:36, 80.51it/s]"
     ]
    },
    {
     "name": "stderr",
     "output_type": "stream",
     "text": [
      "\r",
      "Step 3/3 :  42%|████▏     | 2098/5000 [00:33<00:36, 80.51it/s]"
     ]
    },
    {
     "name": "stderr",
     "output_type": "stream",
     "text": [
      "\r",
      "Step 3/3 :  42%|████▏     | 2107/5000 [00:33<00:37, 77.39it/s]"
     ]
    },
    {
     "name": "stderr",
     "output_type": "stream",
     "text": [
      "\r",
      "Step 3/3 :  42%|████▏     | 2107/5000 [00:33<00:37, 77.39it/s]"
     ]
    },
    {
     "name": "stderr",
     "output_type": "stream",
     "text": [
      "\r",
      "Step 3/3 :  42%|████▏     | 2107/5000 [00:33<00:37, 77.39it/s]"
     ]
    },
    {
     "name": "stderr",
     "output_type": "stream",
     "text": [
      "\r",
      "Step 3/3 :  42%|████▏     | 2107/5000 [00:33<00:37, 77.39it/s]"
     ]
    },
    {
     "name": "stderr",
     "output_type": "stream",
     "text": [
      "\r",
      "Step 3/3 :  42%|████▏     | 2107/5000 [00:33<00:37, 77.39it/s]"
     ]
    },
    {
     "name": "stderr",
     "output_type": "stream",
     "text": [
      "\r",
      "Step 3/3 :  42%|████▏     | 2107/5000 [00:33<00:37, 77.39it/s]"
     ]
    },
    {
     "name": "stderr",
     "output_type": "stream",
     "text": [
      "\r",
      "Step 3/3 :  42%|████▏     | 2107/5000 [00:33<00:37, 77.39it/s]"
     ]
    },
    {
     "name": "stderr",
     "output_type": "stream",
     "text": [
      "\r",
      "Step 3/3 :  42%|████▏     | 2107/5000 [00:33<00:37, 77.39it/s]"
     ]
    },
    {
     "name": "stderr",
     "output_type": "stream",
     "text": [
      "\r",
      "Step 3/3 :  42%|████▏     | 2107/5000 [00:33<00:37, 77.39it/s]"
     ]
    },
    {
     "name": "stderr",
     "output_type": "stream",
     "text": [
      "\r",
      "Step 3/3 :  42%|████▏     | 2107/5000 [00:33<00:37, 77.39it/s]"
     ]
    },
    {
     "name": "stderr",
     "output_type": "stream",
     "text": [
      "\r",
      "Step 3/3 :  42%|████▏     | 2116/5000 [00:33<00:36, 78.45it/s]"
     ]
    },
    {
     "name": "stderr",
     "output_type": "stream",
     "text": [
      "\r",
      "Step 3/3 :  42%|████▏     | 2116/5000 [00:33<00:36, 78.45it/s]"
     ]
    },
    {
     "name": "stderr",
     "output_type": "stream",
     "text": [
      "\r",
      "Step 3/3 :  42%|████▏     | 2116/5000 [00:33<00:36, 78.45it/s]"
     ]
    },
    {
     "name": "stderr",
     "output_type": "stream",
     "text": [
      "\r",
      "Step 3/3 :  42%|████▏     | 2116/5000 [00:33<00:36, 78.45it/s]"
     ]
    },
    {
     "name": "stderr",
     "output_type": "stream",
     "text": [
      "\r",
      "Step 3/3 :  42%|████▏     | 2116/5000 [00:33<00:36, 78.45it/s]"
     ]
    },
    {
     "name": "stderr",
     "output_type": "stream",
     "text": [
      "\r",
      "Step 3/3 :  42%|████▏     | 2116/5000 [00:33<00:36, 78.45it/s]"
     ]
    },
    {
     "name": "stderr",
     "output_type": "stream",
     "text": [
      "\r",
      "Step 3/3 :  42%|████▏     | 2116/5000 [00:33<00:36, 78.45it/s]"
     ]
    },
    {
     "name": "stderr",
     "output_type": "stream",
     "text": [
      "\r",
      "Step 3/3 :  42%|████▏     | 2116/5000 [00:33<00:36, 78.45it/s]"
     ]
    },
    {
     "name": "stderr",
     "output_type": "stream",
     "text": [
      "\r",
      "Step 3/3 :  42%|████▏     | 2116/5000 [00:33<00:36, 78.45it/s]"
     ]
    },
    {
     "name": "stderr",
     "output_type": "stream",
     "text": [
      "\r",
      "Step 3/3 :  42%|████▏     | 2116/5000 [00:33<00:36, 78.45it/s]"
     ]
    },
    {
     "name": "stderr",
     "output_type": "stream",
     "text": [
      "\r",
      "Step 3/3 :  42%|████▎     | 2125/5000 [00:33<00:35, 80.36it/s]"
     ]
    },
    {
     "name": "stderr",
     "output_type": "stream",
     "text": [
      "\r",
      "Step 3/3 :  42%|████▎     | 2125/5000 [00:33<00:35, 80.36it/s]"
     ]
    },
    {
     "name": "stderr",
     "output_type": "stream",
     "text": [
      "\r",
      "Step 3/3 :  42%|████▎     | 2125/5000 [00:33<00:35, 80.36it/s]"
     ]
    },
    {
     "name": "stderr",
     "output_type": "stream",
     "text": [
      "\r",
      "Step 3/3 :  42%|████▎     | 2125/5000 [00:33<00:35, 80.36it/s]"
     ]
    },
    {
     "name": "stderr",
     "output_type": "stream",
     "text": [
      "\r",
      "Step 3/3 :  42%|████▎     | 2125/5000 [00:33<00:35, 80.36it/s]"
     ]
    },
    {
     "name": "stderr",
     "output_type": "stream",
     "text": [
      "\r",
      "Step 3/3 :  42%|████▎     | 2125/5000 [00:33<00:35, 80.36it/s]"
     ]
    },
    {
     "name": "stderr",
     "output_type": "stream",
     "text": [
      "\r",
      "Step 3/3 :  42%|████▎     | 2125/5000 [00:33<00:35, 80.36it/s]"
     ]
    },
    {
     "name": "stderr",
     "output_type": "stream",
     "text": [
      "\r",
      "Step 3/3 :  42%|████▎     | 2125/5000 [00:33<00:35, 80.36it/s]"
     ]
    },
    {
     "name": "stderr",
     "output_type": "stream",
     "text": [
      "\r",
      "Step 3/3 :  42%|████▎     | 2125/5000 [00:33<00:35, 80.36it/s]"
     ]
    },
    {
     "name": "stderr",
     "output_type": "stream",
     "text": [
      "\r",
      "Step 3/3 :  42%|████▎     | 2125/5000 [00:33<00:35, 80.36it/s]"
     ]
    },
    {
     "name": "stderr",
     "output_type": "stream",
     "text": [
      "\r",
      "Step 3/3 :  43%|████▎     | 2134/5000 [00:33<00:35, 80.36it/s]"
     ]
    },
    {
     "name": "stderr",
     "output_type": "stream",
     "text": [
      "\r",
      "Step 3/3 :  43%|████▎     | 2134/5000 [00:33<00:35, 80.36it/s]"
     ]
    },
    {
     "name": "stderr",
     "output_type": "stream",
     "text": [
      "\r",
      "Step 3/3 :  43%|████▎     | 2134/5000 [00:33<00:35, 80.36it/s]"
     ]
    },
    {
     "name": "stderr",
     "output_type": "stream",
     "text": [
      "\r",
      "Step 3/3 :  43%|████▎     | 2134/5000 [00:33<00:35, 80.36it/s]"
     ]
    },
    {
     "name": "stderr",
     "output_type": "stream",
     "text": [
      "\r",
      "Step 3/3 :  43%|████▎     | 2134/5000 [00:33<00:35, 80.36it/s]"
     ]
    },
    {
     "name": "stderr",
     "output_type": "stream",
     "text": [
      "\r",
      "Step 3/3 :  43%|████▎     | 2134/5000 [00:33<00:35, 80.36it/s]"
     ]
    },
    {
     "name": "stderr",
     "output_type": "stream",
     "text": [
      "\r",
      "Step 3/3 :  43%|████▎     | 2134/5000 [00:33<00:35, 80.36it/s]"
     ]
    },
    {
     "name": "stderr",
     "output_type": "stream",
     "text": [
      "\r",
      "Step 3/3 :  43%|████▎     | 2134/5000 [00:33<00:35, 80.36it/s]"
     ]
    },
    {
     "name": "stderr",
     "output_type": "stream",
     "text": [
      "\r",
      "Step 3/3 :  43%|████▎     | 2134/5000 [00:33<00:35, 80.36it/s]"
     ]
    },
    {
     "name": "stderr",
     "output_type": "stream",
     "text": [
      "\r",
      "Step 3/3 :  43%|████▎     | 2134/5000 [00:33<00:35, 80.36it/s]"
     ]
    },
    {
     "name": "stderr",
     "output_type": "stream",
     "text": [
      "\r",
      "Step 3/3 :  43%|████▎     | 2143/5000 [00:33<00:34, 82.56it/s]"
     ]
    },
    {
     "name": "stderr",
     "output_type": "stream",
     "text": [
      "\r",
      "Step 3/3 :  43%|████▎     | 2143/5000 [00:33<00:34, 82.56it/s]"
     ]
    },
    {
     "name": "stderr",
     "output_type": "stream",
     "text": [
      "\r",
      "Step 3/3 :  43%|████▎     | 2143/5000 [00:34<00:34, 82.56it/s]"
     ]
    },
    {
     "name": "stderr",
     "output_type": "stream",
     "text": [
      "\r",
      "Step 3/3 :  43%|████▎     | 2143/5000 [00:34<00:34, 82.56it/s]"
     ]
    },
    {
     "name": "stderr",
     "output_type": "stream",
     "text": [
      "\r",
      "Step 3/3 :  43%|████▎     | 2143/5000 [00:34<00:34, 82.56it/s]"
     ]
    },
    {
     "name": "stderr",
     "output_type": "stream",
     "text": [
      "\r",
      "Step 3/3 :  43%|████▎     | 2143/5000 [00:34<00:34, 82.56it/s]"
     ]
    },
    {
     "name": "stderr",
     "output_type": "stream",
     "text": [
      "\r",
      "Step 3/3 :  43%|████▎     | 2143/5000 [00:34<00:34, 82.56it/s]"
     ]
    },
    {
     "name": "stderr",
     "output_type": "stream",
     "text": [
      "\r",
      "Step 3/3 :  43%|████▎     | 2143/5000 [00:34<00:34, 82.56it/s]"
     ]
    },
    {
     "name": "stderr",
     "output_type": "stream",
     "text": [
      "\r",
      "Step 3/3 :  43%|████▎     | 2143/5000 [00:34<00:34, 82.56it/s]"
     ]
    },
    {
     "name": "stderr",
     "output_type": "stream",
     "text": [
      "\r",
      "Step 3/3 :  43%|████▎     | 2143/5000 [00:34<00:34, 82.56it/s]"
     ]
    },
    {
     "name": "stderr",
     "output_type": "stream",
     "text": [
      "\r",
      "Step 3/3 :  43%|████▎     | 2152/5000 [00:34<00:34, 82.79it/s]"
     ]
    },
    {
     "name": "stderr",
     "output_type": "stream",
     "text": [
      "\r",
      "Step 3/3 :  43%|████▎     | 2152/5000 [00:34<00:34, 82.79it/s]"
     ]
    },
    {
     "name": "stderr",
     "output_type": "stream",
     "text": [
      "\r",
      "Step 3/3 :  43%|████▎     | 2152/5000 [00:34<00:34, 82.79it/s]"
     ]
    },
    {
     "name": "stderr",
     "output_type": "stream",
     "text": [
      "\r",
      "Step 3/3 :  43%|████▎     | 2152/5000 [00:34<00:34, 82.79it/s]"
     ]
    },
    {
     "name": "stderr",
     "output_type": "stream",
     "text": [
      "\r",
      "Step 3/3 :  43%|████▎     | 2152/5000 [00:34<00:34, 82.79it/s]"
     ]
    },
    {
     "name": "stderr",
     "output_type": "stream",
     "text": [
      "\r",
      "Step 3/3 :  43%|████▎     | 2152/5000 [00:34<00:34, 82.79it/s]"
     ]
    },
    {
     "name": "stderr",
     "output_type": "stream",
     "text": [
      "\r",
      "Step 3/3 :  43%|████▎     | 2152/5000 [00:34<00:34, 82.79it/s]"
     ]
    },
    {
     "name": "stderr",
     "output_type": "stream",
     "text": [
      "\r",
      "Step 3/3 :  43%|████▎     | 2152/5000 [00:34<00:34, 82.79it/s]"
     ]
    },
    {
     "name": "stderr",
     "output_type": "stream",
     "text": [
      "\r",
      "Step 3/3 :  43%|████▎     | 2152/5000 [00:34<00:34, 82.79it/s]"
     ]
    },
    {
     "name": "stderr",
     "output_type": "stream",
     "text": [
      "\r",
      "Step 3/3 :  43%|████▎     | 2152/5000 [00:34<00:34, 82.79it/s]"
     ]
    },
    {
     "name": "stderr",
     "output_type": "stream",
     "text": [
      "\r",
      "Step 3/3 :  43%|████▎     | 2152/5000 [00:34<00:34, 82.79it/s]"
     ]
    },
    {
     "name": "stderr",
     "output_type": "stream",
     "text": [
      "\r",
      "Step 3/3 :  43%|████▎     | 2162/5000 [00:34<00:32, 86.43it/s]"
     ]
    },
    {
     "name": "stderr",
     "output_type": "stream",
     "text": [
      "\r",
      "Step 3/3 :  43%|████▎     | 2162/5000 [00:34<00:32, 86.43it/s]"
     ]
    },
    {
     "name": "stderr",
     "output_type": "stream",
     "text": [
      "\r",
      "Step 3/3 :  43%|████▎     | 2162/5000 [00:34<00:32, 86.43it/s]"
     ]
    },
    {
     "name": "stderr",
     "output_type": "stream",
     "text": [
      "\r",
      "Step 3/3 :  43%|████▎     | 2162/5000 [00:34<00:32, 86.43it/s]"
     ]
    },
    {
     "name": "stderr",
     "output_type": "stream",
     "text": [
      "\r",
      "Step 3/3 :  43%|████▎     | 2162/5000 [00:34<00:32, 86.43it/s]"
     ]
    },
    {
     "name": "stderr",
     "output_type": "stream",
     "text": [
      "\r",
      "Step 3/3 :  43%|████▎     | 2162/5000 [00:34<00:32, 86.43it/s]"
     ]
    },
    {
     "name": "stderr",
     "output_type": "stream",
     "text": [
      "\r",
      "Step 3/3 :  43%|████▎     | 2162/5000 [00:34<00:32, 86.43it/s]"
     ]
    },
    {
     "name": "stderr",
     "output_type": "stream",
     "text": [
      "\r",
      "Step 3/3 :  43%|████▎     | 2162/5000 [00:34<00:32, 86.43it/s]"
     ]
    },
    {
     "name": "stderr",
     "output_type": "stream",
     "text": [
      "\r",
      "Step 3/3 :  43%|████▎     | 2162/5000 [00:34<00:32, 86.43it/s]"
     ]
    },
    {
     "name": "stderr",
     "output_type": "stream",
     "text": [
      "\r",
      "Step 3/3 :  43%|████▎     | 2162/5000 [00:34<00:32, 86.43it/s]"
     ]
    },
    {
     "name": "stderr",
     "output_type": "stream",
     "text": [
      "\r",
      "Step 3/3 :  43%|████▎     | 2162/5000 [00:34<00:32, 86.43it/s]"
     ]
    },
    {
     "name": "stderr",
     "output_type": "stream",
     "text": [
      "\r",
      "Step 3/3 :  43%|████▎     | 2172/5000 [00:34<00:31, 88.78it/s]"
     ]
    },
    {
     "name": "stderr",
     "output_type": "stream",
     "text": [
      "\r",
      "Step 3/3 :  43%|████▎     | 2172/5000 [00:34<00:31, 88.78it/s]"
     ]
    },
    {
     "name": "stderr",
     "output_type": "stream",
     "text": [
      "\r",
      "Step 3/3 :  43%|████▎     | 2172/5000 [00:34<00:31, 88.78it/s]"
     ]
    },
    {
     "name": "stderr",
     "output_type": "stream",
     "text": [
      "\r",
      "Step 3/3 :  43%|████▎     | 2172/5000 [00:34<00:31, 88.78it/s]"
     ]
    },
    {
     "name": "stderr",
     "output_type": "stream",
     "text": [
      "\r",
      "Step 3/3 :  43%|████▎     | 2172/5000 [00:34<00:31, 88.78it/s]"
     ]
    },
    {
     "name": "stderr",
     "output_type": "stream",
     "text": [
      "\r",
      "Step 3/3 :  43%|████▎     | 2172/5000 [00:34<00:31, 88.78it/s]"
     ]
    },
    {
     "name": "stderr",
     "output_type": "stream",
     "text": [
      "\r",
      "Step 3/3 :  43%|████▎     | 2172/5000 [00:34<00:31, 88.78it/s]"
     ]
    },
    {
     "name": "stderr",
     "output_type": "stream",
     "text": [
      "\r",
      "Step 3/3 :  43%|████▎     | 2172/5000 [00:34<00:31, 88.78it/s]"
     ]
    },
    {
     "name": "stderr",
     "output_type": "stream",
     "text": [
      "\r",
      "Step 3/3 :  43%|████▎     | 2172/5000 [00:34<00:31, 88.78it/s]"
     ]
    },
    {
     "name": "stderr",
     "output_type": "stream",
     "text": [
      "\r",
      "Step 3/3 :  43%|████▎     | 2172/5000 [00:34<00:31, 88.78it/s]"
     ]
    },
    {
     "name": "stderr",
     "output_type": "stream",
     "text": [
      "\r",
      "Step 3/3 :  43%|████▎     | 2172/5000 [00:34<00:31, 88.78it/s]"
     ]
    },
    {
     "name": "stderr",
     "output_type": "stream",
     "text": [
      "\r",
      "Step 3/3 :  44%|████▎     | 2182/5000 [00:34<00:30, 91.46it/s]"
     ]
    },
    {
     "name": "stderr",
     "output_type": "stream",
     "text": [
      "\r",
      "Step 3/3 :  44%|████▎     | 2182/5000 [00:34<00:30, 91.46it/s]"
     ]
    },
    {
     "name": "stderr",
     "output_type": "stream",
     "text": [
      "\r",
      "Step 3/3 :  44%|████▎     | 2182/5000 [00:34<00:30, 91.46it/s]"
     ]
    },
    {
     "name": "stderr",
     "output_type": "stream",
     "text": [
      "\r",
      "Step 3/3 :  44%|████▎     | 2182/5000 [00:34<00:30, 91.46it/s]"
     ]
    },
    {
     "name": "stderr",
     "output_type": "stream",
     "text": [
      "\r",
      "Step 3/3 :  44%|████▎     | 2182/5000 [00:34<00:30, 91.46it/s]"
     ]
    },
    {
     "name": "stderr",
     "output_type": "stream",
     "text": [
      "\r",
      "Step 3/3 :  44%|████▎     | 2182/5000 [00:34<00:30, 91.46it/s]"
     ]
    },
    {
     "name": "stderr",
     "output_type": "stream",
     "text": [
      "\r",
      "Step 3/3 :  44%|████▎     | 2182/5000 [00:34<00:30, 91.46it/s]"
     ]
    },
    {
     "name": "stderr",
     "output_type": "stream",
     "text": [
      "\r",
      "Step 3/3 :  44%|████▎     | 2182/5000 [00:34<00:30, 91.46it/s]"
     ]
    },
    {
     "name": "stderr",
     "output_type": "stream",
     "text": [
      "\r",
      "Step 3/3 :  44%|████▎     | 2182/5000 [00:34<00:30, 91.46it/s]"
     ]
    },
    {
     "name": "stderr",
     "output_type": "stream",
     "text": [
      "\r",
      "Step 3/3 :  44%|████▎     | 2182/5000 [00:34<00:30, 91.46it/s]"
     ]
    },
    {
     "name": "stderr",
     "output_type": "stream",
     "text": [
      "\r",
      "Step 3/3 :  44%|████▎     | 2182/5000 [00:34<00:30, 91.46it/s]"
     ]
    },
    {
     "name": "stderr",
     "output_type": "stream",
     "text": [
      "\r",
      "Step 3/3 :  44%|████▍     | 2192/5000 [00:34<00:30, 90.78it/s]"
     ]
    },
    {
     "name": "stderr",
     "output_type": "stream",
     "text": [
      "\r",
      "Step 3/3 :  44%|████▍     | 2192/5000 [00:34<00:30, 90.78it/s]"
     ]
    },
    {
     "name": "stderr",
     "output_type": "stream",
     "text": [
      "\r",
      "Step 3/3 :  44%|████▍     | 2192/5000 [00:34<00:30, 90.78it/s]"
     ]
    },
    {
     "name": "stderr",
     "output_type": "stream",
     "text": [
      "\r",
      "Step 3/3 :  44%|████▍     | 2192/5000 [00:34<00:30, 90.78it/s]"
     ]
    },
    {
     "name": "stderr",
     "output_type": "stream",
     "text": [
      "\r",
      "Step 3/3 :  44%|████▍     | 2192/5000 [00:34<00:30, 90.78it/s]"
     ]
    },
    {
     "name": "stderr",
     "output_type": "stream",
     "text": [
      "\r",
      "Step 3/3 :  44%|████▍     | 2192/5000 [00:34<00:30, 90.78it/s]"
     ]
    },
    {
     "name": "stderr",
     "output_type": "stream",
     "text": [
      "\r",
      "Step 3/3 :  44%|████▍     | 2192/5000 [00:34<00:30, 90.78it/s]"
     ]
    },
    {
     "name": "stderr",
     "output_type": "stream",
     "text": [
      "\r",
      "Step 3/3 :  44%|████▍     | 2192/5000 [00:34<00:30, 90.78it/s]"
     ]
    },
    {
     "name": "stderr",
     "output_type": "stream",
     "text": [
      "\r",
      "Step 3/3 :  44%|████▍     | 2192/5000 [00:34<00:30, 90.78it/s]"
     ]
    },
    {
     "name": "stderr",
     "output_type": "stream",
     "text": [
      "\r",
      "Step 3/3 :  44%|████▍     | 2192/5000 [00:34<00:30, 90.78it/s]"
     ]
    },
    {
     "name": "stderr",
     "output_type": "stream",
     "text": [
      "\r",
      "Step 3/3 :  44%|████▍     | 2192/5000 [00:34<00:30, 90.78it/s]"
     ]
    },
    {
     "name": "stderr",
     "output_type": "stream",
     "text": [
      "\r",
      "Step 3/3 :  44%|████▍     | 2202/5000 [00:34<00:33, 84.72it/s]"
     ]
    },
    {
     "name": "stderr",
     "output_type": "stream",
     "text": [
      "\r",
      "Step 3/3 :  44%|████▍     | 2202/5000 [00:34<00:33, 84.72it/s]"
     ]
    },
    {
     "name": "stderr",
     "output_type": "stream",
     "text": [
      "\r",
      "Step 3/3 :  44%|████▍     | 2202/5000 [00:34<00:33, 84.72it/s]"
     ]
    },
    {
     "name": "stderr",
     "output_type": "stream",
     "text": [
      "\r",
      "Step 3/3 :  44%|████▍     | 2202/5000 [00:34<00:33, 84.72it/s]"
     ]
    },
    {
     "name": "stderr",
     "output_type": "stream",
     "text": [
      "\r",
      "Step 3/3 :  44%|████▍     | 2202/5000 [00:34<00:33, 84.72it/s]"
     ]
    },
    {
     "name": "stderr",
     "output_type": "stream",
     "text": [
      "\r",
      "Step 3/3 :  44%|████▍     | 2202/5000 [00:34<00:33, 84.72it/s]"
     ]
    },
    {
     "name": "stderr",
     "output_type": "stream",
     "text": [
      "\r",
      "Step 3/3 :  44%|████▍     | 2202/5000 [00:34<00:33, 84.72it/s]"
     ]
    },
    {
     "name": "stderr",
     "output_type": "stream",
     "text": [
      "\r",
      "Step 3/3 :  44%|████▍     | 2202/5000 [00:34<00:33, 84.72it/s]"
     ]
    },
    {
     "name": "stderr",
     "output_type": "stream",
     "text": [
      "\r",
      "Step 3/3 :  44%|████▍     | 2202/5000 [00:34<00:33, 84.72it/s]"
     ]
    },
    {
     "name": "stderr",
     "output_type": "stream",
     "text": [
      "\r",
      "Step 3/3 :  44%|████▍     | 2202/5000 [00:34<00:33, 84.72it/s]"
     ]
    },
    {
     "name": "stderr",
     "output_type": "stream",
     "text": [
      "\r",
      "Step 3/3 :  44%|████▍     | 2211/5000 [00:34<00:32, 85.00it/s]"
     ]
    },
    {
     "name": "stderr",
     "output_type": "stream",
     "text": [
      "\r",
      "Step 3/3 :  44%|████▍     | 2211/5000 [00:34<00:32, 85.00it/s]"
     ]
    },
    {
     "name": "stderr",
     "output_type": "stream",
     "text": [
      "\r",
      "Step 3/3 :  44%|████▍     | 2211/5000 [00:34<00:32, 85.00it/s]"
     ]
    },
    {
     "name": "stderr",
     "output_type": "stream",
     "text": [
      "\r",
      "Step 3/3 :  44%|████▍     | 2211/5000 [00:34<00:32, 85.00it/s]"
     ]
    },
    {
     "name": "stderr",
     "output_type": "stream",
     "text": [
      "\r",
      "Step 3/3 :  44%|████▍     | 2211/5000 [00:34<00:32, 85.00it/s]"
     ]
    },
    {
     "name": "stderr",
     "output_type": "stream",
     "text": [
      "\r",
      "Step 3/3 :  44%|████▍     | 2211/5000 [00:34<00:32, 85.00it/s]"
     ]
    },
    {
     "name": "stderr",
     "output_type": "stream",
     "text": [
      "\r",
      "Step 3/3 :  44%|████▍     | 2211/5000 [00:34<00:32, 85.00it/s]"
     ]
    },
    {
     "name": "stderr",
     "output_type": "stream",
     "text": [
      "\r",
      "Step 3/3 :  44%|████▍     | 2211/5000 [00:34<00:32, 85.00it/s]"
     ]
    },
    {
     "name": "stderr",
     "output_type": "stream",
     "text": [
      "\r",
      "Step 3/3 :  44%|████▍     | 2211/5000 [00:34<00:32, 85.00it/s]"
     ]
    },
    {
     "name": "stderr",
     "output_type": "stream",
     "text": [
      "\r",
      "Step 3/3 :  44%|████▍     | 2211/5000 [00:34<00:32, 85.00it/s]"
     ]
    },
    {
     "name": "stderr",
     "output_type": "stream",
     "text": [
      "\r",
      "Step 3/3 :  44%|████▍     | 2220/5000 [00:34<00:33, 83.39it/s]"
     ]
    },
    {
     "name": "stderr",
     "output_type": "stream",
     "text": [
      "\r",
      "Step 3/3 :  44%|████▍     | 2220/5000 [00:34<00:33, 83.39it/s]"
     ]
    },
    {
     "name": "stderr",
     "output_type": "stream",
     "text": [
      "\r",
      "Step 3/3 :  44%|████▍     | 2220/5000 [00:34<00:33, 83.39it/s]"
     ]
    },
    {
     "name": "stderr",
     "output_type": "stream",
     "text": [
      "\r",
      "Step 3/3 :  44%|████▍     | 2220/5000 [00:34<00:33, 83.39it/s]"
     ]
    },
    {
     "name": "stderr",
     "output_type": "stream",
     "text": [
      "\r",
      "Step 3/3 :  44%|████▍     | 2220/5000 [00:34<00:33, 83.39it/s]"
     ]
    },
    {
     "name": "stderr",
     "output_type": "stream",
     "text": [
      "\r",
      "Step 3/3 :  44%|████▍     | 2220/5000 [00:34<00:33, 83.39it/s]"
     ]
    },
    {
     "name": "stderr",
     "output_type": "stream",
     "text": [
      "\r",
      "Step 3/3 :  44%|████▍     | 2220/5000 [00:34<00:33, 83.39it/s]"
     ]
    },
    {
     "name": "stderr",
     "output_type": "stream",
     "text": [
      "\r",
      "Step 3/3 :  44%|████▍     | 2220/5000 [00:34<00:33, 83.39it/s]"
     ]
    },
    {
     "name": "stderr",
     "output_type": "stream",
     "text": [
      "\r",
      "Step 3/3 :  44%|████▍     | 2220/5000 [00:34<00:33, 83.39it/s]"
     ]
    },
    {
     "name": "stderr",
     "output_type": "stream",
     "text": [
      "\r",
      "Step 3/3 :  44%|████▍     | 2220/5000 [00:34<00:33, 83.39it/s]"
     ]
    },
    {
     "name": "stderr",
     "output_type": "stream",
     "text": [
      "\r",
      "Step 3/3 :  45%|████▍     | 2229/5000 [00:34<00:33, 82.05it/s]"
     ]
    },
    {
     "name": "stderr",
     "output_type": "stream",
     "text": [
      "\r",
      "Step 3/3 :  45%|████▍     | 2229/5000 [00:34<00:33, 82.05it/s]"
     ]
    },
    {
     "name": "stderr",
     "output_type": "stream",
     "text": [
      "\r",
      "Step 3/3 :  45%|████▍     | 2229/5000 [00:35<00:33, 82.05it/s]"
     ]
    },
    {
     "name": "stderr",
     "output_type": "stream",
     "text": [
      "\r",
      "Step 3/3 :  45%|████▍     | 2229/5000 [00:35<00:33, 82.05it/s]"
     ]
    },
    {
     "name": "stderr",
     "output_type": "stream",
     "text": [
      "\r",
      "Step 3/3 :  45%|████▍     | 2229/5000 [00:35<00:33, 82.05it/s]"
     ]
    },
    {
     "name": "stderr",
     "output_type": "stream",
     "text": [
      "\r",
      "Step 3/3 :  45%|████▍     | 2229/5000 [00:35<00:33, 82.05it/s]"
     ]
    },
    {
     "name": "stderr",
     "output_type": "stream",
     "text": [
      "\r",
      "Step 3/3 :  45%|████▍     | 2229/5000 [00:35<00:33, 82.05it/s]"
     ]
    },
    {
     "name": "stderr",
     "output_type": "stream",
     "text": [
      "\r",
      "Step 3/3 :  45%|████▍     | 2229/5000 [00:35<00:33, 82.05it/s]"
     ]
    },
    {
     "name": "stderr",
     "output_type": "stream",
     "text": [
      "\r",
      "Step 3/3 :  45%|████▍     | 2229/5000 [00:35<00:33, 82.05it/s]"
     ]
    },
    {
     "name": "stderr",
     "output_type": "stream",
     "text": [
      "\r",
      "Step 3/3 :  45%|████▍     | 2229/5000 [00:35<00:33, 82.05it/s]"
     ]
    },
    {
     "name": "stderr",
     "output_type": "stream",
     "text": [
      "\r",
      "Step 3/3 :  45%|████▍     | 2238/5000 [00:35<00:32, 83.87it/s]"
     ]
    },
    {
     "name": "stderr",
     "output_type": "stream",
     "text": [
      "\r",
      "Step 3/3 :  45%|████▍     | 2238/5000 [00:35<00:32, 83.87it/s]"
     ]
    },
    {
     "name": "stderr",
     "output_type": "stream",
     "text": [
      "\r",
      "Step 3/3 :  45%|████▍     | 2238/5000 [00:35<00:32, 83.87it/s]"
     ]
    },
    {
     "name": "stderr",
     "output_type": "stream",
     "text": [
      "\r",
      "Step 3/3 :  45%|████▍     | 2238/5000 [00:35<00:32, 83.87it/s]"
     ]
    },
    {
     "name": "stderr",
     "output_type": "stream",
     "text": [
      "\r",
      "Step 3/3 :  45%|████▍     | 2238/5000 [00:35<00:32, 83.87it/s]"
     ]
    },
    {
     "name": "stderr",
     "output_type": "stream",
     "text": [
      "\r",
      "Step 3/3 :  45%|████▍     | 2238/5000 [00:35<00:32, 83.87it/s]"
     ]
    },
    {
     "name": "stderr",
     "output_type": "stream",
     "text": [
      "\r",
      "Step 3/3 :  45%|████▍     | 2238/5000 [00:35<00:32, 83.87it/s]"
     ]
    },
    {
     "name": "stderr",
     "output_type": "stream",
     "text": [
      "\r",
      "Step 3/3 :  45%|████▍     | 2238/5000 [00:35<00:32, 83.87it/s]"
     ]
    },
    {
     "name": "stderr",
     "output_type": "stream",
     "text": [
      "\r",
      "Step 3/3 :  45%|████▍     | 2238/5000 [00:35<00:32, 83.87it/s]"
     ]
    },
    {
     "name": "stderr",
     "output_type": "stream",
     "text": [
      "\r",
      "Step 3/3 :  45%|████▍     | 2238/5000 [00:35<00:32, 83.87it/s]"
     ]
    },
    {
     "name": "stderr",
     "output_type": "stream",
     "text": [
      "\r",
      "Step 3/3 :  45%|████▍     | 2238/5000 [00:35<00:32, 83.87it/s]"
     ]
    },
    {
     "name": "stderr",
     "output_type": "stream",
     "text": [
      "\r",
      "Step 3/3 :  45%|████▍     | 2248/5000 [00:35<00:31, 86.22it/s]"
     ]
    },
    {
     "name": "stderr",
     "output_type": "stream",
     "text": [
      "\r",
      "Step 3/3 :  45%|████▍     | 2248/5000 [00:35<00:31, 86.22it/s]"
     ]
    },
    {
     "name": "stderr",
     "output_type": "stream",
     "text": [
      "\r",
      "Step 3/3 :  45%|████▍     | 2248/5000 [00:35<00:31, 86.22it/s]"
     ]
    },
    {
     "name": "stderr",
     "output_type": "stream",
     "text": [
      "\r",
      "Step 3/3 :  45%|████▍     | 2248/5000 [00:35<00:31, 86.22it/s]"
     ]
    },
    {
     "name": "stderr",
     "output_type": "stream",
     "text": [
      "\r",
      "Step 3/3 :  45%|████▍     | 2248/5000 [00:35<00:31, 86.22it/s]"
     ]
    },
    {
     "name": "stderr",
     "output_type": "stream",
     "text": [
      "\r",
      "Step 3/3 :  45%|████▍     | 2248/5000 [00:35<00:31, 86.22it/s]"
     ]
    },
    {
     "name": "stderr",
     "output_type": "stream",
     "text": [
      "\r",
      "Step 3/3 :  45%|████▍     | 2248/5000 [00:35<00:31, 86.22it/s]"
     ]
    },
    {
     "name": "stderr",
     "output_type": "stream",
     "text": [
      "\r",
      "Step 3/3 :  45%|████▍     | 2248/5000 [00:35<00:31, 86.22it/s]"
     ]
    },
    {
     "name": "stderr",
     "output_type": "stream",
     "text": [
      "\r",
      "Step 3/3 :  45%|████▍     | 2248/5000 [00:35<00:31, 86.22it/s]"
     ]
    },
    {
     "name": "stderr",
     "output_type": "stream",
     "text": [
      "\r",
      "Step 3/3 :  45%|████▍     | 2248/5000 [00:35<00:31, 86.22it/s]"
     ]
    },
    {
     "name": "stderr",
     "output_type": "stream",
     "text": [
      "\r",
      "Step 3/3 :  45%|████▍     | 2248/5000 [00:35<00:31, 86.22it/s]"
     ]
    },
    {
     "name": "stderr",
     "output_type": "stream",
     "text": [
      "\r",
      "Step 3/3 :  45%|████▌     | 2258/5000 [00:35<00:31, 87.87it/s]"
     ]
    },
    {
     "name": "stderr",
     "output_type": "stream",
     "text": [
      "\r",
      "Step 3/3 :  45%|████▌     | 2258/5000 [00:35<00:31, 87.87it/s]"
     ]
    },
    {
     "name": "stderr",
     "output_type": "stream",
     "text": [
      "\r",
      "Step 3/3 :  45%|████▌     | 2258/5000 [00:35<00:31, 87.87it/s]"
     ]
    },
    {
     "name": "stderr",
     "output_type": "stream",
     "text": [
      "\r",
      "Step 3/3 :  45%|████▌     | 2258/5000 [00:35<00:31, 87.87it/s]"
     ]
    },
    {
     "name": "stderr",
     "output_type": "stream",
     "text": [
      "\r",
      "Step 3/3 :  45%|████▌     | 2258/5000 [00:35<00:31, 87.87it/s]"
     ]
    },
    {
     "name": "stderr",
     "output_type": "stream",
     "text": [
      "\r",
      "Step 3/3 :  45%|████▌     | 2258/5000 [00:35<00:31, 87.87it/s]"
     ]
    },
    {
     "name": "stderr",
     "output_type": "stream",
     "text": [
      "\r",
      "Step 3/3 :  45%|████▌     | 2258/5000 [00:35<00:31, 87.87it/s]"
     ]
    },
    {
     "name": "stderr",
     "output_type": "stream",
     "text": [
      "\r",
      "Step 3/3 :  45%|████▌     | 2258/5000 [00:35<00:31, 87.87it/s]"
     ]
    },
    {
     "name": "stderr",
     "output_type": "stream",
     "text": [
      "\r",
      "Step 3/3 :  45%|████▌     | 2258/5000 [00:35<00:31, 87.87it/s]"
     ]
    },
    {
     "name": "stderr",
     "output_type": "stream",
     "text": [
      "\r",
      "Step 3/3 :  45%|████▌     | 2258/5000 [00:35<00:31, 87.87it/s]"
     ]
    },
    {
     "name": "stderr",
     "output_type": "stream",
     "text": [
      "\r",
      "Step 3/3 :  45%|████▌     | 2258/5000 [00:35<00:31, 87.87it/s]"
     ]
    },
    {
     "name": "stderr",
     "output_type": "stream",
     "text": [
      "\r",
      "Step 3/3 :  45%|████▌     | 2268/5000 [00:35<00:30, 90.01it/s]"
     ]
    },
    {
     "name": "stderr",
     "output_type": "stream",
     "text": [
      "\r",
      "Step 3/3 :  45%|████▌     | 2268/5000 [00:35<00:30, 90.01it/s]"
     ]
    },
    {
     "name": "stderr",
     "output_type": "stream",
     "text": [
      "\r",
      "Step 3/3 :  45%|████▌     | 2268/5000 [00:35<00:30, 90.01it/s]"
     ]
    },
    {
     "name": "stderr",
     "output_type": "stream",
     "text": [
      "\r",
      "Step 3/3 :  45%|████▌     | 2268/5000 [00:35<00:30, 90.01it/s]"
     ]
    },
    {
     "name": "stderr",
     "output_type": "stream",
     "text": [
      "\r",
      "Step 3/3 :  45%|████▌     | 2268/5000 [00:35<00:30, 90.01it/s]"
     ]
    },
    {
     "name": "stderr",
     "output_type": "stream",
     "text": [
      "\r",
      "Step 3/3 :  45%|████▌     | 2268/5000 [00:35<00:30, 90.01it/s]"
     ]
    },
    {
     "name": "stderr",
     "output_type": "stream",
     "text": [
      "\r",
      "Step 3/3 :  45%|████▌     | 2268/5000 [00:35<00:30, 90.01it/s]"
     ]
    },
    {
     "name": "stderr",
     "output_type": "stream",
     "text": [
      "\r",
      "Step 3/3 :  45%|████▌     | 2268/5000 [00:35<00:30, 90.01it/s]"
     ]
    },
    {
     "name": "stderr",
     "output_type": "stream",
     "text": [
      "\r",
      "Step 3/3 :  45%|████▌     | 2268/5000 [00:35<00:30, 90.01it/s]"
     ]
    },
    {
     "name": "stderr",
     "output_type": "stream",
     "text": [
      "\r",
      "Step 3/3 :  45%|████▌     | 2268/5000 [00:35<00:30, 90.01it/s]"
     ]
    },
    {
     "name": "stderr",
     "output_type": "stream",
     "text": [
      "\r",
      "Step 3/3 :  45%|████▌     | 2268/5000 [00:35<00:30, 90.01it/s]"
     ]
    },
    {
     "name": "stderr",
     "output_type": "stream",
     "text": [
      "\r",
      "Step 3/3 :  46%|████▌     | 2278/5000 [00:35<00:31, 87.63it/s]"
     ]
    },
    {
     "name": "stderr",
     "output_type": "stream",
     "text": [
      "\r",
      "Step 3/3 :  46%|████▌     | 2278/5000 [00:35<00:31, 87.63it/s]"
     ]
    },
    {
     "name": "stderr",
     "output_type": "stream",
     "text": [
      "\r",
      "Step 3/3 :  46%|████▌     | 2278/5000 [00:35<00:31, 87.63it/s]"
     ]
    },
    {
     "name": "stderr",
     "output_type": "stream",
     "text": [
      "\r",
      "Step 3/3 :  46%|████▌     | 2278/5000 [00:35<00:31, 87.63it/s]"
     ]
    },
    {
     "name": "stderr",
     "output_type": "stream",
     "text": [
      "\r",
      "Step 3/3 :  46%|████▌     | 2278/5000 [00:35<00:31, 87.63it/s]"
     ]
    },
    {
     "name": "stderr",
     "output_type": "stream",
     "text": [
      "\r",
      "Step 3/3 :  46%|████▌     | 2278/5000 [00:35<00:31, 87.63it/s]"
     ]
    },
    {
     "name": "stderr",
     "output_type": "stream",
     "text": [
      "\r",
      "Step 3/3 :  46%|████▌     | 2278/5000 [00:35<00:31, 87.63it/s]"
     ]
    },
    {
     "name": "stderr",
     "output_type": "stream",
     "text": [
      "\r",
      "Step 3/3 :  46%|████▌     | 2278/5000 [00:35<00:31, 87.63it/s]"
     ]
    },
    {
     "name": "stderr",
     "output_type": "stream",
     "text": [
      "\r",
      "Step 3/3 :  46%|████▌     | 2278/5000 [00:35<00:31, 87.63it/s]"
     ]
    },
    {
     "name": "stderr",
     "output_type": "stream",
     "text": [
      "\r",
      "Step 3/3 :  46%|████▌     | 2278/5000 [00:35<00:31, 87.63it/s]"
     ]
    },
    {
     "name": "stderr",
     "output_type": "stream",
     "text": [
      "\r",
      "Step 3/3 :  46%|████▌     | 2287/5000 [00:35<00:30, 88.04it/s]"
     ]
    },
    {
     "name": "stderr",
     "output_type": "stream",
     "text": [
      "\r",
      "Step 3/3 :  46%|████▌     | 2287/5000 [00:35<00:30, 88.04it/s]"
     ]
    },
    {
     "name": "stderr",
     "output_type": "stream",
     "text": [
      "\r",
      "Step 3/3 :  46%|████▌     | 2287/5000 [00:35<00:30, 88.04it/s]"
     ]
    },
    {
     "name": "stderr",
     "output_type": "stream",
     "text": [
      "\r",
      "Step 3/3 :  46%|████▌     | 2287/5000 [00:35<00:30, 88.04it/s]"
     ]
    },
    {
     "name": "stderr",
     "output_type": "stream",
     "text": [
      "\r",
      "Step 3/3 :  46%|████▌     | 2287/5000 [00:35<00:30, 88.04it/s]"
     ]
    },
    {
     "name": "stderr",
     "output_type": "stream",
     "text": [
      "\r",
      "Step 3/3 :  46%|████▌     | 2287/5000 [00:35<00:30, 88.04it/s]"
     ]
    },
    {
     "name": "stderr",
     "output_type": "stream",
     "text": [
      "\r",
      "Step 3/3 :  46%|████▌     | 2287/5000 [00:35<00:30, 88.04it/s]"
     ]
    },
    {
     "name": "stderr",
     "output_type": "stream",
     "text": [
      "\r",
      "Step 3/3 :  46%|████▌     | 2287/5000 [00:35<00:30, 88.04it/s]"
     ]
    },
    {
     "name": "stderr",
     "output_type": "stream",
     "text": [
      "\r",
      "Step 3/3 :  46%|████▌     | 2287/5000 [00:35<00:30, 88.04it/s]"
     ]
    },
    {
     "name": "stderr",
     "output_type": "stream",
     "text": [
      "\r",
      "Step 3/3 :  46%|████▌     | 2287/5000 [00:35<00:30, 88.04it/s]"
     ]
    },
    {
     "name": "stderr",
     "output_type": "stream",
     "text": [
      "\r",
      "Step 3/3 :  46%|████▌     | 2287/5000 [00:35<00:30, 88.04it/s]"
     ]
    },
    {
     "name": "stderr",
     "output_type": "stream",
     "text": [
      "\r",
      "Step 3/3 :  46%|████▌     | 2297/5000 [00:35<00:29, 90.91it/s]"
     ]
    },
    {
     "name": "stderr",
     "output_type": "stream",
     "text": [
      "\r",
      "Step 3/3 :  46%|████▌     | 2297/5000 [00:35<00:29, 90.91it/s]"
     ]
    },
    {
     "name": "stderr",
     "output_type": "stream",
     "text": [
      "\r",
      "Step 3/3 :  46%|████▌     | 2297/5000 [00:35<00:29, 90.91it/s]"
     ]
    },
    {
     "name": "stderr",
     "output_type": "stream",
     "text": [
      "\r",
      "Step 3/3 :  46%|████▌     | 2297/5000 [00:35<00:29, 90.91it/s]"
     ]
    },
    {
     "name": "stderr",
     "output_type": "stream",
     "text": [
      "\r",
      "Step 3/3 :  46%|████▌     | 2297/5000 [00:35<00:29, 90.91it/s]"
     ]
    },
    {
     "name": "stderr",
     "output_type": "stream",
     "text": [
      "\r",
      "Step 3/3 :  46%|████▌     | 2297/5000 [00:35<00:29, 90.91it/s]"
     ]
    },
    {
     "name": "stderr",
     "output_type": "stream",
     "text": [
      "\r",
      "Step 3/3 :  46%|████▌     | 2297/5000 [00:35<00:29, 90.91it/s]"
     ]
    },
    {
     "name": "stderr",
     "output_type": "stream",
     "text": [
      "\r",
      "Step 3/3 :  46%|████▌     | 2297/5000 [00:35<00:29, 90.91it/s]"
     ]
    },
    {
     "name": "stderr",
     "output_type": "stream",
     "text": [
      "\r",
      "Step 3/3 :  46%|████▌     | 2297/5000 [00:35<00:29, 90.91it/s]"
     ]
    },
    {
     "name": "stderr",
     "output_type": "stream",
     "text": [
      "\r",
      "Step 3/3 :  46%|████▌     | 2297/5000 [00:35<00:29, 90.91it/s]"
     ]
    },
    {
     "name": "stderr",
     "output_type": "stream",
     "text": [
      "\r",
      "Step 3/3 :  46%|████▌     | 2297/5000 [00:35<00:29, 90.91it/s]"
     ]
    },
    {
     "name": "stderr",
     "output_type": "stream",
     "text": [
      "\r",
      "Step 3/3 :  46%|████▌     | 2307/5000 [00:35<00:29, 92.46it/s]"
     ]
    },
    {
     "name": "stderr",
     "output_type": "stream",
     "text": [
      "\r",
      "Step 3/3 :  46%|████▌     | 2307/5000 [00:35<00:29, 92.46it/s]"
     ]
    },
    {
     "name": "stderr",
     "output_type": "stream",
     "text": [
      "\r",
      "Step 3/3 :  46%|████▌     | 2307/5000 [00:35<00:29, 92.46it/s]"
     ]
    },
    {
     "name": "stderr",
     "output_type": "stream",
     "text": [
      "\r",
      "Step 3/3 :  46%|████▌     | 2307/5000 [00:35<00:29, 92.46it/s]"
     ]
    },
    {
     "name": "stderr",
     "output_type": "stream",
     "text": [
      "\r",
      "Step 3/3 :  46%|████▌     | 2307/5000 [00:35<00:29, 92.46it/s]"
     ]
    },
    {
     "name": "stderr",
     "output_type": "stream",
     "text": [
      "\r",
      "Step 3/3 :  46%|████▌     | 2307/5000 [00:35<00:29, 92.46it/s]"
     ]
    },
    {
     "name": "stderr",
     "output_type": "stream",
     "text": [
      "\r",
      "Step 3/3 :  46%|████▌     | 2307/5000 [00:35<00:29, 92.46it/s]"
     ]
    },
    {
     "name": "stderr",
     "output_type": "stream",
     "text": [
      "\r",
      "Step 3/3 :  46%|████▌     | 2307/5000 [00:35<00:29, 92.46it/s]"
     ]
    },
    {
     "name": "stderr",
     "output_type": "stream",
     "text": [
      "\r",
      "Step 3/3 :  46%|████▌     | 2307/5000 [00:35<00:29, 92.46it/s]"
     ]
    },
    {
     "name": "stderr",
     "output_type": "stream",
     "text": [
      "\r",
      "Step 3/3 :  46%|████▌     | 2307/5000 [00:35<00:29, 92.46it/s]"
     ]
    },
    {
     "name": "stderr",
     "output_type": "stream",
     "text": [
      "\r",
      "Step 3/3 :  46%|████▌     | 2307/5000 [00:35<00:29, 92.46it/s]"
     ]
    },
    {
     "name": "stderr",
     "output_type": "stream",
     "text": [
      "\r",
      "Step 3/3 :  46%|████▋     | 2317/5000 [00:35<00:28, 93.02it/s]"
     ]
    },
    {
     "name": "stderr",
     "output_type": "stream",
     "text": [
      "\r",
      "Step 3/3 :  46%|████▋     | 2317/5000 [00:35<00:28, 93.02it/s]"
     ]
    },
    {
     "name": "stderr",
     "output_type": "stream",
     "text": [
      "\r",
      "Step 3/3 :  46%|████▋     | 2317/5000 [00:35<00:28, 93.02it/s]"
     ]
    },
    {
     "name": "stderr",
     "output_type": "stream",
     "text": [
      "\r",
      "Step 3/3 :  46%|████▋     | 2317/5000 [00:35<00:28, 93.02it/s]"
     ]
    },
    {
     "name": "stderr",
     "output_type": "stream",
     "text": [
      "\r",
      "Step 3/3 :  46%|████▋     | 2317/5000 [00:35<00:28, 93.02it/s]"
     ]
    },
    {
     "name": "stderr",
     "output_type": "stream",
     "text": [
      "\r",
      "Step 3/3 :  46%|████▋     | 2317/5000 [00:36<00:28, 93.02it/s]"
     ]
    },
    {
     "name": "stderr",
     "output_type": "stream",
     "text": [
      "\r",
      "Step 3/3 :  46%|████▋     | 2317/5000 [00:36<00:28, 93.02it/s]"
     ]
    },
    {
     "name": "stderr",
     "output_type": "stream",
     "text": [
      "\r",
      "Step 3/3 :  46%|████▋     | 2317/5000 [00:36<00:28, 93.02it/s]"
     ]
    },
    {
     "name": "stderr",
     "output_type": "stream",
     "text": [
      "\r",
      "Step 3/3 :  46%|████▋     | 2317/5000 [00:36<00:28, 93.02it/s]"
     ]
    },
    {
     "name": "stderr",
     "output_type": "stream",
     "text": [
      "\r",
      "Step 3/3 :  46%|████▋     | 2317/5000 [00:36<00:28, 93.02it/s]"
     ]
    },
    {
     "name": "stderr",
     "output_type": "stream",
     "text": [
      "\r",
      "Step 3/3 :  46%|████▋     | 2317/5000 [00:36<00:28, 93.02it/s]"
     ]
    },
    {
     "name": "stderr",
     "output_type": "stream",
     "text": [
      "\r",
      "Step 3/3 :  47%|████▋     | 2327/5000 [00:36<00:29, 89.61it/s]"
     ]
    },
    {
     "name": "stderr",
     "output_type": "stream",
     "text": [
      "\r",
      "Step 3/3 :  47%|████▋     | 2327/5000 [00:36<00:29, 89.61it/s]"
     ]
    },
    {
     "name": "stderr",
     "output_type": "stream",
     "text": [
      "\r",
      "Step 3/3 :  47%|████▋     | 2327/5000 [00:36<00:29, 89.61it/s]"
     ]
    },
    {
     "name": "stderr",
     "output_type": "stream",
     "text": [
      "\r",
      "Step 3/3 :  47%|████▋     | 2327/5000 [00:36<00:29, 89.61it/s]"
     ]
    },
    {
     "name": "stderr",
     "output_type": "stream",
     "text": [
      "\r",
      "Step 3/3 :  47%|████▋     | 2327/5000 [00:36<00:29, 89.61it/s]"
     ]
    },
    {
     "name": "stderr",
     "output_type": "stream",
     "text": [
      "\r",
      "Step 3/3 :  47%|████▋     | 2327/5000 [00:36<00:29, 89.61it/s]"
     ]
    },
    {
     "name": "stderr",
     "output_type": "stream",
     "text": [
      "\r",
      "Step 3/3 :  47%|████▋     | 2327/5000 [00:36<00:29, 89.61it/s]"
     ]
    },
    {
     "name": "stderr",
     "output_type": "stream",
     "text": [
      "\r",
      "Step 3/3 :  47%|████▋     | 2327/5000 [00:36<00:29, 89.61it/s]"
     ]
    },
    {
     "name": "stderr",
     "output_type": "stream",
     "text": [
      "\r",
      "Step 3/3 :  47%|████▋     | 2327/5000 [00:36<00:29, 89.61it/s]"
     ]
    },
    {
     "name": "stderr",
     "output_type": "stream",
     "text": [
      "\r",
      "Step 3/3 :  47%|████▋     | 2327/5000 [00:36<00:29, 89.61it/s]"
     ]
    },
    {
     "name": "stderr",
     "output_type": "stream",
     "text": [
      "\r",
      "Step 3/3 :  47%|████▋     | 2327/5000 [00:36<00:29, 89.61it/s]"
     ]
    },
    {
     "name": "stderr",
     "output_type": "stream",
     "text": [
      "\r",
      "Step 3/3 :  47%|████▋     | 2337/5000 [00:36<00:30, 87.15it/s]"
     ]
    },
    {
     "name": "stderr",
     "output_type": "stream",
     "text": [
      "\r",
      "Step 3/3 :  47%|████▋     | 2337/5000 [00:36<00:30, 87.15it/s]"
     ]
    },
    {
     "name": "stderr",
     "output_type": "stream",
     "text": [
      "\r",
      "Step 3/3 :  47%|████▋     | 2337/5000 [00:36<00:30, 87.15it/s]"
     ]
    },
    {
     "name": "stderr",
     "output_type": "stream",
     "text": [
      "\r",
      "Step 3/3 :  47%|████▋     | 2337/5000 [00:36<00:30, 87.15it/s]"
     ]
    },
    {
     "name": "stderr",
     "output_type": "stream",
     "text": [
      "\r",
      "Step 3/3 :  47%|████▋     | 2337/5000 [00:36<00:30, 87.15it/s]"
     ]
    },
    {
     "name": "stderr",
     "output_type": "stream",
     "text": [
      "\r",
      "Step 3/3 :  47%|████▋     | 2337/5000 [00:36<00:30, 87.15it/s]"
     ]
    },
    {
     "name": "stderr",
     "output_type": "stream",
     "text": [
      "\r",
      "Step 3/3 :  47%|████▋     | 2337/5000 [00:36<00:30, 87.15it/s]"
     ]
    },
    {
     "name": "stderr",
     "output_type": "stream",
     "text": [
      "\r",
      "Step 3/3 :  47%|████▋     | 2337/5000 [00:36<00:30, 87.15it/s]"
     ]
    },
    {
     "name": "stderr",
     "output_type": "stream",
     "text": [
      "\r",
      "Step 3/3 :  47%|████▋     | 2337/5000 [00:36<00:30, 87.15it/s]"
     ]
    },
    {
     "name": "stderr",
     "output_type": "stream",
     "text": [
      "\r",
      "Step 3/3 :  47%|████▋     | 2337/5000 [00:36<00:30, 87.15it/s]"
     ]
    },
    {
     "name": "stderr",
     "output_type": "stream",
     "text": [
      "\r",
      "Step 3/3 :  47%|████▋     | 2346/5000 [00:36<00:31, 84.25it/s]"
     ]
    },
    {
     "name": "stderr",
     "output_type": "stream",
     "text": [
      "\r",
      "Step 3/3 :  47%|████▋     | 2346/5000 [00:36<00:31, 84.25it/s]"
     ]
    },
    {
     "name": "stderr",
     "output_type": "stream",
     "text": [
      "\r",
      "Step 3/3 :  47%|████▋     | 2346/5000 [00:36<00:31, 84.25it/s]"
     ]
    },
    {
     "name": "stderr",
     "output_type": "stream",
     "text": [
      "\r",
      "Step 3/3 :  47%|████▋     | 2346/5000 [00:36<00:31, 84.25it/s]"
     ]
    },
    {
     "name": "stderr",
     "output_type": "stream",
     "text": [
      "\r",
      "Step 3/3 :  47%|████▋     | 2346/5000 [00:36<00:31, 84.25it/s]"
     ]
    },
    {
     "name": "stderr",
     "output_type": "stream",
     "text": [
      "\r",
      "Step 3/3 :  47%|████▋     | 2346/5000 [00:36<00:31, 84.25it/s]"
     ]
    },
    {
     "name": "stderr",
     "output_type": "stream",
     "text": [
      "\r",
      "Step 3/3 :  47%|████▋     | 2346/5000 [00:36<00:31, 84.25it/s]"
     ]
    },
    {
     "name": "stderr",
     "output_type": "stream",
     "text": [
      "\r",
      "Step 3/3 :  47%|████▋     | 2346/5000 [00:36<00:31, 84.25it/s]"
     ]
    },
    {
     "name": "stderr",
     "output_type": "stream",
     "text": [
      "\r",
      "Step 3/3 :  47%|████▋     | 2346/5000 [00:36<00:31, 84.25it/s]"
     ]
    },
    {
     "name": "stderr",
     "output_type": "stream",
     "text": [
      "\r",
      "Step 3/3 :  47%|████▋     | 2346/5000 [00:36<00:31, 84.25it/s]"
     ]
    },
    {
     "name": "stderr",
     "output_type": "stream",
     "text": [
      "\r",
      "Step 3/3 :  47%|████▋     | 2355/5000 [00:36<00:31, 84.66it/s]"
     ]
    },
    {
     "name": "stderr",
     "output_type": "stream",
     "text": [
      "\r",
      "Step 3/3 :  47%|████▋     | 2355/5000 [00:36<00:31, 84.66it/s]"
     ]
    },
    {
     "name": "stderr",
     "output_type": "stream",
     "text": [
      "\r",
      "Step 3/3 :  47%|████▋     | 2355/5000 [00:36<00:31, 84.66it/s]"
     ]
    },
    {
     "name": "stderr",
     "output_type": "stream",
     "text": [
      "\r",
      "Step 3/3 :  47%|████▋     | 2355/5000 [00:36<00:31, 84.66it/s]"
     ]
    },
    {
     "name": "stderr",
     "output_type": "stream",
     "text": [
      "\r",
      "Step 3/3 :  47%|████▋     | 2355/5000 [00:36<00:31, 84.66it/s]"
     ]
    },
    {
     "name": "stderr",
     "output_type": "stream",
     "text": [
      "\r",
      "Step 3/3 :  47%|████▋     | 2355/5000 [00:36<00:31, 84.66it/s]"
     ]
    },
    {
     "name": "stderr",
     "output_type": "stream",
     "text": [
      "\r",
      "Step 3/3 :  47%|████▋     | 2355/5000 [00:36<00:31, 84.66it/s]"
     ]
    },
    {
     "name": "stderr",
     "output_type": "stream",
     "text": [
      "\r",
      "Step 3/3 :  47%|████▋     | 2355/5000 [00:36<00:31, 84.66it/s]"
     ]
    },
    {
     "name": "stderr",
     "output_type": "stream",
     "text": [
      "\r",
      "Step 3/3 :  47%|████▋     | 2355/5000 [00:36<00:31, 84.66it/s]"
     ]
    },
    {
     "name": "stderr",
     "output_type": "stream",
     "text": [
      "\r",
      "Step 3/3 :  47%|████▋     | 2355/5000 [00:36<00:31, 84.66it/s]"
     ]
    },
    {
     "name": "stderr",
     "output_type": "stream",
     "text": [
      "\r",
      "Step 3/3 :  47%|████▋     | 2364/5000 [00:36<00:30, 85.20it/s]"
     ]
    },
    {
     "name": "stderr",
     "output_type": "stream",
     "text": [
      "\r",
      "Step 3/3 :  47%|████▋     | 2364/5000 [00:36<00:30, 85.20it/s]"
     ]
    },
    {
     "name": "stderr",
     "output_type": "stream",
     "text": [
      "\r",
      "Step 3/3 :  47%|████▋     | 2364/5000 [00:36<00:30, 85.20it/s]"
     ]
    },
    {
     "name": "stderr",
     "output_type": "stream",
     "text": [
      "\r",
      "Step 3/3 :  47%|████▋     | 2364/5000 [00:36<00:30, 85.20it/s]"
     ]
    },
    {
     "name": "stderr",
     "output_type": "stream",
     "text": [
      "\r",
      "Step 3/3 :  47%|████▋     | 2364/5000 [00:36<00:30, 85.20it/s]"
     ]
    },
    {
     "name": "stderr",
     "output_type": "stream",
     "text": [
      "\r",
      "Step 3/3 :  47%|████▋     | 2364/5000 [00:36<00:30, 85.20it/s]"
     ]
    },
    {
     "name": "stderr",
     "output_type": "stream",
     "text": [
      "\r",
      "Step 3/3 :  47%|████▋     | 2364/5000 [00:36<00:30, 85.20it/s]"
     ]
    },
    {
     "name": "stderr",
     "output_type": "stream",
     "text": [
      "\r",
      "Step 3/3 :  47%|████▋     | 2364/5000 [00:36<00:30, 85.20it/s]"
     ]
    },
    {
     "name": "stderr",
     "output_type": "stream",
     "text": [
      "\r",
      "Step 3/3 :  47%|████▋     | 2364/5000 [00:36<00:30, 85.20it/s]"
     ]
    },
    {
     "name": "stderr",
     "output_type": "stream",
     "text": [
      "\r",
      "Step 3/3 :  47%|████▋     | 2364/5000 [00:36<00:30, 85.20it/s]"
     ]
    },
    {
     "name": "stderr",
     "output_type": "stream",
     "text": [
      "\r",
      "Step 3/3 :  47%|████▋     | 2373/5000 [00:36<00:30, 85.59it/s]"
     ]
    },
    {
     "name": "stderr",
     "output_type": "stream",
     "text": [
      "\r",
      "Step 3/3 :  47%|████▋     | 2373/5000 [00:36<00:30, 85.59it/s]"
     ]
    },
    {
     "name": "stderr",
     "output_type": "stream",
     "text": [
      "\r",
      "Step 3/3 :  47%|████▋     | 2373/5000 [00:36<00:30, 85.59it/s]"
     ]
    },
    {
     "name": "stderr",
     "output_type": "stream",
     "text": [
      "\r",
      "Step 3/3 :  47%|████▋     | 2373/5000 [00:36<00:30, 85.59it/s]"
     ]
    },
    {
     "name": "stderr",
     "output_type": "stream",
     "text": [
      "\r",
      "Step 3/3 :  47%|████▋     | 2373/5000 [00:36<00:30, 85.59it/s]"
     ]
    },
    {
     "name": "stderr",
     "output_type": "stream",
     "text": [
      "\r",
      "Step 3/3 :  47%|████▋     | 2373/5000 [00:36<00:30, 85.59it/s]"
     ]
    },
    {
     "name": "stderr",
     "output_type": "stream",
     "text": [
      "\r",
      "Step 3/3 :  47%|████▋     | 2373/5000 [00:36<00:30, 85.59it/s]"
     ]
    },
    {
     "name": "stderr",
     "output_type": "stream",
     "text": [
      "\r",
      "Step 3/3 :  47%|████▋     | 2373/5000 [00:36<00:30, 85.59it/s]"
     ]
    },
    {
     "name": "stderr",
     "output_type": "stream",
     "text": [
      "\r",
      "Step 3/3 :  47%|████▋     | 2373/5000 [00:36<00:30, 85.59it/s]"
     ]
    },
    {
     "name": "stderr",
     "output_type": "stream",
     "text": [
      "\r",
      "Step 3/3 :  47%|████▋     | 2373/5000 [00:36<00:30, 85.59it/s]"
     ]
    },
    {
     "name": "stderr",
     "output_type": "stream",
     "text": [
      "\r",
      "Step 3/3 :  48%|████▊     | 2382/5000 [00:36<00:30, 84.91it/s]"
     ]
    },
    {
     "name": "stderr",
     "output_type": "stream",
     "text": [
      "\r",
      "Step 3/3 :  48%|████▊     | 2382/5000 [00:36<00:30, 84.91it/s]"
     ]
    },
    {
     "name": "stderr",
     "output_type": "stream",
     "text": [
      "\r",
      "Step 3/3 :  48%|████▊     | 2382/5000 [00:36<00:30, 84.91it/s]"
     ]
    },
    {
     "name": "stderr",
     "output_type": "stream",
     "text": [
      "\r",
      "Step 3/3 :  48%|████▊     | 2382/5000 [00:36<00:30, 84.91it/s]"
     ]
    },
    {
     "name": "stderr",
     "output_type": "stream",
     "text": [
      "\r",
      "Step 3/3 :  48%|████▊     | 2382/5000 [00:36<00:30, 84.91it/s]"
     ]
    },
    {
     "name": "stderr",
     "output_type": "stream",
     "text": [
      "\r",
      "Step 3/3 :  48%|████▊     | 2382/5000 [00:36<00:30, 84.91it/s]"
     ]
    },
    {
     "name": "stderr",
     "output_type": "stream",
     "text": [
      "\r",
      "Step 3/3 :  48%|████▊     | 2382/5000 [00:36<00:30, 84.91it/s]"
     ]
    },
    {
     "name": "stderr",
     "output_type": "stream",
     "text": [
      "\r",
      "Step 3/3 :  48%|████▊     | 2382/5000 [00:36<00:30, 84.91it/s]"
     ]
    },
    {
     "name": "stderr",
     "output_type": "stream",
     "text": [
      "\r",
      "Step 3/3 :  48%|████▊     | 2382/5000 [00:36<00:30, 84.91it/s]"
     ]
    },
    {
     "name": "stderr",
     "output_type": "stream",
     "text": [
      "\r",
      "Step 3/3 :  48%|████▊     | 2382/5000 [00:36<00:30, 84.91it/s]"
     ]
    },
    {
     "name": "stderr",
     "output_type": "stream",
     "text": [
      "\r",
      "Step 3/3 :  48%|████▊     | 2382/5000 [00:36<00:30, 84.91it/s]"
     ]
    },
    {
     "name": "stderr",
     "output_type": "stream",
     "text": [
      "\r",
      "Step 3/3 :  48%|████▊     | 2392/5000 [00:36<00:29, 88.69it/s]"
     ]
    },
    {
     "name": "stderr",
     "output_type": "stream",
     "text": [
      "\r",
      "Step 3/3 :  48%|████▊     | 2392/5000 [00:36<00:29, 88.69it/s]"
     ]
    },
    {
     "name": "stderr",
     "output_type": "stream",
     "text": [
      "\r",
      "Step 3/3 :  48%|████▊     | 2392/5000 [00:36<00:29, 88.69it/s]"
     ]
    },
    {
     "name": "stderr",
     "output_type": "stream",
     "text": [
      "\r",
      "Step 3/3 :  48%|████▊     | 2392/5000 [00:36<00:29, 88.69it/s]"
     ]
    },
    {
     "name": "stderr",
     "output_type": "stream",
     "text": [
      "\r",
      "Step 3/3 :  48%|████▊     | 2392/5000 [00:36<00:29, 88.69it/s]"
     ]
    },
    {
     "name": "stderr",
     "output_type": "stream",
     "text": [
      "\r",
      "Step 3/3 :  48%|████▊     | 2392/5000 [00:36<00:29, 88.69it/s]"
     ]
    },
    {
     "name": "stderr",
     "output_type": "stream",
     "text": [
      "\r",
      "Step 3/3 :  48%|████▊     | 2392/5000 [00:36<00:29, 88.69it/s]"
     ]
    },
    {
     "name": "stderr",
     "output_type": "stream",
     "text": [
      "\r",
      "Step 3/3 :  48%|████▊     | 2392/5000 [00:36<00:29, 88.69it/s]"
     ]
    },
    {
     "name": "stderr",
     "output_type": "stream",
     "text": [
      "\r",
      "Step 3/3 :  48%|████▊     | 2392/5000 [00:36<00:29, 88.69it/s]"
     ]
    },
    {
     "name": "stderr",
     "output_type": "stream",
     "text": [
      "\r",
      "Step 3/3 :  48%|████▊     | 2392/5000 [00:36<00:29, 88.69it/s]"
     ]
    },
    {
     "name": "stderr",
     "output_type": "stream",
     "text": [
      "\r",
      "Step 3/3 :  48%|████▊     | 2392/5000 [00:36<00:29, 88.69it/s]"
     ]
    },
    {
     "name": "stderr",
     "output_type": "stream",
     "text": [
      "\r",
      "Step 3/3 :  48%|████▊     | 2402/5000 [00:36<00:28, 91.16it/s]"
     ]
    },
    {
     "name": "stderr",
     "output_type": "stream",
     "text": [
      "\r",
      "Step 3/3 :  48%|████▊     | 2402/5000 [00:36<00:28, 91.16it/s]"
     ]
    },
    {
     "name": "stderr",
     "output_type": "stream",
     "text": [
      "\r",
      "Step 3/3 :  48%|████▊     | 2402/5000 [00:36<00:28, 91.16it/s]"
     ]
    },
    {
     "name": "stderr",
     "output_type": "stream",
     "text": [
      "\r",
      "Step 3/3 :  48%|████▊     | 2402/5000 [00:36<00:28, 91.16it/s]"
     ]
    },
    {
     "name": "stderr",
     "output_type": "stream",
     "text": [
      "\r",
      "Step 3/3 :  48%|████▊     | 2402/5000 [00:36<00:28, 91.16it/s]"
     ]
    },
    {
     "name": "stderr",
     "output_type": "stream",
     "text": [
      "\r",
      "Step 3/3 :  48%|████▊     | 2402/5000 [00:36<00:28, 91.16it/s]"
     ]
    },
    {
     "name": "stderr",
     "output_type": "stream",
     "text": [
      "\r",
      "Step 3/3 :  48%|████▊     | 2402/5000 [00:36<00:28, 91.16it/s]"
     ]
    },
    {
     "name": "stderr",
     "output_type": "stream",
     "text": [
      "\r",
      "Step 3/3 :  48%|████▊     | 2402/5000 [00:37<00:28, 91.16it/s]"
     ]
    },
    {
     "name": "stderr",
     "output_type": "stream",
     "text": [
      "\r",
      "Step 3/3 :  48%|████▊     | 2402/5000 [00:37<00:28, 91.16it/s]"
     ]
    },
    {
     "name": "stderr",
     "output_type": "stream",
     "text": [
      "\r",
      "Step 3/3 :  48%|████▊     | 2402/5000 [00:37<00:28, 91.16it/s]"
     ]
    },
    {
     "name": "stderr",
     "output_type": "stream",
     "text": [
      "\r",
      "Step 3/3 :  48%|████▊     | 2402/5000 [00:37<00:28, 91.16it/s]"
     ]
    },
    {
     "name": "stderr",
     "output_type": "stream",
     "text": [
      "\r",
      "Step 3/3 :  48%|████▊     | 2412/5000 [00:37<00:27, 92.91it/s]"
     ]
    },
    {
     "name": "stderr",
     "output_type": "stream",
     "text": [
      "\r",
      "Step 3/3 :  48%|████▊     | 2412/5000 [00:37<00:27, 92.91it/s]"
     ]
    },
    {
     "name": "stderr",
     "output_type": "stream",
     "text": [
      "\r",
      "Step 3/3 :  48%|████▊     | 2412/5000 [00:37<00:27, 92.91it/s]"
     ]
    },
    {
     "name": "stderr",
     "output_type": "stream",
     "text": [
      "\r",
      "Step 3/3 :  48%|████▊     | 2412/5000 [00:37<00:27, 92.91it/s]"
     ]
    },
    {
     "name": "stderr",
     "output_type": "stream",
     "text": [
      "\r",
      "Step 3/3 :  48%|████▊     | 2412/5000 [00:37<00:27, 92.91it/s]"
     ]
    },
    {
     "name": "stderr",
     "output_type": "stream",
     "text": [
      "\r",
      "Step 3/3 :  48%|████▊     | 2412/5000 [00:37<00:27, 92.91it/s]"
     ]
    },
    {
     "name": "stderr",
     "output_type": "stream",
     "text": [
      "\r",
      "Step 3/3 :  48%|████▊     | 2412/5000 [00:37<00:27, 92.91it/s]"
     ]
    },
    {
     "name": "stderr",
     "output_type": "stream",
     "text": [
      "\r",
      "Step 3/3 :  48%|████▊     | 2412/5000 [00:37<00:27, 92.91it/s]"
     ]
    },
    {
     "name": "stderr",
     "output_type": "stream",
     "text": [
      "\r",
      "Step 3/3 :  48%|████▊     | 2412/5000 [00:37<00:27, 92.91it/s]"
     ]
    },
    {
     "name": "stderr",
     "output_type": "stream",
     "text": [
      "\r",
      "Step 3/3 :  48%|████▊     | 2412/5000 [00:37<00:27, 92.91it/s]"
     ]
    },
    {
     "name": "stderr",
     "output_type": "stream",
     "text": [
      "\r",
      "Step 3/3 :  48%|████▊     | 2412/5000 [00:37<00:27, 92.91it/s]"
     ]
    },
    {
     "name": "stderr",
     "output_type": "stream",
     "text": [
      "\r",
      "Step 3/3 :  48%|████▊     | 2422/5000 [00:37<00:27, 94.70it/s]"
     ]
    },
    {
     "name": "stderr",
     "output_type": "stream",
     "text": [
      "\r",
      "Step 3/3 :  48%|████▊     | 2422/5000 [00:37<00:27, 94.70it/s]"
     ]
    },
    {
     "name": "stderr",
     "output_type": "stream",
     "text": [
      "\r",
      "Step 3/3 :  48%|████▊     | 2422/5000 [00:37<00:27, 94.70it/s]"
     ]
    },
    {
     "name": "stderr",
     "output_type": "stream",
     "text": [
      "\r",
      "Step 3/3 :  48%|████▊     | 2422/5000 [00:37<00:27, 94.70it/s]"
     ]
    },
    {
     "name": "stderr",
     "output_type": "stream",
     "text": [
      "\r",
      "Step 3/3 :  48%|████▊     | 2422/5000 [00:37<00:27, 94.70it/s]"
     ]
    },
    {
     "name": "stderr",
     "output_type": "stream",
     "text": [
      "\r",
      "Step 3/3 :  48%|████▊     | 2422/5000 [00:37<00:27, 94.70it/s]"
     ]
    },
    {
     "name": "stderr",
     "output_type": "stream",
     "text": [
      "\r",
      "Step 3/3 :  48%|████▊     | 2422/5000 [00:37<00:27, 94.70it/s]"
     ]
    },
    {
     "name": "stderr",
     "output_type": "stream",
     "text": [
      "\r",
      "Step 3/3 :  48%|████▊     | 2422/5000 [00:37<00:27, 94.70it/s]"
     ]
    },
    {
     "name": "stderr",
     "output_type": "stream",
     "text": [
      "\r",
      "Step 3/3 :  48%|████▊     | 2422/5000 [00:37<00:27, 94.70it/s]"
     ]
    },
    {
     "name": "stderr",
     "output_type": "stream",
     "text": [
      "\r",
      "Step 3/3 :  48%|████▊     | 2422/5000 [00:37<00:27, 94.70it/s]"
     ]
    },
    {
     "name": "stderr",
     "output_type": "stream",
     "text": [
      "\r",
      "Step 3/3 :  48%|████▊     | 2422/5000 [00:37<00:27, 94.70it/s]"
     ]
    },
    {
     "name": "stderr",
     "output_type": "stream",
     "text": [
      "\r",
      "Step 3/3 :  49%|████▊     | 2432/5000 [00:37<00:28, 91.18it/s]"
     ]
    },
    {
     "name": "stderr",
     "output_type": "stream",
     "text": [
      "\r",
      "Step 3/3 :  49%|████▊     | 2432/5000 [00:37<00:28, 91.18it/s]"
     ]
    },
    {
     "name": "stderr",
     "output_type": "stream",
     "text": [
      "\r",
      "Step 3/3 :  49%|████▊     | 2432/5000 [00:37<00:28, 91.18it/s]"
     ]
    },
    {
     "name": "stderr",
     "output_type": "stream",
     "text": [
      "\r",
      "Step 3/3 :  49%|████▊     | 2432/5000 [00:37<00:28, 91.18it/s]"
     ]
    },
    {
     "name": "stderr",
     "output_type": "stream",
     "text": [
      "\r",
      "Step 3/3 :  49%|████▊     | 2432/5000 [00:37<00:28, 91.18it/s]"
     ]
    },
    {
     "name": "stderr",
     "output_type": "stream",
     "text": [
      "\r",
      "Step 3/3 :  49%|████▊     | 2432/5000 [00:37<00:28, 91.18it/s]"
     ]
    },
    {
     "name": "stderr",
     "output_type": "stream",
     "text": [
      "\r",
      "Step 3/3 :  49%|████▊     | 2432/5000 [00:37<00:28, 91.18it/s]"
     ]
    },
    {
     "name": "stderr",
     "output_type": "stream",
     "text": [
      "\r",
      "Step 3/3 :  49%|████▊     | 2432/5000 [00:37<00:28, 91.18it/s]"
     ]
    },
    {
     "name": "stderr",
     "output_type": "stream",
     "text": [
      "\r",
      "Step 3/3 :  49%|████▊     | 2432/5000 [00:37<00:28, 91.18it/s]"
     ]
    },
    {
     "name": "stderr",
     "output_type": "stream",
     "text": [
      "\r",
      "Step 3/3 :  49%|████▊     | 2432/5000 [00:37<00:28, 91.18it/s]"
     ]
    },
    {
     "name": "stderr",
     "output_type": "stream",
     "text": [
      "\r",
      "Step 3/3 :  49%|████▊     | 2432/5000 [00:37<00:28, 91.18it/s]"
     ]
    },
    {
     "name": "stderr",
     "output_type": "stream",
     "text": [
      "\r",
      "Step 3/3 :  49%|████▉     | 2442/5000 [00:37<00:28, 88.65it/s]"
     ]
    },
    {
     "name": "stderr",
     "output_type": "stream",
     "text": [
      "\r",
      "Step 3/3 :  49%|████▉     | 2442/5000 [00:37<00:28, 88.65it/s]"
     ]
    },
    {
     "name": "stderr",
     "output_type": "stream",
     "text": [
      "\r",
      "Step 3/3 :  49%|████▉     | 2442/5000 [00:37<00:28, 88.65it/s]"
     ]
    },
    {
     "name": "stderr",
     "output_type": "stream",
     "text": [
      "\r",
      "Step 3/3 :  49%|████▉     | 2442/5000 [00:37<00:28, 88.65it/s]"
     ]
    },
    {
     "name": "stderr",
     "output_type": "stream",
     "text": [
      "\r",
      "Step 3/3 :  49%|████▉     | 2442/5000 [00:37<00:28, 88.65it/s]"
     ]
    },
    {
     "name": "stderr",
     "output_type": "stream",
     "text": [
      "\r",
      "Step 3/3 :  49%|████▉     | 2442/5000 [00:37<00:28, 88.65it/s]"
     ]
    },
    {
     "name": "stderr",
     "output_type": "stream",
     "text": [
      "\r",
      "Step 3/3 :  49%|████▉     | 2442/5000 [00:37<00:28, 88.65it/s]"
     ]
    },
    {
     "name": "stderr",
     "output_type": "stream",
     "text": [
      "\r",
      "Step 3/3 :  49%|████▉     | 2442/5000 [00:37<00:28, 88.65it/s]"
     ]
    },
    {
     "name": "stderr",
     "output_type": "stream",
     "text": [
      "\r",
      "Step 3/3 :  49%|████▉     | 2442/5000 [00:37<00:28, 88.65it/s]"
     ]
    },
    {
     "name": "stderr",
     "output_type": "stream",
     "text": [
      "\r",
      "Step 3/3 :  49%|████▉     | 2442/5000 [00:37<00:28, 88.65it/s]"
     ]
    },
    {
     "name": "stderr",
     "output_type": "stream",
     "text": [
      "\r",
      "Step 3/3 :  49%|████▉     | 2451/5000 [00:37<00:29, 85.24it/s]"
     ]
    },
    {
     "name": "stderr",
     "output_type": "stream",
     "text": [
      "\r",
      "Step 3/3 :  49%|████▉     | 2451/5000 [00:37<00:29, 85.24it/s]"
     ]
    },
    {
     "name": "stderr",
     "output_type": "stream",
     "text": [
      "\r",
      "Step 3/3 :  49%|████▉     | 2451/5000 [00:37<00:29, 85.24it/s]"
     ]
    },
    {
     "name": "stderr",
     "output_type": "stream",
     "text": [
      "\r",
      "Step 3/3 :  49%|████▉     | 2451/5000 [00:37<00:29, 85.24it/s]"
     ]
    },
    {
     "name": "stderr",
     "output_type": "stream",
     "text": [
      "\r",
      "Step 3/3 :  49%|████▉     | 2451/5000 [00:37<00:29, 85.24it/s]"
     ]
    },
    {
     "name": "stderr",
     "output_type": "stream",
     "text": [
      "\r",
      "Step 3/3 :  49%|████▉     | 2451/5000 [00:37<00:29, 85.24it/s]"
     ]
    },
    {
     "name": "stderr",
     "output_type": "stream",
     "text": [
      "\r",
      "Step 3/3 :  49%|████▉     | 2451/5000 [00:37<00:29, 85.24it/s]"
     ]
    },
    {
     "name": "stderr",
     "output_type": "stream",
     "text": [
      "\r",
      "Step 3/3 :  49%|████▉     | 2451/5000 [00:37<00:29, 85.24it/s]"
     ]
    },
    {
     "name": "stderr",
     "output_type": "stream",
     "text": [
      "\r",
      "Step 3/3 :  49%|████▉     | 2451/5000 [00:37<00:29, 85.24it/s]"
     ]
    },
    {
     "name": "stderr",
     "output_type": "stream",
     "text": [
      "\r",
      "Step 3/3 :  49%|████▉     | 2451/5000 [00:37<00:29, 85.24it/s]"
     ]
    },
    {
     "name": "stderr",
     "output_type": "stream",
     "text": [
      "\r",
      "Step 3/3 :  49%|████▉     | 2460/5000 [00:37<00:30, 83.34it/s]"
     ]
    },
    {
     "name": "stderr",
     "output_type": "stream",
     "text": [
      "\r",
      "Step 3/3 :  49%|████▉     | 2460/5000 [00:37<00:30, 83.34it/s]"
     ]
    },
    {
     "name": "stderr",
     "output_type": "stream",
     "text": [
      "\r",
      "Step 3/3 :  49%|████▉     | 2460/5000 [00:37<00:30, 83.34it/s]"
     ]
    },
    {
     "name": "stderr",
     "output_type": "stream",
     "text": [
      "\r",
      "Step 3/3 :  49%|████▉     | 2460/5000 [00:37<00:30, 83.34it/s]"
     ]
    },
    {
     "name": "stderr",
     "output_type": "stream",
     "text": [
      "\r",
      "Step 3/3 :  49%|████▉     | 2460/5000 [00:37<00:30, 83.34it/s]"
     ]
    },
    {
     "name": "stderr",
     "output_type": "stream",
     "text": [
      "\r",
      "Step 3/3 :  49%|████▉     | 2460/5000 [00:37<00:30, 83.34it/s]"
     ]
    },
    {
     "name": "stderr",
     "output_type": "stream",
     "text": [
      "\r",
      "Step 3/3 :  49%|████▉     | 2460/5000 [00:37<00:30, 83.34it/s]"
     ]
    },
    {
     "name": "stderr",
     "output_type": "stream",
     "text": [
      "\r",
      "Step 3/3 :  49%|████▉     | 2460/5000 [00:37<00:30, 83.34it/s]"
     ]
    },
    {
     "name": "stderr",
     "output_type": "stream",
     "text": [
      "\r",
      "Step 3/3 :  49%|████▉     | 2460/5000 [00:37<00:30, 83.34it/s]"
     ]
    },
    {
     "name": "stderr",
     "output_type": "stream",
     "text": [
      "\r",
      "Step 3/3 :  49%|████▉     | 2460/5000 [00:37<00:30, 83.34it/s]"
     ]
    },
    {
     "name": "stderr",
     "output_type": "stream",
     "text": [
      "\r",
      "Step 3/3 :  49%|████▉     | 2469/5000 [00:37<00:30, 83.79it/s]"
     ]
    },
    {
     "name": "stderr",
     "output_type": "stream",
     "text": [
      "\r",
      "Step 3/3 :  49%|████▉     | 2469/5000 [00:37<00:30, 83.79it/s]"
     ]
    },
    {
     "name": "stderr",
     "output_type": "stream",
     "text": [
      "\r",
      "Step 3/3 :  49%|████▉     | 2469/5000 [00:37<00:30, 83.79it/s]"
     ]
    },
    {
     "name": "stderr",
     "output_type": "stream",
     "text": [
      "\r",
      "Step 3/3 :  49%|████▉     | 2469/5000 [00:37<00:30, 83.79it/s]"
     ]
    },
    {
     "name": "stderr",
     "output_type": "stream",
     "text": [
      "\r",
      "Step 3/3 :  49%|████▉     | 2469/5000 [00:37<00:30, 83.79it/s]"
     ]
    },
    {
     "name": "stderr",
     "output_type": "stream",
     "text": [
      "\r",
      "Step 3/3 :  49%|████▉     | 2469/5000 [00:37<00:30, 83.79it/s]"
     ]
    },
    {
     "name": "stderr",
     "output_type": "stream",
     "text": [
      "\r",
      "Step 3/3 :  49%|████▉     | 2469/5000 [00:37<00:30, 83.79it/s]"
     ]
    },
    {
     "name": "stderr",
     "output_type": "stream",
     "text": [
      "\r",
      "Step 3/3 :  49%|████▉     | 2469/5000 [00:37<00:30, 83.79it/s]"
     ]
    },
    {
     "name": "stderr",
     "output_type": "stream",
     "text": [
      "\r",
      "Step 3/3 :  49%|████▉     | 2469/5000 [00:37<00:30, 83.79it/s]"
     ]
    },
    {
     "name": "stderr",
     "output_type": "stream",
     "text": [
      "\r",
      "Step 3/3 :  49%|████▉     | 2469/5000 [00:37<00:30, 83.79it/s]"
     ]
    },
    {
     "name": "stderr",
     "output_type": "stream",
     "text": [
      "\r",
      "Step 3/3 :  49%|████▉     | 2469/5000 [00:37<00:30, 83.79it/s]"
     ]
    },
    {
     "name": "stderr",
     "output_type": "stream",
     "text": [
      "\r",
      "Step 3/3 :  50%|████▉     | 2479/5000 [00:37<00:29, 86.43it/s]"
     ]
    },
    {
     "name": "stderr",
     "output_type": "stream",
     "text": [
      "\r",
      "Step 3/3 :  50%|████▉     | 2479/5000 [00:37<00:29, 86.43it/s]"
     ]
    },
    {
     "name": "stderr",
     "output_type": "stream",
     "text": [
      "\r",
      "Step 3/3 :  50%|████▉     | 2479/5000 [00:37<00:29, 86.43it/s]"
     ]
    },
    {
     "name": "stderr",
     "output_type": "stream",
     "text": [
      "\r",
      "Step 3/3 :  50%|████▉     | 2479/5000 [00:37<00:29, 86.43it/s]"
     ]
    },
    {
     "name": "stderr",
     "output_type": "stream",
     "text": [
      "\r",
      "Step 3/3 :  50%|████▉     | 2479/5000 [00:37<00:29, 86.43it/s]"
     ]
    },
    {
     "name": "stderr",
     "output_type": "stream",
     "text": [
      "\r",
      "Step 3/3 :  50%|████▉     | 2479/5000 [00:37<00:29, 86.43it/s]"
     ]
    },
    {
     "name": "stderr",
     "output_type": "stream",
     "text": [
      "\r",
      "Step 3/3 :  50%|████▉     | 2479/5000 [00:37<00:29, 86.43it/s]"
     ]
    },
    {
     "name": "stderr",
     "output_type": "stream",
     "text": [
      "\r",
      "Step 3/3 :  50%|████▉     | 2479/5000 [00:37<00:29, 86.43it/s]"
     ]
    },
    {
     "name": "stderr",
     "output_type": "stream",
     "text": [
      "\r",
      "Step 3/3 :  50%|████▉     | 2479/5000 [00:37<00:29, 86.43it/s]"
     ]
    },
    {
     "name": "stderr",
     "output_type": "stream",
     "text": [
      "\r",
      "Step 3/3 :  50%|████▉     | 2479/5000 [00:37<00:29, 86.43it/s]"
     ]
    },
    {
     "name": "stderr",
     "output_type": "stream",
     "text": [
      "\r",
      "Step 3/3 :  50%|████▉     | 2488/5000 [00:37<00:28, 86.94it/s]"
     ]
    },
    {
     "name": "stderr",
     "output_type": "stream",
     "text": [
      "\r",
      "Step 3/3 :  50%|████▉     | 2488/5000 [00:37<00:28, 86.94it/s]"
     ]
    },
    {
     "name": "stderr",
     "output_type": "stream",
     "text": [
      "\r",
      "Step 3/3 :  50%|████▉     | 2488/5000 [00:37<00:28, 86.94it/s]"
     ]
    },
    {
     "name": "stderr",
     "output_type": "stream",
     "text": [
      "\r",
      "Step 3/3 :  50%|████▉     | 2488/5000 [00:37<00:28, 86.94it/s]"
     ]
    },
    {
     "name": "stderr",
     "output_type": "stream",
     "text": [
      "\r",
      "Step 3/3 :  50%|████▉     | 2488/5000 [00:37<00:28, 86.94it/s]"
     ]
    },
    {
     "name": "stderr",
     "output_type": "stream",
     "text": [
      "\r",
      "Step 3/3 :  50%|████▉     | 2488/5000 [00:37<00:28, 86.94it/s]"
     ]
    },
    {
     "name": "stderr",
     "output_type": "stream",
     "text": [
      "\r",
      "Step 3/3 :  50%|████▉     | 2488/5000 [00:37<00:28, 86.94it/s]"
     ]
    },
    {
     "name": "stderr",
     "output_type": "stream",
     "text": [
      "\r",
      "Step 3/3 :  50%|████▉     | 2488/5000 [00:37<00:28, 86.94it/s]"
     ]
    },
    {
     "name": "stderr",
     "output_type": "stream",
     "text": [
      "\r",
      "Step 3/3 :  50%|████▉     | 2488/5000 [00:38<00:28, 86.94it/s]"
     ]
    },
    {
     "name": "stderr",
     "output_type": "stream",
     "text": [
      "\r",
      "Step 3/3 :  50%|████▉     | 2488/5000 [00:38<00:28, 86.94it/s]"
     ]
    },
    {
     "name": "stderr",
     "output_type": "stream",
     "text": [
      "\r",
      "Step 3/3 :  50%|████▉     | 2497/5000 [00:38<00:28, 86.83it/s]"
     ]
    },
    {
     "name": "stderr",
     "output_type": "stream",
     "text": [
      "\r",
      "Step 3/3 :  50%|████▉     | 2497/5000 [00:38<00:28, 86.83it/s]"
     ]
    },
    {
     "name": "stderr",
     "output_type": "stream",
     "text": [
      "\r",
      "Step 3/3 :  50%|████▉     | 2497/5000 [00:38<00:28, 86.83it/s]"
     ]
    },
    {
     "name": "stderr",
     "output_type": "stream",
     "text": [
      "\r",
      "Step 3/3 :  50%|████▉     | 2497/5000 [00:38<00:28, 86.83it/s]"
     ]
    },
    {
     "name": "stderr",
     "output_type": "stream",
     "text": [
      "\r",
      "Step 3/3 :  50%|████▉     | 2497/5000 [00:38<00:28, 86.83it/s]"
     ]
    },
    {
     "name": "stderr",
     "output_type": "stream",
     "text": [
      "\r",
      "Step 3/3 :  50%|████▉     | 2497/5000 [00:38<00:28, 86.83it/s]"
     ]
    },
    {
     "name": "stderr",
     "output_type": "stream",
     "text": [
      "\r",
      "Step 3/3 :  50%|████▉     | 2497/5000 [00:38<00:28, 86.83it/s]"
     ]
    },
    {
     "name": "stderr",
     "output_type": "stream",
     "text": [
      "\r",
      "Step 3/3 :  50%|████▉     | 2497/5000 [00:38<00:28, 86.83it/s]"
     ]
    },
    {
     "name": "stderr",
     "output_type": "stream",
     "text": [
      "\r",
      "Step 3/3 :  50%|████▉     | 2497/5000 [00:38<00:28, 86.83it/s]"
     ]
    },
    {
     "name": "stderr",
     "output_type": "stream",
     "text": [
      "\r",
      "Step 3/3 :  50%|████▉     | 2497/5000 [00:38<00:28, 86.83it/s]"
     ]
    },
    {
     "name": "stderr",
     "output_type": "stream",
     "text": [
      "\r",
      "Step 3/3 :  50%|█████     | 2506/5000 [00:38<00:28, 87.74it/s]"
     ]
    },
    {
     "name": "stderr",
     "output_type": "stream",
     "text": [
      "\r",
      "Step 3/3 :  50%|█████     | 2506/5000 [00:38<00:28, 87.74it/s]"
     ]
    },
    {
     "name": "stderr",
     "output_type": "stream",
     "text": [
      "\r",
      "Step 3/3 :  50%|█████     | 2506/5000 [00:38<00:28, 87.74it/s]"
     ]
    },
    {
     "name": "stderr",
     "output_type": "stream",
     "text": [
      "\r",
      "Step 3/3 :  50%|█████     | 2506/5000 [00:38<00:28, 87.74it/s]"
     ]
    },
    {
     "name": "stderr",
     "output_type": "stream",
     "text": [
      "\r",
      "Step 3/3 :  50%|█████     | 2506/5000 [00:38<00:28, 87.74it/s]"
     ]
    },
    {
     "name": "stderr",
     "output_type": "stream",
     "text": [
      "\r",
      "Step 3/3 :  50%|█████     | 2506/5000 [00:38<00:28, 87.74it/s]"
     ]
    },
    {
     "name": "stderr",
     "output_type": "stream",
     "text": [
      "\r",
      "Step 3/3 :  50%|█████     | 2506/5000 [00:38<00:28, 87.74it/s]"
     ]
    },
    {
     "name": "stderr",
     "output_type": "stream",
     "text": [
      "\r",
      "Step 3/3 :  50%|█████     | 2506/5000 [00:38<00:28, 87.74it/s]"
     ]
    },
    {
     "name": "stderr",
     "output_type": "stream",
     "text": [
      "\r",
      "Step 3/3 :  50%|█████     | 2506/5000 [00:38<00:28, 87.74it/s]"
     ]
    },
    {
     "name": "stderr",
     "output_type": "stream",
     "text": [
      "\r",
      "Step 3/3 :  50%|█████     | 2506/5000 [00:38<00:28, 87.74it/s]"
     ]
    },
    {
     "name": "stderr",
     "output_type": "stream",
     "text": [
      "\r",
      "Step 3/3 :  50%|█████     | 2506/5000 [00:38<00:28, 87.74it/s]"
     ]
    },
    {
     "name": "stderr",
     "output_type": "stream",
     "text": [
      "\r",
      "Step 3/3 :  50%|█████     | 2516/5000 [00:38<00:27, 89.23it/s]"
     ]
    },
    {
     "name": "stderr",
     "output_type": "stream",
     "text": [
      "\r",
      "Step 3/3 :  50%|█████     | 2516/5000 [00:38<00:27, 89.23it/s]"
     ]
    },
    {
     "name": "stderr",
     "output_type": "stream",
     "text": [
      "\r",
      "Step 3/3 :  50%|█████     | 2516/5000 [00:38<00:27, 89.23it/s]"
     ]
    },
    {
     "name": "stderr",
     "output_type": "stream",
     "text": [
      "\r",
      "Step 3/3 :  50%|█████     | 2516/5000 [00:38<00:27, 89.23it/s]"
     ]
    },
    {
     "name": "stderr",
     "output_type": "stream",
     "text": [
      "\r",
      "Step 3/3 :  50%|█████     | 2516/5000 [00:38<00:27, 89.23it/s]"
     ]
    },
    {
     "name": "stderr",
     "output_type": "stream",
     "text": [
      "\r",
      "Step 3/3 :  50%|█████     | 2516/5000 [00:38<00:27, 89.23it/s]"
     ]
    },
    {
     "name": "stderr",
     "output_type": "stream",
     "text": [
      "\r",
      "Step 3/3 :  50%|█████     | 2516/5000 [00:38<00:27, 89.23it/s]"
     ]
    },
    {
     "name": "stderr",
     "output_type": "stream",
     "text": [
      "\r",
      "Step 3/3 :  50%|█████     | 2516/5000 [00:38<00:27, 89.23it/s]"
     ]
    },
    {
     "name": "stderr",
     "output_type": "stream",
     "text": [
      "\r",
      "Step 3/3 :  50%|█████     | 2516/5000 [00:38<00:27, 89.23it/s]"
     ]
    },
    {
     "name": "stderr",
     "output_type": "stream",
     "text": [
      "\r",
      "Step 3/3 :  50%|█████     | 2516/5000 [00:38<00:27, 89.23it/s]"
     ]
    },
    {
     "name": "stderr",
     "output_type": "stream",
     "text": [
      "\r",
      "Step 3/3 :  50%|█████     | 2516/5000 [00:38<00:27, 89.23it/s]"
     ]
    },
    {
     "name": "stderr",
     "output_type": "stream",
     "text": [
      "\r",
      "Step 3/3 :  51%|█████     | 2526/5000 [00:38<00:26, 91.80it/s]"
     ]
    },
    {
     "name": "stderr",
     "output_type": "stream",
     "text": [
      "\r",
      "Step 3/3 :  51%|█████     | 2526/5000 [00:38<00:26, 91.80it/s]"
     ]
    },
    {
     "name": "stderr",
     "output_type": "stream",
     "text": [
      "\r",
      "Step 3/3 :  51%|█████     | 2526/5000 [00:38<00:26, 91.80it/s]"
     ]
    },
    {
     "name": "stderr",
     "output_type": "stream",
     "text": [
      "\r",
      "Step 3/3 :  51%|█████     | 2526/5000 [00:38<00:26, 91.80it/s]"
     ]
    },
    {
     "name": "stderr",
     "output_type": "stream",
     "text": [
      "\r",
      "Step 3/3 :  51%|█████     | 2526/5000 [00:38<00:26, 91.80it/s]"
     ]
    },
    {
     "name": "stderr",
     "output_type": "stream",
     "text": [
      "\r",
      "Step 3/3 :  51%|█████     | 2526/5000 [00:38<00:26, 91.80it/s]"
     ]
    },
    {
     "name": "stderr",
     "output_type": "stream",
     "text": [
      "\r",
      "Step 3/3 :  51%|█████     | 2526/5000 [00:38<00:26, 91.80it/s]"
     ]
    },
    {
     "name": "stderr",
     "output_type": "stream",
     "text": [
      "\r",
      "Step 3/3 :  51%|█████     | 2526/5000 [00:38<00:26, 91.80it/s]"
     ]
    },
    {
     "name": "stderr",
     "output_type": "stream",
     "text": [
      "\r",
      "Step 3/3 :  51%|█████     | 2526/5000 [00:38<00:26, 91.80it/s]"
     ]
    },
    {
     "name": "stderr",
     "output_type": "stream",
     "text": [
      "\r",
      "Step 3/3 :  51%|█████     | 2526/5000 [00:38<00:26, 91.80it/s]"
     ]
    },
    {
     "name": "stderr",
     "output_type": "stream",
     "text": [
      "\r",
      "Step 3/3 :  51%|█████     | 2526/5000 [00:38<00:26, 91.80it/s]"
     ]
    },
    {
     "name": "stderr",
     "output_type": "stream",
     "text": [
      "\r",
      "Step 3/3 :  51%|█████     | 2536/5000 [00:38<00:26, 93.64it/s]"
     ]
    },
    {
     "name": "stderr",
     "output_type": "stream",
     "text": [
      "\r",
      "Step 3/3 :  51%|█████     | 2536/5000 [00:38<00:26, 93.64it/s]"
     ]
    },
    {
     "name": "stderr",
     "output_type": "stream",
     "text": [
      "\r",
      "Step 3/3 :  51%|█████     | 2536/5000 [00:38<00:26, 93.64it/s]"
     ]
    },
    {
     "name": "stderr",
     "output_type": "stream",
     "text": [
      "\r",
      "Step 3/3 :  51%|█████     | 2536/5000 [00:38<00:26, 93.64it/s]"
     ]
    },
    {
     "name": "stderr",
     "output_type": "stream",
     "text": [
      "\r",
      "Step 3/3 :  51%|█████     | 2536/5000 [00:38<00:26, 93.64it/s]"
     ]
    },
    {
     "name": "stderr",
     "output_type": "stream",
     "text": [
      "\r",
      "Step 3/3 :  51%|█████     | 2536/5000 [00:38<00:26, 93.64it/s]"
     ]
    },
    {
     "name": "stderr",
     "output_type": "stream",
     "text": [
      "\r",
      "Step 3/3 :  51%|█████     | 2536/5000 [00:38<00:26, 93.64it/s]"
     ]
    },
    {
     "name": "stderr",
     "output_type": "stream",
     "text": [
      "\r",
      "Step 3/3 :  51%|█████     | 2536/5000 [00:38<00:26, 93.64it/s]"
     ]
    },
    {
     "name": "stderr",
     "output_type": "stream",
     "text": [
      "\r",
      "Step 3/3 :  51%|█████     | 2536/5000 [00:38<00:26, 93.64it/s]"
     ]
    },
    {
     "name": "stderr",
     "output_type": "stream",
     "text": [
      "\r",
      "Step 3/3 :  51%|█████     | 2536/5000 [00:38<00:26, 93.64it/s]"
     ]
    },
    {
     "name": "stderr",
     "output_type": "stream",
     "text": [
      "\r",
      "Step 3/3 :  51%|█████     | 2536/5000 [00:38<00:26, 93.64it/s]"
     ]
    },
    {
     "name": "stderr",
     "output_type": "stream",
     "text": [
      "\r",
      "Step 3/3 :  51%|█████     | 2546/5000 [00:38<00:26, 92.79it/s]"
     ]
    },
    {
     "name": "stderr",
     "output_type": "stream",
     "text": [
      "\r",
      "Step 3/3 :  51%|█████     | 2546/5000 [00:38<00:26, 92.79it/s]"
     ]
    },
    {
     "name": "stderr",
     "output_type": "stream",
     "text": [
      "\r",
      "Step 3/3 :  51%|█████     | 2546/5000 [00:38<00:26, 92.79it/s]"
     ]
    },
    {
     "name": "stderr",
     "output_type": "stream",
     "text": [
      "\r",
      "Step 3/3 :  51%|█████     | 2546/5000 [00:38<00:26, 92.79it/s]"
     ]
    },
    {
     "name": "stderr",
     "output_type": "stream",
     "text": [
      "\r",
      "Step 3/3 :  51%|█████     | 2546/5000 [00:38<00:26, 92.79it/s]"
     ]
    },
    {
     "name": "stderr",
     "output_type": "stream",
     "text": [
      "\r",
      "Step 3/3 :  51%|█████     | 2546/5000 [00:38<00:26, 92.79it/s]"
     ]
    },
    {
     "name": "stderr",
     "output_type": "stream",
     "text": [
      "\r",
      "Step 3/3 :  51%|█████     | 2546/5000 [00:38<00:26, 92.79it/s]"
     ]
    },
    {
     "name": "stderr",
     "output_type": "stream",
     "text": [
      "\r",
      "Step 3/3 :  51%|█████     | 2546/5000 [00:38<00:26, 92.79it/s]"
     ]
    },
    {
     "name": "stderr",
     "output_type": "stream",
     "text": [
      "\r",
      "Step 3/3 :  51%|█████     | 2546/5000 [00:38<00:26, 92.79it/s]"
     ]
    },
    {
     "name": "stderr",
     "output_type": "stream",
     "text": [
      "\r",
      "Step 3/3 :  51%|█████     | 2546/5000 [00:38<00:26, 92.79it/s]"
     ]
    },
    {
     "name": "stderr",
     "output_type": "stream",
     "text": [
      "\r",
      "Step 3/3 :  51%|█████     | 2546/5000 [00:38<00:26, 92.79it/s]"
     ]
    },
    {
     "name": "stderr",
     "output_type": "stream",
     "text": [
      "\r",
      "Step 3/3 :  51%|█████     | 2556/5000 [00:38<00:26, 90.68it/s]"
     ]
    },
    {
     "name": "stderr",
     "output_type": "stream",
     "text": [
      "\r",
      "Step 3/3 :  51%|█████     | 2556/5000 [00:38<00:26, 90.68it/s]"
     ]
    },
    {
     "name": "stderr",
     "output_type": "stream",
     "text": [
      "\r",
      "Step 3/3 :  51%|█████     | 2556/5000 [00:38<00:26, 90.68it/s]"
     ]
    },
    {
     "name": "stderr",
     "output_type": "stream",
     "text": [
      "\r",
      "Step 3/3 :  51%|█████     | 2556/5000 [00:38<00:26, 90.68it/s]"
     ]
    },
    {
     "name": "stderr",
     "output_type": "stream",
     "text": [
      "\r",
      "Step 3/3 :  51%|█████     | 2556/5000 [00:38<00:26, 90.68it/s]"
     ]
    },
    {
     "name": "stderr",
     "output_type": "stream",
     "text": [
      "\r",
      "Step 3/3 :  51%|█████     | 2556/5000 [00:38<00:26, 90.68it/s]"
     ]
    },
    {
     "name": "stderr",
     "output_type": "stream",
     "text": [
      "\r",
      "Step 3/3 :  51%|█████     | 2556/5000 [00:38<00:26, 90.68it/s]"
     ]
    },
    {
     "name": "stderr",
     "output_type": "stream",
     "text": [
      "\r",
      "Step 3/3 :  51%|█████     | 2556/5000 [00:38<00:26, 90.68it/s]"
     ]
    },
    {
     "name": "stderr",
     "output_type": "stream",
     "text": [
      "\r",
      "Step 3/3 :  51%|█████     | 2556/5000 [00:38<00:26, 90.68it/s]"
     ]
    },
    {
     "name": "stderr",
     "output_type": "stream",
     "text": [
      "\r",
      "Step 3/3 :  51%|█████     | 2556/5000 [00:38<00:26, 90.68it/s]"
     ]
    },
    {
     "name": "stderr",
     "output_type": "stream",
     "text": [
      "\r",
      "Step 3/3 :  51%|█████     | 2556/5000 [00:38<00:26, 90.68it/s]"
     ]
    },
    {
     "name": "stderr",
     "output_type": "stream",
     "text": [
      "\r",
      "Step 3/3 :  51%|█████▏    | 2566/5000 [00:38<00:26, 91.00it/s]"
     ]
    },
    {
     "name": "stderr",
     "output_type": "stream",
     "text": [
      "\r",
      "Step 3/3 :  51%|█████▏    | 2566/5000 [00:38<00:26, 91.00it/s]"
     ]
    },
    {
     "name": "stderr",
     "output_type": "stream",
     "text": [
      "\r",
      "Step 3/3 :  51%|█████▏    | 2566/5000 [00:38<00:26, 91.00it/s]"
     ]
    },
    {
     "name": "stderr",
     "output_type": "stream",
     "text": [
      "\r",
      "Step 3/3 :  51%|█████▏    | 2566/5000 [00:38<00:26, 91.00it/s]"
     ]
    },
    {
     "name": "stderr",
     "output_type": "stream",
     "text": [
      "\r",
      "Step 3/3 :  51%|█████▏    | 2566/5000 [00:38<00:26, 91.00it/s]"
     ]
    },
    {
     "name": "stderr",
     "output_type": "stream",
     "text": [
      "\r",
      "Step 3/3 :  51%|█████▏    | 2566/5000 [00:38<00:26, 91.00it/s]"
     ]
    },
    {
     "name": "stderr",
     "output_type": "stream",
     "text": [
      "\r",
      "Step 3/3 :  51%|█████▏    | 2566/5000 [00:38<00:26, 91.00it/s]"
     ]
    },
    {
     "name": "stderr",
     "output_type": "stream",
     "text": [
      "\r",
      "Step 3/3 :  51%|█████▏    | 2566/5000 [00:38<00:26, 91.00it/s]"
     ]
    },
    {
     "name": "stderr",
     "output_type": "stream",
     "text": [
      "\r",
      "Step 3/3 :  51%|█████▏    | 2566/5000 [00:38<00:26, 91.00it/s]"
     ]
    },
    {
     "name": "stderr",
     "output_type": "stream",
     "text": [
      "\r",
      "Step 3/3 :  51%|█████▏    | 2566/5000 [00:38<00:26, 91.00it/s]"
     ]
    },
    {
     "name": "stderr",
     "output_type": "stream",
     "text": [
      "\r",
      "Step 3/3 :  51%|█████▏    | 2566/5000 [00:38<00:26, 91.00it/s]"
     ]
    },
    {
     "name": "stderr",
     "output_type": "stream",
     "text": [
      "\r",
      "Step 3/3 :  52%|█████▏    | 2576/5000 [00:38<00:28, 86.24it/s]"
     ]
    },
    {
     "name": "stderr",
     "output_type": "stream",
     "text": [
      "\r",
      "Step 3/3 :  52%|█████▏    | 2576/5000 [00:38<00:28, 86.24it/s]"
     ]
    },
    {
     "name": "stderr",
     "output_type": "stream",
     "text": [
      "\r",
      "Step 3/3 :  52%|█████▏    | 2576/5000 [00:38<00:28, 86.24it/s]"
     ]
    },
    {
     "name": "stderr",
     "output_type": "stream",
     "text": [
      "\r",
      "Step 3/3 :  52%|█████▏    | 2576/5000 [00:38<00:28, 86.24it/s]"
     ]
    },
    {
     "name": "stderr",
     "output_type": "stream",
     "text": [
      "\r",
      "Step 3/3 :  52%|█████▏    | 2576/5000 [00:38<00:28, 86.24it/s]"
     ]
    },
    {
     "name": "stderr",
     "output_type": "stream",
     "text": [
      "\r",
      "Step 3/3 :  52%|█████▏    | 2576/5000 [00:38<00:28, 86.24it/s]"
     ]
    },
    {
     "name": "stderr",
     "output_type": "stream",
     "text": [
      "\r",
      "Step 3/3 :  52%|█████▏    | 2576/5000 [00:38<00:28, 86.24it/s]"
     ]
    },
    {
     "name": "stderr",
     "output_type": "stream",
     "text": [
      "\r",
      "Step 3/3 :  52%|█████▏    | 2576/5000 [00:39<00:28, 86.24it/s]"
     ]
    },
    {
     "name": "stderr",
     "output_type": "stream",
     "text": [
      "\r",
      "Step 3/3 :  52%|█████▏    | 2576/5000 [00:39<00:28, 86.24it/s]"
     ]
    },
    {
     "name": "stderr",
     "output_type": "stream",
     "text": [
      "\r",
      "Step 3/3 :  52%|█████▏    | 2576/5000 [00:39<00:28, 86.24it/s]"
     ]
    },
    {
     "name": "stderr",
     "output_type": "stream",
     "text": [
      "\r",
      "Step 3/3 :  52%|█████▏    | 2585/5000 [00:39<00:30, 80.09it/s]"
     ]
    },
    {
     "name": "stderr",
     "output_type": "stream",
     "text": [
      "\r",
      "Step 3/3 :  52%|█████▏    | 2585/5000 [00:39<00:30, 80.09it/s]"
     ]
    },
    {
     "name": "stderr",
     "output_type": "stream",
     "text": [
      "\r",
      "Step 3/3 :  52%|█████▏    | 2585/5000 [00:39<00:30, 80.09it/s]"
     ]
    },
    {
     "name": "stderr",
     "output_type": "stream",
     "text": [
      "\r",
      "Step 3/3 :  52%|█████▏    | 2585/5000 [00:39<00:30, 80.09it/s]"
     ]
    },
    {
     "name": "stderr",
     "output_type": "stream",
     "text": [
      "\r",
      "Step 3/3 :  52%|█████▏    | 2585/5000 [00:39<00:30, 80.09it/s]"
     ]
    },
    {
     "name": "stderr",
     "output_type": "stream",
     "text": [
      "\r",
      "Step 3/3 :  52%|█████▏    | 2585/5000 [00:39<00:30, 80.09it/s]"
     ]
    },
    {
     "name": "stderr",
     "output_type": "stream",
     "text": [
      "\r",
      "Step 3/3 :  52%|█████▏    | 2585/5000 [00:39<00:30, 80.09it/s]"
     ]
    },
    {
     "name": "stderr",
     "output_type": "stream",
     "text": [
      "\r",
      "Step 3/3 :  52%|█████▏    | 2585/5000 [00:39<00:30, 80.09it/s]"
     ]
    },
    {
     "name": "stderr",
     "output_type": "stream",
     "text": [
      "\r",
      "Step 3/3 :  52%|█████▏    | 2585/5000 [00:39<00:30, 80.09it/s]"
     ]
    },
    {
     "name": "stderr",
     "output_type": "stream",
     "text": [
      "\r",
      "Step 3/3 :  52%|█████▏    | 2585/5000 [00:39<00:30, 80.09it/s]"
     ]
    },
    {
     "name": "stderr",
     "output_type": "stream",
     "text": [
      "\r",
      "Step 3/3 :  52%|█████▏    | 2585/5000 [00:39<00:30, 80.09it/s]"
     ]
    },
    {
     "name": "stderr",
     "output_type": "stream",
     "text": [
      "\r",
      "Step 3/3 :  52%|█████▏    | 2595/5000 [00:39<00:28, 84.96it/s]"
     ]
    },
    {
     "name": "stderr",
     "output_type": "stream",
     "text": [
      "\r",
      "Step 3/3 :  52%|█████▏    | 2595/5000 [00:39<00:28, 84.96it/s]"
     ]
    },
    {
     "name": "stderr",
     "output_type": "stream",
     "text": [
      "\r",
      "Step 3/3 :  52%|█████▏    | 2595/5000 [00:39<00:28, 84.96it/s]"
     ]
    },
    {
     "name": "stderr",
     "output_type": "stream",
     "text": [
      "\r",
      "Step 3/3 :  52%|█████▏    | 2595/5000 [00:39<00:28, 84.96it/s]"
     ]
    },
    {
     "name": "stderr",
     "output_type": "stream",
     "text": [
      "\r",
      "Step 3/3 :  52%|█████▏    | 2595/5000 [00:39<00:28, 84.96it/s]"
     ]
    },
    {
     "name": "stderr",
     "output_type": "stream",
     "text": [
      "\r",
      "Step 3/3 :  52%|█████▏    | 2595/5000 [00:39<00:28, 84.96it/s]"
     ]
    },
    {
     "name": "stderr",
     "output_type": "stream",
     "text": [
      "\r",
      "Step 3/3 :  52%|█████▏    | 2595/5000 [00:39<00:28, 84.96it/s]"
     ]
    },
    {
     "name": "stderr",
     "output_type": "stream",
     "text": [
      "\r",
      "Step 3/3 :  52%|█████▏    | 2595/5000 [00:39<00:28, 84.96it/s]"
     ]
    },
    {
     "name": "stderr",
     "output_type": "stream",
     "text": [
      "\r",
      "Step 3/3 :  52%|█████▏    | 2595/5000 [00:39<00:28, 84.96it/s]"
     ]
    },
    {
     "name": "stderr",
     "output_type": "stream",
     "text": [
      "\r",
      "Step 3/3 :  52%|█████▏    | 2595/5000 [00:39<00:28, 84.96it/s]"
     ]
    },
    {
     "name": "stderr",
     "output_type": "stream",
     "text": [
      "\r",
      "Step 3/3 :  52%|█████▏    | 2595/5000 [00:39<00:28, 84.96it/s]"
     ]
    },
    {
     "name": "stderr",
     "output_type": "stream",
     "text": [
      "\r",
      "Step 3/3 :  52%|█████▏    | 2605/5000 [00:39<00:27, 88.09it/s]"
     ]
    },
    {
     "name": "stderr",
     "output_type": "stream",
     "text": [
      "\r",
      "Step 3/3 :  52%|█████▏    | 2605/5000 [00:39<00:27, 88.09it/s]"
     ]
    },
    {
     "name": "stderr",
     "output_type": "stream",
     "text": [
      "\r",
      "Step 3/3 :  52%|█████▏    | 2605/5000 [00:39<00:27, 88.09it/s]"
     ]
    },
    {
     "name": "stderr",
     "output_type": "stream",
     "text": [
      "\r",
      "Step 3/3 :  52%|█████▏    | 2605/5000 [00:39<00:27, 88.09it/s]"
     ]
    },
    {
     "name": "stderr",
     "output_type": "stream",
     "text": [
      "\r",
      "Step 3/3 :  52%|█████▏    | 2605/5000 [00:39<00:27, 88.09it/s]"
     ]
    },
    {
     "name": "stderr",
     "output_type": "stream",
     "text": [
      "\r",
      "Step 3/3 :  52%|█████▏    | 2605/5000 [00:39<00:27, 88.09it/s]"
     ]
    },
    {
     "name": "stderr",
     "output_type": "stream",
     "text": [
      "\r",
      "Step 3/3 :  52%|█████▏    | 2605/5000 [00:39<00:27, 88.09it/s]"
     ]
    },
    {
     "name": "stderr",
     "output_type": "stream",
     "text": [
      "\r",
      "Step 3/3 :  52%|█████▏    | 2605/5000 [00:39<00:27, 88.09it/s]"
     ]
    },
    {
     "name": "stderr",
     "output_type": "stream",
     "text": [
      "\r",
      "Step 3/3 :  52%|█████▏    | 2605/5000 [00:39<00:27, 88.09it/s]"
     ]
    },
    {
     "name": "stderr",
     "output_type": "stream",
     "text": [
      "\r",
      "Step 3/3 :  52%|█████▏    | 2605/5000 [00:39<00:27, 88.09it/s]"
     ]
    },
    {
     "name": "stderr",
     "output_type": "stream",
     "text": [
      "\r",
      "Step 3/3 :  52%|█████▏    | 2605/5000 [00:39<00:27, 88.09it/s]"
     ]
    },
    {
     "name": "stderr",
     "output_type": "stream",
     "text": [
      "\r",
      "Step 3/3 :  52%|█████▏    | 2615/5000 [00:39<00:26, 88.93it/s]"
     ]
    },
    {
     "name": "stderr",
     "output_type": "stream",
     "text": [
      "\r",
      "Step 3/3 :  52%|█████▏    | 2615/5000 [00:39<00:26, 88.93it/s]"
     ]
    },
    {
     "name": "stderr",
     "output_type": "stream",
     "text": [
      "\r",
      "Step 3/3 :  52%|█████▏    | 2615/5000 [00:39<00:26, 88.93it/s]"
     ]
    },
    {
     "name": "stderr",
     "output_type": "stream",
     "text": [
      "\r",
      "Step 3/3 :  52%|█████▏    | 2615/5000 [00:39<00:26, 88.93it/s]"
     ]
    },
    {
     "name": "stderr",
     "output_type": "stream",
     "text": [
      "\r",
      "Step 3/3 :  52%|█████▏    | 2615/5000 [00:39<00:26, 88.93it/s]"
     ]
    },
    {
     "name": "stderr",
     "output_type": "stream",
     "text": [
      "\r",
      "Step 3/3 :  52%|█████▏    | 2615/5000 [00:39<00:26, 88.93it/s]"
     ]
    },
    {
     "name": "stderr",
     "output_type": "stream",
     "text": [
      "\r",
      "Step 3/3 :  52%|█████▏    | 2615/5000 [00:39<00:26, 88.93it/s]"
     ]
    },
    {
     "name": "stderr",
     "output_type": "stream",
     "text": [
      "\r",
      "Step 3/3 :  52%|█████▏    | 2615/5000 [00:39<00:26, 88.93it/s]"
     ]
    },
    {
     "name": "stderr",
     "output_type": "stream",
     "text": [
      "\r",
      "Step 3/3 :  52%|█████▏    | 2615/5000 [00:39<00:26, 88.93it/s]"
     ]
    },
    {
     "name": "stderr",
     "output_type": "stream",
     "text": [
      "\r",
      "Step 3/3 :  52%|█████▏    | 2615/5000 [00:39<00:26, 88.93it/s]"
     ]
    },
    {
     "name": "stderr",
     "output_type": "stream",
     "text": [
      "\r",
      "Step 3/3 :  52%|█████▏    | 2624/5000 [00:39<00:27, 86.58it/s]"
     ]
    },
    {
     "name": "stderr",
     "output_type": "stream",
     "text": [
      "\r",
      "Step 3/3 :  52%|█████▏    | 2624/5000 [00:39<00:27, 86.58it/s]"
     ]
    },
    {
     "name": "stderr",
     "output_type": "stream",
     "text": [
      "\r",
      "Step 3/3 :  52%|█████▏    | 2624/5000 [00:39<00:27, 86.58it/s]"
     ]
    },
    {
     "name": "stderr",
     "output_type": "stream",
     "text": [
      "\r",
      "Step 3/3 :  52%|█████▏    | 2624/5000 [00:39<00:27, 86.58it/s]"
     ]
    },
    {
     "name": "stderr",
     "output_type": "stream",
     "text": [
      "\r",
      "Step 3/3 :  52%|█████▏    | 2624/5000 [00:39<00:27, 86.58it/s]"
     ]
    },
    {
     "name": "stderr",
     "output_type": "stream",
     "text": [
      "\r",
      "Step 3/3 :  52%|█████▏    | 2624/5000 [00:39<00:27, 86.58it/s]"
     ]
    },
    {
     "name": "stderr",
     "output_type": "stream",
     "text": [
      "\r",
      "Step 3/3 :  52%|█████▏    | 2624/5000 [00:39<00:27, 86.58it/s]"
     ]
    },
    {
     "name": "stderr",
     "output_type": "stream",
     "text": [
      "\r",
      "Step 3/3 :  52%|█████▏    | 2624/5000 [00:39<00:27, 86.58it/s]"
     ]
    },
    {
     "name": "stderr",
     "output_type": "stream",
     "text": [
      "\r",
      "Step 3/3 :  52%|█████▏    | 2624/5000 [00:39<00:27, 86.58it/s]"
     ]
    },
    {
     "name": "stderr",
     "output_type": "stream",
     "text": [
      "\r",
      "Step 3/3 :  52%|█████▏    | 2624/5000 [00:39<00:27, 86.58it/s]"
     ]
    },
    {
     "name": "stderr",
     "output_type": "stream",
     "text": [
      "\r",
      "Step 3/3 :  53%|█████▎    | 2633/5000 [00:39<00:28, 82.91it/s]"
     ]
    },
    {
     "name": "stderr",
     "output_type": "stream",
     "text": [
      "\r",
      "Step 3/3 :  53%|█████▎    | 2633/5000 [00:39<00:28, 82.91it/s]"
     ]
    },
    {
     "name": "stderr",
     "output_type": "stream",
     "text": [
      "\r",
      "Step 3/3 :  53%|█████▎    | 2633/5000 [00:39<00:28, 82.91it/s]"
     ]
    },
    {
     "name": "stderr",
     "output_type": "stream",
     "text": [
      "\r",
      "Step 3/3 :  53%|█████▎    | 2633/5000 [00:39<00:28, 82.91it/s]"
     ]
    },
    {
     "name": "stderr",
     "output_type": "stream",
     "text": [
      "\r",
      "Step 3/3 :  53%|█████▎    | 2633/5000 [00:39<00:28, 82.91it/s]"
     ]
    },
    {
     "name": "stderr",
     "output_type": "stream",
     "text": [
      "\r",
      "Step 3/3 :  53%|█████▎    | 2633/5000 [00:39<00:28, 82.91it/s]"
     ]
    },
    {
     "name": "stderr",
     "output_type": "stream",
     "text": [
      "\r",
      "Step 3/3 :  53%|█████▎    | 2633/5000 [00:39<00:28, 82.91it/s]"
     ]
    },
    {
     "name": "stderr",
     "output_type": "stream",
     "text": [
      "\r",
      "Step 3/3 :  53%|█████▎    | 2633/5000 [00:39<00:28, 82.91it/s]"
     ]
    },
    {
     "name": "stderr",
     "output_type": "stream",
     "text": [
      "\r",
      "Step 3/3 :  53%|█████▎    | 2633/5000 [00:39<00:28, 82.91it/s]"
     ]
    },
    {
     "name": "stderr",
     "output_type": "stream",
     "text": [
      "\r",
      "Step 3/3 :  53%|█████▎    | 2633/5000 [00:39<00:28, 82.91it/s]"
     ]
    },
    {
     "name": "stderr",
     "output_type": "stream",
     "text": [
      "\r",
      "Step 3/3 :  53%|█████▎    | 2633/5000 [00:39<00:28, 82.91it/s]"
     ]
    },
    {
     "name": "stderr",
     "output_type": "stream",
     "text": [
      "\r",
      "Step 3/3 :  53%|█████▎    | 2643/5000 [00:39<00:27, 87.11it/s]"
     ]
    },
    {
     "name": "stderr",
     "output_type": "stream",
     "text": [
      "\r",
      "Step 3/3 :  53%|█████▎    | 2643/5000 [00:39<00:27, 87.11it/s]"
     ]
    },
    {
     "name": "stderr",
     "output_type": "stream",
     "text": [
      "\r",
      "Step 3/3 :  53%|█████▎    | 2643/5000 [00:39<00:27, 87.11it/s]"
     ]
    },
    {
     "name": "stderr",
     "output_type": "stream",
     "text": [
      "\r",
      "Step 3/3 :  53%|█████▎    | 2643/5000 [00:39<00:27, 87.11it/s]"
     ]
    },
    {
     "name": "stderr",
     "output_type": "stream",
     "text": [
      "\r",
      "Step 3/3 :  53%|█████▎    | 2643/5000 [00:39<00:27, 87.11it/s]"
     ]
    },
    {
     "name": "stderr",
     "output_type": "stream",
     "text": [
      "\r",
      "Step 3/3 :  53%|█████▎    | 2643/5000 [00:39<00:27, 87.11it/s]"
     ]
    },
    {
     "name": "stderr",
     "output_type": "stream",
     "text": [
      "\r",
      "Step 3/3 :  53%|█████▎    | 2643/5000 [00:39<00:27, 87.11it/s]"
     ]
    },
    {
     "name": "stderr",
     "output_type": "stream",
     "text": [
      "\r",
      "Step 3/3 :  53%|█████▎    | 2643/5000 [00:39<00:27, 87.11it/s]"
     ]
    },
    {
     "name": "stderr",
     "output_type": "stream",
     "text": [
      "\r",
      "Step 3/3 :  53%|█████▎    | 2643/5000 [00:39<00:27, 87.11it/s]"
     ]
    },
    {
     "name": "stderr",
     "output_type": "stream",
     "text": [
      "\r",
      "Step 3/3 :  53%|█████▎    | 2643/5000 [00:39<00:27, 87.11it/s]"
     ]
    },
    {
     "name": "stderr",
     "output_type": "stream",
     "text": [
      "\r",
      "Step 3/3 :  53%|█████▎    | 2643/5000 [00:39<00:27, 87.11it/s]"
     ]
    },
    {
     "name": "stderr",
     "output_type": "stream",
     "text": [
      "\r",
      "Step 3/3 :  53%|█████▎    | 2653/5000 [00:39<00:26, 89.96it/s]"
     ]
    },
    {
     "name": "stderr",
     "output_type": "stream",
     "text": [
      "\r",
      "Step 3/3 :  53%|█████▎    | 2653/5000 [00:39<00:26, 89.96it/s]"
     ]
    },
    {
     "name": "stderr",
     "output_type": "stream",
     "text": [
      "\r",
      "Step 3/3 :  53%|█████▎    | 2653/5000 [00:39<00:26, 89.96it/s]"
     ]
    },
    {
     "name": "stderr",
     "output_type": "stream",
     "text": [
      "\r",
      "Step 3/3 :  53%|█████▎    | 2653/5000 [00:39<00:26, 89.96it/s]"
     ]
    },
    {
     "name": "stderr",
     "output_type": "stream",
     "text": [
      "\r",
      "Step 3/3 :  53%|█████▎    | 2653/5000 [00:39<00:26, 89.96it/s]"
     ]
    },
    {
     "name": "stderr",
     "output_type": "stream",
     "text": [
      "\r",
      "Step 3/3 :  53%|█████▎    | 2653/5000 [00:39<00:26, 89.96it/s]"
     ]
    },
    {
     "name": "stderr",
     "output_type": "stream",
     "text": [
      "\r",
      "Step 3/3 :  53%|█████▎    | 2653/5000 [00:39<00:26, 89.96it/s]"
     ]
    },
    {
     "name": "stderr",
     "output_type": "stream",
     "text": [
      "\r",
      "Step 3/3 :  53%|█████▎    | 2653/5000 [00:39<00:26, 89.96it/s]"
     ]
    },
    {
     "name": "stderr",
     "output_type": "stream",
     "text": [
      "\r",
      "Step 3/3 :  53%|█████▎    | 2653/5000 [00:39<00:26, 89.96it/s]"
     ]
    },
    {
     "name": "stderr",
     "output_type": "stream",
     "text": [
      "\r",
      "Step 3/3 :  53%|█████▎    | 2653/5000 [00:39<00:26, 89.96it/s]"
     ]
    },
    {
     "name": "stderr",
     "output_type": "stream",
     "text": [
      "\r",
      "Step 3/3 :  53%|█████▎    | 2653/5000 [00:39<00:26, 89.96it/s]"
     ]
    },
    {
     "name": "stderr",
     "output_type": "stream",
     "text": [
      "\r",
      "Step 3/3 :  53%|█████▎    | 2663/5000 [00:39<00:25, 91.26it/s]"
     ]
    },
    {
     "name": "stderr",
     "output_type": "stream",
     "text": [
      "\r",
      "Step 3/3 :  53%|█████▎    | 2663/5000 [00:39<00:25, 91.26it/s]"
     ]
    },
    {
     "name": "stderr",
     "output_type": "stream",
     "text": [
      "\r",
      "Step 3/3 :  53%|█████▎    | 2663/5000 [00:39<00:25, 91.26it/s]"
     ]
    },
    {
     "name": "stderr",
     "output_type": "stream",
     "text": [
      "\r",
      "Step 3/3 :  53%|█████▎    | 2663/5000 [00:39<00:25, 91.26it/s]"
     ]
    },
    {
     "name": "stderr",
     "output_type": "stream",
     "text": [
      "\r",
      "Step 3/3 :  53%|█████▎    | 2663/5000 [00:39<00:25, 91.26it/s]"
     ]
    },
    {
     "name": "stderr",
     "output_type": "stream",
     "text": [
      "\r",
      "Step 3/3 :  53%|█████▎    | 2663/5000 [00:39<00:25, 91.26it/s]"
     ]
    },
    {
     "name": "stderr",
     "output_type": "stream",
     "text": [
      "\r",
      "Step 3/3 :  53%|█████▎    | 2663/5000 [00:39<00:25, 91.26it/s]"
     ]
    },
    {
     "name": "stderr",
     "output_type": "stream",
     "text": [
      "\r",
      "Step 3/3 :  53%|█████▎    | 2663/5000 [00:39<00:25, 91.26it/s]"
     ]
    },
    {
     "name": "stderr",
     "output_type": "stream",
     "text": [
      "\r",
      "Step 3/3 :  53%|█████▎    | 2663/5000 [00:39<00:25, 91.26it/s]"
     ]
    },
    {
     "name": "stderr",
     "output_type": "stream",
     "text": [
      "\r",
      "Step 3/3 :  53%|█████▎    | 2663/5000 [00:39<00:25, 91.26it/s]"
     ]
    },
    {
     "name": "stderr",
     "output_type": "stream",
     "text": [
      "\r",
      "Step 3/3 :  53%|█████▎    | 2663/5000 [00:39<00:25, 91.26it/s]"
     ]
    },
    {
     "name": "stderr",
     "output_type": "stream",
     "text": [
      "\r",
      "Step 3/3 :  53%|█████▎    | 2673/5000 [00:40<00:25, 91.15it/s]"
     ]
    },
    {
     "name": "stderr",
     "output_type": "stream",
     "text": [
      "\r",
      "Step 3/3 :  53%|█████▎    | 2673/5000 [00:40<00:25, 91.15it/s]"
     ]
    },
    {
     "name": "stderr",
     "output_type": "stream",
     "text": [
      "\r",
      "Step 3/3 :  53%|█████▎    | 2673/5000 [00:40<00:25, 91.15it/s]"
     ]
    },
    {
     "name": "stderr",
     "output_type": "stream",
     "text": [
      "\r",
      "Step 3/3 :  53%|█████▎    | 2673/5000 [00:40<00:25, 91.15it/s]"
     ]
    },
    {
     "name": "stderr",
     "output_type": "stream",
     "text": [
      "\r",
      "Step 3/3 :  53%|█████▎    | 2673/5000 [00:40<00:25, 91.15it/s]"
     ]
    },
    {
     "name": "stderr",
     "output_type": "stream",
     "text": [
      "\r",
      "Step 3/3 :  53%|█████▎    | 2673/5000 [00:40<00:25, 91.15it/s]"
     ]
    },
    {
     "name": "stderr",
     "output_type": "stream",
     "text": [
      "\r",
      "Step 3/3 :  53%|█████▎    | 2673/5000 [00:40<00:25, 91.15it/s]"
     ]
    },
    {
     "name": "stderr",
     "output_type": "stream",
     "text": [
      "\r",
      "Step 3/3 :  53%|█████▎    | 2673/5000 [00:40<00:25, 91.15it/s]"
     ]
    },
    {
     "name": "stderr",
     "output_type": "stream",
     "text": [
      "\r",
      "Step 3/3 :  53%|█████▎    | 2673/5000 [00:40<00:25, 91.15it/s]"
     ]
    },
    {
     "name": "stderr",
     "output_type": "stream",
     "text": [
      "\r",
      "Step 3/3 :  53%|█████▎    | 2673/5000 [00:40<00:25, 91.15it/s]"
     ]
    },
    {
     "name": "stderr",
     "output_type": "stream",
     "text": [
      "\r",
      "Step 3/3 :  53%|█████▎    | 2673/5000 [00:40<00:25, 91.15it/s]"
     ]
    },
    {
     "name": "stderr",
     "output_type": "stream",
     "text": [
      "\r",
      "Step 3/3 :  54%|█████▎    | 2683/5000 [00:40<00:24, 93.38it/s]"
     ]
    },
    {
     "name": "stderr",
     "output_type": "stream",
     "text": [
      "\r",
      "Step 3/3 :  54%|█████▎    | 2683/5000 [00:40<00:24, 93.38it/s]"
     ]
    },
    {
     "name": "stderr",
     "output_type": "stream",
     "text": [
      "\r",
      "Step 3/3 :  54%|█████▎    | 2683/5000 [00:40<00:24, 93.38it/s]"
     ]
    },
    {
     "name": "stderr",
     "output_type": "stream",
     "text": [
      "\r",
      "Step 3/3 :  54%|█████▎    | 2683/5000 [00:40<00:24, 93.38it/s]"
     ]
    },
    {
     "name": "stderr",
     "output_type": "stream",
     "text": [
      "\r",
      "Step 3/3 :  54%|█████▎    | 2683/5000 [00:40<00:24, 93.38it/s]"
     ]
    },
    {
     "name": "stderr",
     "output_type": "stream",
     "text": [
      "\r",
      "Step 3/3 :  54%|█████▎    | 2683/5000 [00:40<00:24, 93.38it/s]"
     ]
    },
    {
     "name": "stderr",
     "output_type": "stream",
     "text": [
      "\r",
      "Step 3/3 :  54%|█████▎    | 2683/5000 [00:40<00:24, 93.38it/s]"
     ]
    },
    {
     "name": "stderr",
     "output_type": "stream",
     "text": [
      "\r",
      "Step 3/3 :  54%|█████▎    | 2683/5000 [00:40<00:24, 93.38it/s]"
     ]
    },
    {
     "name": "stderr",
     "output_type": "stream",
     "text": [
      "\r",
      "Step 3/3 :  54%|█████▎    | 2683/5000 [00:40<00:24, 93.38it/s]"
     ]
    },
    {
     "name": "stderr",
     "output_type": "stream",
     "text": [
      "\r",
      "Step 3/3 :  54%|█████▎    | 2683/5000 [00:40<00:24, 93.38it/s]"
     ]
    },
    {
     "name": "stderr",
     "output_type": "stream",
     "text": [
      "\r",
      "Step 3/3 :  54%|█████▎    | 2683/5000 [00:40<00:24, 93.38it/s]"
     ]
    },
    {
     "name": "stderr",
     "output_type": "stream",
     "text": [
      "\r",
      "Step 3/3 :  54%|█████▍    | 2693/5000 [00:40<00:25, 91.85it/s]"
     ]
    },
    {
     "name": "stderr",
     "output_type": "stream",
     "text": [
      "\r",
      "Step 3/3 :  54%|█████▍    | 2693/5000 [00:40<00:25, 91.85it/s]"
     ]
    },
    {
     "name": "stderr",
     "output_type": "stream",
     "text": [
      "\r",
      "Step 3/3 :  54%|█████▍    | 2693/5000 [00:40<00:25, 91.85it/s]"
     ]
    },
    {
     "name": "stderr",
     "output_type": "stream",
     "text": [
      "\r",
      "Step 3/3 :  54%|█████▍    | 2693/5000 [00:40<00:25, 91.85it/s]"
     ]
    },
    {
     "name": "stderr",
     "output_type": "stream",
     "text": [
      "\r",
      "Step 3/3 :  54%|█████▍    | 2693/5000 [00:40<00:25, 91.85it/s]"
     ]
    },
    {
     "name": "stderr",
     "output_type": "stream",
     "text": [
      "\r",
      "Step 3/3 :  54%|█████▍    | 2693/5000 [00:40<00:25, 91.85it/s]"
     ]
    },
    {
     "name": "stderr",
     "output_type": "stream",
     "text": [
      "\r",
      "Step 3/3 :  54%|█████▍    | 2693/5000 [00:40<00:25, 91.85it/s]"
     ]
    },
    {
     "name": "stderr",
     "output_type": "stream",
     "text": [
      "\r",
      "Step 3/3 :  54%|█████▍    | 2693/5000 [00:40<00:25, 91.85it/s]"
     ]
    },
    {
     "name": "stderr",
     "output_type": "stream",
     "text": [
      "\r",
      "Step 3/3 :  54%|█████▍    | 2693/5000 [00:40<00:25, 91.85it/s]"
     ]
    },
    {
     "name": "stderr",
     "output_type": "stream",
     "text": [
      "\r",
      "Step 3/3 :  54%|█████▍    | 2693/5000 [00:40<00:25, 91.85it/s]"
     ]
    },
    {
     "name": "stderr",
     "output_type": "stream",
     "text": [
      "\r",
      "Step 3/3 :  54%|█████▍    | 2693/5000 [00:40<00:25, 91.85it/s]"
     ]
    },
    {
     "name": "stderr",
     "output_type": "stream",
     "text": [
      "\r",
      "Step 3/3 :  54%|█████▍    | 2703/5000 [00:40<00:25, 91.81it/s]"
     ]
    },
    {
     "name": "stderr",
     "output_type": "stream",
     "text": [
      "\r",
      "Step 3/3 :  54%|█████▍    | 2703/5000 [00:40<00:25, 91.81it/s]"
     ]
    },
    {
     "name": "stderr",
     "output_type": "stream",
     "text": [
      "\r",
      "Step 3/3 :  54%|█████▍    | 2703/5000 [00:40<00:25, 91.81it/s]"
     ]
    },
    {
     "name": "stderr",
     "output_type": "stream",
     "text": [
      "\r",
      "Step 3/3 :  54%|█████▍    | 2703/5000 [00:40<00:25, 91.81it/s]"
     ]
    },
    {
     "name": "stderr",
     "output_type": "stream",
     "text": [
      "\r",
      "Step 3/3 :  54%|█████▍    | 2703/5000 [00:40<00:25, 91.81it/s]"
     ]
    },
    {
     "name": "stderr",
     "output_type": "stream",
     "text": [
      "\r",
      "Step 3/3 :  54%|█████▍    | 2703/5000 [00:40<00:25, 91.81it/s]"
     ]
    },
    {
     "name": "stderr",
     "output_type": "stream",
     "text": [
      "\r",
      "Step 3/3 :  54%|█████▍    | 2703/5000 [00:40<00:25, 91.81it/s]"
     ]
    },
    {
     "name": "stderr",
     "output_type": "stream",
     "text": [
      "\r",
      "Step 3/3 :  54%|█████▍    | 2703/5000 [00:40<00:25, 91.81it/s]"
     ]
    },
    {
     "name": "stderr",
     "output_type": "stream",
     "text": [
      "\r",
      "Step 3/3 :  54%|█████▍    | 2703/5000 [00:40<00:25, 91.81it/s]"
     ]
    },
    {
     "name": "stderr",
     "output_type": "stream",
     "text": [
      "\r",
      "Step 3/3 :  54%|█████▍    | 2703/5000 [00:40<00:25, 91.81it/s]"
     ]
    },
    {
     "name": "stderr",
     "output_type": "stream",
     "text": [
      "\r",
      "Step 3/3 :  54%|█████▍    | 2703/5000 [00:40<00:25, 91.81it/s]"
     ]
    },
    {
     "name": "stderr",
     "output_type": "stream",
     "text": [
      "\r",
      "Step 3/3 :  54%|█████▍    | 2713/5000 [00:40<00:24, 93.07it/s]"
     ]
    },
    {
     "name": "stderr",
     "output_type": "stream",
     "text": [
      "\r",
      "Step 3/3 :  54%|█████▍    | 2713/5000 [00:40<00:24, 93.07it/s]"
     ]
    },
    {
     "name": "stderr",
     "output_type": "stream",
     "text": [
      "\r",
      "Step 3/3 :  54%|█████▍    | 2713/5000 [00:40<00:24, 93.07it/s]"
     ]
    },
    {
     "name": "stderr",
     "output_type": "stream",
     "text": [
      "\r",
      "Step 3/3 :  54%|█████▍    | 2713/5000 [00:40<00:24, 93.07it/s]"
     ]
    },
    {
     "name": "stderr",
     "output_type": "stream",
     "text": [
      "\r",
      "Step 3/3 :  54%|█████▍    | 2713/5000 [00:40<00:24, 93.07it/s]"
     ]
    },
    {
     "name": "stderr",
     "output_type": "stream",
     "text": [
      "\r",
      "Step 3/3 :  54%|█████▍    | 2713/5000 [00:40<00:24, 93.07it/s]"
     ]
    },
    {
     "name": "stderr",
     "output_type": "stream",
     "text": [
      "\r",
      "Step 3/3 :  54%|█████▍    | 2713/5000 [00:40<00:24, 93.07it/s]"
     ]
    },
    {
     "name": "stderr",
     "output_type": "stream",
     "text": [
      "\r",
      "Step 3/3 :  54%|█████▍    | 2713/5000 [00:40<00:24, 93.07it/s]"
     ]
    },
    {
     "name": "stderr",
     "output_type": "stream",
     "text": [
      "\r",
      "Step 3/3 :  54%|█████▍    | 2713/5000 [00:40<00:24, 93.07it/s]"
     ]
    },
    {
     "name": "stderr",
     "output_type": "stream",
     "text": [
      "\r",
      "Step 3/3 :  54%|█████▍    | 2713/5000 [00:40<00:24, 93.07it/s]"
     ]
    },
    {
     "name": "stderr",
     "output_type": "stream",
     "text": [
      "\r",
      "Step 3/3 :  54%|█████▍    | 2713/5000 [00:40<00:24, 93.07it/s]"
     ]
    },
    {
     "name": "stderr",
     "output_type": "stream",
     "text": [
      "\r",
      "Step 3/3 :  54%|█████▍    | 2723/5000 [00:40<00:25, 90.27it/s]"
     ]
    },
    {
     "name": "stderr",
     "output_type": "stream",
     "text": [
      "\r",
      "Step 3/3 :  54%|█████▍    | 2723/5000 [00:40<00:25, 90.27it/s]"
     ]
    },
    {
     "name": "stderr",
     "output_type": "stream",
     "text": [
      "\r",
      "Step 3/3 :  54%|█████▍    | 2723/5000 [00:40<00:25, 90.27it/s]"
     ]
    },
    {
     "name": "stderr",
     "output_type": "stream",
     "text": [
      "\r",
      "Step 3/3 :  54%|█████▍    | 2723/5000 [00:40<00:25, 90.27it/s]"
     ]
    },
    {
     "name": "stderr",
     "output_type": "stream",
     "text": [
      "\r",
      "Step 3/3 :  54%|█████▍    | 2723/5000 [00:40<00:25, 90.27it/s]"
     ]
    },
    {
     "name": "stderr",
     "output_type": "stream",
     "text": [
      "\r",
      "Step 3/3 :  54%|█████▍    | 2723/5000 [00:40<00:25, 90.27it/s]"
     ]
    },
    {
     "name": "stderr",
     "output_type": "stream",
     "text": [
      "\r",
      "Step 3/3 :  54%|█████▍    | 2723/5000 [00:40<00:25, 90.27it/s]"
     ]
    },
    {
     "name": "stderr",
     "output_type": "stream",
     "text": [
      "\r",
      "Step 3/3 :  54%|█████▍    | 2723/5000 [00:40<00:25, 90.27it/s]"
     ]
    },
    {
     "name": "stderr",
     "output_type": "stream",
     "text": [
      "\r",
      "Step 3/3 :  54%|█████▍    | 2723/5000 [00:40<00:25, 90.27it/s]"
     ]
    },
    {
     "name": "stderr",
     "output_type": "stream",
     "text": [
      "\r",
      "Step 3/3 :  54%|█████▍    | 2723/5000 [00:40<00:25, 90.27it/s]"
     ]
    },
    {
     "name": "stderr",
     "output_type": "stream",
     "text": [
      "\r",
      "Step 3/3 :  54%|█████▍    | 2723/5000 [00:40<00:25, 90.27it/s]"
     ]
    },
    {
     "name": "stderr",
     "output_type": "stream",
     "text": [
      "\r",
      "Step 3/3 :  55%|█████▍    | 2733/5000 [00:40<00:25, 88.53it/s]"
     ]
    },
    {
     "name": "stderr",
     "output_type": "stream",
     "text": [
      "\r",
      "Step 3/3 :  55%|█████▍    | 2733/5000 [00:40<00:25, 88.53it/s]"
     ]
    },
    {
     "name": "stderr",
     "output_type": "stream",
     "text": [
      "\r",
      "Step 3/3 :  55%|█████▍    | 2733/5000 [00:40<00:25, 88.53it/s]"
     ]
    },
    {
     "name": "stderr",
     "output_type": "stream",
     "text": [
      "\r",
      "Step 3/3 :  55%|█████▍    | 2733/5000 [00:40<00:25, 88.53it/s]"
     ]
    },
    {
     "name": "stderr",
     "output_type": "stream",
     "text": [
      "\r",
      "Step 3/3 :  55%|█████▍    | 2733/5000 [00:40<00:25, 88.53it/s]"
     ]
    },
    {
     "name": "stderr",
     "output_type": "stream",
     "text": [
      "\r",
      "Step 3/3 :  55%|█████▍    | 2733/5000 [00:40<00:25, 88.53it/s]"
     ]
    },
    {
     "name": "stderr",
     "output_type": "stream",
     "text": [
      "\r",
      "Step 3/3 :  55%|█████▍    | 2733/5000 [00:40<00:25, 88.53it/s]"
     ]
    },
    {
     "name": "stderr",
     "output_type": "stream",
     "text": [
      "\r",
      "Step 3/3 :  55%|█████▍    | 2733/5000 [00:40<00:25, 88.53it/s]"
     ]
    },
    {
     "name": "stderr",
     "output_type": "stream",
     "text": [
      "\r",
      "Step 3/3 :  55%|█████▍    | 2733/5000 [00:40<00:25, 88.53it/s]"
     ]
    },
    {
     "name": "stderr",
     "output_type": "stream",
     "text": [
      "\r",
      "Step 3/3 :  55%|█████▍    | 2733/5000 [00:40<00:25, 88.53it/s]"
     ]
    },
    {
     "name": "stderr",
     "output_type": "stream",
     "text": [
      "\r",
      "Step 3/3 :  55%|█████▍    | 2733/5000 [00:40<00:25, 88.53it/s]"
     ]
    },
    {
     "name": "stderr",
     "output_type": "stream",
     "text": [
      "\r",
      "Step 3/3 :  55%|█████▍    | 2743/5000 [00:40<00:24, 91.18it/s]"
     ]
    },
    {
     "name": "stderr",
     "output_type": "stream",
     "text": [
      "\r",
      "Step 3/3 :  55%|█████▍    | 2743/5000 [00:40<00:24, 91.18it/s]"
     ]
    },
    {
     "name": "stderr",
     "output_type": "stream",
     "text": [
      "\r",
      "Step 3/3 :  55%|█████▍    | 2743/5000 [00:40<00:24, 91.18it/s]"
     ]
    },
    {
     "name": "stderr",
     "output_type": "stream",
     "text": [
      "\r",
      "Step 3/3 :  55%|█████▍    | 2743/5000 [00:40<00:24, 91.18it/s]"
     ]
    },
    {
     "name": "stderr",
     "output_type": "stream",
     "text": [
      "\r",
      "Step 3/3 :  55%|█████▍    | 2743/5000 [00:40<00:24, 91.18it/s]"
     ]
    },
    {
     "name": "stderr",
     "output_type": "stream",
     "text": [
      "\r",
      "Step 3/3 :  55%|█████▍    | 2743/5000 [00:40<00:24, 91.18it/s]"
     ]
    },
    {
     "name": "stderr",
     "output_type": "stream",
     "text": [
      "\r",
      "Step 3/3 :  55%|█████▍    | 2743/5000 [00:40<00:24, 91.18it/s]"
     ]
    },
    {
     "name": "stderr",
     "output_type": "stream",
     "text": [
      "\r",
      "Step 3/3 :  55%|█████▍    | 2743/5000 [00:40<00:24, 91.18it/s]"
     ]
    },
    {
     "name": "stderr",
     "output_type": "stream",
     "text": [
      "\r",
      "Step 3/3 :  55%|█████▍    | 2743/5000 [00:40<00:24, 91.18it/s]"
     ]
    },
    {
     "name": "stderr",
     "output_type": "stream",
     "text": [
      "\r",
      "Step 3/3 :  55%|█████▍    | 2743/5000 [00:40<00:24, 91.18it/s]"
     ]
    },
    {
     "name": "stderr",
     "output_type": "stream",
     "text": [
      "\r",
      "Step 3/3 :  55%|█████▍    | 2743/5000 [00:40<00:24, 91.18it/s]"
     ]
    },
    {
     "name": "stderr",
     "output_type": "stream",
     "text": [
      "\r",
      "Step 3/3 :  55%|█████▌    | 2753/5000 [00:40<00:24, 92.11it/s]"
     ]
    },
    {
     "name": "stderr",
     "output_type": "stream",
     "text": [
      "\r",
      "Step 3/3 :  55%|█████▌    | 2753/5000 [00:40<00:24, 92.11it/s]"
     ]
    },
    {
     "name": "stderr",
     "output_type": "stream",
     "text": [
      "\r",
      "Step 3/3 :  55%|█████▌    | 2753/5000 [00:40<00:24, 92.11it/s]"
     ]
    },
    {
     "name": "stderr",
     "output_type": "stream",
     "text": [
      "\r",
      "Step 3/3 :  55%|█████▌    | 2753/5000 [00:40<00:24, 92.11it/s]"
     ]
    },
    {
     "name": "stderr",
     "output_type": "stream",
     "text": [
      "\r",
      "Step 3/3 :  55%|█████▌    | 2753/5000 [00:40<00:24, 92.11it/s]"
     ]
    },
    {
     "name": "stderr",
     "output_type": "stream",
     "text": [
      "\r",
      "Step 3/3 :  55%|█████▌    | 2753/5000 [00:40<00:24, 92.11it/s]"
     ]
    },
    {
     "name": "stderr",
     "output_type": "stream",
     "text": [
      "\r",
      "Step 3/3 :  55%|█████▌    | 2753/5000 [00:40<00:24, 92.11it/s]"
     ]
    },
    {
     "name": "stderr",
     "output_type": "stream",
     "text": [
      "\r",
      "Step 3/3 :  55%|█████▌    | 2753/5000 [00:40<00:24, 92.11it/s]"
     ]
    },
    {
     "name": "stderr",
     "output_type": "stream",
     "text": [
      "\r",
      "Step 3/3 :  55%|█████▌    | 2753/5000 [00:40<00:24, 92.11it/s]"
     ]
    },
    {
     "name": "stderr",
     "output_type": "stream",
     "text": [
      "\r",
      "Step 3/3 :  55%|█████▌    | 2753/5000 [00:40<00:24, 92.11it/s]"
     ]
    },
    {
     "name": "stderr",
     "output_type": "stream",
     "text": [
      "\r",
      "Step 3/3 :  55%|█████▌    | 2753/5000 [00:40<00:24, 92.11it/s]"
     ]
    },
    {
     "name": "stderr",
     "output_type": "stream",
     "text": [
      "\r",
      "Step 3/3 :  55%|█████▌    | 2763/5000 [00:40<00:23, 93.80it/s]"
     ]
    },
    {
     "name": "stderr",
     "output_type": "stream",
     "text": [
      "\r",
      "Step 3/3 :  55%|█████▌    | 2763/5000 [00:40<00:23, 93.80it/s]"
     ]
    },
    {
     "name": "stderr",
     "output_type": "stream",
     "text": [
      "\r",
      "Step 3/3 :  55%|█████▌    | 2763/5000 [00:40<00:23, 93.80it/s]"
     ]
    },
    {
     "name": "stderr",
     "output_type": "stream",
     "text": [
      "\r",
      "Step 3/3 :  55%|█████▌    | 2763/5000 [00:41<00:23, 93.80it/s]"
     ]
    },
    {
     "name": "stderr",
     "output_type": "stream",
     "text": [
      "\r",
      "Step 3/3 :  55%|█████▌    | 2763/5000 [00:41<00:23, 93.80it/s]"
     ]
    },
    {
     "name": "stderr",
     "output_type": "stream",
     "text": [
      "\r",
      "Step 3/3 :  55%|█████▌    | 2763/5000 [00:41<00:23, 93.80it/s]"
     ]
    },
    {
     "name": "stderr",
     "output_type": "stream",
     "text": [
      "\r",
      "Step 3/3 :  55%|█████▌    | 2763/5000 [00:41<00:23, 93.80it/s]"
     ]
    },
    {
     "name": "stderr",
     "output_type": "stream",
     "text": [
      "\r",
      "Step 3/3 :  55%|█████▌    | 2763/5000 [00:41<00:23, 93.80it/s]"
     ]
    },
    {
     "name": "stderr",
     "output_type": "stream",
     "text": [
      "\r",
      "Step 3/3 :  55%|█████▌    | 2763/5000 [00:41<00:23, 93.80it/s]"
     ]
    },
    {
     "name": "stderr",
     "output_type": "stream",
     "text": [
      "\r",
      "Step 3/3 :  55%|█████▌    | 2763/5000 [00:41<00:23, 93.80it/s]"
     ]
    },
    {
     "name": "stderr",
     "output_type": "stream",
     "text": [
      "\r",
      "Step 3/3 :  55%|█████▌    | 2763/5000 [00:41<00:23, 93.80it/s]"
     ]
    },
    {
     "name": "stderr",
     "output_type": "stream",
     "text": [
      "\r",
      "Step 3/3 :  55%|█████▌    | 2773/5000 [00:41<00:23, 94.78it/s]"
     ]
    },
    {
     "name": "stderr",
     "output_type": "stream",
     "text": [
      "\r",
      "Step 3/3 :  55%|█████▌    | 2773/5000 [00:41<00:23, 94.78it/s]"
     ]
    },
    {
     "name": "stderr",
     "output_type": "stream",
     "text": [
      "\r",
      "Step 3/3 :  55%|█████▌    | 2773/5000 [00:41<00:23, 94.78it/s]"
     ]
    },
    {
     "name": "stderr",
     "output_type": "stream",
     "text": [
      "\r",
      "Step 3/3 :  55%|█████▌    | 2773/5000 [00:41<00:23, 94.78it/s]"
     ]
    },
    {
     "name": "stderr",
     "output_type": "stream",
     "text": [
      "\r",
      "Step 3/3 :  55%|█████▌    | 2773/5000 [00:41<00:23, 94.78it/s]"
     ]
    },
    {
     "name": "stderr",
     "output_type": "stream",
     "text": [
      "\r",
      "Step 3/3 :  55%|█████▌    | 2773/5000 [00:41<00:23, 94.78it/s]"
     ]
    },
    {
     "name": "stderr",
     "output_type": "stream",
     "text": [
      "\r",
      "Step 3/3 :  55%|█████▌    | 2773/5000 [00:41<00:23, 94.78it/s]"
     ]
    },
    {
     "name": "stderr",
     "output_type": "stream",
     "text": [
      "\r",
      "Step 3/3 :  55%|█████▌    | 2773/5000 [00:41<00:23, 94.78it/s]"
     ]
    },
    {
     "name": "stderr",
     "output_type": "stream",
     "text": [
      "\r",
      "Step 3/3 :  55%|█████▌    | 2773/5000 [00:41<00:23, 94.78it/s]"
     ]
    },
    {
     "name": "stderr",
     "output_type": "stream",
     "text": [
      "\r",
      "Step 3/3 :  55%|█████▌    | 2773/5000 [00:41<00:23, 94.78it/s]"
     ]
    },
    {
     "name": "stderr",
     "output_type": "stream",
     "text": [
      "\r",
      "Step 3/3 :  55%|█████▌    | 2773/5000 [00:41<00:23, 94.78it/s]"
     ]
    },
    {
     "name": "stderr",
     "output_type": "stream",
     "text": [
      "\r",
      "Step 3/3 :  56%|█████▌    | 2783/5000 [00:41<00:23, 95.19it/s]"
     ]
    },
    {
     "name": "stderr",
     "output_type": "stream",
     "text": [
      "\r",
      "Step 3/3 :  56%|█████▌    | 2783/5000 [00:41<00:23, 95.19it/s]"
     ]
    },
    {
     "name": "stderr",
     "output_type": "stream",
     "text": [
      "\r",
      "Step 3/3 :  56%|█████▌    | 2783/5000 [00:41<00:23, 95.19it/s]"
     ]
    },
    {
     "name": "stderr",
     "output_type": "stream",
     "text": [
      "\r",
      "Step 3/3 :  56%|█████▌    | 2783/5000 [00:41<00:23, 95.19it/s]"
     ]
    },
    {
     "name": "stderr",
     "output_type": "stream",
     "text": [
      "\r",
      "Step 3/3 :  56%|█████▌    | 2783/5000 [00:41<00:23, 95.19it/s]"
     ]
    },
    {
     "name": "stderr",
     "output_type": "stream",
     "text": [
      "\r",
      "Step 3/3 :  56%|█████▌    | 2783/5000 [00:41<00:23, 95.19it/s]"
     ]
    },
    {
     "name": "stderr",
     "output_type": "stream",
     "text": [
      "\r",
      "Step 3/3 :  56%|█████▌    | 2783/5000 [00:41<00:23, 95.19it/s]"
     ]
    },
    {
     "name": "stderr",
     "output_type": "stream",
     "text": [
      "\r",
      "Step 3/3 :  56%|█████▌    | 2783/5000 [00:41<00:23, 95.19it/s]"
     ]
    },
    {
     "name": "stderr",
     "output_type": "stream",
     "text": [
      "\r",
      "Step 3/3 :  56%|█████▌    | 2783/5000 [00:41<00:23, 95.19it/s]"
     ]
    },
    {
     "name": "stderr",
     "output_type": "stream",
     "text": [
      "\r",
      "Step 3/3 :  56%|█████▌    | 2783/5000 [00:41<00:23, 95.19it/s]"
     ]
    },
    {
     "name": "stderr",
     "output_type": "stream",
     "text": [
      "\r",
      "Step 3/3 :  56%|█████▌    | 2783/5000 [00:41<00:23, 95.19it/s]"
     ]
    },
    {
     "name": "stderr",
     "output_type": "stream",
     "text": [
      "\r",
      "Step 3/3 :  56%|█████▌    | 2793/5000 [00:41<00:23, 92.68it/s]"
     ]
    },
    {
     "name": "stderr",
     "output_type": "stream",
     "text": [
      "\r",
      "Step 3/3 :  56%|█████▌    | 2793/5000 [00:41<00:23, 92.68it/s]"
     ]
    },
    {
     "name": "stderr",
     "output_type": "stream",
     "text": [
      "\r",
      "Step 3/3 :  56%|█████▌    | 2793/5000 [00:41<00:23, 92.68it/s]"
     ]
    },
    {
     "name": "stderr",
     "output_type": "stream",
     "text": [
      "\r",
      "Step 3/3 :  56%|█████▌    | 2793/5000 [00:41<00:23, 92.68it/s]"
     ]
    },
    {
     "name": "stderr",
     "output_type": "stream",
     "text": [
      "\r",
      "Step 3/3 :  56%|█████▌    | 2793/5000 [00:41<00:23, 92.68it/s]"
     ]
    },
    {
     "name": "stderr",
     "output_type": "stream",
     "text": [
      "\r",
      "Step 3/3 :  56%|█████▌    | 2793/5000 [00:41<00:23, 92.68it/s]"
     ]
    },
    {
     "name": "stderr",
     "output_type": "stream",
     "text": [
      "\r",
      "Step 3/3 :  56%|█████▌    | 2793/5000 [00:41<00:23, 92.68it/s]"
     ]
    },
    {
     "name": "stderr",
     "output_type": "stream",
     "text": [
      "\r",
      "Step 3/3 :  56%|█████▌    | 2793/5000 [00:41<00:23, 92.68it/s]"
     ]
    },
    {
     "name": "stderr",
     "output_type": "stream",
     "text": [
      "\r",
      "Step 3/3 :  56%|█████▌    | 2793/5000 [00:41<00:23, 92.68it/s]"
     ]
    },
    {
     "name": "stderr",
     "output_type": "stream",
     "text": [
      "\r",
      "Step 3/3 :  56%|█████▌    | 2793/5000 [00:41<00:23, 92.68it/s]"
     ]
    },
    {
     "name": "stderr",
     "output_type": "stream",
     "text": [
      "\r",
      "Step 3/3 :  56%|█████▌    | 2793/5000 [00:41<00:23, 92.68it/s]"
     ]
    },
    {
     "name": "stderr",
     "output_type": "stream",
     "text": [
      "\r",
      "Step 3/3 :  56%|█████▌    | 2803/5000 [00:41<00:23, 92.65it/s]"
     ]
    },
    {
     "name": "stderr",
     "output_type": "stream",
     "text": [
      "\r",
      "Step 3/3 :  56%|█████▌    | 2803/5000 [00:41<00:23, 92.65it/s]"
     ]
    },
    {
     "name": "stderr",
     "output_type": "stream",
     "text": [
      "\r",
      "Step 3/3 :  56%|█████▌    | 2803/5000 [00:41<00:23, 92.65it/s]"
     ]
    },
    {
     "name": "stderr",
     "output_type": "stream",
     "text": [
      "\r",
      "Step 3/3 :  56%|█████▌    | 2803/5000 [00:41<00:23, 92.65it/s]"
     ]
    },
    {
     "name": "stderr",
     "output_type": "stream",
     "text": [
      "\r",
      "Step 3/3 :  56%|█████▌    | 2803/5000 [00:41<00:23, 92.65it/s]"
     ]
    },
    {
     "name": "stderr",
     "output_type": "stream",
     "text": [
      "\r",
      "Step 3/3 :  56%|█████▌    | 2803/5000 [00:41<00:23, 92.65it/s]"
     ]
    },
    {
     "name": "stderr",
     "output_type": "stream",
     "text": [
      "\r",
      "Step 3/3 :  56%|█████▌    | 2803/5000 [00:41<00:23, 92.65it/s]"
     ]
    },
    {
     "name": "stderr",
     "output_type": "stream",
     "text": [
      "\r",
      "Step 3/3 :  56%|█████▌    | 2803/5000 [00:41<00:23, 92.65it/s]"
     ]
    },
    {
     "name": "stderr",
     "output_type": "stream",
     "text": [
      "\r",
      "Step 3/3 :  56%|█████▌    | 2803/5000 [00:41<00:23, 92.65it/s]"
     ]
    },
    {
     "name": "stderr",
     "output_type": "stream",
     "text": [
      "\r",
      "Step 3/3 :  56%|█████▌    | 2803/5000 [00:41<00:23, 92.65it/s]"
     ]
    },
    {
     "name": "stderr",
     "output_type": "stream",
     "text": [
      "\r",
      "Step 3/3 :  56%|█████▌    | 2803/5000 [00:41<00:23, 92.65it/s]"
     ]
    },
    {
     "name": "stderr",
     "output_type": "stream",
     "text": [
      "\r",
      "Step 3/3 :  56%|█████▋    | 2813/5000 [00:41<00:24, 91.12it/s]"
     ]
    },
    {
     "name": "stderr",
     "output_type": "stream",
     "text": [
      "\r",
      "Step 3/3 :  56%|█████▋    | 2813/5000 [00:41<00:24, 91.12it/s]"
     ]
    },
    {
     "name": "stderr",
     "output_type": "stream",
     "text": [
      "\r",
      "Step 3/3 :  56%|█████▋    | 2813/5000 [00:41<00:24, 91.12it/s]"
     ]
    },
    {
     "name": "stderr",
     "output_type": "stream",
     "text": [
      "\r",
      "Step 3/3 :  56%|█████▋    | 2813/5000 [00:41<00:24, 91.12it/s]"
     ]
    },
    {
     "name": "stderr",
     "output_type": "stream",
     "text": [
      "\r",
      "Step 3/3 :  56%|█████▋    | 2813/5000 [00:41<00:24, 91.12it/s]"
     ]
    },
    {
     "name": "stderr",
     "output_type": "stream",
     "text": [
      "\r",
      "Step 3/3 :  56%|█████▋    | 2813/5000 [00:41<00:24, 91.12it/s]"
     ]
    },
    {
     "name": "stderr",
     "output_type": "stream",
     "text": [
      "\r",
      "Step 3/3 :  56%|█████▋    | 2813/5000 [00:41<00:24, 91.12it/s]"
     ]
    },
    {
     "name": "stderr",
     "output_type": "stream",
     "text": [
      "\r",
      "Step 3/3 :  56%|█████▋    | 2813/5000 [00:41<00:24, 91.12it/s]"
     ]
    },
    {
     "name": "stderr",
     "output_type": "stream",
     "text": [
      "\r",
      "Step 3/3 :  56%|█████▋    | 2813/5000 [00:41<00:24, 91.12it/s]"
     ]
    },
    {
     "name": "stderr",
     "output_type": "stream",
     "text": [
      "\r",
      "Step 3/3 :  56%|█████▋    | 2813/5000 [00:41<00:24, 91.12it/s]"
     ]
    },
    {
     "name": "stderr",
     "output_type": "stream",
     "text": [
      "\r",
      "Step 3/3 :  56%|█████▋    | 2813/5000 [00:41<00:24, 91.12it/s]"
     ]
    },
    {
     "name": "stderr",
     "output_type": "stream",
     "text": [
      "\r",
      "Step 3/3 :  56%|█████▋    | 2823/5000 [00:41<00:24, 90.56it/s]"
     ]
    },
    {
     "name": "stderr",
     "output_type": "stream",
     "text": [
      "\r",
      "Step 3/3 :  56%|█████▋    | 2823/5000 [00:41<00:24, 90.56it/s]"
     ]
    },
    {
     "name": "stderr",
     "output_type": "stream",
     "text": [
      "\r",
      "Step 3/3 :  56%|█████▋    | 2823/5000 [00:41<00:24, 90.56it/s]"
     ]
    },
    {
     "name": "stderr",
     "output_type": "stream",
     "text": [
      "\r",
      "Step 3/3 :  56%|█████▋    | 2823/5000 [00:41<00:24, 90.56it/s]"
     ]
    },
    {
     "name": "stderr",
     "output_type": "stream",
     "text": [
      "\r",
      "Step 3/3 :  56%|█████▋    | 2823/5000 [00:41<00:24, 90.56it/s]"
     ]
    },
    {
     "name": "stderr",
     "output_type": "stream",
     "text": [
      "\r",
      "Step 3/3 :  56%|█████▋    | 2823/5000 [00:41<00:24, 90.56it/s]"
     ]
    },
    {
     "name": "stderr",
     "output_type": "stream",
     "text": [
      "\r",
      "Step 3/3 :  56%|█████▋    | 2823/5000 [00:41<00:24, 90.56it/s]"
     ]
    },
    {
     "name": "stderr",
     "output_type": "stream",
     "text": [
      "\r",
      "Step 3/3 :  56%|█████▋    | 2823/5000 [00:41<00:24, 90.56it/s]"
     ]
    },
    {
     "name": "stderr",
     "output_type": "stream",
     "text": [
      "\r",
      "Step 3/3 :  56%|█████▋    | 2823/5000 [00:41<00:24, 90.56it/s]"
     ]
    },
    {
     "name": "stderr",
     "output_type": "stream",
     "text": [
      "\r",
      "Step 3/3 :  56%|█████▋    | 2823/5000 [00:41<00:24, 90.56it/s]"
     ]
    },
    {
     "name": "stderr",
     "output_type": "stream",
     "text": [
      "\r",
      "Step 3/3 :  56%|█████▋    | 2823/5000 [00:41<00:24, 90.56it/s]"
     ]
    },
    {
     "name": "stderr",
     "output_type": "stream",
     "text": [
      "\r",
      "Step 3/3 :  57%|█████▋    | 2833/5000 [00:41<00:24, 90.04it/s]"
     ]
    },
    {
     "name": "stderr",
     "output_type": "stream",
     "text": [
      "\r",
      "Step 3/3 :  57%|█████▋    | 2833/5000 [00:41<00:24, 90.04it/s]"
     ]
    },
    {
     "name": "stderr",
     "output_type": "stream",
     "text": [
      "\r",
      "Step 3/3 :  57%|█████▋    | 2833/5000 [00:41<00:24, 90.04it/s]"
     ]
    },
    {
     "name": "stderr",
     "output_type": "stream",
     "text": [
      "\r",
      "Step 3/3 :  57%|█████▋    | 2833/5000 [00:41<00:24, 90.04it/s]"
     ]
    },
    {
     "name": "stderr",
     "output_type": "stream",
     "text": [
      "\r",
      "Step 3/3 :  57%|█████▋    | 2833/5000 [00:41<00:24, 90.04it/s]"
     ]
    },
    {
     "name": "stderr",
     "output_type": "stream",
     "text": [
      "\r",
      "Step 3/3 :  57%|█████▋    | 2833/5000 [00:41<00:24, 90.04it/s]"
     ]
    },
    {
     "name": "stderr",
     "output_type": "stream",
     "text": [
      "\r",
      "Step 3/3 :  57%|█████▋    | 2833/5000 [00:41<00:24, 90.04it/s]"
     ]
    },
    {
     "name": "stderr",
     "output_type": "stream",
     "text": [
      "\r",
      "Step 3/3 :  57%|█████▋    | 2833/5000 [00:41<00:24, 90.04it/s]"
     ]
    },
    {
     "name": "stderr",
     "output_type": "stream",
     "text": [
      "\r",
      "Step 3/3 :  57%|█████▋    | 2833/5000 [00:41<00:24, 90.04it/s]"
     ]
    },
    {
     "name": "stderr",
     "output_type": "stream",
     "text": [
      "\r",
      "Step 3/3 :  57%|█████▋    | 2833/5000 [00:41<00:24, 90.04it/s]"
     ]
    },
    {
     "name": "stderr",
     "output_type": "stream",
     "text": [
      "\r",
      "Step 3/3 :  57%|█████▋    | 2833/5000 [00:41<00:24, 90.04it/s]"
     ]
    },
    {
     "name": "stderr",
     "output_type": "stream",
     "text": [
      "\r",
      "Step 3/3 :  57%|█████▋    | 2843/5000 [00:41<00:23, 92.04it/s]"
     ]
    },
    {
     "name": "stderr",
     "output_type": "stream",
     "text": [
      "\r",
      "Step 3/3 :  57%|█████▋    | 2843/5000 [00:41<00:23, 92.04it/s]"
     ]
    },
    {
     "name": "stderr",
     "output_type": "stream",
     "text": [
      "\r",
      "Step 3/3 :  57%|█████▋    | 2843/5000 [00:41<00:23, 92.04it/s]"
     ]
    },
    {
     "name": "stderr",
     "output_type": "stream",
     "text": [
      "\r",
      "Step 3/3 :  57%|█████▋    | 2843/5000 [00:41<00:23, 92.04it/s]"
     ]
    },
    {
     "name": "stderr",
     "output_type": "stream",
     "text": [
      "\r",
      "Step 3/3 :  57%|█████▋    | 2843/5000 [00:41<00:23, 92.04it/s]"
     ]
    },
    {
     "name": "stderr",
     "output_type": "stream",
     "text": [
      "\r",
      "Step 3/3 :  57%|█████▋    | 2843/5000 [00:41<00:23, 92.04it/s]"
     ]
    },
    {
     "name": "stderr",
     "output_type": "stream",
     "text": [
      "\r",
      "Step 3/3 :  57%|█████▋    | 2843/5000 [00:41<00:23, 92.04it/s]"
     ]
    },
    {
     "name": "stderr",
     "output_type": "stream",
     "text": [
      "\r",
      "Step 3/3 :  57%|█████▋    | 2843/5000 [00:41<00:23, 92.04it/s]"
     ]
    },
    {
     "name": "stderr",
     "output_type": "stream",
     "text": [
      "\r",
      "Step 3/3 :  57%|█████▋    | 2843/5000 [00:41<00:23, 92.04it/s]"
     ]
    },
    {
     "name": "stderr",
     "output_type": "stream",
     "text": [
      "\r",
      "Step 3/3 :  57%|█████▋    | 2843/5000 [00:41<00:23, 92.04it/s]"
     ]
    },
    {
     "name": "stderr",
     "output_type": "stream",
     "text": [
      "\r",
      "Step 3/3 :  57%|█████▋    | 2843/5000 [00:41<00:23, 92.04it/s]"
     ]
    },
    {
     "name": "stderr",
     "output_type": "stream",
     "text": [
      "\r",
      "Step 3/3 :  57%|█████▋    | 2853/5000 [00:41<00:25, 85.32it/s]"
     ]
    },
    {
     "name": "stderr",
     "output_type": "stream",
     "text": [
      "\r",
      "Step 3/3 :  57%|█████▋    | 2853/5000 [00:41<00:25, 85.32it/s]"
     ]
    },
    {
     "name": "stderr",
     "output_type": "stream",
     "text": [
      "\r",
      "Step 3/3 :  57%|█████▋    | 2853/5000 [00:42<00:25, 85.32it/s]"
     ]
    },
    {
     "name": "stderr",
     "output_type": "stream",
     "text": [
      "\r",
      "Step 3/3 :  57%|█████▋    | 2853/5000 [00:42<00:25, 85.32it/s]"
     ]
    },
    {
     "name": "stderr",
     "output_type": "stream",
     "text": [
      "\r",
      "Step 3/3 :  57%|█████▋    | 2853/5000 [00:42<00:25, 85.32it/s]"
     ]
    },
    {
     "name": "stderr",
     "output_type": "stream",
     "text": [
      "\r",
      "Step 3/3 :  57%|█████▋    | 2853/5000 [00:42<00:25, 85.32it/s]"
     ]
    },
    {
     "name": "stderr",
     "output_type": "stream",
     "text": [
      "\r",
      "Step 3/3 :  57%|█████▋    | 2853/5000 [00:42<00:25, 85.32it/s]"
     ]
    },
    {
     "name": "stderr",
     "output_type": "stream",
     "text": [
      "\r",
      "Step 3/3 :  57%|█████▋    | 2853/5000 [00:42<00:25, 85.32it/s]"
     ]
    },
    {
     "name": "stderr",
     "output_type": "stream",
     "text": [
      "\r",
      "Step 3/3 :  57%|█████▋    | 2853/5000 [00:42<00:25, 85.32it/s]"
     ]
    },
    {
     "name": "stderr",
     "output_type": "stream",
     "text": [
      "\r",
      "Step 3/3 :  57%|█████▋    | 2853/5000 [00:42<00:25, 85.32it/s]"
     ]
    },
    {
     "name": "stderr",
     "output_type": "stream",
     "text": [
      "\r",
      "Step 3/3 :  57%|█████▋    | 2853/5000 [00:42<00:25, 85.32it/s]"
     ]
    },
    {
     "name": "stderr",
     "output_type": "stream",
     "text": [
      "\r",
      "Step 3/3 :  57%|█████▋    | 2863/5000 [00:42<00:24, 86.92it/s]"
     ]
    },
    {
     "name": "stderr",
     "output_type": "stream",
     "text": [
      "\r",
      "Step 3/3 :  57%|█████▋    | 2863/5000 [00:42<00:24, 86.92it/s]"
     ]
    },
    {
     "name": "stderr",
     "output_type": "stream",
     "text": [
      "\r",
      "Step 3/3 :  57%|█████▋    | 2863/5000 [00:42<00:24, 86.92it/s]"
     ]
    },
    {
     "name": "stderr",
     "output_type": "stream",
     "text": [
      "\r",
      "Step 3/3 :  57%|█████▋    | 2863/5000 [00:42<00:24, 86.92it/s]"
     ]
    },
    {
     "name": "stderr",
     "output_type": "stream",
     "text": [
      "\r",
      "Step 3/3 :  57%|█████▋    | 2863/5000 [00:42<00:24, 86.92it/s]"
     ]
    },
    {
     "name": "stderr",
     "output_type": "stream",
     "text": [
      "\r",
      "Step 3/3 :  57%|█████▋    | 2863/5000 [00:42<00:24, 86.92it/s]"
     ]
    },
    {
     "name": "stderr",
     "output_type": "stream",
     "text": [
      "\r",
      "Step 3/3 :  57%|█████▋    | 2863/5000 [00:42<00:24, 86.92it/s]"
     ]
    },
    {
     "name": "stderr",
     "output_type": "stream",
     "text": [
      "\r",
      "Step 3/3 :  57%|█████▋    | 2863/5000 [00:42<00:24, 86.92it/s]"
     ]
    },
    {
     "name": "stderr",
     "output_type": "stream",
     "text": [
      "\r",
      "Step 3/3 :  57%|█████▋    | 2863/5000 [00:42<00:24, 86.92it/s]"
     ]
    },
    {
     "name": "stderr",
     "output_type": "stream",
     "text": [
      "\r",
      "Step 3/3 :  57%|█████▋    | 2863/5000 [00:42<00:24, 86.92it/s]"
     ]
    },
    {
     "name": "stderr",
     "output_type": "stream",
     "text": [
      "\r",
      "Step 3/3 :  57%|█████▋    | 2872/5000 [00:42<00:24, 87.52it/s]"
     ]
    },
    {
     "name": "stderr",
     "output_type": "stream",
     "text": [
      "\r",
      "Step 3/3 :  57%|█████▋    | 2872/5000 [00:42<00:24, 87.52it/s]"
     ]
    },
    {
     "name": "stderr",
     "output_type": "stream",
     "text": [
      "\r",
      "Step 3/3 :  57%|█████▋    | 2872/5000 [00:42<00:24, 87.52it/s]"
     ]
    },
    {
     "name": "stderr",
     "output_type": "stream",
     "text": [
      "\r",
      "Step 3/3 :  57%|█████▋    | 2872/5000 [00:42<00:24, 87.52it/s]"
     ]
    },
    {
     "name": "stderr",
     "output_type": "stream",
     "text": [
      "\r",
      "Step 3/3 :  57%|█████▋    | 2872/5000 [00:42<00:24, 87.52it/s]"
     ]
    },
    {
     "name": "stderr",
     "output_type": "stream",
     "text": [
      "\r",
      "Step 3/3 :  57%|█████▋    | 2872/5000 [00:42<00:24, 87.52it/s]"
     ]
    },
    {
     "name": "stderr",
     "output_type": "stream",
     "text": [
      "\r",
      "Step 3/3 :  57%|█████▋    | 2872/5000 [00:42<00:24, 87.52it/s]"
     ]
    },
    {
     "name": "stderr",
     "output_type": "stream",
     "text": [
      "\r",
      "Step 3/3 :  57%|█████▋    | 2872/5000 [00:42<00:24, 87.52it/s]"
     ]
    },
    {
     "name": "stderr",
     "output_type": "stream",
     "text": [
      "\r",
      "Step 3/3 :  57%|█████▋    | 2872/5000 [00:42<00:24, 87.52it/s]"
     ]
    },
    {
     "name": "stderr",
     "output_type": "stream",
     "text": [
      "\r",
      "Step 3/3 :  57%|█████▋    | 2872/5000 [00:42<00:24, 87.52it/s]"
     ]
    },
    {
     "name": "stderr",
     "output_type": "stream",
     "text": [
      "\r",
      "Step 3/3 :  57%|█████▋    | 2872/5000 [00:42<00:24, 87.52it/s]"
     ]
    },
    {
     "name": "stderr",
     "output_type": "stream",
     "text": [
      "\r",
      "Step 3/3 :  58%|█████▊    | 2882/5000 [00:42<00:23, 88.53it/s]"
     ]
    },
    {
     "name": "stderr",
     "output_type": "stream",
     "text": [
      "\r",
      "Step 3/3 :  58%|█████▊    | 2882/5000 [00:42<00:23, 88.53it/s]"
     ]
    },
    {
     "name": "stderr",
     "output_type": "stream",
     "text": [
      "\r",
      "Step 3/3 :  58%|█████▊    | 2882/5000 [00:42<00:23, 88.53it/s]"
     ]
    },
    {
     "name": "stderr",
     "output_type": "stream",
     "text": [
      "\r",
      "Step 3/3 :  58%|█████▊    | 2882/5000 [00:42<00:23, 88.53it/s]"
     ]
    },
    {
     "name": "stderr",
     "output_type": "stream",
     "text": [
      "\r",
      "Step 3/3 :  58%|█████▊    | 2882/5000 [00:42<00:23, 88.53it/s]"
     ]
    },
    {
     "name": "stderr",
     "output_type": "stream",
     "text": [
      "\r",
      "Step 3/3 :  58%|█████▊    | 2882/5000 [00:42<00:23, 88.53it/s]"
     ]
    },
    {
     "name": "stderr",
     "output_type": "stream",
     "text": [
      "\r",
      "Step 3/3 :  58%|█████▊    | 2882/5000 [00:42<00:23, 88.53it/s]"
     ]
    },
    {
     "name": "stderr",
     "output_type": "stream",
     "text": [
      "\r",
      "Step 3/3 :  58%|█████▊    | 2882/5000 [00:42<00:23, 88.53it/s]"
     ]
    },
    {
     "name": "stderr",
     "output_type": "stream",
     "text": [
      "\r",
      "Step 3/3 :  58%|█████▊    | 2882/5000 [00:42<00:23, 88.53it/s]"
     ]
    },
    {
     "name": "stderr",
     "output_type": "stream",
     "text": [
      "\r",
      "Step 3/3 :  58%|█████▊    | 2882/5000 [00:42<00:23, 88.53it/s]"
     ]
    },
    {
     "name": "stderr",
     "output_type": "stream",
     "text": [
      "\r",
      "Step 3/3 :  58%|█████▊    | 2891/5000 [00:42<00:23, 88.69it/s]"
     ]
    },
    {
     "name": "stderr",
     "output_type": "stream",
     "text": [
      "\r",
      "Step 3/3 :  58%|█████▊    | 2891/5000 [00:42<00:23, 88.69it/s]"
     ]
    },
    {
     "name": "stderr",
     "output_type": "stream",
     "text": [
      "\r",
      "Step 3/3 :  58%|█████▊    | 2891/5000 [00:42<00:23, 88.69it/s]"
     ]
    },
    {
     "name": "stderr",
     "output_type": "stream",
     "text": [
      "\r",
      "Step 3/3 :  58%|█████▊    | 2891/5000 [00:42<00:23, 88.69it/s]"
     ]
    },
    {
     "name": "stderr",
     "output_type": "stream",
     "text": [
      "\r",
      "Step 3/3 :  58%|█████▊    | 2891/5000 [00:42<00:23, 88.69it/s]"
     ]
    },
    {
     "name": "stderr",
     "output_type": "stream",
     "text": [
      "\r",
      "Step 3/3 :  58%|█████▊    | 2891/5000 [00:42<00:23, 88.69it/s]"
     ]
    },
    {
     "name": "stderr",
     "output_type": "stream",
     "text": [
      "\r",
      "Step 3/3 :  58%|█████▊    | 2891/5000 [00:42<00:23, 88.69it/s]"
     ]
    },
    {
     "name": "stderr",
     "output_type": "stream",
     "text": [
      "\r",
      "Step 3/3 :  58%|█████▊    | 2891/5000 [00:42<00:23, 88.69it/s]"
     ]
    },
    {
     "name": "stderr",
     "output_type": "stream",
     "text": [
      "\r",
      "Step 3/3 :  58%|█████▊    | 2891/5000 [00:42<00:23, 88.69it/s]"
     ]
    },
    {
     "name": "stderr",
     "output_type": "stream",
     "text": [
      "\r",
      "Step 3/3 :  58%|█████▊    | 2891/5000 [00:42<00:23, 88.69it/s]"
     ]
    },
    {
     "name": "stderr",
     "output_type": "stream",
     "text": [
      "\r",
      "Step 3/3 :  58%|█████▊    | 2891/5000 [00:42<00:23, 88.69it/s]"
     ]
    },
    {
     "name": "stderr",
     "output_type": "stream",
     "text": [
      "\r",
      "Step 3/3 :  58%|█████▊    | 2901/5000 [00:42<00:23, 89.12it/s]"
     ]
    },
    {
     "name": "stderr",
     "output_type": "stream",
     "text": [
      "\r",
      "Step 3/3 :  58%|█████▊    | 2901/5000 [00:42<00:23, 89.12it/s]"
     ]
    },
    {
     "name": "stderr",
     "output_type": "stream",
     "text": [
      "\r",
      "Step 3/3 :  58%|█████▊    | 2901/5000 [00:42<00:23, 89.12it/s]"
     ]
    },
    {
     "name": "stderr",
     "output_type": "stream",
     "text": [
      "\r",
      "Step 3/3 :  58%|█████▊    | 2901/5000 [00:42<00:23, 89.12it/s]"
     ]
    },
    {
     "name": "stderr",
     "output_type": "stream",
     "text": [
      "\r",
      "Step 3/3 :  58%|█████▊    | 2901/5000 [00:42<00:23, 89.12it/s]"
     ]
    },
    {
     "name": "stderr",
     "output_type": "stream",
     "text": [
      "\r",
      "Step 3/3 :  58%|█████▊    | 2901/5000 [00:42<00:23, 89.12it/s]"
     ]
    },
    {
     "name": "stderr",
     "output_type": "stream",
     "text": [
      "\r",
      "Step 3/3 :  58%|█████▊    | 2901/5000 [00:42<00:23, 89.12it/s]"
     ]
    },
    {
     "name": "stderr",
     "output_type": "stream",
     "text": [
      "\r",
      "Step 3/3 :  58%|█████▊    | 2901/5000 [00:42<00:23, 89.12it/s]"
     ]
    },
    {
     "name": "stderr",
     "output_type": "stream",
     "text": [
      "\r",
      "Step 3/3 :  58%|█████▊    | 2901/5000 [00:42<00:23, 89.12it/s]"
     ]
    },
    {
     "name": "stderr",
     "output_type": "stream",
     "text": [
      "\r",
      "Step 3/3 :  58%|█████▊    | 2901/5000 [00:42<00:23, 89.12it/s]"
     ]
    },
    {
     "name": "stderr",
     "output_type": "stream",
     "text": [
      "\r",
      "Step 3/3 :  58%|█████▊    | 2910/5000 [00:42<00:24, 85.42it/s]"
     ]
    },
    {
     "name": "stderr",
     "output_type": "stream",
     "text": [
      "\r",
      "Step 3/3 :  58%|█████▊    | 2910/5000 [00:42<00:24, 85.42it/s]"
     ]
    },
    {
     "name": "stderr",
     "output_type": "stream",
     "text": [
      "\r",
      "Step 3/3 :  58%|█████▊    | 2910/5000 [00:42<00:24, 85.42it/s]"
     ]
    },
    {
     "name": "stderr",
     "output_type": "stream",
     "text": [
      "\r",
      "Step 3/3 :  58%|█████▊    | 2910/5000 [00:42<00:24, 85.42it/s]"
     ]
    },
    {
     "name": "stderr",
     "output_type": "stream",
     "text": [
      "\r",
      "Step 3/3 :  58%|█████▊    | 2910/5000 [00:42<00:24, 85.42it/s]"
     ]
    },
    {
     "name": "stderr",
     "output_type": "stream",
     "text": [
      "\r",
      "Step 3/3 :  58%|█████▊    | 2910/5000 [00:42<00:24, 85.42it/s]"
     ]
    },
    {
     "name": "stderr",
     "output_type": "stream",
     "text": [
      "\r",
      "Step 3/3 :  58%|█████▊    | 2910/5000 [00:42<00:24, 85.42it/s]"
     ]
    },
    {
     "name": "stderr",
     "output_type": "stream",
     "text": [
      "\r",
      "Step 3/3 :  58%|█████▊    | 2910/5000 [00:42<00:24, 85.42it/s]"
     ]
    },
    {
     "name": "stderr",
     "output_type": "stream",
     "text": [
      "\r",
      "Step 3/3 :  58%|█████▊    | 2910/5000 [00:42<00:24, 85.42it/s]"
     ]
    },
    {
     "name": "stderr",
     "output_type": "stream",
     "text": [
      "\r",
      "Step 3/3 :  58%|█████▊    | 2910/5000 [00:42<00:24, 85.42it/s]"
     ]
    },
    {
     "name": "stderr",
     "output_type": "stream",
     "text": [
      "\r",
      "Step 3/3 :  58%|█████▊    | 2919/5000 [00:42<00:24, 85.51it/s]"
     ]
    },
    {
     "name": "stderr",
     "output_type": "stream",
     "text": [
      "\r",
      "Step 3/3 :  58%|█████▊    | 2919/5000 [00:42<00:24, 85.51it/s]"
     ]
    },
    {
     "name": "stderr",
     "output_type": "stream",
     "text": [
      "\r",
      "Step 3/3 :  58%|█████▊    | 2919/5000 [00:42<00:24, 85.51it/s]"
     ]
    },
    {
     "name": "stderr",
     "output_type": "stream",
     "text": [
      "\r",
      "Step 3/3 :  58%|█████▊    | 2919/5000 [00:42<00:24, 85.51it/s]"
     ]
    },
    {
     "name": "stderr",
     "output_type": "stream",
     "text": [
      "\r",
      "Step 3/3 :  58%|█████▊    | 2919/5000 [00:42<00:24, 85.51it/s]"
     ]
    },
    {
     "name": "stderr",
     "output_type": "stream",
     "text": [
      "\r",
      "Step 3/3 :  58%|█████▊    | 2919/5000 [00:42<00:24, 85.51it/s]"
     ]
    },
    {
     "name": "stderr",
     "output_type": "stream",
     "text": [
      "\r",
      "Step 3/3 :  58%|█████▊    | 2919/5000 [00:42<00:24, 85.51it/s]"
     ]
    },
    {
     "name": "stderr",
     "output_type": "stream",
     "text": [
      "\r",
      "Step 3/3 :  58%|█████▊    | 2919/5000 [00:42<00:24, 85.51it/s]"
     ]
    },
    {
     "name": "stderr",
     "output_type": "stream",
     "text": [
      "\r",
      "Step 3/3 :  58%|█████▊    | 2919/5000 [00:42<00:24, 85.51it/s]"
     ]
    },
    {
     "name": "stderr",
     "output_type": "stream",
     "text": [
      "\r",
      "Step 3/3 :  58%|█████▊    | 2919/5000 [00:42<00:24, 85.51it/s]"
     ]
    },
    {
     "name": "stderr",
     "output_type": "stream",
     "text": [
      "\r",
      "Step 3/3 :  59%|█████▊    | 2928/5000 [00:42<00:24, 85.33it/s]"
     ]
    },
    {
     "name": "stderr",
     "output_type": "stream",
     "text": [
      "\r",
      "Step 3/3 :  59%|█████▊    | 2928/5000 [00:42<00:24, 85.33it/s]"
     ]
    },
    {
     "name": "stderr",
     "output_type": "stream",
     "text": [
      "\r",
      "Step 3/3 :  59%|█████▊    | 2928/5000 [00:42<00:24, 85.33it/s]"
     ]
    },
    {
     "name": "stderr",
     "output_type": "stream",
     "text": [
      "\r",
      "Step 3/3 :  59%|█████▊    | 2928/5000 [00:42<00:24, 85.33it/s]"
     ]
    },
    {
     "name": "stderr",
     "output_type": "stream",
     "text": [
      "\r",
      "Step 3/3 :  59%|█████▊    | 2928/5000 [00:42<00:24, 85.33it/s]"
     ]
    },
    {
     "name": "stderr",
     "output_type": "stream",
     "text": [
      "\r",
      "Step 3/3 :  59%|█████▊    | 2928/5000 [00:42<00:24, 85.33it/s]"
     ]
    },
    {
     "name": "stderr",
     "output_type": "stream",
     "text": [
      "\r",
      "Step 3/3 :  59%|█████▊    | 2928/5000 [00:42<00:24, 85.33it/s]"
     ]
    },
    {
     "name": "stderr",
     "output_type": "stream",
     "text": [
      "\r",
      "Step 3/3 :  59%|█████▊    | 2928/5000 [00:42<00:24, 85.33it/s]"
     ]
    },
    {
     "name": "stderr",
     "output_type": "stream",
     "text": [
      "\r",
      "Step 3/3 :  59%|█████▊    | 2928/5000 [00:42<00:24, 85.33it/s]"
     ]
    },
    {
     "name": "stderr",
     "output_type": "stream",
     "text": [
      "\r",
      "Step 3/3 :  59%|█████▊    | 2928/5000 [00:42<00:24, 85.33it/s]"
     ]
    },
    {
     "name": "stderr",
     "output_type": "stream",
     "text": [
      "\r",
      "Step 3/3 :  59%|█████▊    | 2937/5000 [00:42<00:24, 85.44it/s]"
     ]
    },
    {
     "name": "stderr",
     "output_type": "stream",
     "text": [
      "\r",
      "Step 3/3 :  59%|█████▊    | 2937/5000 [00:42<00:24, 85.44it/s]"
     ]
    },
    {
     "name": "stderr",
     "output_type": "stream",
     "text": [
      "\r",
      "Step 3/3 :  59%|█████▊    | 2937/5000 [00:42<00:24, 85.44it/s]"
     ]
    },
    {
     "name": "stderr",
     "output_type": "stream",
     "text": [
      "\r",
      "Step 3/3 :  59%|█████▊    | 2937/5000 [00:42<00:24, 85.44it/s]"
     ]
    },
    {
     "name": "stderr",
     "output_type": "stream",
     "text": [
      "\r",
      "Step 3/3 :  59%|█████▊    | 2937/5000 [00:42<00:24, 85.44it/s]"
     ]
    },
    {
     "name": "stderr",
     "output_type": "stream",
     "text": [
      "\r",
      "Step 3/3 :  59%|█████▊    | 2937/5000 [00:43<00:24, 85.44it/s]"
     ]
    },
    {
     "name": "stderr",
     "output_type": "stream",
     "text": [
      "\r",
      "Step 3/3 :  59%|█████▊    | 2937/5000 [00:43<00:24, 85.44it/s]"
     ]
    },
    {
     "name": "stderr",
     "output_type": "stream",
     "text": [
      "\r",
      "Step 3/3 :  59%|█████▊    | 2937/5000 [00:43<00:24, 85.44it/s]"
     ]
    },
    {
     "name": "stderr",
     "output_type": "stream",
     "text": [
      "\r",
      "Step 3/3 :  59%|█████▊    | 2937/5000 [00:43<00:24, 85.44it/s]"
     ]
    },
    {
     "name": "stderr",
     "output_type": "stream",
     "text": [
      "\r",
      "Step 3/3 :  59%|█████▊    | 2937/5000 [00:43<00:24, 85.44it/s]"
     ]
    },
    {
     "name": "stderr",
     "output_type": "stream",
     "text": [
      "\r",
      "Step 3/3 :  59%|█████▊    | 2937/5000 [00:43<00:24, 85.44it/s]"
     ]
    },
    {
     "name": "stderr",
     "output_type": "stream",
     "text": [
      "\r",
      "Step 3/3 :  59%|█████▉    | 2947/5000 [00:43<00:23, 87.84it/s]"
     ]
    },
    {
     "name": "stderr",
     "output_type": "stream",
     "text": [
      "\r",
      "Step 3/3 :  59%|█████▉    | 2947/5000 [00:43<00:23, 87.84it/s]"
     ]
    },
    {
     "name": "stderr",
     "output_type": "stream",
     "text": [
      "\r",
      "Step 3/3 :  59%|█████▉    | 2947/5000 [00:43<00:23, 87.84it/s]"
     ]
    },
    {
     "name": "stderr",
     "output_type": "stream",
     "text": [
      "\r",
      "Step 3/3 :  59%|█████▉    | 2947/5000 [00:43<00:23, 87.84it/s]"
     ]
    },
    {
     "name": "stderr",
     "output_type": "stream",
     "text": [
      "\r",
      "Step 3/3 :  59%|█████▉    | 2947/5000 [00:43<00:23, 87.84it/s]"
     ]
    },
    {
     "name": "stderr",
     "output_type": "stream",
     "text": [
      "\r",
      "Step 3/3 :  59%|█████▉    | 2947/5000 [00:43<00:23, 87.84it/s]"
     ]
    },
    {
     "name": "stderr",
     "output_type": "stream",
     "text": [
      "\r",
      "Step 3/3 :  59%|█████▉    | 2947/5000 [00:43<00:23, 87.84it/s]"
     ]
    },
    {
     "name": "stderr",
     "output_type": "stream",
     "text": [
      "\r",
      "Step 3/3 :  59%|█████▉    | 2947/5000 [00:43<00:23, 87.84it/s]"
     ]
    },
    {
     "name": "stderr",
     "output_type": "stream",
     "text": [
      "\r",
      "Step 3/3 :  59%|█████▉    | 2947/5000 [00:43<00:23, 87.84it/s]"
     ]
    },
    {
     "name": "stderr",
     "output_type": "stream",
     "text": [
      "\r",
      "Step 3/3 :  59%|█████▉    | 2947/5000 [00:43<00:23, 87.84it/s]"
     ]
    },
    {
     "name": "stderr",
     "output_type": "stream",
     "text": [
      "\r",
      "Step 3/3 :  59%|█████▉    | 2947/5000 [00:43<00:23, 87.84it/s]"
     ]
    },
    {
     "name": "stderr",
     "output_type": "stream",
     "text": [
      "\r",
      "Step 3/3 :  59%|█████▉    | 2957/5000 [00:43<00:22, 90.03it/s]"
     ]
    },
    {
     "name": "stderr",
     "output_type": "stream",
     "text": [
      "\r",
      "Step 3/3 :  59%|█████▉    | 2957/5000 [00:43<00:22, 90.03it/s]"
     ]
    },
    {
     "name": "stderr",
     "output_type": "stream",
     "text": [
      "\r",
      "Step 3/3 :  59%|█████▉    | 2957/5000 [00:43<00:22, 90.03it/s]"
     ]
    },
    {
     "name": "stderr",
     "output_type": "stream",
     "text": [
      "\r",
      "Step 3/3 :  59%|█████▉    | 2957/5000 [00:43<00:22, 90.03it/s]"
     ]
    },
    {
     "name": "stderr",
     "output_type": "stream",
     "text": [
      "\r",
      "Step 3/3 :  59%|█████▉    | 2957/5000 [00:43<00:22, 90.03it/s]"
     ]
    },
    {
     "name": "stderr",
     "output_type": "stream",
     "text": [
      "\r",
      "Step 3/3 :  59%|█████▉    | 2957/5000 [00:43<00:22, 90.03it/s]"
     ]
    },
    {
     "name": "stderr",
     "output_type": "stream",
     "text": [
      "\r",
      "Step 3/3 :  59%|█████▉    | 2957/5000 [00:43<00:22, 90.03it/s]"
     ]
    },
    {
     "name": "stderr",
     "output_type": "stream",
     "text": [
      "\r",
      "Step 3/3 :  59%|█████▉    | 2957/5000 [00:43<00:22, 90.03it/s]"
     ]
    },
    {
     "name": "stderr",
     "output_type": "stream",
     "text": [
      "\r",
      "Step 3/3 :  59%|█████▉    | 2957/5000 [00:43<00:22, 90.03it/s]"
     ]
    },
    {
     "name": "stderr",
     "output_type": "stream",
     "text": [
      "\r",
      "Step 3/3 :  59%|█████▉    | 2957/5000 [00:43<00:22, 90.03it/s]"
     ]
    },
    {
     "name": "stderr",
     "output_type": "stream",
     "text": [
      "\r",
      "Step 3/3 :  59%|█████▉    | 2957/5000 [00:43<00:22, 90.03it/s]"
     ]
    },
    {
     "name": "stderr",
     "output_type": "stream",
     "text": [
      "\r",
      "Step 3/3 :  59%|█████▉    | 2967/5000 [00:43<00:22, 91.68it/s]"
     ]
    },
    {
     "name": "stderr",
     "output_type": "stream",
     "text": [
      "\r",
      "Step 3/3 :  59%|█████▉    | 2967/5000 [00:43<00:22, 91.68it/s]"
     ]
    },
    {
     "name": "stderr",
     "output_type": "stream",
     "text": [
      "\r",
      "Step 3/3 :  59%|█████▉    | 2967/5000 [00:43<00:22, 91.68it/s]"
     ]
    },
    {
     "name": "stderr",
     "output_type": "stream",
     "text": [
      "\r",
      "Step 3/3 :  59%|█████▉    | 2967/5000 [00:43<00:22, 91.68it/s]"
     ]
    },
    {
     "name": "stderr",
     "output_type": "stream",
     "text": [
      "\r",
      "Step 3/3 :  59%|█████▉    | 2967/5000 [00:43<00:22, 91.68it/s]"
     ]
    },
    {
     "name": "stderr",
     "output_type": "stream",
     "text": [
      "\r",
      "Step 3/3 :  59%|█████▉    | 2967/5000 [00:43<00:22, 91.68it/s]"
     ]
    },
    {
     "name": "stderr",
     "output_type": "stream",
     "text": [
      "\r",
      "Step 3/3 :  59%|█████▉    | 2967/5000 [00:43<00:22, 91.68it/s]"
     ]
    },
    {
     "name": "stderr",
     "output_type": "stream",
     "text": [
      "\r",
      "Step 3/3 :  59%|█████▉    | 2967/5000 [00:43<00:22, 91.68it/s]"
     ]
    },
    {
     "name": "stderr",
     "output_type": "stream",
     "text": [
      "\r",
      "Step 3/3 :  59%|█████▉    | 2967/5000 [00:43<00:22, 91.68it/s]"
     ]
    },
    {
     "name": "stderr",
     "output_type": "stream",
     "text": [
      "\r",
      "Step 3/3 :  59%|█████▉    | 2967/5000 [00:43<00:22, 91.68it/s]"
     ]
    },
    {
     "name": "stderr",
     "output_type": "stream",
     "text": [
      "\r",
      "Step 3/3 :  59%|█████▉    | 2967/5000 [00:43<00:22, 91.68it/s]"
     ]
    },
    {
     "name": "stderr",
     "output_type": "stream",
     "text": [
      "\r",
      "Step 3/3 :  60%|█████▉    | 2977/5000 [00:43<00:21, 93.00it/s]"
     ]
    },
    {
     "name": "stderr",
     "output_type": "stream",
     "text": [
      "\r",
      "Step 3/3 :  60%|█████▉    | 2977/5000 [00:43<00:21, 93.00it/s]"
     ]
    },
    {
     "name": "stderr",
     "output_type": "stream",
     "text": [
      "\r",
      "Step 3/3 :  60%|█████▉    | 2977/5000 [00:43<00:21, 93.00it/s]"
     ]
    },
    {
     "name": "stderr",
     "output_type": "stream",
     "text": [
      "\r",
      "Step 3/3 :  60%|█████▉    | 2977/5000 [00:43<00:21, 93.00it/s]"
     ]
    },
    {
     "name": "stderr",
     "output_type": "stream",
     "text": [
      "\r",
      "Step 3/3 :  60%|█████▉    | 2977/5000 [00:43<00:21, 93.00it/s]"
     ]
    },
    {
     "name": "stderr",
     "output_type": "stream",
     "text": [
      "\r",
      "Step 3/3 :  60%|█████▉    | 2977/5000 [00:43<00:21, 93.00it/s]"
     ]
    },
    {
     "name": "stderr",
     "output_type": "stream",
     "text": [
      "\r",
      "Step 3/3 :  60%|█████▉    | 2977/5000 [00:43<00:21, 93.00it/s]"
     ]
    },
    {
     "name": "stderr",
     "output_type": "stream",
     "text": [
      "\r",
      "Step 3/3 :  60%|█████▉    | 2977/5000 [00:43<00:21, 93.00it/s]"
     ]
    },
    {
     "name": "stderr",
     "output_type": "stream",
     "text": [
      "\r",
      "Step 3/3 :  60%|█████▉    | 2977/5000 [00:43<00:21, 93.00it/s]"
     ]
    },
    {
     "name": "stderr",
     "output_type": "stream",
     "text": [
      "\r",
      "Step 3/3 :  60%|█████▉    | 2977/5000 [00:43<00:21, 93.00it/s]"
     ]
    },
    {
     "name": "stderr",
     "output_type": "stream",
     "text": [
      "\r",
      "Step 3/3 :  60%|█████▉    | 2977/5000 [00:43<00:21, 93.00it/s]"
     ]
    },
    {
     "name": "stderr",
     "output_type": "stream",
     "text": [
      "\r",
      "Step 3/3 :  60%|█████▉    | 2987/5000 [00:43<00:22, 89.59it/s]"
     ]
    },
    {
     "name": "stderr",
     "output_type": "stream",
     "text": [
      "\r",
      "Step 3/3 :  60%|█████▉    | 2987/5000 [00:43<00:22, 89.59it/s]"
     ]
    },
    {
     "name": "stderr",
     "output_type": "stream",
     "text": [
      "\r",
      "Step 3/3 :  60%|█████▉    | 2987/5000 [00:43<00:22, 89.59it/s]"
     ]
    },
    {
     "name": "stderr",
     "output_type": "stream",
     "text": [
      "\r",
      "Step 3/3 :  60%|█████▉    | 2987/5000 [00:43<00:22, 89.59it/s]"
     ]
    },
    {
     "name": "stderr",
     "output_type": "stream",
     "text": [
      "\r",
      "Step 3/3 :  60%|█████▉    | 2987/5000 [00:43<00:22, 89.59it/s]"
     ]
    },
    {
     "name": "stderr",
     "output_type": "stream",
     "text": [
      "\r",
      "Step 3/3 :  60%|█████▉    | 2987/5000 [00:43<00:22, 89.59it/s]"
     ]
    },
    {
     "name": "stderr",
     "output_type": "stream",
     "text": [
      "\r",
      "Step 3/3 :  60%|█████▉    | 2987/5000 [00:43<00:22, 89.59it/s]"
     ]
    },
    {
     "name": "stderr",
     "output_type": "stream",
     "text": [
      "\r",
      "Step 3/3 :  60%|█████▉    | 2987/5000 [00:43<00:22, 89.59it/s]"
     ]
    },
    {
     "name": "stderr",
     "output_type": "stream",
     "text": [
      "\r",
      "Step 3/3 :  60%|█████▉    | 2987/5000 [00:43<00:22, 89.59it/s]"
     ]
    },
    {
     "name": "stderr",
     "output_type": "stream",
     "text": [
      "\r",
      "Step 3/3 :  60%|█████▉    | 2987/5000 [00:43<00:22, 89.59it/s]"
     ]
    },
    {
     "name": "stderr",
     "output_type": "stream",
     "text": [
      "\r",
      "Step 3/3 :  60%|█████▉    | 2996/5000 [00:43<00:23, 85.85it/s]"
     ]
    },
    {
     "name": "stderr",
     "output_type": "stream",
     "text": [
      "\r",
      "Step 3/3 :  60%|█████▉    | 2996/5000 [00:43<00:23, 85.85it/s]"
     ]
    },
    {
     "name": "stderr",
     "output_type": "stream",
     "text": [
      "\r",
      "Step 3/3 :  60%|█████▉    | 2996/5000 [00:43<00:23, 85.85it/s]"
     ]
    },
    {
     "name": "stderr",
     "output_type": "stream",
     "text": [
      "\r",
      "Step 3/3 :  60%|█████▉    | 2996/5000 [00:43<00:23, 85.85it/s]"
     ]
    },
    {
     "name": "stderr",
     "output_type": "stream",
     "text": [
      "\r",
      "Step 3/3 :  60%|█████▉    | 2996/5000 [00:43<00:23, 85.85it/s]"
     ]
    },
    {
     "name": "stderr",
     "output_type": "stream",
     "text": [
      "\r",
      "Step 3/3 :  60%|█████▉    | 2996/5000 [00:43<00:23, 85.85it/s]"
     ]
    },
    {
     "name": "stderr",
     "output_type": "stream",
     "text": [
      "\r",
      "Step 3/3 :  60%|█████▉    | 2996/5000 [00:43<00:23, 85.85it/s]"
     ]
    },
    {
     "name": "stderr",
     "output_type": "stream",
     "text": [
      "\r",
      "Step 3/3 :  60%|█████▉    | 2996/5000 [00:43<00:23, 85.85it/s]"
     ]
    },
    {
     "name": "stderr",
     "output_type": "stream",
     "text": [
      "\r",
      "Step 3/3 :  60%|█████▉    | 2996/5000 [00:43<00:23, 85.85it/s]"
     ]
    },
    {
     "name": "stderr",
     "output_type": "stream",
     "text": [
      "\r",
      "Step 3/3 :  60%|█████▉    | 2996/5000 [00:43<00:23, 85.85it/s]"
     ]
    },
    {
     "name": "stderr",
     "output_type": "stream",
     "text": [
      "\r",
      "Step 3/3 :  60%|██████    | 3005/5000 [00:43<00:23, 84.20it/s]"
     ]
    },
    {
     "name": "stderr",
     "output_type": "stream",
     "text": [
      "\r",
      "Step 3/3 :  60%|██████    | 3005/5000 [00:43<00:23, 84.20it/s]"
     ]
    },
    {
     "name": "stderr",
     "output_type": "stream",
     "text": [
      "\r",
      "Step 3/3 :  60%|██████    | 3005/5000 [00:43<00:23, 84.20it/s]"
     ]
    },
    {
     "name": "stderr",
     "output_type": "stream",
     "text": [
      "\r",
      "Step 3/3 :  60%|██████    | 3005/5000 [00:43<00:23, 84.20it/s]"
     ]
    },
    {
     "name": "stderr",
     "output_type": "stream",
     "text": [
      "\r",
      "Step 3/3 :  60%|██████    | 3005/5000 [00:43<00:23, 84.20it/s]"
     ]
    },
    {
     "name": "stderr",
     "output_type": "stream",
     "text": [
      "\r",
      "Step 3/3 :  60%|██████    | 3005/5000 [00:43<00:23, 84.20it/s]"
     ]
    },
    {
     "name": "stderr",
     "output_type": "stream",
     "text": [
      "\r",
      "Step 3/3 :  60%|██████    | 3005/5000 [00:43<00:23, 84.20it/s]"
     ]
    },
    {
     "name": "stderr",
     "output_type": "stream",
     "text": [
      "\r",
      "Step 3/3 :  60%|██████    | 3005/5000 [00:43<00:23, 84.20it/s]"
     ]
    },
    {
     "name": "stderr",
     "output_type": "stream",
     "text": [
      "\r",
      "Step 3/3 :  60%|██████    | 3005/5000 [00:43<00:23, 84.20it/s]"
     ]
    },
    {
     "name": "stderr",
     "output_type": "stream",
     "text": [
      "\r",
      "Step 3/3 :  60%|██████    | 3005/5000 [00:43<00:23, 84.20it/s]"
     ]
    },
    {
     "name": "stderr",
     "output_type": "stream",
     "text": [
      "\r",
      "Step 3/3 :  60%|██████    | 3014/5000 [00:43<00:23, 85.56it/s]"
     ]
    },
    {
     "name": "stderr",
     "output_type": "stream",
     "text": [
      "\r",
      "Step 3/3 :  60%|██████    | 3014/5000 [00:43<00:23, 85.56it/s]"
     ]
    },
    {
     "name": "stderr",
     "output_type": "stream",
     "text": [
      "\r",
      "Step 3/3 :  60%|██████    | 3014/5000 [00:43<00:23, 85.56it/s]"
     ]
    },
    {
     "name": "stderr",
     "output_type": "stream",
     "text": [
      "\r",
      "Step 3/3 :  60%|██████    | 3014/5000 [00:43<00:23, 85.56it/s]"
     ]
    },
    {
     "name": "stderr",
     "output_type": "stream",
     "text": [
      "\r",
      "Step 3/3 :  60%|██████    | 3014/5000 [00:43<00:23, 85.56it/s]"
     ]
    },
    {
     "name": "stderr",
     "output_type": "stream",
     "text": [
      "\r",
      "Step 3/3 :  60%|██████    | 3014/5000 [00:43<00:23, 85.56it/s]"
     ]
    },
    {
     "name": "stderr",
     "output_type": "stream",
     "text": [
      "\r",
      "Step 3/3 :  60%|██████    | 3014/5000 [00:43<00:23, 85.56it/s]"
     ]
    },
    {
     "name": "stderr",
     "output_type": "stream",
     "text": [
      "\r",
      "Step 3/3 :  60%|██████    | 3014/5000 [00:43<00:23, 85.56it/s]"
     ]
    },
    {
     "name": "stderr",
     "output_type": "stream",
     "text": [
      "\r",
      "Step 3/3 :  60%|██████    | 3014/5000 [00:43<00:23, 85.56it/s]"
     ]
    },
    {
     "name": "stderr",
     "output_type": "stream",
     "text": [
      "\r",
      "Step 3/3 :  60%|██████    | 3014/5000 [00:43<00:23, 85.56it/s]"
     ]
    },
    {
     "name": "stderr",
     "output_type": "stream",
     "text": [
      "\r",
      "Step 3/3 :  60%|██████    | 3014/5000 [00:43<00:23, 85.56it/s]"
     ]
    },
    {
     "name": "stderr",
     "output_type": "stream",
     "text": [
      "\r",
      "Step 3/3 :  60%|██████    | 3024/5000 [00:43<00:22, 89.39it/s]"
     ]
    },
    {
     "name": "stderr",
     "output_type": "stream",
     "text": [
      "\r",
      "Step 3/3 :  60%|██████    | 3024/5000 [00:43<00:22, 89.39it/s]"
     ]
    },
    {
     "name": "stderr",
     "output_type": "stream",
     "text": [
      "\r",
      "Step 3/3 :  60%|██████    | 3024/5000 [00:43<00:22, 89.39it/s]"
     ]
    },
    {
     "name": "stderr",
     "output_type": "stream",
     "text": [
      "\r",
      "Step 3/3 :  60%|██████    | 3024/5000 [00:43<00:22, 89.39it/s]"
     ]
    },
    {
     "name": "stderr",
     "output_type": "stream",
     "text": [
      "\r",
      "Step 3/3 :  60%|██████    | 3024/5000 [00:43<00:22, 89.39it/s]"
     ]
    },
    {
     "name": "stderr",
     "output_type": "stream",
     "text": [
      "\r",
      "Step 3/3 :  60%|██████    | 3024/5000 [00:43<00:22, 89.39it/s]"
     ]
    },
    {
     "name": "stderr",
     "output_type": "stream",
     "text": [
      "\r",
      "Step 3/3 :  60%|██████    | 3024/5000 [00:43<00:22, 89.39it/s]"
     ]
    },
    {
     "name": "stderr",
     "output_type": "stream",
     "text": [
      "\r",
      "Step 3/3 :  60%|██████    | 3024/5000 [00:44<00:22, 89.39it/s]"
     ]
    },
    {
     "name": "stderr",
     "output_type": "stream",
     "text": [
      "\r",
      "Step 3/3 :  60%|██████    | 3024/5000 [00:44<00:22, 89.39it/s]"
     ]
    },
    {
     "name": "stderr",
     "output_type": "stream",
     "text": [
      "\r",
      "Step 3/3 :  60%|██████    | 3024/5000 [00:44<00:22, 89.39it/s]"
     ]
    },
    {
     "name": "stderr",
     "output_type": "stream",
     "text": [
      "\r",
      "Step 3/3 :  61%|██████    | 3033/5000 [00:44<00:22, 88.55it/s]"
     ]
    },
    {
     "name": "stderr",
     "output_type": "stream",
     "text": [
      "\r",
      "Step 3/3 :  61%|██████    | 3033/5000 [00:44<00:22, 88.55it/s]"
     ]
    },
    {
     "name": "stderr",
     "output_type": "stream",
     "text": [
      "\r",
      "Step 3/3 :  61%|██████    | 3033/5000 [00:44<00:22, 88.55it/s]"
     ]
    },
    {
     "name": "stderr",
     "output_type": "stream",
     "text": [
      "\r",
      "Step 3/3 :  61%|██████    | 3033/5000 [00:44<00:22, 88.55it/s]"
     ]
    },
    {
     "name": "stderr",
     "output_type": "stream",
     "text": [
      "\r",
      "Step 3/3 :  61%|██████    | 3033/5000 [00:44<00:22, 88.55it/s]"
     ]
    },
    {
     "name": "stderr",
     "output_type": "stream",
     "text": [
      "\r",
      "Step 3/3 :  61%|██████    | 3033/5000 [00:44<00:22, 88.55it/s]"
     ]
    },
    {
     "name": "stderr",
     "output_type": "stream",
     "text": [
      "\r",
      "Step 3/3 :  61%|██████    | 3033/5000 [00:44<00:22, 88.55it/s]"
     ]
    },
    {
     "name": "stderr",
     "output_type": "stream",
     "text": [
      "\r",
      "Step 3/3 :  61%|██████    | 3033/5000 [00:44<00:22, 88.55it/s]"
     ]
    },
    {
     "name": "stderr",
     "output_type": "stream",
     "text": [
      "\r",
      "Step 3/3 :  61%|██████    | 3033/5000 [00:44<00:22, 88.55it/s]"
     ]
    },
    {
     "name": "stderr",
     "output_type": "stream",
     "text": [
      "\r",
      "Step 3/3 :  61%|██████    | 3033/5000 [00:44<00:22, 88.55it/s]"
     ]
    },
    {
     "name": "stderr",
     "output_type": "stream",
     "text": [
      "\r",
      "Step 3/3 :  61%|██████    | 3042/5000 [00:44<00:22, 88.72it/s]"
     ]
    },
    {
     "name": "stderr",
     "output_type": "stream",
     "text": [
      "\r",
      "Step 3/3 :  61%|██████    | 3042/5000 [00:44<00:22, 88.72it/s]"
     ]
    },
    {
     "name": "stderr",
     "output_type": "stream",
     "text": [
      "\r",
      "Step 3/3 :  61%|██████    | 3042/5000 [00:44<00:22, 88.72it/s]"
     ]
    },
    {
     "name": "stderr",
     "output_type": "stream",
     "text": [
      "\r",
      "Step 3/3 :  61%|██████    | 3042/5000 [00:44<00:22, 88.72it/s]"
     ]
    },
    {
     "name": "stderr",
     "output_type": "stream",
     "text": [
      "\r",
      "Step 3/3 :  61%|██████    | 3042/5000 [00:44<00:22, 88.72it/s]"
     ]
    },
    {
     "name": "stderr",
     "output_type": "stream",
     "text": [
      "\r",
      "Step 3/3 :  61%|██████    | 3042/5000 [00:44<00:22, 88.72it/s]"
     ]
    },
    {
     "name": "stderr",
     "output_type": "stream",
     "text": [
      "\r",
      "Step 3/3 :  61%|██████    | 3042/5000 [00:44<00:22, 88.72it/s]"
     ]
    },
    {
     "name": "stderr",
     "output_type": "stream",
     "text": [
      "\r",
      "Step 3/3 :  61%|██████    | 3042/5000 [00:44<00:22, 88.72it/s]"
     ]
    },
    {
     "name": "stderr",
     "output_type": "stream",
     "text": [
      "\r",
      "Step 3/3 :  61%|██████    | 3042/5000 [00:44<00:22, 88.72it/s]"
     ]
    },
    {
     "name": "stderr",
     "output_type": "stream",
     "text": [
      "\r",
      "Step 3/3 :  61%|██████    | 3042/5000 [00:44<00:22, 88.72it/s]"
     ]
    },
    {
     "name": "stderr",
     "output_type": "stream",
     "text": [
      "\r",
      "Step 3/3 :  61%|██████    | 3051/5000 [00:44<00:22, 88.05it/s]"
     ]
    },
    {
     "name": "stderr",
     "output_type": "stream",
     "text": [
      "\r",
      "Step 3/3 :  61%|██████    | 3051/5000 [00:44<00:22, 88.05it/s]"
     ]
    },
    {
     "name": "stderr",
     "output_type": "stream",
     "text": [
      "\r",
      "Step 3/3 :  61%|██████    | 3051/5000 [00:44<00:22, 88.05it/s]"
     ]
    },
    {
     "name": "stderr",
     "output_type": "stream",
     "text": [
      "\r",
      "Step 3/3 :  61%|██████    | 3051/5000 [00:44<00:22, 88.05it/s]"
     ]
    },
    {
     "name": "stderr",
     "output_type": "stream",
     "text": [
      "\r",
      "Step 3/3 :  61%|██████    | 3051/5000 [00:44<00:22, 88.05it/s]"
     ]
    },
    {
     "name": "stderr",
     "output_type": "stream",
     "text": [
      "\r",
      "Step 3/3 :  61%|██████    | 3051/5000 [00:44<00:22, 88.05it/s]"
     ]
    },
    {
     "name": "stderr",
     "output_type": "stream",
     "text": [
      "\r",
      "Step 3/3 :  61%|██████    | 3051/5000 [00:44<00:22, 88.05it/s]"
     ]
    },
    {
     "name": "stderr",
     "output_type": "stream",
     "text": [
      "\r",
      "Step 3/3 :  61%|██████    | 3051/5000 [00:44<00:22, 88.05it/s]"
     ]
    },
    {
     "name": "stderr",
     "output_type": "stream",
     "text": [
      "\r",
      "Step 3/3 :  61%|██████    | 3051/5000 [00:44<00:22, 88.05it/s]"
     ]
    },
    {
     "name": "stderr",
     "output_type": "stream",
     "text": [
      "\r",
      "Step 3/3 :  61%|██████    | 3051/5000 [00:44<00:22, 88.05it/s]"
     ]
    },
    {
     "name": "stderr",
     "output_type": "stream",
     "text": [
      "\r",
      "Step 3/3 :  61%|██████    | 3060/5000 [00:44<00:21, 88.61it/s]"
     ]
    },
    {
     "name": "stderr",
     "output_type": "stream",
     "text": [
      "\r",
      "Step 3/3 :  61%|██████    | 3060/5000 [00:44<00:21, 88.61it/s]"
     ]
    },
    {
     "name": "stderr",
     "output_type": "stream",
     "text": [
      "\r",
      "Step 3/3 :  61%|██████    | 3060/5000 [00:44<00:21, 88.61it/s]"
     ]
    },
    {
     "name": "stderr",
     "output_type": "stream",
     "text": [
      "\r",
      "Step 3/3 :  61%|██████    | 3060/5000 [00:44<00:21, 88.61it/s]"
     ]
    },
    {
     "name": "stderr",
     "output_type": "stream",
     "text": [
      "\r",
      "Step 3/3 :  61%|██████    | 3060/5000 [00:44<00:21, 88.61it/s]"
     ]
    },
    {
     "name": "stderr",
     "output_type": "stream",
     "text": [
      "\r",
      "Step 3/3 :  61%|██████    | 3060/5000 [00:44<00:21, 88.61it/s]"
     ]
    },
    {
     "name": "stderr",
     "output_type": "stream",
     "text": [
      "\r",
      "Step 3/3 :  61%|██████    | 3060/5000 [00:44<00:21, 88.61it/s]"
     ]
    },
    {
     "name": "stderr",
     "output_type": "stream",
     "text": [
      "\r",
      "Step 3/3 :  61%|██████    | 3060/5000 [00:44<00:21, 88.61it/s]"
     ]
    },
    {
     "name": "stderr",
     "output_type": "stream",
     "text": [
      "\r",
      "Step 3/3 :  61%|██████    | 3060/5000 [00:44<00:21, 88.61it/s]"
     ]
    },
    {
     "name": "stderr",
     "output_type": "stream",
     "text": [
      "\r",
      "Step 3/3 :  61%|██████    | 3060/5000 [00:44<00:21, 88.61it/s]"
     ]
    },
    {
     "name": "stderr",
     "output_type": "stream",
     "text": [
      "\r",
      "Step 3/3 :  61%|██████    | 3060/5000 [00:44<00:21, 88.61it/s]"
     ]
    },
    {
     "name": "stderr",
     "output_type": "stream",
     "text": [
      "\r",
      "Step 3/3 :  61%|██████▏   | 3070/5000 [00:44<00:21, 91.69it/s]"
     ]
    },
    {
     "name": "stderr",
     "output_type": "stream",
     "text": [
      "\r",
      "Step 3/3 :  61%|██████▏   | 3070/5000 [00:44<00:21, 91.69it/s]"
     ]
    },
    {
     "name": "stderr",
     "output_type": "stream",
     "text": [
      "\r",
      "Step 3/3 :  61%|██████▏   | 3070/5000 [00:44<00:21, 91.69it/s]"
     ]
    },
    {
     "name": "stderr",
     "output_type": "stream",
     "text": [
      "\r",
      "Step 3/3 :  61%|██████▏   | 3070/5000 [00:44<00:21, 91.69it/s]"
     ]
    },
    {
     "name": "stderr",
     "output_type": "stream",
     "text": [
      "\r",
      "Step 3/3 :  61%|██████▏   | 3070/5000 [00:44<00:21, 91.69it/s]"
     ]
    },
    {
     "name": "stderr",
     "output_type": "stream",
     "text": [
      "\r",
      "Step 3/3 :  61%|██████▏   | 3070/5000 [00:44<00:21, 91.69it/s]"
     ]
    },
    {
     "name": "stderr",
     "output_type": "stream",
     "text": [
      "\r",
      "Step 3/3 :  61%|██████▏   | 3070/5000 [00:44<00:21, 91.69it/s]"
     ]
    },
    {
     "name": "stderr",
     "output_type": "stream",
     "text": [
      "\r",
      "Step 3/3 :  61%|██████▏   | 3070/5000 [00:44<00:21, 91.69it/s]"
     ]
    },
    {
     "name": "stderr",
     "output_type": "stream",
     "text": [
      "\r",
      "Step 3/3 :  61%|██████▏   | 3070/5000 [00:44<00:21, 91.69it/s]"
     ]
    },
    {
     "name": "stderr",
     "output_type": "stream",
     "text": [
      "\r",
      "Step 3/3 :  61%|██████▏   | 3070/5000 [00:44<00:21, 91.69it/s]"
     ]
    },
    {
     "name": "stderr",
     "output_type": "stream",
     "text": [
      "\r",
      "Step 3/3 :  61%|██████▏   | 3070/5000 [00:44<00:21, 91.69it/s]"
     ]
    },
    {
     "name": "stderr",
     "output_type": "stream",
     "text": [
      "\r",
      "Step 3/3 :  62%|██████▏   | 3080/5000 [00:44<00:21, 89.64it/s]"
     ]
    },
    {
     "name": "stderr",
     "output_type": "stream",
     "text": [
      "\r",
      "Step 3/3 :  62%|██████▏   | 3080/5000 [00:44<00:21, 89.64it/s]"
     ]
    },
    {
     "name": "stderr",
     "output_type": "stream",
     "text": [
      "\r",
      "Step 3/3 :  62%|██████▏   | 3080/5000 [00:44<00:21, 89.64it/s]"
     ]
    },
    {
     "name": "stderr",
     "output_type": "stream",
     "text": [
      "\r",
      "Step 3/3 :  62%|██████▏   | 3080/5000 [00:44<00:21, 89.64it/s]"
     ]
    },
    {
     "name": "stderr",
     "output_type": "stream",
     "text": [
      "\r",
      "Step 3/3 :  62%|██████▏   | 3080/5000 [00:44<00:21, 89.64it/s]"
     ]
    },
    {
     "name": "stderr",
     "output_type": "stream",
     "text": [
      "\r",
      "Step 3/3 :  62%|██████▏   | 3080/5000 [00:44<00:21, 89.64it/s]"
     ]
    },
    {
     "name": "stderr",
     "output_type": "stream",
     "text": [
      "\r",
      "Step 3/3 :  62%|██████▏   | 3080/5000 [00:44<00:21, 89.64it/s]"
     ]
    },
    {
     "name": "stderr",
     "output_type": "stream",
     "text": [
      "\r",
      "Step 3/3 :  62%|██████▏   | 3080/5000 [00:44<00:21, 89.64it/s]"
     ]
    },
    {
     "name": "stderr",
     "output_type": "stream",
     "text": [
      "\r",
      "Step 3/3 :  62%|██████▏   | 3080/5000 [00:44<00:21, 89.64it/s]"
     ]
    },
    {
     "name": "stderr",
     "output_type": "stream",
     "text": [
      "\r",
      "Step 3/3 :  62%|██████▏   | 3080/5000 [00:44<00:21, 89.64it/s]"
     ]
    },
    {
     "name": "stderr",
     "output_type": "stream",
     "text": [
      "\r",
      "Step 3/3 :  62%|██████▏   | 3089/5000 [00:44<00:21, 89.34it/s]"
     ]
    },
    {
     "name": "stderr",
     "output_type": "stream",
     "text": [
      "\r",
      "Step 3/3 :  62%|██████▏   | 3089/5000 [00:44<00:21, 89.34it/s]"
     ]
    },
    {
     "name": "stderr",
     "output_type": "stream",
     "text": [
      "\r",
      "Step 3/3 :  62%|██████▏   | 3089/5000 [00:44<00:21, 89.34it/s]"
     ]
    },
    {
     "name": "stderr",
     "output_type": "stream",
     "text": [
      "\r",
      "Step 3/3 :  62%|██████▏   | 3089/5000 [00:44<00:21, 89.34it/s]"
     ]
    },
    {
     "name": "stderr",
     "output_type": "stream",
     "text": [
      "\r",
      "Step 3/3 :  62%|██████▏   | 3089/5000 [00:44<00:21, 89.34it/s]"
     ]
    },
    {
     "name": "stderr",
     "output_type": "stream",
     "text": [
      "\r",
      "Step 3/3 :  62%|██████▏   | 3089/5000 [00:44<00:21, 89.34it/s]"
     ]
    },
    {
     "name": "stderr",
     "output_type": "stream",
     "text": [
      "\r",
      "Step 3/3 :  62%|██████▏   | 3089/5000 [00:44<00:21, 89.34it/s]"
     ]
    },
    {
     "name": "stderr",
     "output_type": "stream",
     "text": [
      "\r",
      "Step 3/3 :  62%|██████▏   | 3089/5000 [00:44<00:21, 89.34it/s]"
     ]
    },
    {
     "name": "stderr",
     "output_type": "stream",
     "text": [
      "\r",
      "Step 3/3 :  62%|██████▏   | 3089/5000 [00:44<00:21, 89.34it/s]"
     ]
    },
    {
     "name": "stderr",
     "output_type": "stream",
     "text": [
      "\r",
      "Step 3/3 :  62%|██████▏   | 3089/5000 [00:44<00:21, 89.34it/s]"
     ]
    },
    {
     "name": "stderr",
     "output_type": "stream",
     "text": [
      "\r",
      "Step 3/3 :  62%|██████▏   | 3098/5000 [00:44<00:21, 88.00it/s]"
     ]
    },
    {
     "name": "stderr",
     "output_type": "stream",
     "text": [
      "\r",
      "Step 3/3 :  62%|██████▏   | 3098/5000 [00:44<00:21, 88.00it/s]"
     ]
    },
    {
     "name": "stderr",
     "output_type": "stream",
     "text": [
      "\r",
      "Step 3/3 :  62%|██████▏   | 3098/5000 [00:44<00:21, 88.00it/s]"
     ]
    },
    {
     "name": "stderr",
     "output_type": "stream",
     "text": [
      "\r",
      "Step 3/3 :  62%|██████▏   | 3098/5000 [00:44<00:21, 88.00it/s]"
     ]
    },
    {
     "name": "stderr",
     "output_type": "stream",
     "text": [
      "\r",
      "Step 3/3 :  62%|██████▏   | 3098/5000 [00:44<00:21, 88.00it/s]"
     ]
    },
    {
     "name": "stderr",
     "output_type": "stream",
     "text": [
      "\r",
      "Step 3/3 :  62%|██████▏   | 3098/5000 [00:44<00:21, 88.00it/s]"
     ]
    },
    {
     "name": "stderr",
     "output_type": "stream",
     "text": [
      "\r",
      "Step 3/3 :  62%|██████▏   | 3098/5000 [00:44<00:21, 88.00it/s]"
     ]
    },
    {
     "name": "stderr",
     "output_type": "stream",
     "text": [
      "\r",
      "Step 3/3 :  62%|██████▏   | 3098/5000 [00:44<00:21, 88.00it/s]"
     ]
    },
    {
     "name": "stderr",
     "output_type": "stream",
     "text": [
      "\r",
      "Step 3/3 :  62%|██████▏   | 3098/5000 [00:44<00:21, 88.00it/s]"
     ]
    },
    {
     "name": "stderr",
     "output_type": "stream",
     "text": [
      "\r",
      "Step 3/3 :  62%|██████▏   | 3098/5000 [00:44<00:21, 88.00it/s]"
     ]
    },
    {
     "name": "stderr",
     "output_type": "stream",
     "text": [
      "\r",
      "Step 3/3 :  62%|██████▏   | 3107/5000 [00:44<00:21, 86.82it/s]"
     ]
    },
    {
     "name": "stderr",
     "output_type": "stream",
     "text": [
      "\r",
      "Step 3/3 :  62%|██████▏   | 3107/5000 [00:44<00:21, 86.82it/s]"
     ]
    },
    {
     "name": "stderr",
     "output_type": "stream",
     "text": [
      "\r",
      "Step 3/3 :  62%|██████▏   | 3107/5000 [00:44<00:21, 86.82it/s]"
     ]
    },
    {
     "name": "stderr",
     "output_type": "stream",
     "text": [
      "\r",
      "Step 3/3 :  62%|██████▏   | 3107/5000 [00:44<00:21, 86.82it/s]"
     ]
    },
    {
     "name": "stderr",
     "output_type": "stream",
     "text": [
      "\r",
      "Step 3/3 :  62%|██████▏   | 3107/5000 [00:44<00:21, 86.82it/s]"
     ]
    },
    {
     "name": "stderr",
     "output_type": "stream",
     "text": [
      "\r",
      "Step 3/3 :  62%|██████▏   | 3107/5000 [00:44<00:21, 86.82it/s]"
     ]
    },
    {
     "name": "stderr",
     "output_type": "stream",
     "text": [
      "\r",
      "Step 3/3 :  62%|██████▏   | 3107/5000 [00:44<00:21, 86.82it/s]"
     ]
    },
    {
     "name": "stderr",
     "output_type": "stream",
     "text": [
      "\r",
      "Step 3/3 :  62%|██████▏   | 3107/5000 [00:44<00:21, 86.82it/s]"
     ]
    },
    {
     "name": "stderr",
     "output_type": "stream",
     "text": [
      "\r",
      "Step 3/3 :  62%|██████▏   | 3107/5000 [00:44<00:21, 86.82it/s]"
     ]
    },
    {
     "name": "stderr",
     "output_type": "stream",
     "text": [
      "\r",
      "Step 3/3 :  62%|██████▏   | 3107/5000 [00:44<00:21, 86.82it/s]"
     ]
    },
    {
     "name": "stderr",
     "output_type": "stream",
     "text": [
      "\r",
      "Step 3/3 :  62%|██████▏   | 3116/5000 [00:44<00:22, 83.87it/s]"
     ]
    },
    {
     "name": "stderr",
     "output_type": "stream",
     "text": [
      "\r",
      "Step 3/3 :  62%|██████▏   | 3116/5000 [00:44<00:22, 83.87it/s]"
     ]
    },
    {
     "name": "stderr",
     "output_type": "stream",
     "text": [
      "\r",
      "Step 3/3 :  62%|██████▏   | 3116/5000 [00:45<00:22, 83.87it/s]"
     ]
    },
    {
     "name": "stderr",
     "output_type": "stream",
     "text": [
      "\r",
      "Step 3/3 :  62%|██████▏   | 3116/5000 [00:45<00:22, 83.87it/s]"
     ]
    },
    {
     "name": "stderr",
     "output_type": "stream",
     "text": [
      "\r",
      "Step 3/3 :  62%|██████▏   | 3116/5000 [00:45<00:22, 83.87it/s]"
     ]
    },
    {
     "name": "stderr",
     "output_type": "stream",
     "text": [
      "\r",
      "Step 3/3 :  62%|██████▏   | 3116/5000 [00:45<00:22, 83.87it/s]"
     ]
    },
    {
     "name": "stderr",
     "output_type": "stream",
     "text": [
      "\r",
      "Step 3/3 :  62%|██████▏   | 3116/5000 [00:45<00:22, 83.87it/s]"
     ]
    },
    {
     "name": "stderr",
     "output_type": "stream",
     "text": [
      "\r",
      "Step 3/3 :  62%|██████▏   | 3116/5000 [00:45<00:22, 83.87it/s]"
     ]
    },
    {
     "name": "stderr",
     "output_type": "stream",
     "text": [
      "\r",
      "Step 3/3 :  62%|██████▏   | 3116/5000 [00:45<00:22, 83.87it/s]"
     ]
    },
    {
     "name": "stderr",
     "output_type": "stream",
     "text": [
      "\r",
      "Step 3/3 :  62%|██████▏   | 3116/5000 [00:45<00:22, 83.87it/s]"
     ]
    },
    {
     "name": "stderr",
     "output_type": "stream",
     "text": [
      "\r",
      "Step 3/3 :  62%|██████▎   | 3125/5000 [00:45<00:22, 83.01it/s]"
     ]
    },
    {
     "name": "stderr",
     "output_type": "stream",
     "text": [
      "\r",
      "Step 3/3 :  62%|██████▎   | 3125/5000 [00:45<00:22, 83.01it/s]"
     ]
    },
    {
     "name": "stderr",
     "output_type": "stream",
     "text": [
      "\r",
      "Step 3/3 :  62%|██████▎   | 3125/5000 [00:45<00:22, 83.01it/s]"
     ]
    },
    {
     "name": "stderr",
     "output_type": "stream",
     "text": [
      "\r",
      "Step 3/3 :  62%|██████▎   | 3125/5000 [00:45<00:22, 83.01it/s]"
     ]
    },
    {
     "name": "stderr",
     "output_type": "stream",
     "text": [
      "\r",
      "Step 3/3 :  62%|██████▎   | 3125/5000 [00:45<00:22, 83.01it/s]"
     ]
    },
    {
     "name": "stderr",
     "output_type": "stream",
     "text": [
      "\r",
      "Step 3/3 :  62%|██████▎   | 3125/5000 [00:45<00:22, 83.01it/s]"
     ]
    },
    {
     "name": "stderr",
     "output_type": "stream",
     "text": [
      "\r",
      "Step 3/3 :  62%|██████▎   | 3125/5000 [00:45<00:22, 83.01it/s]"
     ]
    },
    {
     "name": "stderr",
     "output_type": "stream",
     "text": [
      "\r",
      "Step 3/3 :  62%|██████▎   | 3125/5000 [00:45<00:22, 83.01it/s]"
     ]
    },
    {
     "name": "stderr",
     "output_type": "stream",
     "text": [
      "\r",
      "Step 3/3 :  62%|██████▎   | 3125/5000 [00:45<00:22, 83.01it/s]"
     ]
    },
    {
     "name": "stderr",
     "output_type": "stream",
     "text": [
      "\r",
      "Step 3/3 :  62%|██████▎   | 3125/5000 [00:45<00:22, 83.01it/s]"
     ]
    },
    {
     "name": "stderr",
     "output_type": "stream",
     "text": [
      "\r",
      "Step 3/3 :  63%|██████▎   | 3134/5000 [00:45<00:22, 84.27it/s]"
     ]
    },
    {
     "name": "stderr",
     "output_type": "stream",
     "text": [
      "\r",
      "Step 3/3 :  63%|██████▎   | 3134/5000 [00:45<00:22, 84.27it/s]"
     ]
    },
    {
     "name": "stderr",
     "output_type": "stream",
     "text": [
      "\r",
      "Step 3/3 :  63%|██████▎   | 3134/5000 [00:45<00:22, 84.27it/s]"
     ]
    },
    {
     "name": "stderr",
     "output_type": "stream",
     "text": [
      "\r",
      "Step 3/3 :  63%|██████▎   | 3134/5000 [00:45<00:22, 84.27it/s]"
     ]
    },
    {
     "name": "stderr",
     "output_type": "stream",
     "text": [
      "\r",
      "Step 3/3 :  63%|██████▎   | 3134/5000 [00:45<00:22, 84.27it/s]"
     ]
    },
    {
     "name": "stderr",
     "output_type": "stream",
     "text": [
      "\r",
      "Step 3/3 :  63%|██████▎   | 3134/5000 [00:45<00:22, 84.27it/s]"
     ]
    },
    {
     "name": "stderr",
     "output_type": "stream",
     "text": [
      "\r",
      "Step 3/3 :  63%|██████▎   | 3134/5000 [00:45<00:22, 84.27it/s]"
     ]
    },
    {
     "name": "stderr",
     "output_type": "stream",
     "text": [
      "\r",
      "Step 3/3 :  63%|██████▎   | 3134/5000 [00:45<00:22, 84.27it/s]"
     ]
    },
    {
     "name": "stderr",
     "output_type": "stream",
     "text": [
      "\r",
      "Step 3/3 :  63%|██████▎   | 3134/5000 [00:45<00:22, 84.27it/s]"
     ]
    },
    {
     "name": "stderr",
     "output_type": "stream",
     "text": [
      "\r",
      "Step 3/3 :  63%|██████▎   | 3134/5000 [00:45<00:22, 84.27it/s]"
     ]
    },
    {
     "name": "stderr",
     "output_type": "stream",
     "text": [
      "\r",
      "Step 3/3 :  63%|██████▎   | 3143/5000 [00:45<00:21, 85.65it/s]"
     ]
    },
    {
     "name": "stderr",
     "output_type": "stream",
     "text": [
      "\r",
      "Step 3/3 :  63%|██████▎   | 3143/5000 [00:45<00:21, 85.65it/s]"
     ]
    },
    {
     "name": "stderr",
     "output_type": "stream",
     "text": [
      "\r",
      "Step 3/3 :  63%|██████▎   | 3143/5000 [00:45<00:21, 85.65it/s]"
     ]
    },
    {
     "name": "stderr",
     "output_type": "stream",
     "text": [
      "\r",
      "Step 3/3 :  63%|██████▎   | 3143/5000 [00:45<00:21, 85.65it/s]"
     ]
    },
    {
     "name": "stderr",
     "output_type": "stream",
     "text": [
      "\r",
      "Step 3/3 :  63%|██████▎   | 3143/5000 [00:45<00:21, 85.65it/s]"
     ]
    },
    {
     "name": "stderr",
     "output_type": "stream",
     "text": [
      "\r",
      "Step 3/3 :  63%|██████▎   | 3143/5000 [00:45<00:21, 85.65it/s]"
     ]
    },
    {
     "name": "stderr",
     "output_type": "stream",
     "text": [
      "\r",
      "Step 3/3 :  63%|██████▎   | 3143/5000 [00:45<00:21, 85.65it/s]"
     ]
    },
    {
     "name": "stderr",
     "output_type": "stream",
     "text": [
      "\r",
      "Step 3/3 :  63%|██████▎   | 3143/5000 [00:45<00:21, 85.65it/s]"
     ]
    },
    {
     "name": "stderr",
     "output_type": "stream",
     "text": [
      "\r",
      "Step 3/3 :  63%|██████▎   | 3143/5000 [00:45<00:21, 85.65it/s]"
     ]
    },
    {
     "name": "stderr",
     "output_type": "stream",
     "text": [
      "\r",
      "Step 3/3 :  63%|██████▎   | 3143/5000 [00:45<00:21, 85.65it/s]"
     ]
    },
    {
     "name": "stderr",
     "output_type": "stream",
     "text": [
      "\r",
      "Step 3/3 :  63%|██████▎   | 3152/5000 [00:45<00:21, 84.71it/s]"
     ]
    },
    {
     "name": "stderr",
     "output_type": "stream",
     "text": [
      "\r",
      "Step 3/3 :  63%|██████▎   | 3152/5000 [00:45<00:21, 84.71it/s]"
     ]
    },
    {
     "name": "stderr",
     "output_type": "stream",
     "text": [
      "\r",
      "Step 3/3 :  63%|██████▎   | 3152/5000 [00:45<00:21, 84.71it/s]"
     ]
    },
    {
     "name": "stderr",
     "output_type": "stream",
     "text": [
      "\r",
      "Step 3/3 :  63%|██████▎   | 3152/5000 [00:45<00:21, 84.71it/s]"
     ]
    },
    {
     "name": "stderr",
     "output_type": "stream",
     "text": [
      "\r",
      "Step 3/3 :  63%|██████▎   | 3152/5000 [00:45<00:21, 84.71it/s]"
     ]
    },
    {
     "name": "stderr",
     "output_type": "stream",
     "text": [
      "\r",
      "Step 3/3 :  63%|██████▎   | 3152/5000 [00:45<00:21, 84.71it/s]"
     ]
    },
    {
     "name": "stderr",
     "output_type": "stream",
     "text": [
      "\r",
      "Step 3/3 :  63%|██████▎   | 3152/5000 [00:45<00:21, 84.71it/s]"
     ]
    },
    {
     "name": "stderr",
     "output_type": "stream",
     "text": [
      "\r",
      "Step 3/3 :  63%|██████▎   | 3152/5000 [00:45<00:21, 84.71it/s]"
     ]
    },
    {
     "name": "stderr",
     "output_type": "stream",
     "text": [
      "\r",
      "Step 3/3 :  63%|██████▎   | 3152/5000 [00:45<00:21, 84.71it/s]"
     ]
    },
    {
     "name": "stderr",
     "output_type": "stream",
     "text": [
      "\r",
      "Step 3/3 :  63%|██████▎   | 3152/5000 [00:45<00:21, 84.71it/s]"
     ]
    },
    {
     "name": "stderr",
     "output_type": "stream",
     "text": [
      "\r",
      "Step 3/3 :  63%|██████▎   | 3161/5000 [00:45<00:22, 80.24it/s]"
     ]
    },
    {
     "name": "stderr",
     "output_type": "stream",
     "text": [
      "\r",
      "Step 3/3 :  63%|██████▎   | 3161/5000 [00:45<00:22, 80.24it/s]"
     ]
    },
    {
     "name": "stderr",
     "output_type": "stream",
     "text": [
      "\r",
      "Step 3/3 :  63%|██████▎   | 3161/5000 [00:45<00:22, 80.24it/s]"
     ]
    },
    {
     "name": "stderr",
     "output_type": "stream",
     "text": [
      "\r",
      "Step 3/3 :  63%|██████▎   | 3161/5000 [00:45<00:22, 80.24it/s]"
     ]
    },
    {
     "name": "stderr",
     "output_type": "stream",
     "text": [
      "\r",
      "Step 3/3 :  63%|██████▎   | 3161/5000 [00:45<00:22, 80.24it/s]"
     ]
    },
    {
     "name": "stderr",
     "output_type": "stream",
     "text": [
      "\r",
      "Step 3/3 :  63%|██████▎   | 3161/5000 [00:45<00:22, 80.24it/s]"
     ]
    },
    {
     "name": "stderr",
     "output_type": "stream",
     "text": [
      "\r",
      "Step 3/3 :  63%|██████▎   | 3161/5000 [00:45<00:22, 80.24it/s]"
     ]
    },
    {
     "name": "stderr",
     "output_type": "stream",
     "text": [
      "\r",
      "Step 3/3 :  63%|██████▎   | 3161/5000 [00:45<00:22, 80.24it/s]"
     ]
    },
    {
     "name": "stderr",
     "output_type": "stream",
     "text": [
      "\r",
      "Step 3/3 :  63%|██████▎   | 3161/5000 [00:45<00:22, 80.24it/s]"
     ]
    },
    {
     "name": "stderr",
     "output_type": "stream",
     "text": [
      "\r",
      "Step 3/3 :  63%|██████▎   | 3161/5000 [00:45<00:22, 80.24it/s]"
     ]
    },
    {
     "name": "stderr",
     "output_type": "stream",
     "text": [
      "\r",
      "Step 3/3 :  63%|██████▎   | 3170/5000 [00:45<00:22, 81.81it/s]"
     ]
    },
    {
     "name": "stderr",
     "output_type": "stream",
     "text": [
      "\r",
      "Step 3/3 :  63%|██████▎   | 3170/5000 [00:45<00:22, 81.81it/s]"
     ]
    },
    {
     "name": "stderr",
     "output_type": "stream",
     "text": [
      "\r",
      "Step 3/3 :  63%|██████▎   | 3170/5000 [00:45<00:22, 81.81it/s]"
     ]
    },
    {
     "name": "stderr",
     "output_type": "stream",
     "text": [
      "\r",
      "Step 3/3 :  63%|██████▎   | 3170/5000 [00:45<00:22, 81.81it/s]"
     ]
    },
    {
     "name": "stderr",
     "output_type": "stream",
     "text": [
      "\r",
      "Step 3/3 :  63%|██████▎   | 3170/5000 [00:45<00:22, 81.81it/s]"
     ]
    },
    {
     "name": "stderr",
     "output_type": "stream",
     "text": [
      "\r",
      "Step 3/3 :  63%|██████▎   | 3170/5000 [00:45<00:22, 81.81it/s]"
     ]
    },
    {
     "name": "stderr",
     "output_type": "stream",
     "text": [
      "\r",
      "Step 3/3 :  63%|██████▎   | 3170/5000 [00:45<00:22, 81.81it/s]"
     ]
    },
    {
     "name": "stderr",
     "output_type": "stream",
     "text": [
      "\r",
      "Step 3/3 :  63%|██████▎   | 3170/5000 [00:45<00:22, 81.81it/s]"
     ]
    },
    {
     "name": "stderr",
     "output_type": "stream",
     "text": [
      "\r",
      "Step 3/3 :  63%|██████▎   | 3170/5000 [00:45<00:22, 81.81it/s]"
     ]
    },
    {
     "name": "stderr",
     "output_type": "stream",
     "text": [
      "\r",
      "Step 3/3 :  63%|██████▎   | 3170/5000 [00:45<00:22, 81.81it/s]"
     ]
    },
    {
     "name": "stderr",
     "output_type": "stream",
     "text": [
      "\r",
      "Step 3/3 :  64%|██████▎   | 3179/5000 [00:45<00:22, 82.26it/s]"
     ]
    },
    {
     "name": "stderr",
     "output_type": "stream",
     "text": [
      "\r",
      "Step 3/3 :  64%|██████▎   | 3179/5000 [00:45<00:22, 82.26it/s]"
     ]
    },
    {
     "name": "stderr",
     "output_type": "stream",
     "text": [
      "\r",
      "Step 3/3 :  64%|██████▎   | 3179/5000 [00:45<00:22, 82.26it/s]"
     ]
    },
    {
     "name": "stderr",
     "output_type": "stream",
     "text": [
      "\r",
      "Step 3/3 :  64%|██████▎   | 3179/5000 [00:45<00:22, 82.26it/s]"
     ]
    },
    {
     "name": "stderr",
     "output_type": "stream",
     "text": [
      "\r",
      "Step 3/3 :  64%|██████▎   | 3179/5000 [00:45<00:22, 82.26it/s]"
     ]
    },
    {
     "name": "stderr",
     "output_type": "stream",
     "text": [
      "\r",
      "Step 3/3 :  64%|██████▎   | 3179/5000 [00:45<00:22, 82.26it/s]"
     ]
    },
    {
     "name": "stderr",
     "output_type": "stream",
     "text": [
      "\r",
      "Step 3/3 :  64%|██████▎   | 3179/5000 [00:45<00:22, 82.26it/s]"
     ]
    },
    {
     "name": "stderr",
     "output_type": "stream",
     "text": [
      "\r",
      "Step 3/3 :  64%|██████▎   | 3179/5000 [00:45<00:22, 82.26it/s]"
     ]
    },
    {
     "name": "stderr",
     "output_type": "stream",
     "text": [
      "\r",
      "Step 3/3 :  64%|██████▎   | 3179/5000 [00:45<00:22, 82.26it/s]"
     ]
    },
    {
     "name": "stderr",
     "output_type": "stream",
     "text": [
      "\r",
      "Step 3/3 :  64%|██████▎   | 3179/5000 [00:45<00:22, 82.26it/s]"
     ]
    },
    {
     "name": "stderr",
     "output_type": "stream",
     "text": [
      "\r",
      "Step 3/3 :  64%|██████▎   | 3179/5000 [00:45<00:22, 82.26it/s]"
     ]
    },
    {
     "name": "stderr",
     "output_type": "stream",
     "text": [
      "\r",
      "Step 3/3 :  64%|██████▍   | 3189/5000 [00:45<00:21, 85.56it/s]"
     ]
    },
    {
     "name": "stderr",
     "output_type": "stream",
     "text": [
      "\r",
      "Step 3/3 :  64%|██████▍   | 3189/5000 [00:45<00:21, 85.56it/s]"
     ]
    },
    {
     "name": "stderr",
     "output_type": "stream",
     "text": [
      "\r",
      "Step 3/3 :  64%|██████▍   | 3189/5000 [00:45<00:21, 85.56it/s]"
     ]
    },
    {
     "name": "stderr",
     "output_type": "stream",
     "text": [
      "\r",
      "Step 3/3 :  64%|██████▍   | 3189/5000 [00:45<00:21, 85.56it/s]"
     ]
    },
    {
     "name": "stderr",
     "output_type": "stream",
     "text": [
      "\r",
      "Step 3/3 :  64%|██████▍   | 3189/5000 [00:45<00:21, 85.56it/s]"
     ]
    },
    {
     "name": "stderr",
     "output_type": "stream",
     "text": [
      "\r",
      "Step 3/3 :  64%|██████▍   | 3189/5000 [00:45<00:21, 85.56it/s]"
     ]
    },
    {
     "name": "stderr",
     "output_type": "stream",
     "text": [
      "\r",
      "Step 3/3 :  64%|██████▍   | 3189/5000 [00:45<00:21, 85.56it/s]"
     ]
    },
    {
     "name": "stderr",
     "output_type": "stream",
     "text": [
      "\r",
      "Step 3/3 :  64%|██████▍   | 3189/5000 [00:45<00:21, 85.56it/s]"
     ]
    },
    {
     "name": "stderr",
     "output_type": "stream",
     "text": [
      "\r",
      "Step 3/3 :  64%|██████▍   | 3189/5000 [00:45<00:21, 85.56it/s]"
     ]
    },
    {
     "name": "stderr",
     "output_type": "stream",
     "text": [
      "\r",
      "Step 3/3 :  64%|██████▍   | 3189/5000 [00:45<00:21, 85.56it/s]"
     ]
    },
    {
     "name": "stderr",
     "output_type": "stream",
     "text": [
      "\r",
      "Step 3/3 :  64%|██████▍   | 3189/5000 [00:45<00:21, 85.56it/s]"
     ]
    },
    {
     "name": "stderr",
     "output_type": "stream",
     "text": [
      "\r",
      "Step 3/3 :  64%|██████▍   | 3199/5000 [00:45<00:20, 88.30it/s]"
     ]
    },
    {
     "name": "stderr",
     "output_type": "stream",
     "text": [
      "\r",
      "Step 3/3 :  64%|██████▍   | 3199/5000 [00:45<00:20, 88.30it/s]"
     ]
    },
    {
     "name": "stderr",
     "output_type": "stream",
     "text": [
      "\r",
      "Step 3/3 :  64%|██████▍   | 3199/5000 [00:45<00:20, 88.30it/s]"
     ]
    },
    {
     "name": "stderr",
     "output_type": "stream",
     "text": [
      "\r",
      "Step 3/3 :  64%|██████▍   | 3199/5000 [00:45<00:20, 88.30it/s]"
     ]
    },
    {
     "name": "stderr",
     "output_type": "stream",
     "text": [
      "\r",
      "Step 3/3 :  64%|██████▍   | 3199/5000 [00:45<00:20, 88.30it/s]"
     ]
    },
    {
     "name": "stderr",
     "output_type": "stream",
     "text": [
      "\r",
      "Step 3/3 :  64%|██████▍   | 3199/5000 [00:46<00:20, 88.30it/s]"
     ]
    },
    {
     "name": "stderr",
     "output_type": "stream",
     "text": [
      "\r",
      "Step 3/3 :  64%|██████▍   | 3199/5000 [00:46<00:20, 88.30it/s]"
     ]
    },
    {
     "name": "stderr",
     "output_type": "stream",
     "text": [
      "\r",
      "Step 3/3 :  64%|██████▍   | 3199/5000 [00:46<00:20, 88.30it/s]"
     ]
    },
    {
     "name": "stderr",
     "output_type": "stream",
     "text": [
      "\r",
      "Step 3/3 :  64%|██████▍   | 3199/5000 [00:46<00:20, 88.30it/s]"
     ]
    },
    {
     "name": "stderr",
     "output_type": "stream",
     "text": [
      "\r",
      "Step 3/3 :  64%|██████▍   | 3199/5000 [00:46<00:20, 88.30it/s]"
     ]
    },
    {
     "name": "stderr",
     "output_type": "stream",
     "text": [
      "\r",
      "Step 3/3 :  64%|██████▍   | 3199/5000 [00:46<00:20, 88.30it/s]"
     ]
    },
    {
     "name": "stderr",
     "output_type": "stream",
     "text": [
      "\r",
      "Step 3/3 :  64%|██████▍   | 3209/5000 [00:46<00:19, 90.84it/s]"
     ]
    },
    {
     "name": "stderr",
     "output_type": "stream",
     "text": [
      "\r",
      "Step 3/3 :  64%|██████▍   | 3209/5000 [00:46<00:19, 90.84it/s]"
     ]
    },
    {
     "name": "stderr",
     "output_type": "stream",
     "text": [
      "\r",
      "Step 3/3 :  64%|██████▍   | 3209/5000 [00:46<00:19, 90.84it/s]"
     ]
    },
    {
     "name": "stderr",
     "output_type": "stream",
     "text": [
      "\r",
      "Step 3/3 :  64%|██████▍   | 3209/5000 [00:46<00:19, 90.84it/s]"
     ]
    },
    {
     "name": "stderr",
     "output_type": "stream",
     "text": [
      "\r",
      "Step 3/3 :  64%|██████▍   | 3209/5000 [00:46<00:19, 90.84it/s]"
     ]
    },
    {
     "name": "stderr",
     "output_type": "stream",
     "text": [
      "\r",
      "Step 3/3 :  64%|██████▍   | 3209/5000 [00:46<00:19, 90.84it/s]"
     ]
    },
    {
     "name": "stderr",
     "output_type": "stream",
     "text": [
      "\r",
      "Step 3/3 :  64%|██████▍   | 3209/5000 [00:46<00:19, 90.84it/s]"
     ]
    },
    {
     "name": "stderr",
     "output_type": "stream",
     "text": [
      "\r",
      "Step 3/3 :  64%|██████▍   | 3209/5000 [00:46<00:19, 90.84it/s]"
     ]
    },
    {
     "name": "stderr",
     "output_type": "stream",
     "text": [
      "\r",
      "Step 3/3 :  64%|██████▍   | 3209/5000 [00:46<00:19, 90.84it/s]"
     ]
    },
    {
     "name": "stderr",
     "output_type": "stream",
     "text": [
      "\r",
      "Step 3/3 :  64%|██████▍   | 3209/5000 [00:46<00:19, 90.84it/s]"
     ]
    },
    {
     "name": "stderr",
     "output_type": "stream",
     "text": [
      "\r",
      "Step 3/3 :  64%|██████▍   | 3209/5000 [00:46<00:19, 90.84it/s]"
     ]
    },
    {
     "name": "stderr",
     "output_type": "stream",
     "text": [
      "\r",
      "Step 3/3 :  64%|██████▍   | 3219/5000 [00:46<00:19, 92.95it/s]"
     ]
    },
    {
     "name": "stderr",
     "output_type": "stream",
     "text": [
      "\r",
      "Step 3/3 :  64%|██████▍   | 3219/5000 [00:46<00:19, 92.95it/s]"
     ]
    },
    {
     "name": "stderr",
     "output_type": "stream",
     "text": [
      "\r",
      "Step 3/3 :  64%|██████▍   | 3219/5000 [00:46<00:19, 92.95it/s]"
     ]
    },
    {
     "name": "stderr",
     "output_type": "stream",
     "text": [
      "\r",
      "Step 3/3 :  64%|██████▍   | 3219/5000 [00:46<00:19, 92.95it/s]"
     ]
    },
    {
     "name": "stderr",
     "output_type": "stream",
     "text": [
      "\r",
      "Step 3/3 :  64%|██████▍   | 3219/5000 [00:46<00:19, 92.95it/s]"
     ]
    },
    {
     "name": "stderr",
     "output_type": "stream",
     "text": [
      "\r",
      "Step 3/3 :  64%|██████▍   | 3219/5000 [00:46<00:19, 92.95it/s]"
     ]
    },
    {
     "name": "stderr",
     "output_type": "stream",
     "text": [
      "\r",
      "Step 3/3 :  64%|██████▍   | 3219/5000 [00:46<00:19, 92.95it/s]"
     ]
    },
    {
     "name": "stderr",
     "output_type": "stream",
     "text": [
      "\r",
      "Step 3/3 :  64%|██████▍   | 3219/5000 [00:46<00:19, 92.95it/s]"
     ]
    },
    {
     "name": "stderr",
     "output_type": "stream",
     "text": [
      "\r",
      "Step 3/3 :  64%|██████▍   | 3219/5000 [00:46<00:19, 92.95it/s]"
     ]
    },
    {
     "name": "stderr",
     "output_type": "stream",
     "text": [
      "\r",
      "Step 3/3 :  64%|██████▍   | 3219/5000 [00:46<00:19, 92.95it/s]"
     ]
    },
    {
     "name": "stderr",
     "output_type": "stream",
     "text": [
      "\r",
      "Step 3/3 :  64%|██████▍   | 3219/5000 [00:46<00:19, 92.95it/s]"
     ]
    },
    {
     "name": "stderr",
     "output_type": "stream",
     "text": [
      "\r",
      "Step 3/3 :  65%|██████▍   | 3229/5000 [00:46<00:18, 93.63it/s]"
     ]
    },
    {
     "name": "stderr",
     "output_type": "stream",
     "text": [
      "\r",
      "Step 3/3 :  65%|██████▍   | 3229/5000 [00:46<00:18, 93.63it/s]"
     ]
    },
    {
     "name": "stderr",
     "output_type": "stream",
     "text": [
      "\r",
      "Step 3/3 :  65%|██████▍   | 3229/5000 [00:46<00:18, 93.63it/s]"
     ]
    },
    {
     "name": "stderr",
     "output_type": "stream",
     "text": [
      "\r",
      "Step 3/3 :  65%|██████▍   | 3229/5000 [00:46<00:18, 93.63it/s]"
     ]
    },
    {
     "name": "stderr",
     "output_type": "stream",
     "text": [
      "\r",
      "Step 3/3 :  65%|██████▍   | 3229/5000 [00:46<00:18, 93.63it/s]"
     ]
    },
    {
     "name": "stderr",
     "output_type": "stream",
     "text": [
      "\r",
      "Step 3/3 :  65%|██████▍   | 3229/5000 [00:46<00:18, 93.63it/s]"
     ]
    },
    {
     "name": "stderr",
     "output_type": "stream",
     "text": [
      "\r",
      "Step 3/3 :  65%|██████▍   | 3229/5000 [00:46<00:18, 93.63it/s]"
     ]
    },
    {
     "name": "stderr",
     "output_type": "stream",
     "text": [
      "\r",
      "Step 3/3 :  65%|██████▍   | 3229/5000 [00:46<00:18, 93.63it/s]"
     ]
    },
    {
     "name": "stderr",
     "output_type": "stream",
     "text": [
      "\r",
      "Step 3/3 :  65%|██████▍   | 3229/5000 [00:46<00:18, 93.63it/s]"
     ]
    },
    {
     "name": "stderr",
     "output_type": "stream",
     "text": [
      "\r",
      "Step 3/3 :  65%|██████▍   | 3229/5000 [00:46<00:18, 93.63it/s]"
     ]
    },
    {
     "name": "stderr",
     "output_type": "stream",
     "text": [
      "\r",
      "Step 3/3 :  65%|██████▍   | 3229/5000 [00:46<00:18, 93.63it/s]"
     ]
    },
    {
     "name": "stderr",
     "output_type": "stream",
     "text": [
      "\r",
      "Step 3/3 :  65%|██████▍   | 3239/5000 [00:46<00:18, 94.67it/s]"
     ]
    },
    {
     "name": "stderr",
     "output_type": "stream",
     "text": [
      "\r",
      "Step 3/3 :  65%|██████▍   | 3239/5000 [00:46<00:18, 94.67it/s]"
     ]
    },
    {
     "name": "stderr",
     "output_type": "stream",
     "text": [
      "\r",
      "Step 3/3 :  65%|██████▍   | 3239/5000 [00:46<00:18, 94.67it/s]"
     ]
    },
    {
     "name": "stderr",
     "output_type": "stream",
     "text": [
      "\r",
      "Step 3/3 :  65%|██████▍   | 3239/5000 [00:46<00:18, 94.67it/s]"
     ]
    },
    {
     "name": "stderr",
     "output_type": "stream",
     "text": [
      "\r",
      "Step 3/3 :  65%|██████▍   | 3239/5000 [00:46<00:18, 94.67it/s]"
     ]
    },
    {
     "name": "stderr",
     "output_type": "stream",
     "text": [
      "\r",
      "Step 3/3 :  65%|██████▍   | 3239/5000 [00:46<00:18, 94.67it/s]"
     ]
    },
    {
     "name": "stderr",
     "output_type": "stream",
     "text": [
      "\r",
      "Step 3/3 :  65%|██████▍   | 3239/5000 [00:46<00:18, 94.67it/s]"
     ]
    },
    {
     "name": "stderr",
     "output_type": "stream",
     "text": [
      "\r",
      "Step 3/3 :  65%|██████▍   | 3239/5000 [00:46<00:18, 94.67it/s]"
     ]
    },
    {
     "name": "stderr",
     "output_type": "stream",
     "text": [
      "\r",
      "Step 3/3 :  65%|██████▍   | 3239/5000 [00:46<00:18, 94.67it/s]"
     ]
    },
    {
     "name": "stderr",
     "output_type": "stream",
     "text": [
      "\r",
      "Step 3/3 :  65%|██████▍   | 3239/5000 [00:46<00:18, 94.67it/s]"
     ]
    },
    {
     "name": "stderr",
     "output_type": "stream",
     "text": [
      "\r",
      "Step 3/3 :  65%|██████▍   | 3239/5000 [00:46<00:18, 94.67it/s]"
     ]
    },
    {
     "name": "stderr",
     "output_type": "stream",
     "text": [
      "\r",
      "Step 3/3 :  65%|██████▍   | 3249/5000 [00:46<00:18, 94.84it/s]"
     ]
    },
    {
     "name": "stderr",
     "output_type": "stream",
     "text": [
      "\r",
      "Step 3/3 :  65%|██████▍   | 3249/5000 [00:46<00:18, 94.84it/s]"
     ]
    },
    {
     "name": "stderr",
     "output_type": "stream",
     "text": [
      "\r",
      "Step 3/3 :  65%|██████▍   | 3249/5000 [00:46<00:18, 94.84it/s]"
     ]
    },
    {
     "name": "stderr",
     "output_type": "stream",
     "text": [
      "\r",
      "Step 3/3 :  65%|██████▍   | 3249/5000 [00:46<00:18, 94.84it/s]"
     ]
    },
    {
     "name": "stderr",
     "output_type": "stream",
     "text": [
      "\r",
      "Step 3/3 :  65%|██████▍   | 3249/5000 [00:46<00:18, 94.84it/s]"
     ]
    },
    {
     "name": "stderr",
     "output_type": "stream",
     "text": [
      "\r",
      "Step 3/3 :  65%|██████▍   | 3249/5000 [00:46<00:18, 94.84it/s]"
     ]
    },
    {
     "name": "stderr",
     "output_type": "stream",
     "text": [
      "\r",
      "Step 3/3 :  65%|██████▍   | 3249/5000 [00:46<00:18, 94.84it/s]"
     ]
    },
    {
     "name": "stderr",
     "output_type": "stream",
     "text": [
      "\r",
      "Step 3/3 :  65%|██████▍   | 3249/5000 [00:46<00:18, 94.84it/s]"
     ]
    },
    {
     "name": "stderr",
     "output_type": "stream",
     "text": [
      "\r",
      "Step 3/3 :  65%|██████▍   | 3249/5000 [00:46<00:18, 94.84it/s]"
     ]
    },
    {
     "name": "stderr",
     "output_type": "stream",
     "text": [
      "\r",
      "Step 3/3 :  65%|██████▍   | 3249/5000 [00:46<00:18, 94.84it/s]"
     ]
    },
    {
     "name": "stderr",
     "output_type": "stream",
     "text": [
      "\r",
      "Step 3/3 :  65%|██████▍   | 3249/5000 [00:46<00:18, 94.84it/s]"
     ]
    },
    {
     "name": "stderr",
     "output_type": "stream",
     "text": [
      "\r",
      "Step 3/3 :  65%|██████▌   | 3259/5000 [00:46<00:19, 90.31it/s]"
     ]
    },
    {
     "name": "stderr",
     "output_type": "stream",
     "text": [
      "\r",
      "Step 3/3 :  65%|██████▌   | 3259/5000 [00:46<00:19, 90.31it/s]"
     ]
    },
    {
     "name": "stderr",
     "output_type": "stream",
     "text": [
      "\r",
      "Step 3/3 :  65%|██████▌   | 3259/5000 [00:46<00:19, 90.31it/s]"
     ]
    },
    {
     "name": "stderr",
     "output_type": "stream",
     "text": [
      "\r",
      "Step 3/3 :  65%|██████▌   | 3259/5000 [00:46<00:19, 90.31it/s]"
     ]
    },
    {
     "name": "stderr",
     "output_type": "stream",
     "text": [
      "\r",
      "Step 3/3 :  65%|██████▌   | 3259/5000 [00:46<00:19, 90.31it/s]"
     ]
    },
    {
     "name": "stderr",
     "output_type": "stream",
     "text": [
      "\r",
      "Step 3/3 :  65%|██████▌   | 3259/5000 [00:46<00:19, 90.31it/s]"
     ]
    },
    {
     "name": "stderr",
     "output_type": "stream",
     "text": [
      "\r",
      "Step 3/3 :  65%|██████▌   | 3259/5000 [00:46<00:19, 90.31it/s]"
     ]
    },
    {
     "name": "stderr",
     "output_type": "stream",
     "text": [
      "\r",
      "Step 3/3 :  65%|██████▌   | 3259/5000 [00:46<00:19, 90.31it/s]"
     ]
    },
    {
     "name": "stderr",
     "output_type": "stream",
     "text": [
      "\r",
      "Step 3/3 :  65%|██████▌   | 3259/5000 [00:46<00:19, 90.31it/s]"
     ]
    },
    {
     "name": "stderr",
     "output_type": "stream",
     "text": [
      "\r",
      "Step 3/3 :  65%|██████▌   | 3259/5000 [00:46<00:19, 90.31it/s]"
     ]
    },
    {
     "name": "stderr",
     "output_type": "stream",
     "text": [
      "\r",
      "Step 3/3 :  65%|██████▌   | 3259/5000 [00:46<00:19, 90.31it/s]"
     ]
    },
    {
     "name": "stderr",
     "output_type": "stream",
     "text": [
      "\r",
      "Step 3/3 :  65%|██████▌   | 3269/5000 [00:46<00:19, 88.79it/s]"
     ]
    },
    {
     "name": "stderr",
     "output_type": "stream",
     "text": [
      "\r",
      "Step 3/3 :  65%|██████▌   | 3269/5000 [00:46<00:19, 88.79it/s]"
     ]
    },
    {
     "name": "stderr",
     "output_type": "stream",
     "text": [
      "\r",
      "Step 3/3 :  65%|██████▌   | 3269/5000 [00:46<00:19, 88.79it/s]"
     ]
    },
    {
     "name": "stderr",
     "output_type": "stream",
     "text": [
      "\r",
      "Step 3/3 :  65%|██████▌   | 3269/5000 [00:46<00:19, 88.79it/s]"
     ]
    },
    {
     "name": "stderr",
     "output_type": "stream",
     "text": [
      "\r",
      "Step 3/3 :  65%|██████▌   | 3269/5000 [00:46<00:19, 88.79it/s]"
     ]
    },
    {
     "name": "stderr",
     "output_type": "stream",
     "text": [
      "\r",
      "Step 3/3 :  65%|██████▌   | 3269/5000 [00:46<00:19, 88.79it/s]"
     ]
    },
    {
     "name": "stderr",
     "output_type": "stream",
     "text": [
      "\r",
      "Step 3/3 :  65%|██████▌   | 3269/5000 [00:46<00:19, 88.79it/s]"
     ]
    },
    {
     "name": "stderr",
     "output_type": "stream",
     "text": [
      "\r",
      "Step 3/3 :  65%|██████▌   | 3269/5000 [00:46<00:19, 88.79it/s]"
     ]
    },
    {
     "name": "stderr",
     "output_type": "stream",
     "text": [
      "\r",
      "Step 3/3 :  65%|██████▌   | 3269/5000 [00:46<00:19, 88.79it/s]"
     ]
    },
    {
     "name": "stderr",
     "output_type": "stream",
     "text": [
      "\r",
      "Step 3/3 :  65%|██████▌   | 3269/5000 [00:46<00:19, 88.79it/s]"
     ]
    },
    {
     "name": "stderr",
     "output_type": "stream",
     "text": [
      "\r",
      "Step 3/3 :  65%|██████▌   | 3269/5000 [00:46<00:19, 88.79it/s]"
     ]
    },
    {
     "name": "stderr",
     "output_type": "stream",
     "text": [
      "\r",
      "Step 3/3 :  66%|██████▌   | 3279/5000 [00:46<00:18, 91.20it/s]"
     ]
    },
    {
     "name": "stderr",
     "output_type": "stream",
     "text": [
      "\r",
      "Step 3/3 :  66%|██████▌   | 3279/5000 [00:46<00:18, 91.20it/s]"
     ]
    },
    {
     "name": "stderr",
     "output_type": "stream",
     "text": [
      "\r",
      "Step 3/3 :  66%|██████▌   | 3279/5000 [00:46<00:18, 91.20it/s]"
     ]
    },
    {
     "name": "stderr",
     "output_type": "stream",
     "text": [
      "\r",
      "Step 3/3 :  66%|██████▌   | 3279/5000 [00:46<00:18, 91.20it/s]"
     ]
    },
    {
     "name": "stderr",
     "output_type": "stream",
     "text": [
      "\r",
      "Step 3/3 :  66%|██████▌   | 3279/5000 [00:46<00:18, 91.20it/s]"
     ]
    },
    {
     "name": "stderr",
     "output_type": "stream",
     "text": [
      "\r",
      "Step 3/3 :  66%|██████▌   | 3279/5000 [00:46<00:18, 91.20it/s]"
     ]
    },
    {
     "name": "stderr",
     "output_type": "stream",
     "text": [
      "\r",
      "Step 3/3 :  66%|██████▌   | 3279/5000 [00:46<00:18, 91.20it/s]"
     ]
    },
    {
     "name": "stderr",
     "output_type": "stream",
     "text": [
      "\r",
      "Step 3/3 :  66%|██████▌   | 3279/5000 [00:46<00:18, 91.20it/s]"
     ]
    },
    {
     "name": "stderr",
     "output_type": "stream",
     "text": [
      "\r",
      "Step 3/3 :  66%|██████▌   | 3279/5000 [00:46<00:18, 91.20it/s]"
     ]
    },
    {
     "name": "stderr",
     "output_type": "stream",
     "text": [
      "\r",
      "Step 3/3 :  66%|██████▌   | 3279/5000 [00:46<00:18, 91.20it/s]"
     ]
    },
    {
     "name": "stderr",
     "output_type": "stream",
     "text": [
      "\r",
      "Step 3/3 :  66%|██████▌   | 3279/5000 [00:46<00:18, 91.20it/s]"
     ]
    },
    {
     "name": "stderr",
     "output_type": "stream",
     "text": [
      "\r",
      "Step 3/3 :  66%|██████▌   | 3289/5000 [00:46<00:18, 90.36it/s]"
     ]
    },
    {
     "name": "stderr",
     "output_type": "stream",
     "text": [
      "\r",
      "Step 3/3 :  66%|██████▌   | 3289/5000 [00:46<00:18, 90.36it/s]"
     ]
    },
    {
     "name": "stderr",
     "output_type": "stream",
     "text": [
      "\r",
      "Step 3/3 :  66%|██████▌   | 3289/5000 [00:46<00:18, 90.36it/s]"
     ]
    },
    {
     "name": "stderr",
     "output_type": "stream",
     "text": [
      "\r",
      "Step 3/3 :  66%|██████▌   | 3289/5000 [00:46<00:18, 90.36it/s]"
     ]
    },
    {
     "name": "stderr",
     "output_type": "stream",
     "text": [
      "\r",
      "Step 3/3 :  66%|██████▌   | 3289/5000 [00:46<00:18, 90.36it/s]"
     ]
    },
    {
     "name": "stderr",
     "output_type": "stream",
     "text": [
      "\r",
      "Step 3/3 :  66%|██████▌   | 3289/5000 [00:46<00:18, 90.36it/s]"
     ]
    },
    {
     "name": "stderr",
     "output_type": "stream",
     "text": [
      "\r",
      "Step 3/3 :  66%|██████▌   | 3289/5000 [00:46<00:18, 90.36it/s]"
     ]
    },
    {
     "name": "stderr",
     "output_type": "stream",
     "text": [
      "\r",
      "Step 3/3 :  66%|██████▌   | 3289/5000 [00:46<00:18, 90.36it/s]"
     ]
    },
    {
     "name": "stderr",
     "output_type": "stream",
     "text": [
      "\r",
      "Step 3/3 :  66%|██████▌   | 3289/5000 [00:47<00:18, 90.36it/s]"
     ]
    },
    {
     "name": "stderr",
     "output_type": "stream",
     "text": [
      "\r",
      "Step 3/3 :  66%|██████▌   | 3289/5000 [00:47<00:18, 90.36it/s]"
     ]
    },
    {
     "name": "stderr",
     "output_type": "stream",
     "text": [
      "\r",
      "Step 3/3 :  66%|██████▌   | 3289/5000 [00:47<00:18, 90.36it/s]"
     ]
    },
    {
     "name": "stderr",
     "output_type": "stream",
     "text": [
      "\r",
      "Step 3/3 :  66%|██████▌   | 3299/5000 [00:47<00:18, 91.28it/s]"
     ]
    },
    {
     "name": "stderr",
     "output_type": "stream",
     "text": [
      "\r",
      "Step 3/3 :  66%|██████▌   | 3299/5000 [00:47<00:18, 91.28it/s]"
     ]
    },
    {
     "name": "stderr",
     "output_type": "stream",
     "text": [
      "\r",
      "Step 3/3 :  66%|██████▌   | 3299/5000 [00:47<00:18, 91.28it/s]"
     ]
    },
    {
     "name": "stderr",
     "output_type": "stream",
     "text": [
      "\r",
      "Step 3/3 :  66%|██████▌   | 3299/5000 [00:47<00:18, 91.28it/s]"
     ]
    },
    {
     "name": "stderr",
     "output_type": "stream",
     "text": [
      "\r",
      "Step 3/3 :  66%|██████▌   | 3299/5000 [00:47<00:18, 91.28it/s]"
     ]
    },
    {
     "name": "stderr",
     "output_type": "stream",
     "text": [
      "\r",
      "Step 3/3 :  66%|██████▌   | 3299/5000 [00:47<00:18, 91.28it/s]"
     ]
    },
    {
     "name": "stderr",
     "output_type": "stream",
     "text": [
      "\r",
      "Step 3/3 :  66%|██████▌   | 3299/5000 [00:47<00:18, 91.28it/s]"
     ]
    },
    {
     "name": "stderr",
     "output_type": "stream",
     "text": [
      "\r",
      "Step 3/3 :  66%|██████▌   | 3299/5000 [00:47<00:18, 91.28it/s]"
     ]
    },
    {
     "name": "stderr",
     "output_type": "stream",
     "text": [
      "\r",
      "Step 3/3 :  66%|██████▌   | 3299/5000 [00:47<00:18, 91.28it/s]"
     ]
    },
    {
     "name": "stderr",
     "output_type": "stream",
     "text": [
      "\r",
      "Step 3/3 :  66%|██████▌   | 3299/5000 [00:47<00:18, 91.28it/s]"
     ]
    },
    {
     "name": "stderr",
     "output_type": "stream",
     "text": [
      "\r",
      "Step 3/3 :  66%|██████▌   | 3299/5000 [00:47<00:18, 91.28it/s]"
     ]
    },
    {
     "name": "stderr",
     "output_type": "stream",
     "text": [
      "\r",
      "Step 3/3 :  66%|██████▌   | 3309/5000 [00:47<00:18, 92.93it/s]"
     ]
    },
    {
     "name": "stderr",
     "output_type": "stream",
     "text": [
      "\r",
      "Step 3/3 :  66%|██████▌   | 3309/5000 [00:47<00:18, 92.93it/s]"
     ]
    },
    {
     "name": "stderr",
     "output_type": "stream",
     "text": [
      "\r",
      "Step 3/3 :  66%|██████▌   | 3309/5000 [00:47<00:18, 92.93it/s]"
     ]
    },
    {
     "name": "stderr",
     "output_type": "stream",
     "text": [
      "\r",
      "Step 3/3 :  66%|██████▌   | 3309/5000 [00:47<00:18, 92.93it/s]"
     ]
    },
    {
     "name": "stderr",
     "output_type": "stream",
     "text": [
      "\r",
      "Step 3/3 :  66%|██████▌   | 3309/5000 [00:47<00:18, 92.93it/s]"
     ]
    },
    {
     "name": "stderr",
     "output_type": "stream",
     "text": [
      "\r",
      "Step 3/3 :  66%|██████▌   | 3309/5000 [00:47<00:18, 92.93it/s]"
     ]
    },
    {
     "name": "stderr",
     "output_type": "stream",
     "text": [
      "\r",
      "Step 3/3 :  66%|██████▌   | 3309/5000 [00:47<00:18, 92.93it/s]"
     ]
    },
    {
     "name": "stderr",
     "output_type": "stream",
     "text": [
      "\r",
      "Step 3/3 :  66%|██████▌   | 3309/5000 [00:47<00:18, 92.93it/s]"
     ]
    },
    {
     "name": "stderr",
     "output_type": "stream",
     "text": [
      "\r",
      "Step 3/3 :  66%|██████▌   | 3309/5000 [00:47<00:18, 92.93it/s]"
     ]
    },
    {
     "name": "stderr",
     "output_type": "stream",
     "text": [
      "\r",
      "Step 3/3 :  66%|██████▌   | 3309/5000 [00:47<00:18, 92.93it/s]"
     ]
    },
    {
     "name": "stderr",
     "output_type": "stream",
     "text": [
      "\r",
      "Step 3/3 :  66%|██████▌   | 3309/5000 [00:47<00:18, 92.93it/s]"
     ]
    },
    {
     "name": "stderr",
     "output_type": "stream",
     "text": [
      "\r",
      "Step 3/3 :  66%|██████▋   | 3319/5000 [00:47<00:18, 90.82it/s]"
     ]
    },
    {
     "name": "stderr",
     "output_type": "stream",
     "text": [
      "\r",
      "Step 3/3 :  66%|██████▋   | 3319/5000 [00:47<00:18, 90.82it/s]"
     ]
    },
    {
     "name": "stderr",
     "output_type": "stream",
     "text": [
      "\r",
      "Step 3/3 :  66%|██████▋   | 3319/5000 [00:47<00:18, 90.82it/s]"
     ]
    },
    {
     "name": "stderr",
     "output_type": "stream",
     "text": [
      "\r",
      "Step 3/3 :  66%|██████▋   | 3319/5000 [00:47<00:18, 90.82it/s]"
     ]
    },
    {
     "name": "stderr",
     "output_type": "stream",
     "text": [
      "\r",
      "Step 3/3 :  66%|██████▋   | 3319/5000 [00:47<00:18, 90.82it/s]"
     ]
    },
    {
     "name": "stderr",
     "output_type": "stream",
     "text": [
      "\r",
      "Step 3/3 :  66%|██████▋   | 3319/5000 [00:47<00:18, 90.82it/s]"
     ]
    },
    {
     "name": "stderr",
     "output_type": "stream",
     "text": [
      "\r",
      "Step 3/3 :  66%|██████▋   | 3319/5000 [00:47<00:18, 90.82it/s]"
     ]
    },
    {
     "name": "stderr",
     "output_type": "stream",
     "text": [
      "\r",
      "Step 3/3 :  66%|██████▋   | 3319/5000 [00:47<00:18, 90.82it/s]"
     ]
    },
    {
     "name": "stderr",
     "output_type": "stream",
     "text": [
      "\r",
      "Step 3/3 :  66%|██████▋   | 3319/5000 [00:47<00:18, 90.82it/s]"
     ]
    },
    {
     "name": "stderr",
     "output_type": "stream",
     "text": [
      "\r",
      "Step 3/3 :  66%|██████▋   | 3319/5000 [00:47<00:18, 90.82it/s]"
     ]
    },
    {
     "name": "stderr",
     "output_type": "stream",
     "text": [
      "\r",
      "Step 3/3 :  66%|██████▋   | 3319/5000 [00:47<00:18, 90.82it/s]"
     ]
    },
    {
     "name": "stderr",
     "output_type": "stream",
     "text": [
      "\r",
      "Step 3/3 :  67%|██████▋   | 3329/5000 [00:47<00:18, 92.46it/s]"
     ]
    },
    {
     "name": "stderr",
     "output_type": "stream",
     "text": [
      "\r",
      "Step 3/3 :  67%|██████▋   | 3329/5000 [00:47<00:18, 92.46it/s]"
     ]
    },
    {
     "name": "stderr",
     "output_type": "stream",
     "text": [
      "\r",
      "Step 3/3 :  67%|██████▋   | 3329/5000 [00:47<00:18, 92.46it/s]"
     ]
    },
    {
     "name": "stderr",
     "output_type": "stream",
     "text": [
      "\r",
      "Step 3/3 :  67%|██████▋   | 3329/5000 [00:47<00:18, 92.46it/s]"
     ]
    },
    {
     "name": "stderr",
     "output_type": "stream",
     "text": [
      "\r",
      "Step 3/3 :  67%|██████▋   | 3329/5000 [00:47<00:18, 92.46it/s]"
     ]
    },
    {
     "name": "stderr",
     "output_type": "stream",
     "text": [
      "\r",
      "Step 3/3 :  67%|██████▋   | 3329/5000 [00:47<00:18, 92.46it/s]"
     ]
    },
    {
     "name": "stderr",
     "output_type": "stream",
     "text": [
      "\r",
      "Step 3/3 :  67%|██████▋   | 3329/5000 [00:47<00:18, 92.46it/s]"
     ]
    },
    {
     "name": "stderr",
     "output_type": "stream",
     "text": [
      "\r",
      "Step 3/3 :  67%|██████▋   | 3329/5000 [00:47<00:18, 92.46it/s]"
     ]
    },
    {
     "name": "stderr",
     "output_type": "stream",
     "text": [
      "\r",
      "Step 3/3 :  67%|██████▋   | 3329/5000 [00:47<00:18, 92.46it/s]"
     ]
    },
    {
     "name": "stderr",
     "output_type": "stream",
     "text": [
      "\r",
      "Step 3/3 :  67%|██████▋   | 3329/5000 [00:47<00:18, 92.46it/s]"
     ]
    },
    {
     "name": "stderr",
     "output_type": "stream",
     "text": [
      "\r",
      "Step 3/3 :  67%|██████▋   | 3329/5000 [00:47<00:18, 92.46it/s]"
     ]
    },
    {
     "name": "stderr",
     "output_type": "stream",
     "text": [
      "\r",
      "Step 3/3 :  67%|██████▋   | 3339/5000 [00:47<00:18, 90.74it/s]"
     ]
    },
    {
     "name": "stderr",
     "output_type": "stream",
     "text": [
      "\r",
      "Step 3/3 :  67%|██████▋   | 3339/5000 [00:47<00:18, 90.74it/s]"
     ]
    },
    {
     "name": "stderr",
     "output_type": "stream",
     "text": [
      "\r",
      "Step 3/3 :  67%|██████▋   | 3339/5000 [00:47<00:18, 90.74it/s]"
     ]
    },
    {
     "name": "stderr",
     "output_type": "stream",
     "text": [
      "\r",
      "Step 3/3 :  67%|██████▋   | 3339/5000 [00:47<00:18, 90.74it/s]"
     ]
    },
    {
     "name": "stderr",
     "output_type": "stream",
     "text": [
      "\r",
      "Step 3/3 :  67%|██████▋   | 3339/5000 [00:47<00:18, 90.74it/s]"
     ]
    },
    {
     "name": "stderr",
     "output_type": "stream",
     "text": [
      "\r",
      "Step 3/3 :  67%|██████▋   | 3339/5000 [00:47<00:18, 90.74it/s]"
     ]
    },
    {
     "name": "stderr",
     "output_type": "stream",
     "text": [
      "\r",
      "Step 3/3 :  67%|██████▋   | 3339/5000 [00:47<00:18, 90.74it/s]"
     ]
    },
    {
     "name": "stderr",
     "output_type": "stream",
     "text": [
      "\r",
      "Step 3/3 :  67%|██████▋   | 3339/5000 [00:47<00:18, 90.74it/s]"
     ]
    },
    {
     "name": "stderr",
     "output_type": "stream",
     "text": [
      "\r",
      "Step 3/3 :  67%|██████▋   | 3339/5000 [00:47<00:18, 90.74it/s]"
     ]
    },
    {
     "name": "stderr",
     "output_type": "stream",
     "text": [
      "\r",
      "Step 3/3 :  67%|██████▋   | 3339/5000 [00:47<00:18, 90.74it/s]"
     ]
    },
    {
     "name": "stderr",
     "output_type": "stream",
     "text": [
      "\r",
      "Step 3/3 :  67%|██████▋   | 3339/5000 [00:47<00:18, 90.74it/s]"
     ]
    },
    {
     "name": "stderr",
     "output_type": "stream",
     "text": [
      "\r",
      "Step 3/3 :  67%|██████▋   | 3349/5000 [00:47<00:21, 76.60it/s]"
     ]
    },
    {
     "name": "stderr",
     "output_type": "stream",
     "text": [
      "\r",
      "Step 3/3 :  67%|██████▋   | 3349/5000 [00:47<00:21, 76.60it/s]"
     ]
    },
    {
     "name": "stderr",
     "output_type": "stream",
     "text": [
      "\r",
      "Step 3/3 :  67%|██████▋   | 3349/5000 [00:47<00:21, 76.60it/s]"
     ]
    },
    {
     "name": "stderr",
     "output_type": "stream",
     "text": [
      "\r",
      "Step 3/3 :  67%|██████▋   | 3349/5000 [00:47<00:21, 76.60it/s]"
     ]
    },
    {
     "name": "stderr",
     "output_type": "stream",
     "text": [
      "\r",
      "Step 3/3 :  67%|██████▋   | 3349/5000 [00:47<00:21, 76.60it/s]"
     ]
    },
    {
     "name": "stderr",
     "output_type": "stream",
     "text": [
      "\r",
      "Step 3/3 :  67%|██████▋   | 3349/5000 [00:47<00:21, 76.60it/s]"
     ]
    },
    {
     "name": "stderr",
     "output_type": "stream",
     "text": [
      "\r",
      "Step 3/3 :  67%|██████▋   | 3349/5000 [00:47<00:21, 76.60it/s]"
     ]
    },
    {
     "name": "stderr",
     "output_type": "stream",
     "text": [
      "\r",
      "Step 3/3 :  67%|██████▋   | 3349/5000 [00:47<00:21, 76.60it/s]"
     ]
    },
    {
     "name": "stderr",
     "output_type": "stream",
     "text": [
      "\r",
      "Step 3/3 :  67%|██████▋   | 3349/5000 [00:47<00:21, 76.60it/s]"
     ]
    },
    {
     "name": "stderr",
     "output_type": "stream",
     "text": [
      "\r",
      "Step 3/3 :  67%|██████▋   | 3349/5000 [00:47<00:21, 76.60it/s]"
     ]
    },
    {
     "name": "stderr",
     "output_type": "stream",
     "text": [
      "\r",
      "Step 3/3 :  67%|██████▋   | 3358/5000 [00:47<00:20, 78.36it/s]"
     ]
    },
    {
     "name": "stderr",
     "output_type": "stream",
     "text": [
      "\r",
      "Step 3/3 :  67%|██████▋   | 3358/5000 [00:47<00:20, 78.36it/s]"
     ]
    },
    {
     "name": "stderr",
     "output_type": "stream",
     "text": [
      "\r",
      "Step 3/3 :  67%|██████▋   | 3358/5000 [00:47<00:20, 78.36it/s]"
     ]
    },
    {
     "name": "stderr",
     "output_type": "stream",
     "text": [
      "\r",
      "Step 3/3 :  67%|██████▋   | 3358/5000 [00:47<00:20, 78.36it/s]"
     ]
    },
    {
     "name": "stderr",
     "output_type": "stream",
     "text": [
      "\r",
      "Step 3/3 :  67%|██████▋   | 3358/5000 [00:47<00:20, 78.36it/s]"
     ]
    },
    {
     "name": "stderr",
     "output_type": "stream",
     "text": [
      "\r",
      "Step 3/3 :  67%|██████▋   | 3358/5000 [00:47<00:20, 78.36it/s]"
     ]
    },
    {
     "name": "stderr",
     "output_type": "stream",
     "text": [
      "\r",
      "Step 3/3 :  67%|██████▋   | 3358/5000 [00:47<00:20, 78.36it/s]"
     ]
    },
    {
     "name": "stderr",
     "output_type": "stream",
     "text": [
      "\r",
      "Step 3/3 :  67%|██████▋   | 3358/5000 [00:47<00:20, 78.36it/s]"
     ]
    },
    {
     "name": "stderr",
     "output_type": "stream",
     "text": [
      "\r",
      "Step 3/3 :  67%|██████▋   | 3358/5000 [00:47<00:20, 78.36it/s]"
     ]
    },
    {
     "name": "stderr",
     "output_type": "stream",
     "text": [
      "\r",
      "Step 3/3 :  67%|██████▋   | 3358/5000 [00:47<00:20, 78.36it/s]"
     ]
    },
    {
     "name": "stderr",
     "output_type": "stream",
     "text": [
      "\r",
      "Step 3/3 :  67%|██████▋   | 3367/5000 [00:47<00:20, 80.32it/s]"
     ]
    },
    {
     "name": "stderr",
     "output_type": "stream",
     "text": [
      "\r",
      "Step 3/3 :  67%|██████▋   | 3367/5000 [00:47<00:20, 80.32it/s]"
     ]
    },
    {
     "name": "stderr",
     "output_type": "stream",
     "text": [
      "\r",
      "Step 3/3 :  67%|██████▋   | 3367/5000 [00:47<00:20, 80.32it/s]"
     ]
    },
    {
     "name": "stderr",
     "output_type": "stream",
     "text": [
      "\r",
      "Step 3/3 :  67%|██████▋   | 3367/5000 [00:47<00:20, 80.32it/s]"
     ]
    },
    {
     "name": "stderr",
     "output_type": "stream",
     "text": [
      "\r",
      "Step 3/3 :  67%|██████▋   | 3367/5000 [00:47<00:20, 80.32it/s]"
     ]
    },
    {
     "name": "stderr",
     "output_type": "stream",
     "text": [
      "\r",
      "Step 3/3 :  67%|██████▋   | 3367/5000 [00:47<00:20, 80.32it/s]"
     ]
    },
    {
     "name": "stderr",
     "output_type": "stream",
     "text": [
      "\r",
      "Step 3/3 :  67%|██████▋   | 3367/5000 [00:47<00:20, 80.32it/s]"
     ]
    },
    {
     "name": "stderr",
     "output_type": "stream",
     "text": [
      "\r",
      "Step 3/3 :  67%|██████▋   | 3367/5000 [00:47<00:20, 80.32it/s]"
     ]
    },
    {
     "name": "stderr",
     "output_type": "stream",
     "text": [
      "\r",
      "Step 3/3 :  67%|██████▋   | 3367/5000 [00:47<00:20, 80.32it/s]"
     ]
    },
    {
     "name": "stderr",
     "output_type": "stream",
     "text": [
      "\r",
      "Step 3/3 :  67%|██████▋   | 3367/5000 [00:47<00:20, 80.32it/s]"
     ]
    },
    {
     "name": "stderr",
     "output_type": "stream",
     "text": [
      "\r",
      "Step 3/3 :  68%|██████▊   | 3376/5000 [00:47<00:19, 82.68it/s]"
     ]
    },
    {
     "name": "stderr",
     "output_type": "stream",
     "text": [
      "\r",
      "Step 3/3 :  68%|██████▊   | 3376/5000 [00:47<00:19, 82.68it/s]"
     ]
    },
    {
     "name": "stderr",
     "output_type": "stream",
     "text": [
      "\r",
      "Step 3/3 :  68%|██████▊   | 3376/5000 [00:47<00:19, 82.68it/s]"
     ]
    },
    {
     "name": "stderr",
     "output_type": "stream",
     "text": [
      "\r",
      "Step 3/3 :  68%|██████▊   | 3376/5000 [00:47<00:19, 82.68it/s]"
     ]
    },
    {
     "name": "stderr",
     "output_type": "stream",
     "text": [
      "\r",
      "Step 3/3 :  68%|██████▊   | 3376/5000 [00:48<00:19, 82.68it/s]"
     ]
    },
    {
     "name": "stderr",
     "output_type": "stream",
     "text": [
      "\r",
      "Step 3/3 :  68%|██████▊   | 3376/5000 [00:48<00:19, 82.68it/s]"
     ]
    },
    {
     "name": "stderr",
     "output_type": "stream",
     "text": [
      "\r",
      "Step 3/3 :  68%|██████▊   | 3376/5000 [00:48<00:19, 82.68it/s]"
     ]
    },
    {
     "name": "stderr",
     "output_type": "stream",
     "text": [
      "\r",
      "Step 3/3 :  68%|██████▊   | 3376/5000 [00:48<00:19, 82.68it/s]"
     ]
    },
    {
     "name": "stderr",
     "output_type": "stream",
     "text": [
      "\r",
      "Step 3/3 :  68%|██████▊   | 3376/5000 [00:48<00:19, 82.68it/s]"
     ]
    },
    {
     "name": "stderr",
     "output_type": "stream",
     "text": [
      "\r",
      "Step 3/3 :  68%|██████▊   | 3376/5000 [00:48<00:19, 82.68it/s]"
     ]
    },
    {
     "name": "stderr",
     "output_type": "stream",
     "text": [
      "\r",
      "Step 3/3 :  68%|██████▊   | 3376/5000 [00:48<00:19, 82.68it/s]"
     ]
    },
    {
     "name": "stderr",
     "output_type": "stream",
     "text": [
      "\r",
      "Step 3/3 :  68%|██████▊   | 3386/5000 [00:48<00:18, 85.56it/s]"
     ]
    },
    {
     "name": "stderr",
     "output_type": "stream",
     "text": [
      "\r",
      "Step 3/3 :  68%|██████▊   | 3386/5000 [00:48<00:18, 85.56it/s]"
     ]
    },
    {
     "name": "stderr",
     "output_type": "stream",
     "text": [
      "\r",
      "Step 3/3 :  68%|██████▊   | 3386/5000 [00:48<00:18, 85.56it/s]"
     ]
    },
    {
     "name": "stderr",
     "output_type": "stream",
     "text": [
      "\r",
      "Step 3/3 :  68%|██████▊   | 3386/5000 [00:48<00:18, 85.56it/s]"
     ]
    },
    {
     "name": "stderr",
     "output_type": "stream",
     "text": [
      "\r",
      "Step 3/3 :  68%|██████▊   | 3386/5000 [00:48<00:18, 85.56it/s]"
     ]
    },
    {
     "name": "stderr",
     "output_type": "stream",
     "text": [
      "\r",
      "Step 3/3 :  68%|██████▊   | 3386/5000 [00:48<00:18, 85.56it/s]"
     ]
    },
    {
     "name": "stderr",
     "output_type": "stream",
     "text": [
      "\r",
      "Step 3/3 :  68%|██████▊   | 3386/5000 [00:48<00:18, 85.56it/s]"
     ]
    },
    {
     "name": "stderr",
     "output_type": "stream",
     "text": [
      "\r",
      "Step 3/3 :  68%|██████▊   | 3386/5000 [00:48<00:18, 85.56it/s]"
     ]
    },
    {
     "name": "stderr",
     "output_type": "stream",
     "text": [
      "\r",
      "Step 3/3 :  68%|██████▊   | 3386/5000 [00:48<00:18, 85.56it/s]"
     ]
    },
    {
     "name": "stderr",
     "output_type": "stream",
     "text": [
      "\r",
      "Step 3/3 :  68%|██████▊   | 3386/5000 [00:48<00:18, 85.56it/s]"
     ]
    },
    {
     "name": "stderr",
     "output_type": "stream",
     "text": [
      "\r",
      "Step 3/3 :  68%|██████▊   | 3386/5000 [00:48<00:18, 85.56it/s]"
     ]
    },
    {
     "name": "stderr",
     "output_type": "stream",
     "text": [
      "\r",
      "Step 3/3 :  68%|██████▊   | 3396/5000 [00:48<00:18, 88.59it/s]"
     ]
    },
    {
     "name": "stderr",
     "output_type": "stream",
     "text": [
      "\r",
      "Step 3/3 :  68%|██████▊   | 3396/5000 [00:48<00:18, 88.59it/s]"
     ]
    },
    {
     "name": "stderr",
     "output_type": "stream",
     "text": [
      "\r",
      "Step 3/3 :  68%|██████▊   | 3396/5000 [00:48<00:18, 88.59it/s]"
     ]
    },
    {
     "name": "stderr",
     "output_type": "stream",
     "text": [
      "\r",
      "Step 3/3 :  68%|██████▊   | 3396/5000 [00:48<00:18, 88.59it/s]"
     ]
    },
    {
     "name": "stderr",
     "output_type": "stream",
     "text": [
      "\r",
      "Step 3/3 :  68%|██████▊   | 3396/5000 [00:48<00:18, 88.59it/s]"
     ]
    },
    {
     "name": "stderr",
     "output_type": "stream",
     "text": [
      "\r",
      "Step 3/3 :  68%|██████▊   | 3396/5000 [00:48<00:18, 88.59it/s]"
     ]
    },
    {
     "name": "stderr",
     "output_type": "stream",
     "text": [
      "\r",
      "Step 3/3 :  68%|██████▊   | 3396/5000 [00:48<00:18, 88.59it/s]"
     ]
    },
    {
     "name": "stderr",
     "output_type": "stream",
     "text": [
      "\r",
      "Step 3/3 :  68%|██████▊   | 3396/5000 [00:48<00:18, 88.59it/s]"
     ]
    },
    {
     "name": "stderr",
     "output_type": "stream",
     "text": [
      "\r",
      "Step 3/3 :  68%|██████▊   | 3396/5000 [00:48<00:18, 88.59it/s]"
     ]
    },
    {
     "name": "stderr",
     "output_type": "stream",
     "text": [
      "\r",
      "Step 3/3 :  68%|██████▊   | 3396/5000 [00:48<00:18, 88.59it/s]"
     ]
    },
    {
     "name": "stderr",
     "output_type": "stream",
     "text": [
      "\r",
      "Step 3/3 :  68%|██████▊   | 3396/5000 [00:48<00:18, 88.59it/s]"
     ]
    },
    {
     "name": "stderr",
     "output_type": "stream",
     "text": [
      "\r",
      "Step 3/3 :  68%|██████▊   | 3406/5000 [00:48<00:17, 89.52it/s]"
     ]
    },
    {
     "name": "stderr",
     "output_type": "stream",
     "text": [
      "\r",
      "Step 3/3 :  68%|██████▊   | 3406/5000 [00:48<00:17, 89.52it/s]"
     ]
    },
    {
     "name": "stderr",
     "output_type": "stream",
     "text": [
      "\r",
      "Step 3/3 :  68%|██████▊   | 3406/5000 [00:48<00:17, 89.52it/s]"
     ]
    },
    {
     "name": "stderr",
     "output_type": "stream",
     "text": [
      "\r",
      "Step 3/3 :  68%|██████▊   | 3406/5000 [00:48<00:17, 89.52it/s]"
     ]
    },
    {
     "name": "stderr",
     "output_type": "stream",
     "text": [
      "\r",
      "Step 3/3 :  68%|██████▊   | 3406/5000 [00:48<00:17, 89.52it/s]"
     ]
    },
    {
     "name": "stderr",
     "output_type": "stream",
     "text": [
      "\r",
      "Step 3/3 :  68%|██████▊   | 3406/5000 [00:48<00:17, 89.52it/s]"
     ]
    },
    {
     "name": "stderr",
     "output_type": "stream",
     "text": [
      "\r",
      "Step 3/3 :  68%|██████▊   | 3406/5000 [00:48<00:17, 89.52it/s]"
     ]
    },
    {
     "name": "stderr",
     "output_type": "stream",
     "text": [
      "\r",
      "Step 3/3 :  68%|██████▊   | 3406/5000 [00:48<00:17, 89.52it/s]"
     ]
    },
    {
     "name": "stderr",
     "output_type": "stream",
     "text": [
      "\r",
      "Step 3/3 :  68%|██████▊   | 3406/5000 [00:48<00:17, 89.52it/s]"
     ]
    },
    {
     "name": "stderr",
     "output_type": "stream",
     "text": [
      "\r",
      "Step 3/3 :  68%|██████▊   | 3406/5000 [00:48<00:17, 89.52it/s]"
     ]
    },
    {
     "name": "stderr",
     "output_type": "stream",
     "text": [
      "\r",
      "Step 3/3 :  68%|██████▊   | 3406/5000 [00:48<00:17, 89.52it/s]"
     ]
    },
    {
     "name": "stderr",
     "output_type": "stream",
     "text": [
      "\r",
      "Step 3/3 :  68%|██████▊   | 3416/5000 [00:48<00:17, 91.71it/s]"
     ]
    },
    {
     "name": "stderr",
     "output_type": "stream",
     "text": [
      "\r",
      "Step 3/3 :  68%|██████▊   | 3416/5000 [00:48<00:17, 91.71it/s]"
     ]
    },
    {
     "name": "stderr",
     "output_type": "stream",
     "text": [
      "\r",
      "Step 3/3 :  68%|██████▊   | 3416/5000 [00:48<00:17, 91.71it/s]"
     ]
    },
    {
     "name": "stderr",
     "output_type": "stream",
     "text": [
      "\r",
      "Step 3/3 :  68%|██████▊   | 3416/5000 [00:48<00:17, 91.71it/s]"
     ]
    },
    {
     "name": "stderr",
     "output_type": "stream",
     "text": [
      "\r",
      "Step 3/3 :  68%|██████▊   | 3416/5000 [00:48<00:17, 91.71it/s]"
     ]
    },
    {
     "name": "stderr",
     "output_type": "stream",
     "text": [
      "\r",
      "Step 3/3 :  68%|██████▊   | 3416/5000 [00:48<00:17, 91.71it/s]"
     ]
    },
    {
     "name": "stderr",
     "output_type": "stream",
     "text": [
      "\r",
      "Step 3/3 :  68%|██████▊   | 3416/5000 [00:48<00:17, 91.71it/s]"
     ]
    },
    {
     "name": "stderr",
     "output_type": "stream",
     "text": [
      "\r",
      "Step 3/3 :  68%|██████▊   | 3416/5000 [00:48<00:17, 91.71it/s]"
     ]
    },
    {
     "name": "stderr",
     "output_type": "stream",
     "text": [
      "\r",
      "Step 3/3 :  68%|██████▊   | 3416/5000 [00:48<00:17, 91.71it/s]"
     ]
    },
    {
     "name": "stderr",
     "output_type": "stream",
     "text": [
      "\r",
      "Step 3/3 :  68%|██████▊   | 3416/5000 [00:48<00:17, 91.71it/s]"
     ]
    },
    {
     "name": "stderr",
     "output_type": "stream",
     "text": [
      "\r",
      "Step 3/3 :  68%|██████▊   | 3416/5000 [00:48<00:17, 91.71it/s]"
     ]
    },
    {
     "name": "stderr",
     "output_type": "stream",
     "text": [
      "\r",
      "Step 3/3 :  69%|██████▊   | 3426/5000 [00:48<00:17, 90.46it/s]"
     ]
    },
    {
     "name": "stderr",
     "output_type": "stream",
     "text": [
      "\r",
      "Step 3/3 :  69%|██████▊   | 3426/5000 [00:48<00:17, 90.46it/s]"
     ]
    },
    {
     "name": "stderr",
     "output_type": "stream",
     "text": [
      "\r",
      "Step 3/3 :  69%|██████▊   | 3426/5000 [00:48<00:17, 90.46it/s]"
     ]
    },
    {
     "name": "stderr",
     "output_type": "stream",
     "text": [
      "\r",
      "Step 3/3 :  69%|██████▊   | 3426/5000 [00:48<00:17, 90.46it/s]"
     ]
    },
    {
     "name": "stderr",
     "output_type": "stream",
     "text": [
      "\r",
      "Step 3/3 :  69%|██████▊   | 3426/5000 [00:48<00:17, 90.46it/s]"
     ]
    },
    {
     "name": "stderr",
     "output_type": "stream",
     "text": [
      "\r",
      "Step 3/3 :  69%|██████▊   | 3426/5000 [00:48<00:17, 90.46it/s]"
     ]
    },
    {
     "name": "stderr",
     "output_type": "stream",
     "text": [
      "\r",
      "Step 3/3 :  69%|██████▊   | 3426/5000 [00:48<00:17, 90.46it/s]"
     ]
    },
    {
     "name": "stderr",
     "output_type": "stream",
     "text": [
      "\r",
      "Step 3/3 :  69%|██████▊   | 3426/5000 [00:48<00:17, 90.46it/s]"
     ]
    },
    {
     "name": "stderr",
     "output_type": "stream",
     "text": [
      "\r",
      "Step 3/3 :  69%|██████▊   | 3426/5000 [00:48<00:17, 90.46it/s]"
     ]
    },
    {
     "name": "stderr",
     "output_type": "stream",
     "text": [
      "\r",
      "Step 3/3 :  69%|██████▊   | 3426/5000 [00:48<00:17, 90.46it/s]"
     ]
    },
    {
     "name": "stderr",
     "output_type": "stream",
     "text": [
      "\r",
      "Step 3/3 :  69%|██████▊   | 3426/5000 [00:48<00:17, 90.46it/s]"
     ]
    },
    {
     "name": "stderr",
     "output_type": "stream",
     "text": [
      "\r",
      "Step 3/3 :  69%|██████▊   | 3436/5000 [00:48<00:17, 89.61it/s]"
     ]
    },
    {
     "name": "stderr",
     "output_type": "stream",
     "text": [
      "\r",
      "Step 3/3 :  69%|██████▊   | 3436/5000 [00:48<00:17, 89.61it/s]"
     ]
    },
    {
     "name": "stderr",
     "output_type": "stream",
     "text": [
      "\r",
      "Step 3/3 :  69%|██████▊   | 3436/5000 [00:48<00:17, 89.61it/s]"
     ]
    },
    {
     "name": "stderr",
     "output_type": "stream",
     "text": [
      "\r",
      "Step 3/3 :  69%|██████▊   | 3436/5000 [00:48<00:17, 89.61it/s]"
     ]
    },
    {
     "name": "stderr",
     "output_type": "stream",
     "text": [
      "\r",
      "Step 3/3 :  69%|██████▊   | 3436/5000 [00:48<00:17, 89.61it/s]"
     ]
    },
    {
     "name": "stderr",
     "output_type": "stream",
     "text": [
      "\r",
      "Step 3/3 :  69%|██████▊   | 3436/5000 [00:48<00:17, 89.61it/s]"
     ]
    },
    {
     "name": "stderr",
     "output_type": "stream",
     "text": [
      "\r",
      "Step 3/3 :  69%|██████▊   | 3436/5000 [00:48<00:17, 89.61it/s]"
     ]
    },
    {
     "name": "stderr",
     "output_type": "stream",
     "text": [
      "\r",
      "Step 3/3 :  69%|██████▊   | 3436/5000 [00:48<00:17, 89.61it/s]"
     ]
    },
    {
     "name": "stderr",
     "output_type": "stream",
     "text": [
      "\r",
      "Step 3/3 :  69%|██████▊   | 3436/5000 [00:48<00:17, 89.61it/s]"
     ]
    },
    {
     "name": "stderr",
     "output_type": "stream",
     "text": [
      "\r",
      "Step 3/3 :  69%|██████▊   | 3436/5000 [00:48<00:17, 89.61it/s]"
     ]
    },
    {
     "name": "stderr",
     "output_type": "stream",
     "text": [
      "\r",
      "Step 3/3 :  69%|██████▊   | 3436/5000 [00:48<00:17, 89.61it/s]"
     ]
    },
    {
     "name": "stderr",
     "output_type": "stream",
     "text": [
      "\r",
      "Step 3/3 :  69%|██████▉   | 3446/5000 [00:48<00:17, 90.84it/s]"
     ]
    },
    {
     "name": "stderr",
     "output_type": "stream",
     "text": [
      "\r",
      "Step 3/3 :  69%|██████▉   | 3446/5000 [00:48<00:17, 90.84it/s]"
     ]
    },
    {
     "name": "stderr",
     "output_type": "stream",
     "text": [
      "\r",
      "Step 3/3 :  69%|██████▉   | 3446/5000 [00:48<00:17, 90.84it/s]"
     ]
    },
    {
     "name": "stderr",
     "output_type": "stream",
     "text": [
      "\r",
      "Step 3/3 :  69%|██████▉   | 3446/5000 [00:48<00:17, 90.84it/s]"
     ]
    },
    {
     "name": "stderr",
     "output_type": "stream",
     "text": [
      "\r",
      "Step 3/3 :  69%|██████▉   | 3446/5000 [00:48<00:17, 90.84it/s]"
     ]
    },
    {
     "name": "stderr",
     "output_type": "stream",
     "text": [
      "\r",
      "Step 3/3 :  69%|██████▉   | 3446/5000 [00:48<00:17, 90.84it/s]"
     ]
    },
    {
     "name": "stderr",
     "output_type": "stream",
     "text": [
      "\r",
      "Step 3/3 :  69%|██████▉   | 3446/5000 [00:48<00:17, 90.84it/s]"
     ]
    },
    {
     "name": "stderr",
     "output_type": "stream",
     "text": [
      "\r",
      "Step 3/3 :  69%|██████▉   | 3446/5000 [00:48<00:17, 90.84it/s]"
     ]
    },
    {
     "name": "stderr",
     "output_type": "stream",
     "text": [
      "\r",
      "Step 3/3 :  69%|██████▉   | 3446/5000 [00:48<00:17, 90.84it/s]"
     ]
    },
    {
     "name": "stderr",
     "output_type": "stream",
     "text": [
      "\r",
      "Step 3/3 :  69%|██████▉   | 3446/5000 [00:48<00:17, 90.84it/s]"
     ]
    },
    {
     "name": "stderr",
     "output_type": "stream",
     "text": [
      "\r",
      "Step 3/3 :  69%|██████▉   | 3446/5000 [00:48<00:17, 90.84it/s]"
     ]
    },
    {
     "name": "stderr",
     "output_type": "stream",
     "text": [
      "\r",
      "Step 3/3 :  69%|██████▉   | 3456/5000 [00:48<00:17, 87.51it/s]"
     ]
    },
    {
     "name": "stderr",
     "output_type": "stream",
     "text": [
      "\r",
      "Step 3/3 :  69%|██████▉   | 3456/5000 [00:48<00:17, 87.51it/s]"
     ]
    },
    {
     "name": "stderr",
     "output_type": "stream",
     "text": [
      "\r",
      "Step 3/3 :  69%|██████▉   | 3456/5000 [00:48<00:17, 87.51it/s]"
     ]
    },
    {
     "name": "stderr",
     "output_type": "stream",
     "text": [
      "\r",
      "Step 3/3 :  69%|██████▉   | 3456/5000 [00:48<00:17, 87.51it/s]"
     ]
    },
    {
     "name": "stderr",
     "output_type": "stream",
     "text": [
      "\r",
      "Step 3/3 :  69%|██████▉   | 3456/5000 [00:48<00:17, 87.51it/s]"
     ]
    },
    {
     "name": "stderr",
     "output_type": "stream",
     "text": [
      "\r",
      "Step 3/3 :  69%|██████▉   | 3456/5000 [00:48<00:17, 87.51it/s]"
     ]
    },
    {
     "name": "stderr",
     "output_type": "stream",
     "text": [
      "\r",
      "Step 3/3 :  69%|██████▉   | 3456/5000 [00:48<00:17, 87.51it/s]"
     ]
    },
    {
     "name": "stderr",
     "output_type": "stream",
     "text": [
      "\r",
      "Step 3/3 :  69%|██████▉   | 3456/5000 [00:48<00:17, 87.51it/s]"
     ]
    },
    {
     "name": "stderr",
     "output_type": "stream",
     "text": [
      "\r",
      "Step 3/3 :  69%|██████▉   | 3456/5000 [00:48<00:17, 87.51it/s]"
     ]
    },
    {
     "name": "stderr",
     "output_type": "stream",
     "text": [
      "\r",
      "Step 3/3 :  69%|██████▉   | 3456/5000 [00:48<00:17, 87.51it/s]"
     ]
    },
    {
     "name": "stderr",
     "output_type": "stream",
     "text": [
      "\r",
      "Step 3/3 :  69%|██████▉   | 3465/5000 [00:48<00:18, 84.27it/s]"
     ]
    },
    {
     "name": "stderr",
     "output_type": "stream",
     "text": [
      "\r",
      "Step 3/3 :  69%|██████▉   | 3465/5000 [00:48<00:18, 84.27it/s]"
     ]
    },
    {
     "name": "stderr",
     "output_type": "stream",
     "text": [
      "\r",
      "Step 3/3 :  69%|██████▉   | 3465/5000 [00:48<00:18, 84.27it/s]"
     ]
    },
    {
     "name": "stderr",
     "output_type": "stream",
     "text": [
      "\r",
      "Step 3/3 :  69%|██████▉   | 3465/5000 [00:49<00:18, 84.27it/s]"
     ]
    },
    {
     "name": "stderr",
     "output_type": "stream",
     "text": [
      "\r",
      "Step 3/3 :  69%|██████▉   | 3465/5000 [00:49<00:18, 84.27it/s]"
     ]
    },
    {
     "name": "stderr",
     "output_type": "stream",
     "text": [
      "\r",
      "Step 3/3 :  69%|██████▉   | 3465/5000 [00:49<00:18, 84.27it/s]"
     ]
    },
    {
     "name": "stderr",
     "output_type": "stream",
     "text": [
      "\r",
      "Step 3/3 :  69%|██████▉   | 3465/5000 [00:49<00:18, 84.27it/s]"
     ]
    },
    {
     "name": "stderr",
     "output_type": "stream",
     "text": [
      "\r",
      "Step 3/3 :  69%|██████▉   | 3465/5000 [00:49<00:18, 84.27it/s]"
     ]
    },
    {
     "name": "stderr",
     "output_type": "stream",
     "text": [
      "\r",
      "Step 3/3 :  69%|██████▉   | 3465/5000 [00:49<00:18, 84.27it/s]"
     ]
    },
    {
     "name": "stderr",
     "output_type": "stream",
     "text": [
      "\r",
      "Step 3/3 :  69%|██████▉   | 3465/5000 [00:49<00:18, 84.27it/s]"
     ]
    },
    {
     "name": "stderr",
     "output_type": "stream",
     "text": [
      "\r",
      "Step 3/3 :  69%|██████▉   | 3474/5000 [00:49<00:19, 79.56it/s]"
     ]
    },
    {
     "name": "stderr",
     "output_type": "stream",
     "text": [
      "\r",
      "Step 3/3 :  69%|██████▉   | 3474/5000 [00:49<00:19, 79.56it/s]"
     ]
    },
    {
     "name": "stderr",
     "output_type": "stream",
     "text": [
      "\r",
      "Step 3/3 :  69%|██████▉   | 3474/5000 [00:49<00:19, 79.56it/s]"
     ]
    },
    {
     "name": "stderr",
     "output_type": "stream",
     "text": [
      "\r",
      "Step 3/3 :  69%|██████▉   | 3474/5000 [00:49<00:19, 79.56it/s]"
     ]
    },
    {
     "name": "stderr",
     "output_type": "stream",
     "text": [
      "\r",
      "Step 3/3 :  69%|██████▉   | 3474/5000 [00:49<00:19, 79.56it/s]"
     ]
    },
    {
     "name": "stderr",
     "output_type": "stream",
     "text": [
      "\r",
      "Step 3/3 :  69%|██████▉   | 3474/5000 [00:49<00:19, 79.56it/s]"
     ]
    },
    {
     "name": "stderr",
     "output_type": "stream",
     "text": [
      "\r",
      "Step 3/3 :  69%|██████▉   | 3474/5000 [00:49<00:19, 79.56it/s]"
     ]
    },
    {
     "name": "stderr",
     "output_type": "stream",
     "text": [
      "\r",
      "Step 3/3 :  69%|██████▉   | 3474/5000 [00:49<00:19, 79.56it/s]"
     ]
    },
    {
     "name": "stderr",
     "output_type": "stream",
     "text": [
      "\r",
      "Step 3/3 :  69%|██████▉   | 3474/5000 [00:49<00:19, 79.56it/s]"
     ]
    },
    {
     "name": "stderr",
     "output_type": "stream",
     "text": [
      "\r",
      "Step 3/3 :  69%|██████▉   | 3474/5000 [00:49<00:19, 79.56it/s]"
     ]
    },
    {
     "name": "stderr",
     "output_type": "stream",
     "text": [
      "\r",
      "Step 3/3 :  70%|██████▉   | 3483/5000 [00:49<00:20, 75.34it/s]"
     ]
    },
    {
     "name": "stderr",
     "output_type": "stream",
     "text": [
      "\r",
      "Step 3/3 :  70%|██████▉   | 3483/5000 [00:49<00:20, 75.34it/s]"
     ]
    },
    {
     "name": "stderr",
     "output_type": "stream",
     "text": [
      "\r",
      "Step 3/3 :  70%|██████▉   | 3483/5000 [00:49<00:20, 75.34it/s]"
     ]
    },
    {
     "name": "stderr",
     "output_type": "stream",
     "text": [
      "\r",
      "Step 3/3 :  70%|██████▉   | 3483/5000 [00:49<00:20, 75.34it/s]"
     ]
    },
    {
     "name": "stderr",
     "output_type": "stream",
     "text": [
      "\r",
      "Step 3/3 :  70%|██████▉   | 3483/5000 [00:49<00:20, 75.34it/s]"
     ]
    },
    {
     "name": "stderr",
     "output_type": "stream",
     "text": [
      "\r",
      "Step 3/3 :  70%|██████▉   | 3483/5000 [00:49<00:20, 75.34it/s]"
     ]
    },
    {
     "name": "stderr",
     "output_type": "stream",
     "text": [
      "\r",
      "Step 3/3 :  70%|██████▉   | 3483/5000 [00:49<00:20, 75.34it/s]"
     ]
    },
    {
     "name": "stderr",
     "output_type": "stream",
     "text": [
      "\r",
      "Step 3/3 :  70%|██████▉   | 3483/5000 [00:49<00:20, 75.34it/s]"
     ]
    },
    {
     "name": "stderr",
     "output_type": "stream",
     "text": [
      "\r",
      "Step 3/3 :  70%|██████▉   | 3483/5000 [00:49<00:20, 75.34it/s]"
     ]
    },
    {
     "name": "stderr",
     "output_type": "stream",
     "text": [
      "\r",
      "Step 3/3 :  70%|██████▉   | 3483/5000 [00:49<00:20, 75.34it/s]"
     ]
    },
    {
     "name": "stderr",
     "output_type": "stream",
     "text": [
      "\r",
      "Step 3/3 :  70%|██████▉   | 3492/5000 [00:49<00:19, 77.71it/s]"
     ]
    },
    {
     "name": "stderr",
     "output_type": "stream",
     "text": [
      "\r",
      "Step 3/3 :  70%|██████▉   | 3492/5000 [00:49<00:19, 77.71it/s]"
     ]
    },
    {
     "name": "stderr",
     "output_type": "stream",
     "text": [
      "\r",
      "Step 3/3 :  70%|██████▉   | 3492/5000 [00:49<00:19, 77.71it/s]"
     ]
    },
    {
     "name": "stderr",
     "output_type": "stream",
     "text": [
      "\r",
      "Step 3/3 :  70%|██████▉   | 3492/5000 [00:49<00:19, 77.71it/s]"
     ]
    },
    {
     "name": "stderr",
     "output_type": "stream",
     "text": [
      "\r",
      "Step 3/3 :  70%|██████▉   | 3492/5000 [00:49<00:19, 77.71it/s]"
     ]
    },
    {
     "name": "stderr",
     "output_type": "stream",
     "text": [
      "\r",
      "Step 3/3 :  70%|██████▉   | 3492/5000 [00:49<00:19, 77.71it/s]"
     ]
    },
    {
     "name": "stderr",
     "output_type": "stream",
     "text": [
      "\r",
      "Step 3/3 :  70%|██████▉   | 3492/5000 [00:49<00:19, 77.71it/s]"
     ]
    },
    {
     "name": "stderr",
     "output_type": "stream",
     "text": [
      "\r",
      "Step 3/3 :  70%|██████▉   | 3492/5000 [00:49<00:19, 77.71it/s]"
     ]
    },
    {
     "name": "stderr",
     "output_type": "stream",
     "text": [
      "\r",
      "Step 3/3 :  70%|██████▉   | 3492/5000 [00:49<00:19, 77.71it/s]"
     ]
    },
    {
     "name": "stderr",
     "output_type": "stream",
     "text": [
      "\r",
      "Step 3/3 :  70%|██████▉   | 3492/5000 [00:49<00:19, 77.71it/s]"
     ]
    },
    {
     "name": "stderr",
     "output_type": "stream",
     "text": [
      "\r",
      "Step 3/3 :  70%|██████▉   | 3492/5000 [00:49<00:19, 77.71it/s]"
     ]
    },
    {
     "name": "stderr",
     "output_type": "stream",
     "text": [
      "\r",
      "Step 3/3 :  70%|███████   | 3502/5000 [00:49<00:18, 81.89it/s]"
     ]
    },
    {
     "name": "stderr",
     "output_type": "stream",
     "text": [
      "\r",
      "Step 3/3 :  70%|███████   | 3502/5000 [00:49<00:18, 81.89it/s]"
     ]
    },
    {
     "name": "stderr",
     "output_type": "stream",
     "text": [
      "\r",
      "Step 3/3 :  70%|███████   | 3502/5000 [00:49<00:18, 81.89it/s]"
     ]
    },
    {
     "name": "stderr",
     "output_type": "stream",
     "text": [
      "\r",
      "Step 3/3 :  70%|███████   | 3502/5000 [00:49<00:18, 81.89it/s]"
     ]
    },
    {
     "name": "stderr",
     "output_type": "stream",
     "text": [
      "\r",
      "Step 3/3 :  70%|███████   | 3502/5000 [00:49<00:18, 81.89it/s]"
     ]
    },
    {
     "name": "stderr",
     "output_type": "stream",
     "text": [
      "\r",
      "Step 3/3 :  70%|███████   | 3502/5000 [00:49<00:18, 81.89it/s]"
     ]
    },
    {
     "name": "stderr",
     "output_type": "stream",
     "text": [
      "\r",
      "Step 3/3 :  70%|███████   | 3502/5000 [00:49<00:18, 81.89it/s]"
     ]
    },
    {
     "name": "stderr",
     "output_type": "stream",
     "text": [
      "\r",
      "Step 3/3 :  70%|███████   | 3502/5000 [00:49<00:18, 81.89it/s]"
     ]
    },
    {
     "name": "stderr",
     "output_type": "stream",
     "text": [
      "\r",
      "Step 3/3 :  70%|███████   | 3502/5000 [00:49<00:18, 81.89it/s]"
     ]
    },
    {
     "name": "stderr",
     "output_type": "stream",
     "text": [
      "\r",
      "Step 3/3 :  70%|███████   | 3502/5000 [00:49<00:18, 81.89it/s]"
     ]
    },
    {
     "name": "stderr",
     "output_type": "stream",
     "text": [
      "\r",
      "Step 3/3 :  70%|███████   | 3511/5000 [00:49<00:18, 81.44it/s]"
     ]
    },
    {
     "name": "stderr",
     "output_type": "stream",
     "text": [
      "\r",
      "Step 3/3 :  70%|███████   | 3511/5000 [00:49<00:18, 81.44it/s]"
     ]
    },
    {
     "name": "stderr",
     "output_type": "stream",
     "text": [
      "\r",
      "Step 3/3 :  70%|███████   | 3511/5000 [00:49<00:18, 81.44it/s]"
     ]
    },
    {
     "name": "stderr",
     "output_type": "stream",
     "text": [
      "\r",
      "Step 3/3 :  70%|███████   | 3511/5000 [00:49<00:18, 81.44it/s]"
     ]
    },
    {
     "name": "stderr",
     "output_type": "stream",
     "text": [
      "\r",
      "Step 3/3 :  70%|███████   | 3511/5000 [00:49<00:18, 81.44it/s]"
     ]
    },
    {
     "name": "stderr",
     "output_type": "stream",
     "text": [
      "\r",
      "Step 3/3 :  70%|███████   | 3511/5000 [00:49<00:18, 81.44it/s]"
     ]
    },
    {
     "name": "stderr",
     "output_type": "stream",
     "text": [
      "\r",
      "Step 3/3 :  70%|███████   | 3511/5000 [00:49<00:18, 81.44it/s]"
     ]
    },
    {
     "name": "stderr",
     "output_type": "stream",
     "text": [
      "\r",
      "Step 3/3 :  70%|███████   | 3511/5000 [00:49<00:18, 81.44it/s]"
     ]
    },
    {
     "name": "stderr",
     "output_type": "stream",
     "text": [
      "\r",
      "Step 3/3 :  70%|███████   | 3511/5000 [00:49<00:18, 81.44it/s]"
     ]
    },
    {
     "name": "stderr",
     "output_type": "stream",
     "text": [
      "\r",
      "Step 3/3 :  70%|███████   | 3511/5000 [00:49<00:18, 81.44it/s]"
     ]
    },
    {
     "name": "stderr",
     "output_type": "stream",
     "text": [
      "\r",
      "Step 3/3 :  70%|███████   | 3520/5000 [00:49<00:17, 83.09it/s]"
     ]
    },
    {
     "name": "stderr",
     "output_type": "stream",
     "text": [
      "\r",
      "Step 3/3 :  70%|███████   | 3520/5000 [00:49<00:17, 83.09it/s]"
     ]
    },
    {
     "name": "stderr",
     "output_type": "stream",
     "text": [
      "\r",
      "Step 3/3 :  70%|███████   | 3520/5000 [00:49<00:17, 83.09it/s]"
     ]
    },
    {
     "name": "stderr",
     "output_type": "stream",
     "text": [
      "\r",
      "Step 3/3 :  70%|███████   | 3520/5000 [00:49<00:17, 83.09it/s]"
     ]
    },
    {
     "name": "stderr",
     "output_type": "stream",
     "text": [
      "\r",
      "Step 3/3 :  70%|███████   | 3520/5000 [00:49<00:17, 83.09it/s]"
     ]
    },
    {
     "name": "stderr",
     "output_type": "stream",
     "text": [
      "\r",
      "Step 3/3 :  70%|███████   | 3520/5000 [00:49<00:17, 83.09it/s]"
     ]
    },
    {
     "name": "stderr",
     "output_type": "stream",
     "text": [
      "\r",
      "Step 3/3 :  70%|███████   | 3520/5000 [00:49<00:17, 83.09it/s]"
     ]
    },
    {
     "name": "stderr",
     "output_type": "stream",
     "text": [
      "\r",
      "Step 3/3 :  70%|███████   | 3520/5000 [00:49<00:17, 83.09it/s]"
     ]
    },
    {
     "name": "stderr",
     "output_type": "stream",
     "text": [
      "\r",
      "Step 3/3 :  70%|███████   | 3520/5000 [00:49<00:17, 83.09it/s]"
     ]
    },
    {
     "name": "stderr",
     "output_type": "stream",
     "text": [
      "\r",
      "Step 3/3 :  70%|███████   | 3520/5000 [00:49<00:17, 83.09it/s]"
     ]
    },
    {
     "name": "stderr",
     "output_type": "stream",
     "text": [
      "\r",
      "Step 3/3 :  71%|███████   | 3529/5000 [00:49<00:17, 82.71it/s]"
     ]
    },
    {
     "name": "stderr",
     "output_type": "stream",
     "text": [
      "\r",
      "Step 3/3 :  71%|███████   | 3529/5000 [00:49<00:17, 82.71it/s]"
     ]
    },
    {
     "name": "stderr",
     "output_type": "stream",
     "text": [
      "\r",
      "Step 3/3 :  71%|███████   | 3529/5000 [00:49<00:17, 82.71it/s]"
     ]
    },
    {
     "name": "stderr",
     "output_type": "stream",
     "text": [
      "\r",
      "Step 3/3 :  71%|███████   | 3529/5000 [00:49<00:17, 82.71it/s]"
     ]
    },
    {
     "name": "stderr",
     "output_type": "stream",
     "text": [
      "\r",
      "Step 3/3 :  71%|███████   | 3529/5000 [00:49<00:17, 82.71it/s]"
     ]
    },
    {
     "name": "stderr",
     "output_type": "stream",
     "text": [
      "\r",
      "Step 3/3 :  71%|███████   | 3529/5000 [00:49<00:17, 82.71it/s]"
     ]
    },
    {
     "name": "stderr",
     "output_type": "stream",
     "text": [
      "\r",
      "Step 3/3 :  71%|███████   | 3529/5000 [00:49<00:17, 82.71it/s]"
     ]
    },
    {
     "name": "stderr",
     "output_type": "stream",
     "text": [
      "\r",
      "Step 3/3 :  71%|███████   | 3529/5000 [00:49<00:17, 82.71it/s]"
     ]
    },
    {
     "name": "stderr",
     "output_type": "stream",
     "text": [
      "\r",
      "Step 3/3 :  71%|███████   | 3529/5000 [00:49<00:17, 82.71it/s]"
     ]
    },
    {
     "name": "stderr",
     "output_type": "stream",
     "text": [
      "\r",
      "Step 3/3 :  71%|███████   | 3529/5000 [00:49<00:17, 82.71it/s]"
     ]
    },
    {
     "name": "stderr",
     "output_type": "stream",
     "text": [
      "\r",
      "Step 3/3 :  71%|███████   | 3538/5000 [00:49<00:17, 82.00it/s]"
     ]
    },
    {
     "name": "stderr",
     "output_type": "stream",
     "text": [
      "\r",
      "Step 3/3 :  71%|███████   | 3538/5000 [00:49<00:17, 82.00it/s]"
     ]
    },
    {
     "name": "stderr",
     "output_type": "stream",
     "text": [
      "\r",
      "Step 3/3 :  71%|███████   | 3538/5000 [00:49<00:17, 82.00it/s]"
     ]
    },
    {
     "name": "stderr",
     "output_type": "stream",
     "text": [
      "\r",
      "Step 3/3 :  71%|███████   | 3538/5000 [00:49<00:17, 82.00it/s]"
     ]
    },
    {
     "name": "stderr",
     "output_type": "stream",
     "text": [
      "\r",
      "Step 3/3 :  71%|███████   | 3538/5000 [00:49<00:17, 82.00it/s]"
     ]
    },
    {
     "name": "stderr",
     "output_type": "stream",
     "text": [
      "\r",
      "Step 3/3 :  71%|███████   | 3538/5000 [00:49<00:17, 82.00it/s]"
     ]
    },
    {
     "name": "stderr",
     "output_type": "stream",
     "text": [
      "\r",
      "Step 3/3 :  71%|███████   | 3538/5000 [00:49<00:17, 82.00it/s]"
     ]
    },
    {
     "name": "stderr",
     "output_type": "stream",
     "text": [
      "\r",
      "Step 3/3 :  71%|███████   | 3538/5000 [00:49<00:17, 82.00it/s]"
     ]
    },
    {
     "name": "stderr",
     "output_type": "stream",
     "text": [
      "\r",
      "Step 3/3 :  71%|███████   | 3538/5000 [00:49<00:17, 82.00it/s]"
     ]
    },
    {
     "name": "stderr",
     "output_type": "stream",
     "text": [
      "\r",
      "Step 3/3 :  71%|███████   | 3538/5000 [00:49<00:17, 82.00it/s]"
     ]
    },
    {
     "name": "stderr",
     "output_type": "stream",
     "text": [
      "\r",
      "Step 3/3 :  71%|███████   | 3538/5000 [00:49<00:17, 82.00it/s]"
     ]
    },
    {
     "name": "stderr",
     "output_type": "stream",
     "text": [
      "\r",
      "Step 3/3 :  71%|███████   | 3548/5000 [00:49<00:17, 84.85it/s]"
     ]
    },
    {
     "name": "stderr",
     "output_type": "stream",
     "text": [
      "\r",
      "Step 3/3 :  71%|███████   | 3548/5000 [00:49<00:17, 84.85it/s]"
     ]
    },
    {
     "name": "stderr",
     "output_type": "stream",
     "text": [
      "\r",
      "Step 3/3 :  71%|███████   | 3548/5000 [00:50<00:17, 84.85it/s]"
     ]
    },
    {
     "name": "stderr",
     "output_type": "stream",
     "text": [
      "\r",
      "Step 3/3 :  71%|███████   | 3548/5000 [00:50<00:17, 84.85it/s]"
     ]
    },
    {
     "name": "stderr",
     "output_type": "stream",
     "text": [
      "\r",
      "Step 3/3 :  71%|███████   | 3548/5000 [00:50<00:17, 84.85it/s]"
     ]
    },
    {
     "name": "stderr",
     "output_type": "stream",
     "text": [
      "\r",
      "Step 3/3 :  71%|███████   | 3548/5000 [00:50<00:17, 84.85it/s]"
     ]
    },
    {
     "name": "stderr",
     "output_type": "stream",
     "text": [
      "\r",
      "Step 3/3 :  71%|███████   | 3548/5000 [00:50<00:17, 84.85it/s]"
     ]
    },
    {
     "name": "stderr",
     "output_type": "stream",
     "text": [
      "\r",
      "Step 3/3 :  71%|███████   | 3548/5000 [00:50<00:17, 84.85it/s]"
     ]
    },
    {
     "name": "stderr",
     "output_type": "stream",
     "text": [
      "\r",
      "Step 3/3 :  71%|███████   | 3548/5000 [00:50<00:17, 84.85it/s]"
     ]
    },
    {
     "name": "stderr",
     "output_type": "stream",
     "text": [
      "\r",
      "Step 3/3 :  71%|███████   | 3548/5000 [00:50<00:17, 84.85it/s]"
     ]
    },
    {
     "name": "stderr",
     "output_type": "stream",
     "text": [
      "\r",
      "Step 3/3 :  71%|███████   | 3548/5000 [00:50<00:17, 84.85it/s]"
     ]
    },
    {
     "name": "stderr",
     "output_type": "stream",
     "text": [
      "\r",
      "Step 3/3 :  71%|███████   | 3558/5000 [00:50<00:16, 86.44it/s]"
     ]
    },
    {
     "name": "stderr",
     "output_type": "stream",
     "text": [
      "\r",
      "Step 3/3 :  71%|███████   | 3558/5000 [00:50<00:16, 86.44it/s]"
     ]
    },
    {
     "name": "stderr",
     "output_type": "stream",
     "text": [
      "\r",
      "Step 3/3 :  71%|███████   | 3558/5000 [00:50<00:16, 86.44it/s]"
     ]
    },
    {
     "name": "stderr",
     "output_type": "stream",
     "text": [
      "\r",
      "Step 3/3 :  71%|███████   | 3558/5000 [00:50<00:16, 86.44it/s]"
     ]
    },
    {
     "name": "stderr",
     "output_type": "stream",
     "text": [
      "\r",
      "Step 3/3 :  71%|███████   | 3558/5000 [00:50<00:16, 86.44it/s]"
     ]
    },
    {
     "name": "stderr",
     "output_type": "stream",
     "text": [
      "\r",
      "Step 3/3 :  71%|███████   | 3558/5000 [00:50<00:16, 86.44it/s]"
     ]
    },
    {
     "name": "stderr",
     "output_type": "stream",
     "text": [
      "\r",
      "Step 3/3 :  71%|███████   | 3558/5000 [00:50<00:16, 86.44it/s]"
     ]
    },
    {
     "name": "stderr",
     "output_type": "stream",
     "text": [
      "\r",
      "Step 3/3 :  71%|███████   | 3558/5000 [00:50<00:16, 86.44it/s]"
     ]
    },
    {
     "name": "stderr",
     "output_type": "stream",
     "text": [
      "\r",
      "Step 3/3 :  71%|███████   | 3558/5000 [00:50<00:16, 86.44it/s]"
     ]
    },
    {
     "name": "stderr",
     "output_type": "stream",
     "text": [
      "\r",
      "Step 3/3 :  71%|███████   | 3558/5000 [00:50<00:16, 86.44it/s]"
     ]
    },
    {
     "name": "stderr",
     "output_type": "stream",
     "text": [
      "\r",
      "Step 3/3 :  71%|███████▏  | 3567/5000 [00:50<00:16, 85.76it/s]"
     ]
    },
    {
     "name": "stderr",
     "output_type": "stream",
     "text": [
      "\r",
      "Step 3/3 :  71%|███████▏  | 3567/5000 [00:50<00:16, 85.76it/s]"
     ]
    },
    {
     "name": "stderr",
     "output_type": "stream",
     "text": [
      "\r",
      "Step 3/3 :  71%|███████▏  | 3567/5000 [00:50<00:16, 85.76it/s]"
     ]
    },
    {
     "name": "stderr",
     "output_type": "stream",
     "text": [
      "\r",
      "Step 3/3 :  71%|███████▏  | 3567/5000 [00:50<00:16, 85.76it/s]"
     ]
    },
    {
     "name": "stderr",
     "output_type": "stream",
     "text": [
      "\r",
      "Step 3/3 :  71%|███████▏  | 3567/5000 [00:50<00:16, 85.76it/s]"
     ]
    },
    {
     "name": "stderr",
     "output_type": "stream",
     "text": [
      "\r",
      "Step 3/3 :  71%|███████▏  | 3567/5000 [00:50<00:16, 85.76it/s]"
     ]
    },
    {
     "name": "stderr",
     "output_type": "stream",
     "text": [
      "\r",
      "Step 3/3 :  71%|███████▏  | 3567/5000 [00:50<00:16, 85.76it/s]"
     ]
    },
    {
     "name": "stderr",
     "output_type": "stream",
     "text": [
      "\r",
      "Step 3/3 :  71%|███████▏  | 3567/5000 [00:50<00:16, 85.76it/s]"
     ]
    },
    {
     "name": "stderr",
     "output_type": "stream",
     "text": [
      "\r",
      "Step 3/3 :  71%|███████▏  | 3567/5000 [00:50<00:16, 85.76it/s]"
     ]
    },
    {
     "name": "stderr",
     "output_type": "stream",
     "text": [
      "\r",
      "Step 3/3 :  71%|███████▏  | 3567/5000 [00:50<00:16, 85.76it/s]"
     ]
    },
    {
     "name": "stderr",
     "output_type": "stream",
     "text": [
      "\r",
      "Step 3/3 :  72%|███████▏  | 3576/5000 [00:50<00:16, 86.95it/s]"
     ]
    },
    {
     "name": "stderr",
     "output_type": "stream",
     "text": [
      "\r",
      "Step 3/3 :  72%|███████▏  | 3576/5000 [00:50<00:16, 86.95it/s]"
     ]
    },
    {
     "name": "stderr",
     "output_type": "stream",
     "text": [
      "\r",
      "Step 3/3 :  72%|███████▏  | 3576/5000 [00:50<00:16, 86.95it/s]"
     ]
    },
    {
     "name": "stderr",
     "output_type": "stream",
     "text": [
      "\r",
      "Step 3/3 :  72%|███████▏  | 3576/5000 [00:50<00:16, 86.95it/s]"
     ]
    },
    {
     "name": "stderr",
     "output_type": "stream",
     "text": [
      "\r",
      "Step 3/3 :  72%|███████▏  | 3576/5000 [00:50<00:16, 86.95it/s]"
     ]
    },
    {
     "name": "stderr",
     "output_type": "stream",
     "text": [
      "\r",
      "Step 3/3 :  72%|███████▏  | 3576/5000 [00:50<00:16, 86.95it/s]"
     ]
    },
    {
     "name": "stderr",
     "output_type": "stream",
     "text": [
      "\r",
      "Step 3/3 :  72%|███████▏  | 3576/5000 [00:50<00:16, 86.95it/s]"
     ]
    },
    {
     "name": "stderr",
     "output_type": "stream",
     "text": [
      "\r",
      "Step 3/3 :  72%|███████▏  | 3576/5000 [00:50<00:16, 86.95it/s]"
     ]
    },
    {
     "name": "stderr",
     "output_type": "stream",
     "text": [
      "\r",
      "Step 3/3 :  72%|███████▏  | 3576/5000 [00:50<00:16, 86.95it/s]"
     ]
    },
    {
     "name": "stderr",
     "output_type": "stream",
     "text": [
      "\r",
      "Step 3/3 :  72%|███████▏  | 3576/5000 [00:50<00:16, 86.95it/s]"
     ]
    },
    {
     "name": "stderr",
     "output_type": "stream",
     "text": [
      "\r",
      "Step 3/3 :  72%|███████▏  | 3585/5000 [00:50<00:16, 86.57it/s]"
     ]
    },
    {
     "name": "stderr",
     "output_type": "stream",
     "text": [
      "\r",
      "Step 3/3 :  72%|███████▏  | 3585/5000 [00:50<00:16, 86.57it/s]"
     ]
    },
    {
     "name": "stderr",
     "output_type": "stream",
     "text": [
      "\r",
      "Step 3/3 :  72%|███████▏  | 3585/5000 [00:50<00:16, 86.57it/s]"
     ]
    },
    {
     "name": "stderr",
     "output_type": "stream",
     "text": [
      "\r",
      "Step 3/3 :  72%|███████▏  | 3585/5000 [00:50<00:16, 86.57it/s]"
     ]
    },
    {
     "name": "stderr",
     "output_type": "stream",
     "text": [
      "\r",
      "Step 3/3 :  72%|███████▏  | 3585/5000 [00:50<00:16, 86.57it/s]"
     ]
    },
    {
     "name": "stderr",
     "output_type": "stream",
     "text": [
      "\r",
      "Step 3/3 :  72%|███████▏  | 3585/5000 [00:50<00:16, 86.57it/s]"
     ]
    },
    {
     "name": "stderr",
     "output_type": "stream",
     "text": [
      "\r",
      "Step 3/3 :  72%|███████▏  | 3585/5000 [00:50<00:16, 86.57it/s]"
     ]
    },
    {
     "name": "stderr",
     "output_type": "stream",
     "text": [
      "\r",
      "Step 3/3 :  72%|███████▏  | 3585/5000 [00:50<00:16, 86.57it/s]"
     ]
    },
    {
     "name": "stderr",
     "output_type": "stream",
     "text": [
      "\r",
      "Step 3/3 :  72%|███████▏  | 3585/5000 [00:50<00:16, 86.57it/s]"
     ]
    },
    {
     "name": "stderr",
     "output_type": "stream",
     "text": [
      "\r",
      "Step 3/3 :  72%|███████▏  | 3585/5000 [00:50<00:16, 86.57it/s]"
     ]
    },
    {
     "name": "stderr",
     "output_type": "stream",
     "text": [
      "\r",
      "Step 3/3 :  72%|███████▏  | 3585/5000 [00:50<00:16, 86.57it/s]"
     ]
    },
    {
     "name": "stderr",
     "output_type": "stream",
     "text": [
      "\r",
      "Step 3/3 :  72%|███████▏  | 3595/5000 [00:50<00:16, 87.67it/s]"
     ]
    },
    {
     "name": "stderr",
     "output_type": "stream",
     "text": [
      "\r",
      "Step 3/3 :  72%|███████▏  | 3595/5000 [00:50<00:16, 87.67it/s]"
     ]
    },
    {
     "name": "stderr",
     "output_type": "stream",
     "text": [
      "\r",
      "Step 3/3 :  72%|███████▏  | 3595/5000 [00:50<00:16, 87.67it/s]"
     ]
    },
    {
     "name": "stderr",
     "output_type": "stream",
     "text": [
      "\r",
      "Step 3/3 :  72%|███████▏  | 3595/5000 [00:50<00:16, 87.67it/s]"
     ]
    },
    {
     "name": "stderr",
     "output_type": "stream",
     "text": [
      "\r",
      "Step 3/3 :  72%|███████▏  | 3595/5000 [00:50<00:16, 87.67it/s]"
     ]
    },
    {
     "name": "stderr",
     "output_type": "stream",
     "text": [
      "\r",
      "Step 3/3 :  72%|███████▏  | 3595/5000 [00:50<00:16, 87.67it/s]"
     ]
    },
    {
     "name": "stderr",
     "output_type": "stream",
     "text": [
      "\r",
      "Step 3/3 :  72%|███████▏  | 3595/5000 [00:50<00:16, 87.67it/s]"
     ]
    },
    {
     "name": "stderr",
     "output_type": "stream",
     "text": [
      "\r",
      "Step 3/3 :  72%|███████▏  | 3595/5000 [00:50<00:16, 87.67it/s]"
     ]
    },
    {
     "name": "stderr",
     "output_type": "stream",
     "text": [
      "\r",
      "Step 3/3 :  72%|███████▏  | 3595/5000 [00:50<00:16, 87.67it/s]"
     ]
    },
    {
     "name": "stderr",
     "output_type": "stream",
     "text": [
      "\r",
      "Step 3/3 :  72%|███████▏  | 3595/5000 [00:50<00:16, 87.67it/s]"
     ]
    },
    {
     "name": "stderr",
     "output_type": "stream",
     "text": [
      "\r",
      "Step 3/3 :  72%|███████▏  | 3604/5000 [00:50<00:15, 88.08it/s]"
     ]
    },
    {
     "name": "stderr",
     "output_type": "stream",
     "text": [
      "\r",
      "Step 3/3 :  72%|███████▏  | 3604/5000 [00:50<00:15, 88.08it/s]"
     ]
    },
    {
     "name": "stderr",
     "output_type": "stream",
     "text": [
      "\r",
      "Step 3/3 :  72%|███████▏  | 3604/5000 [00:50<00:15, 88.08it/s]"
     ]
    },
    {
     "name": "stderr",
     "output_type": "stream",
     "text": [
      "\r",
      "Step 3/3 :  72%|███████▏  | 3604/5000 [00:50<00:15, 88.08it/s]"
     ]
    },
    {
     "name": "stderr",
     "output_type": "stream",
     "text": [
      "\r",
      "Step 3/3 :  72%|███████▏  | 3604/5000 [00:50<00:15, 88.08it/s]"
     ]
    },
    {
     "name": "stderr",
     "output_type": "stream",
     "text": [
      "\r",
      "Step 3/3 :  72%|███████▏  | 3604/5000 [00:50<00:15, 88.08it/s]"
     ]
    },
    {
     "name": "stderr",
     "output_type": "stream",
     "text": [
      "\r",
      "Step 3/3 :  72%|███████▏  | 3604/5000 [00:50<00:15, 88.08it/s]"
     ]
    },
    {
     "name": "stderr",
     "output_type": "stream",
     "text": [
      "\r",
      "Step 3/3 :  72%|███████▏  | 3604/5000 [00:50<00:15, 88.08it/s]"
     ]
    },
    {
     "name": "stderr",
     "output_type": "stream",
     "text": [
      "\r",
      "Step 3/3 :  72%|███████▏  | 3604/5000 [00:50<00:15, 88.08it/s]"
     ]
    },
    {
     "name": "stderr",
     "output_type": "stream",
     "text": [
      "\r",
      "Step 3/3 :  72%|███████▏  | 3604/5000 [00:50<00:15, 88.08it/s]"
     ]
    },
    {
     "name": "stderr",
     "output_type": "stream",
     "text": [
      "\r",
      "Step 3/3 :  72%|███████▏  | 3604/5000 [00:50<00:15, 88.08it/s]"
     ]
    },
    {
     "name": "stderr",
     "output_type": "stream",
     "text": [
      "\r",
      "Step 3/3 :  72%|███████▏  | 3614/5000 [00:50<00:15, 89.46it/s]"
     ]
    },
    {
     "name": "stderr",
     "output_type": "stream",
     "text": [
      "\r",
      "Step 3/3 :  72%|███████▏  | 3614/5000 [00:50<00:15, 89.46it/s]"
     ]
    },
    {
     "name": "stderr",
     "output_type": "stream",
     "text": [
      "\r",
      "Step 3/3 :  72%|███████▏  | 3614/5000 [00:50<00:15, 89.46it/s]"
     ]
    },
    {
     "name": "stderr",
     "output_type": "stream",
     "text": [
      "\r",
      "Step 3/3 :  72%|███████▏  | 3614/5000 [00:50<00:15, 89.46it/s]"
     ]
    },
    {
     "name": "stderr",
     "output_type": "stream",
     "text": [
      "\r",
      "Step 3/3 :  72%|███████▏  | 3614/5000 [00:50<00:15, 89.46it/s]"
     ]
    },
    {
     "name": "stderr",
     "output_type": "stream",
     "text": [
      "\r",
      "Step 3/3 :  72%|███████▏  | 3614/5000 [00:50<00:15, 89.46it/s]"
     ]
    },
    {
     "name": "stderr",
     "output_type": "stream",
     "text": [
      "\r",
      "Step 3/3 :  72%|███████▏  | 3614/5000 [00:50<00:15, 89.46it/s]"
     ]
    },
    {
     "name": "stderr",
     "output_type": "stream",
     "text": [
      "\r",
      "Step 3/3 :  72%|███████▏  | 3614/5000 [00:50<00:15, 89.46it/s]"
     ]
    },
    {
     "name": "stderr",
     "output_type": "stream",
     "text": [
      "\r",
      "Step 3/3 :  72%|███████▏  | 3614/5000 [00:50<00:15, 89.46it/s]"
     ]
    },
    {
     "name": "stderr",
     "output_type": "stream",
     "text": [
      "\r",
      "Step 3/3 :  72%|███████▏  | 3614/5000 [00:50<00:15, 89.46it/s]"
     ]
    },
    {
     "name": "stderr",
     "output_type": "stream",
     "text": [
      "\r",
      "Step 3/3 :  72%|███████▏  | 3623/5000 [00:50<00:15, 89.36it/s]"
     ]
    },
    {
     "name": "stderr",
     "output_type": "stream",
     "text": [
      "\r",
      "Step 3/3 :  72%|███████▏  | 3623/5000 [00:50<00:15, 89.36it/s]"
     ]
    },
    {
     "name": "stderr",
     "output_type": "stream",
     "text": [
      "\r",
      "Step 3/3 :  72%|███████▏  | 3623/5000 [00:50<00:15, 89.36it/s]"
     ]
    },
    {
     "name": "stderr",
     "output_type": "stream",
     "text": [
      "\r",
      "Step 3/3 :  72%|███████▏  | 3623/5000 [00:50<00:15, 89.36it/s]"
     ]
    },
    {
     "name": "stderr",
     "output_type": "stream",
     "text": [
      "\r",
      "Step 3/3 :  72%|███████▏  | 3623/5000 [00:50<00:15, 89.36it/s]"
     ]
    },
    {
     "name": "stderr",
     "output_type": "stream",
     "text": [
      "\r",
      "Step 3/3 :  72%|███████▏  | 3623/5000 [00:50<00:15, 89.36it/s]"
     ]
    },
    {
     "name": "stderr",
     "output_type": "stream",
     "text": [
      "\r",
      "Step 3/3 :  72%|███████▏  | 3623/5000 [00:50<00:15, 89.36it/s]"
     ]
    },
    {
     "name": "stderr",
     "output_type": "stream",
     "text": [
      "\r",
      "Step 3/3 :  72%|███████▏  | 3623/5000 [00:50<00:15, 89.36it/s]"
     ]
    },
    {
     "name": "stderr",
     "output_type": "stream",
     "text": [
      "\r",
      "Step 3/3 :  72%|███████▏  | 3623/5000 [00:50<00:15, 89.36it/s]"
     ]
    },
    {
     "name": "stderr",
     "output_type": "stream",
     "text": [
      "\r",
      "Step 3/3 :  72%|███████▏  | 3623/5000 [00:50<00:15, 89.36it/s]"
     ]
    },
    {
     "name": "stderr",
     "output_type": "stream",
     "text": [
      "\r",
      "Step 3/3 :  73%|███████▎  | 3632/5000 [00:50<00:15, 88.77it/s]"
     ]
    },
    {
     "name": "stderr",
     "output_type": "stream",
     "text": [
      "\r",
      "Step 3/3 :  73%|███████▎  | 3632/5000 [00:50<00:15, 88.77it/s]"
     ]
    },
    {
     "name": "stderr",
     "output_type": "stream",
     "text": [
      "\r",
      "Step 3/3 :  73%|███████▎  | 3632/5000 [00:50<00:15, 88.77it/s]"
     ]
    },
    {
     "name": "stderr",
     "output_type": "stream",
     "text": [
      "\r",
      "Step 3/3 :  73%|███████▎  | 3632/5000 [00:50<00:15, 88.77it/s]"
     ]
    },
    {
     "name": "stderr",
     "output_type": "stream",
     "text": [
      "\r",
      "Step 3/3 :  73%|███████▎  | 3632/5000 [00:50<00:15, 88.77it/s]"
     ]
    },
    {
     "name": "stderr",
     "output_type": "stream",
     "text": [
      "\r",
      "Step 3/3 :  73%|███████▎  | 3632/5000 [00:50<00:15, 88.77it/s]"
     ]
    },
    {
     "name": "stderr",
     "output_type": "stream",
     "text": [
      "\r",
      "Step 3/3 :  73%|███████▎  | 3632/5000 [00:50<00:15, 88.77it/s]"
     ]
    },
    {
     "name": "stderr",
     "output_type": "stream",
     "text": [
      "\r",
      "Step 3/3 :  73%|███████▎  | 3632/5000 [00:51<00:15, 88.77it/s]"
     ]
    },
    {
     "name": "stderr",
     "output_type": "stream",
     "text": [
      "\r",
      "Step 3/3 :  73%|███████▎  | 3632/5000 [00:51<00:15, 88.77it/s]"
     ]
    },
    {
     "name": "stderr",
     "output_type": "stream",
     "text": [
      "\r",
      "Step 3/3 :  73%|███████▎  | 3632/5000 [00:51<00:15, 88.77it/s]"
     ]
    },
    {
     "name": "stderr",
     "output_type": "stream",
     "text": [
      "\r",
      "Step 3/3 :  73%|███████▎  | 3632/5000 [00:51<00:15, 88.77it/s]"
     ]
    },
    {
     "name": "stderr",
     "output_type": "stream",
     "text": [
      "\r",
      "Step 3/3 :  73%|███████▎  | 3642/5000 [00:51<00:15, 90.21it/s]"
     ]
    },
    {
     "name": "stderr",
     "output_type": "stream",
     "text": [
      "\r",
      "Step 3/3 :  73%|███████▎  | 3642/5000 [00:51<00:15, 90.21it/s]"
     ]
    },
    {
     "name": "stderr",
     "output_type": "stream",
     "text": [
      "\r",
      "Step 3/3 :  73%|███████▎  | 3642/5000 [00:51<00:15, 90.21it/s]"
     ]
    },
    {
     "name": "stderr",
     "output_type": "stream",
     "text": [
      "\r",
      "Step 3/3 :  73%|███████▎  | 3642/5000 [00:51<00:15, 90.21it/s]"
     ]
    },
    {
     "name": "stderr",
     "output_type": "stream",
     "text": [
      "\r",
      "Step 3/3 :  73%|███████▎  | 3642/5000 [00:51<00:15, 90.21it/s]"
     ]
    },
    {
     "name": "stderr",
     "output_type": "stream",
     "text": [
      "\r",
      "Step 3/3 :  73%|███████▎  | 3642/5000 [00:51<00:15, 90.21it/s]"
     ]
    },
    {
     "name": "stderr",
     "output_type": "stream",
     "text": [
      "\r",
      "Step 3/3 :  73%|███████▎  | 3642/5000 [00:51<00:15, 90.21it/s]"
     ]
    },
    {
     "name": "stderr",
     "output_type": "stream",
     "text": [
      "\r",
      "Step 3/3 :  73%|███████▎  | 3642/5000 [00:51<00:15, 90.21it/s]"
     ]
    },
    {
     "name": "stderr",
     "output_type": "stream",
     "text": [
      "\r",
      "Step 3/3 :  73%|███████▎  | 3642/5000 [00:51<00:15, 90.21it/s]"
     ]
    },
    {
     "name": "stderr",
     "output_type": "stream",
     "text": [
      "\r",
      "Step 3/3 :  73%|███████▎  | 3642/5000 [00:51<00:15, 90.21it/s]"
     ]
    },
    {
     "name": "stderr",
     "output_type": "stream",
     "text": [
      "\r",
      "Step 3/3 :  73%|███████▎  | 3642/5000 [00:51<00:15, 90.21it/s]"
     ]
    },
    {
     "name": "stderr",
     "output_type": "stream",
     "text": [
      "\r",
      "Step 3/3 :  73%|███████▎  | 3652/5000 [00:51<00:14, 90.68it/s]"
     ]
    },
    {
     "name": "stderr",
     "output_type": "stream",
     "text": [
      "\r",
      "Step 3/3 :  73%|███████▎  | 3652/5000 [00:51<00:14, 90.68it/s]"
     ]
    },
    {
     "name": "stderr",
     "output_type": "stream",
     "text": [
      "\r",
      "Step 3/3 :  73%|███████▎  | 3652/5000 [00:51<00:14, 90.68it/s]"
     ]
    },
    {
     "name": "stderr",
     "output_type": "stream",
     "text": [
      "\r",
      "Step 3/3 :  73%|███████▎  | 3652/5000 [00:51<00:14, 90.68it/s]"
     ]
    },
    {
     "name": "stderr",
     "output_type": "stream",
     "text": [
      "\r",
      "Step 3/3 :  73%|███████▎  | 3652/5000 [00:51<00:14, 90.68it/s]"
     ]
    },
    {
     "name": "stderr",
     "output_type": "stream",
     "text": [
      "\r",
      "Step 3/3 :  73%|███████▎  | 3652/5000 [00:51<00:14, 90.68it/s]"
     ]
    },
    {
     "name": "stderr",
     "output_type": "stream",
     "text": [
      "\r",
      "Step 3/3 :  73%|███████▎  | 3652/5000 [00:51<00:14, 90.68it/s]"
     ]
    },
    {
     "name": "stderr",
     "output_type": "stream",
     "text": [
      "\r",
      "Step 3/3 :  73%|███████▎  | 3652/5000 [00:51<00:14, 90.68it/s]"
     ]
    },
    {
     "name": "stderr",
     "output_type": "stream",
     "text": [
      "\r",
      "Step 3/3 :  73%|███████▎  | 3652/5000 [00:51<00:14, 90.68it/s]"
     ]
    },
    {
     "name": "stderr",
     "output_type": "stream",
     "text": [
      "\r",
      "Step 3/3 :  73%|███████▎  | 3652/5000 [00:51<00:14, 90.68it/s]"
     ]
    },
    {
     "name": "stderr",
     "output_type": "stream",
     "text": [
      "\r",
      "Step 3/3 :  73%|███████▎  | 3652/5000 [00:51<00:14, 90.68it/s]"
     ]
    },
    {
     "name": "stderr",
     "output_type": "stream",
     "text": [
      "\r",
      "Step 3/3 :  73%|███████▎  | 3662/5000 [00:51<00:14, 89.50it/s]"
     ]
    },
    {
     "name": "stderr",
     "output_type": "stream",
     "text": [
      "\r",
      "Step 3/3 :  73%|███████▎  | 3662/5000 [00:51<00:14, 89.50it/s]"
     ]
    },
    {
     "name": "stderr",
     "output_type": "stream",
     "text": [
      "\r",
      "Step 3/3 :  73%|███████▎  | 3662/5000 [00:51<00:14, 89.50it/s]"
     ]
    },
    {
     "name": "stderr",
     "output_type": "stream",
     "text": [
      "\r",
      "Step 3/3 :  73%|███████▎  | 3662/5000 [00:51<00:14, 89.50it/s]"
     ]
    },
    {
     "name": "stderr",
     "output_type": "stream",
     "text": [
      "\r",
      "Step 3/3 :  73%|███████▎  | 3662/5000 [00:51<00:14, 89.50it/s]"
     ]
    },
    {
     "name": "stderr",
     "output_type": "stream",
     "text": [
      "\r",
      "Step 3/3 :  73%|███████▎  | 3662/5000 [00:51<00:14, 89.50it/s]"
     ]
    },
    {
     "name": "stderr",
     "output_type": "stream",
     "text": [
      "\r",
      "Step 3/3 :  73%|███████▎  | 3662/5000 [00:51<00:14, 89.50it/s]"
     ]
    },
    {
     "name": "stderr",
     "output_type": "stream",
     "text": [
      "\r",
      "Step 3/3 :  73%|███████▎  | 3662/5000 [00:51<00:14, 89.50it/s]"
     ]
    },
    {
     "name": "stderr",
     "output_type": "stream",
     "text": [
      "\r",
      "Step 3/3 :  73%|███████▎  | 3662/5000 [00:51<00:14, 89.50it/s]"
     ]
    },
    {
     "name": "stderr",
     "output_type": "stream",
     "text": [
      "\r",
      "Step 3/3 :  73%|███████▎  | 3662/5000 [00:51<00:14, 89.50it/s]"
     ]
    },
    {
     "name": "stderr",
     "output_type": "stream",
     "text": [
      "\r",
      "Step 3/3 :  73%|███████▎  | 3671/5000 [00:51<00:14, 88.89it/s]"
     ]
    },
    {
     "name": "stderr",
     "output_type": "stream",
     "text": [
      "\r",
      "Step 3/3 :  73%|███████▎  | 3671/5000 [00:51<00:14, 88.89it/s]"
     ]
    },
    {
     "name": "stderr",
     "output_type": "stream",
     "text": [
      "\r",
      "Step 3/3 :  73%|███████▎  | 3671/5000 [00:51<00:14, 88.89it/s]"
     ]
    },
    {
     "name": "stderr",
     "output_type": "stream",
     "text": [
      "\r",
      "Step 3/3 :  73%|███████▎  | 3671/5000 [00:51<00:14, 88.89it/s]"
     ]
    },
    {
     "name": "stderr",
     "output_type": "stream",
     "text": [
      "\r",
      "Step 3/3 :  73%|███████▎  | 3671/5000 [00:51<00:14, 88.89it/s]"
     ]
    },
    {
     "name": "stderr",
     "output_type": "stream",
     "text": [
      "\r",
      "Step 3/3 :  73%|███████▎  | 3671/5000 [00:51<00:14, 88.89it/s]"
     ]
    },
    {
     "name": "stderr",
     "output_type": "stream",
     "text": [
      "\r",
      "Step 3/3 :  73%|███████▎  | 3671/5000 [00:51<00:14, 88.89it/s]"
     ]
    },
    {
     "name": "stderr",
     "output_type": "stream",
     "text": [
      "\r",
      "Step 3/3 :  73%|███████▎  | 3671/5000 [00:51<00:14, 88.89it/s]"
     ]
    },
    {
     "name": "stderr",
     "output_type": "stream",
     "text": [
      "\r",
      "Step 3/3 :  73%|███████▎  | 3671/5000 [00:51<00:14, 88.89it/s]"
     ]
    },
    {
     "name": "stderr",
     "output_type": "stream",
     "text": [
      "\r",
      "Step 3/3 :  73%|███████▎  | 3671/5000 [00:51<00:14, 88.89it/s]"
     ]
    },
    {
     "name": "stderr",
     "output_type": "stream",
     "text": [
      "\r",
      "Step 3/3 :  74%|███████▎  | 3680/5000 [00:51<00:14, 88.19it/s]"
     ]
    },
    {
     "name": "stderr",
     "output_type": "stream",
     "text": [
      "\r",
      "Step 3/3 :  74%|███████▎  | 3680/5000 [00:51<00:14, 88.19it/s]"
     ]
    },
    {
     "name": "stderr",
     "output_type": "stream",
     "text": [
      "\r",
      "Step 3/3 :  74%|███████▎  | 3680/5000 [00:51<00:14, 88.19it/s]"
     ]
    },
    {
     "name": "stderr",
     "output_type": "stream",
     "text": [
      "\r",
      "Step 3/3 :  74%|███████▎  | 3680/5000 [00:51<00:14, 88.19it/s]"
     ]
    },
    {
     "name": "stderr",
     "output_type": "stream",
     "text": [
      "\r",
      "Step 3/3 :  74%|███████▎  | 3680/5000 [00:51<00:14, 88.19it/s]"
     ]
    },
    {
     "name": "stderr",
     "output_type": "stream",
     "text": [
      "\r",
      "Step 3/3 :  74%|███████▎  | 3680/5000 [00:51<00:14, 88.19it/s]"
     ]
    },
    {
     "name": "stderr",
     "output_type": "stream",
     "text": [
      "\r",
      "Step 3/3 :  74%|███████▎  | 3680/5000 [00:51<00:14, 88.19it/s]"
     ]
    },
    {
     "name": "stderr",
     "output_type": "stream",
     "text": [
      "\r",
      "Step 3/3 :  74%|███████▎  | 3680/5000 [00:51<00:14, 88.19it/s]"
     ]
    },
    {
     "name": "stderr",
     "output_type": "stream",
     "text": [
      "\r",
      "Step 3/3 :  74%|███████▎  | 3680/5000 [00:51<00:14, 88.19it/s]"
     ]
    },
    {
     "name": "stderr",
     "output_type": "stream",
     "text": [
      "\r",
      "Step 3/3 :  74%|███████▎  | 3680/5000 [00:51<00:14, 88.19it/s]"
     ]
    },
    {
     "name": "stderr",
     "output_type": "stream",
     "text": [
      "\r",
      "Step 3/3 :  74%|███████▍  | 3689/5000 [00:51<00:15, 85.50it/s]"
     ]
    },
    {
     "name": "stderr",
     "output_type": "stream",
     "text": [
      "\r",
      "Step 3/3 :  74%|███████▍  | 3689/5000 [00:51<00:15, 85.50it/s]"
     ]
    },
    {
     "name": "stderr",
     "output_type": "stream",
     "text": [
      "\r",
      "Step 3/3 :  74%|███████▍  | 3689/5000 [00:51<00:15, 85.50it/s]"
     ]
    },
    {
     "name": "stderr",
     "output_type": "stream",
     "text": [
      "\r",
      "Step 3/3 :  74%|███████▍  | 3689/5000 [00:51<00:15, 85.50it/s]"
     ]
    },
    {
     "name": "stderr",
     "output_type": "stream",
     "text": [
      "\r",
      "Step 3/3 :  74%|███████▍  | 3689/5000 [00:51<00:15, 85.50it/s]"
     ]
    },
    {
     "name": "stderr",
     "output_type": "stream",
     "text": [
      "\r",
      "Step 3/3 :  74%|███████▍  | 3689/5000 [00:51<00:15, 85.50it/s]"
     ]
    },
    {
     "name": "stderr",
     "output_type": "stream",
     "text": [
      "\r",
      "Step 3/3 :  74%|███████▍  | 3689/5000 [00:51<00:15, 85.50it/s]"
     ]
    },
    {
     "name": "stderr",
     "output_type": "stream",
     "text": [
      "\r",
      "Step 3/3 :  74%|███████▍  | 3689/5000 [00:51<00:15, 85.50it/s]"
     ]
    },
    {
     "name": "stderr",
     "output_type": "stream",
     "text": [
      "\r",
      "Step 3/3 :  74%|███████▍  | 3689/5000 [00:51<00:15, 85.50it/s]"
     ]
    },
    {
     "name": "stderr",
     "output_type": "stream",
     "text": [
      "\r",
      "Step 3/3 :  74%|███████▍  | 3689/5000 [00:51<00:15, 85.50it/s]"
     ]
    },
    {
     "name": "stderr",
     "output_type": "stream",
     "text": [
      "\r",
      "Step 3/3 :  74%|███████▍  | 3689/5000 [00:51<00:15, 85.50it/s]"
     ]
    },
    {
     "name": "stderr",
     "output_type": "stream",
     "text": [
      "\r",
      "Step 3/3 :  74%|███████▍  | 3699/5000 [00:51<00:14, 87.88it/s]"
     ]
    },
    {
     "name": "stderr",
     "output_type": "stream",
     "text": [
      "\r",
      "Step 3/3 :  74%|███████▍  | 3699/5000 [00:51<00:14, 87.88it/s]"
     ]
    },
    {
     "name": "stderr",
     "output_type": "stream",
     "text": [
      "\r",
      "Step 3/3 :  74%|███████▍  | 3699/5000 [00:51<00:14, 87.88it/s]"
     ]
    },
    {
     "name": "stderr",
     "output_type": "stream",
     "text": [
      "\r",
      "Step 3/3 :  74%|███████▍  | 3699/5000 [00:51<00:14, 87.88it/s]"
     ]
    },
    {
     "name": "stderr",
     "output_type": "stream",
     "text": [
      "\r",
      "Step 3/3 :  74%|███████▍  | 3699/5000 [00:51<00:14, 87.88it/s]"
     ]
    },
    {
     "name": "stderr",
     "output_type": "stream",
     "text": [
      "\r",
      "Step 3/3 :  74%|███████▍  | 3699/5000 [00:51<00:14, 87.88it/s]"
     ]
    },
    {
     "name": "stderr",
     "output_type": "stream",
     "text": [
      "\r",
      "Step 3/3 :  74%|███████▍  | 3699/5000 [00:51<00:14, 87.88it/s]"
     ]
    },
    {
     "name": "stderr",
     "output_type": "stream",
     "text": [
      "\r",
      "Step 3/3 :  74%|███████▍  | 3699/5000 [00:51<00:14, 87.88it/s]"
     ]
    },
    {
     "name": "stderr",
     "output_type": "stream",
     "text": [
      "\r",
      "Step 3/3 :  74%|███████▍  | 3699/5000 [00:51<00:14, 87.88it/s]"
     ]
    },
    {
     "name": "stderr",
     "output_type": "stream",
     "text": [
      "\r",
      "Step 3/3 :  74%|███████▍  | 3699/5000 [00:51<00:14, 87.88it/s]"
     ]
    },
    {
     "name": "stderr",
     "output_type": "stream",
     "text": [
      "\r",
      "Step 3/3 :  74%|███████▍  | 3699/5000 [00:51<00:14, 87.88it/s]"
     ]
    },
    {
     "name": "stderr",
     "output_type": "stream",
     "text": [
      "\r",
      "Step 3/3 :  74%|███████▍  | 3709/5000 [00:51<00:14, 88.31it/s]"
     ]
    },
    {
     "name": "stderr",
     "output_type": "stream",
     "text": [
      "\r",
      "Step 3/3 :  74%|███████▍  | 3709/5000 [00:51<00:14, 88.31it/s]"
     ]
    },
    {
     "name": "stderr",
     "output_type": "stream",
     "text": [
      "\r",
      "Step 3/3 :  74%|███████▍  | 3709/5000 [00:51<00:14, 88.31it/s]"
     ]
    },
    {
     "name": "stderr",
     "output_type": "stream",
     "text": [
      "\r",
      "Step 3/3 :  74%|███████▍  | 3709/5000 [00:51<00:14, 88.31it/s]"
     ]
    },
    {
     "name": "stderr",
     "output_type": "stream",
     "text": [
      "\r",
      "Step 3/3 :  74%|███████▍  | 3709/5000 [00:51<00:14, 88.31it/s]"
     ]
    },
    {
     "name": "stderr",
     "output_type": "stream",
     "text": [
      "\r",
      "Step 3/3 :  74%|███████▍  | 3709/5000 [00:51<00:14, 88.31it/s]"
     ]
    },
    {
     "name": "stderr",
     "output_type": "stream",
     "text": [
      "\r",
      "Step 3/3 :  74%|███████▍  | 3709/5000 [00:51<00:14, 88.31it/s]"
     ]
    },
    {
     "name": "stderr",
     "output_type": "stream",
     "text": [
      "\r",
      "Step 3/3 :  74%|███████▍  | 3709/5000 [00:51<00:14, 88.31it/s]"
     ]
    },
    {
     "name": "stderr",
     "output_type": "stream",
     "text": [
      "\r",
      "Step 3/3 :  74%|███████▍  | 3709/5000 [00:51<00:14, 88.31it/s]"
     ]
    },
    {
     "name": "stderr",
     "output_type": "stream",
     "text": [
      "\r",
      "Step 3/3 :  74%|███████▍  | 3709/5000 [00:51<00:14, 88.31it/s]"
     ]
    },
    {
     "name": "stderr",
     "output_type": "stream",
     "text": [
      "\r",
      "Step 3/3 :  74%|███████▍  | 3709/5000 [00:51<00:14, 88.31it/s]"
     ]
    },
    {
     "name": "stderr",
     "output_type": "stream",
     "text": [
      "\r",
      "Step 3/3 :  74%|███████▍  | 3719/5000 [00:51<00:14, 89.59it/s]"
     ]
    },
    {
     "name": "stderr",
     "output_type": "stream",
     "text": [
      "\r",
      "Step 3/3 :  74%|███████▍  | 3719/5000 [00:51<00:14, 89.59it/s]"
     ]
    },
    {
     "name": "stderr",
     "output_type": "stream",
     "text": [
      "\r",
      "Step 3/3 :  74%|███████▍  | 3719/5000 [00:51<00:14, 89.59it/s]"
     ]
    },
    {
     "name": "stderr",
     "output_type": "stream",
     "text": [
      "\r",
      "Step 3/3 :  74%|███████▍  | 3719/5000 [00:51<00:14, 89.59it/s]"
     ]
    },
    {
     "name": "stderr",
     "output_type": "stream",
     "text": [
      "\r",
      "Step 3/3 :  74%|███████▍  | 3719/5000 [00:51<00:14, 89.59it/s]"
     ]
    },
    {
     "name": "stderr",
     "output_type": "stream",
     "text": [
      "\r",
      "Step 3/3 :  74%|███████▍  | 3719/5000 [00:51<00:14, 89.59it/s]"
     ]
    },
    {
     "name": "stderr",
     "output_type": "stream",
     "text": [
      "\r",
      "Step 3/3 :  74%|███████▍  | 3719/5000 [00:51<00:14, 89.59it/s]"
     ]
    },
    {
     "name": "stderr",
     "output_type": "stream",
     "text": [
      "\r",
      "Step 3/3 :  74%|███████▍  | 3719/5000 [00:51<00:14, 89.59it/s]"
     ]
    },
    {
     "name": "stderr",
     "output_type": "stream",
     "text": [
      "\r",
      "Step 3/3 :  74%|███████▍  | 3719/5000 [00:51<00:14, 89.59it/s]"
     ]
    },
    {
     "name": "stderr",
     "output_type": "stream",
     "text": [
      "\r",
      "Step 3/3 :  74%|███████▍  | 3719/5000 [00:52<00:14, 89.59it/s]"
     ]
    },
    {
     "name": "stderr",
     "output_type": "stream",
     "text": [
      "\r",
      "Step 3/3 :  74%|███████▍  | 3719/5000 [00:52<00:14, 89.59it/s]"
     ]
    },
    {
     "name": "stderr",
     "output_type": "stream",
     "text": [
      "\r",
      "Step 3/3 :  75%|███████▍  | 3729/5000 [00:52<00:13, 91.23it/s]"
     ]
    },
    {
     "name": "stderr",
     "output_type": "stream",
     "text": [
      "\r",
      "Step 3/3 :  75%|███████▍  | 3729/5000 [00:52<00:13, 91.23it/s]"
     ]
    },
    {
     "name": "stderr",
     "output_type": "stream",
     "text": [
      "\r",
      "Step 3/3 :  75%|███████▍  | 3729/5000 [00:52<00:13, 91.23it/s]"
     ]
    },
    {
     "name": "stderr",
     "output_type": "stream",
     "text": [
      "\r",
      "Step 3/3 :  75%|███████▍  | 3729/5000 [00:52<00:13, 91.23it/s]"
     ]
    },
    {
     "name": "stderr",
     "output_type": "stream",
     "text": [
      "\r",
      "Step 3/3 :  75%|███████▍  | 3729/5000 [00:52<00:13, 91.23it/s]"
     ]
    },
    {
     "name": "stderr",
     "output_type": "stream",
     "text": [
      "\r",
      "Step 3/3 :  75%|███████▍  | 3729/5000 [00:52<00:13, 91.23it/s]"
     ]
    },
    {
     "name": "stderr",
     "output_type": "stream",
     "text": [
      "\r",
      "Step 3/3 :  75%|███████▍  | 3729/5000 [00:52<00:13, 91.23it/s]"
     ]
    },
    {
     "name": "stderr",
     "output_type": "stream",
     "text": [
      "\r",
      "Step 3/3 :  75%|███████▍  | 3729/5000 [00:52<00:13, 91.23it/s]"
     ]
    },
    {
     "name": "stderr",
     "output_type": "stream",
     "text": [
      "\r",
      "Step 3/3 :  75%|███████▍  | 3729/5000 [00:52<00:13, 91.23it/s]"
     ]
    },
    {
     "name": "stderr",
     "output_type": "stream",
     "text": [
      "\r",
      "Step 3/3 :  75%|███████▍  | 3729/5000 [00:52<00:13, 91.23it/s]"
     ]
    },
    {
     "name": "stderr",
     "output_type": "stream",
     "text": [
      "\r",
      "Step 3/3 :  75%|███████▍  | 3729/5000 [00:52<00:13, 91.23it/s]"
     ]
    },
    {
     "name": "stderr",
     "output_type": "stream",
     "text": [
      "\r",
      "Step 3/3 :  75%|███████▍  | 3729/5000 [00:52<00:13, 91.23it/s]"
     ]
    },
    {
     "name": "stderr",
     "output_type": "stream",
     "text": [
      "\r",
      "Step 3/3 :  75%|███████▍  | 3740/5000 [00:52<00:13, 93.66it/s]"
     ]
    },
    {
     "name": "stderr",
     "output_type": "stream",
     "text": [
      "\r",
      "Step 3/3 :  75%|███████▍  | 3740/5000 [00:52<00:13, 93.66it/s]"
     ]
    },
    {
     "name": "stderr",
     "output_type": "stream",
     "text": [
      "\r",
      "Step 3/3 :  75%|███████▍  | 3740/5000 [00:52<00:13, 93.66it/s]"
     ]
    },
    {
     "name": "stderr",
     "output_type": "stream",
     "text": [
      "\r",
      "Step 3/3 :  75%|███████▍  | 3740/5000 [00:52<00:13, 93.66it/s]"
     ]
    },
    {
     "name": "stderr",
     "output_type": "stream",
     "text": [
      "\r",
      "Step 3/3 :  75%|███████▍  | 3740/5000 [00:52<00:13, 93.66it/s]"
     ]
    },
    {
     "name": "stderr",
     "output_type": "stream",
     "text": [
      "\r",
      "Step 3/3 :  75%|███████▍  | 3740/5000 [00:52<00:13, 93.66it/s]"
     ]
    },
    {
     "name": "stderr",
     "output_type": "stream",
     "text": [
      "\r",
      "Step 3/3 :  75%|███████▍  | 3740/5000 [00:52<00:13, 93.66it/s]"
     ]
    },
    {
     "name": "stderr",
     "output_type": "stream",
     "text": [
      "\r",
      "Step 3/3 :  75%|███████▍  | 3740/5000 [00:52<00:13, 93.66it/s]"
     ]
    },
    {
     "name": "stderr",
     "output_type": "stream",
     "text": [
      "\r",
      "Step 3/3 :  75%|███████▍  | 3740/5000 [00:52<00:13, 93.66it/s]"
     ]
    },
    {
     "name": "stderr",
     "output_type": "stream",
     "text": [
      "\r",
      "Step 3/3 :  75%|███████▍  | 3740/5000 [00:52<00:13, 93.66it/s]"
     ]
    },
    {
     "name": "stderr",
     "output_type": "stream",
     "text": [
      "\r",
      "Step 3/3 :  75%|███████▍  | 3740/5000 [00:52<00:13, 93.66it/s]"
     ]
    },
    {
     "name": "stderr",
     "output_type": "stream",
     "text": [
      "\r",
      "Step 3/3 :  75%|███████▌  | 3750/5000 [00:52<00:13, 93.59it/s]"
     ]
    },
    {
     "name": "stderr",
     "output_type": "stream",
     "text": [
      "\r",
      "Step 3/3 :  75%|███████▌  | 3750/5000 [00:52<00:13, 93.59it/s]"
     ]
    },
    {
     "name": "stderr",
     "output_type": "stream",
     "text": [
      "\r",
      "Step 3/3 :  75%|███████▌  | 3750/5000 [00:52<00:13, 93.59it/s]"
     ]
    },
    {
     "name": "stderr",
     "output_type": "stream",
     "text": [
      "\r",
      "Step 3/3 :  75%|███████▌  | 3750/5000 [00:52<00:13, 93.59it/s]"
     ]
    },
    {
     "name": "stderr",
     "output_type": "stream",
     "text": [
      "\r",
      "Step 3/3 :  75%|███████▌  | 3750/5000 [00:52<00:13, 93.59it/s]"
     ]
    },
    {
     "name": "stderr",
     "output_type": "stream",
     "text": [
      "\r",
      "Step 3/3 :  75%|███████▌  | 3750/5000 [00:52<00:13, 93.59it/s]"
     ]
    },
    {
     "name": "stderr",
     "output_type": "stream",
     "text": [
      "\r",
      "Step 3/3 :  75%|███████▌  | 3750/5000 [00:52<00:13, 93.59it/s]"
     ]
    },
    {
     "name": "stderr",
     "output_type": "stream",
     "text": [
      "\r",
      "Step 3/3 :  75%|███████▌  | 3750/5000 [00:52<00:13, 93.59it/s]"
     ]
    },
    {
     "name": "stderr",
     "output_type": "stream",
     "text": [
      "\r",
      "Step 3/3 :  75%|███████▌  | 3750/5000 [00:52<00:13, 93.59it/s]"
     ]
    },
    {
     "name": "stderr",
     "output_type": "stream",
     "text": [
      "\r",
      "Step 3/3 :  75%|███████▌  | 3750/5000 [00:52<00:13, 93.59it/s]"
     ]
    },
    {
     "name": "stderr",
     "output_type": "stream",
     "text": [
      "\r",
      "Step 3/3 :  75%|███████▌  | 3750/5000 [00:52<00:13, 93.59it/s]"
     ]
    },
    {
     "name": "stderr",
     "output_type": "stream",
     "text": [
      "\r",
      "Step 3/3 :  75%|███████▌  | 3760/5000 [00:52<00:13, 94.08it/s]"
     ]
    },
    {
     "name": "stderr",
     "output_type": "stream",
     "text": [
      "\r",
      "Step 3/3 :  75%|███████▌  | 3760/5000 [00:52<00:13, 94.08it/s]"
     ]
    },
    {
     "name": "stderr",
     "output_type": "stream",
     "text": [
      "\r",
      "Step 3/3 :  75%|███████▌  | 3760/5000 [00:52<00:13, 94.08it/s]"
     ]
    },
    {
     "name": "stderr",
     "output_type": "stream",
     "text": [
      "\r",
      "Step 3/3 :  75%|███████▌  | 3760/5000 [00:52<00:13, 94.08it/s]"
     ]
    },
    {
     "name": "stderr",
     "output_type": "stream",
     "text": [
      "\r",
      "Step 3/3 :  75%|███████▌  | 3760/5000 [00:52<00:13, 94.08it/s]"
     ]
    },
    {
     "name": "stderr",
     "output_type": "stream",
     "text": [
      "\r",
      "Step 3/3 :  75%|███████▌  | 3760/5000 [00:52<00:13, 94.08it/s]"
     ]
    },
    {
     "name": "stderr",
     "output_type": "stream",
     "text": [
      "\r",
      "Step 3/3 :  75%|███████▌  | 3760/5000 [00:52<00:13, 94.08it/s]"
     ]
    },
    {
     "name": "stderr",
     "output_type": "stream",
     "text": [
      "\r",
      "Step 3/3 :  75%|███████▌  | 3760/5000 [00:52<00:13, 94.08it/s]"
     ]
    },
    {
     "name": "stderr",
     "output_type": "stream",
     "text": [
      "\r",
      "Step 3/3 :  75%|███████▌  | 3760/5000 [00:52<00:13, 94.08it/s]"
     ]
    },
    {
     "name": "stderr",
     "output_type": "stream",
     "text": [
      "\r",
      "Step 3/3 :  75%|███████▌  | 3760/5000 [00:52<00:13, 94.08it/s]"
     ]
    },
    {
     "name": "stderr",
     "output_type": "stream",
     "text": [
      "\r",
      "Step 3/3 :  75%|███████▌  | 3760/5000 [00:52<00:13, 94.08it/s]"
     ]
    },
    {
     "name": "stderr",
     "output_type": "stream",
     "text": [
      "\r",
      "Step 3/3 :  75%|███████▌  | 3770/5000 [00:52<00:13, 91.58it/s]"
     ]
    },
    {
     "name": "stderr",
     "output_type": "stream",
     "text": [
      "\r",
      "Step 3/3 :  75%|███████▌  | 3770/5000 [00:52<00:13, 91.58it/s]"
     ]
    },
    {
     "name": "stderr",
     "output_type": "stream",
     "text": [
      "\r",
      "Step 3/3 :  75%|███████▌  | 3770/5000 [00:52<00:13, 91.58it/s]"
     ]
    },
    {
     "name": "stderr",
     "output_type": "stream",
     "text": [
      "\r",
      "Step 3/3 :  75%|███████▌  | 3770/5000 [00:52<00:13, 91.58it/s]"
     ]
    },
    {
     "name": "stderr",
     "output_type": "stream",
     "text": [
      "\r",
      "Step 3/3 :  75%|███████▌  | 3770/5000 [00:52<00:13, 91.58it/s]"
     ]
    },
    {
     "name": "stderr",
     "output_type": "stream",
     "text": [
      "\r",
      "Step 3/3 :  75%|███████▌  | 3770/5000 [00:52<00:13, 91.58it/s]"
     ]
    },
    {
     "name": "stderr",
     "output_type": "stream",
     "text": [
      "\r",
      "Step 3/3 :  75%|███████▌  | 3770/5000 [00:52<00:13, 91.58it/s]"
     ]
    },
    {
     "name": "stderr",
     "output_type": "stream",
     "text": [
      "\r",
      "Step 3/3 :  75%|███████▌  | 3770/5000 [00:52<00:13, 91.58it/s]"
     ]
    },
    {
     "name": "stderr",
     "output_type": "stream",
     "text": [
      "\r",
      "Step 3/3 :  75%|███████▌  | 3770/5000 [00:52<00:13, 91.58it/s]"
     ]
    },
    {
     "name": "stderr",
     "output_type": "stream",
     "text": [
      "\r",
      "Step 3/3 :  75%|███████▌  | 3770/5000 [00:52<00:13, 91.58it/s]"
     ]
    },
    {
     "name": "stderr",
     "output_type": "stream",
     "text": [
      "\r",
      "Step 3/3 :  75%|███████▌  | 3770/5000 [00:52<00:13, 91.58it/s]"
     ]
    },
    {
     "name": "stderr",
     "output_type": "stream",
     "text": [
      "\r",
      "Step 3/3 :  76%|███████▌  | 3780/5000 [00:52<00:14, 82.59it/s]"
     ]
    },
    {
     "name": "stderr",
     "output_type": "stream",
     "text": [
      "\r",
      "Step 3/3 :  76%|███████▌  | 3780/5000 [00:52<00:14, 82.59it/s]"
     ]
    },
    {
     "name": "stderr",
     "output_type": "stream",
     "text": [
      "\r",
      "Step 3/3 :  76%|███████▌  | 3780/5000 [00:52<00:14, 82.59it/s]"
     ]
    },
    {
     "name": "stderr",
     "output_type": "stream",
     "text": [
      "\r",
      "Step 3/3 :  76%|███████▌  | 3780/5000 [00:52<00:14, 82.59it/s]"
     ]
    },
    {
     "name": "stderr",
     "output_type": "stream",
     "text": [
      "\r",
      "Step 3/3 :  76%|███████▌  | 3780/5000 [00:52<00:14, 82.59it/s]"
     ]
    },
    {
     "name": "stderr",
     "output_type": "stream",
     "text": [
      "\r",
      "Step 3/3 :  76%|███████▌  | 3780/5000 [00:52<00:14, 82.59it/s]"
     ]
    },
    {
     "name": "stderr",
     "output_type": "stream",
     "text": [
      "\r",
      "Step 3/3 :  76%|███████▌  | 3780/5000 [00:52<00:14, 82.59it/s]"
     ]
    },
    {
     "name": "stderr",
     "output_type": "stream",
     "text": [
      "\r",
      "Step 3/3 :  76%|███████▌  | 3780/5000 [00:52<00:14, 82.59it/s]"
     ]
    },
    {
     "name": "stderr",
     "output_type": "stream",
     "text": [
      "\r",
      "Step 3/3 :  76%|███████▌  | 3780/5000 [00:52<00:14, 82.59it/s]"
     ]
    },
    {
     "name": "stderr",
     "output_type": "stream",
     "text": [
      "\r",
      "Step 3/3 :  76%|███████▌  | 3780/5000 [00:52<00:14, 82.59it/s]"
     ]
    },
    {
     "name": "stderr",
     "output_type": "stream",
     "text": [
      "\r",
      "Step 3/3 :  76%|███████▌  | 3789/5000 [00:52<00:14, 82.79it/s]"
     ]
    },
    {
     "name": "stderr",
     "output_type": "stream",
     "text": [
      "\r",
      "Step 3/3 :  76%|███████▌  | 3789/5000 [00:52<00:14, 82.79it/s]"
     ]
    },
    {
     "name": "stderr",
     "output_type": "stream",
     "text": [
      "\r",
      "Step 3/3 :  76%|███████▌  | 3789/5000 [00:52<00:14, 82.79it/s]"
     ]
    },
    {
     "name": "stderr",
     "output_type": "stream",
     "text": [
      "\r",
      "Step 3/3 :  76%|███████▌  | 3789/5000 [00:52<00:14, 82.79it/s]"
     ]
    },
    {
     "name": "stderr",
     "output_type": "stream",
     "text": [
      "\r",
      "Step 3/3 :  76%|███████▌  | 3789/5000 [00:52<00:14, 82.79it/s]"
     ]
    },
    {
     "name": "stderr",
     "output_type": "stream",
     "text": [
      "\r",
      "Step 3/3 :  76%|███████▌  | 3789/5000 [00:52<00:14, 82.79it/s]"
     ]
    },
    {
     "name": "stderr",
     "output_type": "stream",
     "text": [
      "\r",
      "Step 3/3 :  76%|███████▌  | 3789/5000 [00:52<00:14, 82.79it/s]"
     ]
    },
    {
     "name": "stderr",
     "output_type": "stream",
     "text": [
      "\r",
      "Step 3/3 :  76%|███████▌  | 3789/5000 [00:52<00:14, 82.79it/s]"
     ]
    },
    {
     "name": "stderr",
     "output_type": "stream",
     "text": [
      "\r",
      "Step 3/3 :  76%|███████▌  | 3789/5000 [00:52<00:14, 82.79it/s]"
     ]
    },
    {
     "name": "stderr",
     "output_type": "stream",
     "text": [
      "\r",
      "Step 3/3 :  76%|███████▌  | 3789/5000 [00:52<00:14, 82.79it/s]"
     ]
    },
    {
     "name": "stderr",
     "output_type": "stream",
     "text": [
      "\r",
      "Step 3/3 :  76%|███████▌  | 3789/5000 [00:52<00:14, 82.79it/s]"
     ]
    },
    {
     "name": "stderr",
     "output_type": "stream",
     "text": [
      "\r",
      "Step 3/3 :  76%|███████▌  | 3799/5000 [00:52<00:14, 85.77it/s]"
     ]
    },
    {
     "name": "stderr",
     "output_type": "stream",
     "text": [
      "\r",
      "Step 3/3 :  76%|███████▌  | 3799/5000 [00:52<00:14, 85.77it/s]"
     ]
    },
    {
     "name": "stderr",
     "output_type": "stream",
     "text": [
      "\r",
      "Step 3/3 :  76%|███████▌  | 3799/5000 [00:52<00:14, 85.77it/s]"
     ]
    },
    {
     "name": "stderr",
     "output_type": "stream",
     "text": [
      "\r",
      "Step 3/3 :  76%|███████▌  | 3799/5000 [00:52<00:14, 85.77it/s]"
     ]
    },
    {
     "name": "stderr",
     "output_type": "stream",
     "text": [
      "\r",
      "Step 3/3 :  76%|███████▌  | 3799/5000 [00:52<00:14, 85.77it/s]"
     ]
    },
    {
     "name": "stderr",
     "output_type": "stream",
     "text": [
      "\r",
      "Step 3/3 :  76%|███████▌  | 3799/5000 [00:52<00:14, 85.77it/s]"
     ]
    },
    {
     "name": "stderr",
     "output_type": "stream",
     "text": [
      "\r",
      "Step 3/3 :  76%|███████▌  | 3799/5000 [00:52<00:14, 85.77it/s]"
     ]
    },
    {
     "name": "stderr",
     "output_type": "stream",
     "text": [
      "\r",
      "Step 3/3 :  76%|███████▌  | 3799/5000 [00:52<00:14, 85.77it/s]"
     ]
    },
    {
     "name": "stderr",
     "output_type": "stream",
     "text": [
      "\r",
      "Step 3/3 :  76%|███████▌  | 3799/5000 [00:52<00:14, 85.77it/s]"
     ]
    },
    {
     "name": "stderr",
     "output_type": "stream",
     "text": [
      "\r",
      "Step 3/3 :  76%|███████▌  | 3799/5000 [00:52<00:14, 85.77it/s]"
     ]
    },
    {
     "name": "stderr",
     "output_type": "stream",
     "text": [
      "\r",
      "Step 3/3 :  76%|███████▌  | 3808/5000 [00:52<00:13, 86.46it/s]"
     ]
    },
    {
     "name": "stderr",
     "output_type": "stream",
     "text": [
      "\r",
      "Step 3/3 :  76%|███████▌  | 3808/5000 [00:52<00:13, 86.46it/s]"
     ]
    },
    {
     "name": "stderr",
     "output_type": "stream",
     "text": [
      "\r",
      "Step 3/3 :  76%|███████▌  | 3808/5000 [00:52<00:13, 86.46it/s]"
     ]
    },
    {
     "name": "stderr",
     "output_type": "stream",
     "text": [
      "\r",
      "Step 3/3 :  76%|███████▌  | 3808/5000 [00:52<00:13, 86.46it/s]"
     ]
    },
    {
     "name": "stderr",
     "output_type": "stream",
     "text": [
      "\r",
      "Step 3/3 :  76%|███████▌  | 3808/5000 [00:52<00:13, 86.46it/s]"
     ]
    },
    {
     "name": "stderr",
     "output_type": "stream",
     "text": [
      "\r",
      "Step 3/3 :  76%|███████▌  | 3808/5000 [00:52<00:13, 86.46it/s]"
     ]
    },
    {
     "name": "stderr",
     "output_type": "stream",
     "text": [
      "\r",
      "Step 3/3 :  76%|███████▌  | 3808/5000 [00:52<00:13, 86.46it/s]"
     ]
    },
    {
     "name": "stderr",
     "output_type": "stream",
     "text": [
      "\r",
      "Step 3/3 :  76%|███████▌  | 3808/5000 [00:53<00:13, 86.46it/s]"
     ]
    },
    {
     "name": "stderr",
     "output_type": "stream",
     "text": [
      "\r",
      "Step 3/3 :  76%|███████▌  | 3808/5000 [00:53<00:13, 86.46it/s]"
     ]
    },
    {
     "name": "stderr",
     "output_type": "stream",
     "text": [
      "\r",
      "Step 3/3 :  76%|███████▌  | 3808/5000 [00:53<00:13, 86.46it/s]"
     ]
    },
    {
     "name": "stderr",
     "output_type": "stream",
     "text": [
      "\r",
      "Step 3/3 :  76%|███████▋  | 3817/5000 [00:53<00:13, 86.97it/s]"
     ]
    },
    {
     "name": "stderr",
     "output_type": "stream",
     "text": [
      "\r",
      "Step 3/3 :  76%|███████▋  | 3817/5000 [00:53<00:13, 86.97it/s]"
     ]
    },
    {
     "name": "stderr",
     "output_type": "stream",
     "text": [
      "\r",
      "Step 3/3 :  76%|███████▋  | 3817/5000 [00:53<00:13, 86.97it/s]"
     ]
    },
    {
     "name": "stderr",
     "output_type": "stream",
     "text": [
      "\r",
      "Step 3/3 :  76%|███████▋  | 3817/5000 [00:53<00:13, 86.97it/s]"
     ]
    },
    {
     "name": "stderr",
     "output_type": "stream",
     "text": [
      "\r",
      "Step 3/3 :  76%|███████▋  | 3817/5000 [00:53<00:13, 86.97it/s]"
     ]
    },
    {
     "name": "stderr",
     "output_type": "stream",
     "text": [
      "\r",
      "Step 3/3 :  76%|███████▋  | 3817/5000 [00:53<00:13, 86.97it/s]"
     ]
    },
    {
     "name": "stderr",
     "output_type": "stream",
     "text": [
      "\r",
      "Step 3/3 :  76%|███████▋  | 3817/5000 [00:53<00:13, 86.97it/s]"
     ]
    },
    {
     "name": "stderr",
     "output_type": "stream",
     "text": [
      "\r",
      "Step 3/3 :  76%|███████▋  | 3817/5000 [00:53<00:13, 86.97it/s]"
     ]
    },
    {
     "name": "stderr",
     "output_type": "stream",
     "text": [
      "\r",
      "Step 3/3 :  76%|███████▋  | 3817/5000 [00:53<00:13, 86.97it/s]"
     ]
    },
    {
     "name": "stderr",
     "output_type": "stream",
     "text": [
      "\r",
      "Step 3/3 :  76%|███████▋  | 3817/5000 [00:53<00:13, 86.97it/s]"
     ]
    },
    {
     "name": "stderr",
     "output_type": "stream",
     "text": [
      "\r",
      "Step 3/3 :  77%|███████▋  | 3826/5000 [00:53<00:13, 87.82it/s]"
     ]
    },
    {
     "name": "stderr",
     "output_type": "stream",
     "text": [
      "\r",
      "Step 3/3 :  77%|███████▋  | 3826/5000 [00:53<00:13, 87.82it/s]"
     ]
    },
    {
     "name": "stderr",
     "output_type": "stream",
     "text": [
      "\r",
      "Step 3/3 :  77%|███████▋  | 3826/5000 [00:53<00:13, 87.82it/s]"
     ]
    },
    {
     "name": "stderr",
     "output_type": "stream",
     "text": [
      "\r",
      "Step 3/3 :  77%|███████▋  | 3826/5000 [00:53<00:13, 87.82it/s]"
     ]
    },
    {
     "name": "stderr",
     "output_type": "stream",
     "text": [
      "\r",
      "Step 3/3 :  77%|███████▋  | 3826/5000 [00:53<00:13, 87.82it/s]"
     ]
    },
    {
     "name": "stderr",
     "output_type": "stream",
     "text": [
      "\r",
      "Step 3/3 :  77%|███████▋  | 3826/5000 [00:53<00:13, 87.82it/s]"
     ]
    },
    {
     "name": "stderr",
     "output_type": "stream",
     "text": [
      "\r",
      "Step 3/3 :  77%|███████▋  | 3826/5000 [00:53<00:13, 87.82it/s]"
     ]
    },
    {
     "name": "stderr",
     "output_type": "stream",
     "text": [
      "\r",
      "Step 3/3 :  77%|███████▋  | 3826/5000 [00:53<00:13, 87.82it/s]"
     ]
    },
    {
     "name": "stderr",
     "output_type": "stream",
     "text": [
      "\r",
      "Step 3/3 :  77%|███████▋  | 3826/5000 [00:53<00:13, 87.82it/s]"
     ]
    },
    {
     "name": "stderr",
     "output_type": "stream",
     "text": [
      "\r",
      "Step 3/3 :  77%|███████▋  | 3826/5000 [00:53<00:13, 87.82it/s]"
     ]
    },
    {
     "name": "stderr",
     "output_type": "stream",
     "text": [
      "\r",
      "Step 3/3 :  77%|███████▋  | 3835/5000 [00:53<00:13, 86.95it/s]"
     ]
    },
    {
     "name": "stderr",
     "output_type": "stream",
     "text": [
      "\r",
      "Step 3/3 :  77%|███████▋  | 3835/5000 [00:53<00:13, 86.95it/s]"
     ]
    },
    {
     "name": "stderr",
     "output_type": "stream",
     "text": [
      "\r",
      "Step 3/3 :  77%|███████▋  | 3835/5000 [00:53<00:13, 86.95it/s]"
     ]
    },
    {
     "name": "stderr",
     "output_type": "stream",
     "text": [
      "\r",
      "Step 3/3 :  77%|███████▋  | 3835/5000 [00:53<00:13, 86.95it/s]"
     ]
    },
    {
     "name": "stderr",
     "output_type": "stream",
     "text": [
      "\r",
      "Step 3/3 :  77%|███████▋  | 3835/5000 [00:53<00:13, 86.95it/s]"
     ]
    },
    {
     "name": "stderr",
     "output_type": "stream",
     "text": [
      "\r",
      "Step 3/3 :  77%|███████▋  | 3835/5000 [00:53<00:13, 86.95it/s]"
     ]
    },
    {
     "name": "stderr",
     "output_type": "stream",
     "text": [
      "\r",
      "Step 3/3 :  77%|███████▋  | 3835/5000 [00:53<00:13, 86.95it/s]"
     ]
    },
    {
     "name": "stderr",
     "output_type": "stream",
     "text": [
      "\r",
      "Step 3/3 :  77%|███████▋  | 3835/5000 [00:53<00:13, 86.95it/s]"
     ]
    },
    {
     "name": "stderr",
     "output_type": "stream",
     "text": [
      "\r",
      "Step 3/3 :  77%|███████▋  | 3835/5000 [00:53<00:13, 86.95it/s]"
     ]
    },
    {
     "name": "stderr",
     "output_type": "stream",
     "text": [
      "\r",
      "Step 3/3 :  77%|███████▋  | 3835/5000 [00:53<00:13, 86.95it/s]"
     ]
    },
    {
     "name": "stderr",
     "output_type": "stream",
     "text": [
      "\r",
      "Step 3/3 :  77%|███████▋  | 3844/5000 [00:53<00:14, 80.60it/s]"
     ]
    },
    {
     "name": "stderr",
     "output_type": "stream",
     "text": [
      "\r",
      "Step 3/3 :  77%|███████▋  | 3844/5000 [00:53<00:14, 80.60it/s]"
     ]
    },
    {
     "name": "stderr",
     "output_type": "stream",
     "text": [
      "\r",
      "Step 3/3 :  77%|███████▋  | 3844/5000 [00:53<00:14, 80.60it/s]"
     ]
    },
    {
     "name": "stderr",
     "output_type": "stream",
     "text": [
      "\r",
      "Step 3/3 :  77%|███████▋  | 3844/5000 [00:53<00:14, 80.60it/s]"
     ]
    },
    {
     "name": "stderr",
     "output_type": "stream",
     "text": [
      "\r",
      "Step 3/3 :  77%|███████▋  | 3844/5000 [00:53<00:14, 80.60it/s]"
     ]
    },
    {
     "name": "stderr",
     "output_type": "stream",
     "text": [
      "\r",
      "Step 3/3 :  77%|███████▋  | 3844/5000 [00:53<00:14, 80.60it/s]"
     ]
    },
    {
     "name": "stderr",
     "output_type": "stream",
     "text": [
      "\r",
      "Step 3/3 :  77%|███████▋  | 3844/5000 [00:53<00:14, 80.60it/s]"
     ]
    },
    {
     "name": "stderr",
     "output_type": "stream",
     "text": [
      "\r",
      "Step 3/3 :  77%|███████▋  | 3844/5000 [00:53<00:14, 80.60it/s]"
     ]
    },
    {
     "name": "stderr",
     "output_type": "stream",
     "text": [
      "\r",
      "Step 3/3 :  77%|███████▋  | 3844/5000 [00:53<00:14, 80.60it/s]"
     ]
    },
    {
     "name": "stderr",
     "output_type": "stream",
     "text": [
      "\r",
      "Step 3/3 :  77%|███████▋  | 3844/5000 [00:53<00:14, 80.60it/s]"
     ]
    },
    {
     "name": "stderr",
     "output_type": "stream",
     "text": [
      "\r",
      "Step 3/3 :  77%|███████▋  | 3853/5000 [00:53<00:15, 73.50it/s]"
     ]
    },
    {
     "name": "stderr",
     "output_type": "stream",
     "text": [
      "\r",
      "Step 3/3 :  77%|███████▋  | 3853/5000 [00:53<00:15, 73.50it/s]"
     ]
    },
    {
     "name": "stderr",
     "output_type": "stream",
     "text": [
      "\r",
      "Step 3/3 :  77%|███████▋  | 3853/5000 [00:53<00:15, 73.50it/s]"
     ]
    },
    {
     "name": "stderr",
     "output_type": "stream",
     "text": [
      "\r",
      "Step 3/3 :  77%|███████▋  | 3853/5000 [00:53<00:15, 73.50it/s]"
     ]
    },
    {
     "name": "stderr",
     "output_type": "stream",
     "text": [
      "\r",
      "Step 3/3 :  77%|███████▋  | 3853/5000 [00:53<00:15, 73.50it/s]"
     ]
    },
    {
     "name": "stderr",
     "output_type": "stream",
     "text": [
      "\r",
      "Step 3/3 :  77%|███████▋  | 3853/5000 [00:53<00:15, 73.50it/s]"
     ]
    },
    {
     "name": "stderr",
     "output_type": "stream",
     "text": [
      "\r",
      "Step 3/3 :  77%|███████▋  | 3853/5000 [00:53<00:15, 73.50it/s]"
     ]
    },
    {
     "name": "stderr",
     "output_type": "stream",
     "text": [
      "\r",
      "Step 3/3 :  77%|███████▋  | 3853/5000 [00:53<00:15, 73.50it/s]"
     ]
    },
    {
     "name": "stderr",
     "output_type": "stream",
     "text": [
      "\r",
      "Step 3/3 :  77%|███████▋  | 3853/5000 [00:53<00:15, 73.50it/s]"
     ]
    },
    {
     "name": "stderr",
     "output_type": "stream",
     "text": [
      "\r",
      "Step 3/3 :  77%|███████▋  | 3861/5000 [00:53<00:15, 72.92it/s]"
     ]
    },
    {
     "name": "stderr",
     "output_type": "stream",
     "text": [
      "\r",
      "Step 3/3 :  77%|███████▋  | 3861/5000 [00:53<00:15, 72.92it/s]"
     ]
    },
    {
     "name": "stderr",
     "output_type": "stream",
     "text": [
      "\r",
      "Step 3/3 :  77%|███████▋  | 3861/5000 [00:53<00:15, 72.92it/s]"
     ]
    },
    {
     "name": "stderr",
     "output_type": "stream",
     "text": [
      "\r",
      "Step 3/3 :  77%|███████▋  | 3861/5000 [00:53<00:15, 72.92it/s]"
     ]
    },
    {
     "name": "stderr",
     "output_type": "stream",
     "text": [
      "\r",
      "Step 3/3 :  77%|███████▋  | 3861/5000 [00:53<00:15, 72.92it/s]"
     ]
    },
    {
     "name": "stderr",
     "output_type": "stream",
     "text": [
      "\r",
      "Step 3/3 :  77%|███████▋  | 3861/5000 [00:53<00:15, 72.92it/s]"
     ]
    },
    {
     "name": "stderr",
     "output_type": "stream",
     "text": [
      "\r",
      "Step 3/3 :  77%|███████▋  | 3861/5000 [00:53<00:15, 72.92it/s]"
     ]
    },
    {
     "name": "stderr",
     "output_type": "stream",
     "text": [
      "\r",
      "Step 3/3 :  77%|███████▋  | 3861/5000 [00:53<00:15, 72.92it/s]"
     ]
    },
    {
     "name": "stderr",
     "output_type": "stream",
     "text": [
      "\r",
      "Step 3/3 :  77%|███████▋  | 3861/5000 [00:53<00:15, 72.92it/s]"
     ]
    },
    {
     "name": "stderr",
     "output_type": "stream",
     "text": [
      "\r",
      "Step 3/3 :  77%|███████▋  | 3869/5000 [00:53<00:15, 74.00it/s]"
     ]
    },
    {
     "name": "stderr",
     "output_type": "stream",
     "text": [
      "\r",
      "Step 3/3 :  77%|███████▋  | 3869/5000 [00:53<00:15, 74.00it/s]"
     ]
    },
    {
     "name": "stderr",
     "output_type": "stream",
     "text": [
      "\r",
      "Step 3/3 :  77%|███████▋  | 3869/5000 [00:53<00:15, 74.00it/s]"
     ]
    },
    {
     "name": "stderr",
     "output_type": "stream",
     "text": [
      "\r",
      "Step 3/3 :  77%|███████▋  | 3869/5000 [00:53<00:15, 74.00it/s]"
     ]
    },
    {
     "name": "stderr",
     "output_type": "stream",
     "text": [
      "\r",
      "Step 3/3 :  77%|███████▋  | 3869/5000 [00:53<00:15, 74.00it/s]"
     ]
    },
    {
     "name": "stderr",
     "output_type": "stream",
     "text": [
      "\r",
      "Step 3/3 :  77%|███████▋  | 3869/5000 [00:53<00:15, 74.00it/s]"
     ]
    },
    {
     "name": "stderr",
     "output_type": "stream",
     "text": [
      "\r",
      "Step 3/3 :  77%|███████▋  | 3869/5000 [00:53<00:15, 74.00it/s]"
     ]
    },
    {
     "name": "stderr",
     "output_type": "stream",
     "text": [
      "\r",
      "Step 3/3 :  77%|███████▋  | 3869/5000 [00:53<00:15, 74.00it/s]"
     ]
    },
    {
     "name": "stderr",
     "output_type": "stream",
     "text": [
      "\r",
      "Step 3/3 :  77%|███████▋  | 3869/5000 [00:53<00:15, 74.00it/s]"
     ]
    },
    {
     "name": "stderr",
     "output_type": "stream",
     "text": [
      "\r",
      "Step 3/3 :  78%|███████▊  | 3877/5000 [00:53<00:17, 65.21it/s]"
     ]
    },
    {
     "name": "stderr",
     "output_type": "stream",
     "text": [
      "\r",
      "Step 3/3 :  78%|███████▊  | 3877/5000 [00:53<00:17, 65.21it/s]"
     ]
    },
    {
     "name": "stderr",
     "output_type": "stream",
     "text": [
      "\r",
      "Step 3/3 :  78%|███████▊  | 3877/5000 [00:53<00:17, 65.21it/s]"
     ]
    },
    {
     "name": "stderr",
     "output_type": "stream",
     "text": [
      "\r",
      "Step 3/3 :  78%|███████▊  | 3877/5000 [00:53<00:17, 65.21it/s]"
     ]
    },
    {
     "name": "stderr",
     "output_type": "stream",
     "text": [
      "\r",
      "Step 3/3 :  78%|███████▊  | 3877/5000 [00:53<00:17, 65.21it/s]"
     ]
    },
    {
     "name": "stderr",
     "output_type": "stream",
     "text": [
      "\r",
      "Step 3/3 :  78%|███████▊  | 3877/5000 [00:53<00:17, 65.21it/s]"
     ]
    },
    {
     "name": "stderr",
     "output_type": "stream",
     "text": [
      "\r",
      "Step 3/3 :  78%|███████▊  | 3877/5000 [00:53<00:17, 65.21it/s]"
     ]
    },
    {
     "name": "stderr",
     "output_type": "stream",
     "text": [
      "\r",
      "Step 3/3 :  78%|███████▊  | 3877/5000 [00:53<00:17, 65.21it/s]"
     ]
    },
    {
     "name": "stderr",
     "output_type": "stream",
     "text": [
      "\r",
      "Step 3/3 :  78%|███████▊  | 3877/5000 [00:53<00:17, 65.21it/s]"
     ]
    },
    {
     "name": "stderr",
     "output_type": "stream",
     "text": [
      "\r",
      "Step 3/3 :  78%|███████▊  | 3885/5000 [00:53<00:16, 68.39it/s]"
     ]
    },
    {
     "name": "stderr",
     "output_type": "stream",
     "text": [
      "\r",
      "Step 3/3 :  78%|███████▊  | 3885/5000 [00:53<00:16, 68.39it/s]"
     ]
    },
    {
     "name": "stderr",
     "output_type": "stream",
     "text": [
      "\r",
      "Step 3/3 :  78%|███████▊  | 3885/5000 [00:54<00:16, 68.39it/s]"
     ]
    },
    {
     "name": "stderr",
     "output_type": "stream",
     "text": [
      "\r",
      "Step 3/3 :  78%|███████▊  | 3885/5000 [00:54<00:16, 68.39it/s]"
     ]
    },
    {
     "name": "stderr",
     "output_type": "stream",
     "text": [
      "\r",
      "Step 3/3 :  78%|███████▊  | 3885/5000 [00:54<00:16, 68.39it/s]"
     ]
    },
    {
     "name": "stderr",
     "output_type": "stream",
     "text": [
      "\r",
      "Step 3/3 :  78%|███████▊  | 3885/5000 [00:54<00:16, 68.39it/s]"
     ]
    },
    {
     "name": "stderr",
     "output_type": "stream",
     "text": [
      "\r",
      "Step 3/3 :  78%|███████▊  | 3885/5000 [00:54<00:16, 68.39it/s]"
     ]
    },
    {
     "name": "stderr",
     "output_type": "stream",
     "text": [
      "\r",
      "Step 3/3 :  78%|███████▊  | 3885/5000 [00:54<00:16, 68.39it/s]"
     ]
    },
    {
     "name": "stderr",
     "output_type": "stream",
     "text": [
      "\r",
      "Step 3/3 :  78%|███████▊  | 3885/5000 [00:54<00:16, 68.39it/s]"
     ]
    },
    {
     "name": "stderr",
     "output_type": "stream",
     "text": [
      "\r",
      "Step 3/3 :  78%|███████▊  | 3893/5000 [00:54<00:16, 68.73it/s]"
     ]
    },
    {
     "name": "stderr",
     "output_type": "stream",
     "text": [
      "\r",
      "Step 3/3 :  78%|███████▊  | 3893/5000 [00:54<00:16, 68.73it/s]"
     ]
    },
    {
     "name": "stderr",
     "output_type": "stream",
     "text": [
      "\r",
      "Step 3/3 :  78%|███████▊  | 3893/5000 [00:54<00:16, 68.73it/s]"
     ]
    },
    {
     "name": "stderr",
     "output_type": "stream",
     "text": [
      "\r",
      "Step 3/3 :  78%|███████▊  | 3893/5000 [00:54<00:16, 68.73it/s]"
     ]
    },
    {
     "name": "stderr",
     "output_type": "stream",
     "text": [
      "\r",
      "Step 3/3 :  78%|███████▊  | 3893/5000 [00:54<00:16, 68.73it/s]"
     ]
    },
    {
     "name": "stderr",
     "output_type": "stream",
     "text": [
      "\r",
      "Step 3/3 :  78%|███████▊  | 3893/5000 [00:54<00:16, 68.73it/s]"
     ]
    },
    {
     "name": "stderr",
     "output_type": "stream",
     "text": [
      "\r",
      "Step 3/3 :  78%|███████▊  | 3893/5000 [00:54<00:16, 68.73it/s]"
     ]
    },
    {
     "name": "stderr",
     "output_type": "stream",
     "text": [
      "\r",
      "Step 3/3 :  78%|███████▊  | 3893/5000 [00:54<00:16, 68.73it/s]"
     ]
    },
    {
     "name": "stderr",
     "output_type": "stream",
     "text": [
      "\r",
      "Step 3/3 :  78%|███████▊  | 3893/5000 [00:54<00:16, 68.73it/s]"
     ]
    },
    {
     "name": "stderr",
     "output_type": "stream",
     "text": [
      "\r",
      "Step 3/3 :  78%|███████▊  | 3901/5000 [00:54<00:15, 69.93it/s]"
     ]
    },
    {
     "name": "stderr",
     "output_type": "stream",
     "text": [
      "\r",
      "Step 3/3 :  78%|███████▊  | 3901/5000 [00:54<00:15, 69.93it/s]"
     ]
    },
    {
     "name": "stderr",
     "output_type": "stream",
     "text": [
      "\r",
      "Step 3/3 :  78%|███████▊  | 3901/5000 [00:54<00:15, 69.93it/s]"
     ]
    },
    {
     "name": "stderr",
     "output_type": "stream",
     "text": [
      "\r",
      "Step 3/3 :  78%|███████▊  | 3901/5000 [00:54<00:15, 69.93it/s]"
     ]
    },
    {
     "name": "stderr",
     "output_type": "stream",
     "text": [
      "\r",
      "Step 3/3 :  78%|███████▊  | 3901/5000 [00:54<00:15, 69.93it/s]"
     ]
    },
    {
     "name": "stderr",
     "output_type": "stream",
     "text": [
      "\r",
      "Step 3/3 :  78%|███████▊  | 3901/5000 [00:54<00:15, 69.93it/s]"
     ]
    },
    {
     "name": "stderr",
     "output_type": "stream",
     "text": [
      "\r",
      "Step 3/3 :  78%|███████▊  | 3901/5000 [00:54<00:15, 69.93it/s]"
     ]
    },
    {
     "name": "stderr",
     "output_type": "stream",
     "text": [
      "\r",
      "Step 3/3 :  78%|███████▊  | 3901/5000 [00:54<00:15, 69.93it/s]"
     ]
    },
    {
     "name": "stderr",
     "output_type": "stream",
     "text": [
      "\r",
      "Step 3/3 :  78%|███████▊  | 3901/5000 [00:54<00:15, 69.93it/s]"
     ]
    },
    {
     "name": "stderr",
     "output_type": "stream",
     "text": [
      "\r",
      "Step 3/3 :  78%|███████▊  | 3909/5000 [00:54<00:15, 71.30it/s]"
     ]
    },
    {
     "name": "stderr",
     "output_type": "stream",
     "text": [
      "\r",
      "Step 3/3 :  78%|███████▊  | 3909/5000 [00:54<00:15, 71.30it/s]"
     ]
    },
    {
     "name": "stderr",
     "output_type": "stream",
     "text": [
      "\r",
      "Step 3/3 :  78%|███████▊  | 3909/5000 [00:54<00:15, 71.30it/s]"
     ]
    },
    {
     "name": "stderr",
     "output_type": "stream",
     "text": [
      "\r",
      "Step 3/3 :  78%|███████▊  | 3909/5000 [00:54<00:15, 71.30it/s]"
     ]
    },
    {
     "name": "stderr",
     "output_type": "stream",
     "text": [
      "\r",
      "Step 3/3 :  78%|███████▊  | 3909/5000 [00:54<00:15, 71.30it/s]"
     ]
    },
    {
     "name": "stderr",
     "output_type": "stream",
     "text": [
      "\r",
      "Step 3/3 :  78%|███████▊  | 3909/5000 [00:54<00:15, 71.30it/s]"
     ]
    },
    {
     "name": "stderr",
     "output_type": "stream",
     "text": [
      "\r",
      "Step 3/3 :  78%|███████▊  | 3909/5000 [00:54<00:15, 71.30it/s]"
     ]
    },
    {
     "name": "stderr",
     "output_type": "stream",
     "text": [
      "\r",
      "Step 3/3 :  78%|███████▊  | 3909/5000 [00:54<00:15, 71.30it/s]"
     ]
    },
    {
     "name": "stderr",
     "output_type": "stream",
     "text": [
      "\r",
      "Step 3/3 :  78%|███████▊  | 3909/5000 [00:54<00:15, 71.30it/s]"
     ]
    },
    {
     "name": "stderr",
     "output_type": "stream",
     "text": [
      "\r",
      "Step 3/3 :  78%|███████▊  | 3917/5000 [00:54<00:15, 70.96it/s]"
     ]
    },
    {
     "name": "stderr",
     "output_type": "stream",
     "text": [
      "\r",
      "Step 3/3 :  78%|███████▊  | 3917/5000 [00:54<00:15, 70.96it/s]"
     ]
    },
    {
     "name": "stderr",
     "output_type": "stream",
     "text": [
      "\r",
      "Step 3/3 :  78%|███████▊  | 3917/5000 [00:54<00:15, 70.96it/s]"
     ]
    },
    {
     "name": "stderr",
     "output_type": "stream",
     "text": [
      "\r",
      "Step 3/3 :  78%|███████▊  | 3917/5000 [00:54<00:15, 70.96it/s]"
     ]
    },
    {
     "name": "stderr",
     "output_type": "stream",
     "text": [
      "\r",
      "Step 3/3 :  78%|███████▊  | 3917/5000 [00:54<00:15, 70.96it/s]"
     ]
    },
    {
     "name": "stderr",
     "output_type": "stream",
     "text": [
      "\r",
      "Step 3/3 :  78%|███████▊  | 3917/5000 [00:54<00:15, 70.96it/s]"
     ]
    },
    {
     "name": "stderr",
     "output_type": "stream",
     "text": [
      "\r",
      "Step 3/3 :  78%|███████▊  | 3917/5000 [00:54<00:15, 70.96it/s]"
     ]
    },
    {
     "name": "stderr",
     "output_type": "stream",
     "text": [
      "\r",
      "Step 3/3 :  78%|███████▊  | 3917/5000 [00:54<00:15, 70.96it/s]"
     ]
    },
    {
     "name": "stderr",
     "output_type": "stream",
     "text": [
      "\r",
      "Step 3/3 :  78%|███████▊  | 3917/5000 [00:54<00:15, 70.96it/s]"
     ]
    },
    {
     "name": "stderr",
     "output_type": "stream",
     "text": [
      "\r",
      "Step 3/3 :  78%|███████▊  | 3925/5000 [00:54<00:16, 66.52it/s]"
     ]
    },
    {
     "name": "stderr",
     "output_type": "stream",
     "text": [
      "\r",
      "Step 3/3 :  78%|███████▊  | 3925/5000 [00:54<00:16, 66.52it/s]"
     ]
    },
    {
     "name": "stderr",
     "output_type": "stream",
     "text": [
      "\r",
      "Step 3/3 :  78%|███████▊  | 3925/5000 [00:54<00:16, 66.52it/s]"
     ]
    },
    {
     "name": "stderr",
     "output_type": "stream",
     "text": [
      "\r",
      "Step 3/3 :  78%|███████▊  | 3925/5000 [00:54<00:16, 66.52it/s]"
     ]
    },
    {
     "name": "stderr",
     "output_type": "stream",
     "text": [
      "\r",
      "Step 3/3 :  78%|███████▊  | 3925/5000 [00:54<00:16, 66.52it/s]"
     ]
    },
    {
     "name": "stderr",
     "output_type": "stream",
     "text": [
      "\r",
      "Step 3/3 :  78%|███████▊  | 3925/5000 [00:54<00:16, 66.52it/s]"
     ]
    },
    {
     "name": "stderr",
     "output_type": "stream",
     "text": [
      "\r",
      "Step 3/3 :  78%|███████▊  | 3925/5000 [00:54<00:16, 66.52it/s]"
     ]
    },
    {
     "name": "stderr",
     "output_type": "stream",
     "text": [
      "\r",
      "Step 3/3 :  78%|███████▊  | 3925/5000 [00:54<00:16, 66.52it/s]"
     ]
    },
    {
     "name": "stderr",
     "output_type": "stream",
     "text": [
      "\r",
      "Step 3/3 :  79%|███████▊  | 3932/5000 [00:54<00:16, 65.21it/s]"
     ]
    },
    {
     "name": "stderr",
     "output_type": "stream",
     "text": [
      "\r",
      "Step 3/3 :  79%|███████▊  | 3932/5000 [00:54<00:16, 65.21it/s]"
     ]
    },
    {
     "name": "stderr",
     "output_type": "stream",
     "text": [
      "\r",
      "Step 3/3 :  79%|███████▊  | 3932/5000 [00:54<00:16, 65.21it/s]"
     ]
    },
    {
     "name": "stderr",
     "output_type": "stream",
     "text": [
      "\r",
      "Step 3/3 :  79%|███████▊  | 3932/5000 [00:54<00:16, 65.21it/s]"
     ]
    },
    {
     "name": "stderr",
     "output_type": "stream",
     "text": [
      "\r",
      "Step 3/3 :  79%|███████▊  | 3932/5000 [00:54<00:16, 65.21it/s]"
     ]
    },
    {
     "name": "stderr",
     "output_type": "stream",
     "text": [
      "\r",
      "Step 3/3 :  79%|███████▊  | 3932/5000 [00:54<00:16, 65.21it/s]"
     ]
    },
    {
     "name": "stderr",
     "output_type": "stream",
     "text": [
      "\r",
      "Step 3/3 :  79%|███████▊  | 3932/5000 [00:54<00:16, 65.21it/s]"
     ]
    },
    {
     "name": "stderr",
     "output_type": "stream",
     "text": [
      "\r",
      "Step 3/3 :  79%|███████▊  | 3932/5000 [00:54<00:16, 65.21it/s]"
     ]
    },
    {
     "name": "stderr",
     "output_type": "stream",
     "text": [
      "\r",
      "Step 3/3 :  79%|███████▉  | 3939/5000 [00:54<00:16, 65.78it/s]"
     ]
    },
    {
     "name": "stderr",
     "output_type": "stream",
     "text": [
      "\r",
      "Step 3/3 :  79%|███████▉  | 3939/5000 [00:54<00:16, 65.78it/s]"
     ]
    },
    {
     "name": "stderr",
     "output_type": "stream",
     "text": [
      "\r",
      "Step 3/3 :  79%|███████▉  | 3939/5000 [00:54<00:16, 65.78it/s]"
     ]
    },
    {
     "name": "stderr",
     "output_type": "stream",
     "text": [
      "\r",
      "Step 3/3 :  79%|███████▉  | 3939/5000 [00:54<00:16, 65.78it/s]"
     ]
    },
    {
     "name": "stderr",
     "output_type": "stream",
     "text": [
      "\r",
      "Step 3/3 :  79%|███████▉  | 3939/5000 [00:54<00:16, 65.78it/s]"
     ]
    },
    {
     "name": "stderr",
     "output_type": "stream",
     "text": [
      "\r",
      "Step 3/3 :  79%|███████▉  | 3939/5000 [00:54<00:16, 65.78it/s]"
     ]
    },
    {
     "name": "stderr",
     "output_type": "stream",
     "text": [
      "\r",
      "Step 3/3 :  79%|███████▉  | 3939/5000 [00:54<00:16, 65.78it/s]"
     ]
    },
    {
     "name": "stderr",
     "output_type": "stream",
     "text": [
      "\r",
      "Step 3/3 :  79%|███████▉  | 3939/5000 [00:54<00:16, 65.78it/s]"
     ]
    },
    {
     "name": "stderr",
     "output_type": "stream",
     "text": [
      "\r",
      "Step 3/3 :  79%|███████▉  | 3946/5000 [00:54<00:16, 63.31it/s]"
     ]
    },
    {
     "name": "stderr",
     "output_type": "stream",
     "text": [
      "\r",
      "Step 3/3 :  79%|███████▉  | 3946/5000 [00:54<00:16, 63.31it/s]"
     ]
    },
    {
     "name": "stderr",
     "output_type": "stream",
     "text": [
      "\r",
      "Step 3/3 :  79%|███████▉  | 3946/5000 [00:54<00:16, 63.31it/s]"
     ]
    },
    {
     "name": "stderr",
     "output_type": "stream",
     "text": [
      "\r",
      "Step 3/3 :  79%|███████▉  | 3946/5000 [00:54<00:16, 63.31it/s]"
     ]
    },
    {
     "name": "stderr",
     "output_type": "stream",
     "text": [
      "\r",
      "Step 3/3 :  79%|███████▉  | 3946/5000 [00:54<00:16, 63.31it/s]"
     ]
    },
    {
     "name": "stderr",
     "output_type": "stream",
     "text": [
      "\r",
      "Step 3/3 :  79%|███████▉  | 3946/5000 [00:54<00:16, 63.31it/s]"
     ]
    },
    {
     "name": "stderr",
     "output_type": "stream",
     "text": [
      "\r",
      "Step 3/3 :  79%|███████▉  | 3946/5000 [00:54<00:16, 63.31it/s]"
     ]
    },
    {
     "name": "stderr",
     "output_type": "stream",
     "text": [
      "\r",
      "Step 3/3 :  79%|███████▉  | 3946/5000 [00:55<00:16, 63.31it/s]"
     ]
    },
    {
     "name": "stderr",
     "output_type": "stream",
     "text": [
      "\r",
      "Step 3/3 :  79%|███████▉  | 3946/5000 [00:55<00:16, 63.31it/s]"
     ]
    },
    {
     "name": "stderr",
     "output_type": "stream",
     "text": [
      "\r",
      "Step 3/3 :  79%|███████▉  | 3954/5000 [00:55<00:15, 66.20it/s]"
     ]
    },
    {
     "name": "stderr",
     "output_type": "stream",
     "text": [
      "\r",
      "Step 3/3 :  79%|███████▉  | 3954/5000 [00:55<00:15, 66.20it/s]"
     ]
    },
    {
     "name": "stderr",
     "output_type": "stream",
     "text": [
      "\r",
      "Step 3/3 :  79%|███████▉  | 3954/5000 [00:55<00:15, 66.20it/s]"
     ]
    },
    {
     "name": "stderr",
     "output_type": "stream",
     "text": [
      "\r",
      "Step 3/3 :  79%|███████▉  | 3954/5000 [00:55<00:15, 66.20it/s]"
     ]
    },
    {
     "name": "stderr",
     "output_type": "stream",
     "text": [
      "\r",
      "Step 3/3 :  79%|███████▉  | 3954/5000 [00:55<00:15, 66.20it/s]"
     ]
    },
    {
     "name": "stderr",
     "output_type": "stream",
     "text": [
      "\r",
      "Step 3/3 :  79%|███████▉  | 3954/5000 [00:55<00:15, 66.20it/s]"
     ]
    },
    {
     "name": "stderr",
     "output_type": "stream",
     "text": [
      "\r",
      "Step 3/3 :  79%|███████▉  | 3954/5000 [00:55<00:15, 66.20it/s]"
     ]
    },
    {
     "name": "stderr",
     "output_type": "stream",
     "text": [
      "\r",
      "Step 3/3 :  79%|███████▉  | 3954/5000 [00:55<00:15, 66.20it/s]"
     ]
    },
    {
     "name": "stderr",
     "output_type": "stream",
     "text": [
      "\r",
      "Step 3/3 :  79%|███████▉  | 3961/5000 [00:55<00:15, 67.05it/s]"
     ]
    },
    {
     "name": "stderr",
     "output_type": "stream",
     "text": [
      "\r",
      "Step 3/3 :  79%|███████▉  | 3961/5000 [00:55<00:15, 67.05it/s]"
     ]
    },
    {
     "name": "stderr",
     "output_type": "stream",
     "text": [
      "\r",
      "Step 3/3 :  79%|███████▉  | 3961/5000 [00:55<00:15, 67.05it/s]"
     ]
    },
    {
     "name": "stderr",
     "output_type": "stream",
     "text": [
      "\r",
      "Step 3/3 :  79%|███████▉  | 3961/5000 [00:55<00:15, 67.05it/s]"
     ]
    },
    {
     "name": "stderr",
     "output_type": "stream",
     "text": [
      "\r",
      "Step 3/3 :  79%|███████▉  | 3961/5000 [00:55<00:15, 67.05it/s]"
     ]
    },
    {
     "name": "stderr",
     "output_type": "stream",
     "text": [
      "\r",
      "Step 3/3 :  79%|███████▉  | 3961/5000 [00:55<00:15, 67.05it/s]"
     ]
    },
    {
     "name": "stderr",
     "output_type": "stream",
     "text": [
      "\r",
      "Step 3/3 :  79%|███████▉  | 3961/5000 [00:55<00:15, 67.05it/s]"
     ]
    },
    {
     "name": "stderr",
     "output_type": "stream",
     "text": [
      "\r",
      "Step 3/3 :  79%|███████▉  | 3961/5000 [00:55<00:15, 67.05it/s]"
     ]
    },
    {
     "name": "stderr",
     "output_type": "stream",
     "text": [
      "\r",
      "Step 3/3 :  79%|███████▉  | 3961/5000 [00:55<00:15, 67.05it/s]"
     ]
    },
    {
     "name": "stderr",
     "output_type": "stream",
     "text": [
      "\r",
      "Step 3/3 :  79%|███████▉  | 3969/5000 [00:55<00:14, 69.13it/s]"
     ]
    },
    {
     "name": "stderr",
     "output_type": "stream",
     "text": [
      "\r",
      "Step 3/3 :  79%|███████▉  | 3969/5000 [00:55<00:14, 69.13it/s]"
     ]
    },
    {
     "name": "stderr",
     "output_type": "stream",
     "text": [
      "\r",
      "Step 3/3 :  79%|███████▉  | 3969/5000 [00:55<00:14, 69.13it/s]"
     ]
    },
    {
     "name": "stderr",
     "output_type": "stream",
     "text": [
      "\r",
      "Step 3/3 :  79%|███████▉  | 3969/5000 [00:55<00:14, 69.13it/s]"
     ]
    },
    {
     "name": "stderr",
     "output_type": "stream",
     "text": [
      "\r",
      "Step 3/3 :  79%|███████▉  | 3969/5000 [00:55<00:14, 69.13it/s]"
     ]
    },
    {
     "name": "stderr",
     "output_type": "stream",
     "text": [
      "\r",
      "Step 3/3 :  79%|███████▉  | 3969/5000 [00:55<00:14, 69.13it/s]"
     ]
    },
    {
     "name": "stderr",
     "output_type": "stream",
     "text": [
      "\r",
      "Step 3/3 :  79%|███████▉  | 3969/5000 [00:55<00:14, 69.13it/s]"
     ]
    },
    {
     "name": "stderr",
     "output_type": "stream",
     "text": [
      "\r",
      "Step 3/3 :  79%|███████▉  | 3969/5000 [00:55<00:14, 69.13it/s]"
     ]
    },
    {
     "name": "stderr",
     "output_type": "stream",
     "text": [
      "\r",
      "Step 3/3 :  79%|███████▉  | 3969/5000 [00:55<00:14, 69.13it/s]"
     ]
    },
    {
     "name": "stderr",
     "output_type": "stream",
     "text": [
      "\r",
      "Step 3/3 :  80%|███████▉  | 3977/5000 [00:55<00:14, 69.64it/s]"
     ]
    },
    {
     "name": "stderr",
     "output_type": "stream",
     "text": [
      "\r",
      "Step 3/3 :  80%|███████▉  | 3977/5000 [00:55<00:14, 69.64it/s]"
     ]
    },
    {
     "name": "stderr",
     "output_type": "stream",
     "text": [
      "\r",
      "Step 3/3 :  80%|███████▉  | 3977/5000 [00:55<00:14, 69.64it/s]"
     ]
    },
    {
     "name": "stderr",
     "output_type": "stream",
     "text": [
      "\r",
      "Step 3/3 :  80%|███████▉  | 3977/5000 [00:55<00:14, 69.64it/s]"
     ]
    },
    {
     "name": "stderr",
     "output_type": "stream",
     "text": [
      "\r",
      "Step 3/3 :  80%|███████▉  | 3977/5000 [00:55<00:14, 69.64it/s]"
     ]
    },
    {
     "name": "stderr",
     "output_type": "stream",
     "text": [
      "\r",
      "Step 3/3 :  80%|███████▉  | 3977/5000 [00:55<00:14, 69.64it/s]"
     ]
    },
    {
     "name": "stderr",
     "output_type": "stream",
     "text": [
      "\r",
      "Step 3/3 :  80%|███████▉  | 3977/5000 [00:55<00:14, 69.64it/s]"
     ]
    },
    {
     "name": "stderr",
     "output_type": "stream",
     "text": [
      "\r",
      "Step 3/3 :  80%|███████▉  | 3977/5000 [00:55<00:14, 69.64it/s]"
     ]
    },
    {
     "name": "stderr",
     "output_type": "stream",
     "text": [
      "\r",
      "Step 3/3 :  80%|███████▉  | 3977/5000 [00:55<00:14, 69.64it/s]"
     ]
    },
    {
     "name": "stderr",
     "output_type": "stream",
     "text": [
      "\r",
      "Step 3/3 :  80%|███████▉  | 3985/5000 [00:55<00:14, 70.37it/s]"
     ]
    },
    {
     "name": "stderr",
     "output_type": "stream",
     "text": [
      "\r",
      "Step 3/3 :  80%|███████▉  | 3985/5000 [00:55<00:14, 70.37it/s]"
     ]
    },
    {
     "name": "stderr",
     "output_type": "stream",
     "text": [
      "\r",
      "Step 3/3 :  80%|███████▉  | 3985/5000 [00:55<00:14, 70.37it/s]"
     ]
    },
    {
     "name": "stderr",
     "output_type": "stream",
     "text": [
      "\r",
      "Step 3/3 :  80%|███████▉  | 3985/5000 [00:55<00:14, 70.37it/s]"
     ]
    },
    {
     "name": "stderr",
     "output_type": "stream",
     "text": [
      "\r",
      "Step 3/3 :  80%|███████▉  | 3985/5000 [00:55<00:14, 70.37it/s]"
     ]
    },
    {
     "name": "stderr",
     "output_type": "stream",
     "text": [
      "\r",
      "Step 3/3 :  80%|███████▉  | 3985/5000 [00:55<00:14, 70.37it/s]"
     ]
    },
    {
     "name": "stderr",
     "output_type": "stream",
     "text": [
      "\r",
      "Step 3/3 :  80%|███████▉  | 3985/5000 [00:55<00:14, 70.37it/s]"
     ]
    },
    {
     "name": "stderr",
     "output_type": "stream",
     "text": [
      "\r",
      "Step 3/3 :  80%|███████▉  | 3985/5000 [00:55<00:14, 70.37it/s]"
     ]
    },
    {
     "name": "stderr",
     "output_type": "stream",
     "text": [
      "\r",
      "Step 3/3 :  80%|███████▉  | 3985/5000 [00:55<00:14, 70.37it/s]"
     ]
    },
    {
     "name": "stderr",
     "output_type": "stream",
     "text": [
      "\r",
      "Step 3/3 :  80%|███████▉  | 3993/5000 [00:55<00:15, 66.18it/s]"
     ]
    },
    {
     "name": "stderr",
     "output_type": "stream",
     "text": [
      "\r",
      "Step 3/3 :  80%|███████▉  | 3993/5000 [00:55<00:15, 66.18it/s]"
     ]
    },
    {
     "name": "stderr",
     "output_type": "stream",
     "text": [
      "\r",
      "Step 3/3 :  80%|███████▉  | 3993/5000 [00:55<00:15, 66.18it/s]"
     ]
    },
    {
     "name": "stderr",
     "output_type": "stream",
     "text": [
      "\r",
      "Step 3/3 :  80%|███████▉  | 3993/5000 [00:55<00:15, 66.18it/s]"
     ]
    },
    {
     "name": "stderr",
     "output_type": "stream",
     "text": [
      "\r",
      "Step 3/3 :  80%|███████▉  | 3993/5000 [00:55<00:15, 66.18it/s]"
     ]
    },
    {
     "name": "stderr",
     "output_type": "stream",
     "text": [
      "\r",
      "Step 3/3 :  80%|███████▉  | 3993/5000 [00:55<00:15, 66.18it/s]"
     ]
    },
    {
     "name": "stderr",
     "output_type": "stream",
     "text": [
      "\r",
      "Step 3/3 :  80%|███████▉  | 3993/5000 [00:55<00:15, 66.18it/s]"
     ]
    },
    {
     "name": "stderr",
     "output_type": "stream",
     "text": [
      "\r",
      "Step 3/3 :  80%|███████▉  | 3993/5000 [00:55<00:15, 66.18it/s]"
     ]
    },
    {
     "name": "stderr",
     "output_type": "stream",
     "text": [
      "\r",
      "Step 3/3 :  80%|███████▉  | 3993/5000 [00:55<00:15, 66.18it/s]"
     ]
    },
    {
     "name": "stderr",
     "output_type": "stream",
     "text": [
      "\r",
      "Step 3/3 :  80%|████████  | 4001/5000 [00:55<00:14, 69.85it/s]"
     ]
    },
    {
     "name": "stderr",
     "output_type": "stream",
     "text": [
      "\r",
      "Step 3/3 :  80%|████████  | 4001/5000 [00:55<00:14, 69.85it/s]"
     ]
    },
    {
     "name": "stderr",
     "output_type": "stream",
     "text": [
      "\r",
      "Step 3/3 :  80%|████████  | 4001/5000 [00:55<00:14, 69.85it/s]"
     ]
    },
    {
     "name": "stderr",
     "output_type": "stream",
     "text": [
      "\r",
      "Step 3/3 :  80%|████████  | 4001/5000 [00:55<00:14, 69.85it/s]"
     ]
    },
    {
     "name": "stderr",
     "output_type": "stream",
     "text": [
      "\r",
      "Step 3/3 :  80%|████████  | 4001/5000 [00:55<00:14, 69.85it/s]"
     ]
    },
    {
     "name": "stderr",
     "output_type": "stream",
     "text": [
      "\r",
      "Step 3/3 :  80%|████████  | 4001/5000 [00:55<00:14, 69.85it/s]"
     ]
    },
    {
     "name": "stderr",
     "output_type": "stream",
     "text": [
      "\r",
      "Step 3/3 :  80%|████████  | 4001/5000 [00:55<00:14, 69.85it/s]"
     ]
    },
    {
     "name": "stderr",
     "output_type": "stream",
     "text": [
      "\r",
      "Step 3/3 :  80%|████████  | 4001/5000 [00:55<00:14, 69.85it/s]"
     ]
    },
    {
     "name": "stderr",
     "output_type": "stream",
     "text": [
      "\r",
      "Step 3/3 :  80%|████████  | 4001/5000 [00:55<00:14, 69.85it/s]"
     ]
    },
    {
     "name": "stderr",
     "output_type": "stream",
     "text": [
      "\r",
      "Step 3/3 :  80%|████████  | 4001/5000 [00:55<00:14, 69.85it/s]"
     ]
    },
    {
     "name": "stderr",
     "output_type": "stream",
     "text": [
      "\r",
      "Step 3/3 :  80%|████████  | 4010/5000 [00:55<00:13, 74.57it/s]"
     ]
    },
    {
     "name": "stderr",
     "output_type": "stream",
     "text": [
      "\r",
      "Step 3/3 :  80%|████████  | 4010/5000 [00:55<00:13, 74.57it/s]"
     ]
    },
    {
     "name": "stderr",
     "output_type": "stream",
     "text": [
      "\r",
      "Step 3/3 :  80%|████████  | 4010/5000 [00:55<00:13, 74.57it/s]"
     ]
    },
    {
     "name": "stderr",
     "output_type": "stream",
     "text": [
      "\r",
      "Step 3/3 :  80%|████████  | 4010/5000 [00:55<00:13, 74.57it/s]"
     ]
    },
    {
     "name": "stderr",
     "output_type": "stream",
     "text": [
      "\r",
      "Step 3/3 :  80%|████████  | 4010/5000 [00:55<00:13, 74.57it/s]"
     ]
    },
    {
     "name": "stderr",
     "output_type": "stream",
     "text": [
      "\r",
      "Step 3/3 :  80%|████████  | 4010/5000 [00:55<00:13, 74.57it/s]"
     ]
    },
    {
     "name": "stderr",
     "output_type": "stream",
     "text": [
      "\r",
      "Step 3/3 :  80%|████████  | 4010/5000 [00:55<00:13, 74.57it/s]"
     ]
    },
    {
     "name": "stderr",
     "output_type": "stream",
     "text": [
      "\r",
      "Step 3/3 :  80%|████████  | 4010/5000 [00:55<00:13, 74.57it/s]"
     ]
    },
    {
     "name": "stderr",
     "output_type": "stream",
     "text": [
      "\r",
      "Step 3/3 :  80%|████████  | 4010/5000 [00:55<00:13, 74.57it/s]"
     ]
    },
    {
     "name": "stderr",
     "output_type": "stream",
     "text": [
      "\r",
      "Step 3/3 :  80%|████████  | 4010/5000 [00:55<00:13, 74.57it/s]"
     ]
    },
    {
     "name": "stderr",
     "output_type": "stream",
     "text": [
      "\r",
      "Step 3/3 :  80%|████████  | 4019/5000 [00:55<00:12, 78.23it/s]"
     ]
    },
    {
     "name": "stderr",
     "output_type": "stream",
     "text": [
      "\r",
      "Step 3/3 :  80%|████████  | 4019/5000 [00:55<00:12, 78.23it/s]"
     ]
    },
    {
     "name": "stderr",
     "output_type": "stream",
     "text": [
      "\r",
      "Step 3/3 :  80%|████████  | 4019/5000 [00:55<00:12, 78.23it/s]"
     ]
    },
    {
     "name": "stderr",
     "output_type": "stream",
     "text": [
      "\r",
      "Step 3/3 :  80%|████████  | 4019/5000 [00:55<00:12, 78.23it/s]"
     ]
    },
    {
     "name": "stderr",
     "output_type": "stream",
     "text": [
      "\r",
      "Step 3/3 :  80%|████████  | 4019/5000 [00:55<00:12, 78.23it/s]"
     ]
    },
    {
     "name": "stderr",
     "output_type": "stream",
     "text": [
      "\r",
      "Step 3/3 :  80%|████████  | 4019/5000 [00:55<00:12, 78.23it/s]"
     ]
    },
    {
     "name": "stderr",
     "output_type": "stream",
     "text": [
      "\r",
      "Step 3/3 :  80%|████████  | 4019/5000 [00:55<00:12, 78.23it/s]"
     ]
    },
    {
     "name": "stderr",
     "output_type": "stream",
     "text": [
      "\r",
      "Step 3/3 :  80%|████████  | 4019/5000 [00:55<00:12, 78.23it/s]"
     ]
    },
    {
     "name": "stderr",
     "output_type": "stream",
     "text": [
      "\r",
      "Step 3/3 :  80%|████████  | 4019/5000 [00:55<00:12, 78.23it/s]"
     ]
    },
    {
     "name": "stderr",
     "output_type": "stream",
     "text": [
      "\r",
      "Step 3/3 :  80%|████████  | 4019/5000 [00:55<00:12, 78.23it/s]"
     ]
    },
    {
     "name": "stderr",
     "output_type": "stream",
     "text": [
      "\r",
      "Step 3/3 :  81%|████████  | 4028/5000 [00:56<00:11, 81.34it/s]"
     ]
    },
    {
     "name": "stderr",
     "output_type": "stream",
     "text": [
      "\r",
      "Step 3/3 :  81%|████████  | 4028/5000 [00:56<00:11, 81.34it/s]"
     ]
    },
    {
     "name": "stderr",
     "output_type": "stream",
     "text": [
      "\r",
      "Step 3/3 :  81%|████████  | 4028/5000 [00:56<00:11, 81.34it/s]"
     ]
    },
    {
     "name": "stderr",
     "output_type": "stream",
     "text": [
      "\r",
      "Step 3/3 :  81%|████████  | 4028/5000 [00:56<00:11, 81.34it/s]"
     ]
    },
    {
     "name": "stderr",
     "output_type": "stream",
     "text": [
      "\r",
      "Step 3/3 :  81%|████████  | 4028/5000 [00:56<00:11, 81.34it/s]"
     ]
    },
    {
     "name": "stderr",
     "output_type": "stream",
     "text": [
      "\r",
      "Step 3/3 :  81%|████████  | 4028/5000 [00:56<00:11, 81.34it/s]"
     ]
    },
    {
     "name": "stderr",
     "output_type": "stream",
     "text": [
      "\r",
      "Step 3/3 :  81%|████████  | 4028/5000 [00:56<00:11, 81.34it/s]"
     ]
    },
    {
     "name": "stderr",
     "output_type": "stream",
     "text": [
      "\r",
      "Step 3/3 :  81%|████████  | 4028/5000 [00:56<00:11, 81.34it/s]"
     ]
    },
    {
     "name": "stderr",
     "output_type": "stream",
     "text": [
      "\r",
      "Step 3/3 :  81%|████████  | 4028/5000 [00:56<00:11, 81.34it/s]"
     ]
    },
    {
     "name": "stderr",
     "output_type": "stream",
     "text": [
      "\r",
      "Step 3/3 :  81%|████████  | 4028/5000 [00:56<00:11, 81.34it/s]"
     ]
    },
    {
     "name": "stderr",
     "output_type": "stream",
     "text": [
      "\r",
      "Step 3/3 :  81%|████████  | 4028/5000 [00:56<00:11, 81.34it/s]"
     ]
    },
    {
     "name": "stderr",
     "output_type": "stream",
     "text": [
      "\r",
      "Step 3/3 :  81%|████████  | 4038/5000 [00:56<00:11, 84.76it/s]"
     ]
    },
    {
     "name": "stderr",
     "output_type": "stream",
     "text": [
      "\r",
      "Step 3/3 :  81%|████████  | 4038/5000 [00:56<00:11, 84.76it/s]"
     ]
    },
    {
     "name": "stderr",
     "output_type": "stream",
     "text": [
      "\r",
      "Step 3/3 :  81%|████████  | 4038/5000 [00:56<00:11, 84.76it/s]"
     ]
    },
    {
     "name": "stderr",
     "output_type": "stream",
     "text": [
      "\r",
      "Step 3/3 :  81%|████████  | 4038/5000 [00:56<00:11, 84.76it/s]"
     ]
    },
    {
     "name": "stderr",
     "output_type": "stream",
     "text": [
      "\r",
      "Step 3/3 :  81%|████████  | 4038/5000 [00:56<00:11, 84.76it/s]"
     ]
    },
    {
     "name": "stderr",
     "output_type": "stream",
     "text": [
      "\r",
      "Step 3/3 :  81%|████████  | 4038/5000 [00:56<00:11, 84.76it/s]"
     ]
    },
    {
     "name": "stderr",
     "output_type": "stream",
     "text": [
      "\r",
      "Step 3/3 :  81%|████████  | 4038/5000 [00:56<00:11, 84.76it/s]"
     ]
    },
    {
     "name": "stderr",
     "output_type": "stream",
     "text": [
      "\r",
      "Step 3/3 :  81%|████████  | 4038/5000 [00:56<00:11, 84.76it/s]"
     ]
    },
    {
     "name": "stderr",
     "output_type": "stream",
     "text": [
      "\r",
      "Step 3/3 :  81%|████████  | 4038/5000 [00:56<00:11, 84.76it/s]"
     ]
    },
    {
     "name": "stderr",
     "output_type": "stream",
     "text": [
      "\r",
      "Step 3/3 :  81%|████████  | 4038/5000 [00:56<00:11, 84.76it/s]"
     ]
    },
    {
     "name": "stderr",
     "output_type": "stream",
     "text": [
      "\r",
      "Step 3/3 :  81%|████████  | 4047/5000 [00:56<00:11, 85.28it/s]"
     ]
    },
    {
     "name": "stderr",
     "output_type": "stream",
     "text": [
      "\r",
      "Step 3/3 :  81%|████████  | 4047/5000 [00:56<00:11, 85.28it/s]"
     ]
    },
    {
     "name": "stderr",
     "output_type": "stream",
     "text": [
      "\r",
      "Step 3/3 :  81%|████████  | 4047/5000 [00:56<00:11, 85.28it/s]"
     ]
    },
    {
     "name": "stderr",
     "output_type": "stream",
     "text": [
      "\r",
      "Step 3/3 :  81%|████████  | 4047/5000 [00:56<00:11, 85.28it/s]"
     ]
    },
    {
     "name": "stderr",
     "output_type": "stream",
     "text": [
      "\r",
      "Step 3/3 :  81%|████████  | 4047/5000 [00:56<00:11, 85.28it/s]"
     ]
    },
    {
     "name": "stderr",
     "output_type": "stream",
     "text": [
      "\r",
      "Step 3/3 :  81%|████████  | 4047/5000 [00:56<00:11, 85.28it/s]"
     ]
    },
    {
     "name": "stderr",
     "output_type": "stream",
     "text": [
      "\r",
      "Step 3/3 :  81%|████████  | 4047/5000 [00:56<00:11, 85.28it/s]"
     ]
    },
    {
     "name": "stderr",
     "output_type": "stream",
     "text": [
      "\r",
      "Step 3/3 :  81%|████████  | 4047/5000 [00:56<00:11, 85.28it/s]"
     ]
    },
    {
     "name": "stderr",
     "output_type": "stream",
     "text": [
      "\r",
      "Step 3/3 :  81%|████████  | 4047/5000 [00:56<00:11, 85.28it/s]"
     ]
    },
    {
     "name": "stderr",
     "output_type": "stream",
     "text": [
      "\r",
      "Step 3/3 :  81%|████████  | 4047/5000 [00:56<00:11, 85.28it/s]"
     ]
    },
    {
     "name": "stderr",
     "output_type": "stream",
     "text": [
      "\r",
      "Step 3/3 :  81%|████████  | 4056/5000 [00:56<00:10, 86.64it/s]"
     ]
    },
    {
     "name": "stderr",
     "output_type": "stream",
     "text": [
      "\r",
      "Step 3/3 :  81%|████████  | 4056/5000 [00:56<00:10, 86.64it/s]"
     ]
    },
    {
     "name": "stderr",
     "output_type": "stream",
     "text": [
      "\r",
      "Step 3/3 :  81%|████████  | 4056/5000 [00:56<00:10, 86.64it/s]"
     ]
    },
    {
     "name": "stderr",
     "output_type": "stream",
     "text": [
      "\r",
      "Step 3/3 :  81%|████████  | 4056/5000 [00:56<00:10, 86.64it/s]"
     ]
    },
    {
     "name": "stderr",
     "output_type": "stream",
     "text": [
      "\r",
      "Step 3/3 :  81%|████████  | 4056/5000 [00:56<00:10, 86.64it/s]"
     ]
    },
    {
     "name": "stderr",
     "output_type": "stream",
     "text": [
      "\r",
      "Step 3/3 :  81%|████████  | 4056/5000 [00:56<00:10, 86.64it/s]"
     ]
    },
    {
     "name": "stderr",
     "output_type": "stream",
     "text": [
      "\r",
      "Step 3/3 :  81%|████████  | 4056/5000 [00:56<00:10, 86.64it/s]"
     ]
    },
    {
     "name": "stderr",
     "output_type": "stream",
     "text": [
      "\r",
      "Step 3/3 :  81%|████████  | 4056/5000 [00:56<00:10, 86.64it/s]"
     ]
    },
    {
     "name": "stderr",
     "output_type": "stream",
     "text": [
      "\r",
      "Step 3/3 :  81%|████████  | 4056/5000 [00:56<00:10, 86.64it/s]"
     ]
    },
    {
     "name": "stderr",
     "output_type": "stream",
     "text": [
      "\r",
      "Step 3/3 :  81%|████████  | 4056/5000 [00:56<00:10, 86.64it/s]"
     ]
    },
    {
     "name": "stderr",
     "output_type": "stream",
     "text": [
      "\r",
      "Step 3/3 :  81%|████████▏ | 4065/5000 [00:56<00:10, 87.37it/s]"
     ]
    },
    {
     "name": "stderr",
     "output_type": "stream",
     "text": [
      "\r",
      "Step 3/3 :  81%|████████▏ | 4065/5000 [00:56<00:10, 87.37it/s]"
     ]
    },
    {
     "name": "stderr",
     "output_type": "stream",
     "text": [
      "\r",
      "Step 3/3 :  81%|████████▏ | 4065/5000 [00:56<00:10, 87.37it/s]"
     ]
    },
    {
     "name": "stderr",
     "output_type": "stream",
     "text": [
      "\r",
      "Step 3/3 :  81%|████████▏ | 4065/5000 [00:56<00:10, 87.37it/s]"
     ]
    },
    {
     "name": "stderr",
     "output_type": "stream",
     "text": [
      "\r",
      "Step 3/3 :  81%|████████▏ | 4065/5000 [00:56<00:10, 87.37it/s]"
     ]
    },
    {
     "name": "stderr",
     "output_type": "stream",
     "text": [
      "\r",
      "Step 3/3 :  81%|████████▏ | 4065/5000 [00:56<00:10, 87.37it/s]"
     ]
    },
    {
     "name": "stderr",
     "output_type": "stream",
     "text": [
      "\r",
      "Step 3/3 :  81%|████████▏ | 4065/5000 [00:56<00:10, 87.37it/s]"
     ]
    },
    {
     "name": "stderr",
     "output_type": "stream",
     "text": [
      "\r",
      "Step 3/3 :  81%|████████▏ | 4065/5000 [00:56<00:10, 87.37it/s]"
     ]
    },
    {
     "name": "stderr",
     "output_type": "stream",
     "text": [
      "\r",
      "Step 3/3 :  81%|████████▏ | 4065/5000 [00:56<00:10, 87.37it/s]"
     ]
    },
    {
     "name": "stderr",
     "output_type": "stream",
     "text": [
      "\r",
      "Step 3/3 :  81%|████████▏ | 4065/5000 [00:56<00:10, 87.37it/s]"
     ]
    },
    {
     "name": "stderr",
     "output_type": "stream",
     "text": [
      "\r",
      "Step 3/3 :  81%|████████▏ | 4074/5000 [00:56<00:10, 86.37it/s]"
     ]
    },
    {
     "name": "stderr",
     "output_type": "stream",
     "text": [
      "\r",
      "Step 3/3 :  81%|████████▏ | 4074/5000 [00:56<00:10, 86.37it/s]"
     ]
    },
    {
     "name": "stderr",
     "output_type": "stream",
     "text": [
      "\r",
      "Step 3/3 :  81%|████████▏ | 4074/5000 [00:56<00:10, 86.37it/s]"
     ]
    },
    {
     "name": "stderr",
     "output_type": "stream",
     "text": [
      "\r",
      "Step 3/3 :  81%|████████▏ | 4074/5000 [00:56<00:10, 86.37it/s]"
     ]
    },
    {
     "name": "stderr",
     "output_type": "stream",
     "text": [
      "\r",
      "Step 3/3 :  81%|████████▏ | 4074/5000 [00:56<00:10, 86.37it/s]"
     ]
    },
    {
     "name": "stderr",
     "output_type": "stream",
     "text": [
      "\r",
      "Step 3/3 :  81%|████████▏ | 4074/5000 [00:56<00:10, 86.37it/s]"
     ]
    },
    {
     "name": "stderr",
     "output_type": "stream",
     "text": [
      "\r",
      "Step 3/3 :  81%|████████▏ | 4074/5000 [00:56<00:10, 86.37it/s]"
     ]
    },
    {
     "name": "stderr",
     "output_type": "stream",
     "text": [
      "\r",
      "Step 3/3 :  81%|████████▏ | 4074/5000 [00:56<00:10, 86.37it/s]"
     ]
    },
    {
     "name": "stderr",
     "output_type": "stream",
     "text": [
      "\r",
      "Step 3/3 :  81%|████████▏ | 4074/5000 [00:56<00:10, 86.37it/s]"
     ]
    },
    {
     "name": "stderr",
     "output_type": "stream",
     "text": [
      "\r",
      "Step 3/3 :  81%|████████▏ | 4074/5000 [00:56<00:10, 86.37it/s]"
     ]
    },
    {
     "name": "stderr",
     "output_type": "stream",
     "text": [
      "\r",
      "Step 3/3 :  82%|████████▏ | 4083/5000 [00:56<00:10, 84.71it/s]"
     ]
    },
    {
     "name": "stderr",
     "output_type": "stream",
     "text": [
      "\r",
      "Step 3/3 :  82%|████████▏ | 4083/5000 [00:56<00:10, 84.71it/s]"
     ]
    },
    {
     "name": "stderr",
     "output_type": "stream",
     "text": [
      "\r",
      "Step 3/3 :  82%|████████▏ | 4083/5000 [00:56<00:10, 84.71it/s]"
     ]
    },
    {
     "name": "stderr",
     "output_type": "stream",
     "text": [
      "\r",
      "Step 3/3 :  82%|████████▏ | 4083/5000 [00:56<00:10, 84.71it/s]"
     ]
    },
    {
     "name": "stderr",
     "output_type": "stream",
     "text": [
      "\r",
      "Step 3/3 :  82%|████████▏ | 4083/5000 [00:56<00:10, 84.71it/s]"
     ]
    },
    {
     "name": "stderr",
     "output_type": "stream",
     "text": [
      "\r",
      "Step 3/3 :  82%|████████▏ | 4083/5000 [00:56<00:10, 84.71it/s]"
     ]
    },
    {
     "name": "stderr",
     "output_type": "stream",
     "text": [
      "\r",
      "Step 3/3 :  82%|████████▏ | 4083/5000 [00:56<00:10, 84.71it/s]"
     ]
    },
    {
     "name": "stderr",
     "output_type": "stream",
     "text": [
      "\r",
      "Step 3/3 :  82%|████████▏ | 4083/5000 [00:56<00:10, 84.71it/s]"
     ]
    },
    {
     "name": "stderr",
     "output_type": "stream",
     "text": [
      "\r",
      "Step 3/3 :  82%|████████▏ | 4083/5000 [00:56<00:10, 84.71it/s]"
     ]
    },
    {
     "name": "stderr",
     "output_type": "stream",
     "text": [
      "\r",
      "Step 3/3 :  82%|████████▏ | 4083/5000 [00:56<00:10, 84.71it/s]"
     ]
    },
    {
     "name": "stderr",
     "output_type": "stream",
     "text": [
      "\r",
      "Step 3/3 :  82%|████████▏ | 4092/5000 [00:56<00:10, 85.98it/s]"
     ]
    },
    {
     "name": "stderr",
     "output_type": "stream",
     "text": [
      "\r",
      "Step 3/3 :  82%|████████▏ | 4092/5000 [00:56<00:10, 85.98it/s]"
     ]
    },
    {
     "name": "stderr",
     "output_type": "stream",
     "text": [
      "\r",
      "Step 3/3 :  82%|████████▏ | 4092/5000 [00:56<00:10, 85.98it/s]"
     ]
    },
    {
     "name": "stderr",
     "output_type": "stream",
     "text": [
      "\r",
      "Step 3/3 :  82%|████████▏ | 4092/5000 [00:56<00:10, 85.98it/s]"
     ]
    },
    {
     "name": "stderr",
     "output_type": "stream",
     "text": [
      "\r",
      "Step 3/3 :  82%|████████▏ | 4092/5000 [00:56<00:10, 85.98it/s]"
     ]
    },
    {
     "name": "stderr",
     "output_type": "stream",
     "text": [
      "\r",
      "Step 3/3 :  82%|████████▏ | 4092/5000 [00:56<00:10, 85.98it/s]"
     ]
    },
    {
     "name": "stderr",
     "output_type": "stream",
     "text": [
      "\r",
      "Step 3/3 :  82%|████████▏ | 4092/5000 [00:56<00:10, 85.98it/s]"
     ]
    },
    {
     "name": "stderr",
     "output_type": "stream",
     "text": [
      "\r",
      "Step 3/3 :  82%|████████▏ | 4092/5000 [00:56<00:10, 85.98it/s]"
     ]
    },
    {
     "name": "stderr",
     "output_type": "stream",
     "text": [
      "\r",
      "Step 3/3 :  82%|████████▏ | 4092/5000 [00:56<00:10, 85.98it/s]"
     ]
    },
    {
     "name": "stderr",
     "output_type": "stream",
     "text": [
      "\r",
      "Step 3/3 :  82%|████████▏ | 4092/5000 [00:56<00:10, 85.98it/s]"
     ]
    },
    {
     "name": "stderr",
     "output_type": "stream",
     "text": [
      "\r",
      "Step 3/3 :  82%|████████▏ | 4092/5000 [00:56<00:10, 85.98it/s]"
     ]
    },
    {
     "name": "stderr",
     "output_type": "stream",
     "text": [
      "\r",
      "Step 3/3 :  82%|████████▏ | 4102/5000 [00:56<00:10, 87.76it/s]"
     ]
    },
    {
     "name": "stderr",
     "output_type": "stream",
     "text": [
      "\r",
      "Step 3/3 :  82%|████████▏ | 4102/5000 [00:56<00:10, 87.76it/s]"
     ]
    },
    {
     "name": "stderr",
     "output_type": "stream",
     "text": [
      "\r",
      "Step 3/3 :  82%|████████▏ | 4102/5000 [00:56<00:10, 87.76it/s]"
     ]
    },
    {
     "name": "stderr",
     "output_type": "stream",
     "text": [
      "\r",
      "Step 3/3 :  82%|████████▏ | 4102/5000 [00:56<00:10, 87.76it/s]"
     ]
    },
    {
     "name": "stderr",
     "output_type": "stream",
     "text": [
      "\r",
      "Step 3/3 :  82%|████████▏ | 4102/5000 [00:56<00:10, 87.76it/s]"
     ]
    },
    {
     "name": "stderr",
     "output_type": "stream",
     "text": [
      "\r",
      "Step 3/3 :  82%|████████▏ | 4102/5000 [00:56<00:10, 87.76it/s]"
     ]
    },
    {
     "name": "stderr",
     "output_type": "stream",
     "text": [
      "\r",
      "Step 3/3 :  82%|████████▏ | 4102/5000 [00:56<00:10, 87.76it/s]"
     ]
    },
    {
     "name": "stderr",
     "output_type": "stream",
     "text": [
      "\r",
      "Step 3/3 :  82%|████████▏ | 4102/5000 [00:56<00:10, 87.76it/s]"
     ]
    },
    {
     "name": "stderr",
     "output_type": "stream",
     "text": [
      "\r",
      "Step 3/3 :  82%|████████▏ | 4102/5000 [00:56<00:10, 87.76it/s]"
     ]
    },
    {
     "name": "stderr",
     "output_type": "stream",
     "text": [
      "\r",
      "Step 3/3 :  82%|████████▏ | 4102/5000 [00:56<00:10, 87.76it/s]"
     ]
    },
    {
     "name": "stderr",
     "output_type": "stream",
     "text": [
      "\r",
      "Step 3/3 :  82%|████████▏ | 4111/5000 [00:56<00:10, 80.90it/s]"
     ]
    },
    {
     "name": "stderr",
     "output_type": "stream",
     "text": [
      "\r",
      "Step 3/3 :  82%|████████▏ | 4111/5000 [00:56<00:10, 80.90it/s]"
     ]
    },
    {
     "name": "stderr",
     "output_type": "stream",
     "text": [
      "\r",
      "Step 3/3 :  82%|████████▏ | 4111/5000 [00:56<00:10, 80.90it/s]"
     ]
    },
    {
     "name": "stderr",
     "output_type": "stream",
     "text": [
      "\r",
      "Step 3/3 :  82%|████████▏ | 4111/5000 [00:57<00:10, 80.90it/s]"
     ]
    },
    {
     "name": "stderr",
     "output_type": "stream",
     "text": [
      "\r",
      "Step 3/3 :  82%|████████▏ | 4111/5000 [00:57<00:10, 80.90it/s]"
     ]
    },
    {
     "name": "stderr",
     "output_type": "stream",
     "text": [
      "\r",
      "Step 3/3 :  82%|████████▏ | 4111/5000 [00:57<00:10, 80.90it/s]"
     ]
    },
    {
     "name": "stderr",
     "output_type": "stream",
     "text": [
      "\r",
      "Step 3/3 :  82%|████████▏ | 4111/5000 [00:57<00:10, 80.90it/s]"
     ]
    },
    {
     "name": "stderr",
     "output_type": "stream",
     "text": [
      "\r",
      "Step 3/3 :  82%|████████▏ | 4111/5000 [00:57<00:10, 80.90it/s]"
     ]
    },
    {
     "name": "stderr",
     "output_type": "stream",
     "text": [
      "\r",
      "Step 3/3 :  82%|████████▏ | 4111/5000 [00:57<00:10, 80.90it/s]"
     ]
    },
    {
     "name": "stderr",
     "output_type": "stream",
     "text": [
      "\r",
      "Step 3/3 :  82%|████████▏ | 4111/5000 [00:57<00:10, 80.90it/s]"
     ]
    },
    {
     "name": "stderr",
     "output_type": "stream",
     "text": [
      "\r",
      "Step 3/3 :  82%|████████▏ | 4120/5000 [00:57<00:11, 79.69it/s]"
     ]
    },
    {
     "name": "stderr",
     "output_type": "stream",
     "text": [
      "\r",
      "Step 3/3 :  82%|████████▏ | 4120/5000 [00:57<00:11, 79.69it/s]"
     ]
    },
    {
     "name": "stderr",
     "output_type": "stream",
     "text": [
      "\r",
      "Step 3/3 :  82%|████████▏ | 4120/5000 [00:57<00:11, 79.69it/s]"
     ]
    },
    {
     "name": "stderr",
     "output_type": "stream",
     "text": [
      "\r",
      "Step 3/3 :  82%|████████▏ | 4120/5000 [00:57<00:11, 79.69it/s]"
     ]
    },
    {
     "name": "stderr",
     "output_type": "stream",
     "text": [
      "\r",
      "Step 3/3 :  82%|████████▏ | 4120/5000 [00:57<00:11, 79.69it/s]"
     ]
    },
    {
     "name": "stderr",
     "output_type": "stream",
     "text": [
      "\r",
      "Step 3/3 :  82%|████████▏ | 4120/5000 [00:57<00:11, 79.69it/s]"
     ]
    },
    {
     "name": "stderr",
     "output_type": "stream",
     "text": [
      "\r",
      "Step 3/3 :  82%|████████▏ | 4120/5000 [00:57<00:11, 79.69it/s]"
     ]
    },
    {
     "name": "stderr",
     "output_type": "stream",
     "text": [
      "\r",
      "Step 3/3 :  82%|████████▏ | 4120/5000 [00:57<00:11, 79.69it/s]"
     ]
    },
    {
     "name": "stderr",
     "output_type": "stream",
     "text": [
      "\r",
      "Step 3/3 :  82%|████████▏ | 4120/5000 [00:57<00:11, 79.69it/s]"
     ]
    },
    {
     "name": "stderr",
     "output_type": "stream",
     "text": [
      "\r",
      "Step 3/3 :  82%|████████▏ | 4120/5000 [00:57<00:11, 79.69it/s]"
     ]
    },
    {
     "name": "stderr",
     "output_type": "stream",
     "text": [
      "\r",
      "Step 3/3 :  83%|████████▎ | 4129/5000 [00:57<00:11, 77.84it/s]"
     ]
    },
    {
     "name": "stderr",
     "output_type": "stream",
     "text": [
      "\r",
      "Step 3/3 :  83%|████████▎ | 4129/5000 [00:57<00:11, 77.84it/s]"
     ]
    },
    {
     "name": "stderr",
     "output_type": "stream",
     "text": [
      "\r",
      "Step 3/3 :  83%|████████▎ | 4129/5000 [00:57<00:11, 77.84it/s]"
     ]
    },
    {
     "name": "stderr",
     "output_type": "stream",
     "text": [
      "\r",
      "Step 3/3 :  83%|████████▎ | 4129/5000 [00:57<00:11, 77.84it/s]"
     ]
    },
    {
     "name": "stderr",
     "output_type": "stream",
     "text": [
      "\r",
      "Step 3/3 :  83%|████████▎ | 4129/5000 [00:57<00:11, 77.84it/s]"
     ]
    },
    {
     "name": "stderr",
     "output_type": "stream",
     "text": [
      "\r",
      "Step 3/3 :  83%|████████▎ | 4129/5000 [00:57<00:11, 77.84it/s]"
     ]
    },
    {
     "name": "stderr",
     "output_type": "stream",
     "text": [
      "\r",
      "Step 3/3 :  83%|████████▎ | 4129/5000 [00:57<00:11, 77.84it/s]"
     ]
    },
    {
     "name": "stderr",
     "output_type": "stream",
     "text": [
      "\r",
      "Step 3/3 :  83%|████████▎ | 4129/5000 [00:57<00:11, 77.84it/s]"
     ]
    },
    {
     "name": "stderr",
     "output_type": "stream",
     "text": [
      "\r",
      "Step 3/3 :  83%|████████▎ | 4129/5000 [00:57<00:11, 77.84it/s]"
     ]
    },
    {
     "name": "stderr",
     "output_type": "stream",
     "text": [
      "\r",
      "Step 3/3 :  83%|████████▎ | 4137/5000 [00:57<00:11, 78.21it/s]"
     ]
    },
    {
     "name": "stderr",
     "output_type": "stream",
     "text": [
      "\r",
      "Step 3/3 :  83%|████████▎ | 4137/5000 [00:57<00:11, 78.21it/s]"
     ]
    },
    {
     "name": "stderr",
     "output_type": "stream",
     "text": [
      "\r",
      "Step 3/3 :  83%|████████▎ | 4137/5000 [00:57<00:11, 78.21it/s]"
     ]
    },
    {
     "name": "stderr",
     "output_type": "stream",
     "text": [
      "\r",
      "Step 3/3 :  83%|████████▎ | 4137/5000 [00:57<00:11, 78.21it/s]"
     ]
    },
    {
     "name": "stderr",
     "output_type": "stream",
     "text": [
      "\r",
      "Step 3/3 :  83%|████████▎ | 4137/5000 [00:57<00:11, 78.21it/s]"
     ]
    },
    {
     "name": "stderr",
     "output_type": "stream",
     "text": [
      "\r",
      "Step 3/3 :  83%|████████▎ | 4137/5000 [00:57<00:11, 78.21it/s]"
     ]
    },
    {
     "name": "stderr",
     "output_type": "stream",
     "text": [
      "\r",
      "Step 3/3 :  83%|████████▎ | 4137/5000 [00:57<00:11, 78.21it/s]"
     ]
    },
    {
     "name": "stderr",
     "output_type": "stream",
     "text": [
      "\r",
      "Step 3/3 :  83%|████████▎ | 4137/5000 [00:57<00:11, 78.21it/s]"
     ]
    },
    {
     "name": "stderr",
     "output_type": "stream",
     "text": [
      "\r",
      "Step 3/3 :  83%|████████▎ | 4137/5000 [00:57<00:11, 78.21it/s]"
     ]
    },
    {
     "name": "stderr",
     "output_type": "stream",
     "text": [
      "\r",
      "Step 3/3 :  83%|████████▎ | 4137/5000 [00:57<00:11, 78.21it/s]"
     ]
    },
    {
     "name": "stderr",
     "output_type": "stream",
     "text": [
      "\r",
      "Step 3/3 :  83%|████████▎ | 4146/5000 [00:57<00:10, 80.35it/s]"
     ]
    },
    {
     "name": "stderr",
     "output_type": "stream",
     "text": [
      "\r",
      "Step 3/3 :  83%|████████▎ | 4146/5000 [00:57<00:10, 80.35it/s]"
     ]
    },
    {
     "name": "stderr",
     "output_type": "stream",
     "text": [
      "\r",
      "Step 3/3 :  83%|████████▎ | 4146/5000 [00:57<00:10, 80.35it/s]"
     ]
    },
    {
     "name": "stderr",
     "output_type": "stream",
     "text": [
      "\r",
      "Step 3/3 :  83%|████████▎ | 4146/5000 [00:57<00:10, 80.35it/s]"
     ]
    },
    {
     "name": "stderr",
     "output_type": "stream",
     "text": [
      "\r",
      "Step 3/3 :  83%|████████▎ | 4146/5000 [00:57<00:10, 80.35it/s]"
     ]
    },
    {
     "name": "stderr",
     "output_type": "stream",
     "text": [
      "\r",
      "Step 3/3 :  83%|████████▎ | 4146/5000 [00:57<00:10, 80.35it/s]"
     ]
    },
    {
     "name": "stderr",
     "output_type": "stream",
     "text": [
      "\r",
      "Step 3/3 :  83%|████████▎ | 4146/5000 [00:57<00:10, 80.35it/s]"
     ]
    },
    {
     "name": "stderr",
     "output_type": "stream",
     "text": [
      "\r",
      "Step 3/3 :  83%|████████▎ | 4146/5000 [00:57<00:10, 80.35it/s]"
     ]
    },
    {
     "name": "stderr",
     "output_type": "stream",
     "text": [
      "\r",
      "Step 3/3 :  83%|████████▎ | 4146/5000 [00:57<00:10, 80.35it/s]"
     ]
    },
    {
     "name": "stderr",
     "output_type": "stream",
     "text": [
      "\r",
      "Step 3/3 :  83%|████████▎ | 4146/5000 [00:57<00:10, 80.35it/s]"
     ]
    },
    {
     "name": "stderr",
     "output_type": "stream",
     "text": [
      "\r",
      "Step 3/3 :  83%|████████▎ | 4155/5000 [00:57<00:10, 77.22it/s]"
     ]
    },
    {
     "name": "stderr",
     "output_type": "stream",
     "text": [
      "\r",
      "Step 3/3 :  83%|████████▎ | 4155/5000 [00:57<00:10, 77.22it/s]"
     ]
    },
    {
     "name": "stderr",
     "output_type": "stream",
     "text": [
      "\r",
      "Step 3/3 :  83%|████████▎ | 4155/5000 [00:57<00:10, 77.22it/s]"
     ]
    },
    {
     "name": "stderr",
     "output_type": "stream",
     "text": [
      "\r",
      "Step 3/3 :  83%|████████▎ | 4155/5000 [00:57<00:10, 77.22it/s]"
     ]
    },
    {
     "name": "stderr",
     "output_type": "stream",
     "text": [
      "\r",
      "Step 3/3 :  83%|████████▎ | 4155/5000 [00:57<00:10, 77.22it/s]"
     ]
    },
    {
     "name": "stderr",
     "output_type": "stream",
     "text": [
      "\r",
      "Step 3/3 :  83%|████████▎ | 4155/5000 [00:57<00:10, 77.22it/s]"
     ]
    },
    {
     "name": "stderr",
     "output_type": "stream",
     "text": [
      "\r",
      "Step 3/3 :  83%|████████▎ | 4155/5000 [00:57<00:10, 77.22it/s]"
     ]
    },
    {
     "name": "stderr",
     "output_type": "stream",
     "text": [
      "\r",
      "Step 3/3 :  83%|████████▎ | 4155/5000 [00:57<00:10, 77.22it/s]"
     ]
    },
    {
     "name": "stderr",
     "output_type": "stream",
     "text": [
      "\r",
      "Step 3/3 :  83%|████████▎ | 4155/5000 [00:57<00:10, 77.22it/s]"
     ]
    },
    {
     "name": "stderr",
     "output_type": "stream",
     "text": [
      "\r",
      "Step 3/3 :  83%|████████▎ | 4155/5000 [00:57<00:10, 77.22it/s]"
     ]
    },
    {
     "name": "stderr",
     "output_type": "stream",
     "text": [
      "\r",
      "Step 3/3 :  83%|████████▎ | 4164/5000 [00:57<00:10, 79.81it/s]"
     ]
    },
    {
     "name": "stderr",
     "output_type": "stream",
     "text": [
      "\r",
      "Step 3/3 :  83%|████████▎ | 4164/5000 [00:57<00:10, 79.81it/s]"
     ]
    },
    {
     "name": "stderr",
     "output_type": "stream",
     "text": [
      "\r",
      "Step 3/3 :  83%|████████▎ | 4164/5000 [00:57<00:10, 79.81it/s]"
     ]
    },
    {
     "name": "stderr",
     "output_type": "stream",
     "text": [
      "\r",
      "Step 3/3 :  83%|████████▎ | 4164/5000 [00:57<00:10, 79.81it/s]"
     ]
    },
    {
     "name": "stderr",
     "output_type": "stream",
     "text": [
      "\r",
      "Step 3/3 :  83%|████████▎ | 4164/5000 [00:57<00:10, 79.81it/s]"
     ]
    },
    {
     "name": "stderr",
     "output_type": "stream",
     "text": [
      "\r",
      "Step 3/3 :  83%|████████▎ | 4164/5000 [00:57<00:10, 79.81it/s]"
     ]
    },
    {
     "name": "stderr",
     "output_type": "stream",
     "text": [
      "\r",
      "Step 3/3 :  83%|████████▎ | 4164/5000 [00:57<00:10, 79.81it/s]"
     ]
    },
    {
     "name": "stderr",
     "output_type": "stream",
     "text": [
      "\r",
      "Step 3/3 :  83%|████████▎ | 4164/5000 [00:57<00:10, 79.81it/s]"
     ]
    },
    {
     "name": "stderr",
     "output_type": "stream",
     "text": [
      "\r",
      "Step 3/3 :  83%|████████▎ | 4164/5000 [00:57<00:10, 79.81it/s]"
     ]
    },
    {
     "name": "stderr",
     "output_type": "stream",
     "text": [
      "\r",
      "Step 3/3 :  83%|████████▎ | 4164/5000 [00:57<00:10, 79.81it/s]"
     ]
    },
    {
     "name": "stderr",
     "output_type": "stream",
     "text": [
      "\r",
      "Step 3/3 :  83%|████████▎ | 4164/5000 [00:57<00:10, 79.81it/s]"
     ]
    },
    {
     "name": "stderr",
     "output_type": "stream",
     "text": [
      "\r",
      "Step 3/3 :  83%|████████▎ | 4174/5000 [00:57<00:09, 85.17it/s]"
     ]
    },
    {
     "name": "stderr",
     "output_type": "stream",
     "text": [
      "\r",
      "Step 3/3 :  83%|████████▎ | 4174/5000 [00:57<00:09, 85.17it/s]"
     ]
    },
    {
     "name": "stderr",
     "output_type": "stream",
     "text": [
      "\r",
      "Step 3/3 :  83%|████████▎ | 4174/5000 [00:57<00:09, 85.17it/s]"
     ]
    },
    {
     "name": "stderr",
     "output_type": "stream",
     "text": [
      "\r",
      "Step 3/3 :  83%|████████▎ | 4174/5000 [00:57<00:09, 85.17it/s]"
     ]
    },
    {
     "name": "stderr",
     "output_type": "stream",
     "text": [
      "\r",
      "Step 3/3 :  83%|████████▎ | 4174/5000 [00:57<00:09, 85.17it/s]"
     ]
    },
    {
     "name": "stderr",
     "output_type": "stream",
     "text": [
      "\r",
      "Step 3/3 :  83%|████████▎ | 4174/5000 [00:57<00:09, 85.17it/s]"
     ]
    },
    {
     "name": "stderr",
     "output_type": "stream",
     "text": [
      "\r",
      "Step 3/3 :  83%|████████▎ | 4174/5000 [00:57<00:09, 85.17it/s]"
     ]
    },
    {
     "name": "stderr",
     "output_type": "stream",
     "text": [
      "\r",
      "Step 3/3 :  83%|████████▎ | 4174/5000 [00:57<00:09, 85.17it/s]"
     ]
    },
    {
     "name": "stderr",
     "output_type": "stream",
     "text": [
      "\r",
      "Step 3/3 :  83%|████████▎ | 4174/5000 [00:57<00:09, 85.17it/s]"
     ]
    },
    {
     "name": "stderr",
     "output_type": "stream",
     "text": [
      "\r",
      "Step 3/3 :  83%|████████▎ | 4174/5000 [00:57<00:09, 85.17it/s]"
     ]
    },
    {
     "name": "stderr",
     "output_type": "stream",
     "text": [
      "\r",
      "Step 3/3 :  83%|████████▎ | 4174/5000 [00:57<00:09, 85.17it/s]"
     ]
    },
    {
     "name": "stderr",
     "output_type": "stream",
     "text": [
      "\r",
      "Step 3/3 :  84%|████████▎ | 4184/5000 [00:57<00:09, 88.62it/s]"
     ]
    },
    {
     "name": "stderr",
     "output_type": "stream",
     "text": [
      "\r",
      "Step 3/3 :  84%|████████▎ | 4184/5000 [00:57<00:09, 88.62it/s]"
     ]
    },
    {
     "name": "stderr",
     "output_type": "stream",
     "text": [
      "\r",
      "Step 3/3 :  84%|████████▎ | 4184/5000 [00:57<00:09, 88.62it/s]"
     ]
    },
    {
     "name": "stderr",
     "output_type": "stream",
     "text": [
      "\r",
      "Step 3/3 :  84%|████████▎ | 4184/5000 [00:57<00:09, 88.62it/s]"
     ]
    },
    {
     "name": "stderr",
     "output_type": "stream",
     "text": [
      "\r",
      "Step 3/3 :  84%|████████▎ | 4184/5000 [00:57<00:09, 88.62it/s]"
     ]
    },
    {
     "name": "stderr",
     "output_type": "stream",
     "text": [
      "\r",
      "Step 3/3 :  84%|████████▎ | 4184/5000 [00:57<00:09, 88.62it/s]"
     ]
    },
    {
     "name": "stderr",
     "output_type": "stream",
     "text": [
      "\r",
      "Step 3/3 :  84%|████████▎ | 4184/5000 [00:57<00:09, 88.62it/s]"
     ]
    },
    {
     "name": "stderr",
     "output_type": "stream",
     "text": [
      "\r",
      "Step 3/3 :  84%|████████▎ | 4184/5000 [00:57<00:09, 88.62it/s]"
     ]
    },
    {
     "name": "stderr",
     "output_type": "stream",
     "text": [
      "\r",
      "Step 3/3 :  84%|████████▎ | 4184/5000 [00:57<00:09, 88.62it/s]"
     ]
    },
    {
     "name": "stderr",
     "output_type": "stream",
     "text": [
      "\r",
      "Step 3/3 :  84%|████████▎ | 4184/5000 [00:57<00:09, 88.62it/s]"
     ]
    },
    {
     "name": "stderr",
     "output_type": "stream",
     "text": [
      "\r",
      "Step 3/3 :  84%|████████▎ | 4184/5000 [00:57<00:09, 88.62it/s]"
     ]
    },
    {
     "name": "stderr",
     "output_type": "stream",
     "text": [
      "\r",
      "Step 3/3 :  84%|████████▍ | 4194/5000 [00:57<00:08, 90.58it/s]"
     ]
    },
    {
     "name": "stderr",
     "output_type": "stream",
     "text": [
      "\r",
      "Step 3/3 :  84%|████████▍ | 4194/5000 [00:57<00:08, 90.58it/s]"
     ]
    },
    {
     "name": "stderr",
     "output_type": "stream",
     "text": [
      "\r",
      "Step 3/3 :  84%|████████▍ | 4194/5000 [00:57<00:08, 90.58it/s]"
     ]
    },
    {
     "name": "stderr",
     "output_type": "stream",
     "text": [
      "\r",
      "Step 3/3 :  84%|████████▍ | 4194/5000 [00:57<00:08, 90.58it/s]"
     ]
    },
    {
     "name": "stderr",
     "output_type": "stream",
     "text": [
      "\r",
      "Step 3/3 :  84%|████████▍ | 4194/5000 [00:57<00:08, 90.58it/s]"
     ]
    },
    {
     "name": "stderr",
     "output_type": "stream",
     "text": [
      "\r",
      "Step 3/3 :  84%|████████▍ | 4194/5000 [00:58<00:08, 90.58it/s]"
     ]
    },
    {
     "name": "stderr",
     "output_type": "stream",
     "text": [
      "\r",
      "Step 3/3 :  84%|████████▍ | 4194/5000 [00:58<00:08, 90.58it/s]"
     ]
    },
    {
     "name": "stderr",
     "output_type": "stream",
     "text": [
      "\r",
      "Step 3/3 :  84%|████████▍ | 4194/5000 [00:58<00:08, 90.58it/s]"
     ]
    },
    {
     "name": "stderr",
     "output_type": "stream",
     "text": [
      "\r",
      "Step 3/3 :  84%|████████▍ | 4194/5000 [00:58<00:08, 90.58it/s]"
     ]
    },
    {
     "name": "stderr",
     "output_type": "stream",
     "text": [
      "\r",
      "Step 3/3 :  84%|████████▍ | 4194/5000 [00:58<00:08, 90.58it/s]"
     ]
    },
    {
     "name": "stderr",
     "output_type": "stream",
     "text": [
      "\r",
      "Step 3/3 :  84%|████████▍ | 4194/5000 [00:58<00:08, 90.58it/s]"
     ]
    },
    {
     "name": "stderr",
     "output_type": "stream",
     "text": [
      "\r",
      "Step 3/3 :  84%|████████▍ | 4204/5000 [00:58<00:08, 90.93it/s]"
     ]
    },
    {
     "name": "stderr",
     "output_type": "stream",
     "text": [
      "\r",
      "Step 3/3 :  84%|████████▍ | 4204/5000 [00:58<00:08, 90.93it/s]"
     ]
    },
    {
     "name": "stderr",
     "output_type": "stream",
     "text": [
      "\r",
      "Step 3/3 :  84%|████████▍ | 4204/5000 [00:58<00:08, 90.93it/s]"
     ]
    },
    {
     "name": "stderr",
     "output_type": "stream",
     "text": [
      "\r",
      "Step 3/3 :  84%|████████▍ | 4204/5000 [00:58<00:08, 90.93it/s]"
     ]
    },
    {
     "name": "stderr",
     "output_type": "stream",
     "text": [
      "\r",
      "Step 3/3 :  84%|████████▍ | 4204/5000 [00:58<00:08, 90.93it/s]"
     ]
    },
    {
     "name": "stderr",
     "output_type": "stream",
     "text": [
      "\r",
      "Step 3/3 :  84%|████████▍ | 4204/5000 [00:58<00:08, 90.93it/s]"
     ]
    },
    {
     "name": "stderr",
     "output_type": "stream",
     "text": [
      "\r",
      "Step 3/3 :  84%|████████▍ | 4204/5000 [00:58<00:08, 90.93it/s]"
     ]
    },
    {
     "name": "stderr",
     "output_type": "stream",
     "text": [
      "\r",
      "Step 3/3 :  84%|████████▍ | 4204/5000 [00:58<00:08, 90.93it/s]"
     ]
    },
    {
     "name": "stderr",
     "output_type": "stream",
     "text": [
      "\r",
      "Step 3/3 :  84%|████████▍ | 4204/5000 [00:58<00:08, 90.93it/s]"
     ]
    },
    {
     "name": "stderr",
     "output_type": "stream",
     "text": [
      "\r",
      "Step 3/3 :  84%|████████▍ | 4204/5000 [00:58<00:08, 90.93it/s]"
     ]
    },
    {
     "name": "stderr",
     "output_type": "stream",
     "text": [
      "\r",
      "Step 3/3 :  84%|████████▍ | 4204/5000 [00:58<00:08, 90.93it/s]"
     ]
    },
    {
     "name": "stderr",
     "output_type": "stream",
     "text": [
      "\r",
      "Step 3/3 :  84%|████████▍ | 4214/5000 [00:58<00:08, 92.21it/s]"
     ]
    },
    {
     "name": "stderr",
     "output_type": "stream",
     "text": [
      "\r",
      "Step 3/3 :  84%|████████▍ | 4214/5000 [00:58<00:08, 92.21it/s]"
     ]
    },
    {
     "name": "stderr",
     "output_type": "stream",
     "text": [
      "\r",
      "Step 3/3 :  84%|████████▍ | 4214/5000 [00:58<00:08, 92.21it/s]"
     ]
    },
    {
     "name": "stderr",
     "output_type": "stream",
     "text": [
      "\r",
      "Step 3/3 :  84%|████████▍ | 4214/5000 [00:58<00:08, 92.21it/s]"
     ]
    },
    {
     "name": "stderr",
     "output_type": "stream",
     "text": [
      "\r",
      "Step 3/3 :  84%|████████▍ | 4214/5000 [00:58<00:08, 92.21it/s]"
     ]
    },
    {
     "name": "stderr",
     "output_type": "stream",
     "text": [
      "\r",
      "Step 3/3 :  84%|████████▍ | 4214/5000 [00:58<00:08, 92.21it/s]"
     ]
    },
    {
     "name": "stderr",
     "output_type": "stream",
     "text": [
      "\r",
      "Step 3/3 :  84%|████████▍ | 4214/5000 [00:58<00:08, 92.21it/s]"
     ]
    },
    {
     "name": "stderr",
     "output_type": "stream",
     "text": [
      "\r",
      "Step 3/3 :  84%|████████▍ | 4214/5000 [00:58<00:08, 92.21it/s]"
     ]
    },
    {
     "name": "stderr",
     "output_type": "stream",
     "text": [
      "\r",
      "Step 3/3 :  84%|████████▍ | 4214/5000 [00:58<00:08, 92.21it/s]"
     ]
    },
    {
     "name": "stderr",
     "output_type": "stream",
     "text": [
      "\r",
      "Step 3/3 :  84%|████████▍ | 4214/5000 [00:58<00:08, 92.21it/s]"
     ]
    },
    {
     "name": "stderr",
     "output_type": "stream",
     "text": [
      "\r",
      "Step 3/3 :  84%|████████▍ | 4214/5000 [00:58<00:08, 92.21it/s]"
     ]
    },
    {
     "name": "stderr",
     "output_type": "stream",
     "text": [
      "\r",
      "Step 3/3 :  84%|████████▍ | 4224/5000 [00:58<00:08, 93.64it/s]"
     ]
    },
    {
     "name": "stderr",
     "output_type": "stream",
     "text": [
      "\r",
      "Step 3/3 :  84%|████████▍ | 4224/5000 [00:58<00:08, 93.64it/s]"
     ]
    },
    {
     "name": "stderr",
     "output_type": "stream",
     "text": [
      "\r",
      "Step 3/3 :  84%|████████▍ | 4224/5000 [00:58<00:08, 93.64it/s]"
     ]
    },
    {
     "name": "stderr",
     "output_type": "stream",
     "text": [
      "\r",
      "Step 3/3 :  84%|████████▍ | 4224/5000 [00:58<00:08, 93.64it/s]"
     ]
    },
    {
     "name": "stderr",
     "output_type": "stream",
     "text": [
      "\r",
      "Step 3/3 :  84%|████████▍ | 4224/5000 [00:58<00:08, 93.64it/s]"
     ]
    },
    {
     "name": "stderr",
     "output_type": "stream",
     "text": [
      "\r",
      "Step 3/3 :  84%|████████▍ | 4224/5000 [00:58<00:08, 93.64it/s]"
     ]
    },
    {
     "name": "stderr",
     "output_type": "stream",
     "text": [
      "\r",
      "Step 3/3 :  84%|████████▍ | 4224/5000 [00:58<00:08, 93.64it/s]"
     ]
    },
    {
     "name": "stderr",
     "output_type": "stream",
     "text": [
      "\r",
      "Step 3/3 :  84%|████████▍ | 4224/5000 [00:58<00:08, 93.64it/s]"
     ]
    },
    {
     "name": "stderr",
     "output_type": "stream",
     "text": [
      "\r",
      "Step 3/3 :  84%|████████▍ | 4224/5000 [00:58<00:08, 93.64it/s]"
     ]
    },
    {
     "name": "stderr",
     "output_type": "stream",
     "text": [
      "\r",
      "Step 3/3 :  84%|████████▍ | 4224/5000 [00:58<00:08, 93.64it/s]"
     ]
    },
    {
     "name": "stderr",
     "output_type": "stream",
     "text": [
      "\r",
      "Step 3/3 :  84%|████████▍ | 4224/5000 [00:58<00:08, 93.64it/s]"
     ]
    },
    {
     "name": "stderr",
     "output_type": "stream",
     "text": [
      "\r",
      "Step 3/3 :  85%|████████▍ | 4234/5000 [00:58<00:08, 93.85it/s]"
     ]
    },
    {
     "name": "stderr",
     "output_type": "stream",
     "text": [
      "\r",
      "Step 3/3 :  85%|████████▍ | 4234/5000 [00:58<00:08, 93.85it/s]"
     ]
    },
    {
     "name": "stderr",
     "output_type": "stream",
     "text": [
      "\r",
      "Step 3/3 :  85%|████████▍ | 4234/5000 [00:58<00:08, 93.85it/s]"
     ]
    },
    {
     "name": "stderr",
     "output_type": "stream",
     "text": [
      "\r",
      "Step 3/3 :  85%|████████▍ | 4234/5000 [00:58<00:08, 93.85it/s]"
     ]
    },
    {
     "name": "stderr",
     "output_type": "stream",
     "text": [
      "\r",
      "Step 3/3 :  85%|████████▍ | 4234/5000 [00:58<00:08, 93.85it/s]"
     ]
    },
    {
     "name": "stderr",
     "output_type": "stream",
     "text": [
      "\r",
      "Step 3/3 :  85%|████████▍ | 4234/5000 [00:58<00:08, 93.85it/s]"
     ]
    },
    {
     "name": "stderr",
     "output_type": "stream",
     "text": [
      "\r",
      "Step 3/3 :  85%|████████▍ | 4234/5000 [00:58<00:08, 93.85it/s]"
     ]
    },
    {
     "name": "stderr",
     "output_type": "stream",
     "text": [
      "\r",
      "Step 3/3 :  85%|████████▍ | 4234/5000 [00:58<00:08, 93.85it/s]"
     ]
    },
    {
     "name": "stderr",
     "output_type": "stream",
     "text": [
      "\r",
      "Step 3/3 :  85%|████████▍ | 4234/5000 [00:58<00:08, 93.85it/s]"
     ]
    },
    {
     "name": "stderr",
     "output_type": "stream",
     "text": [
      "\r",
      "Step 3/3 :  85%|████████▍ | 4234/5000 [00:58<00:08, 93.85it/s]"
     ]
    },
    {
     "name": "stderr",
     "output_type": "stream",
     "text": [
      "\r",
      "Step 3/3 :  85%|████████▍ | 4234/5000 [00:58<00:08, 93.85it/s]"
     ]
    },
    {
     "name": "stderr",
     "output_type": "stream",
     "text": [
      "\r",
      "Step 3/3 :  85%|████████▍ | 4244/5000 [00:58<00:08, 90.16it/s]"
     ]
    },
    {
     "name": "stderr",
     "output_type": "stream",
     "text": [
      "\r",
      "Step 3/3 :  85%|████████▍ | 4244/5000 [00:58<00:08, 90.16it/s]"
     ]
    },
    {
     "name": "stderr",
     "output_type": "stream",
     "text": [
      "\r",
      "Step 3/3 :  85%|████████▍ | 4244/5000 [00:58<00:08, 90.16it/s]"
     ]
    },
    {
     "name": "stderr",
     "output_type": "stream",
     "text": [
      "\r",
      "Step 3/3 :  85%|████████▍ | 4244/5000 [00:58<00:08, 90.16it/s]"
     ]
    },
    {
     "name": "stderr",
     "output_type": "stream",
     "text": [
      "\r",
      "Step 3/3 :  85%|████████▍ | 4244/5000 [00:58<00:08, 90.16it/s]"
     ]
    },
    {
     "name": "stderr",
     "output_type": "stream",
     "text": [
      "\r",
      "Step 3/3 :  85%|████████▍ | 4244/5000 [00:58<00:08, 90.16it/s]"
     ]
    },
    {
     "name": "stderr",
     "output_type": "stream",
     "text": [
      "\r",
      "Step 3/3 :  85%|████████▍ | 4244/5000 [00:58<00:08, 90.16it/s]"
     ]
    },
    {
     "name": "stderr",
     "output_type": "stream",
     "text": [
      "\r",
      "Step 3/3 :  85%|████████▍ | 4244/5000 [00:58<00:08, 90.16it/s]"
     ]
    },
    {
     "name": "stderr",
     "output_type": "stream",
     "text": [
      "\r",
      "Step 3/3 :  85%|████████▍ | 4244/5000 [00:58<00:08, 90.16it/s]"
     ]
    },
    {
     "name": "stderr",
     "output_type": "stream",
     "text": [
      "\r",
      "Step 3/3 :  85%|████████▍ | 4244/5000 [00:58<00:08, 90.16it/s]"
     ]
    },
    {
     "name": "stderr",
     "output_type": "stream",
     "text": [
      "\r",
      "Step 3/3 :  85%|████████▍ | 4244/5000 [00:58<00:08, 90.16it/s]"
     ]
    },
    {
     "name": "stderr",
     "output_type": "stream",
     "text": [
      "\r",
      "Step 3/3 :  85%|████████▌ | 4254/5000 [00:58<00:08, 87.99it/s]"
     ]
    },
    {
     "name": "stderr",
     "output_type": "stream",
     "text": [
      "\r",
      "Step 3/3 :  85%|████████▌ | 4254/5000 [00:58<00:08, 87.99it/s]"
     ]
    },
    {
     "name": "stderr",
     "output_type": "stream",
     "text": [
      "\r",
      "Step 3/3 :  85%|████████▌ | 4254/5000 [00:58<00:08, 87.99it/s]"
     ]
    },
    {
     "name": "stderr",
     "output_type": "stream",
     "text": [
      "\r",
      "Step 3/3 :  85%|████████▌ | 4254/5000 [00:58<00:08, 87.99it/s]"
     ]
    },
    {
     "name": "stderr",
     "output_type": "stream",
     "text": [
      "\r",
      "Step 3/3 :  85%|████████▌ | 4254/5000 [00:58<00:08, 87.99it/s]"
     ]
    },
    {
     "name": "stderr",
     "output_type": "stream",
     "text": [
      "\r",
      "Step 3/3 :  85%|████████▌ | 4254/5000 [00:58<00:08, 87.99it/s]"
     ]
    },
    {
     "name": "stderr",
     "output_type": "stream",
     "text": [
      "\r",
      "Step 3/3 :  85%|████████▌ | 4254/5000 [00:58<00:08, 87.99it/s]"
     ]
    },
    {
     "name": "stderr",
     "output_type": "stream",
     "text": [
      "\r",
      "Step 3/3 :  85%|████████▌ | 4254/5000 [00:58<00:08, 87.99it/s]"
     ]
    },
    {
     "name": "stderr",
     "output_type": "stream",
     "text": [
      "\r",
      "Step 3/3 :  85%|████████▌ | 4254/5000 [00:58<00:08, 87.99it/s]"
     ]
    },
    {
     "name": "stderr",
     "output_type": "stream",
     "text": [
      "\r",
      "Step 3/3 :  85%|████████▌ | 4254/5000 [00:58<00:08, 87.99it/s]"
     ]
    },
    {
     "name": "stderr",
     "output_type": "stream",
     "text": [
      "\r",
      "Step 3/3 :  85%|████████▌ | 4254/5000 [00:58<00:08, 87.99it/s]"
     ]
    },
    {
     "name": "stderr",
     "output_type": "stream",
     "text": [
      "\r",
      "Step 3/3 :  85%|████████▌ | 4264/5000 [00:58<00:08, 90.04it/s]"
     ]
    },
    {
     "name": "stderr",
     "output_type": "stream",
     "text": [
      "\r",
      "Step 3/3 :  85%|████████▌ | 4264/5000 [00:58<00:08, 90.04it/s]"
     ]
    },
    {
     "name": "stderr",
     "output_type": "stream",
     "text": [
      "\r",
      "Step 3/3 :  85%|████████▌ | 4264/5000 [00:58<00:08, 90.04it/s]"
     ]
    },
    {
     "name": "stderr",
     "output_type": "stream",
     "text": [
      "\r",
      "Step 3/3 :  85%|████████▌ | 4264/5000 [00:58<00:08, 90.04it/s]"
     ]
    },
    {
     "name": "stderr",
     "output_type": "stream",
     "text": [
      "\r",
      "Step 3/3 :  85%|████████▌ | 4264/5000 [00:58<00:08, 90.04it/s]"
     ]
    },
    {
     "name": "stderr",
     "output_type": "stream",
     "text": [
      "\r",
      "Step 3/3 :  85%|████████▌ | 4264/5000 [00:58<00:08, 90.04it/s]"
     ]
    },
    {
     "name": "stderr",
     "output_type": "stream",
     "text": [
      "\r",
      "Step 3/3 :  85%|████████▌ | 4264/5000 [00:58<00:08, 90.04it/s]"
     ]
    },
    {
     "name": "stderr",
     "output_type": "stream",
     "text": [
      "\r",
      "Step 3/3 :  85%|████████▌ | 4264/5000 [00:58<00:08, 90.04it/s]"
     ]
    },
    {
     "name": "stderr",
     "output_type": "stream",
     "text": [
      "\r",
      "Step 3/3 :  85%|████████▌ | 4264/5000 [00:58<00:08, 90.04it/s]"
     ]
    },
    {
     "name": "stderr",
     "output_type": "stream",
     "text": [
      "\r",
      "Step 3/3 :  85%|████████▌ | 4264/5000 [00:58<00:08, 90.04it/s]"
     ]
    },
    {
     "name": "stderr",
     "output_type": "stream",
     "text": [
      "\r",
      "Step 3/3 :  85%|████████▌ | 4264/5000 [00:58<00:08, 90.04it/s]"
     ]
    },
    {
     "name": "stderr",
     "output_type": "stream",
     "text": [
      "\r",
      "Step 3/3 :  85%|████████▌ | 4274/5000 [00:58<00:07, 92.32it/s]"
     ]
    },
    {
     "name": "stderr",
     "output_type": "stream",
     "text": [
      "\r",
      "Step 3/3 :  85%|████████▌ | 4274/5000 [00:58<00:07, 92.32it/s]"
     ]
    },
    {
     "name": "stderr",
     "output_type": "stream",
     "text": [
      "\r",
      "Step 3/3 :  85%|████████▌ | 4274/5000 [00:58<00:07, 92.32it/s]"
     ]
    },
    {
     "name": "stderr",
     "output_type": "stream",
     "text": [
      "\r",
      "Step 3/3 :  85%|████████▌ | 4274/5000 [00:58<00:07, 92.32it/s]"
     ]
    },
    {
     "name": "stderr",
     "output_type": "stream",
     "text": [
      "\r",
      "Step 3/3 :  85%|████████▌ | 4274/5000 [00:58<00:07, 92.32it/s]"
     ]
    },
    {
     "name": "stderr",
     "output_type": "stream",
     "text": [
      "\r",
      "Step 3/3 :  85%|████████▌ | 4274/5000 [00:58<00:07, 92.32it/s]"
     ]
    },
    {
     "name": "stderr",
     "output_type": "stream",
     "text": [
      "\r",
      "Step 3/3 :  85%|████████▌ | 4274/5000 [00:58<00:07, 92.32it/s]"
     ]
    },
    {
     "name": "stderr",
     "output_type": "stream",
     "text": [
      "\r",
      "Step 3/3 :  85%|████████▌ | 4274/5000 [00:58<00:07, 92.32it/s]"
     ]
    },
    {
     "name": "stderr",
     "output_type": "stream",
     "text": [
      "\r",
      "Step 3/3 :  85%|████████▌ | 4274/5000 [00:58<00:07, 92.32it/s]"
     ]
    },
    {
     "name": "stderr",
     "output_type": "stream",
     "text": [
      "\r",
      "Step 3/3 :  85%|████████▌ | 4274/5000 [00:58<00:07, 92.32it/s]"
     ]
    },
    {
     "name": "stderr",
     "output_type": "stream",
     "text": [
      "\r",
      "Step 3/3 :  85%|████████▌ | 4274/5000 [00:58<00:07, 92.32it/s]"
     ]
    },
    {
     "name": "stderr",
     "output_type": "stream",
     "text": [
      "\r",
      "Step 3/3 :  86%|████████▌ | 4284/5000 [00:58<00:07, 89.66it/s]"
     ]
    },
    {
     "name": "stderr",
     "output_type": "stream",
     "text": [
      "\r",
      "Step 3/3 :  86%|████████▌ | 4284/5000 [00:58<00:07, 89.66it/s]"
     ]
    },
    {
     "name": "stderr",
     "output_type": "stream",
     "text": [
      "\r",
      "Step 3/3 :  86%|████████▌ | 4284/5000 [00:58<00:07, 89.66it/s]"
     ]
    },
    {
     "name": "stderr",
     "output_type": "stream",
     "text": [
      "\r",
      "Step 3/3 :  86%|████████▌ | 4284/5000 [00:58<00:07, 89.66it/s]"
     ]
    },
    {
     "name": "stderr",
     "output_type": "stream",
     "text": [
      "\r",
      "Step 3/3 :  86%|████████▌ | 4284/5000 [00:58<00:07, 89.66it/s]"
     ]
    },
    {
     "name": "stderr",
     "output_type": "stream",
     "text": [
      "\r",
      "Step 3/3 :  86%|████████▌ | 4284/5000 [00:58<00:07, 89.66it/s]"
     ]
    },
    {
     "name": "stderr",
     "output_type": "stream",
     "text": [
      "\r",
      "Step 3/3 :  86%|████████▌ | 4284/5000 [00:59<00:07, 89.66it/s]"
     ]
    },
    {
     "name": "stderr",
     "output_type": "stream",
     "text": [
      "\r",
      "Step 3/3 :  86%|████████▌ | 4284/5000 [00:59<00:07, 89.66it/s]"
     ]
    },
    {
     "name": "stderr",
     "output_type": "stream",
     "text": [
      "\r",
      "Step 3/3 :  86%|████████▌ | 4284/5000 [00:59<00:07, 89.66it/s]"
     ]
    },
    {
     "name": "stderr",
     "output_type": "stream",
     "text": [
      "\r",
      "Step 3/3 :  86%|████████▌ | 4284/5000 [00:59<00:07, 89.66it/s]"
     ]
    },
    {
     "name": "stderr",
     "output_type": "stream",
     "text": [
      "\r",
      "Step 3/3 :  86%|████████▌ | 4284/5000 [00:59<00:07, 89.66it/s]"
     ]
    },
    {
     "name": "stderr",
     "output_type": "stream",
     "text": [
      "\r",
      "Step 3/3 :  86%|████████▌ | 4294/5000 [00:59<00:07, 90.01it/s]"
     ]
    },
    {
     "name": "stderr",
     "output_type": "stream",
     "text": [
      "\r",
      "Step 3/3 :  86%|████████▌ | 4294/5000 [00:59<00:07, 90.01it/s]"
     ]
    },
    {
     "name": "stderr",
     "output_type": "stream",
     "text": [
      "\r",
      "Step 3/3 :  86%|████████▌ | 4294/5000 [00:59<00:07, 90.01it/s]"
     ]
    },
    {
     "name": "stderr",
     "output_type": "stream",
     "text": [
      "\r",
      "Step 3/3 :  86%|████████▌ | 4294/5000 [00:59<00:07, 90.01it/s]"
     ]
    },
    {
     "name": "stderr",
     "output_type": "stream",
     "text": [
      "\r",
      "Step 3/3 :  86%|████████▌ | 4294/5000 [00:59<00:07, 90.01it/s]"
     ]
    },
    {
     "name": "stderr",
     "output_type": "stream",
     "text": [
      "\r",
      "Step 3/3 :  86%|████████▌ | 4294/5000 [00:59<00:07, 90.01it/s]"
     ]
    },
    {
     "name": "stderr",
     "output_type": "stream",
     "text": [
      "\r",
      "Step 3/3 :  86%|████████▌ | 4294/5000 [00:59<00:07, 90.01it/s]"
     ]
    },
    {
     "name": "stderr",
     "output_type": "stream",
     "text": [
      "\r",
      "Step 3/3 :  86%|████████▌ | 4294/5000 [00:59<00:07, 90.01it/s]"
     ]
    },
    {
     "name": "stderr",
     "output_type": "stream",
     "text": [
      "\r",
      "Step 3/3 :  86%|████████▌ | 4294/5000 [00:59<00:07, 90.01it/s]"
     ]
    },
    {
     "name": "stderr",
     "output_type": "stream",
     "text": [
      "\r",
      "Step 3/3 :  86%|████████▌ | 4294/5000 [00:59<00:07, 90.01it/s]"
     ]
    },
    {
     "name": "stderr",
     "output_type": "stream",
     "text": [
      "\r",
      "Step 3/3 :  86%|████████▌ | 4294/5000 [00:59<00:07, 90.01it/s]"
     ]
    },
    {
     "name": "stderr",
     "output_type": "stream",
     "text": [
      "\r",
      "Step 3/3 :  86%|████████▌ | 4304/5000 [00:59<00:08, 83.07it/s]"
     ]
    },
    {
     "name": "stderr",
     "output_type": "stream",
     "text": [
      "\r",
      "Step 3/3 :  86%|████████▌ | 4304/5000 [00:59<00:08, 83.07it/s]"
     ]
    },
    {
     "name": "stderr",
     "output_type": "stream",
     "text": [
      "\r",
      "Step 3/3 :  86%|████████▌ | 4304/5000 [00:59<00:08, 83.07it/s]"
     ]
    },
    {
     "name": "stderr",
     "output_type": "stream",
     "text": [
      "\r",
      "Step 3/3 :  86%|████████▌ | 4304/5000 [00:59<00:08, 83.07it/s]"
     ]
    },
    {
     "name": "stderr",
     "output_type": "stream",
     "text": [
      "\r",
      "Step 3/3 :  86%|████████▌ | 4304/5000 [00:59<00:08, 83.07it/s]"
     ]
    },
    {
     "name": "stderr",
     "output_type": "stream",
     "text": [
      "\r",
      "Step 3/3 :  86%|████████▌ | 4304/5000 [00:59<00:08, 83.07it/s]"
     ]
    },
    {
     "name": "stderr",
     "output_type": "stream",
     "text": [
      "\r",
      "Step 3/3 :  86%|████████▌ | 4304/5000 [00:59<00:08, 83.07it/s]"
     ]
    },
    {
     "name": "stderr",
     "output_type": "stream",
     "text": [
      "\r",
      "Step 3/3 :  86%|████████▌ | 4304/5000 [00:59<00:08, 83.07it/s]"
     ]
    },
    {
     "name": "stderr",
     "output_type": "stream",
     "text": [
      "\r",
      "Step 3/3 :  86%|████████▌ | 4304/5000 [00:59<00:08, 83.07it/s]"
     ]
    },
    {
     "name": "stderr",
     "output_type": "stream",
     "text": [
      "\r",
      "Step 3/3 :  86%|████████▌ | 4304/5000 [00:59<00:08, 83.07it/s]"
     ]
    },
    {
     "name": "stderr",
     "output_type": "stream",
     "text": [
      "\r",
      "Step 3/3 :  86%|████████▋ | 4313/5000 [00:59<00:08, 81.06it/s]"
     ]
    },
    {
     "name": "stderr",
     "output_type": "stream",
     "text": [
      "\r",
      "Step 3/3 :  86%|████████▋ | 4313/5000 [00:59<00:08, 81.06it/s]"
     ]
    },
    {
     "name": "stderr",
     "output_type": "stream",
     "text": [
      "\r",
      "Step 3/3 :  86%|████████▋ | 4313/5000 [00:59<00:08, 81.06it/s]"
     ]
    },
    {
     "name": "stderr",
     "output_type": "stream",
     "text": [
      "\r",
      "Step 3/3 :  86%|████████▋ | 4313/5000 [00:59<00:08, 81.06it/s]"
     ]
    },
    {
     "name": "stderr",
     "output_type": "stream",
     "text": [
      "\r",
      "Step 3/3 :  86%|████████▋ | 4313/5000 [00:59<00:08, 81.06it/s]"
     ]
    },
    {
     "name": "stderr",
     "output_type": "stream",
     "text": [
      "\r",
      "Step 3/3 :  86%|████████▋ | 4313/5000 [00:59<00:08, 81.06it/s]"
     ]
    },
    {
     "name": "stderr",
     "output_type": "stream",
     "text": [
      "\r",
      "Step 3/3 :  86%|████████▋ | 4313/5000 [00:59<00:08, 81.06it/s]"
     ]
    },
    {
     "name": "stderr",
     "output_type": "stream",
     "text": [
      "\r",
      "Step 3/3 :  86%|████████▋ | 4313/5000 [00:59<00:08, 81.06it/s]"
     ]
    },
    {
     "name": "stderr",
     "output_type": "stream",
     "text": [
      "\r",
      "Step 3/3 :  86%|████████▋ | 4313/5000 [00:59<00:08, 81.06it/s]"
     ]
    },
    {
     "name": "stderr",
     "output_type": "stream",
     "text": [
      "\r",
      "Step 3/3 :  86%|████████▋ | 4313/5000 [00:59<00:08, 81.06it/s]"
     ]
    },
    {
     "name": "stderr",
     "output_type": "stream",
     "text": [
      "\r",
      "Step 3/3 :  86%|████████▋ | 4322/5000 [00:59<00:08, 80.86it/s]"
     ]
    },
    {
     "name": "stderr",
     "output_type": "stream",
     "text": [
      "\r",
      "Step 3/3 :  86%|████████▋ | 4322/5000 [00:59<00:08, 80.86it/s]"
     ]
    },
    {
     "name": "stderr",
     "output_type": "stream",
     "text": [
      "\r",
      "Step 3/3 :  86%|████████▋ | 4322/5000 [00:59<00:08, 80.86it/s]"
     ]
    },
    {
     "name": "stderr",
     "output_type": "stream",
     "text": [
      "\r",
      "Step 3/3 :  86%|████████▋ | 4322/5000 [00:59<00:08, 80.86it/s]"
     ]
    },
    {
     "name": "stderr",
     "output_type": "stream",
     "text": [
      "\r",
      "Step 3/3 :  86%|████████▋ | 4322/5000 [00:59<00:08, 80.86it/s]"
     ]
    },
    {
     "name": "stderr",
     "output_type": "stream",
     "text": [
      "\r",
      "Step 3/3 :  86%|████████▋ | 4322/5000 [00:59<00:08, 80.86it/s]"
     ]
    },
    {
     "name": "stderr",
     "output_type": "stream",
     "text": [
      "\r",
      "Step 3/3 :  86%|████████▋ | 4322/5000 [00:59<00:08, 80.86it/s]"
     ]
    },
    {
     "name": "stderr",
     "output_type": "stream",
     "text": [
      "\r",
      "Step 3/3 :  86%|████████▋ | 4322/5000 [00:59<00:08, 80.86it/s]"
     ]
    },
    {
     "name": "stderr",
     "output_type": "stream",
     "text": [
      "\r",
      "Step 3/3 :  86%|████████▋ | 4322/5000 [00:59<00:08, 80.86it/s]"
     ]
    },
    {
     "name": "stderr",
     "output_type": "stream",
     "text": [
      "\r",
      "Step 3/3 :  86%|████████▋ | 4322/5000 [00:59<00:08, 80.86it/s]"
     ]
    },
    {
     "name": "stderr",
     "output_type": "stream",
     "text": [
      "\r",
      "Step 3/3 :  87%|████████▋ | 4331/5000 [00:59<00:08, 77.89it/s]"
     ]
    },
    {
     "name": "stderr",
     "output_type": "stream",
     "text": [
      "\r",
      "Step 3/3 :  87%|████████▋ | 4331/5000 [00:59<00:08, 77.89it/s]"
     ]
    },
    {
     "name": "stderr",
     "output_type": "stream",
     "text": [
      "\r",
      "Step 3/3 :  87%|████████▋ | 4331/5000 [00:59<00:08, 77.89it/s]"
     ]
    },
    {
     "name": "stderr",
     "output_type": "stream",
     "text": [
      "\r",
      "Step 3/3 :  87%|████████▋ | 4331/5000 [00:59<00:08, 77.89it/s]"
     ]
    },
    {
     "name": "stderr",
     "output_type": "stream",
     "text": [
      "\r",
      "Step 3/3 :  87%|████████▋ | 4331/5000 [00:59<00:08, 77.89it/s]"
     ]
    },
    {
     "name": "stderr",
     "output_type": "stream",
     "text": [
      "\r",
      "Step 3/3 :  87%|████████▋ | 4331/5000 [00:59<00:08, 77.89it/s]"
     ]
    },
    {
     "name": "stderr",
     "output_type": "stream",
     "text": [
      "\r",
      "Step 3/3 :  87%|████████▋ | 4331/5000 [00:59<00:08, 77.89it/s]"
     ]
    },
    {
     "name": "stderr",
     "output_type": "stream",
     "text": [
      "\r",
      "Step 3/3 :  87%|████████▋ | 4331/5000 [00:59<00:08, 77.89it/s]"
     ]
    },
    {
     "name": "stderr",
     "output_type": "stream",
     "text": [
      "\r",
      "Step 3/3 :  87%|████████▋ | 4331/5000 [00:59<00:08, 77.89it/s]"
     ]
    },
    {
     "name": "stderr",
     "output_type": "stream",
     "text": [
      "\r",
      "Step 3/3 :  87%|████████▋ | 4331/5000 [00:59<00:08, 77.89it/s]"
     ]
    },
    {
     "name": "stderr",
     "output_type": "stream",
     "text": [
      "\r",
      "Step 3/3 :  87%|████████▋ | 4340/5000 [00:59<00:08, 80.75it/s]"
     ]
    },
    {
     "name": "stderr",
     "output_type": "stream",
     "text": [
      "\r",
      "Step 3/3 :  87%|████████▋ | 4340/5000 [00:59<00:08, 80.75it/s]"
     ]
    },
    {
     "name": "stderr",
     "output_type": "stream",
     "text": [
      "\r",
      "Step 3/3 :  87%|████████▋ | 4340/5000 [00:59<00:08, 80.75it/s]"
     ]
    },
    {
     "name": "stderr",
     "output_type": "stream",
     "text": [
      "\r",
      "Step 3/3 :  87%|████████▋ | 4340/5000 [00:59<00:08, 80.75it/s]"
     ]
    },
    {
     "name": "stderr",
     "output_type": "stream",
     "text": [
      "\r",
      "Step 3/3 :  87%|████████▋ | 4340/5000 [00:59<00:08, 80.75it/s]"
     ]
    },
    {
     "name": "stderr",
     "output_type": "stream",
     "text": [
      "\r",
      "Step 3/3 :  87%|████████▋ | 4340/5000 [00:59<00:08, 80.75it/s]"
     ]
    },
    {
     "name": "stderr",
     "output_type": "stream",
     "text": [
      "\r",
      "Step 3/3 :  87%|████████▋ | 4340/5000 [00:59<00:08, 80.75it/s]"
     ]
    },
    {
     "name": "stderr",
     "output_type": "stream",
     "text": [
      "\r",
      "Step 3/3 :  87%|████████▋ | 4340/5000 [00:59<00:08, 80.75it/s]"
     ]
    },
    {
     "name": "stderr",
     "output_type": "stream",
     "text": [
      "\r",
      "Step 3/3 :  87%|████████▋ | 4340/5000 [00:59<00:08, 80.75it/s]"
     ]
    },
    {
     "name": "stderr",
     "output_type": "stream",
     "text": [
      "\r",
      "Step 3/3 :  87%|████████▋ | 4340/5000 [00:59<00:08, 80.75it/s]"
     ]
    },
    {
     "name": "stderr",
     "output_type": "stream",
     "text": [
      "\r",
      "Step 3/3 :  87%|████████▋ | 4340/5000 [00:59<00:08, 80.75it/s]"
     ]
    },
    {
     "name": "stderr",
     "output_type": "stream",
     "text": [
      "\r",
      "Step 3/3 :  87%|████████▋ | 4350/5000 [00:59<00:07, 85.07it/s]"
     ]
    },
    {
     "name": "stderr",
     "output_type": "stream",
     "text": [
      "\r",
      "Step 3/3 :  87%|████████▋ | 4350/5000 [00:59<00:07, 85.07it/s]"
     ]
    },
    {
     "name": "stderr",
     "output_type": "stream",
     "text": [
      "\r",
      "Step 3/3 :  87%|████████▋ | 4350/5000 [00:59<00:07, 85.07it/s]"
     ]
    },
    {
     "name": "stderr",
     "output_type": "stream",
     "text": [
      "\r",
      "Step 3/3 :  87%|████████▋ | 4350/5000 [00:59<00:07, 85.07it/s]"
     ]
    },
    {
     "name": "stderr",
     "output_type": "stream",
     "text": [
      "\r",
      "Step 3/3 :  87%|████████▋ | 4350/5000 [00:59<00:07, 85.07it/s]"
     ]
    },
    {
     "name": "stderr",
     "output_type": "stream",
     "text": [
      "\r",
      "Step 3/3 :  87%|████████▋ | 4350/5000 [00:59<00:07, 85.07it/s]"
     ]
    },
    {
     "name": "stderr",
     "output_type": "stream",
     "text": [
      "\r",
      "Step 3/3 :  87%|████████▋ | 4350/5000 [00:59<00:07, 85.07it/s]"
     ]
    },
    {
     "name": "stderr",
     "output_type": "stream",
     "text": [
      "\r",
      "Step 3/3 :  87%|████████▋ | 4350/5000 [00:59<00:07, 85.07it/s]"
     ]
    },
    {
     "name": "stderr",
     "output_type": "stream",
     "text": [
      "\r",
      "Step 3/3 :  87%|████████▋ | 4350/5000 [00:59<00:07, 85.07it/s]"
     ]
    },
    {
     "name": "stderr",
     "output_type": "stream",
     "text": [
      "\r",
      "Step 3/3 :  87%|████████▋ | 4350/5000 [00:59<00:07, 85.07it/s]"
     ]
    },
    {
     "name": "stderr",
     "output_type": "stream",
     "text": [
      "\r",
      "Step 3/3 :  87%|████████▋ | 4350/5000 [00:59<00:07, 85.07it/s]"
     ]
    },
    {
     "name": "stderr",
     "output_type": "stream",
     "text": [
      "\r",
      "Step 3/3 :  87%|████████▋ | 4360/5000 [00:59<00:07, 88.48it/s]"
     ]
    },
    {
     "name": "stderr",
     "output_type": "stream",
     "text": [
      "\r",
      "Step 3/3 :  87%|████████▋ | 4360/5000 [00:59<00:07, 88.48it/s]"
     ]
    },
    {
     "name": "stderr",
     "output_type": "stream",
     "text": [
      "\r",
      "Step 3/3 :  87%|████████▋ | 4360/5000 [00:59<00:07, 88.48it/s]"
     ]
    },
    {
     "name": "stderr",
     "output_type": "stream",
     "text": [
      "\r",
      "Step 3/3 :  87%|████████▋ | 4360/5000 [00:59<00:07, 88.48it/s]"
     ]
    },
    {
     "name": "stderr",
     "output_type": "stream",
     "text": [
      "\r",
      "Step 3/3 :  87%|████████▋ | 4360/5000 [00:59<00:07, 88.48it/s]"
     ]
    },
    {
     "name": "stderr",
     "output_type": "stream",
     "text": [
      "\r",
      "Step 3/3 :  87%|████████▋ | 4360/5000 [00:59<00:07, 88.48it/s]"
     ]
    },
    {
     "name": "stderr",
     "output_type": "stream",
     "text": [
      "\r",
      "Step 3/3 :  87%|████████▋ | 4360/5000 [00:59<00:07, 88.48it/s]"
     ]
    },
    {
     "name": "stderr",
     "output_type": "stream",
     "text": [
      "\r",
      "Step 3/3 :  87%|████████▋ | 4360/5000 [00:59<00:07, 88.48it/s]"
     ]
    },
    {
     "name": "stderr",
     "output_type": "stream",
     "text": [
      "\r",
      "Step 3/3 :  87%|████████▋ | 4360/5000 [00:59<00:07, 88.48it/s]"
     ]
    },
    {
     "name": "stderr",
     "output_type": "stream",
     "text": [
      "\r",
      "Step 3/3 :  87%|████████▋ | 4360/5000 [00:59<00:07, 88.48it/s]"
     ]
    },
    {
     "name": "stderr",
     "output_type": "stream",
     "text": [
      "\r",
      "Step 3/3 :  87%|████████▋ | 4369/5000 [00:59<00:07, 88.16it/s]"
     ]
    },
    {
     "name": "stderr",
     "output_type": "stream",
     "text": [
      "\r",
      "Step 3/3 :  87%|████████▋ | 4369/5000 [00:59<00:07, 88.16it/s]"
     ]
    },
    {
     "name": "stderr",
     "output_type": "stream",
     "text": [
      "\r",
      "Step 3/3 :  87%|████████▋ | 4369/5000 [00:59<00:07, 88.16it/s]"
     ]
    },
    {
     "name": "stderr",
     "output_type": "stream",
     "text": [
      "\r",
      "Step 3/3 :  87%|████████▋ | 4369/5000 [01:00<00:07, 88.16it/s]"
     ]
    },
    {
     "name": "stderr",
     "output_type": "stream",
     "text": [
      "\r",
      "Step 3/3 :  87%|████████▋ | 4369/5000 [01:00<00:07, 88.16it/s]"
     ]
    },
    {
     "name": "stderr",
     "output_type": "stream",
     "text": [
      "\r",
      "Step 3/3 :  87%|████████▋ | 4369/5000 [01:00<00:07, 88.16it/s]"
     ]
    },
    {
     "name": "stderr",
     "output_type": "stream",
     "text": [
      "\r",
      "Step 3/3 :  87%|████████▋ | 4369/5000 [01:00<00:07, 88.16it/s]"
     ]
    },
    {
     "name": "stderr",
     "output_type": "stream",
     "text": [
      "\r",
      "Step 3/3 :  87%|████████▋ | 4369/5000 [01:00<00:07, 88.16it/s]"
     ]
    },
    {
     "name": "stderr",
     "output_type": "stream",
     "text": [
      "\r",
      "Step 3/3 :  87%|████████▋ | 4369/5000 [01:00<00:07, 88.16it/s]"
     ]
    },
    {
     "name": "stderr",
     "output_type": "stream",
     "text": [
      "\r",
      "Step 3/3 :  87%|████████▋ | 4369/5000 [01:00<00:07, 88.16it/s]"
     ]
    },
    {
     "name": "stderr",
     "output_type": "stream",
     "text": [
      "\r",
      "Step 3/3 :  88%|████████▊ | 4378/5000 [01:00<00:07, 84.86it/s]"
     ]
    },
    {
     "name": "stderr",
     "output_type": "stream",
     "text": [
      "\r",
      "Step 3/3 :  88%|████████▊ | 4378/5000 [01:00<00:07, 84.86it/s]"
     ]
    },
    {
     "name": "stderr",
     "output_type": "stream",
     "text": [
      "\r",
      "Step 3/3 :  88%|████████▊ | 4378/5000 [01:00<00:07, 84.86it/s]"
     ]
    }
   ],
   "source": [
    "#end_date = '2015-12-31'\n",
    "print(end_period)\n",
    "model.fit(KORmacro.loc[:end_period], dates=KORmacro.loc[:end_period].index)\n"
   ]
  },
  {
   "cell_type": "code",
   "execution_count": null,
   "id": "59af2140",
   "metadata": {
    "papermill": {
     "duration": null,
     "end_time": null,
     "exception": null,
     "start_time": null,
     "status": "pending"
    },
    "tags": []
   },
   "outputs": [],
   "source": [
    "rstar_HLW = pd.DataFrame(model.SummaryLV['Avg']['rNatural'])\n",
    "rstar_HLW.index = KORmacro.loc[KORmacro.index[4]:end_period].index\n",
    "if smoothing:\n",
    "    rstar_HLW.columns = ['rstar_HLW_inf_smoothed']\n",
    "else:\n",
    "    rstar_HLW.columns = ['rstar_HLW']\n",
    "rstar = rstar_HLW.reset_index().rename(columns={'index': 'Date'}).to_json(orient='records', date_format='iso')\n",
    "rstar_HLW.reset_index().rename(columns={'index': 'Date'}) \\\n",
    "    .assign(Date=lambda df: df['Date'].dt.strftime('%Y-%m-%d')) \\\n",
    "    .to_json('rstar_HLW.json', orient='records')"
   ]
  }
 ],
 "metadata": {
  "kernelspec": {
   "display_name": "nir_validation",
   "language": "python",
   "name": "python3"
  },
  "language_info": {
   "codemirror_mode": {
    "name": "ipython",
    "version": 3
   },
   "file_extension": ".py",
   "mimetype": "text/x-python",
   "name": "python",
   "nbconvert_exporter": "python",
   "pygments_lexer": "ipython3",
   "version": "3.12.9"
  },
  "papermill": {
   "default_parameters": {},
   "duration": null,
   "end_time": null,
   "environment_variables": {},
   "exception": null,
   "input_path": "C:\\Users\\BOK\\Desktop\\pyprojects\\nir_validation\\HLW.ipynb",
   "output_path": "C:\\Users\\BOK\\Desktop\\pyprojects\\nir_validation\\HLW_output.ipynb",
   "parameters": {
    "end_period": "2016-09-30",
    "smoothing": true
   },
   "start_time": "2025-05-21T08:21:11.246931",
   "version": "2.6.0"
  }
 },
 "nbformat": 4,
 "nbformat_minor": 5
}