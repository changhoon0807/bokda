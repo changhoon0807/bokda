{
 "cells": [
  {
   "cell_type": "code",
   "execution_count": 1,
   "id": "521c0488",
   "metadata": {
    "execution": {
     "iopub.execute_input": "2025-05-21T08:04:50.222615Z",
     "iopub.status.busy": "2025-05-21T08:04:50.222615Z",
     "iopub.status.idle": "2025-05-21T08:04:50.228847Z",
     "shell.execute_reply": "2025-05-21T08:04:50.228847Z"
    },
    "papermill": {
     "duration": 0.016227,
     "end_time": "2025-05-21T08:04:50.230851",
     "exception": false,
     "start_time": "2025-05-21T08:04:50.214624",
     "status": "completed"
    },
    "tags": [
     "injected-parameters"
    ]
   },
   "outputs": [],
   "source": [
    "# Parameters\n",
    "end_period = \"2019-03-31\"\n",
    "smoothing = False\n"
   ]
  },
  {
   "cell_type": "markdown",
   "id": "d7ce6bec",
   "metadata": {
    "papermill": {
     "duration": 0.004999,
     "end_time": "2025-05-21T08:04:50.240849",
     "exception": false,
     "start_time": "2025-05-21T08:04:50.235850",
     "status": "completed"
    },
    "tags": []
   },
   "source": [
    "## HLW_Covid"
   ]
  },
  {
   "cell_type": "code",
   "execution_count": 2,
   "id": "65d7aa29",
   "metadata": {
    "execution": {
     "iopub.execute_input": "2025-05-21T08:04:50.255849Z",
     "iopub.status.busy": "2025-05-21T08:04:50.255849Z",
     "iopub.status.idle": "2025-05-21T08:04:52.294884Z",
     "shell.execute_reply": "2025-05-21T08:04:52.294884Z"
    },
    "papermill": {
     "duration": 2.050038,
     "end_time": "2025-05-21T08:04:52.295888",
     "exception": false,
     "start_time": "2025-05-21T08:04:50.245850",
     "status": "completed"
    },
    "tags": []
   },
   "outputs": [],
   "source": [
    "from bok_da.ts.nir import HLW_Covid"
   ]
  },
  {
   "cell_type": "code",
   "execution_count": 3,
   "id": "b0e65fac",
   "metadata": {
    "execution": {
     "iopub.execute_input": "2025-05-21T08:04:52.306889Z",
     "iopub.status.busy": "2025-05-21T08:04:52.306889Z",
     "iopub.status.idle": "2025-05-21T08:04:52.309838Z",
     "shell.execute_reply": "2025-05-21T08:04:52.309838Z"
    },
    "papermill": {
     "duration": 0.010956,
     "end_time": "2025-05-21T08:04:52.311844",
     "exception": false,
     "start_time": "2025-05-21T08:04:52.300888",
     "status": "completed"
    },
    "tags": []
   },
   "outputs": [],
   "source": [
    "# !pip install openpyxl\n",
    "import pandas as pd\n",
    "import numpy as np\n",
    "import datetime"
   ]
  },
  {
   "cell_type": "code",
   "execution_count": 4,
   "id": "1ae5deda",
   "metadata": {
    "execution": {
     "iopub.execute_input": "2025-05-21T08:04:52.320843Z",
     "iopub.status.busy": "2025-05-21T08:04:52.320843Z",
     "iopub.status.idle": "2025-05-21T08:04:52.570400Z",
     "shell.execute_reply": "2025-05-21T08:04:52.570400Z"
    },
    "papermill": {
     "duration": 0.254568,
     "end_time": "2025-05-21T08:04:52.571411",
     "exception": false,
     "start_time": "2025-05-21T08:04:52.316843",
     "status": "completed"
    },
    "tags": []
   },
   "outputs": [
    {
     "data": {
      "text/html": [
       "<div>\n",
       "<style scoped>\n",
       "    .dataframe tbody tr th:only-of-type {\n",
       "        vertical-align: middle;\n",
       "    }\n",
       "\n",
       "    .dataframe tbody tr th {\n",
       "        vertical-align: top;\n",
       "    }\n",
       "\n",
       "    .dataframe thead th {\n",
       "        text-align: right;\n",
       "    }\n",
       "</style>\n",
       "<table border=\"1\" class=\"dataframe\">\n",
       "  <thead>\n",
       "    <tr style=\"text-align: right;\">\n",
       "      <th></th>\n",
       "      <th>rgdp</th>\n",
       "      <th>inf1</th>\n",
       "      <th>interest</th>\n",
       "      <th>csi</th>\n",
       "      <th>ci</th>\n",
       "    </tr>\n",
       "    <tr>\n",
       "      <th>Date</th>\n",
       "      <th></th>\n",
       "      <th></th>\n",
       "      <th></th>\n",
       "      <th></th>\n",
       "      <th></th>\n",
       "    </tr>\n",
       "  </thead>\n",
       "  <tbody>\n",
       "    <tr>\n",
       "      <th>2000-03-31</th>\n",
       "      <td>4961.268953</td>\n",
       "      <td>1.227883</td>\n",
       "      <td>3.722117</td>\n",
       "      <td>0.0</td>\n",
       "      <td>0</td>\n",
       "    </tr>\n",
       "    <tr>\n",
       "      <th>2000-06-30</th>\n",
       "      <td>4967.384872</td>\n",
       "      <td>1.573023</td>\n",
       "      <td>3.526977</td>\n",
       "      <td>0.0</td>\n",
       "      <td>0</td>\n",
       "    </tr>\n",
       "    <tr>\n",
       "      <th>2000-09-30</th>\n",
       "      <td>4978.220343</td>\n",
       "      <td>2.196806</td>\n",
       "      <td>2.923194</td>\n",
       "      <td>0.0</td>\n",
       "      <td>0</td>\n",
       "    </tr>\n",
       "    <tr>\n",
       "      <th>2000-12-31</th>\n",
       "      <td>4976.889295</td>\n",
       "      <td>2.479182</td>\n",
       "      <td>2.850818</td>\n",
       "      <td>0.0</td>\n",
       "      <td>0</td>\n",
       "    </tr>\n",
       "    <tr>\n",
       "      <th>2001-03-31</th>\n",
       "      <td>4980.892991</td>\n",
       "      <td>3.258236</td>\n",
       "      <td>1.881764</td>\n",
       "      <td>0.0</td>\n",
       "      <td>0</td>\n",
       "    </tr>\n",
       "    <tr>\n",
       "      <th>...</th>\n",
       "      <td>...</td>\n",
       "      <td>...</td>\n",
       "      <td>...</td>\n",
       "      <td>...</td>\n",
       "      <td>...</td>\n",
       "    </tr>\n",
       "    <tr>\n",
       "      <th>2023-09-30</th>\n",
       "      <td>5296.439326</td>\n",
       "      <td>3.742613</td>\n",
       "      <td>-0.194613</td>\n",
       "      <td>0.0</td>\n",
       "      <td>0</td>\n",
       "    </tr>\n",
       "    <tr>\n",
       "      <th>2023-12-31</th>\n",
       "      <td>5298.255260</td>\n",
       "      <td>3.294664</td>\n",
       "      <td>0.281336</td>\n",
       "      <td>0.0</td>\n",
       "      <td>0</td>\n",
       "    </tr>\n",
       "    <tr>\n",
       "      <th>2024-03-31</th>\n",
       "      <td>5303.422191</td>\n",
       "      <td>2.566453</td>\n",
       "      <td>0.939547</td>\n",
       "      <td>0.0</td>\n",
       "      <td>0</td>\n",
       "    </tr>\n",
       "    <tr>\n",
       "      <th>2024-06-30</th>\n",
       "      <td>5302.510569</td>\n",
       "      <td>2.089200</td>\n",
       "      <td>1.442800</td>\n",
       "      <td>0.0</td>\n",
       "      <td>0</td>\n",
       "    </tr>\n",
       "    <tr>\n",
       "      <th>2024-09-30</th>\n",
       "      <td>5302.908729</td>\n",
       "      <td>1.952984</td>\n",
       "      <td>1.573016</td>\n",
       "      <td>0.0</td>\n",
       "      <td>0</td>\n",
       "    </tr>\n",
       "  </tbody>\n",
       "</table>\n",
       "<p>99 rows × 5 columns</p>\n",
       "</div>"
      ],
      "text/plain": [
       "                   rgdp      inf1  interest  csi  ci\n",
       "Date                                                \n",
       "2000-03-31  4961.268953  1.227883  3.722117  0.0   0\n",
       "2000-06-30  4967.384872  1.573023  3.526977  0.0   0\n",
       "2000-09-30  4978.220343  2.196806  2.923194  0.0   0\n",
       "2000-12-31  4976.889295  2.479182  2.850818  0.0   0\n",
       "2001-03-31  4980.892991  3.258236  1.881764  0.0   0\n",
       "...                 ...       ...       ...  ...  ..\n",
       "2023-09-30  5296.439326  3.742613 -0.194613  0.0   0\n",
       "2023-12-31  5298.255260  3.294664  0.281336  0.0   0\n",
       "2024-03-31  5303.422191  2.566453  0.939547  0.0   0\n",
       "2024-06-30  5302.510569  2.089200  1.442800  0.0   0\n",
       "2024-09-30  5302.908729  1.952984  1.573016  0.0   0\n",
       "\n",
       "[99 rows x 5 columns]"
      ]
     },
     "execution_count": 4,
     "metadata": {},
     "output_type": "execute_result"
    }
   ],
   "source": [
    "KORData = pd.read_excel(\"data/nir_data_all.xlsx\", sheet_name=\"raw_data\")\n",
    "end_date = datetime.datetime.strptime('2024-07-01', '%Y-%m-%d')\n",
    "KORData_before = KORData[KORData['Date'] <= end_date]\n",
    "data = KORData_before.set_index(\"Date\")\n",
    "data_list = ['rgdp', 'inf1', 'interest', 'csi', 'ci']\n",
    "data = data[data_list]\n",
    "data['inf1'] = data['inf1'].pct_change(4) * 100\n",
    "\n",
    "if smoothing:\n",
    "    data['inf1'] = data['inf1'].rolling(window=4).mean()\n",
    "\n",
    "data['rgdp'] = np.log(data['rgdp']) * 400\n",
    "data['interest'] = data['interest'] - data['inf1']\n",
    "data = data.dropna()\n",
    "#data = data.loc['1991-01-01':]\n",
    "KORmacro = data['2000-01-01':].copy()\n",
    "#KORmacro = data.copy()\n",
    "def shift_quarter_end(date):\n",
    "    if date.month == 1:\n",
    "        return date.replace(month=3, day=31)\n",
    "    elif date.month == 4:\n",
    "        return date.replace(month=6, day=30)\n",
    "    elif date.month == 7:\n",
    "        return date.replace(month=9, day=30)\n",
    "    else:\n",
    "        return date.replace(month=12, day=31)\n",
    "\n",
    "KORmacro.index = KORmacro.index.map(shift_quarter_end)\n",
    "KORmacro"
   ]
  },
  {
   "cell_type": "code",
   "execution_count": 5,
   "id": "ff897d63",
   "metadata": {
    "execution": {
     "iopub.execute_input": "2025-05-21T08:04:52.582411Z",
     "iopub.status.busy": "2025-05-21T08:04:52.582411Z",
     "iopub.status.idle": "2025-05-21T08:04:52.589329Z",
     "shell.execute_reply": "2025-05-21T08:04:52.589329Z"
    },
    "papermill": {
     "duration": 0.013926,
     "end_time": "2025-05-21T08:04:52.590336",
     "exception": false,
     "start_time": "2025-05-21T08:04:52.576410",
     "status": "completed"
    },
    "tags": []
   },
   "outputs": [
    {
     "name": "stdout",
     "output_type": "stream",
     "text": [
      "> Initializing Model...\n",
      "  - Total MCMC iterations: 2500\n",
      "  - Burn-in period: 500\n",
      "  - Latent variables percentiles: [5, 95]\n",
      "  - Parameters percentiles: [0.05, 0.95]\n",
      "  - Interest rate z-component specification: rw\n"
     ]
    }
   ],
   "source": [
    "mcmc =  {\n",
    "            'sig2_g': 0,\n",
    "            'sig2_yt': 0,\n",
    "            'sig2_yc': 0,\n",
    "            'sig2_z': 0,\n",
    "            'sig2_p': 0,\n",
    "            'slope_yc': 0,\n",
    "            'slope_z': 0,\n",
    "            'slope_p': 0\n",
    "        }\n",
    "\n",
    "if smoothing:\n",
    "    prior = {\n",
    "        'yc_mean': np.array([0.7, 0.2, -0.2]), # [0.7, 0.2, -0.3]\n",
    "        'yc_variance': np.diag(np.array([0.1, 0.1, 0.03]) ** 2), # np.diag(np.array([0.1, 0.1, 0.03]) ** 2)\n",
    "        'sig2_yc_shape': 5,\n",
    "        'sig2_yc_scale': 4 * 2**2,\n",
    "        'sig2_g_shape': 5,\n",
    "        'sig2_g_scale': 4 * 0.1**2,\n",
    "        'sig2_yt_shape': 5,\n",
    "        'sig2_yt_scale': 4 * 2**2,\n",
    "        'sig2_z_shape': 5,\n",
    "        'sig2_z_scale': 4 * 0.5**2,\n",
    "        'p_mean': np.array([0.7, 0.1]),\n",
    "        'p_variance': np.diag(np.array([0.1, 0.1]) ** 2),\n",
    "        'sig2_p_shape': 5,\n",
    "        'sig2_p_scale': 4 * 0.1**2,\n",
    "        'yt_mean': -0.5, # 0\n",
    "        'yt_variance': 0.1**2, # 10**2\n",
    "        'kappa20_shape': 3, #5,\n",
    "        'kappa20_scale': 2, #4*(10**2),\n",
    "        'kappa21_shape': 3, #5,\n",
    "        'kappa21_scale': 2, #4*(10**2),\n",
    "        'kappa22_shape': 3, #5,\n",
    "        'kappa22_scale': 2 #4*(10**2)\n",
    "    }\n",
    "else:\n",
    "    prior = {\n",
    "        'yc_mean': np.array([0.7, 0.2, -0.3]),\n",
    "        'yc_variance': np.diag(np.array([0.1, 0.1, 0.03]) ** 2),\n",
    "        'sig2_yc_shape': 5,\n",
    "        'sig2_yc_scale': 4 * 2**2,\n",
    "        'sig2_g_shape': 5,\n",
    "        'sig2_g_scale': 4 * 0.1**2,\n",
    "        'sig2_yt_shape': 5,\n",
    "        'sig2_yt_scale': 4 * 2**2,\n",
    "        'sig2_z_shape': 5,\n",
    "        'sig2_z_scale': 4 * 0.5**2,\n",
    "        'p_mean': np.array([0.7, 0.1]),\n",
    "        'p_variance': np.diag(np.array([0.1, 0.1]) ** 2),\n",
    "        'sig2_p_shape': 5,\n",
    "        'sig2_p_scale': 4 * 0.1**2,\n",
    "        'yt_mean': -0.5, # 0\n",
    "        'yt_variance': 0.1**2, # 10**2\n",
    "        'kappa20_shape': 3, #5,\n",
    "        'kappa20_scale': 2, #4*(10**2),\n",
    "        'kappa21_shape': 3, #5,\n",
    "        'kappa21_scale': 2, #4*(10**2),\n",
    "        'kappa22_shape': 3, #5,\n",
    "        'kappa22_scale': 2, #4*(10**2)\n",
    "    }\n",
    "\n",
    "model = HLW_Covid(n_draws=2500, burnin=500, MCMCAlgorithm=mcmc, PriorPara=prior)"
   ]
  },
  {
   "cell_type": "code",
   "execution_count": 6,
   "id": "bc458141",
   "metadata": {
    "execution": {
     "iopub.execute_input": "2025-05-21T08:04:52.599345Z",
     "iopub.status.busy": "2025-05-21T08:04:52.599345Z"
    },
    "papermill": {
     "duration": null,
     "end_time": null,
     "exception": false,
     "start_time": "2025-05-21T08:04:52.594347",
     "status": "running"
    },
    "tags": []
   },
   "outputs": [
    {
     "name": "stdout",
     "output_type": "stream",
     "text": [
      "> Starting model fitting...\n",
      "  - Data shape: (77, 5)\n",
      "  - Dates provided with length: 77\n"
     ]
    },
    {
     "name": "stderr",
     "output_type": "stream",
     "text": [
      "\r",
      "Sampling:   0%|          | 0/2500 [00:00<?, ?it/s]"
     ]
    },
    {
     "name": "stderr",
     "output_type": "stream",
     "text": [
      "\r",
      "Step 1/3 :   0%|          | 0/2500 [00:00<?, ?it/s]"
     ]
    },
    {
     "name": "stderr",
     "output_type": "stream",
     "text": [
      "\r",
      "Step 1/3 :   0%|          | 0/2500 [00:00<?, ?it/s]"
     ]
    },
    {
     "name": "stderr",
     "output_type": "stream",
     "text": [
      "\r",
      "Step 1/3 :   0%|          | 2/2500 [00:00<02:04, 20.00it/s]"
     ]
    },
    {
     "name": "stderr",
     "output_type": "stream",
     "text": [
      "\r",
      "Step 1/3 :   0%|          | 2/2500 [00:00<02:04, 20.00it/s]"
     ]
    },
    {
     "name": "stderr",
     "output_type": "stream",
     "text": [
      "\r",
      "Step 1/3 :   0%|          | 2/2500 [00:00<02:04, 20.00it/s]"
     ]
    },
    {
     "name": "stderr",
     "output_type": "stream",
     "text": [
      "\r",
      "Step 1/3 :   0%|          | 2/2500 [00:00<02:04, 20.00it/s]"
     ]
    },
    {
     "name": "stderr",
     "output_type": "stream",
     "text": [
      "\r",
      "Step 1/3 :   0%|          | 5/2500 [00:00<01:38, 25.29it/s]"
     ]
    },
    {
     "name": "stderr",
     "output_type": "stream",
     "text": [
      "\r",
      "Step 1/3 :   0%|          | 5/2500 [00:00<01:38, 25.29it/s]"
     ]
    },
    {
     "name": "stderr",
     "output_type": "stream",
     "text": [
      "\r",
      "Step 1/3 :   0%|          | 5/2500 [00:00<01:38, 25.29it/s]"
     ]
    },
    {
     "name": "stderr",
     "output_type": "stream",
     "text": [
      "\r",
      "Step 1/3 :   0%|          | 5/2500 [00:00<01:38, 25.29it/s]"
     ]
    },
    {
     "name": "stderr",
     "output_type": "stream",
     "text": [
      "\r",
      "Step 1/3 :   0%|          | 8/2500 [00:00<01:34, 26.39it/s]"
     ]
    },
    {
     "name": "stderr",
     "output_type": "stream",
     "text": [
      "\r",
      "Step 1/3 :   0%|          | 8/2500 [00:00<01:34, 26.39it/s]"
     ]
    },
    {
     "name": "stderr",
     "output_type": "stream",
     "text": [
      "\r",
      "Step 1/3 :   0%|          | 8/2500 [00:00<01:34, 26.39it/s]"
     ]
    },
    {
     "name": "stderr",
     "output_type": "stream",
     "text": [
      "\r",
      "Step 1/3 :   0%|          | 8/2500 [00:00<01:34, 26.39it/s]"
     ]
    },
    {
     "name": "stderr",
     "output_type": "stream",
     "text": [
      "\r",
      "Step 1/3 :   0%|          | 11/2500 [00:00<01:34, 26.45it/s]"
     ]
    },
    {
     "name": "stderr",
     "output_type": "stream",
     "text": [
      "\r",
      "Step 1/3 :   0%|          | 11/2500 [00:00<01:34, 26.45it/s]"
     ]
    },
    {
     "name": "stderr",
     "output_type": "stream",
     "text": [
      "\r",
      "Step 1/3 :   0%|          | 11/2500 [00:00<01:34, 26.45it/s]"
     ]
    },
    {
     "name": "stderr",
     "output_type": "stream",
     "text": [
      "\r",
      "Step 1/3 :   0%|          | 11/2500 [00:00<01:34, 26.45it/s]"
     ]
    },
    {
     "name": "stderr",
     "output_type": "stream",
     "text": [
      "\r",
      "Step 1/3 :   1%|          | 14/2500 [00:00<01:31, 27.21it/s]"
     ]
    },
    {
     "name": "stderr",
     "output_type": "stream",
     "text": [
      "\r",
      "Step 1/3 :   1%|          | 14/2500 [00:00<01:31, 27.21it/s]"
     ]
    },
    {
     "name": "stderr",
     "output_type": "stream",
     "text": [
      "\r",
      "Step 1/3 :   1%|          | 14/2500 [00:00<01:31, 27.21it/s]"
     ]
    },
    {
     "name": "stderr",
     "output_type": "stream",
     "text": [
      "\r",
      "Step 1/3 :   1%|          | 14/2500 [00:00<01:31, 27.21it/s]"
     ]
    },
    {
     "name": "stderr",
     "output_type": "stream",
     "text": [
      "\r",
      "Step 1/3 :   1%|          | 17/2500 [00:00<01:28, 28.11it/s]"
     ]
    },
    {
     "name": "stderr",
     "output_type": "stream",
     "text": [
      "\r",
      "Step 1/3 :   1%|          | 17/2500 [00:00<01:28, 28.11it/s]"
     ]
    },
    {
     "name": "stderr",
     "output_type": "stream",
     "text": [
      "\r",
      "Step 1/3 :   1%|          | 17/2500 [00:00<01:28, 28.11it/s]"
     ]
    },
    {
     "name": "stderr",
     "output_type": "stream",
     "text": [
      "\r",
      "Step 1/3 :   1%|          | 17/2500 [00:00<01:28, 28.11it/s]"
     ]
    },
    {
     "name": "stderr",
     "output_type": "stream",
     "text": [
      "\r",
      "Step 1/3 :   1%|          | 20/2500 [00:00<01:28, 28.18it/s]"
     ]
    },
    {
     "name": "stderr",
     "output_type": "stream",
     "text": [
      "\r",
      "Step 1/3 :   1%|          | 20/2500 [00:00<01:28, 28.18it/s]"
     ]
    },
    {
     "name": "stderr",
     "output_type": "stream",
     "text": [
      "\r",
      "Step 1/3 :   1%|          | 20/2500 [00:00<01:28, 28.18it/s]"
     ]
    },
    {
     "name": "stderr",
     "output_type": "stream",
     "text": [
      "\r",
      "Step 1/3 :   1%|          | 20/2500 [00:00<01:28, 28.18it/s]"
     ]
    },
    {
     "name": "stderr",
     "output_type": "stream",
     "text": [
      "\r",
      "Step 1/3 :   1%|          | 23/2500 [00:00<01:28, 27.96it/s]"
     ]
    },
    {
     "name": "stderr",
     "output_type": "stream",
     "text": [
      "\r",
      "Step 1/3 :   1%|          | 23/2500 [00:00<01:28, 27.96it/s]"
     ]
    },
    {
     "name": "stderr",
     "output_type": "stream",
     "text": [
      "\r",
      "Step 1/3 :   1%|          | 23/2500 [00:00<01:28, 27.96it/s]"
     ]
    },
    {
     "name": "stderr",
     "output_type": "stream",
     "text": [
      "\r",
      "Step 1/3 :   1%|          | 23/2500 [00:00<01:28, 27.96it/s]"
     ]
    },
    {
     "name": "stderr",
     "output_type": "stream",
     "text": [
      "\r",
      "Step 1/3 :   1%|          | 26/2500 [00:00<01:28, 28.07it/s]"
     ]
    },
    {
     "name": "stderr",
     "output_type": "stream",
     "text": [
      "\r",
      "Step 1/3 :   1%|          | 26/2500 [00:00<01:28, 28.07it/s]"
     ]
    },
    {
     "name": "stderr",
     "output_type": "stream",
     "text": [
      "\r",
      "Step 1/3 :   1%|          | 26/2500 [00:00<01:28, 28.07it/s]"
     ]
    },
    {
     "name": "stderr",
     "output_type": "stream",
     "text": [
      "\r",
      "Step 1/3 :   1%|          | 26/2500 [00:01<01:28, 28.07it/s]"
     ]
    },
    {
     "name": "stderr",
     "output_type": "stream",
     "text": [
      "\r",
      "Step 1/3 :   1%|          | 29/2500 [00:01<01:29, 27.74it/s]"
     ]
    },
    {
     "name": "stderr",
     "output_type": "stream",
     "text": [
      "\r",
      "Step 1/3 :   1%|          | 29/2500 [00:01<01:29, 27.74it/s]"
     ]
    },
    {
     "name": "stderr",
     "output_type": "stream",
     "text": [
      "\r",
      "Step 1/3 :   1%|          | 29/2500 [00:01<01:29, 27.74it/s]"
     ]
    },
    {
     "name": "stderr",
     "output_type": "stream",
     "text": [
      "\r",
      "Step 1/3 :   1%|          | 29/2500 [00:01<01:29, 27.74it/s]"
     ]
    },
    {
     "name": "stderr",
     "output_type": "stream",
     "text": [
      "\r",
      "Step 1/3 :   1%|▏         | 32/2500 [00:01<01:28, 27.99it/s]"
     ]
    },
    {
     "name": "stderr",
     "output_type": "stream",
     "text": [
      "\r",
      "Step 1/3 :   1%|▏         | 32/2500 [00:01<01:28, 27.99it/s]"
     ]
    },
    {
     "name": "stderr",
     "output_type": "stream",
     "text": [
      "\r",
      "Step 1/3 :   1%|▏         | 32/2500 [00:01<01:28, 27.99it/s]"
     ]
    },
    {
     "name": "stderr",
     "output_type": "stream",
     "text": [
      "\r",
      "Step 1/3 :   1%|▏         | 32/2500 [00:01<01:28, 27.99it/s]"
     ]
    },
    {
     "name": "stderr",
     "output_type": "stream",
     "text": [
      "\r",
      "Step 1/3 :   1%|▏         | 35/2500 [00:01<01:27, 28.08it/s]"
     ]
    },
    {
     "name": "stderr",
     "output_type": "stream",
     "text": [
      "\r",
      "Step 1/3 :   1%|▏         | 35/2500 [00:01<01:27, 28.08it/s]"
     ]
    },
    {
     "name": "stderr",
     "output_type": "stream",
     "text": [
      "\r",
      "Step 1/3 :   1%|▏         | 35/2500 [00:01<01:27, 28.08it/s]"
     ]
    },
    {
     "name": "stderr",
     "output_type": "stream",
     "text": [
      "\r",
      "Step 1/3 :   1%|▏         | 35/2500 [00:01<01:27, 28.08it/s]"
     ]
    },
    {
     "name": "stderr",
     "output_type": "stream",
     "text": [
      "\r",
      "Step 1/3 :   2%|▏         | 38/2500 [00:01<01:29, 27.45it/s]"
     ]
    },
    {
     "name": "stderr",
     "output_type": "stream",
     "text": [
      "\r",
      "Step 1/3 :   2%|▏         | 38/2500 [00:01<01:29, 27.45it/s]"
     ]
    },
    {
     "name": "stderr",
     "output_type": "stream",
     "text": [
      "\r",
      "Step 1/3 :   2%|▏         | 38/2500 [00:01<01:29, 27.45it/s]"
     ]
    },
    {
     "name": "stderr",
     "output_type": "stream",
     "text": [
      "\r",
      "Step 1/3 :   2%|▏         | 38/2500 [00:01<01:29, 27.45it/s]"
     ]
    },
    {
     "name": "stderr",
     "output_type": "stream",
     "text": [
      "\r",
      "Step 1/3 :   2%|▏         | 41/2500 [00:01<01:28, 27.93it/s]"
     ]
    },
    {
     "name": "stderr",
     "output_type": "stream",
     "text": [
      "\r",
      "Step 1/3 :   2%|▏         | 41/2500 [00:01<01:28, 27.93it/s]"
     ]
    },
    {
     "name": "stderr",
     "output_type": "stream",
     "text": [
      "\r",
      "Step 1/3 :   2%|▏         | 41/2500 [00:01<01:28, 27.93it/s]"
     ]
    },
    {
     "name": "stderr",
     "output_type": "stream",
     "text": [
      "\r",
      "Step 1/3 :   2%|▏         | 41/2500 [00:01<01:28, 27.93it/s]"
     ]
    },
    {
     "name": "stderr",
     "output_type": "stream",
     "text": [
      "\r",
      "Step 1/3 :   2%|▏         | 44/2500 [00:01<01:26, 28.28it/s]"
     ]
    },
    {
     "name": "stderr",
     "output_type": "stream",
     "text": [
      "\r",
      "Step 1/3 :   2%|▏         | 44/2500 [00:01<01:26, 28.28it/s]"
     ]
    },
    {
     "name": "stderr",
     "output_type": "stream",
     "text": [
      "\r",
      "Step 1/3 :   2%|▏         | 44/2500 [00:01<01:26, 28.28it/s]"
     ]
    },
    {
     "name": "stderr",
     "output_type": "stream",
     "text": [
      "\r",
      "Step 1/3 :   2%|▏         | 44/2500 [00:01<01:26, 28.28it/s]"
     ]
    },
    {
     "name": "stderr",
     "output_type": "stream",
     "text": [
      "\r",
      "Step 1/3 :   2%|▏         | 47/2500 [00:01<01:25, 28.57it/s]"
     ]
    },
    {
     "name": "stderr",
     "output_type": "stream",
     "text": [
      "\r",
      "Step 1/3 :   2%|▏         | 47/2500 [00:01<01:25, 28.57it/s]"
     ]
    },
    {
     "name": "stderr",
     "output_type": "stream",
     "text": [
      "\r",
      "Step 1/3 :   2%|▏         | 47/2500 [00:01<01:25, 28.57it/s]"
     ]
    },
    {
     "name": "stderr",
     "output_type": "stream",
     "text": [
      "\r",
      "Step 1/3 :   2%|▏         | 47/2500 [00:01<01:25, 28.57it/s]"
     ]
    },
    {
     "name": "stderr",
     "output_type": "stream",
     "text": [
      "\r",
      "Step 1/3 :   2%|▏         | 50/2500 [00:01<01:24, 28.98it/s]"
     ]
    },
    {
     "name": "stderr",
     "output_type": "stream",
     "text": [
      "\r",
      "Step 1/3 :   2%|▏         | 50/2500 [00:01<01:24, 28.98it/s]"
     ]
    },
    {
     "name": "stderr",
     "output_type": "stream",
     "text": [
      "\r",
      "Step 1/3 :   2%|▏         | 50/2500 [00:01<01:24, 28.98it/s]"
     ]
    },
    {
     "name": "stderr",
     "output_type": "stream",
     "text": [
      "\r",
      "Step 1/3 :   2%|▏         | 50/2500 [00:01<01:24, 28.98it/s]"
     ]
    },
    {
     "name": "stderr",
     "output_type": "stream",
     "text": [
      "\r",
      "Step 1/3 :   2%|▏         | 50/2500 [00:01<01:24, 28.98it/s]"
     ]
    },
    {
     "name": "stderr",
     "output_type": "stream",
     "text": [
      "\r",
      "Step 1/3 :   2%|▏         | 54/2500 [00:01<01:23, 29.45it/s]"
     ]
    },
    {
     "name": "stderr",
     "output_type": "stream",
     "text": [
      "\r",
      "Step 1/3 :   2%|▏         | 54/2500 [00:01<01:23, 29.45it/s]"
     ]
    },
    {
     "name": "stderr",
     "output_type": "stream",
     "text": [
      "\r",
      "Step 1/3 :   2%|▏         | 54/2500 [00:01<01:23, 29.45it/s]"
     ]
    },
    {
     "name": "stderr",
     "output_type": "stream",
     "text": [
      "\r",
      "Step 1/3 :   2%|▏         | 54/2500 [00:02<01:23, 29.45it/s]"
     ]
    },
    {
     "name": "stderr",
     "output_type": "stream",
     "text": [
      "\r",
      "Step 1/3 :   2%|▏         | 57/2500 [00:02<01:25, 28.42it/s]"
     ]
    },
    {
     "name": "stderr",
     "output_type": "stream",
     "text": [
      "\r",
      "Step 1/3 :   2%|▏         | 57/2500 [00:02<01:25, 28.42it/s]"
     ]
    },
    {
     "name": "stderr",
     "output_type": "stream",
     "text": [
      "\r",
      "Step 1/3 :   2%|▏         | 57/2500 [00:02<01:25, 28.42it/s]"
     ]
    },
    {
     "name": "stderr",
     "output_type": "stream",
     "text": [
      "\r",
      "Step 1/3 :   2%|▏         | 57/2500 [00:02<01:25, 28.42it/s]"
     ]
    },
    {
     "name": "stderr",
     "output_type": "stream",
     "text": [
      "\r",
      "Step 1/3 :   2%|▏         | 60/2500 [00:02<01:25, 28.62it/s]"
     ]
    },
    {
     "name": "stderr",
     "output_type": "stream",
     "text": [
      "\r",
      "Step 1/3 :   2%|▏         | 60/2500 [00:02<01:25, 28.62it/s]"
     ]
    },
    {
     "name": "stderr",
     "output_type": "stream",
     "text": [
      "\r",
      "Step 1/3 :   2%|▏         | 60/2500 [00:02<01:25, 28.62it/s]"
     ]
    },
    {
     "name": "stderr",
     "output_type": "stream",
     "text": [
      "\r",
      "Step 1/3 :   2%|▏         | 60/2500 [00:02<01:25, 28.62it/s]"
     ]
    },
    {
     "name": "stderr",
     "output_type": "stream",
     "text": [
      "\r",
      "Step 1/3 :   3%|▎         | 63/2500 [00:02<01:24, 28.77it/s]"
     ]
    },
    {
     "name": "stderr",
     "output_type": "stream",
     "text": [
      "\r",
      "Step 1/3 :   3%|▎         | 63/2500 [00:02<01:24, 28.77it/s]"
     ]
    },
    {
     "name": "stderr",
     "output_type": "stream",
     "text": [
      "\r",
      "Step 1/3 :   3%|▎         | 63/2500 [00:02<01:24, 28.77it/s]"
     ]
    },
    {
     "name": "stderr",
     "output_type": "stream",
     "text": [
      "\r",
      "Step 1/3 :   3%|▎         | 63/2500 [00:02<01:24, 28.77it/s]"
     ]
    },
    {
     "name": "stderr",
     "output_type": "stream",
     "text": [
      "\r",
      "Step 1/3 :   3%|▎         | 66/2500 [00:02<01:25, 28.39it/s]"
     ]
    },
    {
     "name": "stderr",
     "output_type": "stream",
     "text": [
      "\r",
      "Step 1/3 :   3%|▎         | 66/2500 [00:02<01:25, 28.39it/s]"
     ]
    },
    {
     "name": "stderr",
     "output_type": "stream",
     "text": [
      "\r",
      "Step 1/3 :   3%|▎         | 66/2500 [00:02<01:25, 28.39it/s]"
     ]
    },
    {
     "name": "stderr",
     "output_type": "stream",
     "text": [
      "\r",
      "Step 1/3 :   3%|▎         | 66/2500 [00:02<01:25, 28.39it/s]"
     ]
    },
    {
     "name": "stderr",
     "output_type": "stream",
     "text": [
      "\r",
      "Step 1/3 :   3%|▎         | 69/2500 [00:02<01:26, 27.97it/s]"
     ]
    },
    {
     "name": "stderr",
     "output_type": "stream",
     "text": [
      "\r",
      "Step 1/3 :   3%|▎         | 69/2500 [00:02<01:26, 27.97it/s]"
     ]
    },
    {
     "name": "stderr",
     "output_type": "stream",
     "text": [
      "\r",
      "Step 1/3 :   3%|▎         | 69/2500 [00:02<01:26, 27.97it/s]"
     ]
    },
    {
     "name": "stderr",
     "output_type": "stream",
     "text": [
      "\r",
      "Step 1/3 :   3%|▎         | 69/2500 [00:02<01:26, 27.97it/s]"
     ]
    },
    {
     "name": "stderr",
     "output_type": "stream",
     "text": [
      "\r",
      "Step 1/3 :   3%|▎         | 72/2500 [00:02<01:25, 28.38it/s]"
     ]
    },
    {
     "name": "stderr",
     "output_type": "stream",
     "text": [
      "\r",
      "Step 1/3 :   3%|▎         | 72/2500 [00:02<01:25, 28.38it/s]"
     ]
    },
    {
     "name": "stderr",
     "output_type": "stream",
     "text": [
      "\r",
      "Step 1/3 :   3%|▎         | 72/2500 [00:02<01:25, 28.38it/s]"
     ]
    },
    {
     "name": "stderr",
     "output_type": "stream",
     "text": [
      "\r",
      "Step 1/3 :   3%|▎         | 72/2500 [00:02<01:25, 28.38it/s]"
     ]
    },
    {
     "name": "stderr",
     "output_type": "stream",
     "text": [
      "\r",
      "Step 1/3 :   3%|▎         | 75/2500 [00:02<01:25, 28.28it/s]"
     ]
    },
    {
     "name": "stderr",
     "output_type": "stream",
     "text": [
      "\r",
      "Step 1/3 :   3%|▎         | 75/2500 [00:02<01:25, 28.28it/s]"
     ]
    },
    {
     "name": "stderr",
     "output_type": "stream",
     "text": [
      "\r",
      "Step 1/3 :   3%|▎         | 75/2500 [00:02<01:25, 28.28it/s]"
     ]
    },
    {
     "name": "stderr",
     "output_type": "stream",
     "text": [
      "\r",
      "Step 1/3 :   3%|▎         | 75/2500 [00:02<01:25, 28.28it/s]"
     ]
    },
    {
     "name": "stderr",
     "output_type": "stream",
     "text": [
      "\r",
      "Step 1/3 :   3%|▎         | 78/2500 [00:02<01:25, 28.21it/s]"
     ]
    },
    {
     "name": "stderr",
     "output_type": "stream",
     "text": [
      "\r",
      "Step 1/3 :   3%|▎         | 78/2500 [00:02<01:25, 28.21it/s]"
     ]
    },
    {
     "name": "stderr",
     "output_type": "stream",
     "text": [
      "\r",
      "Step 1/3 :   3%|▎         | 78/2500 [00:02<01:25, 28.21it/s]"
     ]
    },
    {
     "name": "stderr",
     "output_type": "stream",
     "text": [
      "\r",
      "Step 1/3 :   3%|▎         | 78/2500 [00:02<01:25, 28.21it/s]"
     ]
    },
    {
     "name": "stderr",
     "output_type": "stream",
     "text": [
      "\r",
      "Step 1/3 :   3%|▎         | 81/2500 [00:02<01:24, 28.48it/s]"
     ]
    },
    {
     "name": "stderr",
     "output_type": "stream",
     "text": [
      "\r",
      "Step 1/3 :   3%|▎         | 81/2500 [00:02<01:24, 28.48it/s]"
     ]
    },
    {
     "name": "stderr",
     "output_type": "stream",
     "text": [
      "\r",
      "Step 1/3 :   3%|▎         | 81/2500 [00:02<01:24, 28.48it/s]"
     ]
    },
    {
     "name": "stderr",
     "output_type": "stream",
     "text": [
      "\r",
      "Step 1/3 :   3%|▎         | 81/2500 [00:02<01:24, 28.48it/s]"
     ]
    },
    {
     "name": "stderr",
     "output_type": "stream",
     "text": [
      "\r",
      "Step 1/3 :   3%|▎         | 84/2500 [00:02<01:25, 28.26it/s]"
     ]
    },
    {
     "name": "stderr",
     "output_type": "stream",
     "text": [
      "\r",
      "Step 1/3 :   3%|▎         | 84/2500 [00:02<01:25, 28.26it/s]"
     ]
    },
    {
     "name": "stderr",
     "output_type": "stream",
     "text": [
      "\r",
      "Step 1/3 :   3%|▎         | 84/2500 [00:03<01:25, 28.26it/s]"
     ]
    },
    {
     "name": "stderr",
     "output_type": "stream",
     "text": [
      "\r",
      "Step 1/3 :   3%|▎         | 84/2500 [00:03<01:25, 28.26it/s]"
     ]
    },
    {
     "name": "stderr",
     "output_type": "stream",
     "text": [
      "\r",
      "Step 1/3 :   3%|▎         | 87/2500 [00:03<01:24, 28.44it/s]"
     ]
    },
    {
     "name": "stderr",
     "output_type": "stream",
     "text": [
      "\r",
      "Step 1/3 :   3%|▎         | 87/2500 [00:03<01:24, 28.44it/s]"
     ]
    },
    {
     "name": "stderr",
     "output_type": "stream",
     "text": [
      "\r",
      "Step 1/3 :   3%|▎         | 87/2500 [00:03<01:24, 28.44it/s]"
     ]
    },
    {
     "name": "stderr",
     "output_type": "stream",
     "text": [
      "\r",
      "Step 1/3 :   3%|▎         | 87/2500 [00:03<01:24, 28.44it/s]"
     ]
    },
    {
     "name": "stderr",
     "output_type": "stream",
     "text": [
      "\r",
      "Step 1/3 :   4%|▎         | 90/2500 [00:03<01:24, 28.64it/s]"
     ]
    },
    {
     "name": "stderr",
     "output_type": "stream",
     "text": [
      "\r",
      "Step 1/3 :   4%|▎         | 90/2500 [00:03<01:24, 28.64it/s]"
     ]
    },
    {
     "name": "stderr",
     "output_type": "stream",
     "text": [
      "\r",
      "Step 1/3 :   4%|▎         | 90/2500 [00:03<01:24, 28.64it/s]"
     ]
    },
    {
     "name": "stderr",
     "output_type": "stream",
     "text": [
      "\r",
      "Step 1/3 :   4%|▎         | 90/2500 [00:03<01:24, 28.64it/s]"
     ]
    },
    {
     "name": "stderr",
     "output_type": "stream",
     "text": [
      "\r",
      "Step 1/3 :   4%|▎         | 93/2500 [00:03<01:26, 27.98it/s]"
     ]
    },
    {
     "name": "stderr",
     "output_type": "stream",
     "text": [
      "\r",
      "Step 1/3 :   4%|▎         | 93/2500 [00:03<01:26, 27.98it/s]"
     ]
    },
    {
     "name": "stderr",
     "output_type": "stream",
     "text": [
      "\r",
      "Step 1/3 :   4%|▎         | 93/2500 [00:03<01:26, 27.98it/s]"
     ]
    },
    {
     "name": "stderr",
     "output_type": "stream",
     "text": [
      "\r",
      "Step 1/3 :   4%|▎         | 93/2500 [00:03<01:26, 27.98it/s]"
     ]
    },
    {
     "name": "stderr",
     "output_type": "stream",
     "text": [
      "\r",
      "Step 1/3 :   4%|▍         | 96/2500 [00:03<01:26, 27.92it/s]"
     ]
    },
    {
     "name": "stderr",
     "output_type": "stream",
     "text": [
      "\r",
      "Step 1/3 :   4%|▍         | 96/2500 [00:03<01:26, 27.92it/s]"
     ]
    },
    {
     "name": "stderr",
     "output_type": "stream",
     "text": [
      "\r",
      "Step 1/3 :   4%|▍         | 96/2500 [00:03<01:26, 27.92it/s]"
     ]
    },
    {
     "name": "stderr",
     "output_type": "stream",
     "text": [
      "\r",
      "Step 1/3 :   4%|▍         | 96/2500 [00:03<01:26, 27.92it/s]"
     ]
    },
    {
     "name": "stderr",
     "output_type": "stream",
     "text": [
      "\r",
      "Step 1/3 :   4%|▍         | 99/2500 [00:03<01:24, 28.51it/s]"
     ]
    },
    {
     "name": "stderr",
     "output_type": "stream",
     "text": [
      "\r",
      "Step 1/3 :   4%|▍         | 99/2500 [00:03<01:24, 28.51it/s]"
     ]
    },
    {
     "name": "stderr",
     "output_type": "stream",
     "text": [
      "\r",
      "Step 1/3 :   4%|▍         | 99/2500 [00:03<01:24, 28.51it/s]"
     ]
    },
    {
     "name": "stderr",
     "output_type": "stream",
     "text": [
      "\r",
      "Step 1/3 :   4%|▍         | 99/2500 [00:03<01:24, 28.51it/s]"
     ]
    },
    {
     "name": "stderr",
     "output_type": "stream",
     "text": [
      "\r",
      "Step 1/3 :   4%|▍         | 102/2500 [00:03<01:23, 28.78it/s]"
     ]
    },
    {
     "name": "stderr",
     "output_type": "stream",
     "text": [
      "\r",
      "Step 1/3 :   4%|▍         | 102/2500 [00:03<01:23, 28.78it/s]"
     ]
    },
    {
     "name": "stderr",
     "output_type": "stream",
     "text": [
      "\r",
      "Step 1/3 :   4%|▍         | 102/2500 [00:03<01:23, 28.78it/s]"
     ]
    },
    {
     "name": "stderr",
     "output_type": "stream",
     "text": [
      "\r",
      "Step 1/3 :   4%|▍         | 102/2500 [00:03<01:23, 28.78it/s]"
     ]
    },
    {
     "name": "stderr",
     "output_type": "stream",
     "text": [
      "\r",
      "Step 1/3 :   4%|▍         | 105/2500 [00:03<01:23, 28.80it/s]"
     ]
    },
    {
     "name": "stderr",
     "output_type": "stream",
     "text": [
      "\r",
      "Step 1/3 :   4%|▍         | 105/2500 [00:03<01:23, 28.80it/s]"
     ]
    },
    {
     "name": "stderr",
     "output_type": "stream",
     "text": [
      "\r",
      "Step 1/3 :   4%|▍         | 105/2500 [00:03<01:23, 28.80it/s]"
     ]
    },
    {
     "name": "stderr",
     "output_type": "stream",
     "text": [
      "\r",
      "Step 1/3 :   4%|▍         | 105/2500 [00:03<01:23, 28.80it/s]"
     ]
    },
    {
     "name": "stderr",
     "output_type": "stream",
     "text": [
      "\r",
      "Step 1/3 :   4%|▍         | 108/2500 [00:03<01:23, 28.56it/s]"
     ]
    },
    {
     "name": "stderr",
     "output_type": "stream",
     "text": [
      "\r",
      "Step 1/3 :   4%|▍         | 108/2500 [00:03<01:23, 28.56it/s]"
     ]
    },
    {
     "name": "stderr",
     "output_type": "stream",
     "text": [
      "\r",
      "Step 1/3 :   4%|▍         | 108/2500 [00:03<01:23, 28.56it/s]"
     ]
    },
    {
     "name": "stderr",
     "output_type": "stream",
     "text": [
      "\r",
      "Step 1/3 :   4%|▍         | 108/2500 [00:03<01:23, 28.56it/s]"
     ]
    },
    {
     "name": "stderr",
     "output_type": "stream",
     "text": [
      "\r",
      "Step 1/3 :   4%|▍         | 111/2500 [00:03<01:23, 28.73it/s]"
     ]
    },
    {
     "name": "stderr",
     "output_type": "stream",
     "text": [
      "\r",
      "Step 1/3 :   4%|▍         | 111/2500 [00:03<01:23, 28.73it/s]"
     ]
    },
    {
     "name": "stderr",
     "output_type": "stream",
     "text": [
      "\r",
      "Step 1/3 :   4%|▍         | 111/2500 [00:03<01:23, 28.73it/s]"
     ]
    },
    {
     "name": "stderr",
     "output_type": "stream",
     "text": [
      "\r",
      "Step 1/3 :   4%|▍         | 111/2500 [00:04<01:23, 28.73it/s]"
     ]
    },
    {
     "name": "stderr",
     "output_type": "stream",
     "text": [
      "\r",
      "Step 1/3 :   5%|▍         | 114/2500 [00:04<01:24, 28.20it/s]"
     ]
    },
    {
     "name": "stderr",
     "output_type": "stream",
     "text": [
      "\r",
      "Step 1/3 :   5%|▍         | 114/2500 [00:04<01:24, 28.20it/s]"
     ]
    },
    {
     "name": "stderr",
     "output_type": "stream",
     "text": [
      "\r",
      "Step 1/3 :   5%|▍         | 114/2500 [00:04<01:24, 28.20it/s]"
     ]
    },
    {
     "name": "stderr",
     "output_type": "stream",
     "text": [
      "\r",
      "Step 1/3 :   5%|▍         | 114/2500 [00:04<01:24, 28.20it/s]"
     ]
    },
    {
     "name": "stderr",
     "output_type": "stream",
     "text": [
      "\r",
      "Step 1/3 :   5%|▍         | 117/2500 [00:04<01:23, 28.55it/s]"
     ]
    },
    {
     "name": "stderr",
     "output_type": "stream",
     "text": [
      "\r",
      "Step 1/3 :   5%|▍         | 117/2500 [00:04<01:23, 28.55it/s]"
     ]
    },
    {
     "name": "stderr",
     "output_type": "stream",
     "text": [
      "\r",
      "Step 1/3 :   5%|▍         | 117/2500 [00:04<01:23, 28.55it/s]"
     ]
    },
    {
     "name": "stderr",
     "output_type": "stream",
     "text": [
      "\r",
      "Step 1/3 :   5%|▍         | 117/2500 [00:04<01:23, 28.55it/s]"
     ]
    },
    {
     "name": "stderr",
     "output_type": "stream",
     "text": [
      "\r",
      "Step 1/3 :   5%|▍         | 117/2500 [00:04<01:23, 28.55it/s]"
     ]
    },
    {
     "name": "stderr",
     "output_type": "stream",
     "text": [
      "\r",
      "Step 1/3 :   5%|▍         | 121/2500 [00:04<01:22, 29.01it/s]"
     ]
    },
    {
     "name": "stderr",
     "output_type": "stream",
     "text": [
      "\r",
      "Step 1/3 :   5%|▍         | 121/2500 [00:04<01:22, 29.01it/s]"
     ]
    },
    {
     "name": "stderr",
     "output_type": "stream",
     "text": [
      "\r",
      "Step 1/3 :   5%|▍         | 121/2500 [00:04<01:22, 29.01it/s]"
     ]
    },
    {
     "name": "stderr",
     "output_type": "stream",
     "text": [
      "\r",
      "Step 1/3 :   5%|▍         | 121/2500 [00:04<01:22, 29.01it/s]"
     ]
    },
    {
     "name": "stderr",
     "output_type": "stream",
     "text": [
      "\r",
      "Step 1/3 :   5%|▍         | 124/2500 [00:04<01:26, 27.50it/s]"
     ]
    },
    {
     "name": "stderr",
     "output_type": "stream",
     "text": [
      "\r",
      "Step 1/3 :   5%|▍         | 124/2500 [00:04<01:26, 27.50it/s]"
     ]
    },
    {
     "name": "stderr",
     "output_type": "stream",
     "text": [
      "\r",
      "Step 1/3 :   5%|▍         | 124/2500 [00:04<01:26, 27.50it/s]"
     ]
    },
    {
     "name": "stderr",
     "output_type": "stream",
     "text": [
      "\r",
      "Step 1/3 :   5%|▍         | 124/2500 [00:04<01:26, 27.50it/s]"
     ]
    },
    {
     "name": "stderr",
     "output_type": "stream",
     "text": [
      "\r",
      "Step 1/3 :   5%|▌         | 127/2500 [00:04<01:24, 28.09it/s]"
     ]
    },
    {
     "name": "stderr",
     "output_type": "stream",
     "text": [
      "\r",
      "Step 1/3 :   5%|▌         | 127/2500 [00:04<01:24, 28.09it/s]"
     ]
    },
    {
     "name": "stderr",
     "output_type": "stream",
     "text": [
      "\r",
      "Step 1/3 :   5%|▌         | 127/2500 [00:04<01:24, 28.09it/s]"
     ]
    },
    {
     "name": "stderr",
     "output_type": "stream",
     "text": [
      "\r",
      "Step 1/3 :   5%|▌         | 127/2500 [00:04<01:24, 28.09it/s]"
     ]
    },
    {
     "name": "stderr",
     "output_type": "stream",
     "text": [
      "\r",
      "Step 1/3 :   5%|▌         | 130/2500 [00:04<01:23, 28.46it/s]"
     ]
    },
    {
     "name": "stderr",
     "output_type": "stream",
     "text": [
      "\r",
      "Step 1/3 :   5%|▌         | 130/2500 [00:04<01:23, 28.46it/s]"
     ]
    },
    {
     "name": "stderr",
     "output_type": "stream",
     "text": [
      "\r",
      "Step 1/3 :   5%|▌         | 130/2500 [00:04<01:23, 28.46it/s]"
     ]
    },
    {
     "name": "stderr",
     "output_type": "stream",
     "text": [
      "\r",
      "Step 1/3 :   5%|▌         | 130/2500 [00:04<01:23, 28.46it/s]"
     ]
    },
    {
     "name": "stderr",
     "output_type": "stream",
     "text": [
      "\r",
      "Step 1/3 :   5%|▌         | 133/2500 [00:04<01:22, 28.74it/s]"
     ]
    },
    {
     "name": "stderr",
     "output_type": "stream",
     "text": [
      "\r",
      "Step 1/3 :   5%|▌         | 133/2500 [00:04<01:22, 28.74it/s]"
     ]
    },
    {
     "name": "stderr",
     "output_type": "stream",
     "text": [
      "\r",
      "Step 1/3 :   5%|▌         | 133/2500 [00:04<01:22, 28.74it/s]"
     ]
    },
    {
     "name": "stderr",
     "output_type": "stream",
     "text": [
      "\r",
      "Step 1/3 :   5%|▌         | 133/2500 [00:04<01:22, 28.74it/s]"
     ]
    },
    {
     "name": "stderr",
     "output_type": "stream",
     "text": [
      "\r",
      "Step 1/3 :   5%|▌         | 133/2500 [00:04<01:22, 28.74it/s]"
     ]
    },
    {
     "name": "stderr",
     "output_type": "stream",
     "text": [
      "\r",
      "Step 1/3 :   5%|▌         | 137/2500 [00:04<01:20, 29.28it/s]"
     ]
    },
    {
     "name": "stderr",
     "output_type": "stream",
     "text": [
      "\r",
      "Step 1/3 :   5%|▌         | 137/2500 [00:04<01:20, 29.28it/s]"
     ]
    },
    {
     "name": "stderr",
     "output_type": "stream",
     "text": [
      "\r",
      "Step 1/3 :   5%|▌         | 137/2500 [00:04<01:20, 29.28it/s]"
     ]
    },
    {
     "name": "stderr",
     "output_type": "stream",
     "text": [
      "\r",
      "Step 1/3 :   5%|▌         | 137/2500 [00:04<01:20, 29.28it/s]"
     ]
    },
    {
     "name": "stderr",
     "output_type": "stream",
     "text": [
      "\r",
      "Step 1/3 :   6%|▌         | 140/2500 [00:04<01:20, 29.40it/s]"
     ]
    },
    {
     "name": "stderr",
     "output_type": "stream",
     "text": [
      "\r",
      "Step 1/3 :   6%|▌         | 140/2500 [00:04<01:20, 29.40it/s]"
     ]
    },
    {
     "name": "stderr",
     "output_type": "stream",
     "text": [
      "\r",
      "Step 1/3 :   6%|▌         | 140/2500 [00:04<01:20, 29.40it/s]"
     ]
    },
    {
     "name": "stderr",
     "output_type": "stream",
     "text": [
      "\r",
      "Step 1/3 :   6%|▌         | 140/2500 [00:05<01:20, 29.40it/s]"
     ]
    },
    {
     "name": "stderr",
     "output_type": "stream",
     "text": [
      "\r",
      "Step 1/3 :   6%|▌         | 143/2500 [00:05<01:19, 29.48it/s]"
     ]
    },
    {
     "name": "stderr",
     "output_type": "stream",
     "text": [
      "\r",
      "Step 1/3 :   6%|▌         | 143/2500 [00:05<01:19, 29.48it/s]"
     ]
    },
    {
     "name": "stderr",
     "output_type": "stream",
     "text": [
      "\r",
      "Step 1/3 :   6%|▌         | 143/2500 [00:05<01:19, 29.48it/s]"
     ]
    },
    {
     "name": "stderr",
     "output_type": "stream",
     "text": [
      "\r",
      "Step 1/3 :   6%|▌         | 143/2500 [00:05<01:19, 29.48it/s]"
     ]
    },
    {
     "name": "stderr",
     "output_type": "stream",
     "text": [
      "\r",
      "Step 1/3 :   6%|▌         | 146/2500 [00:05<01:22, 28.57it/s]"
     ]
    },
    {
     "name": "stderr",
     "output_type": "stream",
     "text": [
      "\r",
      "Step 1/3 :   6%|▌         | 146/2500 [00:05<01:22, 28.57it/s]"
     ]
    },
    {
     "name": "stderr",
     "output_type": "stream",
     "text": [
      "\r",
      "Step 1/3 :   6%|▌         | 146/2500 [00:05<01:22, 28.57it/s]"
     ]
    },
    {
     "name": "stderr",
     "output_type": "stream",
     "text": [
      "\r",
      "Step 1/3 :   6%|▌         | 146/2500 [00:05<01:22, 28.57it/s]"
     ]
    },
    {
     "name": "stderr",
     "output_type": "stream",
     "text": [
      "\r",
      "Step 1/3 :   6%|▌         | 149/2500 [00:05<01:22, 28.49it/s]"
     ]
    },
    {
     "name": "stderr",
     "output_type": "stream",
     "text": [
      "\r",
      "Step 1/3 :   6%|▌         | 149/2500 [00:05<01:22, 28.49it/s]"
     ]
    },
    {
     "name": "stderr",
     "output_type": "stream",
     "text": [
      "\r",
      "Step 1/3 :   6%|▌         | 149/2500 [00:05<01:22, 28.49it/s]"
     ]
    },
    {
     "name": "stderr",
     "output_type": "stream",
     "text": [
      "\r",
      "Step 1/3 :   6%|▌         | 149/2500 [00:05<01:22, 28.49it/s]"
     ]
    },
    {
     "name": "stderr",
     "output_type": "stream",
     "text": [
      "\r",
      "Step 1/3 :   6%|▌         | 152/2500 [00:05<01:25, 27.33it/s]"
     ]
    },
    {
     "name": "stderr",
     "output_type": "stream",
     "text": [
      "\r",
      "Step 1/3 :   6%|▌         | 152/2500 [00:05<01:25, 27.33it/s]"
     ]
    },
    {
     "name": "stderr",
     "output_type": "stream",
     "text": [
      "\r",
      "Step 1/3 :   6%|▌         | 152/2500 [00:05<01:25, 27.33it/s]"
     ]
    },
    {
     "name": "stderr",
     "output_type": "stream",
     "text": [
      "\r",
      "Step 1/3 :   6%|▌         | 152/2500 [00:05<01:25, 27.33it/s]"
     ]
    },
    {
     "name": "stderr",
     "output_type": "stream",
     "text": [
      "\r",
      "Step 1/3 :   6%|▌         | 155/2500 [00:05<01:29, 26.25it/s]"
     ]
    },
    {
     "name": "stderr",
     "output_type": "stream",
     "text": [
      "\r",
      "Step 1/3 :   6%|▌         | 155/2500 [00:05<01:29, 26.25it/s]"
     ]
    },
    {
     "name": "stderr",
     "output_type": "stream",
     "text": [
      "\r",
      "Step 1/3 :   6%|▌         | 155/2500 [00:05<01:29, 26.25it/s]"
     ]
    },
    {
     "name": "stderr",
     "output_type": "stream",
     "text": [
      "\r",
      "Step 1/3 :   6%|▌         | 155/2500 [00:05<01:29, 26.25it/s]"
     ]
    },
    {
     "name": "stderr",
     "output_type": "stream",
     "text": [
      "\r",
      "Step 1/3 :   6%|▋         | 158/2500 [00:05<01:27, 26.69it/s]"
     ]
    },
    {
     "name": "stderr",
     "output_type": "stream",
     "text": [
      "\r",
      "Step 1/3 :   6%|▋         | 158/2500 [00:05<01:27, 26.69it/s]"
     ]
    },
    {
     "name": "stderr",
     "output_type": "stream",
     "text": [
      "\r",
      "Step 1/3 :   6%|▋         | 158/2500 [00:05<01:27, 26.69it/s]"
     ]
    },
    {
     "name": "stderr",
     "output_type": "stream",
     "text": [
      "\r",
      "Step 1/3 :   6%|▋         | 158/2500 [00:05<01:27, 26.69it/s]"
     ]
    },
    {
     "name": "stderr",
     "output_type": "stream",
     "text": [
      "\r",
      "Step 1/3 :   6%|▋         | 161/2500 [00:05<01:25, 27.28it/s]"
     ]
    },
    {
     "name": "stderr",
     "output_type": "stream",
     "text": [
      "\r",
      "Step 1/3 :   6%|▋         | 161/2500 [00:05<01:25, 27.28it/s]"
     ]
    },
    {
     "name": "stderr",
     "output_type": "stream",
     "text": [
      "\r",
      "Step 1/3 :   6%|▋         | 161/2500 [00:05<01:25, 27.28it/s]"
     ]
    },
    {
     "name": "stderr",
     "output_type": "stream",
     "text": [
      "\r",
      "Step 1/3 :   6%|▋         | 161/2500 [00:05<01:25, 27.28it/s]"
     ]
    },
    {
     "name": "stderr",
     "output_type": "stream",
     "text": [
      "\r",
      "Step 1/3 :   7%|▋         | 164/2500 [00:05<01:23, 27.96it/s]"
     ]
    },
    {
     "name": "stderr",
     "output_type": "stream",
     "text": [
      "\r",
      "Step 1/3 :   7%|▋         | 164/2500 [00:05<01:23, 27.96it/s]"
     ]
    },
    {
     "name": "stderr",
     "output_type": "stream",
     "text": [
      "\r",
      "Step 1/3 :   7%|▋         | 164/2500 [00:05<01:23, 27.96it/s]"
     ]
    },
    {
     "name": "stderr",
     "output_type": "stream",
     "text": [
      "\r",
      "Step 1/3 :   7%|▋         | 164/2500 [00:05<01:23, 27.96it/s]"
     ]
    },
    {
     "name": "stderr",
     "output_type": "stream",
     "text": [
      "\r",
      "Step 1/3 :   7%|▋         | 164/2500 [00:05<01:23, 27.96it/s]"
     ]
    },
    {
     "name": "stderr",
     "output_type": "stream",
     "text": [
      "\r",
      "Step 1/3 :   7%|▋         | 168/2500 [00:05<01:21, 28.62it/s]"
     ]
    },
    {
     "name": "stderr",
     "output_type": "stream",
     "text": [
      "\r",
      "Step 1/3 :   7%|▋         | 168/2500 [00:05<01:21, 28.62it/s]"
     ]
    },
    {
     "name": "stderr",
     "output_type": "stream",
     "text": [
      "\r",
      "Step 1/3 :   7%|▋         | 168/2500 [00:06<01:21, 28.62it/s]"
     ]
    },
    {
     "name": "stderr",
     "output_type": "stream",
     "text": [
      "\r",
      "Step 1/3 :   7%|▋         | 168/2500 [00:06<01:21, 28.62it/s]"
     ]
    },
    {
     "name": "stderr",
     "output_type": "stream",
     "text": [
      "\r",
      "Step 1/3 :   7%|▋         | 171/2500 [00:06<01:21, 28.45it/s]"
     ]
    },
    {
     "name": "stderr",
     "output_type": "stream",
     "text": [
      "\r",
      "Step 1/3 :   7%|▋         | 171/2500 [00:06<01:21, 28.45it/s]"
     ]
    },
    {
     "name": "stderr",
     "output_type": "stream",
     "text": [
      "\r",
      "Step 1/3 :   7%|▋         | 171/2500 [00:06<01:21, 28.45it/s]"
     ]
    },
    {
     "name": "stderr",
     "output_type": "stream",
     "text": [
      "\r",
      "Step 1/3 :   7%|▋         | 171/2500 [00:06<01:21, 28.45it/s]"
     ]
    },
    {
     "name": "stderr",
     "output_type": "stream",
     "text": [
      "\r",
      "Step 1/3 :   7%|▋         | 174/2500 [00:06<01:26, 27.02it/s]"
     ]
    },
    {
     "name": "stderr",
     "output_type": "stream",
     "text": [
      "\r",
      "Step 1/3 :   7%|▋         | 174/2500 [00:06<01:26, 27.02it/s]"
     ]
    },
    {
     "name": "stderr",
     "output_type": "stream",
     "text": [
      "\r",
      "Step 1/3 :   7%|▋         | 174/2500 [00:06<01:26, 27.02it/s]"
     ]
    },
    {
     "name": "stderr",
     "output_type": "stream",
     "text": [
      "\r",
      "Step 1/3 :   7%|▋         | 174/2500 [00:06<01:26, 27.02it/s]"
     ]
    },
    {
     "name": "stderr",
     "output_type": "stream",
     "text": [
      "\r",
      "Step 1/3 :   7%|▋         | 177/2500 [00:06<01:24, 27.53it/s]"
     ]
    },
    {
     "name": "stderr",
     "output_type": "stream",
     "text": [
      "\r",
      "Step 1/3 :   7%|▋         | 177/2500 [00:06<01:24, 27.53it/s]"
     ]
    },
    {
     "name": "stderr",
     "output_type": "stream",
     "text": [
      "\r",
      "Step 1/3 :   7%|▋         | 177/2500 [00:06<01:24, 27.53it/s]"
     ]
    },
    {
     "name": "stderr",
     "output_type": "stream",
     "text": [
      "\r",
      "Step 1/3 :   7%|▋         | 177/2500 [00:06<01:24, 27.53it/s]"
     ]
    },
    {
     "name": "stderr",
     "output_type": "stream",
     "text": [
      "\r",
      "Step 1/3 :   7%|▋         | 180/2500 [00:06<01:25, 27.16it/s]"
     ]
    },
    {
     "name": "stderr",
     "output_type": "stream",
     "text": [
      "\r",
      "Step 1/3 :   7%|▋         | 180/2500 [00:06<01:25, 27.16it/s]"
     ]
    },
    {
     "name": "stderr",
     "output_type": "stream",
     "text": [
      "\r",
      "Step 1/3 :   7%|▋         | 180/2500 [00:06<01:25, 27.16it/s]"
     ]
    },
    {
     "name": "stderr",
     "output_type": "stream",
     "text": [
      "\r",
      "Step 1/3 :   7%|▋         | 180/2500 [00:06<01:25, 27.16it/s]"
     ]
    },
    {
     "name": "stderr",
     "output_type": "stream",
     "text": [
      "\r",
      "Step 1/3 :   7%|▋         | 180/2500 [00:06<01:25, 27.16it/s]"
     ]
    },
    {
     "name": "stderr",
     "output_type": "stream",
     "text": [
      "\r",
      "Step 1/3 :   7%|▋         | 184/2500 [00:06<01:20, 28.64it/s]"
     ]
    },
    {
     "name": "stderr",
     "output_type": "stream",
     "text": [
      "\r",
      "Step 1/3 :   7%|▋         | 184/2500 [00:06<01:20, 28.64it/s]"
     ]
    },
    {
     "name": "stderr",
     "output_type": "stream",
     "text": [
      "\r",
      "Step 1/3 :   7%|▋         | 184/2500 [00:06<01:20, 28.64it/s]"
     ]
    },
    {
     "name": "stderr",
     "output_type": "stream",
     "text": [
      "\r",
      "Step 1/3 :   7%|▋         | 184/2500 [00:06<01:20, 28.64it/s]"
     ]
    },
    {
     "name": "stderr",
     "output_type": "stream",
     "text": [
      "\r",
      "Step 1/3 :   7%|▋         | 184/2500 [00:06<01:20, 28.64it/s]"
     ]
    },
    {
     "name": "stderr",
     "output_type": "stream",
     "text": [
      "\r",
      "Step 1/3 :   8%|▊         | 188/2500 [00:06<01:19, 29.18it/s]"
     ]
    },
    {
     "name": "stderr",
     "output_type": "stream",
     "text": [
      "\r",
      "Step 1/3 :   8%|▊         | 188/2500 [00:06<01:19, 29.18it/s]"
     ]
    },
    {
     "name": "stderr",
     "output_type": "stream",
     "text": [
      "\r",
      "Step 1/3 :   8%|▊         | 188/2500 [00:06<01:19, 29.18it/s]"
     ]
    },
    {
     "name": "stderr",
     "output_type": "stream",
     "text": [
      "\r",
      "Step 1/3 :   8%|▊         | 188/2500 [00:06<01:19, 29.18it/s]"
     ]
    },
    {
     "name": "stderr",
     "output_type": "stream",
     "text": [
      "\r",
      "Step 1/3 :   8%|▊         | 188/2500 [00:06<01:19, 29.18it/s]"
     ]
    },
    {
     "name": "stderr",
     "output_type": "stream",
     "text": [
      "\r",
      "Step 1/3 :   8%|▊         | 192/2500 [00:06<01:18, 29.54it/s]"
     ]
    },
    {
     "name": "stderr",
     "output_type": "stream",
     "text": [
      "\r",
      "Step 1/3 :   8%|▊         | 192/2500 [00:06<01:18, 29.54it/s]"
     ]
    },
    {
     "name": "stderr",
     "output_type": "stream",
     "text": [
      "\r",
      "Step 1/3 :   8%|▊         | 192/2500 [00:06<01:18, 29.54it/s]"
     ]
    },
    {
     "name": "stderr",
     "output_type": "stream",
     "text": [
      "\r",
      "Step 1/3 :   8%|▊         | 192/2500 [00:06<01:18, 29.54it/s]"
     ]
    },
    {
     "name": "stderr",
     "output_type": "stream",
     "text": [
      "\r",
      "Step 1/3 :   8%|▊         | 192/2500 [00:06<01:18, 29.54it/s]"
     ]
    },
    {
     "name": "stderr",
     "output_type": "stream",
     "text": [
      "\r",
      "Step 1/3 :   8%|▊         | 196/2500 [00:06<01:15, 30.35it/s]"
     ]
    },
    {
     "name": "stderr",
     "output_type": "stream",
     "text": [
      "\r",
      "Step 1/3 :   8%|▊         | 196/2500 [00:06<01:15, 30.35it/s]"
     ]
    },
    {
     "name": "stderr",
     "output_type": "stream",
     "text": [
      "\r",
      "Step 1/3 :   8%|▊         | 196/2500 [00:06<01:15, 30.35it/s]"
     ]
    },
    {
     "name": "stderr",
     "output_type": "stream",
     "text": [
      "\r",
      "Step 1/3 :   8%|▊         | 196/2500 [00:06<01:15, 30.35it/s]"
     ]
    },
    {
     "name": "stderr",
     "output_type": "stream",
     "text": [
      "\r",
      "Step 1/3 :   8%|▊         | 196/2500 [00:07<01:15, 30.35it/s]"
     ]
    },
    {
     "name": "stderr",
     "output_type": "stream",
     "text": [
      "\r",
      "Step 1/3 :   8%|▊         | 200/2500 [00:07<01:15, 30.48it/s]"
     ]
    },
    {
     "name": "stderr",
     "output_type": "stream",
     "text": [
      "\r",
      "Step 1/3 :   8%|▊         | 200/2500 [00:07<01:15, 30.48it/s]"
     ]
    },
    {
     "name": "stderr",
     "output_type": "stream",
     "text": [
      "\r",
      "Step 1/3 :   8%|▊         | 200/2500 [00:07<01:15, 30.48it/s]"
     ]
    },
    {
     "name": "stderr",
     "output_type": "stream",
     "text": [
      "\r",
      "Step 1/3 :   8%|▊         | 200/2500 [00:07<01:15, 30.48it/s]"
     ]
    },
    {
     "name": "stderr",
     "output_type": "stream",
     "text": [
      "\r",
      "Step 1/3 :   8%|▊         | 200/2500 [00:07<01:15, 30.48it/s]"
     ]
    },
    {
     "name": "stderr",
     "output_type": "stream",
     "text": [
      "\r",
      "Step 1/3 :   8%|▊         | 204/2500 [00:07<01:15, 30.39it/s]"
     ]
    },
    {
     "name": "stderr",
     "output_type": "stream",
     "text": [
      "\r",
      "Step 1/3 :   8%|▊         | 204/2500 [00:07<01:15, 30.39it/s]"
     ]
    },
    {
     "name": "stderr",
     "output_type": "stream",
     "text": [
      "\r",
      "Step 1/3 :   8%|▊         | 204/2500 [00:07<01:15, 30.39it/s]"
     ]
    },
    {
     "name": "stderr",
     "output_type": "stream",
     "text": [
      "\r",
      "Step 1/3 :   8%|▊         | 204/2500 [00:07<01:15, 30.39it/s]"
     ]
    },
    {
     "name": "stderr",
     "output_type": "stream",
     "text": [
      "\r",
      "Step 1/3 :   8%|▊         | 204/2500 [00:07<01:15, 30.39it/s]"
     ]
    },
    {
     "name": "stderr",
     "output_type": "stream",
     "text": [
      "\r",
      "Step 1/3 :   8%|▊         | 208/2500 [00:07<01:15, 30.50it/s]"
     ]
    },
    {
     "name": "stderr",
     "output_type": "stream",
     "text": [
      "\r",
      "Step 1/3 :   8%|▊         | 208/2500 [00:07<01:15, 30.50it/s]"
     ]
    },
    {
     "name": "stderr",
     "output_type": "stream",
     "text": [
      "\r",
      "Step 1/3 :   8%|▊         | 208/2500 [00:07<01:15, 30.50it/s]"
     ]
    },
    {
     "name": "stderr",
     "output_type": "stream",
     "text": [
      "\r",
      "Step 1/3 :   8%|▊         | 208/2500 [00:07<01:15, 30.50it/s]"
     ]
    },
    {
     "name": "stderr",
     "output_type": "stream",
     "text": [
      "\r",
      "Step 1/3 :   8%|▊         | 208/2500 [00:07<01:15, 30.50it/s]"
     ]
    },
    {
     "name": "stderr",
     "output_type": "stream",
     "text": [
      "\r",
      "Step 1/3 :   8%|▊         | 212/2500 [00:07<01:17, 29.59it/s]"
     ]
    },
    {
     "name": "stderr",
     "output_type": "stream",
     "text": [
      "\r",
      "Step 1/3 :   8%|▊         | 212/2500 [00:07<01:17, 29.59it/s]"
     ]
    },
    {
     "name": "stderr",
     "output_type": "stream",
     "text": [
      "\r",
      "Step 1/3 :   8%|▊         | 212/2500 [00:07<01:17, 29.59it/s]"
     ]
    },
    {
     "name": "stderr",
     "output_type": "stream",
     "text": [
      "\r",
      "Step 1/3 :   8%|▊         | 212/2500 [00:07<01:17, 29.59it/s]"
     ]
    },
    {
     "name": "stderr",
     "output_type": "stream",
     "text": [
      "\r",
      "Step 1/3 :   8%|▊         | 212/2500 [00:07<01:17, 29.59it/s]"
     ]
    },
    {
     "name": "stderr",
     "output_type": "stream",
     "text": [
      "\r",
      "Step 1/3 :   9%|▊         | 216/2500 [00:07<01:16, 29.73it/s]"
     ]
    },
    {
     "name": "stderr",
     "output_type": "stream",
     "text": [
      "\r",
      "Step 1/3 :   9%|▊         | 216/2500 [00:07<01:16, 29.73it/s]"
     ]
    },
    {
     "name": "stderr",
     "output_type": "stream",
     "text": [
      "\r",
      "Step 1/3 :   9%|▊         | 216/2500 [00:07<01:16, 29.73it/s]"
     ]
    },
    {
     "name": "stderr",
     "output_type": "stream",
     "text": [
      "\r",
      "Step 1/3 :   9%|▊         | 216/2500 [00:07<01:16, 29.73it/s]"
     ]
    },
    {
     "name": "stderr",
     "output_type": "stream",
     "text": [
      "\r",
      "Step 1/3 :   9%|▉         | 219/2500 [00:07<01:17, 29.58it/s]"
     ]
    },
    {
     "name": "stderr",
     "output_type": "stream",
     "text": [
      "\r",
      "Step 1/3 :   9%|▉         | 219/2500 [00:07<01:17, 29.58it/s]"
     ]
    },
    {
     "name": "stderr",
     "output_type": "stream",
     "text": [
      "\r",
      "Step 1/3 :   9%|▉         | 219/2500 [00:07<01:17, 29.58it/s]"
     ]
    },
    {
     "name": "stderr",
     "output_type": "stream",
     "text": [
      "\r",
      "Step 1/3 :   9%|▉         | 219/2500 [00:07<01:17, 29.58it/s]"
     ]
    },
    {
     "name": "stderr",
     "output_type": "stream",
     "text": [
      "\r",
      "Step 1/3 :   9%|▉         | 219/2500 [00:07<01:17, 29.58it/s]"
     ]
    },
    {
     "name": "stderr",
     "output_type": "stream",
     "text": [
      "\r",
      "Step 1/3 :   9%|▉         | 223/2500 [00:07<01:16, 29.88it/s]"
     ]
    },
    {
     "name": "stderr",
     "output_type": "stream",
     "text": [
      "\r",
      "Step 1/3 :   9%|▉         | 223/2500 [00:07<01:16, 29.88it/s]"
     ]
    },
    {
     "name": "stderr",
     "output_type": "stream",
     "text": [
      "\r",
      "Step 1/3 :   9%|▉         | 223/2500 [00:07<01:16, 29.88it/s]"
     ]
    },
    {
     "name": "stderr",
     "output_type": "stream",
     "text": [
      "\r",
      "Step 1/3 :   9%|▉         | 223/2500 [00:07<01:16, 29.88it/s]"
     ]
    },
    {
     "name": "stderr",
     "output_type": "stream",
     "text": [
      "\r",
      "Step 1/3 :   9%|▉         | 223/2500 [00:07<01:16, 29.88it/s]"
     ]
    },
    {
     "name": "stderr",
     "output_type": "stream",
     "text": [
      "\r",
      "Step 1/3 :   9%|▉         | 227/2500 [00:07<01:15, 30.22it/s]"
     ]
    },
    {
     "name": "stderr",
     "output_type": "stream",
     "text": [
      "\r",
      "Step 1/3 :   9%|▉         | 227/2500 [00:07<01:15, 30.22it/s]"
     ]
    },
    {
     "name": "stderr",
     "output_type": "stream",
     "text": [
      "\r",
      "Step 1/3 :   9%|▉         | 227/2500 [00:07<01:15, 30.22it/s]"
     ]
    },
    {
     "name": "stderr",
     "output_type": "stream",
     "text": [
      "\r",
      "Step 1/3 :   9%|▉         | 227/2500 [00:08<01:15, 30.22it/s]"
     ]
    },
    {
     "name": "stderr",
     "output_type": "stream",
     "text": [
      "\r",
      "Step 1/3 :   9%|▉         | 227/2500 [00:08<01:15, 30.22it/s]"
     ]
    },
    {
     "name": "stderr",
     "output_type": "stream",
     "text": [
      "\r",
      "Step 1/3 :   9%|▉         | 231/2500 [00:08<01:15, 30.25it/s]"
     ]
    },
    {
     "name": "stderr",
     "output_type": "stream",
     "text": [
      "\r",
      "Step 1/3 :   9%|▉         | 231/2500 [00:08<01:15, 30.25it/s]"
     ]
    },
    {
     "name": "stderr",
     "output_type": "stream",
     "text": [
      "\r",
      "Step 1/3 :   9%|▉         | 231/2500 [00:08<01:15, 30.25it/s]"
     ]
    },
    {
     "name": "stderr",
     "output_type": "stream",
     "text": [
      "\r",
      "Step 1/3 :   9%|▉         | 231/2500 [00:08<01:15, 30.25it/s]"
     ]
    },
    {
     "name": "stderr",
     "output_type": "stream",
     "text": [
      "\r",
      "Step 1/3 :   9%|▉         | 231/2500 [00:08<01:15, 30.25it/s]"
     ]
    },
    {
     "name": "stderr",
     "output_type": "stream",
     "text": [
      "\r",
      "Step 1/3 :   9%|▉         | 235/2500 [00:08<01:14, 30.26it/s]"
     ]
    },
    {
     "name": "stderr",
     "output_type": "stream",
     "text": [
      "\r",
      "Step 1/3 :   9%|▉         | 235/2500 [00:08<01:14, 30.26it/s]"
     ]
    },
    {
     "name": "stderr",
     "output_type": "stream",
     "text": [
      "\r",
      "Step 1/3 :   9%|▉         | 235/2500 [00:08<01:14, 30.26it/s]"
     ]
    },
    {
     "name": "stderr",
     "output_type": "stream",
     "text": [
      "\r",
      "Step 1/3 :   9%|▉         | 235/2500 [00:08<01:14, 30.26it/s]"
     ]
    },
    {
     "name": "stderr",
     "output_type": "stream",
     "text": [
      "\r",
      "Step 1/3 :   9%|▉         | 235/2500 [00:08<01:14, 30.26it/s]"
     ]
    },
    {
     "name": "stderr",
     "output_type": "stream",
     "text": [
      "\r",
      "Step 1/3 :  10%|▉         | 239/2500 [00:08<01:15, 29.86it/s]"
     ]
    },
    {
     "name": "stderr",
     "output_type": "stream",
     "text": [
      "\r",
      "Step 1/3 :  10%|▉         | 239/2500 [00:08<01:15, 29.86it/s]"
     ]
    },
    {
     "name": "stderr",
     "output_type": "stream",
     "text": [
      "\r",
      "Step 1/3 :  10%|▉         | 239/2500 [00:08<01:15, 29.86it/s]"
     ]
    },
    {
     "name": "stderr",
     "output_type": "stream",
     "text": [
      "\r",
      "Step 1/3 :  10%|▉         | 239/2500 [00:08<01:15, 29.86it/s]"
     ]
    },
    {
     "name": "stderr",
     "output_type": "stream",
     "text": [
      "\r",
      "Step 1/3 :  10%|▉         | 242/2500 [00:08<01:15, 29.77it/s]"
     ]
    },
    {
     "name": "stderr",
     "output_type": "stream",
     "text": [
      "\r",
      "Step 1/3 :  10%|▉         | 242/2500 [00:08<01:15, 29.77it/s]"
     ]
    },
    {
     "name": "stderr",
     "output_type": "stream",
     "text": [
      "\r",
      "Step 1/3 :  10%|▉         | 242/2500 [00:08<01:15, 29.77it/s]"
     ]
    },
    {
     "name": "stderr",
     "output_type": "stream",
     "text": [
      "\r",
      "Step 1/3 :  10%|▉         | 242/2500 [00:08<01:15, 29.77it/s]"
     ]
    },
    {
     "name": "stderr",
     "output_type": "stream",
     "text": [
      "\r",
      "Step 1/3 :  10%|▉         | 245/2500 [00:08<01:16, 29.60it/s]"
     ]
    },
    {
     "name": "stderr",
     "output_type": "stream",
     "text": [
      "\r",
      "Step 1/3 :  10%|▉         | 245/2500 [00:08<01:16, 29.60it/s]"
     ]
    },
    {
     "name": "stderr",
     "output_type": "stream",
     "text": [
      "\r",
      "Step 1/3 :  10%|▉         | 245/2500 [00:08<01:16, 29.60it/s]"
     ]
    },
    {
     "name": "stderr",
     "output_type": "stream",
     "text": [
      "\r",
      "Step 1/3 :  10%|▉         | 245/2500 [00:08<01:16, 29.60it/s]"
     ]
    },
    {
     "name": "stderr",
     "output_type": "stream",
     "text": [
      "\r",
      "Step 1/3 :  10%|▉         | 248/2500 [00:08<01:16, 29.63it/s]"
     ]
    },
    {
     "name": "stderr",
     "output_type": "stream",
     "text": [
      "\r",
      "Step 1/3 :  10%|▉         | 248/2500 [00:08<01:16, 29.63it/s]"
     ]
    },
    {
     "name": "stderr",
     "output_type": "stream",
     "text": [
      "\r",
      "Step 1/3 :  10%|▉         | 248/2500 [00:08<01:16, 29.63it/s]"
     ]
    },
    {
     "name": "stderr",
     "output_type": "stream",
     "text": [
      "\r",
      "Step 2/3 :  10%|▉         | 248/2500 [00:08<01:16, 29.63it/s]"
     ]
    },
    {
     "name": "stderr",
     "output_type": "stream",
     "text": [
      "\r",
      "Step 2/3 :  10%|▉         | 248/2500 [00:08<01:16, 29.63it/s]"
     ]
    },
    {
     "name": "stderr",
     "output_type": "stream",
     "text": [
      "\r",
      "Step 2/3 :  10%|▉         | 248/2500 [00:08<01:16, 29.63it/s]"
     ]
    },
    {
     "name": "stderr",
     "output_type": "stream",
     "text": [
      "\r",
      "Step 2/3 :  10%|█         | 253/2500 [00:08<01:05, 34.22it/s]"
     ]
    },
    {
     "name": "stderr",
     "output_type": "stream",
     "text": [
      "\r",
      "Step 2/3 :  10%|█         | 253/2500 [00:08<01:05, 34.22it/s]"
     ]
    },
    {
     "name": "stderr",
     "output_type": "stream",
     "text": [
      "\r",
      "Step 2/3 :  10%|█         | 253/2500 [00:08<01:05, 34.22it/s]"
     ]
    },
    {
     "name": "stderr",
     "output_type": "stream",
     "text": [
      "\r",
      "Step 2/3 :  10%|█         | 253/2500 [00:08<01:05, 34.22it/s]"
     ]
    },
    {
     "name": "stderr",
     "output_type": "stream",
     "text": [
      "\r",
      "Step 2/3 :  10%|█         | 253/2500 [00:08<01:05, 34.22it/s]"
     ]
    },
    {
     "name": "stderr",
     "output_type": "stream",
     "text": [
      "\r",
      "Step 2/3 :  10%|█         | 253/2500 [00:08<01:05, 34.22it/s]"
     ]
    },
    {
     "name": "stderr",
     "output_type": "stream",
     "text": [
      "\r",
      "Step 2/3 :  10%|█         | 253/2500 [00:08<01:05, 34.22it/s]"
     ]
    },
    {
     "name": "stderr",
     "output_type": "stream",
     "text": [
      "\r",
      "Step 2/3 :  10%|█         | 259/2500 [00:08<00:56, 39.71it/s]"
     ]
    },
    {
     "name": "stderr",
     "output_type": "stream",
     "text": [
      "\r",
      "Step 2/3 :  10%|█         | 259/2500 [00:08<00:56, 39.71it/s]"
     ]
    },
    {
     "name": "stderr",
     "output_type": "stream",
     "text": [
      "\r",
      "Step 2/3 :  10%|█         | 259/2500 [00:08<00:56, 39.71it/s]"
     ]
    },
    {
     "name": "stderr",
     "output_type": "stream",
     "text": [
      "\r",
      "Step 2/3 :  10%|█         | 259/2500 [00:08<00:56, 39.71it/s]"
     ]
    },
    {
     "name": "stderr",
     "output_type": "stream",
     "text": [
      "\r",
      "Step 2/3 :  10%|█         | 259/2500 [00:08<00:56, 39.71it/s]"
     ]
    },
    {
     "name": "stderr",
     "output_type": "stream",
     "text": [
      "\r",
      "Step 2/3 :  10%|█         | 259/2500 [00:08<00:56, 39.71it/s]"
     ]
    },
    {
     "name": "stderr",
     "output_type": "stream",
     "text": [
      "\r",
      "Step 2/3 :  10%|█         | 259/2500 [00:08<00:56, 39.71it/s]"
     ]
    },
    {
     "name": "stderr",
     "output_type": "stream",
     "text": [
      "\r",
      "Step 2/3 :  11%|█         | 265/2500 [00:09<00:51, 43.16it/s]"
     ]
    },
    {
     "name": "stderr",
     "output_type": "stream",
     "text": [
      "\r",
      "Step 2/3 :  11%|█         | 265/2500 [00:09<00:51, 43.16it/s]"
     ]
    },
    {
     "name": "stderr",
     "output_type": "stream",
     "text": [
      "\r",
      "Step 2/3 :  11%|█         | 265/2500 [00:09<00:51, 43.16it/s]"
     ]
    },
    {
     "name": "stderr",
     "output_type": "stream",
     "text": [
      "\r",
      "Step 2/3 :  11%|█         | 265/2500 [00:09<00:51, 43.16it/s]"
     ]
    },
    {
     "name": "stderr",
     "output_type": "stream",
     "text": [
      "\r",
      "Step 2/3 :  11%|█         | 265/2500 [00:09<00:51, 43.16it/s]"
     ]
    },
    {
     "name": "stderr",
     "output_type": "stream",
     "text": [
      "\r",
      "Step 2/3 :  11%|█         | 265/2500 [00:09<00:51, 43.16it/s]"
     ]
    },
    {
     "name": "stderr",
     "output_type": "stream",
     "text": [
      "\r",
      "Step 2/3 :  11%|█         | 270/2500 [00:09<00:49, 44.66it/s]"
     ]
    },
    {
     "name": "stderr",
     "output_type": "stream",
     "text": [
      "\r",
      "Step 2/3 :  11%|█         | 270/2500 [00:09<00:49, 44.66it/s]"
     ]
    },
    {
     "name": "stderr",
     "output_type": "stream",
     "text": [
      "\r",
      "Step 2/3 :  11%|█         | 270/2500 [00:09<00:49, 44.66it/s]"
     ]
    },
    {
     "name": "stderr",
     "output_type": "stream",
     "text": [
      "\r",
      "Step 2/3 :  11%|█         | 270/2500 [00:09<00:49, 44.66it/s]"
     ]
    },
    {
     "name": "stderr",
     "output_type": "stream",
     "text": [
      "\r",
      "Step 2/3 :  11%|█         | 270/2500 [00:09<00:49, 44.66it/s]"
     ]
    },
    {
     "name": "stderr",
     "output_type": "stream",
     "text": [
      "\r",
      "Step 2/3 :  11%|█         | 270/2500 [00:09<00:49, 44.66it/s]"
     ]
    },
    {
     "name": "stderr",
     "output_type": "stream",
     "text": [
      "\r",
      "Step 2/3 :  11%|█         | 275/2500 [00:09<00:48, 46.02it/s]"
     ]
    },
    {
     "name": "stderr",
     "output_type": "stream",
     "text": [
      "\r",
      "Step 2/3 :  11%|█         | 275/2500 [00:09<00:48, 46.02it/s]"
     ]
    },
    {
     "name": "stderr",
     "output_type": "stream",
     "text": [
      "\r",
      "Step 2/3 :  11%|█         | 275/2500 [00:09<00:48, 46.02it/s]"
     ]
    },
    {
     "name": "stderr",
     "output_type": "stream",
     "text": [
      "\r",
      "Step 2/3 :  11%|█         | 275/2500 [00:09<00:48, 46.02it/s]"
     ]
    },
    {
     "name": "stderr",
     "output_type": "stream",
     "text": [
      "\r",
      "Step 2/3 :  11%|█         | 275/2500 [00:09<00:48, 46.02it/s]"
     ]
    },
    {
     "name": "stderr",
     "output_type": "stream",
     "text": [
      "\r",
      "Step 2/3 :  11%|█         | 275/2500 [00:09<00:48, 46.02it/s]"
     ]
    },
    {
     "name": "stderr",
     "output_type": "stream",
     "text": [
      "\r",
      "Step 2/3 :  11%|█         | 275/2500 [00:09<00:48, 46.02it/s]"
     ]
    },
    {
     "name": "stderr",
     "output_type": "stream",
     "text": [
      "\r",
      "Step 2/3 :  11%|█         | 281/2500 [00:09<00:46, 47.30it/s]"
     ]
    },
    {
     "name": "stderr",
     "output_type": "stream",
     "text": [
      "\r",
      "Step 2/3 :  11%|█         | 281/2500 [00:09<00:46, 47.30it/s]"
     ]
    },
    {
     "name": "stderr",
     "output_type": "stream",
     "text": [
      "\r",
      "Step 2/3 :  11%|█         | 281/2500 [00:09<00:46, 47.30it/s]"
     ]
    },
    {
     "name": "stderr",
     "output_type": "stream",
     "text": [
      "\r",
      "Step 2/3 :  11%|█         | 281/2500 [00:09<00:46, 47.30it/s]"
     ]
    },
    {
     "name": "stderr",
     "output_type": "stream",
     "text": [
      "\r",
      "Step 2/3 :  11%|█         | 281/2500 [00:09<00:46, 47.30it/s]"
     ]
    },
    {
     "name": "stderr",
     "output_type": "stream",
     "text": [
      "\r",
      "Step 2/3 :  11%|█         | 281/2500 [00:09<00:46, 47.30it/s]"
     ]
    },
    {
     "name": "stderr",
     "output_type": "stream",
     "text": [
      "\r",
      "Step 2/3 :  11%|█▏        | 286/2500 [00:09<00:46, 48.05it/s]"
     ]
    },
    {
     "name": "stderr",
     "output_type": "stream",
     "text": [
      "\r",
      "Step 2/3 :  11%|█▏        | 286/2500 [00:09<00:46, 48.05it/s]"
     ]
    },
    {
     "name": "stderr",
     "output_type": "stream",
     "text": [
      "\r",
      "Step 2/3 :  11%|█▏        | 286/2500 [00:09<00:46, 48.05it/s]"
     ]
    },
    {
     "name": "stderr",
     "output_type": "stream",
     "text": [
      "\r",
      "Step 2/3 :  11%|█▏        | 286/2500 [00:09<00:46, 48.05it/s]"
     ]
    },
    {
     "name": "stderr",
     "output_type": "stream",
     "text": [
      "\r",
      "Step 2/3 :  11%|█▏        | 286/2500 [00:09<00:46, 48.05it/s]"
     ]
    },
    {
     "name": "stderr",
     "output_type": "stream",
     "text": [
      "\r",
      "Step 2/3 :  11%|█▏        | 286/2500 [00:09<00:46, 48.05it/s]"
     ]
    },
    {
     "name": "stderr",
     "output_type": "stream",
     "text": [
      "\r",
      "Step 2/3 :  11%|█▏        | 286/2500 [00:09<00:46, 48.05it/s]"
     ]
    },
    {
     "name": "stderr",
     "output_type": "stream",
     "text": [
      "\r",
      "Step 2/3 :  12%|█▏        | 292/2500 [00:09<00:45, 48.94it/s]"
     ]
    },
    {
     "name": "stderr",
     "output_type": "stream",
     "text": [
      "\r",
      "Step 2/3 :  12%|█▏        | 292/2500 [00:09<00:45, 48.94it/s]"
     ]
    },
    {
     "name": "stderr",
     "output_type": "stream",
     "text": [
      "\r",
      "Step 2/3 :  12%|█▏        | 292/2500 [00:09<00:45, 48.94it/s]"
     ]
    },
    {
     "name": "stderr",
     "output_type": "stream",
     "text": [
      "\r",
      "Step 2/3 :  12%|█▏        | 292/2500 [00:09<00:45, 48.94it/s]"
     ]
    },
    {
     "name": "stderr",
     "output_type": "stream",
     "text": [
      "\r",
      "Step 2/3 :  12%|█▏        | 292/2500 [00:09<00:45, 48.94it/s]"
     ]
    },
    {
     "name": "stderr",
     "output_type": "stream",
     "text": [
      "\r",
      "Step 2/3 :  12%|█▏        | 292/2500 [00:09<00:45, 48.94it/s]"
     ]
    },
    {
     "name": "stderr",
     "output_type": "stream",
     "text": [
      "\r",
      "Step 2/3 :  12%|█▏        | 292/2500 [00:09<00:45, 48.94it/s]"
     ]
    },
    {
     "name": "stderr",
     "output_type": "stream",
     "text": [
      "\r",
      "Step 2/3 :  12%|█▏        | 298/2500 [00:09<00:44, 49.54it/s]"
     ]
    },
    {
     "name": "stderr",
     "output_type": "stream",
     "text": [
      "\r",
      "Step 2/3 :  12%|█▏        | 298/2500 [00:09<00:44, 49.54it/s]"
     ]
    },
    {
     "name": "stderr",
     "output_type": "stream",
     "text": [
      "\r",
      "Step 2/3 :  12%|█▏        | 298/2500 [00:09<00:44, 49.54it/s]"
     ]
    },
    {
     "name": "stderr",
     "output_type": "stream",
     "text": [
      "\r",
      "Step 2/3 :  12%|█▏        | 298/2500 [00:09<00:44, 49.54it/s]"
     ]
    },
    {
     "name": "stderr",
     "output_type": "stream",
     "text": [
      "\r",
      "Step 2/3 :  12%|█▏        | 298/2500 [00:09<00:44, 49.54it/s]"
     ]
    },
    {
     "name": "stderr",
     "output_type": "stream",
     "text": [
      "\r",
      "Step 2/3 :  12%|█▏        | 298/2500 [00:09<00:44, 49.54it/s]"
     ]
    },
    {
     "name": "stderr",
     "output_type": "stream",
     "text": [
      "\r",
      "Step 2/3 :  12%|█▏        | 303/2500 [00:09<00:44, 49.59it/s]"
     ]
    },
    {
     "name": "stderr",
     "output_type": "stream",
     "text": [
      "\r",
      "Step 2/3 :  12%|█▏        | 303/2500 [00:09<00:44, 49.59it/s]"
     ]
    },
    {
     "name": "stderr",
     "output_type": "stream",
     "text": [
      "\r",
      "Step 2/3 :  12%|█▏        | 303/2500 [00:09<00:44, 49.59it/s]"
     ]
    },
    {
     "name": "stderr",
     "output_type": "stream",
     "text": [
      "\r",
      "Step 2/3 :  12%|█▏        | 303/2500 [00:09<00:44, 49.59it/s]"
     ]
    },
    {
     "name": "stderr",
     "output_type": "stream",
     "text": [
      "\r",
      "Step 2/3 :  12%|█▏        | 303/2500 [00:09<00:44, 49.59it/s]"
     ]
    },
    {
     "name": "stderr",
     "output_type": "stream",
     "text": [
      "\r",
      "Step 2/3 :  12%|█▏        | 303/2500 [00:09<00:44, 49.59it/s]"
     ]
    },
    {
     "name": "stderr",
     "output_type": "stream",
     "text": [
      "\r",
      "Step 2/3 :  12%|█▏        | 308/2500 [00:09<00:45, 48.61it/s]"
     ]
    },
    {
     "name": "stderr",
     "output_type": "stream",
     "text": [
      "\r",
      "Step 2/3 :  12%|█▏        | 308/2500 [00:09<00:45, 48.61it/s]"
     ]
    },
    {
     "name": "stderr",
     "output_type": "stream",
     "text": [
      "\r",
      "Step 2/3 :  12%|█▏        | 308/2500 [00:09<00:45, 48.61it/s]"
     ]
    },
    {
     "name": "stderr",
     "output_type": "stream",
     "text": [
      "\r",
      "Step 2/3 :  12%|█▏        | 308/2500 [00:09<00:45, 48.61it/s]"
     ]
    },
    {
     "name": "stderr",
     "output_type": "stream",
     "text": [
      "\r",
      "Step 2/3 :  12%|█▏        | 308/2500 [00:09<00:45, 48.61it/s]"
     ]
    },
    {
     "name": "stderr",
     "output_type": "stream",
     "text": [
      "\r",
      "Step 2/3 :  12%|█▏        | 308/2500 [00:09<00:45, 48.61it/s]"
     ]
    },
    {
     "name": "stderr",
     "output_type": "stream",
     "text": [
      "\r",
      "Step 2/3 :  13%|█▎        | 313/2500 [00:09<00:46, 47.40it/s]"
     ]
    },
    {
     "name": "stderr",
     "output_type": "stream",
     "text": [
      "\r",
      "Step 2/3 :  13%|█▎        | 313/2500 [00:09<00:46, 47.40it/s]"
     ]
    },
    {
     "name": "stderr",
     "output_type": "stream",
     "text": [
      "\r",
      "Step 2/3 :  13%|█▎        | 313/2500 [00:10<00:46, 47.40it/s]"
     ]
    },
    {
     "name": "stderr",
     "output_type": "stream",
     "text": [
      "\r",
      "Step 2/3 :  13%|█▎        | 313/2500 [00:10<00:46, 47.40it/s]"
     ]
    },
    {
     "name": "stderr",
     "output_type": "stream",
     "text": [
      "\r",
      "Step 2/3 :  13%|█▎        | 313/2500 [00:10<00:46, 47.40it/s]"
     ]
    },
    {
     "name": "stderr",
     "output_type": "stream",
     "text": [
      "\r",
      "Step 2/3 :  13%|█▎        | 313/2500 [00:10<00:46, 47.40it/s]"
     ]
    },
    {
     "name": "stderr",
     "output_type": "stream",
     "text": [
      "\r",
      "Step 2/3 :  13%|█▎        | 318/2500 [00:10<00:46, 47.07it/s]"
     ]
    },
    {
     "name": "stderr",
     "output_type": "stream",
     "text": [
      "\r",
      "Step 2/3 :  13%|█▎        | 318/2500 [00:10<00:46, 47.07it/s]"
     ]
    },
    {
     "name": "stderr",
     "output_type": "stream",
     "text": [
      "\r",
      "Step 2/3 :  13%|█▎        | 318/2500 [00:10<00:46, 47.07it/s]"
     ]
    },
    {
     "name": "stderr",
     "output_type": "stream",
     "text": [
      "\r",
      "Step 2/3 :  13%|█▎        | 318/2500 [00:10<00:46, 47.07it/s]"
     ]
    },
    {
     "name": "stderr",
     "output_type": "stream",
     "text": [
      "\r",
      "Step 2/3 :  13%|█▎        | 318/2500 [00:10<00:46, 47.07it/s]"
     ]
    },
    {
     "name": "stderr",
     "output_type": "stream",
     "text": [
      "\r",
      "Step 2/3 :  13%|█▎        | 318/2500 [00:10<00:46, 47.07it/s]"
     ]
    },
    {
     "name": "stderr",
     "output_type": "stream",
     "text": [
      "\r",
      "Step 2/3 :  13%|█▎        | 323/2500 [00:10<00:45, 47.76it/s]"
     ]
    },
    {
     "name": "stderr",
     "output_type": "stream",
     "text": [
      "\r",
      "Step 2/3 :  13%|█▎        | 323/2500 [00:10<00:45, 47.76it/s]"
     ]
    },
    {
     "name": "stderr",
     "output_type": "stream",
     "text": [
      "\r",
      "Step 2/3 :  13%|█▎        | 323/2500 [00:10<00:45, 47.76it/s]"
     ]
    },
    {
     "name": "stderr",
     "output_type": "stream",
     "text": [
      "\r",
      "Step 2/3 :  13%|█▎        | 323/2500 [00:10<00:45, 47.76it/s]"
     ]
    },
    {
     "name": "stderr",
     "output_type": "stream",
     "text": [
      "\r",
      "Step 2/3 :  13%|█▎        | 323/2500 [00:10<00:45, 47.76it/s]"
     ]
    },
    {
     "name": "stderr",
     "output_type": "stream",
     "text": [
      "\r",
      "Step 2/3 :  13%|█▎        | 323/2500 [00:10<00:45, 47.76it/s]"
     ]
    },
    {
     "name": "stderr",
     "output_type": "stream",
     "text": [
      "\r",
      "Step 2/3 :  13%|█▎        | 323/2500 [00:10<00:45, 47.76it/s]"
     ]
    },
    {
     "name": "stderr",
     "output_type": "stream",
     "text": [
      "\r",
      "Step 2/3 :  13%|█▎        | 329/2500 [00:10<00:45, 47.97it/s]"
     ]
    },
    {
     "name": "stderr",
     "output_type": "stream",
     "text": [
      "\r",
      "Step 2/3 :  13%|█▎        | 329/2500 [00:10<00:45, 47.97it/s]"
     ]
    },
    {
     "name": "stderr",
     "output_type": "stream",
     "text": [
      "\r",
      "Step 2/3 :  13%|█▎        | 329/2500 [00:10<00:45, 47.97it/s]"
     ]
    },
    {
     "name": "stderr",
     "output_type": "stream",
     "text": [
      "\r",
      "Step 2/3 :  13%|█▎        | 329/2500 [00:10<00:45, 47.97it/s]"
     ]
    },
    {
     "name": "stderr",
     "output_type": "stream",
     "text": [
      "\r",
      "Step 2/3 :  13%|█▎        | 329/2500 [00:10<00:45, 47.97it/s]"
     ]
    },
    {
     "name": "stderr",
     "output_type": "stream",
     "text": [
      "\r",
      "Step 2/3 :  13%|█▎        | 329/2500 [00:10<00:45, 47.97it/s]"
     ]
    },
    {
     "name": "stderr",
     "output_type": "stream",
     "text": [
      "\r",
      "Step 2/3 :  13%|█▎        | 334/2500 [00:10<00:44, 48.17it/s]"
     ]
    },
    {
     "name": "stderr",
     "output_type": "stream",
     "text": [
      "\r",
      "Step 2/3 :  13%|█▎        | 334/2500 [00:10<00:44, 48.17it/s]"
     ]
    },
    {
     "name": "stderr",
     "output_type": "stream",
     "text": [
      "\r",
      "Step 2/3 :  13%|█▎        | 334/2500 [00:10<00:44, 48.17it/s]"
     ]
    },
    {
     "name": "stderr",
     "output_type": "stream",
     "text": [
      "\r",
      "Step 2/3 :  13%|█▎        | 334/2500 [00:10<00:44, 48.17it/s]"
     ]
    },
    {
     "name": "stderr",
     "output_type": "stream",
     "text": [
      "\r",
      "Step 2/3 :  13%|█▎        | 334/2500 [00:10<00:44, 48.17it/s]"
     ]
    },
    {
     "name": "stderr",
     "output_type": "stream",
     "text": [
      "\r",
      "Step 2/3 :  13%|█▎        | 334/2500 [00:10<00:44, 48.17it/s]"
     ]
    },
    {
     "name": "stderr",
     "output_type": "stream",
     "text": [
      "\r",
      "Step 2/3 :  14%|█▎        | 339/2500 [00:10<00:44, 48.28it/s]"
     ]
    },
    {
     "name": "stderr",
     "output_type": "stream",
     "text": [
      "\r",
      "Step 2/3 :  14%|█▎        | 339/2500 [00:10<00:44, 48.28it/s]"
     ]
    },
    {
     "name": "stderr",
     "output_type": "stream",
     "text": [
      "\r",
      "Step 2/3 :  14%|█▎        | 339/2500 [00:10<00:44, 48.28it/s]"
     ]
    },
    {
     "name": "stderr",
     "output_type": "stream",
     "text": [
      "\r",
      "Step 2/3 :  14%|█▎        | 339/2500 [00:10<00:44, 48.28it/s]"
     ]
    },
    {
     "name": "stderr",
     "output_type": "stream",
     "text": [
      "\r",
      "Step 2/3 :  14%|█▎        | 339/2500 [00:10<00:44, 48.28it/s]"
     ]
    },
    {
     "name": "stderr",
     "output_type": "stream",
     "text": [
      "\r",
      "Step 2/3 :  14%|█▎        | 339/2500 [00:10<00:44, 48.28it/s]"
     ]
    },
    {
     "name": "stderr",
     "output_type": "stream",
     "text": [
      "\r",
      "Step 2/3 :  14%|█▎        | 339/2500 [00:10<00:44, 48.28it/s]"
     ]
    },
    {
     "name": "stderr",
     "output_type": "stream",
     "text": [
      "\r",
      "Step 2/3 :  14%|█▍        | 345/2500 [00:10<00:44, 48.70it/s]"
     ]
    },
    {
     "name": "stderr",
     "output_type": "stream",
     "text": [
      "\r",
      "Step 2/3 :  14%|█▍        | 345/2500 [00:10<00:44, 48.70it/s]"
     ]
    },
    {
     "name": "stderr",
     "output_type": "stream",
     "text": [
      "\r",
      "Step 2/3 :  14%|█▍        | 345/2500 [00:10<00:44, 48.70it/s]"
     ]
    },
    {
     "name": "stderr",
     "output_type": "stream",
     "text": [
      "\r",
      "Step 2/3 :  14%|█▍        | 345/2500 [00:10<00:44, 48.70it/s]"
     ]
    },
    {
     "name": "stderr",
     "output_type": "stream",
     "text": [
      "\r",
      "Step 2/3 :  14%|█▍        | 345/2500 [00:10<00:44, 48.70it/s]"
     ]
    },
    {
     "name": "stderr",
     "output_type": "stream",
     "text": [
      "\r",
      "Step 2/3 :  14%|█▍        | 345/2500 [00:10<00:44, 48.70it/s]"
     ]
    },
    {
     "name": "stderr",
     "output_type": "stream",
     "text": [
      "\r",
      "Step 2/3 :  14%|█▍        | 345/2500 [00:10<00:44, 48.70it/s]"
     ]
    },
    {
     "name": "stderr",
     "output_type": "stream",
     "text": [
      "\r",
      "Step 2/3 :  14%|█▍        | 351/2500 [00:10<00:43, 49.11it/s]"
     ]
    },
    {
     "name": "stderr",
     "output_type": "stream",
     "text": [
      "\r",
      "Step 2/3 :  14%|█▍        | 351/2500 [00:10<00:43, 49.11it/s]"
     ]
    },
    {
     "name": "stderr",
     "output_type": "stream",
     "text": [
      "\r",
      "Step 2/3 :  14%|█▍        | 351/2500 [00:10<00:43, 49.11it/s]"
     ]
    },
    {
     "name": "stderr",
     "output_type": "stream",
     "text": [
      "\r",
      "Step 2/3 :  14%|█▍        | 351/2500 [00:10<00:43, 49.11it/s]"
     ]
    },
    {
     "name": "stderr",
     "output_type": "stream",
     "text": [
      "\r",
      "Step 2/3 :  14%|█▍        | 351/2500 [00:10<00:43, 49.11it/s]"
     ]
    },
    {
     "name": "stderr",
     "output_type": "stream",
     "text": [
      "\r",
      "Step 2/3 :  14%|█▍        | 351/2500 [00:10<00:43, 49.11it/s]"
     ]
    },
    {
     "name": "stderr",
     "output_type": "stream",
     "text": [
      "\r",
      "Step 2/3 :  14%|█▍        | 351/2500 [00:10<00:43, 49.11it/s]"
     ]
    },
    {
     "name": "stderr",
     "output_type": "stream",
     "text": [
      "\r",
      "Step 2/3 :  14%|█▍        | 357/2500 [00:10<00:43, 49.58it/s]"
     ]
    },
    {
     "name": "stderr",
     "output_type": "stream",
     "text": [
      "\r",
      "Step 2/3 :  14%|█▍        | 357/2500 [00:10<00:43, 49.58it/s]"
     ]
    },
    {
     "name": "stderr",
     "output_type": "stream",
     "text": [
      "\r",
      "Step 2/3 :  14%|█▍        | 357/2500 [00:10<00:43, 49.58it/s]"
     ]
    },
    {
     "name": "stderr",
     "output_type": "stream",
     "text": [
      "\r",
      "Step 2/3 :  14%|█▍        | 357/2500 [00:10<00:43, 49.58it/s]"
     ]
    },
    {
     "name": "stderr",
     "output_type": "stream",
     "text": [
      "\r",
      "Step 2/3 :  14%|█▍        | 357/2500 [00:10<00:43, 49.58it/s]"
     ]
    },
    {
     "name": "stderr",
     "output_type": "stream",
     "text": [
      "\r",
      "Step 2/3 :  14%|█▍        | 357/2500 [00:10<00:43, 49.58it/s]"
     ]
    },
    {
     "name": "stderr",
     "output_type": "stream",
     "text": [
      "\r",
      "Step 2/3 :  14%|█▍        | 362/2500 [00:10<00:43, 49.56it/s]"
     ]
    },
    {
     "name": "stderr",
     "output_type": "stream",
     "text": [
      "\r",
      "Step 2/3 :  14%|█▍        | 362/2500 [00:10<00:43, 49.56it/s]"
     ]
    },
    {
     "name": "stderr",
     "output_type": "stream",
     "text": [
      "\r",
      "Step 2/3 :  14%|█▍        | 362/2500 [00:11<00:43, 49.56it/s]"
     ]
    },
    {
     "name": "stderr",
     "output_type": "stream",
     "text": [
      "\r",
      "Step 2/3 :  14%|█▍        | 362/2500 [00:11<00:43, 49.56it/s]"
     ]
    },
    {
     "name": "stderr",
     "output_type": "stream",
     "text": [
      "\r",
      "Step 2/3 :  14%|█▍        | 362/2500 [00:11<00:43, 49.56it/s]"
     ]
    },
    {
     "name": "stderr",
     "output_type": "stream",
     "text": [
      "\r",
      "Step 2/3 :  14%|█▍        | 362/2500 [00:11<00:43, 49.56it/s]"
     ]
    },
    {
     "name": "stderr",
     "output_type": "stream",
     "text": [
      "\r",
      "Step 2/3 :  14%|█▍        | 362/2500 [00:11<00:43, 49.56it/s]"
     ]
    },
    {
     "name": "stderr",
     "output_type": "stream",
     "text": [
      "\r",
      "Step 2/3 :  15%|█▍        | 368/2500 [00:11<00:42, 50.23it/s]"
     ]
    },
    {
     "name": "stderr",
     "output_type": "stream",
     "text": [
      "\r",
      "Step 2/3 :  15%|█▍        | 368/2500 [00:11<00:42, 50.23it/s]"
     ]
    },
    {
     "name": "stderr",
     "output_type": "stream",
     "text": [
      "\r",
      "Step 2/3 :  15%|█▍        | 368/2500 [00:11<00:42, 50.23it/s]"
     ]
    },
    {
     "name": "stderr",
     "output_type": "stream",
     "text": [
      "\r",
      "Step 2/3 :  15%|█▍        | 368/2500 [00:11<00:42, 50.23it/s]"
     ]
    },
    {
     "name": "stderr",
     "output_type": "stream",
     "text": [
      "\r",
      "Step 2/3 :  15%|█▍        | 368/2500 [00:11<00:42, 50.23it/s]"
     ]
    },
    {
     "name": "stderr",
     "output_type": "stream",
     "text": [
      "\r",
      "Step 2/3 :  15%|█▍        | 368/2500 [00:11<00:42, 50.23it/s]"
     ]
    },
    {
     "name": "stderr",
     "output_type": "stream",
     "text": [
      "\r",
      "Step 2/3 :  15%|█▍        | 368/2500 [00:11<00:42, 50.23it/s]"
     ]
    },
    {
     "name": "stderr",
     "output_type": "stream",
     "text": [
      "\r",
      "Step 2/3 :  15%|█▍        | 374/2500 [00:11<00:42, 49.95it/s]"
     ]
    },
    {
     "name": "stderr",
     "output_type": "stream",
     "text": [
      "\r",
      "Step 2/3 :  15%|█▍        | 374/2500 [00:11<00:42, 49.95it/s]"
     ]
    },
    {
     "name": "stderr",
     "output_type": "stream",
     "text": [
      "\r",
      "Step 2/3 :  15%|█▍        | 374/2500 [00:11<00:42, 49.95it/s]"
     ]
    },
    {
     "name": "stderr",
     "output_type": "stream",
     "text": [
      "\r",
      "Step 2/3 :  15%|█▍        | 374/2500 [00:11<00:42, 49.95it/s]"
     ]
    },
    {
     "name": "stderr",
     "output_type": "stream",
     "text": [
      "\r",
      "Step 2/3 :  15%|█▍        | 374/2500 [00:11<00:42, 49.95it/s]"
     ]
    },
    {
     "name": "stderr",
     "output_type": "stream",
     "text": [
      "\r",
      "Step 2/3 :  15%|█▍        | 374/2500 [00:11<00:42, 49.95it/s]"
     ]
    },
    {
     "name": "stderr",
     "output_type": "stream",
     "text": [
      "\r",
      "Step 2/3 :  15%|█▌        | 379/2500 [00:11<00:42, 49.83it/s]"
     ]
    },
    {
     "name": "stderr",
     "output_type": "stream",
     "text": [
      "\r",
      "Step 2/3 :  15%|█▌        | 379/2500 [00:11<00:42, 49.83it/s]"
     ]
    },
    {
     "name": "stderr",
     "output_type": "stream",
     "text": [
      "\r",
      "Step 2/3 :  15%|█▌        | 379/2500 [00:11<00:42, 49.83it/s]"
     ]
    },
    {
     "name": "stderr",
     "output_type": "stream",
     "text": [
      "\r",
      "Step 2/3 :  15%|█▌        | 379/2500 [00:11<00:42, 49.83it/s]"
     ]
    },
    {
     "name": "stderr",
     "output_type": "stream",
     "text": [
      "\r",
      "Step 2/3 :  15%|█▌        | 379/2500 [00:11<00:42, 49.83it/s]"
     ]
    },
    {
     "name": "stderr",
     "output_type": "stream",
     "text": [
      "\r",
      "Step 2/3 :  15%|█▌        | 379/2500 [00:11<00:42, 49.83it/s]"
     ]
    },
    {
     "name": "stderr",
     "output_type": "stream",
     "text": [
      "\r",
      "Step 2/3 :  15%|█▌        | 384/2500 [00:11<00:42, 49.46it/s]"
     ]
    },
    {
     "name": "stderr",
     "output_type": "stream",
     "text": [
      "\r",
      "Step 2/3 :  15%|█▌        | 384/2500 [00:11<00:42, 49.46it/s]"
     ]
    },
    {
     "name": "stderr",
     "output_type": "stream",
     "text": [
      "\r",
      "Step 2/3 :  15%|█▌        | 384/2500 [00:11<00:42, 49.46it/s]"
     ]
    },
    {
     "name": "stderr",
     "output_type": "stream",
     "text": [
      "\r",
      "Step 2/3 :  15%|█▌        | 384/2500 [00:11<00:42, 49.46it/s]"
     ]
    },
    {
     "name": "stderr",
     "output_type": "stream",
     "text": [
      "\r",
      "Step 2/3 :  15%|█▌        | 384/2500 [00:11<00:42, 49.46it/s]"
     ]
    },
    {
     "name": "stderr",
     "output_type": "stream",
     "text": [
      "\r",
      "Step 2/3 :  15%|█▌        | 384/2500 [00:11<00:42, 49.46it/s]"
     ]
    },
    {
     "name": "stderr",
     "output_type": "stream",
     "text": [
      "\r",
      "Step 2/3 :  15%|█▌        | 384/2500 [00:11<00:42, 49.46it/s]"
     ]
    },
    {
     "name": "stderr",
     "output_type": "stream",
     "text": [
      "\r",
      "Step 2/3 :  16%|█▌        | 390/2500 [00:11<00:42, 50.17it/s]"
     ]
    },
    {
     "name": "stderr",
     "output_type": "stream",
     "text": [
      "\r",
      "Step 2/3 :  16%|█▌        | 390/2500 [00:11<00:42, 50.17it/s]"
     ]
    },
    {
     "name": "stderr",
     "output_type": "stream",
     "text": [
      "\r",
      "Step 2/3 :  16%|█▌        | 390/2500 [00:11<00:42, 50.17it/s]"
     ]
    },
    {
     "name": "stderr",
     "output_type": "stream",
     "text": [
      "\r",
      "Step 2/3 :  16%|█▌        | 390/2500 [00:11<00:42, 50.17it/s]"
     ]
    },
    {
     "name": "stderr",
     "output_type": "stream",
     "text": [
      "\r",
      "Step 2/3 :  16%|█▌        | 390/2500 [00:11<00:42, 50.17it/s]"
     ]
    },
    {
     "name": "stderr",
     "output_type": "stream",
     "text": [
      "\r",
      "Step 2/3 :  16%|█▌        | 390/2500 [00:11<00:42, 50.17it/s]"
     ]
    },
    {
     "name": "stderr",
     "output_type": "stream",
     "text": [
      "\r",
      "Step 2/3 :  16%|█▌        | 390/2500 [00:11<00:42, 50.17it/s]"
     ]
    },
    {
     "name": "stderr",
     "output_type": "stream",
     "text": [
      "\r",
      "Step 2/3 :  16%|█▌        | 396/2500 [00:11<00:41, 50.93it/s]"
     ]
    },
    {
     "name": "stderr",
     "output_type": "stream",
     "text": [
      "\r",
      "Step 2/3 :  16%|█▌        | 396/2500 [00:11<00:41, 50.93it/s]"
     ]
    },
    {
     "name": "stderr",
     "output_type": "stream",
     "text": [
      "\r",
      "Step 2/3 :  16%|█▌        | 396/2500 [00:11<00:41, 50.93it/s]"
     ]
    },
    {
     "name": "stderr",
     "output_type": "stream",
     "text": [
      "\r",
      "Step 2/3 :  16%|█▌        | 396/2500 [00:11<00:41, 50.93it/s]"
     ]
    },
    {
     "name": "stderr",
     "output_type": "stream",
     "text": [
      "\r",
      "Step 2/3 :  16%|█▌        | 396/2500 [00:11<00:41, 50.93it/s]"
     ]
    },
    {
     "name": "stderr",
     "output_type": "stream",
     "text": [
      "\r",
      "Step 2/3 :  16%|█▌        | 396/2500 [00:11<00:41, 50.93it/s]"
     ]
    },
    {
     "name": "stderr",
     "output_type": "stream",
     "text": [
      "\r",
      "Step 2/3 :  16%|█▌        | 396/2500 [00:11<00:41, 50.93it/s]"
     ]
    },
    {
     "name": "stderr",
     "output_type": "stream",
     "text": [
      "\r",
      "Step 2/3 :  16%|█▌        | 402/2500 [00:11<00:40, 51.31it/s]"
     ]
    },
    {
     "name": "stderr",
     "output_type": "stream",
     "text": [
      "\r",
      "Step 2/3 :  16%|█▌        | 402/2500 [00:11<00:40, 51.31it/s]"
     ]
    },
    {
     "name": "stderr",
     "output_type": "stream",
     "text": [
      "\r",
      "Step 2/3 :  16%|█▌        | 402/2500 [00:11<00:40, 51.31it/s]"
     ]
    },
    {
     "name": "stderr",
     "output_type": "stream",
     "text": [
      "\r",
      "Step 2/3 :  16%|█▌        | 402/2500 [00:11<00:40, 51.31it/s]"
     ]
    },
    {
     "name": "stderr",
     "output_type": "stream",
     "text": [
      "\r",
      "Step 2/3 :  16%|█▌        | 402/2500 [00:11<00:40, 51.31it/s]"
     ]
    },
    {
     "name": "stderr",
     "output_type": "stream",
     "text": [
      "\r",
      "Step 2/3 :  16%|█▌        | 402/2500 [00:11<00:40, 51.31it/s]"
     ]
    },
    {
     "name": "stderr",
     "output_type": "stream",
     "text": [
      "\r",
      "Step 2/3 :  16%|█▌        | 402/2500 [00:11<00:40, 51.31it/s]"
     ]
    },
    {
     "name": "stderr",
     "output_type": "stream",
     "text": [
      "\r",
      "Step 2/3 :  16%|█▋        | 408/2500 [00:11<00:40, 51.57it/s]"
     ]
    },
    {
     "name": "stderr",
     "output_type": "stream",
     "text": [
      "\r",
      "Step 2/3 :  16%|█▋        | 408/2500 [00:11<00:40, 51.57it/s]"
     ]
    },
    {
     "name": "stderr",
     "output_type": "stream",
     "text": [
      "\r",
      "Step 2/3 :  16%|█▋        | 408/2500 [00:11<00:40, 51.57it/s]"
     ]
    },
    {
     "name": "stderr",
     "output_type": "stream",
     "text": [
      "\r",
      "Step 2/3 :  16%|█▋        | 408/2500 [00:11<00:40, 51.57it/s]"
     ]
    },
    {
     "name": "stderr",
     "output_type": "stream",
     "text": [
      "\r",
      "Step 2/3 :  16%|█▋        | 408/2500 [00:11<00:40, 51.57it/s]"
     ]
    },
    {
     "name": "stderr",
     "output_type": "stream",
     "text": [
      "\r",
      "Step 2/3 :  16%|█▋        | 408/2500 [00:11<00:40, 51.57it/s]"
     ]
    },
    {
     "name": "stderr",
     "output_type": "stream",
     "text": [
      "\r",
      "Step 2/3 :  16%|█▋        | 408/2500 [00:11<00:40, 51.57it/s]"
     ]
    },
    {
     "name": "stderr",
     "output_type": "stream",
     "text": [
      "\r",
      "Step 2/3 :  17%|█▋        | 414/2500 [00:12<00:40, 51.89it/s]"
     ]
    },
    {
     "name": "stderr",
     "output_type": "stream",
     "text": [
      "\r",
      "Step 2/3 :  17%|█▋        | 414/2500 [00:12<00:40, 51.89it/s]"
     ]
    },
    {
     "name": "stderr",
     "output_type": "stream",
     "text": [
      "\r",
      "Step 2/3 :  17%|█▋        | 414/2500 [00:12<00:40, 51.89it/s]"
     ]
    },
    {
     "name": "stderr",
     "output_type": "stream",
     "text": [
      "\r",
      "Step 2/3 :  17%|█▋        | 414/2500 [00:12<00:40, 51.89it/s]"
     ]
    },
    {
     "name": "stderr",
     "output_type": "stream",
     "text": [
      "\r",
      "Step 2/3 :  17%|█▋        | 414/2500 [00:12<00:40, 51.89it/s]"
     ]
    },
    {
     "name": "stderr",
     "output_type": "stream",
     "text": [
      "\r",
      "Step 2/3 :  17%|█▋        | 414/2500 [00:12<00:40, 51.89it/s]"
     ]
    },
    {
     "name": "stderr",
     "output_type": "stream",
     "text": [
      "\r",
      "Step 2/3 :  17%|█▋        | 414/2500 [00:12<00:40, 51.89it/s]"
     ]
    },
    {
     "name": "stderr",
     "output_type": "stream",
     "text": [
      "\r",
      "Step 2/3 :  17%|█▋        | 420/2500 [00:12<00:40, 51.17it/s]"
     ]
    },
    {
     "name": "stderr",
     "output_type": "stream",
     "text": [
      "\r",
      "Step 2/3 :  17%|█▋        | 420/2500 [00:12<00:40, 51.17it/s]"
     ]
    },
    {
     "name": "stderr",
     "output_type": "stream",
     "text": [
      "\r",
      "Step 2/3 :  17%|█▋        | 420/2500 [00:12<00:40, 51.17it/s]"
     ]
    },
    {
     "name": "stderr",
     "output_type": "stream",
     "text": [
      "\r",
      "Step 2/3 :  17%|█▋        | 420/2500 [00:12<00:40, 51.17it/s]"
     ]
    },
    {
     "name": "stderr",
     "output_type": "stream",
     "text": [
      "\r",
      "Step 2/3 :  17%|█▋        | 420/2500 [00:12<00:40, 51.17it/s]"
     ]
    },
    {
     "name": "stderr",
     "output_type": "stream",
     "text": [
      "\r",
      "Step 2/3 :  17%|█▋        | 420/2500 [00:12<00:40, 51.17it/s]"
     ]
    },
    {
     "name": "stderr",
     "output_type": "stream",
     "text": [
      "\r",
      "Step 2/3 :  17%|█▋        | 420/2500 [00:12<00:40, 51.17it/s]"
     ]
    },
    {
     "name": "stderr",
     "output_type": "stream",
     "text": [
      "\r",
      "Step 2/3 :  17%|█▋        | 426/2500 [00:12<00:41, 49.79it/s]"
     ]
    },
    {
     "name": "stderr",
     "output_type": "stream",
     "text": [
      "\r",
      "Step 2/3 :  17%|█▋        | 426/2500 [00:12<00:41, 49.79it/s]"
     ]
    },
    {
     "name": "stderr",
     "output_type": "stream",
     "text": [
      "\r",
      "Step 2/3 :  17%|█▋        | 426/2500 [00:12<00:41, 49.79it/s]"
     ]
    },
    {
     "name": "stderr",
     "output_type": "stream",
     "text": [
      "\r",
      "Step 2/3 :  17%|█▋        | 426/2500 [00:12<00:41, 49.79it/s]"
     ]
    },
    {
     "name": "stderr",
     "output_type": "stream",
     "text": [
      "\r",
      "Step 2/3 :  17%|█▋        | 426/2500 [00:12<00:41, 49.79it/s]"
     ]
    },
    {
     "name": "stderr",
     "output_type": "stream",
     "text": [
      "\r",
      "Step 2/3 :  17%|█▋        | 426/2500 [00:12<00:41, 49.79it/s]"
     ]
    },
    {
     "name": "stderr",
     "output_type": "stream",
     "text": [
      "\r",
      "Step 2/3 :  17%|█▋        | 431/2500 [00:12<00:42, 48.19it/s]"
     ]
    },
    {
     "name": "stderr",
     "output_type": "stream",
     "text": [
      "\r",
      "Step 2/3 :  17%|█▋        | 431/2500 [00:12<00:42, 48.19it/s]"
     ]
    },
    {
     "name": "stderr",
     "output_type": "stream",
     "text": [
      "\r",
      "Step 2/3 :  17%|█▋        | 431/2500 [00:12<00:42, 48.19it/s]"
     ]
    },
    {
     "name": "stderr",
     "output_type": "stream",
     "text": [
      "\r",
      "Step 2/3 :  17%|█▋        | 431/2500 [00:12<00:42, 48.19it/s]"
     ]
    },
    {
     "name": "stderr",
     "output_type": "stream",
     "text": [
      "\r",
      "Step 2/3 :  17%|█▋        | 431/2500 [00:12<00:42, 48.19it/s]"
     ]
    },
    {
     "name": "stderr",
     "output_type": "stream",
     "text": [
      "\r",
      "Step 2/3 :  17%|█▋        | 431/2500 [00:12<00:42, 48.19it/s]"
     ]
    },
    {
     "name": "stderr",
     "output_type": "stream",
     "text": [
      "\r",
      "Step 2/3 :  17%|█▋        | 436/2500 [00:12<00:43, 47.91it/s]"
     ]
    },
    {
     "name": "stderr",
     "output_type": "stream",
     "text": [
      "\r",
      "Step 2/3 :  17%|█▋        | 436/2500 [00:12<00:43, 47.91it/s]"
     ]
    },
    {
     "name": "stderr",
     "output_type": "stream",
     "text": [
      "\r",
      "Step 2/3 :  17%|█▋        | 436/2500 [00:12<00:43, 47.91it/s]"
     ]
    },
    {
     "name": "stderr",
     "output_type": "stream",
     "text": [
      "\r",
      "Step 2/3 :  17%|█▋        | 436/2500 [00:12<00:43, 47.91it/s]"
     ]
    },
    {
     "name": "stderr",
     "output_type": "stream",
     "text": [
      "\r",
      "Step 2/3 :  17%|█▋        | 436/2500 [00:12<00:43, 47.91it/s]"
     ]
    },
    {
     "name": "stderr",
     "output_type": "stream",
     "text": [
      "\r",
      "Step 2/3 :  17%|█▋        | 436/2500 [00:12<00:43, 47.91it/s]"
     ]
    },
    {
     "name": "stderr",
     "output_type": "stream",
     "text": [
      "\r",
      "Step 2/3 :  18%|█▊        | 441/2500 [00:12<00:42, 48.07it/s]"
     ]
    },
    {
     "name": "stderr",
     "output_type": "stream",
     "text": [
      "\r",
      "Step 2/3 :  18%|█▊        | 441/2500 [00:12<00:42, 48.07it/s]"
     ]
    },
    {
     "name": "stderr",
     "output_type": "stream",
     "text": [
      "\r",
      "Step 2/3 :  18%|█▊        | 441/2500 [00:12<00:42, 48.07it/s]"
     ]
    },
    {
     "name": "stderr",
     "output_type": "stream",
     "text": [
      "\r",
      "Step 2/3 :  18%|█▊        | 441/2500 [00:12<00:42, 48.07it/s]"
     ]
    },
    {
     "name": "stderr",
     "output_type": "stream",
     "text": [
      "\r",
      "Step 2/3 :  18%|█▊        | 441/2500 [00:12<00:42, 48.07it/s]"
     ]
    },
    {
     "name": "stderr",
     "output_type": "stream",
     "text": [
      "\r",
      "Step 2/3 :  18%|█▊        | 441/2500 [00:12<00:42, 48.07it/s]"
     ]
    },
    {
     "name": "stderr",
     "output_type": "stream",
     "text": [
      "\r",
      "Step 2/3 :  18%|█▊        | 446/2500 [00:12<00:43, 47.68it/s]"
     ]
    },
    {
     "name": "stderr",
     "output_type": "stream",
     "text": [
      "\r",
      "Step 2/3 :  18%|█▊        | 446/2500 [00:12<00:43, 47.68it/s]"
     ]
    },
    {
     "name": "stderr",
     "output_type": "stream",
     "text": [
      "\r",
      "Step 2/3 :  18%|█▊        | 446/2500 [00:12<00:43, 47.68it/s]"
     ]
    },
    {
     "name": "stderr",
     "output_type": "stream",
     "text": [
      "\r",
      "Step 2/3 :  18%|█▊        | 446/2500 [00:12<00:43, 47.68it/s]"
     ]
    },
    {
     "name": "stderr",
     "output_type": "stream",
     "text": [
      "\r",
      "Step 2/3 :  18%|█▊        | 446/2500 [00:12<00:43, 47.68it/s]"
     ]
    },
    {
     "name": "stderr",
     "output_type": "stream",
     "text": [
      "\r",
      "Step 2/3 :  18%|█▊        | 446/2500 [00:12<00:43, 47.68it/s]"
     ]
    },
    {
     "name": "stderr",
     "output_type": "stream",
     "text": [
      "\r",
      "Step 2/3 :  18%|█▊        | 446/2500 [00:12<00:43, 47.68it/s]"
     ]
    },
    {
     "name": "stderr",
     "output_type": "stream",
     "text": [
      "\r",
      "Step 2/3 :  18%|█▊        | 452/2500 [00:12<00:42, 48.55it/s]"
     ]
    },
    {
     "name": "stderr",
     "output_type": "stream",
     "text": [
      "\r",
      "Step 2/3 :  18%|█▊        | 452/2500 [00:12<00:42, 48.55it/s]"
     ]
    },
    {
     "name": "stderr",
     "output_type": "stream",
     "text": [
      "\r",
      "Step 2/3 :  18%|█▊        | 452/2500 [00:12<00:42, 48.55it/s]"
     ]
    },
    {
     "name": "stderr",
     "output_type": "stream",
     "text": [
      "\r",
      "Step 2/3 :  18%|█▊        | 452/2500 [00:12<00:42, 48.55it/s]"
     ]
    },
    {
     "name": "stderr",
     "output_type": "stream",
     "text": [
      "\r",
      "Step 2/3 :  18%|█▊        | 452/2500 [00:12<00:42, 48.55it/s]"
     ]
    },
    {
     "name": "stderr",
     "output_type": "stream",
     "text": [
      "\r",
      "Step 2/3 :  18%|█▊        | 452/2500 [00:12<00:42, 48.55it/s]"
     ]
    },
    {
     "name": "stderr",
     "output_type": "stream",
     "text": [
      "\r",
      "Step 2/3 :  18%|█▊        | 457/2500 [00:12<00:41, 48.81it/s]"
     ]
    },
    {
     "name": "stderr",
     "output_type": "stream",
     "text": [
      "\r",
      "Step 2/3 :  18%|█▊        | 457/2500 [00:12<00:41, 48.81it/s]"
     ]
    },
    {
     "name": "stderr",
     "output_type": "stream",
     "text": [
      "\r",
      "Step 2/3 :  18%|█▊        | 457/2500 [00:12<00:41, 48.81it/s]"
     ]
    },
    {
     "name": "stderr",
     "output_type": "stream",
     "text": [
      "\r",
      "Step 2/3 :  18%|█▊        | 457/2500 [00:12<00:41, 48.81it/s]"
     ]
    },
    {
     "name": "stderr",
     "output_type": "stream",
     "text": [
      "\r",
      "Step 2/3 :  18%|█▊        | 457/2500 [00:12<00:41, 48.81it/s]"
     ]
    },
    {
     "name": "stderr",
     "output_type": "stream",
     "text": [
      "\r",
      "Step 2/3 :  18%|█▊        | 457/2500 [00:12<00:41, 48.81it/s]"
     ]
    },
    {
     "name": "stderr",
     "output_type": "stream",
     "text": [
      "\r",
      "Step 2/3 :  18%|█▊        | 457/2500 [00:13<00:41, 48.81it/s]"
     ]
    },
    {
     "name": "stderr",
     "output_type": "stream",
     "text": [
      "\r",
      "Step 2/3 :  19%|█▊        | 463/2500 [00:13<00:41, 49.46it/s]"
     ]
    },
    {
     "name": "stderr",
     "output_type": "stream",
     "text": [
      "\r",
      "Step 2/3 :  19%|█▊        | 463/2500 [00:13<00:41, 49.46it/s]"
     ]
    },
    {
     "name": "stderr",
     "output_type": "stream",
     "text": [
      "\r",
      "Step 2/3 :  19%|█▊        | 463/2500 [00:13<00:41, 49.46it/s]"
     ]
    },
    {
     "name": "stderr",
     "output_type": "stream",
     "text": [
      "\r",
      "Step 2/3 :  19%|█▊        | 463/2500 [00:13<00:41, 49.46it/s]"
     ]
    },
    {
     "name": "stderr",
     "output_type": "stream",
     "text": [
      "\r",
      "Step 2/3 :  19%|█▊        | 463/2500 [00:13<00:41, 49.46it/s]"
     ]
    },
    {
     "name": "stderr",
     "output_type": "stream",
     "text": [
      "\r",
      "Step 2/3 :  19%|█▊        | 463/2500 [00:13<00:41, 49.46it/s]"
     ]
    },
    {
     "name": "stderr",
     "output_type": "stream",
     "text": [
      "\r",
      "Step 2/3 :  19%|█▊        | 463/2500 [00:13<00:41, 49.46it/s]"
     ]
    },
    {
     "name": "stderr",
     "output_type": "stream",
     "text": [
      "\r",
      "Step 2/3 :  19%|█▉        | 469/2500 [00:13<00:40, 50.02it/s]"
     ]
    },
    {
     "name": "stderr",
     "output_type": "stream",
     "text": [
      "\r",
      "Step 2/3 :  19%|█▉        | 469/2500 [00:13<00:40, 50.02it/s]"
     ]
    },
    {
     "name": "stderr",
     "output_type": "stream",
     "text": [
      "\r",
      "Step 2/3 :  19%|█▉        | 469/2500 [00:13<00:40, 50.02it/s]"
     ]
    },
    {
     "name": "stderr",
     "output_type": "stream",
     "text": [
      "\r",
      "Step 2/3 :  19%|█▉        | 469/2500 [00:13<00:40, 50.02it/s]"
     ]
    },
    {
     "name": "stderr",
     "output_type": "stream",
     "text": [
      "\r",
      "Step 2/3 :  19%|█▉        | 469/2500 [00:13<00:40, 50.02it/s]"
     ]
    },
    {
     "name": "stderr",
     "output_type": "stream",
     "text": [
      "\r",
      "Step 2/3 :  19%|█▉        | 469/2500 [00:13<00:40, 50.02it/s]"
     ]
    },
    {
     "name": "stderr",
     "output_type": "stream",
     "text": [
      "\r",
      "Step 2/3 :  19%|█▉        | 474/2500 [00:13<00:40, 49.61it/s]"
     ]
    },
    {
     "name": "stderr",
     "output_type": "stream",
     "text": [
      "\r",
      "Step 2/3 :  19%|█▉        | 474/2500 [00:13<00:40, 49.61it/s]"
     ]
    },
    {
     "name": "stderr",
     "output_type": "stream",
     "text": [
      "\r",
      "Step 2/3 :  19%|█▉        | 474/2500 [00:13<00:40, 49.61it/s]"
     ]
    },
    {
     "name": "stderr",
     "output_type": "stream",
     "text": [
      "\r",
      "Step 2/3 :  19%|█▉        | 474/2500 [00:13<00:40, 49.61it/s]"
     ]
    },
    {
     "name": "stderr",
     "output_type": "stream",
     "text": [
      "\r",
      "Step 2/3 :  19%|█▉        | 474/2500 [00:13<00:40, 49.61it/s]"
     ]
    },
    {
     "name": "stderr",
     "output_type": "stream",
     "text": [
      "\r",
      "Step 2/3 :  19%|█▉        | 474/2500 [00:13<00:40, 49.61it/s]"
     ]
    },
    {
     "name": "stderr",
     "output_type": "stream",
     "text": [
      "\r",
      "Step 2/3 :  19%|█▉        | 479/2500 [00:13<00:41, 49.17it/s]"
     ]
    },
    {
     "name": "stderr",
     "output_type": "stream",
     "text": [
      "\r",
      "Step 2/3 :  19%|█▉        | 479/2500 [00:13<00:41, 49.17it/s]"
     ]
    },
    {
     "name": "stderr",
     "output_type": "stream",
     "text": [
      "\r",
      "Step 2/3 :  19%|█▉        | 479/2500 [00:13<00:41, 49.17it/s]"
     ]
    },
    {
     "name": "stderr",
     "output_type": "stream",
     "text": [
      "\r",
      "Step 2/3 :  19%|█▉        | 479/2500 [00:13<00:41, 49.17it/s]"
     ]
    },
    {
     "name": "stderr",
     "output_type": "stream",
     "text": [
      "\r",
      "Step 2/3 :  19%|█▉        | 479/2500 [00:13<00:41, 49.17it/s]"
     ]
    },
    {
     "name": "stderr",
     "output_type": "stream",
     "text": [
      "\r",
      "Step 2/3 :  19%|█▉        | 479/2500 [00:13<00:41, 49.17it/s]"
     ]
    },
    {
     "name": "stderr",
     "output_type": "stream",
     "text": [
      "\r",
      "Step 2/3 :  19%|█▉        | 479/2500 [00:13<00:41, 49.17it/s]"
     ]
    },
    {
     "name": "stderr",
     "output_type": "stream",
     "text": [
      "\r",
      "Step 2/3 :  19%|█▉        | 485/2500 [00:13<00:40, 49.84it/s]"
     ]
    },
    {
     "name": "stderr",
     "output_type": "stream",
     "text": [
      "\r",
      "Step 2/3 :  19%|█▉        | 485/2500 [00:13<00:40, 49.84it/s]"
     ]
    },
    {
     "name": "stderr",
     "output_type": "stream",
     "text": [
      "\r",
      "Step 2/3 :  19%|█▉        | 485/2500 [00:13<00:40, 49.84it/s]"
     ]
    },
    {
     "name": "stderr",
     "output_type": "stream",
     "text": [
      "\r",
      "Step 2/3 :  19%|█▉        | 485/2500 [00:13<00:40, 49.84it/s]"
     ]
    },
    {
     "name": "stderr",
     "output_type": "stream",
     "text": [
      "\r",
      "Step 2/3 :  19%|█▉        | 485/2500 [00:13<00:40, 49.84it/s]"
     ]
    },
    {
     "name": "stderr",
     "output_type": "stream",
     "text": [
      "\r",
      "Step 2/3 :  19%|█▉        | 485/2500 [00:13<00:40, 49.84it/s]"
     ]
    },
    {
     "name": "stderr",
     "output_type": "stream",
     "text": [
      "\r",
      "Step 2/3 :  19%|█▉        | 485/2500 [00:13<00:40, 49.84it/s]"
     ]
    },
    {
     "name": "stderr",
     "output_type": "stream",
     "text": [
      "\r",
      "Step 2/3 :  20%|█▉        | 491/2500 [00:13<00:39, 50.29it/s]"
     ]
    },
    {
     "name": "stderr",
     "output_type": "stream",
     "text": [
      "\r",
      "Step 2/3 :  20%|█▉        | 491/2500 [00:13<00:39, 50.29it/s]"
     ]
    },
    {
     "name": "stderr",
     "output_type": "stream",
     "text": [
      "\r",
      "Step 2/3 :  20%|█▉        | 491/2500 [00:13<00:39, 50.29it/s]"
     ]
    },
    {
     "name": "stderr",
     "output_type": "stream",
     "text": [
      "\r",
      "Step 2/3 :  20%|█▉        | 491/2500 [00:13<00:39, 50.29it/s]"
     ]
    },
    {
     "name": "stderr",
     "output_type": "stream",
     "text": [
      "\r",
      "Step 2/3 :  20%|█▉        | 491/2500 [00:13<00:39, 50.29it/s]"
     ]
    },
    {
     "name": "stderr",
     "output_type": "stream",
     "text": [
      "\r",
      "Step 2/3 :  20%|█▉        | 491/2500 [00:13<00:39, 50.29it/s]"
     ]
    },
    {
     "name": "stderr",
     "output_type": "stream",
     "text": [
      "\r",
      "Step 2/3 :  20%|█▉        | 491/2500 [00:13<00:39, 50.29it/s]"
     ]
    },
    {
     "name": "stderr",
     "output_type": "stream",
     "text": [
      "\r",
      "Step 2/3 :  20%|█▉        | 497/2500 [00:13<00:39, 50.46it/s]"
     ]
    },
    {
     "name": "stderr",
     "output_type": "stream",
     "text": [
      "\r",
      "Step 2/3 :  20%|█▉        | 497/2500 [00:13<00:39, 50.46it/s]"
     ]
    },
    {
     "name": "stderr",
     "output_type": "stream",
     "text": [
      "\r",
      "Step 2/3 :  20%|█▉        | 497/2500 [00:13<00:39, 50.46it/s]"
     ]
    },
    {
     "name": "stderr",
     "output_type": "stream",
     "text": [
      "\r",
      "Step 2/3 :  20%|█▉        | 497/2500 [00:13<00:39, 50.46it/s]"
     ]
    },
    {
     "name": "stderr",
     "output_type": "stream",
     "text": [
      "\r",
      "Step 3/3 :  20%|█▉        | 497/2500 [00:13<00:39, 50.46it/s]"
     ]
    },
    {
     "name": "stderr",
     "output_type": "stream",
     "text": [
      "\r",
      "Step 3/3 :  20%|█▉        | 497/2500 [00:13<00:39, 50.46it/s]"
     ]
    },
    {
     "name": "stderr",
     "output_type": "stream",
     "text": [
      "\r",
      "Step 3/3 :  20%|█▉        | 497/2500 [00:13<00:39, 50.46it/s]"
     ]
    },
    {
     "name": "stderr",
     "output_type": "stream",
     "text": [
      "\r",
      "Step 3/3 :  20%|██        | 503/2500 [00:13<00:41, 48.56it/s]"
     ]
    },
    {
     "name": "stderr",
     "output_type": "stream",
     "text": [
      "\r",
      "Step 3/3 :  20%|██        | 503/2500 [00:13<00:41, 48.56it/s]"
     ]
    },
    {
     "name": "stderr",
     "output_type": "stream",
     "text": [
      "\r",
      "Step 3/3 :  20%|██        | 503/2500 [00:13<00:41, 48.56it/s]"
     ]
    },
    {
     "name": "stderr",
     "output_type": "stream",
     "text": [
      "\r",
      "Step 3/3 :  20%|██        | 503/2500 [00:13<00:41, 48.56it/s]"
     ]
    },
    {
     "name": "stderr",
     "output_type": "stream",
     "text": [
      "\r",
      "Step 3/3 :  20%|██        | 503/2500 [00:13<00:41, 48.56it/s]"
     ]
    },
    {
     "name": "stderr",
     "output_type": "stream",
     "text": [
      "\r",
      "Step 3/3 :  20%|██        | 503/2500 [00:13<00:41, 48.56it/s]"
     ]
    },
    {
     "name": "stderr",
     "output_type": "stream",
     "text": [
      "\r",
      "Step 3/3 :  20%|██        | 508/2500 [00:13<00:41, 47.56it/s]"
     ]
    },
    {
     "name": "stderr",
     "output_type": "stream",
     "text": [
      "\r",
      "Step 3/3 :  20%|██        | 508/2500 [00:13<00:41, 47.56it/s]"
     ]
    },
    {
     "name": "stderr",
     "output_type": "stream",
     "text": [
      "\r",
      "Step 3/3 :  20%|██        | 508/2500 [00:13<00:41, 47.56it/s]"
     ]
    },
    {
     "name": "stderr",
     "output_type": "stream",
     "text": [
      "\r",
      "Step 3/3 :  20%|██        | 508/2500 [00:13<00:41, 47.56it/s]"
     ]
    },
    {
     "name": "stderr",
     "output_type": "stream",
     "text": [
      "\r",
      "Step 3/3 :  20%|██        | 508/2500 [00:14<00:41, 47.56it/s]"
     ]
    },
    {
     "name": "stderr",
     "output_type": "stream",
     "text": [
      "\r",
      "Step 3/3 :  20%|██        | 508/2500 [00:14<00:41, 47.56it/s]"
     ]
    },
    {
     "name": "stderr",
     "output_type": "stream",
     "text": [
      "\r",
      "Step 3/3 :  21%|██        | 513/2500 [00:14<00:42, 46.59it/s]"
     ]
    },
    {
     "name": "stderr",
     "output_type": "stream",
     "text": [
      "\r",
      "Step 3/3 :  21%|██        | 513/2500 [00:14<00:42, 46.59it/s]"
     ]
    },
    {
     "name": "stderr",
     "output_type": "stream",
     "text": [
      "\r",
      "Step 3/3 :  21%|██        | 513/2500 [00:14<00:42, 46.59it/s]"
     ]
    },
    {
     "name": "stderr",
     "output_type": "stream",
     "text": [
      "\r",
      "Step 3/3 :  21%|██        | 513/2500 [00:14<00:42, 46.59it/s]"
     ]
    },
    {
     "name": "stderr",
     "output_type": "stream",
     "text": [
      "\r",
      "Step 3/3 :  21%|██        | 513/2500 [00:14<00:42, 46.59it/s]"
     ]
    },
    {
     "name": "stderr",
     "output_type": "stream",
     "text": [
      "\r",
      "Step 3/3 :  21%|██        | 513/2500 [00:14<00:42, 46.59it/s]"
     ]
    },
    {
     "name": "stderr",
     "output_type": "stream",
     "text": [
      "\r",
      "Step 3/3 :  21%|██        | 518/2500 [00:14<00:42, 47.13it/s]"
     ]
    },
    {
     "name": "stderr",
     "output_type": "stream",
     "text": [
      "\r",
      "Step 3/3 :  21%|██        | 518/2500 [00:14<00:42, 47.13it/s]"
     ]
    },
    {
     "name": "stderr",
     "output_type": "stream",
     "text": [
      "\r",
      "Step 3/3 :  21%|██        | 518/2500 [00:14<00:42, 47.13it/s]"
     ]
    },
    {
     "name": "stderr",
     "output_type": "stream",
     "text": [
      "\r",
      "Step 3/3 :  21%|██        | 518/2500 [00:14<00:42, 47.13it/s]"
     ]
    },
    {
     "name": "stderr",
     "output_type": "stream",
     "text": [
      "\r",
      "Step 3/3 :  21%|██        | 518/2500 [00:14<00:42, 47.13it/s]"
     ]
    },
    {
     "name": "stderr",
     "output_type": "stream",
     "text": [
      "\r",
      "Step 3/3 :  21%|██        | 518/2500 [00:14<00:42, 47.13it/s]"
     ]
    },
    {
     "name": "stderr",
     "output_type": "stream",
     "text": [
      "\r",
      "Step 3/3 :  21%|██        | 523/2500 [00:14<00:43, 45.77it/s]"
     ]
    },
    {
     "name": "stderr",
     "output_type": "stream",
     "text": [
      "\r",
      "Step 3/3 :  21%|██        | 523/2500 [00:14<00:43, 45.77it/s]"
     ]
    },
    {
     "name": "stderr",
     "output_type": "stream",
     "text": [
      "\r",
      "Step 3/3 :  21%|██        | 523/2500 [00:14<00:43, 45.77it/s]"
     ]
    },
    {
     "name": "stderr",
     "output_type": "stream",
     "text": [
      "\r",
      "Step 3/3 :  21%|██        | 523/2500 [00:14<00:43, 45.77it/s]"
     ]
    },
    {
     "name": "stderr",
     "output_type": "stream",
     "text": [
      "\r",
      "Step 3/3 :  21%|██        | 523/2500 [00:14<00:43, 45.77it/s]"
     ]
    },
    {
     "name": "stderr",
     "output_type": "stream",
     "text": [
      "\r",
      "Step 3/3 :  21%|██        | 523/2500 [00:14<00:43, 45.77it/s]"
     ]
    },
    {
     "name": "stderr",
     "output_type": "stream",
     "text": [
      "\r",
      "Step 3/3 :  21%|██        | 528/2500 [00:14<00:44, 44.04it/s]"
     ]
    },
    {
     "name": "stderr",
     "output_type": "stream",
     "text": [
      "\r",
      "Step 3/3 :  21%|██        | 528/2500 [00:14<00:44, 44.04it/s]"
     ]
    },
    {
     "name": "stderr",
     "output_type": "stream",
     "text": [
      "\r",
      "Step 3/3 :  21%|██        | 528/2500 [00:14<00:44, 44.04it/s]"
     ]
    },
    {
     "name": "stderr",
     "output_type": "stream",
     "text": [
      "\r",
      "Step 3/3 :  21%|██        | 528/2500 [00:14<00:44, 44.04it/s]"
     ]
    },
    {
     "name": "stderr",
     "output_type": "stream",
     "text": [
      "\r",
      "Step 3/3 :  21%|██        | 528/2500 [00:14<00:44, 44.04it/s]"
     ]
    },
    {
     "name": "stderr",
     "output_type": "stream",
     "text": [
      "\r",
      "Step 3/3 :  21%|██        | 528/2500 [00:14<00:44, 44.04it/s]"
     ]
    },
    {
     "name": "stderr",
     "output_type": "stream",
     "text": [
      "\r",
      "Step 3/3 :  21%|██▏       | 533/2500 [00:14<00:43, 45.39it/s]"
     ]
    },
    {
     "name": "stderr",
     "output_type": "stream",
     "text": [
      "\r",
      "Step 3/3 :  21%|██▏       | 533/2500 [00:14<00:43, 45.39it/s]"
     ]
    },
    {
     "name": "stderr",
     "output_type": "stream",
     "text": [
      "\r",
      "Step 3/3 :  21%|██▏       | 533/2500 [00:14<00:43, 45.39it/s]"
     ]
    },
    {
     "name": "stderr",
     "output_type": "stream",
     "text": [
      "\r",
      "Step 3/3 :  21%|██▏       | 533/2500 [00:14<00:43, 45.39it/s]"
     ]
    },
    {
     "name": "stderr",
     "output_type": "stream",
     "text": [
      "\r",
      "Step 3/3 :  21%|██▏       | 533/2500 [00:14<00:43, 45.39it/s]"
     ]
    },
    {
     "name": "stderr",
     "output_type": "stream",
     "text": [
      "\r",
      "Step 3/3 :  21%|██▏       | 533/2500 [00:14<00:43, 45.39it/s]"
     ]
    },
    {
     "name": "stderr",
     "output_type": "stream",
     "text": [
      "\r",
      "Step 3/3 :  22%|██▏       | 538/2500 [00:14<00:42, 46.16it/s]"
     ]
    },
    {
     "name": "stderr",
     "output_type": "stream",
     "text": [
      "\r",
      "Step 3/3 :  22%|██▏       | 538/2500 [00:14<00:42, 46.16it/s]"
     ]
    },
    {
     "name": "stderr",
     "output_type": "stream",
     "text": [
      "\r",
      "Step 3/3 :  22%|██▏       | 538/2500 [00:14<00:42, 46.16it/s]"
     ]
    },
    {
     "name": "stderr",
     "output_type": "stream",
     "text": [
      "\r",
      "Step 3/3 :  22%|██▏       | 538/2500 [00:14<00:42, 46.16it/s]"
     ]
    },
    {
     "name": "stderr",
     "output_type": "stream",
     "text": [
      "\r",
      "Step 3/3 :  22%|██▏       | 538/2500 [00:14<00:42, 46.16it/s]"
     ]
    },
    {
     "name": "stderr",
     "output_type": "stream",
     "text": [
      "\r",
      "Step 3/3 :  22%|██▏       | 538/2500 [00:14<00:42, 46.16it/s]"
     ]
    },
    {
     "name": "stderr",
     "output_type": "stream",
     "text": [
      "\r",
      "Step 3/3 :  22%|██▏       | 543/2500 [00:14<00:42, 46.58it/s]"
     ]
    },
    {
     "name": "stderr",
     "output_type": "stream",
     "text": [
      "\r",
      "Step 3/3 :  22%|██▏       | 543/2500 [00:14<00:42, 46.58it/s]"
     ]
    },
    {
     "name": "stderr",
     "output_type": "stream",
     "text": [
      "\r",
      "Step 3/3 :  22%|██▏       | 543/2500 [00:14<00:42, 46.58it/s]"
     ]
    },
    {
     "name": "stderr",
     "output_type": "stream",
     "text": [
      "\r",
      "Step 3/3 :  22%|██▏       | 543/2500 [00:14<00:42, 46.58it/s]"
     ]
    },
    {
     "name": "stderr",
     "output_type": "stream",
     "text": [
      "\r",
      "Step 3/3 :  22%|██▏       | 543/2500 [00:14<00:42, 46.58it/s]"
     ]
    },
    {
     "name": "stderr",
     "output_type": "stream",
     "text": [
      "\r",
      "Step 3/3 :  22%|██▏       | 543/2500 [00:14<00:42, 46.58it/s]"
     ]
    },
    {
     "name": "stderr",
     "output_type": "stream",
     "text": [
      "\r",
      "Step 3/3 :  22%|██▏       | 543/2500 [00:14<00:42, 46.58it/s]"
     ]
    },
    {
     "name": "stderr",
     "output_type": "stream",
     "text": [
      "\r",
      "Step 3/3 :  22%|██▏       | 549/2500 [00:14<00:41, 47.55it/s]"
     ]
    },
    {
     "name": "stderr",
     "output_type": "stream",
     "text": [
      "\r",
      "Step 3/3 :  22%|██▏       | 549/2500 [00:14<00:41, 47.55it/s]"
     ]
    },
    {
     "name": "stderr",
     "output_type": "stream",
     "text": [
      "\r",
      "Step 3/3 :  22%|██▏       | 549/2500 [00:14<00:41, 47.55it/s]"
     ]
    },
    {
     "name": "stderr",
     "output_type": "stream",
     "text": [
      "\r",
      "Step 3/3 :  22%|██▏       | 549/2500 [00:14<00:41, 47.55it/s]"
     ]
    },
    {
     "name": "stderr",
     "output_type": "stream",
     "text": [
      "\r",
      "Step 3/3 :  22%|██▏       | 549/2500 [00:14<00:41, 47.55it/s]"
     ]
    },
    {
     "name": "stderr",
     "output_type": "stream",
     "text": [
      "\r",
      "Step 3/3 :  22%|██▏       | 549/2500 [00:14<00:41, 47.55it/s]"
     ]
    },
    {
     "name": "stderr",
     "output_type": "stream",
     "text": [
      "\r",
      "Step 3/3 :  22%|██▏       | 549/2500 [00:14<00:41, 47.55it/s]"
     ]
    },
    {
     "name": "stderr",
     "output_type": "stream",
     "text": [
      "\r",
      "Step 3/3 :  22%|██▏       | 555/2500 [00:14<00:40, 48.51it/s]"
     ]
    },
    {
     "name": "stderr",
     "output_type": "stream",
     "text": [
      "\r",
      "Step 3/3 :  22%|██▏       | 555/2500 [00:14<00:40, 48.51it/s]"
     ]
    },
    {
     "name": "stderr",
     "output_type": "stream",
     "text": [
      "\r",
      "Step 3/3 :  22%|██▏       | 555/2500 [00:14<00:40, 48.51it/s]"
     ]
    },
    {
     "name": "stderr",
     "output_type": "stream",
     "text": [
      "\r",
      "Step 3/3 :  22%|██▏       | 555/2500 [00:14<00:40, 48.51it/s]"
     ]
    },
    {
     "name": "stderr",
     "output_type": "stream",
     "text": [
      "\r",
      "Step 3/3 :  22%|██▏       | 555/2500 [00:15<00:40, 48.51it/s]"
     ]
    },
    {
     "name": "stderr",
     "output_type": "stream",
     "text": [
      "\r",
      "Step 3/3 :  22%|██▏       | 555/2500 [00:15<00:40, 48.51it/s]"
     ]
    },
    {
     "name": "stderr",
     "output_type": "stream",
     "text": [
      "\r",
      "Step 3/3 :  22%|██▏       | 555/2500 [00:15<00:40, 48.51it/s]"
     ]
    },
    {
     "name": "stderr",
     "output_type": "stream",
     "text": [
      "\r",
      "Step 3/3 :  22%|██▏       | 561/2500 [00:15<00:39, 49.36it/s]"
     ]
    },
    {
     "name": "stderr",
     "output_type": "stream",
     "text": [
      "\r",
      "Step 3/3 :  22%|██▏       | 561/2500 [00:15<00:39, 49.36it/s]"
     ]
    },
    {
     "name": "stderr",
     "output_type": "stream",
     "text": [
      "\r",
      "Step 3/3 :  22%|██▏       | 561/2500 [00:15<00:39, 49.36it/s]"
     ]
    },
    {
     "name": "stderr",
     "output_type": "stream",
     "text": [
      "\r",
      "Step 3/3 :  22%|██▏       | 561/2500 [00:15<00:39, 49.36it/s]"
     ]
    },
    {
     "name": "stderr",
     "output_type": "stream",
     "text": [
      "\r",
      "Step 3/3 :  22%|██▏       | 561/2500 [00:15<00:39, 49.36it/s]"
     ]
    },
    {
     "name": "stderr",
     "output_type": "stream",
     "text": [
      "\r",
      "Step 3/3 :  22%|██▏       | 561/2500 [00:15<00:39, 49.36it/s]"
     ]
    },
    {
     "name": "stderr",
     "output_type": "stream",
     "text": [
      "\r",
      "Step 3/3 :  23%|██▎       | 566/2500 [00:15<00:40, 48.22it/s]"
     ]
    },
    {
     "name": "stderr",
     "output_type": "stream",
     "text": [
      "\r",
      "Step 3/3 :  23%|██▎       | 566/2500 [00:15<00:40, 48.22it/s]"
     ]
    },
    {
     "name": "stderr",
     "output_type": "stream",
     "text": [
      "\r",
      "Step 3/3 :  23%|██▎       | 566/2500 [00:15<00:40, 48.22it/s]"
     ]
    },
    {
     "name": "stderr",
     "output_type": "stream",
     "text": [
      "\r",
      "Step 3/3 :  23%|██▎       | 566/2500 [00:15<00:40, 48.22it/s]"
     ]
    },
    {
     "name": "stderr",
     "output_type": "stream",
     "text": [
      "\r",
      "Step 3/3 :  23%|██▎       | 566/2500 [00:15<00:40, 48.22it/s]"
     ]
    },
    {
     "name": "stderr",
     "output_type": "stream",
     "text": [
      "\r",
      "Step 3/3 :  23%|██▎       | 566/2500 [00:15<00:40, 48.22it/s]"
     ]
    },
    {
     "name": "stderr",
     "output_type": "stream",
     "text": [
      "\r",
      "Step 3/3 :  23%|██▎       | 571/2500 [00:15<00:40, 48.05it/s]"
     ]
    },
    {
     "name": "stderr",
     "output_type": "stream",
     "text": [
      "\r",
      "Step 3/3 :  23%|██▎       | 571/2500 [00:15<00:40, 48.05it/s]"
     ]
    },
    {
     "name": "stderr",
     "output_type": "stream",
     "text": [
      "\r",
      "Step 3/3 :  23%|██▎       | 571/2500 [00:15<00:40, 48.05it/s]"
     ]
    },
    {
     "name": "stderr",
     "output_type": "stream",
     "text": [
      "\r",
      "Step 3/3 :  23%|██▎       | 571/2500 [00:15<00:40, 48.05it/s]"
     ]
    },
    {
     "name": "stderr",
     "output_type": "stream",
     "text": [
      "\r",
      "Step 3/3 :  23%|██▎       | 571/2500 [00:15<00:40, 48.05it/s]"
     ]
    },
    {
     "name": "stderr",
     "output_type": "stream",
     "text": [
      "\r",
      "Step 3/3 :  23%|██▎       | 571/2500 [00:15<00:40, 48.05it/s]"
     ]
    },
    {
     "name": "stderr",
     "output_type": "stream",
     "text": [
      "\r",
      "Step 3/3 :  23%|██▎       | 576/2500 [00:15<00:39, 48.45it/s]"
     ]
    },
    {
     "name": "stderr",
     "output_type": "stream",
     "text": [
      "\r",
      "Step 3/3 :  23%|██▎       | 576/2500 [00:15<00:39, 48.45it/s]"
     ]
    },
    {
     "name": "stderr",
     "output_type": "stream",
     "text": [
      "\r",
      "Step 3/3 :  23%|██▎       | 576/2500 [00:15<00:39, 48.45it/s]"
     ]
    },
    {
     "name": "stderr",
     "output_type": "stream",
     "text": [
      "\r",
      "Step 3/3 :  23%|██▎       | 576/2500 [00:15<00:39, 48.45it/s]"
     ]
    },
    {
     "name": "stderr",
     "output_type": "stream",
     "text": [
      "\r",
      "Step 3/3 :  23%|██▎       | 576/2500 [00:15<00:39, 48.45it/s]"
     ]
    },
    {
     "name": "stderr",
     "output_type": "stream",
     "text": [
      "\r",
      "Step 3/3 :  23%|██▎       | 576/2500 [00:15<00:39, 48.45it/s]"
     ]
    },
    {
     "name": "stderr",
     "output_type": "stream",
     "text": [
      "\r",
      "Step 3/3 :  23%|██▎       | 576/2500 [00:15<00:39, 48.45it/s]"
     ]
    },
    {
     "name": "stderr",
     "output_type": "stream",
     "text": [
      "\r",
      "Step 3/3 :  23%|██▎       | 582/2500 [00:15<00:38, 49.35it/s]"
     ]
    },
    {
     "name": "stderr",
     "output_type": "stream",
     "text": [
      "\r",
      "Step 3/3 :  23%|██▎       | 582/2500 [00:15<00:38, 49.35it/s]"
     ]
    },
    {
     "name": "stderr",
     "output_type": "stream",
     "text": [
      "\r",
      "Step 3/3 :  23%|██▎       | 582/2500 [00:15<00:38, 49.35it/s]"
     ]
    },
    {
     "name": "stderr",
     "output_type": "stream",
     "text": [
      "\r",
      "Step 3/3 :  23%|██▎       | 582/2500 [00:15<00:38, 49.35it/s]"
     ]
    },
    {
     "name": "stderr",
     "output_type": "stream",
     "text": [
      "\r",
      "Step 3/3 :  23%|██▎       | 582/2500 [00:15<00:38, 49.35it/s]"
     ]
    },
    {
     "name": "stderr",
     "output_type": "stream",
     "text": [
      "\r",
      "Step 3/3 :  23%|██▎       | 582/2500 [00:15<00:38, 49.35it/s]"
     ]
    },
    {
     "name": "stderr",
     "output_type": "stream",
     "text": [
      "\r",
      "Step 3/3 :  23%|██▎       | 582/2500 [00:15<00:38, 49.35it/s]"
     ]
    },
    {
     "name": "stderr",
     "output_type": "stream",
     "text": [
      "\r",
      "Step 3/3 :  24%|██▎       | 588/2500 [00:15<00:38, 49.82it/s]"
     ]
    },
    {
     "name": "stderr",
     "output_type": "stream",
     "text": [
      "\r",
      "Step 3/3 :  24%|██▎       | 588/2500 [00:15<00:38, 49.82it/s]"
     ]
    },
    {
     "name": "stderr",
     "output_type": "stream",
     "text": [
      "\r",
      "Step 3/3 :  24%|██▎       | 588/2500 [00:15<00:38, 49.82it/s]"
     ]
    },
    {
     "name": "stderr",
     "output_type": "stream",
     "text": [
      "\r",
      "Step 3/3 :  24%|██▎       | 588/2500 [00:15<00:38, 49.82it/s]"
     ]
    },
    {
     "name": "stderr",
     "output_type": "stream",
     "text": [
      "\r",
      "Step 3/3 :  24%|██▎       | 588/2500 [00:15<00:38, 49.82it/s]"
     ]
    },
    {
     "name": "stderr",
     "output_type": "stream",
     "text": [
      "\r",
      "Step 3/3 :  24%|██▎       | 588/2500 [00:15<00:38, 49.82it/s]"
     ]
    },
    {
     "name": "stderr",
     "output_type": "stream",
     "text": [
      "\r",
      "Step 3/3 :  24%|██▎       | 588/2500 [00:15<00:38, 49.82it/s]"
     ]
    },
    {
     "name": "stderr",
     "output_type": "stream",
     "text": [
      "\r",
      "Step 3/3 :  24%|██▍       | 594/2500 [00:15<00:38, 50.14it/s]"
     ]
    },
    {
     "name": "stderr",
     "output_type": "stream",
     "text": [
      "\r",
      "Step 3/3 :  24%|██▍       | 594/2500 [00:15<00:38, 50.14it/s]"
     ]
    },
    {
     "name": "stderr",
     "output_type": "stream",
     "text": [
      "\r",
      "Step 3/3 :  24%|██▍       | 594/2500 [00:15<00:38, 50.14it/s]"
     ]
    },
    {
     "name": "stderr",
     "output_type": "stream",
     "text": [
      "\r",
      "Step 3/3 :  24%|██▍       | 594/2500 [00:15<00:38, 50.14it/s]"
     ]
    },
    {
     "name": "stderr",
     "output_type": "stream",
     "text": [
      "\r",
      "Step 3/3 :  24%|██▍       | 594/2500 [00:15<00:38, 50.14it/s]"
     ]
    },
    {
     "name": "stderr",
     "output_type": "stream",
     "text": [
      "\r",
      "Step 3/3 :  24%|██▍       | 594/2500 [00:15<00:38, 50.14it/s]"
     ]
    },
    {
     "name": "stderr",
     "output_type": "stream",
     "text": [
      "\r",
      "Step 3/3 :  24%|██▍       | 594/2500 [00:15<00:38, 50.14it/s]"
     ]
    },
    {
     "name": "stderr",
     "output_type": "stream",
     "text": [
      "\r",
      "Step 3/3 :  24%|██▍       | 600/2500 [00:15<00:37, 50.75it/s]"
     ]
    },
    {
     "name": "stderr",
     "output_type": "stream",
     "text": [
      "\r",
      "Step 3/3 :  24%|██▍       | 600/2500 [00:15<00:37, 50.75it/s]"
     ]
    },
    {
     "name": "stderr",
     "output_type": "stream",
     "text": [
      "\r",
      "Step 3/3 :  24%|██▍       | 600/2500 [00:15<00:37, 50.75it/s]"
     ]
    },
    {
     "name": "stderr",
     "output_type": "stream",
     "text": [
      "\r",
      "Step 3/3 :  24%|██▍       | 600/2500 [00:15<00:37, 50.75it/s]"
     ]
    },
    {
     "name": "stderr",
     "output_type": "stream",
     "text": [
      "\r",
      "Step 3/3 :  24%|██▍       | 600/2500 [00:15<00:37, 50.75it/s]"
     ]
    },
    {
     "name": "stderr",
     "output_type": "stream",
     "text": [
      "\r",
      "Step 3/3 :  24%|██▍       | 600/2500 [00:15<00:37, 50.75it/s]"
     ]
    },
    {
     "name": "stderr",
     "output_type": "stream",
     "text": [
      "\r",
      "Step 3/3 :  24%|██▍       | 600/2500 [00:15<00:37, 50.75it/s]"
     ]
    },
    {
     "name": "stderr",
     "output_type": "stream",
     "text": [
      "\r",
      "Step 3/3 :  24%|██▍       | 606/2500 [00:15<00:37, 50.78it/s]"
     ]
    },
    {
     "name": "stderr",
     "output_type": "stream",
     "text": [
      "\r",
      "Step 3/3 :  24%|██▍       | 606/2500 [00:15<00:37, 50.78it/s]"
     ]
    },
    {
     "name": "stderr",
     "output_type": "stream",
     "text": [
      "\r",
      "Step 3/3 :  24%|██▍       | 606/2500 [00:15<00:37, 50.78it/s]"
     ]
    },
    {
     "name": "stderr",
     "output_type": "stream",
     "text": [
      "\r",
      "Step 3/3 :  24%|██▍       | 606/2500 [00:16<00:37, 50.78it/s]"
     ]
    },
    {
     "name": "stderr",
     "output_type": "stream",
     "text": [
      "\r",
      "Step 3/3 :  24%|██▍       | 606/2500 [00:16<00:37, 50.78it/s]"
     ]
    },
    {
     "name": "stderr",
     "output_type": "stream",
     "text": [
      "\r",
      "Step 3/3 :  24%|██▍       | 606/2500 [00:16<00:37, 50.78it/s]"
     ]
    },
    {
     "name": "stderr",
     "output_type": "stream",
     "text": [
      "\r",
      "Step 3/3 :  24%|██▍       | 606/2500 [00:16<00:37, 50.78it/s]"
     ]
    },
    {
     "name": "stderr",
     "output_type": "stream",
     "text": [
      "\r",
      "Step 3/3 :  24%|██▍       | 612/2500 [00:16<00:37, 50.54it/s]"
     ]
    },
    {
     "name": "stderr",
     "output_type": "stream",
     "text": [
      "\r",
      "Step 3/3 :  24%|██▍       | 612/2500 [00:16<00:37, 50.54it/s]"
     ]
    },
    {
     "name": "stderr",
     "output_type": "stream",
     "text": [
      "\r",
      "Step 3/3 :  24%|██▍       | 612/2500 [00:16<00:37, 50.54it/s]"
     ]
    },
    {
     "name": "stderr",
     "output_type": "stream",
     "text": [
      "\r",
      "Step 3/3 :  24%|██▍       | 612/2500 [00:16<00:37, 50.54it/s]"
     ]
    },
    {
     "name": "stderr",
     "output_type": "stream",
     "text": [
      "\r",
      "Step 3/3 :  24%|██▍       | 612/2500 [00:16<00:37, 50.54it/s]"
     ]
    },
    {
     "name": "stderr",
     "output_type": "stream",
     "text": [
      "\r",
      "Step 3/3 :  24%|██▍       | 612/2500 [00:16<00:37, 50.54it/s]"
     ]
    },
    {
     "name": "stderr",
     "output_type": "stream",
     "text": [
      "\r",
      "Step 3/3 :  24%|██▍       | 612/2500 [00:16<00:37, 50.54it/s]"
     ]
    },
    {
     "name": "stderr",
     "output_type": "stream",
     "text": [
      "\r",
      "Step 3/3 :  25%|██▍       | 618/2500 [00:16<00:37, 49.74it/s]"
     ]
    },
    {
     "name": "stderr",
     "output_type": "stream",
     "text": [
      "\r",
      "Step 3/3 :  25%|██▍       | 618/2500 [00:16<00:37, 49.74it/s]"
     ]
    },
    {
     "name": "stderr",
     "output_type": "stream",
     "text": [
      "\r",
      "Step 3/3 :  25%|██▍       | 618/2500 [00:16<00:37, 49.74it/s]"
     ]
    },
    {
     "name": "stderr",
     "output_type": "stream",
     "text": [
      "\r",
      "Step 3/3 :  25%|██▍       | 618/2500 [00:16<00:37, 49.74it/s]"
     ]
    },
    {
     "name": "stderr",
     "output_type": "stream",
     "text": [
      "\r",
      "Step 3/3 :  25%|██▍       | 618/2500 [00:16<00:37, 49.74it/s]"
     ]
    },
    {
     "name": "stderr",
     "output_type": "stream",
     "text": [
      "\r",
      "Step 3/3 :  25%|██▍       | 618/2500 [00:16<00:37, 49.74it/s]"
     ]
    },
    {
     "name": "stderr",
     "output_type": "stream",
     "text": [
      "\r",
      "Step 3/3 :  25%|██▍       | 623/2500 [00:16<00:40, 46.84it/s]"
     ]
    },
    {
     "name": "stderr",
     "output_type": "stream",
     "text": [
      "\r",
      "Step 3/3 :  25%|██▍       | 623/2500 [00:16<00:40, 46.84it/s]"
     ]
    },
    {
     "name": "stderr",
     "output_type": "stream",
     "text": [
      "\r",
      "Step 3/3 :  25%|██▍       | 623/2500 [00:16<00:40, 46.84it/s]"
     ]
    },
    {
     "name": "stderr",
     "output_type": "stream",
     "text": [
      "\r",
      "Step 3/3 :  25%|██▍       | 623/2500 [00:16<00:40, 46.84it/s]"
     ]
    },
    {
     "name": "stderr",
     "output_type": "stream",
     "text": [
      "\r",
      "Step 3/3 :  25%|██▍       | 623/2500 [00:16<00:40, 46.84it/s]"
     ]
    },
    {
     "name": "stderr",
     "output_type": "stream",
     "text": [
      "\r",
      "Step 3/3 :  25%|██▍       | 623/2500 [00:16<00:40, 46.84it/s]"
     ]
    },
    {
     "name": "stderr",
     "output_type": "stream",
     "text": [
      "\r",
      "Step 3/3 :  25%|██▌       | 628/2500 [00:16<00:41, 44.95it/s]"
     ]
    },
    {
     "name": "stderr",
     "output_type": "stream",
     "text": [
      "\r",
      "Step 3/3 :  25%|██▌       | 628/2500 [00:16<00:41, 44.95it/s]"
     ]
    },
    {
     "name": "stderr",
     "output_type": "stream",
     "text": [
      "\r",
      "Step 3/3 :  25%|██▌       | 628/2500 [00:16<00:41, 44.95it/s]"
     ]
    },
    {
     "name": "stderr",
     "output_type": "stream",
     "text": [
      "\r",
      "Step 3/3 :  25%|██▌       | 628/2500 [00:16<00:41, 44.95it/s]"
     ]
    },
    {
     "name": "stderr",
     "output_type": "stream",
     "text": [
      "\r",
      "Step 3/3 :  25%|██▌       | 628/2500 [00:16<00:41, 44.95it/s]"
     ]
    },
    {
     "name": "stderr",
     "output_type": "stream",
     "text": [
      "\r",
      "Step 3/3 :  25%|██▌       | 628/2500 [00:16<00:41, 44.95it/s]"
     ]
    },
    {
     "name": "stderr",
     "output_type": "stream",
     "text": [
      "\r",
      "Step 3/3 :  25%|██▌       | 633/2500 [00:16<00:41, 45.32it/s]"
     ]
    },
    {
     "name": "stderr",
     "output_type": "stream",
     "text": [
      "\r",
      "Step 3/3 :  25%|██▌       | 633/2500 [00:16<00:41, 45.32it/s]"
     ]
    },
    {
     "name": "stderr",
     "output_type": "stream",
     "text": [
      "\r",
      "Step 3/3 :  25%|██▌       | 633/2500 [00:16<00:41, 45.32it/s]"
     ]
    },
    {
     "name": "stderr",
     "output_type": "stream",
     "text": [
      "\r",
      "Step 3/3 :  25%|██▌       | 633/2500 [00:16<00:41, 45.32it/s]"
     ]
    },
    {
     "name": "stderr",
     "output_type": "stream",
     "text": [
      "\r",
      "Step 3/3 :  25%|██▌       | 633/2500 [00:16<00:41, 45.32it/s]"
     ]
    },
    {
     "name": "stderr",
     "output_type": "stream",
     "text": [
      "\r",
      "Step 3/3 :  25%|██▌       | 633/2500 [00:16<00:41, 45.32it/s]"
     ]
    },
    {
     "name": "stderr",
     "output_type": "stream",
     "text": [
      "\r",
      "Step 3/3 :  25%|██▌       | 633/2500 [00:16<00:41, 45.32it/s]"
     ]
    },
    {
     "name": "stderr",
     "output_type": "stream",
     "text": [
      "\r",
      "Step 3/3 :  26%|██▌       | 639/2500 [00:16<00:39, 47.09it/s]"
     ]
    },
    {
     "name": "stderr",
     "output_type": "stream",
     "text": [
      "\r",
      "Step 3/3 :  26%|██▌       | 639/2500 [00:16<00:39, 47.09it/s]"
     ]
    },
    {
     "name": "stderr",
     "output_type": "stream",
     "text": [
      "\r",
      "Step 3/3 :  26%|██▌       | 639/2500 [00:16<00:39, 47.09it/s]"
     ]
    },
    {
     "name": "stderr",
     "output_type": "stream",
     "text": [
      "\r",
      "Step 3/3 :  26%|██▌       | 639/2500 [00:16<00:39, 47.09it/s]"
     ]
    },
    {
     "name": "stderr",
     "output_type": "stream",
     "text": [
      "\r",
      "Step 3/3 :  26%|██▌       | 639/2500 [00:16<00:39, 47.09it/s]"
     ]
    },
    {
     "name": "stderr",
     "output_type": "stream",
     "text": [
      "\r",
      "Step 3/3 :  26%|██▌       | 639/2500 [00:16<00:39, 47.09it/s]"
     ]
    },
    {
     "name": "stderr",
     "output_type": "stream",
     "text": [
      "\r",
      "Step 3/3 :  26%|██▌       | 639/2500 [00:16<00:39, 47.09it/s]"
     ]
    },
    {
     "name": "stderr",
     "output_type": "stream",
     "text": [
      "\r",
      "Step 3/3 :  26%|██▌       | 645/2500 [00:16<00:38, 47.74it/s]"
     ]
    },
    {
     "name": "stderr",
     "output_type": "stream",
     "text": [
      "\r",
      "Step 3/3 :  26%|██▌       | 645/2500 [00:16<00:38, 47.74it/s]"
     ]
    },
    {
     "name": "stderr",
     "output_type": "stream",
     "text": [
      "\r",
      "Step 3/3 :  26%|██▌       | 645/2500 [00:16<00:38, 47.74it/s]"
     ]
    },
    {
     "name": "stderr",
     "output_type": "stream",
     "text": [
      "\r",
      "Step 3/3 :  26%|██▌       | 645/2500 [00:16<00:38, 47.74it/s]"
     ]
    },
    {
     "name": "stderr",
     "output_type": "stream",
     "text": [
      "\r",
      "Step 3/3 :  26%|██▌       | 645/2500 [00:16<00:38, 47.74it/s]"
     ]
    },
    {
     "name": "stderr",
     "output_type": "stream",
     "text": [
      "\r",
      "Step 3/3 :  26%|██▌       | 645/2500 [00:16<00:38, 47.74it/s]"
     ]
    },
    {
     "name": "stderr",
     "output_type": "stream",
     "text": [
      "\r",
      "Step 3/3 :  26%|██▌       | 650/2500 [00:16<00:38, 48.21it/s]"
     ]
    },
    {
     "name": "stderr",
     "output_type": "stream",
     "text": [
      "\r",
      "Step 3/3 :  26%|██▌       | 650/2500 [00:16<00:38, 48.21it/s]"
     ]
    },
    {
     "name": "stderr",
     "output_type": "stream",
     "text": [
      "\r",
      "Step 3/3 :  26%|██▌       | 650/2500 [00:16<00:38, 48.21it/s]"
     ]
    },
    {
     "name": "stderr",
     "output_type": "stream",
     "text": [
      "\r",
      "Step 3/3 :  26%|██▌       | 650/2500 [00:16<00:38, 48.21it/s]"
     ]
    },
    {
     "name": "stderr",
     "output_type": "stream",
     "text": [
      "\r",
      "Step 3/3 :  26%|██▌       | 650/2500 [00:16<00:38, 48.21it/s]"
     ]
    },
    {
     "name": "stderr",
     "output_type": "stream",
     "text": [
      "\r",
      "Step 3/3 :  26%|██▌       | 650/2500 [00:16<00:38, 48.21it/s]"
     ]
    },
    {
     "name": "stderr",
     "output_type": "stream",
     "text": [
      "\r",
      "Step 3/3 :  26%|██▌       | 655/2500 [00:17<00:38, 48.30it/s]"
     ]
    },
    {
     "name": "stderr",
     "output_type": "stream",
     "text": [
      "\r",
      "Step 3/3 :  26%|██▌       | 655/2500 [00:17<00:38, 48.30it/s]"
     ]
    },
    {
     "name": "stderr",
     "output_type": "stream",
     "text": [
      "\r",
      "Step 3/3 :  26%|██▌       | 655/2500 [00:17<00:38, 48.30it/s]"
     ]
    },
    {
     "name": "stderr",
     "output_type": "stream",
     "text": [
      "\r",
      "Step 3/3 :  26%|██▌       | 655/2500 [00:17<00:38, 48.30it/s]"
     ]
    },
    {
     "name": "stderr",
     "output_type": "stream",
     "text": [
      "\r",
      "Step 3/3 :  26%|██▌       | 655/2500 [00:17<00:38, 48.30it/s]"
     ]
    },
    {
     "name": "stderr",
     "output_type": "stream",
     "text": [
      "\r",
      "Step 3/3 :  26%|██▌       | 655/2500 [00:17<00:38, 48.30it/s]"
     ]
    },
    {
     "name": "stderr",
     "output_type": "stream",
     "text": [
      "\r",
      "Step 3/3 :  26%|██▋       | 660/2500 [00:17<00:38, 47.84it/s]"
     ]
    },
    {
     "name": "stderr",
     "output_type": "stream",
     "text": [
      "\r",
      "Step 3/3 :  26%|██▋       | 660/2500 [00:17<00:38, 47.84it/s]"
     ]
    },
    {
     "name": "stderr",
     "output_type": "stream",
     "text": [
      "\r",
      "Step 3/3 :  26%|██▋       | 660/2500 [00:17<00:38, 47.84it/s]"
     ]
    },
    {
     "name": "stderr",
     "output_type": "stream",
     "text": [
      "\r",
      "Step 3/3 :  26%|██▋       | 660/2500 [00:17<00:38, 47.84it/s]"
     ]
    },
    {
     "name": "stderr",
     "output_type": "stream",
     "text": [
      "\r",
      "Step 3/3 :  26%|██▋       | 660/2500 [00:17<00:38, 47.84it/s]"
     ]
    },
    {
     "name": "stderr",
     "output_type": "stream",
     "text": [
      "\r",
      "Step 3/3 :  26%|██▋       | 660/2500 [00:17<00:38, 47.84it/s]"
     ]
    },
    {
     "name": "stderr",
     "output_type": "stream",
     "text": [
      "\r",
      "Step 3/3 :  27%|██▋       | 665/2500 [00:17<00:41, 44.44it/s]"
     ]
    },
    {
     "name": "stderr",
     "output_type": "stream",
     "text": [
      "\r",
      "Step 3/3 :  27%|██▋       | 665/2500 [00:17<00:41, 44.44it/s]"
     ]
    },
    {
     "name": "stderr",
     "output_type": "stream",
     "text": [
      "\r",
      "Step 3/3 :  27%|██▋       | 665/2500 [00:17<00:41, 44.44it/s]"
     ]
    },
    {
     "name": "stderr",
     "output_type": "stream",
     "text": [
      "\r",
      "Step 3/3 :  27%|██▋       | 665/2500 [00:17<00:41, 44.44it/s]"
     ]
    },
    {
     "name": "stderr",
     "output_type": "stream",
     "text": [
      "\r",
      "Step 3/3 :  27%|██▋       | 665/2500 [00:17<00:41, 44.44it/s]"
     ]
    },
    {
     "name": "stderr",
     "output_type": "stream",
     "text": [
      "\r",
      "Step 3/3 :  27%|██▋       | 665/2500 [00:17<00:41, 44.44it/s]"
     ]
    },
    {
     "name": "stderr",
     "output_type": "stream",
     "text": [
      "\r",
      "Step 3/3 :  27%|██▋       | 670/2500 [00:17<00:45, 40.20it/s]"
     ]
    },
    {
     "name": "stderr",
     "output_type": "stream",
     "text": [
      "\r",
      "Step 3/3 :  27%|██▋       | 670/2500 [00:17<00:45, 40.20it/s]"
     ]
    },
    {
     "name": "stderr",
     "output_type": "stream",
     "text": [
      "\r",
      "Step 3/3 :  27%|██▋       | 670/2500 [00:17<00:45, 40.20it/s]"
     ]
    },
    {
     "name": "stderr",
     "output_type": "stream",
     "text": [
      "\r",
      "Step 3/3 :  27%|██▋       | 670/2500 [00:17<00:45, 40.20it/s]"
     ]
    },
    {
     "name": "stderr",
     "output_type": "stream",
     "text": [
      "\r",
      "Step 3/3 :  27%|██▋       | 670/2500 [00:17<00:45, 40.20it/s]"
     ]
    },
    {
     "name": "stderr",
     "output_type": "stream",
     "text": [
      "\r",
      "Step 3/3 :  27%|██▋       | 670/2500 [00:17<00:45, 40.20it/s]"
     ]
    },
    {
     "name": "stderr",
     "output_type": "stream",
     "text": [
      "\r",
      "Step 3/3 :  27%|██▋       | 675/2500 [00:17<00:50, 36.42it/s]"
     ]
    },
    {
     "name": "stderr",
     "output_type": "stream",
     "text": [
      "\r",
      "Step 3/3 :  27%|██▋       | 675/2500 [00:17<00:50, 36.42it/s]"
     ]
    },
    {
     "name": "stderr",
     "output_type": "stream",
     "text": [
      "\r",
      "Step 3/3 :  27%|██▋       | 675/2500 [00:17<00:50, 36.42it/s]"
     ]
    },
    {
     "name": "stderr",
     "output_type": "stream",
     "text": [
      "\r",
      "Step 3/3 :  27%|██▋       | 675/2500 [00:17<00:50, 36.42it/s]"
     ]
    },
    {
     "name": "stderr",
     "output_type": "stream",
     "text": [
      "\r",
      "Step 3/3 :  27%|██▋       | 675/2500 [00:17<00:50, 36.42it/s]"
     ]
    },
    {
     "name": "stderr",
     "output_type": "stream",
     "text": [
      "\r",
      "Step 3/3 :  27%|██▋       | 679/2500 [00:17<00:51, 35.28it/s]"
     ]
    },
    {
     "name": "stderr",
     "output_type": "stream",
     "text": [
      "\r",
      "Step 3/3 :  27%|██▋       | 679/2500 [00:17<00:51, 35.28it/s]"
     ]
    },
    {
     "name": "stderr",
     "output_type": "stream",
     "text": [
      "\r",
      "Step 3/3 :  27%|██▋       | 679/2500 [00:17<00:51, 35.28it/s]"
     ]
    },
    {
     "name": "stderr",
     "output_type": "stream",
     "text": [
      "\r",
      "Step 3/3 :  27%|██▋       | 679/2500 [00:17<00:51, 35.28it/s]"
     ]
    },
    {
     "name": "stderr",
     "output_type": "stream",
     "text": [
      "\r",
      "Step 3/3 :  27%|██▋       | 679/2500 [00:17<00:51, 35.28it/s]"
     ]
    },
    {
     "name": "stderr",
     "output_type": "stream",
     "text": [
      "\r",
      "Step 3/3 :  27%|██▋       | 683/2500 [00:17<00:53, 33.73it/s]"
     ]
    },
    {
     "name": "stderr",
     "output_type": "stream",
     "text": [
      "\r",
      "Step 3/3 :  27%|██▋       | 683/2500 [00:17<00:53, 33.73it/s]"
     ]
    },
    {
     "name": "stderr",
     "output_type": "stream",
     "text": [
      "\r",
      "Step 3/3 :  27%|██▋       | 683/2500 [00:17<00:53, 33.73it/s]"
     ]
    },
    {
     "name": "stderr",
     "output_type": "stream",
     "text": [
      "\r",
      "Step 3/3 :  27%|██▋       | 683/2500 [00:17<00:53, 33.73it/s]"
     ]
    },
    {
     "name": "stderr",
     "output_type": "stream",
     "text": [
      "\r",
      "Step 3/3 :  27%|██▋       | 683/2500 [00:17<00:53, 33.73it/s]"
     ]
    },
    {
     "name": "stderr",
     "output_type": "stream",
     "text": [
      "\r",
      "Step 3/3 :  27%|██▋       | 687/2500 [00:17<00:51, 34.91it/s]"
     ]
    },
    {
     "name": "stderr",
     "output_type": "stream",
     "text": [
      "\r",
      "Step 3/3 :  27%|██▋       | 687/2500 [00:17<00:51, 34.91it/s]"
     ]
    },
    {
     "name": "stderr",
     "output_type": "stream",
     "text": [
      "\r",
      "Step 3/3 :  27%|██▋       | 687/2500 [00:17<00:51, 34.91it/s]"
     ]
    },
    {
     "name": "stderr",
     "output_type": "stream",
     "text": [
      "\r",
      "Step 3/3 :  27%|██▋       | 687/2500 [00:17<00:51, 34.91it/s]"
     ]
    },
    {
     "name": "stderr",
     "output_type": "stream",
     "text": [
      "\r",
      "Step 3/3 :  27%|██▋       | 687/2500 [00:17<00:51, 34.91it/s]"
     ]
    },
    {
     "name": "stderr",
     "output_type": "stream",
     "text": [
      "\r",
      "Step 3/3 :  27%|██▋       | 687/2500 [00:18<00:51, 34.91it/s]"
     ]
    },
    {
     "name": "stderr",
     "output_type": "stream",
     "text": [
      "\r",
      "Step 3/3 :  28%|██▊       | 692/2500 [00:18<00:47, 38.17it/s]"
     ]
    },
    {
     "name": "stderr",
     "output_type": "stream",
     "text": [
      "\r",
      "Step 3/3 :  28%|██▊       | 692/2500 [00:18<00:47, 38.17it/s]"
     ]
    },
    {
     "name": "stderr",
     "output_type": "stream",
     "text": [
      "\r",
      "Step 3/3 :  28%|██▊       | 692/2500 [00:18<00:47, 38.17it/s]"
     ]
    },
    {
     "name": "stderr",
     "output_type": "stream",
     "text": [
      "\r",
      "Step 3/3 :  28%|██▊       | 692/2500 [00:18<00:47, 38.17it/s]"
     ]
    },
    {
     "name": "stderr",
     "output_type": "stream",
     "text": [
      "\r",
      "Step 3/3 :  28%|██▊       | 692/2500 [00:18<00:47, 38.17it/s]"
     ]
    },
    {
     "name": "stderr",
     "output_type": "stream",
     "text": [
      "\r",
      "Step 3/3 :  28%|██▊       | 692/2500 [00:18<00:47, 38.17it/s]"
     ]
    },
    {
     "name": "stderr",
     "output_type": "stream",
     "text": [
      "\r",
      "Step 3/3 :  28%|██▊       | 697/2500 [00:18<00:45, 39.62it/s]"
     ]
    },
    {
     "name": "stderr",
     "output_type": "stream",
     "text": [
      "\r",
      "Step 3/3 :  28%|██▊       | 697/2500 [00:18<00:45, 39.62it/s]"
     ]
    },
    {
     "name": "stderr",
     "output_type": "stream",
     "text": [
      "\r",
      "Step 3/3 :  28%|██▊       | 697/2500 [00:18<00:45, 39.62it/s]"
     ]
    },
    {
     "name": "stderr",
     "output_type": "stream",
     "text": [
      "\r",
      "Step 3/3 :  28%|██▊       | 697/2500 [00:18<00:45, 39.62it/s]"
     ]
    },
    {
     "name": "stderr",
     "output_type": "stream",
     "text": [
      "\r",
      "Step 3/3 :  28%|██▊       | 697/2500 [00:18<00:45, 39.62it/s]"
     ]
    },
    {
     "name": "stderr",
     "output_type": "stream",
     "text": [
      "\r",
      "Step 3/3 :  28%|██▊       | 697/2500 [00:18<00:45, 39.62it/s]"
     ]
    },
    {
     "name": "stderr",
     "output_type": "stream",
     "text": [
      "\r",
      "Step 3/3 :  28%|██▊       | 702/2500 [00:18<00:45, 39.64it/s]"
     ]
    },
    {
     "name": "stderr",
     "output_type": "stream",
     "text": [
      "\r",
      "Step 3/3 :  28%|██▊       | 702/2500 [00:18<00:45, 39.64it/s]"
     ]
    },
    {
     "name": "stderr",
     "output_type": "stream",
     "text": [
      "\r",
      "Step 3/3 :  28%|██▊       | 702/2500 [00:18<00:45, 39.64it/s]"
     ]
    },
    {
     "name": "stderr",
     "output_type": "stream",
     "text": [
      "\r",
      "Step 3/3 :  28%|██▊       | 702/2500 [00:18<00:45, 39.64it/s]"
     ]
    },
    {
     "name": "stderr",
     "output_type": "stream",
     "text": [
      "\r",
      "Step 3/3 :  28%|██▊       | 702/2500 [00:18<00:45, 39.64it/s]"
     ]
    },
    {
     "name": "stderr",
     "output_type": "stream",
     "text": [
      "\r",
      "Step 3/3 :  28%|██▊       | 702/2500 [00:18<00:45, 39.64it/s]"
     ]
    },
    {
     "name": "stderr",
     "output_type": "stream",
     "text": [
      "\r",
      "Step 3/3 :  28%|██▊       | 707/2500 [00:18<00:48, 37.28it/s]"
     ]
    },
    {
     "name": "stderr",
     "output_type": "stream",
     "text": [
      "\r",
      "Step 3/3 :  28%|██▊       | 707/2500 [00:18<00:48, 37.28it/s]"
     ]
    },
    {
     "name": "stderr",
     "output_type": "stream",
     "text": [
      "\r",
      "Step 3/3 :  28%|██▊       | 707/2500 [00:18<00:48, 37.28it/s]"
     ]
    },
    {
     "name": "stderr",
     "output_type": "stream",
     "text": [
      "\r",
      "Step 3/3 :  28%|██▊       | 707/2500 [00:18<00:48, 37.28it/s]"
     ]
    },
    {
     "name": "stderr",
     "output_type": "stream",
     "text": [
      "\r",
      "Step 3/3 :  28%|██▊       | 707/2500 [00:18<00:48, 37.28it/s]"
     ]
    },
    {
     "name": "stderr",
     "output_type": "stream",
     "text": [
      "\r",
      "Step 3/3 :  28%|██▊       | 711/2500 [00:18<00:50, 35.49it/s]"
     ]
    },
    {
     "name": "stderr",
     "output_type": "stream",
     "text": [
      "\r",
      "Step 3/3 :  28%|██▊       | 711/2500 [00:18<00:50, 35.49it/s]"
     ]
    },
    {
     "name": "stderr",
     "output_type": "stream",
     "text": [
      "\r",
      "Step 3/3 :  28%|██▊       | 711/2500 [00:18<00:50, 35.49it/s]"
     ]
    },
    {
     "name": "stderr",
     "output_type": "stream",
     "text": [
      "\r",
      "Step 3/3 :  28%|██▊       | 711/2500 [00:18<00:50, 35.49it/s]"
     ]
    },
    {
     "name": "stderr",
     "output_type": "stream",
     "text": [
      "\r",
      "Step 3/3 :  28%|██▊       | 711/2500 [00:18<00:50, 35.49it/s]"
     ]
    },
    {
     "name": "stderr",
     "output_type": "stream",
     "text": [
      "\r",
      "Step 3/3 :  29%|██▊       | 715/2500 [00:18<00:52, 33.99it/s]"
     ]
    },
    {
     "name": "stderr",
     "output_type": "stream",
     "text": [
      "\r",
      "Step 3/3 :  29%|██▊       | 715/2500 [00:18<00:52, 33.99it/s]"
     ]
    },
    {
     "name": "stderr",
     "output_type": "stream",
     "text": [
      "\r",
      "Step 3/3 :  29%|██▊       | 715/2500 [00:18<00:52, 33.99it/s]"
     ]
    },
    {
     "name": "stderr",
     "output_type": "stream",
     "text": [
      "\r",
      "Step 3/3 :  29%|██▊       | 715/2500 [00:18<00:52, 33.99it/s]"
     ]
    },
    {
     "name": "stderr",
     "output_type": "stream",
     "text": [
      "\r",
      "Step 3/3 :  29%|██▊       | 715/2500 [00:18<00:52, 33.99it/s]"
     ]
    },
    {
     "name": "stderr",
     "output_type": "stream",
     "text": [
      "\r",
      "Step 3/3 :  29%|██▉       | 719/2500 [00:18<00:53, 33.10it/s]"
     ]
    },
    {
     "name": "stderr",
     "output_type": "stream",
     "text": [
      "\r",
      "Step 3/3 :  29%|██▉       | 719/2500 [00:18<00:53, 33.10it/s]"
     ]
    },
    {
     "name": "stderr",
     "output_type": "stream",
     "text": [
      "\r",
      "Step 3/3 :  29%|██▉       | 719/2500 [00:18<00:53, 33.10it/s]"
     ]
    },
    {
     "name": "stderr",
     "output_type": "stream",
     "text": [
      "\r",
      "Step 3/3 :  29%|██▉       | 719/2500 [00:18<00:53, 33.10it/s]"
     ]
    },
    {
     "name": "stderr",
     "output_type": "stream",
     "text": [
      "\r",
      "Step 3/3 :  29%|██▉       | 719/2500 [00:18<00:53, 33.10it/s]"
     ]
    },
    {
     "name": "stderr",
     "output_type": "stream",
     "text": [
      "\r",
      "Step 3/3 :  29%|██▉       | 723/2500 [00:18<00:57, 30.76it/s]"
     ]
    },
    {
     "name": "stderr",
     "output_type": "stream",
     "text": [
      "\r",
      "Step 3/3 :  29%|██▉       | 723/2500 [00:18<00:57, 30.76it/s]"
     ]
    },
    {
     "name": "stderr",
     "output_type": "stream",
     "text": [
      "\r",
      "Step 3/3 :  29%|██▉       | 723/2500 [00:19<00:57, 30.76it/s]"
     ]
    },
    {
     "name": "stderr",
     "output_type": "stream",
     "text": [
      "\r",
      "Step 3/3 :  29%|██▉       | 723/2500 [00:19<00:57, 30.76it/s]"
     ]
    },
    {
     "name": "stderr",
     "output_type": "stream",
     "text": [
      "\r",
      "Step 3/3 :  29%|██▉       | 723/2500 [00:19<00:57, 30.76it/s]"
     ]
    },
    {
     "name": "stderr",
     "output_type": "stream",
     "text": [
      "\r",
      "Step 3/3 :  29%|██▉       | 727/2500 [00:19<01:02, 28.36it/s]"
     ]
    },
    {
     "name": "stderr",
     "output_type": "stream",
     "text": [
      "\r",
      "Step 3/3 :  29%|██▉       | 727/2500 [00:19<01:02, 28.36it/s]"
     ]
    },
    {
     "name": "stderr",
     "output_type": "stream",
     "text": [
      "\r",
      "Step 3/3 :  29%|██▉       | 727/2500 [00:19<01:02, 28.36it/s]"
     ]
    },
    {
     "name": "stderr",
     "output_type": "stream",
     "text": [
      "\r",
      "Step 3/3 :  29%|██▉       | 727/2500 [00:19<01:02, 28.36it/s]"
     ]
    },
    {
     "name": "stderr",
     "output_type": "stream",
     "text": [
      "\r",
      "Step 3/3 :  29%|██▉       | 730/2500 [00:19<01:03, 28.03it/s]"
     ]
    },
    {
     "name": "stderr",
     "output_type": "stream",
     "text": [
      "\r",
      "Step 3/3 :  29%|██▉       | 730/2500 [00:19<01:03, 28.03it/s]"
     ]
    },
    {
     "name": "stderr",
     "output_type": "stream",
     "text": [
      "\r",
      "Step 3/3 :  29%|██▉       | 730/2500 [00:19<01:03, 28.03it/s]"
     ]
    },
    {
     "name": "stderr",
     "output_type": "stream",
     "text": [
      "\r",
      "Step 3/3 :  29%|██▉       | 730/2500 [00:19<01:03, 28.03it/s]"
     ]
    },
    {
     "name": "stderr",
     "output_type": "stream",
     "text": [
      "\r",
      "Step 3/3 :  29%|██▉       | 733/2500 [00:19<01:04, 27.26it/s]"
     ]
    },
    {
     "name": "stderr",
     "output_type": "stream",
     "text": [
      "\r",
      "Step 3/3 :  29%|██▉       | 733/2500 [00:19<01:04, 27.26it/s]"
     ]
    },
    {
     "name": "stderr",
     "output_type": "stream",
     "text": [
      "\r",
      "Step 3/3 :  29%|██▉       | 733/2500 [00:19<01:04, 27.26it/s]"
     ]
    },
    {
     "name": "stderr",
     "output_type": "stream",
     "text": [
      "\r",
      "Step 3/3 :  29%|██▉       | 733/2500 [00:19<01:04, 27.26it/s]"
     ]
    },
    {
     "name": "stderr",
     "output_type": "stream",
     "text": [
      "\r",
      "Step 3/3 :  29%|██▉       | 733/2500 [00:19<01:04, 27.26it/s]"
     ]
    },
    {
     "name": "stderr",
     "output_type": "stream",
     "text": [
      "\r",
      "Step 3/3 :  29%|██▉       | 737/2500 [00:19<01:00, 28.98it/s]"
     ]
    },
    {
     "name": "stderr",
     "output_type": "stream",
     "text": [
      "\r",
      "Step 3/3 :  29%|██▉       | 737/2500 [00:19<01:00, 28.98it/s]"
     ]
    },
    {
     "name": "stderr",
     "output_type": "stream",
     "text": [
      "\r",
      "Step 3/3 :  29%|██▉       | 737/2500 [00:19<01:00, 28.98it/s]"
     ]
    },
    {
     "name": "stderr",
     "output_type": "stream",
     "text": [
      "\r",
      "Step 3/3 :  29%|██▉       | 737/2500 [00:19<01:00, 28.98it/s]"
     ]
    },
    {
     "name": "stderr",
     "output_type": "stream",
     "text": [
      "\r",
      "Step 3/3 :  29%|██▉       | 737/2500 [00:19<01:00, 28.98it/s]"
     ]
    },
    {
     "name": "stderr",
     "output_type": "stream",
     "text": [
      "\r",
      "Step 3/3 :  30%|██▉       | 741/2500 [00:19<00:56, 31.20it/s]"
     ]
    },
    {
     "name": "stderr",
     "output_type": "stream",
     "text": [
      "\r",
      "Step 3/3 :  30%|██▉       | 741/2500 [00:19<00:56, 31.20it/s]"
     ]
    },
    {
     "name": "stderr",
     "output_type": "stream",
     "text": [
      "\r",
      "Step 3/3 :  30%|██▉       | 741/2500 [00:19<00:56, 31.20it/s]"
     ]
    },
    {
     "name": "stderr",
     "output_type": "stream",
     "text": [
      "\r",
      "Step 3/3 :  30%|██▉       | 741/2500 [00:19<00:56, 31.20it/s]"
     ]
    },
    {
     "name": "stderr",
     "output_type": "stream",
     "text": [
      "\r",
      "Step 3/3 :  30%|██▉       | 741/2500 [00:19<00:56, 31.20it/s]"
     ]
    },
    {
     "name": "stderr",
     "output_type": "stream",
     "text": [
      "\r",
      "Step 3/3 :  30%|██▉       | 745/2500 [00:19<00:52, 33.33it/s]"
     ]
    },
    {
     "name": "stderr",
     "output_type": "stream",
     "text": [
      "\r",
      "Step 3/3 :  30%|██▉       | 745/2500 [00:19<00:52, 33.33it/s]"
     ]
    },
    {
     "name": "stderr",
     "output_type": "stream",
     "text": [
      "\r",
      "Step 3/3 :  30%|██▉       | 745/2500 [00:19<00:52, 33.33it/s]"
     ]
    },
    {
     "name": "stderr",
     "output_type": "stream",
     "text": [
      "\r",
      "Step 3/3 :  30%|██▉       | 745/2500 [00:19<00:52, 33.33it/s]"
     ]
    },
    {
     "name": "stderr",
     "output_type": "stream",
     "text": [
      "\r",
      "Step 3/3 :  30%|██▉       | 745/2500 [00:19<00:52, 33.33it/s]"
     ]
    },
    {
     "name": "stderr",
     "output_type": "stream",
     "text": [
      "\r",
      "Step 3/3 :  30%|██▉       | 745/2500 [00:19<00:52, 33.33it/s]"
     ]
    },
    {
     "name": "stderr",
     "output_type": "stream",
     "text": [
      "\r",
      "Step 3/3 :  30%|███       | 750/2500 [00:19<00:48, 35.99it/s]"
     ]
    },
    {
     "name": "stderr",
     "output_type": "stream",
     "text": [
      "\r",
      "Step 3/3 :  30%|███       | 750/2500 [00:19<00:48, 35.99it/s]"
     ]
    },
    {
     "name": "stderr",
     "output_type": "stream",
     "text": [
      "\r",
      "Step 3/3 :  30%|███       | 750/2500 [00:19<00:48, 35.99it/s]"
     ]
    },
    {
     "name": "stderr",
     "output_type": "stream",
     "text": [
      "\r",
      "Step 3/3 :  30%|███       | 750/2500 [00:19<00:48, 35.99it/s]"
     ]
    },
    {
     "name": "stderr",
     "output_type": "stream",
     "text": [
      "\r",
      "Step 3/3 :  30%|███       | 750/2500 [00:19<00:48, 35.99it/s]"
     ]
    },
    {
     "name": "stderr",
     "output_type": "stream",
     "text": [
      "\r",
      "Step 3/3 :  30%|███       | 750/2500 [00:19<00:48, 35.99it/s]"
     ]
    },
    {
     "name": "stderr",
     "output_type": "stream",
     "text": [
      "\r",
      "Step 3/3 :  30%|███       | 755/2500 [00:19<00:44, 38.92it/s]"
     ]
    },
    {
     "name": "stderr",
     "output_type": "stream",
     "text": [
      "\r",
      "Step 3/3 :  30%|███       | 755/2500 [00:19<00:44, 38.92it/s]"
     ]
    },
    {
     "name": "stderr",
     "output_type": "stream",
     "text": [
      "\r",
      "Step 3/3 :  30%|███       | 755/2500 [00:19<00:44, 38.92it/s]"
     ]
    },
    {
     "name": "stderr",
     "output_type": "stream",
     "text": [
      "\r",
      "Step 3/3 :  30%|███       | 755/2500 [00:19<00:44, 38.92it/s]"
     ]
    },
    {
     "name": "stderr",
     "output_type": "stream",
     "text": [
      "\r",
      "Step 3/3 :  30%|███       | 755/2500 [00:19<00:44, 38.92it/s]"
     ]
    },
    {
     "name": "stderr",
     "output_type": "stream",
     "text": [
      "\r",
      "Step 3/3 :  30%|███       | 755/2500 [00:20<00:44, 38.92it/s]"
     ]
    },
    {
     "name": "stderr",
     "output_type": "stream",
     "text": [
      "\r",
      "Step 3/3 :  30%|███       | 760/2500 [00:20<00:43, 40.40it/s]"
     ]
    },
    {
     "name": "stderr",
     "output_type": "stream",
     "text": [
      "\r",
      "Step 3/3 :  30%|███       | 760/2500 [00:20<00:43, 40.40it/s]"
     ]
    },
    {
     "name": "stderr",
     "output_type": "stream",
     "text": [
      "\r",
      "Step 3/3 :  30%|███       | 760/2500 [00:20<00:43, 40.40it/s]"
     ]
    },
    {
     "name": "stderr",
     "output_type": "stream",
     "text": [
      "\r",
      "Step 3/3 :  30%|███       | 760/2500 [00:20<00:43, 40.40it/s]"
     ]
    },
    {
     "name": "stderr",
     "output_type": "stream",
     "text": [
      "\r",
      "Step 3/3 :  30%|███       | 760/2500 [00:20<00:43, 40.40it/s]"
     ]
    },
    {
     "name": "stderr",
     "output_type": "stream",
     "text": [
      "\r",
      "Step 3/3 :  30%|███       | 760/2500 [00:20<00:43, 40.40it/s]"
     ]
    },
    {
     "name": "stderr",
     "output_type": "stream",
     "text": [
      "\r",
      "Step 3/3 :  31%|███       | 765/2500 [00:20<00:43, 39.76it/s]"
     ]
    },
    {
     "name": "stderr",
     "output_type": "stream",
     "text": [
      "\r",
      "Step 3/3 :  31%|███       | 765/2500 [00:20<00:43, 39.76it/s]"
     ]
    },
    {
     "name": "stderr",
     "output_type": "stream",
     "text": [
      "\r",
      "Step 3/3 :  31%|███       | 765/2500 [00:20<00:43, 39.76it/s]"
     ]
    },
    {
     "name": "stderr",
     "output_type": "stream",
     "text": [
      "\r",
      "Step 3/3 :  31%|███       | 765/2500 [00:20<00:43, 39.76it/s]"
     ]
    },
    {
     "name": "stderr",
     "output_type": "stream",
     "text": [
      "\r",
      "Step 3/3 :  31%|███       | 765/2500 [00:20<00:43, 39.76it/s]"
     ]
    },
    {
     "name": "stderr",
     "output_type": "stream",
     "text": [
      "\r",
      "Step 3/3 :  31%|███       | 765/2500 [00:20<00:43, 39.76it/s]"
     ]
    },
    {
     "name": "stderr",
     "output_type": "stream",
     "text": [
      "\r",
      "Step 3/3 :  31%|███       | 770/2500 [00:20<00:42, 40.24it/s]"
     ]
    },
    {
     "name": "stderr",
     "output_type": "stream",
     "text": [
      "\r",
      "Step 3/3 :  31%|███       | 770/2500 [00:20<00:42, 40.24it/s]"
     ]
    },
    {
     "name": "stderr",
     "output_type": "stream",
     "text": [
      "\r",
      "Step 3/3 :  31%|███       | 770/2500 [00:20<00:42, 40.24it/s]"
     ]
    },
    {
     "name": "stderr",
     "output_type": "stream",
     "text": [
      "\r",
      "Step 3/3 :  31%|███       | 770/2500 [00:20<00:42, 40.24it/s]"
     ]
    },
    {
     "name": "stderr",
     "output_type": "stream",
     "text": [
      "\r",
      "Step 3/3 :  31%|███       | 770/2500 [00:20<00:42, 40.24it/s]"
     ]
    },
    {
     "name": "stderr",
     "output_type": "stream",
     "text": [
      "\r",
      "Step 3/3 :  31%|███       | 770/2500 [00:20<00:42, 40.24it/s]"
     ]
    },
    {
     "name": "stderr",
     "output_type": "stream",
     "text": [
      "\r",
      "Step 3/3 :  31%|███       | 775/2500 [00:20<00:44, 38.63it/s]"
     ]
    },
    {
     "name": "stderr",
     "output_type": "stream",
     "text": [
      "\r",
      "Step 3/3 :  31%|███       | 775/2500 [00:20<00:44, 38.63it/s]"
     ]
    },
    {
     "name": "stderr",
     "output_type": "stream",
     "text": [
      "\r",
      "Step 3/3 :  31%|███       | 775/2500 [00:20<00:44, 38.63it/s]"
     ]
    },
    {
     "name": "stderr",
     "output_type": "stream",
     "text": [
      "\r",
      "Step 3/3 :  31%|███       | 775/2500 [00:20<00:44, 38.63it/s]"
     ]
    },
    {
     "name": "stderr",
     "output_type": "stream",
     "text": [
      "\r",
      "Step 3/3 :  31%|███       | 775/2500 [00:20<00:44, 38.63it/s]"
     ]
    },
    {
     "name": "stderr",
     "output_type": "stream",
     "text": [
      "\r",
      "Step 3/3 :  31%|███       | 775/2500 [00:20<00:44, 38.63it/s]"
     ]
    },
    {
     "name": "stderr",
     "output_type": "stream",
     "text": [
      "\r",
      "Step 3/3 :  31%|███       | 780/2500 [00:20<00:42, 40.49it/s]"
     ]
    },
    {
     "name": "stderr",
     "output_type": "stream",
     "text": [
      "\r",
      "Step 3/3 :  31%|███       | 780/2500 [00:20<00:42, 40.49it/s]"
     ]
    },
    {
     "name": "stderr",
     "output_type": "stream",
     "text": [
      "\r",
      "Step 3/3 :  31%|███       | 780/2500 [00:20<00:42, 40.49it/s]"
     ]
    },
    {
     "name": "stderr",
     "output_type": "stream",
     "text": [
      "\r",
      "Step 3/3 :  31%|███       | 780/2500 [00:20<00:42, 40.49it/s]"
     ]
    },
    {
     "name": "stderr",
     "output_type": "stream",
     "text": [
      "\r",
      "Step 3/3 :  31%|███       | 780/2500 [00:20<00:42, 40.49it/s]"
     ]
    },
    {
     "name": "stderr",
     "output_type": "stream",
     "text": [
      "\r",
      "Step 3/3 :  31%|███       | 780/2500 [00:20<00:42, 40.49it/s]"
     ]
    },
    {
     "name": "stderr",
     "output_type": "stream",
     "text": [
      "\r",
      "Step 3/3 :  31%|███▏      | 785/2500 [00:20<00:40, 41.98it/s]"
     ]
    },
    {
     "name": "stderr",
     "output_type": "stream",
     "text": [
      "\r",
      "Step 3/3 :  31%|███▏      | 785/2500 [00:20<00:40, 41.98it/s]"
     ]
    },
    {
     "name": "stderr",
     "output_type": "stream",
     "text": [
      "\r",
      "Step 3/3 :  31%|███▏      | 785/2500 [00:20<00:40, 41.98it/s]"
     ]
    },
    {
     "name": "stderr",
     "output_type": "stream",
     "text": [
      "\r",
      "Step 3/3 :  31%|███▏      | 785/2500 [00:20<00:40, 41.98it/s]"
     ]
    },
    {
     "name": "stderr",
     "output_type": "stream",
     "text": [
      "\r",
      "Step 3/3 :  31%|███▏      | 785/2500 [00:20<00:40, 41.98it/s]"
     ]
    },
    {
     "name": "stderr",
     "output_type": "stream",
     "text": [
      "\r",
      "Step 3/3 :  31%|███▏      | 785/2500 [00:20<00:40, 41.98it/s]"
     ]
    },
    {
     "name": "stderr",
     "output_type": "stream",
     "text": [
      "\r",
      "Step 3/3 :  32%|███▏      | 790/2500 [00:20<00:39, 43.43it/s]"
     ]
    },
    {
     "name": "stderr",
     "output_type": "stream",
     "text": [
      "\r",
      "Step 3/3 :  32%|███▏      | 790/2500 [00:20<00:39, 43.43it/s]"
     ]
    },
    {
     "name": "stderr",
     "output_type": "stream",
     "text": [
      "\r",
      "Step 3/3 :  32%|███▏      | 790/2500 [00:20<00:39, 43.43it/s]"
     ]
    },
    {
     "name": "stderr",
     "output_type": "stream",
     "text": [
      "\r",
      "Step 3/3 :  32%|███▏      | 790/2500 [00:20<00:39, 43.43it/s]"
     ]
    },
    {
     "name": "stderr",
     "output_type": "stream",
     "text": [
      "\r",
      "Step 3/3 :  32%|███▏      | 790/2500 [00:20<00:39, 43.43it/s]"
     ]
    },
    {
     "name": "stderr",
     "output_type": "stream",
     "text": [
      "\r",
      "Step 3/3 :  32%|███▏      | 790/2500 [00:20<00:39, 43.43it/s]"
     ]
    },
    {
     "name": "stderr",
     "output_type": "stream",
     "text": [
      "\r",
      "Step 3/3 :  32%|███▏      | 795/2500 [00:20<00:38, 44.26it/s]"
     ]
    },
    {
     "name": "stderr",
     "output_type": "stream",
     "text": [
      "\r",
      "Step 3/3 :  32%|███▏      | 795/2500 [00:20<00:38, 44.26it/s]"
     ]
    },
    {
     "name": "stderr",
     "output_type": "stream",
     "text": [
      "\r",
      "Step 3/3 :  32%|███▏      | 795/2500 [00:20<00:38, 44.26it/s]"
     ]
    },
    {
     "name": "stderr",
     "output_type": "stream",
     "text": [
      "\r",
      "Step 3/3 :  32%|███▏      | 795/2500 [00:20<00:38, 44.26it/s]"
     ]
    },
    {
     "name": "stderr",
     "output_type": "stream",
     "text": [
      "\r",
      "Step 3/3 :  32%|███▏      | 795/2500 [00:20<00:38, 44.26it/s]"
     ]
    },
    {
     "name": "stderr",
     "output_type": "stream",
     "text": [
      "\r",
      "Step 3/3 :  32%|███▏      | 795/2500 [00:20<00:38, 44.26it/s]"
     ]
    },
    {
     "name": "stderr",
     "output_type": "stream",
     "text": [
      "\r",
      "Step 3/3 :  32%|███▏      | 800/2500 [00:20<00:38, 44.02it/s]"
     ]
    },
    {
     "name": "stderr",
     "output_type": "stream",
     "text": [
      "\r",
      "Step 3/3 :  32%|███▏      | 800/2500 [00:20<00:38, 44.02it/s]"
     ]
    },
    {
     "name": "stderr",
     "output_type": "stream",
     "text": [
      "\r",
      "Step 3/3 :  32%|███▏      | 800/2500 [00:21<00:38, 44.02it/s]"
     ]
    },
    {
     "name": "stderr",
     "output_type": "stream",
     "text": [
      "\r",
      "Step 3/3 :  32%|███▏      | 800/2500 [00:21<00:38, 44.02it/s]"
     ]
    },
    {
     "name": "stderr",
     "output_type": "stream",
     "text": [
      "\r",
      "Step 3/3 :  32%|███▏      | 800/2500 [00:21<00:38, 44.02it/s]"
     ]
    },
    {
     "name": "stderr",
     "output_type": "stream",
     "text": [
      "\r",
      "Step 3/3 :  32%|███▏      | 800/2500 [00:21<00:38, 44.02it/s]"
     ]
    },
    {
     "name": "stderr",
     "output_type": "stream",
     "text": [
      "\r",
      "Step 3/3 :  32%|███▏      | 805/2500 [00:21<00:40, 42.08it/s]"
     ]
    },
    {
     "name": "stderr",
     "output_type": "stream",
     "text": [
      "\r",
      "Step 3/3 :  32%|███▏      | 805/2500 [00:21<00:40, 42.08it/s]"
     ]
    },
    {
     "name": "stderr",
     "output_type": "stream",
     "text": [
      "\r",
      "Step 3/3 :  32%|███▏      | 805/2500 [00:21<00:40, 42.08it/s]"
     ]
    },
    {
     "name": "stderr",
     "output_type": "stream",
     "text": [
      "\r",
      "Step 3/3 :  32%|███▏      | 805/2500 [00:21<00:40, 42.08it/s]"
     ]
    },
    {
     "name": "stderr",
     "output_type": "stream",
     "text": [
      "\r",
      "Step 3/3 :  32%|███▏      | 805/2500 [00:21<00:40, 42.08it/s]"
     ]
    },
    {
     "name": "stderr",
     "output_type": "stream",
     "text": [
      "\r",
      "Step 3/3 :  32%|███▏      | 805/2500 [00:21<00:40, 42.08it/s]"
     ]
    },
    {
     "name": "stderr",
     "output_type": "stream",
     "text": [
      "\r",
      "Step 3/3 :  32%|███▏      | 810/2500 [00:21<00:42, 39.37it/s]"
     ]
    },
    {
     "name": "stderr",
     "output_type": "stream",
     "text": [
      "\r",
      "Step 3/3 :  32%|███▏      | 810/2500 [00:21<00:42, 39.37it/s]"
     ]
    },
    {
     "name": "stderr",
     "output_type": "stream",
     "text": [
      "\r",
      "Step 3/3 :  32%|███▏      | 810/2500 [00:21<00:42, 39.37it/s]"
     ]
    },
    {
     "name": "stderr",
     "output_type": "stream",
     "text": [
      "\r",
      "Step 3/3 :  32%|███▏      | 810/2500 [00:21<00:42, 39.37it/s]"
     ]
    },
    {
     "name": "stderr",
     "output_type": "stream",
     "text": [
      "\r",
      "Step 3/3 :  32%|███▏      | 810/2500 [00:21<00:42, 39.37it/s]"
     ]
    },
    {
     "name": "stderr",
     "output_type": "stream",
     "text": [
      "\r",
      "Step 3/3 :  33%|███▎      | 814/2500 [00:21<00:48, 34.86it/s]"
     ]
    },
    {
     "name": "stderr",
     "output_type": "stream",
     "text": [
      "\r",
      "Step 3/3 :  33%|███▎      | 814/2500 [00:21<00:48, 34.86it/s]"
     ]
    },
    {
     "name": "stderr",
     "output_type": "stream",
     "text": [
      "\r",
      "Step 3/3 :  33%|███▎      | 814/2500 [00:21<00:48, 34.86it/s]"
     ]
    },
    {
     "name": "stderr",
     "output_type": "stream",
     "text": [
      "\r",
      "Step 3/3 :  33%|███▎      | 814/2500 [00:21<00:48, 34.86it/s]"
     ]
    },
    {
     "name": "stderr",
     "output_type": "stream",
     "text": [
      "\r",
      "Step 3/3 :  33%|███▎      | 814/2500 [00:21<00:48, 34.86it/s]"
     ]
    },
    {
     "name": "stderr",
     "output_type": "stream",
     "text": [
      "\r",
      "Step 3/3 :  33%|███▎      | 818/2500 [00:21<00:49, 33.74it/s]"
     ]
    },
    {
     "name": "stderr",
     "output_type": "stream",
     "text": [
      "\r",
      "Step 3/3 :  33%|███▎      | 818/2500 [00:21<00:49, 33.74it/s]"
     ]
    },
    {
     "name": "stderr",
     "output_type": "stream",
     "text": [
      "\r",
      "Step 3/3 :  33%|███▎      | 818/2500 [00:21<00:49, 33.74it/s]"
     ]
    },
    {
     "name": "stderr",
     "output_type": "stream",
     "text": [
      "\r",
      "Step 3/3 :  33%|███▎      | 818/2500 [00:21<00:49, 33.74it/s]"
     ]
    },
    {
     "name": "stderr",
     "output_type": "stream",
     "text": [
      "\r",
      "Step 3/3 :  33%|███▎      | 818/2500 [00:21<00:49, 33.74it/s]"
     ]
    },
    {
     "name": "stderr",
     "output_type": "stream",
     "text": [
      "\r",
      "Step 3/3 :  33%|███▎      | 822/2500 [00:21<00:50, 33.47it/s]"
     ]
    },
    {
     "name": "stderr",
     "output_type": "stream",
     "text": [
      "\r",
      "Step 3/3 :  33%|███▎      | 822/2500 [00:21<00:50, 33.47it/s]"
     ]
    },
    {
     "name": "stderr",
     "output_type": "stream",
     "text": [
      "\r",
      "Step 3/3 :  33%|███▎      | 822/2500 [00:21<00:50, 33.47it/s]"
     ]
    },
    {
     "name": "stderr",
     "output_type": "stream",
     "text": [
      "\r",
      "Step 3/3 :  33%|███▎      | 822/2500 [00:21<00:50, 33.47it/s]"
     ]
    },
    {
     "name": "stderr",
     "output_type": "stream",
     "text": [
      "\r",
      "Step 3/3 :  33%|███▎      | 822/2500 [00:21<00:50, 33.47it/s]"
     ]
    },
    {
     "name": "stderr",
     "output_type": "stream",
     "text": [
      "\r",
      "Step 3/3 :  33%|███▎      | 826/2500 [00:21<00:49, 33.91it/s]"
     ]
    },
    {
     "name": "stderr",
     "output_type": "stream",
     "text": [
      "\r",
      "Step 3/3 :  33%|███▎      | 826/2500 [00:21<00:49, 33.91it/s]"
     ]
    },
    {
     "name": "stderr",
     "output_type": "stream",
     "text": [
      "\r",
      "Step 3/3 :  33%|███▎      | 826/2500 [00:21<00:49, 33.91it/s]"
     ]
    },
    {
     "name": "stderr",
     "output_type": "stream",
     "text": [
      "\r",
      "Step 3/3 :  33%|███▎      | 826/2500 [00:21<00:49, 33.91it/s]"
     ]
    },
    {
     "name": "stderr",
     "output_type": "stream",
     "text": [
      "\r",
      "Step 3/3 :  33%|███▎      | 826/2500 [00:21<00:49, 33.91it/s]"
     ]
    },
    {
     "name": "stderr",
     "output_type": "stream",
     "text": [
      "\r",
      "Step 3/3 :  33%|███▎      | 830/2500 [00:21<00:47, 34.93it/s]"
     ]
    },
    {
     "name": "stderr",
     "output_type": "stream",
     "text": [
      "\r",
      "Step 3/3 :  33%|███▎      | 830/2500 [00:21<00:47, 34.93it/s]"
     ]
    },
    {
     "name": "stderr",
     "output_type": "stream",
     "text": [
      "\r",
      "Step 3/3 :  33%|███▎      | 830/2500 [00:21<00:47, 34.93it/s]"
     ]
    },
    {
     "name": "stderr",
     "output_type": "stream",
     "text": [
      "\r",
      "Step 3/3 :  33%|███▎      | 830/2500 [00:21<00:47, 34.93it/s]"
     ]
    },
    {
     "name": "stderr",
     "output_type": "stream",
     "text": [
      "\r",
      "Step 3/3 :  33%|███▎      | 830/2500 [00:21<00:47, 34.93it/s]"
     ]
    },
    {
     "name": "stderr",
     "output_type": "stream",
     "text": [
      "\r",
      "Step 3/3 :  33%|███▎      | 834/2500 [00:21<00:46, 35.80it/s]"
     ]
    },
    {
     "name": "stderr",
     "output_type": "stream",
     "text": [
      "\r",
      "Step 3/3 :  33%|███▎      | 834/2500 [00:21<00:46, 35.80it/s]"
     ]
    },
    {
     "name": "stderr",
     "output_type": "stream",
     "text": [
      "\r",
      "Step 3/3 :  33%|███▎      | 834/2500 [00:22<00:46, 35.80it/s]"
     ]
    },
    {
     "name": "stderr",
     "output_type": "stream",
     "text": [
      "\r",
      "Step 3/3 :  33%|███▎      | 834/2500 [00:22<00:46, 35.80it/s]"
     ]
    },
    {
     "name": "stderr",
     "output_type": "stream",
     "text": [
      "\r",
      "Step 3/3 :  33%|███▎      | 834/2500 [00:22<00:46, 35.80it/s]"
     ]
    },
    {
     "name": "stderr",
     "output_type": "stream",
     "text": [
      "\r",
      "Step 3/3 :  33%|███▎      | 834/2500 [00:22<00:46, 35.80it/s]"
     ]
    },
    {
     "name": "stderr",
     "output_type": "stream",
     "text": [
      "\r",
      "Step 3/3 :  34%|███▎      | 839/2500 [00:22<00:43, 38.50it/s]"
     ]
    },
    {
     "name": "stderr",
     "output_type": "stream",
     "text": [
      "\r",
      "Step 3/3 :  34%|███▎      | 839/2500 [00:22<00:43, 38.50it/s]"
     ]
    },
    {
     "name": "stderr",
     "output_type": "stream",
     "text": [
      "\r",
      "Step 3/3 :  34%|███▎      | 839/2500 [00:22<00:43, 38.50it/s]"
     ]
    },
    {
     "name": "stderr",
     "output_type": "stream",
     "text": [
      "\r",
      "Step 3/3 :  34%|███▎      | 839/2500 [00:22<00:43, 38.50it/s]"
     ]
    },
    {
     "name": "stderr",
     "output_type": "stream",
     "text": [
      "\r",
      "Step 3/3 :  34%|███▎      | 839/2500 [00:22<00:43, 38.50it/s]"
     ]
    },
    {
     "name": "stderr",
     "output_type": "stream",
     "text": [
      "\r",
      "Step 3/3 :  34%|███▎      | 839/2500 [00:22<00:43, 38.50it/s]"
     ]
    },
    {
     "name": "stderr",
     "output_type": "stream",
     "text": [
      "\r",
      "Step 3/3 :  34%|███▍      | 844/2500 [00:22<00:41, 40.00it/s]"
     ]
    },
    {
     "name": "stderr",
     "output_type": "stream",
     "text": [
      "\r",
      "Step 3/3 :  34%|███▍      | 844/2500 [00:22<00:41, 40.00it/s]"
     ]
    },
    {
     "name": "stderr",
     "output_type": "stream",
     "text": [
      "\r",
      "Step 3/3 :  34%|███▍      | 844/2500 [00:22<00:41, 40.00it/s]"
     ]
    },
    {
     "name": "stderr",
     "output_type": "stream",
     "text": [
      "\r",
      "Step 3/3 :  34%|███▍      | 844/2500 [00:22<00:41, 40.00it/s]"
     ]
    },
    {
     "name": "stderr",
     "output_type": "stream",
     "text": [
      "\r",
      "Step 3/3 :  34%|███▍      | 844/2500 [00:22<00:41, 40.00it/s]"
     ]
    },
    {
     "name": "stderr",
     "output_type": "stream",
     "text": [
      "\r",
      "Step 3/3 :  34%|███▍      | 844/2500 [00:22<00:41, 40.00it/s]"
     ]
    },
    {
     "name": "stderr",
     "output_type": "stream",
     "text": [
      "\r",
      "Step 3/3 :  34%|███▍      | 849/2500 [00:22<00:41, 39.91it/s]"
     ]
    },
    {
     "name": "stderr",
     "output_type": "stream",
     "text": [
      "\r",
      "Step 3/3 :  34%|███▍      | 849/2500 [00:22<00:41, 39.91it/s]"
     ]
    },
    {
     "name": "stderr",
     "output_type": "stream",
     "text": [
      "\r",
      "Step 3/3 :  34%|███▍      | 849/2500 [00:22<00:41, 39.91it/s]"
     ]
    },
    {
     "name": "stderr",
     "output_type": "stream",
     "text": [
      "\r",
      "Step 3/3 :  34%|███▍      | 849/2500 [00:22<00:41, 39.91it/s]"
     ]
    },
    {
     "name": "stderr",
     "output_type": "stream",
     "text": [
      "\r",
      "Step 3/3 :  34%|███▍      | 849/2500 [00:22<00:41, 39.91it/s]"
     ]
    },
    {
     "name": "stderr",
     "output_type": "stream",
     "text": [
      "\r",
      "Step 3/3 :  34%|███▍      | 849/2500 [00:22<00:41, 39.91it/s]"
     ]
    },
    {
     "name": "stderr",
     "output_type": "stream",
     "text": [
      "\r",
      "Step 3/3 :  34%|███▍      | 854/2500 [00:22<00:41, 39.94it/s]"
     ]
    },
    {
     "name": "stderr",
     "output_type": "stream",
     "text": [
      "\r",
      "Step 3/3 :  34%|███▍      | 854/2500 [00:22<00:41, 39.94it/s]"
     ]
    },
    {
     "name": "stderr",
     "output_type": "stream",
     "text": [
      "\r",
      "Step 3/3 :  34%|███▍      | 854/2500 [00:22<00:41, 39.94it/s]"
     ]
    },
    {
     "name": "stderr",
     "output_type": "stream",
     "text": [
      "\r",
      "Step 3/3 :  34%|███▍      | 854/2500 [00:22<00:41, 39.94it/s]"
     ]
    },
    {
     "name": "stderr",
     "output_type": "stream",
     "text": [
      "\r",
      "Step 3/3 :  34%|███▍      | 854/2500 [00:22<00:41, 39.94it/s]"
     ]
    },
    {
     "name": "stderr",
     "output_type": "stream",
     "text": [
      "\r",
      "Step 3/3 :  34%|███▍      | 854/2500 [00:22<00:41, 39.94it/s]"
     ]
    },
    {
     "name": "stderr",
     "output_type": "stream",
     "text": [
      "\r",
      "Step 3/3 :  34%|███▍      | 859/2500 [00:22<00:40, 40.25it/s]"
     ]
    },
    {
     "name": "stderr",
     "output_type": "stream",
     "text": [
      "\r",
      "Step 3/3 :  34%|███▍      | 859/2500 [00:22<00:40, 40.25it/s]"
     ]
    },
    {
     "name": "stderr",
     "output_type": "stream",
     "text": [
      "\r",
      "Step 3/3 :  34%|███▍      | 859/2500 [00:22<00:40, 40.25it/s]"
     ]
    },
    {
     "name": "stderr",
     "output_type": "stream",
     "text": [
      "\r",
      "Step 3/3 :  34%|███▍      | 859/2500 [00:22<00:40, 40.25it/s]"
     ]
    },
    {
     "name": "stderr",
     "output_type": "stream",
     "text": [
      "\r",
      "Step 3/3 :  34%|███▍      | 859/2500 [00:22<00:40, 40.25it/s]"
     ]
    },
    {
     "name": "stderr",
     "output_type": "stream",
     "text": [
      "\r",
      "Step 3/3 :  34%|███▍      | 859/2500 [00:22<00:40, 40.25it/s]"
     ]
    },
    {
     "name": "stderr",
     "output_type": "stream",
     "text": [
      "\r",
      "Step 3/3 :  35%|███▍      | 864/2500 [00:22<00:39, 41.61it/s]"
     ]
    },
    {
     "name": "stderr",
     "output_type": "stream",
     "text": [
      "\r",
      "Step 3/3 :  35%|███▍      | 864/2500 [00:22<00:39, 41.61it/s]"
     ]
    },
    {
     "name": "stderr",
     "output_type": "stream",
     "text": [
      "\r",
      "Step 3/3 :  35%|███▍      | 864/2500 [00:22<00:39, 41.61it/s]"
     ]
    },
    {
     "name": "stderr",
     "output_type": "stream",
     "text": [
      "\r",
      "Step 3/3 :  35%|███▍      | 864/2500 [00:22<00:39, 41.61it/s]"
     ]
    },
    {
     "name": "stderr",
     "output_type": "stream",
     "text": [
      "\r",
      "Step 3/3 :  35%|███▍      | 864/2500 [00:22<00:39, 41.61it/s]"
     ]
    },
    {
     "name": "stderr",
     "output_type": "stream",
     "text": [
      "\r",
      "Step 3/3 :  35%|███▍      | 864/2500 [00:22<00:39, 41.61it/s]"
     ]
    },
    {
     "name": "stderr",
     "output_type": "stream",
     "text": [
      "\r",
      "Step 3/3 :  35%|███▍      | 869/2500 [00:22<00:38, 42.49it/s]"
     ]
    },
    {
     "name": "stderr",
     "output_type": "stream",
     "text": [
      "\r",
      "Step 3/3 :  35%|███▍      | 869/2500 [00:22<00:38, 42.49it/s]"
     ]
    },
    {
     "name": "stderr",
     "output_type": "stream",
     "text": [
      "\r",
      "Step 3/3 :  35%|███▍      | 869/2500 [00:22<00:38, 42.49it/s]"
     ]
    },
    {
     "name": "stderr",
     "output_type": "stream",
     "text": [
      "\r",
      "Step 3/3 :  35%|███▍      | 869/2500 [00:22<00:38, 42.49it/s]"
     ]
    },
    {
     "name": "stderr",
     "output_type": "stream",
     "text": [
      "\r",
      "Step 3/3 :  35%|███▍      | 869/2500 [00:22<00:38, 42.49it/s]"
     ]
    },
    {
     "name": "stderr",
     "output_type": "stream",
     "text": [
      "\r",
      "Step 3/3 :  35%|███▍      | 869/2500 [00:22<00:38, 42.49it/s]"
     ]
    },
    {
     "name": "stderr",
     "output_type": "stream",
     "text": [
      "\r",
      "Step 3/3 :  35%|███▍      | 874/2500 [00:22<00:37, 43.23it/s]"
     ]
    },
    {
     "name": "stderr",
     "output_type": "stream",
     "text": [
      "\r",
      "Step 3/3 :  35%|███▍      | 874/2500 [00:22<00:37, 43.23it/s]"
     ]
    },
    {
     "name": "stderr",
     "output_type": "stream",
     "text": [
      "\r",
      "Step 3/3 :  35%|███▍      | 874/2500 [00:22<00:37, 43.23it/s]"
     ]
    },
    {
     "name": "stderr",
     "output_type": "stream",
     "text": [
      "\r",
      "Step 3/3 :  35%|███▍      | 874/2500 [00:22<00:37, 43.23it/s]"
     ]
    },
    {
     "name": "stderr",
     "output_type": "stream",
     "text": [
      "\r",
      "Step 3/3 :  35%|███▍      | 874/2500 [00:22<00:37, 43.23it/s]"
     ]
    },
    {
     "name": "stderr",
     "output_type": "stream",
     "text": [
      "\r",
      "Step 3/3 :  35%|███▍      | 874/2500 [00:23<00:37, 43.23it/s]"
     ]
    },
    {
     "name": "stderr",
     "output_type": "stream",
     "text": [
      "\r",
      "Step 3/3 :  35%|███▌      | 879/2500 [00:23<00:37, 42.97it/s]"
     ]
    },
    {
     "name": "stderr",
     "output_type": "stream",
     "text": [
      "\r",
      "Step 3/3 :  35%|███▌      | 879/2500 [00:23<00:37, 42.97it/s]"
     ]
    },
    {
     "name": "stderr",
     "output_type": "stream",
     "text": [
      "\r",
      "Step 3/3 :  35%|███▌      | 879/2500 [00:23<00:37, 42.97it/s]"
     ]
    },
    {
     "name": "stderr",
     "output_type": "stream",
     "text": [
      "\r",
      "Step 3/3 :  35%|███▌      | 879/2500 [00:23<00:37, 42.97it/s]"
     ]
    },
    {
     "name": "stderr",
     "output_type": "stream",
     "text": [
      "\r",
      "Step 3/3 :  35%|███▌      | 879/2500 [00:23<00:37, 42.97it/s]"
     ]
    },
    {
     "name": "stderr",
     "output_type": "stream",
     "text": [
      "\r",
      "Step 3/3 :  35%|███▌      | 879/2500 [00:23<00:37, 42.97it/s]"
     ]
    },
    {
     "name": "stderr",
     "output_type": "stream",
     "text": [
      "\r",
      "Step 3/3 :  35%|███▌      | 884/2500 [00:23<00:37, 42.57it/s]"
     ]
    },
    {
     "name": "stderr",
     "output_type": "stream",
     "text": [
      "\r",
      "Step 3/3 :  35%|███▌      | 884/2500 [00:23<00:37, 42.57it/s]"
     ]
    },
    {
     "name": "stderr",
     "output_type": "stream",
     "text": [
      "\r",
      "Step 3/3 :  35%|███▌      | 884/2500 [00:23<00:37, 42.57it/s]"
     ]
    },
    {
     "name": "stderr",
     "output_type": "stream",
     "text": [
      "\r",
      "Step 3/3 :  35%|███▌      | 884/2500 [00:23<00:37, 42.57it/s]"
     ]
    },
    {
     "name": "stderr",
     "output_type": "stream",
     "text": [
      "\r",
      "Step 3/3 :  35%|███▌      | 884/2500 [00:23<00:37, 42.57it/s]"
     ]
    },
    {
     "name": "stderr",
     "output_type": "stream",
     "text": [
      "\r",
      "Step 3/3 :  35%|███▌      | 884/2500 [00:23<00:37, 42.57it/s]"
     ]
    },
    {
     "name": "stderr",
     "output_type": "stream",
     "text": [
      "\r",
      "Step 3/3 :  36%|███▌      | 889/2500 [00:23<00:37, 42.40it/s]"
     ]
    },
    {
     "name": "stderr",
     "output_type": "stream",
     "text": [
      "\r",
      "Step 3/3 :  36%|███▌      | 889/2500 [00:23<00:37, 42.40it/s]"
     ]
    },
    {
     "name": "stderr",
     "output_type": "stream",
     "text": [
      "\r",
      "Step 3/3 :  36%|███▌      | 889/2500 [00:23<00:37, 42.40it/s]"
     ]
    },
    {
     "name": "stderr",
     "output_type": "stream",
     "text": [
      "\r",
      "Step 3/3 :  36%|███▌      | 889/2500 [00:23<00:37, 42.40it/s]"
     ]
    },
    {
     "name": "stderr",
     "output_type": "stream",
     "text": [
      "\r",
      "Step 3/3 :  36%|███▌      | 889/2500 [00:23<00:37, 42.40it/s]"
     ]
    },
    {
     "name": "stderr",
     "output_type": "stream",
     "text": [
      "\r",
      "Step 3/3 :  36%|███▌      | 889/2500 [00:23<00:37, 42.40it/s]"
     ]
    },
    {
     "name": "stderr",
     "output_type": "stream",
     "text": [
      "\r",
      "Step 3/3 :  36%|███▌      | 894/2500 [00:23<00:38, 41.54it/s]"
     ]
    },
    {
     "name": "stderr",
     "output_type": "stream",
     "text": [
      "\r",
      "Step 3/3 :  36%|███▌      | 894/2500 [00:23<00:38, 41.54it/s]"
     ]
    },
    {
     "name": "stderr",
     "output_type": "stream",
     "text": [
      "\r",
      "Step 3/3 :  36%|███▌      | 894/2500 [00:23<00:38, 41.54it/s]"
     ]
    },
    {
     "name": "stderr",
     "output_type": "stream",
     "text": [
      "\r",
      "Step 3/3 :  36%|███▌      | 894/2500 [00:23<00:38, 41.54it/s]"
     ]
    },
    {
     "name": "stderr",
     "output_type": "stream",
     "text": [
      "\r",
      "Step 3/3 :  36%|███▌      | 894/2500 [00:23<00:38, 41.54it/s]"
     ]
    },
    {
     "name": "stderr",
     "output_type": "stream",
     "text": [
      "\r",
      "Step 3/3 :  36%|███▌      | 894/2500 [00:23<00:38, 41.54it/s]"
     ]
    },
    {
     "name": "stderr",
     "output_type": "stream",
     "text": [
      "\r",
      "Step 3/3 :  36%|███▌      | 899/2500 [00:23<00:38, 41.07it/s]"
     ]
    },
    {
     "name": "stderr",
     "output_type": "stream",
     "text": [
      "\r",
      "Step 3/3 :  36%|███▌      | 899/2500 [00:23<00:38, 41.07it/s]"
     ]
    },
    {
     "name": "stderr",
     "output_type": "stream",
     "text": [
      "\r",
      "Step 3/3 :  36%|███▌      | 899/2500 [00:23<00:38, 41.07it/s]"
     ]
    },
    {
     "name": "stderr",
     "output_type": "stream",
     "text": [
      "\r",
      "Step 3/3 :  36%|███▌      | 899/2500 [00:23<00:38, 41.07it/s]"
     ]
    },
    {
     "name": "stderr",
     "output_type": "stream",
     "text": [
      "\r",
      "Step 3/3 :  36%|███▌      | 899/2500 [00:23<00:38, 41.07it/s]"
     ]
    },
    {
     "name": "stderr",
     "output_type": "stream",
     "text": [
      "\r",
      "Step 3/3 :  36%|███▌      | 899/2500 [00:23<00:38, 41.07it/s]"
     ]
    },
    {
     "name": "stderr",
     "output_type": "stream",
     "text": [
      "\r",
      "Step 3/3 :  36%|███▌      | 904/2500 [00:23<00:38, 41.66it/s]"
     ]
    },
    {
     "name": "stderr",
     "output_type": "stream",
     "text": [
      "\r",
      "Step 3/3 :  36%|███▌      | 904/2500 [00:23<00:38, 41.66it/s]"
     ]
    },
    {
     "name": "stderr",
     "output_type": "stream",
     "text": [
      "\r",
      "Step 3/3 :  36%|███▌      | 904/2500 [00:23<00:38, 41.66it/s]"
     ]
    },
    {
     "name": "stderr",
     "output_type": "stream",
     "text": [
      "\r",
      "Step 3/3 :  36%|███▌      | 904/2500 [00:23<00:38, 41.66it/s]"
     ]
    },
    {
     "name": "stderr",
     "output_type": "stream",
     "text": [
      "\r",
      "Step 3/3 :  36%|███▌      | 904/2500 [00:23<00:38, 41.66it/s]"
     ]
    },
    {
     "name": "stderr",
     "output_type": "stream",
     "text": [
      "\r",
      "Step 3/3 :  36%|███▌      | 904/2500 [00:23<00:38, 41.66it/s]"
     ]
    },
    {
     "name": "stderr",
     "output_type": "stream",
     "text": [
      "\r",
      "Step 3/3 :  36%|███▋      | 909/2500 [00:23<00:37, 42.40it/s]"
     ]
    },
    {
     "name": "stderr",
     "output_type": "stream",
     "text": [
      "\r",
      "Step 3/3 :  36%|███▋      | 909/2500 [00:23<00:37, 42.40it/s]"
     ]
    },
    {
     "name": "stderr",
     "output_type": "stream",
     "text": [
      "\r",
      "Step 3/3 :  36%|███▋      | 909/2500 [00:23<00:37, 42.40it/s]"
     ]
    },
    {
     "name": "stderr",
     "output_type": "stream",
     "text": [
      "\r",
      "Step 3/3 :  36%|███▋      | 909/2500 [00:23<00:37, 42.40it/s]"
     ]
    },
    {
     "name": "stderr",
     "output_type": "stream",
     "text": [
      "\r",
      "Step 3/3 :  36%|███▋      | 909/2500 [00:23<00:37, 42.40it/s]"
     ]
    },
    {
     "name": "stderr",
     "output_type": "stream",
     "text": [
      "\r",
      "Step 3/3 :  36%|███▋      | 909/2500 [00:23<00:37, 42.40it/s]"
     ]
    },
    {
     "name": "stderr",
     "output_type": "stream",
     "text": [
      "\r",
      "Step 3/3 :  37%|███▋      | 914/2500 [00:23<00:36, 43.27it/s]"
     ]
    },
    {
     "name": "stderr",
     "output_type": "stream",
     "text": [
      "\r",
      "Step 3/3 :  37%|███▋      | 914/2500 [00:23<00:36, 43.27it/s]"
     ]
    },
    {
     "name": "stderr",
     "output_type": "stream",
     "text": [
      "\r",
      "Step 3/3 :  37%|███▋      | 914/2500 [00:23<00:36, 43.27it/s]"
     ]
    },
    {
     "name": "stderr",
     "output_type": "stream",
     "text": [
      "\r",
      "Step 3/3 :  37%|███▋      | 914/2500 [00:23<00:36, 43.27it/s]"
     ]
    },
    {
     "name": "stderr",
     "output_type": "stream",
     "text": [
      "\r",
      "Step 3/3 :  37%|███▋      | 914/2500 [00:23<00:36, 43.27it/s]"
     ]
    },
    {
     "name": "stderr",
     "output_type": "stream",
     "text": [
      "\r",
      "Step 3/3 :  37%|███▋      | 914/2500 [00:23<00:36, 43.27it/s]"
     ]
    },
    {
     "name": "stderr",
     "output_type": "stream",
     "text": [
      "\r",
      "Step 3/3 :  37%|███▋      | 919/2500 [00:23<00:36, 43.56it/s]"
     ]
    },
    {
     "name": "stderr",
     "output_type": "stream",
     "text": [
      "\r",
      "Step 3/3 :  37%|███▋      | 919/2500 [00:23<00:36, 43.56it/s]"
     ]
    },
    {
     "name": "stderr",
     "output_type": "stream",
     "text": [
      "\r",
      "Step 3/3 :  37%|███▋      | 919/2500 [00:24<00:36, 43.56it/s]"
     ]
    },
    {
     "name": "stderr",
     "output_type": "stream",
     "text": [
      "\r",
      "Step 3/3 :  37%|███▋      | 919/2500 [00:24<00:36, 43.56it/s]"
     ]
    },
    {
     "name": "stderr",
     "output_type": "stream",
     "text": [
      "\r",
      "Step 3/3 :  37%|███▋      | 919/2500 [00:24<00:36, 43.56it/s]"
     ]
    },
    {
     "name": "stderr",
     "output_type": "stream",
     "text": [
      "\r",
      "Step 3/3 :  37%|███▋      | 919/2500 [00:24<00:36, 43.56it/s]"
     ]
    },
    {
     "name": "stderr",
     "output_type": "stream",
     "text": [
      "\r",
      "Step 3/3 :  37%|███▋      | 924/2500 [00:24<00:35, 44.00it/s]"
     ]
    },
    {
     "name": "stderr",
     "output_type": "stream",
     "text": [
      "\r",
      "Step 3/3 :  37%|███▋      | 924/2500 [00:24<00:35, 44.00it/s]"
     ]
    },
    {
     "name": "stderr",
     "output_type": "stream",
     "text": [
      "\r",
      "Step 3/3 :  37%|███▋      | 924/2500 [00:24<00:35, 44.00it/s]"
     ]
    },
    {
     "name": "stderr",
     "output_type": "stream",
     "text": [
      "\r",
      "Step 3/3 :  37%|███▋      | 924/2500 [00:24<00:35, 44.00it/s]"
     ]
    },
    {
     "name": "stderr",
     "output_type": "stream",
     "text": [
      "\r",
      "Step 3/3 :  37%|███▋      | 924/2500 [00:24<00:35, 44.00it/s]"
     ]
    },
    {
     "name": "stderr",
     "output_type": "stream",
     "text": [
      "\r",
      "Step 3/3 :  37%|███▋      | 924/2500 [00:24<00:35, 44.00it/s]"
     ]
    },
    {
     "name": "stderr",
     "output_type": "stream",
     "text": [
      "\r",
      "Step 3/3 :  37%|███▋      | 929/2500 [00:24<00:35, 43.96it/s]"
     ]
    },
    {
     "name": "stderr",
     "output_type": "stream",
     "text": [
      "\r",
      "Step 3/3 :  37%|███▋      | 929/2500 [00:24<00:35, 43.96it/s]"
     ]
    },
    {
     "name": "stderr",
     "output_type": "stream",
     "text": [
      "\r",
      "Step 3/3 :  37%|███▋      | 929/2500 [00:24<00:35, 43.96it/s]"
     ]
    },
    {
     "name": "stderr",
     "output_type": "stream",
     "text": [
      "\r",
      "Step 3/3 :  37%|███▋      | 929/2500 [00:24<00:35, 43.96it/s]"
     ]
    },
    {
     "name": "stderr",
     "output_type": "stream",
     "text": [
      "\r",
      "Step 3/3 :  37%|███▋      | 929/2500 [00:24<00:35, 43.96it/s]"
     ]
    },
    {
     "name": "stderr",
     "output_type": "stream",
     "text": [
      "\r",
      "Step 3/3 :  37%|███▋      | 929/2500 [00:24<00:35, 43.96it/s]"
     ]
    },
    {
     "name": "stderr",
     "output_type": "stream",
     "text": [
      "\r",
      "Step 3/3 :  37%|███▋      | 934/2500 [00:24<00:45, 34.18it/s]"
     ]
    },
    {
     "name": "stderr",
     "output_type": "stream",
     "text": [
      "\r",
      "Step 3/3 :  37%|███▋      | 934/2500 [00:24<00:45, 34.18it/s]"
     ]
    },
    {
     "name": "stderr",
     "output_type": "stream",
     "text": [
      "\r",
      "Step 3/3 :  37%|███▋      | 934/2500 [00:24<00:45, 34.18it/s]"
     ]
    },
    {
     "name": "stderr",
     "output_type": "stream",
     "text": [
      "\r",
      "Step 3/3 :  37%|███▋      | 934/2500 [00:24<00:45, 34.18it/s]"
     ]
    },
    {
     "name": "stderr",
     "output_type": "stream",
     "text": [
      "\r",
      "Step 3/3 :  37%|███▋      | 934/2500 [00:24<00:45, 34.18it/s]"
     ]
    },
    {
     "name": "stderr",
     "output_type": "stream",
     "text": [
      "\r",
      "Step 3/3 :  38%|███▊      | 938/2500 [00:24<00:51, 30.58it/s]"
     ]
    },
    {
     "name": "stderr",
     "output_type": "stream",
     "text": [
      "\r",
      "Step 3/3 :  38%|███▊      | 938/2500 [00:24<00:51, 30.58it/s]"
     ]
    },
    {
     "name": "stderr",
     "output_type": "stream",
     "text": [
      "\r",
      "Step 3/3 :  38%|███▊      | 938/2500 [00:24<00:51, 30.58it/s]"
     ]
    },
    {
     "name": "stderr",
     "output_type": "stream",
     "text": [
      "\r",
      "Step 3/3 :  38%|███▊      | 938/2500 [00:24<00:51, 30.58it/s]"
     ]
    },
    {
     "name": "stderr",
     "output_type": "stream",
     "text": [
      "\r",
      "Step 3/3 :  38%|███▊      | 938/2500 [00:24<00:51, 30.58it/s]"
     ]
    },
    {
     "name": "stderr",
     "output_type": "stream",
     "text": [
      "\r",
      "Step 3/3 :  38%|███▊      | 942/2500 [00:24<00:52, 29.84it/s]"
     ]
    },
    {
     "name": "stderr",
     "output_type": "stream",
     "text": [
      "\r",
      "Step 3/3 :  38%|███▊      | 942/2500 [00:24<00:52, 29.84it/s]"
     ]
    },
    {
     "name": "stderr",
     "output_type": "stream",
     "text": [
      "\r",
      "Step 3/3 :  38%|███▊      | 942/2500 [00:24<00:52, 29.84it/s]"
     ]
    },
    {
     "name": "stderr",
     "output_type": "stream",
     "text": [
      "\r",
      "Step 3/3 :  38%|███▊      | 942/2500 [00:24<00:52, 29.84it/s]"
     ]
    },
    {
     "name": "stderr",
     "output_type": "stream",
     "text": [
      "\r",
      "Step 3/3 :  38%|███▊      | 942/2500 [00:24<00:52, 29.84it/s]"
     ]
    },
    {
     "name": "stderr",
     "output_type": "stream",
     "text": [
      "\r",
      "Step 3/3 :  38%|███▊      | 946/2500 [00:24<00:52, 29.66it/s]"
     ]
    },
    {
     "name": "stderr",
     "output_type": "stream",
     "text": [
      "\r",
      "Step 3/3 :  38%|███▊      | 946/2500 [00:24<00:52, 29.66it/s]"
     ]
    },
    {
     "name": "stderr",
     "output_type": "stream",
     "text": [
      "\r",
      "Step 3/3 :  38%|███▊      | 946/2500 [00:24<00:52, 29.66it/s]"
     ]
    },
    {
     "name": "stderr",
     "output_type": "stream",
     "text": [
      "\r",
      "Step 3/3 :  38%|███▊      | 946/2500 [00:24<00:52, 29.66it/s]"
     ]
    },
    {
     "name": "stderr",
     "output_type": "stream",
     "text": [
      "\r",
      "Step 3/3 :  38%|███▊      | 946/2500 [00:24<00:52, 29.66it/s]"
     ]
    },
    {
     "name": "stderr",
     "output_type": "stream",
     "text": [
      "\r",
      "Step 3/3 :  38%|███▊      | 950/2500 [00:24<00:49, 31.22it/s]"
     ]
    },
    {
     "name": "stderr",
     "output_type": "stream",
     "text": [
      "\r",
      "Step 3/3 :  38%|███▊      | 950/2500 [00:24<00:49, 31.22it/s]"
     ]
    },
    {
     "name": "stderr",
     "output_type": "stream",
     "text": [
      "\r",
      "Step 3/3 :  38%|███▊      | 950/2500 [00:25<00:49, 31.22it/s]"
     ]
    },
    {
     "name": "stderr",
     "output_type": "stream",
     "text": [
      "\r",
      "Step 3/3 :  38%|███▊      | 950/2500 [00:25<00:49, 31.22it/s]"
     ]
    },
    {
     "name": "stderr",
     "output_type": "stream",
     "text": [
      "\r",
      "Step 3/3 :  38%|███▊      | 950/2500 [00:25<00:49, 31.22it/s]"
     ]
    },
    {
     "name": "stderr",
     "output_type": "stream",
     "text": [
      "\r",
      "Step 3/3 :  38%|███▊      | 950/2500 [00:25<00:49, 31.22it/s]"
     ]
    },
    {
     "name": "stderr",
     "output_type": "stream",
     "text": [
      "\r",
      "Step 3/3 :  38%|███▊      | 955/2500 [00:25<00:45, 33.93it/s]"
     ]
    },
    {
     "name": "stderr",
     "output_type": "stream",
     "text": [
      "\r",
      "Step 3/3 :  38%|███▊      | 955/2500 [00:25<00:45, 33.93it/s]"
     ]
    },
    {
     "name": "stderr",
     "output_type": "stream",
     "text": [
      "\r",
      "Step 3/3 :  38%|███▊      | 955/2500 [00:25<00:45, 33.93it/s]"
     ]
    },
    {
     "name": "stderr",
     "output_type": "stream",
     "text": [
      "\r",
      "Step 3/3 :  38%|███▊      | 955/2500 [00:25<00:45, 33.93it/s]"
     ]
    },
    {
     "name": "stderr",
     "output_type": "stream",
     "text": [
      "\r",
      "Step 3/3 :  38%|███▊      | 955/2500 [00:25<00:45, 33.93it/s]"
     ]
    },
    {
     "name": "stderr",
     "output_type": "stream",
     "text": [
      "\r",
      "Step 3/3 :  38%|███▊      | 955/2500 [00:25<00:45, 33.93it/s]"
     ]
    },
    {
     "name": "stderr",
     "output_type": "stream",
     "text": [
      "\r",
      "Step 3/3 :  38%|███▊      | 960/2500 [00:25<00:42, 36.58it/s]"
     ]
    },
    {
     "name": "stderr",
     "output_type": "stream",
     "text": [
      "\r",
      "Step 3/3 :  38%|███▊      | 960/2500 [00:25<00:42, 36.58it/s]"
     ]
    },
    {
     "name": "stderr",
     "output_type": "stream",
     "text": [
      "\r",
      "Step 3/3 :  38%|███▊      | 960/2500 [00:25<00:42, 36.58it/s]"
     ]
    },
    {
     "name": "stderr",
     "output_type": "stream",
     "text": [
      "\r",
      "Step 3/3 :  38%|███▊      | 960/2500 [00:25<00:42, 36.58it/s]"
     ]
    },
    {
     "name": "stderr",
     "output_type": "stream",
     "text": [
      "\r",
      "Step 3/3 :  38%|███▊      | 960/2500 [00:25<00:42, 36.58it/s]"
     ]
    },
    {
     "name": "stderr",
     "output_type": "stream",
     "text": [
      "\r",
      "Step 3/3 :  39%|███▊      | 964/2500 [00:25<00:42, 35.77it/s]"
     ]
    },
    {
     "name": "stderr",
     "output_type": "stream",
     "text": [
      "\r",
      "Step 3/3 :  39%|███▊      | 964/2500 [00:25<00:42, 35.77it/s]"
     ]
    },
    {
     "name": "stderr",
     "output_type": "stream",
     "text": [
      "\r",
      "Step 3/3 :  39%|███▊      | 964/2500 [00:25<00:42, 35.77it/s]"
     ]
    },
    {
     "name": "stderr",
     "output_type": "stream",
     "text": [
      "\r",
      "Step 3/3 :  39%|███▊      | 964/2500 [00:25<00:42, 35.77it/s]"
     ]
    },
    {
     "name": "stderr",
     "output_type": "stream",
     "text": [
      "\r",
      "Step 3/3 :  39%|███▊      | 964/2500 [00:25<00:42, 35.77it/s]"
     ]
    },
    {
     "name": "stderr",
     "output_type": "stream",
     "text": [
      "\r",
      "Step 3/3 :  39%|███▊      | 968/2500 [00:25<00:41, 36.67it/s]"
     ]
    },
    {
     "name": "stderr",
     "output_type": "stream",
     "text": [
      "\r",
      "Step 3/3 :  39%|███▊      | 968/2500 [00:25<00:41, 36.67it/s]"
     ]
    },
    {
     "name": "stderr",
     "output_type": "stream",
     "text": [
      "\r",
      "Step 3/3 :  39%|███▊      | 968/2500 [00:25<00:41, 36.67it/s]"
     ]
    },
    {
     "name": "stderr",
     "output_type": "stream",
     "text": [
      "\r",
      "Step 3/3 :  39%|███▊      | 968/2500 [00:25<00:41, 36.67it/s]"
     ]
    },
    {
     "name": "stderr",
     "output_type": "stream",
     "text": [
      "\r",
      "Step 3/3 :  39%|███▊      | 968/2500 [00:25<00:41, 36.67it/s]"
     ]
    },
    {
     "name": "stderr",
     "output_type": "stream",
     "text": [
      "\r",
      "Step 3/3 :  39%|███▉      | 972/2500 [00:25<00:41, 36.77it/s]"
     ]
    },
    {
     "name": "stderr",
     "output_type": "stream",
     "text": [
      "\r",
      "Step 3/3 :  39%|███▉      | 972/2500 [00:25<00:41, 36.77it/s]"
     ]
    },
    {
     "name": "stderr",
     "output_type": "stream",
     "text": [
      "\r",
      "Step 3/3 :  39%|███▉      | 972/2500 [00:25<00:41, 36.77it/s]"
     ]
    },
    {
     "name": "stderr",
     "output_type": "stream",
     "text": [
      "\r",
      "Step 3/3 :  39%|███▉      | 972/2500 [00:25<00:41, 36.77it/s]"
     ]
    },
    {
     "name": "stderr",
     "output_type": "stream",
     "text": [
      "\r",
      "Step 3/3 :  39%|███▉      | 972/2500 [00:25<00:41, 36.77it/s]"
     ]
    },
    {
     "name": "stderr",
     "output_type": "stream",
     "text": [
      "\r",
      "Step 3/3 :  39%|███▉      | 976/2500 [00:25<00:41, 36.37it/s]"
     ]
    },
    {
     "name": "stderr",
     "output_type": "stream",
     "text": [
      "\r",
      "Step 3/3 :  39%|███▉      | 976/2500 [00:25<00:41, 36.37it/s]"
     ]
    },
    {
     "name": "stderr",
     "output_type": "stream",
     "text": [
      "\r",
      "Step 3/3 :  39%|███▉      | 976/2500 [00:25<00:41, 36.37it/s]"
     ]
    },
    {
     "name": "stderr",
     "output_type": "stream",
     "text": [
      "\r",
      "Step 3/3 :  39%|███▉      | 976/2500 [00:25<00:41, 36.37it/s]"
     ]
    },
    {
     "name": "stderr",
     "output_type": "stream",
     "text": [
      "\r",
      "Step 3/3 :  39%|███▉      | 976/2500 [00:25<00:41, 36.37it/s]"
     ]
    },
    {
     "name": "stderr",
     "output_type": "stream",
     "text": [
      "\r",
      "Step 3/3 :  39%|███▉      | 980/2500 [00:25<00:46, 32.70it/s]"
     ]
    },
    {
     "name": "stderr",
     "output_type": "stream",
     "text": [
      "\r",
      "Step 3/3 :  39%|███▉      | 980/2500 [00:25<00:46, 32.70it/s]"
     ]
    },
    {
     "name": "stderr",
     "output_type": "stream",
     "text": [
      "\r",
      "Step 3/3 :  39%|███▉      | 980/2500 [00:25<00:46, 32.70it/s]"
     ]
    },
    {
     "name": "stderr",
     "output_type": "stream",
     "text": [
      "\r",
      "Step 3/3 :  39%|███▉      | 980/2500 [00:25<00:46, 32.70it/s]"
     ]
    },
    {
     "name": "stderr",
     "output_type": "stream",
     "text": [
      "\r",
      "Step 3/3 :  39%|███▉      | 980/2500 [00:25<00:46, 32.70it/s]"
     ]
    },
    {
     "name": "stderr",
     "output_type": "stream",
     "text": [
      "\r",
      "Step 3/3 :  39%|███▉      | 984/2500 [00:25<00:45, 32.96it/s]"
     ]
    },
    {
     "name": "stderr",
     "output_type": "stream",
     "text": [
      "\r",
      "Step 3/3 :  39%|███▉      | 984/2500 [00:25<00:45, 32.96it/s]"
     ]
    },
    {
     "name": "stderr",
     "output_type": "stream",
     "text": [
      "\r",
      "Step 3/3 :  39%|███▉      | 984/2500 [00:25<00:45, 32.96it/s]"
     ]
    },
    {
     "name": "stderr",
     "output_type": "stream",
     "text": [
      "\r",
      "Step 3/3 :  39%|███▉      | 984/2500 [00:26<00:45, 32.96it/s]"
     ]
    },
    {
     "name": "stderr",
     "output_type": "stream",
     "text": [
      "\r",
      "Step 3/3 :  39%|███▉      | 984/2500 [00:26<00:45, 32.96it/s]"
     ]
    },
    {
     "name": "stderr",
     "output_type": "stream",
     "text": [
      "\r",
      "Step 3/3 :  40%|███▉      | 988/2500 [00:26<00:47, 31.60it/s]"
     ]
    },
    {
     "name": "stderr",
     "output_type": "stream",
     "text": [
      "\r",
      "Step 3/3 :  40%|███▉      | 988/2500 [00:26<00:47, 31.60it/s]"
     ]
    },
    {
     "name": "stderr",
     "output_type": "stream",
     "text": [
      "\r",
      "Step 3/3 :  40%|███▉      | 988/2500 [00:26<00:47, 31.60it/s]"
     ]
    },
    {
     "name": "stderr",
     "output_type": "stream",
     "text": [
      "\r",
      "Step 3/3 :  40%|███▉      | 988/2500 [00:26<00:47, 31.60it/s]"
     ]
    },
    {
     "name": "stderr",
     "output_type": "stream",
     "text": [
      "\r",
      "Step 3/3 :  40%|███▉      | 988/2500 [00:26<00:47, 31.60it/s]"
     ]
    },
    {
     "name": "stderr",
     "output_type": "stream",
     "text": [
      "\r",
      "Step 3/3 :  40%|███▉      | 992/2500 [00:26<00:46, 32.10it/s]"
     ]
    },
    {
     "name": "stderr",
     "output_type": "stream",
     "text": [
      "\r",
      "Step 3/3 :  40%|███▉      | 992/2500 [00:26<00:46, 32.10it/s]"
     ]
    },
    {
     "name": "stderr",
     "output_type": "stream",
     "text": [
      "\r",
      "Step 3/3 :  40%|███▉      | 992/2500 [00:26<00:46, 32.10it/s]"
     ]
    },
    {
     "name": "stderr",
     "output_type": "stream",
     "text": [
      "\r",
      "Step 3/3 :  40%|███▉      | 992/2500 [00:26<00:46, 32.10it/s]"
     ]
    },
    {
     "name": "stderr",
     "output_type": "stream",
     "text": [
      "\r",
      "Step 3/3 :  40%|███▉      | 992/2500 [00:26<00:46, 32.10it/s]"
     ]
    },
    {
     "name": "stderr",
     "output_type": "stream",
     "text": [
      "\r",
      "Step 3/3 :  40%|███▉      | 996/2500 [00:26<00:46, 32.38it/s]"
     ]
    },
    {
     "name": "stderr",
     "output_type": "stream",
     "text": [
      "\r",
      "Step 3/3 :  40%|███▉      | 996/2500 [00:26<00:46, 32.38it/s]"
     ]
    },
    {
     "name": "stderr",
     "output_type": "stream",
     "text": [
      "\r",
      "Step 3/3 :  40%|███▉      | 996/2500 [00:26<00:46, 32.38it/s]"
     ]
    },
    {
     "name": "stderr",
     "output_type": "stream",
     "text": [
      "\r",
      "Step 3/3 :  40%|███▉      | 996/2500 [00:26<00:46, 32.38it/s]"
     ]
    },
    {
     "name": "stderr",
     "output_type": "stream",
     "text": [
      "\r",
      "Step 3/3 :  40%|███▉      | 996/2500 [00:26<00:46, 32.38it/s]"
     ]
    },
    {
     "name": "stderr",
     "output_type": "stream",
     "text": [
      "\r",
      "Step 3/3 :  40%|████      | 1000/2500 [00:26<00:46, 32.11it/s]"
     ]
    },
    {
     "name": "stderr",
     "output_type": "stream",
     "text": [
      "\r",
      "Step 3/3 :  40%|████      | 1000/2500 [00:26<00:46, 32.11it/s]"
     ]
    },
    {
     "name": "stderr",
     "output_type": "stream",
     "text": [
      "\r",
      "Step 3/3 :  40%|████      | 1000/2500 [00:26<00:46, 32.11it/s]"
     ]
    },
    {
     "name": "stderr",
     "output_type": "stream",
     "text": [
      "\r",
      "Step 3/3 :  40%|████      | 1000/2500 [00:26<00:46, 32.11it/s]"
     ]
    },
    {
     "name": "stderr",
     "output_type": "stream",
     "text": [
      "\r",
      "Step 3/3 :  40%|████      | 1000/2500 [00:26<00:46, 32.11it/s]"
     ]
    },
    {
     "name": "stderr",
     "output_type": "stream",
     "text": [
      "\r",
      "Step 3/3 :  40%|████      | 1004/2500 [00:26<00:47, 31.32it/s]"
     ]
    },
    {
     "name": "stderr",
     "output_type": "stream",
     "text": [
      "\r",
      "Step 3/3 :  40%|████      | 1004/2500 [00:26<00:47, 31.32it/s]"
     ]
    },
    {
     "name": "stderr",
     "output_type": "stream",
     "text": [
      "\r",
      "Step 3/3 :  40%|████      | 1004/2500 [00:26<00:47, 31.32it/s]"
     ]
    },
    {
     "name": "stderr",
     "output_type": "stream",
     "text": [
      "\r",
      "Step 3/3 :  40%|████      | 1004/2500 [00:26<00:47, 31.32it/s]"
     ]
    },
    {
     "name": "stderr",
     "output_type": "stream",
     "text": [
      "\r",
      "Step 3/3 :  40%|████      | 1004/2500 [00:26<00:47, 31.32it/s]"
     ]
    },
    {
     "name": "stderr",
     "output_type": "stream",
     "text": [
      "\r",
      "Step 3/3 :  40%|████      | 1008/2500 [00:26<00:46, 31.82it/s]"
     ]
    },
    {
     "name": "stderr",
     "output_type": "stream",
     "text": [
      "\r",
      "Step 3/3 :  40%|████      | 1008/2500 [00:26<00:46, 31.82it/s]"
     ]
    },
    {
     "name": "stderr",
     "output_type": "stream",
     "text": [
      "\r",
      "Step 3/3 :  40%|████      | 1008/2500 [00:26<00:46, 31.82it/s]"
     ]
    },
    {
     "name": "stderr",
     "output_type": "stream",
     "text": [
      "\r",
      "Step 3/3 :  40%|████      | 1008/2500 [00:26<00:46, 31.82it/s]"
     ]
    },
    {
     "name": "stderr",
     "output_type": "stream",
     "text": [
      "\r",
      "Step 3/3 :  40%|████      | 1008/2500 [00:26<00:46, 31.82it/s]"
     ]
    },
    {
     "name": "stderr",
     "output_type": "stream",
     "text": [
      "\r",
      "Step 3/3 :  40%|████      | 1012/2500 [00:26<00:45, 32.74it/s]"
     ]
    },
    {
     "name": "stderr",
     "output_type": "stream",
     "text": [
      "\r",
      "Step 3/3 :  40%|████      | 1012/2500 [00:26<00:45, 32.74it/s]"
     ]
    },
    {
     "name": "stderr",
     "output_type": "stream",
     "text": [
      "\r",
      "Step 3/3 :  40%|████      | 1012/2500 [00:26<00:45, 32.74it/s]"
     ]
    },
    {
     "name": "stderr",
     "output_type": "stream",
     "text": [
      "\r",
      "Step 3/3 :  40%|████      | 1012/2500 [00:26<00:45, 32.74it/s]"
     ]
    },
    {
     "name": "stderr",
     "output_type": "stream",
     "text": [
      "\r",
      "Step 3/3 :  40%|████      | 1012/2500 [00:26<00:45, 32.74it/s]"
     ]
    },
    {
     "name": "stderr",
     "output_type": "stream",
     "text": [
      "\r",
      "Step 3/3 :  41%|████      | 1016/2500 [00:26<00:43, 33.83it/s]"
     ]
    },
    {
     "name": "stderr",
     "output_type": "stream",
     "text": [
      "\r",
      "Step 3/3 :  41%|████      | 1016/2500 [00:26<00:43, 33.83it/s]"
     ]
    },
    {
     "name": "stderr",
     "output_type": "stream",
     "text": [
      "\r",
      "Step 3/3 :  41%|████      | 1016/2500 [00:26<00:43, 33.83it/s]"
     ]
    },
    {
     "name": "stderr",
     "output_type": "stream",
     "text": [
      "\r",
      "Step 3/3 :  41%|████      | 1016/2500 [00:26<00:43, 33.83it/s]"
     ]
    },
    {
     "name": "stderr",
     "output_type": "stream",
     "text": [
      "\r",
      "Step 3/3 :  41%|████      | 1016/2500 [00:26<00:43, 33.83it/s]"
     ]
    },
    {
     "name": "stderr",
     "output_type": "stream",
     "text": [
      "\r",
      "Step 3/3 :  41%|████      | 1016/2500 [00:27<00:43, 33.83it/s]"
     ]
    },
    {
     "name": "stderr",
     "output_type": "stream",
     "text": [
      "\r",
      "Step 3/3 :  41%|████      | 1021/2500 [00:27<00:40, 36.57it/s]"
     ]
    },
    {
     "name": "stderr",
     "output_type": "stream",
     "text": [
      "\r",
      "Step 3/3 :  41%|████      | 1021/2500 [00:27<00:40, 36.57it/s]"
     ]
    },
    {
     "name": "stderr",
     "output_type": "stream",
     "text": [
      "\r",
      "Step 3/3 :  41%|████      | 1021/2500 [00:27<00:40, 36.57it/s]"
     ]
    },
    {
     "name": "stderr",
     "output_type": "stream",
     "text": [
      "\r",
      "Step 3/3 :  41%|████      | 1021/2500 [00:27<00:40, 36.57it/s]"
     ]
    },
    {
     "name": "stderr",
     "output_type": "stream",
     "text": [
      "\r",
      "Step 3/3 :  41%|████      | 1021/2500 [00:27<00:40, 36.57it/s]"
     ]
    },
    {
     "name": "stderr",
     "output_type": "stream",
     "text": [
      "\r",
      "Step 3/3 :  41%|████      | 1021/2500 [00:27<00:40, 36.57it/s]"
     ]
    },
    {
     "name": "stderr",
     "output_type": "stream",
     "text": [
      "\r",
      "Step 3/3 :  41%|████      | 1026/2500 [00:27<00:38, 38.22it/s]"
     ]
    },
    {
     "name": "stderr",
     "output_type": "stream",
     "text": [
      "\r",
      "Step 3/3 :  41%|████      | 1026/2500 [00:27<00:38, 38.22it/s]"
     ]
    },
    {
     "name": "stderr",
     "output_type": "stream",
     "text": [
      "\r",
      "Step 3/3 :  41%|████      | 1026/2500 [00:27<00:38, 38.22it/s]"
     ]
    },
    {
     "name": "stderr",
     "output_type": "stream",
     "text": [
      "\r",
      "Step 3/3 :  41%|████      | 1026/2500 [00:27<00:38, 38.22it/s]"
     ]
    },
    {
     "name": "stderr",
     "output_type": "stream",
     "text": [
      "\r",
      "Step 3/3 :  41%|████      | 1026/2500 [00:27<00:38, 38.22it/s]"
     ]
    },
    {
     "name": "stderr",
     "output_type": "stream",
     "text": [
      "\r",
      "Step 3/3 :  41%|████      | 1026/2500 [00:27<00:38, 38.22it/s]"
     ]
    },
    {
     "name": "stderr",
     "output_type": "stream",
     "text": [
      "\r",
      "Step 3/3 :  41%|████      | 1031/2500 [00:27<00:37, 39.67it/s]"
     ]
    },
    {
     "name": "stderr",
     "output_type": "stream",
     "text": [
      "\r",
      "Step 3/3 :  41%|████      | 1031/2500 [00:27<00:37, 39.67it/s]"
     ]
    },
    {
     "name": "stderr",
     "output_type": "stream",
     "text": [
      "\r",
      "Step 3/3 :  41%|████      | 1031/2500 [00:27<00:37, 39.67it/s]"
     ]
    },
    {
     "name": "stderr",
     "output_type": "stream",
     "text": [
      "\r",
      "Step 3/3 :  41%|████      | 1031/2500 [00:27<00:37, 39.67it/s]"
     ]
    },
    {
     "name": "stderr",
     "output_type": "stream",
     "text": [
      "\r",
      "Step 3/3 :  41%|████      | 1031/2500 [00:27<00:37, 39.67it/s]"
     ]
    },
    {
     "name": "stderr",
     "output_type": "stream",
     "text": [
      "\r",
      "Step 3/3 :  41%|████▏     | 1035/2500 [00:27<00:37, 38.92it/s]"
     ]
    },
    {
     "name": "stderr",
     "output_type": "stream",
     "text": [
      "\r",
      "Step 3/3 :  41%|████▏     | 1035/2500 [00:27<00:37, 38.92it/s]"
     ]
    },
    {
     "name": "stderr",
     "output_type": "stream",
     "text": [
      "\r",
      "Step 3/3 :  41%|████▏     | 1035/2500 [00:27<00:37, 38.92it/s]"
     ]
    },
    {
     "name": "stderr",
     "output_type": "stream",
     "text": [
      "\r",
      "Step 3/3 :  41%|████▏     | 1035/2500 [00:27<00:37, 38.92it/s]"
     ]
    },
    {
     "name": "stderr",
     "output_type": "stream",
     "text": [
      "\r",
      "Step 3/3 :  41%|████▏     | 1035/2500 [00:27<00:37, 38.92it/s]"
     ]
    },
    {
     "name": "stderr",
     "output_type": "stream",
     "text": [
      "\r",
      "Step 3/3 :  42%|████▏     | 1039/2500 [00:27<00:40, 36.44it/s]"
     ]
    },
    {
     "name": "stderr",
     "output_type": "stream",
     "text": [
      "\r",
      "Step 3/3 :  42%|████▏     | 1039/2500 [00:27<00:40, 36.44it/s]"
     ]
    },
    {
     "name": "stderr",
     "output_type": "stream",
     "text": [
      "\r",
      "Step 3/3 :  42%|████▏     | 1039/2500 [00:27<00:40, 36.44it/s]"
     ]
    },
    {
     "name": "stderr",
     "output_type": "stream",
     "text": [
      "\r",
      "Step 3/3 :  42%|████▏     | 1039/2500 [00:27<00:40, 36.44it/s]"
     ]
    },
    {
     "name": "stderr",
     "output_type": "stream",
     "text": [
      "\r",
      "Step 3/3 :  42%|████▏     | 1039/2500 [00:27<00:40, 36.44it/s]"
     ]
    },
    {
     "name": "stderr",
     "output_type": "stream",
     "text": [
      "\r",
      "Step 3/3 :  42%|████▏     | 1043/2500 [00:27<00:40, 36.04it/s]"
     ]
    },
    {
     "name": "stderr",
     "output_type": "stream",
     "text": [
      "\r",
      "Step 3/3 :  42%|████▏     | 1043/2500 [00:27<00:40, 36.04it/s]"
     ]
    },
    {
     "name": "stderr",
     "output_type": "stream",
     "text": [
      "\r",
      "Step 3/3 :  42%|████▏     | 1043/2500 [00:27<00:40, 36.04it/s]"
     ]
    },
    {
     "name": "stderr",
     "output_type": "stream",
     "text": [
      "\r",
      "Step 3/3 :  42%|████▏     | 1043/2500 [00:27<00:40, 36.04it/s]"
     ]
    },
    {
     "name": "stderr",
     "output_type": "stream",
     "text": [
      "\r",
      "Step 3/3 :  42%|████▏     | 1043/2500 [00:27<00:40, 36.04it/s]"
     ]
    },
    {
     "name": "stderr",
     "output_type": "stream",
     "text": [
      "\r",
      "Step 3/3 :  42%|████▏     | 1047/2500 [00:27<00:41, 35.03it/s]"
     ]
    },
    {
     "name": "stderr",
     "output_type": "stream",
     "text": [
      "\r",
      "Step 3/3 :  42%|████▏     | 1047/2500 [00:27<00:41, 35.03it/s]"
     ]
    },
    {
     "name": "stderr",
     "output_type": "stream",
     "text": [
      "\r",
      "Step 3/3 :  42%|████▏     | 1047/2500 [00:27<00:41, 35.03it/s]"
     ]
    },
    {
     "name": "stderr",
     "output_type": "stream",
     "text": [
      "\r",
      "Step 3/3 :  42%|████▏     | 1047/2500 [00:27<00:41, 35.03it/s]"
     ]
    },
    {
     "name": "stderr",
     "output_type": "stream",
     "text": [
      "\r",
      "Step 3/3 :  42%|████▏     | 1047/2500 [00:27<00:41, 35.03it/s]"
     ]
    },
    {
     "name": "stderr",
     "output_type": "stream",
     "text": [
      "\r",
      "Step 3/3 :  42%|████▏     | 1051/2500 [00:27<00:40, 35.78it/s]"
     ]
    },
    {
     "name": "stderr",
     "output_type": "stream",
     "text": [
      "\r",
      "Step 3/3 :  42%|████▏     | 1051/2500 [00:27<00:40, 35.78it/s]"
     ]
    },
    {
     "name": "stderr",
     "output_type": "stream",
     "text": [
      "\r",
      "Step 3/3 :  42%|████▏     | 1051/2500 [00:27<00:40, 35.78it/s]"
     ]
    },
    {
     "name": "stderr",
     "output_type": "stream",
     "text": [
      "\r",
      "Step 3/3 :  42%|████▏     | 1051/2500 [00:27<00:40, 35.78it/s]"
     ]
    },
    {
     "name": "stderr",
     "output_type": "stream",
     "text": [
      "\r",
      "Step 3/3 :  42%|████▏     | 1051/2500 [00:27<00:40, 35.78it/s]"
     ]
    },
    {
     "name": "stderr",
     "output_type": "stream",
     "text": [
      "\r",
      "Step 3/3 :  42%|████▏     | 1051/2500 [00:27<00:40, 35.78it/s]"
     ]
    },
    {
     "name": "stderr",
     "output_type": "stream",
     "text": [
      "\r",
      "Step 3/3 :  42%|████▏     | 1056/2500 [00:27<00:38, 37.22it/s]"
     ]
    },
    {
     "name": "stderr",
     "output_type": "stream",
     "text": [
      "\r",
      "Step 3/3 :  42%|████▏     | 1056/2500 [00:27<00:38, 37.22it/s]"
     ]
    },
    {
     "name": "stderr",
     "output_type": "stream",
     "text": [
      "\r",
      "Step 3/3 :  42%|████▏     | 1056/2500 [00:28<00:38, 37.22it/s]"
     ]
    },
    {
     "name": "stderr",
     "output_type": "stream",
     "text": [
      "\r",
      "Step 3/3 :  42%|████▏     | 1056/2500 [00:28<00:38, 37.22it/s]"
     ]
    },
    {
     "name": "stderr",
     "output_type": "stream",
     "text": [
      "\r",
      "Step 3/3 :  42%|████▏     | 1056/2500 [00:28<00:38, 37.22it/s]"
     ]
    },
    {
     "name": "stderr",
     "output_type": "stream",
     "text": [
      "\r",
      "Step 3/3 :  42%|████▏     | 1060/2500 [00:28<00:38, 37.26it/s]"
     ]
    },
    {
     "name": "stderr",
     "output_type": "stream",
     "text": [
      "\r",
      "Step 3/3 :  42%|████▏     | 1060/2500 [00:28<00:38, 37.26it/s]"
     ]
    },
    {
     "name": "stderr",
     "output_type": "stream",
     "text": [
      "\r",
      "Step 3/3 :  42%|████▏     | 1060/2500 [00:28<00:38, 37.26it/s]"
     ]
    },
    {
     "name": "stderr",
     "output_type": "stream",
     "text": [
      "\r",
      "Step 3/3 :  42%|████▏     | 1060/2500 [00:28<00:38, 37.26it/s]"
     ]
    },
    {
     "name": "stderr",
     "output_type": "stream",
     "text": [
      "\r",
      "Step 3/3 :  42%|████▏     | 1060/2500 [00:28<00:38, 37.26it/s]"
     ]
    },
    {
     "name": "stderr",
     "output_type": "stream",
     "text": [
      "\r",
      "Step 3/3 :  43%|████▎     | 1064/2500 [00:28<00:38, 37.60it/s]"
     ]
    },
    {
     "name": "stderr",
     "output_type": "stream",
     "text": [
      "\r",
      "Step 3/3 :  43%|████▎     | 1064/2500 [00:28<00:38, 37.60it/s]"
     ]
    },
    {
     "name": "stderr",
     "output_type": "stream",
     "text": [
      "\r",
      "Step 3/3 :  43%|████▎     | 1064/2500 [00:28<00:38, 37.60it/s]"
     ]
    },
    {
     "name": "stderr",
     "output_type": "stream",
     "text": [
      "\r",
      "Step 3/3 :  43%|████▎     | 1064/2500 [00:28<00:38, 37.60it/s]"
     ]
    },
    {
     "name": "stderr",
     "output_type": "stream",
     "text": [
      "\r",
      "Step 3/3 :  43%|████▎     | 1064/2500 [00:28<00:38, 37.60it/s]"
     ]
    },
    {
     "name": "stderr",
     "output_type": "stream",
     "text": [
      "\r",
      "Step 3/3 :  43%|████▎     | 1068/2500 [00:28<00:40, 35.32it/s]"
     ]
    },
    {
     "name": "stderr",
     "output_type": "stream",
     "text": [
      "\r",
      "Step 3/3 :  43%|████▎     | 1068/2500 [00:28<00:40, 35.32it/s]"
     ]
    },
    {
     "name": "stderr",
     "output_type": "stream",
     "text": [
      "\r",
      "Step 3/3 :  43%|████▎     | 1068/2500 [00:28<00:40, 35.32it/s]"
     ]
    },
    {
     "name": "stderr",
     "output_type": "stream",
     "text": [
      "\r",
      "Step 3/3 :  43%|████▎     | 1068/2500 [00:28<00:40, 35.32it/s]"
     ]
    },
    {
     "name": "stderr",
     "output_type": "stream",
     "text": [
      "\r",
      "Step 3/3 :  43%|████▎     | 1068/2500 [00:28<00:40, 35.32it/s]"
     ]
    },
    {
     "name": "stderr",
     "output_type": "stream",
     "text": [
      "\r",
      "Step 3/3 :  43%|████▎     | 1072/2500 [00:28<00:41, 34.45it/s]"
     ]
    },
    {
     "name": "stderr",
     "output_type": "stream",
     "text": [
      "\r",
      "Step 3/3 :  43%|████▎     | 1072/2500 [00:28<00:41, 34.45it/s]"
     ]
    },
    {
     "name": "stderr",
     "output_type": "stream",
     "text": [
      "\r",
      "Step 3/3 :  43%|████▎     | 1072/2500 [00:28<00:41, 34.45it/s]"
     ]
    },
    {
     "name": "stderr",
     "output_type": "stream",
     "text": [
      "\r",
      "Step 3/3 :  43%|████▎     | 1072/2500 [00:28<00:41, 34.45it/s]"
     ]
    },
    {
     "name": "stderr",
     "output_type": "stream",
     "text": [
      "\r",
      "Step 3/3 :  43%|████▎     | 1072/2500 [00:28<00:41, 34.45it/s]"
     ]
    },
    {
     "name": "stderr",
     "output_type": "stream",
     "text": [
      "\r",
      "Step 3/3 :  43%|████▎     | 1076/2500 [00:28<00:40, 34.99it/s]"
     ]
    },
    {
     "name": "stderr",
     "output_type": "stream",
     "text": [
      "\r",
      "Step 3/3 :  43%|████▎     | 1076/2500 [00:28<00:40, 34.99it/s]"
     ]
    },
    {
     "name": "stderr",
     "output_type": "stream",
     "text": [
      "\r",
      "Step 3/3 :  43%|████▎     | 1076/2500 [00:28<00:40, 34.99it/s]"
     ]
    },
    {
     "name": "stderr",
     "output_type": "stream",
     "text": [
      "\r",
      "Step 3/3 :  43%|████▎     | 1076/2500 [00:28<00:40, 34.99it/s]"
     ]
    },
    {
     "name": "stderr",
     "output_type": "stream",
     "text": [
      "\r",
      "Step 3/3 :  43%|████▎     | 1076/2500 [00:28<00:40, 34.99it/s]"
     ]
    },
    {
     "name": "stderr",
     "output_type": "stream",
     "text": [
      "\r",
      "Step 3/3 :  43%|████▎     | 1080/2500 [00:28<00:41, 34.57it/s]"
     ]
    },
    {
     "name": "stderr",
     "output_type": "stream",
     "text": [
      "\r",
      "Step 3/3 :  43%|████▎     | 1080/2500 [00:28<00:41, 34.57it/s]"
     ]
    },
    {
     "name": "stderr",
     "output_type": "stream",
     "text": [
      "\r",
      "Step 3/3 :  43%|████▎     | 1080/2500 [00:28<00:41, 34.57it/s]"
     ]
    },
    {
     "name": "stderr",
     "output_type": "stream",
     "text": [
      "\r",
      "Step 3/3 :  43%|████▎     | 1080/2500 [00:28<00:41, 34.57it/s]"
     ]
    },
    {
     "name": "stderr",
     "output_type": "stream",
     "text": [
      "\r",
      "Step 3/3 :  43%|████▎     | 1080/2500 [00:28<00:41, 34.57it/s]"
     ]
    },
    {
     "name": "stderr",
     "output_type": "stream",
     "text": [
      "\r",
      "Step 3/3 :  43%|████▎     | 1084/2500 [00:28<00:43, 32.23it/s]"
     ]
    },
    {
     "name": "stderr",
     "output_type": "stream",
     "text": [
      "\r",
      "Step 3/3 :  43%|████▎     | 1084/2500 [00:28<00:43, 32.23it/s]"
     ]
    },
    {
     "name": "stderr",
     "output_type": "stream",
     "text": [
      "\r",
      "Step 3/3 :  43%|████▎     | 1084/2500 [00:28<00:43, 32.23it/s]"
     ]
    },
    {
     "name": "stderr",
     "output_type": "stream",
     "text": [
      "\r",
      "Step 3/3 :  43%|████▎     | 1084/2500 [00:28<00:43, 32.23it/s]"
     ]
    },
    {
     "name": "stderr",
     "output_type": "stream",
     "text": [
      "\r",
      "Step 3/3 :  43%|████▎     | 1084/2500 [00:28<00:43, 32.23it/s]"
     ]
    },
    {
     "name": "stderr",
     "output_type": "stream",
     "text": [
      "\r",
      "Step 3/3 :  44%|████▎     | 1088/2500 [00:28<00:42, 32.95it/s]"
     ]
    },
    {
     "name": "stderr",
     "output_type": "stream",
     "text": [
      "\r",
      "Step 3/3 :  44%|████▎     | 1088/2500 [00:28<00:42, 32.95it/s]"
     ]
    },
    {
     "name": "stderr",
     "output_type": "stream",
     "text": [
      "\r",
      "Step 3/3 :  44%|████▎     | 1088/2500 [00:28<00:42, 32.95it/s]"
     ]
    },
    {
     "name": "stderr",
     "output_type": "stream",
     "text": [
      "\r",
      "Step 3/3 :  44%|████▎     | 1088/2500 [00:28<00:42, 32.95it/s]"
     ]
    },
    {
     "name": "stderr",
     "output_type": "stream",
     "text": [
      "\r",
      "Step 3/3 :  44%|████▎     | 1088/2500 [00:29<00:42, 32.95it/s]"
     ]
    },
    {
     "name": "stderr",
     "output_type": "stream",
     "text": [
      "\r",
      "Step 3/3 :  44%|████▎     | 1092/2500 [00:29<00:41, 34.33it/s]"
     ]
    },
    {
     "name": "stderr",
     "output_type": "stream",
     "text": [
      "\r",
      "Step 3/3 :  44%|████▎     | 1092/2500 [00:29<00:41, 34.33it/s]"
     ]
    },
    {
     "name": "stderr",
     "output_type": "stream",
     "text": [
      "\r",
      "Step 3/3 :  44%|████▎     | 1092/2500 [00:29<00:41, 34.33it/s]"
     ]
    },
    {
     "name": "stderr",
     "output_type": "stream",
     "text": [
      "\r",
      "Step 3/3 :  44%|████▎     | 1092/2500 [00:29<00:41, 34.33it/s]"
     ]
    },
    {
     "name": "stderr",
     "output_type": "stream",
     "text": [
      "\r",
      "Step 3/3 :  44%|████▎     | 1092/2500 [00:29<00:41, 34.33it/s]"
     ]
    },
    {
     "name": "stderr",
     "output_type": "stream",
     "text": [
      "\r",
      "Step 3/3 :  44%|████▎     | 1092/2500 [00:29<00:41, 34.33it/s]"
     ]
    },
    {
     "name": "stderr",
     "output_type": "stream",
     "text": [
      "\r",
      "Step 3/3 :  44%|████▍     | 1097/2500 [00:29<00:38, 36.86it/s]"
     ]
    },
    {
     "name": "stderr",
     "output_type": "stream",
     "text": [
      "\r",
      "Step 3/3 :  44%|████▍     | 1097/2500 [00:29<00:38, 36.86it/s]"
     ]
    },
    {
     "name": "stderr",
     "output_type": "stream",
     "text": [
      "\r",
      "Step 3/3 :  44%|████▍     | 1097/2500 [00:29<00:38, 36.86it/s]"
     ]
    },
    {
     "name": "stderr",
     "output_type": "stream",
     "text": [
      "\r",
      "Step 3/3 :  44%|████▍     | 1097/2500 [00:29<00:38, 36.86it/s]"
     ]
    },
    {
     "name": "stderr",
     "output_type": "stream",
     "text": [
      "\r",
      "Step 3/3 :  44%|████▍     | 1097/2500 [00:29<00:38, 36.86it/s]"
     ]
    },
    {
     "name": "stderr",
     "output_type": "stream",
     "text": [
      "\r",
      "Step 3/3 :  44%|████▍     | 1097/2500 [00:29<00:38, 36.86it/s]"
     ]
    },
    {
     "name": "stderr",
     "output_type": "stream",
     "text": [
      "\r",
      "Step 3/3 :  44%|████▍     | 1102/2500 [00:29<00:36, 38.42it/s]"
     ]
    },
    {
     "name": "stderr",
     "output_type": "stream",
     "text": [
      "\r",
      "Step 3/3 :  44%|████▍     | 1102/2500 [00:29<00:36, 38.42it/s]"
     ]
    },
    {
     "name": "stderr",
     "output_type": "stream",
     "text": [
      "\r",
      "Step 3/3 :  44%|████▍     | 1102/2500 [00:29<00:36, 38.42it/s]"
     ]
    },
    {
     "name": "stderr",
     "output_type": "stream",
     "text": [
      "\r",
      "Step 3/3 :  44%|████▍     | 1102/2500 [00:29<00:36, 38.42it/s]"
     ]
    },
    {
     "name": "stderr",
     "output_type": "stream",
     "text": [
      "\r",
      "Step 3/3 :  44%|████▍     | 1102/2500 [00:29<00:36, 38.42it/s]"
     ]
    },
    {
     "name": "stderr",
     "output_type": "stream",
     "text": [
      "\r",
      "Step 3/3 :  44%|████▍     | 1106/2500 [00:29<00:37, 36.87it/s]"
     ]
    },
    {
     "name": "stderr",
     "output_type": "stream",
     "text": [
      "\r",
      "Step 3/3 :  44%|████▍     | 1106/2500 [00:29<00:37, 36.87it/s]"
     ]
    },
    {
     "name": "stderr",
     "output_type": "stream",
     "text": [
      "\r",
      "Step 3/3 :  44%|████▍     | 1106/2500 [00:29<00:37, 36.87it/s]"
     ]
    },
    {
     "name": "stderr",
     "output_type": "stream",
     "text": [
      "\r",
      "Step 3/3 :  44%|████▍     | 1106/2500 [00:29<00:37, 36.87it/s]"
     ]
    },
    {
     "name": "stderr",
     "output_type": "stream",
     "text": [
      "\r",
      "Step 3/3 :  44%|████▍     | 1106/2500 [00:29<00:37, 36.87it/s]"
     ]
    },
    {
     "name": "stderr",
     "output_type": "stream",
     "text": [
      "\r",
      "Step 3/3 :  44%|████▍     | 1110/2500 [00:29<00:37, 37.02it/s]"
     ]
    },
    {
     "name": "stderr",
     "output_type": "stream",
     "text": [
      "\r",
      "Step 3/3 :  44%|████▍     | 1110/2500 [00:29<00:37, 37.02it/s]"
     ]
    },
    {
     "name": "stderr",
     "output_type": "stream",
     "text": [
      "\r",
      "Step 3/3 :  44%|████▍     | 1110/2500 [00:29<00:37, 37.02it/s]"
     ]
    },
    {
     "name": "stderr",
     "output_type": "stream",
     "text": [
      "\r",
      "Step 3/3 :  44%|████▍     | 1110/2500 [00:29<00:37, 37.02it/s]"
     ]
    },
    {
     "name": "stderr",
     "output_type": "stream",
     "text": [
      "\r",
      "Step 3/3 :  44%|████▍     | 1110/2500 [00:29<00:37, 37.02it/s]"
     ]
    },
    {
     "name": "stderr",
     "output_type": "stream",
     "text": [
      "\r",
      "Step 3/3 :  44%|████▍     | 1110/2500 [00:29<00:37, 37.02it/s]"
     ]
    },
    {
     "name": "stderr",
     "output_type": "stream",
     "text": [
      "\r",
      "Step 3/3 :  45%|████▍     | 1115/2500 [00:29<00:36, 38.16it/s]"
     ]
    },
    {
     "name": "stderr",
     "output_type": "stream",
     "text": [
      "\r",
      "Step 3/3 :  45%|████▍     | 1115/2500 [00:29<00:36, 38.16it/s]"
     ]
    },
    {
     "name": "stderr",
     "output_type": "stream",
     "text": [
      "\r",
      "Step 3/3 :  45%|████▍     | 1115/2500 [00:29<00:36, 38.16it/s]"
     ]
    },
    {
     "name": "stderr",
     "output_type": "stream",
     "text": [
      "\r",
      "Step 3/3 :  45%|████▍     | 1115/2500 [00:29<00:36, 38.16it/s]"
     ]
    },
    {
     "name": "stderr",
     "output_type": "stream",
     "text": [
      "\r",
      "Step 3/3 :  45%|████▍     | 1115/2500 [00:29<00:36, 38.16it/s]"
     ]
    },
    {
     "name": "stderr",
     "output_type": "stream",
     "text": [
      "\r",
      "Step 3/3 :  45%|████▍     | 1119/2500 [00:29<00:35, 38.65it/s]"
     ]
    },
    {
     "name": "stderr",
     "output_type": "stream",
     "text": [
      "\r",
      "Step 3/3 :  45%|████▍     | 1119/2500 [00:29<00:35, 38.65it/s]"
     ]
    },
    {
     "name": "stderr",
     "output_type": "stream",
     "text": [
      "\r",
      "Step 3/3 :  45%|████▍     | 1119/2500 [00:29<00:35, 38.65it/s]"
     ]
    },
    {
     "name": "stderr",
     "output_type": "stream",
     "text": [
      "\r",
      "Step 3/3 :  45%|████▍     | 1119/2500 [00:29<00:35, 38.65it/s]"
     ]
    },
    {
     "name": "stderr",
     "output_type": "stream",
     "text": [
      "\r",
      "Step 3/3 :  45%|████▍     | 1119/2500 [00:29<00:35, 38.65it/s]"
     ]
    },
    {
     "name": "stderr",
     "output_type": "stream",
     "text": [
      "\r",
      "Step 3/3 :  45%|████▍     | 1119/2500 [00:29<00:35, 38.65it/s]"
     ]
    },
    {
     "name": "stderr",
     "output_type": "stream",
     "text": [
      "\r",
      "Step 3/3 :  45%|████▍     | 1124/2500 [00:29<00:34, 39.81it/s]"
     ]
    },
    {
     "name": "stderr",
     "output_type": "stream",
     "text": [
      "\r",
      "Step 3/3 :  45%|████▍     | 1124/2500 [00:29<00:34, 39.81it/s]"
     ]
    },
    {
     "name": "stderr",
     "output_type": "stream",
     "text": [
      "\r",
      "Step 3/3 :  45%|████▍     | 1124/2500 [00:29<00:34, 39.81it/s]"
     ]
    },
    {
     "name": "stderr",
     "output_type": "stream",
     "text": [
      "\r",
      "Step 3/3 :  45%|████▍     | 1124/2500 [00:29<00:34, 39.81it/s]"
     ]
    },
    {
     "name": "stderr",
     "output_type": "stream",
     "text": [
      "\r",
      "Step 3/3 :  45%|████▍     | 1124/2500 [00:29<00:34, 39.81it/s]"
     ]
    },
    {
     "name": "stderr",
     "output_type": "stream",
     "text": [
      "\r",
      "Step 3/3 :  45%|████▍     | 1124/2500 [00:29<00:34, 39.81it/s]"
     ]
    },
    {
     "name": "stderr",
     "output_type": "stream",
     "text": [
      "\r",
      "Step 3/3 :  45%|████▌     | 1129/2500 [00:29<00:33, 40.39it/s]"
     ]
    },
    {
     "name": "stderr",
     "output_type": "stream",
     "text": [
      "\r",
      "Step 3/3 :  45%|████▌     | 1129/2500 [00:29<00:33, 40.39it/s]"
     ]
    },
    {
     "name": "stderr",
     "output_type": "stream",
     "text": [
      "\r",
      "Step 3/3 :  45%|████▌     | 1129/2500 [00:29<00:33, 40.39it/s]"
     ]
    },
    {
     "name": "stderr",
     "output_type": "stream",
     "text": [
      "\r",
      "Step 3/3 :  45%|████▌     | 1129/2500 [00:30<00:33, 40.39it/s]"
     ]
    }
   ],
   "source": [
    "model.fit(KORmacro.loc[:end_period], dates=KORmacro.loc[:end_period].index)"
   ]
  },
  {
   "cell_type": "code",
   "execution_count": null,
   "id": "98fc97fe",
   "metadata": {
    "papermill": {
     "duration": null,
     "end_time": null,
     "exception": null,
     "start_time": null,
     "status": "pending"
    },
    "tags": []
   },
   "outputs": [],
   "source": [
    "rstar_HLW_Covid = pd.DataFrame(model.SummaryLV['Avg']['rNatural'])\n",
    "rstar_HLW_Covid.index = KORmacro.loc[KORmacro.index[4]:end_period].index\n",
    "if smoothing:\n",
    "    rstar_HLW_Covid.columns = ['rstar_HLW_Covid_smoothed']\n",
    "else:\n",
    "    rstar_HLW_Covid.columns = ['rstar_HLW_Covid']\n",
    "rstar = rstar_HLW_Covid.reset_index().rename(columns={'index': 'Date'}).to_json(orient='records', date_format='iso')\n",
    "rstar_HLW_Covid.reset_index().rename(columns={'index': 'Date'}) \\\n",
    "    .assign(Date=lambda df: df['Date'].dt.strftime('%Y-%m-%d')) \\\n",
    "    .to_json('rstar_HLW_Covid.json', orient='records')"
   ]
  }
 ],
 "metadata": {
  "kernelspec": {
   "display_name": "base",
   "language": "python",
   "name": "python3"
  },
  "language_info": {
   "codemirror_mode": {
    "name": "ipython",
    "version": 3
   },
   "file_extension": ".py",
   "mimetype": "text/x-python",
   "name": "python",
   "nbconvert_exporter": "python",
   "pygments_lexer": "ipython3",
   "version": "3.12.7"
  },
  "papermill": {
   "default_parameters": {},
   "duration": null,
   "end_time": null,
   "environment_variables": {},
   "exception": null,
   "input_path": "C:\\Users\\BOK\\Desktop\\pyprojects\\nir_validation\\HLW_Covid.ipynb",
   "output_path": "C:\\Users\\BOK\\Desktop\\pyprojects\\nir_validation\\HLW_Covid_output.ipynb",
   "parameters": {
    "end_period": "2019-03-31",
    "smoothing": false
   },
   "start_time": "2025-05-21T08:04:48.835614",
   "version": "2.6.0"
  }
 },
 "nbformat": 4,
 "nbformat_minor": 5
}