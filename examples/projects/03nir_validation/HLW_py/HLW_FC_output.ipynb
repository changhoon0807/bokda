{
 "cells": [
  {
   "cell_type": "code",
   "execution_count": 1,
   "id": "4e7b3265",
   "metadata": {
    "execution": {
     "iopub.execute_input": "2025-05-21T07:49:13.544527Z",
     "iopub.status.busy": "2025-05-21T07:49:13.544527Z",
     "iopub.status.idle": "2025-05-21T07:49:13.551324Z",
     "shell.execute_reply": "2025-05-21T07:49:13.551324Z"
    },
    "papermill": {
     "duration": 0.016803,
     "end_time": "2025-05-21T07:49:13.553331",
     "exception": false,
     "start_time": "2025-05-21T07:49:13.536528",
     "status": "completed"
    },
    "tags": [
     "injected-parameters"
    ]
   },
   "outputs": [],
   "source": [
    "# Parameters\n",
    "end_period = \"2015-06-30\"\n",
    "smoothing = True\n"
   ]
  },
  {
   "cell_type": "markdown",
   "id": "bc240e6b",
   "metadata": {
    "papermill": {
     "duration": 0.004001,
     "end_time": "2025-05-21T07:49:13.562331",
     "exception": false,
     "start_time": "2025-05-21T07:49:13.558330",
     "status": "completed"
    },
    "tags": []
   },
   "source": [
    "## HLW_FC"
   ]
  },
  {
   "cell_type": "code",
   "execution_count": 2,
   "id": "868915dd",
   "metadata": {
    "execution": {
     "iopub.execute_input": "2025-05-21T07:49:13.571330Z",
     "iopub.status.busy": "2025-05-21T07:49:13.570331Z",
     "iopub.status.idle": "2025-05-21T07:49:15.811168Z",
     "shell.execute_reply": "2025-05-21T07:49:15.811168Z"
    },
    "papermill": {
     "duration": 2.245828,
     "end_time": "2025-05-21T07:49:15.812171",
     "exception": false,
     "start_time": "2025-05-21T07:49:13.566343",
     "status": "completed"
    },
    "tags": []
   },
   "outputs": [],
   "source": [
    "from bok_da.ts.nir import HLW_FC"
   ]
  },
  {
   "cell_type": "code",
   "execution_count": 3,
   "id": "eeebb85f",
   "metadata": {
    "execution": {
     "iopub.execute_input": "2025-05-21T07:49:15.824171Z",
     "iopub.status.busy": "2025-05-21T07:49:15.824171Z",
     "iopub.status.idle": "2025-05-21T07:49:15.827252Z",
     "shell.execute_reply": "2025-05-21T07:49:15.827252Z"
    },
    "papermill": {
     "duration": 0.010088,
     "end_time": "2025-05-21T07:49:15.828260",
     "exception": false,
     "start_time": "2025-05-21T07:49:15.818172",
     "status": "completed"
    },
    "tags": []
   },
   "outputs": [],
   "source": [
    "# !pip install openpyxl\n",
    "import pandas as pd\n",
    "import numpy as np\n",
    "import datetime"
   ]
  },
  {
   "cell_type": "code",
   "execution_count": 4,
   "id": "1935687b",
   "metadata": {
    "execution": {
     "iopub.execute_input": "2025-05-21T07:49:15.838268Z",
     "iopub.status.busy": "2025-05-21T07:49:15.837268Z",
     "iopub.status.idle": "2025-05-21T07:49:16.075572Z",
     "shell.execute_reply": "2025-05-21T07:49:16.075572Z"
    },
    "papermill": {
     "duration": 0.244322,
     "end_time": "2025-05-21T07:49:16.076584",
     "exception": false,
     "start_time": "2025-05-21T07:49:15.832262",
     "status": "completed"
    },
    "tags": []
   },
   "outputs": [
    {
     "data": {
      "text/html": [
       "<div>\n",
       "<style scoped>\n",
       "    .dataframe tbody tr th:only-of-type {\n",
       "        vertical-align: middle;\n",
       "    }\n",
       "\n",
       "    .dataframe tbody tr th {\n",
       "        vertical-align: top;\n",
       "    }\n",
       "\n",
       "    .dataframe thead th {\n",
       "        text-align: right;\n",
       "    }\n",
       "</style>\n",
       "<table border=\"1\" class=\"dataframe\">\n",
       "  <thead>\n",
       "    <tr style=\"text-align: right;\">\n",
       "      <th></th>\n",
       "      <th>Date</th>\n",
       "      <th>rgdp</th>\n",
       "      <th>inf1</th>\n",
       "      <th>inf2</th>\n",
       "      <th>infe</th>\n",
       "      <th>interest</th>\n",
       "      <th>ngdp</th>\n",
       "      <th>credit</th>\n",
       "      <th>csi</th>\n",
       "      <th>ci</th>\n",
       "      <th>creditngdp</th>\n",
       "      <th>creditratio</th>\n",
       "    </tr>\n",
       "  </thead>\n",
       "  <tbody>\n",
       "    <tr>\n",
       "      <th>0</th>\n",
       "      <td>1960-01-01</td>\n",
       "      <td>7530.1</td>\n",
       "      <td>NaN</td>\n",
       "      <td>NaN</td>\n",
       "      <td>NaN</td>\n",
       "      <td>NaN</td>\n",
       "      <td>56.64</td>\n",
       "      <td>NaN</td>\n",
       "      <td>0.0</td>\n",
       "      <td>0</td>\n",
       "      <td>NaN</td>\n",
       "      <td>NaN</td>\n",
       "    </tr>\n",
       "    <tr>\n",
       "      <th>1</th>\n",
       "      <td>1960-04-01</td>\n",
       "      <td>7878.4</td>\n",
       "      <td>NaN</td>\n",
       "      <td>NaN</td>\n",
       "      <td>NaN</td>\n",
       "      <td>NaN</td>\n",
       "      <td>61.53</td>\n",
       "      <td>NaN</td>\n",
       "      <td>0.0</td>\n",
       "      <td>0</td>\n",
       "      <td>NaN</td>\n",
       "      <td>NaN</td>\n",
       "    </tr>\n",
       "    <tr>\n",
       "      <th>2</th>\n",
       "      <td>1960-07-01</td>\n",
       "      <td>7788.8</td>\n",
       "      <td>NaN</td>\n",
       "      <td>NaN</td>\n",
       "      <td>NaN</td>\n",
       "      <td>NaN</td>\n",
       "      <td>65.44</td>\n",
       "      <td>NaN</td>\n",
       "      <td>0.0</td>\n",
       "      <td>0</td>\n",
       "      <td>NaN</td>\n",
       "      <td>NaN</td>\n",
       "    </tr>\n",
       "    <tr>\n",
       "      <th>3</th>\n",
       "      <td>1960-10-01</td>\n",
       "      <td>7834.3</td>\n",
       "      <td>NaN</td>\n",
       "      <td>NaN</td>\n",
       "      <td>NaN</td>\n",
       "      <td>NaN</td>\n",
       "      <td>67.13</td>\n",
       "      <td>NaN</td>\n",
       "      <td>0.0</td>\n",
       "      <td>0</td>\n",
       "      <td>NaN</td>\n",
       "      <td>NaN</td>\n",
       "    </tr>\n",
       "    <tr>\n",
       "      <th>4</th>\n",
       "      <td>1961-01-01</td>\n",
       "      <td>8081.8</td>\n",
       "      <td>NaN</td>\n",
       "      <td>NaN</td>\n",
       "      <td>NaN</td>\n",
       "      <td>NaN</td>\n",
       "      <td>72.93</td>\n",
       "      <td>NaN</td>\n",
       "      <td>0.0</td>\n",
       "      <td>0</td>\n",
       "      <td>NaN</td>\n",
       "      <td>NaN</td>\n",
       "    </tr>\n",
       "    <tr>\n",
       "      <th>...</th>\n",
       "      <td>...</td>\n",
       "      <td>...</td>\n",
       "      <td>...</td>\n",
       "      <td>...</td>\n",
       "      <td>...</td>\n",
       "      <td>...</td>\n",
       "      <td>...</td>\n",
       "      <td>...</td>\n",
       "      <td>...</td>\n",
       "      <td>...</td>\n",
       "      <td>...</td>\n",
       "      <td>...</td>\n",
       "    </tr>\n",
       "    <tr>\n",
       "      <th>255</th>\n",
       "      <td>2023-10-01</td>\n",
       "      <td>565597.6</td>\n",
       "      <td>111.30</td>\n",
       "      <td>109.47</td>\n",
       "      <td>3.33</td>\n",
       "      <td>3.576</td>\n",
       "      <td>613826.20</td>\n",
       "      <td>1885451.2</td>\n",
       "      <td>0.0</td>\n",
       "      <td>0</td>\n",
       "      <td>112.221061</td>\n",
       "      <td>-4.543617</td>\n",
       "    </tr>\n",
       "    <tr>\n",
       "      <th>256</th>\n",
       "      <td>2024-01-01</td>\n",
       "      <td>572951.0</td>\n",
       "      <td>111.90</td>\n",
       "      <td>110.26</td>\n",
       "      <td>3.07</td>\n",
       "      <td>3.506</td>\n",
       "      <td>632142.20</td>\n",
       "      <td>1882385.4</td>\n",
       "      <td>0.0</td>\n",
       "      <td>0</td>\n",
       "      <td>109.118071</td>\n",
       "      <td>-5.487701</td>\n",
       "    </tr>\n",
       "    <tr>\n",
       "      <th>257</th>\n",
       "      <td>2024-04-01</td>\n",
       "      <td>571646.7</td>\n",
       "      <td>112.39</td>\n",
       "      <td>110.84</td>\n",
       "      <td>3.10</td>\n",
       "      <td>3.532</td>\n",
       "      <td>638253.40</td>\n",
       "      <td>1895802.0</td>\n",
       "      <td>0.0</td>\n",
       "      <td>0</td>\n",
       "      <td>108.866186</td>\n",
       "      <td>-5.140436</td>\n",
       "    </tr>\n",
       "    <tr>\n",
       "      <th>258</th>\n",
       "      <td>2024-07-01</td>\n",
       "      <td>572216.0</td>\n",
       "      <td>112.76</td>\n",
       "      <td>111.28</td>\n",
       "      <td>2.87</td>\n",
       "      <td>3.526</td>\n",
       "      <td>633042.30</td>\n",
       "      <td>1913814.3</td>\n",
       "      <td>0.0</td>\n",
       "      <td>0</td>\n",
       "      <td>110.631630</td>\n",
       "      <td>-2.986281</td>\n",
       "    </tr>\n",
       "    <tr>\n",
       "      <th>259</th>\n",
       "      <td>2024-10-01</td>\n",
       "      <td>NaN</td>\n",
       "      <td>113.27</td>\n",
       "      <td>111.47</td>\n",
       "      <td>2.83</td>\n",
       "      <td>3.207</td>\n",
       "      <td>NaN</td>\n",
       "      <td>NaN</td>\n",
       "      <td>0.0</td>\n",
       "      <td>0</td>\n",
       "      <td>NaN</td>\n",
       "      <td>NaN</td>\n",
       "    </tr>\n",
       "  </tbody>\n",
       "</table>\n",
       "<p>260 rows × 12 columns</p>\n",
       "</div>"
      ],
      "text/plain": [
       "          Date      rgdp    inf1    inf2  infe  interest       ngdp  \\\n",
       "0   1960-01-01    7530.1     NaN     NaN   NaN       NaN      56.64   \n",
       "1   1960-04-01    7878.4     NaN     NaN   NaN       NaN      61.53   \n",
       "2   1960-07-01    7788.8     NaN     NaN   NaN       NaN      65.44   \n",
       "3   1960-10-01    7834.3     NaN     NaN   NaN       NaN      67.13   \n",
       "4   1961-01-01    8081.8     NaN     NaN   NaN       NaN      72.93   \n",
       "..         ...       ...     ...     ...   ...       ...        ...   \n",
       "255 2023-10-01  565597.6  111.30  109.47  3.33     3.576  613826.20   \n",
       "256 2024-01-01  572951.0  111.90  110.26  3.07     3.506  632142.20   \n",
       "257 2024-04-01  571646.7  112.39  110.84  3.10     3.532  638253.40   \n",
       "258 2024-07-01  572216.0  112.76  111.28  2.87     3.526  633042.30   \n",
       "259 2024-10-01       NaN  113.27  111.47  2.83     3.207        NaN   \n",
       "\n",
       "        credit  csi  ci  creditngdp  creditratio  \n",
       "0          NaN  0.0   0         NaN          NaN  \n",
       "1          NaN  0.0   0         NaN          NaN  \n",
       "2          NaN  0.0   0         NaN          NaN  \n",
       "3          NaN  0.0   0         NaN          NaN  \n",
       "4          NaN  0.0   0         NaN          NaN  \n",
       "..         ...  ...  ..         ...          ...  \n",
       "255  1885451.2  0.0   0  112.221061    -4.543617  \n",
       "256  1882385.4  0.0   0  109.118071    -5.487701  \n",
       "257  1895802.0  0.0   0  108.866186    -5.140436  \n",
       "258  1913814.3  0.0   0  110.631630    -2.986281  \n",
       "259        NaN  0.0   0         NaN          NaN  \n",
       "\n",
       "[260 rows x 12 columns]"
      ]
     },
     "execution_count": 4,
     "metadata": {},
     "output_type": "execute_result"
    }
   ],
   "source": [
    "KORData = pd.read_excel(\"data/nir_data_all.xlsx\", sheet_name=\"raw_data\")\n",
    "KORData['creditngdp'] = np.log(KORData['credit']/KORData['ngdp'])*100\n",
    "KORData['creditratio'] = KORData['creditngdp'][4:] - KORData['creditngdp'].shift(4)\n",
    "KORData"
   ]
  },
  {
   "cell_type": "code",
   "execution_count": 5,
   "id": "bd25758f",
   "metadata": {
    "execution": {
     "iopub.execute_input": "2025-05-21T07:49:16.087585Z",
     "iopub.status.busy": "2025-05-21T07:49:16.086584Z",
     "iopub.status.idle": "2025-05-21T07:49:16.102340Z",
     "shell.execute_reply": "2025-05-21T07:49:16.102340Z"
    },
    "papermill": {
     "duration": 0.02172,
     "end_time": "2025-05-21T07:49:16.103305",
     "exception": false,
     "start_time": "2025-05-21T07:49:16.081585",
     "status": "completed"
    },
    "tags": []
   },
   "outputs": [
    {
     "data": {
      "text/html": [
       "<div>\n",
       "<style scoped>\n",
       "    .dataframe tbody tr th:only-of-type {\n",
       "        vertical-align: middle;\n",
       "    }\n",
       "\n",
       "    .dataframe tbody tr th {\n",
       "        vertical-align: top;\n",
       "    }\n",
       "\n",
       "    .dataframe thead th {\n",
       "        text-align: right;\n",
       "    }\n",
       "</style>\n",
       "<table border=\"1\" class=\"dataframe\">\n",
       "  <thead>\n",
       "    <tr style=\"text-align: right;\">\n",
       "      <th></th>\n",
       "      <th>rgdp</th>\n",
       "      <th>inf1</th>\n",
       "      <th>interest</th>\n",
       "      <th>creditratio</th>\n",
       "    </tr>\n",
       "    <tr>\n",
       "      <th>Date</th>\n",
       "      <th></th>\n",
       "      <th></th>\n",
       "      <th></th>\n",
       "      <th></th>\n",
       "    </tr>\n",
       "  </thead>\n",
       "  <tbody>\n",
       "    <tr>\n",
       "      <th>2003-12-31</th>\n",
       "      <td>5042.156092</td>\n",
       "      <td>3.063351</td>\n",
       "      <td>0.706649</td>\n",
       "      <td>-5.628428</td>\n",
       "    </tr>\n",
       "    <tr>\n",
       "      <th>2004-03-31</th>\n",
       "      <td>5047.808057</td>\n",
       "      <td>2.946573</td>\n",
       "      <td>0.823427</td>\n",
       "      <td>-6.439517</td>\n",
       "    </tr>\n",
       "    <tr>\n",
       "      <th>2004-06-30</th>\n",
       "      <td>5051.129892</td>\n",
       "      <td>2.831088</td>\n",
       "      <td>0.928912</td>\n",
       "      <td>-6.507453</td>\n",
       "    </tr>\n",
       "    <tr>\n",
       "      <th>2004-09-30</th>\n",
       "      <td>5052.151916</td>\n",
       "      <td>2.837248</td>\n",
       "      <td>0.792752</td>\n",
       "      <td>-5.050434</td>\n",
       "    </tr>\n",
       "    <tr>\n",
       "      <th>2004-12-31</th>\n",
       "      <td>5055.417125</td>\n",
       "      <td>2.924617</td>\n",
       "      <td>0.455383</td>\n",
       "      <td>-1.876856</td>\n",
       "    </tr>\n",
       "    <tr>\n",
       "      <th>...</th>\n",
       "      <td>...</td>\n",
       "      <td>...</td>\n",
       "      <td>...</td>\n",
       "      <td>...</td>\n",
       "    </tr>\n",
       "    <tr>\n",
       "      <th>2023-09-30</th>\n",
       "      <td>5296.439326</td>\n",
       "      <td>4.367675</td>\n",
       "      <td>-0.819675</td>\n",
       "      <td>-3.340593</td>\n",
       "    </tr>\n",
       "    <tr>\n",
       "      <th>2023-12-31</th>\n",
       "      <td>5298.255260</td>\n",
       "      <td>4.007923</td>\n",
       "      <td>-0.431923</td>\n",
       "      <td>-4.543617</td>\n",
       "    </tr>\n",
       "    <tr>\n",
       "      <th>2024-03-31</th>\n",
       "      <td>5303.422191</td>\n",
       "      <td>3.466374</td>\n",
       "      <td>0.039626</td>\n",
       "      <td>-5.487701</td>\n",
       "    </tr>\n",
       "    <tr>\n",
       "      <th>2024-06-30</th>\n",
       "      <td>5302.510569</td>\n",
       "      <td>2.923232</td>\n",
       "      <td>0.608768</td>\n",
       "      <td>-5.140436</td>\n",
       "    </tr>\n",
       "    <tr>\n",
       "      <th>2024-09-30</th>\n",
       "      <td>5302.908729</td>\n",
       "      <td>2.475825</td>\n",
       "      <td>1.050175</td>\n",
       "      <td>-2.986281</td>\n",
       "    </tr>\n",
       "  </tbody>\n",
       "</table>\n",
       "<p>84 rows × 4 columns</p>\n",
       "</div>"
      ],
      "text/plain": [
       "                   rgdp      inf1  interest  creditratio\n",
       "Date                                                    \n",
       "2003-12-31  5042.156092  3.063351  0.706649    -5.628428\n",
       "2004-03-31  5047.808057  2.946573  0.823427    -6.439517\n",
       "2004-06-30  5051.129892  2.831088  0.928912    -6.507453\n",
       "2004-09-30  5052.151916  2.837248  0.792752    -5.050434\n",
       "2004-12-31  5055.417125  2.924617  0.455383    -1.876856\n",
       "...                 ...       ...       ...          ...\n",
       "2023-09-30  5296.439326  4.367675 -0.819675    -3.340593\n",
       "2023-12-31  5298.255260  4.007923 -0.431923    -4.543617\n",
       "2024-03-31  5303.422191  3.466374  0.039626    -5.487701\n",
       "2024-06-30  5302.510569  2.923232  0.608768    -5.140436\n",
       "2024-09-30  5302.908729  2.475825  1.050175    -2.986281\n",
       "\n",
       "[84 rows x 4 columns]"
      ]
     },
     "execution_count": 5,
     "metadata": {},
     "output_type": "execute_result"
    }
   ],
   "source": [
    "end_date = datetime.datetime.strptime('2024-07-01', '%Y-%m-%d')\n",
    "KORData_before = KORData[KORData['Date'] <= end_date]\n",
    "data = KORData_before.set_index(\"Date\")\n",
    "data_list = ['rgdp', 'inf1', 'interest', 'infe', 'creditratio']\n",
    "data = data[data_list]\n",
    "data['inf1'] = data['inf1'].pct_change(4) * 100\n",
    "\n",
    "if smoothing:\n",
    "    data['inf1'] = data['inf1'].rolling(4).mean() # 4분기 이동평균\n",
    "    \n",
    "data['rgdp'] = np.log(data['rgdp']) * 400\n",
    "data['interest'] = data['interest'] - data['inf1']\n",
    "data = data.drop('infe', axis=1)\n",
    "data = data.dropna()\n",
    "#data = data.loc['1999-01-01':]\n",
    "KORmacro = data['2000-01-01':].copy()\n",
    "#KORmacro = data.copy()\n",
    "def shift_quarter_end(date):\n",
    "    if date.month == 1:\n",
    "        return date.replace(month=3, day=31)\n",
    "    elif date.month == 4:\n",
    "        return date.replace(month=6, day=30)\n",
    "    elif date.month == 7:\n",
    "        return date.replace(month=9, day=30)\n",
    "    else:\n",
    "        return date.replace(month=12, day=31)\n",
    "\n",
    "KORmacro.index = KORmacro.index.map(shift_quarter_end)\n",
    "KORmacro"
   ]
  },
  {
   "cell_type": "code",
   "execution_count": 6,
   "id": "259dc7a4",
   "metadata": {
    "execution": {
     "iopub.execute_input": "2025-05-21T07:49:16.110308Z",
     "iopub.status.busy": "2025-05-21T07:49:16.110308Z",
     "iopub.status.idle": "2025-05-21T07:49:16.115576Z",
     "shell.execute_reply": "2025-05-21T07:49:16.115576Z"
    },
    "papermill": {
     "duration": 0.010289,
     "end_time": "2025-05-21T07:49:16.116596",
     "exception": false,
     "start_time": "2025-05-21T07:49:16.106307",
     "status": "completed"
    },
    "tags": []
   },
   "outputs": [
    {
     "name": "stdout",
     "output_type": "stream",
     "text": [
      "> Initializing Model...\n",
      "  - Total MCMC iterations: 5000\n",
      "  - Burn-in period: 1000\n",
      "  - Latent variables percentiles: [5, 95]\n",
      "  - Parameters percentiles: [0.05, 0.95]\n",
      "  - Interest rate z-component specification: rw\n"
     ]
    }
   ],
   "source": [
    "mcmc = {\n",
    "    'sig2_g': 0,\n",
    "    'sig2_yt': 0,\n",
    "    'sig2_yc': 0,\n",
    "    'sig2_z': 0,\n",
    "    'sig2_p': 0,\n",
    "    'slope_yc': 0,\n",
    "    'slope_z': 0,\n",
    "    'slope_p': 0,\n",
    "    'sig2_f': 0,\n",
    "    'slope_f': 0\n",
    "}\n",
    "\n",
    "prior = {\n",
    "    'yc_mean': np.array([0.7, 0.2, -0.3]),\n",
    "    'yc_variance': np.diag(np.array([0.1, 0.1, 0.03]) ** 2),\n",
    "    'sig2_yc_shape': 5,\n",
    "    'sig2_yc_scale': 4 * 2**2,\n",
    "    'sig2_g_shape': 5,\n",
    "    'sig2_g_scale': 4 * 0.1**2,\n",
    "    'sig2_yt_shape': 5,\n",
    "    'sig2_yt_scale': 4 * 2**2,\n",
    "    'sig2_z_shape': 5,\n",
    "    'sig2_z_scale': 4 * 0.5**2,\n",
    "    'p_mean': np.array([0.7, 0.1]),\n",
    "    'p_variance': np.diag(np.array([0.1, 0.1]) ** 2),\n",
    "    'sig2_p_shape': 5,\n",
    "    'sig2_p_scale': 4 * 0.1**2,\n",
    "    'f_mean': np.array([0, 0.7, 0.2, -0.3]),\n",
    "    'f_variance': np.diag(np.array([0.1, 0.5, 0.5, 0.05]) ** 2),\n",
    "    'sig2_f_shape': 5,\n",
    "    'sig2_f_scale': 4 * 0.1**2\n",
    "}\n",
    "\n",
    "model = HLW_FC(n_draws=5000, burnin=1000, MCMCAlgorithm=mcmc, PriorPara=prior, ZSpec='rw')"
   ]
  },
  {
   "cell_type": "code",
   "execution_count": 7,
   "id": "2f426a82",
   "metadata": {
    "execution": {
     "iopub.execute_input": "2025-05-21T07:49:16.123587Z",
     "iopub.status.busy": "2025-05-21T07:49:16.123587Z"
    },
    "papermill": {
     "duration": null,
     "end_time": null,
     "exception": false,
     "start_time": "2025-05-21T07:49:16.119599",
     "status": "running"
    },
    "tags": []
   },
   "outputs": [
    {
     "name": "stdout",
     "output_type": "stream",
     "text": [
      "> Starting model fitting...\n",
      "  - Data shape: (47, 4)\n",
      "  - Dates provided with length: 47\n"
     ]
    },
    {
     "name": "stderr",
     "output_type": "stream",
     "text": [
      "\r",
      "Sampling:   0%|          | 0/5000 [00:00<?, ?it/s]"
     ]
    },
    {
     "name": "stderr",
     "output_type": "stream",
     "text": [
      "\r",
      "Step 1/3 :   0%|          | 0/5000 [00:00<?, ?it/s]"
     ]
    },
    {
     "name": "stderr",
     "output_type": "stream",
     "text": [
      "\r",
      "Step 1/3 :   0%|          | 0/5000 [00:00<?, ?it/s]"
     ]
    },
    {
     "name": "stderr",
     "output_type": "stream",
     "text": [
      "\r",
      "Step 1/3 :   0%|          | 0/5000 [00:00<?, ?it/s]"
     ]
    },
    {
     "name": "stderr",
     "output_type": "stream",
     "text": [
      "\r",
      "Step 1/3 :   0%|          | 3/5000 [00:00<02:59, 27.78it/s]"
     ]
    },
    {
     "name": "stderr",
     "output_type": "stream",
     "text": [
      "\r",
      "Step 1/3 :   0%|          | 3/5000 [00:00<02:59, 27.78it/s]"
     ]
    },
    {
     "name": "stderr",
     "output_type": "stream",
     "text": [
      "\r",
      "Step 1/3 :   0%|          | 3/5000 [00:00<02:59, 27.78it/s]"
     ]
    },
    {
     "name": "stderr",
     "output_type": "stream",
     "text": [
      "\r",
      "Step 1/3 :   0%|          | 3/5000 [00:00<02:59, 27.78it/s]"
     ]
    },
    {
     "name": "stderr",
     "output_type": "stream",
     "text": [
      "\r",
      "Step 1/3 :   0%|          | 3/5000 [00:00<02:59, 27.78it/s]"
     ]
    },
    {
     "name": "stderr",
     "output_type": "stream",
     "text": [
      "\r",
      "Step 1/3 :   0%|          | 7/5000 [00:00<02:36, 31.98it/s]"
     ]
    },
    {
     "name": "stderr",
     "output_type": "stream",
     "text": [
      "\r",
      "Step 1/3 :   0%|          | 7/5000 [00:00<02:36, 31.98it/s]"
     ]
    },
    {
     "name": "stderr",
     "output_type": "stream",
     "text": [
      "\r",
      "Step 1/3 :   0%|          | 7/5000 [00:00<02:36, 31.98it/s]"
     ]
    },
    {
     "name": "stderr",
     "output_type": "stream",
     "text": [
      "\r",
      "Step 1/3 :   0%|          | 7/5000 [00:00<02:36, 31.98it/s]"
     ]
    },
    {
     "name": "stderr",
     "output_type": "stream",
     "text": [
      "\r",
      "Step 1/3 :   0%|          | 7/5000 [00:00<02:36, 31.98it/s]"
     ]
    },
    {
     "name": "stderr",
     "output_type": "stream",
     "text": [
      "\r",
      "Step 1/3 :   0%|          | 11/5000 [00:00<02:32, 32.62it/s]"
     ]
    },
    {
     "name": "stderr",
     "output_type": "stream",
     "text": [
      "\r",
      "Step 1/3 :   0%|          | 11/5000 [00:00<02:32, 32.62it/s]"
     ]
    },
    {
     "name": "stderr",
     "output_type": "stream",
     "text": [
      "\r",
      "Step 1/3 :   0%|          | 11/5000 [00:00<02:32, 32.62it/s]"
     ]
    },
    {
     "name": "stderr",
     "output_type": "stream",
     "text": [
      "\r",
      "Step 1/3 :   0%|          | 11/5000 [00:00<02:32, 32.62it/s]"
     ]
    },
    {
     "name": "stderr",
     "output_type": "stream",
     "text": [
      "\r",
      "Step 1/3 :   0%|          | 11/5000 [00:00<02:32, 32.62it/s]"
     ]
    },
    {
     "name": "stderr",
     "output_type": "stream",
     "text": [
      "\r",
      "Step 1/3 :   0%|          | 11/5000 [00:00<02:32, 32.62it/s]"
     ]
    },
    {
     "name": "stderr",
     "output_type": "stream",
     "text": [
      "\r",
      "Step 1/3 :   0%|          | 16/5000 [00:00<02:20, 35.43it/s]"
     ]
    },
    {
     "name": "stderr",
     "output_type": "stream",
     "text": [
      "\r",
      "Step 1/3 :   0%|          | 16/5000 [00:00<02:20, 35.43it/s]"
     ]
    },
    {
     "name": "stderr",
     "output_type": "stream",
     "text": [
      "\r",
      "Step 1/3 :   0%|          | 16/5000 [00:00<02:20, 35.43it/s]"
     ]
    },
    {
     "name": "stderr",
     "output_type": "stream",
     "text": [
      "\r",
      "Step 1/3 :   0%|          | 16/5000 [00:00<02:20, 35.43it/s]"
     ]
    },
    {
     "name": "stderr",
     "output_type": "stream",
     "text": [
      "\r",
      "Step 1/3 :   0%|          | 16/5000 [00:00<02:20, 35.43it/s]"
     ]
    },
    {
     "name": "stderr",
     "output_type": "stream",
     "text": [
      "\r",
      "Step 1/3 :   0%|          | 20/5000 [00:00<02:16, 36.42it/s]"
     ]
    },
    {
     "name": "stderr",
     "output_type": "stream",
     "text": [
      "\r",
      "Step 1/3 :   0%|          | 20/5000 [00:00<02:16, 36.42it/s]"
     ]
    },
    {
     "name": "stderr",
     "output_type": "stream",
     "text": [
      "\r",
      "Step 1/3 :   0%|          | 20/5000 [00:00<02:16, 36.42it/s]"
     ]
    },
    {
     "name": "stderr",
     "output_type": "stream",
     "text": [
      "\r",
      "Step 1/3 :   0%|          | 20/5000 [00:00<02:16, 36.42it/s]"
     ]
    },
    {
     "name": "stderr",
     "output_type": "stream",
     "text": [
      "\r",
      "Step 1/3 :   0%|          | 20/5000 [00:00<02:16, 36.42it/s]"
     ]
    },
    {
     "name": "stderr",
     "output_type": "stream",
     "text": [
      "\r",
      "Step 1/3 :   0%|          | 24/5000 [00:00<02:13, 37.19it/s]"
     ]
    },
    {
     "name": "stderr",
     "output_type": "stream",
     "text": [
      "\r",
      "Step 1/3 :   0%|          | 24/5000 [00:00<02:13, 37.19it/s]"
     ]
    },
    {
     "name": "stderr",
     "output_type": "stream",
     "text": [
      "\r",
      "Step 1/3 :   0%|          | 24/5000 [00:00<02:13, 37.19it/s]"
     ]
    },
    {
     "name": "stderr",
     "output_type": "stream",
     "text": [
      "\r",
      "Step 1/3 :   0%|          | 24/5000 [00:00<02:13, 37.19it/s]"
     ]
    },
    {
     "name": "stderr",
     "output_type": "stream",
     "text": [
      "\r",
      "Step 1/3 :   0%|          | 24/5000 [00:00<02:13, 37.19it/s]"
     ]
    },
    {
     "name": "stderr",
     "output_type": "stream",
     "text": [
      "\r",
      "Step 1/3 :   1%|          | 28/5000 [00:00<02:14, 37.03it/s]"
     ]
    },
    {
     "name": "stderr",
     "output_type": "stream",
     "text": [
      "\r",
      "Step 1/3 :   1%|          | 28/5000 [00:00<02:14, 37.03it/s]"
     ]
    },
    {
     "name": "stderr",
     "output_type": "stream",
     "text": [
      "\r",
      "Step 1/3 :   1%|          | 28/5000 [00:00<02:14, 37.03it/s]"
     ]
    },
    {
     "name": "stderr",
     "output_type": "stream",
     "text": [
      "\r",
      "Step 1/3 :   1%|          | 28/5000 [00:00<02:14, 37.03it/s]"
     ]
    },
    {
     "name": "stderr",
     "output_type": "stream",
     "text": [
      "\r",
      "Step 1/3 :   1%|          | 28/5000 [00:00<02:14, 37.03it/s]"
     ]
    },
    {
     "name": "stderr",
     "output_type": "stream",
     "text": [
      "\r",
      "Step 1/3 :   1%|          | 32/5000 [00:00<02:14, 36.89it/s]"
     ]
    },
    {
     "name": "stderr",
     "output_type": "stream",
     "text": [
      "\r",
      "Step 1/3 :   1%|          | 32/5000 [00:00<02:14, 36.89it/s]"
     ]
    },
    {
     "name": "stderr",
     "output_type": "stream",
     "text": [
      "\r",
      "Step 1/3 :   1%|          | 32/5000 [00:00<02:14, 36.89it/s]"
     ]
    },
    {
     "name": "stderr",
     "output_type": "stream",
     "text": [
      "\r",
      "Step 1/3 :   1%|          | 32/5000 [00:00<02:14, 36.89it/s]"
     ]
    },
    {
     "name": "stderr",
     "output_type": "stream",
     "text": [
      "\r",
      "Step 1/3 :   1%|          | 32/5000 [00:00<02:14, 36.89it/s]"
     ]
    },
    {
     "name": "stderr",
     "output_type": "stream",
     "text": [
      "\r",
      "Step 1/3 :   1%|          | 36/5000 [00:00<02:12, 37.41it/s]"
     ]
    },
    {
     "name": "stderr",
     "output_type": "stream",
     "text": [
      "\r",
      "Step 1/3 :   1%|          | 36/5000 [00:00<02:12, 37.41it/s]"
     ]
    },
    {
     "name": "stderr",
     "output_type": "stream",
     "text": [
      "\r",
      "Step 1/3 :   1%|          | 36/5000 [00:01<02:12, 37.41it/s]"
     ]
    },
    {
     "name": "stderr",
     "output_type": "stream",
     "text": [
      "\r",
      "Step 1/3 :   1%|          | 36/5000 [00:01<02:12, 37.41it/s]"
     ]
    },
    {
     "name": "stderr",
     "output_type": "stream",
     "text": [
      "\r",
      "Step 1/3 :   1%|          | 36/5000 [00:01<02:12, 37.41it/s]"
     ]
    },
    {
     "name": "stderr",
     "output_type": "stream",
     "text": [
      "\r",
      "Step 1/3 :   1%|          | 40/5000 [00:01<02:09, 38.17it/s]"
     ]
    },
    {
     "name": "stderr",
     "output_type": "stream",
     "text": [
      "\r",
      "Step 1/3 :   1%|          | 40/5000 [00:01<02:09, 38.17it/s]"
     ]
    },
    {
     "name": "stderr",
     "output_type": "stream",
     "text": [
      "\r",
      "Step 1/3 :   1%|          | 40/5000 [00:01<02:09, 38.17it/s]"
     ]
    },
    {
     "name": "stderr",
     "output_type": "stream",
     "text": [
      "\r",
      "Step 1/3 :   1%|          | 40/5000 [00:01<02:09, 38.17it/s]"
     ]
    },
    {
     "name": "stderr",
     "output_type": "stream",
     "text": [
      "\r",
      "Step 1/3 :   1%|          | 40/5000 [00:01<02:09, 38.17it/s]"
     ]
    },
    {
     "name": "stderr",
     "output_type": "stream",
     "text": [
      "\r",
      "Step 1/3 :   1%|          | 44/5000 [00:01<02:08, 38.60it/s]"
     ]
    },
    {
     "name": "stderr",
     "output_type": "stream",
     "text": [
      "\r",
      "Step 1/3 :   1%|          | 44/5000 [00:01<02:08, 38.60it/s]"
     ]
    },
    {
     "name": "stderr",
     "output_type": "stream",
     "text": [
      "\r",
      "Step 1/3 :   1%|          | 44/5000 [00:01<02:08, 38.60it/s]"
     ]
    },
    {
     "name": "stderr",
     "output_type": "stream",
     "text": [
      "\r",
      "Step 1/3 :   1%|          | 44/5000 [00:01<02:08, 38.60it/s]"
     ]
    },
    {
     "name": "stderr",
     "output_type": "stream",
     "text": [
      "\r",
      "Step 1/3 :   1%|          | 44/5000 [00:01<02:08, 38.60it/s]"
     ]
    },
    {
     "name": "stderr",
     "output_type": "stream",
     "text": [
      "\r",
      "Step 1/3 :   1%|          | 48/5000 [00:01<02:09, 38.22it/s]"
     ]
    },
    {
     "name": "stderr",
     "output_type": "stream",
     "text": [
      "\r",
      "Step 1/3 :   1%|          | 48/5000 [00:01<02:09, 38.22it/s]"
     ]
    },
    {
     "name": "stderr",
     "output_type": "stream",
     "text": [
      "\r",
      "Step 1/3 :   1%|          | 48/5000 [00:01<02:09, 38.22it/s]"
     ]
    },
    {
     "name": "stderr",
     "output_type": "stream",
     "text": [
      "\r",
      "Step 1/3 :   1%|          | 48/5000 [00:01<02:09, 38.22it/s]"
     ]
    },
    {
     "name": "stderr",
     "output_type": "stream",
     "text": [
      "\r",
      "Step 1/3 :   1%|          | 48/5000 [00:01<02:09, 38.22it/s]"
     ]
    },
    {
     "name": "stderr",
     "output_type": "stream",
     "text": [
      "\r",
      "Step 1/3 :   1%|          | 52/5000 [00:01<02:08, 38.40it/s]"
     ]
    },
    {
     "name": "stderr",
     "output_type": "stream",
     "text": [
      "\r",
      "Step 1/3 :   1%|          | 52/5000 [00:01<02:08, 38.40it/s]"
     ]
    },
    {
     "name": "stderr",
     "output_type": "stream",
     "text": [
      "\r",
      "Step 1/3 :   1%|          | 52/5000 [00:01<02:08, 38.40it/s]"
     ]
    },
    {
     "name": "stderr",
     "output_type": "stream",
     "text": [
      "\r",
      "Step 1/3 :   1%|          | 52/5000 [00:01<02:08, 38.40it/s]"
     ]
    },
    {
     "name": "stderr",
     "output_type": "stream",
     "text": [
      "\r",
      "Step 1/3 :   1%|          | 52/5000 [00:01<02:08, 38.40it/s]"
     ]
    },
    {
     "name": "stderr",
     "output_type": "stream",
     "text": [
      "\r",
      "Step 1/3 :   1%|          | 52/5000 [00:01<02:08, 38.40it/s]"
     ]
    },
    {
     "name": "stderr",
     "output_type": "stream",
     "text": [
      "\r",
      "Step 1/3 :   1%|          | 57/5000 [00:01<02:04, 39.60it/s]"
     ]
    },
    {
     "name": "stderr",
     "output_type": "stream",
     "text": [
      "\r",
      "Step 1/3 :   1%|          | 57/5000 [00:01<02:04, 39.60it/s]"
     ]
    },
    {
     "name": "stderr",
     "output_type": "stream",
     "text": [
      "\r",
      "Step 1/3 :   1%|          | 57/5000 [00:01<02:04, 39.60it/s]"
     ]
    },
    {
     "name": "stderr",
     "output_type": "stream",
     "text": [
      "\r",
      "Step 1/3 :   1%|          | 57/5000 [00:01<02:04, 39.60it/s]"
     ]
    },
    {
     "name": "stderr",
     "output_type": "stream",
     "text": [
      "\r",
      "Step 1/3 :   1%|          | 57/5000 [00:01<02:04, 39.60it/s]"
     ]
    },
    {
     "name": "stderr",
     "output_type": "stream",
     "text": [
      "\r",
      "Step 1/3 :   1%|          | 61/5000 [00:01<02:05, 39.45it/s]"
     ]
    },
    {
     "name": "stderr",
     "output_type": "stream",
     "text": [
      "\r",
      "Step 1/3 :   1%|          | 61/5000 [00:01<02:05, 39.45it/s]"
     ]
    },
    {
     "name": "stderr",
     "output_type": "stream",
     "text": [
      "\r",
      "Step 1/3 :   1%|          | 61/5000 [00:01<02:05, 39.45it/s]"
     ]
    },
    {
     "name": "stderr",
     "output_type": "stream",
     "text": [
      "\r",
      "Step 1/3 :   1%|          | 61/5000 [00:01<02:05, 39.45it/s]"
     ]
    },
    {
     "name": "stderr",
     "output_type": "stream",
     "text": [
      "\r",
      "Step 1/3 :   1%|          | 61/5000 [00:01<02:05, 39.45it/s]"
     ]
    },
    {
     "name": "stderr",
     "output_type": "stream",
     "text": [
      "\r",
      "Step 1/3 :   1%|          | 61/5000 [00:01<02:05, 39.45it/s]"
     ]
    },
    {
     "name": "stderr",
     "output_type": "stream",
     "text": [
      "\r",
      "Step 1/3 :   1%|▏         | 66/5000 [00:01<02:02, 40.28it/s]"
     ]
    },
    {
     "name": "stderr",
     "output_type": "stream",
     "text": [
      "\r",
      "Step 1/3 :   1%|▏         | 66/5000 [00:01<02:02, 40.28it/s]"
     ]
    },
    {
     "name": "stderr",
     "output_type": "stream",
     "text": [
      "\r",
      "Step 1/3 :   1%|▏         | 66/5000 [00:01<02:02, 40.28it/s]"
     ]
    },
    {
     "name": "stderr",
     "output_type": "stream",
     "text": [
      "\r",
      "Step 1/3 :   1%|▏         | 66/5000 [00:01<02:02, 40.28it/s]"
     ]
    },
    {
     "name": "stderr",
     "output_type": "stream",
     "text": [
      "\r",
      "Step 1/3 :   1%|▏         | 66/5000 [00:01<02:02, 40.28it/s]"
     ]
    },
    {
     "name": "stderr",
     "output_type": "stream",
     "text": [
      "\r",
      "Step 1/3 :   1%|▏         | 66/5000 [00:01<02:02, 40.28it/s]"
     ]
    },
    {
     "name": "stderr",
     "output_type": "stream",
     "text": [
      "\r",
      "Step 1/3 :   1%|▏         | 71/5000 [00:01<02:00, 40.83it/s]"
     ]
    },
    {
     "name": "stderr",
     "output_type": "stream",
     "text": [
      "\r",
      "Step 1/3 :   1%|▏         | 71/5000 [00:01<02:00, 40.83it/s]"
     ]
    },
    {
     "name": "stderr",
     "output_type": "stream",
     "text": [
      "\r",
      "Step 1/3 :   1%|▏         | 71/5000 [00:01<02:00, 40.83it/s]"
     ]
    },
    {
     "name": "stderr",
     "output_type": "stream",
     "text": [
      "\r",
      "Step 1/3 :   1%|▏         | 71/5000 [00:01<02:00, 40.83it/s]"
     ]
    },
    {
     "name": "stderr",
     "output_type": "stream",
     "text": [
      "\r",
      "Step 1/3 :   1%|▏         | 71/5000 [00:01<02:00, 40.83it/s]"
     ]
    },
    {
     "name": "stderr",
     "output_type": "stream",
     "text": [
      "\r",
      "Step 1/3 :   1%|▏         | 71/5000 [00:01<02:00, 40.83it/s]"
     ]
    },
    {
     "name": "stderr",
     "output_type": "stream",
     "text": [
      "\r",
      "Step 1/3 :   2%|▏         | 76/5000 [00:01<01:59, 41.31it/s]"
     ]
    },
    {
     "name": "stderr",
     "output_type": "stream",
     "text": [
      "\r",
      "Step 1/3 :   2%|▏         | 76/5000 [00:01<01:59, 41.31it/s]"
     ]
    },
    {
     "name": "stderr",
     "output_type": "stream",
     "text": [
      "\r",
      "Step 1/3 :   2%|▏         | 76/5000 [00:02<01:59, 41.31it/s]"
     ]
    },
    {
     "name": "stderr",
     "output_type": "stream",
     "text": [
      "\r",
      "Step 1/3 :   2%|▏         | 76/5000 [00:02<01:59, 41.31it/s]"
     ]
    },
    {
     "name": "stderr",
     "output_type": "stream",
     "text": [
      "\r",
      "Step 1/3 :   2%|▏         | 76/5000 [00:02<01:59, 41.31it/s]"
     ]
    },
    {
     "name": "stderr",
     "output_type": "stream",
     "text": [
      "\r",
      "Step 1/3 :   2%|▏         | 76/5000 [00:02<01:59, 41.31it/s]"
     ]
    },
    {
     "name": "stderr",
     "output_type": "stream",
     "text": [
      "\r",
      "Step 1/3 :   2%|▏         | 81/5000 [00:02<01:58, 41.53it/s]"
     ]
    },
    {
     "name": "stderr",
     "output_type": "stream",
     "text": [
      "\r",
      "Step 1/3 :   2%|▏         | 81/5000 [00:02<01:58, 41.53it/s]"
     ]
    },
    {
     "name": "stderr",
     "output_type": "stream",
     "text": [
      "\r",
      "Step 1/3 :   2%|▏         | 81/5000 [00:02<01:58, 41.53it/s]"
     ]
    },
    {
     "name": "stderr",
     "output_type": "stream",
     "text": [
      "\r",
      "Step 1/3 :   2%|▏         | 81/5000 [00:02<01:58, 41.53it/s]"
     ]
    },
    {
     "name": "stderr",
     "output_type": "stream",
     "text": [
      "\r",
      "Step 1/3 :   2%|▏         | 81/5000 [00:02<01:58, 41.53it/s]"
     ]
    },
    {
     "name": "stderr",
     "output_type": "stream",
     "text": [
      "\r",
      "Step 1/3 :   2%|▏         | 81/5000 [00:02<01:58, 41.53it/s]"
     ]
    },
    {
     "name": "stderr",
     "output_type": "stream",
     "text": [
      "\r",
      "Step 1/3 :   2%|▏         | 86/5000 [00:02<01:59, 41.25it/s]"
     ]
    },
    {
     "name": "stderr",
     "output_type": "stream",
     "text": [
      "\r",
      "Step 1/3 :   2%|▏         | 86/5000 [00:02<01:59, 41.25it/s]"
     ]
    },
    {
     "name": "stderr",
     "output_type": "stream",
     "text": [
      "\r",
      "Step 1/3 :   2%|▏         | 86/5000 [00:02<01:59, 41.25it/s]"
     ]
    },
    {
     "name": "stderr",
     "output_type": "stream",
     "text": [
      "\r",
      "Step 1/3 :   2%|▏         | 86/5000 [00:02<01:59, 41.25it/s]"
     ]
    },
    {
     "name": "stderr",
     "output_type": "stream",
     "text": [
      "\r",
      "Step 1/3 :   2%|▏         | 86/5000 [00:02<01:59, 41.25it/s]"
     ]
    },
    {
     "name": "stderr",
     "output_type": "stream",
     "text": [
      "\r",
      "Step 1/3 :   2%|▏         | 86/5000 [00:02<01:59, 41.25it/s]"
     ]
    },
    {
     "name": "stderr",
     "output_type": "stream",
     "text": [
      "\r",
      "Step 1/3 :   2%|▏         | 91/5000 [00:02<02:00, 40.86it/s]"
     ]
    },
    {
     "name": "stderr",
     "output_type": "stream",
     "text": [
      "\r",
      "Step 1/3 :   2%|▏         | 91/5000 [00:02<02:00, 40.86it/s]"
     ]
    },
    {
     "name": "stderr",
     "output_type": "stream",
     "text": [
      "\r",
      "Step 1/3 :   2%|▏         | 91/5000 [00:02<02:00, 40.86it/s]"
     ]
    },
    {
     "name": "stderr",
     "output_type": "stream",
     "text": [
      "\r",
      "Step 1/3 :   2%|▏         | 91/5000 [00:02<02:00, 40.86it/s]"
     ]
    },
    {
     "name": "stderr",
     "output_type": "stream",
     "text": [
      "\r",
      "Step 1/3 :   2%|▏         | 91/5000 [00:02<02:00, 40.86it/s]"
     ]
    },
    {
     "name": "stderr",
     "output_type": "stream",
     "text": [
      "\r",
      "Step 1/3 :   2%|▏         | 91/5000 [00:02<02:00, 40.86it/s]"
     ]
    },
    {
     "name": "stderr",
     "output_type": "stream",
     "text": [
      "\r",
      "Step 1/3 :   2%|▏         | 96/5000 [00:02<02:00, 40.69it/s]"
     ]
    },
    {
     "name": "stderr",
     "output_type": "stream",
     "text": [
      "\r",
      "Step 1/3 :   2%|▏         | 96/5000 [00:02<02:00, 40.69it/s]"
     ]
    },
    {
     "name": "stderr",
     "output_type": "stream",
     "text": [
      "\r",
      "Step 1/3 :   2%|▏         | 96/5000 [00:02<02:00, 40.69it/s]"
     ]
    },
    {
     "name": "stderr",
     "output_type": "stream",
     "text": [
      "\r",
      "Step 1/3 :   2%|▏         | 96/5000 [00:02<02:00, 40.69it/s]"
     ]
    },
    {
     "name": "stderr",
     "output_type": "stream",
     "text": [
      "\r",
      "Step 1/3 :   2%|▏         | 96/5000 [00:02<02:00, 40.69it/s]"
     ]
    },
    {
     "name": "stderr",
     "output_type": "stream",
     "text": [
      "\r",
      "Step 1/3 :   2%|▏         | 96/5000 [00:02<02:00, 40.69it/s]"
     ]
    },
    {
     "name": "stderr",
     "output_type": "stream",
     "text": [
      "\r",
      "Step 1/3 :   2%|▏         | 101/5000 [00:02<02:03, 39.71it/s]"
     ]
    },
    {
     "name": "stderr",
     "output_type": "stream",
     "text": [
      "\r",
      "Step 1/3 :   2%|▏         | 101/5000 [00:02<02:03, 39.71it/s]"
     ]
    },
    {
     "name": "stderr",
     "output_type": "stream",
     "text": [
      "\r",
      "Step 1/3 :   2%|▏         | 101/5000 [00:02<02:03, 39.71it/s]"
     ]
    },
    {
     "name": "stderr",
     "output_type": "stream",
     "text": [
      "\r",
      "Step 1/3 :   2%|▏         | 101/5000 [00:02<02:03, 39.71it/s]"
     ]
    },
    {
     "name": "stderr",
     "output_type": "stream",
     "text": [
      "\r",
      "Step 1/3 :   2%|▏         | 101/5000 [00:02<02:03, 39.71it/s]"
     ]
    },
    {
     "name": "stderr",
     "output_type": "stream",
     "text": [
      "\r",
      "Step 1/3 :   2%|▏         | 105/5000 [00:02<02:08, 38.16it/s]"
     ]
    },
    {
     "name": "stderr",
     "output_type": "stream",
     "text": [
      "\r",
      "Step 1/3 :   2%|▏         | 105/5000 [00:02<02:08, 38.16it/s]"
     ]
    },
    {
     "name": "stderr",
     "output_type": "stream",
     "text": [
      "\r",
      "Step 1/3 :   2%|▏         | 105/5000 [00:02<02:08, 38.16it/s]"
     ]
    },
    {
     "name": "stderr",
     "output_type": "stream",
     "text": [
      "\r",
      "Step 1/3 :   2%|▏         | 105/5000 [00:02<02:08, 38.16it/s]"
     ]
    },
    {
     "name": "stderr",
     "output_type": "stream",
     "text": [
      "\r",
      "Step 1/3 :   2%|▏         | 105/5000 [00:02<02:08, 38.16it/s]"
     ]
    },
    {
     "name": "stderr",
     "output_type": "stream",
     "text": [
      "\r",
      "Step 1/3 :   2%|▏         | 109/5000 [00:02<02:19, 34.96it/s]"
     ]
    },
    {
     "name": "stderr",
     "output_type": "stream",
     "text": [
      "\r",
      "Step 1/3 :   2%|▏         | 109/5000 [00:02<02:19, 34.96it/s]"
     ]
    },
    {
     "name": "stderr",
     "output_type": "stream",
     "text": [
      "\r",
      "Step 1/3 :   2%|▏         | 109/5000 [00:02<02:19, 34.96it/s]"
     ]
    },
    {
     "name": "stderr",
     "output_type": "stream",
     "text": [
      "\r",
      "Step 1/3 :   2%|▏         | 109/5000 [00:02<02:19, 34.96it/s]"
     ]
    },
    {
     "name": "stderr",
     "output_type": "stream",
     "text": [
      "\r",
      "Step 1/3 :   2%|▏         | 109/5000 [00:02<02:19, 34.96it/s]"
     ]
    },
    {
     "name": "stderr",
     "output_type": "stream",
     "text": [
      "\r",
      "Step 1/3 :   2%|▏         | 113/5000 [00:02<02:15, 36.00it/s]"
     ]
    },
    {
     "name": "stderr",
     "output_type": "stream",
     "text": [
      "\r",
      "Step 1/3 :   2%|▏         | 113/5000 [00:02<02:15, 36.00it/s]"
     ]
    },
    {
     "name": "stderr",
     "output_type": "stream",
     "text": [
      "\r",
      "Step 1/3 :   2%|▏         | 113/5000 [00:02<02:15, 36.00it/s]"
     ]
    },
    {
     "name": "stderr",
     "output_type": "stream",
     "text": [
      "\r",
      "Step 1/3 :   2%|▏         | 113/5000 [00:03<02:15, 36.00it/s]"
     ]
    },
    {
     "name": "stderr",
     "output_type": "stream",
     "text": [
      "\r",
      "Step 1/3 :   2%|▏         | 113/5000 [00:03<02:15, 36.00it/s]"
     ]
    },
    {
     "name": "stderr",
     "output_type": "stream",
     "text": [
      "\r",
      "Step 1/3 :   2%|▏         | 117/5000 [00:03<02:12, 36.76it/s]"
     ]
    },
    {
     "name": "stderr",
     "output_type": "stream",
     "text": [
      "\r",
      "Step 1/3 :   2%|▏         | 117/5000 [00:03<02:12, 36.76it/s]"
     ]
    },
    {
     "name": "stderr",
     "output_type": "stream",
     "text": [
      "\r",
      "Step 1/3 :   2%|▏         | 117/5000 [00:03<02:12, 36.76it/s]"
     ]
    },
    {
     "name": "stderr",
     "output_type": "stream",
     "text": [
      "\r",
      "Step 1/3 :   2%|▏         | 117/5000 [00:03<02:12, 36.76it/s]"
     ]
    },
    {
     "name": "stderr",
     "output_type": "stream",
     "text": [
      "\r",
      "Step 1/3 :   2%|▏         | 117/5000 [00:03<02:12, 36.76it/s]"
     ]
    },
    {
     "name": "stderr",
     "output_type": "stream",
     "text": [
      "\r",
      "Step 1/3 :   2%|▏         | 121/5000 [00:03<02:09, 37.64it/s]"
     ]
    },
    {
     "name": "stderr",
     "output_type": "stream",
     "text": [
      "\r",
      "Step 1/3 :   2%|▏         | 121/5000 [00:03<02:09, 37.64it/s]"
     ]
    },
    {
     "name": "stderr",
     "output_type": "stream",
     "text": [
      "\r",
      "Step 1/3 :   2%|▏         | 121/5000 [00:03<02:09, 37.64it/s]"
     ]
    },
    {
     "name": "stderr",
     "output_type": "stream",
     "text": [
      "\r",
      "Step 1/3 :   2%|▏         | 121/5000 [00:03<02:09, 37.64it/s]"
     ]
    },
    {
     "name": "stderr",
     "output_type": "stream",
     "text": [
      "\r",
      "Step 1/3 :   2%|▏         | 121/5000 [00:03<02:09, 37.64it/s]"
     ]
    },
    {
     "name": "stderr",
     "output_type": "stream",
     "text": [
      "\r",
      "Step 1/3 :   2%|▎         | 125/5000 [00:03<02:14, 36.37it/s]"
     ]
    },
    {
     "name": "stderr",
     "output_type": "stream",
     "text": [
      "\r",
      "Step 1/3 :   2%|▎         | 125/5000 [00:03<02:14, 36.37it/s]"
     ]
    },
    {
     "name": "stderr",
     "output_type": "stream",
     "text": [
      "\r",
      "Step 1/3 :   2%|▎         | 125/5000 [00:03<02:14, 36.37it/s]"
     ]
    },
    {
     "name": "stderr",
     "output_type": "stream",
     "text": [
      "\r",
      "Step 1/3 :   2%|▎         | 125/5000 [00:03<02:14, 36.37it/s]"
     ]
    },
    {
     "name": "stderr",
     "output_type": "stream",
     "text": [
      "\r",
      "Step 1/3 :   2%|▎         | 125/5000 [00:03<02:14, 36.37it/s]"
     ]
    },
    {
     "name": "stderr",
     "output_type": "stream",
     "text": [
      "\r",
      "Step 1/3 :   3%|▎         | 129/5000 [00:03<02:22, 34.26it/s]"
     ]
    },
    {
     "name": "stderr",
     "output_type": "stream",
     "text": [
      "\r",
      "Step 1/3 :   3%|▎         | 129/5000 [00:03<02:22, 34.26it/s]"
     ]
    },
    {
     "name": "stderr",
     "output_type": "stream",
     "text": [
      "\r",
      "Step 1/3 :   3%|▎         | 129/5000 [00:03<02:22, 34.26it/s]"
     ]
    },
    {
     "name": "stderr",
     "output_type": "stream",
     "text": [
      "\r",
      "Step 1/3 :   3%|▎         | 129/5000 [00:03<02:22, 34.26it/s]"
     ]
    },
    {
     "name": "stderr",
     "output_type": "stream",
     "text": [
      "\r",
      "Step 1/3 :   3%|▎         | 129/5000 [00:03<02:22, 34.26it/s]"
     ]
    },
    {
     "name": "stderr",
     "output_type": "stream",
     "text": [
      "\r",
      "Step 1/3 :   3%|▎         | 133/5000 [00:03<02:27, 32.90it/s]"
     ]
    },
    {
     "name": "stderr",
     "output_type": "stream",
     "text": [
      "\r",
      "Step 1/3 :   3%|▎         | 133/5000 [00:03<02:27, 32.90it/s]"
     ]
    },
    {
     "name": "stderr",
     "output_type": "stream",
     "text": [
      "\r",
      "Step 1/3 :   3%|▎         | 133/5000 [00:03<02:27, 32.90it/s]"
     ]
    },
    {
     "name": "stderr",
     "output_type": "stream",
     "text": [
      "\r",
      "Step 1/3 :   3%|▎         | 133/5000 [00:03<02:27, 32.90it/s]"
     ]
    },
    {
     "name": "stderr",
     "output_type": "stream",
     "text": [
      "\r",
      "Step 1/3 :   3%|▎         | 133/5000 [00:03<02:27, 32.90it/s]"
     ]
    },
    {
     "name": "stderr",
     "output_type": "stream",
     "text": [
      "\r",
      "Step 1/3 :   3%|▎         | 137/5000 [00:03<02:30, 32.22it/s]"
     ]
    },
    {
     "name": "stderr",
     "output_type": "stream",
     "text": [
      "\r",
      "Step 1/3 :   3%|▎         | 137/5000 [00:03<02:30, 32.22it/s]"
     ]
    },
    {
     "name": "stderr",
     "output_type": "stream",
     "text": [
      "\r",
      "Step 1/3 :   3%|▎         | 137/5000 [00:03<02:30, 32.22it/s]"
     ]
    },
    {
     "name": "stderr",
     "output_type": "stream",
     "text": [
      "\r",
      "Step 1/3 :   3%|▎         | 137/5000 [00:03<02:30, 32.22it/s]"
     ]
    },
    {
     "name": "stderr",
     "output_type": "stream",
     "text": [
      "\r",
      "Step 1/3 :   3%|▎         | 137/5000 [00:03<02:30, 32.22it/s]"
     ]
    },
    {
     "name": "stderr",
     "output_type": "stream",
     "text": [
      "\r",
      "Step 1/3 :   3%|▎         | 141/5000 [00:03<02:25, 33.45it/s]"
     ]
    },
    {
     "name": "stderr",
     "output_type": "stream",
     "text": [
      "\r",
      "Step 1/3 :   3%|▎         | 141/5000 [00:03<02:25, 33.45it/s]"
     ]
    },
    {
     "name": "stderr",
     "output_type": "stream",
     "text": [
      "\r",
      "Step 1/3 :   3%|▎         | 141/5000 [00:03<02:25, 33.45it/s]"
     ]
    },
    {
     "name": "stderr",
     "output_type": "stream",
     "text": [
      "\r",
      "Step 1/3 :   3%|▎         | 141/5000 [00:03<02:25, 33.45it/s]"
     ]
    },
    {
     "name": "stderr",
     "output_type": "stream",
     "text": [
      "\r",
      "Step 1/3 :   3%|▎         | 141/5000 [00:03<02:25, 33.45it/s]"
     ]
    },
    {
     "name": "stderr",
     "output_type": "stream",
     "text": [
      "\r",
      "Step 1/3 :   3%|▎         | 145/5000 [00:03<02:19, 34.90it/s]"
     ]
    },
    {
     "name": "stderr",
     "output_type": "stream",
     "text": [
      "\r",
      "Step 1/3 :   3%|▎         | 145/5000 [00:03<02:19, 34.90it/s]"
     ]
    },
    {
     "name": "stderr",
     "output_type": "stream",
     "text": [
      "\r",
      "Step 1/3 :   3%|▎         | 145/5000 [00:03<02:19, 34.90it/s]"
     ]
    },
    {
     "name": "stderr",
     "output_type": "stream",
     "text": [
      "\r",
      "Step 1/3 :   3%|▎         | 145/5000 [00:03<02:19, 34.90it/s]"
     ]
    },
    {
     "name": "stderr",
     "output_type": "stream",
     "text": [
      "\r",
      "Step 1/3 :   3%|▎         | 145/5000 [00:03<02:19, 34.90it/s]"
     ]
    },
    {
     "name": "stderr",
     "output_type": "stream",
     "text": [
      "\r",
      "Step 1/3 :   3%|▎         | 149/5000 [00:04<02:14, 36.18it/s]"
     ]
    },
    {
     "name": "stderr",
     "output_type": "stream",
     "text": [
      "\r",
      "Step 1/3 :   3%|▎         | 149/5000 [00:04<02:14, 36.18it/s]"
     ]
    },
    {
     "name": "stderr",
     "output_type": "stream",
     "text": [
      "\r",
      "Step 1/3 :   3%|▎         | 149/5000 [00:04<02:14, 36.18it/s]"
     ]
    },
    {
     "name": "stderr",
     "output_type": "stream",
     "text": [
      "\r",
      "Step 1/3 :   3%|▎         | 149/5000 [00:04<02:14, 36.18it/s]"
     ]
    },
    {
     "name": "stderr",
     "output_type": "stream",
     "text": [
      "\r",
      "Step 1/3 :   3%|▎         | 149/5000 [00:04<02:14, 36.18it/s]"
     ]
    },
    {
     "name": "stderr",
     "output_type": "stream",
     "text": [
      "\r",
      "Step 1/3 :   3%|▎         | 149/5000 [00:04<02:14, 36.18it/s]"
     ]
    },
    {
     "name": "stderr",
     "output_type": "stream",
     "text": [
      "\r",
      "Step 1/3 :   3%|▎         | 154/5000 [00:04<02:08, 37.62it/s]"
     ]
    },
    {
     "name": "stderr",
     "output_type": "stream",
     "text": [
      "\r",
      "Step 1/3 :   3%|▎         | 154/5000 [00:04<02:08, 37.62it/s]"
     ]
    },
    {
     "name": "stderr",
     "output_type": "stream",
     "text": [
      "\r",
      "Step 1/3 :   3%|▎         | 154/5000 [00:04<02:08, 37.62it/s]"
     ]
    },
    {
     "name": "stderr",
     "output_type": "stream",
     "text": [
      "\r",
      "Step 1/3 :   3%|▎         | 154/5000 [00:04<02:08, 37.62it/s]"
     ]
    },
    {
     "name": "stderr",
     "output_type": "stream",
     "text": [
      "\r",
      "Step 1/3 :   3%|▎         | 154/5000 [00:04<02:08, 37.62it/s]"
     ]
    },
    {
     "name": "stderr",
     "output_type": "stream",
     "text": [
      "\r",
      "Step 1/3 :   3%|▎         | 154/5000 [00:04<02:08, 37.62it/s]"
     ]
    },
    {
     "name": "stderr",
     "output_type": "stream",
     "text": [
      "\r",
      "Step 1/3 :   3%|▎         | 159/5000 [00:04<02:02, 39.38it/s]"
     ]
    },
    {
     "name": "stderr",
     "output_type": "stream",
     "text": [
      "\r",
      "Step 1/3 :   3%|▎         | 159/5000 [00:04<02:02, 39.38it/s]"
     ]
    },
    {
     "name": "stderr",
     "output_type": "stream",
     "text": [
      "\r",
      "Step 1/3 :   3%|▎         | 159/5000 [00:04<02:02, 39.38it/s]"
     ]
    },
    {
     "name": "stderr",
     "output_type": "stream",
     "text": [
      "\r",
      "Step 1/3 :   3%|▎         | 159/5000 [00:04<02:02, 39.38it/s]"
     ]
    },
    {
     "name": "stderr",
     "output_type": "stream",
     "text": [
      "\r",
      "Step 1/3 :   3%|▎         | 159/5000 [00:04<02:02, 39.38it/s]"
     ]
    },
    {
     "name": "stderr",
     "output_type": "stream",
     "text": [
      "\r",
      "Step 1/3 :   3%|▎         | 159/5000 [00:04<02:02, 39.38it/s]"
     ]
    },
    {
     "name": "stderr",
     "output_type": "stream",
     "text": [
      "\r",
      "Step 1/3 :   3%|▎         | 164/5000 [00:04<01:59, 40.44it/s]"
     ]
    },
    {
     "name": "stderr",
     "output_type": "stream",
     "text": [
      "\r",
      "Step 1/3 :   3%|▎         | 164/5000 [00:04<01:59, 40.44it/s]"
     ]
    },
    {
     "name": "stderr",
     "output_type": "stream",
     "text": [
      "\r",
      "Step 1/3 :   3%|▎         | 164/5000 [00:04<01:59, 40.44it/s]"
     ]
    },
    {
     "name": "stderr",
     "output_type": "stream",
     "text": [
      "\r",
      "Step 1/3 :   3%|▎         | 164/5000 [00:04<01:59, 40.44it/s]"
     ]
    },
    {
     "name": "stderr",
     "output_type": "stream",
     "text": [
      "\r",
      "Step 1/3 :   3%|▎         | 164/5000 [00:04<01:59, 40.44it/s]"
     ]
    },
    {
     "name": "stderr",
     "output_type": "stream",
     "text": [
      "\r",
      "Step 1/3 :   3%|▎         | 164/5000 [00:04<01:59, 40.44it/s]"
     ]
    },
    {
     "name": "stderr",
     "output_type": "stream",
     "text": [
      "\r",
      "Step 1/3 :   3%|▎         | 169/5000 [00:04<01:55, 41.68it/s]"
     ]
    },
    {
     "name": "stderr",
     "output_type": "stream",
     "text": [
      "\r",
      "Step 1/3 :   3%|▎         | 169/5000 [00:04<01:55, 41.68it/s]"
     ]
    },
    {
     "name": "stderr",
     "output_type": "stream",
     "text": [
      "\r",
      "Step 1/3 :   3%|▎         | 169/5000 [00:04<01:55, 41.68it/s]"
     ]
    },
    {
     "name": "stderr",
     "output_type": "stream",
     "text": [
      "\r",
      "Step 1/3 :   3%|▎         | 169/5000 [00:04<01:55, 41.68it/s]"
     ]
    },
    {
     "name": "stderr",
     "output_type": "stream",
     "text": [
      "\r",
      "Step 1/3 :   3%|▎         | 169/5000 [00:04<01:55, 41.68it/s]"
     ]
    },
    {
     "name": "stderr",
     "output_type": "stream",
     "text": [
      "\r",
      "Step 1/3 :   3%|▎         | 169/5000 [00:04<01:55, 41.68it/s]"
     ]
    },
    {
     "name": "stderr",
     "output_type": "stream",
     "text": [
      "\r",
      "Step 1/3 :   3%|▎         | 174/5000 [00:04<02:04, 38.91it/s]"
     ]
    },
    {
     "name": "stderr",
     "output_type": "stream",
     "text": [
      "\r",
      "Step 1/3 :   3%|▎         | 174/5000 [00:04<02:04, 38.91it/s]"
     ]
    },
    {
     "name": "stderr",
     "output_type": "stream",
     "text": [
      "\r",
      "Step 1/3 :   3%|▎         | 174/5000 [00:04<02:04, 38.91it/s]"
     ]
    },
    {
     "name": "stderr",
     "output_type": "stream",
     "text": [
      "\r",
      "Step 1/3 :   3%|▎         | 174/5000 [00:04<02:04, 38.91it/s]"
     ]
    },
    {
     "name": "stderr",
     "output_type": "stream",
     "text": [
      "\r",
      "Step 1/3 :   3%|▎         | 174/5000 [00:04<02:04, 38.91it/s]"
     ]
    },
    {
     "name": "stderr",
     "output_type": "stream",
     "text": [
      "\r",
      "Step 1/3 :   4%|▎         | 178/5000 [00:04<02:07, 37.83it/s]"
     ]
    },
    {
     "name": "stderr",
     "output_type": "stream",
     "text": [
      "\r",
      "Step 1/3 :   4%|▎         | 178/5000 [00:04<02:07, 37.83it/s]"
     ]
    },
    {
     "name": "stderr",
     "output_type": "stream",
     "text": [
      "\r",
      "Step 1/3 :   4%|▎         | 178/5000 [00:04<02:07, 37.83it/s]"
     ]
    },
    {
     "name": "stderr",
     "output_type": "stream",
     "text": [
      "\r",
      "Step 1/3 :   4%|▎         | 178/5000 [00:04<02:07, 37.83it/s]"
     ]
    },
    {
     "name": "stderr",
     "output_type": "stream",
     "text": [
      "\r",
      "Step 1/3 :   4%|▎         | 178/5000 [00:04<02:07, 37.83it/s]"
     ]
    },
    {
     "name": "stderr",
     "output_type": "stream",
     "text": [
      "\r",
      "Step 1/3 :   4%|▎         | 182/5000 [00:04<02:14, 35.78it/s]"
     ]
    },
    {
     "name": "stderr",
     "output_type": "stream",
     "text": [
      "\r",
      "Step 1/3 :   4%|▎         | 182/5000 [00:04<02:14, 35.78it/s]"
     ]
    },
    {
     "name": "stderr",
     "output_type": "stream",
     "text": [
      "\r",
      "Step 1/3 :   4%|▎         | 182/5000 [00:04<02:14, 35.78it/s]"
     ]
    },
    {
     "name": "stderr",
     "output_type": "stream",
     "text": [
      "\r",
      "Step 1/3 :   4%|▎         | 182/5000 [00:04<02:14, 35.78it/s]"
     ]
    },
    {
     "name": "stderr",
     "output_type": "stream",
     "text": [
      "\r",
      "Step 1/3 :   4%|▎         | 182/5000 [00:04<02:14, 35.78it/s]"
     ]
    },
    {
     "name": "stderr",
     "output_type": "stream",
     "text": [
      "\r",
      "Step 1/3 :   4%|▎         | 186/5000 [00:04<02:12, 36.31it/s]"
     ]
    },
    {
     "name": "stderr",
     "output_type": "stream",
     "text": [
      "\r",
      "Step 1/3 :   4%|▎         | 186/5000 [00:04<02:12, 36.31it/s]"
     ]
    },
    {
     "name": "stderr",
     "output_type": "stream",
     "text": [
      "\r",
      "Step 1/3 :   4%|▎         | 186/5000 [00:04<02:12, 36.31it/s]"
     ]
    },
    {
     "name": "stderr",
     "output_type": "stream",
     "text": [
      "\r",
      "Step 1/3 :   4%|▎         | 186/5000 [00:05<02:12, 36.31it/s]"
     ]
    },
    {
     "name": "stderr",
     "output_type": "stream",
     "text": [
      "\r",
      "Step 1/3 :   4%|▎         | 186/5000 [00:05<02:12, 36.31it/s]"
     ]
    },
    {
     "name": "stderr",
     "output_type": "stream",
     "text": [
      "\r",
      "Step 1/3 :   4%|▍         | 190/5000 [00:05<02:12, 36.42it/s]"
     ]
    },
    {
     "name": "stderr",
     "output_type": "stream",
     "text": [
      "\r",
      "Step 1/3 :   4%|▍         | 190/5000 [00:05<02:12, 36.42it/s]"
     ]
    },
    {
     "name": "stderr",
     "output_type": "stream",
     "text": [
      "\r",
      "Step 1/3 :   4%|▍         | 190/5000 [00:05<02:12, 36.42it/s]"
     ]
    },
    {
     "name": "stderr",
     "output_type": "stream",
     "text": [
      "\r",
      "Step 1/3 :   4%|▍         | 190/5000 [00:05<02:12, 36.42it/s]"
     ]
    },
    {
     "name": "stderr",
     "output_type": "stream",
     "text": [
      "\r",
      "Step 1/3 :   4%|▍         | 190/5000 [00:05<02:12, 36.42it/s]"
     ]
    },
    {
     "name": "stderr",
     "output_type": "stream",
     "text": [
      "\r",
      "Step 1/3 :   4%|▍         | 190/5000 [00:05<02:12, 36.42it/s]"
     ]
    },
    {
     "name": "stderr",
     "output_type": "stream",
     "text": [
      "\r",
      "Step 1/3 :   4%|▍         | 195/5000 [00:05<02:06, 37.93it/s]"
     ]
    },
    {
     "name": "stderr",
     "output_type": "stream",
     "text": [
      "\r",
      "Step 1/3 :   4%|▍         | 195/5000 [00:05<02:06, 37.93it/s]"
     ]
    },
    {
     "name": "stderr",
     "output_type": "stream",
     "text": [
      "\r",
      "Step 1/3 :   4%|▍         | 195/5000 [00:05<02:06, 37.93it/s]"
     ]
    },
    {
     "name": "stderr",
     "output_type": "stream",
     "text": [
      "\r",
      "Step 1/3 :   4%|▍         | 195/5000 [00:05<02:06, 37.93it/s]"
     ]
    },
    {
     "name": "stderr",
     "output_type": "stream",
     "text": [
      "\r",
      "Step 1/3 :   4%|▍         | 195/5000 [00:05<02:06, 37.93it/s]"
     ]
    },
    {
     "name": "stderr",
     "output_type": "stream",
     "text": [
      "\r",
      "Step 1/3 :   4%|▍         | 195/5000 [00:05<02:06, 37.93it/s]"
     ]
    },
    {
     "name": "stderr",
     "output_type": "stream",
     "text": [
      "\r",
      "Step 1/3 :   4%|▍         | 200/5000 [00:05<02:02, 39.08it/s]"
     ]
    },
    {
     "name": "stderr",
     "output_type": "stream",
     "text": [
      "\r",
      "Step 1/3 :   4%|▍         | 200/5000 [00:05<02:02, 39.08it/s]"
     ]
    },
    {
     "name": "stderr",
     "output_type": "stream",
     "text": [
      "\r",
      "Step 1/3 :   4%|▍         | 200/5000 [00:05<02:02, 39.08it/s]"
     ]
    },
    {
     "name": "stderr",
     "output_type": "stream",
     "text": [
      "\r",
      "Step 1/3 :   4%|▍         | 200/5000 [00:05<02:02, 39.08it/s]"
     ]
    },
    {
     "name": "stderr",
     "output_type": "stream",
     "text": [
      "\r",
      "Step 1/3 :   4%|▍         | 200/5000 [00:05<02:02, 39.08it/s]"
     ]
    },
    {
     "name": "stderr",
     "output_type": "stream",
     "text": [
      "\r",
      "Step 1/3 :   4%|▍         | 200/5000 [00:05<02:02, 39.08it/s]"
     ]
    },
    {
     "name": "stderr",
     "output_type": "stream",
     "text": [
      "\r",
      "Step 1/3 :   4%|▍         | 205/5000 [00:05<02:01, 39.56it/s]"
     ]
    },
    {
     "name": "stderr",
     "output_type": "stream",
     "text": [
      "\r",
      "Step 1/3 :   4%|▍         | 205/5000 [00:05<02:01, 39.56it/s]"
     ]
    },
    {
     "name": "stderr",
     "output_type": "stream",
     "text": [
      "\r",
      "Step 1/3 :   4%|▍         | 205/5000 [00:05<02:01, 39.56it/s]"
     ]
    },
    {
     "name": "stderr",
     "output_type": "stream",
     "text": [
      "\r",
      "Step 1/3 :   4%|▍         | 205/5000 [00:05<02:01, 39.56it/s]"
     ]
    },
    {
     "name": "stderr",
     "output_type": "stream",
     "text": [
      "\r",
      "Step 1/3 :   4%|▍         | 205/5000 [00:05<02:01, 39.56it/s]"
     ]
    },
    {
     "name": "stderr",
     "output_type": "stream",
     "text": [
      "\r",
      "Step 1/3 :   4%|▍         | 205/5000 [00:05<02:01, 39.56it/s]"
     ]
    },
    {
     "name": "stderr",
     "output_type": "stream",
     "text": [
      "\r",
      "Step 1/3 :   4%|▍         | 210/5000 [00:05<02:00, 39.80it/s]"
     ]
    },
    {
     "name": "stderr",
     "output_type": "stream",
     "text": [
      "\r",
      "Step 1/3 :   4%|▍         | 210/5000 [00:05<02:00, 39.80it/s]"
     ]
    },
    {
     "name": "stderr",
     "output_type": "stream",
     "text": [
      "\r",
      "Step 1/3 :   4%|▍         | 210/5000 [00:05<02:00, 39.80it/s]"
     ]
    },
    {
     "name": "stderr",
     "output_type": "stream",
     "text": [
      "\r",
      "Step 1/3 :   4%|▍         | 210/5000 [00:05<02:00, 39.80it/s]"
     ]
    },
    {
     "name": "stderr",
     "output_type": "stream",
     "text": [
      "\r",
      "Step 1/3 :   4%|▍         | 210/5000 [00:05<02:00, 39.80it/s]"
     ]
    },
    {
     "name": "stderr",
     "output_type": "stream",
     "text": [
      "\r",
      "Step 1/3 :   4%|▍         | 210/5000 [00:05<02:00, 39.80it/s]"
     ]
    },
    {
     "name": "stderr",
     "output_type": "stream",
     "text": [
      "\r",
      "Step 1/3 :   4%|▍         | 215/5000 [00:05<01:59, 40.16it/s]"
     ]
    },
    {
     "name": "stderr",
     "output_type": "stream",
     "text": [
      "\r",
      "Step 1/3 :   4%|▍         | 215/5000 [00:05<01:59, 40.16it/s]"
     ]
    },
    {
     "name": "stderr",
     "output_type": "stream",
     "text": [
      "\r",
      "Step 1/3 :   4%|▍         | 215/5000 [00:05<01:59, 40.16it/s]"
     ]
    },
    {
     "name": "stderr",
     "output_type": "stream",
     "text": [
      "\r",
      "Step 1/3 :   4%|▍         | 215/5000 [00:05<01:59, 40.16it/s]"
     ]
    },
    {
     "name": "stderr",
     "output_type": "stream",
     "text": [
      "\r",
      "Step 1/3 :   4%|▍         | 215/5000 [00:05<01:59, 40.16it/s]"
     ]
    },
    {
     "name": "stderr",
     "output_type": "stream",
     "text": [
      "\r",
      "Step 1/3 :   4%|▍         | 215/5000 [00:05<01:59, 40.16it/s]"
     ]
    },
    {
     "name": "stderr",
     "output_type": "stream",
     "text": [
      "\r",
      "Step 1/3 :   4%|▍         | 220/5000 [00:05<02:03, 38.78it/s]"
     ]
    },
    {
     "name": "stderr",
     "output_type": "stream",
     "text": [
      "\r",
      "Step 1/3 :   4%|▍         | 220/5000 [00:05<02:03, 38.78it/s]"
     ]
    },
    {
     "name": "stderr",
     "output_type": "stream",
     "text": [
      "\r",
      "Step 1/3 :   4%|▍         | 220/5000 [00:05<02:03, 38.78it/s]"
     ]
    },
    {
     "name": "stderr",
     "output_type": "stream",
     "text": [
      "\r",
      "Step 1/3 :   4%|▍         | 220/5000 [00:05<02:03, 38.78it/s]"
     ]
    },
    {
     "name": "stderr",
     "output_type": "stream",
     "text": [
      "\r",
      "Step 1/3 :   4%|▍         | 220/5000 [00:05<02:03, 38.78it/s]"
     ]
    },
    {
     "name": "stderr",
     "output_type": "stream",
     "text": [
      "\r",
      "Step 1/3 :   4%|▍         | 224/5000 [00:05<02:04, 38.31it/s]"
     ]
    },
    {
     "name": "stderr",
     "output_type": "stream",
     "text": [
      "\r",
      "Step 1/3 :   4%|▍         | 224/5000 [00:05<02:04, 38.31it/s]"
     ]
    },
    {
     "name": "stderr",
     "output_type": "stream",
     "text": [
      "\r",
      "Step 1/3 :   4%|▍         | 224/5000 [00:05<02:04, 38.31it/s]"
     ]
    },
    {
     "name": "stderr",
     "output_type": "stream",
     "text": [
      "\r",
      "Step 1/3 :   4%|▍         | 224/5000 [00:05<02:04, 38.31it/s]"
     ]
    },
    {
     "name": "stderr",
     "output_type": "stream",
     "text": [
      "\r",
      "Step 1/3 :   4%|▍         | 224/5000 [00:06<02:04, 38.31it/s]"
     ]
    },
    {
     "name": "stderr",
     "output_type": "stream",
     "text": [
      "\r",
      "Step 1/3 :   4%|▍         | 224/5000 [00:06<02:04, 38.31it/s]"
     ]
    },
    {
     "name": "stderr",
     "output_type": "stream",
     "text": [
      "\r",
      "Step 1/3 :   5%|▍         | 229/5000 [00:06<02:00, 39.51it/s]"
     ]
    },
    {
     "name": "stderr",
     "output_type": "stream",
     "text": [
      "\r",
      "Step 1/3 :   5%|▍         | 229/5000 [00:06<02:00, 39.51it/s]"
     ]
    },
    {
     "name": "stderr",
     "output_type": "stream",
     "text": [
      "\r",
      "Step 1/3 :   5%|▍         | 229/5000 [00:06<02:00, 39.51it/s]"
     ]
    },
    {
     "name": "stderr",
     "output_type": "stream",
     "text": [
      "\r",
      "Step 1/3 :   5%|▍         | 229/5000 [00:06<02:00, 39.51it/s]"
     ]
    },
    {
     "name": "stderr",
     "output_type": "stream",
     "text": [
      "\r",
      "Step 1/3 :   5%|▍         | 229/5000 [00:06<02:00, 39.51it/s]"
     ]
    },
    {
     "name": "stderr",
     "output_type": "stream",
     "text": [
      "\r",
      "Step 1/3 :   5%|▍         | 229/5000 [00:06<02:00, 39.51it/s]"
     ]
    },
    {
     "name": "stderr",
     "output_type": "stream",
     "text": [
      "\r",
      "Step 1/3 :   5%|▍         | 234/5000 [00:06<01:59, 39.94it/s]"
     ]
    },
    {
     "name": "stderr",
     "output_type": "stream",
     "text": [
      "\r",
      "Step 1/3 :   5%|▍         | 234/5000 [00:06<01:59, 39.94it/s]"
     ]
    },
    {
     "name": "stderr",
     "output_type": "stream",
     "text": [
      "\r",
      "Step 1/3 :   5%|▍         | 234/5000 [00:06<01:59, 39.94it/s]"
     ]
    },
    {
     "name": "stderr",
     "output_type": "stream",
     "text": [
      "\r",
      "Step 1/3 :   5%|▍         | 234/5000 [00:06<01:59, 39.94it/s]"
     ]
    },
    {
     "name": "stderr",
     "output_type": "stream",
     "text": [
      "\r",
      "Step 1/3 :   5%|▍         | 234/5000 [00:06<01:59, 39.94it/s]"
     ]
    },
    {
     "name": "stderr",
     "output_type": "stream",
     "text": [
      "\r",
      "Step 1/3 :   5%|▍         | 234/5000 [00:06<01:59, 39.94it/s]"
     ]
    },
    {
     "name": "stderr",
     "output_type": "stream",
     "text": [
      "\r",
      "Step 1/3 :   5%|▍         | 239/5000 [00:06<01:56, 40.97it/s]"
     ]
    },
    {
     "name": "stderr",
     "output_type": "stream",
     "text": [
      "\r",
      "Step 1/3 :   5%|▍         | 239/5000 [00:06<01:56, 40.97it/s]"
     ]
    },
    {
     "name": "stderr",
     "output_type": "stream",
     "text": [
      "\r",
      "Step 1/3 :   5%|▍         | 239/5000 [00:06<01:56, 40.97it/s]"
     ]
    },
    {
     "name": "stderr",
     "output_type": "stream",
     "text": [
      "\r",
      "Step 1/3 :   5%|▍         | 239/5000 [00:06<01:56, 40.97it/s]"
     ]
    },
    {
     "name": "stderr",
     "output_type": "stream",
     "text": [
      "\r",
      "Step 1/3 :   5%|▍         | 239/5000 [00:06<01:56, 40.97it/s]"
     ]
    },
    {
     "name": "stderr",
     "output_type": "stream",
     "text": [
      "\r",
      "Step 1/3 :   5%|▍         | 239/5000 [00:06<01:56, 40.97it/s]"
     ]
    },
    {
     "name": "stderr",
     "output_type": "stream",
     "text": [
      "\r",
      "Step 1/3 :   5%|▍         | 244/5000 [00:06<01:59, 39.87it/s]"
     ]
    },
    {
     "name": "stderr",
     "output_type": "stream",
     "text": [
      "\r",
      "Step 1/3 :   5%|▍         | 244/5000 [00:06<01:59, 39.87it/s]"
     ]
    },
    {
     "name": "stderr",
     "output_type": "stream",
     "text": [
      "\r",
      "Step 1/3 :   5%|▍         | 244/5000 [00:06<01:59, 39.87it/s]"
     ]
    },
    {
     "name": "stderr",
     "output_type": "stream",
     "text": [
      "\r",
      "Step 1/3 :   5%|▍         | 244/5000 [00:06<01:59, 39.87it/s]"
     ]
    },
    {
     "name": "stderr",
     "output_type": "stream",
     "text": [
      "\r",
      "Step 1/3 :   5%|▍         | 244/5000 [00:06<01:59, 39.87it/s]"
     ]
    },
    {
     "name": "stderr",
     "output_type": "stream",
     "text": [
      "\r",
      "Step 1/3 :   5%|▍         | 244/5000 [00:06<01:59, 39.87it/s]"
     ]
    },
    {
     "name": "stderr",
     "output_type": "stream",
     "text": [
      "\r",
      "Step 1/3 :   5%|▍         | 249/5000 [00:06<01:54, 41.42it/s]"
     ]
    },
    {
     "name": "stderr",
     "output_type": "stream",
     "text": [
      "\r",
      "Step 1/3 :   5%|▍         | 249/5000 [00:06<01:54, 41.42it/s]"
     ]
    },
    {
     "name": "stderr",
     "output_type": "stream",
     "text": [
      "\r",
      "Step 1/3 :   5%|▍         | 249/5000 [00:06<01:54, 41.42it/s]"
     ]
    },
    {
     "name": "stderr",
     "output_type": "stream",
     "text": [
      "\r",
      "Step 1/3 :   5%|▍         | 249/5000 [00:06<01:54, 41.42it/s]"
     ]
    },
    {
     "name": "stderr",
     "output_type": "stream",
     "text": [
      "\r",
      "Step 1/3 :   5%|▍         | 249/5000 [00:06<01:54, 41.42it/s]"
     ]
    },
    {
     "name": "stderr",
     "output_type": "stream",
     "text": [
      "\r",
      "Step 1/3 :   5%|▍         | 249/5000 [00:06<01:54, 41.42it/s]"
     ]
    },
    {
     "name": "stderr",
     "output_type": "stream",
     "text": [
      "\r",
      "Step 1/3 :   5%|▌         | 254/5000 [00:06<01:53, 41.81it/s]"
     ]
    },
    {
     "name": "stderr",
     "output_type": "stream",
     "text": [
      "\r",
      "Step 1/3 :   5%|▌         | 254/5000 [00:06<01:53, 41.81it/s]"
     ]
    },
    {
     "name": "stderr",
     "output_type": "stream",
     "text": [
      "\r",
      "Step 1/3 :   5%|▌         | 254/5000 [00:06<01:53, 41.81it/s]"
     ]
    },
    {
     "name": "stderr",
     "output_type": "stream",
     "text": [
      "\r",
      "Step 1/3 :   5%|▌         | 254/5000 [00:06<01:53, 41.81it/s]"
     ]
    },
    {
     "name": "stderr",
     "output_type": "stream",
     "text": [
      "\r",
      "Step 1/3 :   5%|▌         | 254/5000 [00:06<01:53, 41.81it/s]"
     ]
    },
    {
     "name": "stderr",
     "output_type": "stream",
     "text": [
      "\r",
      "Step 1/3 :   5%|▌         | 254/5000 [00:06<01:53, 41.81it/s]"
     ]
    },
    {
     "name": "stderr",
     "output_type": "stream",
     "text": [
      "\r",
      "Step 1/3 :   5%|▌         | 259/5000 [00:06<01:52, 42.08it/s]"
     ]
    },
    {
     "name": "stderr",
     "output_type": "stream",
     "text": [
      "\r",
      "Step 1/3 :   5%|▌         | 259/5000 [00:06<01:52, 42.08it/s]"
     ]
    },
    {
     "name": "stderr",
     "output_type": "stream",
     "text": [
      "\r",
      "Step 1/3 :   5%|▌         | 259/5000 [00:06<01:52, 42.08it/s]"
     ]
    },
    {
     "name": "stderr",
     "output_type": "stream",
     "text": [
      "\r",
      "Step 1/3 :   5%|▌         | 259/5000 [00:06<01:52, 42.08it/s]"
     ]
    },
    {
     "name": "stderr",
     "output_type": "stream",
     "text": [
      "\r",
      "Step 1/3 :   5%|▌         | 259/5000 [00:06<01:52, 42.08it/s]"
     ]
    },
    {
     "name": "stderr",
     "output_type": "stream",
     "text": [
      "\r",
      "Step 1/3 :   5%|▌         | 259/5000 [00:06<01:52, 42.08it/s]"
     ]
    },
    {
     "name": "stderr",
     "output_type": "stream",
     "text": [
      "\r",
      "Step 1/3 :   5%|▌         | 264/5000 [00:06<02:01, 39.09it/s]"
     ]
    },
    {
     "name": "stderr",
     "output_type": "stream",
     "text": [
      "\r",
      "Step 1/3 :   5%|▌         | 264/5000 [00:06<02:01, 39.09it/s]"
     ]
    },
    {
     "name": "stderr",
     "output_type": "stream",
     "text": [
      "\r",
      "Step 1/3 :   5%|▌         | 264/5000 [00:06<02:01, 39.09it/s]"
     ]
    },
    {
     "name": "stderr",
     "output_type": "stream",
     "text": [
      "\r",
      "Step 1/3 :   5%|▌         | 264/5000 [00:06<02:01, 39.09it/s]"
     ]
    },
    {
     "name": "stderr",
     "output_type": "stream",
     "text": [
      "\r",
      "Step 1/3 :   5%|▌         | 264/5000 [00:06<02:01, 39.09it/s]"
     ]
    },
    {
     "name": "stderr",
     "output_type": "stream",
     "text": [
      "\r",
      "Step 1/3 :   5%|▌         | 268/5000 [00:07<02:03, 38.35it/s]"
     ]
    },
    {
     "name": "stderr",
     "output_type": "stream",
     "text": [
      "\r",
      "Step 1/3 :   5%|▌         | 268/5000 [00:07<02:03, 38.35it/s]"
     ]
    },
    {
     "name": "stderr",
     "output_type": "stream",
     "text": [
      "\r",
      "Step 1/3 :   5%|▌         | 268/5000 [00:07<02:03, 38.35it/s]"
     ]
    },
    {
     "name": "stderr",
     "output_type": "stream",
     "text": [
      "\r",
      "Step 1/3 :   5%|▌         | 268/5000 [00:07<02:03, 38.35it/s]"
     ]
    },
    {
     "name": "stderr",
     "output_type": "stream",
     "text": [
      "\r",
      "Step 1/3 :   5%|▌         | 268/5000 [00:07<02:03, 38.35it/s]"
     ]
    },
    {
     "name": "stderr",
     "output_type": "stream",
     "text": [
      "\r",
      "Step 1/3 :   5%|▌         | 272/5000 [00:07<02:02, 38.47it/s]"
     ]
    },
    {
     "name": "stderr",
     "output_type": "stream",
     "text": [
      "\r",
      "Step 1/3 :   5%|▌         | 272/5000 [00:07<02:02, 38.47it/s]"
     ]
    },
    {
     "name": "stderr",
     "output_type": "stream",
     "text": [
      "\r",
      "Step 1/3 :   5%|▌         | 272/5000 [00:07<02:02, 38.47it/s]"
     ]
    },
    {
     "name": "stderr",
     "output_type": "stream",
     "text": [
      "\r",
      "Step 1/3 :   5%|▌         | 272/5000 [00:07<02:02, 38.47it/s]"
     ]
    },
    {
     "name": "stderr",
     "output_type": "stream",
     "text": [
      "\r",
      "Step 1/3 :   5%|▌         | 272/5000 [00:07<02:02, 38.47it/s]"
     ]
    },
    {
     "name": "stderr",
     "output_type": "stream",
     "text": [
      "\r",
      "Step 1/3 :   5%|▌         | 272/5000 [00:07<02:02, 38.47it/s]"
     ]
    },
    {
     "name": "stderr",
     "output_type": "stream",
     "text": [
      "\r",
      "Step 1/3 :   6%|▌         | 277/5000 [00:07<01:58, 39.75it/s]"
     ]
    },
    {
     "name": "stderr",
     "output_type": "stream",
     "text": [
      "\r",
      "Step 1/3 :   6%|▌         | 277/5000 [00:07<01:58, 39.75it/s]"
     ]
    },
    {
     "name": "stderr",
     "output_type": "stream",
     "text": [
      "\r",
      "Step 1/3 :   6%|▌         | 277/5000 [00:07<01:58, 39.75it/s]"
     ]
    },
    {
     "name": "stderr",
     "output_type": "stream",
     "text": [
      "\r",
      "Step 1/3 :   6%|▌         | 277/5000 [00:07<01:58, 39.75it/s]"
     ]
    },
    {
     "name": "stderr",
     "output_type": "stream",
     "text": [
      "\r",
      "Step 1/3 :   6%|▌         | 277/5000 [00:07<01:58, 39.75it/s]"
     ]
    },
    {
     "name": "stderr",
     "output_type": "stream",
     "text": [
      "\r",
      "Step 1/3 :   6%|▌         | 277/5000 [00:07<01:58, 39.75it/s]"
     ]
    },
    {
     "name": "stderr",
     "output_type": "stream",
     "text": [
      "\r",
      "Step 1/3 :   6%|▌         | 282/5000 [00:07<01:56, 40.65it/s]"
     ]
    },
    {
     "name": "stderr",
     "output_type": "stream",
     "text": [
      "\r",
      "Step 1/3 :   6%|▌         | 282/5000 [00:07<01:56, 40.65it/s]"
     ]
    },
    {
     "name": "stderr",
     "output_type": "stream",
     "text": [
      "\r",
      "Step 1/3 :   6%|▌         | 282/5000 [00:07<01:56, 40.65it/s]"
     ]
    },
    {
     "name": "stderr",
     "output_type": "stream",
     "text": [
      "\r",
      "Step 1/3 :   6%|▌         | 282/5000 [00:07<01:56, 40.65it/s]"
     ]
    },
    {
     "name": "stderr",
     "output_type": "stream",
     "text": [
      "\r",
      "Step 1/3 :   6%|▌         | 282/5000 [00:07<01:56, 40.65it/s]"
     ]
    },
    {
     "name": "stderr",
     "output_type": "stream",
     "text": [
      "\r",
      "Step 1/3 :   6%|▌         | 282/5000 [00:07<01:56, 40.65it/s]"
     ]
    },
    {
     "name": "stderr",
     "output_type": "stream",
     "text": [
      "\r",
      "Step 1/3 :   6%|▌         | 287/5000 [00:07<01:53, 41.49it/s]"
     ]
    },
    {
     "name": "stderr",
     "output_type": "stream",
     "text": [
      "\r",
      "Step 1/3 :   6%|▌         | 287/5000 [00:07<01:53, 41.49it/s]"
     ]
    },
    {
     "name": "stderr",
     "output_type": "stream",
     "text": [
      "\r",
      "Step 1/3 :   6%|▌         | 287/5000 [00:07<01:53, 41.49it/s]"
     ]
    },
    {
     "name": "stderr",
     "output_type": "stream",
     "text": [
      "\r",
      "Step 1/3 :   6%|▌         | 287/5000 [00:07<01:53, 41.49it/s]"
     ]
    },
    {
     "name": "stderr",
     "output_type": "stream",
     "text": [
      "\r",
      "Step 1/3 :   6%|▌         | 287/5000 [00:07<01:53, 41.49it/s]"
     ]
    },
    {
     "name": "stderr",
     "output_type": "stream",
     "text": [
      "\r",
      "Step 1/3 :   6%|▌         | 287/5000 [00:07<01:53, 41.49it/s]"
     ]
    },
    {
     "name": "stderr",
     "output_type": "stream",
     "text": [
      "\r",
      "Step 1/3 :   6%|▌         | 292/5000 [00:07<01:54, 41.23it/s]"
     ]
    },
    {
     "name": "stderr",
     "output_type": "stream",
     "text": [
      "\r",
      "Step 1/3 :   6%|▌         | 292/5000 [00:07<01:54, 41.23it/s]"
     ]
    },
    {
     "name": "stderr",
     "output_type": "stream",
     "text": [
      "\r",
      "Step 1/3 :   6%|▌         | 292/5000 [00:07<01:54, 41.23it/s]"
     ]
    },
    {
     "name": "stderr",
     "output_type": "stream",
     "text": [
      "\r",
      "Step 1/3 :   6%|▌         | 292/5000 [00:07<01:54, 41.23it/s]"
     ]
    },
    {
     "name": "stderr",
     "output_type": "stream",
     "text": [
      "\r",
      "Step 1/3 :   6%|▌         | 292/5000 [00:07<01:54, 41.23it/s]"
     ]
    },
    {
     "name": "stderr",
     "output_type": "stream",
     "text": [
      "\r",
      "Step 1/3 :   6%|▌         | 292/5000 [00:07<01:54, 41.23it/s]"
     ]
    },
    {
     "name": "stderr",
     "output_type": "stream",
     "text": [
      "\r",
      "Step 1/3 :   6%|▌         | 297/5000 [00:07<02:08, 36.64it/s]"
     ]
    },
    {
     "name": "stderr",
     "output_type": "stream",
     "text": [
      "\r",
      "Step 1/3 :   6%|▌         | 297/5000 [00:07<02:08, 36.64it/s]"
     ]
    },
    {
     "name": "stderr",
     "output_type": "stream",
     "text": [
      "\r",
      "Step 1/3 :   6%|▌         | 297/5000 [00:07<02:08, 36.64it/s]"
     ]
    },
    {
     "name": "stderr",
     "output_type": "stream",
     "text": [
      "\r",
      "Step 1/3 :   6%|▌         | 297/5000 [00:07<02:08, 36.64it/s]"
     ]
    },
    {
     "name": "stderr",
     "output_type": "stream",
     "text": [
      "\r",
      "Step 1/3 :   6%|▌         | 297/5000 [00:07<02:08, 36.64it/s]"
     ]
    },
    {
     "name": "stderr",
     "output_type": "stream",
     "text": [
      "\r",
      "Step 1/3 :   6%|▌         | 301/5000 [00:07<02:13, 35.32it/s]"
     ]
    },
    {
     "name": "stderr",
     "output_type": "stream",
     "text": [
      "\r",
      "Step 1/3 :   6%|▌         | 301/5000 [00:07<02:13, 35.32it/s]"
     ]
    },
    {
     "name": "stderr",
     "output_type": "stream",
     "text": [
      "\r",
      "Step 1/3 :   6%|▌         | 301/5000 [00:07<02:13, 35.32it/s]"
     ]
    },
    {
     "name": "stderr",
     "output_type": "stream",
     "text": [
      "\r",
      "Step 1/3 :   6%|▌         | 301/5000 [00:07<02:13, 35.32it/s]"
     ]
    },
    {
     "name": "stderr",
     "output_type": "stream",
     "text": [
      "\r",
      "Step 1/3 :   6%|▌         | 301/5000 [00:07<02:13, 35.32it/s]"
     ]
    },
    {
     "name": "stderr",
     "output_type": "stream",
     "text": [
      "\r",
      "Step 1/3 :   6%|▌         | 305/5000 [00:07<02:10, 35.85it/s]"
     ]
    },
    {
     "name": "stderr",
     "output_type": "stream",
     "text": [
      "\r",
      "Step 1/3 :   6%|▌         | 305/5000 [00:07<02:10, 35.85it/s]"
     ]
    },
    {
     "name": "stderr",
     "output_type": "stream",
     "text": [
      "\r",
      "Step 1/3 :   6%|▌         | 305/5000 [00:08<02:10, 35.85it/s]"
     ]
    },
    {
     "name": "stderr",
     "output_type": "stream",
     "text": [
      "\r",
      "Step 1/3 :   6%|▌         | 305/5000 [00:08<02:10, 35.85it/s]"
     ]
    },
    {
     "name": "stderr",
     "output_type": "stream",
     "text": [
      "\r",
      "Step 1/3 :   6%|▌         | 305/5000 [00:08<02:10, 35.85it/s]"
     ]
    },
    {
     "name": "stderr",
     "output_type": "stream",
     "text": [
      "\r",
      "Step 1/3 :   6%|▌         | 309/5000 [00:08<02:09, 36.17it/s]"
     ]
    },
    {
     "name": "stderr",
     "output_type": "stream",
     "text": [
      "\r",
      "Step 1/3 :   6%|▌         | 309/5000 [00:08<02:09, 36.17it/s]"
     ]
    },
    {
     "name": "stderr",
     "output_type": "stream",
     "text": [
      "\r",
      "Step 1/3 :   6%|▌         | 309/5000 [00:08<02:09, 36.17it/s]"
     ]
    },
    {
     "name": "stderr",
     "output_type": "stream",
     "text": [
      "\r",
      "Step 1/3 :   6%|▌         | 309/5000 [00:08<02:09, 36.17it/s]"
     ]
    },
    {
     "name": "stderr",
     "output_type": "stream",
     "text": [
      "\r",
      "Step 1/3 :   6%|▌         | 309/5000 [00:08<02:09, 36.17it/s]"
     ]
    },
    {
     "name": "stderr",
     "output_type": "stream",
     "text": [
      "\r",
      "Step 1/3 :   6%|▋         | 313/5000 [00:08<02:12, 35.41it/s]"
     ]
    },
    {
     "name": "stderr",
     "output_type": "stream",
     "text": [
      "\r",
      "Step 1/3 :   6%|▋         | 313/5000 [00:08<02:12, 35.41it/s]"
     ]
    },
    {
     "name": "stderr",
     "output_type": "stream",
     "text": [
      "\r",
      "Step 1/3 :   6%|▋         | 313/5000 [00:08<02:12, 35.41it/s]"
     ]
    },
    {
     "name": "stderr",
     "output_type": "stream",
     "text": [
      "\r",
      "Step 1/3 :   6%|▋         | 313/5000 [00:08<02:12, 35.41it/s]"
     ]
    },
    {
     "name": "stderr",
     "output_type": "stream",
     "text": [
      "\r",
      "Step 1/3 :   6%|▋         | 313/5000 [00:08<02:12, 35.41it/s]"
     ]
    },
    {
     "name": "stderr",
     "output_type": "stream",
     "text": [
      "\r",
      "Step 1/3 :   6%|▋         | 317/5000 [00:08<02:08, 36.43it/s]"
     ]
    },
    {
     "name": "stderr",
     "output_type": "stream",
     "text": [
      "\r",
      "Step 1/3 :   6%|▋         | 317/5000 [00:08<02:08, 36.43it/s]"
     ]
    },
    {
     "name": "stderr",
     "output_type": "stream",
     "text": [
      "\r",
      "Step 1/3 :   6%|▋         | 317/5000 [00:08<02:08, 36.43it/s]"
     ]
    },
    {
     "name": "stderr",
     "output_type": "stream",
     "text": [
      "\r",
      "Step 1/3 :   6%|▋         | 317/5000 [00:08<02:08, 36.43it/s]"
     ]
    },
    {
     "name": "stderr",
     "output_type": "stream",
     "text": [
      "\r",
      "Step 1/3 :   6%|▋         | 317/5000 [00:08<02:08, 36.43it/s]"
     ]
    },
    {
     "name": "stderr",
     "output_type": "stream",
     "text": [
      "\r",
      "Step 1/3 :   6%|▋         | 321/5000 [00:08<02:07, 36.84it/s]"
     ]
    },
    {
     "name": "stderr",
     "output_type": "stream",
     "text": [
      "\r",
      "Step 1/3 :   6%|▋         | 321/5000 [00:08<02:07, 36.84it/s]"
     ]
    },
    {
     "name": "stderr",
     "output_type": "stream",
     "text": [
      "\r",
      "Step 1/3 :   6%|▋         | 321/5000 [00:08<02:07, 36.84it/s]"
     ]
    },
    {
     "name": "stderr",
     "output_type": "stream",
     "text": [
      "\r",
      "Step 1/3 :   6%|▋         | 321/5000 [00:08<02:07, 36.84it/s]"
     ]
    },
    {
     "name": "stderr",
     "output_type": "stream",
     "text": [
      "\r",
      "Step 1/3 :   6%|▋         | 321/5000 [00:08<02:07, 36.84it/s]"
     ]
    },
    {
     "name": "stderr",
     "output_type": "stream",
     "text": [
      "\r",
      "Step 1/3 :   6%|▋         | 321/5000 [00:08<02:07, 36.84it/s]"
     ]
    },
    {
     "name": "stderr",
     "output_type": "stream",
     "text": [
      "\r",
      "Step 1/3 :   7%|▋         | 326/5000 [00:08<02:02, 38.27it/s]"
     ]
    },
    {
     "name": "stderr",
     "output_type": "stream",
     "text": [
      "\r",
      "Step 1/3 :   7%|▋         | 326/5000 [00:08<02:02, 38.27it/s]"
     ]
    },
    {
     "name": "stderr",
     "output_type": "stream",
     "text": [
      "\r",
      "Step 1/3 :   7%|▋         | 326/5000 [00:08<02:02, 38.27it/s]"
     ]
    },
    {
     "name": "stderr",
     "output_type": "stream",
     "text": [
      "\r",
      "Step 1/3 :   7%|▋         | 326/5000 [00:08<02:02, 38.27it/s]"
     ]
    },
    {
     "name": "stderr",
     "output_type": "stream",
     "text": [
      "\r",
      "Step 1/3 :   7%|▋         | 326/5000 [00:08<02:02, 38.27it/s]"
     ]
    },
    {
     "name": "stderr",
     "output_type": "stream",
     "text": [
      "\r",
      "Step 1/3 :   7%|▋         | 326/5000 [00:08<02:02, 38.27it/s]"
     ]
    },
    {
     "name": "stderr",
     "output_type": "stream",
     "text": [
      "\r",
      "Step 1/3 :   7%|▋         | 331/5000 [00:08<01:57, 39.63it/s]"
     ]
    },
    {
     "name": "stderr",
     "output_type": "stream",
     "text": [
      "\r",
      "Step 1/3 :   7%|▋         | 331/5000 [00:08<01:57, 39.63it/s]"
     ]
    },
    {
     "name": "stderr",
     "output_type": "stream",
     "text": [
      "\r",
      "Step 1/3 :   7%|▋         | 331/5000 [00:08<01:57, 39.63it/s]"
     ]
    },
    {
     "name": "stderr",
     "output_type": "stream",
     "text": [
      "\r",
      "Step 1/3 :   7%|▋         | 331/5000 [00:08<01:57, 39.63it/s]"
     ]
    },
    {
     "name": "stderr",
     "output_type": "stream",
     "text": [
      "\r",
      "Step 1/3 :   7%|▋         | 331/5000 [00:08<01:57, 39.63it/s]"
     ]
    },
    {
     "name": "stderr",
     "output_type": "stream",
     "text": [
      "\r",
      "Step 1/3 :   7%|▋         | 335/5000 [00:08<01:57, 39.73it/s]"
     ]
    },
    {
     "name": "stderr",
     "output_type": "stream",
     "text": [
      "\r",
      "Step 1/3 :   7%|▋         | 335/5000 [00:08<01:57, 39.73it/s]"
     ]
    },
    {
     "name": "stderr",
     "output_type": "stream",
     "text": [
      "\r",
      "Step 1/3 :   7%|▋         | 335/5000 [00:08<01:57, 39.73it/s]"
     ]
    },
    {
     "name": "stderr",
     "output_type": "stream",
     "text": [
      "\r",
      "Step 1/3 :   7%|▋         | 335/5000 [00:08<01:57, 39.73it/s]"
     ]
    },
    {
     "name": "stderr",
     "output_type": "stream",
     "text": [
      "\r",
      "Step 1/3 :   7%|▋         | 335/5000 [00:08<01:57, 39.73it/s]"
     ]
    },
    {
     "name": "stderr",
     "output_type": "stream",
     "text": [
      "\r",
      "Step 1/3 :   7%|▋         | 339/5000 [00:08<02:02, 38.00it/s]"
     ]
    },
    {
     "name": "stderr",
     "output_type": "stream",
     "text": [
      "\r",
      "Step 1/3 :   7%|▋         | 339/5000 [00:08<02:02, 38.00it/s]"
     ]
    },
    {
     "name": "stderr",
     "output_type": "stream",
     "text": [
      "\r",
      "Step 1/3 :   7%|▋         | 339/5000 [00:08<02:02, 38.00it/s]"
     ]
    },
    {
     "name": "stderr",
     "output_type": "stream",
     "text": [
      "\r",
      "Step 1/3 :   7%|▋         | 339/5000 [00:08<02:02, 38.00it/s]"
     ]
    },
    {
     "name": "stderr",
     "output_type": "stream",
     "text": [
      "\r",
      "Step 1/3 :   7%|▋         | 339/5000 [00:08<02:02, 38.00it/s]"
     ]
    },
    {
     "name": "stderr",
     "output_type": "stream",
     "text": [
      "\r",
      "Step 1/3 :   7%|▋         | 343/5000 [00:08<02:03, 37.62it/s]"
     ]
    },
    {
     "name": "stderr",
     "output_type": "stream",
     "text": [
      "\r",
      "Step 1/3 :   7%|▋         | 343/5000 [00:08<02:03, 37.62it/s]"
     ]
    },
    {
     "name": "stderr",
     "output_type": "stream",
     "text": [
      "\r",
      "Step 1/3 :   7%|▋         | 343/5000 [00:09<02:03, 37.62it/s]"
     ]
    },
    {
     "name": "stderr",
     "output_type": "stream",
     "text": [
      "\r",
      "Step 1/3 :   7%|▋         | 343/5000 [00:09<02:03, 37.62it/s]"
     ]
    },
    {
     "name": "stderr",
     "output_type": "stream",
     "text": [
      "\r",
      "Step 1/3 :   7%|▋         | 343/5000 [00:09<02:03, 37.62it/s]"
     ]
    },
    {
     "name": "stderr",
     "output_type": "stream",
     "text": [
      "\r",
      "Step 1/3 :   7%|▋         | 347/5000 [00:09<02:04, 37.45it/s]"
     ]
    },
    {
     "name": "stderr",
     "output_type": "stream",
     "text": [
      "\r",
      "Step 1/3 :   7%|▋         | 347/5000 [00:09<02:04, 37.45it/s]"
     ]
    },
    {
     "name": "stderr",
     "output_type": "stream",
     "text": [
      "\r",
      "Step 1/3 :   7%|▋         | 347/5000 [00:09<02:04, 37.45it/s]"
     ]
    },
    {
     "name": "stderr",
     "output_type": "stream",
     "text": [
      "\r",
      "Step 1/3 :   7%|▋         | 347/5000 [00:09<02:04, 37.45it/s]"
     ]
    },
    {
     "name": "stderr",
     "output_type": "stream",
     "text": [
      "\r",
      "Step 1/3 :   7%|▋         | 347/5000 [00:09<02:04, 37.45it/s]"
     ]
    },
    {
     "name": "stderr",
     "output_type": "stream",
     "text": [
      "\r",
      "Step 1/3 :   7%|▋         | 351/5000 [00:09<02:02, 37.93it/s]"
     ]
    },
    {
     "name": "stderr",
     "output_type": "stream",
     "text": [
      "\r",
      "Step 1/3 :   7%|▋         | 351/5000 [00:09<02:02, 37.93it/s]"
     ]
    },
    {
     "name": "stderr",
     "output_type": "stream",
     "text": [
      "\r",
      "Step 1/3 :   7%|▋         | 351/5000 [00:09<02:02, 37.93it/s]"
     ]
    },
    {
     "name": "stderr",
     "output_type": "stream",
     "text": [
      "\r",
      "Step 1/3 :   7%|▋         | 351/5000 [00:09<02:02, 37.93it/s]"
     ]
    },
    {
     "name": "stderr",
     "output_type": "stream",
     "text": [
      "\r",
      "Step 1/3 :   7%|▋         | 351/5000 [00:09<02:02, 37.93it/s]"
     ]
    },
    {
     "name": "stderr",
     "output_type": "stream",
     "text": [
      "\r",
      "Step 1/3 :   7%|▋         | 351/5000 [00:09<02:02, 37.93it/s]"
     ]
    },
    {
     "name": "stderr",
     "output_type": "stream",
     "text": [
      "\r",
      "Step 1/3 :   7%|▋         | 356/5000 [00:09<01:58, 39.35it/s]"
     ]
    },
    {
     "name": "stderr",
     "output_type": "stream",
     "text": [
      "\r",
      "Step 1/3 :   7%|▋         | 356/5000 [00:09<01:58, 39.35it/s]"
     ]
    },
    {
     "name": "stderr",
     "output_type": "stream",
     "text": [
      "\r",
      "Step 1/3 :   7%|▋         | 356/5000 [00:09<01:58, 39.35it/s]"
     ]
    },
    {
     "name": "stderr",
     "output_type": "stream",
     "text": [
      "\r",
      "Step 1/3 :   7%|▋         | 356/5000 [00:09<01:58, 39.35it/s]"
     ]
    },
    {
     "name": "stderr",
     "output_type": "stream",
     "text": [
      "\r",
      "Step 1/3 :   7%|▋         | 356/5000 [00:09<01:58, 39.35it/s]"
     ]
    },
    {
     "name": "stderr",
     "output_type": "stream",
     "text": [
      "\r",
      "Step 1/3 :   7%|▋         | 356/5000 [00:09<01:58, 39.35it/s]"
     ]
    },
    {
     "name": "stderr",
     "output_type": "stream",
     "text": [
      "\r",
      "Step 1/3 :   7%|▋         | 361/5000 [00:09<01:56, 39.77it/s]"
     ]
    },
    {
     "name": "stderr",
     "output_type": "stream",
     "text": [
      "\r",
      "Step 1/3 :   7%|▋         | 361/5000 [00:09<01:56, 39.77it/s]"
     ]
    },
    {
     "name": "stderr",
     "output_type": "stream",
     "text": [
      "\r",
      "Step 1/3 :   7%|▋         | 361/5000 [00:09<01:56, 39.77it/s]"
     ]
    },
    {
     "name": "stderr",
     "output_type": "stream",
     "text": [
      "\r",
      "Step 1/3 :   7%|▋         | 361/5000 [00:09<01:56, 39.77it/s]"
     ]
    },
    {
     "name": "stderr",
     "output_type": "stream",
     "text": [
      "\r",
      "Step 1/3 :   7%|▋         | 361/5000 [00:09<01:56, 39.77it/s]"
     ]
    },
    {
     "name": "stderr",
     "output_type": "stream",
     "text": [
      "\r",
      "Step 1/3 :   7%|▋         | 361/5000 [00:09<01:56, 39.77it/s]"
     ]
    },
    {
     "name": "stderr",
     "output_type": "stream",
     "text": [
      "\r",
      "Step 1/3 :   7%|▋         | 366/5000 [00:09<01:54, 40.46it/s]"
     ]
    },
    {
     "name": "stderr",
     "output_type": "stream",
     "text": [
      "\r",
      "Step 1/3 :   7%|▋         | 366/5000 [00:09<01:54, 40.46it/s]"
     ]
    },
    {
     "name": "stderr",
     "output_type": "stream",
     "text": [
      "\r",
      "Step 1/3 :   7%|▋         | 366/5000 [00:09<01:54, 40.46it/s]"
     ]
    },
    {
     "name": "stderr",
     "output_type": "stream",
     "text": [
      "\r",
      "Step 1/3 :   7%|▋         | 366/5000 [00:09<01:54, 40.46it/s]"
     ]
    },
    {
     "name": "stderr",
     "output_type": "stream",
     "text": [
      "\r",
      "Step 1/3 :   7%|▋         | 366/5000 [00:09<01:54, 40.46it/s]"
     ]
    },
    {
     "name": "stderr",
     "output_type": "stream",
     "text": [
      "\r",
      "Step 1/3 :   7%|▋         | 366/5000 [00:09<01:54, 40.46it/s]"
     ]
    },
    {
     "name": "stderr",
     "output_type": "stream",
     "text": [
      "\r",
      "Step 1/3 :   7%|▋         | 371/5000 [00:09<01:53, 40.67it/s]"
     ]
    },
    {
     "name": "stderr",
     "output_type": "stream",
     "text": [
      "\r",
      "Step 1/3 :   7%|▋         | 371/5000 [00:09<01:53, 40.67it/s]"
     ]
    },
    {
     "name": "stderr",
     "output_type": "stream",
     "text": [
      "\r",
      "Step 1/3 :   7%|▋         | 371/5000 [00:09<01:53, 40.67it/s]"
     ]
    },
    {
     "name": "stderr",
     "output_type": "stream",
     "text": [
      "\r",
      "Step 1/3 :   7%|▋         | 371/5000 [00:09<01:53, 40.67it/s]"
     ]
    },
    {
     "name": "stderr",
     "output_type": "stream",
     "text": [
      "\r",
      "Step 1/3 :   7%|▋         | 371/5000 [00:09<01:53, 40.67it/s]"
     ]
    },
    {
     "name": "stderr",
     "output_type": "stream",
     "text": [
      "\r",
      "Step 1/3 :   7%|▋         | 371/5000 [00:09<01:53, 40.67it/s]"
     ]
    },
    {
     "name": "stderr",
     "output_type": "stream",
     "text": [
      "\r",
      "Step 1/3 :   8%|▊         | 376/5000 [00:09<01:55, 40.16it/s]"
     ]
    },
    {
     "name": "stderr",
     "output_type": "stream",
     "text": [
      "\r",
      "Step 1/3 :   8%|▊         | 376/5000 [00:09<01:55, 40.16it/s]"
     ]
    },
    {
     "name": "stderr",
     "output_type": "stream",
     "text": [
      "\r",
      "Step 1/3 :   8%|▊         | 376/5000 [00:09<01:55, 40.16it/s]"
     ]
    },
    {
     "name": "stderr",
     "output_type": "stream",
     "text": [
      "\r",
      "Step 1/3 :   8%|▊         | 376/5000 [00:09<01:55, 40.16it/s]"
     ]
    },
    {
     "name": "stderr",
     "output_type": "stream",
     "text": [
      "\r",
      "Step 1/3 :   8%|▊         | 376/5000 [00:09<01:55, 40.16it/s]"
     ]
    },
    {
     "name": "stderr",
     "output_type": "stream",
     "text": [
      "\r",
      "Step 1/3 :   8%|▊         | 376/5000 [00:09<01:55, 40.16it/s]"
     ]
    },
    {
     "name": "stderr",
     "output_type": "stream",
     "text": [
      "\r",
      "Step 1/3 :   8%|▊         | 381/5000 [00:09<01:57, 39.15it/s]"
     ]
    },
    {
     "name": "stderr",
     "output_type": "stream",
     "text": [
      "\r",
      "Step 1/3 :   8%|▊         | 381/5000 [00:09<01:57, 39.15it/s]"
     ]
    },
    {
     "name": "stderr",
     "output_type": "stream",
     "text": [
      "\r",
      "Step 1/3 :   8%|▊         | 381/5000 [00:09<01:57, 39.15it/s]"
     ]
    },
    {
     "name": "stderr",
     "output_type": "stream",
     "text": [
      "\r",
      "Step 1/3 :   8%|▊         | 381/5000 [00:10<01:57, 39.15it/s]"
     ]
    },
    {
     "name": "stderr",
     "output_type": "stream",
     "text": [
      "\r",
      "Step 1/3 :   8%|▊         | 381/5000 [00:10<01:57, 39.15it/s]"
     ]
    },
    {
     "name": "stderr",
     "output_type": "stream",
     "text": [
      "\r",
      "Step 1/3 :   8%|▊         | 381/5000 [00:10<01:57, 39.15it/s]"
     ]
    },
    {
     "name": "stderr",
     "output_type": "stream",
     "text": [
      "\r",
      "Step 1/3 :   8%|▊         | 386/5000 [00:10<01:55, 39.98it/s]"
     ]
    },
    {
     "name": "stderr",
     "output_type": "stream",
     "text": [
      "\r",
      "Step 1/3 :   8%|▊         | 386/5000 [00:10<01:55, 39.98it/s]"
     ]
    },
    {
     "name": "stderr",
     "output_type": "stream",
     "text": [
      "\r",
      "Step 1/3 :   8%|▊         | 386/5000 [00:10<01:55, 39.98it/s]"
     ]
    },
    {
     "name": "stderr",
     "output_type": "stream",
     "text": [
      "\r",
      "Step 1/3 :   8%|▊         | 386/5000 [00:10<01:55, 39.98it/s]"
     ]
    },
    {
     "name": "stderr",
     "output_type": "stream",
     "text": [
      "\r",
      "Step 1/3 :   8%|▊         | 386/5000 [00:10<01:55, 39.98it/s]"
     ]
    },
    {
     "name": "stderr",
     "output_type": "stream",
     "text": [
      "\r",
      "Step 1/3 :   8%|▊         | 386/5000 [00:10<01:55, 39.98it/s]"
     ]
    },
    {
     "name": "stderr",
     "output_type": "stream",
     "text": [
      "\r",
      "Step 1/3 :   8%|▊         | 391/5000 [00:10<01:58, 38.76it/s]"
     ]
    },
    {
     "name": "stderr",
     "output_type": "stream",
     "text": [
      "\r",
      "Step 1/3 :   8%|▊         | 391/5000 [00:10<01:58, 38.76it/s]"
     ]
    },
    {
     "name": "stderr",
     "output_type": "stream",
     "text": [
      "\r",
      "Step 1/3 :   8%|▊         | 391/5000 [00:10<01:58, 38.76it/s]"
     ]
    },
    {
     "name": "stderr",
     "output_type": "stream",
     "text": [
      "\r",
      "Step 1/3 :   8%|▊         | 391/5000 [00:10<01:58, 38.76it/s]"
     ]
    },
    {
     "name": "stderr",
     "output_type": "stream",
     "text": [
      "\r",
      "Step 1/3 :   8%|▊         | 391/5000 [00:10<01:58, 38.76it/s]"
     ]
    },
    {
     "name": "stderr",
     "output_type": "stream",
     "text": [
      "\r",
      "Step 1/3 :   8%|▊         | 395/5000 [00:10<01:58, 38.88it/s]"
     ]
    },
    {
     "name": "stderr",
     "output_type": "stream",
     "text": [
      "\r",
      "Step 1/3 :   8%|▊         | 395/5000 [00:10<01:58, 38.88it/s]"
     ]
    },
    {
     "name": "stderr",
     "output_type": "stream",
     "text": [
      "\r",
      "Step 1/3 :   8%|▊         | 395/5000 [00:10<01:58, 38.88it/s]"
     ]
    },
    {
     "name": "stderr",
     "output_type": "stream",
     "text": [
      "\r",
      "Step 1/3 :   8%|▊         | 395/5000 [00:10<01:58, 38.88it/s]"
     ]
    },
    {
     "name": "stderr",
     "output_type": "stream",
     "text": [
      "\r",
      "Step 1/3 :   8%|▊         | 395/5000 [00:10<01:58, 38.88it/s]"
     ]
    },
    {
     "name": "stderr",
     "output_type": "stream",
     "text": [
      "\r",
      "Step 1/3 :   8%|▊         | 399/5000 [00:10<01:57, 39.07it/s]"
     ]
    },
    {
     "name": "stderr",
     "output_type": "stream",
     "text": [
      "\r",
      "Step 1/3 :   8%|▊         | 399/5000 [00:10<01:57, 39.07it/s]"
     ]
    },
    {
     "name": "stderr",
     "output_type": "stream",
     "text": [
      "\r",
      "Step 1/3 :   8%|▊         | 399/5000 [00:10<01:57, 39.07it/s]"
     ]
    },
    {
     "name": "stderr",
     "output_type": "stream",
     "text": [
      "\r",
      "Step 1/3 :   8%|▊         | 399/5000 [00:10<01:57, 39.07it/s]"
     ]
    },
    {
     "name": "stderr",
     "output_type": "stream",
     "text": [
      "\r",
      "Step 1/3 :   8%|▊         | 399/5000 [00:10<01:57, 39.07it/s]"
     ]
    },
    {
     "name": "stderr",
     "output_type": "stream",
     "text": [
      "\r",
      "Step 1/3 :   8%|▊         | 403/5000 [00:10<01:57, 39.11it/s]"
     ]
    },
    {
     "name": "stderr",
     "output_type": "stream",
     "text": [
      "\r",
      "Step 1/3 :   8%|▊         | 403/5000 [00:10<01:57, 39.11it/s]"
     ]
    },
    {
     "name": "stderr",
     "output_type": "stream",
     "text": [
      "\r",
      "Step 1/3 :   8%|▊         | 403/5000 [00:10<01:57, 39.11it/s]"
     ]
    },
    {
     "name": "stderr",
     "output_type": "stream",
     "text": [
      "\r",
      "Step 1/3 :   8%|▊         | 403/5000 [00:10<01:57, 39.11it/s]"
     ]
    },
    {
     "name": "stderr",
     "output_type": "stream",
     "text": [
      "\r",
      "Step 1/3 :   8%|▊         | 403/5000 [00:10<01:57, 39.11it/s]"
     ]
    },
    {
     "name": "stderr",
     "output_type": "stream",
     "text": [
      "\r",
      "Step 1/3 :   8%|▊         | 407/5000 [00:10<01:59, 38.50it/s]"
     ]
    },
    {
     "name": "stderr",
     "output_type": "stream",
     "text": [
      "\r",
      "Step 1/3 :   8%|▊         | 407/5000 [00:10<01:59, 38.50it/s]"
     ]
    },
    {
     "name": "stderr",
     "output_type": "stream",
     "text": [
      "\r",
      "Step 1/3 :   8%|▊         | 407/5000 [00:10<01:59, 38.50it/s]"
     ]
    },
    {
     "name": "stderr",
     "output_type": "stream",
     "text": [
      "\r",
      "Step 1/3 :   8%|▊         | 407/5000 [00:10<01:59, 38.50it/s]"
     ]
    },
    {
     "name": "stderr",
     "output_type": "stream",
     "text": [
      "\r",
      "Step 1/3 :   8%|▊         | 407/5000 [00:10<01:59, 38.50it/s]"
     ]
    },
    {
     "name": "stderr",
     "output_type": "stream",
     "text": [
      "\r",
      "Step 1/3 :   8%|▊         | 407/5000 [00:10<01:59, 38.50it/s]"
     ]
    },
    {
     "name": "stderr",
     "output_type": "stream",
     "text": [
      "\r",
      "Step 1/3 :   8%|▊         | 412/5000 [00:10<01:58, 38.69it/s]"
     ]
    },
    {
     "name": "stderr",
     "output_type": "stream",
     "text": [
      "\r",
      "Step 1/3 :   8%|▊         | 412/5000 [00:10<01:58, 38.69it/s]"
     ]
    },
    {
     "name": "stderr",
     "output_type": "stream",
     "text": [
      "\r",
      "Step 1/3 :   8%|▊         | 412/5000 [00:10<01:58, 38.69it/s]"
     ]
    },
    {
     "name": "stderr",
     "output_type": "stream",
     "text": [
      "\r",
      "Step 1/3 :   8%|▊         | 412/5000 [00:10<01:58, 38.69it/s]"
     ]
    },
    {
     "name": "stderr",
     "output_type": "stream",
     "text": [
      "\r",
      "Step 1/3 :   8%|▊         | 412/5000 [00:10<01:58, 38.69it/s]"
     ]
    },
    {
     "name": "stderr",
     "output_type": "stream",
     "text": [
      "\r",
      "Step 1/3 :   8%|▊         | 416/5000 [00:10<02:05, 36.38it/s]"
     ]
    },
    {
     "name": "stderr",
     "output_type": "stream",
     "text": [
      "\r",
      "Step 1/3 :   8%|▊         | 416/5000 [00:10<02:05, 36.38it/s]"
     ]
    },
    {
     "name": "stderr",
     "output_type": "stream",
     "text": [
      "\r",
      "Step 1/3 :   8%|▊         | 416/5000 [00:10<02:05, 36.38it/s]"
     ]
    },
    {
     "name": "stderr",
     "output_type": "stream",
     "text": [
      "\r",
      "Step 1/3 :   8%|▊         | 416/5000 [00:10<02:05, 36.38it/s]"
     ]
    },
    {
     "name": "stderr",
     "output_type": "stream",
     "text": [
      "\r",
      "Step 1/3 :   8%|▊         | 416/5000 [00:10<02:05, 36.38it/s]"
     ]
    },
    {
     "name": "stderr",
     "output_type": "stream",
     "text": [
      "\r",
      "Step 1/3 :   8%|▊         | 420/5000 [00:10<02:03, 37.04it/s]"
     ]
    },
    {
     "name": "stderr",
     "output_type": "stream",
     "text": [
      "\r",
      "Step 1/3 :   8%|▊         | 420/5000 [00:10<02:03, 37.04it/s]"
     ]
    },
    {
     "name": "stderr",
     "output_type": "stream",
     "text": [
      "\r",
      "Step 1/3 :   8%|▊         | 420/5000 [00:11<02:03, 37.04it/s]"
     ]
    },
    {
     "name": "stderr",
     "output_type": "stream",
     "text": [
      "\r",
      "Step 1/3 :   8%|▊         | 420/5000 [00:11<02:03, 37.04it/s]"
     ]
    },
    {
     "name": "stderr",
     "output_type": "stream",
     "text": [
      "\r",
      "Step 1/3 :   8%|▊         | 420/5000 [00:11<02:03, 37.04it/s]"
     ]
    },
    {
     "name": "stderr",
     "output_type": "stream",
     "text": [
      "\r",
      "Step 1/3 :   8%|▊         | 420/5000 [00:11<02:03, 37.04it/s]"
     ]
    },
    {
     "name": "stderr",
     "output_type": "stream",
     "text": [
      "\r",
      "Step 1/3 :   8%|▊         | 425/5000 [00:11<02:01, 37.70it/s]"
     ]
    },
    {
     "name": "stderr",
     "output_type": "stream",
     "text": [
      "\r",
      "Step 1/3 :   8%|▊         | 425/5000 [00:11<02:01, 37.70it/s]"
     ]
    },
    {
     "name": "stderr",
     "output_type": "stream",
     "text": [
      "\r",
      "Step 1/3 :   8%|▊         | 425/5000 [00:11<02:01, 37.70it/s]"
     ]
    },
    {
     "name": "stderr",
     "output_type": "stream",
     "text": [
      "\r",
      "Step 1/3 :   8%|▊         | 425/5000 [00:11<02:01, 37.70it/s]"
     ]
    },
    {
     "name": "stderr",
     "output_type": "stream",
     "text": [
      "\r",
      "Step 1/3 :   8%|▊         | 425/5000 [00:11<02:01, 37.70it/s]"
     ]
    },
    {
     "name": "stderr",
     "output_type": "stream",
     "text": [
      "\r",
      "Step 1/3 :   9%|▊         | 429/5000 [00:11<02:11, 34.85it/s]"
     ]
    },
    {
     "name": "stderr",
     "output_type": "stream",
     "text": [
      "\r",
      "Step 1/3 :   9%|▊         | 429/5000 [00:11<02:11, 34.85it/s]"
     ]
    },
    {
     "name": "stderr",
     "output_type": "stream",
     "text": [
      "\r",
      "Step 1/3 :   9%|▊         | 429/5000 [00:11<02:11, 34.85it/s]"
     ]
    },
    {
     "name": "stderr",
     "output_type": "stream",
     "text": [
      "\r",
      "Step 1/3 :   9%|▊         | 429/5000 [00:11<02:11, 34.85it/s]"
     ]
    },
    {
     "name": "stderr",
     "output_type": "stream",
     "text": [
      "\r",
      "Step 1/3 :   9%|▊         | 429/5000 [00:11<02:11, 34.85it/s]"
     ]
    },
    {
     "name": "stderr",
     "output_type": "stream",
     "text": [
      "\r",
      "Step 1/3 :   9%|▊         | 429/5000 [00:11<02:11, 34.85it/s]"
     ]
    },
    {
     "name": "stderr",
     "output_type": "stream",
     "text": [
      "\r",
      "Step 1/3 :   9%|▊         | 434/5000 [00:11<02:04, 36.75it/s]"
     ]
    },
    {
     "name": "stderr",
     "output_type": "stream",
     "text": [
      "\r",
      "Step 1/3 :   9%|▊         | 434/5000 [00:11<02:04, 36.75it/s]"
     ]
    },
    {
     "name": "stderr",
     "output_type": "stream",
     "text": [
      "\r",
      "Step 1/3 :   9%|▊         | 434/5000 [00:11<02:04, 36.75it/s]"
     ]
    },
    {
     "name": "stderr",
     "output_type": "stream",
     "text": [
      "\r",
      "Step 1/3 :   9%|▊         | 434/5000 [00:11<02:04, 36.75it/s]"
     ]
    },
    {
     "name": "stderr",
     "output_type": "stream",
     "text": [
      "\r",
      "Step 1/3 :   9%|▊         | 434/5000 [00:11<02:04, 36.75it/s]"
     ]
    },
    {
     "name": "stderr",
     "output_type": "stream",
     "text": [
      "\r",
      "Step 1/3 :   9%|▊         | 434/5000 [00:11<02:04, 36.75it/s]"
     ]
    },
    {
     "name": "stderr",
     "output_type": "stream",
     "text": [
      "\r",
      "Step 1/3 :   9%|▉         | 439/5000 [00:11<01:59, 38.02it/s]"
     ]
    },
    {
     "name": "stderr",
     "output_type": "stream",
     "text": [
      "\r",
      "Step 1/3 :   9%|▉         | 439/5000 [00:11<01:59, 38.02it/s]"
     ]
    },
    {
     "name": "stderr",
     "output_type": "stream",
     "text": [
      "\r",
      "Step 1/3 :   9%|▉         | 439/5000 [00:11<01:59, 38.02it/s]"
     ]
    },
    {
     "name": "stderr",
     "output_type": "stream",
     "text": [
      "\r",
      "Step 1/3 :   9%|▉         | 439/5000 [00:11<01:59, 38.02it/s]"
     ]
    },
    {
     "name": "stderr",
     "output_type": "stream",
     "text": [
      "\r",
      "Step 1/3 :   9%|▉         | 439/5000 [00:11<01:59, 38.02it/s]"
     ]
    },
    {
     "name": "stderr",
     "output_type": "stream",
     "text": [
      "\r",
      "Step 1/3 :   9%|▉         | 439/5000 [00:11<01:59, 38.02it/s]"
     ]
    },
    {
     "name": "stderr",
     "output_type": "stream",
     "text": [
      "\r",
      "Step 1/3 :   9%|▉         | 444/5000 [00:11<01:57, 38.62it/s]"
     ]
    },
    {
     "name": "stderr",
     "output_type": "stream",
     "text": [
      "\r",
      "Step 1/3 :   9%|▉         | 444/5000 [00:11<01:57, 38.62it/s]"
     ]
    },
    {
     "name": "stderr",
     "output_type": "stream",
     "text": [
      "\r",
      "Step 1/3 :   9%|▉         | 444/5000 [00:11<01:57, 38.62it/s]"
     ]
    },
    {
     "name": "stderr",
     "output_type": "stream",
     "text": [
      "\r",
      "Step 1/3 :   9%|▉         | 444/5000 [00:11<01:57, 38.62it/s]"
     ]
    },
    {
     "name": "stderr",
     "output_type": "stream",
     "text": [
      "\r",
      "Step 1/3 :   9%|▉         | 444/5000 [00:11<01:57, 38.62it/s]"
     ]
    },
    {
     "name": "stderr",
     "output_type": "stream",
     "text": [
      "\r",
      "Step 1/3 :   9%|▉         | 448/5000 [00:11<01:58, 38.29it/s]"
     ]
    },
    {
     "name": "stderr",
     "output_type": "stream",
     "text": [
      "\r",
      "Step 1/3 :   9%|▉         | 448/5000 [00:11<01:58, 38.29it/s]"
     ]
    },
    {
     "name": "stderr",
     "output_type": "stream",
     "text": [
      "\r",
      "Step 1/3 :   9%|▉         | 448/5000 [00:11<01:58, 38.29it/s]"
     ]
    },
    {
     "name": "stderr",
     "output_type": "stream",
     "text": [
      "\r",
      "Step 1/3 :   9%|▉         | 448/5000 [00:11<01:58, 38.29it/s]"
     ]
    },
    {
     "name": "stderr",
     "output_type": "stream",
     "text": [
      "\r",
      "Step 1/3 :   9%|▉         | 448/5000 [00:11<01:58, 38.29it/s]"
     ]
    },
    {
     "name": "stderr",
     "output_type": "stream",
     "text": [
      "\r",
      "Step 1/3 :   9%|▉         | 452/5000 [00:11<02:03, 36.83it/s]"
     ]
    },
    {
     "name": "stderr",
     "output_type": "stream",
     "text": [
      "\r",
      "Step 1/3 :   9%|▉         | 452/5000 [00:11<02:03, 36.83it/s]"
     ]
    },
    {
     "name": "stderr",
     "output_type": "stream",
     "text": [
      "\r",
      "Step 1/3 :   9%|▉         | 452/5000 [00:11<02:03, 36.83it/s]"
     ]
    },
    {
     "name": "stderr",
     "output_type": "stream",
     "text": [
      "\r",
      "Step 1/3 :   9%|▉         | 452/5000 [00:11<02:03, 36.83it/s]"
     ]
    },
    {
     "name": "stderr",
     "output_type": "stream",
     "text": [
      "\r",
      "Step 1/3 :   9%|▉         | 452/5000 [00:11<02:03, 36.83it/s]"
     ]
    },
    {
     "name": "stderr",
     "output_type": "stream",
     "text": [
      "\r",
      "Step 1/3 :   9%|▉         | 456/5000 [00:11<02:07, 35.68it/s]"
     ]
    },
    {
     "name": "stderr",
     "output_type": "stream",
     "text": [
      "\r",
      "Step 1/3 :   9%|▉         | 456/5000 [00:11<02:07, 35.68it/s]"
     ]
    },
    {
     "name": "stderr",
     "output_type": "stream",
     "text": [
      "\r",
      "Step 1/3 :   9%|▉         | 456/5000 [00:11<02:07, 35.68it/s]"
     ]
    },
    {
     "name": "stderr",
     "output_type": "stream",
     "text": [
      "\r",
      "Step 1/3 :   9%|▉         | 456/5000 [00:12<02:07, 35.68it/s]"
     ]
    },
    {
     "name": "stderr",
     "output_type": "stream",
     "text": [
      "\r",
      "Step 1/3 :   9%|▉         | 456/5000 [00:12<02:07, 35.68it/s]"
     ]
    },
    {
     "name": "stderr",
     "output_type": "stream",
     "text": [
      "\r",
      "Step 1/3 :   9%|▉         | 460/5000 [00:12<02:04, 36.34it/s]"
     ]
    },
    {
     "name": "stderr",
     "output_type": "stream",
     "text": [
      "\r",
      "Step 1/3 :   9%|▉         | 460/5000 [00:12<02:04, 36.34it/s]"
     ]
    },
    {
     "name": "stderr",
     "output_type": "stream",
     "text": [
      "\r",
      "Step 1/3 :   9%|▉         | 460/5000 [00:12<02:04, 36.34it/s]"
     ]
    },
    {
     "name": "stderr",
     "output_type": "stream",
     "text": [
      "\r",
      "Step 1/3 :   9%|▉         | 460/5000 [00:12<02:04, 36.34it/s]"
     ]
    },
    {
     "name": "stderr",
     "output_type": "stream",
     "text": [
      "\r",
      "Step 1/3 :   9%|▉         | 460/5000 [00:12<02:04, 36.34it/s]"
     ]
    },
    {
     "name": "stderr",
     "output_type": "stream",
     "text": [
      "\r",
      "Step 1/3 :   9%|▉         | 464/5000 [00:12<02:02, 36.97it/s]"
     ]
    },
    {
     "name": "stderr",
     "output_type": "stream",
     "text": [
      "\r",
      "Step 1/3 :   9%|▉         | 464/5000 [00:12<02:02, 36.97it/s]"
     ]
    },
    {
     "name": "stderr",
     "output_type": "stream",
     "text": [
      "\r",
      "Step 1/3 :   9%|▉         | 464/5000 [00:12<02:02, 36.97it/s]"
     ]
    },
    {
     "name": "stderr",
     "output_type": "stream",
     "text": [
      "\r",
      "Step 1/3 :   9%|▉         | 464/5000 [00:12<02:02, 36.97it/s]"
     ]
    },
    {
     "name": "stderr",
     "output_type": "stream",
     "text": [
      "\r",
      "Step 1/3 :   9%|▉         | 464/5000 [00:12<02:02, 36.97it/s]"
     ]
    },
    {
     "name": "stderr",
     "output_type": "stream",
     "text": [
      "\r",
      "Step 1/3 :   9%|▉         | 468/5000 [00:12<02:02, 36.99it/s]"
     ]
    },
    {
     "name": "stderr",
     "output_type": "stream",
     "text": [
      "\r",
      "Step 1/3 :   9%|▉         | 468/5000 [00:12<02:02, 36.99it/s]"
     ]
    },
    {
     "name": "stderr",
     "output_type": "stream",
     "text": [
      "\r",
      "Step 1/3 :   9%|▉         | 468/5000 [00:12<02:02, 36.99it/s]"
     ]
    },
    {
     "name": "stderr",
     "output_type": "stream",
     "text": [
      "\r",
      "Step 1/3 :   9%|▉         | 468/5000 [00:12<02:02, 36.99it/s]"
     ]
    },
    {
     "name": "stderr",
     "output_type": "stream",
     "text": [
      "\r",
      "Step 1/3 :   9%|▉         | 468/5000 [00:12<02:02, 36.99it/s]"
     ]
    },
    {
     "name": "stderr",
     "output_type": "stream",
     "text": [
      "\r",
      "Step 1/3 :   9%|▉         | 472/5000 [00:12<02:01, 37.31it/s]"
     ]
    },
    {
     "name": "stderr",
     "output_type": "stream",
     "text": [
      "\r",
      "Step 1/3 :   9%|▉         | 472/5000 [00:12<02:01, 37.31it/s]"
     ]
    },
    {
     "name": "stderr",
     "output_type": "stream",
     "text": [
      "\r",
      "Step 1/3 :   9%|▉         | 472/5000 [00:12<02:01, 37.31it/s]"
     ]
    },
    {
     "name": "stderr",
     "output_type": "stream",
     "text": [
      "\r",
      "Step 1/3 :   9%|▉         | 472/5000 [00:12<02:01, 37.31it/s]"
     ]
    },
    {
     "name": "stderr",
     "output_type": "stream",
     "text": [
      "\r",
      "Step 1/3 :   9%|▉         | 472/5000 [00:12<02:01, 37.31it/s]"
     ]
    },
    {
     "name": "stderr",
     "output_type": "stream",
     "text": [
      "\r",
      "Step 1/3 :   9%|▉         | 472/5000 [00:12<02:01, 37.31it/s]"
     ]
    },
    {
     "name": "stderr",
     "output_type": "stream",
     "text": [
      "\r",
      "Step 1/3 :  10%|▉         | 477/5000 [00:12<01:57, 38.52it/s]"
     ]
    },
    {
     "name": "stderr",
     "output_type": "stream",
     "text": [
      "\r",
      "Step 1/3 :  10%|▉         | 477/5000 [00:12<01:57, 38.52it/s]"
     ]
    },
    {
     "name": "stderr",
     "output_type": "stream",
     "text": [
      "\r",
      "Step 1/3 :  10%|▉         | 477/5000 [00:12<01:57, 38.52it/s]"
     ]
    },
    {
     "name": "stderr",
     "output_type": "stream",
     "text": [
      "\r",
      "Step 1/3 :  10%|▉         | 477/5000 [00:12<01:57, 38.52it/s]"
     ]
    },
    {
     "name": "stderr",
     "output_type": "stream",
     "text": [
      "\r",
      "Step 1/3 :  10%|▉         | 477/5000 [00:12<01:57, 38.52it/s]"
     ]
    },
    {
     "name": "stderr",
     "output_type": "stream",
     "text": [
      "\r",
      "Step 1/3 :  10%|▉         | 477/5000 [00:12<01:57, 38.52it/s]"
     ]
    },
    {
     "name": "stderr",
     "output_type": "stream",
     "text": [
      "\r",
      "Step 1/3 :  10%|▉         | 482/5000 [00:12<01:54, 39.51it/s]"
     ]
    },
    {
     "name": "stderr",
     "output_type": "stream",
     "text": [
      "\r",
      "Step 1/3 :  10%|▉         | 482/5000 [00:12<01:54, 39.51it/s]"
     ]
    },
    {
     "name": "stderr",
     "output_type": "stream",
     "text": [
      "\r",
      "Step 1/3 :  10%|▉         | 482/5000 [00:12<01:54, 39.51it/s]"
     ]
    },
    {
     "name": "stderr",
     "output_type": "stream",
     "text": [
      "\r",
      "Step 1/3 :  10%|▉         | 482/5000 [00:12<01:54, 39.51it/s]"
     ]
    },
    {
     "name": "stderr",
     "output_type": "stream",
     "text": [
      "\r",
      "Step 1/3 :  10%|▉         | 482/5000 [00:12<01:54, 39.51it/s]"
     ]
    },
    {
     "name": "stderr",
     "output_type": "stream",
     "text": [
      "\r",
      "Step 1/3 :  10%|▉         | 486/5000 [00:12<01:53, 39.63it/s]"
     ]
    },
    {
     "name": "stderr",
     "output_type": "stream",
     "text": [
      "\r",
      "Step 1/3 :  10%|▉         | 486/5000 [00:12<01:53, 39.63it/s]"
     ]
    },
    {
     "name": "stderr",
     "output_type": "stream",
     "text": [
      "\r",
      "Step 1/3 :  10%|▉         | 486/5000 [00:12<01:53, 39.63it/s]"
     ]
    },
    {
     "name": "stderr",
     "output_type": "stream",
     "text": [
      "\r",
      "Step 1/3 :  10%|▉         | 486/5000 [00:12<01:53, 39.63it/s]"
     ]
    },
    {
     "name": "stderr",
     "output_type": "stream",
     "text": [
      "\r",
      "Step 1/3 :  10%|▉         | 486/5000 [00:12<01:53, 39.63it/s]"
     ]
    },
    {
     "name": "stderr",
     "output_type": "stream",
     "text": [
      "\r",
      "Step 1/3 :  10%|▉         | 490/5000 [00:12<01:55, 39.19it/s]"
     ]
    },
    {
     "name": "stderr",
     "output_type": "stream",
     "text": [
      "\r",
      "Step 1/3 :  10%|▉         | 490/5000 [00:12<01:55, 39.19it/s]"
     ]
    },
    {
     "name": "stderr",
     "output_type": "stream",
     "text": [
      "\r",
      "Step 1/3 :  10%|▉         | 490/5000 [00:12<01:55, 39.19it/s]"
     ]
    },
    {
     "name": "stderr",
     "output_type": "stream",
     "text": [
      "\r",
      "Step 1/3 :  10%|▉         | 490/5000 [00:12<01:55, 39.19it/s]"
     ]
    },
    {
     "name": "stderr",
     "output_type": "stream",
     "text": [
      "\r",
      "Step 1/3 :  10%|▉         | 490/5000 [00:12<01:55, 39.19it/s]"
     ]
    },
    {
     "name": "stderr",
     "output_type": "stream",
     "text": [
      "\r",
      "Step 1/3 :  10%|▉         | 490/5000 [00:12<01:55, 39.19it/s]"
     ]
    },
    {
     "name": "stderr",
     "output_type": "stream",
     "text": [
      "\r",
      "Step 1/3 :  10%|▉         | 495/5000 [00:12<01:53, 39.77it/s]"
     ]
    },
    {
     "name": "stderr",
     "output_type": "stream",
     "text": [
      "\r",
      "Step 1/3 :  10%|▉         | 495/5000 [00:12<01:53, 39.77it/s]"
     ]
    },
    {
     "name": "stderr",
     "output_type": "stream",
     "text": [
      "\r",
      "Step 1/3 :  10%|▉         | 495/5000 [00:12<01:53, 39.77it/s]"
     ]
    },
    {
     "name": "stderr",
     "output_type": "stream",
     "text": [
      "\r",
      "Step 1/3 :  10%|▉         | 495/5000 [00:13<01:53, 39.77it/s]"
     ]
    },
    {
     "name": "stderr",
     "output_type": "stream",
     "text": [
      "\r",
      "Step 1/3 :  10%|▉         | 495/5000 [00:13<01:53, 39.77it/s]"
     ]
    },
    {
     "name": "stderr",
     "output_type": "stream",
     "text": [
      "\r",
      "Step 1/3 :  10%|▉         | 499/5000 [00:13<01:53, 39.83it/s]"
     ]
    },
    {
     "name": "stderr",
     "output_type": "stream",
     "text": [
      "\r",
      "Step 1/3 :  10%|▉         | 499/5000 [00:13<01:53, 39.83it/s]"
     ]
    },
    {
     "name": "stderr",
     "output_type": "stream",
     "text": [
      "\r",
      "Step 2/3 :  10%|▉         | 499/5000 [00:13<01:53, 39.83it/s]"
     ]
    },
    {
     "name": "stderr",
     "output_type": "stream",
     "text": [
      "\r",
      "Step 2/3 :  10%|▉         | 499/5000 [00:13<01:53, 39.83it/s]"
     ]
    },
    {
     "name": "stderr",
     "output_type": "stream",
     "text": [
      "\r",
      "Step 2/3 :  10%|▉         | 499/5000 [00:13<01:53, 39.83it/s]"
     ]
    },
    {
     "name": "stderr",
     "output_type": "stream",
     "text": [
      "\r",
      "Step 2/3 :  10%|▉         | 499/5000 [00:13<01:53, 39.83it/s]"
     ]
    },
    {
     "name": "stderr",
     "output_type": "stream",
     "text": [
      "\r",
      "Step 2/3 :  10%|▉         | 499/5000 [00:13<01:53, 39.83it/s]"
     ]
    },
    {
     "name": "stderr",
     "output_type": "stream",
     "text": [
      "\r",
      "Step 2/3 :  10%|▉         | 499/5000 [00:13<01:53, 39.83it/s]"
     ]
    },
    {
     "name": "stderr",
     "output_type": "stream",
     "text": [
      "\r",
      "Step 2/3 :  10%|▉         | 499/5000 [00:13<01:53, 39.83it/s]"
     ]
    },
    {
     "name": "stderr",
     "output_type": "stream",
     "text": [
      "\r",
      "Step 2/3 :  10%|▉         | 499/5000 [00:13<01:53, 39.83it/s]"
     ]
    },
    {
     "name": "stderr",
     "output_type": "stream",
     "text": [
      "\r",
      "Step 2/3 :  10%|▉         | 499/5000 [00:13<01:53, 39.83it/s]"
     ]
    },
    {
     "name": "stderr",
     "output_type": "stream",
     "text": [
      "\r",
      "Step 2/3 :  10%|▉         | 499/5000 [00:13<01:53, 39.83it/s]"
     ]
    },
    {
     "name": "stderr",
     "output_type": "stream",
     "text": [
      "\r",
      "Step 2/3 :  10%|▉         | 499/5000 [00:13<01:53, 39.83it/s]"
     ]
    },
    {
     "name": "stderr",
     "output_type": "stream",
     "text": [
      "\r",
      "Step 2/3 :  10%|█         | 511/5000 [00:13<01:12, 61.60it/s]"
     ]
    },
    {
     "name": "stderr",
     "output_type": "stream",
     "text": [
      "\r",
      "Step 2/3 :  10%|█         | 511/5000 [00:13<01:12, 61.60it/s]"
     ]
    },
    {
     "name": "stderr",
     "output_type": "stream",
     "text": [
      "\r",
      "Step 2/3 :  10%|█         | 511/5000 [00:13<01:12, 61.60it/s]"
     ]
    },
    {
     "name": "stderr",
     "output_type": "stream",
     "text": [
      "\r",
      "Step 2/3 :  10%|█         | 511/5000 [00:13<01:12, 61.60it/s]"
     ]
    },
    {
     "name": "stderr",
     "output_type": "stream",
     "text": [
      "\r",
      "Step 2/3 :  10%|█         | 511/5000 [00:13<01:12, 61.60it/s]"
     ]
    },
    {
     "name": "stderr",
     "output_type": "stream",
     "text": [
      "\r",
      "Step 2/3 :  10%|█         | 511/5000 [00:13<01:12, 61.60it/s]"
     ]
    },
    {
     "name": "stderr",
     "output_type": "stream",
     "text": [
      "\r",
      "Step 2/3 :  10%|█         | 511/5000 [00:13<01:12, 61.60it/s]"
     ]
    },
    {
     "name": "stderr",
     "output_type": "stream",
     "text": [
      "\r",
      "Step 2/3 :  10%|█         | 511/5000 [00:13<01:12, 61.60it/s]"
     ]
    },
    {
     "name": "stderr",
     "output_type": "stream",
     "text": [
      "\r",
      "Step 2/3 :  10%|█         | 511/5000 [00:13<01:12, 61.60it/s]"
     ]
    },
    {
     "name": "stderr",
     "output_type": "stream",
     "text": [
      "\r",
      "Step 2/3 :  10%|█         | 511/5000 [00:13<01:12, 61.60it/s]"
     ]
    },
    {
     "name": "stderr",
     "output_type": "stream",
     "text": [
      "\r",
      "Step 2/3 :  10%|█         | 511/5000 [00:13<01:12, 61.60it/s]"
     ]
    },
    {
     "name": "stderr",
     "output_type": "stream",
     "text": [
      "\r",
      "Step 2/3 :  10%|█         | 511/5000 [00:13<01:12, 61.60it/s]"
     ]
    },
    {
     "name": "stderr",
     "output_type": "stream",
     "text": [
      "\r",
      "Step 2/3 :  10%|█         | 511/5000 [00:13<01:12, 61.60it/s]"
     ]
    },
    {
     "name": "stderr",
     "output_type": "stream",
     "text": [
      "\r",
      "Step 2/3 :  10%|█         | 523/5000 [00:13<00:57, 77.34it/s]"
     ]
    },
    {
     "name": "stderr",
     "output_type": "stream",
     "text": [
      "\r",
      "Step 2/3 :  10%|█         | 523/5000 [00:13<00:57, 77.34it/s]"
     ]
    },
    {
     "name": "stderr",
     "output_type": "stream",
     "text": [
      "\r",
      "Step 2/3 :  10%|█         | 523/5000 [00:13<00:57, 77.34it/s]"
     ]
    },
    {
     "name": "stderr",
     "output_type": "stream",
     "text": [
      "\r",
      "Step 2/3 :  10%|█         | 523/5000 [00:13<00:57, 77.34it/s]"
     ]
    },
    {
     "name": "stderr",
     "output_type": "stream",
     "text": [
      "\r",
      "Step 2/3 :  10%|█         | 523/5000 [00:13<00:57, 77.34it/s]"
     ]
    },
    {
     "name": "stderr",
     "output_type": "stream",
     "text": [
      "\r",
      "Step 2/3 :  10%|█         | 523/5000 [00:13<00:57, 77.34it/s]"
     ]
    },
    {
     "name": "stderr",
     "output_type": "stream",
     "text": [
      "\r",
      "Step 2/3 :  10%|█         | 523/5000 [00:13<00:57, 77.34it/s]"
     ]
    },
    {
     "name": "stderr",
     "output_type": "stream",
     "text": [
      "\r",
      "Step 2/3 :  10%|█         | 523/5000 [00:13<00:57, 77.34it/s]"
     ]
    },
    {
     "name": "stderr",
     "output_type": "stream",
     "text": [
      "\r",
      "Step 2/3 :  10%|█         | 523/5000 [00:13<00:57, 77.34it/s]"
     ]
    },
    {
     "name": "stderr",
     "output_type": "stream",
     "text": [
      "\r",
      "Step 2/3 :  10%|█         | 523/5000 [00:13<00:57, 77.34it/s]"
     ]
    },
    {
     "name": "stderr",
     "output_type": "stream",
     "text": [
      "\r",
      "Step 2/3 :  10%|█         | 523/5000 [00:13<00:57, 77.34it/s]"
     ]
    },
    {
     "name": "stderr",
     "output_type": "stream",
     "text": [
      "\r",
      "Step 2/3 :  10%|█         | 523/5000 [00:13<00:57, 77.34it/s]"
     ]
    },
    {
     "name": "stderr",
     "output_type": "stream",
     "text": [
      "\r",
      "Step 2/3 :  11%|█         | 534/5000 [00:13<00:51, 85.97it/s]"
     ]
    },
    {
     "name": "stderr",
     "output_type": "stream",
     "text": [
      "\r",
      "Step 2/3 :  11%|█         | 534/5000 [00:13<00:51, 85.97it/s]"
     ]
    },
    {
     "name": "stderr",
     "output_type": "stream",
     "text": [
      "\r",
      "Step 2/3 :  11%|█         | 534/5000 [00:13<00:51, 85.97it/s]"
     ]
    },
    {
     "name": "stderr",
     "output_type": "stream",
     "text": [
      "\r",
      "Step 2/3 :  11%|█         | 534/5000 [00:13<00:51, 85.97it/s]"
     ]
    },
    {
     "name": "stderr",
     "output_type": "stream",
     "text": [
      "\r",
      "Step 2/3 :  11%|█         | 534/5000 [00:13<00:51, 85.97it/s]"
     ]
    },
    {
     "name": "stderr",
     "output_type": "stream",
     "text": [
      "\r",
      "Step 2/3 :  11%|█         | 534/5000 [00:13<00:51, 85.97it/s]"
     ]
    },
    {
     "name": "stderr",
     "output_type": "stream",
     "text": [
      "\r",
      "Step 2/3 :  11%|█         | 534/5000 [00:13<00:51, 85.97it/s]"
     ]
    },
    {
     "name": "stderr",
     "output_type": "stream",
     "text": [
      "\r",
      "Step 2/3 :  11%|█         | 534/5000 [00:13<00:51, 85.97it/s]"
     ]
    },
    {
     "name": "stderr",
     "output_type": "stream",
     "text": [
      "\r",
      "Step 2/3 :  11%|█         | 534/5000 [00:13<00:51, 85.97it/s]"
     ]
    },
    {
     "name": "stderr",
     "output_type": "stream",
     "text": [
      "\r",
      "Step 2/3 :  11%|█         | 534/5000 [00:13<00:51, 85.97it/s]"
     ]
    },
    {
     "name": "stderr",
     "output_type": "stream",
     "text": [
      "\r",
      "Step 2/3 :  11%|█         | 534/5000 [00:13<00:51, 85.97it/s]"
     ]
    },
    {
     "name": "stderr",
     "output_type": "stream",
     "text": [
      "\r",
      "Step 2/3 :  11%|█         | 534/5000 [00:13<00:51, 85.97it/s]"
     ]
    },
    {
     "name": "stderr",
     "output_type": "stream",
     "text": [
      "\r",
      "Step 2/3 :  11%|█         | 534/5000 [00:13<00:51, 85.97it/s]"
     ]
    },
    {
     "name": "stderr",
     "output_type": "stream",
     "text": [
      "\r",
      "Step 2/3 :  11%|█         | 546/5000 [00:13<00:46, 95.52it/s]"
     ]
    },
    {
     "name": "stderr",
     "output_type": "stream",
     "text": [
      "\r",
      "Step 2/3 :  11%|█         | 546/5000 [00:13<00:46, 95.52it/s]"
     ]
    },
    {
     "name": "stderr",
     "output_type": "stream",
     "text": [
      "\r",
      "Step 2/3 :  11%|█         | 546/5000 [00:13<00:46, 95.52it/s]"
     ]
    },
    {
     "name": "stderr",
     "output_type": "stream",
     "text": [
      "\r",
      "Step 2/3 :  11%|█         | 546/5000 [00:13<00:46, 95.52it/s]"
     ]
    },
    {
     "name": "stderr",
     "output_type": "stream",
     "text": [
      "\r",
      "Step 2/3 :  11%|█         | 546/5000 [00:13<00:46, 95.52it/s]"
     ]
    },
    {
     "name": "stderr",
     "output_type": "stream",
     "text": [
      "\r",
      "Step 2/3 :  11%|█         | 546/5000 [00:13<00:46, 95.52it/s]"
     ]
    },
    {
     "name": "stderr",
     "output_type": "stream",
     "text": [
      "\r",
      "Step 2/3 :  11%|█         | 546/5000 [00:13<00:46, 95.52it/s]"
     ]
    },
    {
     "name": "stderr",
     "output_type": "stream",
     "text": [
      "\r",
      "Step 2/3 :  11%|█         | 546/5000 [00:13<00:46, 95.52it/s]"
     ]
    },
    {
     "name": "stderr",
     "output_type": "stream",
     "text": [
      "\r",
      "Step 2/3 :  11%|█         | 546/5000 [00:13<00:46, 95.52it/s]"
     ]
    },
    {
     "name": "stderr",
     "output_type": "stream",
     "text": [
      "\r",
      "Step 2/3 :  11%|█         | 546/5000 [00:13<00:46, 95.52it/s]"
     ]
    },
    {
     "name": "stderr",
     "output_type": "stream",
     "text": [
      "\r",
      "Step 2/3 :  11%|█         | 546/5000 [00:13<00:46, 95.52it/s]"
     ]
    },
    {
     "name": "stderr",
     "output_type": "stream",
     "text": [
      "\r",
      "Step 2/3 :  11%|█         | 546/5000 [00:13<00:46, 95.52it/s]"
     ]
    },
    {
     "name": "stderr",
     "output_type": "stream",
     "text": [
      "\r",
      "Step 2/3 :  11%|█         | 546/5000 [00:13<00:46, 95.52it/s]"
     ]
    },
    {
     "name": "stderr",
     "output_type": "stream",
     "text": [
      "\r",
      "Step 2/3 :  11%|█         | 546/5000 [00:13<00:46, 95.52it/s]"
     ]
    },
    {
     "name": "stderr",
     "output_type": "stream",
     "text": [
      "\r",
      "Step 2/3 :  11%|█         | 559/5000 [00:13<00:42, 103.75it/s]"
     ]
    },
    {
     "name": "stderr",
     "output_type": "stream",
     "text": [
      "\r",
      "Step 2/3 :  11%|█         | 559/5000 [00:13<00:42, 103.75it/s]"
     ]
    },
    {
     "name": "stderr",
     "output_type": "stream",
     "text": [
      "\r",
      "Step 2/3 :  11%|█         | 559/5000 [00:13<00:42, 103.75it/s]"
     ]
    },
    {
     "name": "stderr",
     "output_type": "stream",
     "text": [
      "\r",
      "Step 2/3 :  11%|█         | 559/5000 [00:13<00:42, 103.75it/s]"
     ]
    },
    {
     "name": "stderr",
     "output_type": "stream",
     "text": [
      "\r",
      "Step 2/3 :  11%|█         | 559/5000 [00:13<00:42, 103.75it/s]"
     ]
    },
    {
     "name": "stderr",
     "output_type": "stream",
     "text": [
      "\r",
      "Step 2/3 :  11%|█         | 559/5000 [00:13<00:42, 103.75it/s]"
     ]
    },
    {
     "name": "stderr",
     "output_type": "stream",
     "text": [
      "\r",
      "Step 2/3 :  11%|█         | 559/5000 [00:13<00:42, 103.75it/s]"
     ]
    },
    {
     "name": "stderr",
     "output_type": "stream",
     "text": [
      "\r",
      "Step 2/3 :  11%|█         | 559/5000 [00:13<00:42, 103.75it/s]"
     ]
    },
    {
     "name": "stderr",
     "output_type": "stream",
     "text": [
      "\r",
      "Step 2/3 :  11%|█         | 559/5000 [00:13<00:42, 103.75it/s]"
     ]
    },
    {
     "name": "stderr",
     "output_type": "stream",
     "text": [
      "\r",
      "Step 2/3 :  11%|█         | 559/5000 [00:13<00:42, 103.75it/s]"
     ]
    },
    {
     "name": "stderr",
     "output_type": "stream",
     "text": [
      "\r",
      "Step 2/3 :  11%|█         | 559/5000 [00:13<00:42, 103.75it/s]"
     ]
    },
    {
     "name": "stderr",
     "output_type": "stream",
     "text": [
      "\r",
      "Step 2/3 :  11%|█         | 559/5000 [00:13<00:42, 103.75it/s]"
     ]
    },
    {
     "name": "stderr",
     "output_type": "stream",
     "text": [
      "\r",
      "Step 2/3 :  11%|█         | 559/5000 [00:13<00:42, 103.75it/s]"
     ]
    },
    {
     "name": "stderr",
     "output_type": "stream",
     "text": [
      "\r",
      "Step 2/3 :  11%|█         | 559/5000 [00:13<00:42, 103.75it/s]"
     ]
    },
    {
     "name": "stderr",
     "output_type": "stream",
     "text": [
      "\r",
      "Step 2/3 :  11%|█▏        | 572/5000 [00:13<00:40, 108.85it/s]"
     ]
    },
    {
     "name": "stderr",
     "output_type": "stream",
     "text": [
      "\r",
      "Step 2/3 :  11%|█▏        | 572/5000 [00:13<00:40, 108.85it/s]"
     ]
    },
    {
     "name": "stderr",
     "output_type": "stream",
     "text": [
      "\r",
      "Step 2/3 :  11%|█▏        | 572/5000 [00:13<00:40, 108.85it/s]"
     ]
    },
    {
     "name": "stderr",
     "output_type": "stream",
     "text": [
      "\r",
      "Step 2/3 :  11%|█▏        | 572/5000 [00:13<00:40, 108.85it/s]"
     ]
    },
    {
     "name": "stderr",
     "output_type": "stream",
     "text": [
      "\r",
      "Step 2/3 :  11%|█▏        | 572/5000 [00:13<00:40, 108.85it/s]"
     ]
    },
    {
     "name": "stderr",
     "output_type": "stream",
     "text": [
      "\r",
      "Step 2/3 :  11%|█▏        | 572/5000 [00:13<00:40, 108.85it/s]"
     ]
    },
    {
     "name": "stderr",
     "output_type": "stream",
     "text": [
      "\r",
      "Step 2/3 :  11%|█▏        | 572/5000 [00:13<00:40, 108.85it/s]"
     ]
    },
    {
     "name": "stderr",
     "output_type": "stream",
     "text": [
      "\r",
      "Step 2/3 :  11%|█▏        | 572/5000 [00:13<00:40, 108.85it/s]"
     ]
    },
    {
     "name": "stderr",
     "output_type": "stream",
     "text": [
      "\r",
      "Step 2/3 :  11%|█▏        | 572/5000 [00:13<00:40, 108.85it/s]"
     ]
    },
    {
     "name": "stderr",
     "output_type": "stream",
     "text": [
      "\r",
      "Step 2/3 :  11%|█▏        | 572/5000 [00:13<00:40, 108.85it/s]"
     ]
    },
    {
     "name": "stderr",
     "output_type": "stream",
     "text": [
      "\r",
      "Step 2/3 :  11%|█▏        | 572/5000 [00:13<00:40, 108.85it/s]"
     ]
    },
    {
     "name": "stderr",
     "output_type": "stream",
     "text": [
      "\r",
      "Step 2/3 :  11%|█▏        | 572/5000 [00:13<00:40, 108.85it/s]"
     ]
    },
    {
     "name": "stderr",
     "output_type": "stream",
     "text": [
      "\r",
      "Step 2/3 :  11%|█▏        | 572/5000 [00:13<00:40, 108.85it/s]"
     ]
    },
    {
     "name": "stderr",
     "output_type": "stream",
     "text": [
      "\r",
      "Step 2/3 :  12%|█▏        | 584/5000 [00:13<00:39, 111.73it/s]"
     ]
    },
    {
     "name": "stderr",
     "output_type": "stream",
     "text": [
      "\r",
      "Step 2/3 :  12%|█▏        | 584/5000 [00:13<00:39, 111.73it/s]"
     ]
    },
    {
     "name": "stderr",
     "output_type": "stream",
     "text": [
      "\r",
      "Step 2/3 :  12%|█▏        | 584/5000 [00:13<00:39, 111.73it/s]"
     ]
    },
    {
     "name": "stderr",
     "output_type": "stream",
     "text": [
      "\r",
      "Step 2/3 :  12%|█▏        | 584/5000 [00:13<00:39, 111.73it/s]"
     ]
    },
    {
     "name": "stderr",
     "output_type": "stream",
     "text": [
      "\r",
      "Step 2/3 :  12%|█▏        | 584/5000 [00:13<00:39, 111.73it/s]"
     ]
    },
    {
     "name": "stderr",
     "output_type": "stream",
     "text": [
      "\r",
      "Step 2/3 :  12%|█▏        | 584/5000 [00:13<00:39, 111.73it/s]"
     ]
    },
    {
     "name": "stderr",
     "output_type": "stream",
     "text": [
      "\r",
      "Step 2/3 :  12%|█▏        | 584/5000 [00:13<00:39, 111.73it/s]"
     ]
    },
    {
     "name": "stderr",
     "output_type": "stream",
     "text": [
      "\r",
      "Step 2/3 :  12%|█▏        | 584/5000 [00:13<00:39, 111.73it/s]"
     ]
    },
    {
     "name": "stderr",
     "output_type": "stream",
     "text": [
      "\r",
      "Step 2/3 :  12%|█▏        | 584/5000 [00:13<00:39, 111.73it/s]"
     ]
    },
    {
     "name": "stderr",
     "output_type": "stream",
     "text": [
      "\r",
      "Step 2/3 :  12%|█▏        | 584/5000 [00:13<00:39, 111.73it/s]"
     ]
    },
    {
     "name": "stderr",
     "output_type": "stream",
     "text": [
      "\r",
      "Step 2/3 :  12%|█▏        | 584/5000 [00:13<00:39, 111.73it/s]"
     ]
    },
    {
     "name": "stderr",
     "output_type": "stream",
     "text": [
      "\r",
      "Step 2/3 :  12%|█▏        | 584/5000 [00:13<00:39, 111.73it/s]"
     ]
    },
    {
     "name": "stderr",
     "output_type": "stream",
     "text": [
      "\r",
      "Step 2/3 :  12%|█▏        | 584/5000 [00:13<00:39, 111.73it/s]"
     ]
    },
    {
     "name": "stderr",
     "output_type": "stream",
     "text": [
      "\r",
      "Step 2/3 :  12%|█▏        | 596/5000 [00:13<00:38, 113.49it/s]"
     ]
    },
    {
     "name": "stderr",
     "output_type": "stream",
     "text": [
      "\r",
      "Step 2/3 :  12%|█▏        | 596/5000 [00:13<00:38, 113.49it/s]"
     ]
    },
    {
     "name": "stderr",
     "output_type": "stream",
     "text": [
      "\r",
      "Step 2/3 :  12%|█▏        | 596/5000 [00:13<00:38, 113.49it/s]"
     ]
    },
    {
     "name": "stderr",
     "output_type": "stream",
     "text": [
      "\r",
      "Step 2/3 :  12%|█▏        | 596/5000 [00:13<00:38, 113.49it/s]"
     ]
    },
    {
     "name": "stderr",
     "output_type": "stream",
     "text": [
      "\r",
      "Step 2/3 :  12%|█▏        | 596/5000 [00:13<00:38, 113.49it/s]"
     ]
    },
    {
     "name": "stderr",
     "output_type": "stream",
     "text": [
      "\r",
      "Step 2/3 :  12%|█▏        | 596/5000 [00:13<00:38, 113.49it/s]"
     ]
    },
    {
     "name": "stderr",
     "output_type": "stream",
     "text": [
      "\r",
      "Step 2/3 :  12%|█▏        | 596/5000 [00:13<00:38, 113.49it/s]"
     ]
    },
    {
     "name": "stderr",
     "output_type": "stream",
     "text": [
      "\r",
      "Step 2/3 :  12%|█▏        | 596/5000 [00:13<00:38, 113.49it/s]"
     ]
    },
    {
     "name": "stderr",
     "output_type": "stream",
     "text": [
      "\r",
      "Step 2/3 :  12%|█▏        | 596/5000 [00:13<00:38, 113.49it/s]"
     ]
    },
    {
     "name": "stderr",
     "output_type": "stream",
     "text": [
      "\r",
      "Step 2/3 :  12%|█▏        | 596/5000 [00:13<00:38, 113.49it/s]"
     ]
    },
    {
     "name": "stderr",
     "output_type": "stream",
     "text": [
      "\r",
      "Step 2/3 :  12%|█▏        | 596/5000 [00:13<00:38, 113.49it/s]"
     ]
    },
    {
     "name": "stderr",
     "output_type": "stream",
     "text": [
      "\r",
      "Step 2/3 :  12%|█▏        | 596/5000 [00:13<00:38, 113.49it/s]"
     ]
    },
    {
     "name": "stderr",
     "output_type": "stream",
     "text": [
      "\r",
      "Step 2/3 :  12%|█▏        | 596/5000 [00:13<00:38, 113.49it/s]"
     ]
    },
    {
     "name": "stderr",
     "output_type": "stream",
     "text": [
      "\r",
      "Step 2/3 :  12%|█▏        | 608/5000 [00:13<00:39, 112.12it/s]"
     ]
    },
    {
     "name": "stderr",
     "output_type": "stream",
     "text": [
      "\r",
      "Step 2/3 :  12%|█▏        | 608/5000 [00:13<00:39, 112.12it/s]"
     ]
    },
    {
     "name": "stderr",
     "output_type": "stream",
     "text": [
      "\r",
      "Step 2/3 :  12%|█▏        | 608/5000 [00:14<00:39, 112.12it/s]"
     ]
    },
    {
     "name": "stderr",
     "output_type": "stream",
     "text": [
      "\r",
      "Step 2/3 :  12%|█▏        | 608/5000 [00:14<00:39, 112.12it/s]"
     ]
    },
    {
     "name": "stderr",
     "output_type": "stream",
     "text": [
      "\r",
      "Step 2/3 :  12%|█▏        | 608/5000 [00:14<00:39, 112.12it/s]"
     ]
    },
    {
     "name": "stderr",
     "output_type": "stream",
     "text": [
      "\r",
      "Step 2/3 :  12%|█▏        | 608/5000 [00:14<00:39, 112.12it/s]"
     ]
    },
    {
     "name": "stderr",
     "output_type": "stream",
     "text": [
      "\r",
      "Step 2/3 :  12%|█▏        | 608/5000 [00:14<00:39, 112.12it/s]"
     ]
    },
    {
     "name": "stderr",
     "output_type": "stream",
     "text": [
      "\r",
      "Step 2/3 :  12%|█▏        | 608/5000 [00:14<00:39, 112.12it/s]"
     ]
    },
    {
     "name": "stderr",
     "output_type": "stream",
     "text": [
      "\r",
      "Step 2/3 :  12%|█▏        | 608/5000 [00:14<00:39, 112.12it/s]"
     ]
    },
    {
     "name": "stderr",
     "output_type": "stream",
     "text": [
      "\r",
      "Step 2/3 :  12%|█▏        | 608/5000 [00:14<00:39, 112.12it/s]"
     ]
    },
    {
     "name": "stderr",
     "output_type": "stream",
     "text": [
      "\r",
      "Step 2/3 :  12%|█▏        | 608/5000 [00:14<00:39, 112.12it/s]"
     ]
    },
    {
     "name": "stderr",
     "output_type": "stream",
     "text": [
      "\r",
      "Step 2/3 :  12%|█▏        | 608/5000 [00:14<00:39, 112.12it/s]"
     ]
    },
    {
     "name": "stderr",
     "output_type": "stream",
     "text": [
      "\r",
      "Step 2/3 :  12%|█▏        | 608/5000 [00:14<00:39, 112.12it/s]"
     ]
    },
    {
     "name": "stderr",
     "output_type": "stream",
     "text": [
      "\r",
      "Step 2/3 :  12%|█▏        | 620/5000 [00:14<00:38, 114.39it/s]"
     ]
    },
    {
     "name": "stderr",
     "output_type": "stream",
     "text": [
      "\r",
      "Step 2/3 :  12%|█▏        | 620/5000 [00:14<00:38, 114.39it/s]"
     ]
    },
    {
     "name": "stderr",
     "output_type": "stream",
     "text": [
      "\r",
      "Step 2/3 :  12%|█▏        | 620/5000 [00:14<00:38, 114.39it/s]"
     ]
    },
    {
     "name": "stderr",
     "output_type": "stream",
     "text": [
      "\r",
      "Step 2/3 :  12%|█▏        | 620/5000 [00:14<00:38, 114.39it/s]"
     ]
    },
    {
     "name": "stderr",
     "output_type": "stream",
     "text": [
      "\r",
      "Step 2/3 :  12%|█▏        | 620/5000 [00:14<00:38, 114.39it/s]"
     ]
    },
    {
     "name": "stderr",
     "output_type": "stream",
     "text": [
      "\r",
      "Step 2/3 :  12%|█▏        | 620/5000 [00:14<00:38, 114.39it/s]"
     ]
    },
    {
     "name": "stderr",
     "output_type": "stream",
     "text": [
      "\r",
      "Step 2/3 :  12%|█▏        | 620/5000 [00:14<00:38, 114.39it/s]"
     ]
    },
    {
     "name": "stderr",
     "output_type": "stream",
     "text": [
      "\r",
      "Step 2/3 :  12%|█▏        | 620/5000 [00:14<00:38, 114.39it/s]"
     ]
    },
    {
     "name": "stderr",
     "output_type": "stream",
     "text": [
      "\r",
      "Step 2/3 :  12%|█▏        | 620/5000 [00:14<00:38, 114.39it/s]"
     ]
    },
    {
     "name": "stderr",
     "output_type": "stream",
     "text": [
      "\r",
      "Step 2/3 :  12%|█▏        | 620/5000 [00:14<00:38, 114.39it/s]"
     ]
    },
    {
     "name": "stderr",
     "output_type": "stream",
     "text": [
      "\r",
      "Step 2/3 :  12%|█▏        | 620/5000 [00:14<00:38, 114.39it/s]"
     ]
    },
    {
     "name": "stderr",
     "output_type": "stream",
     "text": [
      "\r",
      "Step 2/3 :  12%|█▏        | 620/5000 [00:14<00:38, 114.39it/s]"
     ]
    },
    {
     "name": "stderr",
     "output_type": "stream",
     "text": [
      "\r",
      "Step 2/3 :  12%|█▏        | 620/5000 [00:14<00:38, 114.39it/s]"
     ]
    },
    {
     "name": "stderr",
     "output_type": "stream",
     "text": [
      "\r",
      "Step 2/3 :  13%|█▎        | 632/5000 [00:14<00:38, 114.35it/s]"
     ]
    },
    {
     "name": "stderr",
     "output_type": "stream",
     "text": [
      "\r",
      "Step 2/3 :  13%|█▎        | 632/5000 [00:14<00:38, 114.35it/s]"
     ]
    },
    {
     "name": "stderr",
     "output_type": "stream",
     "text": [
      "\r",
      "Step 2/3 :  13%|█▎        | 632/5000 [00:14<00:38, 114.35it/s]"
     ]
    },
    {
     "name": "stderr",
     "output_type": "stream",
     "text": [
      "\r",
      "Step 2/3 :  13%|█▎        | 632/5000 [00:14<00:38, 114.35it/s]"
     ]
    },
    {
     "name": "stderr",
     "output_type": "stream",
     "text": [
      "\r",
      "Step 2/3 :  13%|█▎        | 632/5000 [00:14<00:38, 114.35it/s]"
     ]
    },
    {
     "name": "stderr",
     "output_type": "stream",
     "text": [
      "\r",
      "Step 2/3 :  13%|█▎        | 632/5000 [00:14<00:38, 114.35it/s]"
     ]
    },
    {
     "name": "stderr",
     "output_type": "stream",
     "text": [
      "\r",
      "Step 2/3 :  13%|█▎        | 632/5000 [00:14<00:38, 114.35it/s]"
     ]
    },
    {
     "name": "stderr",
     "output_type": "stream",
     "text": [
      "\r",
      "Step 2/3 :  13%|█▎        | 632/5000 [00:14<00:38, 114.35it/s]"
     ]
    },
    {
     "name": "stderr",
     "output_type": "stream",
     "text": [
      "\r",
      "Step 2/3 :  13%|█▎        | 632/5000 [00:14<00:38, 114.35it/s]"
     ]
    },
    {
     "name": "stderr",
     "output_type": "stream",
     "text": [
      "\r",
      "Step 2/3 :  13%|█▎        | 632/5000 [00:14<00:38, 114.35it/s]"
     ]
    },
    {
     "name": "stderr",
     "output_type": "stream",
     "text": [
      "\r",
      "Step 2/3 :  13%|█▎        | 632/5000 [00:14<00:38, 114.35it/s]"
     ]
    },
    {
     "name": "stderr",
     "output_type": "stream",
     "text": [
      "\r",
      "Step 2/3 :  13%|█▎        | 632/5000 [00:14<00:38, 114.35it/s]"
     ]
    },
    {
     "name": "stderr",
     "output_type": "stream",
     "text": [
      "\r",
      "Step 2/3 :  13%|█▎        | 632/5000 [00:14<00:38, 114.35it/s]"
     ]
    },
    {
     "name": "stderr",
     "output_type": "stream",
     "text": [
      "\r",
      "Step 2/3 :  13%|█▎        | 644/5000 [00:14<00:37, 115.00it/s]"
     ]
    },
    {
     "name": "stderr",
     "output_type": "stream",
     "text": [
      "\r",
      "Step 2/3 :  13%|█▎        | 644/5000 [00:14<00:37, 115.00it/s]"
     ]
    },
    {
     "name": "stderr",
     "output_type": "stream",
     "text": [
      "\r",
      "Step 2/3 :  13%|█▎        | 644/5000 [00:14<00:37, 115.00it/s]"
     ]
    },
    {
     "name": "stderr",
     "output_type": "stream",
     "text": [
      "\r",
      "Step 2/3 :  13%|█▎        | 644/5000 [00:14<00:37, 115.00it/s]"
     ]
    },
    {
     "name": "stderr",
     "output_type": "stream",
     "text": [
      "\r",
      "Step 2/3 :  13%|█▎        | 644/5000 [00:14<00:37, 115.00it/s]"
     ]
    },
    {
     "name": "stderr",
     "output_type": "stream",
     "text": [
      "\r",
      "Step 2/3 :  13%|█▎        | 644/5000 [00:14<00:37, 115.00it/s]"
     ]
    },
    {
     "name": "stderr",
     "output_type": "stream",
     "text": [
      "\r",
      "Step 2/3 :  13%|█▎        | 644/5000 [00:14<00:37, 115.00it/s]"
     ]
    },
    {
     "name": "stderr",
     "output_type": "stream",
     "text": [
      "\r",
      "Step 2/3 :  13%|█▎        | 644/5000 [00:14<00:37, 115.00it/s]"
     ]
    },
    {
     "name": "stderr",
     "output_type": "stream",
     "text": [
      "\r",
      "Step 2/3 :  13%|█▎        | 644/5000 [00:14<00:37, 115.00it/s]"
     ]
    },
    {
     "name": "stderr",
     "output_type": "stream",
     "text": [
      "\r",
      "Step 2/3 :  13%|█▎        | 644/5000 [00:14<00:37, 115.00it/s]"
     ]
    },
    {
     "name": "stderr",
     "output_type": "stream",
     "text": [
      "\r",
      "Step 2/3 :  13%|█▎        | 644/5000 [00:14<00:37, 115.00it/s]"
     ]
    },
    {
     "name": "stderr",
     "output_type": "stream",
     "text": [
      "\r",
      "Step 2/3 :  13%|█▎        | 644/5000 [00:14<00:37, 115.00it/s]"
     ]
    },
    {
     "name": "stderr",
     "output_type": "stream",
     "text": [
      "\r",
      "Step 2/3 :  13%|█▎        | 644/5000 [00:14<00:37, 115.00it/s]"
     ]
    },
    {
     "name": "stderr",
     "output_type": "stream",
     "text": [
      "\r",
      "Step 2/3 :  13%|█▎        | 644/5000 [00:14<00:37, 115.00it/s]"
     ]
    },
    {
     "name": "stderr",
     "output_type": "stream",
     "text": [
      "\r",
      "Step 2/3 :  13%|█▎        | 657/5000 [00:14<00:37, 116.32it/s]"
     ]
    },
    {
     "name": "stderr",
     "output_type": "stream",
     "text": [
      "\r",
      "Step 2/3 :  13%|█▎        | 657/5000 [00:14<00:37, 116.32it/s]"
     ]
    },
    {
     "name": "stderr",
     "output_type": "stream",
     "text": [
      "\r",
      "Step 2/3 :  13%|█▎        | 657/5000 [00:14<00:37, 116.32it/s]"
     ]
    },
    {
     "name": "stderr",
     "output_type": "stream",
     "text": [
      "\r",
      "Step 2/3 :  13%|█▎        | 657/5000 [00:14<00:37, 116.32it/s]"
     ]
    },
    {
     "name": "stderr",
     "output_type": "stream",
     "text": [
      "\r",
      "Step 2/3 :  13%|█▎        | 657/5000 [00:14<00:37, 116.32it/s]"
     ]
    },
    {
     "name": "stderr",
     "output_type": "stream",
     "text": [
      "\r",
      "Step 2/3 :  13%|█▎        | 657/5000 [00:14<00:37, 116.32it/s]"
     ]
    },
    {
     "name": "stderr",
     "output_type": "stream",
     "text": [
      "\r",
      "Step 2/3 :  13%|█▎        | 657/5000 [00:14<00:37, 116.32it/s]"
     ]
    },
    {
     "name": "stderr",
     "output_type": "stream",
     "text": [
      "\r",
      "Step 2/3 :  13%|█▎        | 657/5000 [00:14<00:37, 116.32it/s]"
     ]
    },
    {
     "name": "stderr",
     "output_type": "stream",
     "text": [
      "\r",
      "Step 2/3 :  13%|█▎        | 657/5000 [00:14<00:37, 116.32it/s]"
     ]
    },
    {
     "name": "stderr",
     "output_type": "stream",
     "text": [
      "\r",
      "Step 2/3 :  13%|█▎        | 657/5000 [00:14<00:37, 116.32it/s]"
     ]
    },
    {
     "name": "stderr",
     "output_type": "stream",
     "text": [
      "\r",
      "Step 2/3 :  13%|█▎        | 657/5000 [00:14<00:37, 116.32it/s]"
     ]
    },
    {
     "name": "stderr",
     "output_type": "stream",
     "text": [
      "\r",
      "Step 2/3 :  13%|█▎        | 657/5000 [00:14<00:37, 116.32it/s]"
     ]
    },
    {
     "name": "stderr",
     "output_type": "stream",
     "text": [
      "\r",
      "Step 2/3 :  13%|█▎        | 657/5000 [00:14<00:37, 116.32it/s]"
     ]
    },
    {
     "name": "stderr",
     "output_type": "stream",
     "text": [
      "\r",
      "Step 2/3 :  13%|█▎        | 669/5000 [00:14<00:37, 115.20it/s]"
     ]
    },
    {
     "name": "stderr",
     "output_type": "stream",
     "text": [
      "\r",
      "Step 2/3 :  13%|█▎        | 669/5000 [00:14<00:37, 115.20it/s]"
     ]
    },
    {
     "name": "stderr",
     "output_type": "stream",
     "text": [
      "\r",
      "Step 2/3 :  13%|█▎        | 669/5000 [00:14<00:37, 115.20it/s]"
     ]
    },
    {
     "name": "stderr",
     "output_type": "stream",
     "text": [
      "\r",
      "Step 2/3 :  13%|█▎        | 669/5000 [00:14<00:37, 115.20it/s]"
     ]
    },
    {
     "name": "stderr",
     "output_type": "stream",
     "text": [
      "\r",
      "Step 2/3 :  13%|█▎        | 669/5000 [00:14<00:37, 115.20it/s]"
     ]
    },
    {
     "name": "stderr",
     "output_type": "stream",
     "text": [
      "\r",
      "Step 2/3 :  13%|█▎        | 669/5000 [00:14<00:37, 115.20it/s]"
     ]
    },
    {
     "name": "stderr",
     "output_type": "stream",
     "text": [
      "\r",
      "Step 2/3 :  13%|█▎        | 669/5000 [00:14<00:37, 115.20it/s]"
     ]
    },
    {
     "name": "stderr",
     "output_type": "stream",
     "text": [
      "\r",
      "Step 2/3 :  13%|█▎        | 669/5000 [00:14<00:37, 115.20it/s]"
     ]
    },
    {
     "name": "stderr",
     "output_type": "stream",
     "text": [
      "\r",
      "Step 2/3 :  13%|█▎        | 669/5000 [00:14<00:37, 115.20it/s]"
     ]
    },
    {
     "name": "stderr",
     "output_type": "stream",
     "text": [
      "\r",
      "Step 2/3 :  13%|█▎        | 669/5000 [00:14<00:37, 115.20it/s]"
     ]
    },
    {
     "name": "stderr",
     "output_type": "stream",
     "text": [
      "\r",
      "Step 2/3 :  13%|█▎        | 669/5000 [00:14<00:37, 115.20it/s]"
     ]
    },
    {
     "name": "stderr",
     "output_type": "stream",
     "text": [
      "\r",
      "Step 2/3 :  13%|█▎        | 669/5000 [00:14<00:37, 115.20it/s]"
     ]
    },
    {
     "name": "stderr",
     "output_type": "stream",
     "text": [
      "\r",
      "Step 2/3 :  13%|█▎        | 669/5000 [00:14<00:37, 115.20it/s]"
     ]
    },
    {
     "name": "stderr",
     "output_type": "stream",
     "text": [
      "\r",
      "Step 2/3 :  13%|█▎        | 669/5000 [00:14<00:37, 115.20it/s]"
     ]
    },
    {
     "name": "stderr",
     "output_type": "stream",
     "text": [
      "\r",
      "Step 2/3 :  14%|█▎        | 682/5000 [00:14<00:36, 117.44it/s]"
     ]
    },
    {
     "name": "stderr",
     "output_type": "stream",
     "text": [
      "\r",
      "Step 2/3 :  14%|█▎        | 682/5000 [00:14<00:36, 117.44it/s]"
     ]
    },
    {
     "name": "stderr",
     "output_type": "stream",
     "text": [
      "\r",
      "Step 2/3 :  14%|█▎        | 682/5000 [00:14<00:36, 117.44it/s]"
     ]
    },
    {
     "name": "stderr",
     "output_type": "stream",
     "text": [
      "\r",
      "Step 2/3 :  14%|█▎        | 682/5000 [00:14<00:36, 117.44it/s]"
     ]
    },
    {
     "name": "stderr",
     "output_type": "stream",
     "text": [
      "\r",
      "Step 2/3 :  14%|█▎        | 682/5000 [00:14<00:36, 117.44it/s]"
     ]
    },
    {
     "name": "stderr",
     "output_type": "stream",
     "text": [
      "\r",
      "Step 2/3 :  14%|█▎        | 682/5000 [00:14<00:36, 117.44it/s]"
     ]
    },
    {
     "name": "stderr",
     "output_type": "stream",
     "text": [
      "\r",
      "Step 2/3 :  14%|█▎        | 682/5000 [00:14<00:36, 117.44it/s]"
     ]
    },
    {
     "name": "stderr",
     "output_type": "stream",
     "text": [
      "\r",
      "Step 2/3 :  14%|█▎        | 682/5000 [00:14<00:36, 117.44it/s]"
     ]
    },
    {
     "name": "stderr",
     "output_type": "stream",
     "text": [
      "\r",
      "Step 2/3 :  14%|█▎        | 682/5000 [00:14<00:36, 117.44it/s]"
     ]
    },
    {
     "name": "stderr",
     "output_type": "stream",
     "text": [
      "\r",
      "Step 2/3 :  14%|█▎        | 682/5000 [00:14<00:36, 117.44it/s]"
     ]
    },
    {
     "name": "stderr",
     "output_type": "stream",
     "text": [
      "\r",
      "Step 2/3 :  14%|█▎        | 682/5000 [00:14<00:36, 117.44it/s]"
     ]
    },
    {
     "name": "stderr",
     "output_type": "stream",
     "text": [
      "\r",
      "Step 2/3 :  14%|█▎        | 682/5000 [00:14<00:36, 117.44it/s]"
     ]
    },
    {
     "name": "stderr",
     "output_type": "stream",
     "text": [
      "\r",
      "Step 2/3 :  14%|█▎        | 682/5000 [00:14<00:36, 117.44it/s]"
     ]
    },
    {
     "name": "stderr",
     "output_type": "stream",
     "text": [
      "\r",
      "Step 2/3 :  14%|█▍        | 694/5000 [00:14<00:36, 117.50it/s]"
     ]
    },
    {
     "name": "stderr",
     "output_type": "stream",
     "text": [
      "\r",
      "Step 2/3 :  14%|█▍        | 694/5000 [00:14<00:36, 117.50it/s]"
     ]
    },
    {
     "name": "stderr",
     "output_type": "stream",
     "text": [
      "\r",
      "Step 2/3 :  14%|█▍        | 694/5000 [00:14<00:36, 117.50it/s]"
     ]
    },
    {
     "name": "stderr",
     "output_type": "stream",
     "text": [
      "\r",
      "Step 2/3 :  14%|█▍        | 694/5000 [00:14<00:36, 117.50it/s]"
     ]
    },
    {
     "name": "stderr",
     "output_type": "stream",
     "text": [
      "\r",
      "Step 2/3 :  14%|█▍        | 694/5000 [00:14<00:36, 117.50it/s]"
     ]
    },
    {
     "name": "stderr",
     "output_type": "stream",
     "text": [
      "\r",
      "Step 2/3 :  14%|█▍        | 694/5000 [00:14<00:36, 117.50it/s]"
     ]
    },
    {
     "name": "stderr",
     "output_type": "stream",
     "text": [
      "\r",
      "Step 2/3 :  14%|█▍        | 694/5000 [00:14<00:36, 117.50it/s]"
     ]
    },
    {
     "name": "stderr",
     "output_type": "stream",
     "text": [
      "\r",
      "Step 2/3 :  14%|█▍        | 694/5000 [00:14<00:36, 117.50it/s]"
     ]
    },
    {
     "name": "stderr",
     "output_type": "stream",
     "text": [
      "\r",
      "Step 2/3 :  14%|█▍        | 694/5000 [00:14<00:36, 117.50it/s]"
     ]
    },
    {
     "name": "stderr",
     "output_type": "stream",
     "text": [
      "\r",
      "Step 2/3 :  14%|█▍        | 694/5000 [00:14<00:36, 117.50it/s]"
     ]
    },
    {
     "name": "stderr",
     "output_type": "stream",
     "text": [
      "\r",
      "Step 2/3 :  14%|█▍        | 694/5000 [00:14<00:36, 117.50it/s]"
     ]
    },
    {
     "name": "stderr",
     "output_type": "stream",
     "text": [
      "\r",
      "Step 2/3 :  14%|█▍        | 694/5000 [00:14<00:36, 117.50it/s]"
     ]
    },
    {
     "name": "stderr",
     "output_type": "stream",
     "text": [
      "\r",
      "Step 2/3 :  14%|█▍        | 694/5000 [00:14<00:36, 117.50it/s]"
     ]
    },
    {
     "name": "stderr",
     "output_type": "stream",
     "text": [
      "\r",
      "Step 2/3 :  14%|█▍        | 706/5000 [00:14<00:37, 113.61it/s]"
     ]
    },
    {
     "name": "stderr",
     "output_type": "stream",
     "text": [
      "\r",
      "Step 2/3 :  14%|█▍        | 706/5000 [00:14<00:37, 113.61it/s]"
     ]
    },
    {
     "name": "stderr",
     "output_type": "stream",
     "text": [
      "\r",
      "Step 2/3 :  14%|█▍        | 706/5000 [00:14<00:37, 113.61it/s]"
     ]
    },
    {
     "name": "stderr",
     "output_type": "stream",
     "text": [
      "\r",
      "Step 2/3 :  14%|█▍        | 706/5000 [00:14<00:37, 113.61it/s]"
     ]
    },
    {
     "name": "stderr",
     "output_type": "stream",
     "text": [
      "\r",
      "Step 2/3 :  14%|█▍        | 706/5000 [00:14<00:37, 113.61it/s]"
     ]
    },
    {
     "name": "stderr",
     "output_type": "stream",
     "text": [
      "\r",
      "Step 2/3 :  14%|█▍        | 706/5000 [00:14<00:37, 113.61it/s]"
     ]
    },
    {
     "name": "stderr",
     "output_type": "stream",
     "text": [
      "\r",
      "Step 2/3 :  14%|█▍        | 706/5000 [00:14<00:37, 113.61it/s]"
     ]
    },
    {
     "name": "stderr",
     "output_type": "stream",
     "text": [
      "\r",
      "Step 2/3 :  14%|█▍        | 706/5000 [00:14<00:37, 113.61it/s]"
     ]
    },
    {
     "name": "stderr",
     "output_type": "stream",
     "text": [
      "\r",
      "Step 2/3 :  14%|█▍        | 706/5000 [00:14<00:37, 113.61it/s]"
     ]
    },
    {
     "name": "stderr",
     "output_type": "stream",
     "text": [
      "\r",
      "Step 2/3 :  14%|█▍        | 706/5000 [00:14<00:37, 113.61it/s]"
     ]
    },
    {
     "name": "stderr",
     "output_type": "stream",
     "text": [
      "\r",
      "Step 2/3 :  14%|█▍        | 706/5000 [00:14<00:37, 113.61it/s]"
     ]
    },
    {
     "name": "stderr",
     "output_type": "stream",
     "text": [
      "\r",
      "Step 2/3 :  14%|█▍        | 706/5000 [00:14<00:37, 113.61it/s]"
     ]
    },
    {
     "name": "stderr",
     "output_type": "stream",
     "text": [
      "\r",
      "Step 2/3 :  14%|█▍        | 706/5000 [00:14<00:37, 113.61it/s]"
     ]
    },
    {
     "name": "stderr",
     "output_type": "stream",
     "text": [
      "\r",
      "Step 2/3 :  14%|█▍        | 718/5000 [00:14<00:38, 111.42it/s]"
     ]
    },
    {
     "name": "stderr",
     "output_type": "stream",
     "text": [
      "\r",
      "Step 2/3 :  14%|█▍        | 718/5000 [00:14<00:38, 111.42it/s]"
     ]
    },
    {
     "name": "stderr",
     "output_type": "stream",
     "text": [
      "\r",
      "Step 2/3 :  14%|█▍        | 718/5000 [00:14<00:38, 111.42it/s]"
     ]
    },
    {
     "name": "stderr",
     "output_type": "stream",
     "text": [
      "\r",
      "Step 2/3 :  14%|█▍        | 718/5000 [00:14<00:38, 111.42it/s]"
     ]
    },
    {
     "name": "stderr",
     "output_type": "stream",
     "text": [
      "\r",
      "Step 2/3 :  14%|█▍        | 718/5000 [00:14<00:38, 111.42it/s]"
     ]
    },
    {
     "name": "stderr",
     "output_type": "stream",
     "text": [
      "\r",
      "Step 2/3 :  14%|█▍        | 718/5000 [00:14<00:38, 111.42it/s]"
     ]
    },
    {
     "name": "stderr",
     "output_type": "stream",
     "text": [
      "\r",
      "Step 2/3 :  14%|█▍        | 718/5000 [00:15<00:38, 111.42it/s]"
     ]
    },
    {
     "name": "stderr",
     "output_type": "stream",
     "text": [
      "\r",
      "Step 2/3 :  14%|█▍        | 718/5000 [00:15<00:38, 111.42it/s]"
     ]
    },
    {
     "name": "stderr",
     "output_type": "stream",
     "text": [
      "\r",
      "Step 2/3 :  14%|█▍        | 718/5000 [00:15<00:38, 111.42it/s]"
     ]
    },
    {
     "name": "stderr",
     "output_type": "stream",
     "text": [
      "\r",
      "Step 2/3 :  14%|█▍        | 718/5000 [00:15<00:38, 111.42it/s]"
     ]
    },
    {
     "name": "stderr",
     "output_type": "stream",
     "text": [
      "\r",
      "Step 2/3 :  14%|█▍        | 718/5000 [00:15<00:38, 111.42it/s]"
     ]
    },
    {
     "name": "stderr",
     "output_type": "stream",
     "text": [
      "\r",
      "Step 2/3 :  14%|█▍        | 718/5000 [00:15<00:38, 111.42it/s]"
     ]
    },
    {
     "name": "stderr",
     "output_type": "stream",
     "text": [
      "\r",
      "Step 2/3 :  14%|█▍        | 718/5000 [00:15<00:38, 111.42it/s]"
     ]
    },
    {
     "name": "stderr",
     "output_type": "stream",
     "text": [
      "\r",
      "Step 2/3 :  15%|█▍        | 730/5000 [00:15<00:40, 106.19it/s]"
     ]
    },
    {
     "name": "stderr",
     "output_type": "stream",
     "text": [
      "\r",
      "Step 2/3 :  15%|█▍        | 730/5000 [00:15<00:40, 106.19it/s]"
     ]
    },
    {
     "name": "stderr",
     "output_type": "stream",
     "text": [
      "\r",
      "Step 2/3 :  15%|█▍        | 730/5000 [00:15<00:40, 106.19it/s]"
     ]
    },
    {
     "name": "stderr",
     "output_type": "stream",
     "text": [
      "\r",
      "Step 2/3 :  15%|█▍        | 730/5000 [00:15<00:40, 106.19it/s]"
     ]
    },
    {
     "name": "stderr",
     "output_type": "stream",
     "text": [
      "\r",
      "Step 2/3 :  15%|█▍        | 730/5000 [00:15<00:40, 106.19it/s]"
     ]
    },
    {
     "name": "stderr",
     "output_type": "stream",
     "text": [
      "\r",
      "Step 2/3 :  15%|█▍        | 730/5000 [00:15<00:40, 106.19it/s]"
     ]
    },
    {
     "name": "stderr",
     "output_type": "stream",
     "text": [
      "\r",
      "Step 2/3 :  15%|█▍        | 730/5000 [00:15<00:40, 106.19it/s]"
     ]
    },
    {
     "name": "stderr",
     "output_type": "stream",
     "text": [
      "\r",
      "Step 2/3 :  15%|█▍        | 730/5000 [00:15<00:40, 106.19it/s]"
     ]
    },
    {
     "name": "stderr",
     "output_type": "stream",
     "text": [
      "\r",
      "Step 2/3 :  15%|█▍        | 730/5000 [00:15<00:40, 106.19it/s]"
     ]
    },
    {
     "name": "stderr",
     "output_type": "stream",
     "text": [
      "\r",
      "Step 2/3 :  15%|█▍        | 730/5000 [00:15<00:40, 106.19it/s]"
     ]
    },
    {
     "name": "stderr",
     "output_type": "stream",
     "text": [
      "\r",
      "Step 2/3 :  15%|█▍        | 730/5000 [00:15<00:40, 106.19it/s]"
     ]
    },
    {
     "name": "stderr",
     "output_type": "stream",
     "text": [
      "\r",
      "Step 2/3 :  15%|█▍        | 730/5000 [00:15<00:40, 106.19it/s]"
     ]
    },
    {
     "name": "stderr",
     "output_type": "stream",
     "text": [
      "\r",
      "Step 2/3 :  15%|█▍        | 741/5000 [00:15<00:40, 106.36it/s]"
     ]
    },
    {
     "name": "stderr",
     "output_type": "stream",
     "text": [
      "\r",
      "Step 2/3 :  15%|█▍        | 741/5000 [00:15<00:40, 106.36it/s]"
     ]
    },
    {
     "name": "stderr",
     "output_type": "stream",
     "text": [
      "\r",
      "Step 2/3 :  15%|█▍        | 741/5000 [00:15<00:40, 106.36it/s]"
     ]
    },
    {
     "name": "stderr",
     "output_type": "stream",
     "text": [
      "\r",
      "Step 2/3 :  15%|█▍        | 741/5000 [00:15<00:40, 106.36it/s]"
     ]
    },
    {
     "name": "stderr",
     "output_type": "stream",
     "text": [
      "\r",
      "Step 2/3 :  15%|█▍        | 741/5000 [00:15<00:40, 106.36it/s]"
     ]
    },
    {
     "name": "stderr",
     "output_type": "stream",
     "text": [
      "\r",
      "Step 2/3 :  15%|█▍        | 741/5000 [00:15<00:40, 106.36it/s]"
     ]
    },
    {
     "name": "stderr",
     "output_type": "stream",
     "text": [
      "\r",
      "Step 2/3 :  15%|█▍        | 741/5000 [00:15<00:40, 106.36it/s]"
     ]
    },
    {
     "name": "stderr",
     "output_type": "stream",
     "text": [
      "\r",
      "Step 2/3 :  15%|█▍        | 741/5000 [00:15<00:40, 106.36it/s]"
     ]
    },
    {
     "name": "stderr",
     "output_type": "stream",
     "text": [
      "\r",
      "Step 2/3 :  15%|█▍        | 741/5000 [00:15<00:40, 106.36it/s]"
     ]
    },
    {
     "name": "stderr",
     "output_type": "stream",
     "text": [
      "\r",
      "Step 2/3 :  15%|█▍        | 741/5000 [00:15<00:40, 106.36it/s]"
     ]
    },
    {
     "name": "stderr",
     "output_type": "stream",
     "text": [
      "\r",
      "Step 2/3 :  15%|█▍        | 741/5000 [00:15<00:40, 106.36it/s]"
     ]
    },
    {
     "name": "stderr",
     "output_type": "stream",
     "text": [
      "\r",
      "Step 2/3 :  15%|█▍        | 741/5000 [00:15<00:40, 106.36it/s]"
     ]
    },
    {
     "name": "stderr",
     "output_type": "stream",
     "text": [
      "\r",
      "Step 2/3 :  15%|█▍        | 741/5000 [00:15<00:40, 106.36it/s]"
     ]
    },
    {
     "name": "stderr",
     "output_type": "stream",
     "text": [
      "\r",
      "Step 2/3 :  15%|█▌        | 753/5000 [00:15<00:39, 108.65it/s]"
     ]
    },
    {
     "name": "stderr",
     "output_type": "stream",
     "text": [
      "\r",
      "Step 2/3 :  15%|█▌        | 753/5000 [00:15<00:39, 108.65it/s]"
     ]
    },
    {
     "name": "stderr",
     "output_type": "stream",
     "text": [
      "\r",
      "Step 2/3 :  15%|█▌        | 753/5000 [00:15<00:39, 108.65it/s]"
     ]
    },
    {
     "name": "stderr",
     "output_type": "stream",
     "text": [
      "\r",
      "Step 2/3 :  15%|█▌        | 753/5000 [00:15<00:39, 108.65it/s]"
     ]
    },
    {
     "name": "stderr",
     "output_type": "stream",
     "text": [
      "\r",
      "Step 2/3 :  15%|█▌        | 753/5000 [00:15<00:39, 108.65it/s]"
     ]
    },
    {
     "name": "stderr",
     "output_type": "stream",
     "text": [
      "\r",
      "Step 2/3 :  15%|█▌        | 753/5000 [00:15<00:39, 108.65it/s]"
     ]
    },
    {
     "name": "stderr",
     "output_type": "stream",
     "text": [
      "\r",
      "Step 2/3 :  15%|█▌        | 753/5000 [00:15<00:39, 108.65it/s]"
     ]
    },
    {
     "name": "stderr",
     "output_type": "stream",
     "text": [
      "\r",
      "Step 2/3 :  15%|█▌        | 753/5000 [00:15<00:39, 108.65it/s]"
     ]
    },
    {
     "name": "stderr",
     "output_type": "stream",
     "text": [
      "\r",
      "Step 2/3 :  15%|█▌        | 753/5000 [00:15<00:39, 108.65it/s]"
     ]
    },
    {
     "name": "stderr",
     "output_type": "stream",
     "text": [
      "\r",
      "Step 2/3 :  15%|█▌        | 753/5000 [00:15<00:39, 108.65it/s]"
     ]
    },
    {
     "name": "stderr",
     "output_type": "stream",
     "text": [
      "\r",
      "Step 2/3 :  15%|█▌        | 753/5000 [00:15<00:39, 108.65it/s]"
     ]
    },
    {
     "name": "stderr",
     "output_type": "stream",
     "text": [
      "\r",
      "Step 2/3 :  15%|█▌        | 753/5000 [00:15<00:39, 108.65it/s]"
     ]
    },
    {
     "name": "stderr",
     "output_type": "stream",
     "text": [
      "\r",
      "Step 2/3 :  15%|█▌        | 753/5000 [00:15<00:39, 108.65it/s]"
     ]
    },
    {
     "name": "stderr",
     "output_type": "stream",
     "text": [
      "\r",
      "Step 2/3 :  15%|█▌        | 765/5000 [00:15<00:38, 111.22it/s]"
     ]
    },
    {
     "name": "stderr",
     "output_type": "stream",
     "text": [
      "\r",
      "Step 2/3 :  15%|█▌        | 765/5000 [00:15<00:38, 111.22it/s]"
     ]
    },
    {
     "name": "stderr",
     "output_type": "stream",
     "text": [
      "\r",
      "Step 2/3 :  15%|█▌        | 765/5000 [00:15<00:38, 111.22it/s]"
     ]
    },
    {
     "name": "stderr",
     "output_type": "stream",
     "text": [
      "\r",
      "Step 2/3 :  15%|█▌        | 765/5000 [00:15<00:38, 111.22it/s]"
     ]
    },
    {
     "name": "stderr",
     "output_type": "stream",
     "text": [
      "\r",
      "Step 2/3 :  15%|█▌        | 765/5000 [00:15<00:38, 111.22it/s]"
     ]
    },
    {
     "name": "stderr",
     "output_type": "stream",
     "text": [
      "\r",
      "Step 2/3 :  15%|█▌        | 765/5000 [00:15<00:38, 111.22it/s]"
     ]
    },
    {
     "name": "stderr",
     "output_type": "stream",
     "text": [
      "\r",
      "Step 2/3 :  15%|█▌        | 765/5000 [00:15<00:38, 111.22it/s]"
     ]
    },
    {
     "name": "stderr",
     "output_type": "stream",
     "text": [
      "\r",
      "Step 2/3 :  15%|█▌        | 765/5000 [00:15<00:38, 111.22it/s]"
     ]
    },
    {
     "name": "stderr",
     "output_type": "stream",
     "text": [
      "\r",
      "Step 2/3 :  15%|█▌        | 765/5000 [00:15<00:38, 111.22it/s]"
     ]
    },
    {
     "name": "stderr",
     "output_type": "stream",
     "text": [
      "\r",
      "Step 2/3 :  15%|█▌        | 765/5000 [00:15<00:38, 111.22it/s]"
     ]
    },
    {
     "name": "stderr",
     "output_type": "stream",
     "text": [
      "\r",
      "Step 2/3 :  15%|█▌        | 765/5000 [00:15<00:38, 111.22it/s]"
     ]
    },
    {
     "name": "stderr",
     "output_type": "stream",
     "text": [
      "\r",
      "Step 2/3 :  15%|█▌        | 765/5000 [00:15<00:38, 111.22it/s]"
     ]
    },
    {
     "name": "stderr",
     "output_type": "stream",
     "text": [
      "\r",
      "Step 2/3 :  15%|█▌        | 765/5000 [00:15<00:38, 111.22it/s]"
     ]
    },
    {
     "name": "stderr",
     "output_type": "stream",
     "text": [
      "\r",
      "Step 2/3 :  16%|█▌        | 777/5000 [00:15<00:37, 111.82it/s]"
     ]
    },
    {
     "name": "stderr",
     "output_type": "stream",
     "text": [
      "\r",
      "Step 2/3 :  16%|█▌        | 777/5000 [00:15<00:37, 111.82it/s]"
     ]
    },
    {
     "name": "stderr",
     "output_type": "stream",
     "text": [
      "\r",
      "Step 2/3 :  16%|█▌        | 777/5000 [00:15<00:37, 111.82it/s]"
     ]
    },
    {
     "name": "stderr",
     "output_type": "stream",
     "text": [
      "\r",
      "Step 2/3 :  16%|█▌        | 777/5000 [00:15<00:37, 111.82it/s]"
     ]
    },
    {
     "name": "stderr",
     "output_type": "stream",
     "text": [
      "\r",
      "Step 2/3 :  16%|█▌        | 777/5000 [00:15<00:37, 111.82it/s]"
     ]
    },
    {
     "name": "stderr",
     "output_type": "stream",
     "text": [
      "\r",
      "Step 2/3 :  16%|█▌        | 777/5000 [00:15<00:37, 111.82it/s]"
     ]
    },
    {
     "name": "stderr",
     "output_type": "stream",
     "text": [
      "\r",
      "Step 2/3 :  16%|█▌        | 777/5000 [00:15<00:37, 111.82it/s]"
     ]
    },
    {
     "name": "stderr",
     "output_type": "stream",
     "text": [
      "\r",
      "Step 2/3 :  16%|█▌        | 777/5000 [00:15<00:37, 111.82it/s]"
     ]
    },
    {
     "name": "stderr",
     "output_type": "stream",
     "text": [
      "\r",
      "Step 2/3 :  16%|█▌        | 777/5000 [00:15<00:37, 111.82it/s]"
     ]
    },
    {
     "name": "stderr",
     "output_type": "stream",
     "text": [
      "\r",
      "Step 2/3 :  16%|█▌        | 777/5000 [00:15<00:37, 111.82it/s]"
     ]
    },
    {
     "name": "stderr",
     "output_type": "stream",
     "text": [
      "\r",
      "Step 2/3 :  16%|█▌        | 777/5000 [00:15<00:37, 111.82it/s]"
     ]
    },
    {
     "name": "stderr",
     "output_type": "stream",
     "text": [
      "\r",
      "Step 2/3 :  16%|█▌        | 777/5000 [00:15<00:37, 111.82it/s]"
     ]
    },
    {
     "name": "stderr",
     "output_type": "stream",
     "text": [
      "\r",
      "Step 2/3 :  16%|█▌        | 777/5000 [00:15<00:37, 111.82it/s]"
     ]
    },
    {
     "name": "stderr",
     "output_type": "stream",
     "text": [
      "\r",
      "Step 2/3 :  16%|█▌        | 789/5000 [00:15<00:37, 112.55it/s]"
     ]
    },
    {
     "name": "stderr",
     "output_type": "stream",
     "text": [
      "\r",
      "Step 2/3 :  16%|█▌        | 789/5000 [00:15<00:37, 112.55it/s]"
     ]
    },
    {
     "name": "stderr",
     "output_type": "stream",
     "text": [
      "\r",
      "Step 2/3 :  16%|█▌        | 789/5000 [00:15<00:37, 112.55it/s]"
     ]
    },
    {
     "name": "stderr",
     "output_type": "stream",
     "text": [
      "\r",
      "Step 2/3 :  16%|█▌        | 789/5000 [00:15<00:37, 112.55it/s]"
     ]
    },
    {
     "name": "stderr",
     "output_type": "stream",
     "text": [
      "\r",
      "Step 2/3 :  16%|█▌        | 789/5000 [00:15<00:37, 112.55it/s]"
     ]
    },
    {
     "name": "stderr",
     "output_type": "stream",
     "text": [
      "\r",
      "Step 2/3 :  16%|█▌        | 789/5000 [00:15<00:37, 112.55it/s]"
     ]
    },
    {
     "name": "stderr",
     "output_type": "stream",
     "text": [
      "\r",
      "Step 2/3 :  16%|█▌        | 789/5000 [00:15<00:37, 112.55it/s]"
     ]
    },
    {
     "name": "stderr",
     "output_type": "stream",
     "text": [
      "\r",
      "Step 2/3 :  16%|█▌        | 789/5000 [00:15<00:37, 112.55it/s]"
     ]
    },
    {
     "name": "stderr",
     "output_type": "stream",
     "text": [
      "\r",
      "Step 2/3 :  16%|█▌        | 789/5000 [00:15<00:37, 112.55it/s]"
     ]
    },
    {
     "name": "stderr",
     "output_type": "stream",
     "text": [
      "\r",
      "Step 2/3 :  16%|█▌        | 789/5000 [00:15<00:37, 112.55it/s]"
     ]
    },
    {
     "name": "stderr",
     "output_type": "stream",
     "text": [
      "\r",
      "Step 2/3 :  16%|█▌        | 789/5000 [00:15<00:37, 112.55it/s]"
     ]
    },
    {
     "name": "stderr",
     "output_type": "stream",
     "text": [
      "\r",
      "Step 2/3 :  16%|█▌        | 789/5000 [00:15<00:37, 112.55it/s]"
     ]
    },
    {
     "name": "stderr",
     "output_type": "stream",
     "text": [
      "\r",
      "Step 2/3 :  16%|█▌        | 789/5000 [00:15<00:37, 112.55it/s]"
     ]
    },
    {
     "name": "stderr",
     "output_type": "stream",
     "text": [
      "\r",
      "Step 2/3 :  16%|█▌        | 789/5000 [00:15<00:37, 112.55it/s]"
     ]
    },
    {
     "name": "stderr",
     "output_type": "stream",
     "text": [
      "\r",
      "Step 2/3 :  16%|█▌        | 802/5000 [00:15<00:36, 114.92it/s]"
     ]
    },
    {
     "name": "stderr",
     "output_type": "stream",
     "text": [
      "\r",
      "Step 2/3 :  16%|█▌        | 802/5000 [00:15<00:36, 114.92it/s]"
     ]
    },
    {
     "name": "stderr",
     "output_type": "stream",
     "text": [
      "\r",
      "Step 2/3 :  16%|█▌        | 802/5000 [00:15<00:36, 114.92it/s]"
     ]
    },
    {
     "name": "stderr",
     "output_type": "stream",
     "text": [
      "\r",
      "Step 2/3 :  16%|█▌        | 802/5000 [00:15<00:36, 114.92it/s]"
     ]
    },
    {
     "name": "stderr",
     "output_type": "stream",
     "text": [
      "\r",
      "Step 2/3 :  16%|█▌        | 802/5000 [00:15<00:36, 114.92it/s]"
     ]
    },
    {
     "name": "stderr",
     "output_type": "stream",
     "text": [
      "\r",
      "Step 2/3 :  16%|█▌        | 802/5000 [00:15<00:36, 114.92it/s]"
     ]
    },
    {
     "name": "stderr",
     "output_type": "stream",
     "text": [
      "\r",
      "Step 2/3 :  16%|█▌        | 802/5000 [00:15<00:36, 114.92it/s]"
     ]
    },
    {
     "name": "stderr",
     "output_type": "stream",
     "text": [
      "\r",
      "Step 2/3 :  16%|█▌        | 802/5000 [00:15<00:36, 114.92it/s]"
     ]
    },
    {
     "name": "stderr",
     "output_type": "stream",
     "text": [
      "\r",
      "Step 2/3 :  16%|█▌        | 802/5000 [00:15<00:36, 114.92it/s]"
     ]
    },
    {
     "name": "stderr",
     "output_type": "stream",
     "text": [
      "\r",
      "Step 2/3 :  16%|█▌        | 802/5000 [00:15<00:36, 114.92it/s]"
     ]
    },
    {
     "name": "stderr",
     "output_type": "stream",
     "text": [
      "\r",
      "Step 2/3 :  16%|█▌        | 802/5000 [00:15<00:36, 114.92it/s]"
     ]
    },
    {
     "name": "stderr",
     "output_type": "stream",
     "text": [
      "\r",
      "Step 2/3 :  16%|█▌        | 802/5000 [00:15<00:36, 114.92it/s]"
     ]
    },
    {
     "name": "stderr",
     "output_type": "stream",
     "text": [
      "\r",
      "Step 2/3 :  16%|█▌        | 802/5000 [00:15<00:36, 114.92it/s]"
     ]
    },
    {
     "name": "stderr",
     "output_type": "stream",
     "text": [
      "\r",
      "Step 2/3 :  16%|█▋        | 814/5000 [00:15<00:36, 115.72it/s]"
     ]
    },
    {
     "name": "stderr",
     "output_type": "stream",
     "text": [
      "\r",
      "Step 2/3 :  16%|█▋        | 814/5000 [00:15<00:36, 115.72it/s]"
     ]
    },
    {
     "name": "stderr",
     "output_type": "stream",
     "text": [
      "\r",
      "Step 2/3 :  16%|█▋        | 814/5000 [00:15<00:36, 115.72it/s]"
     ]
    },
    {
     "name": "stderr",
     "output_type": "stream",
     "text": [
      "\r",
      "Step 2/3 :  16%|█▋        | 814/5000 [00:15<00:36, 115.72it/s]"
     ]
    },
    {
     "name": "stderr",
     "output_type": "stream",
     "text": [
      "\r",
      "Step 2/3 :  16%|█▋        | 814/5000 [00:15<00:36, 115.72it/s]"
     ]
    },
    {
     "name": "stderr",
     "output_type": "stream",
     "text": [
      "\r",
      "Step 2/3 :  16%|█▋        | 814/5000 [00:15<00:36, 115.72it/s]"
     ]
    },
    {
     "name": "stderr",
     "output_type": "stream",
     "text": [
      "\r",
      "Step 2/3 :  16%|█▋        | 814/5000 [00:15<00:36, 115.72it/s]"
     ]
    },
    {
     "name": "stderr",
     "output_type": "stream",
     "text": [
      "\r",
      "Step 2/3 :  16%|█▋        | 814/5000 [00:15<00:36, 115.72it/s]"
     ]
    },
    {
     "name": "stderr",
     "output_type": "stream",
     "text": [
      "\r",
      "Step 2/3 :  16%|█▋        | 814/5000 [00:15<00:36, 115.72it/s]"
     ]
    },
    {
     "name": "stderr",
     "output_type": "stream",
     "text": [
      "\r",
      "Step 2/3 :  16%|█▋        | 814/5000 [00:15<00:36, 115.72it/s]"
     ]
    },
    {
     "name": "stderr",
     "output_type": "stream",
     "text": [
      "\r",
      "Step 2/3 :  16%|█▋        | 814/5000 [00:15<00:36, 115.72it/s]"
     ]
    },
    {
     "name": "stderr",
     "output_type": "stream",
     "text": [
      "\r",
      "Step 2/3 :  16%|█▋        | 814/5000 [00:15<00:36, 115.72it/s]"
     ]
    },
    {
     "name": "stderr",
     "output_type": "stream",
     "text": [
      "\r",
      "Step 2/3 :  16%|█▋        | 814/5000 [00:15<00:36, 115.72it/s]"
     ]
    },
    {
     "name": "stderr",
     "output_type": "stream",
     "text": [
      "\r",
      "Step 2/3 :  17%|█▋        | 826/5000 [00:15<00:35, 116.60it/s]"
     ]
    },
    {
     "name": "stderr",
     "output_type": "stream",
     "text": [
      "\r",
      "Step 2/3 :  17%|█▋        | 826/5000 [00:15<00:35, 116.60it/s]"
     ]
    },
    {
     "name": "stderr",
     "output_type": "stream",
     "text": [
      "\r",
      "Step 2/3 :  17%|█▋        | 826/5000 [00:15<00:35, 116.60it/s]"
     ]
    },
    {
     "name": "stderr",
     "output_type": "stream",
     "text": [
      "\r",
      "Step 2/3 :  17%|█▋        | 826/5000 [00:15<00:35, 116.60it/s]"
     ]
    },
    {
     "name": "stderr",
     "output_type": "stream",
     "text": [
      "\r",
      "Step 2/3 :  17%|█▋        | 826/5000 [00:15<00:35, 116.60it/s]"
     ]
    },
    {
     "name": "stderr",
     "output_type": "stream",
     "text": [
      "\r",
      "Step 2/3 :  17%|█▋        | 826/5000 [00:15<00:35, 116.60it/s]"
     ]
    },
    {
     "name": "stderr",
     "output_type": "stream",
     "text": [
      "\r",
      "Step 2/3 :  17%|█▋        | 826/5000 [00:15<00:35, 116.60it/s]"
     ]
    },
    {
     "name": "stderr",
     "output_type": "stream",
     "text": [
      "\r",
      "Step 2/3 :  17%|█▋        | 826/5000 [00:15<00:35, 116.60it/s]"
     ]
    },
    {
     "name": "stderr",
     "output_type": "stream",
     "text": [
      "\r",
      "Step 2/3 :  17%|█▋        | 826/5000 [00:15<00:35, 116.60it/s]"
     ]
    },
    {
     "name": "stderr",
     "output_type": "stream",
     "text": [
      "\r",
      "Step 2/3 :  17%|█▋        | 826/5000 [00:15<00:35, 116.60it/s]"
     ]
    },
    {
     "name": "stderr",
     "output_type": "stream",
     "text": [
      "\r",
      "Step 2/3 :  17%|█▋        | 826/5000 [00:15<00:35, 116.60it/s]"
     ]
    },
    {
     "name": "stderr",
     "output_type": "stream",
     "text": [
      "\r",
      "Step 2/3 :  17%|█▋        | 826/5000 [00:15<00:35, 116.60it/s]"
     ]
    },
    {
     "name": "stderr",
     "output_type": "stream",
     "text": [
      "\r",
      "Step 2/3 :  17%|█▋        | 826/5000 [00:15<00:35, 116.60it/s]"
     ]
    },
    {
     "name": "stderr",
     "output_type": "stream",
     "text": [
      "\r",
      "Step 2/3 :  17%|█▋        | 826/5000 [00:16<00:35, 116.60it/s]"
     ]
    },
    {
     "name": "stderr",
     "output_type": "stream",
     "text": [
      "\r",
      "Step 2/3 :  17%|█▋        | 839/5000 [00:16<00:35, 117.78it/s]"
     ]
    },
    {
     "name": "stderr",
     "output_type": "stream",
     "text": [
      "\r",
      "Step 2/3 :  17%|█▋        | 839/5000 [00:16<00:35, 117.78it/s]"
     ]
    },
    {
     "name": "stderr",
     "output_type": "stream",
     "text": [
      "\r",
      "Step 2/3 :  17%|█▋        | 839/5000 [00:16<00:35, 117.78it/s]"
     ]
    },
    {
     "name": "stderr",
     "output_type": "stream",
     "text": [
      "\r",
      "Step 2/3 :  17%|█▋        | 839/5000 [00:16<00:35, 117.78it/s]"
     ]
    },
    {
     "name": "stderr",
     "output_type": "stream",
     "text": [
      "\r",
      "Step 2/3 :  17%|█▋        | 839/5000 [00:16<00:35, 117.78it/s]"
     ]
    },
    {
     "name": "stderr",
     "output_type": "stream",
     "text": [
      "\r",
      "Step 2/3 :  17%|█▋        | 839/5000 [00:16<00:35, 117.78it/s]"
     ]
    },
    {
     "name": "stderr",
     "output_type": "stream",
     "text": [
      "\r",
      "Step 2/3 :  17%|█▋        | 839/5000 [00:16<00:35, 117.78it/s]"
     ]
    },
    {
     "name": "stderr",
     "output_type": "stream",
     "text": [
      "\r",
      "Step 2/3 :  17%|█▋        | 839/5000 [00:16<00:35, 117.78it/s]"
     ]
    },
    {
     "name": "stderr",
     "output_type": "stream",
     "text": [
      "\r",
      "Step 2/3 :  17%|█▋        | 839/5000 [00:16<00:35, 117.78it/s]"
     ]
    },
    {
     "name": "stderr",
     "output_type": "stream",
     "text": [
      "\r",
      "Step 2/3 :  17%|█▋        | 839/5000 [00:16<00:35, 117.78it/s]"
     ]
    },
    {
     "name": "stderr",
     "output_type": "stream",
     "text": [
      "\r",
      "Step 2/3 :  17%|█▋        | 839/5000 [00:16<00:35, 117.78it/s]"
     ]
    },
    {
     "name": "stderr",
     "output_type": "stream",
     "text": [
      "\r",
      "Step 2/3 :  17%|█▋        | 839/5000 [00:16<00:35, 117.78it/s]"
     ]
    },
    {
     "name": "stderr",
     "output_type": "stream",
     "text": [
      "\r",
      "Step 2/3 :  17%|█▋        | 839/5000 [00:16<00:35, 117.78it/s]"
     ]
    },
    {
     "name": "stderr",
     "output_type": "stream",
     "text": [
      "\r",
      "Step 2/3 :  17%|█▋        | 851/5000 [00:16<00:35, 117.74it/s]"
     ]
    },
    {
     "name": "stderr",
     "output_type": "stream",
     "text": [
      "\r",
      "Step 2/3 :  17%|█▋        | 851/5000 [00:16<00:35, 117.74it/s]"
     ]
    },
    {
     "name": "stderr",
     "output_type": "stream",
     "text": [
      "\r",
      "Step 2/3 :  17%|█▋        | 851/5000 [00:16<00:35, 117.74it/s]"
     ]
    },
    {
     "name": "stderr",
     "output_type": "stream",
     "text": [
      "\r",
      "Step 2/3 :  17%|█▋        | 851/5000 [00:16<00:35, 117.74it/s]"
     ]
    },
    {
     "name": "stderr",
     "output_type": "stream",
     "text": [
      "\r",
      "Step 2/3 :  17%|█▋        | 851/5000 [00:16<00:35, 117.74it/s]"
     ]
    },
    {
     "name": "stderr",
     "output_type": "stream",
     "text": [
      "\r",
      "Step 2/3 :  17%|█▋        | 851/5000 [00:16<00:35, 117.74it/s]"
     ]
    },
    {
     "name": "stderr",
     "output_type": "stream",
     "text": [
      "\r",
      "Step 2/3 :  17%|█▋        | 851/5000 [00:16<00:35, 117.74it/s]"
     ]
    },
    {
     "name": "stderr",
     "output_type": "stream",
     "text": [
      "\r",
      "Step 2/3 :  17%|█▋        | 851/5000 [00:16<00:35, 117.74it/s]"
     ]
    },
    {
     "name": "stderr",
     "output_type": "stream",
     "text": [
      "\r",
      "Step 2/3 :  17%|█▋        | 851/5000 [00:16<00:35, 117.74it/s]"
     ]
    },
    {
     "name": "stderr",
     "output_type": "stream",
     "text": [
      "\r",
      "Step 2/3 :  17%|█▋        | 851/5000 [00:16<00:35, 117.74it/s]"
     ]
    },
    {
     "name": "stderr",
     "output_type": "stream",
     "text": [
      "\r",
      "Step 2/3 :  17%|█▋        | 851/5000 [00:16<00:35, 117.74it/s]"
     ]
    },
    {
     "name": "stderr",
     "output_type": "stream",
     "text": [
      "\r",
      "Step 2/3 :  17%|█▋        | 851/5000 [00:16<00:35, 117.74it/s]"
     ]
    },
    {
     "name": "stderr",
     "output_type": "stream",
     "text": [
      "\r",
      "Step 2/3 :  17%|█▋        | 851/5000 [00:16<00:35, 117.74it/s]"
     ]
    },
    {
     "name": "stderr",
     "output_type": "stream",
     "text": [
      "\r",
      "Step 2/3 :  17%|█▋        | 863/5000 [00:16<00:35, 115.27it/s]"
     ]
    },
    {
     "name": "stderr",
     "output_type": "stream",
     "text": [
      "\r",
      "Step 2/3 :  17%|█▋        | 863/5000 [00:16<00:35, 115.27it/s]"
     ]
    },
    {
     "name": "stderr",
     "output_type": "stream",
     "text": [
      "\r",
      "Step 2/3 :  17%|█▋        | 863/5000 [00:16<00:35, 115.27it/s]"
     ]
    },
    {
     "name": "stderr",
     "output_type": "stream",
     "text": [
      "\r",
      "Step 2/3 :  17%|█▋        | 863/5000 [00:16<00:35, 115.27it/s]"
     ]
    },
    {
     "name": "stderr",
     "output_type": "stream",
     "text": [
      "\r",
      "Step 2/3 :  17%|█▋        | 863/5000 [00:16<00:35, 115.27it/s]"
     ]
    },
    {
     "name": "stderr",
     "output_type": "stream",
     "text": [
      "\r",
      "Step 2/3 :  17%|█▋        | 863/5000 [00:16<00:35, 115.27it/s]"
     ]
    },
    {
     "name": "stderr",
     "output_type": "stream",
     "text": [
      "\r",
      "Step 2/3 :  17%|█▋        | 863/5000 [00:16<00:35, 115.27it/s]"
     ]
    },
    {
     "name": "stderr",
     "output_type": "stream",
     "text": [
      "\r",
      "Step 2/3 :  17%|█▋        | 863/5000 [00:16<00:35, 115.27it/s]"
     ]
    },
    {
     "name": "stderr",
     "output_type": "stream",
     "text": [
      "\r",
      "Step 2/3 :  17%|█▋        | 863/5000 [00:16<00:35, 115.27it/s]"
     ]
    },
    {
     "name": "stderr",
     "output_type": "stream",
     "text": [
      "\r",
      "Step 2/3 :  17%|█▋        | 863/5000 [00:16<00:35, 115.27it/s]"
     ]
    },
    {
     "name": "stderr",
     "output_type": "stream",
     "text": [
      "\r",
      "Step 2/3 :  17%|█▋        | 863/5000 [00:16<00:35, 115.27it/s]"
     ]
    },
    {
     "name": "stderr",
     "output_type": "stream",
     "text": [
      "\r",
      "Step 2/3 :  17%|█▋        | 863/5000 [00:16<00:35, 115.27it/s]"
     ]
    },
    {
     "name": "stderr",
     "output_type": "stream",
     "text": [
      "\r",
      "Step 2/3 :  17%|█▋        | 863/5000 [00:16<00:35, 115.27it/s]"
     ]
    },
    {
     "name": "stderr",
     "output_type": "stream",
     "text": [
      "\r",
      "Step 2/3 :  18%|█▊        | 875/5000 [00:16<00:41, 98.80it/s] "
     ]
    },
    {
     "name": "stderr",
     "output_type": "stream",
     "text": [
      "\r",
      "Step 2/3 :  18%|█▊        | 875/5000 [00:16<00:41, 98.80it/s]"
     ]
    },
    {
     "name": "stderr",
     "output_type": "stream",
     "text": [
      "\r",
      "Step 2/3 :  18%|█▊        | 875/5000 [00:16<00:41, 98.80it/s]"
     ]
    },
    {
     "name": "stderr",
     "output_type": "stream",
     "text": [
      "\r",
      "Step 2/3 :  18%|█▊        | 875/5000 [00:16<00:41, 98.80it/s]"
     ]
    },
    {
     "name": "stderr",
     "output_type": "stream",
     "text": [
      "\r",
      "Step 2/3 :  18%|█▊        | 875/5000 [00:16<00:41, 98.80it/s]"
     ]
    },
    {
     "name": "stderr",
     "output_type": "stream",
     "text": [
      "\r",
      "Step 2/3 :  18%|█▊        | 875/5000 [00:16<00:41, 98.80it/s]"
     ]
    },
    {
     "name": "stderr",
     "output_type": "stream",
     "text": [
      "\r",
      "Step 2/3 :  18%|█▊        | 875/5000 [00:16<00:41, 98.80it/s]"
     ]
    },
    {
     "name": "stderr",
     "output_type": "stream",
     "text": [
      "\r",
      "Step 2/3 :  18%|█▊        | 875/5000 [00:16<00:41, 98.80it/s]"
     ]
    },
    {
     "name": "stderr",
     "output_type": "stream",
     "text": [
      "\r",
      "Step 2/3 :  18%|█▊        | 875/5000 [00:16<00:41, 98.80it/s]"
     ]
    },
    {
     "name": "stderr",
     "output_type": "stream",
     "text": [
      "\r",
      "Step 2/3 :  18%|█▊        | 875/5000 [00:16<00:41, 98.80it/s]"
     ]
    },
    {
     "name": "stderr",
     "output_type": "stream",
     "text": [
      "\r",
      "Step 2/3 :  18%|█▊        | 875/5000 [00:16<00:41, 98.80it/s]"
     ]
    },
    {
     "name": "stderr",
     "output_type": "stream",
     "text": [
      "\r",
      "Step 2/3 :  18%|█▊        | 875/5000 [00:16<00:41, 98.80it/s]"
     ]
    },
    {
     "name": "stderr",
     "output_type": "stream",
     "text": [
      "\r",
      "Step 2/3 :  18%|█▊        | 886/5000 [00:16<00:43, 94.60it/s]"
     ]
    },
    {
     "name": "stderr",
     "output_type": "stream",
     "text": [
      "\r",
      "Step 2/3 :  18%|█▊        | 886/5000 [00:16<00:43, 94.60it/s]"
     ]
    },
    {
     "name": "stderr",
     "output_type": "stream",
     "text": [
      "\r",
      "Step 2/3 :  18%|█▊        | 886/5000 [00:16<00:43, 94.60it/s]"
     ]
    },
    {
     "name": "stderr",
     "output_type": "stream",
     "text": [
      "\r",
      "Step 2/3 :  18%|█▊        | 886/5000 [00:16<00:43, 94.60it/s]"
     ]
    },
    {
     "name": "stderr",
     "output_type": "stream",
     "text": [
      "\r",
      "Step 2/3 :  18%|█▊        | 886/5000 [00:16<00:43, 94.60it/s]"
     ]
    },
    {
     "name": "stderr",
     "output_type": "stream",
     "text": [
      "\r",
      "Step 2/3 :  18%|█▊        | 886/5000 [00:16<00:43, 94.60it/s]"
     ]
    },
    {
     "name": "stderr",
     "output_type": "stream",
     "text": [
      "\r",
      "Step 2/3 :  18%|█▊        | 886/5000 [00:16<00:43, 94.60it/s]"
     ]
    },
    {
     "name": "stderr",
     "output_type": "stream",
     "text": [
      "\r",
      "Step 2/3 :  18%|█▊        | 886/5000 [00:16<00:43, 94.60it/s]"
     ]
    },
    {
     "name": "stderr",
     "output_type": "stream",
     "text": [
      "\r",
      "Step 2/3 :  18%|█▊        | 886/5000 [00:16<00:43, 94.60it/s]"
     ]
    },
    {
     "name": "stderr",
     "output_type": "stream",
     "text": [
      "\r",
      "Step 2/3 :  18%|█▊        | 886/5000 [00:16<00:43, 94.60it/s]"
     ]
    },
    {
     "name": "stderr",
     "output_type": "stream",
     "text": [
      "\r",
      "Step 2/3 :  18%|█▊        | 886/5000 [00:16<00:43, 94.60it/s]"
     ]
    },
    {
     "name": "stderr",
     "output_type": "stream",
     "text": [
      "\r",
      "Step 2/3 :  18%|█▊        | 896/5000 [00:16<00:43, 95.25it/s]"
     ]
    },
    {
     "name": "stderr",
     "output_type": "stream",
     "text": [
      "\r",
      "Step 2/3 :  18%|█▊        | 896/5000 [00:16<00:43, 95.25it/s]"
     ]
    },
    {
     "name": "stderr",
     "output_type": "stream",
     "text": [
      "\r",
      "Step 2/3 :  18%|█▊        | 896/5000 [00:16<00:43, 95.25it/s]"
     ]
    },
    {
     "name": "stderr",
     "output_type": "stream",
     "text": [
      "\r",
      "Step 2/3 :  18%|█▊        | 896/5000 [00:16<00:43, 95.25it/s]"
     ]
    },
    {
     "name": "stderr",
     "output_type": "stream",
     "text": [
      "\r",
      "Step 2/3 :  18%|█▊        | 896/5000 [00:16<00:43, 95.25it/s]"
     ]
    },
    {
     "name": "stderr",
     "output_type": "stream",
     "text": [
      "\r",
      "Step 2/3 :  18%|█▊        | 896/5000 [00:16<00:43, 95.25it/s]"
     ]
    },
    {
     "name": "stderr",
     "output_type": "stream",
     "text": [
      "\r",
      "Step 2/3 :  18%|█▊        | 896/5000 [00:16<00:43, 95.25it/s]"
     ]
    },
    {
     "name": "stderr",
     "output_type": "stream",
     "text": [
      "\r",
      "Step 2/3 :  18%|█▊        | 896/5000 [00:16<00:43, 95.25it/s]"
     ]
    },
    {
     "name": "stderr",
     "output_type": "stream",
     "text": [
      "\r",
      "Step 2/3 :  18%|█▊        | 896/5000 [00:16<00:43, 95.25it/s]"
     ]
    },
    {
     "name": "stderr",
     "output_type": "stream",
     "text": [
      "\r",
      "Step 2/3 :  18%|█▊        | 896/5000 [00:16<00:43, 95.25it/s]"
     ]
    },
    {
     "name": "stderr",
     "output_type": "stream",
     "text": [
      "\r",
      "Step 2/3 :  18%|█▊        | 896/5000 [00:16<00:43, 95.25it/s]"
     ]
    },
    {
     "name": "stderr",
     "output_type": "stream",
     "text": [
      "\r",
      "Step 2/3 :  18%|█▊        | 896/5000 [00:16<00:43, 95.25it/s]"
     ]
    },
    {
     "name": "stderr",
     "output_type": "stream",
     "text": [
      "\r",
      "Step 2/3 :  18%|█▊        | 896/5000 [00:16<00:43, 95.25it/s]"
     ]
    },
    {
     "name": "stderr",
     "output_type": "stream",
     "text": [
      "\r",
      "Step 2/3 :  18%|█▊        | 908/5000 [00:16<00:40, 101.57it/s]"
     ]
    },
    {
     "name": "stderr",
     "output_type": "stream",
     "text": [
      "\r",
      "Step 2/3 :  18%|█▊        | 908/5000 [00:16<00:40, 101.57it/s]"
     ]
    },
    {
     "name": "stderr",
     "output_type": "stream",
     "text": [
      "\r",
      "Step 2/3 :  18%|█▊        | 908/5000 [00:16<00:40, 101.57it/s]"
     ]
    },
    {
     "name": "stderr",
     "output_type": "stream",
     "text": [
      "\r",
      "Step 2/3 :  18%|█▊        | 908/5000 [00:16<00:40, 101.57it/s]"
     ]
    },
    {
     "name": "stderr",
     "output_type": "stream",
     "text": [
      "\r",
      "Step 2/3 :  18%|█▊        | 908/5000 [00:16<00:40, 101.57it/s]"
     ]
    },
    {
     "name": "stderr",
     "output_type": "stream",
     "text": [
      "\r",
      "Step 2/3 :  18%|█▊        | 908/5000 [00:16<00:40, 101.57it/s]"
     ]
    },
    {
     "name": "stderr",
     "output_type": "stream",
     "text": [
      "\r",
      "Step 2/3 :  18%|█▊        | 908/5000 [00:16<00:40, 101.57it/s]"
     ]
    },
    {
     "name": "stderr",
     "output_type": "stream",
     "text": [
      "\r",
      "Step 2/3 :  18%|█▊        | 908/5000 [00:16<00:40, 101.57it/s]"
     ]
    },
    {
     "name": "stderr",
     "output_type": "stream",
     "text": [
      "\r",
      "Step 2/3 :  18%|█▊        | 908/5000 [00:16<00:40, 101.57it/s]"
     ]
    },
    {
     "name": "stderr",
     "output_type": "stream",
     "text": [
      "\r",
      "Step 2/3 :  18%|█▊        | 908/5000 [00:16<00:40, 101.57it/s]"
     ]
    },
    {
     "name": "stderr",
     "output_type": "stream",
     "text": [
      "\r",
      "Step 2/3 :  18%|█▊        | 908/5000 [00:16<00:40, 101.57it/s]"
     ]
    },
    {
     "name": "stderr",
     "output_type": "stream",
     "text": [
      "\r",
      "Step 2/3 :  18%|█▊        | 908/5000 [00:16<00:40, 101.57it/s]"
     ]
    },
    {
     "name": "stderr",
     "output_type": "stream",
     "text": [
      "\r",
      "Step 2/3 :  18%|█▊        | 919/5000 [00:16<00:41, 97.71it/s] "
     ]
    },
    {
     "name": "stderr",
     "output_type": "stream",
     "text": [
      "\r",
      "Step 2/3 :  18%|█▊        | 919/5000 [00:16<00:41, 97.71it/s]"
     ]
    },
    {
     "name": "stderr",
     "output_type": "stream",
     "text": [
      "\r",
      "Step 2/3 :  18%|█▊        | 919/5000 [00:16<00:41, 97.71it/s]"
     ]
    },
    {
     "name": "stderr",
     "output_type": "stream",
     "text": [
      "\r",
      "Step 2/3 :  18%|█▊        | 919/5000 [00:16<00:41, 97.71it/s]"
     ]
    },
    {
     "name": "stderr",
     "output_type": "stream",
     "text": [
      "\r",
      "Step 2/3 :  18%|█▊        | 919/5000 [00:16<00:41, 97.71it/s]"
     ]
    },
    {
     "name": "stderr",
     "output_type": "stream",
     "text": [
      "\r",
      "Step 2/3 :  18%|█▊        | 919/5000 [00:16<00:41, 97.71it/s]"
     ]
    },
    {
     "name": "stderr",
     "output_type": "stream",
     "text": [
      "\r",
      "Step 2/3 :  18%|█▊        | 919/5000 [00:16<00:41, 97.71it/s]"
     ]
    },
    {
     "name": "stderr",
     "output_type": "stream",
     "text": [
      "\r",
      "Step 2/3 :  18%|█▊        | 919/5000 [00:16<00:41, 97.71it/s]"
     ]
    },
    {
     "name": "stderr",
     "output_type": "stream",
     "text": [
      "\r",
      "Step 2/3 :  18%|█▊        | 919/5000 [00:16<00:41, 97.71it/s]"
     ]
    },
    {
     "name": "stderr",
     "output_type": "stream",
     "text": [
      "\r",
      "Step 2/3 :  18%|█▊        | 919/5000 [00:16<00:41, 97.71it/s]"
     ]
    },
    {
     "name": "stderr",
     "output_type": "stream",
     "text": [
      "\r",
      "Step 2/3 :  18%|█▊        | 919/5000 [00:16<00:41, 97.71it/s]"
     ]
    },
    {
     "name": "stderr",
     "output_type": "stream",
     "text": [
      "\r",
      "Step 2/3 :  19%|█▊        | 929/5000 [00:16<00:42, 96.25it/s]"
     ]
    },
    {
     "name": "stderr",
     "output_type": "stream",
     "text": [
      "\r",
      "Step 2/3 :  19%|█▊        | 929/5000 [00:16<00:42, 96.25it/s]"
     ]
    },
    {
     "name": "stderr",
     "output_type": "stream",
     "text": [
      "\r",
      "Step 2/3 :  19%|█▊        | 929/5000 [00:16<00:42, 96.25it/s]"
     ]
    },
    {
     "name": "stderr",
     "output_type": "stream",
     "text": [
      "\r",
      "Step 2/3 :  19%|█▊        | 929/5000 [00:16<00:42, 96.25it/s]"
     ]
    },
    {
     "name": "stderr",
     "output_type": "stream",
     "text": [
      "\r",
      "Step 2/3 :  19%|█▊        | 929/5000 [00:16<00:42, 96.25it/s]"
     ]
    },
    {
     "name": "stderr",
     "output_type": "stream",
     "text": [
      "\r",
      "Step 2/3 :  19%|█▊        | 929/5000 [00:16<00:42, 96.25it/s]"
     ]
    },
    {
     "name": "stderr",
     "output_type": "stream",
     "text": [
      "\r",
      "Step 2/3 :  19%|█▊        | 929/5000 [00:16<00:42, 96.25it/s]"
     ]
    },
    {
     "name": "stderr",
     "output_type": "stream",
     "text": [
      "\r",
      "Step 2/3 :  19%|█▊        | 929/5000 [00:17<00:42, 96.25it/s]"
     ]
    },
    {
     "name": "stderr",
     "output_type": "stream",
     "text": [
      "\r",
      "Step 2/3 :  19%|█▊        | 929/5000 [00:17<00:42, 96.25it/s]"
     ]
    },
    {
     "name": "stderr",
     "output_type": "stream",
     "text": [
      "\r",
      "Step 2/3 :  19%|█▊        | 929/5000 [00:17<00:42, 96.25it/s]"
     ]
    },
    {
     "name": "stderr",
     "output_type": "stream",
     "text": [
      "\r",
      "Step 2/3 :  19%|█▊        | 929/5000 [00:17<00:42, 96.25it/s]"
     ]
    },
    {
     "name": "stderr",
     "output_type": "stream",
     "text": [
      "\r",
      "Step 2/3 :  19%|█▊        | 929/5000 [00:17<00:42, 96.25it/s]"
     ]
    },
    {
     "name": "stderr",
     "output_type": "stream",
     "text": [
      "\r",
      "Step 2/3 :  19%|█▊        | 929/5000 [00:17<00:42, 96.25it/s]"
     ]
    },
    {
     "name": "stderr",
     "output_type": "stream",
     "text": [
      "\r",
      "Step 2/3 :  19%|█▉        | 941/5000 [00:17<00:40, 101.09it/s]"
     ]
    },
    {
     "name": "stderr",
     "output_type": "stream",
     "text": [
      "\r",
      "Step 2/3 :  19%|█▉        | 941/5000 [00:17<00:40, 101.09it/s]"
     ]
    },
    {
     "name": "stderr",
     "output_type": "stream",
     "text": [
      "\r",
      "Step 2/3 :  19%|█▉        | 941/5000 [00:17<00:40, 101.09it/s]"
     ]
    },
    {
     "name": "stderr",
     "output_type": "stream",
     "text": [
      "\r",
      "Step 2/3 :  19%|█▉        | 941/5000 [00:17<00:40, 101.09it/s]"
     ]
    },
    {
     "name": "stderr",
     "output_type": "stream",
     "text": [
      "\r",
      "Step 2/3 :  19%|█▉        | 941/5000 [00:17<00:40, 101.09it/s]"
     ]
    },
    {
     "name": "stderr",
     "output_type": "stream",
     "text": [
      "\r",
      "Step 2/3 :  19%|█▉        | 941/5000 [00:17<00:40, 101.09it/s]"
     ]
    },
    {
     "name": "stderr",
     "output_type": "stream",
     "text": [
      "\r",
      "Step 2/3 :  19%|█▉        | 941/5000 [00:17<00:40, 101.09it/s]"
     ]
    },
    {
     "name": "stderr",
     "output_type": "stream",
     "text": [
      "\r",
      "Step 2/3 :  19%|█▉        | 941/5000 [00:17<00:40, 101.09it/s]"
     ]
    },
    {
     "name": "stderr",
     "output_type": "stream",
     "text": [
      "\r",
      "Step 2/3 :  19%|█▉        | 941/5000 [00:17<00:40, 101.09it/s]"
     ]
    },
    {
     "name": "stderr",
     "output_type": "stream",
     "text": [
      "\r",
      "Step 2/3 :  19%|█▉        | 941/5000 [00:17<00:40, 101.09it/s]"
     ]
    },
    {
     "name": "stderr",
     "output_type": "stream",
     "text": [
      "\r",
      "Step 2/3 :  19%|█▉        | 941/5000 [00:17<00:40, 101.09it/s]"
     ]
    },
    {
     "name": "stderr",
     "output_type": "stream",
     "text": [
      "\r",
      "Step 2/3 :  19%|█▉        | 941/5000 [00:17<00:40, 101.09it/s]"
     ]
    },
    {
     "name": "stderr",
     "output_type": "stream",
     "text": [
      "\r",
      "Step 2/3 :  19%|█▉        | 952/5000 [00:17<00:41, 96.59it/s] "
     ]
    },
    {
     "name": "stderr",
     "output_type": "stream",
     "text": [
      "\r",
      "Step 2/3 :  19%|█▉        | 952/5000 [00:17<00:41, 96.59it/s]"
     ]
    },
    {
     "name": "stderr",
     "output_type": "stream",
     "text": [
      "\r",
      "Step 2/3 :  19%|█▉        | 952/5000 [00:17<00:41, 96.59it/s]"
     ]
    },
    {
     "name": "stderr",
     "output_type": "stream",
     "text": [
      "\r",
      "Step 2/3 :  19%|█▉        | 952/5000 [00:17<00:41, 96.59it/s]"
     ]
    },
    {
     "name": "stderr",
     "output_type": "stream",
     "text": [
      "\r",
      "Step 2/3 :  19%|█▉        | 952/5000 [00:17<00:41, 96.59it/s]"
     ]
    },
    {
     "name": "stderr",
     "output_type": "stream",
     "text": [
      "\r",
      "Step 2/3 :  19%|█▉        | 952/5000 [00:17<00:41, 96.59it/s]"
     ]
    },
    {
     "name": "stderr",
     "output_type": "stream",
     "text": [
      "\r",
      "Step 2/3 :  19%|█▉        | 952/5000 [00:17<00:41, 96.59it/s]"
     ]
    },
    {
     "name": "stderr",
     "output_type": "stream",
     "text": [
      "\r",
      "Step 2/3 :  19%|█▉        | 952/5000 [00:17<00:41, 96.59it/s]"
     ]
    },
    {
     "name": "stderr",
     "output_type": "stream",
     "text": [
      "\r",
      "Step 2/3 :  19%|█▉        | 952/5000 [00:17<00:41, 96.59it/s]"
     ]
    },
    {
     "name": "stderr",
     "output_type": "stream",
     "text": [
      "\r",
      "Step 2/3 :  19%|█▉        | 952/5000 [00:17<00:41, 96.59it/s]"
     ]
    },
    {
     "name": "stderr",
     "output_type": "stream",
     "text": [
      "\r",
      "Step 2/3 :  19%|█▉        | 952/5000 [00:17<00:41, 96.59it/s]"
     ]
    },
    {
     "name": "stderr",
     "output_type": "stream",
     "text": [
      "\r",
      "Step 2/3 :  19%|█▉        | 962/5000 [00:17<00:42, 94.32it/s]"
     ]
    },
    {
     "name": "stderr",
     "output_type": "stream",
     "text": [
      "\r",
      "Step 2/3 :  19%|█▉        | 962/5000 [00:17<00:42, 94.32it/s]"
     ]
    },
    {
     "name": "stderr",
     "output_type": "stream",
     "text": [
      "\r",
      "Step 2/3 :  19%|█▉        | 962/5000 [00:17<00:42, 94.32it/s]"
     ]
    },
    {
     "name": "stderr",
     "output_type": "stream",
     "text": [
      "\r",
      "Step 2/3 :  19%|█▉        | 962/5000 [00:17<00:42, 94.32it/s]"
     ]
    },
    {
     "name": "stderr",
     "output_type": "stream",
     "text": [
      "\r",
      "Step 2/3 :  19%|█▉        | 962/5000 [00:17<00:42, 94.32it/s]"
     ]
    },
    {
     "name": "stderr",
     "output_type": "stream",
     "text": [
      "\r",
      "Step 2/3 :  19%|█▉        | 962/5000 [00:17<00:42, 94.32it/s]"
     ]
    },
    {
     "name": "stderr",
     "output_type": "stream",
     "text": [
      "\r",
      "Step 2/3 :  19%|█▉        | 962/5000 [00:17<00:42, 94.32it/s]"
     ]
    },
    {
     "name": "stderr",
     "output_type": "stream",
     "text": [
      "\r",
      "Step 2/3 :  19%|█▉        | 962/5000 [00:17<00:42, 94.32it/s]"
     ]
    },
    {
     "name": "stderr",
     "output_type": "stream",
     "text": [
      "\r",
      "Step 2/3 :  19%|█▉        | 962/5000 [00:17<00:42, 94.32it/s]"
     ]
    },
    {
     "name": "stderr",
     "output_type": "stream",
     "text": [
      "\r",
      "Step 2/3 :  19%|█▉        | 962/5000 [00:17<00:42, 94.32it/s]"
     ]
    },
    {
     "name": "stderr",
     "output_type": "stream",
     "text": [
      "\r",
      "Step 2/3 :  19%|█▉        | 962/5000 [00:17<00:42, 94.32it/s]"
     ]
    },
    {
     "name": "stderr",
     "output_type": "stream",
     "text": [
      "\r",
      "Step 2/3 :  19%|█▉        | 962/5000 [00:17<00:42, 94.32it/s]"
     ]
    },
    {
     "name": "stderr",
     "output_type": "stream",
     "text": [
      "\r",
      "Step 2/3 :  19%|█▉        | 973/5000 [00:17<00:40, 98.31it/s]"
     ]
    },
    {
     "name": "stderr",
     "output_type": "stream",
     "text": [
      "\r",
      "Step 2/3 :  19%|█▉        | 973/5000 [00:17<00:40, 98.31it/s]"
     ]
    },
    {
     "name": "stderr",
     "output_type": "stream",
     "text": [
      "\r",
      "Step 2/3 :  19%|█▉        | 973/5000 [00:17<00:40, 98.31it/s]"
     ]
    },
    {
     "name": "stderr",
     "output_type": "stream",
     "text": [
      "\r",
      "Step 2/3 :  19%|█▉        | 973/5000 [00:17<00:40, 98.31it/s]"
     ]
    },
    {
     "name": "stderr",
     "output_type": "stream",
     "text": [
      "\r",
      "Step 2/3 :  19%|█▉        | 973/5000 [00:17<00:40, 98.31it/s]"
     ]
    },
    {
     "name": "stderr",
     "output_type": "stream",
     "text": [
      "\r",
      "Step 2/3 :  19%|█▉        | 973/5000 [00:17<00:40, 98.31it/s]"
     ]
    },
    {
     "name": "stderr",
     "output_type": "stream",
     "text": [
      "\r",
      "Step 2/3 :  19%|█▉        | 973/5000 [00:17<00:40, 98.31it/s]"
     ]
    },
    {
     "name": "stderr",
     "output_type": "stream",
     "text": [
      "\r",
      "Step 2/3 :  19%|█▉        | 973/5000 [00:17<00:40, 98.31it/s]"
     ]
    },
    {
     "name": "stderr",
     "output_type": "stream",
     "text": [
      "\r",
      "Step 2/3 :  19%|█▉        | 973/5000 [00:17<00:40, 98.31it/s]"
     ]
    },
    {
     "name": "stderr",
     "output_type": "stream",
     "text": [
      "\r",
      "Step 2/3 :  19%|█▉        | 973/5000 [00:17<00:40, 98.31it/s]"
     ]
    },
    {
     "name": "stderr",
     "output_type": "stream",
     "text": [
      "\r",
      "Step 2/3 :  19%|█▉        | 973/5000 [00:17<00:40, 98.31it/s]"
     ]
    },
    {
     "name": "stderr",
     "output_type": "stream",
     "text": [
      "\r",
      "Step 2/3 :  19%|█▉        | 973/5000 [00:17<00:40, 98.31it/s]"
     ]
    },
    {
     "name": "stderr",
     "output_type": "stream",
     "text": [
      "\r",
      "Step 2/3 :  20%|█▉        | 984/5000 [00:17<00:40, 100.17it/s]"
     ]
    },
    {
     "name": "stderr",
     "output_type": "stream",
     "text": [
      "\r",
      "Step 2/3 :  20%|█▉        | 984/5000 [00:17<00:40, 100.17it/s]"
     ]
    },
    {
     "name": "stderr",
     "output_type": "stream",
     "text": [
      "\r",
      "Step 2/3 :  20%|█▉        | 984/5000 [00:17<00:40, 100.17it/s]"
     ]
    },
    {
     "name": "stderr",
     "output_type": "stream",
     "text": [
      "\r",
      "Step 2/3 :  20%|█▉        | 984/5000 [00:17<00:40, 100.17it/s]"
     ]
    },
    {
     "name": "stderr",
     "output_type": "stream",
     "text": [
      "\r",
      "Step 2/3 :  20%|█▉        | 984/5000 [00:17<00:40, 100.17it/s]"
     ]
    },
    {
     "name": "stderr",
     "output_type": "stream",
     "text": [
      "\r",
      "Step 2/3 :  20%|█▉        | 984/5000 [00:17<00:40, 100.17it/s]"
     ]
    },
    {
     "name": "stderr",
     "output_type": "stream",
     "text": [
      "\r",
      "Step 2/3 :  20%|█▉        | 984/5000 [00:17<00:40, 100.17it/s]"
     ]
    },
    {
     "name": "stderr",
     "output_type": "stream",
     "text": [
      "\r",
      "Step 2/3 :  20%|█▉        | 984/5000 [00:17<00:40, 100.17it/s]"
     ]
    },
    {
     "name": "stderr",
     "output_type": "stream",
     "text": [
      "\r",
      "Step 2/3 :  20%|█▉        | 984/5000 [00:17<00:40, 100.17it/s]"
     ]
    },
    {
     "name": "stderr",
     "output_type": "stream",
     "text": [
      "\r",
      "Step 2/3 :  20%|█▉        | 984/5000 [00:17<00:40, 100.17it/s]"
     ]
    },
    {
     "name": "stderr",
     "output_type": "stream",
     "text": [
      "\r",
      "Step 2/3 :  20%|█▉        | 984/5000 [00:17<00:40, 100.17it/s]"
     ]
    },
    {
     "name": "stderr",
     "output_type": "stream",
     "text": [
      "\r",
      "Step 2/3 :  20%|█▉        | 984/5000 [00:17<00:40, 100.17it/s]"
     ]
    },
    {
     "name": "stderr",
     "output_type": "stream",
     "text": [
      "\r",
      "Step 2/3 :  20%|█▉        | 995/5000 [00:17<00:39, 101.80it/s]"
     ]
    },
    {
     "name": "stderr",
     "output_type": "stream",
     "text": [
      "\r",
      "Step 2/3 :  20%|█▉        | 995/5000 [00:17<00:39, 101.80it/s]"
     ]
    },
    {
     "name": "stderr",
     "output_type": "stream",
     "text": [
      "\r",
      "Step 2/3 :  20%|█▉        | 995/5000 [00:17<00:39, 101.80it/s]"
     ]
    },
    {
     "name": "stderr",
     "output_type": "stream",
     "text": [
      "\r",
      "Step 2/3 :  20%|█▉        | 995/5000 [00:17<00:39, 101.80it/s]"
     ]
    },
    {
     "name": "stderr",
     "output_type": "stream",
     "text": [
      "\r",
      "Step 2/3 :  20%|█▉        | 995/5000 [00:17<00:39, 101.80it/s]"
     ]
    },
    {
     "name": "stderr",
     "output_type": "stream",
     "text": [
      "\r",
      "Step 2/3 :  20%|█▉        | 995/5000 [00:17<00:39, 101.80it/s]"
     ]
    },
    {
     "name": "stderr",
     "output_type": "stream",
     "text": [
      "\r",
      "Step 3/3 :  20%|█▉        | 995/5000 [00:17<00:39, 101.80it/s]"
     ]
    },
    {
     "name": "stderr",
     "output_type": "stream",
     "text": [
      "\r",
      "Step 3/3 :  20%|█▉        | 995/5000 [00:17<00:39, 101.80it/s]"
     ]
    },
    {
     "name": "stderr",
     "output_type": "stream",
     "text": [
      "\r",
      "Step 3/3 :  20%|█▉        | 995/5000 [00:17<00:39, 101.80it/s]"
     ]
    },
    {
     "name": "stderr",
     "output_type": "stream",
     "text": [
      "\r",
      "Step 3/3 :  20%|█▉        | 995/5000 [00:17<00:39, 101.80it/s]"
     ]
    },
    {
     "name": "stderr",
     "output_type": "stream",
     "text": [
      "\r",
      "Step 3/3 :  20%|█▉        | 995/5000 [00:17<00:39, 101.80it/s]"
     ]
    },
    {
     "name": "stderr",
     "output_type": "stream",
     "text": [
      "\r",
      "Step 3/3 :  20%|█▉        | 995/5000 [00:17<00:39, 101.80it/s]"
     ]
    },
    {
     "name": "stderr",
     "output_type": "stream",
     "text": [
      "\r",
      "Step 3/3 :  20%|██        | 1006/5000 [00:17<00:38, 103.54it/s]"
     ]
    },
    {
     "name": "stderr",
     "output_type": "stream",
     "text": [
      "\r",
      "Step 3/3 :  20%|██        | 1006/5000 [00:17<00:38, 103.54it/s]"
     ]
    },
    {
     "name": "stderr",
     "output_type": "stream",
     "text": [
      "\r",
      "Step 3/3 :  20%|██        | 1006/5000 [00:17<00:38, 103.54it/s]"
     ]
    },
    {
     "name": "stderr",
     "output_type": "stream",
     "text": [
      "\r",
      "Step 3/3 :  20%|██        | 1006/5000 [00:17<00:38, 103.54it/s]"
     ]
    },
    {
     "name": "stderr",
     "output_type": "stream",
     "text": [
      "\r",
      "Step 3/3 :  20%|██        | 1006/5000 [00:17<00:38, 103.54it/s]"
     ]
    },
    {
     "name": "stderr",
     "output_type": "stream",
     "text": [
      "\r",
      "Step 3/3 :  20%|██        | 1006/5000 [00:17<00:38, 103.54it/s]"
     ]
    },
    {
     "name": "stderr",
     "output_type": "stream",
     "text": [
      "\r",
      "Step 3/3 :  20%|██        | 1006/5000 [00:17<00:38, 103.54it/s]"
     ]
    },
    {
     "name": "stderr",
     "output_type": "stream",
     "text": [
      "\r",
      "Step 3/3 :  20%|██        | 1006/5000 [00:17<00:38, 103.54it/s]"
     ]
    },
    {
     "name": "stderr",
     "output_type": "stream",
     "text": [
      "\r",
      "Step 3/3 :  20%|██        | 1006/5000 [00:17<00:38, 103.54it/s]"
     ]
    },
    {
     "name": "stderr",
     "output_type": "stream",
     "text": [
      "\r",
      "Step 3/3 :  20%|██        | 1006/5000 [00:17<00:38, 103.54it/s]"
     ]
    },
    {
     "name": "stderr",
     "output_type": "stream",
     "text": [
      "\r",
      "Step 3/3 :  20%|██        | 1006/5000 [00:17<00:38, 103.54it/s]"
     ]
    },
    {
     "name": "stderr",
     "output_type": "stream",
     "text": [
      "\r",
      "Step 3/3 :  20%|██        | 1006/5000 [00:17<00:38, 103.54it/s]"
     ]
    },
    {
     "name": "stderr",
     "output_type": "stream",
     "text": [
      "\r",
      "Step 3/3 :  20%|██        | 1017/5000 [00:17<00:38, 103.03it/s]"
     ]
    },
    {
     "name": "stderr",
     "output_type": "stream",
     "text": [
      "\r",
      "Step 3/3 :  20%|██        | 1017/5000 [00:17<00:38, 103.03it/s]"
     ]
    },
    {
     "name": "stderr",
     "output_type": "stream",
     "text": [
      "\r",
      "Step 3/3 :  20%|██        | 1017/5000 [00:17<00:38, 103.03it/s]"
     ]
    },
    {
     "name": "stderr",
     "output_type": "stream",
     "text": [
      "\r",
      "Step 3/3 :  20%|██        | 1017/5000 [00:17<00:38, 103.03it/s]"
     ]
    },
    {
     "name": "stderr",
     "output_type": "stream",
     "text": [
      "\r",
      "Step 3/3 :  20%|██        | 1017/5000 [00:17<00:38, 103.03it/s]"
     ]
    },
    {
     "name": "stderr",
     "output_type": "stream",
     "text": [
      "\r",
      "Step 3/3 :  20%|██        | 1017/5000 [00:17<00:38, 103.03it/s]"
     ]
    },
    {
     "name": "stderr",
     "output_type": "stream",
     "text": [
      "\r",
      "Step 3/3 :  20%|██        | 1017/5000 [00:17<00:38, 103.03it/s]"
     ]
    },
    {
     "name": "stderr",
     "output_type": "stream",
     "text": [
      "\r",
      "Step 3/3 :  20%|██        | 1017/5000 [00:17<00:38, 103.03it/s]"
     ]
    },
    {
     "name": "stderr",
     "output_type": "stream",
     "text": [
      "\r",
      "Step 3/3 :  20%|██        | 1017/5000 [00:17<00:38, 103.03it/s]"
     ]
    },
    {
     "name": "stderr",
     "output_type": "stream",
     "text": [
      "\r",
      "Step 3/3 :  20%|██        | 1017/5000 [00:17<00:38, 103.03it/s]"
     ]
    },
    {
     "name": "stderr",
     "output_type": "stream",
     "text": [
      "\r",
      "Step 3/3 :  20%|██        | 1017/5000 [00:17<00:38, 103.03it/s]"
     ]
    },
    {
     "name": "stderr",
     "output_type": "stream",
     "text": [
      "\r",
      "Step 3/3 :  20%|██        | 1017/5000 [00:17<00:38, 103.03it/s]"
     ]
    },
    {
     "name": "stderr",
     "output_type": "stream",
     "text": [
      "\r",
      "Step 3/3 :  21%|██        | 1028/5000 [00:17<00:40, 98.79it/s] "
     ]
    },
    {
     "name": "stderr",
     "output_type": "stream",
     "text": [
      "\r",
      "Step 3/3 :  21%|██        | 1028/5000 [00:17<00:40, 98.79it/s]"
     ]
    },
    {
     "name": "stderr",
     "output_type": "stream",
     "text": [
      "\r",
      "Step 3/3 :  21%|██        | 1028/5000 [00:17<00:40, 98.79it/s]"
     ]
    },
    {
     "name": "stderr",
     "output_type": "stream",
     "text": [
      "\r",
      "Step 3/3 :  21%|██        | 1028/5000 [00:17<00:40, 98.79it/s]"
     ]
    },
    {
     "name": "stderr",
     "output_type": "stream",
     "text": [
      "\r",
      "Step 3/3 :  21%|██        | 1028/5000 [00:17<00:40, 98.79it/s]"
     ]
    },
    {
     "name": "stderr",
     "output_type": "stream",
     "text": [
      "\r",
      "Step 3/3 :  21%|██        | 1028/5000 [00:17<00:40, 98.79it/s]"
     ]
    },
    {
     "name": "stderr",
     "output_type": "stream",
     "text": [
      "\r",
      "Step 3/3 :  21%|██        | 1028/5000 [00:17<00:40, 98.79it/s]"
     ]
    },
    {
     "name": "stderr",
     "output_type": "stream",
     "text": [
      "\r",
      "Step 3/3 :  21%|██        | 1028/5000 [00:18<00:40, 98.79it/s]"
     ]
    },
    {
     "name": "stderr",
     "output_type": "stream",
     "text": [
      "\r",
      "Step 3/3 :  21%|██        | 1028/5000 [00:18<00:40, 98.79it/s]"
     ]
    },
    {
     "name": "stderr",
     "output_type": "stream",
     "text": [
      "\r",
      "Step 3/3 :  21%|██        | 1028/5000 [00:18<00:40, 98.79it/s]"
     ]
    },
    {
     "name": "stderr",
     "output_type": "stream",
     "text": [
      "\r",
      "Step 3/3 :  21%|██        | 1028/5000 [00:18<00:40, 98.79it/s]"
     ]
    },
    {
     "name": "stderr",
     "output_type": "stream",
     "text": [
      "\r",
      "Step 3/3 :  21%|██        | 1038/5000 [00:18<00:41, 96.44it/s]"
     ]
    },
    {
     "name": "stderr",
     "output_type": "stream",
     "text": [
      "\r",
      "Step 3/3 :  21%|██        | 1038/5000 [00:18<00:41, 96.44it/s]"
     ]
    },
    {
     "name": "stderr",
     "output_type": "stream",
     "text": [
      "\r",
      "Step 3/3 :  21%|██        | 1038/5000 [00:18<00:41, 96.44it/s]"
     ]
    },
    {
     "name": "stderr",
     "output_type": "stream",
     "text": [
      "\r",
      "Step 3/3 :  21%|██        | 1038/5000 [00:18<00:41, 96.44it/s]"
     ]
    },
    {
     "name": "stderr",
     "output_type": "stream",
     "text": [
      "\r",
      "Step 3/3 :  21%|██        | 1038/5000 [00:18<00:41, 96.44it/s]"
     ]
    },
    {
     "name": "stderr",
     "output_type": "stream",
     "text": [
      "\r",
      "Step 3/3 :  21%|██        | 1038/5000 [00:18<00:41, 96.44it/s]"
     ]
    },
    {
     "name": "stderr",
     "output_type": "stream",
     "text": [
      "\r",
      "Step 3/3 :  21%|██        | 1038/5000 [00:18<00:41, 96.44it/s]"
     ]
    },
    {
     "name": "stderr",
     "output_type": "stream",
     "text": [
      "\r",
      "Step 3/3 :  21%|██        | 1038/5000 [00:18<00:41, 96.44it/s]"
     ]
    },
    {
     "name": "stderr",
     "output_type": "stream",
     "text": [
      "\r",
      "Step 3/3 :  21%|██        | 1038/5000 [00:18<00:41, 96.44it/s]"
     ]
    },
    {
     "name": "stderr",
     "output_type": "stream",
     "text": [
      "\r",
      "Step 3/3 :  21%|██        | 1038/5000 [00:18<00:41, 96.44it/s]"
     ]
    },
    {
     "name": "stderr",
     "output_type": "stream",
     "text": [
      "\r",
      "Step 3/3 :  21%|██        | 1038/5000 [00:18<00:41, 96.44it/s]"
     ]
    },
    {
     "name": "stderr",
     "output_type": "stream",
     "text": [
      "\r",
      "Step 3/3 :  21%|██        | 1038/5000 [00:18<00:41, 96.44it/s]"
     ]
    },
    {
     "name": "stderr",
     "output_type": "stream",
     "text": [
      "\r",
      "Step 3/3 :  21%|██        | 1049/5000 [00:18<00:39, 99.12it/s]"
     ]
    },
    {
     "name": "stderr",
     "output_type": "stream",
     "text": [
      "\r",
      "Step 3/3 :  21%|██        | 1049/5000 [00:18<00:39, 99.12it/s]"
     ]
    },
    {
     "name": "stderr",
     "output_type": "stream",
     "text": [
      "\r",
      "Step 3/3 :  21%|██        | 1049/5000 [00:18<00:39, 99.12it/s]"
     ]
    },
    {
     "name": "stderr",
     "output_type": "stream",
     "text": [
      "\r",
      "Step 3/3 :  21%|██        | 1049/5000 [00:18<00:39, 99.12it/s]"
     ]
    },
    {
     "name": "stderr",
     "output_type": "stream",
     "text": [
      "\r",
      "Step 3/3 :  21%|██        | 1049/5000 [00:18<00:39, 99.12it/s]"
     ]
    },
    {
     "name": "stderr",
     "output_type": "stream",
     "text": [
      "\r",
      "Step 3/3 :  21%|██        | 1049/5000 [00:18<00:39, 99.12it/s]"
     ]
    },
    {
     "name": "stderr",
     "output_type": "stream",
     "text": [
      "\r",
      "Step 3/3 :  21%|██        | 1049/5000 [00:18<00:39, 99.12it/s]"
     ]
    },
    {
     "name": "stderr",
     "output_type": "stream",
     "text": [
      "\r",
      "Step 3/3 :  21%|██        | 1049/5000 [00:18<00:39, 99.12it/s]"
     ]
    },
    {
     "name": "stderr",
     "output_type": "stream",
     "text": [
      "\r",
      "Step 3/3 :  21%|██        | 1049/5000 [00:18<00:39, 99.12it/s]"
     ]
    },
    {
     "name": "stderr",
     "output_type": "stream",
     "text": [
      "\r",
      "Step 3/3 :  21%|██        | 1049/5000 [00:18<00:39, 99.12it/s]"
     ]
    },
    {
     "name": "stderr",
     "output_type": "stream",
     "text": [
      "\r",
      "Step 3/3 :  21%|██        | 1049/5000 [00:18<00:39, 99.12it/s]"
     ]
    },
    {
     "name": "stderr",
     "output_type": "stream",
     "text": [
      "\r",
      "Step 3/3 :  21%|██        | 1049/5000 [00:18<00:39, 99.12it/s]"
     ]
    },
    {
     "name": "stderr",
     "output_type": "stream",
     "text": [
      "\r",
      "Step 3/3 :  21%|██        | 1049/5000 [00:18<00:39, 99.12it/s]"
     ]
    },
    {
     "name": "stderr",
     "output_type": "stream",
     "text": [
      "\r",
      "Step 3/3 :  21%|██        | 1061/5000 [00:18<00:38, 103.27it/s]"
     ]
    },
    {
     "name": "stderr",
     "output_type": "stream",
     "text": [
      "\r",
      "Step 3/3 :  21%|██        | 1061/5000 [00:18<00:38, 103.27it/s]"
     ]
    },
    {
     "name": "stderr",
     "output_type": "stream",
     "text": [
      "\r",
      "Step 3/3 :  21%|██        | 1061/5000 [00:18<00:38, 103.27it/s]"
     ]
    },
    {
     "name": "stderr",
     "output_type": "stream",
     "text": [
      "\r",
      "Step 3/3 :  21%|██        | 1061/5000 [00:18<00:38, 103.27it/s]"
     ]
    },
    {
     "name": "stderr",
     "output_type": "stream",
     "text": [
      "\r",
      "Step 3/3 :  21%|██        | 1061/5000 [00:18<00:38, 103.27it/s]"
     ]
    },
    {
     "name": "stderr",
     "output_type": "stream",
     "text": [
      "\r",
      "Step 3/3 :  21%|██        | 1061/5000 [00:18<00:38, 103.27it/s]"
     ]
    },
    {
     "name": "stderr",
     "output_type": "stream",
     "text": [
      "\r",
      "Step 3/3 :  21%|██        | 1061/5000 [00:18<00:38, 103.27it/s]"
     ]
    },
    {
     "name": "stderr",
     "output_type": "stream",
     "text": [
      "\r",
      "Step 3/3 :  21%|██        | 1061/5000 [00:18<00:38, 103.27it/s]"
     ]
    },
    {
     "name": "stderr",
     "output_type": "stream",
     "text": [
      "\r",
      "Step 3/3 :  21%|██        | 1061/5000 [00:18<00:38, 103.27it/s]"
     ]
    },
    {
     "name": "stderr",
     "output_type": "stream",
     "text": [
      "\r",
      "Step 3/3 :  21%|██        | 1061/5000 [00:18<00:38, 103.27it/s]"
     ]
    },
    {
     "name": "stderr",
     "output_type": "stream",
     "text": [
      "\r",
      "Step 3/3 :  21%|██        | 1061/5000 [00:18<00:38, 103.27it/s]"
     ]
    },
    {
     "name": "stderr",
     "output_type": "stream",
     "text": [
      "\r",
      "Step 3/3 :  21%|██        | 1061/5000 [00:18<00:38, 103.27it/s]"
     ]
    },
    {
     "name": "stderr",
     "output_type": "stream",
     "text": [
      "\r",
      "Step 3/3 :  21%|██▏       | 1072/5000 [00:18<00:38, 101.71it/s]"
     ]
    },
    {
     "name": "stderr",
     "output_type": "stream",
     "text": [
      "\r",
      "Step 3/3 :  21%|██▏       | 1072/5000 [00:18<00:38, 101.71it/s]"
     ]
    },
    {
     "name": "stderr",
     "output_type": "stream",
     "text": [
      "\r",
      "Step 3/3 :  21%|██▏       | 1072/5000 [00:18<00:38, 101.71it/s]"
     ]
    },
    {
     "name": "stderr",
     "output_type": "stream",
     "text": [
      "\r",
      "Step 3/3 :  21%|██▏       | 1072/5000 [00:18<00:38, 101.71it/s]"
     ]
    },
    {
     "name": "stderr",
     "output_type": "stream",
     "text": [
      "\r",
      "Step 3/3 :  21%|██▏       | 1072/5000 [00:18<00:38, 101.71it/s]"
     ]
    },
    {
     "name": "stderr",
     "output_type": "stream",
     "text": [
      "\r",
      "Step 3/3 :  21%|██▏       | 1072/5000 [00:18<00:38, 101.71it/s]"
     ]
    },
    {
     "name": "stderr",
     "output_type": "stream",
     "text": [
      "\r",
      "Step 3/3 :  21%|██▏       | 1072/5000 [00:18<00:38, 101.71it/s]"
     ]
    },
    {
     "name": "stderr",
     "output_type": "stream",
     "text": [
      "\r",
      "Step 3/3 :  21%|██▏       | 1072/5000 [00:18<00:38, 101.71it/s]"
     ]
    },
    {
     "name": "stderr",
     "output_type": "stream",
     "text": [
      "\r",
      "Step 3/3 :  21%|██▏       | 1072/5000 [00:18<00:38, 101.71it/s]"
     ]
    },
    {
     "name": "stderr",
     "output_type": "stream",
     "text": [
      "\r",
      "Step 3/3 :  21%|██▏       | 1072/5000 [00:18<00:38, 101.71it/s]"
     ]
    },
    {
     "name": "stderr",
     "output_type": "stream",
     "text": [
      "\r",
      "Step 3/3 :  21%|██▏       | 1072/5000 [00:18<00:38, 101.71it/s]"
     ]
    },
    {
     "name": "stderr",
     "output_type": "stream",
     "text": [
      "\r",
      "Step 3/3 :  21%|██▏       | 1072/5000 [00:18<00:38, 101.71it/s]"
     ]
    },
    {
     "name": "stderr",
     "output_type": "stream",
     "text": [
      "\r",
      "Step 3/3 :  22%|██▏       | 1083/5000 [00:18<00:37, 103.23it/s]"
     ]
    },
    {
     "name": "stderr",
     "output_type": "stream",
     "text": [
      "\r",
      "Step 3/3 :  22%|██▏       | 1083/5000 [00:18<00:37, 103.23it/s]"
     ]
    },
    {
     "name": "stderr",
     "output_type": "stream",
     "text": [
      "\r",
      "Step 3/3 :  22%|██▏       | 1083/5000 [00:18<00:37, 103.23it/s]"
     ]
    },
    {
     "name": "stderr",
     "output_type": "stream",
     "text": [
      "\r",
      "Step 3/3 :  22%|██▏       | 1083/5000 [00:18<00:37, 103.23it/s]"
     ]
    },
    {
     "name": "stderr",
     "output_type": "stream",
     "text": [
      "\r",
      "Step 3/3 :  22%|██▏       | 1083/5000 [00:18<00:37, 103.23it/s]"
     ]
    },
    {
     "name": "stderr",
     "output_type": "stream",
     "text": [
      "\r",
      "Step 3/3 :  22%|██▏       | 1083/5000 [00:18<00:37, 103.23it/s]"
     ]
    },
    {
     "name": "stderr",
     "output_type": "stream",
     "text": [
      "\r",
      "Step 3/3 :  22%|██▏       | 1083/5000 [00:18<00:37, 103.23it/s]"
     ]
    },
    {
     "name": "stderr",
     "output_type": "stream",
     "text": [
      "\r",
      "Step 3/3 :  22%|██▏       | 1083/5000 [00:18<00:37, 103.23it/s]"
     ]
    },
    {
     "name": "stderr",
     "output_type": "stream",
     "text": [
      "\r",
      "Step 3/3 :  22%|██▏       | 1083/5000 [00:18<00:37, 103.23it/s]"
     ]
    },
    {
     "name": "stderr",
     "output_type": "stream",
     "text": [
      "\r",
      "Step 3/3 :  22%|██▏       | 1083/5000 [00:18<00:37, 103.23it/s]"
     ]
    },
    {
     "name": "stderr",
     "output_type": "stream",
     "text": [
      "\r",
      "Step 3/3 :  22%|██▏       | 1083/5000 [00:18<00:37, 103.23it/s]"
     ]
    },
    {
     "name": "stderr",
     "output_type": "stream",
     "text": [
      "\r",
      "Step 3/3 :  22%|██▏       | 1083/5000 [00:18<00:37, 103.23it/s]"
     ]
    },
    {
     "name": "stderr",
     "output_type": "stream",
     "text": [
      "\r",
      "Step 3/3 :  22%|██▏       | 1083/5000 [00:18<00:37, 103.23it/s]"
     ]
    },
    {
     "name": "stderr",
     "output_type": "stream",
     "text": [
      "\r",
      "Step 3/3 :  22%|██▏       | 1095/5000 [00:18<00:36, 107.39it/s]"
     ]
    },
    {
     "name": "stderr",
     "output_type": "stream",
     "text": [
      "\r",
      "Step 3/3 :  22%|██▏       | 1095/5000 [00:18<00:36, 107.39it/s]"
     ]
    },
    {
     "name": "stderr",
     "output_type": "stream",
     "text": [
      "\r",
      "Step 3/3 :  22%|██▏       | 1095/5000 [00:18<00:36, 107.39it/s]"
     ]
    },
    {
     "name": "stderr",
     "output_type": "stream",
     "text": [
      "\r",
      "Step 3/3 :  22%|██▏       | 1095/5000 [00:18<00:36, 107.39it/s]"
     ]
    },
    {
     "name": "stderr",
     "output_type": "stream",
     "text": [
      "\r",
      "Step 3/3 :  22%|██▏       | 1095/5000 [00:18<00:36, 107.39it/s]"
     ]
    },
    {
     "name": "stderr",
     "output_type": "stream",
     "text": [
      "\r",
      "Step 3/3 :  22%|██▏       | 1095/5000 [00:18<00:36, 107.39it/s]"
     ]
    },
    {
     "name": "stderr",
     "output_type": "stream",
     "text": [
      "\r",
      "Step 3/3 :  22%|██▏       | 1095/5000 [00:18<00:36, 107.39it/s]"
     ]
    },
    {
     "name": "stderr",
     "output_type": "stream",
     "text": [
      "\r",
      "Step 3/3 :  22%|██▏       | 1095/5000 [00:18<00:36, 107.39it/s]"
     ]
    },
    {
     "name": "stderr",
     "output_type": "stream",
     "text": [
      "\r",
      "Step 3/3 :  22%|██▏       | 1095/5000 [00:18<00:36, 107.39it/s]"
     ]
    },
    {
     "name": "stderr",
     "output_type": "stream",
     "text": [
      "\r",
      "Step 3/3 :  22%|██▏       | 1095/5000 [00:18<00:36, 107.39it/s]"
     ]
    },
    {
     "name": "stderr",
     "output_type": "stream",
     "text": [
      "\r",
      "Step 3/3 :  22%|██▏       | 1095/5000 [00:18<00:36, 107.39it/s]"
     ]
    },
    {
     "name": "stderr",
     "output_type": "stream",
     "text": [
      "\r",
      "Step 3/3 :  22%|██▏       | 1095/5000 [00:18<00:36, 107.39it/s]"
     ]
    },
    {
     "name": "stderr",
     "output_type": "stream",
     "text": [
      "\r",
      "Step 3/3 :  22%|██▏       | 1095/5000 [00:18<00:36, 107.39it/s]"
     ]
    },
    {
     "name": "stderr",
     "output_type": "stream",
     "text": [
      "\r",
      "Step 3/3 :  22%|██▏       | 1107/5000 [00:18<00:35, 109.15it/s]"
     ]
    },
    {
     "name": "stderr",
     "output_type": "stream",
     "text": [
      "\r",
      "Step 3/3 :  22%|██▏       | 1107/5000 [00:18<00:35, 109.15it/s]"
     ]
    },
    {
     "name": "stderr",
     "output_type": "stream",
     "text": [
      "\r",
      "Step 3/3 :  22%|██▏       | 1107/5000 [00:18<00:35, 109.15it/s]"
     ]
    },
    {
     "name": "stderr",
     "output_type": "stream",
     "text": [
      "\r",
      "Step 3/3 :  22%|██▏       | 1107/5000 [00:18<00:35, 109.15it/s]"
     ]
    },
    {
     "name": "stderr",
     "output_type": "stream",
     "text": [
      "\r",
      "Step 3/3 :  22%|██▏       | 1107/5000 [00:18<00:35, 109.15it/s]"
     ]
    },
    {
     "name": "stderr",
     "output_type": "stream",
     "text": [
      "\r",
      "Step 3/3 :  22%|██▏       | 1107/5000 [00:18<00:35, 109.15it/s]"
     ]
    },
    {
     "name": "stderr",
     "output_type": "stream",
     "text": [
      "\r",
      "Step 3/3 :  22%|██▏       | 1107/5000 [00:18<00:35, 109.15it/s]"
     ]
    },
    {
     "name": "stderr",
     "output_type": "stream",
     "text": [
      "\r",
      "Step 3/3 :  22%|██▏       | 1107/5000 [00:18<00:35, 109.15it/s]"
     ]
    },
    {
     "name": "stderr",
     "output_type": "stream",
     "text": [
      "\r",
      "Step 3/3 :  22%|██▏       | 1107/5000 [00:18<00:35, 109.15it/s]"
     ]
    },
    {
     "name": "stderr",
     "output_type": "stream",
     "text": [
      "\r",
      "Step 3/3 :  22%|██▏       | 1107/5000 [00:18<00:35, 109.15it/s]"
     ]
    },
    {
     "name": "stderr",
     "output_type": "stream",
     "text": [
      "\r",
      "Step 3/3 :  22%|██▏       | 1107/5000 [00:18<00:35, 109.15it/s]"
     ]
    },
    {
     "name": "stderr",
     "output_type": "stream",
     "text": [
      "\r",
      "Step 3/3 :  22%|██▏       | 1107/5000 [00:18<00:35, 109.15it/s]"
     ]
    },
    {
     "name": "stderr",
     "output_type": "stream",
     "text": [
      "\r",
      "Step 3/3 :  22%|██▏       | 1118/5000 [00:18<00:35, 109.08it/s]"
     ]
    },
    {
     "name": "stderr",
     "output_type": "stream",
     "text": [
      "\r",
      "Step 3/3 :  22%|██▏       | 1118/5000 [00:18<00:35, 109.08it/s]"
     ]
    },
    {
     "name": "stderr",
     "output_type": "stream",
     "text": [
      "\r",
      "Step 3/3 :  22%|██▏       | 1118/5000 [00:18<00:35, 109.08it/s]"
     ]
    },
    {
     "name": "stderr",
     "output_type": "stream",
     "text": [
      "\r",
      "Step 3/3 :  22%|██▏       | 1118/5000 [00:18<00:35, 109.08it/s]"
     ]
    },
    {
     "name": "stderr",
     "output_type": "stream",
     "text": [
      "\r",
      "Step 3/3 :  22%|██▏       | 1118/5000 [00:18<00:35, 109.08it/s]"
     ]
    },
    {
     "name": "stderr",
     "output_type": "stream",
     "text": [
      "\r",
      "Step 3/3 :  22%|██▏       | 1118/5000 [00:18<00:35, 109.08it/s]"
     ]
    },
    {
     "name": "stderr",
     "output_type": "stream",
     "text": [
      "\r",
      "Step 3/3 :  22%|██▏       | 1118/5000 [00:18<00:35, 109.08it/s]"
     ]
    },
    {
     "name": "stderr",
     "output_type": "stream",
     "text": [
      "\r",
      "Step 3/3 :  22%|██▏       | 1118/5000 [00:18<00:35, 109.08it/s]"
     ]
    },
    {
     "name": "stderr",
     "output_type": "stream",
     "text": [
      "\r",
      "Step 3/3 :  22%|██▏       | 1118/5000 [00:18<00:35, 109.08it/s]"
     ]
    },
    {
     "name": "stderr",
     "output_type": "stream",
     "text": [
      "\r",
      "Step 3/3 :  22%|██▏       | 1118/5000 [00:18<00:35, 109.08it/s]"
     ]
    },
    {
     "name": "stderr",
     "output_type": "stream",
     "text": [
      "\r",
      "Step 3/3 :  22%|██▏       | 1118/5000 [00:18<00:35, 109.08it/s]"
     ]
    },
    {
     "name": "stderr",
     "output_type": "stream",
     "text": [
      "\r",
      "Step 3/3 :  22%|██▏       | 1118/5000 [00:18<00:35, 109.08it/s]"
     ]
    },
    {
     "name": "stderr",
     "output_type": "stream",
     "text": [
      "\r",
      "Step 3/3 :  23%|██▎       | 1129/5000 [00:18<00:35, 108.09it/s]"
     ]
    },
    {
     "name": "stderr",
     "output_type": "stream",
     "text": [
      "\r",
      "Step 3/3 :  23%|██▎       | 1129/5000 [00:18<00:35, 108.09it/s]"
     ]
    },
    {
     "name": "stderr",
     "output_type": "stream",
     "text": [
      "\r",
      "Step 3/3 :  23%|██▎       | 1129/5000 [00:18<00:35, 108.09it/s]"
     ]
    },
    {
     "name": "stderr",
     "output_type": "stream",
     "text": [
      "\r",
      "Step 3/3 :  23%|██▎       | 1129/5000 [00:18<00:35, 108.09it/s]"
     ]
    },
    {
     "name": "stderr",
     "output_type": "stream",
     "text": [
      "\r",
      "Step 3/3 :  23%|██▎       | 1129/5000 [00:18<00:35, 108.09it/s]"
     ]
    },
    {
     "name": "stderr",
     "output_type": "stream",
     "text": [
      "\r",
      "Step 3/3 :  23%|██▎       | 1129/5000 [00:18<00:35, 108.09it/s]"
     ]
    },
    {
     "name": "stderr",
     "output_type": "stream",
     "text": [
      "\r",
      "Step 3/3 :  23%|██▎       | 1129/5000 [00:18<00:35, 108.09it/s]"
     ]
    },
    {
     "name": "stderr",
     "output_type": "stream",
     "text": [
      "\r",
      "Step 3/3 :  23%|██▎       | 1129/5000 [00:18<00:35, 108.09it/s]"
     ]
    },
    {
     "name": "stderr",
     "output_type": "stream",
     "text": [
      "\r",
      "Step 3/3 :  23%|██▎       | 1129/5000 [00:18<00:35, 108.09it/s]"
     ]
    },
    {
     "name": "stderr",
     "output_type": "stream",
     "text": [
      "\r",
      "Step 3/3 :  23%|██▎       | 1129/5000 [00:18<00:35, 108.09it/s]"
     ]
    },
    {
     "name": "stderr",
     "output_type": "stream",
     "text": [
      "\r",
      "Step 3/3 :  23%|██▎       | 1129/5000 [00:18<00:35, 108.09it/s]"
     ]
    },
    {
     "name": "stderr",
     "output_type": "stream",
     "text": [
      "\r",
      "Step 3/3 :  23%|██▎       | 1129/5000 [00:18<00:35, 108.09it/s]"
     ]
    },
    {
     "name": "stderr",
     "output_type": "stream",
     "text": [
      "\r",
      "Step 3/3 :  23%|██▎       | 1129/5000 [00:18<00:35, 108.09it/s]"
     ]
    },
    {
     "name": "stderr",
     "output_type": "stream",
     "text": [
      "\r",
      "Step 3/3 :  23%|██▎       | 1141/5000 [00:18<00:35, 109.96it/s]"
     ]
    },
    {
     "name": "stderr",
     "output_type": "stream",
     "text": [
      "\r",
      "Step 3/3 :  23%|██▎       | 1141/5000 [00:18<00:35, 109.96it/s]"
     ]
    },
    {
     "name": "stderr",
     "output_type": "stream",
     "text": [
      "\r",
      "Step 3/3 :  23%|██▎       | 1141/5000 [00:19<00:35, 109.96it/s]"
     ]
    },
    {
     "name": "stderr",
     "output_type": "stream",
     "text": [
      "\r",
      "Step 3/3 :  23%|██▎       | 1141/5000 [00:19<00:35, 109.96it/s]"
     ]
    },
    {
     "name": "stderr",
     "output_type": "stream",
     "text": [
      "\r",
      "Step 3/3 :  23%|██▎       | 1141/5000 [00:19<00:35, 109.96it/s]"
     ]
    },
    {
     "name": "stderr",
     "output_type": "stream",
     "text": [
      "\r",
      "Step 3/3 :  23%|██▎       | 1141/5000 [00:19<00:35, 109.96it/s]"
     ]
    },
    {
     "name": "stderr",
     "output_type": "stream",
     "text": [
      "\r",
      "Step 3/3 :  23%|██▎       | 1141/5000 [00:19<00:35, 109.96it/s]"
     ]
    },
    {
     "name": "stderr",
     "output_type": "stream",
     "text": [
      "\r",
      "Step 3/3 :  23%|██▎       | 1141/5000 [00:19<00:35, 109.96it/s]"
     ]
    },
    {
     "name": "stderr",
     "output_type": "stream",
     "text": [
      "\r",
      "Step 3/3 :  23%|██▎       | 1141/5000 [00:19<00:35, 109.96it/s]"
     ]
    },
    {
     "name": "stderr",
     "output_type": "stream",
     "text": [
      "\r",
      "Step 3/3 :  23%|██▎       | 1141/5000 [00:19<00:35, 109.96it/s]"
     ]
    },
    {
     "name": "stderr",
     "output_type": "stream",
     "text": [
      "\r",
      "Step 3/3 :  23%|██▎       | 1141/5000 [00:19<00:35, 109.96it/s]"
     ]
    },
    {
     "name": "stderr",
     "output_type": "stream",
     "text": [
      "\r",
      "Step 3/3 :  23%|██▎       | 1141/5000 [00:19<00:35, 109.96it/s]"
     ]
    },
    {
     "name": "stderr",
     "output_type": "stream",
     "text": [
      "\r",
      "Step 3/3 :  23%|██▎       | 1141/5000 [00:19<00:35, 109.96it/s]"
     ]
    },
    {
     "name": "stderr",
     "output_type": "stream",
     "text": [
      "\r",
      "Step 3/3 :  23%|██▎       | 1153/5000 [00:19<00:34, 111.58it/s]"
     ]
    },
    {
     "name": "stderr",
     "output_type": "stream",
     "text": [
      "\r",
      "Step 3/3 :  23%|██▎       | 1153/5000 [00:19<00:34, 111.58it/s]"
     ]
    },
    {
     "name": "stderr",
     "output_type": "stream",
     "text": [
      "\r",
      "Step 3/3 :  23%|██▎       | 1153/5000 [00:19<00:34, 111.58it/s]"
     ]
    },
    {
     "name": "stderr",
     "output_type": "stream",
     "text": [
      "\r",
      "Step 3/3 :  23%|██▎       | 1153/5000 [00:19<00:34, 111.58it/s]"
     ]
    },
    {
     "name": "stderr",
     "output_type": "stream",
     "text": [
      "\r",
      "Step 3/3 :  23%|██▎       | 1153/5000 [00:19<00:34, 111.58it/s]"
     ]
    },
    {
     "name": "stderr",
     "output_type": "stream",
     "text": [
      "\r",
      "Step 3/3 :  23%|██▎       | 1153/5000 [00:19<00:34, 111.58it/s]"
     ]
    },
    {
     "name": "stderr",
     "output_type": "stream",
     "text": [
      "\r",
      "Step 3/3 :  23%|██▎       | 1153/5000 [00:19<00:34, 111.58it/s]"
     ]
    },
    {
     "name": "stderr",
     "output_type": "stream",
     "text": [
      "\r",
      "Step 3/3 :  23%|██▎       | 1153/5000 [00:19<00:34, 111.58it/s]"
     ]
    },
    {
     "name": "stderr",
     "output_type": "stream",
     "text": [
      "\r",
      "Step 3/3 :  23%|██▎       | 1153/5000 [00:19<00:34, 111.58it/s]"
     ]
    },
    {
     "name": "stderr",
     "output_type": "stream",
     "text": [
      "\r",
      "Step 3/3 :  23%|██▎       | 1153/5000 [00:19<00:34, 111.58it/s]"
     ]
    },
    {
     "name": "stderr",
     "output_type": "stream",
     "text": [
      "\r",
      "Step 3/3 :  23%|██▎       | 1153/5000 [00:19<00:34, 111.58it/s]"
     ]
    },
    {
     "name": "stderr",
     "output_type": "stream",
     "text": [
      "\r",
      "Step 3/3 :  23%|██▎       | 1153/5000 [00:19<00:34, 111.58it/s]"
     ]
    },
    {
     "name": "stderr",
     "output_type": "stream",
     "text": [
      "\r",
      "Step 3/3 :  23%|██▎       | 1153/5000 [00:19<00:34, 111.58it/s]"
     ]
    },
    {
     "name": "stderr",
     "output_type": "stream",
     "text": [
      "\r",
      "Step 3/3 :  23%|██▎       | 1165/5000 [00:19<00:34, 111.44it/s]"
     ]
    },
    {
     "name": "stderr",
     "output_type": "stream",
     "text": [
      "\r",
      "Step 3/3 :  23%|██▎       | 1165/5000 [00:19<00:34, 111.44it/s]"
     ]
    },
    {
     "name": "stderr",
     "output_type": "stream",
     "text": [
      "\r",
      "Step 3/3 :  23%|██▎       | 1165/5000 [00:19<00:34, 111.44it/s]"
     ]
    },
    {
     "name": "stderr",
     "output_type": "stream",
     "text": [
      "\r",
      "Step 3/3 :  23%|██▎       | 1165/5000 [00:19<00:34, 111.44it/s]"
     ]
    },
    {
     "name": "stderr",
     "output_type": "stream",
     "text": [
      "\r",
      "Step 3/3 :  23%|██▎       | 1165/5000 [00:19<00:34, 111.44it/s]"
     ]
    },
    {
     "name": "stderr",
     "output_type": "stream",
     "text": [
      "\r",
      "Step 3/3 :  23%|██▎       | 1165/5000 [00:19<00:34, 111.44it/s]"
     ]
    },
    {
     "name": "stderr",
     "output_type": "stream",
     "text": [
      "\r",
      "Step 3/3 :  23%|██▎       | 1165/5000 [00:19<00:34, 111.44it/s]"
     ]
    },
    {
     "name": "stderr",
     "output_type": "stream",
     "text": [
      "\r",
      "Step 3/3 :  23%|██▎       | 1165/5000 [00:19<00:34, 111.44it/s]"
     ]
    },
    {
     "name": "stderr",
     "output_type": "stream",
     "text": [
      "\r",
      "Step 3/3 :  23%|██▎       | 1165/5000 [00:19<00:34, 111.44it/s]"
     ]
    },
    {
     "name": "stderr",
     "output_type": "stream",
     "text": [
      "\r",
      "Step 3/3 :  23%|██▎       | 1165/5000 [00:19<00:34, 111.44it/s]"
     ]
    },
    {
     "name": "stderr",
     "output_type": "stream",
     "text": [
      "\r",
      "Step 3/3 :  23%|██▎       | 1165/5000 [00:19<00:34, 111.44it/s]"
     ]
    },
    {
     "name": "stderr",
     "output_type": "stream",
     "text": [
      "\r",
      "Step 3/3 :  23%|██▎       | 1165/5000 [00:19<00:34, 111.44it/s]"
     ]
    },
    {
     "name": "stderr",
     "output_type": "stream",
     "text": [
      "\r",
      "Step 3/3 :  23%|██▎       | 1165/5000 [00:19<00:34, 111.44it/s]"
     ]
    },
    {
     "name": "stderr",
     "output_type": "stream",
     "text": [
      "\r",
      "Step 3/3 :  24%|██▎       | 1177/5000 [00:19<00:34, 109.79it/s]"
     ]
    },
    {
     "name": "stderr",
     "output_type": "stream",
     "text": [
      "\r",
      "Step 3/3 :  24%|██▎       | 1177/5000 [00:19<00:34, 109.79it/s]"
     ]
    },
    {
     "name": "stderr",
     "output_type": "stream",
     "text": [
      "\r",
      "Step 3/3 :  24%|██▎       | 1177/5000 [00:19<00:34, 109.79it/s]"
     ]
    },
    {
     "name": "stderr",
     "output_type": "stream",
     "text": [
      "\r",
      "Step 3/3 :  24%|██▎       | 1177/5000 [00:19<00:34, 109.79it/s]"
     ]
    },
    {
     "name": "stderr",
     "output_type": "stream",
     "text": [
      "\r",
      "Step 3/3 :  24%|██▎       | 1177/5000 [00:19<00:34, 109.79it/s]"
     ]
    },
    {
     "name": "stderr",
     "output_type": "stream",
     "text": [
      "\r",
      "Step 3/3 :  24%|██▎       | 1177/5000 [00:19<00:34, 109.79it/s]"
     ]
    },
    {
     "name": "stderr",
     "output_type": "stream",
     "text": [
      "\r",
      "Step 3/3 :  24%|██▎       | 1177/5000 [00:19<00:34, 109.79it/s]"
     ]
    },
    {
     "name": "stderr",
     "output_type": "stream",
     "text": [
      "\r",
      "Step 3/3 :  24%|██▎       | 1177/5000 [00:19<00:34, 109.79it/s]"
     ]
    },
    {
     "name": "stderr",
     "output_type": "stream",
     "text": [
      "\r",
      "Step 3/3 :  24%|██▎       | 1177/5000 [00:19<00:34, 109.79it/s]"
     ]
    },
    {
     "name": "stderr",
     "output_type": "stream",
     "text": [
      "\r",
      "Step 3/3 :  24%|██▎       | 1177/5000 [00:19<00:34, 109.79it/s]"
     ]
    },
    {
     "name": "stderr",
     "output_type": "stream",
     "text": [
      "\r",
      "Step 3/3 :  24%|██▎       | 1177/5000 [00:19<00:34, 109.79it/s]"
     ]
    },
    {
     "name": "stderr",
     "output_type": "stream",
     "text": [
      "\r",
      "Step 3/3 :  24%|██▎       | 1177/5000 [00:19<00:34, 109.79it/s]"
     ]
    },
    {
     "name": "stderr",
     "output_type": "stream",
     "text": [
      "\r",
      "Step 3/3 :  24%|██▍       | 1188/5000 [00:19<00:36, 103.64it/s]"
     ]
    },
    {
     "name": "stderr",
     "output_type": "stream",
     "text": [
      "\r",
      "Step 3/3 :  24%|██▍       | 1188/5000 [00:19<00:36, 103.64it/s]"
     ]
    },
    {
     "name": "stderr",
     "output_type": "stream",
     "text": [
      "\r",
      "Step 3/3 :  24%|██▍       | 1188/5000 [00:19<00:36, 103.64it/s]"
     ]
    },
    {
     "name": "stderr",
     "output_type": "stream",
     "text": [
      "\r",
      "Step 3/3 :  24%|██▍       | 1188/5000 [00:19<00:36, 103.64it/s]"
     ]
    },
    {
     "name": "stderr",
     "output_type": "stream",
     "text": [
      "\r",
      "Step 3/3 :  24%|██▍       | 1188/5000 [00:19<00:36, 103.64it/s]"
     ]
    },
    {
     "name": "stderr",
     "output_type": "stream",
     "text": [
      "\r",
      "Step 3/3 :  24%|██▍       | 1188/5000 [00:19<00:36, 103.64it/s]"
     ]
    },
    {
     "name": "stderr",
     "output_type": "stream",
     "text": [
      "\r",
      "Step 3/3 :  24%|██▍       | 1188/5000 [00:19<00:36, 103.64it/s]"
     ]
    },
    {
     "name": "stderr",
     "output_type": "stream",
     "text": [
      "\r",
      "Step 3/3 :  24%|██▍       | 1188/5000 [00:19<00:36, 103.64it/s]"
     ]
    },
    {
     "name": "stderr",
     "output_type": "stream",
     "text": [
      "\r",
      "Step 3/3 :  24%|██▍       | 1188/5000 [00:19<00:36, 103.64it/s]"
     ]
    },
    {
     "name": "stderr",
     "output_type": "stream",
     "text": [
      "\r",
      "Step 3/3 :  24%|██▍       | 1188/5000 [00:19<00:36, 103.64it/s]"
     ]
    },
    {
     "name": "stderr",
     "output_type": "stream",
     "text": [
      "\r",
      "Step 3/3 :  24%|██▍       | 1188/5000 [00:19<00:36, 103.64it/s]"
     ]
    },
    {
     "name": "stderr",
     "output_type": "stream",
     "text": [
      "\r",
      "Step 3/3 :  24%|██▍       | 1188/5000 [00:19<00:36, 103.64it/s]"
     ]
    },
    {
     "name": "stderr",
     "output_type": "stream",
     "text": [
      "\r",
      "Step 3/3 :  24%|██▍       | 1199/5000 [00:19<00:36, 102.84it/s]"
     ]
    },
    {
     "name": "stderr",
     "output_type": "stream",
     "text": [
      "\r",
      "Step 3/3 :  24%|██▍       | 1199/5000 [00:19<00:36, 102.84it/s]"
     ]
    },
    {
     "name": "stderr",
     "output_type": "stream",
     "text": [
      "\r",
      "Step 3/3 :  24%|██▍       | 1199/5000 [00:19<00:36, 102.84it/s]"
     ]
    },
    {
     "name": "stderr",
     "output_type": "stream",
     "text": [
      "\r",
      "Step 3/3 :  24%|██▍       | 1199/5000 [00:19<00:36, 102.84it/s]"
     ]
    },
    {
     "name": "stderr",
     "output_type": "stream",
     "text": [
      "\r",
      "Step 3/3 :  24%|██▍       | 1199/5000 [00:19<00:36, 102.84it/s]"
     ]
    },
    {
     "name": "stderr",
     "output_type": "stream",
     "text": [
      "\r",
      "Step 3/3 :  24%|██▍       | 1199/5000 [00:19<00:36, 102.84it/s]"
     ]
    },
    {
     "name": "stderr",
     "output_type": "stream",
     "text": [
      "\r",
      "Step 3/3 :  24%|██▍       | 1199/5000 [00:19<00:36, 102.84it/s]"
     ]
    },
    {
     "name": "stderr",
     "output_type": "stream",
     "text": [
      "\r",
      "Step 3/3 :  24%|██▍       | 1199/5000 [00:19<00:36, 102.84it/s]"
     ]
    },
    {
     "name": "stderr",
     "output_type": "stream",
     "text": [
      "\r",
      "Step 3/3 :  24%|██▍       | 1199/5000 [00:19<00:36, 102.84it/s]"
     ]
    },
    {
     "name": "stderr",
     "output_type": "stream",
     "text": [
      "\r",
      "Step 3/3 :  24%|██▍       | 1199/5000 [00:19<00:36, 102.84it/s]"
     ]
    },
    {
     "name": "stderr",
     "output_type": "stream",
     "text": [
      "\r",
      "Step 3/3 :  24%|██▍       | 1199/5000 [00:19<00:36, 102.84it/s]"
     ]
    },
    {
     "name": "stderr",
     "output_type": "stream",
     "text": [
      "\r",
      "Step 3/3 :  24%|██▍       | 1199/5000 [00:19<00:36, 102.84it/s]"
     ]
    },
    {
     "name": "stderr",
     "output_type": "stream",
     "text": [
      "\r",
      "Step 3/3 :  24%|██▍       | 1210/5000 [00:19<00:37, 101.44it/s]"
     ]
    },
    {
     "name": "stderr",
     "output_type": "stream",
     "text": [
      "\r",
      "Step 3/3 :  24%|██▍       | 1210/5000 [00:19<00:37, 101.44it/s]"
     ]
    },
    {
     "name": "stderr",
     "output_type": "stream",
     "text": [
      "\r",
      "Step 3/3 :  24%|██▍       | 1210/5000 [00:19<00:37, 101.44it/s]"
     ]
    },
    {
     "name": "stderr",
     "output_type": "stream",
     "text": [
      "\r",
      "Step 3/3 :  24%|██▍       | 1210/5000 [00:19<00:37, 101.44it/s]"
     ]
    },
    {
     "name": "stderr",
     "output_type": "stream",
     "text": [
      "\r",
      "Step 3/3 :  24%|██▍       | 1210/5000 [00:19<00:37, 101.44it/s]"
     ]
    },
    {
     "name": "stderr",
     "output_type": "stream",
     "text": [
      "\r",
      "Step 3/3 :  24%|██▍       | 1210/5000 [00:19<00:37, 101.44it/s]"
     ]
    },
    {
     "name": "stderr",
     "output_type": "stream",
     "text": [
      "\r",
      "Step 3/3 :  24%|██▍       | 1210/5000 [00:19<00:37, 101.44it/s]"
     ]
    },
    {
     "name": "stderr",
     "output_type": "stream",
     "text": [
      "\r",
      "Step 3/3 :  24%|██▍       | 1210/5000 [00:19<00:37, 101.44it/s]"
     ]
    },
    {
     "name": "stderr",
     "output_type": "stream",
     "text": [
      "\r",
      "Step 3/3 :  24%|██▍       | 1210/5000 [00:19<00:37, 101.44it/s]"
     ]
    },
    {
     "name": "stderr",
     "output_type": "stream",
     "text": [
      "\r",
      "Step 3/3 :  24%|██▍       | 1210/5000 [00:19<00:37, 101.44it/s]"
     ]
    },
    {
     "name": "stderr",
     "output_type": "stream",
     "text": [
      "\r",
      "Step 3/3 :  24%|██▍       | 1210/5000 [00:19<00:37, 101.44it/s]"
     ]
    },
    {
     "name": "stderr",
     "output_type": "stream",
     "text": [
      "\r",
      "Step 3/3 :  24%|██▍       | 1210/5000 [00:19<00:37, 101.44it/s]"
     ]
    },
    {
     "name": "stderr",
     "output_type": "stream",
     "text": [
      "\r",
      "Step 3/3 :  24%|██▍       | 1221/5000 [00:19<00:37, 100.74it/s]"
     ]
    },
    {
     "name": "stderr",
     "output_type": "stream",
     "text": [
      "\r",
      "Step 3/3 :  24%|██▍       | 1221/5000 [00:19<00:37, 100.74it/s]"
     ]
    },
    {
     "name": "stderr",
     "output_type": "stream",
     "text": [
      "\r",
      "Step 3/3 :  24%|██▍       | 1221/5000 [00:19<00:37, 100.74it/s]"
     ]
    },
    {
     "name": "stderr",
     "output_type": "stream",
     "text": [
      "\r",
      "Step 3/3 :  24%|██▍       | 1221/5000 [00:19<00:37, 100.74it/s]"
     ]
    },
    {
     "name": "stderr",
     "output_type": "stream",
     "text": [
      "\r",
      "Step 3/3 :  24%|██▍       | 1221/5000 [00:19<00:37, 100.74it/s]"
     ]
    },
    {
     "name": "stderr",
     "output_type": "stream",
     "text": [
      "\r",
      "Step 3/3 :  24%|██▍       | 1221/5000 [00:19<00:37, 100.74it/s]"
     ]
    },
    {
     "name": "stderr",
     "output_type": "stream",
     "text": [
      "\r",
      "Step 3/3 :  24%|██▍       | 1221/5000 [00:19<00:37, 100.74it/s]"
     ]
    },
    {
     "name": "stderr",
     "output_type": "stream",
     "text": [
      "\r",
      "Step 3/3 :  24%|██▍       | 1221/5000 [00:19<00:37, 100.74it/s]"
     ]
    },
    {
     "name": "stderr",
     "output_type": "stream",
     "text": [
      "\r",
      "Step 3/3 :  24%|██▍       | 1221/5000 [00:19<00:37, 100.74it/s]"
     ]
    },
    {
     "name": "stderr",
     "output_type": "stream",
     "text": [
      "\r",
      "Step 3/3 :  24%|██▍       | 1221/5000 [00:19<00:37, 100.74it/s]"
     ]
    },
    {
     "name": "stderr",
     "output_type": "stream",
     "text": [
      "\r",
      "Step 3/3 :  24%|██▍       | 1221/5000 [00:19<00:37, 100.74it/s]"
     ]
    },
    {
     "name": "stderr",
     "output_type": "stream",
     "text": [
      "\r",
      "Step 3/3 :  24%|██▍       | 1221/5000 [00:19<00:37, 100.74it/s]"
     ]
    },
    {
     "name": "stderr",
     "output_type": "stream",
     "text": [
      "\r",
      "Step 3/3 :  25%|██▍       | 1232/5000 [00:19<00:37, 99.18it/s] "
     ]
    },
    {
     "name": "stderr",
     "output_type": "stream",
     "text": [
      "\r",
      "Step 3/3 :  25%|██▍       | 1232/5000 [00:19<00:37, 99.18it/s]"
     ]
    },
    {
     "name": "stderr",
     "output_type": "stream",
     "text": [
      "\r",
      "Step 3/3 :  25%|██▍       | 1232/5000 [00:19<00:37, 99.18it/s]"
     ]
    },
    {
     "name": "stderr",
     "output_type": "stream",
     "text": [
      "\r",
      "Step 3/3 :  25%|██▍       | 1232/5000 [00:19<00:37, 99.18it/s]"
     ]
    },
    {
     "name": "stderr",
     "output_type": "stream",
     "text": [
      "\r",
      "Step 3/3 :  25%|██▍       | 1232/5000 [00:19<00:37, 99.18it/s]"
     ]
    },
    {
     "name": "stderr",
     "output_type": "stream",
     "text": [
      "\r",
      "Step 3/3 :  25%|██▍       | 1232/5000 [00:19<00:37, 99.18it/s]"
     ]
    },
    {
     "name": "stderr",
     "output_type": "stream",
     "text": [
      "\r",
      "Step 3/3 :  25%|██▍       | 1232/5000 [00:19<00:37, 99.18it/s]"
     ]
    },
    {
     "name": "stderr",
     "output_type": "stream",
     "text": [
      "\r",
      "Step 3/3 :  25%|██▍       | 1232/5000 [00:19<00:37, 99.18it/s]"
     ]
    },
    {
     "name": "stderr",
     "output_type": "stream",
     "text": [
      "\r",
      "Step 3/3 :  25%|██▍       | 1232/5000 [00:19<00:37, 99.18it/s]"
     ]
    },
    {
     "name": "stderr",
     "output_type": "stream",
     "text": [
      "\r",
      "Step 3/3 :  25%|██▍       | 1232/5000 [00:19<00:37, 99.18it/s]"
     ]
    },
    {
     "name": "stderr",
     "output_type": "stream",
     "text": [
      "\r",
      "Step 3/3 :  25%|██▍       | 1232/5000 [00:19<00:37, 99.18it/s]"
     ]
    },
    {
     "name": "stderr",
     "output_type": "stream",
     "text": [
      "\r",
      "Step 3/3 :  25%|██▍       | 1232/5000 [00:19<00:37, 99.18it/s]"
     ]
    },
    {
     "name": "stderr",
     "output_type": "stream",
     "text": [
      "\r",
      "Step 3/3 :  25%|██▍       | 1232/5000 [00:19<00:37, 99.18it/s]"
     ]
    },
    {
     "name": "stderr",
     "output_type": "stream",
     "text": [
      "\r",
      "Step 3/3 :  25%|██▍       | 1244/5000 [00:19<00:36, 102.38it/s]"
     ]
    },
    {
     "name": "stderr",
     "output_type": "stream",
     "text": [
      "\r",
      "Step 3/3 :  25%|██▍       | 1244/5000 [00:19<00:36, 102.38it/s]"
     ]
    },
    {
     "name": "stderr",
     "output_type": "stream",
     "text": [
      "\r",
      "Step 3/3 :  25%|██▍       | 1244/5000 [00:20<00:36, 102.38it/s]"
     ]
    },
    {
     "name": "stderr",
     "output_type": "stream",
     "text": [
      "\r",
      "Step 3/3 :  25%|██▍       | 1244/5000 [00:20<00:36, 102.38it/s]"
     ]
    },
    {
     "name": "stderr",
     "output_type": "stream",
     "text": [
      "\r",
      "Step 3/3 :  25%|██▍       | 1244/5000 [00:20<00:36, 102.38it/s]"
     ]
    },
    {
     "name": "stderr",
     "output_type": "stream",
     "text": [
      "\r",
      "Step 3/3 :  25%|██▍       | 1244/5000 [00:20<00:36, 102.38it/s]"
     ]
    },
    {
     "name": "stderr",
     "output_type": "stream",
     "text": [
      "\r",
      "Step 3/3 :  25%|██▍       | 1244/5000 [00:20<00:36, 102.38it/s]"
     ]
    },
    {
     "name": "stderr",
     "output_type": "stream",
     "text": [
      "\r",
      "Step 3/3 :  25%|██▍       | 1244/5000 [00:20<00:36, 102.38it/s]"
     ]
    },
    {
     "name": "stderr",
     "output_type": "stream",
     "text": [
      "\r",
      "Step 3/3 :  25%|██▍       | 1244/5000 [00:20<00:36, 102.38it/s]"
     ]
    },
    {
     "name": "stderr",
     "output_type": "stream",
     "text": [
      "\r",
      "Step 3/3 :  25%|██▍       | 1244/5000 [00:20<00:36, 102.38it/s]"
     ]
    },
    {
     "name": "stderr",
     "output_type": "stream",
     "text": [
      "\r",
      "Step 3/3 :  25%|██▍       | 1244/5000 [00:20<00:36, 102.38it/s]"
     ]
    },
    {
     "name": "stderr",
     "output_type": "stream",
     "text": [
      "\r",
      "Step 3/3 :  25%|██▍       | 1244/5000 [00:20<00:36, 102.38it/s]"
     ]
    },
    {
     "name": "stderr",
     "output_type": "stream",
     "text": [
      "\r",
      "Step 3/3 :  25%|██▌       | 1255/5000 [00:20<00:37, 100.05it/s]"
     ]
    },
    {
     "name": "stderr",
     "output_type": "stream",
     "text": [
      "\r",
      "Step 3/3 :  25%|██▌       | 1255/5000 [00:20<00:37, 100.05it/s]"
     ]
    },
    {
     "name": "stderr",
     "output_type": "stream",
     "text": [
      "\r",
      "Step 3/3 :  25%|██▌       | 1255/5000 [00:20<00:37, 100.05it/s]"
     ]
    },
    {
     "name": "stderr",
     "output_type": "stream",
     "text": [
      "\r",
      "Step 3/3 :  25%|██▌       | 1255/5000 [00:20<00:37, 100.05it/s]"
     ]
    },
    {
     "name": "stderr",
     "output_type": "stream",
     "text": [
      "\r",
      "Step 3/3 :  25%|██▌       | 1255/5000 [00:20<00:37, 100.05it/s]"
     ]
    },
    {
     "name": "stderr",
     "output_type": "stream",
     "text": [
      "\r",
      "Step 3/3 :  25%|██▌       | 1255/5000 [00:20<00:37, 100.05it/s]"
     ]
    },
    {
     "name": "stderr",
     "output_type": "stream",
     "text": [
      "\r",
      "Step 3/3 :  25%|██▌       | 1255/5000 [00:20<00:37, 100.05it/s]"
     ]
    },
    {
     "name": "stderr",
     "output_type": "stream",
     "text": [
      "\r",
      "Step 3/3 :  25%|██▌       | 1255/5000 [00:20<00:37, 100.05it/s]"
     ]
    },
    {
     "name": "stderr",
     "output_type": "stream",
     "text": [
      "\r",
      "Step 3/3 :  25%|██▌       | 1255/5000 [00:20<00:37, 100.05it/s]"
     ]
    },
    {
     "name": "stderr",
     "output_type": "stream",
     "text": [
      "\r",
      "Step 3/3 :  25%|██▌       | 1255/5000 [00:20<00:37, 100.05it/s]"
     ]
    },
    {
     "name": "stderr",
     "output_type": "stream",
     "text": [
      "\r",
      "Step 3/3 :  25%|██▌       | 1255/5000 [00:20<00:37, 100.05it/s]"
     ]
    },
    {
     "name": "stderr",
     "output_type": "stream",
     "text": [
      "\r",
      "Step 3/3 :  25%|██▌       | 1255/5000 [00:20<00:37, 100.05it/s]"
     ]
    },
    {
     "name": "stderr",
     "output_type": "stream",
     "text": [
      "\r",
      "Step 3/3 :  25%|██▌       | 1266/5000 [00:20<00:36, 101.67it/s]"
     ]
    },
    {
     "name": "stderr",
     "output_type": "stream",
     "text": [
      "\r",
      "Step 3/3 :  25%|██▌       | 1266/5000 [00:20<00:36, 101.67it/s]"
     ]
    },
    {
     "name": "stderr",
     "output_type": "stream",
     "text": [
      "\r",
      "Step 3/3 :  25%|██▌       | 1266/5000 [00:20<00:36, 101.67it/s]"
     ]
    },
    {
     "name": "stderr",
     "output_type": "stream",
     "text": [
      "\r",
      "Step 3/3 :  25%|██▌       | 1266/5000 [00:20<00:36, 101.67it/s]"
     ]
    },
    {
     "name": "stderr",
     "output_type": "stream",
     "text": [
      "\r",
      "Step 3/3 :  25%|██▌       | 1266/5000 [00:20<00:36, 101.67it/s]"
     ]
    },
    {
     "name": "stderr",
     "output_type": "stream",
     "text": [
      "\r",
      "Step 3/3 :  25%|██▌       | 1266/5000 [00:20<00:36, 101.67it/s]"
     ]
    },
    {
     "name": "stderr",
     "output_type": "stream",
     "text": [
      "\r",
      "Step 3/3 :  25%|██▌       | 1266/5000 [00:20<00:36, 101.67it/s]"
     ]
    },
    {
     "name": "stderr",
     "output_type": "stream",
     "text": [
      "\r",
      "Step 3/3 :  25%|██▌       | 1266/5000 [00:20<00:36, 101.67it/s]"
     ]
    },
    {
     "name": "stderr",
     "output_type": "stream",
     "text": [
      "\r",
      "Step 3/3 :  25%|██▌       | 1266/5000 [00:20<00:36, 101.67it/s]"
     ]
    },
    {
     "name": "stderr",
     "output_type": "stream",
     "text": [
      "\r",
      "Step 3/3 :  25%|██▌       | 1266/5000 [00:20<00:36, 101.67it/s]"
     ]
    },
    {
     "name": "stderr",
     "output_type": "stream",
     "text": [
      "\r",
      "Step 3/3 :  25%|██▌       | 1266/5000 [00:20<00:36, 101.67it/s]"
     ]
    },
    {
     "name": "stderr",
     "output_type": "stream",
     "text": [
      "\r",
      "Step 3/3 :  25%|██▌       | 1266/5000 [00:20<00:36, 101.67it/s]"
     ]
    },
    {
     "name": "stderr",
     "output_type": "stream",
     "text": [
      "\r",
      "Step 3/3 :  26%|██▌       | 1277/5000 [00:20<00:36, 103.14it/s]"
     ]
    },
    {
     "name": "stderr",
     "output_type": "stream",
     "text": [
      "\r",
      "Step 3/3 :  26%|██▌       | 1277/5000 [00:20<00:36, 103.14it/s]"
     ]
    },
    {
     "name": "stderr",
     "output_type": "stream",
     "text": [
      "\r",
      "Step 3/3 :  26%|██▌       | 1277/5000 [00:20<00:36, 103.14it/s]"
     ]
    },
    {
     "name": "stderr",
     "output_type": "stream",
     "text": [
      "\r",
      "Step 3/3 :  26%|██▌       | 1277/5000 [00:20<00:36, 103.14it/s]"
     ]
    },
    {
     "name": "stderr",
     "output_type": "stream",
     "text": [
      "\r",
      "Step 3/3 :  26%|██▌       | 1277/5000 [00:20<00:36, 103.14it/s]"
     ]
    },
    {
     "name": "stderr",
     "output_type": "stream",
     "text": [
      "\r",
      "Step 3/3 :  26%|██▌       | 1277/5000 [00:20<00:36, 103.14it/s]"
     ]
    },
    {
     "name": "stderr",
     "output_type": "stream",
     "text": [
      "\r",
      "Step 3/3 :  26%|██▌       | 1277/5000 [00:20<00:36, 103.14it/s]"
     ]
    },
    {
     "name": "stderr",
     "output_type": "stream",
     "text": [
      "\r",
      "Step 3/3 :  26%|██▌       | 1277/5000 [00:20<00:36, 103.14it/s]"
     ]
    },
    {
     "name": "stderr",
     "output_type": "stream",
     "text": [
      "\r",
      "Step 3/3 :  26%|██▌       | 1277/5000 [00:20<00:36, 103.14it/s]"
     ]
    },
    {
     "name": "stderr",
     "output_type": "stream",
     "text": [
      "\r",
      "Step 3/3 :  26%|██▌       | 1277/5000 [00:20<00:36, 103.14it/s]"
     ]
    },
    {
     "name": "stderr",
     "output_type": "stream",
     "text": [
      "\r",
      "Step 3/3 :  26%|██▌       | 1277/5000 [00:20<00:36, 103.14it/s]"
     ]
    },
    {
     "name": "stderr",
     "output_type": "stream",
     "text": [
      "\r",
      "Step 3/3 :  26%|██▌       | 1277/5000 [00:20<00:36, 103.14it/s]"
     ]
    },
    {
     "name": "stderr",
     "output_type": "stream",
     "text": [
      "\r",
      "Step 3/3 :  26%|██▌       | 1288/5000 [00:20<00:36, 100.79it/s]"
     ]
    },
    {
     "name": "stderr",
     "output_type": "stream",
     "text": [
      "\r",
      "Step 3/3 :  26%|██▌       | 1288/5000 [00:20<00:36, 100.79it/s]"
     ]
    },
    {
     "name": "stderr",
     "output_type": "stream",
     "text": [
      "\r",
      "Step 3/3 :  26%|██▌       | 1288/5000 [00:20<00:36, 100.79it/s]"
     ]
    },
    {
     "name": "stderr",
     "output_type": "stream",
     "text": [
      "\r",
      "Step 3/3 :  26%|██▌       | 1288/5000 [00:20<00:36, 100.79it/s]"
     ]
    },
    {
     "name": "stderr",
     "output_type": "stream",
     "text": [
      "\r",
      "Step 3/3 :  26%|██▌       | 1288/5000 [00:20<00:36, 100.79it/s]"
     ]
    },
    {
     "name": "stderr",
     "output_type": "stream",
     "text": [
      "\r",
      "Step 3/3 :  26%|██▌       | 1288/5000 [00:20<00:36, 100.79it/s]"
     ]
    },
    {
     "name": "stderr",
     "output_type": "stream",
     "text": [
      "\r",
      "Step 3/3 :  26%|██▌       | 1288/5000 [00:20<00:36, 100.79it/s]"
     ]
    },
    {
     "name": "stderr",
     "output_type": "stream",
     "text": [
      "\r",
      "Step 3/3 :  26%|██▌       | 1288/5000 [00:20<00:36, 100.79it/s]"
     ]
    },
    {
     "name": "stderr",
     "output_type": "stream",
     "text": [
      "\r",
      "Step 3/3 :  26%|██▌       | 1288/5000 [00:20<00:36, 100.79it/s]"
     ]
    },
    {
     "name": "stderr",
     "output_type": "stream",
     "text": [
      "\r",
      "Step 3/3 :  26%|██▌       | 1288/5000 [00:20<00:36, 100.79it/s]"
     ]
    },
    {
     "name": "stderr",
     "output_type": "stream",
     "text": [
      "\r",
      "Step 3/3 :  26%|██▌       | 1288/5000 [00:20<00:36, 100.79it/s]"
     ]
    },
    {
     "name": "stderr",
     "output_type": "stream",
     "text": [
      "\r",
      "Step 3/3 :  26%|██▌       | 1288/5000 [00:20<00:36, 100.79it/s]"
     ]
    },
    {
     "name": "stderr",
     "output_type": "stream",
     "text": [
      "\r",
      "Step 3/3 :  26%|██▌       | 1299/5000 [00:20<00:36, 101.95it/s]"
     ]
    },
    {
     "name": "stderr",
     "output_type": "stream",
     "text": [
      "\r",
      "Step 3/3 :  26%|██▌       | 1299/5000 [00:20<00:36, 101.95it/s]"
     ]
    },
    {
     "name": "stderr",
     "output_type": "stream",
     "text": [
      "\r",
      "Step 3/3 :  26%|██▌       | 1299/5000 [00:20<00:36, 101.95it/s]"
     ]
    },
    {
     "name": "stderr",
     "output_type": "stream",
     "text": [
      "\r",
      "Step 3/3 :  26%|██▌       | 1299/5000 [00:20<00:36, 101.95it/s]"
     ]
    },
    {
     "name": "stderr",
     "output_type": "stream",
     "text": [
      "\r",
      "Step 3/3 :  26%|██▌       | 1299/5000 [00:20<00:36, 101.95it/s]"
     ]
    },
    {
     "name": "stderr",
     "output_type": "stream",
     "text": [
      "\r",
      "Step 3/3 :  26%|██▌       | 1299/5000 [00:20<00:36, 101.95it/s]"
     ]
    },
    {
     "name": "stderr",
     "output_type": "stream",
     "text": [
      "\r",
      "Step 3/3 :  26%|██▌       | 1299/5000 [00:20<00:36, 101.95it/s]"
     ]
    },
    {
     "name": "stderr",
     "output_type": "stream",
     "text": [
      "\r",
      "Step 3/3 :  26%|██▌       | 1299/5000 [00:20<00:36, 101.95it/s]"
     ]
    },
    {
     "name": "stderr",
     "output_type": "stream",
     "text": [
      "\r",
      "Step 3/3 :  26%|██▌       | 1299/5000 [00:20<00:36, 101.95it/s]"
     ]
    },
    {
     "name": "stderr",
     "output_type": "stream",
     "text": [
      "\r",
      "Step 3/3 :  26%|██▌       | 1299/5000 [00:20<00:36, 101.95it/s]"
     ]
    },
    {
     "name": "stderr",
     "output_type": "stream",
     "text": [
      "\r",
      "Step 3/3 :  26%|██▌       | 1299/5000 [00:20<00:36, 101.95it/s]"
     ]
    },
    {
     "name": "stderr",
     "output_type": "stream",
     "text": [
      "\r",
      "Step 3/3 :  26%|██▌       | 1299/5000 [00:20<00:36, 101.95it/s]"
     ]
    },
    {
     "name": "stderr",
     "output_type": "stream",
     "text": [
      "\r",
      "Step 3/3 :  26%|██▌       | 1310/5000 [00:20<00:35, 104.22it/s]"
     ]
    },
    {
     "name": "stderr",
     "output_type": "stream",
     "text": [
      "\r",
      "Step 3/3 :  26%|██▌       | 1310/5000 [00:20<00:35, 104.22it/s]"
     ]
    },
    {
     "name": "stderr",
     "output_type": "stream",
     "text": [
      "\r",
      "Step 3/3 :  26%|██▌       | 1310/5000 [00:20<00:35, 104.22it/s]"
     ]
    },
    {
     "name": "stderr",
     "output_type": "stream",
     "text": [
      "\r",
      "Step 3/3 :  26%|██▌       | 1310/5000 [00:20<00:35, 104.22it/s]"
     ]
    },
    {
     "name": "stderr",
     "output_type": "stream",
     "text": [
      "\r",
      "Step 3/3 :  26%|██▌       | 1310/5000 [00:20<00:35, 104.22it/s]"
     ]
    },
    {
     "name": "stderr",
     "output_type": "stream",
     "text": [
      "\r",
      "Step 3/3 :  26%|██▌       | 1310/5000 [00:20<00:35, 104.22it/s]"
     ]
    },
    {
     "name": "stderr",
     "output_type": "stream",
     "text": [
      "\r",
      "Step 3/3 :  26%|██▌       | 1310/5000 [00:20<00:35, 104.22it/s]"
     ]
    },
    {
     "name": "stderr",
     "output_type": "stream",
     "text": [
      "\r",
      "Step 3/3 :  26%|██▌       | 1310/5000 [00:20<00:35, 104.22it/s]"
     ]
    },
    {
     "name": "stderr",
     "output_type": "stream",
     "text": [
      "\r",
      "Step 3/3 :  26%|██▌       | 1310/5000 [00:20<00:35, 104.22it/s]"
     ]
    },
    {
     "name": "stderr",
     "output_type": "stream",
     "text": [
      "\r",
      "Step 3/3 :  26%|██▌       | 1310/5000 [00:20<00:35, 104.22it/s]"
     ]
    },
    {
     "name": "stderr",
     "output_type": "stream",
     "text": [
      "\r",
      "Step 3/3 :  26%|██▌       | 1310/5000 [00:20<00:35, 104.22it/s]"
     ]
    },
    {
     "name": "stderr",
     "output_type": "stream",
     "text": [
      "\r",
      "Step 3/3 :  26%|██▌       | 1310/5000 [00:20<00:35, 104.22it/s]"
     ]
    },
    {
     "name": "stderr",
     "output_type": "stream",
     "text": [
      "\r",
      "Step 3/3 :  26%|██▌       | 1310/5000 [00:20<00:35, 104.22it/s]"
     ]
    },
    {
     "name": "stderr",
     "output_type": "stream",
     "text": [
      "\r",
      "Step 3/3 :  26%|██▋       | 1322/5000 [00:20<00:34, 106.41it/s]"
     ]
    },
    {
     "name": "stderr",
     "output_type": "stream",
     "text": [
      "\r",
      "Step 3/3 :  26%|██▋       | 1322/5000 [00:20<00:34, 106.41it/s]"
     ]
    },
    {
     "name": "stderr",
     "output_type": "stream",
     "text": [
      "\r",
      "Step 3/3 :  26%|██▋       | 1322/5000 [00:20<00:34, 106.41it/s]"
     ]
    },
    {
     "name": "stderr",
     "output_type": "stream",
     "text": [
      "\r",
      "Step 3/3 :  26%|██▋       | 1322/5000 [00:20<00:34, 106.41it/s]"
     ]
    },
    {
     "name": "stderr",
     "output_type": "stream",
     "text": [
      "\r",
      "Step 3/3 :  26%|██▋       | 1322/5000 [00:20<00:34, 106.41it/s]"
     ]
    },
    {
     "name": "stderr",
     "output_type": "stream",
     "text": [
      "\r",
      "Step 3/3 :  26%|██▋       | 1322/5000 [00:20<00:34, 106.41it/s]"
     ]
    },
    {
     "name": "stderr",
     "output_type": "stream",
     "text": [
      "\r",
      "Step 3/3 :  26%|██▋       | 1322/5000 [00:20<00:34, 106.41it/s]"
     ]
    },
    {
     "name": "stderr",
     "output_type": "stream",
     "text": [
      "\r",
      "Step 3/3 :  26%|██▋       | 1322/5000 [00:20<00:34, 106.41it/s]"
     ]
    },
    {
     "name": "stderr",
     "output_type": "stream",
     "text": [
      "\r",
      "Step 3/3 :  26%|██▋       | 1322/5000 [00:20<00:34, 106.41it/s]"
     ]
    },
    {
     "name": "stderr",
     "output_type": "stream",
     "text": [
      "\r",
      "Step 3/3 :  26%|██▋       | 1322/5000 [00:20<00:34, 106.41it/s]"
     ]
    },
    {
     "name": "stderr",
     "output_type": "stream",
     "text": [
      "\r",
      "Step 3/3 :  26%|██▋       | 1322/5000 [00:20<00:34, 106.41it/s]"
     ]
    },
    {
     "name": "stderr",
     "output_type": "stream",
     "text": [
      "\r",
      "Step 3/3 :  26%|██▋       | 1322/5000 [00:20<00:34, 106.41it/s]"
     ]
    },
    {
     "name": "stderr",
     "output_type": "stream",
     "text": [
      "\r",
      "Step 3/3 :  27%|██▋       | 1333/5000 [00:20<00:35, 103.01it/s]"
     ]
    },
    {
     "name": "stderr",
     "output_type": "stream",
     "text": [
      "\r",
      "Step 3/3 :  27%|██▋       | 1333/5000 [00:20<00:35, 103.01it/s]"
     ]
    },
    {
     "name": "stderr",
     "output_type": "stream",
     "text": [
      "\r",
      "Step 3/3 :  27%|██▋       | 1333/5000 [00:20<00:35, 103.01it/s]"
     ]
    },
    {
     "name": "stderr",
     "output_type": "stream",
     "text": [
      "\r",
      "Step 3/3 :  27%|██▋       | 1333/5000 [00:20<00:35, 103.01it/s]"
     ]
    },
    {
     "name": "stderr",
     "output_type": "stream",
     "text": [
      "\r",
      "Step 3/3 :  27%|██▋       | 1333/5000 [00:20<00:35, 103.01it/s]"
     ]
    },
    {
     "name": "stderr",
     "output_type": "stream",
     "text": [
      "\r",
      "Step 3/3 :  27%|██▋       | 1333/5000 [00:20<00:35, 103.01it/s]"
     ]
    },
    {
     "name": "stderr",
     "output_type": "stream",
     "text": [
      "\r",
      "Step 3/3 :  27%|██▋       | 1333/5000 [00:20<00:35, 103.01it/s]"
     ]
    },
    {
     "name": "stderr",
     "output_type": "stream",
     "text": [
      "\r",
      "Step 3/3 :  27%|██▋       | 1333/5000 [00:20<00:35, 103.01it/s]"
     ]
    },
    {
     "name": "stderr",
     "output_type": "stream",
     "text": [
      "\r",
      "Step 3/3 :  27%|██▋       | 1333/5000 [00:20<00:35, 103.01it/s]"
     ]
    },
    {
     "name": "stderr",
     "output_type": "stream",
     "text": [
      "\r",
      "Step 3/3 :  27%|██▋       | 1333/5000 [00:20<00:35, 103.01it/s]"
     ]
    },
    {
     "name": "stderr",
     "output_type": "stream",
     "text": [
      "\r",
      "Step 3/3 :  27%|██▋       | 1333/5000 [00:20<00:35, 103.01it/s]"
     ]
    },
    {
     "name": "stderr",
     "output_type": "stream",
     "text": [
      "\r",
      "Step 3/3 :  27%|██▋       | 1333/5000 [00:20<00:35, 103.01it/s]"
     ]
    },
    {
     "name": "stderr",
     "output_type": "stream",
     "text": [
      "\r",
      "Step 3/3 :  27%|██▋       | 1344/5000 [00:20<00:37, 98.33it/s] "
     ]
    },
    {
     "name": "stderr",
     "output_type": "stream",
     "text": [
      "\r",
      "Step 3/3 :  27%|██▋       | 1344/5000 [00:20<00:37, 98.33it/s]"
     ]
    },
    {
     "name": "stderr",
     "output_type": "stream",
     "text": [
      "\r",
      "Step 3/3 :  27%|██▋       | 1344/5000 [00:20<00:37, 98.33it/s]"
     ]
    },
    {
     "name": "stderr",
     "output_type": "stream",
     "text": [
      "\r",
      "Step 3/3 :  27%|██▋       | 1344/5000 [00:21<00:37, 98.33it/s]"
     ]
    },
    {
     "name": "stderr",
     "output_type": "stream",
     "text": [
      "\r",
      "Step 3/3 :  27%|██▋       | 1344/5000 [00:21<00:37, 98.33it/s]"
     ]
    },
    {
     "name": "stderr",
     "output_type": "stream",
     "text": [
      "\r",
      "Step 3/3 :  27%|██▋       | 1344/5000 [00:21<00:37, 98.33it/s]"
     ]
    },
    {
     "name": "stderr",
     "output_type": "stream",
     "text": [
      "\r",
      "Step 3/3 :  27%|██▋       | 1344/5000 [00:21<00:37, 98.33it/s]"
     ]
    },
    {
     "name": "stderr",
     "output_type": "stream",
     "text": [
      "\r",
      "Step 3/3 :  27%|██▋       | 1344/5000 [00:21<00:37, 98.33it/s]"
     ]
    },
    {
     "name": "stderr",
     "output_type": "stream",
     "text": [
      "\r",
      "Step 3/3 :  27%|██▋       | 1344/5000 [00:21<00:37, 98.33it/s]"
     ]
    },
    {
     "name": "stderr",
     "output_type": "stream",
     "text": [
      "\r",
      "Step 3/3 :  27%|██▋       | 1344/5000 [00:21<00:37, 98.33it/s]"
     ]
    },
    {
     "name": "stderr",
     "output_type": "stream",
     "text": [
      "\r",
      "Step 3/3 :  27%|██▋       | 1344/5000 [00:21<00:37, 98.33it/s]"
     ]
    },
    {
     "name": "stderr",
     "output_type": "stream",
     "text": [
      "\r",
      "Step 3/3 :  27%|██▋       | 1344/5000 [00:21<00:37, 98.33it/s]"
     ]
    },
    {
     "name": "stderr",
     "output_type": "stream",
     "text": [
      "\r",
      "Step 3/3 :  27%|██▋       | 1355/5000 [00:21<00:35, 101.53it/s]"
     ]
    },
    {
     "name": "stderr",
     "output_type": "stream",
     "text": [
      "\r",
      "Step 3/3 :  27%|██▋       | 1355/5000 [00:21<00:35, 101.53it/s]"
     ]
    },
    {
     "name": "stderr",
     "output_type": "stream",
     "text": [
      "\r",
      "Step 3/3 :  27%|██▋       | 1355/5000 [00:21<00:35, 101.53it/s]"
     ]
    },
    {
     "name": "stderr",
     "output_type": "stream",
     "text": [
      "\r",
      "Step 3/3 :  27%|██▋       | 1355/5000 [00:21<00:35, 101.53it/s]"
     ]
    },
    {
     "name": "stderr",
     "output_type": "stream",
     "text": [
      "\r",
      "Step 3/3 :  27%|██▋       | 1355/5000 [00:21<00:35, 101.53it/s]"
     ]
    },
    {
     "name": "stderr",
     "output_type": "stream",
     "text": [
      "\r",
      "Step 3/3 :  27%|██▋       | 1355/5000 [00:21<00:35, 101.53it/s]"
     ]
    },
    {
     "name": "stderr",
     "output_type": "stream",
     "text": [
      "\r",
      "Step 3/3 :  27%|██▋       | 1355/5000 [00:21<00:35, 101.53it/s]"
     ]
    },
    {
     "name": "stderr",
     "output_type": "stream",
     "text": [
      "\r",
      "Step 3/3 :  27%|██▋       | 1355/5000 [00:21<00:35, 101.53it/s]"
     ]
    },
    {
     "name": "stderr",
     "output_type": "stream",
     "text": [
      "\r",
      "Step 3/3 :  27%|██▋       | 1355/5000 [00:21<00:35, 101.53it/s]"
     ]
    },
    {
     "name": "stderr",
     "output_type": "stream",
     "text": [
      "\r",
      "Step 3/3 :  27%|██▋       | 1355/5000 [00:21<00:35, 101.53it/s]"
     ]
    },
    {
     "name": "stderr",
     "output_type": "stream",
     "text": [
      "\r",
      "Step 3/3 :  27%|██▋       | 1355/5000 [00:21<00:35, 101.53it/s]"
     ]
    },
    {
     "name": "stderr",
     "output_type": "stream",
     "text": [
      "\r",
      "Step 3/3 :  27%|██▋       | 1355/5000 [00:21<00:35, 101.53it/s]"
     ]
    },
    {
     "name": "stderr",
     "output_type": "stream",
     "text": [
      "\r",
      "Step 3/3 :  27%|██▋       | 1366/5000 [00:21<00:35, 101.25it/s]"
     ]
    },
    {
     "name": "stderr",
     "output_type": "stream",
     "text": [
      "\r",
      "Step 3/3 :  27%|██▋       | 1366/5000 [00:21<00:35, 101.25it/s]"
     ]
    },
    {
     "name": "stderr",
     "output_type": "stream",
     "text": [
      "\r",
      "Step 3/3 :  27%|██▋       | 1366/5000 [00:21<00:35, 101.25it/s]"
     ]
    },
    {
     "name": "stderr",
     "output_type": "stream",
     "text": [
      "\r",
      "Step 3/3 :  27%|██▋       | 1366/5000 [00:21<00:35, 101.25it/s]"
     ]
    },
    {
     "name": "stderr",
     "output_type": "stream",
     "text": [
      "\r",
      "Step 3/3 :  27%|██▋       | 1366/5000 [00:21<00:35, 101.25it/s]"
     ]
    },
    {
     "name": "stderr",
     "output_type": "stream",
     "text": [
      "\r",
      "Step 3/3 :  27%|██▋       | 1366/5000 [00:21<00:35, 101.25it/s]"
     ]
    },
    {
     "name": "stderr",
     "output_type": "stream",
     "text": [
      "\r",
      "Step 3/3 :  27%|██▋       | 1366/5000 [00:21<00:35, 101.25it/s]"
     ]
    },
    {
     "name": "stderr",
     "output_type": "stream",
     "text": [
      "\r",
      "Step 3/3 :  27%|██▋       | 1366/5000 [00:21<00:35, 101.25it/s]"
     ]
    },
    {
     "name": "stderr",
     "output_type": "stream",
     "text": [
      "\r",
      "Step 3/3 :  27%|██▋       | 1366/5000 [00:21<00:35, 101.25it/s]"
     ]
    },
    {
     "name": "stderr",
     "output_type": "stream",
     "text": [
      "\r",
      "Step 3/3 :  27%|██▋       | 1366/5000 [00:21<00:35, 101.25it/s]"
     ]
    },
    {
     "name": "stderr",
     "output_type": "stream",
     "text": [
      "\r",
      "Step 3/3 :  27%|██▋       | 1366/5000 [00:21<00:35, 101.25it/s]"
     ]
    },
    {
     "name": "stderr",
     "output_type": "stream",
     "text": [
      "\r",
      "Step 3/3 :  27%|██▋       | 1366/5000 [00:21<00:35, 101.25it/s]"
     ]
    },
    {
     "name": "stderr",
     "output_type": "stream",
     "text": [
      "\r",
      "Step 3/3 :  27%|██▋       | 1366/5000 [00:21<00:35, 101.25it/s]"
     ]
    },
    {
     "name": "stderr",
     "output_type": "stream",
     "text": [
      "\r",
      "Step 3/3 :  28%|██▊       | 1378/5000 [00:21<00:34, 104.18it/s]"
     ]
    },
    {
     "name": "stderr",
     "output_type": "stream",
     "text": [
      "\r",
      "Step 3/3 :  28%|██▊       | 1378/5000 [00:21<00:34, 104.18it/s]"
     ]
    },
    {
     "name": "stderr",
     "output_type": "stream",
     "text": [
      "\r",
      "Step 3/3 :  28%|██▊       | 1378/5000 [00:21<00:34, 104.18it/s]"
     ]
    },
    {
     "name": "stderr",
     "output_type": "stream",
     "text": [
      "\r",
      "Step 3/3 :  28%|██▊       | 1378/5000 [00:21<00:34, 104.18it/s]"
     ]
    },
    {
     "name": "stderr",
     "output_type": "stream",
     "text": [
      "\r",
      "Step 3/3 :  28%|██▊       | 1378/5000 [00:21<00:34, 104.18it/s]"
     ]
    },
    {
     "name": "stderr",
     "output_type": "stream",
     "text": [
      "\r",
      "Step 3/3 :  28%|██▊       | 1378/5000 [00:21<00:34, 104.18it/s]"
     ]
    },
    {
     "name": "stderr",
     "output_type": "stream",
     "text": [
      "\r",
      "Step 3/3 :  28%|██▊       | 1378/5000 [00:21<00:34, 104.18it/s]"
     ]
    },
    {
     "name": "stderr",
     "output_type": "stream",
     "text": [
      "\r",
      "Step 3/3 :  28%|██▊       | 1378/5000 [00:21<00:34, 104.18it/s]"
     ]
    },
    {
     "name": "stderr",
     "output_type": "stream",
     "text": [
      "\r",
      "Step 3/3 :  28%|██▊       | 1378/5000 [00:21<00:34, 104.18it/s]"
     ]
    },
    {
     "name": "stderr",
     "output_type": "stream",
     "text": [
      "\r",
      "Step 3/3 :  28%|██▊       | 1378/5000 [00:21<00:34, 104.18it/s]"
     ]
    },
    {
     "name": "stderr",
     "output_type": "stream",
     "text": [
      "\r",
      "Step 3/3 :  28%|██▊       | 1378/5000 [00:21<00:34, 104.18it/s]"
     ]
    },
    {
     "name": "stderr",
     "output_type": "stream",
     "text": [
      "\r",
      "Step 3/3 :  28%|██▊       | 1378/5000 [00:21<00:34, 104.18it/s]"
     ]
    },
    {
     "name": "stderr",
     "output_type": "stream",
     "text": [
      "\r",
      "Step 3/3 :  28%|██▊       | 1378/5000 [00:21<00:34, 104.18it/s]"
     ]
    },
    {
     "name": "stderr",
     "output_type": "stream",
     "text": [
      "\r",
      "Step 3/3 :  28%|██▊       | 1390/5000 [00:21<00:33, 107.73it/s]"
     ]
    },
    {
     "name": "stderr",
     "output_type": "stream",
     "text": [
      "\r",
      "Step 3/3 :  28%|██▊       | 1390/5000 [00:21<00:33, 107.73it/s]"
     ]
    },
    {
     "name": "stderr",
     "output_type": "stream",
     "text": [
      "\r",
      "Step 3/3 :  28%|██▊       | 1390/5000 [00:21<00:33, 107.73it/s]"
     ]
    },
    {
     "name": "stderr",
     "output_type": "stream",
     "text": [
      "\r",
      "Step 3/3 :  28%|██▊       | 1390/5000 [00:21<00:33, 107.73it/s]"
     ]
    },
    {
     "name": "stderr",
     "output_type": "stream",
     "text": [
      "\r",
      "Step 3/3 :  28%|██▊       | 1390/5000 [00:21<00:33, 107.73it/s]"
     ]
    },
    {
     "name": "stderr",
     "output_type": "stream",
     "text": [
      "\r",
      "Step 3/3 :  28%|██▊       | 1390/5000 [00:21<00:33, 107.73it/s]"
     ]
    },
    {
     "name": "stderr",
     "output_type": "stream",
     "text": [
      "\r",
      "Step 3/3 :  28%|██▊       | 1390/5000 [00:21<00:33, 107.73it/s]"
     ]
    },
    {
     "name": "stderr",
     "output_type": "stream",
     "text": [
      "\r",
      "Step 3/3 :  28%|██▊       | 1390/5000 [00:21<00:33, 107.73it/s]"
     ]
    },
    {
     "name": "stderr",
     "output_type": "stream",
     "text": [
      "\r",
      "Step 3/3 :  28%|██▊       | 1390/5000 [00:21<00:33, 107.73it/s]"
     ]
    },
    {
     "name": "stderr",
     "output_type": "stream",
     "text": [
      "\r",
      "Step 3/3 :  28%|██▊       | 1390/5000 [00:21<00:33, 107.73it/s]"
     ]
    },
    {
     "name": "stderr",
     "output_type": "stream",
     "text": [
      "\r",
      "Step 3/3 :  28%|██▊       | 1390/5000 [00:21<00:33, 107.73it/s]"
     ]
    },
    {
     "name": "stderr",
     "output_type": "stream",
     "text": [
      "\r",
      "Step 3/3 :  28%|██▊       | 1390/5000 [00:21<00:33, 107.73it/s]"
     ]
    },
    {
     "name": "stderr",
     "output_type": "stream",
     "text": [
      "\r",
      "Step 3/3 :  28%|██▊       | 1401/5000 [00:21<00:34, 105.21it/s]"
     ]
    },
    {
     "name": "stderr",
     "output_type": "stream",
     "text": [
      "\r",
      "Step 3/3 :  28%|██▊       | 1401/5000 [00:21<00:34, 105.21it/s]"
     ]
    },
    {
     "name": "stderr",
     "output_type": "stream",
     "text": [
      "\r",
      "Step 3/3 :  28%|██▊       | 1401/5000 [00:21<00:34, 105.21it/s]"
     ]
    },
    {
     "name": "stderr",
     "output_type": "stream",
     "text": [
      "\r",
      "Step 3/3 :  28%|██▊       | 1401/5000 [00:21<00:34, 105.21it/s]"
     ]
    },
    {
     "name": "stderr",
     "output_type": "stream",
     "text": [
      "\r",
      "Step 3/3 :  28%|██▊       | 1401/5000 [00:21<00:34, 105.21it/s]"
     ]
    },
    {
     "name": "stderr",
     "output_type": "stream",
     "text": [
      "\r",
      "Step 3/3 :  28%|██▊       | 1401/5000 [00:21<00:34, 105.21it/s]"
     ]
    },
    {
     "name": "stderr",
     "output_type": "stream",
     "text": [
      "\r",
      "Step 3/3 :  28%|██▊       | 1401/5000 [00:21<00:34, 105.21it/s]"
     ]
    },
    {
     "name": "stderr",
     "output_type": "stream",
     "text": [
      "\r",
      "Step 3/3 :  28%|██▊       | 1401/5000 [00:21<00:34, 105.21it/s]"
     ]
    },
    {
     "name": "stderr",
     "output_type": "stream",
     "text": [
      "\r",
      "Step 3/3 :  28%|██▊       | 1401/5000 [00:21<00:34, 105.21it/s]"
     ]
    },
    {
     "name": "stderr",
     "output_type": "stream",
     "text": [
      "\r",
      "Step 3/3 :  28%|██▊       | 1401/5000 [00:21<00:34, 105.21it/s]"
     ]
    },
    {
     "name": "stderr",
     "output_type": "stream",
     "text": [
      "\r",
      "Step 3/3 :  28%|██▊       | 1401/5000 [00:21<00:34, 105.21it/s]"
     ]
    },
    {
     "name": "stderr",
     "output_type": "stream",
     "text": [
      "\r",
      "Step 3/3 :  28%|██▊       | 1401/5000 [00:21<00:34, 105.21it/s]"
     ]
    },
    {
     "name": "stderr",
     "output_type": "stream",
     "text": [
      "\r",
      "Step 3/3 :  28%|██▊       | 1412/5000 [00:21<00:34, 103.92it/s]"
     ]
    },
    {
     "name": "stderr",
     "output_type": "stream",
     "text": [
      "\r",
      "Step 3/3 :  28%|██▊       | 1412/5000 [00:21<00:34, 103.92it/s]"
     ]
    },
    {
     "name": "stderr",
     "output_type": "stream",
     "text": [
      "\r",
      "Step 3/3 :  28%|██▊       | 1412/5000 [00:21<00:34, 103.92it/s]"
     ]
    },
    {
     "name": "stderr",
     "output_type": "stream",
     "text": [
      "\r",
      "Step 3/3 :  28%|██▊       | 1412/5000 [00:21<00:34, 103.92it/s]"
     ]
    },
    {
     "name": "stderr",
     "output_type": "stream",
     "text": [
      "\r",
      "Step 3/3 :  28%|██▊       | 1412/5000 [00:21<00:34, 103.92it/s]"
     ]
    },
    {
     "name": "stderr",
     "output_type": "stream",
     "text": [
      "\r",
      "Step 3/3 :  28%|██▊       | 1412/5000 [00:21<00:34, 103.92it/s]"
     ]
    },
    {
     "name": "stderr",
     "output_type": "stream",
     "text": [
      "\r",
      "Step 3/3 :  28%|██▊       | 1412/5000 [00:21<00:34, 103.92it/s]"
     ]
    },
    {
     "name": "stderr",
     "output_type": "stream",
     "text": [
      "\r",
      "Step 3/3 :  28%|██▊       | 1412/5000 [00:21<00:34, 103.92it/s]"
     ]
    },
    {
     "name": "stderr",
     "output_type": "stream",
     "text": [
      "\r",
      "Step 3/3 :  28%|██▊       | 1412/5000 [00:21<00:34, 103.92it/s]"
     ]
    },
    {
     "name": "stderr",
     "output_type": "stream",
     "text": [
      "\r",
      "Step 3/3 :  28%|██▊       | 1412/5000 [00:21<00:34, 103.92it/s]"
     ]
    },
    {
     "name": "stderr",
     "output_type": "stream",
     "text": [
      "\r",
      "Step 3/3 :  28%|██▊       | 1412/5000 [00:21<00:34, 103.92it/s]"
     ]
    },
    {
     "name": "stderr",
     "output_type": "stream",
     "text": [
      "\r",
      "Step 3/3 :  28%|██▊       | 1412/5000 [00:21<00:34, 103.92it/s]"
     ]
    },
    {
     "name": "stderr",
     "output_type": "stream",
     "text": [
      "\r",
      "Step 3/3 :  28%|██▊       | 1412/5000 [00:21<00:34, 103.92it/s]"
     ]
    },
    {
     "name": "stderr",
     "output_type": "stream",
     "text": [
      "\r",
      "Step 3/3 :  28%|██▊       | 1424/5000 [00:21<00:33, 107.86it/s]"
     ]
    },
    {
     "name": "stderr",
     "output_type": "stream",
     "text": [
      "\r",
      "Step 3/3 :  28%|██▊       | 1424/5000 [00:21<00:33, 107.86it/s]"
     ]
    },
    {
     "name": "stderr",
     "output_type": "stream",
     "text": [
      "\r",
      "Step 3/3 :  28%|██▊       | 1424/5000 [00:21<00:33, 107.86it/s]"
     ]
    },
    {
     "name": "stderr",
     "output_type": "stream",
     "text": [
      "\r",
      "Step 3/3 :  28%|██▊       | 1424/5000 [00:21<00:33, 107.86it/s]"
     ]
    },
    {
     "name": "stderr",
     "output_type": "stream",
     "text": [
      "\r",
      "Step 3/3 :  28%|██▊       | 1424/5000 [00:21<00:33, 107.86it/s]"
     ]
    },
    {
     "name": "stderr",
     "output_type": "stream",
     "text": [
      "\r",
      "Step 3/3 :  28%|██▊       | 1424/5000 [00:21<00:33, 107.86it/s]"
     ]
    },
    {
     "name": "stderr",
     "output_type": "stream",
     "text": [
      "\r",
      "Step 3/3 :  28%|██▊       | 1424/5000 [00:21<00:33, 107.86it/s]"
     ]
    },
    {
     "name": "stderr",
     "output_type": "stream",
     "text": [
      "\r",
      "Step 3/3 :  28%|██▊       | 1424/5000 [00:21<00:33, 107.86it/s]"
     ]
    },
    {
     "name": "stderr",
     "output_type": "stream",
     "text": [
      "\r",
      "Step 3/3 :  28%|██▊       | 1424/5000 [00:21<00:33, 107.86it/s]"
     ]
    },
    {
     "name": "stderr",
     "output_type": "stream",
     "text": [
      "\r",
      "Step 3/3 :  28%|██▊       | 1424/5000 [00:21<00:33, 107.86it/s]"
     ]
    },
    {
     "name": "stderr",
     "output_type": "stream",
     "text": [
      "\r",
      "Step 3/3 :  28%|██▊       | 1424/5000 [00:21<00:33, 107.86it/s]"
     ]
    },
    {
     "name": "stderr",
     "output_type": "stream",
     "text": [
      "\r",
      "Step 3/3 :  28%|██▊       | 1424/5000 [00:21<00:33, 107.86it/s]"
     ]
    },
    {
     "name": "stderr",
     "output_type": "stream",
     "text": [
      "\r",
      "Step 3/3 :  29%|██▊       | 1435/5000 [00:21<00:33, 106.64it/s]"
     ]
    },
    {
     "name": "stderr",
     "output_type": "stream",
     "text": [
      "\r",
      "Step 3/3 :  29%|██▊       | 1435/5000 [00:21<00:33, 106.64it/s]"
     ]
    },
    {
     "name": "stderr",
     "output_type": "stream",
     "text": [
      "\r",
      "Step 3/3 :  29%|██▊       | 1435/5000 [00:21<00:33, 106.64it/s]"
     ]
    },
    {
     "name": "stderr",
     "output_type": "stream",
     "text": [
      "\r",
      "Step 3/3 :  29%|██▊       | 1435/5000 [00:21<00:33, 106.64it/s]"
     ]
    },
    {
     "name": "stderr",
     "output_type": "stream",
     "text": [
      "\r",
      "Step 3/3 :  29%|██▊       | 1435/5000 [00:21<00:33, 106.64it/s]"
     ]
    },
    {
     "name": "stderr",
     "output_type": "stream",
     "text": [
      "\r",
      "Step 3/3 :  29%|██▊       | 1435/5000 [00:21<00:33, 106.64it/s]"
     ]
    },
    {
     "name": "stderr",
     "output_type": "stream",
     "text": [
      "\r",
      "Step 3/3 :  29%|██▊       | 1435/5000 [00:21<00:33, 106.64it/s]"
     ]
    },
    {
     "name": "stderr",
     "output_type": "stream",
     "text": [
      "\r",
      "Step 3/3 :  29%|██▊       | 1435/5000 [00:21<00:33, 106.64it/s]"
     ]
    },
    {
     "name": "stderr",
     "output_type": "stream",
     "text": [
      "\r",
      "Step 3/3 :  29%|██▊       | 1435/5000 [00:21<00:33, 106.64it/s]"
     ]
    },
    {
     "name": "stderr",
     "output_type": "stream",
     "text": [
      "\r",
      "Step 3/3 :  29%|██▊       | 1435/5000 [00:21<00:33, 106.64it/s]"
     ]
    },
    {
     "name": "stderr",
     "output_type": "stream",
     "text": [
      "\r",
      "Step 3/3 :  29%|██▊       | 1435/5000 [00:21<00:33, 106.64it/s]"
     ]
    },
    {
     "name": "stderr",
     "output_type": "stream",
     "text": [
      "\r",
      "Step 3/3 :  29%|██▊       | 1435/5000 [00:21<00:33, 106.64it/s]"
     ]
    },
    {
     "name": "stderr",
     "output_type": "stream",
     "text": [
      "\r",
      "Step 3/3 :  29%|██▉       | 1446/5000 [00:21<00:33, 106.38it/s]"
     ]
    },
    {
     "name": "stderr",
     "output_type": "stream",
     "text": [
      "\r",
      "Step 3/3 :  29%|██▉       | 1446/5000 [00:21<00:33, 106.38it/s]"
     ]
    },
    {
     "name": "stderr",
     "output_type": "stream",
     "text": [
      "\r",
      "Step 3/3 :  29%|██▉       | 1446/5000 [00:21<00:33, 106.38it/s]"
     ]
    },
    {
     "name": "stderr",
     "output_type": "stream",
     "text": [
      "\r",
      "Step 3/3 :  29%|██▉       | 1446/5000 [00:21<00:33, 106.38it/s]"
     ]
    },
    {
     "name": "stderr",
     "output_type": "stream",
     "text": [
      "\r",
      "Step 3/3 :  29%|██▉       | 1446/5000 [00:21<00:33, 106.38it/s]"
     ]
    },
    {
     "name": "stderr",
     "output_type": "stream",
     "text": [
      "\r",
      "Step 3/3 :  29%|██▉       | 1446/5000 [00:21<00:33, 106.38it/s]"
     ]
    },
    {
     "name": "stderr",
     "output_type": "stream",
     "text": [
      "\r",
      "Step 3/3 :  29%|██▉       | 1446/5000 [00:21<00:33, 106.38it/s]"
     ]
    },
    {
     "name": "stderr",
     "output_type": "stream",
     "text": [
      "\r",
      "Step 3/3 :  29%|██▉       | 1446/5000 [00:21<00:33, 106.38it/s]"
     ]
    },
    {
     "name": "stderr",
     "output_type": "stream",
     "text": [
      "\r",
      "Step 3/3 :  29%|██▉       | 1446/5000 [00:22<00:33, 106.38it/s]"
     ]
    },
    {
     "name": "stderr",
     "output_type": "stream",
     "text": [
      "\r",
      "Step 3/3 :  29%|██▉       | 1446/5000 [00:22<00:33, 106.38it/s]"
     ]
    },
    {
     "name": "stderr",
     "output_type": "stream",
     "text": [
      "\r",
      "Step 3/3 :  29%|██▉       | 1446/5000 [00:22<00:33, 106.38it/s]"
     ]
    },
    {
     "name": "stderr",
     "output_type": "stream",
     "text": [
      "\r",
      "Step 3/3 :  29%|██▉       | 1446/5000 [00:22<00:33, 106.38it/s]"
     ]
    },
    {
     "name": "stderr",
     "output_type": "stream",
     "text": [
      "\r",
      "Step 3/3 :  29%|██▉       | 1446/5000 [00:22<00:33, 106.38it/s]"
     ]
    },
    {
     "name": "stderr",
     "output_type": "stream",
     "text": [
      "\r",
      "Step 3/3 :  29%|██▉       | 1458/5000 [00:22<00:32, 107.82it/s]"
     ]
    },
    {
     "name": "stderr",
     "output_type": "stream",
     "text": [
      "\r",
      "Step 3/3 :  29%|██▉       | 1458/5000 [00:22<00:32, 107.82it/s]"
     ]
    },
    {
     "name": "stderr",
     "output_type": "stream",
     "text": [
      "\r",
      "Step 3/3 :  29%|██▉       | 1458/5000 [00:22<00:32, 107.82it/s]"
     ]
    },
    {
     "name": "stderr",
     "output_type": "stream",
     "text": [
      "\r",
      "Step 3/3 :  29%|██▉       | 1458/5000 [00:22<00:32, 107.82it/s]"
     ]
    },
    {
     "name": "stderr",
     "output_type": "stream",
     "text": [
      "\r",
      "Step 3/3 :  29%|██▉       | 1458/5000 [00:22<00:32, 107.82it/s]"
     ]
    },
    {
     "name": "stderr",
     "output_type": "stream",
     "text": [
      "\r",
      "Step 3/3 :  29%|██▉       | 1458/5000 [00:22<00:32, 107.82it/s]"
     ]
    },
    {
     "name": "stderr",
     "output_type": "stream",
     "text": [
      "\r",
      "Step 3/3 :  29%|██▉       | 1458/5000 [00:22<00:32, 107.82it/s]"
     ]
    },
    {
     "name": "stderr",
     "output_type": "stream",
     "text": [
      "\r",
      "Step 3/3 :  29%|██▉       | 1458/5000 [00:22<00:32, 107.82it/s]"
     ]
    },
    {
     "name": "stderr",
     "output_type": "stream",
     "text": [
      "\r",
      "Step 3/3 :  29%|██▉       | 1458/5000 [00:22<00:32, 107.82it/s]"
     ]
    },
    {
     "name": "stderr",
     "output_type": "stream",
     "text": [
      "\r",
      "Step 3/3 :  29%|██▉       | 1458/5000 [00:22<00:32, 107.82it/s]"
     ]
    },
    {
     "name": "stderr",
     "output_type": "stream",
     "text": [
      "\r",
      "Step 3/3 :  29%|██▉       | 1458/5000 [00:22<00:32, 107.82it/s]"
     ]
    },
    {
     "name": "stderr",
     "output_type": "stream",
     "text": [
      "\r",
      "Step 3/3 :  29%|██▉       | 1458/5000 [00:22<00:32, 107.82it/s]"
     ]
    },
    {
     "name": "stderr",
     "output_type": "stream",
     "text": [
      "\r",
      "Step 3/3 :  29%|██▉       | 1469/5000 [00:22<00:32, 107.50it/s]"
     ]
    },
    {
     "name": "stderr",
     "output_type": "stream",
     "text": [
      "\r",
      "Step 3/3 :  29%|██▉       | 1469/5000 [00:22<00:32, 107.50it/s]"
     ]
    },
    {
     "name": "stderr",
     "output_type": "stream",
     "text": [
      "\r",
      "Step 3/3 :  29%|██▉       | 1469/5000 [00:22<00:32, 107.50it/s]"
     ]
    },
    {
     "name": "stderr",
     "output_type": "stream",
     "text": [
      "\r",
      "Step 3/3 :  29%|██▉       | 1469/5000 [00:22<00:32, 107.50it/s]"
     ]
    },
    {
     "name": "stderr",
     "output_type": "stream",
     "text": [
      "\r",
      "Step 3/3 :  29%|██▉       | 1469/5000 [00:22<00:32, 107.50it/s]"
     ]
    },
    {
     "name": "stderr",
     "output_type": "stream",
     "text": [
      "\r",
      "Step 3/3 :  29%|██▉       | 1469/5000 [00:22<00:32, 107.50it/s]"
     ]
    },
    {
     "name": "stderr",
     "output_type": "stream",
     "text": [
      "\r",
      "Step 3/3 :  29%|██▉       | 1469/5000 [00:22<00:32, 107.50it/s]"
     ]
    },
    {
     "name": "stderr",
     "output_type": "stream",
     "text": [
      "\r",
      "Step 3/3 :  29%|██▉       | 1469/5000 [00:22<00:32, 107.50it/s]"
     ]
    },
    {
     "name": "stderr",
     "output_type": "stream",
     "text": [
      "\r",
      "Step 3/3 :  29%|██▉       | 1469/5000 [00:22<00:32, 107.50it/s]"
     ]
    },
    {
     "name": "stderr",
     "output_type": "stream",
     "text": [
      "\r",
      "Step 3/3 :  29%|██▉       | 1469/5000 [00:22<00:32, 107.50it/s]"
     ]
    },
    {
     "name": "stderr",
     "output_type": "stream",
     "text": [
      "\r",
      "Step 3/3 :  29%|██▉       | 1469/5000 [00:22<00:32, 107.50it/s]"
     ]
    },
    {
     "name": "stderr",
     "output_type": "stream",
     "text": [
      "\r",
      "Step 3/3 :  29%|██▉       | 1469/5000 [00:22<00:32, 107.50it/s]"
     ]
    },
    {
     "name": "stderr",
     "output_type": "stream",
     "text": [
      "\r",
      "Step 3/3 :  29%|██▉       | 1469/5000 [00:22<00:32, 107.50it/s]"
     ]
    },
    {
     "name": "stderr",
     "output_type": "stream",
     "text": [
      "\r",
      "Step 3/3 :  30%|██▉       | 1481/5000 [00:22<00:31, 110.46it/s]"
     ]
    },
    {
     "name": "stderr",
     "output_type": "stream",
     "text": [
      "\r",
      "Step 3/3 :  30%|██▉       | 1481/5000 [00:22<00:31, 110.46it/s]"
     ]
    },
    {
     "name": "stderr",
     "output_type": "stream",
     "text": [
      "\r",
      "Step 3/3 :  30%|██▉       | 1481/5000 [00:22<00:31, 110.46it/s]"
     ]
    },
    {
     "name": "stderr",
     "output_type": "stream",
     "text": [
      "\r",
      "Step 3/3 :  30%|██▉       | 1481/5000 [00:22<00:31, 110.46it/s]"
     ]
    },
    {
     "name": "stderr",
     "output_type": "stream",
     "text": [
      "\r",
      "Step 3/3 :  30%|██▉       | 1481/5000 [00:22<00:31, 110.46it/s]"
     ]
    },
    {
     "name": "stderr",
     "output_type": "stream",
     "text": [
      "\r",
      "Step 3/3 :  30%|██▉       | 1481/5000 [00:22<00:31, 110.46it/s]"
     ]
    },
    {
     "name": "stderr",
     "output_type": "stream",
     "text": [
      "\r",
      "Step 3/3 :  30%|██▉       | 1481/5000 [00:22<00:31, 110.46it/s]"
     ]
    },
    {
     "name": "stderr",
     "output_type": "stream",
     "text": [
      "\r",
      "Step 3/3 :  30%|██▉       | 1481/5000 [00:22<00:31, 110.46it/s]"
     ]
    },
    {
     "name": "stderr",
     "output_type": "stream",
     "text": [
      "\r",
      "Step 3/3 :  30%|██▉       | 1481/5000 [00:22<00:31, 110.46it/s]"
     ]
    },
    {
     "name": "stderr",
     "output_type": "stream",
     "text": [
      "\r",
      "Step 3/3 :  30%|██▉       | 1481/5000 [00:22<00:31, 110.46it/s]"
     ]
    },
    {
     "name": "stderr",
     "output_type": "stream",
     "text": [
      "\r",
      "Step 3/3 :  30%|██▉       | 1481/5000 [00:22<00:31, 110.46it/s]"
     ]
    },
    {
     "name": "stderr",
     "output_type": "stream",
     "text": [
      "\r",
      "Step 3/3 :  30%|██▉       | 1481/5000 [00:22<00:31, 110.46it/s]"
     ]
    },
    {
     "name": "stderr",
     "output_type": "stream",
     "text": [
      "\r",
      "Step 3/3 :  30%|██▉       | 1481/5000 [00:22<00:31, 110.46it/s]"
     ]
    },
    {
     "name": "stderr",
     "output_type": "stream",
     "text": [
      "\r",
      "Step 3/3 :  30%|██▉       | 1493/5000 [00:22<00:31, 112.60it/s]"
     ]
    },
    {
     "name": "stderr",
     "output_type": "stream",
     "text": [
      "\r",
      "Step 3/3 :  30%|██▉       | 1493/5000 [00:22<00:31, 112.60it/s]"
     ]
    },
    {
     "name": "stderr",
     "output_type": "stream",
     "text": [
      "\r",
      "Step 3/3 :  30%|██▉       | 1493/5000 [00:22<00:31, 112.60it/s]"
     ]
    },
    {
     "name": "stderr",
     "output_type": "stream",
     "text": [
      "\r",
      "Step 3/3 :  30%|██▉       | 1493/5000 [00:22<00:31, 112.60it/s]"
     ]
    },
    {
     "name": "stderr",
     "output_type": "stream",
     "text": [
      "\r",
      "Step 3/3 :  30%|██▉       | 1493/5000 [00:22<00:31, 112.60it/s]"
     ]
    },
    {
     "name": "stderr",
     "output_type": "stream",
     "text": [
      "\r",
      "Step 3/3 :  30%|██▉       | 1493/5000 [00:22<00:31, 112.60it/s]"
     ]
    },
    {
     "name": "stderr",
     "output_type": "stream",
     "text": [
      "\r",
      "Step 3/3 :  30%|██▉       | 1493/5000 [00:22<00:31, 112.60it/s]"
     ]
    },
    {
     "name": "stderr",
     "output_type": "stream",
     "text": [
      "\r",
      "Step 3/3 :  30%|██▉       | 1493/5000 [00:22<00:31, 112.60it/s]"
     ]
    },
    {
     "name": "stderr",
     "output_type": "stream",
     "text": [
      "\r",
      "Step 3/3 :  30%|██▉       | 1493/5000 [00:22<00:31, 112.60it/s]"
     ]
    },
    {
     "name": "stderr",
     "output_type": "stream",
     "text": [
      "\r",
      "Step 3/3 :  30%|██▉       | 1493/5000 [00:22<00:31, 112.60it/s]"
     ]
    },
    {
     "name": "stderr",
     "output_type": "stream",
     "text": [
      "\r",
      "Step 3/3 :  30%|██▉       | 1493/5000 [00:22<00:31, 112.60it/s]"
     ]
    },
    {
     "name": "stderr",
     "output_type": "stream",
     "text": [
      "\r",
      "Step 3/3 :  30%|██▉       | 1493/5000 [00:22<00:31, 112.60it/s]"
     ]
    },
    {
     "name": "stderr",
     "output_type": "stream",
     "text": [
      "\r",
      "Step 3/3 :  30%|██▉       | 1493/5000 [00:22<00:31, 112.60it/s]"
     ]
    },
    {
     "name": "stderr",
     "output_type": "stream",
     "text": [
      "\r",
      "Step 3/3 :  30%|███       | 1505/5000 [00:22<00:31, 111.50it/s]"
     ]
    },
    {
     "name": "stderr",
     "output_type": "stream",
     "text": [
      "\r",
      "Step 3/3 :  30%|███       | 1505/5000 [00:22<00:31, 111.50it/s]"
     ]
    },
    {
     "name": "stderr",
     "output_type": "stream",
     "text": [
      "\r",
      "Step 3/3 :  30%|███       | 1505/5000 [00:22<00:31, 111.50it/s]"
     ]
    },
    {
     "name": "stderr",
     "output_type": "stream",
     "text": [
      "\r",
      "Step 3/3 :  30%|███       | 1505/5000 [00:22<00:31, 111.50it/s]"
     ]
    },
    {
     "name": "stderr",
     "output_type": "stream",
     "text": [
      "\r",
      "Step 3/3 :  30%|███       | 1505/5000 [00:22<00:31, 111.50it/s]"
     ]
    },
    {
     "name": "stderr",
     "output_type": "stream",
     "text": [
      "\r",
      "Step 3/3 :  30%|███       | 1505/5000 [00:22<00:31, 111.50it/s]"
     ]
    },
    {
     "name": "stderr",
     "output_type": "stream",
     "text": [
      "\r",
      "Step 3/3 :  30%|███       | 1505/5000 [00:22<00:31, 111.50it/s]"
     ]
    },
    {
     "name": "stderr",
     "output_type": "stream",
     "text": [
      "\r",
      "Step 3/3 :  30%|███       | 1505/5000 [00:22<00:31, 111.50it/s]"
     ]
    },
    {
     "name": "stderr",
     "output_type": "stream",
     "text": [
      "\r",
      "Step 3/3 :  30%|███       | 1505/5000 [00:22<00:31, 111.50it/s]"
     ]
    },
    {
     "name": "stderr",
     "output_type": "stream",
     "text": [
      "\r",
      "Step 3/3 :  30%|███       | 1505/5000 [00:22<00:31, 111.50it/s]"
     ]
    },
    {
     "name": "stderr",
     "output_type": "stream",
     "text": [
      "\r",
      "Step 3/3 :  30%|███       | 1505/5000 [00:22<00:31, 111.50it/s]"
     ]
    },
    {
     "name": "stderr",
     "output_type": "stream",
     "text": [
      "\r",
      "Step 3/3 :  30%|███       | 1505/5000 [00:22<00:31, 111.50it/s]"
     ]
    },
    {
     "name": "stderr",
     "output_type": "stream",
     "text": [
      "\r",
      "Step 3/3 :  30%|███       | 1505/5000 [00:22<00:31, 111.50it/s]"
     ]
    },
    {
     "name": "stderr",
     "output_type": "stream",
     "text": [
      "\r",
      "Step 3/3 :  30%|███       | 1517/5000 [00:22<00:31, 111.70it/s]"
     ]
    },
    {
     "name": "stderr",
     "output_type": "stream",
     "text": [
      "\r",
      "Step 3/3 :  30%|███       | 1517/5000 [00:22<00:31, 111.70it/s]"
     ]
    },
    {
     "name": "stderr",
     "output_type": "stream",
     "text": [
      "\r",
      "Step 3/3 :  30%|███       | 1517/5000 [00:22<00:31, 111.70it/s]"
     ]
    },
    {
     "name": "stderr",
     "output_type": "stream",
     "text": [
      "\r",
      "Step 3/3 :  30%|███       | 1517/5000 [00:22<00:31, 111.70it/s]"
     ]
    },
    {
     "name": "stderr",
     "output_type": "stream",
     "text": [
      "\r",
      "Step 3/3 :  30%|███       | 1517/5000 [00:22<00:31, 111.70it/s]"
     ]
    },
    {
     "name": "stderr",
     "output_type": "stream",
     "text": [
      "\r",
      "Step 3/3 :  30%|███       | 1517/5000 [00:22<00:31, 111.70it/s]"
     ]
    },
    {
     "name": "stderr",
     "output_type": "stream",
     "text": [
      "\r",
      "Step 3/3 :  30%|███       | 1517/5000 [00:22<00:31, 111.70it/s]"
     ]
    },
    {
     "name": "stderr",
     "output_type": "stream",
     "text": [
      "\r",
      "Step 3/3 :  30%|███       | 1517/5000 [00:22<00:31, 111.70it/s]"
     ]
    },
    {
     "name": "stderr",
     "output_type": "stream",
     "text": [
      "\r",
      "Step 3/3 :  30%|███       | 1517/5000 [00:22<00:31, 111.70it/s]"
     ]
    },
    {
     "name": "stderr",
     "output_type": "stream",
     "text": [
      "\r",
      "Step 3/3 :  30%|███       | 1517/5000 [00:22<00:31, 111.70it/s]"
     ]
    },
    {
     "name": "stderr",
     "output_type": "stream",
     "text": [
      "\r",
      "Step 3/3 :  30%|███       | 1517/5000 [00:22<00:31, 111.70it/s]"
     ]
    },
    {
     "name": "stderr",
     "output_type": "stream",
     "text": [
      "\r",
      "Step 3/3 :  30%|███       | 1517/5000 [00:22<00:31, 111.70it/s]"
     ]
    },
    {
     "name": "stderr",
     "output_type": "stream",
     "text": [
      "\r",
      "Step 3/3 :  30%|███       | 1517/5000 [00:22<00:31, 111.70it/s]"
     ]
    },
    {
     "name": "stderr",
     "output_type": "stream",
     "text": [
      "\r",
      "Step 3/3 :  31%|███       | 1529/5000 [00:22<00:30, 114.08it/s]"
     ]
    },
    {
     "name": "stderr",
     "output_type": "stream",
     "text": [
      "\r",
      "Step 3/3 :  31%|███       | 1529/5000 [00:22<00:30, 114.08it/s]"
     ]
    },
    {
     "name": "stderr",
     "output_type": "stream",
     "text": [
      "\r",
      "Step 3/3 :  31%|███       | 1529/5000 [00:22<00:30, 114.08it/s]"
     ]
    },
    {
     "name": "stderr",
     "output_type": "stream",
     "text": [
      "\r",
      "Step 3/3 :  31%|███       | 1529/5000 [00:22<00:30, 114.08it/s]"
     ]
    },
    {
     "name": "stderr",
     "output_type": "stream",
     "text": [
      "\r",
      "Step 3/3 :  31%|███       | 1529/5000 [00:22<00:30, 114.08it/s]"
     ]
    },
    {
     "name": "stderr",
     "output_type": "stream",
     "text": [
      "\r",
      "Step 3/3 :  31%|███       | 1529/5000 [00:22<00:30, 114.08it/s]"
     ]
    },
    {
     "name": "stderr",
     "output_type": "stream",
     "text": [
      "\r",
      "Step 3/3 :  31%|███       | 1529/5000 [00:22<00:30, 114.08it/s]"
     ]
    },
    {
     "name": "stderr",
     "output_type": "stream",
     "text": [
      "\r",
      "Step 3/3 :  31%|███       | 1529/5000 [00:22<00:30, 114.08it/s]"
     ]
    },
    {
     "name": "stderr",
     "output_type": "stream",
     "text": [
      "\r",
      "Step 3/3 :  31%|███       | 1529/5000 [00:22<00:30, 114.08it/s]"
     ]
    },
    {
     "name": "stderr",
     "output_type": "stream",
     "text": [
      "\r",
      "Step 3/3 :  31%|███       | 1529/5000 [00:22<00:30, 114.08it/s]"
     ]
    },
    {
     "name": "stderr",
     "output_type": "stream",
     "text": [
      "\r",
      "Step 3/3 :  31%|███       | 1529/5000 [00:22<00:30, 114.08it/s]"
     ]
    },
    {
     "name": "stderr",
     "output_type": "stream",
     "text": [
      "\r",
      "Step 3/3 :  31%|███       | 1529/5000 [00:22<00:30, 114.08it/s]"
     ]
    },
    {
     "name": "stderr",
     "output_type": "stream",
     "text": [
      "\r",
      "Step 3/3 :  31%|███       | 1529/5000 [00:22<00:30, 114.08it/s]"
     ]
    },
    {
     "name": "stderr",
     "output_type": "stream",
     "text": [
      "\r",
      "Step 3/3 :  31%|███       | 1541/5000 [00:22<00:30, 114.15it/s]"
     ]
    },
    {
     "name": "stderr",
     "output_type": "stream",
     "text": [
      "\r",
      "Step 3/3 :  31%|███       | 1541/5000 [00:22<00:30, 114.15it/s]"
     ]
    },
    {
     "name": "stderr",
     "output_type": "stream",
     "text": [
      "\r",
      "Step 3/3 :  31%|███       | 1541/5000 [00:22<00:30, 114.15it/s]"
     ]
    },
    {
     "name": "stderr",
     "output_type": "stream",
     "text": [
      "\r",
      "Step 3/3 :  31%|███       | 1541/5000 [00:22<00:30, 114.15it/s]"
     ]
    },
    {
     "name": "stderr",
     "output_type": "stream",
     "text": [
      "\r",
      "Step 3/3 :  31%|███       | 1541/5000 [00:22<00:30, 114.15it/s]"
     ]
    },
    {
     "name": "stderr",
     "output_type": "stream",
     "text": [
      "\r",
      "Step 3/3 :  31%|███       | 1541/5000 [00:22<00:30, 114.15it/s]"
     ]
    },
    {
     "name": "stderr",
     "output_type": "stream",
     "text": [
      "\r",
      "Step 3/3 :  31%|███       | 1541/5000 [00:22<00:30, 114.15it/s]"
     ]
    },
    {
     "name": "stderr",
     "output_type": "stream",
     "text": [
      "\r",
      "Step 3/3 :  31%|███       | 1541/5000 [00:22<00:30, 114.15it/s]"
     ]
    },
    {
     "name": "stderr",
     "output_type": "stream",
     "text": [
      "\r",
      "Step 3/3 :  31%|███       | 1541/5000 [00:22<00:30, 114.15it/s]"
     ]
    },
    {
     "name": "stderr",
     "output_type": "stream",
     "text": [
      "\r",
      "Step 3/3 :  31%|███       | 1541/5000 [00:22<00:30, 114.15it/s]"
     ]
    },
    {
     "name": "stderr",
     "output_type": "stream",
     "text": [
      "\r",
      "Step 3/3 :  31%|███       | 1541/5000 [00:22<00:30, 114.15it/s]"
     ]
    },
    {
     "name": "stderr",
     "output_type": "stream",
     "text": [
      "\r",
      "Step 3/3 :  31%|███       | 1541/5000 [00:22<00:30, 114.15it/s]"
     ]
    },
    {
     "name": "stderr",
     "output_type": "stream",
     "text": [
      "\r",
      "Step 3/3 :  31%|███       | 1541/5000 [00:22<00:30, 114.15it/s]"
     ]
    },
    {
     "name": "stderr",
     "output_type": "stream",
     "text": [
      "\r",
      "Step 3/3 :  31%|███       | 1553/5000 [00:22<00:31, 108.57it/s]"
     ]
    },
    {
     "name": "stderr",
     "output_type": "stream",
     "text": [
      "\r",
      "Step 3/3 :  31%|███       | 1553/5000 [00:22<00:31, 108.57it/s]"
     ]
    },
    {
     "name": "stderr",
     "output_type": "stream",
     "text": [
      "\r",
      "Step 3/3 :  31%|███       | 1553/5000 [00:22<00:31, 108.57it/s]"
     ]
    },
    {
     "name": "stderr",
     "output_type": "stream",
     "text": [
      "\r",
      "Step 3/3 :  31%|███       | 1553/5000 [00:22<00:31, 108.57it/s]"
     ]
    },
    {
     "name": "stderr",
     "output_type": "stream",
     "text": [
      "\r",
      "Step 3/3 :  31%|███       | 1553/5000 [00:22<00:31, 108.57it/s]"
     ]
    },
    {
     "name": "stderr",
     "output_type": "stream",
     "text": [
      "\r",
      "Step 3/3 :  31%|███       | 1553/5000 [00:22<00:31, 108.57it/s]"
     ]
    },
    {
     "name": "stderr",
     "output_type": "stream",
     "text": [
      "\r",
      "Step 3/3 :  31%|███       | 1553/5000 [00:22<00:31, 108.57it/s]"
     ]
    },
    {
     "name": "stderr",
     "output_type": "stream",
     "text": [
      "\r",
      "Step 3/3 :  31%|███       | 1553/5000 [00:22<00:31, 108.57it/s]"
     ]
    },
    {
     "name": "stderr",
     "output_type": "stream",
     "text": [
      "\r",
      "Step 3/3 :  31%|███       | 1553/5000 [00:22<00:31, 108.57it/s]"
     ]
    },
    {
     "name": "stderr",
     "output_type": "stream",
     "text": [
      "\r",
      "Step 3/3 :  31%|███       | 1553/5000 [00:22<00:31, 108.57it/s]"
     ]
    },
    {
     "name": "stderr",
     "output_type": "stream",
     "text": [
      "\r",
      "Step 3/3 :  31%|███       | 1553/5000 [00:22<00:31, 108.57it/s]"
     ]
    },
    {
     "name": "stderr",
     "output_type": "stream",
     "text": [
      "\r",
      "Step 3/3 :  31%|███       | 1553/5000 [00:22<00:31, 108.57it/s]"
     ]
    },
    {
     "name": "stderr",
     "output_type": "stream",
     "text": [
      "\r",
      "Step 3/3 :  31%|███       | 1553/5000 [00:22<00:31, 108.57it/s]"
     ]
    },
    {
     "name": "stderr",
     "output_type": "stream",
     "text": [
      "\r",
      "Step 3/3 :  31%|███▏      | 1565/5000 [00:22<00:30, 110.86it/s]"
     ]
    },
    {
     "name": "stderr",
     "output_type": "stream",
     "text": [
      "\r",
      "Step 3/3 :  31%|███▏      | 1565/5000 [00:23<00:30, 110.86it/s]"
     ]
    },
    {
     "name": "stderr",
     "output_type": "stream",
     "text": [
      "\r",
      "Step 3/3 :  31%|███▏      | 1565/5000 [00:23<00:30, 110.86it/s]"
     ]
    },
    {
     "name": "stderr",
     "output_type": "stream",
     "text": [
      "\r",
      "Step 3/3 :  31%|███▏      | 1565/5000 [00:23<00:30, 110.86it/s]"
     ]
    },
    {
     "name": "stderr",
     "output_type": "stream",
     "text": [
      "\r",
      "Step 3/3 :  31%|███▏      | 1565/5000 [00:23<00:30, 110.86it/s]"
     ]
    },
    {
     "name": "stderr",
     "output_type": "stream",
     "text": [
      "\r",
      "Step 3/3 :  31%|███▏      | 1565/5000 [00:23<00:30, 110.86it/s]"
     ]
    },
    {
     "name": "stderr",
     "output_type": "stream",
     "text": [
      "\r",
      "Step 3/3 :  31%|███▏      | 1565/5000 [00:23<00:30, 110.86it/s]"
     ]
    },
    {
     "name": "stderr",
     "output_type": "stream",
     "text": [
      "\r",
      "Step 3/3 :  31%|███▏      | 1565/5000 [00:23<00:30, 110.86it/s]"
     ]
    },
    {
     "name": "stderr",
     "output_type": "stream",
     "text": [
      "\r",
      "Step 3/3 :  31%|███▏      | 1565/5000 [00:23<00:30, 110.86it/s]"
     ]
    },
    {
     "name": "stderr",
     "output_type": "stream",
     "text": [
      "\r",
      "Step 3/3 :  31%|███▏      | 1565/5000 [00:23<00:30, 110.86it/s]"
     ]
    },
    {
     "name": "stderr",
     "output_type": "stream",
     "text": [
      "\r",
      "Step 3/3 :  31%|███▏      | 1565/5000 [00:23<00:30, 110.86it/s]"
     ]
    },
    {
     "name": "stderr",
     "output_type": "stream",
     "text": [
      "\r",
      "Step 3/3 :  31%|███▏      | 1565/5000 [00:23<00:30, 110.86it/s]"
     ]
    },
    {
     "name": "stderr",
     "output_type": "stream",
     "text": [
      "\r",
      "Step 3/3 :  31%|███▏      | 1565/5000 [00:23<00:30, 110.86it/s]"
     ]
    },
    {
     "name": "stderr",
     "output_type": "stream",
     "text": [
      "\r",
      "Step 3/3 :  32%|███▏      | 1577/5000 [00:23<00:31, 109.11it/s]"
     ]
    },
    {
     "name": "stderr",
     "output_type": "stream",
     "text": [
      "\r",
      "Step 3/3 :  32%|███▏      | 1577/5000 [00:23<00:31, 109.11it/s]"
     ]
    },
    {
     "name": "stderr",
     "output_type": "stream",
     "text": [
      "\r",
      "Step 3/3 :  32%|███▏      | 1577/5000 [00:23<00:31, 109.11it/s]"
     ]
    },
    {
     "name": "stderr",
     "output_type": "stream",
     "text": [
      "\r",
      "Step 3/3 :  32%|███▏      | 1577/5000 [00:23<00:31, 109.11it/s]"
     ]
    },
    {
     "name": "stderr",
     "output_type": "stream",
     "text": [
      "\r",
      "Step 3/3 :  32%|███▏      | 1577/5000 [00:23<00:31, 109.11it/s]"
     ]
    },
    {
     "name": "stderr",
     "output_type": "stream",
     "text": [
      "\r",
      "Step 3/3 :  32%|███▏      | 1577/5000 [00:23<00:31, 109.11it/s]"
     ]
    },
    {
     "name": "stderr",
     "output_type": "stream",
     "text": [
      "\r",
      "Step 3/3 :  32%|███▏      | 1577/5000 [00:23<00:31, 109.11it/s]"
     ]
    },
    {
     "name": "stderr",
     "output_type": "stream",
     "text": [
      "\r",
      "Step 3/3 :  32%|███▏      | 1577/5000 [00:23<00:31, 109.11it/s]"
     ]
    },
    {
     "name": "stderr",
     "output_type": "stream",
     "text": [
      "\r",
      "Step 3/3 :  32%|███▏      | 1577/5000 [00:23<00:31, 109.11it/s]"
     ]
    },
    {
     "name": "stderr",
     "output_type": "stream",
     "text": [
      "\r",
      "Step 3/3 :  32%|███▏      | 1577/5000 [00:23<00:31, 109.11it/s]"
     ]
    },
    {
     "name": "stderr",
     "output_type": "stream",
     "text": [
      "\r",
      "Step 3/3 :  32%|███▏      | 1577/5000 [00:23<00:31, 109.11it/s]"
     ]
    },
    {
     "name": "stderr",
     "output_type": "stream",
     "text": [
      "\r",
      "Step 3/3 :  32%|███▏      | 1577/5000 [00:23<00:31, 109.11it/s]"
     ]
    },
    {
     "name": "stderr",
     "output_type": "stream",
     "text": [
      "\r",
      "Step 3/3 :  32%|███▏      | 1588/5000 [00:23<00:31, 107.55it/s]"
     ]
    },
    {
     "name": "stderr",
     "output_type": "stream",
     "text": [
      "\r",
      "Step 3/3 :  32%|███▏      | 1588/5000 [00:23<00:31, 107.55it/s]"
     ]
    },
    {
     "name": "stderr",
     "output_type": "stream",
     "text": [
      "\r",
      "Step 3/3 :  32%|███▏      | 1588/5000 [00:23<00:31, 107.55it/s]"
     ]
    },
    {
     "name": "stderr",
     "output_type": "stream",
     "text": [
      "\r",
      "Step 3/3 :  32%|███▏      | 1588/5000 [00:23<00:31, 107.55it/s]"
     ]
    },
    {
     "name": "stderr",
     "output_type": "stream",
     "text": [
      "\r",
      "Step 3/3 :  32%|███▏      | 1588/5000 [00:23<00:31, 107.55it/s]"
     ]
    },
    {
     "name": "stderr",
     "output_type": "stream",
     "text": [
      "\r",
      "Step 3/3 :  32%|███▏      | 1588/5000 [00:23<00:31, 107.55it/s]"
     ]
    },
    {
     "name": "stderr",
     "output_type": "stream",
     "text": [
      "\r",
      "Step 3/3 :  32%|███▏      | 1588/5000 [00:23<00:31, 107.55it/s]"
     ]
    },
    {
     "name": "stderr",
     "output_type": "stream",
     "text": [
      "\r",
      "Step 3/3 :  32%|███▏      | 1588/5000 [00:23<00:31, 107.55it/s]"
     ]
    },
    {
     "name": "stderr",
     "output_type": "stream",
     "text": [
      "\r",
      "Step 3/3 :  32%|███▏      | 1588/5000 [00:23<00:31, 107.55it/s]"
     ]
    },
    {
     "name": "stderr",
     "output_type": "stream",
     "text": [
      "\r",
      "Step 3/3 :  32%|███▏      | 1588/5000 [00:23<00:31, 107.55it/s]"
     ]
    },
    {
     "name": "stderr",
     "output_type": "stream",
     "text": [
      "\r",
      "Step 3/3 :  32%|███▏      | 1588/5000 [00:23<00:31, 107.55it/s]"
     ]
    },
    {
     "name": "stderr",
     "output_type": "stream",
     "text": [
      "\r",
      "Step 3/3 :  32%|███▏      | 1588/5000 [00:23<00:31, 107.55it/s]"
     ]
    },
    {
     "name": "stderr",
     "output_type": "stream",
     "text": [
      "\r",
      "Step 3/3 :  32%|███▏      | 1588/5000 [00:23<00:31, 107.55it/s]"
     ]
    },
    {
     "name": "stderr",
     "output_type": "stream",
     "text": [
      "\r",
      "Step 3/3 :  32%|███▏      | 1600/5000 [00:23<00:31, 109.52it/s]"
     ]
    },
    {
     "name": "stderr",
     "output_type": "stream",
     "text": [
      "\r",
      "Step 3/3 :  32%|███▏      | 1600/5000 [00:23<00:31, 109.52it/s]"
     ]
    },
    {
     "name": "stderr",
     "output_type": "stream",
     "text": [
      "\r",
      "Step 3/3 :  32%|███▏      | 1600/5000 [00:23<00:31, 109.52it/s]"
     ]
    },
    {
     "name": "stderr",
     "output_type": "stream",
     "text": [
      "\r",
      "Step 3/3 :  32%|███▏      | 1600/5000 [00:23<00:31, 109.52it/s]"
     ]
    },
    {
     "name": "stderr",
     "output_type": "stream",
     "text": [
      "\r",
      "Step 3/3 :  32%|███▏      | 1600/5000 [00:23<00:31, 109.52it/s]"
     ]
    },
    {
     "name": "stderr",
     "output_type": "stream",
     "text": [
      "\r",
      "Step 3/3 :  32%|███▏      | 1600/5000 [00:23<00:31, 109.52it/s]"
     ]
    },
    {
     "name": "stderr",
     "output_type": "stream",
     "text": [
      "\r",
      "Step 3/3 :  32%|███▏      | 1600/5000 [00:23<00:31, 109.52it/s]"
     ]
    },
    {
     "name": "stderr",
     "output_type": "stream",
     "text": [
      "\r",
      "Step 3/3 :  32%|███▏      | 1600/5000 [00:23<00:31, 109.52it/s]"
     ]
    },
    {
     "name": "stderr",
     "output_type": "stream",
     "text": [
      "\r",
      "Step 3/3 :  32%|███▏      | 1600/5000 [00:23<00:31, 109.52it/s]"
     ]
    },
    {
     "name": "stderr",
     "output_type": "stream",
     "text": [
      "\r",
      "Step 3/3 :  32%|███▏      | 1600/5000 [00:23<00:31, 109.52it/s]"
     ]
    },
    {
     "name": "stderr",
     "output_type": "stream",
     "text": [
      "\r",
      "Step 3/3 :  32%|███▏      | 1600/5000 [00:23<00:31, 109.52it/s]"
     ]
    },
    {
     "name": "stderr",
     "output_type": "stream",
     "text": [
      "\r",
      "Step 3/3 :  32%|███▏      | 1600/5000 [00:23<00:31, 109.52it/s]"
     ]
    },
    {
     "name": "stderr",
     "output_type": "stream",
     "text": [
      "\r",
      "Step 3/3 :  32%|███▏      | 1600/5000 [00:23<00:31, 109.52it/s]"
     ]
    },
    {
     "name": "stderr",
     "output_type": "stream",
     "text": [
      "\r",
      "Step 3/3 :  32%|███▏      | 1612/5000 [00:23<00:30, 111.36it/s]"
     ]
    },
    {
     "name": "stderr",
     "output_type": "stream",
     "text": [
      "\r",
      "Step 3/3 :  32%|███▏      | 1612/5000 [00:23<00:30, 111.36it/s]"
     ]
    },
    {
     "name": "stderr",
     "output_type": "stream",
     "text": [
      "\r",
      "Step 3/3 :  32%|███▏      | 1612/5000 [00:23<00:30, 111.36it/s]"
     ]
    },
    {
     "name": "stderr",
     "output_type": "stream",
     "text": [
      "\r",
      "Step 3/3 :  32%|███▏      | 1612/5000 [00:23<00:30, 111.36it/s]"
     ]
    },
    {
     "name": "stderr",
     "output_type": "stream",
     "text": [
      "\r",
      "Step 3/3 :  32%|███▏      | 1612/5000 [00:23<00:30, 111.36it/s]"
     ]
    },
    {
     "name": "stderr",
     "output_type": "stream",
     "text": [
      "\r",
      "Step 3/3 :  32%|███▏      | 1612/5000 [00:23<00:30, 111.36it/s]"
     ]
    },
    {
     "name": "stderr",
     "output_type": "stream",
     "text": [
      "\r",
      "Step 3/3 :  32%|███▏      | 1612/5000 [00:23<00:30, 111.36it/s]"
     ]
    },
    {
     "name": "stderr",
     "output_type": "stream",
     "text": [
      "\r",
      "Step 3/3 :  32%|███▏      | 1612/5000 [00:23<00:30, 111.36it/s]"
     ]
    },
    {
     "name": "stderr",
     "output_type": "stream",
     "text": [
      "\r",
      "Step 3/3 :  32%|███▏      | 1612/5000 [00:23<00:30, 111.36it/s]"
     ]
    },
    {
     "name": "stderr",
     "output_type": "stream",
     "text": [
      "\r",
      "Step 3/3 :  32%|███▏      | 1612/5000 [00:23<00:30, 111.36it/s]"
     ]
    },
    {
     "name": "stderr",
     "output_type": "stream",
     "text": [
      "\r",
      "Step 3/3 :  32%|███▏      | 1612/5000 [00:23<00:30, 111.36it/s]"
     ]
    },
    {
     "name": "stderr",
     "output_type": "stream",
     "text": [
      "\r",
      "Step 3/3 :  32%|███▏      | 1612/5000 [00:23<00:30, 111.36it/s]"
     ]
    },
    {
     "name": "stderr",
     "output_type": "stream",
     "text": [
      "\r",
      "Step 3/3 :  32%|███▏      | 1612/5000 [00:23<00:30, 111.36it/s]"
     ]
    },
    {
     "name": "stderr",
     "output_type": "stream",
     "text": [
      "\r",
      "Step 3/3 :  32%|███▏      | 1624/5000 [00:23<00:30, 109.45it/s]"
     ]
    },
    {
     "name": "stderr",
     "output_type": "stream",
     "text": [
      "\r",
      "Step 3/3 :  32%|███▏      | 1624/5000 [00:23<00:30, 109.45it/s]"
     ]
    },
    {
     "name": "stderr",
     "output_type": "stream",
     "text": [
      "\r",
      "Step 3/3 :  32%|███▏      | 1624/5000 [00:23<00:30, 109.45it/s]"
     ]
    },
    {
     "name": "stderr",
     "output_type": "stream",
     "text": [
      "\r",
      "Step 3/3 :  32%|███▏      | 1624/5000 [00:23<00:30, 109.45it/s]"
     ]
    },
    {
     "name": "stderr",
     "output_type": "stream",
     "text": [
      "\r",
      "Step 3/3 :  32%|███▏      | 1624/5000 [00:23<00:30, 109.45it/s]"
     ]
    },
    {
     "name": "stderr",
     "output_type": "stream",
     "text": [
      "\r",
      "Step 3/3 :  32%|███▏      | 1624/5000 [00:23<00:30, 109.45it/s]"
     ]
    },
    {
     "name": "stderr",
     "output_type": "stream",
     "text": [
      "\r",
      "Step 3/3 :  32%|███▏      | 1624/5000 [00:23<00:30, 109.45it/s]"
     ]
    },
    {
     "name": "stderr",
     "output_type": "stream",
     "text": [
      "\r",
      "Step 3/3 :  32%|███▏      | 1624/5000 [00:23<00:30, 109.45it/s]"
     ]
    },
    {
     "name": "stderr",
     "output_type": "stream",
     "text": [
      "\r",
      "Step 3/3 :  32%|███▏      | 1624/5000 [00:23<00:30, 109.45it/s]"
     ]
    },
    {
     "name": "stderr",
     "output_type": "stream",
     "text": [
      "\r",
      "Step 3/3 :  32%|███▏      | 1624/5000 [00:23<00:30, 109.45it/s]"
     ]
    },
    {
     "name": "stderr",
     "output_type": "stream",
     "text": [
      "\r",
      "Step 3/3 :  32%|███▏      | 1624/5000 [00:23<00:30, 109.45it/s]"
     ]
    },
    {
     "name": "stderr",
     "output_type": "stream",
     "text": [
      "\r",
      "Step 3/3 :  32%|███▏      | 1624/5000 [00:23<00:30, 109.45it/s]"
     ]
    },
    {
     "name": "stderr",
     "output_type": "stream",
     "text": [
      "\r",
      "Step 3/3 :  33%|███▎      | 1635/5000 [00:23<00:30, 108.99it/s]"
     ]
    },
    {
     "name": "stderr",
     "output_type": "stream",
     "text": [
      "\r",
      "Step 3/3 :  33%|███▎      | 1635/5000 [00:23<00:30, 108.99it/s]"
     ]
    },
    {
     "name": "stderr",
     "output_type": "stream",
     "text": [
      "\r",
      "Step 3/3 :  33%|███▎      | 1635/5000 [00:23<00:30, 108.99it/s]"
     ]
    },
    {
     "name": "stderr",
     "output_type": "stream",
     "text": [
      "\r",
      "Step 3/3 :  33%|███▎      | 1635/5000 [00:23<00:30, 108.99it/s]"
     ]
    },
    {
     "name": "stderr",
     "output_type": "stream",
     "text": [
      "\r",
      "Step 3/3 :  33%|███▎      | 1635/5000 [00:23<00:30, 108.99it/s]"
     ]
    },
    {
     "name": "stderr",
     "output_type": "stream",
     "text": [
      "\r",
      "Step 3/3 :  33%|███▎      | 1635/5000 [00:23<00:30, 108.99it/s]"
     ]
    },
    {
     "name": "stderr",
     "output_type": "stream",
     "text": [
      "\r",
      "Step 3/3 :  33%|███▎      | 1635/5000 [00:23<00:30, 108.99it/s]"
     ]
    },
    {
     "name": "stderr",
     "output_type": "stream",
     "text": [
      "\r",
      "Step 3/3 :  33%|███▎      | 1635/5000 [00:23<00:30, 108.99it/s]"
     ]
    },
    {
     "name": "stderr",
     "output_type": "stream",
     "text": [
      "\r",
      "Step 3/3 :  33%|███▎      | 1635/5000 [00:23<00:30, 108.99it/s]"
     ]
    },
    {
     "name": "stderr",
     "output_type": "stream",
     "text": [
      "\r",
      "Step 3/3 :  33%|███▎      | 1635/5000 [00:23<00:30, 108.99it/s]"
     ]
    },
    {
     "name": "stderr",
     "output_type": "stream",
     "text": [
      "\r",
      "Step 3/3 :  33%|███▎      | 1635/5000 [00:23<00:30, 108.99it/s]"
     ]
    },
    {
     "name": "stderr",
     "output_type": "stream",
     "text": [
      "\r",
      "Step 3/3 :  33%|███▎      | 1635/5000 [00:23<00:30, 108.99it/s]"
     ]
    },
    {
     "name": "stderr",
     "output_type": "stream",
     "text": [
      "\r",
      "Step 3/3 :  33%|███▎      | 1646/5000 [00:23<00:31, 106.54it/s]"
     ]
    },
    {
     "name": "stderr",
     "output_type": "stream",
     "text": [
      "\r",
      "Step 3/3 :  33%|███▎      | 1646/5000 [00:23<00:31, 106.54it/s]"
     ]
    },
    {
     "name": "stderr",
     "output_type": "stream",
     "text": [
      "\r",
      "Step 3/3 :  33%|███▎      | 1646/5000 [00:23<00:31, 106.54it/s]"
     ]
    },
    {
     "name": "stderr",
     "output_type": "stream",
     "text": [
      "\r",
      "Step 3/3 :  33%|███▎      | 1646/5000 [00:23<00:31, 106.54it/s]"
     ]
    },
    {
     "name": "stderr",
     "output_type": "stream",
     "text": [
      "\r",
      "Step 3/3 :  33%|███▎      | 1646/5000 [00:23<00:31, 106.54it/s]"
     ]
    },
    {
     "name": "stderr",
     "output_type": "stream",
     "text": [
      "\r",
      "Step 3/3 :  33%|███▎      | 1646/5000 [00:23<00:31, 106.54it/s]"
     ]
    },
    {
     "name": "stderr",
     "output_type": "stream",
     "text": [
      "\r",
      "Step 3/3 :  33%|███▎      | 1646/5000 [00:23<00:31, 106.54it/s]"
     ]
    },
    {
     "name": "stderr",
     "output_type": "stream",
     "text": [
      "\r",
      "Step 3/3 :  33%|███▎      | 1646/5000 [00:23<00:31, 106.54it/s]"
     ]
    },
    {
     "name": "stderr",
     "output_type": "stream",
     "text": [
      "\r",
      "Step 3/3 :  33%|███▎      | 1646/5000 [00:23<00:31, 106.54it/s]"
     ]
    },
    {
     "name": "stderr",
     "output_type": "stream",
     "text": [
      "\r",
      "Step 3/3 :  33%|███▎      | 1646/5000 [00:23<00:31, 106.54it/s]"
     ]
    },
    {
     "name": "stderr",
     "output_type": "stream",
     "text": [
      "\r",
      "Step 3/3 :  33%|███▎      | 1646/5000 [00:23<00:31, 106.54it/s]"
     ]
    },
    {
     "name": "stderr",
     "output_type": "stream",
     "text": [
      "\r",
      "Step 3/3 :  33%|███▎      | 1646/5000 [00:23<00:31, 106.54it/s]"
     ]
    },
    {
     "name": "stderr",
     "output_type": "stream",
     "text": [
      "\r",
      "Step 3/3 :  33%|███▎      | 1657/5000 [00:23<00:33, 99.95it/s] "
     ]
    },
    {
     "name": "stderr",
     "output_type": "stream",
     "text": [
      "\r",
      "Step 3/3 :  33%|███▎      | 1657/5000 [00:23<00:33, 99.95it/s]"
     ]
    },
    {
     "name": "stderr",
     "output_type": "stream",
     "text": [
      "\r",
      "Step 3/3 :  33%|███▎      | 1657/5000 [00:23<00:33, 99.95it/s]"
     ]
    },
    {
     "name": "stderr",
     "output_type": "stream",
     "text": [
      "\r",
      "Step 3/3 :  33%|███▎      | 1657/5000 [00:23<00:33, 99.95it/s]"
     ]
    },
    {
     "name": "stderr",
     "output_type": "stream",
     "text": [
      "\r",
      "Step 3/3 :  33%|███▎      | 1657/5000 [00:23<00:33, 99.95it/s]"
     ]
    },
    {
     "name": "stderr",
     "output_type": "stream",
     "text": [
      "\r",
      "Step 3/3 :  33%|███▎      | 1657/5000 [00:23<00:33, 99.95it/s]"
     ]
    },
    {
     "name": "stderr",
     "output_type": "stream",
     "text": [
      "\r",
      "Step 3/3 :  33%|███▎      | 1657/5000 [00:23<00:33, 99.95it/s]"
     ]
    },
    {
     "name": "stderr",
     "output_type": "stream",
     "text": [
      "\r",
      "Step 3/3 :  33%|███▎      | 1657/5000 [00:23<00:33, 99.95it/s]"
     ]
    },
    {
     "name": "stderr",
     "output_type": "stream",
     "text": [
      "\r",
      "Step 3/3 :  33%|███▎      | 1657/5000 [00:23<00:33, 99.95it/s]"
     ]
    },
    {
     "name": "stderr",
     "output_type": "stream",
     "text": [
      "\r",
      "Step 3/3 :  33%|███▎      | 1657/5000 [00:23<00:33, 99.95it/s]"
     ]
    },
    {
     "name": "stderr",
     "output_type": "stream",
     "text": [
      "\r",
      "Step 3/3 :  33%|███▎      | 1657/5000 [00:23<00:33, 99.95it/s]"
     ]
    },
    {
     "name": "stderr",
     "output_type": "stream",
     "text": [
      "\r",
      "Step 3/3 :  33%|███▎      | 1657/5000 [00:23<00:33, 99.95it/s]"
     ]
    },
    {
     "name": "stderr",
     "output_type": "stream",
     "text": [
      "\r",
      "Step 3/3 :  33%|███▎      | 1668/5000 [00:24<00:34, 96.36it/s]"
     ]
    },
    {
     "name": "stderr",
     "output_type": "stream",
     "text": [
      "\r",
      "Step 3/3 :  33%|███▎      | 1668/5000 [00:24<00:34, 96.36it/s]"
     ]
    },
    {
     "name": "stderr",
     "output_type": "stream",
     "text": [
      "\r",
      "Step 3/3 :  33%|███▎      | 1668/5000 [00:24<00:34, 96.36it/s]"
     ]
    },
    {
     "name": "stderr",
     "output_type": "stream",
     "text": [
      "\r",
      "Step 3/3 :  33%|███▎      | 1668/5000 [00:24<00:34, 96.36it/s]"
     ]
    },
    {
     "name": "stderr",
     "output_type": "stream",
     "text": [
      "\r",
      "Step 3/3 :  33%|███▎      | 1668/5000 [00:24<00:34, 96.36it/s]"
     ]
    },
    {
     "name": "stderr",
     "output_type": "stream",
     "text": [
      "\r",
      "Step 3/3 :  33%|███▎      | 1668/5000 [00:24<00:34, 96.36it/s]"
     ]
    },
    {
     "name": "stderr",
     "output_type": "stream",
     "text": [
      "\r",
      "Step 3/3 :  33%|███▎      | 1668/5000 [00:24<00:34, 96.36it/s]"
     ]
    },
    {
     "name": "stderr",
     "output_type": "stream",
     "text": [
      "\r",
      "Step 3/3 :  33%|███▎      | 1668/5000 [00:24<00:34, 96.36it/s]"
     ]
    },
    {
     "name": "stderr",
     "output_type": "stream",
     "text": [
      "\r",
      "Step 3/3 :  33%|███▎      | 1668/5000 [00:24<00:34, 96.36it/s]"
     ]
    },
    {
     "name": "stderr",
     "output_type": "stream",
     "text": [
      "\r",
      "Step 3/3 :  33%|███▎      | 1668/5000 [00:24<00:34, 96.36it/s]"
     ]
    },
    {
     "name": "stderr",
     "output_type": "stream",
     "text": [
      "\r",
      "Step 3/3 :  33%|███▎      | 1668/5000 [00:24<00:34, 96.36it/s]"
     ]
    },
    {
     "name": "stderr",
     "output_type": "stream",
     "text": [
      "\r",
      "Step 3/3 :  33%|███▎      | 1668/5000 [00:24<00:34, 96.36it/s]"
     ]
    },
    {
     "name": "stderr",
     "output_type": "stream",
     "text": [
      "\r",
      "Step 3/3 :  34%|███▎      | 1679/5000 [00:24<00:33, 98.18it/s]"
     ]
    },
    {
     "name": "stderr",
     "output_type": "stream",
     "text": [
      "\r",
      "Step 3/3 :  34%|███▎      | 1679/5000 [00:24<00:33, 98.18it/s]"
     ]
    },
    {
     "name": "stderr",
     "output_type": "stream",
     "text": [
      "\r",
      "Step 3/3 :  34%|███▎      | 1679/5000 [00:24<00:33, 98.18it/s]"
     ]
    },
    {
     "name": "stderr",
     "output_type": "stream",
     "text": [
      "\r",
      "Step 3/3 :  34%|███▎      | 1679/5000 [00:24<00:33, 98.18it/s]"
     ]
    },
    {
     "name": "stderr",
     "output_type": "stream",
     "text": [
      "\r",
      "Step 3/3 :  34%|███▎      | 1679/5000 [00:24<00:33, 98.18it/s]"
     ]
    },
    {
     "name": "stderr",
     "output_type": "stream",
     "text": [
      "\r",
      "Step 3/3 :  34%|███▎      | 1679/5000 [00:24<00:33, 98.18it/s]"
     ]
    },
    {
     "name": "stderr",
     "output_type": "stream",
     "text": [
      "\r",
      "Step 3/3 :  34%|███▎      | 1679/5000 [00:24<00:33, 98.18it/s]"
     ]
    },
    {
     "name": "stderr",
     "output_type": "stream",
     "text": [
      "\r",
      "Step 3/3 :  34%|███▎      | 1679/5000 [00:24<00:33, 98.18it/s]"
     ]
    },
    {
     "name": "stderr",
     "output_type": "stream",
     "text": [
      "\r",
      "Step 3/3 :  34%|███▎      | 1679/5000 [00:24<00:33, 98.18it/s]"
     ]
    },
    {
     "name": "stderr",
     "output_type": "stream",
     "text": [
      "\r",
      "Step 3/3 :  34%|███▎      | 1679/5000 [00:24<00:33, 98.18it/s]"
     ]
    },
    {
     "name": "stderr",
     "output_type": "stream",
     "text": [
      "\r",
      "Step 3/3 :  34%|███▎      | 1679/5000 [00:24<00:33, 98.18it/s]"
     ]
    },
    {
     "name": "stderr",
     "output_type": "stream",
     "text": [
      "\r",
      "Step 3/3 :  34%|███▎      | 1679/5000 [00:24<00:33, 98.18it/s]"
     ]
    },
    {
     "name": "stderr",
     "output_type": "stream",
     "text": [
      "\r",
      "Step 3/3 :  34%|███▍      | 1690/5000 [00:24<00:32, 101.14it/s]"
     ]
    },
    {
     "name": "stderr",
     "output_type": "stream",
     "text": [
      "\r",
      "Step 3/3 :  34%|███▍      | 1690/5000 [00:24<00:32, 101.14it/s]"
     ]
    },
    {
     "name": "stderr",
     "output_type": "stream",
     "text": [
      "\r",
      "Step 3/3 :  34%|███▍      | 1690/5000 [00:24<00:32, 101.14it/s]"
     ]
    },
    {
     "name": "stderr",
     "output_type": "stream",
     "text": [
      "\r",
      "Step 3/3 :  34%|███▍      | 1690/5000 [00:24<00:32, 101.14it/s]"
     ]
    },
    {
     "name": "stderr",
     "output_type": "stream",
     "text": [
      "\r",
      "Step 3/3 :  34%|███▍      | 1690/5000 [00:24<00:32, 101.14it/s]"
     ]
    },
    {
     "name": "stderr",
     "output_type": "stream",
     "text": [
      "\r",
      "Step 3/3 :  34%|███▍      | 1690/5000 [00:24<00:32, 101.14it/s]"
     ]
    },
    {
     "name": "stderr",
     "output_type": "stream",
     "text": [
      "\r",
      "Step 3/3 :  34%|███▍      | 1690/5000 [00:24<00:32, 101.14it/s]"
     ]
    },
    {
     "name": "stderr",
     "output_type": "stream",
     "text": [
      "\r",
      "Step 3/3 :  34%|███▍      | 1690/5000 [00:24<00:32, 101.14it/s]"
     ]
    },
    {
     "name": "stderr",
     "output_type": "stream",
     "text": [
      "\r",
      "Step 3/3 :  34%|███▍      | 1690/5000 [00:24<00:32, 101.14it/s]"
     ]
    },
    {
     "name": "stderr",
     "output_type": "stream",
     "text": [
      "\r",
      "Step 3/3 :  34%|███▍      | 1690/5000 [00:24<00:32, 101.14it/s]"
     ]
    },
    {
     "name": "stderr",
     "output_type": "stream",
     "text": [
      "\r",
      "Step 3/3 :  34%|███▍      | 1690/5000 [00:24<00:32, 101.14it/s]"
     ]
    },
    {
     "name": "stderr",
     "output_type": "stream",
     "text": [
      "\r",
      "Step 3/3 :  34%|███▍      | 1690/5000 [00:24<00:32, 101.14it/s]"
     ]
    },
    {
     "name": "stderr",
     "output_type": "stream",
     "text": [
      "\r",
      "Step 3/3 :  34%|███▍      | 1701/5000 [00:24<00:32, 102.76it/s]"
     ]
    },
    {
     "name": "stderr",
     "output_type": "stream",
     "text": [
      "\r",
      "Step 3/3 :  34%|███▍      | 1701/5000 [00:24<00:32, 102.76it/s]"
     ]
    },
    {
     "name": "stderr",
     "output_type": "stream",
     "text": [
      "\r",
      "Step 3/3 :  34%|███▍      | 1701/5000 [00:24<00:32, 102.76it/s]"
     ]
    },
    {
     "name": "stderr",
     "output_type": "stream",
     "text": [
      "\r",
      "Step 3/3 :  34%|███▍      | 1701/5000 [00:24<00:32, 102.76it/s]"
     ]
    },
    {
     "name": "stderr",
     "output_type": "stream",
     "text": [
      "\r",
      "Step 3/3 :  34%|███▍      | 1701/5000 [00:24<00:32, 102.76it/s]"
     ]
    },
    {
     "name": "stderr",
     "output_type": "stream",
     "text": [
      "\r",
      "Step 3/3 :  34%|███▍      | 1701/5000 [00:24<00:32, 102.76it/s]"
     ]
    },
    {
     "name": "stderr",
     "output_type": "stream",
     "text": [
      "\r",
      "Step 3/3 :  34%|███▍      | 1701/5000 [00:24<00:32, 102.76it/s]"
     ]
    },
    {
     "name": "stderr",
     "output_type": "stream",
     "text": [
      "\r",
      "Step 3/3 :  34%|███▍      | 1701/5000 [00:24<00:32, 102.76it/s]"
     ]
    },
    {
     "name": "stderr",
     "output_type": "stream",
     "text": [
      "\r",
      "Step 3/3 :  34%|███▍      | 1701/5000 [00:24<00:32, 102.76it/s]"
     ]
    },
    {
     "name": "stderr",
     "output_type": "stream",
     "text": [
      "\r",
      "Step 3/3 :  34%|███▍      | 1701/5000 [00:24<00:32, 102.76it/s]"
     ]
    },
    {
     "name": "stderr",
     "output_type": "stream",
     "text": [
      "\r",
      "Step 3/3 :  34%|███▍      | 1701/5000 [00:24<00:32, 102.76it/s]"
     ]
    },
    {
     "name": "stderr",
     "output_type": "stream",
     "text": [
      "\r",
      "Step 3/3 :  34%|███▍      | 1701/5000 [00:24<00:32, 102.76it/s]"
     ]
    },
    {
     "name": "stderr",
     "output_type": "stream",
     "text": [
      "\r",
      "Step 3/3 :  34%|███▍      | 1701/5000 [00:24<00:32, 102.76it/s]"
     ]
    },
    {
     "name": "stderr",
     "output_type": "stream",
     "text": [
      "\r",
      "Step 3/3 :  34%|███▍      | 1713/5000 [00:24<00:30, 106.46it/s]"
     ]
    },
    {
     "name": "stderr",
     "output_type": "stream",
     "text": [
      "\r",
      "Step 3/3 :  34%|███▍      | 1713/5000 [00:24<00:30, 106.46it/s]"
     ]
    },
    {
     "name": "stderr",
     "output_type": "stream",
     "text": [
      "\r",
      "Step 3/3 :  34%|███▍      | 1713/5000 [00:24<00:30, 106.46it/s]"
     ]
    },
    {
     "name": "stderr",
     "output_type": "stream",
     "text": [
      "\r",
      "Step 3/3 :  34%|███▍      | 1713/5000 [00:24<00:30, 106.46it/s]"
     ]
    },
    {
     "name": "stderr",
     "output_type": "stream",
     "text": [
      "\r",
      "Step 3/3 :  34%|███▍      | 1713/5000 [00:24<00:30, 106.46it/s]"
     ]
    },
    {
     "name": "stderr",
     "output_type": "stream",
     "text": [
      "\r",
      "Step 3/3 :  34%|███▍      | 1713/5000 [00:24<00:30, 106.46it/s]"
     ]
    },
    {
     "name": "stderr",
     "output_type": "stream",
     "text": [
      "\r",
      "Step 3/3 :  34%|███▍      | 1713/5000 [00:24<00:30, 106.46it/s]"
     ]
    },
    {
     "name": "stderr",
     "output_type": "stream",
     "text": [
      "\r",
      "Step 3/3 :  34%|███▍      | 1713/5000 [00:24<00:30, 106.46it/s]"
     ]
    },
    {
     "name": "stderr",
     "output_type": "stream",
     "text": [
      "\r",
      "Step 3/3 :  34%|███▍      | 1713/5000 [00:24<00:30, 106.46it/s]"
     ]
    },
    {
     "name": "stderr",
     "output_type": "stream",
     "text": [
      "\r",
      "Step 3/3 :  34%|███▍      | 1713/5000 [00:24<00:30, 106.46it/s]"
     ]
    },
    {
     "name": "stderr",
     "output_type": "stream",
     "text": [
      "\r",
      "Step 3/3 :  34%|███▍      | 1713/5000 [00:24<00:30, 106.46it/s]"
     ]
    },
    {
     "name": "stderr",
     "output_type": "stream",
     "text": [
      "\r",
      "Step 3/3 :  34%|███▍      | 1713/5000 [00:24<00:30, 106.46it/s]"
     ]
    },
    {
     "name": "stderr",
     "output_type": "stream",
     "text": [
      "\r",
      "Step 3/3 :  34%|███▍      | 1713/5000 [00:24<00:30, 106.46it/s]"
     ]
    },
    {
     "name": "stderr",
     "output_type": "stream",
     "text": [
      "\r",
      "Step 3/3 :  34%|███▍      | 1725/5000 [00:24<00:30, 108.47it/s]"
     ]
    },
    {
     "name": "stderr",
     "output_type": "stream",
     "text": [
      "\r",
      "Step 3/3 :  34%|███▍      | 1725/5000 [00:24<00:30, 108.47it/s]"
     ]
    },
    {
     "name": "stderr",
     "output_type": "stream",
     "text": [
      "\r",
      "Step 3/3 :  34%|███▍      | 1725/5000 [00:24<00:30, 108.47it/s]"
     ]
    },
    {
     "name": "stderr",
     "output_type": "stream",
     "text": [
      "\r",
      "Step 3/3 :  34%|███▍      | 1725/5000 [00:24<00:30, 108.47it/s]"
     ]
    },
    {
     "name": "stderr",
     "output_type": "stream",
     "text": [
      "\r",
      "Step 3/3 :  34%|███▍      | 1725/5000 [00:24<00:30, 108.47it/s]"
     ]
    },
    {
     "name": "stderr",
     "output_type": "stream",
     "text": [
      "\r",
      "Step 3/3 :  34%|███▍      | 1725/5000 [00:24<00:30, 108.47it/s]"
     ]
    },
    {
     "name": "stderr",
     "output_type": "stream",
     "text": [
      "\r",
      "Step 3/3 :  34%|███▍      | 1725/5000 [00:24<00:30, 108.47it/s]"
     ]
    },
    {
     "name": "stderr",
     "output_type": "stream",
     "text": [
      "\r",
      "Step 3/3 :  34%|███▍      | 1725/5000 [00:24<00:30, 108.47it/s]"
     ]
    },
    {
     "name": "stderr",
     "output_type": "stream",
     "text": [
      "\r",
      "Step 3/3 :  34%|███▍      | 1725/5000 [00:24<00:30, 108.47it/s]"
     ]
    },
    {
     "name": "stderr",
     "output_type": "stream",
     "text": [
      "\r",
      "Step 3/3 :  34%|███▍      | 1725/5000 [00:24<00:30, 108.47it/s]"
     ]
    },
    {
     "name": "stderr",
     "output_type": "stream",
     "text": [
      "\r",
      "Step 3/3 :  34%|███▍      | 1725/5000 [00:24<00:30, 108.47it/s]"
     ]
    },
    {
     "name": "stderr",
     "output_type": "stream",
     "text": [
      "\r",
      "Step 3/3 :  34%|███▍      | 1725/5000 [00:24<00:30, 108.47it/s]"
     ]
    },
    {
     "name": "stderr",
     "output_type": "stream",
     "text": [
      "\r",
      "Step 3/3 :  34%|███▍      | 1725/5000 [00:24<00:30, 108.47it/s]"
     ]
    },
    {
     "name": "stderr",
     "output_type": "stream",
     "text": [
      "\r",
      "Step 3/3 :  35%|███▍      | 1737/5000 [00:24<00:29, 111.14it/s]"
     ]
    },
    {
     "name": "stderr",
     "output_type": "stream",
     "text": [
      "\r",
      "Step 3/3 :  35%|███▍      | 1737/5000 [00:24<00:29, 111.14it/s]"
     ]
    },
    {
     "name": "stderr",
     "output_type": "stream",
     "text": [
      "\r",
      "Step 3/3 :  35%|███▍      | 1737/5000 [00:24<00:29, 111.14it/s]"
     ]
    },
    {
     "name": "stderr",
     "output_type": "stream",
     "text": [
      "\r",
      "Step 3/3 :  35%|███▍      | 1737/5000 [00:24<00:29, 111.14it/s]"
     ]
    },
    {
     "name": "stderr",
     "output_type": "stream",
     "text": [
      "\r",
      "Step 3/3 :  35%|███▍      | 1737/5000 [00:24<00:29, 111.14it/s]"
     ]
    },
    {
     "name": "stderr",
     "output_type": "stream",
     "text": [
      "\r",
      "Step 3/3 :  35%|███▍      | 1737/5000 [00:24<00:29, 111.14it/s]"
     ]
    },
    {
     "name": "stderr",
     "output_type": "stream",
     "text": [
      "\r",
      "Step 3/3 :  35%|███▍      | 1737/5000 [00:24<00:29, 111.14it/s]"
     ]
    },
    {
     "name": "stderr",
     "output_type": "stream",
     "text": [
      "\r",
      "Step 3/3 :  35%|███▍      | 1737/5000 [00:24<00:29, 111.14it/s]"
     ]
    },
    {
     "name": "stderr",
     "output_type": "stream",
     "text": [
      "\r",
      "Step 3/3 :  35%|███▍      | 1737/5000 [00:24<00:29, 111.14it/s]"
     ]
    },
    {
     "name": "stderr",
     "output_type": "stream",
     "text": [
      "\r",
      "Step 3/3 :  35%|███▍      | 1737/5000 [00:24<00:29, 111.14it/s]"
     ]
    },
    {
     "name": "stderr",
     "output_type": "stream",
     "text": [
      "\r",
      "Step 3/3 :  35%|███▍      | 1737/5000 [00:24<00:29, 111.14it/s]"
     ]
    },
    {
     "name": "stderr",
     "output_type": "stream",
     "text": [
      "\r",
      "Step 3/3 :  35%|███▍      | 1737/5000 [00:24<00:29, 111.14it/s]"
     ]
    },
    {
     "name": "stderr",
     "output_type": "stream",
     "text": [
      "\r",
      "Step 3/3 :  35%|███▍      | 1737/5000 [00:24<00:29, 111.14it/s]"
     ]
    },
    {
     "name": "stderr",
     "output_type": "stream",
     "text": [
      "\r",
      "Step 3/3 :  35%|███▍      | 1749/5000 [00:24<00:28, 112.72it/s]"
     ]
    },
    {
     "name": "stderr",
     "output_type": "stream",
     "text": [
      "\r",
      "Step 3/3 :  35%|███▍      | 1749/5000 [00:24<00:28, 112.72it/s]"
     ]
    },
    {
     "name": "stderr",
     "output_type": "stream",
     "text": [
      "\r",
      "Step 3/3 :  35%|███▍      | 1749/5000 [00:24<00:28, 112.72it/s]"
     ]
    },
    {
     "name": "stderr",
     "output_type": "stream",
     "text": [
      "\r",
      "Step 3/3 :  35%|███▍      | 1749/5000 [00:24<00:28, 112.72it/s]"
     ]
    },
    {
     "name": "stderr",
     "output_type": "stream",
     "text": [
      "\r",
      "Step 3/3 :  35%|███▍      | 1749/5000 [00:24<00:28, 112.72it/s]"
     ]
    },
    {
     "name": "stderr",
     "output_type": "stream",
     "text": [
      "\r",
      "Step 3/3 :  35%|███▍      | 1749/5000 [00:24<00:28, 112.72it/s]"
     ]
    },
    {
     "name": "stderr",
     "output_type": "stream",
     "text": [
      "\r",
      "Step 3/3 :  35%|███▍      | 1749/5000 [00:24<00:28, 112.72it/s]"
     ]
    },
    {
     "name": "stderr",
     "output_type": "stream",
     "text": [
      "\r",
      "Step 3/3 :  35%|███▍      | 1749/5000 [00:24<00:28, 112.72it/s]"
     ]
    },
    {
     "name": "stderr",
     "output_type": "stream",
     "text": [
      "\r",
      "Step 3/3 :  35%|███▍      | 1749/5000 [00:24<00:28, 112.72it/s]"
     ]
    },
    {
     "name": "stderr",
     "output_type": "stream",
     "text": [
      "\r",
      "Step 3/3 :  35%|███▍      | 1749/5000 [00:24<00:28, 112.72it/s]"
     ]
    },
    {
     "name": "stderr",
     "output_type": "stream",
     "text": [
      "\r",
      "Step 3/3 :  35%|███▍      | 1749/5000 [00:24<00:28, 112.72it/s]"
     ]
    },
    {
     "name": "stderr",
     "output_type": "stream",
     "text": [
      "\r",
      "Step 3/3 :  35%|███▍      | 1749/5000 [00:24<00:28, 112.72it/s]"
     ]
    },
    {
     "name": "stderr",
     "output_type": "stream",
     "text": [
      "\r",
      "Step 3/3 :  35%|███▍      | 1749/5000 [00:24<00:28, 112.72it/s]"
     ]
    },
    {
     "name": "stderr",
     "output_type": "stream",
     "text": [
      "\r",
      "Step 3/3 :  35%|███▌      | 1761/5000 [00:24<00:29, 110.66it/s]"
     ]
    },
    {
     "name": "stderr",
     "output_type": "stream",
     "text": [
      "\r",
      "Step 3/3 :  35%|███▌      | 1761/5000 [00:24<00:29, 110.66it/s]"
     ]
    },
    {
     "name": "stderr",
     "output_type": "stream",
     "text": [
      "\r",
      "Step 3/3 :  35%|███▌      | 1761/5000 [00:24<00:29, 110.66it/s]"
     ]
    },
    {
     "name": "stderr",
     "output_type": "stream",
     "text": [
      "\r",
      "Step 3/3 :  35%|███▌      | 1761/5000 [00:24<00:29, 110.66it/s]"
     ]
    },
    {
     "name": "stderr",
     "output_type": "stream",
     "text": [
      "\r",
      "Step 3/3 :  35%|███▌      | 1761/5000 [00:24<00:29, 110.66it/s]"
     ]
    },
    {
     "name": "stderr",
     "output_type": "stream",
     "text": [
      "\r",
      "Step 3/3 :  35%|███▌      | 1761/5000 [00:24<00:29, 110.66it/s]"
     ]
    },
    {
     "name": "stderr",
     "output_type": "stream",
     "text": [
      "\r",
      "Step 3/3 :  35%|███▌      | 1761/5000 [00:24<00:29, 110.66it/s]"
     ]
    },
    {
     "name": "stderr",
     "output_type": "stream",
     "text": [
      "\r",
      "Step 3/3 :  35%|███▌      | 1761/5000 [00:24<00:29, 110.66it/s]"
     ]
    },
    {
     "name": "stderr",
     "output_type": "stream",
     "text": [
      "\r",
      "Step 3/3 :  35%|███▌      | 1761/5000 [00:24<00:29, 110.66it/s]"
     ]
    },
    {
     "name": "stderr",
     "output_type": "stream",
     "text": [
      "\r",
      "Step 3/3 :  35%|███▌      | 1761/5000 [00:24<00:29, 110.66it/s]"
     ]
    },
    {
     "name": "stderr",
     "output_type": "stream",
     "text": [
      "\r",
      "Step 3/3 :  35%|███▌      | 1761/5000 [00:24<00:29, 110.66it/s]"
     ]
    },
    {
     "name": "stderr",
     "output_type": "stream",
     "text": [
      "\r",
      "Step 3/3 :  35%|███▌      | 1761/5000 [00:24<00:29, 110.66it/s]"
     ]
    },
    {
     "name": "stderr",
     "output_type": "stream",
     "text": [
      "\r",
      "Step 3/3 :  35%|███▌      | 1761/5000 [00:24<00:29, 110.66it/s]"
     ]
    },
    {
     "name": "stderr",
     "output_type": "stream",
     "text": [
      "\r",
      "Step 3/3 :  35%|███▌      | 1773/5000 [00:24<00:28, 111.42it/s]"
     ]
    },
    {
     "name": "stderr",
     "output_type": "stream",
     "text": [
      "\r",
      "Step 3/3 :  35%|███▌      | 1773/5000 [00:24<00:28, 111.42it/s]"
     ]
    },
    {
     "name": "stderr",
     "output_type": "stream",
     "text": [
      "\r",
      "Step 3/3 :  35%|███▌      | 1773/5000 [00:24<00:28, 111.42it/s]"
     ]
    },
    {
     "name": "stderr",
     "output_type": "stream",
     "text": [
      "\r",
      "Step 3/3 :  35%|███▌      | 1773/5000 [00:24<00:28, 111.42it/s]"
     ]
    },
    {
     "name": "stderr",
     "output_type": "stream",
     "text": [
      "\r",
      "Step 3/3 :  35%|███▌      | 1773/5000 [00:24<00:28, 111.42it/s]"
     ]
    },
    {
     "name": "stderr",
     "output_type": "stream",
     "text": [
      "\r",
      "Step 3/3 :  35%|███▌      | 1773/5000 [00:24<00:28, 111.42it/s]"
     ]
    },
    {
     "name": "stderr",
     "output_type": "stream",
     "text": [
      "\r",
      "Step 3/3 :  35%|███▌      | 1773/5000 [00:24<00:28, 111.42it/s]"
     ]
    },
    {
     "name": "stderr",
     "output_type": "stream",
     "text": [
      "\r",
      "Step 3/3 :  35%|███▌      | 1773/5000 [00:24<00:28, 111.42it/s]"
     ]
    },
    {
     "name": "stderr",
     "output_type": "stream",
     "text": [
      "\r",
      "Step 3/3 :  35%|███▌      | 1773/5000 [00:25<00:28, 111.42it/s]"
     ]
    },
    {
     "name": "stderr",
     "output_type": "stream",
     "text": [
      "\r",
      "Step 3/3 :  35%|███▌      | 1773/5000 [00:25<00:28, 111.42it/s]"
     ]
    },
    {
     "name": "stderr",
     "output_type": "stream",
     "text": [
      "\r",
      "Step 3/3 :  35%|███▌      | 1773/5000 [00:25<00:28, 111.42it/s]"
     ]
    },
    {
     "name": "stderr",
     "output_type": "stream",
     "text": [
      "\r",
      "Step 3/3 :  35%|███▌      | 1773/5000 [00:25<00:28, 111.42it/s]"
     ]
    },
    {
     "name": "stderr",
     "output_type": "stream",
     "text": [
      "\r",
      "Step 3/3 :  35%|███▌      | 1773/5000 [00:25<00:28, 111.42it/s]"
     ]
    },
    {
     "name": "stderr",
     "output_type": "stream",
     "text": [
      "\r",
      "Step 3/3 :  36%|███▌      | 1785/5000 [00:25<00:30, 104.87it/s]"
     ]
    },
    {
     "name": "stderr",
     "output_type": "stream",
     "text": [
      "\r",
      "Step 3/3 :  36%|███▌      | 1785/5000 [00:25<00:30, 104.87it/s]"
     ]
    },
    {
     "name": "stderr",
     "output_type": "stream",
     "text": [
      "\r",
      "Step 3/3 :  36%|███▌      | 1785/5000 [00:25<00:30, 104.87it/s]"
     ]
    },
    {
     "name": "stderr",
     "output_type": "stream",
     "text": [
      "\r",
      "Step 3/3 :  36%|███▌      | 1785/5000 [00:25<00:30, 104.87it/s]"
     ]
    },
    {
     "name": "stderr",
     "output_type": "stream",
     "text": [
      "\r",
      "Step 3/3 :  36%|███▌      | 1785/5000 [00:25<00:30, 104.87it/s]"
     ]
    },
    {
     "name": "stderr",
     "output_type": "stream",
     "text": [
      "\r",
      "Step 3/3 :  36%|███▌      | 1785/5000 [00:25<00:30, 104.87it/s]"
     ]
    },
    {
     "name": "stderr",
     "output_type": "stream",
     "text": [
      "\r",
      "Step 3/3 :  36%|███▌      | 1785/5000 [00:25<00:30, 104.87it/s]"
     ]
    },
    {
     "name": "stderr",
     "output_type": "stream",
     "text": [
      "\r",
      "Step 3/3 :  36%|███▌      | 1785/5000 [00:25<00:30, 104.87it/s]"
     ]
    },
    {
     "name": "stderr",
     "output_type": "stream",
     "text": [
      "\r",
      "Step 3/3 :  36%|███▌      | 1785/5000 [00:25<00:30, 104.87it/s]"
     ]
    },
    {
     "name": "stderr",
     "output_type": "stream",
     "text": [
      "\r",
      "Step 3/3 :  36%|███▌      | 1785/5000 [00:25<00:30, 104.87it/s]"
     ]
    },
    {
     "name": "stderr",
     "output_type": "stream",
     "text": [
      "\r",
      "Step 3/3 :  36%|███▌      | 1785/5000 [00:25<00:30, 104.87it/s]"
     ]
    },
    {
     "name": "stderr",
     "output_type": "stream",
     "text": [
      "\r",
      "Step 3/3 :  36%|███▌      | 1785/5000 [00:25<00:30, 104.87it/s]"
     ]
    },
    {
     "name": "stderr",
     "output_type": "stream",
     "text": [
      "\r",
      "Step 3/3 :  36%|███▌      | 1796/5000 [00:25<00:36, 88.57it/s] "
     ]
    },
    {
     "name": "stderr",
     "output_type": "stream",
     "text": [
      "\r",
      "Step 3/3 :  36%|███▌      | 1796/5000 [00:25<00:36, 88.57it/s]"
     ]
    },
    {
     "name": "stderr",
     "output_type": "stream",
     "text": [
      "\r",
      "Step 3/3 :  36%|███▌      | 1796/5000 [00:25<00:36, 88.57it/s]"
     ]
    },
    {
     "name": "stderr",
     "output_type": "stream",
     "text": [
      "\r",
      "Step 3/3 :  36%|███▌      | 1796/5000 [00:25<00:36, 88.57it/s]"
     ]
    },
    {
     "name": "stderr",
     "output_type": "stream",
     "text": [
      "\r",
      "Step 3/3 :  36%|███▌      | 1796/5000 [00:25<00:36, 88.57it/s]"
     ]
    },
    {
     "name": "stderr",
     "output_type": "stream",
     "text": [
      "\r",
      "Step 3/3 :  36%|███▌      | 1796/5000 [00:25<00:36, 88.57it/s]"
     ]
    },
    {
     "name": "stderr",
     "output_type": "stream",
     "text": [
      "\r",
      "Step 3/3 :  36%|███▌      | 1796/5000 [00:25<00:36, 88.57it/s]"
     ]
    },
    {
     "name": "stderr",
     "output_type": "stream",
     "text": [
      "\r",
      "Step 3/3 :  36%|███▌      | 1796/5000 [00:25<00:36, 88.57it/s]"
     ]
    },
    {
     "name": "stderr",
     "output_type": "stream",
     "text": [
      "\r",
      "Step 3/3 :  36%|███▌      | 1796/5000 [00:25<00:36, 88.57it/s]"
     ]
    },
    {
     "name": "stderr",
     "output_type": "stream",
     "text": [
      "\r",
      "Step 3/3 :  36%|███▌      | 1796/5000 [00:25<00:36, 88.57it/s]"
     ]
    },
    {
     "name": "stderr",
     "output_type": "stream",
     "text": [
      "\r",
      "Step 3/3 :  36%|███▌      | 1796/5000 [00:25<00:36, 88.57it/s]"
     ]
    },
    {
     "name": "stderr",
     "output_type": "stream",
     "text": [
      "\r",
      "Step 3/3 :  36%|███▌      | 1806/5000 [00:25<00:36, 86.69it/s]"
     ]
    },
    {
     "name": "stderr",
     "output_type": "stream",
     "text": [
      "\r",
      "Step 3/3 :  36%|███▌      | 1806/5000 [00:25<00:36, 86.69it/s]"
     ]
    },
    {
     "name": "stderr",
     "output_type": "stream",
     "text": [
      "\r",
      "Step 3/3 :  36%|███▌      | 1806/5000 [00:25<00:36, 86.69it/s]"
     ]
    },
    {
     "name": "stderr",
     "output_type": "stream",
     "text": [
      "\r",
      "Step 3/3 :  36%|███▌      | 1806/5000 [00:25<00:36, 86.69it/s]"
     ]
    },
    {
     "name": "stderr",
     "output_type": "stream",
     "text": [
      "\r",
      "Step 3/3 :  36%|███▌      | 1806/5000 [00:25<00:36, 86.69it/s]"
     ]
    },
    {
     "name": "stderr",
     "output_type": "stream",
     "text": [
      "\r",
      "Step 3/3 :  36%|███▌      | 1806/5000 [00:25<00:36, 86.69it/s]"
     ]
    },
    {
     "name": "stderr",
     "output_type": "stream",
     "text": [
      "\r",
      "Step 3/3 :  36%|███▌      | 1806/5000 [00:25<00:36, 86.69it/s]"
     ]
    },
    {
     "name": "stderr",
     "output_type": "stream",
     "text": [
      "\r",
      "Step 3/3 :  36%|███▌      | 1806/5000 [00:25<00:36, 86.69it/s]"
     ]
    },
    {
     "name": "stderr",
     "output_type": "stream",
     "text": [
      "\r",
      "Step 3/3 :  36%|███▌      | 1806/5000 [00:25<00:36, 86.69it/s]"
     ]
    },
    {
     "name": "stderr",
     "output_type": "stream",
     "text": [
      "\r",
      "Step 3/3 :  36%|███▌      | 1806/5000 [00:25<00:36, 86.69it/s]"
     ]
    },
    {
     "name": "stderr",
     "output_type": "stream",
     "text": [
      "\r",
      "Step 3/3 :  36%|███▌      | 1806/5000 [00:25<00:36, 86.69it/s]"
     ]
    },
    {
     "name": "stderr",
     "output_type": "stream",
     "text": [
      "\r",
      "Step 3/3 :  36%|███▋      | 1816/5000 [00:25<00:35, 88.69it/s]"
     ]
    },
    {
     "name": "stderr",
     "output_type": "stream",
     "text": [
      "\r",
      "Step 3/3 :  36%|███▋      | 1816/5000 [00:25<00:35, 88.69it/s]"
     ]
    },
    {
     "name": "stderr",
     "output_type": "stream",
     "text": [
      "\r",
      "Step 3/3 :  36%|███▋      | 1816/5000 [00:25<00:35, 88.69it/s]"
     ]
    },
    {
     "name": "stderr",
     "output_type": "stream",
     "text": [
      "\r",
      "Step 3/3 :  36%|███▋      | 1816/5000 [00:25<00:35, 88.69it/s]"
     ]
    },
    {
     "name": "stderr",
     "output_type": "stream",
     "text": [
      "\r",
      "Step 3/3 :  36%|███▋      | 1816/5000 [00:25<00:35, 88.69it/s]"
     ]
    },
    {
     "name": "stderr",
     "output_type": "stream",
     "text": [
      "\r",
      "Step 3/3 :  36%|███▋      | 1816/5000 [00:25<00:35, 88.69it/s]"
     ]
    },
    {
     "name": "stderr",
     "output_type": "stream",
     "text": [
      "\r",
      "Step 3/3 :  36%|███▋      | 1816/5000 [00:25<00:35, 88.69it/s]"
     ]
    },
    {
     "name": "stderr",
     "output_type": "stream",
     "text": [
      "\r",
      "Step 3/3 :  36%|███▋      | 1816/5000 [00:25<00:35, 88.69it/s]"
     ]
    },
    {
     "name": "stderr",
     "output_type": "stream",
     "text": [
      "\r",
      "Step 3/3 :  36%|███▋      | 1816/5000 [00:25<00:35, 88.69it/s]"
     ]
    },
    {
     "name": "stderr",
     "output_type": "stream",
     "text": [
      "\r",
      "Step 3/3 :  36%|███▋      | 1816/5000 [00:25<00:35, 88.69it/s]"
     ]
    },
    {
     "name": "stderr",
     "output_type": "stream",
     "text": [
      "\r",
      "Step 3/3 :  36%|███▋      | 1816/5000 [00:25<00:35, 88.69it/s]"
     ]
    },
    {
     "name": "stderr",
     "output_type": "stream",
     "text": [
      "\r",
      "Step 3/3 :  36%|███▋      | 1816/5000 [00:25<00:35, 88.69it/s]"
     ]
    },
    {
     "name": "stderr",
     "output_type": "stream",
     "text": [
      "\r",
      "Step 3/3 :  37%|███▋      | 1827/5000 [00:25<00:34, 93.26it/s]"
     ]
    },
    {
     "name": "stderr",
     "output_type": "stream",
     "text": [
      "\r",
      "Step 3/3 :  37%|███▋      | 1827/5000 [00:25<00:34, 93.26it/s]"
     ]
    },
    {
     "name": "stderr",
     "output_type": "stream",
     "text": [
      "\r",
      "Step 3/3 :  37%|███▋      | 1827/5000 [00:25<00:34, 93.26it/s]"
     ]
    },
    {
     "name": "stderr",
     "output_type": "stream",
     "text": [
      "\r",
      "Step 3/3 :  37%|███▋      | 1827/5000 [00:25<00:34, 93.26it/s]"
     ]
    },
    {
     "name": "stderr",
     "output_type": "stream",
     "text": [
      "\r",
      "Step 3/3 :  37%|███▋      | 1827/5000 [00:25<00:34, 93.26it/s]"
     ]
    },
    {
     "name": "stderr",
     "output_type": "stream",
     "text": [
      "\r",
      "Step 3/3 :  37%|███▋      | 1827/5000 [00:25<00:34, 93.26it/s]"
     ]
    },
    {
     "name": "stderr",
     "output_type": "stream",
     "text": [
      "\r",
      "Step 3/3 :  37%|███▋      | 1827/5000 [00:25<00:34, 93.26it/s]"
     ]
    },
    {
     "name": "stderr",
     "output_type": "stream",
     "text": [
      "\r",
      "Step 3/3 :  37%|███▋      | 1827/5000 [00:25<00:34, 93.26it/s]"
     ]
    },
    {
     "name": "stderr",
     "output_type": "stream",
     "text": [
      "\r",
      "Step 3/3 :  37%|███▋      | 1827/5000 [00:25<00:34, 93.26it/s]"
     ]
    },
    {
     "name": "stderr",
     "output_type": "stream",
     "text": [
      "\r",
      "Step 3/3 :  37%|███▋      | 1827/5000 [00:25<00:34, 93.26it/s]"
     ]
    },
    {
     "name": "stderr",
     "output_type": "stream",
     "text": [
      "\r",
      "Step 3/3 :  37%|███▋      | 1827/5000 [00:25<00:34, 93.26it/s]"
     ]
    },
    {
     "name": "stderr",
     "output_type": "stream",
     "text": [
      "\r",
      "Step 3/3 :  37%|███▋      | 1827/5000 [00:25<00:34, 93.26it/s]"
     ]
    },
    {
     "name": "stderr",
     "output_type": "stream",
     "text": [
      "\r",
      "Step 3/3 :  37%|███▋      | 1827/5000 [00:25<00:34, 93.26it/s]"
     ]
    },
    {
     "name": "stderr",
     "output_type": "stream",
     "text": [
      "\r",
      "Step 3/3 :  37%|███▋      | 1839/5000 [00:25<00:31, 100.18it/s]"
     ]
    },
    {
     "name": "stderr",
     "output_type": "stream",
     "text": [
      "\r",
      "Step 3/3 :  37%|███▋      | 1839/5000 [00:25<00:31, 100.18it/s]"
     ]
    },
    {
     "name": "stderr",
     "output_type": "stream",
     "text": [
      "\r",
      "Step 3/3 :  37%|███▋      | 1839/5000 [00:25<00:31, 100.18it/s]"
     ]
    },
    {
     "name": "stderr",
     "output_type": "stream",
     "text": [
      "\r",
      "Step 3/3 :  37%|███▋      | 1839/5000 [00:25<00:31, 100.18it/s]"
     ]
    },
    {
     "name": "stderr",
     "output_type": "stream",
     "text": [
      "\r",
      "Step 3/3 :  37%|███▋      | 1839/5000 [00:25<00:31, 100.18it/s]"
     ]
    },
    {
     "name": "stderr",
     "output_type": "stream",
     "text": [
      "\r",
      "Step 3/3 :  37%|███▋      | 1839/5000 [00:25<00:31, 100.18it/s]"
     ]
    },
    {
     "name": "stderr",
     "output_type": "stream",
     "text": [
      "\r",
      "Step 3/3 :  37%|███▋      | 1839/5000 [00:25<00:31, 100.18it/s]"
     ]
    },
    {
     "name": "stderr",
     "output_type": "stream",
     "text": [
      "\r",
      "Step 3/3 :  37%|███▋      | 1839/5000 [00:25<00:31, 100.18it/s]"
     ]
    },
    {
     "name": "stderr",
     "output_type": "stream",
     "text": [
      "\r",
      "Step 3/3 :  37%|███▋      | 1839/5000 [00:25<00:31, 100.18it/s]"
     ]
    },
    {
     "name": "stderr",
     "output_type": "stream",
     "text": [
      "\r",
      "Step 3/3 :  37%|███▋      | 1839/5000 [00:25<00:31, 100.18it/s]"
     ]
    },
    {
     "name": "stderr",
     "output_type": "stream",
     "text": [
      "\r",
      "Step 3/3 :  37%|███▋      | 1839/5000 [00:25<00:31, 100.18it/s]"
     ]
    },
    {
     "name": "stderr",
     "output_type": "stream",
     "text": [
      "\r",
      "Step 3/3 :  37%|███▋      | 1839/5000 [00:25<00:31, 100.18it/s]"
     ]
    },
    {
     "name": "stderr",
     "output_type": "stream",
     "text": [
      "\r",
      "Step 3/3 :  37%|███▋      | 1850/5000 [00:25<00:30, 102.62it/s]"
     ]
    },
    {
     "name": "stderr",
     "output_type": "stream",
     "text": [
      "\r",
      "Step 3/3 :  37%|███▋      | 1850/5000 [00:25<00:30, 102.62it/s]"
     ]
    },
    {
     "name": "stderr",
     "output_type": "stream",
     "text": [
      "\r",
      "Step 3/3 :  37%|███▋      | 1850/5000 [00:25<00:30, 102.62it/s]"
     ]
    },
    {
     "name": "stderr",
     "output_type": "stream",
     "text": [
      "\r",
      "Step 3/3 :  37%|███▋      | 1850/5000 [00:25<00:30, 102.62it/s]"
     ]
    },
    {
     "name": "stderr",
     "output_type": "stream",
     "text": [
      "\r",
      "Step 3/3 :  37%|███▋      | 1850/5000 [00:25<00:30, 102.62it/s]"
     ]
    },
    {
     "name": "stderr",
     "output_type": "stream",
     "text": [
      "\r",
      "Step 3/3 :  37%|███▋      | 1850/5000 [00:25<00:30, 102.62it/s]"
     ]
    },
    {
     "name": "stderr",
     "output_type": "stream",
     "text": [
      "\r",
      "Step 3/3 :  37%|███▋      | 1850/5000 [00:25<00:30, 102.62it/s]"
     ]
    },
    {
     "name": "stderr",
     "output_type": "stream",
     "text": [
      "\r",
      "Step 3/3 :  37%|███▋      | 1850/5000 [00:25<00:30, 102.62it/s]"
     ]
    },
    {
     "name": "stderr",
     "output_type": "stream",
     "text": [
      "\r",
      "Step 3/3 :  37%|███▋      | 1850/5000 [00:25<00:30, 102.62it/s]"
     ]
    },
    {
     "name": "stderr",
     "output_type": "stream",
     "text": [
      "\r",
      "Step 3/3 :  37%|███▋      | 1850/5000 [00:25<00:30, 102.62it/s]"
     ]
    },
    {
     "name": "stderr",
     "output_type": "stream",
     "text": [
      "\r",
      "Step 3/3 :  37%|███▋      | 1850/5000 [00:25<00:30, 102.62it/s]"
     ]
    },
    {
     "name": "stderr",
     "output_type": "stream",
     "text": [
      "\r",
      "Step 3/3 :  37%|███▋      | 1850/5000 [00:25<00:30, 102.62it/s]"
     ]
    },
    {
     "name": "stderr",
     "output_type": "stream",
     "text": [
      "\r",
      "Step 3/3 :  37%|███▋      | 1861/5000 [00:25<00:31, 100.99it/s]"
     ]
    },
    {
     "name": "stderr",
     "output_type": "stream",
     "text": [
      "\r",
      "Step 3/3 :  37%|███▋      | 1861/5000 [00:25<00:31, 100.99it/s]"
     ]
    },
    {
     "name": "stderr",
     "output_type": "stream",
     "text": [
      "\r",
      "Step 3/3 :  37%|███▋      | 1861/5000 [00:25<00:31, 100.99it/s]"
     ]
    },
    {
     "name": "stderr",
     "output_type": "stream",
     "text": [
      "\r",
      "Step 3/3 :  37%|███▋      | 1861/5000 [00:25<00:31, 100.99it/s]"
     ]
    },
    {
     "name": "stderr",
     "output_type": "stream",
     "text": [
      "\r",
      "Step 3/3 :  37%|███▋      | 1861/5000 [00:25<00:31, 100.99it/s]"
     ]
    },
    {
     "name": "stderr",
     "output_type": "stream",
     "text": [
      "\r",
      "Step 3/3 :  37%|███▋      | 1861/5000 [00:25<00:31, 100.99it/s]"
     ]
    },
    {
     "name": "stderr",
     "output_type": "stream",
     "text": [
      "\r",
      "Step 3/3 :  37%|███▋      | 1861/5000 [00:25<00:31, 100.99it/s]"
     ]
    },
    {
     "name": "stderr",
     "output_type": "stream",
     "text": [
      "\r",
      "Step 3/3 :  37%|███▋      | 1861/5000 [00:25<00:31, 100.99it/s]"
     ]
    },
    {
     "name": "stderr",
     "output_type": "stream",
     "text": [
      "\r",
      "Step 3/3 :  37%|███▋      | 1861/5000 [00:25<00:31, 100.99it/s]"
     ]
    },
    {
     "name": "stderr",
     "output_type": "stream",
     "text": [
      "\r",
      "Step 3/3 :  37%|███▋      | 1861/5000 [00:25<00:31, 100.99it/s]"
     ]
    },
    {
     "name": "stderr",
     "output_type": "stream",
     "text": [
      "\r",
      "Step 3/3 :  37%|███▋      | 1861/5000 [00:25<00:31, 100.99it/s]"
     ]
    },
    {
     "name": "stderr",
     "output_type": "stream",
     "text": [
      "\r",
      "Step 3/3 :  37%|███▋      | 1861/5000 [00:25<00:31, 100.99it/s]"
     ]
    },
    {
     "name": "stderr",
     "output_type": "stream",
     "text": [
      "\r",
      "Step 3/3 :  37%|███▋      | 1861/5000 [00:25<00:31, 100.99it/s]"
     ]
    },
    {
     "name": "stderr",
     "output_type": "stream",
     "text": [
      "\r",
      "Step 3/3 :  37%|███▋      | 1873/5000 [00:26<00:29, 105.73it/s]"
     ]
    },
    {
     "name": "stderr",
     "output_type": "stream",
     "text": [
      "\r",
      "Step 3/3 :  37%|███▋      | 1873/5000 [00:26<00:29, 105.73it/s]"
     ]
    },
    {
     "name": "stderr",
     "output_type": "stream",
     "text": [
      "\r",
      "Step 3/3 :  37%|███▋      | 1873/5000 [00:26<00:29, 105.73it/s]"
     ]
    },
    {
     "name": "stderr",
     "output_type": "stream",
     "text": [
      "\r",
      "Step 3/3 :  37%|███▋      | 1873/5000 [00:26<00:29, 105.73it/s]"
     ]
    },
    {
     "name": "stderr",
     "output_type": "stream",
     "text": [
      "\r",
      "Step 3/3 :  37%|███▋      | 1873/5000 [00:26<00:29, 105.73it/s]"
     ]
    },
    {
     "name": "stderr",
     "output_type": "stream",
     "text": [
      "\r",
      "Step 3/3 :  37%|███▋      | 1873/5000 [00:26<00:29, 105.73it/s]"
     ]
    },
    {
     "name": "stderr",
     "output_type": "stream",
     "text": [
      "\r",
      "Step 3/3 :  37%|███▋      | 1873/5000 [00:26<00:29, 105.73it/s]"
     ]
    },
    {
     "name": "stderr",
     "output_type": "stream",
     "text": [
      "\r",
      "Step 3/3 :  37%|███▋      | 1873/5000 [00:26<00:29, 105.73it/s]"
     ]
    },
    {
     "name": "stderr",
     "output_type": "stream",
     "text": [
      "\r",
      "Step 3/3 :  37%|███▋      | 1873/5000 [00:26<00:29, 105.73it/s]"
     ]
    },
    {
     "name": "stderr",
     "output_type": "stream",
     "text": [
      "\r",
      "Step 3/3 :  37%|███▋      | 1873/5000 [00:26<00:29, 105.73it/s]"
     ]
    },
    {
     "name": "stderr",
     "output_type": "stream",
     "text": [
      "\r",
      "Step 3/3 :  37%|███▋      | 1873/5000 [00:26<00:29, 105.73it/s]"
     ]
    },
    {
     "name": "stderr",
     "output_type": "stream",
     "text": [
      "\r",
      "Step 3/3 :  37%|███▋      | 1873/5000 [00:26<00:29, 105.73it/s]"
     ]
    },
    {
     "name": "stderr",
     "output_type": "stream",
     "text": [
      "\r",
      "Step 3/3 :  37%|███▋      | 1873/5000 [00:26<00:29, 105.73it/s]"
     ]
    },
    {
     "name": "stderr",
     "output_type": "stream",
     "text": [
      "\r",
      "Step 3/3 :  38%|███▊      | 1885/5000 [00:26<00:29, 106.75it/s]"
     ]
    },
    {
     "name": "stderr",
     "output_type": "stream",
     "text": [
      "\r",
      "Step 3/3 :  38%|███▊      | 1885/5000 [00:26<00:29, 106.75it/s]"
     ]
    },
    {
     "name": "stderr",
     "output_type": "stream",
     "text": [
      "\r",
      "Step 3/3 :  38%|███▊      | 1885/5000 [00:26<00:29, 106.75it/s]"
     ]
    },
    {
     "name": "stderr",
     "output_type": "stream",
     "text": [
      "\r",
      "Step 3/3 :  38%|███▊      | 1885/5000 [00:26<00:29, 106.75it/s]"
     ]
    },
    {
     "name": "stderr",
     "output_type": "stream",
     "text": [
      "\r",
      "Step 3/3 :  38%|███▊      | 1885/5000 [00:26<00:29, 106.75it/s]"
     ]
    },
    {
     "name": "stderr",
     "output_type": "stream",
     "text": [
      "\r",
      "Step 3/3 :  38%|███▊      | 1885/5000 [00:26<00:29, 106.75it/s]"
     ]
    },
    {
     "name": "stderr",
     "output_type": "stream",
     "text": [
      "\r",
      "Step 3/3 :  38%|███▊      | 1885/5000 [00:26<00:29, 106.75it/s]"
     ]
    },
    {
     "name": "stderr",
     "output_type": "stream",
     "text": [
      "\r",
      "Step 3/3 :  38%|███▊      | 1885/5000 [00:26<00:29, 106.75it/s]"
     ]
    },
    {
     "name": "stderr",
     "output_type": "stream",
     "text": [
      "\r",
      "Step 3/3 :  38%|███▊      | 1885/5000 [00:26<00:29, 106.75it/s]"
     ]
    },
    {
     "name": "stderr",
     "output_type": "stream",
     "text": [
      "\r",
      "Step 3/3 :  38%|███▊      | 1885/5000 [00:26<00:29, 106.75it/s]"
     ]
    },
    {
     "name": "stderr",
     "output_type": "stream",
     "text": [
      "\r",
      "Step 3/3 :  38%|███▊      | 1885/5000 [00:26<00:29, 106.75it/s]"
     ]
    },
    {
     "name": "stderr",
     "output_type": "stream",
     "text": [
      "\r",
      "Step 3/3 :  38%|███▊      | 1885/5000 [00:26<00:29, 106.75it/s]"
     ]
    },
    {
     "name": "stderr",
     "output_type": "stream",
     "text": [
      "\r",
      "Step 3/3 :  38%|███▊      | 1896/5000 [00:26<00:30, 102.30it/s]"
     ]
    },
    {
     "name": "stderr",
     "output_type": "stream",
     "text": [
      "\r",
      "Step 3/3 :  38%|███▊      | 1896/5000 [00:26<00:30, 102.30it/s]"
     ]
    },
    {
     "name": "stderr",
     "output_type": "stream",
     "text": [
      "\r",
      "Step 3/3 :  38%|███▊      | 1896/5000 [00:26<00:30, 102.30it/s]"
     ]
    },
    {
     "name": "stderr",
     "output_type": "stream",
     "text": [
      "\r",
      "Step 3/3 :  38%|███▊      | 1896/5000 [00:26<00:30, 102.30it/s]"
     ]
    },
    {
     "name": "stderr",
     "output_type": "stream",
     "text": [
      "\r",
      "Step 3/3 :  38%|███▊      | 1896/5000 [00:26<00:30, 102.30it/s]"
     ]
    },
    {
     "name": "stderr",
     "output_type": "stream",
     "text": [
      "\r",
      "Step 3/3 :  38%|███▊      | 1896/5000 [00:26<00:30, 102.30it/s]"
     ]
    },
    {
     "name": "stderr",
     "output_type": "stream",
     "text": [
      "\r",
      "Step 3/3 :  38%|███▊      | 1896/5000 [00:26<00:30, 102.30it/s]"
     ]
    },
    {
     "name": "stderr",
     "output_type": "stream",
     "text": [
      "\r",
      "Step 3/3 :  38%|███▊      | 1896/5000 [00:26<00:30, 102.30it/s]"
     ]
    },
    {
     "name": "stderr",
     "output_type": "stream",
     "text": [
      "\r",
      "Step 3/3 :  38%|███▊      | 1896/5000 [00:26<00:30, 102.30it/s]"
     ]
    },
    {
     "name": "stderr",
     "output_type": "stream",
     "text": [
      "\r",
      "Step 3/3 :  38%|███▊      | 1896/5000 [00:26<00:30, 102.30it/s]"
     ]
    },
    {
     "name": "stderr",
     "output_type": "stream",
     "text": [
      "\r",
      "Step 3/3 :  38%|███▊      | 1896/5000 [00:26<00:30, 102.30it/s]"
     ]
    },
    {
     "name": "stderr",
     "output_type": "stream",
     "text": [
      "\r",
      "Step 3/3 :  38%|███▊      | 1896/5000 [00:26<00:30, 102.30it/s]"
     ]
    },
    {
     "name": "stderr",
     "output_type": "stream",
     "text": [
      "\r",
      "Step 3/3 :  38%|███▊      | 1896/5000 [00:26<00:30, 102.30it/s]"
     ]
    },
    {
     "name": "stderr",
     "output_type": "stream",
     "text": [
      "\r",
      "Step 3/3 :  38%|███▊      | 1908/5000 [00:26<00:28, 106.63it/s]"
     ]
    },
    {
     "name": "stderr",
     "output_type": "stream",
     "text": [
      "\r",
      "Step 3/3 :  38%|███▊      | 1908/5000 [00:26<00:28, 106.63it/s]"
     ]
    },
    {
     "name": "stderr",
     "output_type": "stream",
     "text": [
      "\r",
      "Step 3/3 :  38%|███▊      | 1908/5000 [00:26<00:28, 106.63it/s]"
     ]
    },
    {
     "name": "stderr",
     "output_type": "stream",
     "text": [
      "\r",
      "Step 3/3 :  38%|███▊      | 1908/5000 [00:26<00:28, 106.63it/s]"
     ]
    },
    {
     "name": "stderr",
     "output_type": "stream",
     "text": [
      "\r",
      "Step 3/3 :  38%|███▊      | 1908/5000 [00:26<00:28, 106.63it/s]"
     ]
    },
    {
     "name": "stderr",
     "output_type": "stream",
     "text": [
      "\r",
      "Step 3/3 :  38%|███▊      | 1908/5000 [00:26<00:28, 106.63it/s]"
     ]
    },
    {
     "name": "stderr",
     "output_type": "stream",
     "text": [
      "\r",
      "Step 3/3 :  38%|███▊      | 1908/5000 [00:26<00:28, 106.63it/s]"
     ]
    },
    {
     "name": "stderr",
     "output_type": "stream",
     "text": [
      "\r",
      "Step 3/3 :  38%|███▊      | 1908/5000 [00:26<00:28, 106.63it/s]"
     ]
    },
    {
     "name": "stderr",
     "output_type": "stream",
     "text": [
      "\r",
      "Step 3/3 :  38%|███▊      | 1908/5000 [00:26<00:28, 106.63it/s]"
     ]
    },
    {
     "name": "stderr",
     "output_type": "stream",
     "text": [
      "\r",
      "Step 3/3 :  38%|███▊      | 1908/5000 [00:26<00:28, 106.63it/s]"
     ]
    },
    {
     "name": "stderr",
     "output_type": "stream",
     "text": [
      "\r",
      "Step 3/3 :  38%|███▊      | 1908/5000 [00:26<00:28, 106.63it/s]"
     ]
    },
    {
     "name": "stderr",
     "output_type": "stream",
     "text": [
      "\r",
      "Step 3/3 :  38%|███▊      | 1908/5000 [00:26<00:28, 106.63it/s]"
     ]
    },
    {
     "name": "stderr",
     "output_type": "stream",
     "text": [
      "\r",
      "Step 3/3 :  38%|███▊      | 1919/5000 [00:26<00:29, 102.92it/s]"
     ]
    },
    {
     "name": "stderr",
     "output_type": "stream",
     "text": [
      "\r",
      "Step 3/3 :  38%|███▊      | 1919/5000 [00:26<00:29, 102.92it/s]"
     ]
    },
    {
     "name": "stderr",
     "output_type": "stream",
     "text": [
      "\r",
      "Step 3/3 :  38%|███▊      | 1919/5000 [00:26<00:29, 102.92it/s]"
     ]
    },
    {
     "name": "stderr",
     "output_type": "stream",
     "text": [
      "\r",
      "Step 3/3 :  38%|███▊      | 1919/5000 [00:26<00:29, 102.92it/s]"
     ]
    },
    {
     "name": "stderr",
     "output_type": "stream",
     "text": [
      "\r",
      "Step 3/3 :  38%|███▊      | 1919/5000 [00:26<00:29, 102.92it/s]"
     ]
    },
    {
     "name": "stderr",
     "output_type": "stream",
     "text": [
      "\r",
      "Step 3/3 :  38%|███▊      | 1919/5000 [00:26<00:29, 102.92it/s]"
     ]
    },
    {
     "name": "stderr",
     "output_type": "stream",
     "text": [
      "\r",
      "Step 3/3 :  38%|███▊      | 1919/5000 [00:26<00:29, 102.92it/s]"
     ]
    },
    {
     "name": "stderr",
     "output_type": "stream",
     "text": [
      "\r",
      "Step 3/3 :  38%|███▊      | 1919/5000 [00:26<00:29, 102.92it/s]"
     ]
    },
    {
     "name": "stderr",
     "output_type": "stream",
     "text": [
      "\r",
      "Step 3/3 :  38%|███▊      | 1919/5000 [00:26<00:29, 102.92it/s]"
     ]
    },
    {
     "name": "stderr",
     "output_type": "stream",
     "text": [
      "\r",
      "Step 3/3 :  38%|███▊      | 1919/5000 [00:26<00:29, 102.92it/s]"
     ]
    },
    {
     "name": "stderr",
     "output_type": "stream",
     "text": [
      "\r",
      "Step 3/3 :  38%|███▊      | 1919/5000 [00:26<00:29, 102.92it/s]"
     ]
    },
    {
     "name": "stderr",
     "output_type": "stream",
     "text": [
      "\r",
      "Step 3/3 :  38%|███▊      | 1919/5000 [00:26<00:29, 102.92it/s]"
     ]
    },
    {
     "name": "stderr",
     "output_type": "stream",
     "text": [
      "\r",
      "Step 3/3 :  39%|███▊      | 1930/5000 [00:26<00:30, 102.33it/s]"
     ]
    },
    {
     "name": "stderr",
     "output_type": "stream",
     "text": [
      "\r",
      "Step 3/3 :  39%|███▊      | 1930/5000 [00:26<00:30, 102.33it/s]"
     ]
    },
    {
     "name": "stderr",
     "output_type": "stream",
     "text": [
      "\r",
      "Step 3/3 :  39%|███▊      | 1930/5000 [00:26<00:30, 102.33it/s]"
     ]
    },
    {
     "name": "stderr",
     "output_type": "stream",
     "text": [
      "\r",
      "Step 3/3 :  39%|███▊      | 1930/5000 [00:26<00:30, 102.33it/s]"
     ]
    },
    {
     "name": "stderr",
     "output_type": "stream",
     "text": [
      "\r",
      "Step 3/3 :  39%|███▊      | 1930/5000 [00:26<00:30, 102.33it/s]"
     ]
    },
    {
     "name": "stderr",
     "output_type": "stream",
     "text": [
      "\r",
      "Step 3/3 :  39%|███▊      | 1930/5000 [00:26<00:30, 102.33it/s]"
     ]
    },
    {
     "name": "stderr",
     "output_type": "stream",
     "text": [
      "\r",
      "Step 3/3 :  39%|███▊      | 1930/5000 [00:26<00:30, 102.33it/s]"
     ]
    },
    {
     "name": "stderr",
     "output_type": "stream",
     "text": [
      "\r",
      "Step 3/3 :  39%|███▊      | 1930/5000 [00:26<00:30, 102.33it/s]"
     ]
    },
    {
     "name": "stderr",
     "output_type": "stream",
     "text": [
      "\r",
      "Step 3/3 :  39%|███▊      | 1930/5000 [00:26<00:30, 102.33it/s]"
     ]
    },
    {
     "name": "stderr",
     "output_type": "stream",
     "text": [
      "\r",
      "Step 3/3 :  39%|███▊      | 1930/5000 [00:26<00:30, 102.33it/s]"
     ]
    },
    {
     "name": "stderr",
     "output_type": "stream",
     "text": [
      "\r",
      "Step 3/3 :  39%|███▊      | 1930/5000 [00:26<00:30, 102.33it/s]"
     ]
    },
    {
     "name": "stderr",
     "output_type": "stream",
     "text": [
      "\r",
      "Step 3/3 :  39%|███▊      | 1930/5000 [00:26<00:30, 102.33it/s]"
     ]
    },
    {
     "name": "stderr",
     "output_type": "stream",
     "text": [
      "\r",
      "Step 3/3 :  39%|███▉      | 1941/5000 [00:26<00:30, 100.27it/s]"
     ]
    },
    {
     "name": "stderr",
     "output_type": "stream",
     "text": [
      "\r",
      "Step 3/3 :  39%|███▉      | 1941/5000 [00:26<00:30, 100.27it/s]"
     ]
    },
    {
     "name": "stderr",
     "output_type": "stream",
     "text": [
      "\r",
      "Step 3/3 :  39%|███▉      | 1941/5000 [00:26<00:30, 100.27it/s]"
     ]
    },
    {
     "name": "stderr",
     "output_type": "stream",
     "text": [
      "\r",
      "Step 3/3 :  39%|███▉      | 1941/5000 [00:26<00:30, 100.27it/s]"
     ]
    },
    {
     "name": "stderr",
     "output_type": "stream",
     "text": [
      "\r",
      "Step 3/3 :  39%|███▉      | 1941/5000 [00:26<00:30, 100.27it/s]"
     ]
    },
    {
     "name": "stderr",
     "output_type": "stream",
     "text": [
      "\r",
      "Step 3/3 :  39%|███▉      | 1941/5000 [00:26<00:30, 100.27it/s]"
     ]
    },
    {
     "name": "stderr",
     "output_type": "stream",
     "text": [
      "\r",
      "Step 3/3 :  39%|███▉      | 1941/5000 [00:26<00:30, 100.27it/s]"
     ]
    },
    {
     "name": "stderr",
     "output_type": "stream",
     "text": [
      "\r",
      "Step 3/3 :  39%|███▉      | 1941/5000 [00:26<00:30, 100.27it/s]"
     ]
    },
    {
     "name": "stderr",
     "output_type": "stream",
     "text": [
      "\r",
      "Step 3/3 :  39%|███▉      | 1941/5000 [00:26<00:30, 100.27it/s]"
     ]
    },
    {
     "name": "stderr",
     "output_type": "stream",
     "text": [
      "\r",
      "Step 3/3 :  39%|███▉      | 1941/5000 [00:26<00:30, 100.27it/s]"
     ]
    },
    {
     "name": "stderr",
     "output_type": "stream",
     "text": [
      "\r",
      "Step 3/3 :  39%|███▉      | 1941/5000 [00:26<00:30, 100.27it/s]"
     ]
    },
    {
     "name": "stderr",
     "output_type": "stream",
     "text": [
      "\r",
      "Step 3/3 :  39%|███▉      | 1941/5000 [00:26<00:30, 100.27it/s]"
     ]
    },
    {
     "name": "stderr",
     "output_type": "stream",
     "text": [
      "\r",
      "Step 3/3 :  39%|███▉      | 1952/5000 [00:26<00:30, 101.01it/s]"
     ]
    },
    {
     "name": "stderr",
     "output_type": "stream",
     "text": [
      "\r",
      "Step 3/3 :  39%|███▉      | 1952/5000 [00:26<00:30, 101.01it/s]"
     ]
    },
    {
     "name": "stderr",
     "output_type": "stream",
     "text": [
      "\r",
      "Step 3/3 :  39%|███▉      | 1952/5000 [00:26<00:30, 101.01it/s]"
     ]
    },
    {
     "name": "stderr",
     "output_type": "stream",
     "text": [
      "\r",
      "Step 3/3 :  39%|███▉      | 1952/5000 [00:26<00:30, 101.01it/s]"
     ]
    },
    {
     "name": "stderr",
     "output_type": "stream",
     "text": [
      "\r",
      "Step 3/3 :  39%|███▉      | 1952/5000 [00:26<00:30, 101.01it/s]"
     ]
    },
    {
     "name": "stderr",
     "output_type": "stream",
     "text": [
      "\r",
      "Step 3/3 :  39%|███▉      | 1952/5000 [00:26<00:30, 101.01it/s]"
     ]
    },
    {
     "name": "stderr",
     "output_type": "stream",
     "text": [
      "\r",
      "Step 3/3 :  39%|███▉      | 1952/5000 [00:26<00:30, 101.01it/s]"
     ]
    },
    {
     "name": "stderr",
     "output_type": "stream",
     "text": [
      "\r",
      "Step 3/3 :  39%|███▉      | 1952/5000 [00:26<00:30, 101.01it/s]"
     ]
    },
    {
     "name": "stderr",
     "output_type": "stream",
     "text": [
      "\r",
      "Step 3/3 :  39%|███▉      | 1952/5000 [00:26<00:30, 101.01it/s]"
     ]
    },
    {
     "name": "stderr",
     "output_type": "stream",
     "text": [
      "\r",
      "Step 3/3 :  39%|███▉      | 1952/5000 [00:26<00:30, 101.01it/s]"
     ]
    },
    {
     "name": "stderr",
     "output_type": "stream",
     "text": [
      "\r",
      "Step 3/3 :  39%|███▉      | 1952/5000 [00:26<00:30, 101.01it/s]"
     ]
    },
    {
     "name": "stderr",
     "output_type": "stream",
     "text": [
      "\r",
      "Step 3/3 :  39%|███▉      | 1952/5000 [00:26<00:30, 101.01it/s]"
     ]
    },
    {
     "name": "stderr",
     "output_type": "stream",
     "text": [
      "\r",
      "Step 3/3 :  39%|███▉      | 1963/5000 [00:26<00:30, 99.08it/s] "
     ]
    },
    {
     "name": "stderr",
     "output_type": "stream",
     "text": [
      "\r",
      "Step 3/3 :  39%|███▉      | 1963/5000 [00:26<00:30, 99.08it/s]"
     ]
    },
    {
     "name": "stderr",
     "output_type": "stream",
     "text": [
      "\r",
      "Step 3/3 :  39%|███▉      | 1963/5000 [00:26<00:30, 99.08it/s]"
     ]
    },
    {
     "name": "stderr",
     "output_type": "stream",
     "text": [
      "\r",
      "Step 3/3 :  39%|███▉      | 1963/5000 [00:26<00:30, 99.08it/s]"
     ]
    },
    {
     "name": "stderr",
     "output_type": "stream",
     "text": [
      "\r",
      "Step 3/3 :  39%|███▉      | 1963/5000 [00:26<00:30, 99.08it/s]"
     ]
    },
    {
     "name": "stderr",
     "output_type": "stream",
     "text": [
      "\r",
      "Step 3/3 :  39%|███▉      | 1963/5000 [00:26<00:30, 99.08it/s]"
     ]
    },
    {
     "name": "stderr",
     "output_type": "stream",
     "text": [
      "\r",
      "Step 3/3 :  39%|███▉      | 1963/5000 [00:26<00:30, 99.08it/s]"
     ]
    },
    {
     "name": "stderr",
     "output_type": "stream",
     "text": [
      "\r",
      "Step 3/3 :  39%|███▉      | 1963/5000 [00:26<00:30, 99.08it/s]"
     ]
    },
    {
     "name": "stderr",
     "output_type": "stream",
     "text": [
      "\r",
      "Step 3/3 :  39%|███▉      | 1963/5000 [00:26<00:30, 99.08it/s]"
     ]
    },
    {
     "name": "stderr",
     "output_type": "stream",
     "text": [
      "\r",
      "Step 3/3 :  39%|███▉      | 1963/5000 [00:26<00:30, 99.08it/s]"
     ]
    },
    {
     "name": "stderr",
     "output_type": "stream",
     "text": [
      "\r",
      "Step 3/3 :  39%|███▉      | 1963/5000 [00:26<00:30, 99.08it/s]"
     ]
    },
    {
     "name": "stderr",
     "output_type": "stream",
     "text": [
      "\r",
      "Step 3/3 :  39%|███▉      | 1963/5000 [00:26<00:30, 99.08it/s]"
     ]
    },
    {
     "name": "stderr",
     "output_type": "stream",
     "text": [
      "\r",
      "Step 3/3 :  39%|███▉      | 1963/5000 [00:26<00:30, 99.08it/s]"
     ]
    },
    {
     "name": "stderr",
     "output_type": "stream",
     "text": [
      "\r",
      "Step 3/3 :  40%|███▉      | 1975/5000 [00:26<00:29, 103.72it/s]"
     ]
    },
    {
     "name": "stderr",
     "output_type": "stream",
     "text": [
      "\r",
      "Step 3/3 :  40%|███▉      | 1975/5000 [00:26<00:29, 103.72it/s]"
     ]
    },
    {
     "name": "stderr",
     "output_type": "stream",
     "text": [
      "\r",
      "Step 3/3 :  40%|███▉      | 1975/5000 [00:27<00:29, 103.72it/s]"
     ]
    },
    {
     "name": "stderr",
     "output_type": "stream",
     "text": [
      "\r",
      "Step 3/3 :  40%|███▉      | 1975/5000 [00:27<00:29, 103.72it/s]"
     ]
    },
    {
     "name": "stderr",
     "output_type": "stream",
     "text": [
      "\r",
      "Step 3/3 :  40%|███▉      | 1975/5000 [00:27<00:29, 103.72it/s]"
     ]
    },
    {
     "name": "stderr",
     "output_type": "stream",
     "text": [
      "\r",
      "Step 3/3 :  40%|███▉      | 1975/5000 [00:27<00:29, 103.72it/s]"
     ]
    },
    {
     "name": "stderr",
     "output_type": "stream",
     "text": [
      "\r",
      "Step 3/3 :  40%|███▉      | 1975/5000 [00:27<00:29, 103.72it/s]"
     ]
    },
    {
     "name": "stderr",
     "output_type": "stream",
     "text": [
      "\r",
      "Step 3/3 :  40%|███▉      | 1975/5000 [00:27<00:29, 103.72it/s]"
     ]
    },
    {
     "name": "stderr",
     "output_type": "stream",
     "text": [
      "\r",
      "Step 3/3 :  40%|███▉      | 1975/5000 [00:27<00:29, 103.72it/s]"
     ]
    },
    {
     "name": "stderr",
     "output_type": "stream",
     "text": [
      "\r",
      "Step 3/3 :  40%|███▉      | 1975/5000 [00:27<00:29, 103.72it/s]"
     ]
    },
    {
     "name": "stderr",
     "output_type": "stream",
     "text": [
      "\r",
      "Step 3/3 :  40%|███▉      | 1975/5000 [00:27<00:29, 103.72it/s]"
     ]
    },
    {
     "name": "stderr",
     "output_type": "stream",
     "text": [
      "\r",
      "Step 3/3 :  40%|███▉      | 1975/5000 [00:27<00:29, 103.72it/s]"
     ]
    },
    {
     "name": "stderr",
     "output_type": "stream",
     "text": [
      "\r",
      "Step 3/3 :  40%|███▉      | 1986/5000 [00:27<00:28, 104.90it/s]"
     ]
    },
    {
     "name": "stderr",
     "output_type": "stream",
     "text": [
      "\r",
      "Step 3/3 :  40%|███▉      | 1986/5000 [00:27<00:28, 104.90it/s]"
     ]
    },
    {
     "name": "stderr",
     "output_type": "stream",
     "text": [
      "\r",
      "Step 3/3 :  40%|███▉      | 1986/5000 [00:27<00:28, 104.90it/s]"
     ]
    },
    {
     "name": "stderr",
     "output_type": "stream",
     "text": [
      "\r",
      "Step 3/3 :  40%|███▉      | 1986/5000 [00:27<00:28, 104.90it/s]"
     ]
    },
    {
     "name": "stderr",
     "output_type": "stream",
     "text": [
      "\r",
      "Step 3/3 :  40%|███▉      | 1986/5000 [00:27<00:28, 104.90it/s]"
     ]
    },
    {
     "name": "stderr",
     "output_type": "stream",
     "text": [
      "\r",
      "Step 3/3 :  40%|███▉      | 1986/5000 [00:27<00:28, 104.90it/s]"
     ]
    },
    {
     "name": "stderr",
     "output_type": "stream",
     "text": [
      "\r",
      "Step 3/3 :  40%|███▉      | 1986/5000 [00:27<00:28, 104.90it/s]"
     ]
    },
    {
     "name": "stderr",
     "output_type": "stream",
     "text": [
      "\r",
      "Step 3/3 :  40%|███▉      | 1986/5000 [00:27<00:28, 104.90it/s]"
     ]
    },
    {
     "name": "stderr",
     "output_type": "stream",
     "text": [
      "\r",
      "Step 3/3 :  40%|███▉      | 1986/5000 [00:27<00:28, 104.90it/s]"
     ]
    },
    {
     "name": "stderr",
     "output_type": "stream",
     "text": [
      "\r",
      "Step 3/3 :  40%|███▉      | 1986/5000 [00:27<00:28, 104.90it/s]"
     ]
    },
    {
     "name": "stderr",
     "output_type": "stream",
     "text": [
      "\r",
      "Step 3/3 :  40%|███▉      | 1986/5000 [00:27<00:28, 104.90it/s]"
     ]
    },
    {
     "name": "stderr",
     "output_type": "stream",
     "text": [
      "\r",
      "Step 3/3 :  40%|███▉      | 1986/5000 [00:27<00:28, 104.90it/s]"
     ]
    },
    {
     "name": "stderr",
     "output_type": "stream",
     "text": [
      "\r",
      "Step 3/3 :  40%|███▉      | 1997/5000 [00:27<00:28, 105.45it/s]"
     ]
    },
    {
     "name": "stderr",
     "output_type": "stream",
     "text": [
      "\r",
      "Step 3/3 :  40%|███▉      | 1997/5000 [00:27<00:28, 105.45it/s]"
     ]
    },
    {
     "name": "stderr",
     "output_type": "stream",
     "text": [
      "\r",
      "Step 3/3 :  40%|███▉      | 1997/5000 [00:27<00:28, 105.45it/s]"
     ]
    },
    {
     "name": "stderr",
     "output_type": "stream",
     "text": [
      "\r",
      "Step 3/3 :  40%|███▉      | 1997/5000 [00:27<00:28, 105.45it/s]"
     ]
    },
    {
     "name": "stderr",
     "output_type": "stream",
     "text": [
      "\r",
      "Step 3/3 :  40%|███▉      | 1997/5000 [00:27<00:28, 105.45it/s]"
     ]
    },
    {
     "name": "stderr",
     "output_type": "stream",
     "text": [
      "\r",
      "Step 3/3 :  40%|███▉      | 1997/5000 [00:27<00:28, 105.45it/s]"
     ]
    },
    {
     "name": "stderr",
     "output_type": "stream",
     "text": [
      "\r",
      "Step 3/3 :  40%|███▉      | 1997/5000 [00:27<00:28, 105.45it/s]"
     ]
    },
    {
     "name": "stderr",
     "output_type": "stream",
     "text": [
      "\r",
      "Step 3/3 :  40%|███▉      | 1997/5000 [00:27<00:28, 105.45it/s]"
     ]
    },
    {
     "name": "stderr",
     "output_type": "stream",
     "text": [
      "\r",
      "Step 3/3 :  40%|███▉      | 1997/5000 [00:27<00:28, 105.45it/s]"
     ]
    },
    {
     "name": "stderr",
     "output_type": "stream",
     "text": [
      "\r",
      "Step 3/3 :  40%|███▉      | 1997/5000 [00:27<00:28, 105.45it/s]"
     ]
    },
    {
     "name": "stderr",
     "output_type": "stream",
     "text": [
      "\r",
      "Step 3/3 :  40%|███▉      | 1997/5000 [00:27<00:28, 105.45it/s]"
     ]
    },
    {
     "name": "stderr",
     "output_type": "stream",
     "text": [
      "\r",
      "Step 3/3 :  40%|███▉      | 1997/5000 [00:27<00:28, 105.45it/s]"
     ]
    },
    {
     "name": "stderr",
     "output_type": "stream",
     "text": [
      "\r",
      "Step 3/3 :  40%|████      | 2008/5000 [00:27<00:28, 103.20it/s]"
     ]
    },
    {
     "name": "stderr",
     "output_type": "stream",
     "text": [
      "\r",
      "Step 3/3 :  40%|████      | 2008/5000 [00:27<00:28, 103.20it/s]"
     ]
    },
    {
     "name": "stderr",
     "output_type": "stream",
     "text": [
      "\r",
      "Step 3/3 :  40%|████      | 2008/5000 [00:27<00:28, 103.20it/s]"
     ]
    },
    {
     "name": "stderr",
     "output_type": "stream",
     "text": [
      "\r",
      "Step 3/3 :  40%|████      | 2008/5000 [00:27<00:28, 103.20it/s]"
     ]
    },
    {
     "name": "stderr",
     "output_type": "stream",
     "text": [
      "\r",
      "Step 3/3 :  40%|████      | 2008/5000 [00:27<00:28, 103.20it/s]"
     ]
    },
    {
     "name": "stderr",
     "output_type": "stream",
     "text": [
      "\r",
      "Step 3/3 :  40%|████      | 2008/5000 [00:27<00:28, 103.20it/s]"
     ]
    },
    {
     "name": "stderr",
     "output_type": "stream",
     "text": [
      "\r",
      "Step 3/3 :  40%|████      | 2008/5000 [00:27<00:28, 103.20it/s]"
     ]
    },
    {
     "name": "stderr",
     "output_type": "stream",
     "text": [
      "\r",
      "Step 3/3 :  40%|████      | 2008/5000 [00:27<00:28, 103.20it/s]"
     ]
    },
    {
     "name": "stderr",
     "output_type": "stream",
     "text": [
      "\r",
      "Step 3/3 :  40%|████      | 2008/5000 [00:27<00:28, 103.20it/s]"
     ]
    },
    {
     "name": "stderr",
     "output_type": "stream",
     "text": [
      "\r",
      "Step 3/3 :  40%|████      | 2008/5000 [00:27<00:28, 103.20it/s]"
     ]
    },
    {
     "name": "stderr",
     "output_type": "stream",
     "text": [
      "\r",
      "Step 3/3 :  40%|████      | 2008/5000 [00:27<00:28, 103.20it/s]"
     ]
    },
    {
     "name": "stderr",
     "output_type": "stream",
     "text": [
      "\r",
      "Step 3/3 :  40%|████      | 2008/5000 [00:27<00:28, 103.20it/s]"
     ]
    },
    {
     "name": "stderr",
     "output_type": "stream",
     "text": [
      "\r",
      "Step 3/3 :  40%|████      | 2019/5000 [00:27<00:30, 98.94it/s] "
     ]
    },
    {
     "name": "stderr",
     "output_type": "stream",
     "text": [
      "\r",
      "Step 3/3 :  40%|████      | 2019/5000 [00:27<00:30, 98.94it/s]"
     ]
    },
    {
     "name": "stderr",
     "output_type": "stream",
     "text": [
      "\r",
      "Step 3/3 :  40%|████      | 2019/5000 [00:27<00:30, 98.94it/s]"
     ]
    },
    {
     "name": "stderr",
     "output_type": "stream",
     "text": [
      "\r",
      "Step 3/3 :  40%|████      | 2019/5000 [00:27<00:30, 98.94it/s]"
     ]
    },
    {
     "name": "stderr",
     "output_type": "stream",
     "text": [
      "\r",
      "Step 3/3 :  40%|████      | 2019/5000 [00:27<00:30, 98.94it/s]"
     ]
    },
    {
     "name": "stderr",
     "output_type": "stream",
     "text": [
      "\r",
      "Step 3/3 :  40%|████      | 2019/5000 [00:27<00:30, 98.94it/s]"
     ]
    },
    {
     "name": "stderr",
     "output_type": "stream",
     "text": [
      "\r",
      "Step 3/3 :  40%|████      | 2019/5000 [00:27<00:30, 98.94it/s]"
     ]
    },
    {
     "name": "stderr",
     "output_type": "stream",
     "text": [
      "\r",
      "Step 3/3 :  40%|████      | 2019/5000 [00:27<00:30, 98.94it/s]"
     ]
    },
    {
     "name": "stderr",
     "output_type": "stream",
     "text": [
      "\r",
      "Step 3/3 :  40%|████      | 2019/5000 [00:27<00:30, 98.94it/s]"
     ]
    },
    {
     "name": "stderr",
     "output_type": "stream",
     "text": [
      "\r",
      "Step 3/3 :  40%|████      | 2019/5000 [00:27<00:30, 98.94it/s]"
     ]
    },
    {
     "name": "stderr",
     "output_type": "stream",
     "text": [
      "\r",
      "Step 3/3 :  40%|████      | 2019/5000 [00:27<00:30, 98.94it/s]"
     ]
    },
    {
     "name": "stderr",
     "output_type": "stream",
     "text": [
      "\r",
      "Step 3/3 :  40%|████      | 2019/5000 [00:27<00:30, 98.94it/s]"
     ]
    },
    {
     "name": "stderr",
     "output_type": "stream",
     "text": [
      "\r",
      "Step 3/3 :  41%|████      | 2030/5000 [00:27<00:29, 99.60it/s]"
     ]
    },
    {
     "name": "stderr",
     "output_type": "stream",
     "text": [
      "\r",
      "Step 3/3 :  41%|████      | 2030/5000 [00:27<00:29, 99.60it/s]"
     ]
    },
    {
     "name": "stderr",
     "output_type": "stream",
     "text": [
      "\r",
      "Step 3/3 :  41%|████      | 2030/5000 [00:27<00:29, 99.60it/s]"
     ]
    },
    {
     "name": "stderr",
     "output_type": "stream",
     "text": [
      "\r",
      "Step 3/3 :  41%|████      | 2030/5000 [00:27<00:29, 99.60it/s]"
     ]
    },
    {
     "name": "stderr",
     "output_type": "stream",
     "text": [
      "\r",
      "Step 3/3 :  41%|████      | 2030/5000 [00:27<00:29, 99.60it/s]"
     ]
    },
    {
     "name": "stderr",
     "output_type": "stream",
     "text": [
      "\r",
      "Step 3/3 :  41%|████      | 2030/5000 [00:27<00:29, 99.60it/s]"
     ]
    },
    {
     "name": "stderr",
     "output_type": "stream",
     "text": [
      "\r",
      "Step 3/3 :  41%|████      | 2030/5000 [00:27<00:29, 99.60it/s]"
     ]
    },
    {
     "name": "stderr",
     "output_type": "stream",
     "text": [
      "\r",
      "Step 3/3 :  41%|████      | 2030/5000 [00:27<00:29, 99.60it/s]"
     ]
    },
    {
     "name": "stderr",
     "output_type": "stream",
     "text": [
      "\r",
      "Step 3/3 :  41%|████      | 2030/5000 [00:27<00:29, 99.60it/s]"
     ]
    },
    {
     "name": "stderr",
     "output_type": "stream",
     "text": [
      "\r",
      "Step 3/3 :  41%|████      | 2030/5000 [00:27<00:29, 99.60it/s]"
     ]
    },
    {
     "name": "stderr",
     "output_type": "stream",
     "text": [
      "\r",
      "Step 3/3 :  41%|████      | 2030/5000 [00:27<00:29, 99.60it/s]"
     ]
    },
    {
     "name": "stderr",
     "output_type": "stream",
     "text": [
      "\r",
      "Step 3/3 :  41%|████      | 2030/5000 [00:27<00:29, 99.60it/s]"
     ]
    },
    {
     "name": "stderr",
     "output_type": "stream",
     "text": [
      "\r",
      "Step 3/3 :  41%|████      | 2030/5000 [00:27<00:29, 99.60it/s]"
     ]
    },
    {
     "name": "stderr",
     "output_type": "stream",
     "text": [
      "\r",
      "Step 3/3 :  41%|████      | 2042/5000 [00:27<00:28, 102.99it/s]"
     ]
    },
    {
     "name": "stderr",
     "output_type": "stream",
     "text": [
      "\r",
      "Step 3/3 :  41%|████      | 2042/5000 [00:27<00:28, 102.99it/s]"
     ]
    },
    {
     "name": "stderr",
     "output_type": "stream",
     "text": [
      "\r",
      "Step 3/3 :  41%|████      | 2042/5000 [00:27<00:28, 102.99it/s]"
     ]
    },
    {
     "name": "stderr",
     "output_type": "stream",
     "text": [
      "\r",
      "Step 3/3 :  41%|████      | 2042/5000 [00:27<00:28, 102.99it/s]"
     ]
    },
    {
     "name": "stderr",
     "output_type": "stream",
     "text": [
      "\r",
      "Step 3/3 :  41%|████      | 2042/5000 [00:27<00:28, 102.99it/s]"
     ]
    },
    {
     "name": "stderr",
     "output_type": "stream",
     "text": [
      "\r",
      "Step 3/3 :  41%|████      | 2042/5000 [00:27<00:28, 102.99it/s]"
     ]
    },
    {
     "name": "stderr",
     "output_type": "stream",
     "text": [
      "\r",
      "Step 3/3 :  41%|████      | 2042/5000 [00:27<00:28, 102.99it/s]"
     ]
    },
    {
     "name": "stderr",
     "output_type": "stream",
     "text": [
      "\r",
      "Step 3/3 :  41%|████      | 2042/5000 [00:27<00:28, 102.99it/s]"
     ]
    },
    {
     "name": "stderr",
     "output_type": "stream",
     "text": [
      "\r",
      "Step 3/3 :  41%|████      | 2042/5000 [00:27<00:28, 102.99it/s]"
     ]
    },
    {
     "name": "stderr",
     "output_type": "stream",
     "text": [
      "\r",
      "Step 3/3 :  41%|████      | 2042/5000 [00:27<00:28, 102.99it/s]"
     ]
    },
    {
     "name": "stderr",
     "output_type": "stream",
     "text": [
      "\r",
      "Step 3/3 :  41%|████      | 2042/5000 [00:27<00:28, 102.99it/s]"
     ]
    },
    {
     "name": "stderr",
     "output_type": "stream",
     "text": [
      "\r",
      "Step 3/3 :  41%|████      | 2042/5000 [00:27<00:28, 102.99it/s]"
     ]
    },
    {
     "name": "stderr",
     "output_type": "stream",
     "text": [
      "\r",
      "Step 3/3 :  41%|████      | 2053/5000 [00:27<00:28, 101.82it/s]"
     ]
    },
    {
     "name": "stderr",
     "output_type": "stream",
     "text": [
      "\r",
      "Step 3/3 :  41%|████      | 2053/5000 [00:27<00:28, 101.82it/s]"
     ]
    },
    {
     "name": "stderr",
     "output_type": "stream",
     "text": [
      "\r",
      "Step 3/3 :  41%|████      | 2053/5000 [00:27<00:28, 101.82it/s]"
     ]
    },
    {
     "name": "stderr",
     "output_type": "stream",
     "text": [
      "\r",
      "Step 3/3 :  41%|████      | 2053/5000 [00:27<00:28, 101.82it/s]"
     ]
    },
    {
     "name": "stderr",
     "output_type": "stream",
     "text": [
      "\r",
      "Step 3/3 :  41%|████      | 2053/5000 [00:27<00:28, 101.82it/s]"
     ]
    },
    {
     "name": "stderr",
     "output_type": "stream",
     "text": [
      "\r",
      "Step 3/3 :  41%|████      | 2053/5000 [00:27<00:28, 101.82it/s]"
     ]
    },
    {
     "name": "stderr",
     "output_type": "stream",
     "text": [
      "\r",
      "Step 3/3 :  41%|████      | 2053/5000 [00:27<00:28, 101.82it/s]"
     ]
    },
    {
     "name": "stderr",
     "output_type": "stream",
     "text": [
      "\r",
      "Step 3/3 :  41%|████      | 2053/5000 [00:27<00:28, 101.82it/s]"
     ]
    },
    {
     "name": "stderr",
     "output_type": "stream",
     "text": [
      "\r",
      "Step 3/3 :  41%|████      | 2053/5000 [00:27<00:28, 101.82it/s]"
     ]
    },
    {
     "name": "stderr",
     "output_type": "stream",
     "text": [
      "\r",
      "Step 3/3 :  41%|████      | 2053/5000 [00:27<00:28, 101.82it/s]"
     ]
    },
    {
     "name": "stderr",
     "output_type": "stream",
     "text": [
      "\r",
      "Step 3/3 :  41%|████      | 2053/5000 [00:27<00:28, 101.82it/s]"
     ]
    },
    {
     "name": "stderr",
     "output_type": "stream",
     "text": [
      "\r",
      "Step 3/3 :  41%|████      | 2053/5000 [00:27<00:28, 101.82it/s]"
     ]
    },
    {
     "name": "stderr",
     "output_type": "stream",
     "text": [
      "\r",
      "Step 3/3 :  41%|████▏     | 2064/5000 [00:27<00:28, 101.55it/s]"
     ]
    },
    {
     "name": "stderr",
     "output_type": "stream",
     "text": [
      "\r",
      "Step 3/3 :  41%|████▏     | 2064/5000 [00:27<00:28, 101.55it/s]"
     ]
    },
    {
     "name": "stderr",
     "output_type": "stream",
     "text": [
      "\r",
      "Step 3/3 :  41%|████▏     | 2064/5000 [00:27<00:28, 101.55it/s]"
     ]
    },
    {
     "name": "stderr",
     "output_type": "stream",
     "text": [
      "\r",
      "Step 3/3 :  41%|████▏     | 2064/5000 [00:27<00:28, 101.55it/s]"
     ]
    },
    {
     "name": "stderr",
     "output_type": "stream",
     "text": [
      "\r",
      "Step 3/3 :  41%|████▏     | 2064/5000 [00:27<00:28, 101.55it/s]"
     ]
    },
    {
     "name": "stderr",
     "output_type": "stream",
     "text": [
      "\r",
      "Step 3/3 :  41%|████▏     | 2064/5000 [00:27<00:28, 101.55it/s]"
     ]
    },
    {
     "name": "stderr",
     "output_type": "stream",
     "text": [
      "\r",
      "Step 3/3 :  41%|████▏     | 2064/5000 [00:27<00:28, 101.55it/s]"
     ]
    },
    {
     "name": "stderr",
     "output_type": "stream",
     "text": [
      "\r",
      "Step 3/3 :  41%|████▏     | 2064/5000 [00:27<00:28, 101.55it/s]"
     ]
    },
    {
     "name": "stderr",
     "output_type": "stream",
     "text": [
      "\r",
      "Step 3/3 :  41%|████▏     | 2064/5000 [00:27<00:28, 101.55it/s]"
     ]
    },
    {
     "name": "stderr",
     "output_type": "stream",
     "text": [
      "\r",
      "Step 3/3 :  41%|████▏     | 2064/5000 [00:27<00:28, 101.55it/s]"
     ]
    },
    {
     "name": "stderr",
     "output_type": "stream",
     "text": [
      "\r",
      "Step 3/3 :  41%|████▏     | 2064/5000 [00:27<00:28, 101.55it/s]"
     ]
    },
    {
     "name": "stderr",
     "output_type": "stream",
     "text": [
      "\r",
      "Step 3/3 :  41%|████▏     | 2064/5000 [00:27<00:28, 101.55it/s]"
     ]
    },
    {
     "name": "stderr",
     "output_type": "stream",
     "text": [
      "\r",
      "Step 3/3 :  41%|████▏     | 2064/5000 [00:27<00:28, 101.55it/s]"
     ]
    },
    {
     "name": "stderr",
     "output_type": "stream",
     "text": [
      "\r",
      "Step 3/3 :  42%|████▏     | 2076/5000 [00:27<00:27, 104.96it/s]"
     ]
    },
    {
     "name": "stderr",
     "output_type": "stream",
     "text": [
      "\r",
      "Step 3/3 :  42%|████▏     | 2076/5000 [00:27<00:27, 104.96it/s]"
     ]
    },
    {
     "name": "stderr",
     "output_type": "stream",
     "text": [
      "\r",
      "Step 3/3 :  42%|████▏     | 2076/5000 [00:27<00:27, 104.96it/s]"
     ]
    },
    {
     "name": "stderr",
     "output_type": "stream",
     "text": [
      "\r",
      "Step 3/3 :  42%|████▏     | 2076/5000 [00:27<00:27, 104.96it/s]"
     ]
    },
    {
     "name": "stderr",
     "output_type": "stream",
     "text": [
      "\r",
      "Step 3/3 :  42%|████▏     | 2076/5000 [00:28<00:27, 104.96it/s]"
     ]
    },
    {
     "name": "stderr",
     "output_type": "stream",
     "text": [
      "\r",
      "Step 3/3 :  42%|████▏     | 2076/5000 [00:28<00:27, 104.96it/s]"
     ]
    },
    {
     "name": "stderr",
     "output_type": "stream",
     "text": [
      "\r",
      "Step 3/3 :  42%|████▏     | 2076/5000 [00:28<00:27, 104.96it/s]"
     ]
    },
    {
     "name": "stderr",
     "output_type": "stream",
     "text": [
      "\r",
      "Step 3/3 :  42%|████▏     | 2076/5000 [00:28<00:27, 104.96it/s]"
     ]
    },
    {
     "name": "stderr",
     "output_type": "stream",
     "text": [
      "\r",
      "Step 3/3 :  42%|████▏     | 2076/5000 [00:28<00:27, 104.96it/s]"
     ]
    },
    {
     "name": "stderr",
     "output_type": "stream",
     "text": [
      "\r",
      "Step 3/3 :  42%|████▏     | 2076/5000 [00:28<00:27, 104.96it/s]"
     ]
    },
    {
     "name": "stderr",
     "output_type": "stream",
     "text": [
      "\r",
      "Step 3/3 :  42%|████▏     | 2076/5000 [00:28<00:27, 104.96it/s]"
     ]
    },
    {
     "name": "stderr",
     "output_type": "stream",
     "text": [
      "\r",
      "Step 3/3 :  42%|████▏     | 2076/5000 [00:28<00:27, 104.96it/s]"
     ]
    },
    {
     "name": "stderr",
     "output_type": "stream",
     "text": [
      "\r",
      "Step 3/3 :  42%|████▏     | 2087/5000 [00:28<00:27, 106.22it/s]"
     ]
    },
    {
     "name": "stderr",
     "output_type": "stream",
     "text": [
      "\r",
      "Step 3/3 :  42%|████▏     | 2087/5000 [00:28<00:27, 106.22it/s]"
     ]
    },
    {
     "name": "stderr",
     "output_type": "stream",
     "text": [
      "\r",
      "Step 3/3 :  42%|████▏     | 2087/5000 [00:28<00:27, 106.22it/s]"
     ]
    },
    {
     "name": "stderr",
     "output_type": "stream",
     "text": [
      "\r",
      "Step 3/3 :  42%|████▏     | 2087/5000 [00:28<00:27, 106.22it/s]"
     ]
    },
    {
     "name": "stderr",
     "output_type": "stream",
     "text": [
      "\r",
      "Step 3/3 :  42%|████▏     | 2087/5000 [00:28<00:27, 106.22it/s]"
     ]
    },
    {
     "name": "stderr",
     "output_type": "stream",
     "text": [
      "\r",
      "Step 3/3 :  42%|████▏     | 2087/5000 [00:28<00:27, 106.22it/s]"
     ]
    },
    {
     "name": "stderr",
     "output_type": "stream",
     "text": [
      "\r",
      "Step 3/3 :  42%|████▏     | 2087/5000 [00:28<00:27, 106.22it/s]"
     ]
    },
    {
     "name": "stderr",
     "output_type": "stream",
     "text": [
      "\r",
      "Step 3/3 :  42%|████▏     | 2087/5000 [00:28<00:27, 106.22it/s]"
     ]
    },
    {
     "name": "stderr",
     "output_type": "stream",
     "text": [
      "\r",
      "Step 3/3 :  42%|████▏     | 2087/5000 [00:28<00:27, 106.22it/s]"
     ]
    },
    {
     "name": "stderr",
     "output_type": "stream",
     "text": [
      "\r",
      "Step 3/3 :  42%|████▏     | 2087/5000 [00:28<00:27, 106.22it/s]"
     ]
    },
    {
     "name": "stderr",
     "output_type": "stream",
     "text": [
      "\r",
      "Step 3/3 :  42%|████▏     | 2087/5000 [00:28<00:27, 106.22it/s]"
     ]
    },
    {
     "name": "stderr",
     "output_type": "stream",
     "text": [
      "\r",
      "Step 3/3 :  42%|████▏     | 2087/5000 [00:28<00:27, 106.22it/s]"
     ]
    },
    {
     "name": "stderr",
     "output_type": "stream",
     "text": [
      "\r",
      "Step 3/3 :  42%|████▏     | 2098/5000 [00:28<00:27, 104.89it/s]"
     ]
    },
    {
     "name": "stderr",
     "output_type": "stream",
     "text": [
      "\r",
      "Step 3/3 :  42%|████▏     | 2098/5000 [00:28<00:27, 104.89it/s]"
     ]
    },
    {
     "name": "stderr",
     "output_type": "stream",
     "text": [
      "\r",
      "Step 3/3 :  42%|████▏     | 2098/5000 [00:28<00:27, 104.89it/s]"
     ]
    },
    {
     "name": "stderr",
     "output_type": "stream",
     "text": [
      "\r",
      "Step 3/3 :  42%|████▏     | 2098/5000 [00:28<00:27, 104.89it/s]"
     ]
    },
    {
     "name": "stderr",
     "output_type": "stream",
     "text": [
      "\r",
      "Step 3/3 :  42%|████▏     | 2098/5000 [00:28<00:27, 104.89it/s]"
     ]
    },
    {
     "name": "stderr",
     "output_type": "stream",
     "text": [
      "\r",
      "Step 3/3 :  42%|████▏     | 2098/5000 [00:28<00:27, 104.89it/s]"
     ]
    },
    {
     "name": "stderr",
     "output_type": "stream",
     "text": [
      "\r",
      "Step 3/3 :  42%|████▏     | 2098/5000 [00:28<00:27, 104.89it/s]"
     ]
    },
    {
     "name": "stderr",
     "output_type": "stream",
     "text": [
      "\r",
      "Step 3/3 :  42%|████▏     | 2098/5000 [00:28<00:27, 104.89it/s]"
     ]
    },
    {
     "name": "stderr",
     "output_type": "stream",
     "text": [
      "\r",
      "Step 3/3 :  42%|████▏     | 2098/5000 [00:28<00:27, 104.89it/s]"
     ]
    },
    {
     "name": "stderr",
     "output_type": "stream",
     "text": [
      "\r",
      "Step 3/3 :  42%|████▏     | 2098/5000 [00:28<00:27, 104.89it/s]"
     ]
    },
    {
     "name": "stderr",
     "output_type": "stream",
     "text": [
      "\r",
      "Step 3/3 :  42%|████▏     | 2098/5000 [00:28<00:27, 104.89it/s]"
     ]
    },
    {
     "name": "stderr",
     "output_type": "stream",
     "text": [
      "\r",
      "Step 3/3 :  42%|████▏     | 2098/5000 [00:28<00:27, 104.89it/s]"
     ]
    },
    {
     "name": "stderr",
     "output_type": "stream",
     "text": [
      "\r",
      "Step 3/3 :  42%|████▏     | 2098/5000 [00:28<00:27, 104.89it/s]"
     ]
    },
    {
     "name": "stderr",
     "output_type": "stream",
     "text": [
      "\r",
      "Step 3/3 :  42%|████▏     | 2110/5000 [00:28<00:26, 107.07it/s]"
     ]
    },
    {
     "name": "stderr",
     "output_type": "stream",
     "text": [
      "\r",
      "Step 3/3 :  42%|████▏     | 2110/5000 [00:28<00:26, 107.07it/s]"
     ]
    },
    {
     "name": "stderr",
     "output_type": "stream",
     "text": [
      "\r",
      "Step 3/3 :  42%|████▏     | 2110/5000 [00:28<00:26, 107.07it/s]"
     ]
    },
    {
     "name": "stderr",
     "output_type": "stream",
     "text": [
      "\r",
      "Step 3/3 :  42%|████▏     | 2110/5000 [00:28<00:26, 107.07it/s]"
     ]
    },
    {
     "name": "stderr",
     "output_type": "stream",
     "text": [
      "\r",
      "Step 3/3 :  42%|████▏     | 2110/5000 [00:28<00:26, 107.07it/s]"
     ]
    },
    {
     "name": "stderr",
     "output_type": "stream",
     "text": [
      "\r",
      "Step 3/3 :  42%|████▏     | 2110/5000 [00:28<00:26, 107.07it/s]"
     ]
    },
    {
     "name": "stderr",
     "output_type": "stream",
     "text": [
      "\r",
      "Step 3/3 :  42%|████▏     | 2110/5000 [00:28<00:26, 107.07it/s]"
     ]
    },
    {
     "name": "stderr",
     "output_type": "stream",
     "text": [
      "\r",
      "Step 3/3 :  42%|████▏     | 2110/5000 [00:28<00:26, 107.07it/s]"
     ]
    },
    {
     "name": "stderr",
     "output_type": "stream",
     "text": [
      "\r",
      "Step 3/3 :  42%|████▏     | 2110/5000 [00:28<00:26, 107.07it/s]"
     ]
    },
    {
     "name": "stderr",
     "output_type": "stream",
     "text": [
      "\r",
      "Step 3/3 :  42%|████▏     | 2110/5000 [00:28<00:26, 107.07it/s]"
     ]
    },
    {
     "name": "stderr",
     "output_type": "stream",
     "text": [
      "\r",
      "Step 3/3 :  42%|████▏     | 2110/5000 [00:28<00:26, 107.07it/s]"
     ]
    },
    {
     "name": "stderr",
     "output_type": "stream",
     "text": [
      "\r",
      "Step 3/3 :  42%|████▏     | 2110/5000 [00:28<00:26, 107.07it/s]"
     ]
    },
    {
     "name": "stderr",
     "output_type": "stream",
     "text": [
      "\r",
      "Step 3/3 :  42%|████▏     | 2110/5000 [00:28<00:26, 107.07it/s]"
     ]
    },
    {
     "name": "stderr",
     "output_type": "stream",
     "text": [
      "\r",
      "Step 3/3 :  42%|████▏     | 2122/5000 [00:28<00:26, 108.90it/s]"
     ]
    },
    {
     "name": "stderr",
     "output_type": "stream",
     "text": [
      "\r",
      "Step 3/3 :  42%|████▏     | 2122/5000 [00:28<00:26, 108.90it/s]"
     ]
    },
    {
     "name": "stderr",
     "output_type": "stream",
     "text": [
      "\r",
      "Step 3/3 :  42%|████▏     | 2122/5000 [00:28<00:26, 108.90it/s]"
     ]
    },
    {
     "name": "stderr",
     "output_type": "stream",
     "text": [
      "\r",
      "Step 3/3 :  42%|████▏     | 2122/5000 [00:28<00:26, 108.90it/s]"
     ]
    },
    {
     "name": "stderr",
     "output_type": "stream",
     "text": [
      "\r",
      "Step 3/3 :  42%|████▏     | 2122/5000 [00:28<00:26, 108.90it/s]"
     ]
    },
    {
     "name": "stderr",
     "output_type": "stream",
     "text": [
      "\r",
      "Step 3/3 :  42%|████▏     | 2122/5000 [00:28<00:26, 108.90it/s]"
     ]
    },
    {
     "name": "stderr",
     "output_type": "stream",
     "text": [
      "\r",
      "Step 3/3 :  42%|████▏     | 2122/5000 [00:28<00:26, 108.90it/s]"
     ]
    },
    {
     "name": "stderr",
     "output_type": "stream",
     "text": [
      "\r",
      "Step 3/3 :  42%|████▏     | 2122/5000 [00:28<00:26, 108.90it/s]"
     ]
    },
    {
     "name": "stderr",
     "output_type": "stream",
     "text": [
      "\r",
      "Step 3/3 :  42%|████▏     | 2122/5000 [00:28<00:26, 108.90it/s]"
     ]
    },
    {
     "name": "stderr",
     "output_type": "stream",
     "text": [
      "\r",
      "Step 3/3 :  42%|████▏     | 2122/5000 [00:28<00:26, 108.90it/s]"
     ]
    },
    {
     "name": "stderr",
     "output_type": "stream",
     "text": [
      "\r",
      "Step 3/3 :  42%|████▏     | 2122/5000 [00:28<00:26, 108.90it/s]"
     ]
    },
    {
     "name": "stderr",
     "output_type": "stream",
     "text": [
      "\r",
      "Step 3/3 :  42%|████▏     | 2122/5000 [00:28<00:26, 108.90it/s]"
     ]
    },
    {
     "name": "stderr",
     "output_type": "stream",
     "text": [
      "\r",
      "Step 3/3 :  43%|████▎     | 2133/5000 [00:28<00:26, 109.22it/s]"
     ]
    },
    {
     "name": "stderr",
     "output_type": "stream",
     "text": [
      "\r",
      "Step 3/3 :  43%|████▎     | 2133/5000 [00:28<00:26, 109.22it/s]"
     ]
    },
    {
     "name": "stderr",
     "output_type": "stream",
     "text": [
      "\r",
      "Step 3/3 :  43%|████▎     | 2133/5000 [00:28<00:26, 109.22it/s]"
     ]
    },
    {
     "name": "stderr",
     "output_type": "stream",
     "text": [
      "\r",
      "Step 3/3 :  43%|████▎     | 2133/5000 [00:28<00:26, 109.22it/s]"
     ]
    },
    {
     "name": "stderr",
     "output_type": "stream",
     "text": [
      "\r",
      "Step 3/3 :  43%|████▎     | 2133/5000 [00:28<00:26, 109.22it/s]"
     ]
    },
    {
     "name": "stderr",
     "output_type": "stream",
     "text": [
      "\r",
      "Step 3/3 :  43%|████▎     | 2133/5000 [00:28<00:26, 109.22it/s]"
     ]
    },
    {
     "name": "stderr",
     "output_type": "stream",
     "text": [
      "\r",
      "Step 3/3 :  43%|████▎     | 2133/5000 [00:28<00:26, 109.22it/s]"
     ]
    },
    {
     "name": "stderr",
     "output_type": "stream",
     "text": [
      "\r",
      "Step 3/3 :  43%|████▎     | 2133/5000 [00:28<00:26, 109.22it/s]"
     ]
    },
    {
     "name": "stderr",
     "output_type": "stream",
     "text": [
      "\r",
      "Step 3/3 :  43%|████▎     | 2133/5000 [00:28<00:26, 109.22it/s]"
     ]
    },
    {
     "name": "stderr",
     "output_type": "stream",
     "text": [
      "\r",
      "Step 3/3 :  43%|████▎     | 2133/5000 [00:28<00:26, 109.22it/s]"
     ]
    },
    {
     "name": "stderr",
     "output_type": "stream",
     "text": [
      "\r",
      "Step 3/3 :  43%|████▎     | 2133/5000 [00:28<00:26, 109.22it/s]"
     ]
    },
    {
     "name": "stderr",
     "output_type": "stream",
     "text": [
      "\r",
      "Step 3/3 :  43%|████▎     | 2133/5000 [00:28<00:26, 109.22it/s]"
     ]
    },
    {
     "name": "stderr",
     "output_type": "stream",
     "text": [
      "\r",
      "Step 3/3 :  43%|████▎     | 2144/5000 [00:28<00:26, 108.81it/s]"
     ]
    },
    {
     "name": "stderr",
     "output_type": "stream",
     "text": [
      "\r",
      "Step 3/3 :  43%|████▎     | 2144/5000 [00:28<00:26, 108.81it/s]"
     ]
    },
    {
     "name": "stderr",
     "output_type": "stream",
     "text": [
      "\r",
      "Step 3/3 :  43%|████▎     | 2144/5000 [00:28<00:26, 108.81it/s]"
     ]
    },
    {
     "name": "stderr",
     "output_type": "stream",
     "text": [
      "\r",
      "Step 3/3 :  43%|████▎     | 2144/5000 [00:28<00:26, 108.81it/s]"
     ]
    },
    {
     "name": "stderr",
     "output_type": "stream",
     "text": [
      "\r",
      "Step 3/3 :  43%|████▎     | 2144/5000 [00:28<00:26, 108.81it/s]"
     ]
    },
    {
     "name": "stderr",
     "output_type": "stream",
     "text": [
      "\r",
      "Step 3/3 :  43%|████▎     | 2144/5000 [00:28<00:26, 108.81it/s]"
     ]
    },
    {
     "name": "stderr",
     "output_type": "stream",
     "text": [
      "\r",
      "Step 3/3 :  43%|████▎     | 2144/5000 [00:28<00:26, 108.81it/s]"
     ]
    },
    {
     "name": "stderr",
     "output_type": "stream",
     "text": [
      "\r",
      "Step 3/3 :  43%|████▎     | 2144/5000 [00:28<00:26, 108.81it/s]"
     ]
    },
    {
     "name": "stderr",
     "output_type": "stream",
     "text": [
      "\r",
      "Step 3/3 :  43%|████▎     | 2144/5000 [00:28<00:26, 108.81it/s]"
     ]
    },
    {
     "name": "stderr",
     "output_type": "stream",
     "text": [
      "\r",
      "Step 3/3 :  43%|████▎     | 2144/5000 [00:28<00:26, 108.81it/s]"
     ]
    },
    {
     "name": "stderr",
     "output_type": "stream",
     "text": [
      "\r",
      "Step 3/3 :  43%|████▎     | 2144/5000 [00:28<00:26, 108.81it/s]"
     ]
    },
    {
     "name": "stderr",
     "output_type": "stream",
     "text": [
      "\r",
      "Step 3/3 :  43%|████▎     | 2144/5000 [00:28<00:26, 108.81it/s]"
     ]
    },
    {
     "name": "stderr",
     "output_type": "stream",
     "text": [
      "\r",
      "Step 3/3 :  43%|████▎     | 2155/5000 [00:28<00:26, 106.67it/s]"
     ]
    },
    {
     "name": "stderr",
     "output_type": "stream",
     "text": [
      "\r",
      "Step 3/3 :  43%|████▎     | 2155/5000 [00:28<00:26, 106.67it/s]"
     ]
    },
    {
     "name": "stderr",
     "output_type": "stream",
     "text": [
      "\r",
      "Step 3/3 :  43%|████▎     | 2155/5000 [00:28<00:26, 106.67it/s]"
     ]
    },
    {
     "name": "stderr",
     "output_type": "stream",
     "text": [
      "\r",
      "Step 3/3 :  43%|████▎     | 2155/5000 [00:28<00:26, 106.67it/s]"
     ]
    },
    {
     "name": "stderr",
     "output_type": "stream",
     "text": [
      "\r",
      "Step 3/3 :  43%|████▎     | 2155/5000 [00:28<00:26, 106.67it/s]"
     ]
    },
    {
     "name": "stderr",
     "output_type": "stream",
     "text": [
      "\r",
      "Step 3/3 :  43%|████▎     | 2155/5000 [00:28<00:26, 106.67it/s]"
     ]
    },
    {
     "name": "stderr",
     "output_type": "stream",
     "text": [
      "\r",
      "Step 3/3 :  43%|████▎     | 2155/5000 [00:28<00:26, 106.67it/s]"
     ]
    },
    {
     "name": "stderr",
     "output_type": "stream",
     "text": [
      "\r",
      "Step 3/3 :  43%|████▎     | 2155/5000 [00:28<00:26, 106.67it/s]"
     ]
    },
    {
     "name": "stderr",
     "output_type": "stream",
     "text": [
      "\r",
      "Step 3/3 :  43%|████▎     | 2155/5000 [00:28<00:26, 106.67it/s]"
     ]
    },
    {
     "name": "stderr",
     "output_type": "stream",
     "text": [
      "\r",
      "Step 3/3 :  43%|████▎     | 2155/5000 [00:28<00:26, 106.67it/s]"
     ]
    },
    {
     "name": "stderr",
     "output_type": "stream",
     "text": [
      "\r",
      "Step 3/3 :  43%|████▎     | 2155/5000 [00:28<00:26, 106.67it/s]"
     ]
    },
    {
     "name": "stderr",
     "output_type": "stream",
     "text": [
      "\r",
      "Step 3/3 :  43%|████▎     | 2155/5000 [00:28<00:26, 106.67it/s]"
     ]
    },
    {
     "name": "stderr",
     "output_type": "stream",
     "text": [
      "\r",
      "Step 3/3 :  43%|████▎     | 2166/5000 [00:28<00:27, 102.30it/s]"
     ]
    },
    {
     "name": "stderr",
     "output_type": "stream",
     "text": [
      "\r",
      "Step 3/3 :  43%|████▎     | 2166/5000 [00:28<00:27, 102.30it/s]"
     ]
    },
    {
     "name": "stderr",
     "output_type": "stream",
     "text": [
      "\r",
      "Step 3/3 :  43%|████▎     | 2166/5000 [00:28<00:27, 102.30it/s]"
     ]
    },
    {
     "name": "stderr",
     "output_type": "stream",
     "text": [
      "\r",
      "Step 3/3 :  43%|████▎     | 2166/5000 [00:28<00:27, 102.30it/s]"
     ]
    },
    {
     "name": "stderr",
     "output_type": "stream",
     "text": [
      "\r",
      "Step 3/3 :  43%|████▎     | 2166/5000 [00:28<00:27, 102.30it/s]"
     ]
    },
    {
     "name": "stderr",
     "output_type": "stream",
     "text": [
      "\r",
      "Step 3/3 :  43%|████▎     | 2166/5000 [00:28<00:27, 102.30it/s]"
     ]
    },
    {
     "name": "stderr",
     "output_type": "stream",
     "text": [
      "\r",
      "Step 3/3 :  43%|████▎     | 2166/5000 [00:28<00:27, 102.30it/s]"
     ]
    },
    {
     "name": "stderr",
     "output_type": "stream",
     "text": [
      "\r",
      "Step 3/3 :  43%|████▎     | 2166/5000 [00:28<00:27, 102.30it/s]"
     ]
    },
    {
     "name": "stderr",
     "output_type": "stream",
     "text": [
      "\r",
      "Step 3/3 :  43%|████▎     | 2166/5000 [00:28<00:27, 102.30it/s]"
     ]
    },
    {
     "name": "stderr",
     "output_type": "stream",
     "text": [
      "\r",
      "Step 3/3 :  43%|████▎     | 2166/5000 [00:28<00:27, 102.30it/s]"
     ]
    },
    {
     "name": "stderr",
     "output_type": "stream",
     "text": [
      "\r",
      "Step 3/3 :  43%|████▎     | 2166/5000 [00:28<00:27, 102.30it/s]"
     ]
    },
    {
     "name": "stderr",
     "output_type": "stream",
     "text": [
      "\r",
      "Step 3/3 :  43%|████▎     | 2166/5000 [00:28<00:27, 102.30it/s]"
     ]
    },
    {
     "name": "stderr",
     "output_type": "stream",
     "text": [
      "\r",
      "Step 3/3 :  44%|████▎     | 2177/5000 [00:28<00:28, 99.39it/s] "
     ]
    },
    {
     "name": "stderr",
     "output_type": "stream",
     "text": [
      "\r",
      "Step 3/3 :  44%|████▎     | 2177/5000 [00:28<00:28, 99.39it/s]"
     ]
    },
    {
     "name": "stderr",
     "output_type": "stream",
     "text": [
      "\r",
      "Step 3/3 :  44%|████▎     | 2177/5000 [00:28<00:28, 99.39it/s]"
     ]
    },
    {
     "name": "stderr",
     "output_type": "stream",
     "text": [
      "\r",
      "Step 3/3 :  44%|████▎     | 2177/5000 [00:28<00:28, 99.39it/s]"
     ]
    },
    {
     "name": "stderr",
     "output_type": "stream",
     "text": [
      "\r",
      "Step 3/3 :  44%|████▎     | 2177/5000 [00:28<00:28, 99.39it/s]"
     ]
    },
    {
     "name": "stderr",
     "output_type": "stream",
     "text": [
      "\r",
      "Step 3/3 :  44%|████▎     | 2177/5000 [00:28<00:28, 99.39it/s]"
     ]
    },
    {
     "name": "stderr",
     "output_type": "stream",
     "text": [
      "\r",
      "Step 3/3 :  44%|████▎     | 2177/5000 [00:29<00:28, 99.39it/s]"
     ]
    },
    {
     "name": "stderr",
     "output_type": "stream",
     "text": [
      "\r",
      "Step 3/3 :  44%|████▎     | 2177/5000 [00:29<00:28, 99.39it/s]"
     ]
    },
    {
     "name": "stderr",
     "output_type": "stream",
     "text": [
      "\r",
      "Step 3/3 :  44%|████▎     | 2177/5000 [00:29<00:28, 99.39it/s]"
     ]
    },
    {
     "name": "stderr",
     "output_type": "stream",
     "text": [
      "\r",
      "Step 3/3 :  44%|████▎     | 2177/5000 [00:29<00:28, 99.39it/s]"
     ]
    },
    {
     "name": "stderr",
     "output_type": "stream",
     "text": [
      "\r",
      "Step 3/3 :  44%|████▎     | 2177/5000 [00:29<00:28, 99.39it/s]"
     ]
    },
    {
     "name": "stderr",
     "output_type": "stream",
     "text": [
      "\r",
      "Step 3/3 :  44%|████▎     | 2187/5000 [00:29<00:28, 99.56it/s]"
     ]
    },
    {
     "name": "stderr",
     "output_type": "stream",
     "text": [
      "\r",
      "Step 3/3 :  44%|████▎     | 2187/5000 [00:29<00:28, 99.56it/s]"
     ]
    },
    {
     "name": "stderr",
     "output_type": "stream",
     "text": [
      "\r",
      "Step 3/3 :  44%|████▎     | 2187/5000 [00:29<00:28, 99.56it/s]"
     ]
    },
    {
     "name": "stderr",
     "output_type": "stream",
     "text": [
      "\r",
      "Step 3/3 :  44%|████▎     | 2187/5000 [00:29<00:28, 99.56it/s]"
     ]
    },
    {
     "name": "stderr",
     "output_type": "stream",
     "text": [
      "\r",
      "Step 3/3 :  44%|████▎     | 2187/5000 [00:29<00:28, 99.56it/s]"
     ]
    },
    {
     "name": "stderr",
     "output_type": "stream",
     "text": [
      "\r",
      "Step 3/3 :  44%|████▎     | 2187/5000 [00:29<00:28, 99.56it/s]"
     ]
    },
    {
     "name": "stderr",
     "output_type": "stream",
     "text": [
      "\r",
      "Step 3/3 :  44%|████▎     | 2187/5000 [00:29<00:28, 99.56it/s]"
     ]
    },
    {
     "name": "stderr",
     "output_type": "stream",
     "text": [
      "\r",
      "Step 3/3 :  44%|████▎     | 2187/5000 [00:29<00:28, 99.56it/s]"
     ]
    },
    {
     "name": "stderr",
     "output_type": "stream",
     "text": [
      "\r",
      "Step 3/3 :  44%|████▎     | 2187/5000 [00:29<00:28, 99.56it/s]"
     ]
    },
    {
     "name": "stderr",
     "output_type": "stream",
     "text": [
      "\r",
      "Step 3/3 :  44%|████▎     | 2187/5000 [00:29<00:28, 99.56it/s]"
     ]
    },
    {
     "name": "stderr",
     "output_type": "stream",
     "text": [
      "\r",
      "Step 3/3 :  44%|████▎     | 2187/5000 [00:29<00:28, 99.56it/s]"
     ]
    },
    {
     "name": "stderr",
     "output_type": "stream",
     "text": [
      "\r",
      "Step 3/3 :  44%|████▎     | 2187/5000 [00:29<00:28, 99.56it/s]"
     ]
    },
    {
     "name": "stderr",
     "output_type": "stream",
     "text": [
      "\r",
      "Step 3/3 :  44%|████▍     | 2198/5000 [00:29<00:27, 102.23it/s]"
     ]
    },
    {
     "name": "stderr",
     "output_type": "stream",
     "text": [
      "\r",
      "Step 3/3 :  44%|████▍     | 2198/5000 [00:29<00:27, 102.23it/s]"
     ]
    },
    {
     "name": "stderr",
     "output_type": "stream",
     "text": [
      "\r",
      "Step 3/3 :  44%|████▍     | 2198/5000 [00:29<00:27, 102.23it/s]"
     ]
    },
    {
     "name": "stderr",
     "output_type": "stream",
     "text": [
      "\r",
      "Step 3/3 :  44%|████▍     | 2198/5000 [00:29<00:27, 102.23it/s]"
     ]
    },
    {
     "name": "stderr",
     "output_type": "stream",
     "text": [
      "\r",
      "Step 3/3 :  44%|████▍     | 2198/5000 [00:29<00:27, 102.23it/s]"
     ]
    },
    {
     "name": "stderr",
     "output_type": "stream",
     "text": [
      "\r",
      "Step 3/3 :  44%|████▍     | 2198/5000 [00:29<00:27, 102.23it/s]"
     ]
    },
    {
     "name": "stderr",
     "output_type": "stream",
     "text": [
      "\r",
      "Step 3/3 :  44%|████▍     | 2198/5000 [00:29<00:27, 102.23it/s]"
     ]
    },
    {
     "name": "stderr",
     "output_type": "stream",
     "text": [
      "\r",
      "Step 3/3 :  44%|████▍     | 2198/5000 [00:29<00:27, 102.23it/s]"
     ]
    },
    {
     "name": "stderr",
     "output_type": "stream",
     "text": [
      "\r",
      "Step 3/3 :  44%|████▍     | 2198/5000 [00:29<00:27, 102.23it/s]"
     ]
    },
    {
     "name": "stderr",
     "output_type": "stream",
     "text": [
      "\r",
      "Step 3/3 :  44%|████▍     | 2198/5000 [00:29<00:27, 102.23it/s]"
     ]
    },
    {
     "name": "stderr",
     "output_type": "stream",
     "text": [
      "\r",
      "Step 3/3 :  44%|████▍     | 2198/5000 [00:29<00:27, 102.23it/s]"
     ]
    },
    {
     "name": "stderr",
     "output_type": "stream",
     "text": [
      "\r",
      "Step 3/3 :  44%|████▍     | 2198/5000 [00:29<00:27, 102.23it/s]"
     ]
    },
    {
     "name": "stderr",
     "output_type": "stream",
     "text": [
      "\r",
      "Step 3/3 :  44%|████▍     | 2198/5000 [00:29<00:27, 102.23it/s]"
     ]
    },
    {
     "name": "stderr",
     "output_type": "stream",
     "text": [
      "\r",
      "Step 3/3 :  44%|████▍     | 2210/5000 [00:29<00:26, 105.83it/s]"
     ]
    },
    {
     "name": "stderr",
     "output_type": "stream",
     "text": [
      "\r",
      "Step 3/3 :  44%|████▍     | 2210/5000 [00:29<00:26, 105.83it/s]"
     ]
    },
    {
     "name": "stderr",
     "output_type": "stream",
     "text": [
      "\r",
      "Step 3/3 :  44%|████▍     | 2210/5000 [00:29<00:26, 105.83it/s]"
     ]
    },
    {
     "name": "stderr",
     "output_type": "stream",
     "text": [
      "\r",
      "Step 3/3 :  44%|████▍     | 2210/5000 [00:29<00:26, 105.83it/s]"
     ]
    },
    {
     "name": "stderr",
     "output_type": "stream",
     "text": [
      "\r",
      "Step 3/3 :  44%|████▍     | 2210/5000 [00:29<00:26, 105.83it/s]"
     ]
    },
    {
     "name": "stderr",
     "output_type": "stream",
     "text": [
      "\r",
      "Step 3/3 :  44%|████▍     | 2210/5000 [00:29<00:26, 105.83it/s]"
     ]
    },
    {
     "name": "stderr",
     "output_type": "stream",
     "text": [
      "\r",
      "Step 3/3 :  44%|████▍     | 2210/5000 [00:29<00:26, 105.83it/s]"
     ]
    },
    {
     "name": "stderr",
     "output_type": "stream",
     "text": [
      "\r",
      "Step 3/3 :  44%|████▍     | 2210/5000 [00:29<00:26, 105.83it/s]"
     ]
    },
    {
     "name": "stderr",
     "output_type": "stream",
     "text": [
      "\r",
      "Step 3/3 :  44%|████▍     | 2210/5000 [00:29<00:26, 105.83it/s]"
     ]
    },
    {
     "name": "stderr",
     "output_type": "stream",
     "text": [
      "\r",
      "Step 3/3 :  44%|████▍     | 2210/5000 [00:29<00:26, 105.83it/s]"
     ]
    },
    {
     "name": "stderr",
     "output_type": "stream",
     "text": [
      "\r",
      "Step 3/3 :  44%|████▍     | 2210/5000 [00:29<00:26, 105.83it/s]"
     ]
    },
    {
     "name": "stderr",
     "output_type": "stream",
     "text": [
      "\r",
      "Step 3/3 :  44%|████▍     | 2210/5000 [00:29<00:26, 105.83it/s]"
     ]
    },
    {
     "name": "stderr",
     "output_type": "stream",
     "text": [
      "\r",
      "Step 3/3 :  44%|████▍     | 2210/5000 [00:29<00:26, 105.83it/s]"
     ]
    },
    {
     "name": "stderr",
     "output_type": "stream",
     "text": [
      "\r",
      "Step 3/3 :  44%|████▍     | 2222/5000 [00:29<00:25, 108.66it/s]"
     ]
    },
    {
     "name": "stderr",
     "output_type": "stream",
     "text": [
      "\r",
      "Step 3/3 :  44%|████▍     | 2222/5000 [00:29<00:25, 108.66it/s]"
     ]
    },
    {
     "name": "stderr",
     "output_type": "stream",
     "text": [
      "\r",
      "Step 3/3 :  44%|████▍     | 2222/5000 [00:29<00:25, 108.66it/s]"
     ]
    },
    {
     "name": "stderr",
     "output_type": "stream",
     "text": [
      "\r",
      "Step 3/3 :  44%|████▍     | 2222/5000 [00:29<00:25, 108.66it/s]"
     ]
    },
    {
     "name": "stderr",
     "output_type": "stream",
     "text": [
      "\r",
      "Step 3/3 :  44%|████▍     | 2222/5000 [00:29<00:25, 108.66it/s]"
     ]
    },
    {
     "name": "stderr",
     "output_type": "stream",
     "text": [
      "\r",
      "Step 3/3 :  44%|████▍     | 2222/5000 [00:29<00:25, 108.66it/s]"
     ]
    },
    {
     "name": "stderr",
     "output_type": "stream",
     "text": [
      "\r",
      "Step 3/3 :  44%|████▍     | 2222/5000 [00:29<00:25, 108.66it/s]"
     ]
    },
    {
     "name": "stderr",
     "output_type": "stream",
     "text": [
      "\r",
      "Step 3/3 :  44%|████▍     | 2222/5000 [00:29<00:25, 108.66it/s]"
     ]
    },
    {
     "name": "stderr",
     "output_type": "stream",
     "text": [
      "\r",
      "Step 3/3 :  44%|████▍     | 2222/5000 [00:29<00:25, 108.66it/s]"
     ]
    },
    {
     "name": "stderr",
     "output_type": "stream",
     "text": [
      "\r",
      "Step 3/3 :  44%|████▍     | 2222/5000 [00:29<00:25, 108.66it/s]"
     ]
    },
    {
     "name": "stderr",
     "output_type": "stream",
     "text": [
      "\r",
      "Step 3/3 :  44%|████▍     | 2222/5000 [00:29<00:25, 108.66it/s]"
     ]
    },
    {
     "name": "stderr",
     "output_type": "stream",
     "text": [
      "\r",
      "Step 3/3 :  44%|████▍     | 2222/5000 [00:29<00:25, 108.66it/s]"
     ]
    },
    {
     "name": "stderr",
     "output_type": "stream",
     "text": [
      "\r",
      "Step 3/3 :  44%|████▍     | 2222/5000 [00:29<00:25, 108.66it/s]"
     ]
    },
    {
     "name": "stderr",
     "output_type": "stream",
     "text": [
      "\r",
      "Step 3/3 :  45%|████▍     | 2234/5000 [00:29<00:24, 110.97it/s]"
     ]
    },
    {
     "name": "stderr",
     "output_type": "stream",
     "text": [
      "\r",
      "Step 3/3 :  45%|████▍     | 2234/5000 [00:29<00:24, 110.97it/s]"
     ]
    },
    {
     "name": "stderr",
     "output_type": "stream",
     "text": [
      "\r",
      "Step 3/3 :  45%|████▍     | 2234/5000 [00:29<00:24, 110.97it/s]"
     ]
    },
    {
     "name": "stderr",
     "output_type": "stream",
     "text": [
      "\r",
      "Step 3/3 :  45%|████▍     | 2234/5000 [00:29<00:24, 110.97it/s]"
     ]
    },
    {
     "name": "stderr",
     "output_type": "stream",
     "text": [
      "\r",
      "Step 3/3 :  45%|████▍     | 2234/5000 [00:29<00:24, 110.97it/s]"
     ]
    },
    {
     "name": "stderr",
     "output_type": "stream",
     "text": [
      "\r",
      "Step 3/3 :  45%|████▍     | 2234/5000 [00:29<00:24, 110.97it/s]"
     ]
    },
    {
     "name": "stderr",
     "output_type": "stream",
     "text": [
      "\r",
      "Step 3/3 :  45%|████▍     | 2234/5000 [00:29<00:24, 110.97it/s]"
     ]
    },
    {
     "name": "stderr",
     "output_type": "stream",
     "text": [
      "\r",
      "Step 3/3 :  45%|████▍     | 2234/5000 [00:29<00:24, 110.97it/s]"
     ]
    },
    {
     "name": "stderr",
     "output_type": "stream",
     "text": [
      "\r",
      "Step 3/3 :  45%|████▍     | 2234/5000 [00:29<00:24, 110.97it/s]"
     ]
    },
    {
     "name": "stderr",
     "output_type": "stream",
     "text": [
      "\r",
      "Step 3/3 :  45%|████▍     | 2234/5000 [00:29<00:24, 110.97it/s]"
     ]
    },
    {
     "name": "stderr",
     "output_type": "stream",
     "text": [
      "\r",
      "Step 3/3 :  45%|████▍     | 2234/5000 [00:29<00:24, 110.97it/s]"
     ]
    },
    {
     "name": "stderr",
     "output_type": "stream",
     "text": [
      "\r",
      "Step 3/3 :  45%|████▍     | 2234/5000 [00:29<00:24, 110.97it/s]"
     ]
    },
    {
     "name": "stderr",
     "output_type": "stream",
     "text": [
      "\r",
      "Step 3/3 :  45%|████▍     | 2234/5000 [00:29<00:24, 110.97it/s]"
     ]
    },
    {
     "name": "stderr",
     "output_type": "stream",
     "text": [
      "\r",
      "Step 3/3 :  45%|████▍     | 2246/5000 [00:29<00:25, 109.77it/s]"
     ]
    },
    {
     "name": "stderr",
     "output_type": "stream",
     "text": [
      "\r",
      "Step 3/3 :  45%|████▍     | 2246/5000 [00:29<00:25, 109.77it/s]"
     ]
    },
    {
     "name": "stderr",
     "output_type": "stream",
     "text": [
      "\r",
      "Step 3/3 :  45%|████▍     | 2246/5000 [00:29<00:25, 109.77it/s]"
     ]
    },
    {
     "name": "stderr",
     "output_type": "stream",
     "text": [
      "\r",
      "Step 3/3 :  45%|████▍     | 2246/5000 [00:29<00:25, 109.77it/s]"
     ]
    },
    {
     "name": "stderr",
     "output_type": "stream",
     "text": [
      "\r",
      "Step 3/3 :  45%|████▍     | 2246/5000 [00:29<00:25, 109.77it/s]"
     ]
    },
    {
     "name": "stderr",
     "output_type": "stream",
     "text": [
      "\r",
      "Step 3/3 :  45%|████▍     | 2246/5000 [00:29<00:25, 109.77it/s]"
     ]
    },
    {
     "name": "stderr",
     "output_type": "stream",
     "text": [
      "\r",
      "Step 3/3 :  45%|████▍     | 2246/5000 [00:29<00:25, 109.77it/s]"
     ]
    },
    {
     "name": "stderr",
     "output_type": "stream",
     "text": [
      "\r",
      "Step 3/3 :  45%|████▍     | 2246/5000 [00:29<00:25, 109.77it/s]"
     ]
    },
    {
     "name": "stderr",
     "output_type": "stream",
     "text": [
      "\r",
      "Step 3/3 :  45%|████▍     | 2246/5000 [00:29<00:25, 109.77it/s]"
     ]
    },
    {
     "name": "stderr",
     "output_type": "stream",
     "text": [
      "\r",
      "Step 3/3 :  45%|████▍     | 2246/5000 [00:29<00:25, 109.77it/s]"
     ]
    },
    {
     "name": "stderr",
     "output_type": "stream",
     "text": [
      "\r",
      "Step 3/3 :  45%|████▍     | 2246/5000 [00:29<00:25, 109.77it/s]"
     ]
    },
    {
     "name": "stderr",
     "output_type": "stream",
     "text": [
      "\r",
      "Step 3/3 :  45%|████▍     | 2246/5000 [00:29<00:25, 109.77it/s]"
     ]
    },
    {
     "name": "stderr",
     "output_type": "stream",
     "text": [
      "\r",
      "Step 3/3 :  45%|████▍     | 2246/5000 [00:29<00:25, 109.77it/s]"
     ]
    },
    {
     "name": "stderr",
     "output_type": "stream",
     "text": [
      "\r",
      "Step 3/3 :  45%|████▌     | 2258/5000 [00:29<00:24, 110.18it/s]"
     ]
    },
    {
     "name": "stderr",
     "output_type": "stream",
     "text": [
      "\r",
      "Step 3/3 :  45%|████▌     | 2258/5000 [00:29<00:24, 110.18it/s]"
     ]
    },
    {
     "name": "stderr",
     "output_type": "stream",
     "text": [
      "\r",
      "Step 3/3 :  45%|████▌     | 2258/5000 [00:29<00:24, 110.18it/s]"
     ]
    },
    {
     "name": "stderr",
     "output_type": "stream",
     "text": [
      "\r",
      "Step 3/3 :  45%|████▌     | 2258/5000 [00:29<00:24, 110.18it/s]"
     ]
    },
    {
     "name": "stderr",
     "output_type": "stream",
     "text": [
      "\r",
      "Step 3/3 :  45%|████▌     | 2258/5000 [00:29<00:24, 110.18it/s]"
     ]
    },
    {
     "name": "stderr",
     "output_type": "stream",
     "text": [
      "\r",
      "Step 3/3 :  45%|████▌     | 2258/5000 [00:29<00:24, 110.18it/s]"
     ]
    },
    {
     "name": "stderr",
     "output_type": "stream",
     "text": [
      "\r",
      "Step 3/3 :  45%|████▌     | 2258/5000 [00:29<00:24, 110.18it/s]"
     ]
    },
    {
     "name": "stderr",
     "output_type": "stream",
     "text": [
      "\r",
      "Step 3/3 :  45%|████▌     | 2258/5000 [00:29<00:24, 110.18it/s]"
     ]
    },
    {
     "name": "stderr",
     "output_type": "stream",
     "text": [
      "\r",
      "Step 3/3 :  45%|████▌     | 2258/5000 [00:29<00:24, 110.18it/s]"
     ]
    },
    {
     "name": "stderr",
     "output_type": "stream",
     "text": [
      "\r",
      "Step 3/3 :  45%|████▌     | 2258/5000 [00:29<00:24, 110.18it/s]"
     ]
    },
    {
     "name": "stderr",
     "output_type": "stream",
     "text": [
      "\r",
      "Step 3/3 :  45%|████▌     | 2258/5000 [00:29<00:24, 110.18it/s]"
     ]
    },
    {
     "name": "stderr",
     "output_type": "stream",
     "text": [
      "\r",
      "Step 3/3 :  45%|████▌     | 2258/5000 [00:29<00:24, 110.18it/s]"
     ]
    },
    {
     "name": "stderr",
     "output_type": "stream",
     "text": [
      "\r",
      "Step 3/3 :  45%|████▌     | 2258/5000 [00:29<00:24, 110.18it/s]"
     ]
    },
    {
     "name": "stderr",
     "output_type": "stream",
     "text": [
      "\r",
      "Step 3/3 :  45%|████▌     | 2270/5000 [00:29<00:24, 110.16it/s]"
     ]
    },
    {
     "name": "stderr",
     "output_type": "stream",
     "text": [
      "\r",
      "Step 3/3 :  45%|████▌     | 2270/5000 [00:29<00:24, 110.16it/s]"
     ]
    },
    {
     "name": "stderr",
     "output_type": "stream",
     "text": [
      "\r",
      "Step 3/3 :  45%|████▌     | 2270/5000 [00:29<00:24, 110.16it/s]"
     ]
    },
    {
     "name": "stderr",
     "output_type": "stream",
     "text": [
      "\r",
      "Step 3/3 :  45%|████▌     | 2270/5000 [00:29<00:24, 110.16it/s]"
     ]
    },
    {
     "name": "stderr",
     "output_type": "stream",
     "text": [
      "\r",
      "Step 3/3 :  45%|████▌     | 2270/5000 [00:29<00:24, 110.16it/s]"
     ]
    },
    {
     "name": "stderr",
     "output_type": "stream",
     "text": [
      "\r",
      "Step 3/3 :  45%|████▌     | 2270/5000 [00:29<00:24, 110.16it/s]"
     ]
    },
    {
     "name": "stderr",
     "output_type": "stream",
     "text": [
      "\r",
      "Step 3/3 :  45%|████▌     | 2270/5000 [00:29<00:24, 110.16it/s]"
     ]
    },
    {
     "name": "stderr",
     "output_type": "stream",
     "text": [
      "\r",
      "Step 3/3 :  45%|████▌     | 2270/5000 [00:29<00:24, 110.16it/s]"
     ]
    },
    {
     "name": "stderr",
     "output_type": "stream",
     "text": [
      "\r",
      "Step 3/3 :  45%|████▌     | 2270/5000 [00:29<00:24, 110.16it/s]"
     ]
    },
    {
     "name": "stderr",
     "output_type": "stream",
     "text": [
      "\r",
      "Step 3/3 :  45%|████▌     | 2270/5000 [00:29<00:24, 110.16it/s]"
     ]
    },
    {
     "name": "stderr",
     "output_type": "stream",
     "text": [
      "\r",
      "Step 3/3 :  45%|████▌     | 2270/5000 [00:29<00:24, 110.16it/s]"
     ]
    },
    {
     "name": "stderr",
     "output_type": "stream",
     "text": [
      "\r",
      "Step 3/3 :  45%|████▌     | 2270/5000 [00:29<00:24, 110.16it/s]"
     ]
    },
    {
     "name": "stderr",
     "output_type": "stream",
     "text": [
      "\r",
      "Step 3/3 :  45%|████▌     | 2270/5000 [00:29<00:24, 110.16it/s]"
     ]
    },
    {
     "name": "stderr",
     "output_type": "stream",
     "text": [
      "\r",
      "Step 3/3 :  46%|████▌     | 2282/5000 [00:29<00:25, 107.16it/s]"
     ]
    },
    {
     "name": "stderr",
     "output_type": "stream",
     "text": [
      "\r",
      "Step 3/3 :  46%|████▌     | 2282/5000 [00:29<00:25, 107.16it/s]"
     ]
    },
    {
     "name": "stderr",
     "output_type": "stream",
     "text": [
      "\r",
      "Step 3/3 :  46%|████▌     | 2282/5000 [00:29<00:25, 107.16it/s]"
     ]
    },
    {
     "name": "stderr",
     "output_type": "stream",
     "text": [
      "\r",
      "Step 3/3 :  46%|████▌     | 2282/5000 [00:29<00:25, 107.16it/s]"
     ]
    },
    {
     "name": "stderr",
     "output_type": "stream",
     "text": [
      "\r",
      "Step 3/3 :  46%|████▌     | 2282/5000 [00:29<00:25, 107.16it/s]"
     ]
    },
    {
     "name": "stderr",
     "output_type": "stream",
     "text": [
      "\r",
      "Step 3/3 :  46%|████▌     | 2282/5000 [00:29<00:25, 107.16it/s]"
     ]
    },
    {
     "name": "stderr",
     "output_type": "stream",
     "text": [
      "\r",
      "Step 3/3 :  46%|████▌     | 2282/5000 [00:29<00:25, 107.16it/s]"
     ]
    },
    {
     "name": "stderr",
     "output_type": "stream",
     "text": [
      "\r",
      "Step 3/3 :  46%|████▌     | 2282/5000 [00:29<00:25, 107.16it/s]"
     ]
    },
    {
     "name": "stderr",
     "output_type": "stream",
     "text": [
      "\r",
      "Step 3/3 :  46%|████▌     | 2282/5000 [00:29<00:25, 107.16it/s]"
     ]
    },
    {
     "name": "stderr",
     "output_type": "stream",
     "text": [
      "\r",
      "Step 3/3 :  46%|████▌     | 2282/5000 [00:29<00:25, 107.16it/s]"
     ]
    }
   ],
   "source": [
    "model.fit(KORmacro.loc[:end_period], dates=KORmacro.loc[:end_period].index)"
   ]
  },
  {
   "cell_type": "code",
   "execution_count": null,
   "id": "ae529879",
   "metadata": {
    "papermill": {
     "duration": null,
     "end_time": null,
     "exception": null,
     "start_time": null,
     "status": "pending"
    },
    "tags": []
   },
   "outputs": [],
   "source": [
    "rstar_HLW_FC = pd.DataFrame(model.SummaryLV['Avg']['rNatural'])\n",
    "rstar_HLW_FC.index = KORmacro.loc[KORmacro.index[4]:end_period].index\n",
    "if smoothing:\n",
    "    rstar_HLW_FC.columns = ['rstar_HLW_FC_smoothed']\n",
    "else:\n",
    "    rstar_HLW_FC.columns = ['rstar_HLW_FC']\n",
    "rstar = rstar_HLW_FC.reset_index().rename(columns={'index': 'Date'}).to_json(orient='records', date_format='iso')\n",
    "rstar_HLW_FC.reset_index().rename(columns={'index': 'Date'}) \\\n",
    "    .assign(Date=lambda df: df['Date'].dt.strftime('%Y-%m-%d')) \\\n",
    "    .to_json('rstar_HLW_FC.json', orient='records')"
   ]
  },
  {
   "cell_type": "code",
   "execution_count": null,
   "id": "5144e0e4",
   "metadata": {
    "papermill": {
     "duration": null,
     "end_time": null,
     "exception": null,
     "start_time": null,
     "status": "pending"
    },
    "tags": []
   },
   "outputs": [],
   "source": []
  }
 ],
 "metadata": {
  "kernelspec": {
   "display_name": "nir_validation",
   "language": "python",
   "name": "python3"
  },
  "language_info": {
   "codemirror_mode": {
    "name": "ipython",
    "version": 3
   },
   "file_extension": ".py",
   "mimetype": "text/x-python",
   "name": "python",
   "nbconvert_exporter": "python",
   "pygments_lexer": "ipython3",
   "version": "3.12.9"
  },
  "papermill": {
   "default_parameters": {},
   "duration": null,
   "end_time": null,
   "environment_variables": {},
   "exception": null,
   "input_path": "C:\\Users\\BOK\\Desktop\\pyprojects\\nir_validation\\HLW_FC.ipynb",
   "output_path": "C:\\Users\\BOK\\Desktop\\pyprojects\\nir_validation\\HLW_FC_output.ipynb",
   "parameters": {
    "end_period": "2015-06-30",
    "smoothing": true
   },
   "start_time": "2025-05-21T07:49:11.733599",
   "version": "2.6.0"
  }
 },
 "nbformat": 4,
 "nbformat_minor": 5
}